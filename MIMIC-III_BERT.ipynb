{
 "cells": [
  {
   "cell_type": "markdown",
   "metadata": {},
   "source": [
    "# NLP for Extraction of Phenotypes for Inherited Retinal Disease of EHR - BERT\n",
    "\n",
    "Dataset: randomly sample 500 discharge summaries (DS) from MIMIC-III. <br>\n",
    "Description of the dataset: https://mimic.mit.edu/docs/iii/tables/ <br>"
   ]
  },
  {
   "cell_type": "markdown",
   "metadata": {},
   "source": [
    "## Importing additional Python libraries<a class=\"anchor\" id=\"1\"></a>\n",
    "<!-- <mark>[Return Contents](#0) -->"
   ]
  },
  {
   "cell_type": "code",
   "execution_count": 1,
   "metadata": {},
   "outputs": [],
   "source": [
    "import pandas as pd\n",
    "import nltk.data\n",
    "import numpy as np\n",
    "import matplotlib.pyplot as plt # plot figures\n",
    "from nltk.corpus import PlaintextCorpusReader\n",
    "import os, time, random, re, codecs, spacy, math, torch, spacy, transformers, nltk\n",
    "from os.path import join\n",
    "import seaborn as sns # plot figures\n",
    "from os import listdir\n",
    "from os.path import isfile, join\n",
    "from sklearn.model_selection import train_test_split\n",
    "from ipywidgets import IntProgress\n",
    "from sklearn.metrics import classification_report\n",
    "from transformers import AutoModel, BertTokenizerFast\n",
    "from torch.utils.data import TensorDataset, DataLoader, RandomSampler, SequentialSampler\n",
    "import torch.optim as optim\n",
    "import torch.nn as nn\n",
    "import torch.nn.functional as F\n",
    "from sklearn.decomposition import PCA\n",
    "import tensorflow as tf\n",
    "import sklearn.metrics as metrics\n",
    "from sklearn.svm import SVC\n",
    "from sklearn.neighbors import KNeighborsClassifier\n",
    "from sklearn.tree import DecisionTreeClassifier\n",
    "from sklearn.neural_network import MLPClassifier\n",
    "from sklearn.ensemble import RandomForestClassifier\n",
    "from sklearn.naive_bayes import GaussianNB\n",
    "from nltk.stem import PorterStemmer\n",
    "from nltk.corpus import stopwords\n",
    "from nltk.stem.wordnet import WordNetLemmatizer \n",
    "from sklearn import metrics\n",
    "import transformers\n",
    "import torch\n",
    "from torch.utils.data import Dataset, DataLoader, RandomSampler, SequentialSampler\n",
    "from transformers import BertTokenizer, BertModel, BertConfig\n",
    "from sklearn.preprocessing import LabelBinarizer, LabelEncoder\n",
    "from sklearn.metrics import confusion_matrix\n",
    "import tensorflow as tf\n",
    "from tensorflow import keras\n",
    "# from keras.models import Sequential\n",
    "# from keras.layers import Dense, Flatten, Activation, Dropout, GlobalMaxPool1D, Conv1D\n",
    "# from keras.layers.embeddings import Embedding\n",
    "# from keras.preprocessing import text, sequence\n",
    "# from keras.preprocessing.text import Tokenizer\n",
    "# from keras.preprocessing.sequence import pad_sequences\n",
    "# from keras import utils\n",
    "from sklearn.feature_extraction.text import CountVectorizer\n",
    "from sklearn.feature_extraction.text import TfidfTransformer\n",
    "from sklearn.metrics import plot_roc_curve\n",
    "from bert_sklearn import BertClassifier\n",
    "from bert_sklearn import BertRegressor\n",
    "from bert_sklearn import load_model\n",
    "from sklearn.model_selection import GridSearchCV\n",
    "from transformers import AdamW\n",
    "import torch.optim as optim\n",
    "import codecs, json, copy\n",
    "from tqdm import tqdm\n",
    "from sklearn.pipeline import Pipeline\n",
    "from sklearn.feature_extraction.text import CountVectorizer, TfidfTransformer\n",
    "from sklearn.linear_model import LogisticRegression\n",
    "from sklearn.tree import DecisionTreeClassifier\n",
    "from sklearn.ensemble import RandomForestClassifier\n",
    "from sklearn.neighbors import KNeighborsClassifier\n",
    "from sklearn.svm import SVC\n",
    "from sklearn.naive_bayes import GaussianNB\n",
    "from transformers.models.bert.modeling_bert import BertModel,BertForMaskedLM, BertForSequenceClassification\n",
    "from sklearn.metrics import precision_recall_fscore_support\n",
    "import warnings\n",
    "warnings.filterwarnings('ignore') "
   ]
  },
  {
   "cell_type": "code",
   "execution_count": 2,
   "metadata": {},
   "outputs": [],
   "source": [
    "# import torch\n",
    "# print(torch.__version__)\n",
    "# import tensorflow\n",
    "# print(tensorflow.__version__)\n",
    "# import keras\n",
    "# print(keras.__version__)"
   ]
  },
  {
   "cell_type": "code",
   "execution_count": 3,
   "metadata": {},
   "outputs": [],
   "source": [
    "# os.environ[\"CUDA_VISIBLE_DEVICES\"]=\"3\""
   ]
  },
  {
   "cell_type": "code",
   "execution_count": 4,
   "metadata": {},
   "outputs": [],
   "source": [
    "# Seeding:\n",
    "def seed_all(seed):  \n",
    "    ''' A function to seed everything for getting stable results and reproducibility'''\n",
    "    random.seed(seed)\n",
    "    np.random.seed(seed)\n",
    "    os.environ['PYTHONHASHSEED'] = str(seed)\n",
    "seed = 2021    \n",
    "seed_all(seed)\n",
    "# Testing size:\n",
    "sizeoftest = 0.2"
   ]
  },
  {
   "cell_type": "markdown",
   "metadata": {},
   "source": [
    "## Importing Dataset and preprocessing <a class=\"anchor\" id=\"2\"></a>\n",
    "<!-- <mark>[Return Contents](#0) -->"
   ]
  },
  {
   "cell_type": "code",
   "execution_count": 5,
   "metadata": {},
   "outputs": [],
   "source": [
    "path = ('....xlsx')\n",
    "xl = pd.ExcelFile(path)\n",
    "df = xl.parse('Sheet1')\n",
    "# df.head()"
   ]
  },
  {
   "cell_type": "code",
   "execution_count": 99,
   "metadata": {},
   "outputs": [
    {
     "data": {
      "text/plain": [
       "(1073, 14)"
      ]
     },
     "execution_count": 99,
     "metadata": {},
     "output_type": "execute_result"
    }
   ],
   "source": [
    "df.shape"
   ]
  },
  {
   "cell_type": "code",
   "execution_count": 7,
   "metadata": {},
   "outputs": [],
   "source": [
    "# print(df.columns.tolist()) # column names"
   ]
  },
  {
   "cell_type": "code",
   "execution_count": 8,
   "metadata": {},
   "outputs": [],
   "source": [
    "# df.dtypes"
   ]
  },
  {
   "cell_type": "code",
   "execution_count": 6,
   "metadata": {},
   "outputs": [],
   "source": [
    "# df['document structure'].value_counts()"
   ]
  },
  {
   "cell_type": "markdown",
   "metadata": {},
   "source": [
    "### Data cleaning <a class=\"anchor\" id=\"2_1\"></a>"
   ]
  },
  {
   "cell_type": "code",
   "execution_count": 9,
   "metadata": {},
   "outputs": [],
   "source": [
    "# df.isnull().any()"
   ]
  },
  {
   "cell_type": "markdown",
   "metadata": {},
   "source": [
    "Class lable : `gold mention-to-UMLS label`: Check whether the matching is correct from the mention to the UMLS concept, 1 if correct, 0 if not."
   ]
  },
  {
   "cell_type": "code",
   "execution_count": 104,
   "metadata": {},
   "outputs": [
    {
     "data": {
      "text/plain": [
       " 0    743\n",
       " 1    329\n",
       "-1      1\n",
       "Name: gold mention-to-UMLS label, dtype: int64"
      ]
     },
     "execution_count": 104,
     "metadata": {},
     "output_type": "execute_result"
    }
   ],
   "source": [
    "df['gold mention-to-UMLS label'].value_counts() # 1 incorrect data for 'gold mention-to-UMLS label'"
   ]
  },
  {
   "cell_type": "code",
   "execution_count": 105,
   "metadata": {},
   "outputs": [],
   "source": [
    "df.drop(df[df['gold mention-to-UMLS label'] == -1].index, inplace=True) # delete unexpected data"
   ]
  },
  {
   "cell_type": "code",
   "execution_count": 106,
   "metadata": {},
   "outputs": [
    {
     "data": {
      "image/png": "[encoded data removed]",
      "text/plain": [
       "<Figure size 432x288 with 1 Axes>"
      ]
     },
     "metadata": {
      "needs_background": "light"
     },
     "output_type": "display_data"
    }
   ],
   "source": [
    "ax = sns.countplot(y=\"gold mention-to-UMLS label\", data=df)\n",
    "plt.title('Distribution of  class')\n",
    "plt.xlabel('Number of class')\n",
    "total = len(df['gold mention-to-UMLS label'])\n",
    "for p in ax.patches:\n",
    "        percentage = '{:.1f}%'.format(100 * p.get_width()/total)\n",
    "        x = p.get_x() + p.get_width() + 0.02\n",
    "        y = p.get_y() + p.get_height()/2\n",
    "        ax.annotate(percentage, (x, y))\n",
    "# plt.savefig('class_label')\n",
    "plt.show()"
   ]
  },
  {
   "cell_type": "markdown",
   "metadata": {},
   "source": [
    "## Generation of training and testing set<a class=\"anchor\" id=\"6\"></a>\n",
    "<!-- <mark>[Return Contents](#0) -->"
   ]
  },
  {
   "cell_type": "code",
   "execution_count": 107,
   "metadata": {},
   "outputs": [],
   "source": [
    "# df['classification']=\"\"\n",
    "# df['classification'] = df['gold mention-to-UMLS label'].map({1 : 'yes', 0 : 'no'})\n",
    "# df.head()"
   ]
  },
  {
   "cell_type": "code",
   "execution_count": 108,
   "metadata": {},
   "outputs": [
    {
     "name": "stdout",
     "output_type": "stream",
     "text": [
      "Train size: 642\n",
      "Dev size: 215\n",
      "Test size: 215\n"
     ]
    }
   ],
   "source": [
    "texts = df['mention'].tolist()\n",
    "labels = df['gold mention-to-UMLS label'].tolist()\n",
    "X, X_test, y, y_test = train_test_split(texts,\n",
    "                                        labels,\n",
    "                                        test_size=0.2,\n",
    "                                        train_size=0.8,\n",
    "                                        random_state=seed)\n",
    "X_train, X_dev, y_train, y_dev = train_test_split(X,\n",
    "                                                  y,\n",
    "                                                  test_size=0.25,\n",
    "                                                  train_size=0.75,\n",
    "                                                  random_state=seed)\n",
    "# len(X_train), len(y_train), len(X_test), len(y_test), len(X_dev), len(y_dev)\n",
    "print(\"Train size:\", len(X_train))\n",
    "print(\"Dev size:\", len(X_dev))\n",
    "print(\"Test size:\", len(X_test))"
   ]
  },
  {
   "cell_type": "markdown",
   "metadata": {},
   "source": [
    "## Classification algorithm 1: BERT<a class=\"anchor\" id=\"7\"></a>\n",
    "<mark>[Return Contents](#0)"
   ]
  },
  {
   "cell_type": "markdown",
   "metadata": {},
   "source": [
    "### Loading pre-trained models<a class=\"anchor\" id=\"7_1\"></a>\n",
    "Model from huggingface: https://huggingface.co/models"
   ]
  },
  {
   "cell_type": "code",
   "execution_count": 109,
   "metadata": {},
   "outputs": [
    {
     "name": "stderr",
     "output_type": "stream",
     "text": [
      "Some weights of the model checkpoint at bert-base-uncased were not used when initializing BertModel: ['cls.predictions.decoder.weight', 'cls.predictions.transform.dense.weight', 'cls.predictions.transform.dense.bias', 'cls.predictions.transform.LayerNorm.weight', 'cls.seq_relationship.weight', 'cls.predictions.bias', 'cls.seq_relationship.bias', 'cls.predictions.transform.LayerNorm.bias']\n",
      "- This IS expected if you are initializing BertModel from the checkpoint of a model trained on another task or with another architecture (e.g. initializing a BertForSequenceClassification model from a BertForPreTraining model).\n",
      "- This IS NOT expected if you are initializing BertModel from the checkpoint of a model that you expect to be exactly identical (initializing a BertForSequenceClassification model from a BertForSequenceClassification model).\n"
     ]
    }
   ],
   "source": [
    "# import BERT-base pretrained model\n",
    "bert = AutoModel.from_pretrained('bert-base-uncased')\n",
    "# Load the BERT tokenizer\n",
    "tokenizer = BertTokenizerFast.from_pretrained('bert-base-uncased')"
   ]
  },
  {
   "cell_type": "markdown",
   "metadata": {},
   "source": [
    "### Loading data for training and testing<a class=\"anchor\" id=\"7_1\"></a>"
   ]
  },
  {
   "cell_type": "code",
   "execution_count": 110,
   "metadata": {},
   "outputs": [],
   "source": [
    "def prepare_X_y(texts, labels):    \n",
    "    tokenized = tokenizer.batch_encode_plus(\n",
    "        texts,\n",
    "        padding=True,\n",
    "        truncation=True\n",
    "    )\n",
    "    seq = torch.tensor(tokenized['input_ids'])\n",
    "    mask = torch.tensor(tokenized['attention_mask'])\n",
    "    y = torch.tensor(labels)\n",
    "    return seq, mask, y\n",
    "\n",
    "train_seq, train_mask, train_y = prepare_X_y(X_train, y_train)\n",
    "dev_seq, dev_mask, dev_y = prepare_X_y(X_dev, y_dev)\n",
    "test_seq, test_mask, test_y = prepare_X_y(X_test, y_test)"
   ]
  },
  {
   "cell_type": "markdown",
   "metadata": {},
   "source": [
    "### Define hyperparameters<a class=\"anchor\" id=\"7_3\"></a>"
   ]
  },
  {
   "cell_type": "code",
   "execution_count": 111,
   "metadata": {},
   "outputs": [],
   "source": [
    "#define a batch size\n",
    "batch_size = 5\n",
    "epochs = 20\n",
    "learning_rate = 1e-1\n",
    "\n",
    "# #define a batch size\n",
    "# batch_size = 5\n",
    "# epochs = 75\n",
    "# learning_rate = 1e-1"
   ]
  },
  {
   "cell_type": "markdown",
   "metadata": {},
   "source": [
    "### Create a dataloader instance<a class=\"anchor\" id=\"7_4\"></a>"
   ]
  },
  {
   "cell_type": "code",
   "execution_count": 112,
   "metadata": {},
   "outputs": [],
   "source": [
    "# wrap tensors\n",
    "training_data = TensorDataset(train_seq, train_mask, train_y)\n",
    "dev_data = TensorDataset(dev_seq, dev_mask, dev_y)\n",
    "# testing_data = TensorDataset(test_seq, test_mask, test_y)\n",
    "\n",
    "# sampler for sampling the data during training\n",
    "sampler = RandomSampler(training_data)\n",
    "\n",
    "# dataLoader\n",
    "training_data_loader = DataLoader(training_data, sampler=sampler, batch_size=batch_size)\n",
    "dev_data_loader = DataLoader(dev_data, batch_size=batch_size) \n",
    "# testing_data_loader = DataLoader(testing_data, sampler=sampler, batch_size=batch_size)"
   ]
  },
  {
   "cell_type": "markdown",
   "metadata": {},
   "source": [
    "### Define BERT model<a class=\"anchor\" id=\"7_5\"></a>\n",
    "- BERT pretrained model\n",
    "- one feedforward layer"
   ]
  },
  {
   "cell_type": "code",
   "execution_count": 113,
   "metadata": {},
   "outputs": [],
   "source": [
    "# Define the model\n",
    "\n",
    "class BERT_Text_Classifier(nn.Module):\n",
    "    \n",
    "    def __init__(self, bert, class_num, bert_dim=768, hidden_dim=512):\n",
    "      \n",
    "        super(BERT_Text_Classifier, self).__init__()\n",
    "\n",
    "        self.bert = bert \n",
    "\n",
    "        # define a dropout\n",
    "        self.dropout = nn.Dropout(0.1)\n",
    "\n",
    "        # use relu\n",
    "        self.relu =  nn.ReLU()\n",
    "\n",
    "        # feedforward layer\n",
    "        self.fc1 = nn.Linear(bert_dim, hidden_dim)\n",
    "\n",
    "        # Output layer\n",
    "        self.fc2 = nn.Linear(hidden_dim, class_num)\n",
    "\n",
    "        #softmax function instance\n",
    "        self.softmax = nn.LogSoftmax(dim=1)\n",
    "\n",
    "    #define the forward pass\n",
    "    def forward(self, seq, mask):\n",
    "\n",
    "        # use pretrained bert to read the sequence with the mask (pay attention to which tokens)\n",
    "        bert_out = self.bert(seq, attention_mask=mask)\n",
    "        \n",
    "        # print('last_hidden_state', bert_out['last_hidden_state'].size(), \n",
    "        #      'pooler_output', bert_out['pooler_output'].size())\n",
    "        \n",
    "        lhs = bert_out['pooler_output']\n",
    "        x = self.fc1(lhs)        \n",
    "        x = self.relu(x)\n",
    "        x = self.dropout(x)\n",
    "        x = self.fc2(x)\n",
    "        \n",
    "        # apply softmax activation\n",
    "        x = self.softmax(x)\n",
    "\n",
    "        return x"
   ]
  },
  {
   "cell_type": "markdown",
   "metadata": {},
   "source": [
    "### Evaluation function<a class=\"anchor\" id=\"7_6\"></a>"
   ]
  },
  {
   "cell_type": "code",
   "execution_count": 114,
   "metadata": {},
   "outputs": [],
   "source": [
    "def evaluate(m, evl_loader, eval_labels=[1]):\n",
    "    from sklearn.metrics import precision_recall_fscore_support\n",
    "    preds = []\n",
    "    lbls = []\n",
    "    print('evaluating...', flush=True)\n",
    "    for step, batch in enumerate(tqdm(evl_loader)):        \n",
    "        # use gpu if available\n",
    "        batch = [r.to(device) for r in batch]\n",
    "        seq, mask, labels = batch\n",
    "        with torch.no_grad():\n",
    "            batch_result = m(seq, mask)\n",
    "            rets = np.argmax(batch_result.detach().cpu(), axis = 1).tolist()\n",
    "            preds += rets\n",
    "            lbls += labels.tolist()\n",
    "    p, r, f, _ = precision_recall_fscore_support(lbls, preds, labels=eval_labels)\n",
    "    return {'precision': p[0], 'recall': r[0], 'f1': f[0]}"
   ]
  },
  {
   "cell_type": "markdown",
   "metadata": {},
   "source": [
    "### Training function<a class=\"anchor\" id=\"7_6\"></a>"
   ]
  },
  {
   "cell_type": "code",
   "execution_count": 115,
   "metadata": {},
   "outputs": [],
   "source": [
    "# function to train the model\n",
    "def train():\n",
    "    # dropout activates when in train mode \n",
    "    model.train()\n",
    "\n",
    "    total_loss = 0\n",
    "    for step, batch in enumerate(tqdm(training_data_loader)):\n",
    "        \n",
    "        # use gpu if available\n",
    "        batch = [r.to(device) for r in batch]\n",
    "        \n",
    "        seq, mask, labels = batch\n",
    "        \n",
    "        # reset gradients \n",
    "        model.zero_grad()        \n",
    "\n",
    "        # get model outputs\n",
    "        outputs = model.forward(seq, mask)\n",
    "\n",
    "        # compute the loss between actual and predicted values\n",
    "        loss = cross_entropy(outputs, labels)\n",
    "\n",
    "        # accumulate loss\n",
    "        total_loss = total_loss + loss.item()\n",
    "\n",
    "        # calculate the gradients\n",
    "        loss.backward()\n",
    "\n",
    "        # deal with the exploding gradient problem\n",
    "        torch.nn.utils.clip_grad_norm_(model.parameters(), 1.0)\n",
    "\n",
    "        # update parameters\n",
    "        optimizer.step()\n",
    "\n",
    "    # calculate average loss\n",
    "    average_loss = total_loss / len(training_data_loader)\n",
    "    \n",
    "    ret = evaluate(model, dev_data_loader)\n",
    "  \n",
    "    return average_loss, ret"
   ]
  },
  {
   "cell_type": "markdown",
   "metadata": {},
   "source": [
    "### Identify CPU/GPU device for training<a class=\"anchor\" id=\"7_8\"></a>"
   ]
  },
  {
   "cell_type": "code",
   "execution_count": 10,
   "metadata": {},
   "outputs": [],
   "source": [
    "device = torch.device('cuda' if torch.cuda.is_available() else 'cpu')\n",
    "# device"
   ]
  },
  {
   "cell_type": "code",
   "execution_count": 118,
   "metadata": {},
   "outputs": [],
   "source": [
    "os.environ[\"CUDA_VISIBLE_DEVICES\"]=\"0\""
   ]
  },
  {
   "cell_type": "code",
   "execution_count": 119,
   "metadata": {},
   "outputs": [],
   "source": [
    "categories = {'control': 0, 'case': 1}\n",
    "# initialise the model use pretrained bert instance and the label numbers\n",
    "model = BERT_Text_Classifier(bert, class_num=len(categories))\n",
    "\n",
    "# push the model to GPU\n",
    "model = model.to(device)\n",
    "\n",
    "# define the optimizer\n",
    "# optimizer = AdamW(model.parameters(),\n",
    "#                   lr = learning_rate)\n",
    "optimizer = optim.SGD(model.parameters(), lr=learning_rate)\n",
    "\n",
    "cross_entropy  = nn.NLLLoss() "
   ]
  },
  {
   "cell_type": "markdown",
   "metadata": {},
   "source": [
    "### Train the model<a class=\"anchor\" id=\"7_9\"></a>"
   ]
  },
  {
   "cell_type": "code",
   "execution_count": 120,
   "metadata": {},
   "outputs": [
    {
     "name": "stdout",
     "output_type": "stream",
     "text": [
      "\n",
      " Epoch 1 / 20\n"
     ]
    },
    {
     "name": "stderr",
     "output_type": "stream",
     "text": [
      "100%|██████████| 129/129 [00:04<00:00, 28.63it/s]"
     ]
    },
    {
     "name": "stdout",
     "output_type": "stream",
     "text": [
      "evaluating...\n"
     ]
    },
    {
     "name": "stderr",
     "output_type": "stream",
     "text": [
      "\n",
      "100%|██████████| 43/43 [00:00<00:00, 110.71it/s]"
     ]
    },
    {
     "name": "stdout",
     "output_type": "stream",
     "text": [
      "\n",
      "Training Loss: 0.365 dev performance, p:0.841, r:0.803, f1:0.822\n",
      "current best score is 0.822\n",
      "\n",
      " Epoch 2 / 20\n"
     ]
    },
    {
     "name": "stderr",
     "output_type": "stream",
     "text": [
      "\n",
      "100%|██████████| 129/129 [00:04<00:00, 27.17it/s]"
     ]
    },
    {
     "name": "stdout",
     "output_type": "stream",
     "text": [
      "evaluating...\n"
     ]
    },
    {
     "name": "stderr",
     "output_type": "stream",
     "text": [
      "\n",
      "100%|██████████| 43/43 [00:00<00:00, 104.65it/s]"
     ]
    },
    {
     "name": "stdout",
     "output_type": "stream",
     "text": [
      "\n",
      "Training Loss: 0.303 dev performance, p:0.898, r:0.803, f1:0.848\n"
     ]
    },
    {
     "name": "stderr",
     "output_type": "stream",
     "text": [
      "\n"
     ]
    },
    {
     "name": "stdout",
     "output_type": "stream",
     "text": [
      "current best score is 0.848\n",
      "\n",
      " Epoch 3 / 20\n"
     ]
    },
    {
     "name": "stderr",
     "output_type": "stream",
     "text": [
      "100%|██████████| 129/129 [00:05<00:00, 25.18it/s]"
     ]
    },
    {
     "name": "stdout",
     "output_type": "stream",
     "text": [
      "evaluating...\n"
     ]
    },
    {
     "name": "stderr",
     "output_type": "stream",
     "text": [
      "\n",
      "100%|██████████| 43/43 [00:00<00:00, 109.71it/s]"
     ]
    },
    {
     "name": "stdout",
     "output_type": "stream",
     "text": [
      "\n",
      "Training Loss: 0.207 dev performance, p:0.818, r:0.955, f1:0.881\n"
     ]
    },
    {
     "name": "stderr",
     "output_type": "stream",
     "text": [
      "\n"
     ]
    },
    {
     "name": "stdout",
     "output_type": "stream",
     "text": [
      "current best score is 0.881\n",
      "\n",
      " Epoch 4 / 20\n"
     ]
    },
    {
     "name": "stderr",
     "output_type": "stream",
     "text": [
      "100%|██████████| 129/129 [00:05<00:00, 25.03it/s]"
     ]
    },
    {
     "name": "stdout",
     "output_type": "stream",
     "text": [
      "evaluating...\n"
     ]
    },
    {
     "name": "stderr",
     "output_type": "stream",
     "text": [
      "\n",
      "100%|██████████| 43/43 [00:00<00:00, 109.92it/s]"
     ]
    },
    {
     "name": "stdout",
     "output_type": "stream",
     "text": [
      "\n",
      "Training Loss: 0.269 dev performance, p:0.851, r:0.864, f1:0.857\n",
      "\n",
      " Epoch 5 / 20\n"
     ]
    },
    {
     "name": "stderr",
     "output_type": "stream",
     "text": [
      "\n",
      "100%|██████████| 129/129 [00:05<00:00, 25.22it/s]"
     ]
    },
    {
     "name": "stdout",
     "output_type": "stream",
     "text": [
      "evaluating...\n"
     ]
    },
    {
     "name": "stderr",
     "output_type": "stream",
     "text": [
      "\n",
      "100%|██████████| 43/43 [00:00<00:00, 105.71it/s]"
     ]
    },
    {
     "name": "stdout",
     "output_type": "stream",
     "text": [
      "\n",
      "Training Loss: 0.164 dev performance, p:0.831, r:0.970, f1:0.895\n"
     ]
    },
    {
     "name": "stderr",
     "output_type": "stream",
     "text": [
      "\n"
     ]
    },
    {
     "name": "stdout",
     "output_type": "stream",
     "text": [
      "current best score is 0.895\n",
      "\n",
      " Epoch 6 / 20\n"
     ]
    },
    {
     "name": "stderr",
     "output_type": "stream",
     "text": [
      "100%|██████████| 129/129 [00:05<00:00, 25.52it/s]"
     ]
    },
    {
     "name": "stdout",
     "output_type": "stream",
     "text": [
      "evaluating...\n"
     ]
    },
    {
     "name": "stderr",
     "output_type": "stream",
     "text": [
      "\n",
      "100%|██████████| 43/43 [00:00<00:00, 104.97it/s]"
     ]
    },
    {
     "name": "stdout",
     "output_type": "stream",
     "text": [
      "\n",
      "Training Loss: 0.191 dev performance, p:0.829, r:0.955, f1:0.887\n",
      "\n",
      " Epoch 7 / 20\n"
     ]
    },
    {
     "name": "stderr",
     "output_type": "stream",
     "text": [
      "\n",
      "100%|██████████| 129/129 [00:05<00:00, 25.23it/s]"
     ]
    },
    {
     "name": "stdout",
     "output_type": "stream",
     "text": [
      "evaluating...\n"
     ]
    },
    {
     "name": "stderr",
     "output_type": "stream",
     "text": [
      "\n",
      "100%|██████████| 43/43 [00:00<00:00, 109.95it/s]"
     ]
    },
    {
     "name": "stdout",
     "output_type": "stream",
     "text": [
      "\n",
      "Training Loss: 0.133 dev performance, p:0.851, r:0.955, f1:0.900\n"
     ]
    },
    {
     "name": "stderr",
     "output_type": "stream",
     "text": [
      "\n"
     ]
    },
    {
     "name": "stdout",
     "output_type": "stream",
     "text": [
      "current best score is 0.900\n",
      "\n",
      " Epoch 8 / 20\n"
     ]
    },
    {
     "name": "stderr",
     "output_type": "stream",
     "text": [
      "100%|██████████| 129/129 [00:05<00:00, 25.16it/s]"
     ]
    },
    {
     "name": "stdout",
     "output_type": "stream",
     "text": [
      "evaluating...\n"
     ]
    },
    {
     "name": "stderr",
     "output_type": "stream",
     "text": [
      "\n",
      "100%|██████████| 43/43 [00:00<00:00, 109.89it/s]"
     ]
    },
    {
     "name": "stdout",
     "output_type": "stream",
     "text": [
      "\n",
      "Training Loss: 0.147 dev performance, p:0.810, r:0.970, f1:0.883\n",
      "\n",
      " Epoch 9 / 20\n"
     ]
    },
    {
     "name": "stderr",
     "output_type": "stream",
     "text": [
      "\n",
      "100%|██████████| 129/129 [00:05<00:00, 25.24it/s]"
     ]
    },
    {
     "name": "stdout",
     "output_type": "stream",
     "text": [
      "evaluating...\n"
     ]
    },
    {
     "name": "stderr",
     "output_type": "stream",
     "text": [
      "\n",
      "100%|██████████| 43/43 [00:00<00:00, 105.19it/s]"
     ]
    },
    {
     "name": "stdout",
     "output_type": "stream",
     "text": [
      "\n",
      "Training Loss: 0.139 dev performance, p:0.821, r:0.970, f1:0.889\n",
      "\n",
      " Epoch 10 / 20\n"
     ]
    },
    {
     "name": "stderr",
     "output_type": "stream",
     "text": [
      "\n",
      "100%|██████████| 129/129 [00:05<00:00, 25.29it/s]"
     ]
    },
    {
     "name": "stdout",
     "output_type": "stream",
     "text": [
      "evaluating...\n"
     ]
    },
    {
     "name": "stderr",
     "output_type": "stream",
     "text": [
      "\n",
      "100%|██████████| 43/43 [00:00<00:00, 105.91it/s]"
     ]
    },
    {
     "name": "stdout",
     "output_type": "stream",
     "text": [
      "\n",
      "Training Loss: 0.125 dev performance, p:0.800, r:0.970, f1:0.877\n",
      "\n",
      " Epoch 11 / 20\n"
     ]
    },
    {
     "name": "stderr",
     "output_type": "stream",
     "text": [
      "\n",
      "100%|██████████| 129/129 [00:05<00:00, 25.32it/s]"
     ]
    },
    {
     "name": "stdout",
     "output_type": "stream",
     "text": [
      "evaluating...\n"
     ]
    },
    {
     "name": "stderr",
     "output_type": "stream",
     "text": [
      "\n",
      "100%|██████████| 43/43 [00:00<00:00, 110.59it/s]"
     ]
    },
    {
     "name": "stdout",
     "output_type": "stream",
     "text": [
      "\n",
      "Training Loss: 0.114 dev performance, p:0.842, r:0.970, f1:0.901\n",
      "current best score is 0.901\n",
      "\n",
      " Epoch 12 / 20\n"
     ]
    },
    {
     "name": "stderr",
     "output_type": "stream",
     "text": [
      "\n",
      "100%|██████████| 129/129 [00:05<00:00, 25.30it/s]"
     ]
    },
    {
     "name": "stdout",
     "output_type": "stream",
     "text": [
      "evaluating...\n"
     ]
    },
    {
     "name": "stderr",
     "output_type": "stream",
     "text": [
      "\n",
      "100%|██████████| 43/43 [00:00<00:00, 109.50it/s]"
     ]
    },
    {
     "name": "stdout",
     "output_type": "stream",
     "text": [
      "\n",
      "Training Loss: 0.119 dev performance, p:0.851, r:0.955, f1:0.900\n",
      "\n",
      " Epoch 13 / 20\n"
     ]
    },
    {
     "name": "stderr",
     "output_type": "stream",
     "text": [
      "\n",
      "100%|██████████| 129/129 [00:04<00:00, 27.88it/s]"
     ]
    },
    {
     "name": "stdout",
     "output_type": "stream",
     "text": [
      "evaluating...\n"
     ]
    },
    {
     "name": "stderr",
     "output_type": "stream",
     "text": [
      "\n",
      "100%|██████████| 43/43 [00:00<00:00, 105.39it/s]"
     ]
    },
    {
     "name": "stdout",
     "output_type": "stream",
     "text": [
      "\n",
      "Training Loss: 0.121 dev performance, p:0.800, r:0.970, f1:0.877\n",
      "\n",
      " Epoch 14 / 20\n"
     ]
    },
    {
     "name": "stderr",
     "output_type": "stream",
     "text": [
      "\n",
      "100%|██████████| 129/129 [00:04<00:00, 29.19it/s]"
     ]
    },
    {
     "name": "stdout",
     "output_type": "stream",
     "text": [
      "evaluating...\n"
     ]
    },
    {
     "name": "stderr",
     "output_type": "stream",
     "text": [
      "\n",
      "100%|██████████| 43/43 [00:00<00:00, 110.02it/s]"
     ]
    },
    {
     "name": "stdout",
     "output_type": "stream",
     "text": [
      "\n",
      "Training Loss: 0.119 dev performance, p:0.840, r:0.955, f1:0.894\n",
      "\n",
      " Epoch 15 / 20\n"
     ]
    },
    {
     "name": "stderr",
     "output_type": "stream",
     "text": [
      "\n",
      "100%|██████████| 129/129 [00:04<00:00, 29.35it/s]"
     ]
    },
    {
     "name": "stdout",
     "output_type": "stream",
     "text": [
      "evaluating...\n"
     ]
    },
    {
     "name": "stderr",
     "output_type": "stream",
     "text": [
      "\n",
      "100%|██████████| 43/43 [00:00<00:00, 109.71it/s]"
     ]
    },
    {
     "name": "stdout",
     "output_type": "stream",
     "text": [
      "\n",
      "Training Loss: 0.107 dev performance, p:0.821, r:0.970, f1:0.889\n",
      "\n",
      " Epoch 16 / 20\n"
     ]
    },
    {
     "name": "stderr",
     "output_type": "stream",
     "text": [
      "\n",
      "100%|██████████| 129/129 [00:04<00:00, 29.23it/s]"
     ]
    },
    {
     "name": "stdout",
     "output_type": "stream",
     "text": [
      "evaluating...\n"
     ]
    },
    {
     "name": "stderr",
     "output_type": "stream",
     "text": [
      "\n",
      "100%|██████████| 43/43 [00:00<00:00, 105.68it/s]"
     ]
    },
    {
     "name": "stdout",
     "output_type": "stream",
     "text": [
      "\n",
      "Training Loss: 0.103 dev performance, p:0.818, r:0.955, f1:0.881\n",
      "\n",
      " Epoch 17 / 20\n"
     ]
    },
    {
     "name": "stderr",
     "output_type": "stream",
     "text": [
      "\n",
      "100%|██████████| 129/129 [00:04<00:00, 29.42it/s]"
     ]
    },
    {
     "name": "stdout",
     "output_type": "stream",
     "text": [
      "evaluating...\n"
     ]
    },
    {
     "name": "stderr",
     "output_type": "stream",
     "text": [
      "\n",
      "100%|██████████| 43/43 [00:00<00:00, 109.85it/s]"
     ]
    },
    {
     "name": "stdout",
     "output_type": "stream",
     "text": [
      "\n",
      "Training Loss: 0.110 dev performance, p:0.802, r:0.985, f1:0.884\n",
      "\n",
      " Epoch 18 / 20\n"
     ]
    },
    {
     "name": "stderr",
     "output_type": "stream",
     "text": [
      "\n",
      "100%|██████████| 129/129 [00:04<00:00, 29.33it/s]"
     ]
    },
    {
     "name": "stdout",
     "output_type": "stream",
     "text": [
      "evaluating...\n"
     ]
    },
    {
     "name": "stderr",
     "output_type": "stream",
     "text": [
      "\n",
      "100%|██████████| 43/43 [00:00<00:00, 105.43it/s]"
     ]
    },
    {
     "name": "stdout",
     "output_type": "stream",
     "text": [
      "\n",
      "Training Loss: 0.106 dev performance, p:0.829, r:0.955, f1:0.887\n",
      "\n",
      " Epoch 19 / 20\n"
     ]
    },
    {
     "name": "stderr",
     "output_type": "stream",
     "text": [
      "\n",
      "100%|██████████| 129/129 [00:04<00:00, 29.20it/s]"
     ]
    },
    {
     "name": "stdout",
     "output_type": "stream",
     "text": [
      "evaluating...\n"
     ]
    },
    {
     "name": "stderr",
     "output_type": "stream",
     "text": [
      "\n",
      "100%|██████████| 43/43 [00:00<00:00, 109.48it/s]"
     ]
    },
    {
     "name": "stdout",
     "output_type": "stream",
     "text": [
      "\n",
      "Training Loss: 0.111 dev performance, p:0.810, r:0.970, f1:0.883\n",
      "\n",
      " Epoch 20 / 20\n"
     ]
    },
    {
     "name": "stderr",
     "output_type": "stream",
     "text": [
      "\n",
      "100%|██████████| 129/129 [00:04<00:00, 29.31it/s]"
     ]
    },
    {
     "name": "stdout",
     "output_type": "stream",
     "text": [
      "evaluating...\n"
     ]
    },
    {
     "name": "stderr",
     "output_type": "stream",
     "text": [
      "\n",
      "100%|██████████| 43/43 [00:00<00:00, 109.88it/s]"
     ]
    },
    {
     "name": "stdout",
     "output_type": "stream",
     "text": [
      "\n",
      "Training Loss: 0.103 dev performance, p:0.851, r:0.955, f1:0.900\n"
     ]
    },
    {
     "name": "stderr",
     "output_type": "stream",
     "text": [
      "\n"
     ]
    }
   ],
   "source": [
    "#for each epoch\n",
    "\n",
    "best_model_state = None\n",
    "best_score = -1\n",
    "\n",
    "for epoch in range(epochs):\n",
    "     \n",
    "    print('\\n Epoch {:} / {:}'.format(epoch + 1, epochs), flush=True)\n",
    "    #train model\n",
    "    train_loss, performance = train()\n",
    "    print('\\nTraining Loss: {:.3f}'.format(train_loss), \n",
    "          'dev performance, p:{precision:.3f}, r:{recall:.3f}, f1:{f1:.3f}'.format(**performance), flush=True)\n",
    "    if best_score < performance['f1']:\n",
    "        best_score = performance['f1']\n",
    "        best_model_state = copy.deepcopy(model.state_dict())\n",
    "        print('current best score is {0:.3f}'.format(best_score), flush=True)    \n",
    "\n",
    "ran = True"
   ]
  },
  {
   "cell_type": "markdown",
   "metadata": {},
   "source": [
    "### Save the model<a class=\"anchor\" id=\"7_10\"></a>"
   ]
  },
  {
   "cell_type": "code",
   "execution_count": 121,
   "metadata": {},
   "outputs": [],
   "source": [
    "model_file = 'bert_initial_mimic.pt'\n",
    "torch.save(best_model_state, model_file)"
   ]
  },
  {
   "cell_type": "code",
   "execution_count": 122,
   "metadata": {},
   "outputs": [],
   "source": [
    "if not ran:\n",
    "    device = torch.device('cuda' if torch.cuda.is_available() else 'cpu')\n",
    "\n",
    "    model_file = 'bert_initial_mimic.pt'\n",
    "\n",
    "    categories = {'control': 0, 'case': 1}\n",
    "    # initialise the model use pretrained bert instance and the label numbers\n",
    "    model = BERT_Text_Classifier(bert, class_num=len(categories))\n",
    "\n",
    "    model.load_state_dict(torch.load(model_file))\n",
    "    model.eval()"
   ]
  },
  {
   "cell_type": "markdown",
   "metadata": {},
   "source": [
    "### Test the model<a class=\"anchor\" id=\"7_11\"></a>"
   ]
  },
  {
   "cell_type": "code",
   "execution_count": 123,
   "metadata": {},
   "outputs": [],
   "source": [
    "test_seq = test_seq.to(device)\n",
    "test_mask = test_mask.to(device)\n",
    "model = model.to(device)"
   ]
  },
  {
   "cell_type": "code",
   "execution_count": 124,
   "metadata": {},
   "outputs": [
    {
     "name": "stdout",
     "output_type": "stream",
     "text": [
      "evaluating...\n"
     ]
    },
    {
     "name": "stderr",
     "output_type": "stream",
     "text": [
      "100%|██████████| 43/43 [00:00<00:00, 106.74it/s]"
     ]
    },
    {
     "name": "stdout",
     "output_type": "stream",
     "text": [
      "{'precision': 0.9285714285714286, 'recall': 0.9558823529411765, 'f1': 0.9420289855072465}\n"
     ]
    },
    {
     "name": "stderr",
     "output_type": "stream",
     "text": [
      "\n"
     ]
    }
   ],
   "source": [
    "# dataLoader for test set\n",
    "# wrap tensors\n",
    "testing_data = TensorDataset(test_seq, test_mask, test_y)\n",
    "testing_data_loader = DataLoader(testing_data, batch_size=batch_size)     \n",
    "print(evaluate(model, testing_data_loader))\n",
    "# preds = np.argmax(preds.detach().cpu(), axis = 1)"
   ]
  },
  {
   "cell_type": "code",
   "execution_count": 125,
   "metadata": {},
   "outputs": [
    {
     "name": "stdout",
     "output_type": "stream",
     "text": [
      "              precision    recall  f1-score   support\n",
      "\n",
      "           0       0.98      0.97      0.97       147\n",
      "           1       0.93      0.96      0.94        68\n",
      "\n",
      "    accuracy                           0.96       215\n",
      "   macro avg       0.95      0.96      0.96       215\n",
      "weighted avg       0.96      0.96      0.96       215\n",
      "\n"
     ]
    }
   ],
   "source": [
    "# predicting, so gradients\n",
    "with torch.no_grad():\n",
    "    preds = model(test_seq, test_mask)\n",
    "    \n",
    "preds = np.argmax(preds.detach().cpu(), axis = 1)\n",
    "print(classification_report(test_y, preds))\n",
    "# report_BERT1 = classification_report(test_y, preds)\n",
    "# classification_report_csv(report_BERT1)"
   ]
  },
  {
   "cell_type": "code",
   "execution_count": 126,
   "metadata": {},
   "outputs": [
    {
     "data": {
      "image/png": "[encoded data removed]",
      "text/plain": [
       "<Figure size 432x288 with 2 Axes>"
      ]
     },
     "metadata": {
      "needs_background": "light"
     },
     "output_type": "display_data"
    }
   ],
   "source": [
    "cm_bert_initial = confusion_matrix(test_y, preds, labels=[1,0])\n",
    "ax= plt.subplot()\n",
    "sns.heatmap(cm_bert_initial, annot=True, ax = ax, cmap='Blues', fmt=\"d\")\n",
    "\n",
    "ax.set_title('Confusion Matrix of BERT (MIMIC-III data)')\n",
    "\n",
    "ax.set_xlabel('Predicted Labels')\n",
    "ax.set_ylabel('True Labels')\n",
    "\n",
    "ax.xaxis.set_ticklabels(['FAKE', 'REAL'])\n",
    "ax.yaxis.set_ticklabels(['FAKE', 'REAL'])\n",
    "plt.savefig('Confusion_matrix_bert_initial_mimic')"
   ]
  },
  {
   "cell_type": "markdown",
   "metadata": {},
   "source": [
    "### Fine-tune hyperparameters<a class=\"anchor\" id=\"7_12\"></a>"
   ]
  },
  {
   "cell_type": "code",
   "execution_count": 34,
   "metadata": {},
   "outputs": [],
   "source": [
    "os.environ[\"TOKENIZERS_PARALLELISM\"] = \"false\""
   ]
  },
  {
   "cell_type": "code",
   "execution_count": 35,
   "metadata": {},
   "outputs": [
    {
     "name": "stdout",
     "output_type": "stream",
     "text": [
      "Building sklearn text classifier...\n",
      "Building sklearn text classifier...\n",
      "Fitting 3 folds for each of 9 candidates, totalling 27 fits\n",
      "Building sklearn text classifier...\n",
      "Loading bert-base-uncased model...\n",
      "Defaulting to linear classifier/regressor\n",
      "Loading Pytorch checkpoint\n",
      "train data size: 428, validation data size: 0\n"
     ]
    },
    {
     "name": "stderr",
     "output_type": "stream",
     "text": [
      "Training  : 100%|████████████████████████████████████| 14/14 [00:02<00:00,  6.93it/s, loss=0.522]\n",
      "Training  : 100%|████████████████████████████████████| 14/14 [00:01<00:00,  7.00it/s, loss=0.283]\n",
      "Training  : 100%|█████████████████████████████████████| 14/14 [00:01<00:00,  7.01it/s, loss=0.21]\n",
      "Training  : 100%|████████████████████████████████████| 14/14 [00:01<00:00,  7.02it/s, loss=0.185]\n",
      "Training  : 100%|████████████████████████████████████| 14/14 [00:02<00:00,  6.95it/s, loss=0.102]\n",
      "Training  : 100%|████████████████████████████████████| 14/14 [00:01<00:00,  7.01it/s, loss=0.135]\n",
      "Training  : 100%|████████████████████████████████████| 14/14 [00:02<00:00,  6.98it/s, loss=0.129]\n",
      "Training  : 100%|███████████████████████████████████| 14/14 [00:01<00:00,  7.00it/s, loss=0.0931]\n",
      "Training  : 100%|███████████████████████████████████| 14/14 [00:01<00:00,  7.03it/s, loss=0.0781]\n",
      "Training  : 100%|███████████████████████████████████| 14/14 [00:01<00:00,  7.04it/s, loss=0.0759]\n",
      "Training  : 100%|████████████████████████████████████| 14/14 [00:01<00:00,  7.02it/s, loss=0.068]\n",
      "Training  : 100%|███████████████████████████████████| 14/14 [00:01<00:00,  7.01it/s, loss=0.0693]\n",
      "Training  : 100%|███████████████████████████████████| 14/14 [00:02<00:00,  6.95it/s, loss=0.0723]\n",
      "Training  : 100%|███████████████████████████████████| 14/14 [00:02<00:00,  6.94it/s, loss=0.0611]\n",
      "Training  : 100%|███████████████████████████████████| 14/14 [00:02<00:00,  6.98it/s, loss=0.0543]\n",
      "Training  : 100%|███████████████████████████████████| 14/14 [00:02<00:00,  6.96it/s, loss=0.0604]\n",
      "Training  : 100%|███████████████████████████████████| 14/14 [00:02<00:00,  6.96it/s, loss=0.0584]\n",
      "Training  : 100%|███████████████████████████████████| 14/14 [00:01<00:00,  7.05it/s, loss=0.0539]\n",
      "Training  : 100%|███████████████████████████████████| 14/14 [00:01<00:00,  7.00it/s, loss=0.0557]\n",
      "Training  : 100%|███████████████████████████████████| 14/14 [00:02<00:00,  6.95it/s, loss=0.0578]\n",
      "Training  : 100%|███████████████████████████████████| 14/14 [00:02<00:00,  6.99it/s, loss=0.0543]\n",
      "Training  : 100%|███████████████████████████████████| 14/14 [00:02<00:00,  6.99it/s, loss=0.0526]\n",
      "Training  : 100%|███████████████████████████████████| 14/14 [00:02<00:00,  6.97it/s, loss=0.0569]\n",
      "Training  : 100%|███████████████████████████████████| 14/14 [00:02<00:00,  6.98it/s, loss=0.0578]\n",
      "Training  : 100%|███████████████████████████████████| 14/14 [00:02<00:00,  6.96it/s, loss=0.0517]\n",
      "Training  : 100%|███████████████████████████████████| 14/14 [00:01<00:00,  7.00it/s, loss=0.0575]\n",
      "Training  : 100%|███████████████████████████████████| 14/14 [00:02<00:00,  6.99it/s, loss=0.0503]\n",
      "Training  : 100%|███████████████████████████████████| 14/14 [00:02<00:00,  6.95it/s, loss=0.0539]\n",
      "Training  : 100%|███████████████████████████████████| 14/14 [00:02<00:00,  6.95it/s, loss=0.0535]\n",
      "Training  : 100%|███████████████████████████████████| 14/14 [00:02<00:00,  6.98it/s, loss=0.0535]\n",
      "Training  : 100%|███████████████████████████████████| 14/14 [00:01<00:00,  7.02it/s, loss=0.0511]\n",
      "Training  : 100%|███████████████████████████████████| 14/14 [00:02<00:00,  6.99it/s, loss=0.0588]\n",
      "Training  : 100%|███████████████████████████████████| 14/14 [00:02<00:00,  6.97it/s, loss=0.0522]\n",
      "Training  : 100%|███████████████████████████████████| 14/14 [00:02<00:00,  6.97it/s, loss=0.0593]\n",
      "Training  : 100%|███████████████████████████████████| 14/14 [00:02<00:00,  6.93it/s, loss=0.0529]\n",
      "Training  : 100%|███████████████████████████████████| 14/14 [00:02<00:00,  6.96it/s, loss=0.0491]\n",
      "Training  : 100%|████████████████████████████████████| 14/14 [00:02<00:00,  6.94it/s, loss=0.058]\n",
      "Training  : 100%|███████████████████████████████████| 14/14 [00:02<00:00,  6.99it/s, loss=0.0706]\n",
      "Training  : 100%|███████████████████████████████████| 14/14 [00:02<00:00,  6.99it/s, loss=0.0484]\n",
      "Training  : 100%|███████████████████████████████████| 14/14 [00:02<00:00,  6.97it/s, loss=0.0483]\n",
      "Training  : 100%|███████████████████████████████████| 14/14 [00:02<00:00,  6.96it/s, loss=0.0468]\n",
      "Training  : 100%|███████████████████████████████████| 14/14 [00:01<00:00,  7.00it/s, loss=0.0541]\n",
      "Training  : 100%|███████████████████████████████████| 14/14 [00:02<00:00,  6.96it/s, loss=0.0437]\n",
      "Training  : 100%|███████████████████████████████████| 14/14 [00:02<00:00,  6.97it/s, loss=0.0483]\n",
      "Training  : 100%|███████████████████████████████████| 14/14 [00:02<00:00,  6.99it/s, loss=0.0457]\n",
      "Training  : 100%|███████████████████████████████████| 14/14 [00:01<00:00,  7.01it/s, loss=0.0469]\n",
      "Training  : 100%|███████████████████████████████████| 14/14 [00:02<00:00,  6.96it/s, loss=0.0447]\n",
      "Training  : 100%|███████████████████████████████████| 14/14 [00:01<00:00,  7.04it/s, loss=0.0474]\n",
      "Training  : 100%|███████████████████████████████████| 14/14 [00:02<00:00,  6.95it/s, loss=0.0423]\n",
      "Training  : 100%|███████████████████████████████████| 14/14 [00:02<00:00,  6.99it/s, loss=0.0562]\n",
      "Predicting: 100%|████████████████████████████████████████████████| 27/27 [00:00<00:00, 61.86it/s]\n"
     ]
    },
    {
     "name": "stdout",
     "output_type": "stream",
     "text": [
      "Building sklearn text classifier...\n",
      "Loading bert-base-uncased model...\n",
      "Defaulting to linear classifier/regressor\n",
      "Loading Pytorch checkpoint\n",
      "train data size: 428, validation data size: 0\n"
     ]
    },
    {
     "name": "stderr",
     "output_type": "stream",
     "text": [
      "Training  : 100%|█████████████████████████████████████| 14/14 [00:02<00:00,  6.96it/s, loss=0.52]\n",
      "Training  : 100%|████████████████████████████████████| 14/14 [00:02<00:00,  6.81it/s, loss=0.285]\n",
      "Training  : 100%|████████████████████████████████████| 14/14 [00:02<00:00,  6.90it/s, loss=0.254]\n",
      "Training  : 100%|████████████████████████████████████| 14/14 [00:02<00:00,  6.89it/s, loss=0.235]\n",
      "Training  : 100%|████████████████████████████████████| 14/14 [00:02<00:00,  6.88it/s, loss=0.142]\n",
      "Training  : 100%|████████████████████████████████████| 14/14 [00:02<00:00,  6.91it/s, loss=0.126]\n",
      "Training  : 100%|████████████████████████████████████| 14/14 [00:02<00:00,  6.91it/s, loss=0.103]\n",
      "Training  : 100%|████████████████████████████████████| 14/14 [00:02<00:00,  6.94it/s, loss=0.103]\n",
      "Training  : 100%|████████████████████████████████████| 14/14 [00:02<00:00,  6.92it/s, loss=0.104]\n",
      "Training  : 100%|████████████████████████████████████| 14/14 [00:02<00:00,  6.90it/s, loss=0.111]\n",
      "Training  : 100%|███████████████████████████████████| 14/14 [00:02<00:00,  6.68it/s, loss=0.0904]\n",
      "Training  : 100%|███████████████████████████████████| 14/14 [00:02<00:00,  6.76it/s, loss=0.0847]\n",
      "Training  : 100%|███████████████████████████████████| 14/14 [00:02<00:00,  6.95it/s, loss=0.0856]\n",
      "Training  : 100%|███████████████████████████████████| 14/14 [00:02<00:00,  6.87it/s, loss=0.0703]\n",
      "Training  : 100%|███████████████████████████████████| 14/14 [00:02<00:00,  6.95it/s, loss=0.0931]\n",
      "Training  : 100%|███████████████████████████████████| 14/14 [00:02<00:00,  6.89it/s, loss=0.0753]\n",
      "Training  : 100%|███████████████████████████████████| 14/14 [00:02<00:00,  6.86it/s, loss=0.0666]\n",
      "Training  : 100%|███████████████████████████████████| 14/14 [00:02<00:00,  6.93it/s, loss=0.0644]\n",
      "Training  : 100%|███████████████████████████████████| 14/14 [00:02<00:00,  6.78it/s, loss=0.0702]\n",
      "Training  : 100%|███████████████████████████████████| 14/14 [00:02<00:00,  6.86it/s, loss=0.0679]\n",
      "Training  : 100%|███████████████████████████████████| 14/14 [00:02<00:00,  6.91it/s, loss=0.0628]\n",
      "Training  : 100%|███████████████████████████████████| 14/14 [00:02<00:00,  6.88it/s, loss=0.0639]\n",
      "Training  : 100%|███████████████████████████████████| 14/14 [00:02<00:00,  6.85it/s, loss=0.0637]\n",
      "Training  : 100%|███████████████████████████████████| 14/14 [00:02<00:00,  6.88it/s, loss=0.0635]\n",
      "Training  : 100%|███████████████████████████████████| 14/14 [00:02<00:00,  6.86it/s, loss=0.0535]\n",
      "Training  : 100%|███████████████████████████████████| 14/14 [00:02<00:00,  6.96it/s, loss=0.0549]\n",
      "Training  : 100%|███████████████████████████████████| 14/14 [00:02<00:00,  6.83it/s, loss=0.0543]\n",
      "Training  : 100%|███████████████████████████████████| 14/14 [00:02<00:00,  6.82it/s, loss=0.0621]\n",
      "Training  : 100%|███████████████████████████████████| 14/14 [00:02<00:00,  6.92it/s, loss=0.0549]\n",
      "Training  : 100%|███████████████████████████████████| 14/14 [00:02<00:00,  6.84it/s, loss=0.0582]\n",
      "Training  : 100%|███████████████████████████████████| 14/14 [00:02<00:00,  6.93it/s, loss=0.0599]\n",
      "Training  : 100%|███████████████████████████████████| 14/14 [00:02<00:00,  6.88it/s, loss=0.0619]\n",
      "Training  : 100%|███████████████████████████████████| 14/14 [00:02<00:00,  6.94it/s, loss=0.0566]\n",
      "Training  : 100%|███████████████████████████████████| 14/14 [00:02<00:00,  6.88it/s, loss=0.0749]\n",
      "Training  : 100%|███████████████████████████████████| 14/14 [00:02<00:00,  6.92it/s, loss=0.0611]\n",
      "Training  : 100%|███████████████████████████████████| 14/14 [00:02<00:00,  6.85it/s, loss=0.0522]\n",
      "Training  : 100%|███████████████████████████████████| 14/14 [00:02<00:00,  6.88it/s, loss=0.0686]\n",
      "Training  : 100%|███████████████████████████████████| 14/14 [00:02<00:00,  6.87it/s, loss=0.0527]\n",
      "Training  : 100%|███████████████████████████████████| 14/14 [00:02<00:00,  6.92it/s, loss=0.0482]\n",
      "Training  : 100%|███████████████████████████████████| 14/14 [00:02<00:00,  6.90it/s, loss=0.0476]\n",
      "Training  : 100%|███████████████████████████████████| 14/14 [00:02<00:00,  6.88it/s, loss=0.0507]\n",
      "Training  : 100%|███████████████████████████████████| 14/14 [00:02<00:00,  6.88it/s, loss=0.0515]\n",
      "Training  : 100%|███████████████████████████████████| 14/14 [00:02<00:00,  6.90it/s, loss=0.0515]\n",
      "Training  : 100%|███████████████████████████████████| 14/14 [00:02<00:00,  6.93it/s, loss=0.0472]\n",
      "Training  : 100%|███████████████████████████████████| 14/14 [00:02<00:00,  6.84it/s, loss=0.0542]\n",
      "Training  : 100%|████████████████████████████████████| 14/14 [00:02<00:00,  6.94it/s, loss=0.054]\n",
      "Training  : 100%|███████████████████████████████████| 14/14 [00:02<00:00,  6.82it/s, loss=0.0487]\n",
      "Training  : 100%|███████████████████████████████████| 14/14 [00:02<00:00,  6.95it/s, loss=0.0493]\n",
      "Training  : 100%|███████████████████████████████████| 14/14 [00:02<00:00,  6.47it/s, loss=0.0491]\n",
      "Training  : 100%|███████████████████████████████████| 14/14 [00:02<00:00,  6.51it/s, loss=0.0541]\n",
      "Predicting: 100%|████████████████████████████████████████████████| 27/27 [00:00<00:00, 59.21it/s]\n"
     ]
    },
    {
     "name": "stdout",
     "output_type": "stream",
     "text": [
      "Building sklearn text classifier...\n",
      "Loading bert-base-uncased model...\n",
      "Defaulting to linear classifier/regressor\n",
      "Loading Pytorch checkpoint\n",
      "train data size: 428, validation data size: 0\n"
     ]
    },
    {
     "name": "stderr",
     "output_type": "stream",
     "text": [
      "Training  : 100%|████████████████████████████████████| 14/14 [00:02<00:00,  6.69it/s, loss=0.541]\n",
      "Training  : 100%|████████████████████████████████████| 14/14 [00:02<00:00,  6.90it/s, loss=0.273]\n",
      "Training  : 100%|████████████████████████████████████| 14/14 [00:02<00:00,  6.78it/s, loss=0.223]\n",
      "Training  : 100%|████████████████████████████████████| 14/14 [00:02<00:00,  6.79it/s, loss=0.155]\n",
      "Training  : 100%|████████████████████████████████████| 14/14 [00:02<00:00,  6.78it/s, loss=0.136]\n",
      "Training  : 100%|████████████████████████████████████| 14/14 [00:02<00:00,  6.75it/s, loss=0.112]\n",
      "Training  : 100%|███████████████████████████████████| 14/14 [00:02<00:00,  6.84it/s, loss=0.0832]\n",
      "Training  : 100%|███████████████████████████████████| 14/14 [00:02<00:00,  6.74it/s, loss=0.0715]\n",
      "Training  : 100%|███████████████████████████████████| 14/14 [00:02<00:00,  6.85it/s, loss=0.0812]\n",
      "Training  : 100%|███████████████████████████████████| 14/14 [00:02<00:00,  6.84it/s, loss=0.0583]\n",
      "Training  : 100%|███████████████████████████████████| 14/14 [00:02<00:00,  6.88it/s, loss=0.0558]\n",
      "Training  : 100%|███████████████████████████████████| 14/14 [00:02<00:00,  6.81it/s, loss=0.0551]\n",
      "Training  : 100%|███████████████████████████████████| 14/14 [00:02<00:00,  6.83it/s, loss=0.0535]\n",
      "Training  : 100%|███████████████████████████████████| 14/14 [00:02<00:00,  6.91it/s, loss=0.0482]\n",
      "Training  : 100%|███████████████████████████████████| 14/14 [00:02<00:00,  6.89it/s, loss=0.0509]\n",
      "Training  : 100%|███████████████████████████████████| 14/14 [00:02<00:00,  6.75it/s, loss=0.0517]\n",
      "Training  : 100%|███████████████████████████████████| 14/14 [00:02<00:00,  6.77it/s, loss=0.0485]\n",
      "Training  : 100%|███████████████████████████████████| 14/14 [00:02<00:00,  6.87it/s, loss=0.0418]\n",
      "Training  : 100%|███████████████████████████████████| 14/14 [00:02<00:00,  6.84it/s, loss=0.0427]\n",
      "Training  : 100%|███████████████████████████████████| 14/14 [00:02<00:00,  6.84it/s, loss=0.0426]\n",
      "Training  : 100%|███████████████████████████████████| 14/14 [00:02<00:00,  6.83it/s, loss=0.0401]\n",
      "Training  : 100%|███████████████████████████████████| 14/14 [00:02<00:00,  6.86it/s, loss=0.0402]\n",
      "Training  : 100%|███████████████████████████████████| 14/14 [00:02<00:00,  6.83it/s, loss=0.0445]\n",
      "Training  : 100%|████████████████████████████████████| 14/14 [00:02<00:00,  6.83it/s, loss=0.041]\n",
      "Training  : 100%|███████████████████████████████████| 14/14 [00:02<00:00,  6.85it/s, loss=0.0387]\n",
      "Training  : 100%|███████████████████████████████████| 14/14 [00:02<00:00,  6.84it/s, loss=0.0419]\n",
      "Training  : 100%|███████████████████████████████████| 14/14 [00:02<00:00,  6.86it/s, loss=0.0389]\n",
      "Training  : 100%|███████████████████████████████████| 14/14 [00:02<00:00,  6.82it/s, loss=0.0442]\n",
      "Training  : 100%|███████████████████████████████████| 14/14 [00:02<00:00,  6.84it/s, loss=0.0388]\n",
      "Training  : 100%|███████████████████████████████████| 14/14 [00:02<00:00,  6.77it/s, loss=0.0494]\n",
      "Training  : 100%|███████████████████████████████████| 14/14 [00:02<00:00,  6.83it/s, loss=0.0512]\n",
      "Training  : 100%|███████████████████████████████████| 14/14 [00:02<00:00,  6.84it/s, loss=0.0405]\n",
      "Training  : 100%|████████████████████████████████████| 14/14 [00:02<00:00,  6.88it/s, loss=0.047]\n",
      "Training  : 100%|███████████████████████████████████| 14/14 [00:02<00:00,  6.81it/s, loss=0.0403]\n",
      "Training  : 100%|███████████████████████████████████| 14/14 [00:02<00:00,  6.91it/s, loss=0.0386]\n",
      "Training  : 100%|███████████████████████████████████| 14/14 [00:02<00:00,  6.86it/s, loss=0.0433]\n",
      "Training  : 100%|█████████████████████████████████████| 14/14 [00:02<00:00,  6.80it/s, loss=0.05]\n",
      "Training  : 100%|███████████████████████████████████| 14/14 [00:02<00:00,  6.85it/s, loss=0.0403]\n",
      "Training  : 100%|███████████████████████████████████| 14/14 [00:02<00:00,  6.86it/s, loss=0.0383]\n",
      "Training  : 100%|███████████████████████████████████| 14/14 [00:02<00:00,  6.84it/s, loss=0.0398]\n",
      "Training  : 100%|███████████████████████████████████| 14/14 [00:02<00:00,  6.86it/s, loss=0.0423]\n",
      "Training  : 100%|███████████████████████████████████| 14/14 [00:02<00:00,  6.84it/s, loss=0.0392]\n",
      "Training  : 100%|███████████████████████████████████| 14/14 [00:02<00:00,  6.83it/s, loss=0.0447]\n",
      "Training  : 100%|████████████████████████████████████| 14/14 [00:02<00:00,  6.84it/s, loss=0.039]\n",
      "Training  : 100%|███████████████████████████████████| 14/14 [00:02<00:00,  6.85it/s, loss=0.0405]\n",
      "Training  : 100%|███████████████████████████████████| 14/14 [00:02<00:00,  6.84it/s, loss=0.0461]\n",
      "Training  : 100%|███████████████████████████████████| 14/14 [00:02<00:00,  6.86it/s, loss=0.0414]\n",
      "Training  : 100%|███████████████████████████████████| 14/14 [00:02<00:00,  6.79it/s, loss=0.0416]\n",
      "Training  : 100%|███████████████████████████████████| 14/14 [00:02<00:00,  6.82it/s, loss=0.0398]\n",
      "Training  : 100%|████████████████████████████████████| 14/14 [00:02<00:00,  6.82it/s, loss=0.039]\n",
      "Predicting: 100%|████████████████████████████████████████████████| 27/27 [00:00<00:00, 56.97it/s]\n"
     ]
    },
    {
     "name": "stdout",
     "output_type": "stream",
     "text": [
      "Building sklearn text classifier...\n",
      "Loading bert-base-uncased model...\n",
      "Defaulting to linear classifier/regressor\n",
      "Loading Pytorch checkpoint\n",
      "train data size: 428, validation data size: 0\n"
     ]
    },
    {
     "name": "stderr",
     "output_type": "stream",
     "text": [
      "Training  : 100%|████████████████████████████████████| 14/14 [00:02<00:00,  6.83it/s, loss=0.487]\n",
      "Training  : 100%|████████████████████████████████████| 14/14 [00:02<00:00,  6.85it/s, loss=0.279]\n",
      "Training  : 100%|████████████████████████████████████| 14/14 [00:02<00:00,  6.87it/s, loss=0.261]\n",
      "Training  : 100%|█████████████████████████████████████| 14/14 [00:02<00:00,  6.75it/s, loss=0.19]\n",
      "Training  : 100%|████████████████████████████████████| 14/14 [00:02<00:00,  6.79it/s, loss=0.122]\n",
      "Training  : 100%|████████████████████████████████████| 14/14 [00:02<00:00,  6.77it/s, loss=0.106]\n",
      "Training  : 100%|███████████████████████████████████| 14/14 [00:02<00:00,  6.74it/s, loss=0.0952]\n",
      "Training  : 100%|███████████████████████████████████| 14/14 [00:02<00:00,  6.83it/s, loss=0.0929]\n",
      "Training  : 100%|███████████████████████████████████| 14/14 [00:02<00:00,  6.78it/s, loss=0.0853]\n",
      "Training  : 100%|███████████████████████████████████| 14/14 [00:02<00:00,  6.78it/s, loss=0.0898]\n",
      "Training  : 100%|███████████████████████████████████| 14/14 [00:02<00:00,  6.85it/s, loss=0.0848]\n",
      "Training  : 100%|███████████████████████████████████| 14/14 [00:02<00:00,  6.79it/s, loss=0.0953]\n",
      "Training  : 100%|███████████████████████████████████| 14/14 [00:02<00:00,  6.85it/s, loss=0.0866]\n",
      "Training  : 100%|███████████████████████████████████| 14/14 [00:02<00:00,  6.81it/s, loss=0.0689]\n",
      "Training  : 100%|███████████████████████████████████| 14/14 [00:02<00:00,  6.82it/s, loss=0.0643]\n",
      "Training  : 100%|███████████████████████████████████| 14/14 [00:02<00:00,  6.86it/s, loss=0.0612]\n",
      "Training  : 100%|███████████████████████████████████| 14/14 [00:02<00:00,  6.81it/s, loss=0.0675]\n",
      "Training  : 100%|███████████████████████████████████| 14/14 [00:02<00:00,  6.81it/s, loss=0.0593]\n",
      "Training  : 100%|███████████████████████████████████| 14/14 [00:02<00:00,  6.79it/s, loss=0.0653]\n",
      "Training  : 100%|███████████████████████████████████| 14/14 [00:02<00:00,  6.82it/s, loss=0.0616]\n",
      "Training  : 100%|███████████████████████████████████| 14/14 [00:02<00:00,  6.84it/s, loss=0.0575]\n",
      "Training  : 100%|███████████████████████████████████| 14/14 [00:02<00:00,  6.85it/s, loss=0.0552]\n",
      "Training  : 100%|███████████████████████████████████| 14/14 [00:02<00:00,  6.81it/s, loss=0.0599]\n",
      "Training  : 100%|███████████████████████████████████| 14/14 [00:02<00:00,  6.79it/s, loss=0.0571]\n",
      "Training  : 100%|███████████████████████████████████| 14/14 [00:02<00:00,  6.83it/s, loss=0.0552]\n",
      "Training  : 100%|███████████████████████████████████| 14/14 [00:02<00:00,  6.73it/s, loss=0.0559]\n",
      "Training  : 100%|███████████████████████████████████| 14/14 [00:02<00:00,  6.80it/s, loss=0.0545]\n",
      "Training  : 100%|███████████████████████████████████| 14/14 [00:02<00:00,  6.82it/s, loss=0.0653]\n",
      "Training  : 100%|███████████████████████████████████| 14/14 [00:02<00:00,  6.82it/s, loss=0.0566]\n",
      "Training  : 100%|███████████████████████████████████| 14/14 [00:02<00:00,  6.83it/s, loss=0.0609]\n",
      "Training  : 100%|███████████████████████████████████| 14/14 [00:02<00:00,  6.79it/s, loss=0.0597]\n",
      "Training  : 100%|███████████████████████████████████| 14/14 [00:02<00:00,  6.82it/s, loss=0.0615]\n",
      "Training  : 100%|███████████████████████████████████| 14/14 [00:02<00:00,  6.79it/s, loss=0.0595]\n",
      "Training  : 100%|███████████████████████████████████| 14/14 [00:02<00:00,  6.80it/s, loss=0.0585]\n",
      "Training  : 100%|███████████████████████████████████| 14/14 [00:02<00:00,  6.87it/s, loss=0.0559]\n",
      "Training  : 100%|███████████████████████████████████| 14/14 [00:02<00:00,  6.82it/s, loss=0.0493]\n",
      "Training  : 100%|███████████████████████████████████| 14/14 [00:02<00:00,  6.76it/s, loss=0.0554]\n",
      "Training  : 100%|███████████████████████████████████| 14/14 [00:02<00:00,  6.84it/s, loss=0.0489]\n",
      "Training  : 100%|███████████████████████████████████| 14/14 [00:02<00:00,  6.78it/s, loss=0.0466]\n",
      "Training  : 100%|███████████████████████████████████| 14/14 [00:02<00:00,  6.77it/s, loss=0.0489]\n",
      "Training  : 100%|███████████████████████████████████| 14/14 [00:02<00:00,  6.89it/s, loss=0.0485]\n",
      "Training  : 100%|███████████████████████████████████| 14/14 [00:02<00:00,  6.76it/s, loss=0.0516]\n",
      "Training  : 100%|████████████████████████████████████| 14/14 [00:02<00:00,  6.80it/s, loss=0.047]\n",
      "Training  : 100%|███████████████████████████████████| 14/14 [00:02<00:00,  6.85it/s, loss=0.0483]\n",
      "Training  : 100%|███████████████████████████████████| 14/14 [00:02<00:00,  6.87it/s, loss=0.0482]\n",
      "Training  : 100%|███████████████████████████████████| 14/14 [00:02<00:00,  6.79it/s, loss=0.0504]\n",
      "Training  : 100%|███████████████████████████████████| 14/14 [00:02<00:00,  6.84it/s, loss=0.0486]\n",
      "Training  : 100%|████████████████████████████████████| 14/14 [00:02<00:00,  6.83it/s, loss=0.048]\n",
      "Training  : 100%|███████████████████████████████████| 14/14 [00:02<00:00,  6.84it/s, loss=0.0479]\n",
      "Training  : 100%|████████████████████████████████████| 14/14 [00:02<00:00,  6.76it/s, loss=0.054]\n",
      "Predicting: 100%|████████████████████████████████████████████████| 27/27 [00:00<00:00, 55.60it/s]\n"
     ]
    },
    {
     "name": "stdout",
     "output_type": "stream",
     "text": [
      "Building sklearn text classifier...\n",
      "Loading bert-base-uncased model...\n",
      "Defaulting to linear classifier/regressor\n",
      "Loading Pytorch checkpoint\n",
      "train data size: 428, validation data size: 0\n"
     ]
    },
    {
     "name": "stderr",
     "output_type": "stream",
     "text": [
      "Training  : 100%|████████████████████████████████████| 14/14 [00:02<00:00,  6.73it/s, loss=0.492]\n",
      "Training  : 100%|████████████████████████████████████| 14/14 [00:02<00:00,  6.76it/s, loss=0.271]\n",
      "Training  : 100%|████████████████████████████████████| 14/14 [00:02<00:00,  6.65it/s, loss=0.176]\n",
      "Training  : 100%|████████████████████████████████████| 14/14 [00:02<00:00,  6.73it/s, loss=0.171]\n",
      "Training  : 100%|█████████████████████████████████████| 14/14 [00:02<00:00,  6.76it/s, loss=0.13]\n",
      "Training  : 100%|███████████████████████████████████| 14/14 [00:02<00:00,  6.78it/s, loss=0.0866]\n",
      "Training  : 100%|███████████████████████████████████| 14/14 [00:02<00:00,  6.82it/s, loss=0.0833]\n",
      "Training  : 100%|███████████████████████████████████| 14/14 [00:02<00:00,  6.79it/s, loss=0.0915]\n",
      "Training  : 100%|███████████████████████████████████| 14/14 [00:02<00:00,  6.78it/s, loss=0.0733]\n",
      "Training  : 100%|███████████████████████████████████| 14/14 [00:02<00:00,  6.83it/s, loss=0.0647]\n",
      "Training  : 100%|███████████████████████████████████| 14/14 [00:02<00:00,  6.77it/s, loss=0.0653]\n",
      "Training  : 100%|███████████████████████████████████| 14/14 [00:02<00:00,  6.81it/s, loss=0.0661]\n",
      "Training  : 100%|███████████████████████████████████| 14/14 [00:02<00:00,  6.81it/s, loss=0.0655]\n",
      "Training  : 100%|███████████████████████████████████| 14/14 [00:02<00:00,  6.75it/s, loss=0.0567]\n",
      "Training  : 100%|███████████████████████████████████| 14/14 [00:02<00:00,  6.86it/s, loss=0.0593]\n",
      "Training  : 100%|███████████████████████████████████| 14/14 [00:02<00:00,  6.76it/s, loss=0.0565]\n",
      "Training  : 100%|███████████████████████████████████| 14/14 [00:02<00:00,  6.80it/s, loss=0.0575]\n",
      "Training  : 100%|███████████████████████████████████| 14/14 [00:02<00:00,  6.84it/s, loss=0.0574]\n",
      "Training  : 100%|███████████████████████████████████| 14/14 [00:02<00:00,  6.82it/s, loss=0.0606]\n",
      "Training  : 100%|███████████████████████████████████| 14/14 [00:02<00:00,  6.81it/s, loss=0.0521]\n",
      "Training  : 100%|███████████████████████████████████| 14/14 [00:02<00:00,  6.80it/s, loss=0.0503]\n",
      "Training  : 100%|███████████████████████████████████| 14/14 [00:02<00:00,  6.78it/s, loss=0.0537]\n",
      "Training  : 100%|███████████████████████████████████| 14/14 [00:02<00:00,  6.82it/s, loss=0.0535]\n",
      "Training  : 100%|███████████████████████████████████| 14/14 [00:02<00:00,  6.79it/s, loss=0.0644]\n",
      "Training  : 100%|███████████████████████████████████| 14/14 [00:02<00:00,  6.78it/s, loss=0.0522]\n",
      "Training  : 100%|████████████████████████████████████| 14/14 [00:02<00:00,  6.81it/s, loss=0.051]\n",
      "Training  : 100%|███████████████████████████████████| 14/14 [00:02<00:00,  6.84it/s, loss=0.0521]\n",
      "Training  : 100%|███████████████████████████████████| 14/14 [00:02<00:00,  6.87it/s, loss=0.0487]\n",
      "Training  : 100%|███████████████████████████████████| 14/14 [00:02<00:00,  6.80it/s, loss=0.0491]\n",
      "Training  : 100%|███████████████████████████████████| 14/14 [00:02<00:00,  6.81it/s, loss=0.0529]\n",
      "Training  : 100%|███████████████████████████████████| 14/14 [00:02<00:00,  6.80it/s, loss=0.0488]\n",
      "Training  : 100%|███████████████████████████████████| 14/14 [00:02<00:00,  6.83it/s, loss=0.0588]\n",
      "Training  : 100%|███████████████████████████████████| 14/14 [00:02<00:00,  6.79it/s, loss=0.0524]\n",
      "Training  : 100%|███████████████████████████████████| 14/14 [00:02<00:00,  6.82it/s, loss=0.0593]\n",
      "Training  : 100%|███████████████████████████████████| 14/14 [00:02<00:00,  6.77it/s, loss=0.0569]\n",
      "Training  : 100%|███████████████████████████████████| 14/14 [00:02<00:00,  6.89it/s, loss=0.0527]\n",
      "Training  : 100%|███████████████████████████████████| 14/14 [00:02<00:00,  6.83it/s, loss=0.0686]\n",
      "Training  : 100%|███████████████████████████████████| 14/14 [00:02<00:00,  6.81it/s, loss=0.0496]\n",
      "Training  : 100%|███████████████████████████████████| 14/14 [00:02<00:00,  6.80it/s, loss=0.0506]\n",
      "Training  : 100%|███████████████████████████████████| 14/14 [00:02<00:00,  6.68it/s, loss=0.0478]\n",
      "Training  : 100%|███████████████████████████████████| 14/14 [00:02<00:00,  6.62it/s, loss=0.0499]\n",
      "Training  : 100%|███████████████████████████████████| 14/14 [00:02<00:00,  6.81it/s, loss=0.0498]\n",
      "Training  : 100%|███████████████████████████████████| 14/14 [00:02<00:00,  6.80it/s, loss=0.0465]\n",
      "Training  : 100%|███████████████████████████████████| 14/14 [00:02<00:00,  6.86it/s, loss=0.0494]\n",
      "Training  : 100%|████████████████████████████████████| 14/14 [00:02<00:00,  6.82it/s, loss=0.048]\n",
      "Training  : 100%|███████████████████████████████████| 14/14 [00:02<00:00,  6.83it/s, loss=0.0521]\n",
      "Training  : 100%|███████████████████████████████████| 14/14 [00:02<00:00,  6.85it/s, loss=0.0497]\n",
      "Training  : 100%|███████████████████████████████████| 14/14 [00:02<00:00,  6.75it/s, loss=0.0463]\n",
      "Training  : 100%|████████████████████████████████████| 14/14 [00:02<00:00,  6.78it/s, loss=0.048]\n",
      "Training  : 100%|███████████████████████████████████| 14/14 [00:02<00:00,  6.82it/s, loss=0.0562]\n",
      "Predicting: 100%|████████████████████████████████████████████████| 27/27 [00:00<00:00, 54.06it/s]\n"
     ]
    },
    {
     "name": "stdout",
     "output_type": "stream",
     "text": [
      "Building sklearn text classifier...\n",
      "Loading bert-base-uncased model...\n",
      "Defaulting to linear classifier/regressor\n",
      "Loading Pytorch checkpoint\n",
      "train data size: 428, validation data size: 0\n"
     ]
    },
    {
     "name": "stderr",
     "output_type": "stream",
     "text": [
      "Training  : 100%|████████████████████████████████████| 14/14 [00:02<00:00,  6.69it/s, loss=0.511]\n",
      "Training  : 100%|████████████████████████████████████| 14/14 [00:02<00:00,  6.83it/s, loss=0.254]\n",
      "Training  : 100%|████████████████████████████████████| 14/14 [00:02<00:00,  6.84it/s, loss=0.207]\n",
      "Training  : 100%|████████████████████████████████████| 14/14 [00:02<00:00,  6.82it/s, loss=0.166]\n",
      "Training  : 100%|████████████████████████████████████| 14/14 [00:02<00:00,  6.77it/s, loss=0.117]\n",
      "Training  : 100%|███████████████████████████████████| 14/14 [00:02<00:00,  6.81it/s, loss=0.0902]\n",
      "Training  : 100%|███████████████████████████████████| 14/14 [00:02<00:00,  6.82it/s, loss=0.0718]\n",
      "Training  : 100%|███████████████████████████████████| 14/14 [00:02<00:00,  6.78it/s, loss=0.0651]\n",
      "Training  : 100%|███████████████████████████████████| 14/14 [00:02<00:00,  6.72it/s, loss=0.0623]\n",
      "Training  : 100%|████████████████████████████████████| 14/14 [00:02<00:00,  6.81it/s, loss=0.052]\n",
      "Training  : 100%|████████████████████████████████████| 14/14 [00:02<00:00,  6.81it/s, loss=0.057]\n",
      "Training  : 100%|███████████████████████████████████| 14/14 [00:02<00:00,  6.78it/s, loss=0.0535]\n",
      "Training  : 100%|███████████████████████████████████| 14/14 [00:02<00:00,  6.74it/s, loss=0.0659]\n",
      "Training  : 100%|███████████████████████████████████| 14/14 [00:02<00:00,  6.79it/s, loss=0.0512]\n",
      "Training  : 100%|████████████████████████████████████| 14/14 [00:02<00:00,  6.75it/s, loss=0.046]\n",
      "Training  : 100%|███████████████████████████████████| 14/14 [00:02<00:00,  6.80it/s, loss=0.0474]\n",
      "Training  : 100%|███████████████████████████████████| 14/14 [00:02<00:00,  6.77it/s, loss=0.0485]\n",
      "Training  : 100%|███████████████████████████████████| 14/14 [00:02<00:00,  6.79it/s, loss=0.0429]\n",
      "Training  : 100%|███████████████████████████████████| 14/14 [00:02<00:00,  6.64it/s, loss=0.0393]\n",
      "Training  : 100%|███████████████████████████████████| 14/14 [00:02<00:00,  6.66it/s, loss=0.0415]\n",
      "Training  : 100%|███████████████████████████████████| 14/14 [00:02<00:00,  6.82it/s, loss=0.0396]\n",
      "Training  : 100%|███████████████████████████████████| 14/14 [00:02<00:00,  6.75it/s, loss=0.0414]\n",
      "Training  : 100%|████████████████████████████████████| 14/14 [00:02<00:00,  6.80it/s, loss=0.044]\n",
      "Training  : 100%|███████████████████████████████████| 14/14 [00:02<00:00,  6.82it/s, loss=0.0414]\n",
      "Training  : 100%|███████████████████████████████████| 14/14 [00:02<00:00,  6.80it/s, loss=0.0383]\n",
      "Training  : 100%|███████████████████████████████████| 14/14 [00:02<00:00,  6.76it/s, loss=0.0386]\n",
      "Training  : 100%|███████████████████████████████████| 14/14 [00:02<00:00,  6.70it/s, loss=0.0395]\n",
      "Training  : 100%|████████████████████████████████████| 14/14 [00:02<00:00,  6.80it/s, loss=0.045]\n",
      "Training  : 100%|███████████████████████████████████| 14/14 [00:02<00:00,  6.79it/s, loss=0.0395]\n",
      "Training  : 100%|███████████████████████████████████| 14/14 [00:02<00:00,  6.83it/s, loss=0.0486]\n",
      "Training  : 100%|███████████████████████████████████| 14/14 [00:02<00:00,  6.83it/s, loss=0.0499]\n",
      "Training  : 100%|███████████████████████████████████| 14/14 [00:02<00:00,  6.80it/s, loss=0.0414]\n",
      "Training  : 100%|███████████████████████████████████| 14/14 [00:02<00:00,  6.80it/s, loss=0.0458]\n",
      "Training  : 100%|███████████████████████████████████| 14/14 [00:02<00:00,  6.76it/s, loss=0.0394]\n",
      "Training  : 100%|███████████████████████████████████| 14/14 [00:02<00:00,  6.79it/s, loss=0.0388]\n",
      "Training  : 100%|███████████████████████████████████| 14/14 [00:02<00:00,  6.78it/s, loss=0.0439]\n",
      "Training  : 100%|███████████████████████████████████| 14/14 [00:02<00:00,  6.79it/s, loss=0.0476]\n",
      "Training  : 100%|███████████████████████████████████| 14/14 [00:02<00:00,  6.78it/s, loss=0.0411]\n",
      "Training  : 100%|███████████████████████████████████| 14/14 [00:02<00:00,  6.79it/s, loss=0.0385]\n",
      "Training  : 100%|███████████████████████████████████| 14/14 [00:02<00:00,  6.75it/s, loss=0.0377]\n",
      "Training  : 100%|███████████████████████████████████| 14/14 [00:02<00:00,  6.77it/s, loss=0.0415]\n",
      "Training  : 100%|███████████████████████████████████| 14/14 [00:02<00:00,  6.76it/s, loss=0.0391]\n",
      "Training  : 100%|███████████████████████████████████| 14/14 [00:02<00:00,  6.79it/s, loss=0.0453]\n",
      "Training  : 100%|████████████████████████████████████| 14/14 [00:02<00:00,  6.76it/s, loss=0.038]\n",
      "Training  : 100%|███████████████████████████████████| 14/14 [00:02<00:00,  6.75it/s, loss=0.0395]\n",
      "Training  : 100%|███████████████████████████████████| 14/14 [00:02<00:00,  6.75it/s, loss=0.0431]\n",
      "Training  : 100%|███████████████████████████████████| 14/14 [00:02<00:00,  6.76it/s, loss=0.0436]\n",
      "Training  : 100%|███████████████████████████████████| 14/14 [00:02<00:00,  6.43it/s, loss=0.0424]\n",
      "Training  : 100%|███████████████████████████████████| 14/14 [00:02<00:00,  6.56it/s, loss=0.0395]\n",
      "Training  : 100%|███████████████████████████████████| 14/14 [00:02<00:00,  6.79it/s, loss=0.0409]\n",
      "Predicting: 100%|████████████████████████████████████████████████| 27/27 [00:00<00:00, 55.71it/s]\n"
     ]
    },
    {
     "name": "stdout",
     "output_type": "stream",
     "text": [
      "Building sklearn text classifier...\n",
      "Loading bert-base-uncased model...\n",
      "Defaulting to linear classifier/regressor\n",
      "Loading Pytorch checkpoint\n",
      "train data size: 428, validation data size: 0\n"
     ]
    },
    {
     "name": "stderr",
     "output_type": "stream",
     "text": [
      "Training  : 100%|████████████████████████████████████| 14/14 [00:02<00:00,  6.81it/s, loss=0.567]\n",
      "Training  : 100%|████████████████████████████████████| 14/14 [00:02<00:00,  6.82it/s, loss=0.335]\n",
      "Training  : 100%|████████████████████████████████████| 14/14 [00:02<00:00,  6.85it/s, loss=0.235]\n",
      "Training  : 100%|████████████████████████████████████| 14/14 [00:02<00:00,  6.84it/s, loss=0.205]\n",
      "Training  : 100%|████████████████████████████████████| 14/14 [00:02<00:00,  6.81it/s, loss=0.143]\n",
      "Training  : 100%|████████████████████████████████████| 14/14 [00:02<00:00,  6.81it/s, loss=0.137]\n",
      "Training  : 100%|███████████████████████████████████| 14/14 [00:02<00:00,  6.77it/s, loss=0.0951]\n",
      "Training  : 100%|███████████████████████████████████| 14/14 [00:02<00:00,  6.76it/s, loss=0.0886]\n",
      "Training  : 100%|███████████████████████████████████| 14/14 [00:02<00:00,  6.76it/s, loss=0.0818]\n",
      "Training  : 100%|███████████████████████████████████| 14/14 [00:02<00:00,  6.78it/s, loss=0.0765]\n",
      "Training  : 100%|███████████████████████████████████| 14/14 [00:02<00:00,  6.80it/s, loss=0.0651]\n",
      "Training  : 100%|███████████████████████████████████| 14/14 [00:02<00:00,  6.80it/s, loss=0.0696]\n",
      "Training  : 100%|███████████████████████████████████| 14/14 [00:02<00:00,  6.81it/s, loss=0.0706]\n",
      "Training  : 100%|███████████████████████████████████| 14/14 [00:02<00:00,  6.78it/s, loss=0.0574]\n",
      "Training  : 100%|███████████████████████████████████| 14/14 [00:02<00:00,  6.86it/s, loss=0.0579]\n",
      "Training  : 100%|███████████████████████████████████| 14/14 [00:02<00:00,  6.66it/s, loss=0.0622]\n",
      "Training  : 100%|███████████████████████████████████| 14/14 [00:02<00:00,  6.79it/s, loss=0.0649]\n",
      "Training  : 100%|███████████████████████████████████| 14/14 [00:02<00:00,  6.81it/s, loss=0.0533]\n",
      "Training  : 100%|███████████████████████████████████| 14/14 [00:02<00:00,  6.77it/s, loss=0.0564]\n",
      "Training  : 100%|███████████████████████████████████| 14/14 [00:02<00:00,  6.81it/s, loss=0.0595]\n",
      "Training  : 100%|███████████████████████████████████| 14/14 [00:02<00:00,  6.79it/s, loss=0.0574]\n",
      "Training  : 100%|███████████████████████████████████| 14/14 [00:02<00:00,  6.78it/s, loss=0.0578]\n",
      "Training  : 100%|███████████████████████████████████| 14/14 [00:02<00:00,  6.79it/s, loss=0.0733]\n",
      "Training  : 100%|███████████████████████████████████| 14/14 [00:02<00:00,  6.79it/s, loss=0.0573]\n",
      "Training  : 100%|████████████████████████████████████| 14/14 [00:02<00:00,  6.81it/s, loss=0.058]\n",
      "Training  : 100%|███████████████████████████████████| 14/14 [00:02<00:00,  6.84it/s, loss=0.0596]\n",
      "Training  : 100%|███████████████████████████████████| 14/14 [00:02<00:00,  6.80it/s, loss=0.0594]\n",
      "Training  : 100%|███████████████████████████████████| 14/14 [00:02<00:00,  6.79it/s, loss=0.0604]\n",
      "Training  : 100%|███████████████████████████████████| 14/14 [00:02<00:00,  6.79it/s, loss=0.0549]\n",
      "Training  : 100%|███████████████████████████████████| 14/14 [00:02<00:00,  6.89it/s, loss=0.0545]\n",
      "Training  : 100%|███████████████████████████████████| 14/14 [00:02<00:00,  6.86it/s, loss=0.0551]\n",
      "Training  : 100%|███████████████████████████████████| 14/14 [00:02<00:00,  6.77it/s, loss=0.0635]\n",
      "Training  : 100%|███████████████████████████████████| 14/14 [00:02<00:00,  6.75it/s, loss=0.0612]\n",
      "Training  : 100%|███████████████████████████████████| 14/14 [00:02<00:00,  6.83it/s, loss=0.0695]\n",
      "Training  : 100%|███████████████████████████████████| 14/14 [00:02<00:00,  6.80it/s, loss=0.0604]\n",
      "Training  : 100%|███████████████████████████████████| 14/14 [00:02<00:00,  6.78it/s, loss=0.0524]\n",
      "Training  : 100%|███████████████████████████████████| 14/14 [00:02<00:00,  6.80it/s, loss=0.0684]\n",
      "Training  : 100%|███████████████████████████████████| 14/14 [00:02<00:00,  6.76it/s, loss=0.0552]\n",
      "Training  : 100%|███████████████████████████████████| 14/14 [00:02<00:00,  6.86it/s, loss=0.0544]\n",
      "Training  : 100%|███████████████████████████████████| 14/14 [00:02<00:00,  6.84it/s, loss=0.0538]\n",
      "Training  : 100%|███████████████████████████████████| 14/14 [00:02<00:00,  6.78it/s, loss=0.0522]\n",
      "Training  : 100%|███████████████████████████████████| 14/14 [00:02<00:00,  6.76it/s, loss=0.0576]\n",
      "Training  : 100%|███████████████████████████████████| 14/14 [00:02<00:00,  6.78it/s, loss=0.0511]\n",
      "Training  : 100%|███████████████████████████████████| 14/14 [00:02<00:00,  6.84it/s, loss=0.0504]\n",
      "Training  : 100%|███████████████████████████████████| 14/14 [00:02<00:00,  6.80it/s, loss=0.0519]\n",
      "Training  : 100%|█████████████████████████████████████| 14/14 [00:02<00:00,  6.79it/s, loss=0.05]\n",
      "Training  : 100%|███████████████████████████████████| 14/14 [00:02<00:00,  6.82it/s, loss=0.0489]\n",
      "Training  : 100%|███████████████████████████████████| 14/14 [00:02<00:00,  6.85it/s, loss=0.0497]\n",
      "Training  : 100%|███████████████████████████████████| 14/14 [00:02<00:00,  6.85it/s, loss=0.0497]\n",
      "Training  : 100%|███████████████████████████████████| 14/14 [00:02<00:00,  6.80it/s, loss=0.0648]\n",
      "Predicting: 100%|████████████████████████████████████████████████| 27/27 [00:00<00:00, 56.46it/s]\n"
     ]
    },
    {
     "name": "stdout",
     "output_type": "stream",
     "text": [
      "Building sklearn text classifier...\n",
      "Loading bert-base-uncased model...\n",
      "Defaulting to linear classifier/regressor\n",
      "Loading Pytorch checkpoint\n",
      "train data size: 428, validation data size: 0\n"
     ]
    },
    {
     "name": "stderr",
     "output_type": "stream",
     "text": [
      "Training  : 100%|████████████████████████████████████| 14/14 [00:02<00:00,  6.82it/s, loss=0.565]\n",
      "Training  : 100%|████████████████████████████████████| 14/14 [00:02<00:00,  6.77it/s, loss=0.338]\n",
      "Training  : 100%|████████████████████████████████████| 14/14 [00:02<00:00,  6.74it/s, loss=0.229]\n",
      "Training  : 100%|████████████████████████████████████| 14/14 [00:02<00:00,  6.85it/s, loss=0.199]\n",
      "Training  : 100%|████████████████████████████████████| 14/14 [00:02<00:00,  6.79it/s, loss=0.138]\n",
      "Training  : 100%|████████████████████████████████████| 14/14 [00:02<00:00,  6.76it/s, loss=0.135]\n",
      "Training  : 100%|████████████████████████████████████| 14/14 [00:02<00:00,  6.75it/s, loss=0.121]\n",
      "Training  : 100%|████████████████████████████████████| 14/14 [00:02<00:00,  6.69it/s, loss=0.112]\n",
      "Training  : 100%|████████████████████████████████████| 14/14 [00:02<00:00,  6.81it/s, loss=0.104]\n",
      "Training  : 100%|███████████████████████████████████| 14/14 [00:02<00:00,  6.73it/s, loss=0.0966]\n",
      "Training  : 100%|████████████████████████████████████| 14/14 [00:02<00:00,  6.76it/s, loss=0.075]\n",
      "Training  : 100%|███████████████████████████████████| 14/14 [00:02<00:00,  6.78it/s, loss=0.0775]\n",
      "Training  : 100%|███████████████████████████████████| 14/14 [00:02<00:00,  6.76it/s, loss=0.0767]\n",
      "Training  : 100%|████████████████████████████████████| 14/14 [00:02<00:00,  6.74it/s, loss=0.068]\n",
      "Training  : 100%|███████████████████████████████████| 14/14 [00:02<00:00,  6.79it/s, loss=0.0662]\n",
      "Training  : 100%|████████████████████████████████████| 14/14 [00:02<00:00,  6.80it/s, loss=0.065]\n",
      "Training  : 100%|███████████████████████████████████| 14/14 [00:02<00:00,  6.76it/s, loss=0.0618]\n",
      "Training  : 100%|███████████████████████████████████| 14/14 [00:02<00:00,  6.75it/s, loss=0.0672]\n",
      "Training  : 100%|███████████████████████████████████| 14/14 [00:02<00:00,  6.78it/s, loss=0.0645]\n",
      "Training  : 100%|███████████████████████████████████| 14/14 [00:02<00:00,  6.77it/s, loss=0.0616]\n",
      "Training  : 100%|███████████████████████████████████| 14/14 [00:02<00:00,  6.83it/s, loss=0.0539]\n",
      "Training  : 100%|███████████████████████████████████| 14/14 [00:02<00:00,  6.81it/s, loss=0.0573]\n",
      "Training  : 100%|███████████████████████████████████| 14/14 [00:02<00:00,  6.75it/s, loss=0.0599]\n",
      "Training  : 100%|███████████████████████████████████| 14/14 [00:02<00:00,  6.78it/s, loss=0.0664]\n",
      "Training  : 100%|████████████████████████████████████| 14/14 [00:02<00:00,  6.81it/s, loss=0.056]\n",
      "Training  : 100%|████████████████████████████████████| 14/14 [00:02<00:00,  6.79it/s, loss=0.055]\n",
      "Training  : 100%|███████████████████████████████████| 14/14 [00:02<00:00,  6.73it/s, loss=0.0582]\n",
      "Training  : 100%|███████████████████████████████████| 14/14 [00:02<00:00,  6.78it/s, loss=0.0541]\n",
      "Training  : 100%|███████████████████████████████████| 14/14 [00:02<00:00,  6.72it/s, loss=0.0548]\n",
      "Training  : 100%|███████████████████████████████████| 14/14 [00:02<00:00,  6.76it/s, loss=0.0652]\n",
      "Training  : 100%|███████████████████████████████████| 14/14 [00:02<00:00,  6.76it/s, loss=0.0607]\n",
      "Training  : 100%|███████████████████████████████████| 14/14 [00:02<00:00,  6.77it/s, loss=0.0669]\n",
      "Training  : 100%|███████████████████████████████████| 14/14 [00:02<00:00,  6.77it/s, loss=0.0585]\n",
      "Training  : 100%|███████████████████████████████████| 14/14 [00:02<00:00,  6.75it/s, loss=0.0737]\n",
      "Training  : 100%|███████████████████████████████████| 14/14 [00:02<00:00,  6.81it/s, loss=0.0642]\n",
      "Training  : 100%|████████████████████████████████████| 14/14 [00:02<00:00,  6.76it/s, loss=0.056]\n",
      "Training  : 100%|███████████████████████████████████| 14/14 [00:02<00:00,  6.76it/s, loss=0.0845]\n",
      "Training  : 100%|████████████████████████████████████| 14/14 [00:02<00:00,  6.77it/s, loss=0.056]\n",
      "Training  : 100%|███████████████████████████████████| 14/14 [00:02<00:00,  6.78it/s, loss=0.0551]\n",
      "Training  : 100%|███████████████████████████████████| 14/14 [00:02<00:00,  6.77it/s, loss=0.0521]\n",
      "Training  : 100%|███████████████████████████████████| 14/14 [00:02<00:00,  6.74it/s, loss=0.0544]\n",
      "Training  : 100%|███████████████████████████████████| 14/14 [00:02<00:00,  6.73it/s, loss=0.0565]\n",
      "Training  : 100%|████████████████████████████████████| 14/14 [00:02<00:00,  6.77it/s, loss=0.054]\n",
      "Training  : 100%|███████████████████████████████████| 14/14 [00:02<00:00,  6.75it/s, loss=0.0556]\n",
      "Training  : 100%|███████████████████████████████████| 14/14 [00:02<00:00,  6.82it/s, loss=0.0506]\n",
      "Training  : 100%|███████████████████████████████████| 14/14 [00:02<00:00,  6.77it/s, loss=0.0591]\n",
      "Training  : 100%|███████████████████████████████████| 14/14 [00:02<00:00,  6.80it/s, loss=0.0546]\n",
      "Training  : 100%|███████████████████████████████████| 14/14 [00:02<00:00,  6.78it/s, loss=0.0479]\n",
      "Training  : 100%|███████████████████████████████████| 14/14 [00:02<00:00,  6.74it/s, loss=0.0547]\n",
      "Training  : 100%|███████████████████████████████████| 14/14 [00:02<00:00,  6.79it/s, loss=0.0641]\n",
      "Predicting: 100%|████████████████████████████████████████████████| 27/27 [00:00<00:00, 55.22it/s]\n"
     ]
    },
    {
     "name": "stdout",
     "output_type": "stream",
     "text": [
      "Building sklearn text classifier...\n",
      "Loading bert-base-uncased model...\n",
      "Defaulting to linear classifier/regressor\n",
      "Loading Pytorch checkpoint\n",
      "train data size: 428, validation data size: 0\n"
     ]
    },
    {
     "name": "stderr",
     "output_type": "stream",
     "text": [
      "Training  : 100%|████████████████████████████████████| 14/14 [00:02<00:00,  6.81it/s, loss=0.581]\n",
      "Training  : 100%|████████████████████████████████████| 14/14 [00:02<00:00,  6.78it/s, loss=0.324]\n",
      "Training  : 100%|████████████████████████████████████| 14/14 [00:02<00:00,  6.77it/s, loss=0.226]\n",
      "Training  : 100%|████████████████████████████████████| 14/14 [00:02<00:00,  6.80it/s, loss=0.169]\n",
      "Training  : 100%|████████████████████████████████████| 14/14 [00:02<00:00,  6.71it/s, loss=0.121]\n",
      "Training  : 100%|████████████████████████████████████| 14/14 [00:02<00:00,  6.80it/s, loss=0.114]\n",
      "Training  : 100%|████████████████████████████████████| 14/14 [00:02<00:00,  6.75it/s, loss=0.103]\n",
      "Training  : 100%|███████████████████████████████████| 14/14 [00:02<00:00,  6.75it/s, loss=0.0761]\n",
      "Training  : 100%|███████████████████████████████████| 14/14 [00:02<00:00,  6.79it/s, loss=0.0899]\n",
      "Training  : 100%|███████████████████████████████████| 14/14 [00:02<00:00,  6.79it/s, loss=0.0623]\n",
      "Training  : 100%|███████████████████████████████████| 14/14 [00:02<00:00,  6.83it/s, loss=0.0608]\n",
      "Training  : 100%|███████████████████████████████████| 14/14 [00:02<00:00,  6.82it/s, loss=0.0646]\n",
      "Training  : 100%|███████████████████████████████████| 14/14 [00:02<00:00,  6.85it/s, loss=0.0635]\n",
      "Training  : 100%|███████████████████████████████████| 14/14 [00:02<00:00,  6.83it/s, loss=0.0579]\n",
      "Training  : 100%|███████████████████████████████████| 14/14 [00:02<00:00,  6.82it/s, loss=0.0541]\n",
      "Training  : 100%|███████████████████████████████████| 14/14 [00:02<00:00,  6.81it/s, loss=0.0603]\n",
      "Training  : 100%|███████████████████████████████████| 14/14 [00:02<00:00,  6.75it/s, loss=0.0541]\n",
      "Training  : 100%|███████████████████████████████████| 14/14 [00:02<00:00,  6.77it/s, loss=0.0487]\n",
      "Training  : 100%|███████████████████████████████████| 14/14 [00:02<00:00,  6.83it/s, loss=0.0444]\n",
      "Training  : 100%|███████████████████████████████████| 14/14 [00:02<00:00,  6.77it/s, loss=0.0479]\n",
      "Training  : 100%|███████████████████████████████████| 14/14 [00:02<00:00,  6.78it/s, loss=0.0453]\n",
      "Training  : 100%|███████████████████████████████████| 14/14 [00:02<00:00,  6.83it/s, loss=0.0423]\n",
      "Training  : 100%|███████████████████████████████████| 14/14 [00:02<00:00,  6.79it/s, loss=0.0466]\n",
      "Training  : 100%|███████████████████████████████████| 14/14 [00:02<00:00,  6.83it/s, loss=0.0433]\n",
      "Training  : 100%|███████████████████████████████████| 14/14 [00:02<00:00,  6.78it/s, loss=0.0416]\n",
      "Training  : 100%|███████████████████████████████████| 14/14 [00:02<00:00,  6.82it/s, loss=0.0454]\n",
      "Training  : 100%|███████████████████████████████████| 14/14 [00:02<00:00,  6.80it/s, loss=0.0448]\n",
      "Training  : 100%|███████████████████████████████████| 14/14 [00:02<00:00,  6.79it/s, loss=0.0474]\n",
      "Training  : 100%|███████████████████████████████████| 14/14 [00:02<00:00,  6.79it/s, loss=0.0408]\n",
      "Training  : 100%|███████████████████████████████████| 14/14 [00:02<00:00,  6.80it/s, loss=0.0518]\n",
      "Training  : 100%|███████████████████████████████████| 14/14 [00:02<00:00,  6.79it/s, loss=0.0516]\n",
      "Training  : 100%|███████████████████████████████████| 14/14 [00:02<00:00,  6.76it/s, loss=0.0426]\n",
      "Training  : 100%|████████████████████████████████████| 14/14 [00:02<00:00,  6.75it/s, loss=0.049]\n",
      "Training  : 100%|███████████████████████████████████| 14/14 [00:02<00:00,  6.77it/s, loss=0.0411]\n",
      "Training  : 100%|███████████████████████████████████| 14/14 [00:02<00:00,  6.82it/s, loss=0.0406]\n",
      "Training  : 100%|███████████████████████████████████| 14/14 [00:02<00:00,  6.77it/s, loss=0.0442]\n",
      "Training  : 100%|███████████████████████████████████| 14/14 [00:02<00:00,  6.80it/s, loss=0.0485]\n",
      "Training  : 100%|███████████████████████████████████| 14/14 [00:02<00:00,  6.76it/s, loss=0.0425]\n",
      "Training  : 100%|███████████████████████████████████| 14/14 [00:02<00:00,  6.79it/s, loss=0.0391]\n",
      "Training  : 100%|███████████████████████████████████| 14/14 [00:02<00:00,  6.77it/s, loss=0.0409]\n",
      "Training  : 100%|███████████████████████████████████| 14/14 [00:02<00:00,  6.84it/s, loss=0.0426]\n",
      "Training  : 100%|███████████████████████████████████| 14/14 [00:02<00:00,  6.75it/s, loss=0.0436]\n",
      "Training  : 100%|███████████████████████████████████| 14/14 [00:02<00:00,  6.82it/s, loss=0.0465]\n",
      "Training  : 100%|███████████████████████████████████| 14/14 [00:02<00:00,  6.78it/s, loss=0.0399]\n",
      "Training  : 100%|███████████████████████████████████| 14/14 [00:02<00:00,  6.54it/s, loss=0.0408]\n",
      "Training  : 100%|███████████████████████████████████| 14/14 [00:02<00:00,  6.66it/s, loss=0.0457]\n",
      "Training  : 100%|███████████████████████████████████| 14/14 [00:02<00:00,  6.49it/s, loss=0.0449]\n",
      "Training  : 100%|███████████████████████████████████| 14/14 [00:02<00:00,  6.77it/s, loss=0.0423]\n",
      "Training  : 100%|███████████████████████████████████| 14/14 [00:02<00:00,  6.78it/s, loss=0.0407]\n",
      "Training  : 100%|███████████████████████████████████| 14/14 [00:02<00:00,  6.79it/s, loss=0.0423]\n",
      "Predicting: 100%|████████████████████████████████████████████████| 27/27 [00:00<00:00, 53.83it/s]\n"
     ]
    },
    {
     "name": "stdout",
     "output_type": "stream",
     "text": [
      "Building sklearn text classifier...\n",
      "Loading bert-base-uncased model...\n",
      "Defaulting to linear classifier/regressor\n",
      "Loading Pytorch checkpoint\n",
      "train data size: 428, validation data size: 0\n"
     ]
    },
    {
     "name": "stderr",
     "output_type": "stream",
     "text": [
      "Training  : 100%|████████████████████████████████████| 14/14 [00:02<00:00,  6.71it/s, loss=0.549]\n",
      "Training  : 100%|████████████████████████████████████| 14/14 [00:02<00:00,  6.76it/s, loss=0.316]\n",
      "Training  : 100%|█████████████████████████████████████| 14/14 [00:02<00:00,  6.78it/s, loss=0.22]\n",
      "Training  : 100%|████████████████████████████████████| 14/14 [00:02<00:00,  6.78it/s, loss=0.195]\n",
      "Training  : 100%|████████████████████████████████████| 14/14 [00:02<00:00,  6.85it/s, loss=0.134]\n",
      "Training  : 100%|████████████████████████████████████| 14/14 [00:02<00:00,  6.81it/s, loss=0.112]\n",
      "Training  : 100%|███████████████████████████████████| 14/14 [00:02<00:00,  6.79it/s, loss=0.0919]\n",
      "Training  : 100%|███████████████████████████████████| 14/14 [00:02<00:00,  6.70it/s, loss=0.0806]\n",
      "Training  : 100%|███████████████████████████████████| 14/14 [00:02<00:00,  6.78it/s, loss=0.0734]\n",
      "Training  : 100%|████████████████████████████████████| 14/14 [00:02<00:00,  6.80it/s, loss=0.069]\n",
      "Training  : 100%|███████████████████████████████████| 14/14 [00:02<00:00,  6.83it/s, loss=0.0626]\n",
      "Training  : 100%|███████████████████████████████████| 14/14 [00:02<00:00,  6.80it/s, loss=0.0763]\n",
      "Training  : 100%|████████████████████████████████████| 14/14 [00:02<00:00,  6.82it/s, loss=0.068]\n",
      "Training  : 100%|███████████████████████████████████| 14/14 [00:02<00:00,  6.77it/s, loss=0.0553]\n",
      "Training  : 100%|████████████████████████████████████| 14/14 [00:02<00:00,  6.81it/s, loss=0.056]\n",
      "Training  : 100%|███████████████████████████████████| 14/14 [00:02<00:00,  6.73it/s, loss=0.0594]\n",
      "Training  : 100%|████████████████████████████████████| 14/14 [00:02<00:00,  6.71it/s, loss=0.051]\n",
      "Training  : 100%|███████████████████████████████████| 14/14 [00:02<00:00,  6.74it/s, loss=0.0529]\n",
      "Training  : 100%|████████████████████████████████████| 14/14 [00:02<00:00,  6.75it/s, loss=0.057]\n",
      "Training  : 100%|███████████████████████████████████| 14/14 [00:02<00:00,  6.78it/s, loss=0.0532]\n",
      "Training  : 100%|████████████████████████████████████| 14/14 [00:02<00:00,  6.74it/s, loss=0.052]\n",
      "Training  : 100%|███████████████████████████████████| 14/14 [00:02<00:00,  6.82it/s, loss=0.0508]\n",
      "Training  : 100%|███████████████████████████████████| 14/14 [00:02<00:00,  6.75it/s, loss=0.0528]\n",
      "Training  : 100%|███████████████████████████████████| 14/14 [00:02<00:00,  6.80it/s, loss=0.0528]\n",
      "Training  : 100%|███████████████████████████████████| 14/14 [00:02<00:00,  6.76it/s, loss=0.0519]\n",
      "Training  : 100%|███████████████████████████████████| 14/14 [00:02<00:00,  6.78it/s, loss=0.0516]\n",
      "Training  : 100%|███████████████████████████████████| 14/14 [00:02<00:00,  6.81it/s, loss=0.0503]\n",
      "Training  : 100%|███████████████████████████████████| 14/14 [00:02<00:00,  6.77it/s, loss=0.0544]\n",
      "Training  : 100%|███████████████████████████████████| 14/14 [00:02<00:00,  6.79it/s, loss=0.0511]\n",
      "Training  : 100%|███████████████████████████████████| 14/14 [00:02<00:00,  6.78it/s, loss=0.0478]\n",
      "Training  : 100%|███████████████████████████████████| 14/14 [00:02<00:00,  6.71it/s, loss=0.0496]\n",
      "Training  : 100%|███████████████████████████████████| 14/14 [00:02<00:00,  6.62it/s, loss=0.0564]\n",
      "Training  : 100%|███████████████████████████████████| 14/14 [00:02<00:00,  6.74it/s, loss=0.0573]\n",
      "Training  : 100%|███████████████████████████████████| 14/14 [00:02<00:00,  6.79it/s, loss=0.0574]\n",
      "Training  : 100%|███████████████████████████████████| 14/14 [00:02<00:00,  6.84it/s, loss=0.0534]\n",
      "Training  : 100%|███████████████████████████████████| 14/14 [00:02<00:00,  6.80it/s, loss=0.0467]\n",
      "Training  : 100%|███████████████████████████████████| 14/14 [00:02<00:00,  6.76it/s, loss=0.0545]\n",
      "Training  : 100%|███████████████████████████████████| 14/14 [00:02<00:00,  6.78it/s, loss=0.0483]\n",
      "Training  : 100%|███████████████████████████████████| 14/14 [00:02<00:00,  6.77it/s, loss=0.0465]\n",
      "Training  : 100%|███████████████████████████████████| 14/14 [00:02<00:00,  6.79it/s, loss=0.0481]\n",
      "Training  : 100%|███████████████████████████████████| 14/14 [00:02<00:00,  6.79it/s, loss=0.0471]\n",
      "Training  : 100%|███████████████████████████████████| 14/14 [00:02<00:00,  6.78it/s, loss=0.0515]\n",
      "Training  : 100%|███████████████████████████████████| 14/14 [00:02<00:00,  6.77it/s, loss=0.0479]\n",
      "Training  : 100%|████████████████████████████████████| 14/14 [00:02<00:00,  6.79it/s, loss=0.049]\n",
      "Training  : 100%|███████████████████████████████████| 14/14 [00:02<00:00,  6.75it/s, loss=0.0471]\n",
      "Training  : 100%|███████████████████████████████████| 14/14 [00:02<00:00,  6.74it/s, loss=0.0492]\n",
      "Training  : 100%|███████████████████████████████████| 14/14 [00:02<00:00,  6.43it/s, loss=0.0484]\n",
      "Training  : 100%|███████████████████████████████████| 14/14 [00:02<00:00,  6.58it/s, loss=0.0482]\n",
      "Training  : 100%|███████████████████████████████████| 14/14 [00:02<00:00,  6.80it/s, loss=0.0486]\n",
      "Training  : 100%|███████████████████████████████████| 14/14 [00:02<00:00,  6.73it/s, loss=0.0556]\n",
      "Training  : 100%|███████████████████████████████████| 14/14 [00:02<00:00,  6.76it/s, loss=0.0488]\n",
      "Training  : 100%|███████████████████████████████████| 14/14 [00:02<00:00,  6.77it/s, loss=0.0599]\n",
      "Training  : 100%|███████████████████████████████████| 14/14 [00:02<00:00,  6.74it/s, loss=0.0453]\n",
      "Training  : 100%|███████████████████████████████████| 14/14 [00:02<00:00,  6.80it/s, loss=0.0472]\n",
      "Training  : 100%|███████████████████████████████████| 14/14 [00:02<00:00,  6.78it/s, loss=0.0552]\n",
      "Training  : 100%|████████████████████████████████████| 14/14 [00:02<00:00,  6.78it/s, loss=0.046]\n",
      "Training  : 100%|███████████████████████████████████| 14/14 [00:02<00:00,  6.73it/s, loss=0.0497]\n",
      "Training  : 100%|███████████████████████████████████| 14/14 [00:02<00:00,  6.83it/s, loss=0.0454]\n",
      "Training  : 100%|███████████████████████████████████| 14/14 [00:02<00:00,  6.79it/s, loss=0.0467]\n",
      "Training  : 100%|███████████████████████████████████| 14/14 [00:02<00:00,  6.78it/s, loss=0.0472]\n",
      "Training  : 100%|███████████████████████████████████| 14/14 [00:02<00:00,  6.79it/s, loss=0.0501]\n",
      "Training  : 100%|████████████████████████████████████| 14/14 [00:02<00:00,  6.78it/s, loss=0.047]\n",
      "Training  : 100%|███████████████████████████████████| 14/14 [00:02<00:00,  6.83it/s, loss=0.0485]\n",
      "Training  : 100%|███████████████████████████████████| 14/14 [00:02<00:00,  6.78it/s, loss=0.0565]\n",
      "Training  : 100%|███████████████████████████████████| 14/14 [00:02<00:00,  6.86it/s, loss=0.0463]\n",
      "Training  : 100%|████████████████████████████████████| 14/14 [00:02<00:00,  6.79it/s, loss=0.045]\n",
      "Training  : 100%|███████████████████████████████████| 14/14 [00:02<00:00,  6.78it/s, loss=0.0506]\n",
      "Training  : 100%|███████████████████████████████████| 14/14 [00:02<00:00,  6.76it/s, loss=0.0454]\n",
      "Training  : 100%|███████████████████████████████████| 14/14 [00:02<00:00,  6.72it/s, loss=0.0468]\n",
      "Training  : 100%|███████████████████████████████████| 14/14 [00:02<00:00,  6.79it/s, loss=0.0513]\n",
      "Training  : 100%|███████████████████████████████████| 14/14 [00:02<00:00,  6.76it/s, loss=0.0463]\n",
      "Training  : 100%|███████████████████████████████████| 14/14 [00:02<00:00,  6.82it/s, loss=0.0476]\n",
      "Training  : 100%|████████████████████████████████████| 14/14 [00:02<00:00,  6.78it/s, loss=0.046]\n",
      "Training  : 100%|███████████████████████████████████| 14/14 [00:02<00:00,  6.77it/s, loss=0.0456]\n",
      "Training  : 100%|███████████████████████████████████| 14/14 [00:02<00:00,  6.80it/s, loss=0.0482]\n",
      "Predicting: 100%|████████████████████████████████████████████████| 27/27 [00:00<00:00, 54.93it/s]\n"
     ]
    },
    {
     "name": "stdout",
     "output_type": "stream",
     "text": [
      "Building sklearn text classifier...\n",
      "Loading bert-base-uncased model...\n",
      "Defaulting to linear classifier/regressor\n",
      "Loading Pytorch checkpoint\n",
      "train data size: 428, validation data size: 0\n"
     ]
    },
    {
     "name": "stderr",
     "output_type": "stream",
     "text": [
      "Training  : 100%|████████████████████████████████████| 14/14 [00:02<00:00,  6.81it/s, loss=0.549]\n",
      "Training  : 100%|████████████████████████████████████| 14/14 [00:02<00:00,  6.76it/s, loss=0.321]\n",
      "Training  : 100%|████████████████████████████████████| 14/14 [00:02<00:00,  6.75it/s, loss=0.239]\n",
      "Training  : 100%|█████████████████████████████████████| 14/14 [00:02<00:00,  6.77it/s, loss=0.21]\n",
      "Training  : 100%|████████████████████████████████████| 14/14 [00:02<00:00,  6.83it/s, loss=0.151]\n",
      "Training  : 100%|████████████████████████████████████| 14/14 [00:02<00:00,  6.75it/s, loss=0.122]\n",
      "Training  : 100%|████████████████████████████████████| 14/14 [00:02<00:00,  6.84it/s, loss=0.123]\n",
      "Training  : 100%|███████████████████████████████████| 14/14 [00:02<00:00,  6.82it/s, loss=0.0907]\n",
      "Training  : 100%|████████████████████████████████████| 14/14 [00:02<00:00,  6.70it/s, loss=0.102]\n",
      "Training  : 100%|███████████████████████████████████| 14/14 [00:02<00:00,  6.78it/s, loss=0.0894]\n",
      "Training  : 100%|███████████████████████████████████| 14/14 [00:02<00:00,  6.79it/s, loss=0.0893]\n",
      "Training  : 100%|███████████████████████████████████| 14/14 [00:02<00:00,  6.71it/s, loss=0.0717]\n",
      "Training  : 100%|███████████████████████████████████| 14/14 [00:02<00:00,  6.79it/s, loss=0.0778]\n",
      "Training  : 100%|███████████████████████████████████| 14/14 [00:02<00:00,  6.76it/s, loss=0.0646]\n",
      "Training  : 100%|███████████████████████████████████| 14/14 [00:02<00:00,  6.78it/s, loss=0.0609]\n",
      "Training  : 100%|███████████████████████████████████| 14/14 [00:02<00:00,  6.79it/s, loss=0.0561]\n",
      "Training  : 100%|███████████████████████████████████| 14/14 [00:02<00:00,  6.82it/s, loss=0.0561]\n",
      "Training  : 100%|███████████████████████████████████| 14/14 [00:02<00:00,  6.83it/s, loss=0.0599]\n",
      "Training  : 100%|████████████████████████████████████| 14/14 [00:02<00:00,  6.83it/s, loss=0.059]\n",
      "Training  : 100%|███████████████████████████████████| 14/14 [00:02<00:00,  6.77it/s, loss=0.0613]\n",
      "Training  : 100%|███████████████████████████████████| 14/14 [00:02<00:00,  6.79it/s, loss=0.0552]\n",
      "Training  : 100%|███████████████████████████████████| 14/14 [00:02<00:00,  6.74it/s, loss=0.0531]\n",
      "Training  : 100%|█████████████████████████████████████| 14/14 [00:02<00:00,  6.76it/s, loss=0.05]\n",
      "Training  : 100%|███████████████████████████████████| 14/14 [00:02<00:00,  6.68it/s, loss=0.0667]\n",
      "Training  : 100%|███████████████████████████████████| 14/14 [00:02<00:00,  6.77it/s, loss=0.0547]\n",
      "Training  : 100%|███████████████████████████████████| 14/14 [00:02<00:00,  6.75it/s, loss=0.0505]\n",
      "Training  : 100%|███████████████████████████████████| 14/14 [00:02<00:00,  6.68it/s, loss=0.0497]\n",
      "Training  : 100%|███████████████████████████████████| 14/14 [00:02<00:00,  6.72it/s, loss=0.0498]\n",
      "Training  : 100%|███████████████████████████████████| 14/14 [00:02<00:00,  6.78it/s, loss=0.0473]\n",
      "Training  : 100%|███████████████████████████████████| 14/14 [00:02<00:00,  6.75it/s, loss=0.0596]\n",
      "Training  : 100%|███████████████████████████████████| 14/14 [00:02<00:00,  6.79it/s, loss=0.0475]\n",
      "Training  : 100%|███████████████████████████████████| 14/14 [00:02<00:00,  6.81it/s, loss=0.0566]\n",
      "Training  : 100%|███████████████████████████████████| 14/14 [00:02<00:00,  6.79it/s, loss=0.0537]\n",
      "Training  : 100%|███████████████████████████████████| 14/14 [00:02<00:00,  6.84it/s, loss=0.0558]\n",
      "Training  : 100%|███████████████████████████████████| 14/14 [00:02<00:00,  6.80it/s, loss=0.0546]\n",
      "Training  : 100%|███████████████████████████████████| 14/14 [00:02<00:00,  6.80it/s, loss=0.0496]\n",
      "Training  : 100%|███████████████████████████████████| 14/14 [00:02<00:00,  6.77it/s, loss=0.0693]\n",
      "Training  : 100%|███████████████████████████████████| 14/14 [00:02<00:00,  6.72it/s, loss=0.0496]\n",
      "Training  : 100%|███████████████████████████████████| 14/14 [00:02<00:00,  6.82it/s, loss=0.0458]\n",
      "Training  : 100%|███████████████████████████████████| 14/14 [00:02<00:00,  6.70it/s, loss=0.0458]\n",
      "Training  : 100%|███████████████████████████████████| 14/14 [00:02<00:00,  6.82it/s, loss=0.0481]\n",
      "Training  : 100%|███████████████████████████████████| 14/14 [00:02<00:00,  6.77it/s, loss=0.0506]\n",
      "Training  : 100%|███████████████████████████████████| 14/14 [00:02<00:00,  6.75it/s, loss=0.0487]\n",
      "Training  : 100%|███████████████████████████████████| 14/14 [00:02<00:00,  6.75it/s, loss=0.0489]\n",
      "Training  : 100%|███████████████████████████████████| 14/14 [00:02<00:00,  6.82it/s, loss=0.0511]\n",
      "Training  : 100%|███████████████████████████████████| 14/14 [00:02<00:00,  6.85it/s, loss=0.0525]\n",
      "Training  : 100%|███████████████████████████████████| 14/14 [00:02<00:00,  6.79it/s, loss=0.0501]\n",
      "Training  : 100%|███████████████████████████████████| 14/14 [00:02<00:00,  6.75it/s, loss=0.0496]\n",
      "Training  : 100%|███████████████████████████████████| 14/14 [00:02<00:00,  6.85it/s, loss=0.0505]\n",
      "Training  : 100%|███████████████████████████████████| 14/14 [00:02<00:00,  6.80it/s, loss=0.0538]\n",
      "Training  : 100%|████████████████████████████████████| 14/14 [00:02<00:00,  6.76it/s, loss=0.051]\n",
      "Training  : 100%|███████████████████████████████████| 14/14 [00:02<00:00,  6.82it/s, loss=0.0515]\n",
      "Training  : 100%|███████████████████████████████████| 14/14 [00:02<00:00,  6.80it/s, loss=0.0483]\n",
      "Training  : 100%|███████████████████████████████████| 14/14 [00:02<00:00,  6.77it/s, loss=0.0519]\n",
      "Training  : 100%|███████████████████████████████████| 14/14 [00:02<00:00,  6.76it/s, loss=0.0571]\n",
      "Training  : 100%|███████████████████████████████████| 14/14 [00:02<00:00,  6.76it/s, loss=0.0489]\n",
      "Training  : 100%|███████████████████████████████████| 14/14 [00:02<00:00,  6.76it/s, loss=0.0479]\n",
      "Training  : 100%|█████████████████████████████████████| 14/14 [00:02<00:00,  6.81it/s, loss=0.05]\n",
      "Training  : 100%|███████████████████████████████████| 14/14 [00:02<00:00,  6.79it/s, loss=0.0512]\n",
      "Training  : 100%|███████████████████████████████████| 14/14 [00:02<00:00,  6.79it/s, loss=0.0494]\n",
      "Training  : 100%|███████████████████████████████████| 14/14 [00:02<00:00,  6.79it/s, loss=0.0489]\n",
      "Training  : 100%|███████████████████████████████████| 14/14 [00:02<00:00,  6.77it/s, loss=0.0528]\n",
      "Training  : 100%|███████████████████████████████████| 14/14 [00:02<00:00,  6.77it/s, loss=0.0554]\n",
      "Training  : 100%|███████████████████████████████████| 14/14 [00:02<00:00,  6.73it/s, loss=0.0579]\n",
      "Training  : 100%|█████████████████████████████████████| 14/14 [00:02<00:00,  6.81it/s, loss=0.05]\n",
      "Training  : 100%|███████████████████████████████████| 14/14 [00:02<00:00,  6.79it/s, loss=0.0486]\n",
      "Training  : 100%|█████████████████████████████████████| 14/14 [00:02<00:00,  6.79it/s, loss=0.05]\n",
      "Training  : 100%|███████████████████████████████████| 14/14 [00:02<00:00,  6.86it/s, loss=0.0478]\n",
      "Training  : 100%|███████████████████████████████████| 14/14 [00:02<00:00,  6.78it/s, loss=0.0451]\n",
      "Training  : 100%|███████████████████████████████████| 14/14 [00:02<00:00,  6.77it/s, loss=0.0477]\n",
      "Training  : 100%|███████████████████████████████████| 14/14 [00:02<00:00,  6.82it/s, loss=0.0455]\n",
      "Training  : 100%|███████████████████████████████████| 14/14 [00:02<00:00,  6.80it/s, loss=0.0487]\n",
      "Training  : 100%|███████████████████████████████████| 14/14 [00:02<00:00,  6.80it/s, loss=0.0475]\n",
      "Training  : 100%|███████████████████████████████████| 14/14 [00:02<00:00,  6.80it/s, loss=0.0478]\n",
      "Training  : 100%|███████████████████████████████████| 14/14 [00:02<00:00,  6.79it/s, loss=0.0488]\n",
      "Predicting: 100%|████████████████████████████████████████████████| 27/27 [00:00<00:00, 53.76it/s]\n"
     ]
    },
    {
     "name": "stdout",
     "output_type": "stream",
     "text": [
      "Building sklearn text classifier...\n",
      "Loading bert-base-uncased model...\n",
      "Defaulting to linear classifier/regressor\n",
      "Loading Pytorch checkpoint\n",
      "train data size: 428, validation data size: 0\n"
     ]
    },
    {
     "name": "stderr",
     "output_type": "stream",
     "text": [
      "Training  : 100%|████████████████████████████████████| 14/14 [00:02<00:00,  6.73it/s, loss=0.567]\n",
      "Training  : 100%|████████████████████████████████████| 14/14 [00:02<00:00,  6.77it/s, loss=0.295]\n",
      "Training  : 100%|████████████████████████████████████| 14/14 [00:02<00:00,  6.81it/s, loss=0.257]\n",
      "Training  : 100%|████████████████████████████████████| 14/14 [00:02<00:00,  6.73it/s, loss=0.203]\n",
      "Training  : 100%|████████████████████████████████████| 14/14 [00:02<00:00,  6.83it/s, loss=0.144]\n",
      "Training  : 100%|████████████████████████████████████| 14/14 [00:02<00:00,  6.66it/s, loss=0.132]\n",
      "Training  : 100%|████████████████████████████████████| 14/14 [00:02<00:00,  6.77it/s, loss=0.098]\n",
      "Training  : 100%|███████████████████████████████████| 14/14 [00:02<00:00,  6.80it/s, loss=0.0891]\n",
      "Training  : 100%|███████████████████████████████████| 14/14 [00:02<00:00,  6.78it/s, loss=0.0929]\n",
      "Training  : 100%|███████████████████████████████████| 14/14 [00:02<00:00,  6.79it/s, loss=0.0883]\n",
      "Training  : 100%|███████████████████████████████████| 14/14 [00:02<00:00,  6.77it/s, loss=0.0737]\n",
      "Training  : 100%|███████████████████████████████████| 14/14 [00:02<00:00,  6.80it/s, loss=0.0585]\n",
      "Training  : 100%|███████████████████████████████████| 14/14 [00:02<00:00,  6.81it/s, loss=0.0609]\n",
      "Training  : 100%|███████████████████████████████████| 14/14 [00:02<00:00,  6.79it/s, loss=0.0567]\n",
      "Training  : 100%|███████████████████████████████████| 14/14 [00:02<00:00,  6.79it/s, loss=0.0494]\n",
      "Training  : 100%|███████████████████████████████████| 14/14 [00:02<00:00,  6.76it/s, loss=0.0581]\n",
      "Training  : 100%|███████████████████████████████████| 14/14 [00:02<00:00,  6.79it/s, loss=0.0563]\n",
      "Training  : 100%|███████████████████████████████████| 14/14 [00:02<00:00,  6.80it/s, loss=0.0438]\n",
      "Training  : 100%|███████████████████████████████████| 14/14 [00:02<00:00,  6.81it/s, loss=0.0422]\n",
      "Training  : 100%|███████████████████████████████████| 14/14 [00:02<00:00,  6.77it/s, loss=0.0471]\n",
      "Training  : 100%|████████████████████████████████████| 14/14 [00:02<00:00,  6.80it/s, loss=0.041]\n",
      "Training  : 100%|███████████████████████████████████| 14/14 [00:02<00:00,  6.77it/s, loss=0.0425]\n",
      "Training  : 100%|███████████████████████████████████| 14/14 [00:02<00:00,  6.81it/s, loss=0.0476]\n",
      "Training  : 100%|███████████████████████████████████| 14/14 [00:02<00:00,  6.79it/s, loss=0.0419]\n",
      "Training  : 100%|███████████████████████████████████| 14/14 [00:02<00:00,  6.77it/s, loss=0.0401]\n",
      "Training  : 100%|███████████████████████████████████| 14/14 [00:02<00:00,  6.80it/s, loss=0.0388]\n",
      "Training  : 100%|███████████████████████████████████| 14/14 [00:02<00:00,  6.81it/s, loss=0.0406]\n",
      "Training  : 100%|███████████████████████████████████| 14/14 [00:02<00:00,  6.75it/s, loss=0.0451]\n",
      "Training  : 100%|███████████████████████████████████| 14/14 [00:02<00:00,  6.78it/s, loss=0.0386]\n",
      "Training  : 100%|███████████████████████████████████| 14/14 [00:02<00:00,  6.83it/s, loss=0.0566]\n",
      "Training  : 100%|███████████████████████████████████| 14/14 [00:02<00:00,  6.74it/s, loss=0.0525]\n",
      "Training  : 100%|███████████████████████████████████| 14/14 [00:02<00:00,  6.75it/s, loss=0.0402]\n",
      "Training  : 100%|███████████████████████████████████| 14/14 [00:02<00:00,  6.82it/s, loss=0.0472]\n",
      "Training  : 100%|███████████████████████████████████| 14/14 [00:02<00:00,  6.79it/s, loss=0.0402]\n",
      "Training  : 100%|███████████████████████████████████| 14/14 [00:02<00:00,  6.84it/s, loss=0.0389]\n",
      "Training  : 100%|███████████████████████████████████| 14/14 [00:02<00:00,  6.77it/s, loss=0.0445]\n",
      "Training  : 100%|████████████████████████████████████| 14/14 [00:02<00:00,  6.78it/s, loss=0.049]\n",
      "Training  : 100%|███████████████████████████████████| 14/14 [00:02<00:00,  6.70it/s, loss=0.0434]\n",
      "Training  : 100%|███████████████████████████████████| 14/14 [00:02<00:00,  6.76it/s, loss=0.0387]\n",
      "Training  : 100%|███████████████████████████████████| 14/14 [00:02<00:00,  6.76it/s, loss=0.0385]\n",
      "Training  : 100%|███████████████████████████████████| 14/14 [00:02<00:00,  6.82it/s, loss=0.0413]\n",
      "Training  : 100%|███████████████████████████████████| 14/14 [00:02<00:00,  6.77it/s, loss=0.0395]\n",
      "Training  : 100%|█████████████████████████████████████| 14/14 [00:02<00:00,  6.80it/s, loss=0.05]\n",
      "Training  : 100%|███████████████████████████████████| 14/14 [00:02<00:00,  6.81it/s, loss=0.0383]\n",
      "Training  : 100%|███████████████████████████████████| 14/14 [00:02<00:00,  6.72it/s, loss=0.0392]\n",
      "Training  : 100%|████████████████████████████████████| 14/14 [00:02<00:00,  6.77it/s, loss=0.045]\n",
      "Training  : 100%|███████████████████████████████████| 14/14 [00:02<00:00,  6.80it/s, loss=0.0425]\n",
      "Training  : 100%|███████████████████████████████████| 14/14 [00:02<00:00,  6.78it/s, loss=0.0427]\n",
      "Training  : 100%|███████████████████████████████████| 14/14 [00:02<00:00,  6.83it/s, loss=0.0409]\n",
      "Training  : 100%|███████████████████████████████████| 14/14 [00:02<00:00,  6.75it/s, loss=0.0395]\n",
      "Training  : 100%|███████████████████████████████████| 14/14 [00:02<00:00,  6.78it/s, loss=0.0409]\n",
      "Training  : 100%|███████████████████████████████████| 14/14 [00:02<00:00,  6.79it/s, loss=0.0379]\n",
      "Training  : 100%|███████████████████████████████████| 14/14 [00:02<00:00,  6.80it/s, loss=0.0366]\n",
      "Training  : 100%|███████████████████████████████████| 14/14 [00:02<00:00,  6.80it/s, loss=0.0411]\n",
      "Training  : 100%|███████████████████████████████████| 14/14 [00:02<00:00,  6.75it/s, loss=0.0408]\n",
      "Training  : 100%|███████████████████████████████████| 14/14 [00:02<00:00,  6.87it/s, loss=0.0413]\n",
      "Training  : 100%|███████████████████████████████████| 14/14 [00:02<00:00,  6.79it/s, loss=0.0371]\n",
      "Training  : 100%|███████████████████████████████████| 14/14 [00:02<00:00,  6.73it/s, loss=0.0402]\n",
      "Training  : 100%|███████████████████████████████████| 14/14 [00:02<00:00,  6.73it/s, loss=0.0441]\n",
      "Training  : 100%|███████████████████████████████████| 14/14 [00:02<00:00,  6.76it/s, loss=0.0416]\n",
      "Training  : 100%|███████████████████████████████████| 14/14 [00:02<00:00,  6.76it/s, loss=0.0399]\n",
      "Training  : 100%|███████████████████████████████████| 14/14 [00:02<00:00,  6.75it/s, loss=0.0439]\n",
      "Training  : 100%|███████████████████████████████████| 14/14 [00:02<00:00,  6.77it/s, loss=0.0414]\n",
      "Training  : 100%|███████████████████████████████████| 14/14 [00:02<00:00,  6.76it/s, loss=0.0404]\n",
      "Training  : 100%|███████████████████████████████████| 14/14 [00:02<00:00,  6.73it/s, loss=0.0446]\n",
      "Training  : 100%|███████████████████████████████████| 14/14 [00:02<00:00,  6.78it/s, loss=0.0408]\n",
      "Training  : 100%|███████████████████████████████████| 14/14 [00:02<00:00,  6.77it/s, loss=0.0396]\n",
      "Training  : 100%|███████████████████████████████████| 14/14 [00:02<00:00,  6.77it/s, loss=0.0376]\n",
      "Training  : 100%|███████████████████████████████████| 14/14 [00:02<00:00,  6.78it/s, loss=0.0392]\n",
      "Training  : 100%|███████████████████████████████████| 14/14 [00:02<00:00,  6.80it/s, loss=0.0388]\n",
      "Training  : 100%|███████████████████████████████████| 14/14 [00:02<00:00,  6.79it/s, loss=0.0393]\n",
      "Training  : 100%|███████████████████████████████████| 14/14 [00:02<00:00,  6.80it/s, loss=0.0402]\n",
      "Training  : 100%|███████████████████████████████████| 14/14 [00:02<00:00,  6.81it/s, loss=0.0433]\n",
      "Training  : 100%|███████████████████████████████████| 14/14 [00:02<00:00,  6.76it/s, loss=0.0437]\n",
      "Training  : 100%|███████████████████████████████████| 14/14 [00:02<00:00,  6.77it/s, loss=0.0394]\n",
      "Predicting: 100%|████████████████████████████████████████████████| 27/27 [00:00<00:00, 55.42it/s]\n"
     ]
    },
    {
     "name": "stdout",
     "output_type": "stream",
     "text": [
      "Building sklearn text classifier...\n",
      "Loading bert-base-uncased model...\n",
      "Defaulting to linear classifier/regressor\n",
      "Loading Pytorch checkpoint\n",
      "train data size: 428, validation data size: 0\n"
     ]
    },
    {
     "name": "stderr",
     "output_type": "stream",
     "text": [
      "Training  : 100%|████████████████████████████████████| 14/14 [00:02<00:00,  6.80it/s, loss=0.522]\n",
      "Training  : 100%|████████████████████████████████████| 14/14 [00:02<00:00,  6.77it/s, loss=0.283]\n",
      "Training  : 100%|█████████████████████████████████████| 14/14 [00:02<00:00,  6.76it/s, loss=0.21]\n",
      "Training  : 100%|████████████████████████████████████| 14/14 [00:02<00:00,  6.75it/s, loss=0.185]\n",
      "Training  : 100%|████████████████████████████████████| 14/14 [00:02<00:00,  6.76it/s, loss=0.102]\n",
      "Training  : 100%|████████████████████████████████████| 14/14 [00:02<00:00,  6.68it/s, loss=0.143]\n",
      "Training  : 100%|████████████████████████████████████| 14/14 [00:02<00:00,  6.72it/s, loss=0.132]\n",
      "Training  : 100%|████████████████████████████████████| 14/14 [00:02<00:00,  6.70it/s, loss=0.101]\n",
      "Training  : 100%|████████████████████████████████████| 14/14 [00:02<00:00,  6.84it/s, loss=0.105]\n",
      "Training  : 100%|███████████████████████████████████| 14/14 [00:02<00:00,  6.80it/s, loss=0.0846]\n",
      "Training  : 100%|███████████████████████████████████| 14/14 [00:02<00:00,  6.75it/s, loss=0.0712]\n",
      "Training  : 100%|███████████████████████████████████| 14/14 [00:02<00:00,  6.78it/s, loss=0.0693]\n",
      "Training  : 100%|███████████████████████████████████| 14/14 [00:02<00:00,  6.81it/s, loss=0.0651]\n",
      "Training  : 100%|███████████████████████████████████| 14/14 [00:02<00:00,  6.81it/s, loss=0.0568]\n",
      "Training  : 100%|███████████████████████████████████| 14/14 [00:02<00:00,  6.80it/s, loss=0.0545]\n",
      "Training  : 100%|███████████████████████████████████| 14/14 [00:02<00:00,  6.78it/s, loss=0.0597]\n",
      "Training  : 100%|███████████████████████████████████| 14/14 [00:02<00:00,  6.80it/s, loss=0.0541]\n",
      "Training  : 100%|███████████████████████████████████| 14/14 [00:02<00:00,  6.77it/s, loss=0.0534]\n",
      "Training  : 100%|███████████████████████████████████| 14/14 [00:02<00:00,  6.82it/s, loss=0.0548]\n",
      "Training  : 100%|███████████████████████████████████| 14/14 [00:02<00:00,  6.73it/s, loss=0.0548]\n",
      "Training  : 100%|███████████████████████████████████| 14/14 [00:02<00:00,  6.53it/s, loss=0.0574]\n",
      "Training  : 100%|████████████████████████████████████| 14/14 [00:02<00:00,  6.61it/s, loss=0.053]\n",
      "Training  : 100%|███████████████████████████████████| 14/14 [00:02<00:00,  6.83it/s, loss=0.0612]\n",
      "Training  : 100%|███████████████████████████████████| 14/14 [00:02<00:00,  6.77it/s, loss=0.0549]\n",
      "Training  : 100%|███████████████████████████████████| 14/14 [00:02<00:00,  6.77it/s, loss=0.0556]\n",
      "Training  : 100%|███████████████████████████████████| 14/14 [00:02<00:00,  6.79it/s, loss=0.0529]\n",
      "Training  : 100%|███████████████████████████████████| 14/14 [00:02<00:00,  6.73it/s, loss=0.0527]\n",
      "Training  : 100%|███████████████████████████████████| 14/14 [00:02<00:00,  6.79it/s, loss=0.0565]\n",
      "Training  : 100%|███████████████████████████████████| 14/14 [00:02<00:00,  6.77it/s, loss=0.0545]\n",
      "Training  : 100%|████████████████████████████████████| 14/14 [00:02<00:00,  6.79it/s, loss=0.053]\n",
      "Training  : 100%|███████████████████████████████████| 14/14 [00:02<00:00,  6.76it/s, loss=0.0494]\n",
      "Training  : 100%|███████████████████████████████████| 14/14 [00:02<00:00,  6.79it/s, loss=0.0569]\n",
      "Training  : 100%|███████████████████████████████████| 14/14 [00:02<00:00,  6.75it/s, loss=0.0573]\n",
      "Training  : 100%|███████████████████████████████████| 14/14 [00:02<00:00,  6.83it/s, loss=0.0563]\n",
      "Training  : 100%|████████████████████████████████████| 14/14 [00:02<00:00,  6.83it/s, loss=0.053]\n",
      "Training  : 100%|███████████████████████████████████| 14/14 [00:02<00:00,  6.82it/s, loss=0.0491]\n",
      "Training  : 100%|███████████████████████████████████| 14/14 [00:02<00:00,  6.84it/s, loss=0.0581]\n",
      "Training  : 100%|███████████████████████████████████| 14/14 [00:02<00:00,  6.81it/s, loss=0.0523]\n",
      "Training  : 100%|████████████████████████████████████| 14/14 [00:02<00:00,  6.77it/s, loss=0.049]\n",
      "Training  : 100%|███████████████████████████████████| 14/14 [00:02<00:00,  6.83it/s, loss=0.0489]\n",
      "Training  : 100%|███████████████████████████████████| 14/14 [00:02<00:00,  6.72it/s, loss=0.0463]\n",
      "Training  : 100%|███████████████████████████████████| 14/14 [00:02<00:00,  6.67it/s, loss=0.0539]\n",
      "Training  : 100%|███████████████████████████████████| 14/14 [00:02<00:00,  6.77it/s, loss=0.0472]\n",
      "Training  : 100%|███████████████████████████████████| 14/14 [00:02<00:00,  6.79it/s, loss=0.0476]\n",
      "Training  : 100%|███████████████████████████████████| 14/14 [00:02<00:00,  6.74it/s, loss=0.0495]\n",
      "Training  : 100%|███████████████████████████████████| 14/14 [00:02<00:00,  6.77it/s, loss=0.0449]\n",
      "Training  : 100%|███████████████████████████████████| 14/14 [00:02<00:00,  6.78it/s, loss=0.0455]\n",
      "Training  : 100%|███████████████████████████████████| 14/14 [00:02<00:00,  6.81it/s, loss=0.0471]\n",
      "Training  : 100%|███████████████████████████████████| 14/14 [00:02<00:00,  6.75it/s, loss=0.0462]\n",
      "Training  : 100%|███████████████████████████████████| 14/14 [00:02<00:00,  6.76it/s, loss=0.0548]\n",
      "Training  : 100%|███████████████████████████████████| 14/14 [00:02<00:00,  6.77it/s, loss=0.0456]\n",
      "Training  : 100%|███████████████████████████████████| 14/14 [00:02<00:00,  6.82it/s, loss=0.0576]\n",
      "Training  : 100%|███████████████████████████████████| 14/14 [00:02<00:00,  6.78it/s, loss=0.0475]\n",
      "Training  : 100%|███████████████████████████████████| 14/14 [00:02<00:00,  6.73it/s, loss=0.0478]\n",
      "Training  : 100%|███████████████████████████████████| 14/14 [00:02<00:00,  6.83it/s, loss=0.0527]\n",
      "Training  : 100%|███████████████████████████████████| 14/14 [00:02<00:00,  6.77it/s, loss=0.0464]\n",
      "Training  : 100%|███████████████████████████████████| 14/14 [00:02<00:00,  6.80it/s, loss=0.0544]\n",
      "Training  : 100%|███████████████████████████████████| 14/14 [00:02<00:00,  6.74it/s, loss=0.0482]\n",
      "Training  : 100%|███████████████████████████████████| 14/14 [00:02<00:00,  6.76it/s, loss=0.0461]\n",
      "Training  : 100%|████████████████████████████████████| 14/14 [00:02<00:00,  6.79it/s, loss=0.045]\n",
      "Training  : 100%|███████████████████████████████████| 14/14 [00:02<00:00,  6.79it/s, loss=0.0522]\n",
      "Training  : 100%|███████████████████████████████████| 14/14 [00:02<00:00,  6.75it/s, loss=0.0477]\n",
      "Training  : 100%|███████████████████████████████████| 14/14 [00:02<00:00,  6.75it/s, loss=0.0511]\n",
      "Training  : 100%|███████████████████████████████████| 14/14 [00:02<00:00,  6.80it/s, loss=0.0574]\n",
      "Training  : 100%|███████████████████████████████████| 14/14 [00:02<00:00,  6.86it/s, loss=0.0461]\n",
      "Training  : 100%|███████████████████████████████████| 14/14 [00:02<00:00,  6.78it/s, loss=0.0458]\n",
      "Training  : 100%|███████████████████████████████████| 14/14 [00:02<00:00,  6.80it/s, loss=0.0531]\n",
      "Training  : 100%|███████████████████████████████████| 14/14 [00:02<00:00,  6.75it/s, loss=0.0461]\n",
      "Training  : 100%|███████████████████████████████████| 14/14 [00:02<00:00,  6.79it/s, loss=0.0459]\n",
      "Training  : 100%|███████████████████████████████████| 14/14 [00:02<00:00,  6.77it/s, loss=0.0534]\n",
      "Training  : 100%|███████████████████████████████████| 14/14 [00:02<00:00,  6.87it/s, loss=0.0451]\n",
      "Training  : 100%|███████████████████████████████████| 14/14 [00:02<00:00,  6.75it/s, loss=0.0446]\n",
      "Training  : 100%|███████████████████████████████████| 14/14 [00:02<00:00,  6.78it/s, loss=0.0459]\n",
      "Training  : 100%|███████████████████████████████████| 14/14 [00:02<00:00,  6.76it/s, loss=0.0451]\n",
      "Training  : 100%|███████████████████████████████████| 14/14 [00:02<00:00,  6.76it/s, loss=0.0487]\n",
      "Predicting: 100%|████████████████████████████████████████████████| 27/27 [00:00<00:00, 54.68it/s]\n"
     ]
    },
    {
     "name": "stdout",
     "output_type": "stream",
     "text": [
      "Building sklearn text classifier...\n",
      "Loading bert-base-uncased model...\n",
      "Defaulting to linear classifier/regressor\n",
      "Loading Pytorch checkpoint\n",
      "train data size: 428, validation data size: 0\n"
     ]
    },
    {
     "name": "stderr",
     "output_type": "stream",
     "text": [
      "Training  : 100%|█████████████████████████████████████| 14/14 [00:02<00:00,  6.67it/s, loss=0.52]\n",
      "Training  : 100%|████████████████████████████████████| 14/14 [00:02<00:00,  6.71it/s, loss=0.285]\n",
      "Training  : 100%|████████████████████████████████████| 14/14 [00:02<00:00,  6.71it/s, loss=0.254]\n",
      "Training  : 100%|████████████████████████████████████| 14/14 [00:02<00:00,  6.66it/s, loss=0.235]\n",
      "Training  : 100%|████████████████████████████████████| 14/14 [00:02<00:00,  6.71it/s, loss=0.142]\n",
      "Training  : 100%|████████████████████████████████████| 14/14 [00:02<00:00,  6.74it/s, loss=0.126]\n",
      "Training  : 100%|████████████████████████████████████| 14/14 [00:02<00:00,  6.69it/s, loss=0.103]\n",
      "Training  : 100%|████████████████████████████████████| 14/14 [00:02<00:00,  6.66it/s, loss=0.104]\n",
      "Training  : 100%|████████████████████████████████████| 14/14 [00:02<00:00,  6.74it/s, loss=0.101]\n",
      "Training  : 100%|████████████████████████████████████| 14/14 [00:02<00:00,  6.74it/s, loss=0.142]\n",
      "Training  : 100%|███████████████████████████████████| 14/14 [00:02<00:00,  6.74it/s, loss=0.0844]\n",
      "Training  : 100%|████████████████████████████████████| 14/14 [00:02<00:00,  6.75it/s, loss=0.088]\n",
      "Training  : 100%|███████████████████████████████████| 14/14 [00:02<00:00,  6.78it/s, loss=0.0849]\n",
      "Training  : 100%|███████████████████████████████████| 14/14 [00:02<00:00,  6.72it/s, loss=0.0697]\n",
      "Training  : 100%|███████████████████████████████████| 14/14 [00:02<00:00,  6.61it/s, loss=0.0704]\n",
      "Training  : 100%|███████████████████████████████████| 14/14 [00:02<00:00,  6.53it/s, loss=0.0619]\n",
      "Training  : 100%|███████████████████████████████████| 14/14 [00:02<00:00,  6.68it/s, loss=0.0623]\n",
      "Training  : 100%|███████████████████████████████████| 14/14 [00:02<00:00,  6.62it/s, loss=0.0692]\n",
      "Training  : 100%|███████████████████████████████████| 14/14 [00:02<00:00,  6.66it/s, loss=0.0679]\n",
      "Training  : 100%|███████████████████████████████████| 14/14 [00:02<00:00,  6.62it/s, loss=0.0922]\n",
      "Training  : 100%|███████████████████████████████████| 14/14 [00:02<00:00,  6.74it/s, loss=0.0713]\n",
      "Training  : 100%|███████████████████████████████████| 14/14 [00:02<00:00,  6.68it/s, loss=0.0706]\n",
      "Training  : 100%|███████████████████████████████████| 14/14 [00:02<00:00,  6.76it/s, loss=0.0559]\n",
      "Training  : 100%|███████████████████████████████████| 14/14 [00:02<00:00,  6.74it/s, loss=0.0716]\n",
      "Training  : 100%|███████████████████████████████████| 14/14 [00:02<00:00,  6.76it/s, loss=0.0505]\n",
      "Training  : 100%|███████████████████████████████████| 14/14 [00:02<00:00,  6.66it/s, loss=0.0521]\n",
      "Training  : 100%|███████████████████████████████████| 14/14 [00:02<00:00,  6.67it/s, loss=0.0496]\n",
      "Training  : 100%|███████████████████████████████████| 14/14 [00:02<00:00,  6.71it/s, loss=0.0487]\n",
      "Training  : 100%|███████████████████████████████████| 14/14 [00:02<00:00,  6.76it/s, loss=0.0481]\n",
      "Training  : 100%|███████████████████████████████████| 14/14 [00:02<00:00,  6.70it/s, loss=0.0545]\n",
      "Training  : 100%|███████████████████████████████████| 14/14 [00:02<00:00,  6.70it/s, loss=0.0487]\n",
      "Training  : 100%|███████████████████████████████████| 14/14 [00:02<00:00,  6.64it/s, loss=0.0585]\n",
      "Training  : 100%|███████████████████████████████████| 14/14 [00:02<00:00,  6.71it/s, loss=0.0552]\n",
      "Training  : 100%|███████████████████████████████████| 14/14 [00:02<00:00,  6.72it/s, loss=0.0569]\n",
      "Training  : 100%|███████████████████████████████████| 14/14 [00:02<00:00,  6.69it/s, loss=0.0571]\n",
      "Training  : 100%|███████████████████████████████████| 14/14 [00:02<00:00,  6.75it/s, loss=0.0487]\n",
      "Training  : 100%|███████████████████████████████████| 14/14 [00:02<00:00,  6.75it/s, loss=0.0694]\n",
      "Training  : 100%|███████████████████████████████████| 14/14 [00:02<00:00,  6.77it/s, loss=0.0507]\n",
      "Training  : 100%|███████████████████████████████████| 14/14 [00:02<00:00,  6.69it/s, loss=0.0482]\n",
      "Training  : 100%|███████████████████████████████████| 14/14 [00:02<00:00,  6.73it/s, loss=0.0449]\n",
      "Training  : 100%|███████████████████████████████████| 14/14 [00:02<00:00,  6.69it/s, loss=0.0487]\n",
      "Training  : 100%|███████████████████████████████████| 14/14 [00:02<00:00,  6.74it/s, loss=0.0502]\n",
      "Training  : 100%|████████████████████████████████████| 14/14 [00:02<00:00,  6.66it/s, loss=0.049]\n",
      "Training  : 100%|████████████████████████████████████| 14/14 [00:02<00:00,  6.73it/s, loss=0.048]\n",
      "Training  : 100%|███████████████████████████████████| 14/14 [00:02<00:00,  6.73it/s, loss=0.0499]\n",
      "Training  : 100%|███████████████████████████████████| 14/14 [00:02<00:00,  6.77it/s, loss=0.0521]\n",
      "Training  : 100%|███████████████████████████████████| 14/14 [00:02<00:00,  6.68it/s, loss=0.0486]\n",
      "Training  : 100%|███████████████████████████████████| 14/14 [00:02<00:00,  6.64it/s, loss=0.0475]\n",
      "Training  : 100%|███████████████████████████████████| 14/14 [00:02<00:00,  6.52it/s, loss=0.0504]\n",
      "Training  : 100%|███████████████████████████████████| 14/14 [00:02<00:00,  6.67it/s, loss=0.0539]\n",
      "Training  : 100%|███████████████████████████████████| 14/14 [00:02<00:00,  6.69it/s, loss=0.0507]\n",
      "Training  : 100%|████████████████████████████████████| 14/14 [00:02<00:00,  6.68it/s, loss=0.051]\n",
      "Training  : 100%|███████████████████████████████████| 14/14 [00:02<00:00,  6.76it/s, loss=0.0461]\n",
      "Training  : 100%|███████████████████████████████████| 14/14 [00:02<00:00,  6.65it/s, loss=0.0515]\n",
      "Training  : 100%|███████████████████████████████████| 14/14 [00:02<00:00,  6.70it/s, loss=0.0573]\n",
      "Training  : 100%|███████████████████████████████████| 14/14 [00:02<00:00,  6.74it/s, loss=0.0487]\n",
      "Training  : 100%|███████████████████████████████████| 14/14 [00:02<00:00,  6.75it/s, loss=0.0482]\n",
      "Training  : 100%|███████████████████████████████████| 14/14 [00:02<00:00,  6.69it/s, loss=0.0484]\n",
      "Training  : 100%|███████████████████████████████████| 14/14 [00:02<00:00,  6.71it/s, loss=0.0515]\n",
      "Training  : 100%|███████████████████████████████████| 14/14 [00:02<00:00,  6.75it/s, loss=0.0483]\n",
      "Training  : 100%|███████████████████████████████████| 14/14 [00:02<00:00,  6.76it/s, loss=0.0476]\n",
      "Training  : 100%|███████████████████████████████████| 14/14 [00:02<00:00,  6.65it/s, loss=0.0527]\n",
      "Training  : 100%|████████████████████████████████████| 14/14 [00:02<00:00,  6.62it/s, loss=0.056]\n",
      "Training  : 100%|███████████████████████████████████| 14/14 [00:02<00:00,  6.74it/s, loss=0.0579]\n",
      "Training  : 100%|███████████████████████████████████| 14/14 [00:02<00:00,  6.71it/s, loss=0.0486]\n",
      "Training  : 100%|███████████████████████████████████| 14/14 [00:02<00:00,  6.71it/s, loss=0.0487]\n",
      "Training  : 100%|███████████████████████████████████| 14/14 [00:02<00:00,  6.68it/s, loss=0.0501]\n",
      "Training  : 100%|███████████████████████████████████| 14/14 [00:02<00:00,  6.71it/s, loss=0.0487]\n",
      "Training  : 100%|████████████████████████████████████| 14/14 [00:02<00:00,  6.71it/s, loss=0.045]\n",
      "Training  : 100%|███████████████████████████████████| 14/14 [00:02<00:00,  6.72it/s, loss=0.0461]\n",
      "Training  : 100%|████████████████████████████████████| 14/14 [00:02<00:00,  6.74it/s, loss=0.046]\n",
      "Training  : 100%|███████████████████████████████████| 14/14 [00:02<00:00,  6.75it/s, loss=0.0474]\n",
      "Training  : 100%|███████████████████████████████████| 14/14 [00:02<00:00,  6.72it/s, loss=0.0482]\n",
      "Training  : 100%|███████████████████████████████████| 14/14 [00:02<00:00,  6.72it/s, loss=0.0467]\n",
      "Training  : 100%|███████████████████████████████████| 14/14 [00:02<00:00,  6.72it/s, loss=0.0483]\n",
      "Predicting: 100%|████████████████████████████████████████████████| 27/27 [00:00<00:00, 51.91it/s]\n"
     ]
    },
    {
     "name": "stdout",
     "output_type": "stream",
     "text": [
      "Building sklearn text classifier...\n",
      "Loading bert-base-uncased model...\n",
      "Defaulting to linear classifier/regressor\n",
      "Loading Pytorch checkpoint\n",
      "train data size: 428, validation data size: 0\n"
     ]
    },
    {
     "name": "stderr",
     "output_type": "stream",
     "text": [
      "Training  : 100%|████████████████████████████████████| 14/14 [00:02<00:00,  6.57it/s, loss=0.541]\n",
      "Training  : 100%|████████████████████████████████████| 14/14 [00:02<00:00,  6.67it/s, loss=0.273]\n",
      "Training  : 100%|████████████████████████████████████| 14/14 [00:02<00:00,  6.58it/s, loss=0.223]\n",
      "Training  : 100%|████████████████████████████████████| 14/14 [00:02<00:00,  6.65it/s, loss=0.155]\n",
      "Training  : 100%|████████████████████████████████████| 14/14 [00:02<00:00,  6.69it/s, loss=0.136]\n",
      "Training  : 100%|████████████████████████████████████| 14/14 [00:02<00:00,  6.69it/s, loss=0.113]\n",
      "Training  : 100%|███████████████████████████████████| 14/14 [00:02<00:00,  6.68it/s, loss=0.0799]\n",
      "Training  : 100%|███████████████████████████████████| 14/14 [00:02<00:00,  6.62it/s, loss=0.0721]\n",
      "Training  : 100%|████████████████████████████████████| 14/14 [00:02<00:00,  6.60it/s, loss=0.143]\n",
      "Training  : 100%|███████████████████████████████████| 14/14 [00:02<00:00,  6.68it/s, loss=0.0775]\n",
      "Training  : 100%|███████████████████████████████████| 14/14 [00:02<00:00,  6.63it/s, loss=0.0723]\n",
      "Training  : 100%|███████████████████████████████████| 14/14 [00:02<00:00,  6.62it/s, loss=0.0672]\n",
      "Training  : 100%|███████████████████████████████████| 14/14 [00:02<00:00,  6.65it/s, loss=0.0615]\n",
      "Training  : 100%|███████████████████████████████████| 14/14 [00:02<00:00,  6.62it/s, loss=0.0518]\n",
      "Training  : 100%|███████████████████████████████████| 14/14 [00:02<00:00,  6.63it/s, loss=0.0591]\n",
      "Training  : 100%|███████████████████████████████████| 14/14 [00:02<00:00,  6.64it/s, loss=0.0573]\n",
      "Training  : 100%|███████████████████████████████████| 14/14 [00:02<00:00,  6.62it/s, loss=0.0536]\n",
      "Training  : 100%|███████████████████████████████████| 14/14 [00:02<00:00,  6.67it/s, loss=0.0575]\n",
      "Training  : 100%|███████████████████████████████████| 14/14 [00:02<00:00,  6.63it/s, loss=0.0559]\n",
      "Training  : 100%|████████████████████████████████████| 14/14 [00:02<00:00,  6.62it/s, loss=0.048]\n",
      "Training  : 100%|███████████████████████████████████| 14/14 [00:02<00:00,  6.69it/s, loss=0.0473]\n",
      "Training  : 100%|███████████████████████████████████| 14/14 [00:02<00:00,  6.72it/s, loss=0.0434]\n",
      "Training  : 100%|███████████████████████████████████| 14/14 [00:02<00:00,  6.69it/s, loss=0.0587]\n",
      "Training  : 100%|███████████████████████████████████| 14/14 [00:02<00:00,  6.64it/s, loss=0.0559]\n",
      "Training  : 100%|███████████████████████████████████| 14/14 [00:02<00:00,  6.67it/s, loss=0.0465]\n",
      "Training  : 100%|███████████████████████████████████| 14/14 [00:02<00:00,  6.62it/s, loss=0.0445]\n",
      "Training  : 100%|███████████████████████████████████| 14/14 [00:02<00:00,  6.68it/s, loss=0.0579]\n",
      "Training  : 100%|███████████████████████████████████| 14/14 [00:02<00:00,  6.61it/s, loss=0.0464]\n",
      "Training  : 100%|███████████████████████████████████| 14/14 [00:02<00:00,  6.60it/s, loss=0.0394]\n",
      "Training  : 100%|███████████████████████████████████| 14/14 [00:02<00:00,  6.59it/s, loss=0.0555]\n",
      "Training  : 100%|███████████████████████████████████| 14/14 [00:02<00:00,  6.62it/s, loss=0.0494]\n",
      "Training  : 100%|███████████████████████████████████| 14/14 [00:02<00:00,  6.67it/s, loss=0.0401]\n",
      "Training  : 100%|███████████████████████████████████| 14/14 [00:02<00:00,  6.68it/s, loss=0.0477]\n",
      "Training  : 100%|███████████████████████████████████| 14/14 [00:02<00:00,  6.66it/s, loss=0.0409]\n",
      "Training  : 100%|███████████████████████████████████| 14/14 [00:02<00:00,  6.67it/s, loss=0.0411]\n",
      "Training  : 100%|████████████████████████████████████| 14/14 [00:02<00:00,  6.61it/s, loss=0.045]\n",
      "Training  : 100%|███████████████████████████████████| 14/14 [00:02<00:00,  6.63it/s, loss=0.0502]\n",
      "Training  : 100%|███████████████████████████████████| 14/14 [00:02<00:00,  6.64it/s, loss=0.0419]\n",
      "Training  : 100%|███████████████████████████████████| 14/14 [00:02<00:00,  6.63it/s, loss=0.0397]\n",
      "Training  : 100%|███████████████████████████████████| 14/14 [00:02<00:00,  6.64it/s, loss=0.0375]\n",
      "Training  : 100%|███████████████████████████████████| 14/14 [00:02<00:00,  6.65it/s, loss=0.0579]\n",
      "Training  : 100%|███████████████████████████████████| 14/14 [00:02<00:00,  6.66it/s, loss=0.0416]\n",
      "Training  : 100%|███████████████████████████████████| 14/14 [00:02<00:00,  6.65it/s, loss=0.0481]\n",
      "Training  : 100%|███████████████████████████████████| 14/14 [00:02<00:00,  6.64it/s, loss=0.0395]\n",
      "Training  : 100%|████████████████████████████████████| 14/14 [00:02<00:00,  6.56it/s, loss=0.041]\n",
      "Training  : 100%|███████████████████████████████████| 14/14 [00:02<00:00,  6.68it/s, loss=0.0436]\n",
      "Training  : 100%|███████████████████████████████████| 14/14 [00:02<00:00,  6.61it/s, loss=0.0445]\n",
      "Training  : 100%|███████████████████████████████████| 14/14 [00:02<00:00,  6.64it/s, loss=0.0417]\n",
      "Training  : 100%|███████████████████████████████████| 14/14 [00:02<00:00,  6.63it/s, loss=0.0399]\n",
      "Training  : 100%|███████████████████████████████████| 14/14 [00:02<00:00,  6.62it/s, loss=0.0424]\n",
      "Training  : 100%|███████████████████████████████████| 14/14 [00:02<00:00,  6.65it/s, loss=0.0457]\n",
      "Training  : 100%|███████████████████████████████████| 14/14 [00:02<00:00,  6.66it/s, loss=0.0373]\n",
      "Training  : 100%|███████████████████████████████████| 14/14 [00:02<00:00,  6.64it/s, loss=0.0396]\n",
      "Training  : 100%|███████████████████████████████████| 14/14 [00:02<00:00,  6.66it/s, loss=0.0415]\n",
      "Training  : 100%|███████████████████████████████████| 14/14 [00:02<00:00,  6.69it/s, loss=0.0407]\n",
      "Training  : 100%|███████████████████████████████████| 14/14 [00:02<00:00,  6.70it/s, loss=0.0399]\n",
      "Training  : 100%|███████████████████████████████████| 14/14 [00:02<00:00,  6.69it/s, loss=0.0399]\n",
      "Training  : 100%|███████████████████████████████████| 14/14 [00:02<00:00,  6.69it/s, loss=0.0417]\n",
      "Training  : 100%|███████████████████████████████████| 14/14 [00:02<00:00,  6.65it/s, loss=0.0436]\n",
      "Training  : 100%|████████████████████████████████████| 14/14 [00:02<00:00,  6.67it/s, loss=0.039]\n",
      "Training  : 100%|███████████████████████████████████| 14/14 [00:02<00:00,  6.65it/s, loss=0.0398]\n",
      "Training  : 100%|███████████████████████████████████| 14/14 [00:02<00:00,  6.56it/s, loss=0.0436]\n",
      "Training  : 100%|███████████████████████████████████| 14/14 [00:02<00:00,  6.64it/s, loss=0.0418]\n",
      "Training  : 100%|███████████████████████████████████| 14/14 [00:02<00:00,  6.71it/s, loss=0.0419]\n",
      "Training  : 100%|███████████████████████████████████| 14/14 [00:02<00:00,  6.69it/s, loss=0.0445]\n",
      "Training  : 100%|███████████████████████████████████| 14/14 [00:02<00:00,  6.61it/s, loss=0.0402]\n",
      "Training  : 100%|███████████████████████████████████| 14/14 [00:02<00:00,  6.67it/s, loss=0.0408]\n",
      "Training  : 100%|███████████████████████████████████| 14/14 [00:02<00:00,  6.71it/s, loss=0.0375]\n",
      "Training  : 100%|███████████████████████████████████| 14/14 [00:02<00:00,  6.47it/s, loss=0.0385]\n",
      "Training  : 100%|███████████████████████████████████| 14/14 [00:02<00:00,  6.06it/s, loss=0.0361]\n",
      "Training  : 100%|███████████████████████████████████| 14/14 [00:02<00:00,  6.65it/s, loss=0.0398]\n",
      "Training  : 100%|███████████████████████████████████| 14/14 [00:02<00:00,  6.66it/s, loss=0.0392]\n",
      "Training  : 100%|███████████████████████████████████| 14/14 [00:02<00:00,  6.66it/s, loss=0.0451]\n",
      "Training  : 100%|███████████████████████████████████| 14/14 [00:02<00:00,  6.66it/s, loss=0.0444]\n",
      "Training  : 100%|███████████████████████████████████| 14/14 [00:02<00:00,  6.66it/s, loss=0.0395]\n",
      "Predicting: 100%|████████████████████████████████████████████████| 27/27 [00:00<00:00, 49.10it/s]\n"
     ]
    },
    {
     "name": "stdout",
     "output_type": "stream",
     "text": [
      "Building sklearn text classifier...\n",
      "Loading bert-base-uncased model...\n",
      "Defaulting to linear classifier/regressor\n",
      "Loading Pytorch checkpoint\n",
      "train data size: 428, validation data size: 0\n"
     ]
    },
    {
     "name": "stderr",
     "output_type": "stream",
     "text": [
      "Training  : 100%|████████████████████████████████████| 14/14 [00:02<00:00,  6.66it/s, loss=0.583]\n",
      "Training  : 100%|████████████████████████████████████| 14/14 [00:02<00:00,  6.52it/s, loss=0.376]\n",
      "Training  : 100%|████████████████████████████████████| 14/14 [00:02<00:00,  6.65it/s, loss=0.249]\n",
      "Training  : 100%|████████████████████████████████████| 14/14 [00:02<00:00,  6.63it/s, loss=0.195]\n",
      "Training  : 100%|████████████████████████████████████| 14/14 [00:02<00:00,  6.56it/s, loss=0.159]\n",
      "Training  : 100%|████████████████████████████████████| 14/14 [00:02<00:00,  6.62it/s, loss=0.135]\n",
      "Training  : 100%|█████████████████████████████████████| 14/14 [00:02<00:00,  6.64it/s, loss=0.11]\n",
      "Training  : 100%|████████████████████████████████████| 14/14 [00:02<00:00,  6.63it/s, loss=0.103]\n",
      "Training  : 100%|███████████████████████████████████| 14/14 [00:02<00:00,  6.61it/s, loss=0.0962]\n",
      "Training  : 100%|███████████████████████████████████| 14/14 [00:02<00:00,  6.62it/s, loss=0.0911]\n",
      "Training  : 100%|███████████████████████████████████| 14/14 [00:02<00:00,  6.67it/s, loss=0.0895]\n",
      "Training  : 100%|███████████████████████████████████| 14/14 [00:02<00:00,  6.67it/s, loss=0.0995]\n",
      "Training  : 100%|████████████████████████████████████| 14/14 [00:02<00:00,  6.68it/s, loss=0.105]\n",
      "Training  : 100%|███████████████████████████████████| 14/14 [00:02<00:00,  6.66it/s, loss=0.0734]\n",
      "Training  : 100%|███████████████████████████████████| 14/14 [00:02<00:00,  6.67it/s, loss=0.0678]\n",
      "Training  : 100%|███████████████████████████████████| 14/14 [00:02<00:00,  6.64it/s, loss=0.0693]\n",
      "Training  : 100%|███████████████████████████████████| 14/14 [00:02<00:00,  6.65it/s, loss=0.0602]\n",
      "Training  : 100%|███████████████████████████████████| 14/14 [00:02<00:00,  6.59it/s, loss=0.0618]\n",
      "Training  : 100%|███████████████████████████████████| 14/14 [00:02<00:00,  6.64it/s, loss=0.0674]\n",
      "Training  : 100%|███████████████████████████████████| 14/14 [00:02<00:00,  6.67it/s, loss=0.0638]\n",
      "Training  : 100%|███████████████████████████████████| 14/14 [00:02<00:00,  6.61it/s, loss=0.0582]\n",
      "Training  : 100%|███████████████████████████████████| 14/14 [00:02<00:00,  6.54it/s, loss=0.0572]\n",
      "Training  : 100%|███████████████████████████████████| 14/14 [00:02<00:00,  6.66it/s, loss=0.0684]\n",
      "Training  : 100%|███████████████████████████████████| 14/14 [00:02<00:00,  6.68it/s, loss=0.0657]\n",
      "Training  : 100%|███████████████████████████████████| 14/14 [00:02<00:00,  6.70it/s, loss=0.0567]\n",
      "Training  : 100%|███████████████████████████████████| 14/14 [00:02<00:00,  6.66it/s, loss=0.0556]\n",
      "Training  : 100%|███████████████████████████████████| 14/14 [00:02<00:00,  6.63it/s, loss=0.0546]\n",
      "Training  : 100%|███████████████████████████████████| 14/14 [00:02<00:00,  6.70it/s, loss=0.0574]\n",
      "Training  : 100%|███████████████████████████████████| 14/14 [00:02<00:00,  6.67it/s, loss=0.0592]\n",
      "Training  : 100%|███████████████████████████████████| 14/14 [00:02<00:00,  6.69it/s, loss=0.0569]\n",
      "Training  : 100%|███████████████████████████████████| 14/14 [00:02<00:00,  6.66it/s, loss=0.0517]\n",
      "Training  : 100%|███████████████████████████████████| 14/14 [00:02<00:00,  6.58it/s, loss=0.0633]\n",
      "Training  : 100%|███████████████████████████████████| 14/14 [00:02<00:00,  6.63it/s, loss=0.0596]\n",
      "Training  : 100%|███████████████████████████████████| 14/14 [00:02<00:00,  6.63it/s, loss=0.0632]\n",
      "Training  : 100%|███████████████████████████████████| 14/14 [00:02<00:00,  6.59it/s, loss=0.0581]\n",
      "Training  : 100%|████████████████████████████████████| 14/14 [00:02<00:00,  6.63it/s, loss=0.048]\n",
      "Training  : 100%|███████████████████████████████████| 14/14 [00:02<00:00,  6.67it/s, loss=0.0596]\n",
      "Training  : 100%|███████████████████████████████████| 14/14 [00:02<00:00,  6.66it/s, loss=0.0503]\n",
      "Training  : 100%|███████████████████████████████████| 14/14 [00:02<00:00,  6.65it/s, loss=0.0479]\n",
      "Training  : 100%|███████████████████████████████████| 14/14 [00:02<00:00,  6.66it/s, loss=0.0485]\n",
      "Training  : 100%|███████████████████████████████████| 14/14 [00:02<00:00,  6.54it/s, loss=0.0458]\n",
      "Training  : 100%|███████████████████████████████████| 14/14 [00:02<00:00,  6.63it/s, loss=0.0543]\n",
      "Training  : 100%|███████████████████████████████████| 14/14 [00:02<00:00,  6.67it/s, loss=0.0486]\n",
      "Training  : 100%|███████████████████████████████████| 14/14 [00:02<00:00,  6.51it/s, loss=0.0509]\n",
      "Training  : 100%|███████████████████████████████████| 14/14 [00:02<00:00,  6.65it/s, loss=0.0497]\n",
      "Training  : 100%|███████████████████████████████████| 14/14 [00:02<00:00,  6.60it/s, loss=0.0545]\n",
      "Training  : 100%|███████████████████████████████████| 14/14 [00:02<00:00,  6.66it/s, loss=0.0487]\n",
      "Training  : 100%|███████████████████████████████████| 14/14 [00:02<00:00,  6.65it/s, loss=0.0475]\n",
      "Training  : 100%|███████████████████████████████████| 14/14 [00:02<00:00,  6.66it/s, loss=0.0464]\n",
      "Training  : 100%|███████████████████████████████████| 14/14 [00:02<00:00,  6.68it/s, loss=0.0555]\n",
      "Training  : 100%|███████████████████████████████████| 14/14 [00:02<00:00,  6.60it/s, loss=0.0486]\n",
      "Training  : 100%|███████████████████████████████████| 14/14 [00:02<00:00,  6.65it/s, loss=0.0613]\n",
      "Training  : 100%|███████████████████████████████████| 14/14 [00:02<00:00,  6.58it/s, loss=0.0499]\n",
      "Training  : 100%|███████████████████████████████████| 14/14 [00:02<00:00,  6.71it/s, loss=0.0459]\n",
      "Training  : 100%|███████████████████████████████████| 14/14 [00:02<00:00,  6.65it/s, loss=0.0592]\n",
      "Training  : 100%|███████████████████████████████████| 14/14 [00:02<00:00,  6.63it/s, loss=0.0479]\n",
      "Training  : 100%|████████████████████████████████████| 14/14 [00:02<00:00,  6.64it/s, loss=0.054]\n",
      "Training  : 100%|███████████████████████████████████| 14/14 [00:02<00:00,  6.65it/s, loss=0.0448]\n",
      "Training  : 100%|███████████████████████████████████| 14/14 [00:02<00:00,  6.59it/s, loss=0.0461]\n",
      "Training  : 100%|███████████████████████████████████| 14/14 [00:02<00:00,  6.64it/s, loss=0.0483]\n",
      "Training  : 100%|███████████████████████████████████| 14/14 [00:02<00:00,  6.62it/s, loss=0.0503]\n",
      "Training  : 100%|███████████████████████████████████| 14/14 [00:02<00:00,  6.64it/s, loss=0.0464]\n",
      "Training  : 100%|████████████████████████████████████| 14/14 [00:02<00:00,  6.64it/s, loss=0.048]\n",
      "Training  : 100%|███████████████████████████████████| 14/14 [00:02<00:00,  6.62it/s, loss=0.0583]\n",
      "Training  : 100%|███████████████████████████████████| 14/14 [00:02<00:00,  6.64it/s, loss=0.0471]\n",
      "Training  : 100%|███████████████████████████████████| 14/14 [00:02<00:00,  6.65it/s, loss=0.0469]\n",
      "Training  : 100%|███████████████████████████████████| 14/14 [00:02<00:00,  6.64it/s, loss=0.0524]\n",
      "Training  : 100%|████████████████████████████████████| 14/14 [00:02<00:00,  6.61it/s, loss=0.046]\n",
      "Training  : 100%|███████████████████████████████████| 14/14 [00:02<00:00,  6.66it/s, loss=0.0493]\n",
      "Training  : 100%|███████████████████████████████████| 14/14 [00:02<00:00,  6.67it/s, loss=0.0534]\n",
      "Training  : 100%|███████████████████████████████████| 14/14 [00:02<00:00,  6.65it/s, loss=0.0501]\n",
      "Training  : 100%|███████████████████████████████████| 14/14 [00:02<00:00,  6.67it/s, loss=0.0484]\n",
      "Training  : 100%|███████████████████████████████████| 14/14 [00:02<00:00,  6.68it/s, loss=0.0476]\n",
      "Training  : 100%|███████████████████████████████████| 14/14 [00:02<00:00,  6.68it/s, loss=0.0463]\n",
      "Training  : 100%|███████████████████████████████████| 14/14 [00:02<00:00,  6.68it/s, loss=0.0485]\n",
      "Predicting: 100%|████████████████████████████████████████████████| 27/27 [00:00<00:00, 52.05it/s]\n"
     ]
    },
    {
     "name": "stdout",
     "output_type": "stream",
     "text": [
      "Building sklearn text classifier...\n",
      "Loading bert-base-uncased model...\n",
      "Defaulting to linear classifier/regressor\n",
      "Loading Pytorch checkpoint\n",
      "train data size: 428, validation data size: 0\n"
     ]
    },
    {
     "name": "stderr",
     "output_type": "stream",
     "text": [
      "Training  : 100%|█████████████████████████████████████| 14/14 [00:02<00:00,  6.64it/s, loss=0.58]\n",
      "Training  : 100%|████████████████████████████████████| 14/14 [00:02<00:00,  6.57it/s, loss=0.375]\n",
      "Training  : 100%|████████████████████████████████████| 14/14 [00:02<00:00,  6.51it/s, loss=0.248]\n",
      "Training  : 100%|████████████████████████████████████| 14/14 [00:02<00:00,  6.55it/s, loss=0.197]\n",
      "Training  : 100%|████████████████████████████████████| 14/14 [00:02<00:00,  6.64it/s, loss=0.143]\n",
      "Training  : 100%|████████████████████████████████████| 14/14 [00:02<00:00,  6.63it/s, loss=0.129]\n",
      "Training  : 100%|████████████████████████████████████| 14/14 [00:02<00:00,  6.57it/s, loss=0.116]\n",
      "Training  : 100%|████████████████████████████████████| 14/14 [00:02<00:00,  6.62it/s, loss=0.101]\n",
      "Training  : 100%|████████████████████████████████████| 14/14 [00:02<00:00,  6.63it/s, loss=0.118]\n",
      "Training  : 100%|███████████████████████████████████| 14/14 [00:02<00:00,  6.58it/s, loss=0.0935]\n",
      "Training  : 100%|███████████████████████████████████| 14/14 [00:02<00:00,  6.66it/s, loss=0.0843]\n",
      "Training  : 100%|███████████████████████████████████| 14/14 [00:02<00:00,  6.63it/s, loss=0.0739]\n",
      "Training  : 100%|███████████████████████████████████| 14/14 [00:02<00:00,  6.66it/s, loss=0.0766]\n",
      "Training  : 100%|███████████████████████████████████| 14/14 [00:02<00:00,  6.68it/s, loss=0.0678]\n",
      "Training  : 100%|███████████████████████████████████| 14/14 [00:02<00:00,  6.62it/s, loss=0.0645]\n",
      "Training  : 100%|███████████████████████████████████| 14/14 [00:02<00:00,  6.52it/s, loss=0.0653]\n",
      "Training  : 100%|███████████████████████████████████| 14/14 [00:02<00:00,  6.65it/s, loss=0.0603]\n",
      "Training  : 100%|███████████████████████████████████| 14/14 [00:02<00:00,  6.63it/s, loss=0.0644]\n",
      "Training  : 100%|███████████████████████████████████| 14/14 [00:02<00:00,  6.61it/s, loss=0.0645]\n",
      "Training  : 100%|███████████████████████████████████| 14/14 [00:02<00:00,  6.63it/s, loss=0.0626]\n",
      "Training  : 100%|███████████████████████████████████| 14/14 [00:02<00:00,  6.62it/s, loss=0.0598]\n",
      "Training  : 100%|███████████████████████████████████| 14/14 [00:02<00:00,  6.66it/s, loss=0.0579]\n",
      "Training  : 100%|███████████████████████████████████| 14/14 [00:02<00:00,  6.63it/s, loss=0.0583]\n",
      "Training  : 100%|███████████████████████████████████| 14/14 [00:02<00:00,  6.69it/s, loss=0.0636]\n",
      "Training  : 100%|███████████████████████████████████| 14/14 [00:02<00:00,  6.57it/s, loss=0.0545]\n",
      "Training  : 100%|███████████████████████████████████| 14/14 [00:02<00:00,  6.62it/s, loss=0.0548]\n",
      "Training  : 100%|███████████████████████████████████| 14/14 [00:02<00:00,  6.64it/s, loss=0.0524]\n",
      "Training  : 100%|███████████████████████████████████| 14/14 [00:02<00:00,  6.62it/s, loss=0.0565]\n",
      "Training  : 100%|███████████████████████████████████| 14/14 [00:02<00:00,  6.57it/s, loss=0.0498]\n",
      "Training  : 100%|███████████████████████████████████| 14/14 [00:02<00:00,  6.56it/s, loss=0.0636]\n",
      "Training  : 100%|███████████████████████████████████| 14/14 [00:02<00:00,  6.63it/s, loss=0.0543]\n",
      "Training  : 100%|███████████████████████████████████| 14/14 [00:02<00:00,  6.62it/s, loss=0.0645]\n",
      "Training  : 100%|███████████████████████████████████| 14/14 [00:02<00:00,  6.57it/s, loss=0.0568]\n",
      "Training  : 100%|███████████████████████████████████| 14/14 [00:02<00:00,  6.63it/s, loss=0.0589]\n",
      "Training  : 100%|███████████████████████████████████| 14/14 [00:02<00:00,  6.62it/s, loss=0.0563]\n",
      "Training  : 100%|███████████████████████████████████| 14/14 [00:02<00:00,  6.62it/s, loss=0.0479]\n",
      "Training  : 100%|███████████████████████████████████| 14/14 [00:02<00:00,  6.66it/s, loss=0.0709]\n",
      "Training  : 100%|███████████████████████████████████| 14/14 [00:02<00:00,  6.68it/s, loss=0.0514]\n",
      "Training  : 100%|███████████████████████████████████| 14/14 [00:02<00:00,  6.66it/s, loss=0.0488]\n",
      "Training  : 100%|███████████████████████████████████| 14/14 [00:02<00:00,  6.71it/s, loss=0.0487]\n",
      "Training  : 100%|███████████████████████████████████| 14/14 [00:02<00:00,  6.66it/s, loss=0.0518]\n",
      "Training  : 100%|████████████████████████████████████| 14/14 [00:02<00:00,  6.73it/s, loss=0.053]\n",
      "Training  : 100%|███████████████████████████████████| 14/14 [00:02<00:00,  6.65it/s, loss=0.0489]\n",
      "Training  : 100%|███████████████████████████████████| 14/14 [00:02<00:00,  6.63it/s, loss=0.0505]\n",
      "Training  : 100%|███████████████████████████████████| 14/14 [00:02<00:00,  6.68it/s, loss=0.0522]\n",
      "Training  : 100%|███████████████████████████████████| 14/14 [00:02<00:00,  6.64it/s, loss=0.0551]\n",
      "Training  : 100%|███████████████████████████████████| 14/14 [00:02<00:00,  6.73it/s, loss=0.0521]\n",
      "Training  : 100%|███████████████████████████████████| 14/14 [00:02<00:00,  6.69it/s, loss=0.0512]\n",
      "Training  : 100%|███████████████████████████████████| 14/14 [00:02<00:00,  6.73it/s, loss=0.0473]\n",
      "Training  : 100%|███████████████████████████████████| 14/14 [00:02<00:00,  6.71it/s, loss=0.0561]\n",
      "Training  : 100%|███████████████████████████████████| 14/14 [00:02<00:00,  6.64it/s, loss=0.0526]\n",
      "Training  : 100%|███████████████████████████████████| 14/14 [00:02<00:00,  6.74it/s, loss=0.0518]\n",
      "Training  : 100%|███████████████████████████████████| 14/14 [00:02<00:00,  6.67it/s, loss=0.0486]\n",
      "Training  : 100%|████████████████████████████████████| 14/14 [00:02<00:00,  6.71it/s, loss=0.054]\n",
      "Training  : 100%|███████████████████████████████████| 14/14 [00:02<00:00,  6.68it/s, loss=0.0623]\n",
      "Training  : 100%|███████████████████████████████████| 14/14 [00:02<00:00,  6.68it/s, loss=0.0487]\n",
      "Training  : 100%|███████████████████████████████████| 14/14 [00:02<00:00,  6.71it/s, loss=0.0497]\n",
      "Training  : 100%|███████████████████████████████████| 14/14 [00:02<00:00,  6.72it/s, loss=0.0493]\n",
      "Training  : 100%|████████████████████████████████████| 14/14 [00:02<00:00,  6.63it/s, loss=0.051]\n",
      "Training  : 100%|███████████████████████████████████| 14/14 [00:02<00:00,  6.69it/s, loss=0.0488]\n",
      "Training  : 100%|█████████████████████████████████████| 14/14 [00:02<00:00,  6.68it/s, loss=0.05]\n",
      "Training  : 100%|███████████████████████████████████| 14/14 [00:02<00:00,  6.68it/s, loss=0.0533]\n",
      "Training  : 100%|███████████████████████████████████| 14/14 [00:02<00:00,  6.64it/s, loss=0.0539]\n",
      "Training  : 100%|███████████████████████████████████| 14/14 [00:02<00:00,  6.61it/s, loss=0.0605]\n",
      "Training  : 100%|███████████████████████████████████| 14/14 [00:02<00:00,  6.68it/s, loss=0.0529]\n",
      "Training  : 100%|███████████████████████████████████| 14/14 [00:02<00:00,  6.69it/s, loss=0.0495]\n",
      "Training  : 100%|███████████████████████████████████| 14/14 [00:02<00:00,  6.70it/s, loss=0.0492]\n",
      "Training  : 100%|███████████████████████████████████| 14/14 [00:02<00:00,  6.73it/s, loss=0.0483]\n",
      "Training  : 100%|███████████████████████████████████| 14/14 [00:02<00:00,  6.59it/s, loss=0.0466]\n",
      "Training  : 100%|███████████████████████████████████| 14/14 [00:02<00:00,  6.69it/s, loss=0.0507]\n",
      "Training  : 100%|███████████████████████████████████| 14/14 [00:02<00:00,  6.71it/s, loss=0.0456]\n",
      "Training  : 100%|███████████████████████████████████| 14/14 [00:02<00:00,  6.66it/s, loss=0.0512]\n",
      "Training  : 100%|█████████████████████████████████████| 14/14 [00:02<00:00,  6.68it/s, loss=0.05]\n",
      "Training  : 100%|███████████████████████████████████| 14/14 [00:02<00:00,  6.71it/s, loss=0.0497]\n",
      "Training  : 100%|███████████████████████████████████| 14/14 [00:02<00:00,  6.69it/s, loss=0.0499]\n",
      "Predicting: 100%|████████████████████████████████████████████████| 27/27 [00:00<00:00, 52.13it/s]\n"
     ]
    },
    {
     "name": "stdout",
     "output_type": "stream",
     "text": [
      "Building sklearn text classifier...\n",
      "Loading bert-base-uncased model...\n",
      "Defaulting to linear classifier/regressor\n",
      "Loading Pytorch checkpoint\n",
      "train data size: 428, validation data size: 0\n"
     ]
    },
    {
     "name": "stderr",
     "output_type": "stream",
     "text": [
      "Training  : 100%|████████████████████████████████████| 14/14 [00:02<00:00,  6.62it/s, loss=0.596]\n",
      "Training  : 100%|████████████████████████████████████| 14/14 [00:02<00:00,  6.69it/s, loss=0.376]\n",
      "Training  : 100%|████████████████████████████████████| 14/14 [00:02<00:00,  6.66it/s, loss=0.248]\n",
      "Training  : 100%|████████████████████████████████████| 14/14 [00:02<00:00,  6.70it/s, loss=0.189]\n",
      "Training  : 100%|████████████████████████████████████| 14/14 [00:02<00:00,  6.71it/s, loss=0.132]\n",
      "Training  : 100%|████████████████████████████████████| 14/14 [00:02<00:00,  6.67it/s, loss=0.106]\n",
      "Training  : 100%|████████████████████████████████████| 14/14 [00:02<00:00,  6.69it/s, loss=0.097]\n",
      "Training  : 100%|████████████████████████████████████| 14/14 [00:02<00:00,  6.66it/s, loss=0.083]\n",
      "Training  : 100%|███████████████████████████████████| 14/14 [00:02<00:00,  6.58it/s, loss=0.0826]\n",
      "Training  : 100%|███████████████████████████████████| 14/14 [00:02<00:00,  6.74it/s, loss=0.0734]\n",
      "Training  : 100%|███████████████████████████████████| 14/14 [00:02<00:00,  6.69it/s, loss=0.0676]\n",
      "Training  : 100%|███████████████████████████████████| 14/14 [00:02<00:00,  6.67it/s, loss=0.0649]\n",
      "Training  : 100%|███████████████████████████████████| 14/14 [00:02<00:00,  6.68it/s, loss=0.0682]\n",
      "Training  : 100%|███████████████████████████████████| 14/14 [00:02<00:00,  6.68it/s, loss=0.0673]\n",
      "Training  : 100%|███████████████████████████████████| 14/14 [00:02<00:00,  6.68it/s, loss=0.0602]\n",
      "Training  : 100%|███████████████████████████████████| 14/14 [00:02<00:00,  6.68it/s, loss=0.0741]\n",
      "Training  : 100%|███████████████████████████████████| 14/14 [00:02<00:00,  6.69it/s, loss=0.0649]\n",
      "Training  : 100%|███████████████████████████████████| 14/14 [00:02<00:00,  6.68it/s, loss=0.0564]\n",
      "Training  : 100%|███████████████████████████████████| 14/14 [00:02<00:00,  6.68it/s, loss=0.0478]\n",
      "Training  : 100%|███████████████████████████████████| 14/14 [00:02<00:00,  6.68it/s, loss=0.0519]\n",
      "Training  : 100%|████████████████████████████████████| 14/14 [00:02<00:00,  6.75it/s, loss=0.045]\n",
      "Training  : 100%|███████████████████████████████████| 14/14 [00:02<00:00,  6.61it/s, loss=0.0458]\n",
      "Training  : 100%|███████████████████████████████████| 14/14 [00:02<00:00,  6.64it/s, loss=0.0487]\n",
      "Training  : 100%|████████████████████████████████████| 14/14 [00:02<00:00,  6.63it/s, loss=0.046]\n",
      "Training  : 100%|███████████████████████████████████| 14/14 [00:02<00:00,  6.69it/s, loss=0.0431]\n",
      "Training  : 100%|███████████████████████████████████| 14/14 [00:02<00:00,  6.71it/s, loss=0.0429]\n",
      "Training  : 100%|███████████████████████████████████| 14/14 [00:02<00:00,  6.65it/s, loss=0.0466]\n",
      "Training  : 100%|███████████████████████████████████| 14/14 [00:02<00:00,  6.68it/s, loss=0.0496]\n",
      "Training  : 100%|███████████████████████████████████| 14/14 [00:02<00:00,  6.68it/s, loss=0.0405]\n",
      "Training  : 100%|███████████████████████████████████| 14/14 [00:02<00:00,  6.67it/s, loss=0.0541]\n",
      "Training  : 100%|███████████████████████████████████| 14/14 [00:02<00:00,  6.63it/s, loss=0.0551]\n",
      "Training  : 100%|███████████████████████████████████| 14/14 [00:02<00:00,  6.70it/s, loss=0.0466]\n",
      "Training  : 100%|███████████████████████████████████| 14/14 [00:02<00:00,  6.69it/s, loss=0.0479]\n",
      "Training  : 100%|███████████████████████████████████| 14/14 [00:02<00:00,  6.67it/s, loss=0.0435]\n",
      "Training  : 100%|███████████████████████████████████| 14/14 [00:02<00:00,  6.68it/s, loss=0.0381]\n",
      "Training  : 100%|███████████████████████████████████| 14/14 [00:02<00:00,  6.65it/s, loss=0.0479]\n",
      "Training  : 100%|███████████████████████████████████| 14/14 [00:02<00:00,  6.65it/s, loss=0.0498]\n",
      "Training  : 100%|███████████████████████████████████| 14/14 [00:02<00:00,  6.70it/s, loss=0.0424]\n",
      "Training  : 100%|███████████████████████████████████| 14/14 [00:02<00:00,  6.64it/s, loss=0.0397]\n",
      "Training  : 100%|███████████████████████████████████| 14/14 [00:02<00:00,  6.45it/s, loss=0.0393]\n",
      "Training  : 100%|████████████████████████████████████| 14/14 [00:02<00:00,  6.39it/s, loss=0.044]\n",
      "Training  : 100%|███████████████████████████████████| 14/14 [00:02<00:00,  6.68it/s, loss=0.0391]\n",
      "Training  : 100%|███████████████████████████████████| 14/14 [00:02<00:00,  6.65it/s, loss=0.0509]\n",
      "Training  : 100%|███████████████████████████████████| 14/14 [00:02<00:00,  6.64it/s, loss=0.0398]\n",
      "Training  : 100%|███████████████████████████████████| 14/14 [00:02<00:00,  6.69it/s, loss=0.0417]\n",
      "Training  : 100%|███████████████████████████████████| 14/14 [00:02<00:00,  6.65it/s, loss=0.0456]\n",
      "Training  : 100%|███████████████████████████████████| 14/14 [00:02<00:00,  6.66it/s, loss=0.0439]\n",
      "Training  : 100%|███████████████████████████████████| 14/14 [00:02<00:00,  6.70it/s, loss=0.0429]\n",
      "Training  : 100%|███████████████████████████████████| 14/14 [00:02<00:00,  6.61it/s, loss=0.0443]\n",
      "Training  : 100%|███████████████████████████████████| 14/14 [00:02<00:00,  6.74it/s, loss=0.0407]\n",
      "Training  : 100%|████████████████████████████████████| 14/14 [00:02<00:00,  6.66it/s, loss=0.043]\n",
      "Training  : 100%|███████████████████████████████████| 14/14 [00:02<00:00,  6.70it/s, loss=0.0398]\n",
      "Training  : 100%|███████████████████████████████████| 14/14 [00:02<00:00,  6.66it/s, loss=0.0389]\n",
      "Training  : 100%|███████████████████████████████████| 14/14 [00:02<00:00,  6.72it/s, loss=0.0436]\n",
      "Training  : 100%|███████████████████████████████████| 14/14 [00:02<00:00,  6.73it/s, loss=0.0407]\n",
      "Training  : 100%|███████████████████████████████████| 14/14 [00:02<00:00,  6.72it/s, loss=0.0423]\n",
      "Training  : 100%|███████████████████████████████████| 14/14 [00:02<00:00,  6.64it/s, loss=0.0385]\n",
      "Training  : 100%|███████████████████████████████████| 14/14 [00:02<00:00,  6.73it/s, loss=0.0446]\n",
      "Training  : 100%|███████████████████████████████████| 14/14 [00:02<00:00,  6.73it/s, loss=0.0446]\n",
      "Training  : 100%|███████████████████████████████████| 14/14 [00:02<00:00,  6.67it/s, loss=0.0418]\n",
      "Training  : 100%|███████████████████████████████████| 14/14 [00:02<00:00,  6.66it/s, loss=0.0393]\n",
      "Training  : 100%|███████████████████████████████████| 14/14 [00:02<00:00,  6.71it/s, loss=0.0452]\n",
      "Training  : 100%|███████████████████████████████████| 14/14 [00:02<00:00,  6.66it/s, loss=0.0425]\n",
      "Training  : 100%|███████████████████████████████████| 14/14 [00:02<00:00,  6.73it/s, loss=0.0426]\n",
      "Training  : 100%|███████████████████████████████████| 14/14 [00:02<00:00,  6.69it/s, loss=0.0428]\n",
      "Training  : 100%|███████████████████████████████████| 14/14 [00:02<00:00,  6.71it/s, loss=0.0411]\n",
      "Training  : 100%|███████████████████████████████████| 14/14 [00:02<00:00,  6.71it/s, loss=0.0409]\n",
      "Training  : 100%|███████████████████████████████████| 14/14 [00:02<00:00,  6.74it/s, loss=0.0387]\n",
      "Training  : 100%|███████████████████████████████████| 14/14 [00:02<00:00,  6.70it/s, loss=0.0417]\n",
      "Training  : 100%|███████████████████████████████████| 14/14 [00:02<00:00,  6.73it/s, loss=0.0386]\n",
      "Training  : 100%|███████████████████████████████████| 14/14 [00:02<00:00,  6.72it/s, loss=0.0398]\n",
      "Training  : 100%|███████████████████████████████████| 14/14 [00:02<00:00,  6.62it/s, loss=0.0393]\n",
      "Training  : 100%|███████████████████████████████████| 14/14 [00:02<00:00,  6.69it/s, loss=0.0454]\n",
      "Training  : 100%|███████████████████████████████████| 14/14 [00:02<00:00,  6.67it/s, loss=0.0447]\n",
      "Training  : 100%|███████████████████████████████████| 14/14 [00:02<00:00,  6.65it/s, loss=0.0429]\n",
      "Predicting: 100%|████████████████████████████████████████████████| 27/27 [00:00<00:00, 54.14it/s]\n"
     ]
    },
    {
     "name": "stdout",
     "output_type": "stream",
     "text": [
      "Building sklearn text classifier...\n",
      "Loading bert-base-uncased model...\n",
      "Defaulting to linear classifier/regressor\n",
      "Loading Pytorch checkpoint\n",
      "train data size: 428, validation data size: 0\n"
     ]
    },
    {
     "name": "stderr",
     "output_type": "stream",
     "text": [
      "Training  : 100%|████████████████████████████████████| 14/14 [00:02<00:00,  6.71it/s, loss=0.567]\n",
      "Training  : 100%|████████████████████████████████████| 14/14 [00:02<00:00,  6.61it/s, loss=0.335]\n",
      "Training  : 100%|████████████████████████████████████| 14/14 [00:02<00:00,  6.63it/s, loss=0.235]\n",
      "Training  : 100%|████████████████████████████████████| 14/14 [00:02<00:00,  6.62it/s, loss=0.205]\n",
      "Training  : 100%|████████████████████████████████████| 14/14 [00:02<00:00,  6.62it/s, loss=0.143]\n",
      "Training  : 100%|████████████████████████████████████| 14/14 [00:02<00:00,  6.63it/s, loss=0.137]\n",
      "Training  : 100%|███████████████████████████████████| 14/14 [00:02<00:00,  6.57it/s, loss=0.0952]\n",
      "Training  : 100%|███████████████████████████████████| 14/14 [00:02<00:00,  6.68it/s, loss=0.0923]\n",
      "Training  : 100%|███████████████████████████████████| 14/14 [00:02<00:00,  6.60it/s, loss=0.0957]\n",
      "Training  : 100%|███████████████████████████████████| 14/14 [00:02<00:00,  6.69it/s, loss=0.0884]\n",
      "Training  : 100%|███████████████████████████████████| 14/14 [00:02<00:00,  6.70it/s, loss=0.0742]\n",
      "Training  : 100%|███████████████████████████████████| 14/14 [00:02<00:00,  6.63it/s, loss=0.0814]\n",
      "Training  : 100%|███████████████████████████████████| 14/14 [00:02<00:00,  6.63it/s, loss=0.0734]\n",
      "Training  : 100%|███████████████████████████████████| 14/14 [00:02<00:00,  6.61it/s, loss=0.0625]\n",
      "Training  : 100%|███████████████████████████████████| 14/14 [00:02<00:00,  6.58it/s, loss=0.0683]\n",
      "Training  : 100%|███████████████████████████████████| 14/14 [00:02<00:00,  6.54it/s, loss=0.0675]\n",
      "Training  : 100%|███████████████████████████████████| 14/14 [00:02<00:00,  6.60it/s, loss=0.0747]\n",
      "Training  : 100%|███████████████████████████████████| 14/14 [00:02<00:00,  6.61it/s, loss=0.0606]\n",
      "Training  : 100%|███████████████████████████████████| 14/14 [00:02<00:00,  6.66it/s, loss=0.0583]\n",
      "Training  : 100%|████████████████████████████████████| 14/14 [00:02<00:00,  6.59it/s, loss=0.061]\n",
      "Training  : 100%|███████████████████████████████████| 14/14 [00:02<00:00,  6.63it/s, loss=0.0581]\n",
      "Training  : 100%|███████████████████████████████████| 14/14 [00:02<00:00,  6.63it/s, loss=0.0546]\n",
      "Training  : 100%|███████████████████████████████████| 14/14 [00:02<00:00,  6.65it/s, loss=0.0625]\n",
      "Training  : 100%|███████████████████████████████████| 14/14 [00:02<00:00,  6.61it/s, loss=0.0582]\n",
      "Training  : 100%|███████████████████████████████████| 14/14 [00:02<00:00,  6.60it/s, loss=0.0531]\n",
      "Training  : 100%|███████████████████████████████████| 14/14 [00:02<00:00,  6.61it/s, loss=0.0551]\n",
      "Training  : 100%|███████████████████████████████████| 14/14 [00:02<00:00,  6.65it/s, loss=0.0545]\n",
      "Training  : 100%|███████████████████████████████████| 14/14 [00:02<00:00,  6.55it/s, loss=0.0567]\n",
      "Training  : 100%|███████████████████████████████████| 14/14 [00:02<00:00,  6.59it/s, loss=0.0513]\n",
      "Training  : 100%|███████████████████████████████████| 14/14 [00:02<00:00,  6.66it/s, loss=0.0515]\n",
      "Training  : 100%|███████████████████████████████████| 14/14 [00:02<00:00,  6.65it/s, loss=0.0523]\n",
      "Training  : 100%|███████████████████████████████████| 14/14 [00:02<00:00,  6.66it/s, loss=0.0588]\n",
      "Training  : 100%|███████████████████████████████████| 14/14 [00:02<00:00,  6.60it/s, loss=0.0569]\n",
      "Training  : 100%|███████████████████████████████████| 14/14 [00:02<00:00,  6.56it/s, loss=0.0593]\n",
      "Training  : 100%|███████████████████████████████████| 14/14 [00:02<00:00,  6.62it/s, loss=0.0566]\n",
      "Training  : 100%|███████████████████████████████████| 14/14 [00:02<00:00,  6.61it/s, loss=0.0492]\n",
      "Training  : 100%|███████████████████████████████████| 14/14 [00:02<00:00,  6.64it/s, loss=0.0556]\n",
      "Training  : 100%|███████████████████████████████████| 14/14 [00:02<00:00,  6.66it/s, loss=0.0525]\n",
      "Training  : 100%|███████████████████████████████████| 14/14 [00:02<00:00,  6.60it/s, loss=0.0494]\n",
      "Training  : 100%|███████████████████████████████████| 14/14 [00:02<00:00,  6.61it/s, loss=0.0501]\n",
      "Training  : 100%|███████████████████████████████████| 14/14 [00:02<00:00,  6.67it/s, loss=0.0473]\n",
      "Training  : 100%|███████████████████████████████████| 14/14 [00:02<00:00,  6.64it/s, loss=0.0568]\n",
      "Training  : 100%|███████████████████████████████████| 14/14 [00:02<00:00,  6.62it/s, loss=0.0456]\n",
      "Training  : 100%|███████████████████████████████████| 14/14 [00:02<00:00,  6.64it/s, loss=0.0487]\n",
      "Training  : 100%|███████████████████████████████████| 14/14 [00:02<00:00,  6.66it/s, loss=0.0502]\n",
      "Training  : 100%|███████████████████████████████████| 14/14 [00:02<00:00,  6.59it/s, loss=0.0456]\n",
      "Training  : 100%|███████████████████████████████████| 14/14 [00:02<00:00,  6.61it/s, loss=0.0461]\n",
      "Training  : 100%|███████████████████████████████████| 14/14 [00:02<00:00,  6.68it/s, loss=0.0473]\n",
      "Training  : 100%|███████████████████████████████████| 14/14 [00:02<00:00,  6.60it/s, loss=0.0459]\n",
      "Training  : 100%|███████████████████████████████████| 14/14 [00:02<00:00,  6.58it/s, loss=0.0574]\n",
      "Training  : 100%|███████████████████████████████████| 14/14 [00:02<00:00,  6.65it/s, loss=0.0481]\n",
      "Training  : 100%|███████████████████████████████████| 14/14 [00:02<00:00,  6.60it/s, loss=0.0606]\n",
      "Training  : 100%|███████████████████████████████████| 14/14 [00:02<00:00,  6.62it/s, loss=0.0486]\n",
      "Training  : 100%|███████████████████████████████████| 14/14 [00:02<00:00,  6.60it/s, loss=0.0462]\n",
      "Training  : 100%|███████████████████████████████████| 14/14 [00:02<00:00,  6.61it/s, loss=0.0574]\n",
      "Training  : 100%|████████████████████████████████████| 14/14 [00:02<00:00,  6.59it/s, loss=0.046]\n",
      "Training  : 100%|███████████████████████████████████| 14/14 [00:02<00:00,  6.68it/s, loss=0.0592]\n",
      "Training  : 100%|███████████████████████████████████| 14/14 [00:02<00:00,  6.59it/s, loss=0.0471]\n",
      "Training  : 100%|███████████████████████████████████| 14/14 [00:02<00:00,  6.64it/s, loss=0.0453]\n",
      "Training  : 100%|███████████████████████████████████| 14/14 [00:02<00:00,  6.63it/s, loss=0.0451]\n",
      "Training  : 100%|███████████████████████████████████| 14/14 [00:02<00:00,  6.66it/s, loss=0.0514]\n",
      "Training  : 100%|███████████████████████████████████| 14/14 [00:02<00:00,  6.70it/s, loss=0.0471]\n",
      "Training  : 100%|███████████████████████████████████| 14/14 [00:02<00:00,  6.63it/s, loss=0.0482]\n",
      "Training  : 100%|███████████████████████████████████| 14/14 [00:02<00:00,  6.66it/s, loss=0.0585]\n",
      "Training  : 100%|███████████████████████████████████| 14/14 [00:02<00:00,  6.59it/s, loss=0.0486]\n",
      "Training  : 100%|████████████████████████████████████| 14/14 [00:02<00:00,  6.62it/s, loss=0.047]\n",
      "Training  : 100%|███████████████████████████████████| 14/14 [00:02<00:00,  6.02it/s, loss=0.0529]\n",
      "Training  : 100%|███████████████████████████████████| 14/14 [00:02<00:00,  6.56it/s, loss=0.0464]\n",
      "Training  : 100%|███████████████████████████████████| 14/14 [00:02<00:00,  6.63it/s, loss=0.0462]\n",
      "Training  : 100%|███████████████████████████████████| 14/14 [00:02<00:00,  6.65it/s, loss=0.0524]\n",
      "Training  : 100%|███████████████████████████████████| 14/14 [00:02<00:00,  6.66it/s, loss=0.0475]\n",
      "Training  : 100%|███████████████████████████████████| 14/14 [00:02<00:00,  6.57it/s, loss=0.0438]\n",
      "Training  : 100%|███████████████████████████████████| 14/14 [00:02<00:00,  6.60it/s, loss=0.0445]\n",
      "Training  : 100%|████████████████████████████████████| 14/14 [00:02<00:00,  6.63it/s, loss=0.045]\n",
      "Training  : 100%|███████████████████████████████████| 14/14 [00:02<00:00,  6.67it/s, loss=0.0472]\n",
      "Training  : 100%|███████████████████████████████████| 14/14 [00:02<00:00,  6.67it/s, loss=0.0453]\n",
      "Training  : 100%|███████████████████████████████████| 14/14 [00:02<00:00,  6.66it/s, loss=0.0511]\n",
      "Training  : 100%|███████████████████████████████████| 14/14 [00:02<00:00,  6.61it/s, loss=0.0472]\n",
      "Training  : 100%|███████████████████████████████████| 14/14 [00:02<00:00,  6.57it/s, loss=0.0526]\n",
      "Training  : 100%|███████████████████████████████████| 14/14 [00:02<00:00,  6.65it/s, loss=0.0469]\n",
      "Training  : 100%|████████████████████████████████████| 14/14 [00:02<00:00,  6.61it/s, loss=0.046]\n",
      "Training  : 100%|███████████████████████████████████| 14/14 [00:02<00:00,  6.64it/s, loss=0.0461]\n",
      "Training  : 100%|███████████████████████████████████| 14/14 [00:02<00:00,  6.60it/s, loss=0.0485]\n",
      "Training  : 100%|███████████████████████████████████| 14/14 [00:02<00:00,  6.60it/s, loss=0.0495]\n",
      "Training  : 100%|███████████████████████████████████| 14/14 [00:02<00:00,  6.60it/s, loss=0.0452]\n",
      "Training  : 100%|████████████████████████████████████| 14/14 [00:02<00:00,  6.70it/s, loss=0.046]\n",
      "Training  : 100%|███████████████████████████████████| 14/14 [00:02<00:00,  6.61it/s, loss=0.0449]\n",
      "Training  : 100%|███████████████████████████████████| 14/14 [00:02<00:00,  6.64it/s, loss=0.0498]\n",
      "Training  : 100%|███████████████████████████████████| 14/14 [00:02<00:00,  6.66it/s, loss=0.0499]\n",
      "Training  : 100%|███████████████████████████████████| 14/14 [00:02<00:00,  6.66it/s, loss=0.0448]\n",
      "Training  : 100%|███████████████████████████████████| 14/14 [00:02<00:00,  6.62it/s, loss=0.0488]\n",
      "Training  : 100%|███████████████████████████████████| 14/14 [00:02<00:00,  6.67it/s, loss=0.0484]\n",
      "Training  : 100%|███████████████████████████████████| 14/14 [00:02<00:00,  6.63it/s, loss=0.0471]\n",
      "Training  : 100%|███████████████████████████████████| 14/14 [00:02<00:00,  6.65it/s, loss=0.0439]\n",
      "Training  : 100%|███████████████████████████████████| 14/14 [00:02<00:00,  6.61it/s, loss=0.0454]\n",
      "Training  : 100%|███████████████████████████████████| 14/14 [00:02<00:00,  6.60it/s, loss=0.0452]\n",
      "Training  : 100%|███████████████████████████████████| 14/14 [00:02<00:00,  6.66it/s, loss=0.0463]\n",
      "Training  : 100%|███████████████████████████████████| 14/14 [00:02<00:00,  6.63it/s, loss=0.0493]\n",
      "Training  : 100%|███████████████████████████████████| 14/14 [00:02<00:00,  6.63it/s, loss=0.0472]\n",
      "Training  : 100%|███████████████████████████████████| 14/14 [00:02<00:00,  6.64it/s, loss=0.0487]\n",
      "Predicting: 100%|████████████████████████████████████████████████| 27/27 [00:00<00:00, 50.00it/s]\n"
     ]
    },
    {
     "name": "stdout",
     "output_type": "stream",
     "text": [
      "Building sklearn text classifier...\n",
      "Loading bert-base-uncased model...\n",
      "Defaulting to linear classifier/regressor\n",
      "Loading Pytorch checkpoint\n",
      "train data size: 428, validation data size: 0\n"
     ]
    },
    {
     "name": "stderr",
     "output_type": "stream",
     "text": [
      "Training  : 100%|████████████████████████████████████| 14/14 [00:02<00:00,  6.61it/s, loss=0.565]\n",
      "Training  : 100%|████████████████████████████████████| 14/14 [00:02<00:00,  6.75it/s, loss=0.338]\n",
      "Training  : 100%|████████████████████████████████████| 14/14 [00:02<00:00,  6.76it/s, loss=0.229]\n",
      "Training  : 100%|████████████████████████████████████| 14/14 [00:02<00:00,  6.77it/s, loss=0.199]\n",
      "Training  : 100%|████████████████████████████████████| 14/14 [00:02<00:00,  6.79it/s, loss=0.138]\n",
      "Training  : 100%|████████████████████████████████████| 14/14 [00:02<00:00,  6.73it/s, loss=0.135]\n",
      "Training  : 100%|████████████████████████████████████| 14/14 [00:02<00:00,  6.82it/s, loss=0.123]\n",
      "Training  : 100%|████████████████████████████████████| 14/14 [00:02<00:00,  6.78it/s, loss=0.107]\n",
      "Training  : 100%|████████████████████████████████████| 14/14 [00:02<00:00,  6.78it/s, loss=0.111]\n",
      "Training  : 100%|███████████████████████████████████| 14/14 [00:02<00:00,  6.79it/s, loss=0.0954]\n",
      "Training  : 100%|███████████████████████████████████| 14/14 [00:02<00:00,  6.77it/s, loss=0.0734]\n",
      "Training  : 100%|███████████████████████████████████| 14/14 [00:02<00:00,  6.80it/s, loss=0.0869]\n",
      "Training  : 100%|████████████████████████████████████| 14/14 [00:02<00:00,  6.73it/s, loss=0.072]\n",
      "Training  : 100%|███████████████████████████████████| 14/14 [00:02<00:00,  6.75it/s, loss=0.0661]\n",
      "Training  : 100%|███████████████████████████████████| 14/14 [00:02<00:00,  6.76it/s, loss=0.0651]\n",
      "Training  : 100%|███████████████████████████████████| 14/14 [00:02<00:00,  6.73it/s, loss=0.0645]\n",
      "Training  : 100%|███████████████████████████████████| 14/14 [00:02<00:00,  6.73it/s, loss=0.0617]\n",
      "Training  : 100%|███████████████████████████████████| 14/14 [00:02<00:00,  6.80it/s, loss=0.0643]\n",
      "Training  : 100%|███████████████████████████████████| 14/14 [00:02<00:00,  6.74it/s, loss=0.0683]\n",
      "Training  : 100%|███████████████████████████████████| 14/14 [00:02<00:00,  6.79it/s, loss=0.0573]\n",
      "Training  : 100%|███████████████████████████████████| 14/14 [00:02<00:00,  6.78it/s, loss=0.0569]\n",
      "Training  : 100%|███████████████████████████████████| 14/14 [00:02<00:00,  6.78it/s, loss=0.0589]\n",
      "Training  : 100%|███████████████████████████████████| 14/14 [00:02<00:00,  6.70it/s, loss=0.0617]\n",
      "Training  : 100%|███████████████████████████████████| 14/14 [00:02<00:00,  6.78it/s, loss=0.0717]\n",
      "Training  : 100%|████████████████████████████████████| 14/14 [00:02<00:00,  6.71it/s, loss=0.054]\n",
      "Training  : 100%|███████████████████████████████████| 14/14 [00:02<00:00,  6.82it/s, loss=0.0522]\n",
      "Training  : 100%|███████████████████████████████████| 14/14 [00:02<00:00,  6.76it/s, loss=0.0542]\n",
      "Training  : 100%|███████████████████████████████████| 14/14 [00:02<00:00,  6.80it/s, loss=0.0529]\n",
      "Training  : 100%|████████████████████████████████████| 14/14 [00:02<00:00,  6.73it/s, loss=0.051]\n",
      "Training  : 100%|███████████████████████████████████| 14/14 [00:02<00:00,  6.80it/s, loss=0.0575]\n",
      "Training  : 100%|███████████████████████████████████| 14/14 [00:02<00:00,  6.75it/s, loss=0.0509]\n",
      "Training  : 100%|███████████████████████████████████| 14/14 [00:02<00:00,  6.70it/s, loss=0.0682]\n",
      "Training  : 100%|███████████████████████████████████| 14/14 [00:02<00:00,  6.81it/s, loss=0.0576]\n",
      "Training  : 100%|███████████████████████████████████| 14/14 [00:02<00:00,  6.72it/s, loss=0.0671]\n",
      "Training  : 100%|███████████████████████████████████| 14/14 [00:02<00:00,  6.77it/s, loss=0.0602]\n",
      "Training  : 100%|███████████████████████████████████| 14/14 [00:02<00:00,  6.72it/s, loss=0.0533]\n",
      "Training  : 100%|████████████████████████████████████| 14/14 [00:02<00:00,  6.74it/s, loss=0.078]\n",
      "Training  : 100%|███████████████████████████████████| 14/14 [00:02<00:00,  6.76it/s, loss=0.0535]\n",
      "Training  : 100%|███████████████████████████████████| 14/14 [00:02<00:00,  6.76it/s, loss=0.0523]\n",
      "Training  : 100%|███████████████████████████████████| 14/14 [00:02<00:00,  6.75it/s, loss=0.0473]\n",
      "Training  : 100%|███████████████████████████████████| 14/14 [00:02<00:00,  6.75it/s, loss=0.0519]\n",
      "Training  : 100%|███████████████████████████████████| 14/14 [00:02<00:00,  6.76it/s, loss=0.0531]\n",
      "Training  : 100%|███████████████████████████████████| 14/14 [00:02<00:00,  6.78it/s, loss=0.0483]\n",
      "Training  : 100%|███████████████████████████████████| 14/14 [00:02<00:00,  6.72it/s, loss=0.0495]\n",
      "Training  : 100%|███████████████████████████████████| 14/14 [00:02<00:00,  6.74it/s, loss=0.0517]\n",
      "Training  : 100%|███████████████████████████████████| 14/14 [00:02<00:00,  6.73it/s, loss=0.0559]\n",
      "Training  : 100%|███████████████████████████████████| 14/14 [00:02<00:00,  6.77it/s, loss=0.0511]\n",
      "Training  : 100%|███████████████████████████████████| 14/14 [00:02<00:00,  6.71it/s, loss=0.0479]\n",
      "Training  : 100%|████████████████████████████████████| 14/14 [00:02<00:00,  6.77it/s, loss=0.049]\n",
      "Training  : 100%|███████████████████████████████████| 14/14 [00:02<00:00,  6.69it/s, loss=0.0578]\n",
      "Training  : 100%|███████████████████████████████████| 14/14 [00:02<00:00,  6.75it/s, loss=0.0496]\n",
      "Training  : 100%|███████████████████████████████████| 14/14 [00:02<00:00,  6.82it/s, loss=0.0545]\n",
      "Training  : 100%|███████████████████████████████████| 14/14 [00:02<00:00,  6.76it/s, loss=0.0488]\n",
      "Training  : 100%|███████████████████████████████████| 14/14 [00:02<00:00,  6.80it/s, loss=0.0532]\n",
      "Training  : 100%|████████████████████████████████████| 14/14 [00:02<00:00,  6.74it/s, loss=0.055]\n",
      "Training  : 100%|███████████████████████████████████| 14/14 [00:02<00:00,  6.75it/s, loss=0.0479]\n",
      "Training  : 100%|███████████████████████████████████| 14/14 [00:02<00:00,  6.77it/s, loss=0.0496]\n",
      "Training  : 100%|███████████████████████████████████| 14/14 [00:02<00:00,  6.77it/s, loss=0.0521]\n",
      "Training  : 100%|███████████████████████████████████| 14/14 [00:02<00:00,  6.78it/s, loss=0.0528]\n",
      "Training  : 100%|███████████████████████████████████| 14/14 [00:02<00:00,  6.73it/s, loss=0.0478]\n",
      "Training  : 100%|███████████████████████████████████| 14/14 [00:02<00:00,  6.81it/s, loss=0.0487]\n",
      "Training  : 100%|███████████████████████████████████| 14/14 [00:02<00:00,  6.63it/s, loss=0.0548]\n",
      "Training  : 100%|███████████████████████████████████| 14/14 [00:02<00:00,  6.21it/s, loss=0.0573]\n",
      "Training  : 100%|████████████████████████████████████| 14/14 [00:02<00:00,  6.44it/s, loss=0.059]\n",
      "Training  : 100%|███████████████████████████████████| 14/14 [00:02<00:00,  6.75it/s, loss=0.0519]\n",
      "Training  : 100%|████████████████████████████████████| 14/14 [00:02<00:00,  6.73it/s, loss=0.048]\n",
      "Training  : 100%|███████████████████████████████████| 14/14 [00:02<00:00,  6.77it/s, loss=0.0508]\n",
      "Training  : 100%|███████████████████████████████████| 14/14 [00:02<00:00,  6.74it/s, loss=0.0493]\n",
      "Training  : 100%|███████████████████████████████████| 14/14 [00:02<00:00,  6.82it/s, loss=0.0477]\n",
      "Training  : 100%|███████████████████████████████████| 14/14 [00:02<00:00,  6.75it/s, loss=0.0497]\n",
      "Training  : 100%|███████████████████████████████████| 14/14 [00:02<00:00,  6.73it/s, loss=0.0473]\n",
      "Training  : 100%|████████████████████████████████████| 14/14 [00:02<00:00,  6.77it/s, loss=0.047]\n",
      "Training  : 100%|███████████████████████████████████| 14/14 [00:02<00:00,  6.78it/s, loss=0.0478]\n",
      "Training  : 100%|███████████████████████████████████| 14/14 [00:02<00:00,  6.76it/s, loss=0.0461]\n",
      "Training  : 100%|███████████████████████████████████| 14/14 [00:02<00:00,  6.70it/s, loss=0.0475]\n",
      "Training  : 100%|███████████████████████████████████| 14/14 [00:02<00:00,  6.74it/s, loss=0.0454]\n",
      "Training  : 100%|███████████████████████████████████| 14/14 [00:02<00:00,  6.61it/s, loss=0.0513]\n",
      "Training  : 100%|███████████████████████████████████| 14/14 [00:02<00:00,  6.76it/s, loss=0.0492]\n",
      "Training  : 100%|███████████████████████████████████| 14/14 [00:02<00:00,  6.81it/s, loss=0.0509]\n",
      "Training  : 100%|███████████████████████████████████| 14/14 [00:02<00:00,  6.78it/s, loss=0.0604]\n",
      "Training  : 100%|███████████████████████████████████| 14/14 [00:02<00:00,  6.76it/s, loss=0.0488]\n",
      "Training  : 100%|███████████████████████████████████| 14/14 [00:02<00:00,  6.74it/s, loss=0.0489]\n",
      "Training  : 100%|███████████████████████████████████| 14/14 [00:02<00:00,  6.82it/s, loss=0.0502]\n",
      "Training  : 100%|████████████████████████████████████| 14/14 [00:02<00:00,  6.74it/s, loss=0.047]\n",
      "Training  : 100%|███████████████████████████████████| 14/14 [00:02<00:00,  6.73it/s, loss=0.0473]\n",
      "Training  : 100%|████████████████████████████████████| 14/14 [00:02<00:00,  6.81it/s, loss=0.051]\n",
      "Training  : 100%|███████████████████████████████████| 14/14 [00:02<00:00,  6.75it/s, loss=0.0472]\n",
      "Training  : 100%|███████████████████████████████████| 14/14 [00:02<00:00,  6.75it/s, loss=0.0474]\n",
      "Training  : 100%|███████████████████████████████████| 14/14 [00:02<00:00,  6.76it/s, loss=0.0511]\n",
      "Training  : 100%|███████████████████████████████████| 14/14 [00:02<00:00,  6.73it/s, loss=0.0476]\n",
      "Training  : 100%|███████████████████████████████████| 14/14 [00:02<00:00,  6.73it/s, loss=0.0473]\n",
      "Training  : 100%|███████████████████████████████████| 14/14 [00:02<00:00,  6.74it/s, loss=0.0486]\n",
      "Training  : 100%|███████████████████████████████████| 14/14 [00:02<00:00,  6.74it/s, loss=0.0454]\n",
      "Training  : 100%|███████████████████████████████████| 14/14 [00:02<00:00,  6.75it/s, loss=0.0449]\n",
      "Training  : 100%|███████████████████████████████████| 14/14 [00:02<00:00,  6.76it/s, loss=0.0476]\n",
      "Training  : 100%|███████████████████████████████████| 14/14 [00:02<00:00,  6.73it/s, loss=0.0461]\n",
      "Training  : 100%|███████████████████████████████████| 14/14 [00:02<00:00,  6.74it/s, loss=0.0475]\n",
      "Training  : 100%|███████████████████████████████████| 14/14 [00:02<00:00,  6.79it/s, loss=0.0536]\n",
      "Training  : 100%|███████████████████████████████████| 14/14 [00:02<00:00,  6.76it/s, loss=0.0484]\n",
      "Training  : 100%|████████████████████████████████████| 14/14 [00:02<00:00,  6.75it/s, loss=0.052]\n",
      "Predicting: 100%|████████████████████████████████████████████████| 27/27 [00:00<00:00, 56.60it/s]\n"
     ]
    },
    {
     "name": "stdout",
     "output_type": "stream",
     "text": [
      "Building sklearn text classifier...\n",
      "Loading bert-base-uncased model...\n",
      "Defaulting to linear classifier/regressor\n",
      "Loading Pytorch checkpoint\n",
      "train data size: 428, validation data size: 0\n"
     ]
    },
    {
     "name": "stderr",
     "output_type": "stream",
     "text": [
      "Training  : 100%|████████████████████████████████████| 14/14 [00:02<00:00,  6.69it/s, loss=0.581]\n",
      "Training  : 100%|████████████████████████████████████| 14/14 [00:02<00:00,  6.78it/s, loss=0.324]\n",
      "Training  : 100%|████████████████████████████████████| 14/14 [00:02<00:00,  6.73it/s, loss=0.226]\n",
      "Training  : 100%|████████████████████████████████████| 14/14 [00:02<00:00,  6.80it/s, loss=0.169]\n",
      "Training  : 100%|████████████████████████████████████| 14/14 [00:02<00:00,  6.80it/s, loss=0.121]\n",
      "Training  : 100%|████████████████████████████████████| 14/14 [00:02<00:00,  6.74it/s, loss=0.114]\n",
      "Training  : 100%|████████████████████████████████████| 14/14 [00:02<00:00,  6.77it/s, loss=0.103]\n",
      "Training  : 100%|███████████████████████████████████| 14/14 [00:02<00:00,  6.66it/s, loss=0.0798]\n",
      "Training  : 100%|███████████████████████████████████| 14/14 [00:02<00:00,  6.79it/s, loss=0.0941]\n",
      "Training  : 100%|███████████████████████████████████| 14/14 [00:02<00:00,  6.74it/s, loss=0.0707]\n",
      "Training  : 100%|████████████████████████████████████| 14/14 [00:02<00:00,  6.75it/s, loss=0.053]\n",
      "Training  : 100%|███████████████████████████████████| 14/14 [00:02<00:00,  6.72it/s, loss=0.0627]\n",
      "Training  : 100%|███████████████████████████████████| 14/14 [00:02<00:00,  6.73it/s, loss=0.0613]\n",
      "Training  : 100%|███████████████████████████████████| 14/14 [00:02<00:00,  6.74it/s, loss=0.0578]\n",
      "Training  : 100%|███████████████████████████████████| 14/14 [00:02<00:00,  6.76it/s, loss=0.0505]\n",
      "Training  : 100%|███████████████████████████████████| 14/14 [00:02<00:00,  6.77it/s, loss=0.0527]\n",
      "Training  : 100%|███████████████████████████████████| 14/14 [00:02<00:00,  6.72it/s, loss=0.0495]\n",
      "Training  : 100%|███████████████████████████████████| 14/14 [00:02<00:00,  6.75it/s, loss=0.0456]\n",
      "Training  : 100%|███████████████████████████████████| 14/14 [00:02<00:00,  6.79it/s, loss=0.0439]\n",
      "Training  : 100%|███████████████████████████████████| 14/14 [00:02<00:00,  6.77it/s, loss=0.0468]\n",
      "Training  : 100%|███████████████████████████████████| 14/14 [00:02<00:00,  6.72it/s, loss=0.0421]\n",
      "Training  : 100%|███████████████████████████████████| 14/14 [00:02<00:00,  6.77it/s, loss=0.0418]\n",
      "Training  : 100%|███████████████████████████████████| 14/14 [00:02<00:00,  6.69it/s, loss=0.0471]\n",
      "Training  : 100%|███████████████████████████████████| 14/14 [00:02<00:00,  6.70it/s, loss=0.0429]\n",
      "Training  : 100%|███████████████████████████████████| 14/14 [00:02<00:00,  6.76it/s, loss=0.0393]\n",
      "Training  : 100%|███████████████████████████████████| 14/14 [00:02<00:00,  6.75it/s, loss=0.0399]\n",
      "Training  : 100%|███████████████████████████████████| 14/14 [00:02<00:00,  6.79it/s, loss=0.0417]\n",
      "Training  : 100%|███████████████████████████████████| 14/14 [00:02<00:00,  6.72it/s, loss=0.0462]\n",
      "Training  : 100%|███████████████████████████████████| 14/14 [00:02<00:00,  6.78it/s, loss=0.0389]\n",
      "Training  : 100%|███████████████████████████████████| 14/14 [00:02<00:00,  6.75it/s, loss=0.0496]\n",
      "Training  : 100%|███████████████████████████████████| 14/14 [00:02<00:00,  6.73it/s, loss=0.0527]\n",
      "Training  : 100%|███████████████████████████████████| 14/14 [00:02<00:00,  6.77it/s, loss=0.0397]\n",
      "Training  : 100%|███████████████████████████████████| 14/14 [00:02<00:00,  6.77it/s, loss=0.0466]\n",
      "Training  : 100%|███████████████████████████████████| 14/14 [00:02<00:00,  6.72it/s, loss=0.0406]\n",
      "Training  : 100%|███████████████████████████████████| 14/14 [00:02<00:00,  6.69it/s, loss=0.0401]\n",
      "Training  : 100%|███████████████████████████████████| 14/14 [00:02<00:00,  6.78it/s, loss=0.0452]\n",
      "Training  : 100%|███████████████████████████████████| 14/14 [00:02<00:00,  6.73it/s, loss=0.0468]\n",
      "Training  : 100%|███████████████████████████████████| 14/14 [00:02<00:00,  6.70it/s, loss=0.0424]\n",
      "Training  : 100%|███████████████████████████████████| 14/14 [00:02<00:00,  6.73it/s, loss=0.0382]\n",
      "Training  : 100%|███████████████████████████████████| 14/14 [00:02<00:00,  6.76it/s, loss=0.0381]\n",
      "Training  : 100%|███████████████████████████████████| 14/14 [00:02<00:00,  6.75it/s, loss=0.0427]\n",
      "Training  : 100%|███████████████████████████████████| 14/14 [00:02<00:00,  6.66it/s, loss=0.0417]\n",
      "Training  : 100%|███████████████████████████████████| 14/14 [00:02<00:00,  6.73it/s, loss=0.0461]\n",
      "Training  : 100%|███████████████████████████████████| 14/14 [00:02<00:00,  6.72it/s, loss=0.0388]\n",
      "Training  : 100%|███████████████████████████████████| 14/14 [00:02<00:00,  6.77it/s, loss=0.0384]\n",
      "Training  : 100%|███████████████████████████████████| 14/14 [00:02<00:00,  6.73it/s, loss=0.0458]\n",
      "Training  : 100%|███████████████████████████████████| 14/14 [00:02<00:00,  6.77it/s, loss=0.0439]\n",
      "Training  : 100%|███████████████████████████████████| 14/14 [00:02<00:00,  6.77it/s, loss=0.0439]\n",
      "Training  : 100%|███████████████████████████████████| 14/14 [00:02<00:00,  6.73it/s, loss=0.0396]\n",
      "Training  : 100%|███████████████████████████████████| 14/14 [00:02<00:00,  6.75it/s, loss=0.0404]\n",
      "Training  : 100%|███████████████████████████████████| 14/14 [00:02<00:00,  6.75it/s, loss=0.0426]\n",
      "Training  : 100%|███████████████████████████████████| 14/14 [00:02<00:00,  6.74it/s, loss=0.0396]\n",
      "Training  : 100%|███████████████████████████████████| 14/14 [00:02<00:00,  6.76it/s, loss=0.0383]\n",
      "Training  : 100%|███████████████████████████████████| 14/14 [00:02<00:00,  6.71it/s, loss=0.0414]\n",
      "Training  : 100%|███████████████████████████████████| 14/14 [00:02<00:00,  6.72it/s, loss=0.0411]\n",
      "Training  : 100%|███████████████████████████████████| 14/14 [00:02<00:00,  6.72it/s, loss=0.0402]\n",
      "Training  : 100%|███████████████████████████████████| 14/14 [00:02<00:00,  6.56it/s, loss=0.0376]\n",
      "Training  : 100%|███████████████████████████████████| 14/14 [00:02<00:00,  6.74it/s, loss=0.0408]\n",
      "Training  : 100%|███████████████████████████████████| 14/14 [00:02<00:00,  6.77it/s, loss=0.0442]\n",
      "Training  : 100%|███████████████████████████████████| 14/14 [00:02<00:00,  6.77it/s, loss=0.0406]\n",
      "Training  : 100%|███████████████████████████████████| 14/14 [00:02<00:00,  6.72it/s, loss=0.0398]\n",
      "Training  : 100%|███████████████████████████████████| 14/14 [00:02<00:00,  6.77it/s, loss=0.0451]\n",
      "Training  : 100%|███████████████████████████████████| 14/14 [00:02<00:00,  6.77it/s, loss=0.0411]\n",
      "Training  : 100%|███████████████████████████████████| 14/14 [00:02<00:00,  6.77it/s, loss=0.0414]\n",
      "Training  : 100%|███████████████████████████████████| 14/14 [00:02<00:00,  6.74it/s, loss=0.0441]\n",
      "Training  : 100%|███████████████████████████████████| 14/14 [00:02<00:00,  6.77it/s, loss=0.0394]\n",
      "Training  : 100%|███████████████████████████████████| 14/14 [00:02<00:00,  6.75it/s, loss=0.0398]\n",
      "Training  : 100%|███████████████████████████████████| 14/14 [00:02<00:00,  6.75it/s, loss=0.0381]\n",
      "Training  : 100%|███████████████████████████████████| 14/14 [00:02<00:00,  6.76it/s, loss=0.0396]\n",
      "Training  : 100%|███████████████████████████████████| 14/14 [00:02<00:00,  6.77it/s, loss=0.0383]\n",
      "Training  : 100%|████████████████████████████████████| 14/14 [00:02<00:00,  6.74it/s, loss=0.039]\n",
      "Training  : 100%|███████████████████████████████████| 14/14 [00:02<00:00,  6.78it/s, loss=0.0399]\n",
      "Training  : 100%|████████████████████████████████████| 14/14 [00:02<00:00,  6.77it/s, loss=0.045]\n",
      "Training  : 100%|███████████████████████████████████| 14/14 [00:02<00:00,  6.73it/s, loss=0.0429]\n",
      "Training  : 100%|███████████████████████████████████| 14/14 [00:02<00:00,  6.73it/s, loss=0.0402]\n",
      "Training  : 100%|███████████████████████████████████| 14/14 [00:02<00:00,  6.80it/s, loss=0.0404]\n",
      "Training  : 100%|███████████████████████████████████| 14/14 [00:02<00:00,  6.70it/s, loss=0.0481]\n",
      "Training  : 100%|███████████████████████████████████| 14/14 [00:02<00:00,  6.79it/s, loss=0.0409]\n",
      "Training  : 100%|███████████████████████████████████| 14/14 [00:02<00:00,  6.77it/s, loss=0.0386]\n",
      "Training  : 100%|███████████████████████████████████| 14/14 [00:02<00:00,  6.79it/s, loss=0.0469]\n",
      "Training  : 100%|███████████████████████████████████| 14/14 [00:02<00:00,  6.77it/s, loss=0.0409]\n",
      "Training  : 100%|███████████████████████████████████| 14/14 [00:02<00:00,  6.84it/s, loss=0.0429]\n",
      "Training  : 100%|████████████████████████████████████| 14/14 [00:02<00:00,  6.73it/s, loss=0.044]\n",
      "Training  : 100%|███████████████████████████████████| 14/14 [00:02<00:00,  6.68it/s, loss=0.0375]\n",
      "Training  : 100%|█████████████████████████████████████| 14/14 [00:02<00:00,  6.77it/s, loss=0.04]\n",
      "Training  : 100%|█████████████████████████████████████| 14/14 [00:02<00:00,  6.78it/s, loss=0.05]\n",
      "Training  : 100%|███████████████████████████████████| 14/14 [00:02<00:00,  6.70it/s, loss=0.0395]\n",
      "Training  : 100%|███████████████████████████████████| 14/14 [00:02<00:00,  6.79it/s, loss=0.0399]\n",
      "Training  : 100%|███████████████████████████████████| 14/14 [00:02<00:00,  6.69it/s, loss=0.0397]\n",
      "Training  : 100%|███████████████████████████████████| 14/14 [00:02<00:00,  6.75it/s, loss=0.0425]\n",
      "Training  : 100%|███████████████████████████████████| 14/14 [00:02<00:00,  6.72it/s, loss=0.0382]\n",
      "Training  : 100%|███████████████████████████████████| 14/14 [00:02<00:00,  6.74it/s, loss=0.0374]\n",
      "Training  : 100%|███████████████████████████████████| 14/14 [00:02<00:00,  6.77it/s, loss=0.0382]\n",
      "Training  : 100%|███████████████████████████████████| 14/14 [00:02<00:00,  6.72it/s, loss=0.0383]\n",
      "Training  : 100%|███████████████████████████████████| 14/14 [00:02<00:00,  6.78it/s, loss=0.0386]\n",
      "Training  : 100%|███████████████████████████████████| 14/14 [00:02<00:00,  6.72it/s, loss=0.0393]\n",
      "Training  : 100%|███████████████████████████████████| 14/14 [00:02<00:00,  6.74it/s, loss=0.0387]\n",
      "Training  : 100%|███████████████████████████████████| 14/14 [00:02<00:00,  6.78it/s, loss=0.0463]\n",
      "Training  : 100%|███████████████████████████████████| 14/14 [00:02<00:00,  6.75it/s, loss=0.0394]\n",
      "Training  : 100%|███████████████████████████████████| 14/14 [00:02<00:00,  6.76it/s, loss=0.0509]\n",
      "Predicting: 100%|████████████████████████████████████████████████| 27/27 [00:00<00:00, 54.49it/s]\n"
     ]
    },
    {
     "name": "stdout",
     "output_type": "stream",
     "text": [
      "Building sklearn text classifier...\n",
      "Loading bert-base-uncased model...\n",
      "Defaulting to linear classifier/regressor\n",
      "Loading Pytorch checkpoint\n",
      "train data size: 428, validation data size: 0\n"
     ]
    },
    {
     "name": "stderr",
     "output_type": "stream",
     "text": [
      "Training  : 100%|█████████████████████████████████████| 14/14 [00:02<00:00,  6.77it/s, loss=0.54]\n",
      "Training  : 100%|████████████████████████████████████| 14/14 [00:02<00:00,  6.74it/s, loss=0.302]\n",
      "Training  : 100%|████████████████████████████████████| 14/14 [00:02<00:00,  6.70it/s, loss=0.225]\n",
      "Training  : 100%|████████████████████████████████████| 14/14 [00:02<00:00,  6.69it/s, loss=0.175]\n",
      "Training  : 100%|████████████████████████████████████| 14/14 [00:02<00:00,  6.73it/s, loss=0.118]\n",
      "Training  : 100%|████████████████████████████████████| 14/14 [00:02<00:00,  6.82it/s, loss=0.108]\n",
      "Training  : 100%|███████████████████████████████████| 14/14 [00:02<00:00,  6.77it/s, loss=0.0792]\n",
      "Training  : 100%|███████████████████████████████████| 14/14 [00:02<00:00,  6.75it/s, loss=0.0784]\n",
      "Training  : 100%|███████████████████████████████████| 14/14 [00:02<00:00,  6.66it/s, loss=0.0709]\n",
      "Training  : 100%|███████████████████████████████████| 14/14 [00:02<00:00,  6.71it/s, loss=0.0699]\n",
      "Training  : 100%|███████████████████████████████████| 14/14 [00:02<00:00,  6.78it/s, loss=0.0598]\n",
      "Training  : 100%|███████████████████████████████████| 14/14 [00:02<00:00,  6.78it/s, loss=0.0707]\n",
      "Training  : 100%|████████████████████████████████████| 14/14 [00:02<00:00,  6.73it/s, loss=0.068]\n",
      "Training  : 100%|███████████████████████████████████| 14/14 [00:02<00:00,  6.76it/s, loss=0.0557]\n",
      "Training  : 100%|███████████████████████████████████| 14/14 [00:02<00:00,  6.76it/s, loss=0.0535]\n",
      "Training  : 100%|███████████████████████████████████| 14/14 [00:02<00:00,  6.74it/s, loss=0.0587]\n",
      "Training  : 100%|███████████████████████████████████| 14/14 [00:02<00:00,  6.67it/s, loss=0.0512]\n",
      "Training  : 100%|███████████████████████████████████| 14/14 [00:02<00:00,  6.74it/s, loss=0.0546]\n",
      "Training  : 100%|███████████████████████████████████| 14/14 [00:02<00:00,  6.70it/s, loss=0.0566]\n",
      "Training  : 100%|███████████████████████████████████| 14/14 [00:02<00:00,  6.65it/s, loss=0.0534]\n",
      "Training  : 100%|███████████████████████████████████| 14/14 [00:02<00:00,  6.66it/s, loss=0.0517]\n",
      "Training  : 100%|███████████████████████████████████| 14/14 [00:02<00:00,  6.71it/s, loss=0.0515]\n",
      "Training  : 100%|███████████████████████████████████| 14/14 [00:02<00:00,  6.68it/s, loss=0.0545]\n",
      "Training  : 100%|███████████████████████████████████| 14/14 [00:02<00:00,  6.75it/s, loss=0.0542]\n",
      "Training  : 100%|███████████████████████████████████| 14/14 [00:02<00:00,  6.73it/s, loss=0.0516]\n",
      "Training  : 100%|███████████████████████████████████| 14/14 [00:02<00:00,  6.62it/s, loss=0.0518]\n",
      "Training  : 100%|████████████████████████████████████| 14/14 [00:02<00:00,  6.75it/s, loss=0.049]\n",
      "Training  : 100%|███████████████████████████████████| 14/14 [00:02<00:00,  6.71it/s, loss=0.0542]\n",
      "Training  : 100%|███████████████████████████████████| 14/14 [00:02<00:00,  6.76it/s, loss=0.0519]\n",
      "Training  : 100%|█████████████████████████████████████| 14/14 [00:02<00:00,  6.76it/s, loss=0.05]\n",
      "Training  : 100%|███████████████████████████████████| 14/14 [00:02<00:00,  6.75it/s, loss=0.0499]\n",
      "Training  : 100%|███████████████████████████████████| 14/14 [00:02<00:00,  6.74it/s, loss=0.0538]\n",
      "Training  : 100%|███████████████████████████████████| 14/14 [00:02<00:00,  6.72it/s, loss=0.0555]\n",
      "Training  : 100%|███████████████████████████████████| 14/14 [00:02<00:00,  6.70it/s, loss=0.0592]\n",
      "Training  : 100%|███████████████████████████████████| 14/14 [00:02<00:00,  6.70it/s, loss=0.0541]\n",
      "Training  : 100%|███████████████████████████████████| 14/14 [00:02<00:00,  6.79it/s, loss=0.0465]\n",
      "Training  : 100%|███████████████████████████████████| 14/14 [00:02<00:00,  6.79it/s, loss=0.0558]\n",
      "Training  : 100%|███████████████████████████████████| 14/14 [00:02<00:00,  6.75it/s, loss=0.0489]\n",
      "Training  : 100%|███████████████████████████████████| 14/14 [00:02<00:00,  6.74it/s, loss=0.0467]\n",
      "Training  : 100%|███████████████████████████████████| 14/14 [00:02<00:00,  6.78it/s, loss=0.0497]\n",
      "Training  : 100%|███████████████████████████████████| 14/14 [00:02<00:00,  6.74it/s, loss=0.0477]\n",
      "Training  : 100%|███████████████████████████████████| 14/14 [00:02<00:00,  6.74it/s, loss=0.0529]\n",
      "Training  : 100%|████████████████████████████████████| 14/14 [00:02<00:00,  6.81it/s, loss=0.048]\n",
      "Training  : 100%|███████████████████████████████████| 14/14 [00:02<00:00,  6.74it/s, loss=0.0478]\n",
      "Training  : 100%|███████████████████████████████████| 14/14 [00:02<00:00,  6.73it/s, loss=0.0479]\n",
      "Training  : 100%|███████████████████████████████████| 14/14 [00:02<00:00,  6.74it/s, loss=0.0501]\n",
      "Training  : 100%|███████████████████████████████████| 14/14 [00:02<00:00,  6.70it/s, loss=0.0478]\n",
      "Training  : 100%|███████████████████████████████████| 14/14 [00:02<00:00,  6.74it/s, loss=0.0482]\n",
      "Training  : 100%|███████████████████████████████████| 14/14 [00:02<00:00,  6.74it/s, loss=0.0477]\n",
      "Training  : 100%|███████████████████████████████████| 14/14 [00:02<00:00,  6.74it/s, loss=0.0523]\n",
      "Training  : 100%|█████████████████████████████████████| 14/14 [00:02<00:00,  6.77it/s, loss=0.05]\n",
      "Training  : 100%|███████████████████████████████████| 14/14 [00:02<00:00,  6.65it/s, loss=0.0575]\n",
      "Training  : 100%|███████████████████████████████████| 14/14 [00:02<00:00,  6.73it/s, loss=0.0454]\n",
      "Training  : 100%|███████████████████████████████████| 14/14 [00:02<00:00,  6.76it/s, loss=0.0473]\n",
      "Training  : 100%|███████████████████████████████████| 14/14 [00:02<00:00,  6.71it/s, loss=0.0547]\n",
      "Training  : 100%|███████████████████████████████████| 14/14 [00:02<00:00,  6.68it/s, loss=0.0462]\n",
      "Training  : 100%|███████████████████████████████████| 14/14 [00:02<00:00,  6.68it/s, loss=0.0523]\n",
      "Training  : 100%|███████████████████████████████████| 14/14 [00:02<00:00,  6.72it/s, loss=0.0446]\n",
      "Training  : 100%|███████████████████████████████████| 14/14 [00:02<00:00,  6.71it/s, loss=0.0452]\n",
      "Training  : 100%|███████████████████████████████████| 14/14 [00:02<00:00,  6.73it/s, loss=0.0465]\n",
      "Training  : 100%|███████████████████████████████████| 14/14 [00:02<00:00,  6.73it/s, loss=0.0515]\n",
      "Training  : 100%|████████████████████████████████████| 14/14 [00:02<00:00,  6.66it/s, loss=0.046]\n",
      "Training  : 100%|███████████████████████████████████| 14/14 [00:02<00:00,  6.40it/s, loss=0.0497]\n",
      "Training  : 100%|███████████████████████████████████| 14/14 [00:02<00:00,  6.57it/s, loss=0.0562]\n",
      "Training  : 100%|███████████████████████████████████| 14/14 [00:02<00:00,  6.74it/s, loss=0.0459]\n",
      "Training  : 100%|███████████████████████████████████| 14/14 [00:02<00:00,  6.74it/s, loss=0.0456]\n",
      "Training  : 100%|███████████████████████████████████| 14/14 [00:02<00:00,  6.72it/s, loss=0.0537]\n",
      "Training  : 100%|███████████████████████████████████| 14/14 [00:02<00:00,  6.73it/s, loss=0.0468]\n",
      "Training  : 100%|███████████████████████████████████| 14/14 [00:02<00:00,  6.78it/s, loss=0.0483]\n",
      "Training  : 100%|███████████████████████████████████| 14/14 [00:02<00:00,  6.78it/s, loss=0.0522]\n",
      "Training  : 100%|███████████████████████████████████| 14/14 [00:02<00:00,  6.76it/s, loss=0.0463]\n",
      "Training  : 100%|███████████████████████████████████| 14/14 [00:02<00:00,  6.78it/s, loss=0.0478]\n",
      "Training  : 100%|████████████████████████████████████| 14/14 [00:02<00:00,  6.78it/s, loss=0.046]\n",
      "Training  : 100%|███████████████████████████████████| 14/14 [00:02<00:00,  6.73it/s, loss=0.0463]\n",
      "Training  : 100%|███████████████████████████████████| 14/14 [00:02<00:00,  6.73it/s, loss=0.0496]\n",
      "Training  : 100%|███████████████████████████████████| 14/14 [00:02<00:00,  6.77it/s, loss=0.0465]\n",
      "Training  : 100%|███████████████████████████████████| 14/14 [00:02<00:00,  6.75it/s, loss=0.0514]\n",
      "Training  : 100%|███████████████████████████████████| 14/14 [00:02<00:00,  6.69it/s, loss=0.0485]\n",
      "Training  : 100%|███████████████████████████████████| 14/14 [00:02<00:00,  6.68it/s, loss=0.0514]\n",
      "Training  : 100%|███████████████████████████████████| 14/14 [00:02<00:00,  6.70it/s, loss=0.0473]\n",
      "Training  : 100%|███████████████████████████████████| 14/14 [00:02<00:00,  6.78it/s, loss=0.0465]\n",
      "Training  : 100%|███████████████████████████████████| 14/14 [00:02<00:00,  6.74it/s, loss=0.0474]\n",
      "Training  : 100%|███████████████████████████████████| 14/14 [00:02<00:00,  6.78it/s, loss=0.0457]\n",
      "Training  : 100%|███████████████████████████████████| 14/14 [00:02<00:00,  6.75it/s, loss=0.0487]\n",
      "Training  : 100%|███████████████████████████████████| 14/14 [00:02<00:00,  6.74it/s, loss=0.0463]\n",
      "Training  : 100%|███████████████████████████████████| 14/14 [00:02<00:00,  6.70it/s, loss=0.0486]\n",
      "Training  : 100%|███████████████████████████████████| 14/14 [00:02<00:00,  6.73it/s, loss=0.0448]\n",
      "Training  : 100%|███████████████████████████████████| 14/14 [00:02<00:00,  6.79it/s, loss=0.0471]\n",
      "Training  : 100%|███████████████████████████████████| 14/14 [00:02<00:00,  6.75it/s, loss=0.0471]\n",
      "Training  : 100%|███████████████████████████████████| 14/14 [00:02<00:00,  6.71it/s, loss=0.0459]\n",
      "Training  : 100%|███████████████████████████████████| 14/14 [00:02<00:00,  6.75it/s, loss=0.0446]\n",
      "Training  : 100%|███████████████████████████████████| 14/14 [00:02<00:00,  6.72it/s, loss=0.0476]\n",
      "Training  : 100%|███████████████████████████████████| 14/14 [00:02<00:00,  6.69it/s, loss=0.0482]\n",
      "Training  : 100%|███████████████████████████████████| 14/14 [00:02<00:00,  6.70it/s, loss=0.0447]\n",
      "Training  : 100%|███████████████████████████████████| 14/14 [00:02<00:00,  6.71it/s, loss=0.0443]\n",
      "Training  : 100%|███████████████████████████████████| 14/14 [00:02<00:00,  6.70it/s, loss=0.0441]\n",
      "Training  : 100%|███████████████████████████████████| 14/14 [00:02<00:00,  6.77it/s, loss=0.0451]\n",
      "Training  : 100%|███████████████████████████████████| 14/14 [00:02<00:00,  6.78it/s, loss=0.0478]\n",
      "Training  : 100%|███████████████████████████████████| 14/14 [00:02<00:00,  6.76it/s, loss=0.0458]\n",
      "Training  : 100%|███████████████████████████████████| 14/14 [00:02<00:00,  6.78it/s, loss=0.0444]\n",
      "Predicting: 100%|████████████████████████████████████████████████| 27/27 [00:00<00:00, 57.02it/s]\n"
     ]
    },
    {
     "name": "stdout",
     "output_type": "stream",
     "text": [
      "Building sklearn text classifier...\n",
      "Loading bert-base-uncased model...\n",
      "Defaulting to linear classifier/regressor\n",
      "Loading Pytorch checkpoint\n",
      "train data size: 428, validation data size: 0\n"
     ]
    },
    {
     "name": "stderr",
     "output_type": "stream",
     "text": [
      "Training  : 100%|████████████████████████████████████| 14/14 [00:02<00:00,  6.62it/s, loss=0.541]\n",
      "Training  : 100%|████████████████████████████████████| 14/14 [00:02<00:00,  6.74it/s, loss=0.315]\n",
      "Training  : 100%|████████████████████████████████████| 14/14 [00:02<00:00,  6.72it/s, loss=0.237]\n",
      "Training  : 100%|████████████████████████████████████| 14/14 [00:02<00:00,  6.73it/s, loss=0.205]\n",
      "Training  : 100%|████████████████████████████████████| 14/14 [00:02<00:00,  6.80it/s, loss=0.152]\n",
      "Training  : 100%|████████████████████████████████████| 14/14 [00:02<00:00,  6.75it/s, loss=0.104]\n",
      "Training  : 100%|████████████████████████████████████| 14/14 [00:02<00:00,  6.70it/s, loss=0.126]\n",
      "Training  : 100%|████████████████████████████████████| 14/14 [00:02<00:00,  6.79it/s, loss=0.105]\n",
      "Training  : 100%|███████████████████████████████████| 14/14 [00:02<00:00,  6.76it/s, loss=0.0882]\n",
      "Training  : 100%|███████████████████████████████████| 14/14 [00:02<00:00,  6.78it/s, loss=0.0767]\n",
      "Training  : 100%|███████████████████████████████████| 14/14 [00:02<00:00,  6.73it/s, loss=0.0873]\n",
      "Training  : 100%|███████████████████████████████████| 14/14 [00:02<00:00,  6.70it/s, loss=0.0753]\n",
      "Training  : 100%|███████████████████████████████████| 14/14 [00:02<00:00,  6.76it/s, loss=0.0858]\n",
      "Training  : 100%|███████████████████████████████████| 14/14 [00:02<00:00,  6.76it/s, loss=0.0669]\n",
      "Training  : 100%|███████████████████████████████████| 14/14 [00:02<00:00,  6.75it/s, loss=0.0661]\n",
      "Training  : 100%|████████████████████████████████████| 14/14 [00:02<00:00,  6.82it/s, loss=0.066]\n",
      "Training  : 100%|███████████████████████████████████| 14/14 [00:02<00:00,  6.75it/s, loss=0.0611]\n",
      "Training  : 100%|███████████████████████████████████| 14/14 [00:02<00:00,  6.78it/s, loss=0.0659]\n",
      "Training  : 100%|███████████████████████████████████| 14/14 [00:02<00:00,  6.67it/s, loss=0.0728]\n",
      "Training  : 100%|███████████████████████████████████| 14/14 [00:02<00:00,  6.67it/s, loss=0.0703]\n",
      "Training  : 100%|███████████████████████████████████| 14/14 [00:02<00:00,  6.79it/s, loss=0.0644]\n",
      "Training  : 100%|███████████████████████████████████| 14/14 [00:02<00:00,  6.77it/s, loss=0.0607]\n",
      "Training  : 100%|███████████████████████████████████| 14/14 [00:02<00:00,  6.77it/s, loss=0.0566]\n",
      "Training  : 100%|████████████████████████████████████| 14/14 [00:02<00:00,  6.64it/s, loss=0.064]\n",
      "Training  : 100%|███████████████████████████████████| 14/14 [00:02<00:00,  6.75it/s, loss=0.0527]\n",
      "Training  : 100%|███████████████████████████████████| 14/14 [00:02<00:00,  6.78it/s, loss=0.0563]\n",
      "Training  : 100%|███████████████████████████████████| 14/14 [00:02<00:00,  6.74it/s, loss=0.0521]\n",
      "Training  : 100%|███████████████████████████████████| 14/14 [00:02<00:00,  6.79it/s, loss=0.0521]\n",
      "Training  : 100%|███████████████████████████████████| 14/14 [00:02<00:00,  6.73it/s, loss=0.0497]\n",
      "Training  : 100%|███████████████████████████████████| 14/14 [00:02<00:00,  6.75it/s, loss=0.0573]\n",
      "Training  : 100%|███████████████████████████████████| 14/14 [00:02<00:00,  6.77it/s, loss=0.0501]\n",
      "Training  : 100%|███████████████████████████████████| 14/14 [00:02<00:00,  6.73it/s, loss=0.0618]\n",
      "Training  : 100%|███████████████████████████████████| 14/14 [00:02<00:00,  6.75it/s, loss=0.0563]\n",
      "Training  : 100%|███████████████████████████████████| 14/14 [00:02<00:00,  6.77it/s, loss=0.0576]\n",
      "Training  : 100%|███████████████████████████████████| 14/14 [00:02<00:00,  6.80it/s, loss=0.0565]\n",
      "Training  : 100%|███████████████████████████████████| 14/14 [00:02<00:00,  6.82it/s, loss=0.0477]\n",
      "Training  : 100%|████████████████████████████████████| 14/14 [00:02<00:00,  6.77it/s, loss=0.067]\n",
      "Training  : 100%|███████████████████████████████████| 14/14 [00:02<00:00,  6.73it/s, loss=0.0516]\n",
      "Training  : 100%|███████████████████████████████████| 14/14 [00:02<00:00,  6.78it/s, loss=0.0473]\n",
      "Training  : 100%|███████████████████████████████████| 14/14 [00:02<00:00,  6.81it/s, loss=0.0476]\n",
      "Training  : 100%|███████████████████████████████████| 14/14 [00:02<00:00,  6.69it/s, loss=0.0486]\n",
      "Training  : 100%|███████████████████████████████████| 14/14 [00:02<00:00,  6.78it/s, loss=0.0485]\n",
      "Training  : 100%|███████████████████████████████████| 14/14 [00:02<00:00,  6.74it/s, loss=0.0492]\n",
      "Training  : 100%|███████████████████████████████████| 14/14 [00:02<00:00,  6.82it/s, loss=0.0494]\n",
      "Training  : 100%|███████████████████████████████████| 14/14 [00:02<00:00,  6.77it/s, loss=0.0526]\n",
      "Training  : 100%|███████████████████████████████████| 14/14 [00:02<00:00,  6.79it/s, loss=0.0525]\n",
      "Training  : 100%|███████████████████████████████████| 14/14 [00:02<00:00,  6.77it/s, loss=0.0521]\n",
      "Training  : 100%|███████████████████████████████████| 14/14 [00:02<00:00,  6.75it/s, loss=0.0495]\n",
      "Training  : 100%|███████████████████████████████████| 14/14 [00:02<00:00,  6.78it/s, loss=0.0487]\n",
      "Training  : 100%|███████████████████████████████████| 14/14 [00:02<00:00,  6.80it/s, loss=0.0578]\n",
      "Training  : 100%|███████████████████████████████████| 14/14 [00:02<00:00,  6.66it/s, loss=0.0519]\n",
      "Training  : 100%|███████████████████████████████████| 14/14 [00:02<00:00,  6.73it/s, loss=0.0501]\n",
      "Training  : 100%|███████████████████████████████████| 14/14 [00:02<00:00,  6.73it/s, loss=0.0472]\n",
      "Training  : 100%|████████████████████████████████████| 14/14 [00:02<00:00,  6.76it/s, loss=0.053]\n",
      "Training  : 100%|███████████████████████████████████| 14/14 [00:02<00:00,  6.82it/s, loss=0.0598]\n",
      "Training  : 100%|███████████████████████████████████| 14/14 [00:02<00:00,  6.73it/s, loss=0.0478]\n",
      "Training  : 100%|███████████████████████████████████| 14/14 [00:02<00:00,  6.76it/s, loss=0.0484]\n",
      "Training  : 100%|███████████████████████████████████| 14/14 [00:02<00:00,  6.78it/s, loss=0.0495]\n",
      "Training  : 100%|███████████████████████████████████| 14/14 [00:02<00:00,  6.78it/s, loss=0.0513]\n",
      "Training  : 100%|███████████████████████████████████| 14/14 [00:02<00:00,  6.76it/s, loss=0.0508]\n",
      "Training  : 100%|███████████████████████████████████| 14/14 [00:02<00:00,  6.77it/s, loss=0.0539]\n",
      "Training  : 100%|███████████████████████████████████| 14/14 [00:02<00:00,  6.76it/s, loss=0.0498]\n",
      "Training  : 100%|███████████████████████████████████| 14/14 [00:02<00:00,  6.77it/s, loss=0.0556]\n",
      "Training  : 100%|█████████████████████████████████████| 14/14 [00:02<00:00,  6.75it/s, loss=0.06]\n",
      "Training  : 100%|███████████████████████████████████| 14/14 [00:02<00:00,  6.75it/s, loss=0.0504]\n",
      "Training  : 100%|███████████████████████████████████| 14/14 [00:02<00:00,  6.71it/s, loss=0.0488]\n",
      "Training  : 100%|███████████████████████████████████| 14/14 [00:02<00:00,  6.76it/s, loss=0.0504]\n",
      "Training  : 100%|███████████████████████████████████| 14/14 [00:02<00:00,  6.71it/s, loss=0.0487]\n",
      "Training  : 100%|████████████████████████████████████| 14/14 [00:02<00:00,  6.78it/s, loss=0.048]\n",
      "Training  : 100%|███████████████████████████████████| 14/14 [00:02<00:00,  6.83it/s, loss=0.0505]\n",
      "Training  : 100%|███████████████████████████████████| 14/14 [00:02<00:00,  6.76it/s, loss=0.0476]\n",
      "Training  : 100%|███████████████████████████████████| 14/14 [00:02<00:00,  6.80it/s, loss=0.0488]\n",
      "Training  : 100%|███████████████████████████████████| 14/14 [00:02<00:00,  6.83it/s, loss=0.0487]\n",
      "Training  : 100%|███████████████████████████████████| 14/14 [00:02<00:00,  6.72it/s, loss=0.0473]\n",
      "Training  : 100%|████████████████████████████████████| 14/14 [00:02<00:00,  6.69it/s, loss=0.047]\n",
      "Training  : 100%|███████████████████████████████████| 14/14 [00:02<00:00,  6.80it/s, loss=0.0475]\n",
      "Training  : 100%|███████████████████████████████████| 14/14 [00:02<00:00,  6.75it/s, loss=0.0533]\n",
      "Training  : 100%|███████████████████████████████████| 14/14 [00:02<00:00,  6.76it/s, loss=0.0479]\n",
      "Training  : 100%|███████████████████████████████████| 14/14 [00:02<00:00,  6.79it/s, loss=0.0492]\n",
      "Training  : 100%|███████████████████████████████████| 14/14 [00:02<00:00,  6.75it/s, loss=0.0596]\n",
      "Training  : 100%|███████████████████████████████████| 14/14 [00:02<00:00,  6.83it/s, loss=0.0499]\n",
      "Training  : 100%|███████████████████████████████████| 14/14 [00:02<00:00,  6.77it/s, loss=0.0487]\n",
      "Training  : 100%|████████████████████████████████████| 14/14 [00:02<00:00,  6.77it/s, loss=0.049]\n",
      "Training  : 100%|███████████████████████████████████| 14/14 [00:02<00:00,  6.78it/s, loss=0.0485]\n",
      "Training  : 100%|███████████████████████████████████| 14/14 [00:02<00:00,  6.79it/s, loss=0.0471]\n",
      "Training  : 100%|███████████████████████████████████| 14/14 [00:02<00:00,  6.79it/s, loss=0.0502]\n",
      "Training  : 100%|███████████████████████████████████| 14/14 [00:02<00:00,  6.76it/s, loss=0.0476]\n",
      "Training  : 100%|███████████████████████████████████| 14/14 [00:02<00:00,  6.75it/s, loss=0.0477]\n",
      "Training  : 100%|████████████████████████████████████| 14/14 [00:02<00:00,  6.78it/s, loss=0.051]\n",
      "Training  : 100%|███████████████████████████████████| 14/14 [00:02<00:00,  6.75it/s, loss=0.0452]\n",
      "Training  : 100%|███████████████████████████████████| 14/14 [00:02<00:00,  6.84it/s, loss=0.0467]\n",
      "Training  : 100%|███████████████████████████████████| 14/14 [00:02<00:00,  6.78it/s, loss=0.0494]\n",
      "Training  : 100%|███████████████████████████████████| 14/14 [00:02<00:00,  6.78it/s, loss=0.0472]\n",
      "Training  : 100%|███████████████████████████████████| 14/14 [00:02<00:00,  6.79it/s, loss=0.0469]\n",
      "Training  : 100%|███████████████████████████████████| 14/14 [00:02<00:00,  6.76it/s, loss=0.0477]\n",
      "Training  : 100%|███████████████████████████████████| 14/14 [00:02<00:00,  6.73it/s, loss=0.0458]\n",
      "Training  : 100%|███████████████████████████████████| 14/14 [00:02<00:00,  6.76it/s, loss=0.0467]\n",
      "Training  : 100%|███████████████████████████████████| 14/14 [00:02<00:00,  6.78it/s, loss=0.0517]\n",
      "Training  : 100%|███████████████████████████████████| 14/14 [00:02<00:00,  6.74it/s, loss=0.0475]\n",
      "Training  : 100%|███████████████████████████████████| 14/14 [00:02<00:00,  6.77it/s, loss=0.0489]\n",
      "Predicting: 100%|████████████████████████████████████████████████| 27/27 [00:00<00:00, 53.22it/s]\n"
     ]
    },
    {
     "name": "stdout",
     "output_type": "stream",
     "text": [
      "Building sklearn text classifier...\n",
      "Loading bert-base-uncased model...\n",
      "Defaulting to linear classifier/regressor\n",
      "Loading Pytorch checkpoint\n",
      "train data size: 428, validation data size: 0\n"
     ]
    },
    {
     "name": "stderr",
     "output_type": "stream",
     "text": [
      "Training  : 100%|████████████████████████████████████| 14/14 [00:02<00:00,  6.72it/s, loss=0.561]\n",
      "Training  : 100%|████████████████████████████████████| 14/14 [00:02<00:00,  6.77it/s, loss=0.285]\n",
      "Training  : 100%|████████████████████████████████████| 14/14 [00:02<00:00,  6.70it/s, loss=0.253]\n",
      "Training  : 100%|████████████████████████████████████| 14/14 [00:02<00:00,  6.77it/s, loss=0.199]\n",
      "Training  : 100%|████████████████████████████████████| 14/14 [00:02<00:00,  6.65it/s, loss=0.139]\n",
      "Training  : 100%|████████████████████████████████████| 14/14 [00:02<00:00,  6.70it/s, loss=0.122]\n",
      "Training  : 100%|███████████████████████████████████| 14/14 [00:02<00:00,  6.79it/s, loss=0.0941]\n",
      "Training  : 100%|███████████████████████████████████| 14/14 [00:02<00:00,  6.77it/s, loss=0.0774]\n",
      "Training  : 100%|███████████████████████████████████| 14/14 [00:02<00:00,  6.75it/s, loss=0.0829]\n",
      "Training  : 100%|███████████████████████████████████| 14/14 [00:02<00:00,  6.74it/s, loss=0.0613]\n",
      "Training  : 100%|███████████████████████████████████| 14/14 [00:02<00:00,  6.75it/s, loss=0.0753]\n",
      "Training  : 100%|███████████████████████████████████| 14/14 [00:02<00:00,  6.74it/s, loss=0.0619]\n",
      "Training  : 100%|███████████████████████████████████| 14/14 [00:02<00:00,  6.77it/s, loss=0.0528]\n",
      "Training  : 100%|███████████████████████████████████| 14/14 [00:02<00:00,  6.77it/s, loss=0.0474]\n",
      "Training  : 100%|███████████████████████████████████| 14/14 [00:02<00:00,  6.73it/s, loss=0.0499]\n",
      "Training  : 100%|███████████████████████████████████| 14/14 [00:02<00:00,  6.67it/s, loss=0.0506]\n",
      "Training  : 100%|████████████████████████████████████| 14/14 [00:02<00:00,  6.81it/s, loss=0.052]\n",
      "Training  : 100%|███████████████████████████████████| 14/14 [00:02<00:00,  6.72it/s, loss=0.0453]\n",
      "Training  : 100%|███████████████████████████████████| 14/14 [00:02<00:00,  6.74it/s, loss=0.0456]\n",
      "Training  : 100%|███████████████████████████████████| 14/14 [00:02<00:00,  6.72it/s, loss=0.0512]\n",
      "Training  : 100%|███████████████████████████████████| 14/14 [00:02<00:00,  6.72it/s, loss=0.0371]\n",
      "Training  : 100%|███████████████████████████████████| 14/14 [00:02<00:00,  6.71it/s, loss=0.0429]\n",
      "Training  : 100%|███████████████████████████████████| 14/14 [00:02<00:00,  6.78it/s, loss=0.0446]\n",
      "Training  : 100%|███████████████████████████████████| 14/14 [00:02<00:00,  6.79it/s, loss=0.0408]\n",
      "Training  : 100%|███████████████████████████████████| 14/14 [00:02<00:00,  6.74it/s, loss=0.0431]\n",
      "Training  : 100%|███████████████████████████████████| 14/14 [00:02<00:00,  6.74it/s, loss=0.0423]\n",
      "Training  : 100%|███████████████████████████████████| 14/14 [00:02<00:00,  6.75it/s, loss=0.0424]\n",
      "Training  : 100%|███████████████████████████████████| 14/14 [00:02<00:00,  6.79it/s, loss=0.0423]\n",
      "Training  : 100%|███████████████████████████████████| 14/14 [00:02<00:00,  6.75it/s, loss=0.0397]\n",
      "Training  : 100%|███████████████████████████████████| 14/14 [00:02<00:00,  6.79it/s, loss=0.0461]\n",
      "Training  : 100%|███████████████████████████████████| 14/14 [00:02<00:00,  6.74it/s, loss=0.0514]\n",
      "Training  : 100%|███████████████████████████████████| 14/14 [00:02<00:00,  6.73it/s, loss=0.0435]\n",
      "Training  : 100%|███████████████████████████████████| 14/14 [00:02<00:00,  6.75it/s, loss=0.0458]\n",
      "Training  : 100%|█████████████████████████████████████| 14/14 [00:02<00:00,  6.73it/s, loss=0.04]\n",
      "Training  : 100%|███████████████████████████████████| 14/14 [00:02<00:00,  6.68it/s, loss=0.0406]\n",
      "Training  : 100%|███████████████████████████████████| 14/14 [00:02<00:00,  6.73it/s, loss=0.0448]\n",
      "Training  : 100%|███████████████████████████████████| 14/14 [00:02<00:00,  6.67it/s, loss=0.0483]\n",
      "Training  : 100%|███████████████████████████████████| 14/14 [00:02<00:00,  6.66it/s, loss=0.0419]\n",
      "Training  : 100%|███████████████████████████████████| 14/14 [00:02<00:00,  6.81it/s, loss=0.0401]\n",
      "Training  : 100%|███████████████████████████████████| 14/14 [00:02<00:00,  6.71it/s, loss=0.0363]\n",
      "Training  : 100%|███████████████████████████████████| 14/14 [00:02<00:00,  6.68it/s, loss=0.0462]\n",
      "Training  : 100%|███████████████████████████████████| 14/14 [00:02<00:00,  6.75it/s, loss=0.0401]\n",
      "Training  : 100%|████████████████████████████████████| 14/14 [00:02<00:00,  6.75it/s, loss=0.047]\n",
      "Training  : 100%|███████████████████████████████████| 14/14 [00:02<00:00,  6.75it/s, loss=0.0422]\n",
      "Training  : 100%|████████████████████████████████████| 14/14 [00:02<00:00,  6.76it/s, loss=0.039]\n",
      "Training  : 100%|███████████████████████████████████| 14/14 [00:02<00:00,  6.72it/s, loss=0.0444]\n",
      "Training  : 100%|████████████████████████████████████| 14/14 [00:02<00:00,  6.79it/s, loss=0.048]\n",
      "Training  : 100%|████████████████████████████████████| 14/14 [00:02<00:00,  6.72it/s, loss=0.038]\n",
      "Training  : 100%|███████████████████████████████████| 14/14 [00:02<00:00,  6.76it/s, loss=0.0402]\n",
      "Training  : 100%|███████████████████████████████████| 14/14 [00:02<00:00,  6.68it/s, loss=0.0406]\n",
      "Training  : 100%|███████████████████████████████████| 14/14 [00:02<00:00,  6.69it/s, loss=0.0456]\n",
      "Training  : 100%|███████████████████████████████████| 14/14 [00:02<00:00,  6.66it/s, loss=0.0371]\n",
      "Training  : 100%|███████████████████████████████████| 14/14 [00:02<00:00,  6.74it/s, loss=0.0405]\n",
      "Training  : 100%|████████████████████████████████████| 14/14 [00:02<00:00,  6.76it/s, loss=0.041]\n",
      "Training  : 100%|███████████████████████████████████| 14/14 [00:02<00:00,  6.77it/s, loss=0.0365]\n",
      "Training  : 100%|███████████████████████████████████| 14/14 [00:02<00:00,  6.74it/s, loss=0.0383]\n",
      "Training  : 100%|███████████████████████████████████| 14/14 [00:02<00:00,  6.71it/s, loss=0.0405]\n",
      "Training  : 100%|███████████████████████████████████| 14/14 [00:02<00:00,  6.72it/s, loss=0.0423]\n",
      "Training  : 100%|███████████████████████████████████| 14/14 [00:02<00:00,  6.80it/s, loss=0.0449]\n",
      "Training  : 100%|████████████████████████████████████| 14/14 [00:02<00:00,  6.70it/s, loss=0.037]\n",
      "Training  : 100%|███████████████████████████████████| 14/14 [00:02<00:00,  6.69it/s, loss=0.0405]\n",
      "Training  : 100%|███████████████████████████████████| 14/14 [00:02<00:00,  6.76it/s, loss=0.0444]\n",
      "Training  : 100%|███████████████████████████████████| 14/14 [00:02<00:00,  6.54it/s, loss=0.0406]\n",
      "Training  : 100%|███████████████████████████████████| 14/14 [00:02<00:00,  6.60it/s, loss=0.0405]\n",
      "Training  : 100%|███████████████████████████████████| 14/14 [00:02<00:00,  6.79it/s, loss=0.0443]\n",
      "Training  : 100%|███████████████████████████████████| 14/14 [00:02<00:00,  6.70it/s, loss=0.0416]\n",
      "Training  : 100%|███████████████████████████████████| 14/14 [00:02<00:00,  6.67it/s, loss=0.0396]\n",
      "Training  : 100%|███████████████████████████████████| 14/14 [00:02<00:00,  6.77it/s, loss=0.0418]\n",
      "Training  : 100%|███████████████████████████████████| 14/14 [00:02<00:00,  6.77it/s, loss=0.0409]\n",
      "Training  : 100%|███████████████████████████████████| 14/14 [00:02<00:00,  6.73it/s, loss=0.0381]\n",
      "Training  : 100%|███████████████████████████████████| 14/14 [00:02<00:00,  6.77it/s, loss=0.0396]\n",
      "Training  : 100%|███████████████████████████████████| 14/14 [00:02<00:00,  6.77it/s, loss=0.0398]\n",
      "Training  : 100%|███████████████████████████████████| 14/14 [00:02<00:00,  6.76it/s, loss=0.0407]\n",
      "Training  : 100%|███████████████████████████████████| 14/14 [00:02<00:00,  6.70it/s, loss=0.0454]\n",
      "Training  : 100%|███████████████████████████████████| 14/14 [00:02<00:00,  6.75it/s, loss=0.0366]\n",
      "Training  : 100%|███████████████████████████████████| 14/14 [00:02<00:00,  6.74it/s, loss=0.0409]\n",
      "Training  : 100%|███████████████████████████████████| 14/14 [00:02<00:00,  6.71it/s, loss=0.0459]\n",
      "Training  : 100%|███████████████████████████████████| 14/14 [00:02<00:00,  6.73it/s, loss=0.0427]\n",
      "Training  : 100%|███████████████████████████████████| 14/14 [00:02<00:00,  6.79it/s, loss=0.0378]\n",
      "Training  : 100%|███████████████████████████████████| 14/14 [00:02<00:00,  6.72it/s, loss=0.0481]\n",
      "Training  : 100%|███████████████████████████████████| 14/14 [00:02<00:00,  6.75it/s, loss=0.0408]\n",
      "Training  : 100%|███████████████████████████████████| 14/14 [00:02<00:00,  6.75it/s, loss=0.0409]\n",
      "Training  : 100%|███████████████████████████████████| 14/14 [00:02<00:00,  6.72it/s, loss=0.0418]\n",
      "Training  : 100%|███████████████████████████████████| 14/14 [00:02<00:00,  6.74it/s, loss=0.0383]\n",
      "Training  : 100%|████████████████████████████████████| 14/14 [00:02<00:00,  6.74it/s, loss=0.039]\n",
      "Training  : 100%|███████████████████████████████████| 14/14 [00:02<00:00,  6.81it/s, loss=0.0545]\n",
      "Training  : 100%|███████████████████████████████████| 14/14 [00:02<00:00,  6.70it/s, loss=0.0397]\n",
      "Training  : 100%|████████████████████████████████████| 14/14 [00:02<00:00,  6.73it/s, loss=0.042]\n",
      "Training  : 100%|███████████████████████████████████| 14/14 [00:02<00:00,  6.72it/s, loss=0.0369]\n",
      "Training  : 100%|███████████████████████████████████| 14/14 [00:02<00:00,  6.74it/s, loss=0.0444]\n",
      "Training  : 100%|███████████████████████████████████| 14/14 [00:02<00:00,  6.76it/s, loss=0.0401]\n",
      "Training  : 100%|███████████████████████████████████| 14/14 [00:02<00:00,  6.75it/s, loss=0.0379]\n",
      "Training  : 100%|█████████████████████████████████████| 14/14 [00:02<00:00,  6.78it/s, loss=0.04]\n",
      "Training  : 100%|███████████████████████████████████| 14/14 [00:02<00:00,  6.72it/s, loss=0.0381]\n",
      "Training  : 100%|███████████████████████████████████| 14/14 [00:02<00:00,  6.73it/s, loss=0.0392]\n",
      "Training  : 100%|███████████████████████████████████| 14/14 [00:02<00:00,  6.68it/s, loss=0.0399]\n",
      "Training  : 100%|███████████████████████████████████| 14/14 [00:02<00:00,  6.75it/s, loss=0.0387]\n",
      "Training  : 100%|███████████████████████████████████| 14/14 [00:02<00:00,  6.74it/s, loss=0.0508]\n",
      "Training  : 100%|███████████████████████████████████| 14/14 [00:02<00:00,  6.78it/s, loss=0.0404]\n",
      "Training  : 100%|████████████████████████████████████| 14/14 [00:02<00:00,  6.77it/s, loss=0.051]\n",
      "Predicting: 100%|████████████████████████████████████████████████| 27/27 [00:00<00:00, 53.25it/s]\n"
     ]
    },
    {
     "name": "stdout",
     "output_type": "stream",
     "text": [
      "Building sklearn text classifier...\n",
      "Loading bert-base-uncased model...\n",
      "Defaulting to linear classifier/regressor\n",
      "Loading Pytorch checkpoint\n",
      "train data size: 428, validation data size: 0\n"
     ]
    },
    {
     "name": "stderr",
     "output_type": "stream",
     "text": [
      "Training  : 100%|████████████████████████████████████| 14/14 [00:02<00:00,  6.73it/s, loss=0.591]\n",
      "Training  : 100%|█████████████████████████████████████| 14/14 [00:02<00:00,  6.71it/s, loss=0.41]\n",
      "Training  : 100%|█████████████████████████████████████| 14/14 [00:02<00:00,  6.70it/s, loss=0.27]\n",
      "Training  : 100%|████████████████████████████████████| 14/14 [00:02<00:00,  6.62it/s, loss=0.222]\n",
      "Training  : 100%|█████████████████████████████████████| 14/14 [00:02<00:00,  6.68it/s, loss=0.17]\n",
      "Training  : 100%|████████████████████████████████████| 14/14 [00:02<00:00,  6.68it/s, loss=0.143]\n",
      "Training  : 100%|████████████████████████████████████| 14/14 [00:02<00:00,  6.61it/s, loss=0.118]\n",
      "Training  : 100%|███████████████████████████████████| 14/14 [00:02<00:00,  6.72it/s, loss=0.0994]\n",
      "Training  : 100%|███████████████████████████████████| 14/14 [00:02<00:00,  6.66it/s, loss=0.0973]\n",
      "Training  : 100%|███████████████████████████████████| 14/14 [00:02<00:00,  6.60it/s, loss=0.0985]\n",
      "Training  : 100%|███████████████████████████████████| 14/14 [00:02<00:00,  6.72it/s, loss=0.0841]\n",
      "Training  : 100%|████████████████████████████████████| 14/14 [00:02<00:00,  6.71it/s, loss=0.095]\n",
      "Training  : 100%|████████████████████████████████████| 14/14 [00:02<00:00,  6.69it/s, loss=0.101]\n",
      "Training  : 100%|███████████████████████████████████| 14/14 [00:02<00:00,  6.74it/s, loss=0.0802]\n",
      "Training  : 100%|███████████████████████████████████| 14/14 [00:02<00:00,  6.70it/s, loss=0.0745]\n",
      "Training  : 100%|████████████████████████████████████| 14/14 [00:02<00:00,  6.66it/s, loss=0.076]\n",
      "Training  : 100%|███████████████████████████████████| 14/14 [00:02<00:00,  6.68it/s, loss=0.0684]\n",
      "Training  : 100%|███████████████████████████████████| 14/14 [00:02<00:00,  6.72it/s, loss=0.0704]\n",
      "Training  : 100%|███████████████████████████████████| 14/14 [00:02<00:00,  6.62it/s, loss=0.0647]\n",
      "Training  : 100%|███████████████████████████████████| 14/14 [00:02<00:00,  6.75it/s, loss=0.0705]\n",
      "Training  : 100%|███████████████████████████████████| 14/14 [00:02<00:00,  6.66it/s, loss=0.0639]\n",
      "Training  : 100%|███████████████████████████████████| 14/14 [00:02<00:00,  6.69it/s, loss=0.0636]\n",
      "Training  : 100%|███████████████████████████████████| 14/14 [00:02<00:00,  6.68it/s, loss=0.0668]\n",
      "Training  : 100%|███████████████████████████████████| 14/14 [00:02<00:00,  6.71it/s, loss=0.0658]\n",
      "Training  : 100%|███████████████████████████████████| 14/14 [00:02<00:00,  6.67it/s, loss=0.0587]\n",
      "Training  : 100%|███████████████████████████████████| 14/14 [00:02<00:00,  6.71it/s, loss=0.0581]\n",
      "Training  : 100%|███████████████████████████████████| 14/14 [00:02<00:00,  6.62it/s, loss=0.0586]\n",
      "Training  : 100%|███████████████████████████████████| 14/14 [00:02<00:00,  6.71it/s, loss=0.0592]\n",
      "Training  : 100%|███████████████████████████████████| 14/14 [00:02<00:00,  6.68it/s, loss=0.0608]\n",
      "Training  : 100%|███████████████████████████████████| 14/14 [00:02<00:00,  6.71it/s, loss=0.0562]\n",
      "Training  : 100%|███████████████████████████████████| 14/14 [00:02<00:00,  6.65it/s, loss=0.0617]\n",
      "Training  : 100%|████████████████████████████████████| 14/14 [00:02<00:00,  6.70it/s, loss=0.068]\n",
      "Training  : 100%|████████████████████████████████████| 14/14 [00:02<00:00,  6.69it/s, loss=0.065]\n",
      "Training  : 100%|███████████████████████████████████| 14/14 [00:02<00:00,  6.65it/s, loss=0.0711]\n",
      "Training  : 100%|███████████████████████████████████| 14/14 [00:02<00:00,  6.67it/s, loss=0.0592]\n",
      "Training  : 100%|███████████████████████████████████| 14/14 [00:02<00:00,  6.62it/s, loss=0.0463]\n",
      "Training  : 100%|███████████████████████████████████| 14/14 [00:02<00:00,  6.71it/s, loss=0.0628]\n",
      "Training  : 100%|███████████████████████████████████| 14/14 [00:02<00:00,  6.70it/s, loss=0.0529]\n",
      "Training  : 100%|███████████████████████████████████| 14/14 [00:02<00:00,  6.75it/s, loss=0.0503]\n",
      "Training  : 100%|███████████████████████████████████| 14/14 [00:02<00:00,  6.66it/s, loss=0.0526]\n",
      "Training  : 100%|███████████████████████████████████| 14/14 [00:02<00:00,  6.69it/s, loss=0.0483]\n",
      "Training  : 100%|███████████████████████████████████| 14/14 [00:02<00:00,  6.63it/s, loss=0.0544]\n",
      "Training  : 100%|███████████████████████████████████| 14/14 [00:02<00:00,  6.69it/s, loss=0.0466]\n",
      "Training  : 100%|███████████████████████████████████| 14/14 [00:02<00:00,  6.62it/s, loss=0.0542]\n",
      "Training  : 100%|███████████████████████████████████| 14/14 [00:02<00:00,  6.69it/s, loss=0.0488]\n",
      "Training  : 100%|███████████████████████████████████| 14/14 [00:02<00:00,  6.65it/s, loss=0.0525]\n",
      "Training  : 100%|███████████████████████████████████| 14/14 [00:02<00:00,  6.71it/s, loss=0.0552]\n",
      "Training  : 100%|████████████████████████████████████| 14/14 [00:02<00:00,  6.66it/s, loss=0.051]\n",
      "Training  : 100%|████████████████████████████████████| 14/14 [00:02<00:00,  6.65it/s, loss=0.056]\n",
      "Training  : 100%|███████████████████████████████████| 14/14 [00:02<00:00,  6.69it/s, loss=0.0534]\n",
      "Training  : 100%|███████████████████████████████████| 14/14 [00:02<00:00,  6.64it/s, loss=0.0516]\n",
      "Training  : 100%|███████████████████████████████████| 14/14 [00:02<00:00,  6.64it/s, loss=0.0641]\n",
      "Training  : 100%|███████████████████████████████████| 14/14 [00:02<00:00,  6.71it/s, loss=0.0492]\n",
      "Training  : 100%|███████████████████████████████████| 14/14 [00:02<00:00,  6.63it/s, loss=0.0495]\n",
      "Training  : 100%|███████████████████████████████████| 14/14 [00:02<00:00,  6.69it/s, loss=0.0579]\n",
      "Training  : 100%|███████████████████████████████████| 14/14 [00:02<00:00,  6.69it/s, loss=0.0479]\n",
      "Training  : 100%|████████████████████████████████████| 14/14 [00:02<00:00,  6.76it/s, loss=0.052]\n",
      "Training  : 100%|███████████████████████████████████| 14/14 [00:02<00:00,  6.74it/s, loss=0.0488]\n",
      "Training  : 100%|████████████████████████████████████| 14/14 [00:02<00:00,  6.70it/s, loss=0.046]\n",
      "Training  : 100%|███████████████████████████████████| 14/14 [00:02<00:00,  6.71it/s, loss=0.0473]\n",
      "Training  : 100%|███████████████████████████████████| 14/14 [00:02<00:00,  6.74it/s, loss=0.0516]\n",
      "Training  : 100%|████████████████████████████████████| 14/14 [00:02<00:00,  6.70it/s, loss=0.048]\n",
      "Training  : 100%|███████████████████████████████████| 14/14 [00:02<00:00,  6.71it/s, loss=0.0503]\n",
      "Training  : 100%|███████████████████████████████████| 14/14 [00:02<00:00,  6.64it/s, loss=0.0574]\n",
      "Training  : 100%|███████████████████████████████████| 14/14 [00:02<00:00,  6.64it/s, loss=0.0501]\n",
      "Training  : 100%|███████████████████████████████████| 14/14 [00:02<00:00,  6.67it/s, loss=0.0474]\n",
      "Training  : 100%|███████████████████████████████████| 14/14 [00:02<00:00,  6.72it/s, loss=0.0524]\n",
      "Training  : 100%|███████████████████████████████████| 14/14 [00:02<00:00,  6.64it/s, loss=0.0475]\n",
      "Training  : 100%|███████████████████████████████████| 14/14 [00:02<00:00,  6.68it/s, loss=0.0494]\n",
      "Training  : 100%|███████████████████████████████████| 14/14 [00:02<00:00,  6.67it/s, loss=0.0578]\n",
      "Training  : 100%|███████████████████████████████████| 14/14 [00:02<00:00,  6.68it/s, loss=0.0472]\n",
      "Training  : 100%|███████████████████████████████████| 14/14 [00:02<00:00,  6.70it/s, loss=0.0484]\n",
      "Training  : 100%|███████████████████████████████████| 14/14 [00:02<00:00,  6.69it/s, loss=0.0473]\n",
      "Training  : 100%|███████████████████████████████████| 14/14 [00:02<00:00,  6.68it/s, loss=0.0498]\n",
      "Training  : 100%|███████████████████████████████████| 14/14 [00:02<00:00,  6.71it/s, loss=0.0488]\n",
      "Training  : 100%|███████████████████████████████████| 14/14 [00:02<00:00,  6.66it/s, loss=0.0471]\n",
      "Training  : 100%|███████████████████████████████████| 14/14 [00:02<00:00,  6.73it/s, loss=0.0507]\n",
      "Training  : 100%|███████████████████████████████████| 14/14 [00:02<00:00,  6.74it/s, loss=0.0509]\n",
      "Training  : 100%|████████████████████████████████████| 14/14 [00:02<00:00,  6.62it/s, loss=0.052]\n",
      "Training  : 100%|███████████████████████████████████| 14/14 [00:02<00:00,  6.66it/s, loss=0.0519]\n",
      "Training  : 100%|███████████████████████████████████| 14/14 [00:02<00:00,  6.70it/s, loss=0.0477]\n",
      "Training  : 100%|███████████████████████████████████| 14/14 [00:02<00:00,  6.71it/s, loss=0.0474]\n",
      "Training  : 100%|███████████████████████████████████| 14/14 [00:02<00:00,  6.68it/s, loss=0.0457]\n",
      "Training  : 100%|███████████████████████████████████| 14/14 [00:02<00:00,  6.70it/s, loss=0.0514]\n",
      "Training  : 100%|███████████████████████████████████| 14/14 [00:02<00:00,  6.75it/s, loss=0.0502]\n",
      "Training  : 100%|███████████████████████████████████| 14/14 [00:02<00:00,  6.64it/s, loss=0.0487]\n",
      "Training  : 100%|███████████████████████████████████| 14/14 [00:02<00:00,  6.67it/s, loss=0.0459]\n",
      "Training  : 100%|███████████████████████████████████| 14/14 [00:02<00:00,  6.69it/s, loss=0.0474]\n",
      "Training  : 100%|███████████████████████████████████| 14/14 [00:02<00:00,  6.73it/s, loss=0.0498]\n",
      "Training  : 100%|███████████████████████████████████| 14/14 [00:02<00:00,  6.73it/s, loss=0.0442]\n",
      "Training  : 100%|███████████████████████████████████| 14/14 [00:02<00:00,  6.67it/s, loss=0.0466]\n",
      "Training  : 100%|███████████████████████████████████| 14/14 [00:02<00:00,  6.68it/s, loss=0.0492]\n",
      "Training  : 100%|███████████████████████████████████| 14/14 [00:02<00:00,  6.65it/s, loss=0.0477]\n",
      "Training  : 100%|███████████████████████████████████| 14/14 [00:02<00:00,  6.67it/s, loss=0.0468]\n",
      "Training  : 100%|███████████████████████████████████| 14/14 [00:02<00:00,  6.69it/s, loss=0.0437]\n",
      "Training  : 100%|███████████████████████████████████| 14/14 [00:02<00:00,  6.67it/s, loss=0.0433]\n",
      "Training  : 100%|███████████████████████████████████| 14/14 [00:02<00:00,  6.69it/s, loss=0.0502]\n",
      "Training  : 100%|███████████████████████████████████| 14/14 [00:02<00:00,  6.65it/s, loss=0.0478]\n",
      "Training  : 100%|███████████████████████████████████| 14/14 [00:02<00:00,  6.75it/s, loss=0.0463]\n",
      "Training  : 100%|███████████████████████████████████| 14/14 [00:02<00:00,  6.67it/s, loss=0.0456]\n",
      "Predicting: 100%|████████████████████████████████████████████████| 27/27 [00:00<00:00, 55.17it/s]\n"
     ]
    },
    {
     "name": "stdout",
     "output_type": "stream",
     "text": [
      "Building sklearn text classifier...\n",
      "Loading bert-base-uncased model...\n",
      "Defaulting to linear classifier/regressor\n",
      "Loading Pytorch checkpoint\n",
      "train data size: 428, validation data size: 0\n"
     ]
    },
    {
     "name": "stderr",
     "output_type": "stream",
     "text": [
      "Training  : 100%|████████████████████████████████████| 14/14 [00:02<00:00,  6.52it/s, loss=0.588]\n",
      "Training  : 100%|████████████████████████████████████| 14/14 [00:02<00:00,  6.57it/s, loss=0.411]\n",
      "Training  : 100%|████████████████████████████████████| 14/14 [00:02<00:00,  6.69it/s, loss=0.264]\n",
      "Training  : 100%|████████████████████████████████████| 14/14 [00:02<00:00,  6.67it/s, loss=0.219]\n",
      "Training  : 100%|████████████████████████████████████| 14/14 [00:02<00:00,  6.72it/s, loss=0.158]\n",
      "Training  : 100%|████████████████████████████████████| 14/14 [00:02<00:00,  6.68it/s, loss=0.134]\n",
      "Training  : 100%|████████████████████████████████████| 14/14 [00:02<00:00,  6.61it/s, loss=0.121]\n",
      "Training  : 100%|████████████████████████████████████| 14/14 [00:02<00:00,  6.66it/s, loss=0.116]\n",
      "Training  : 100%|████████████████████████████████████| 14/14 [00:02<00:00,  6.61it/s, loss=0.105]\n",
      "Training  : 100%|███████████████████████████████████| 14/14 [00:02<00:00,  6.64it/s, loss=0.0947]\n",
      "Training  : 100%|███████████████████████████████████| 14/14 [00:02<00:00,  6.68it/s, loss=0.0814]\n",
      "Training  : 100%|████████████████████████████████████| 14/14 [00:02<00:00,  6.72it/s, loss=0.077]\n",
      "Training  : 100%|███████████████████████████████████| 14/14 [00:02<00:00,  6.70it/s, loss=0.0772]\n",
      "Training  : 100%|███████████████████████████████████| 14/14 [00:02<00:00,  6.66it/s, loss=0.0674]\n",
      "Training  : 100%|███████████████████████████████████| 14/14 [00:02<00:00,  6.68it/s, loss=0.0636]\n",
      "Training  : 100%|███████████████████████████████████| 14/14 [00:02<00:00,  6.57it/s, loss=0.0623]\n",
      "Training  : 100%|███████████████████████████████████| 14/14 [00:02<00:00,  6.62it/s, loss=0.0663]\n",
      "Training  : 100%|███████████████████████████████████| 14/14 [00:02<00:00,  6.68it/s, loss=0.0625]\n",
      "Training  : 100%|███████████████████████████████████| 14/14 [00:02<00:00,  6.63it/s, loss=0.0589]\n",
      "Training  : 100%|███████████████████████████████████| 14/14 [00:02<00:00,  6.70it/s, loss=0.0626]\n",
      "Training  : 100%|███████████████████████████████████| 14/14 [00:02<00:00,  6.67it/s, loss=0.0578]\n",
      "Training  : 100%|███████████████████████████████████| 14/14 [00:02<00:00,  6.67it/s, loss=0.0571]\n",
      "Training  : 100%|███████████████████████████████████| 14/14 [00:02<00:00,  6.69it/s, loss=0.0633]\n",
      "Training  : 100%|███████████████████████████████████| 14/14 [00:02<00:00,  6.68it/s, loss=0.0668]\n",
      "Training  : 100%|███████████████████████████████████| 14/14 [00:02<00:00,  6.68it/s, loss=0.0585]\n",
      "Training  : 100%|███████████████████████████████████| 14/14 [00:02<00:00,  6.63it/s, loss=0.0572]\n",
      "Training  : 100%|███████████████████████████████████| 14/14 [00:02<00:00,  6.73it/s, loss=0.0575]\n",
      "Training  : 100%|███████████████████████████████████| 14/14 [00:02<00:00,  6.70it/s, loss=0.0544]\n",
      "Training  : 100%|███████████████████████████████████| 14/14 [00:02<00:00,  6.67it/s, loss=0.0536]\n",
      "Training  : 100%|███████████████████████████████████| 14/14 [00:02<00:00,  6.72it/s, loss=0.0665]\n",
      "Training  : 100%|████████████████████████████████████| 14/14 [00:02<00:00,  6.69it/s, loss=0.055]\n",
      "Training  : 100%|███████████████████████████████████| 14/14 [00:02<00:00,  6.68it/s, loss=0.0659]\n",
      "Training  : 100%|████████████████████████████████████| 14/14 [00:02<00:00,  6.70it/s, loss=0.057]\n",
      "Training  : 100%|████████████████████████████████████| 14/14 [00:02<00:00,  6.59it/s, loss=0.063]\n",
      "Training  : 100%|███████████████████████████████████| 14/14 [00:02<00:00,  6.67it/s, loss=0.0565]\n",
      "Training  : 100%|███████████████████████████████████| 14/14 [00:02<00:00,  6.68it/s, loss=0.0523]\n",
      "Training  : 100%|███████████████████████████████████| 14/14 [00:02<00:00,  6.68it/s, loss=0.0741]\n",
      "Training  : 100%|███████████████████████████████████| 14/14 [00:02<00:00,  6.71it/s, loss=0.0572]\n",
      "Training  : 100%|███████████████████████████████████| 14/14 [00:02<00:00,  6.74it/s, loss=0.0501]\n",
      "Training  : 100%|███████████████████████████████████| 14/14 [00:02<00:00,  6.74it/s, loss=0.0485]\n",
      "Training  : 100%|███████████████████████████████████| 14/14 [00:02<00:00,  6.73it/s, loss=0.0505]\n",
      "Training  : 100%|███████████████████████████████████| 14/14 [00:02<00:00,  6.69it/s, loss=0.0512]\n",
      "Training  : 100%|███████████████████████████████████| 14/14 [00:02<00:00,  6.70it/s, loss=0.0511]\n",
      "Training  : 100%|███████████████████████████████████| 14/14 [00:02<00:00,  6.71it/s, loss=0.0504]\n",
      "Training  : 100%|███████████████████████████████████| 14/14 [00:02<00:00,  6.71it/s, loss=0.0518]\n",
      "Training  : 100%|███████████████████████████████████| 14/14 [00:02<00:00,  6.78it/s, loss=0.0526]\n",
      "Training  : 100%|███████████████████████████████████| 14/14 [00:02<00:00,  6.73it/s, loss=0.0506]\n",
      "Training  : 100%|███████████████████████████████████| 14/14 [00:02<00:00,  6.77it/s, loss=0.0505]\n",
      "Training  : 100%|███████████████████████████████████| 14/14 [00:02<00:00,  6.74it/s, loss=0.0519]\n",
      "Training  : 100%|███████████████████████████████████| 14/14 [00:02<00:00,  6.77it/s, loss=0.0613]\n",
      "Training  : 100%|███████████████████████████████████| 14/14 [00:02<00:00,  6.79it/s, loss=0.0538]\n",
      "Training  : 100%|███████████████████████████████████| 14/14 [00:02<00:00,  6.72it/s, loss=0.0535]\n",
      "Training  : 100%|████████████████████████████████████| 14/14 [00:02<00:00,  6.72it/s, loss=0.048]\n",
      "Training  : 100%|███████████████████████████████████| 14/14 [00:02<00:00,  6.76it/s, loss=0.0524]\n",
      "Training  : 100%|███████████████████████████████████| 14/14 [00:02<00:00,  6.77it/s, loss=0.0647]\n",
      "Training  : 100%|███████████████████████████████████| 14/14 [00:02<00:00,  6.70it/s, loss=0.0494]\n",
      "Training  : 100%|███████████████████████████████████| 14/14 [00:02<00:00,  6.65it/s, loss=0.0508]\n",
      "Training  : 100%|███████████████████████████████████| 14/14 [00:02<00:00,  6.67it/s, loss=0.0484]\n",
      "Training  : 100%|███████████████████████████████████| 14/14 [00:02<00:00,  6.72it/s, loss=0.0535]\n",
      "Training  : 100%|███████████████████████████████████| 14/14 [00:02<00:00,  6.68it/s, loss=0.0515]\n",
      "Training  : 100%|███████████████████████████████████| 14/14 [00:02<00:00,  6.60it/s, loss=0.0501]\n",
      "Training  : 100%|███████████████████████████████████| 14/14 [00:02<00:00,  6.22it/s, loss=0.0561]\n",
      "Training  : 100%|███████████████████████████████████| 14/14 [00:02<00:00,  6.38it/s, loss=0.0572]\n",
      "Training  : 100%|███████████████████████████████████| 14/14 [00:02<00:00,  6.73it/s, loss=0.0579]\n",
      "Training  : 100%|███████████████████████████████████| 14/14 [00:02<00:00,  6.72it/s, loss=0.0514]\n",
      "Training  : 100%|███████████████████████████████████| 14/14 [00:02<00:00,  6.73it/s, loss=0.0498]\n",
      "Training  : 100%|███████████████████████████████████| 14/14 [00:02<00:00,  6.72it/s, loss=0.0517]\n",
      "Training  : 100%|███████████████████████████████████| 14/14 [00:02<00:00,  6.64it/s, loss=0.0486]\n",
      "Training  : 100%|███████████████████████████████████| 14/14 [00:02<00:00,  6.72it/s, loss=0.0461]\n",
      "Training  : 100%|███████████████████████████████████| 14/14 [00:02<00:00,  6.73it/s, loss=0.0507]\n",
      "Training  : 100%|███████████████████████████████████| 14/14 [00:02<00:00,  6.67it/s, loss=0.0486]\n",
      "Training  : 100%|████████████████████████████████████| 14/14 [00:02<00:00,  6.69it/s, loss=0.051]\n",
      "Training  : 100%|███████████████████████████████████| 14/14 [00:02<00:00,  6.67it/s, loss=0.0504]\n",
      "Training  : 100%|███████████████████████████████████| 14/14 [00:02<00:00,  6.71it/s, loss=0.0489]\n",
      "Training  : 100%|███████████████████████████████████| 14/14 [00:02<00:00,  6.71it/s, loss=0.0498]\n",
      "Training  : 100%|███████████████████████████████████| 14/14 [00:02<00:00,  6.66it/s, loss=0.0485]\n",
      "Training  : 100%|███████████████████████████████████| 14/14 [00:02<00:00,  6.69it/s, loss=0.0547]\n",
      "Training  : 100%|███████████████████████████████████| 14/14 [00:02<00:00,  6.72it/s, loss=0.0486]\n",
      "Training  : 100%|███████████████████████████████████| 14/14 [00:02<00:00,  6.67it/s, loss=0.0488]\n",
      "Training  : 100%|███████████████████████████████████| 14/14 [00:02<00:00,  6.76it/s, loss=0.0607]\n",
      "Training  : 100%|███████████████████████████████████| 14/14 [00:02<00:00,  6.75it/s, loss=0.0497]\n",
      "Training  : 100%|███████████████████████████████████| 14/14 [00:02<00:00,  6.64it/s, loss=0.0495]\n",
      "Training  : 100%|█████████████████████████████████████| 14/14 [00:02<00:00,  6.70it/s, loss=0.05]\n",
      "Training  : 100%|███████████████████████████████████| 14/14 [00:02<00:00,  6.70it/s, loss=0.0467]\n",
      "Training  : 100%|███████████████████████████████████| 14/14 [00:02<00:00,  6.70it/s, loss=0.0494]\n",
      "Training  : 100%|███████████████████████████████████| 14/14 [00:02<00:00,  6.72it/s, loss=0.0522]\n",
      "Training  : 100%|█████████████████████████████████████| 14/14 [00:02<00:00,  6.71it/s, loss=0.05]\n",
      "Training  : 100%|███████████████████████████████████| 14/14 [00:02<00:00,  6.69it/s, loss=0.0496]\n",
      "Training  : 100%|███████████████████████████████████| 14/14 [00:02<00:00,  6.63it/s, loss=0.0516]\n",
      "Training  : 100%|███████████████████████████████████| 14/14 [00:02<00:00,  6.73it/s, loss=0.0463]\n",
      "Training  : 100%|████████████████████████████████████| 14/14 [00:02<00:00,  6.76it/s, loss=0.049]\n",
      "Training  : 100%|███████████████████████████████████| 14/14 [00:02<00:00,  6.77it/s, loss=0.0484]\n",
      "Training  : 100%|███████████████████████████████████| 14/14 [00:02<00:00,  6.71it/s, loss=0.0472]\n",
      "Training  : 100%|███████████████████████████████████| 14/14 [00:02<00:00,  6.64it/s, loss=0.0469]\n",
      "Training  : 100%|███████████████████████████████████| 14/14 [00:02<00:00,  6.78it/s, loss=0.0491]\n",
      "Training  : 100%|███████████████████████████████████| 14/14 [00:02<00:00,  6.79it/s, loss=0.0462]\n",
      "Training  : 100%|███████████████████████████████████| 14/14 [00:02<00:00,  6.68it/s, loss=0.0482]\n",
      "Training  : 100%|███████████████████████████████████| 14/14 [00:02<00:00,  6.72it/s, loss=0.0523]\n",
      "Training  : 100%|███████████████████████████████████| 14/14 [00:02<00:00,  6.81it/s, loss=0.0483]\n",
      "Training  : 100%|███████████████████████████████████| 14/14 [00:02<00:00,  6.71it/s, loss=0.0534]\n",
      "Predicting: 100%|████████████████████████████████████████████████| 27/27 [00:00<00:00, 53.10it/s]\n"
     ]
    },
    {
     "name": "stdout",
     "output_type": "stream",
     "text": [
      "Building sklearn text classifier...\n",
      "Loading bert-base-uncased model...\n",
      "Defaulting to linear classifier/regressor\n",
      "Loading Pytorch checkpoint\n",
      "train data size: 428, validation data size: 0\n"
     ]
    },
    {
     "name": "stderr",
     "output_type": "stream",
     "text": [
      "Training  : 100%|████████████████████████████████████| 14/14 [00:02<00:00,  6.59it/s, loss=0.603]\n",
      "Training  : 100%|████████████████████████████████████| 14/14 [00:02<00:00,  6.59it/s, loss=0.412]\n",
      "Training  : 100%|████████████████████████████████████| 14/14 [00:02<00:00,  6.65it/s, loss=0.256]\n",
      "Training  : 100%|████████████████████████████████████| 14/14 [00:02<00:00,  6.71it/s, loss=0.192]\n",
      "Training  : 100%|████████████████████████████████████| 14/14 [00:02<00:00,  6.74it/s, loss=0.124]\n",
      "Training  : 100%|████████████████████████████████████| 14/14 [00:02<00:00,  6.64it/s, loss=0.116]\n",
      "Training  : 100%|████████████████████████████████████| 14/14 [00:02<00:00,  6.66it/s, loss=0.101]\n",
      "Training  : 100%|███████████████████████████████████| 14/14 [00:02<00:00,  6.66it/s, loss=0.0837]\n",
      "Training  : 100%|███████████████████████████████████| 14/14 [00:02<00:00,  6.68it/s, loss=0.0903]\n",
      "Training  : 100%|███████████████████████████████████| 14/14 [00:02<00:00,  6.64it/s, loss=0.0706]\n",
      "Training  : 100%|███████████████████████████████████| 14/14 [00:02<00:00,  6.64it/s, loss=0.0718]\n",
      "Training  : 100%|███████████████████████████████████| 14/14 [00:02<00:00,  6.65it/s, loss=0.0653]\n",
      "Training  : 100%|███████████████████████████████████| 14/14 [00:02<00:00,  6.64it/s, loss=0.0669]\n",
      "Training  : 100%|███████████████████████████████████| 14/14 [00:02<00:00,  6.71it/s, loss=0.0666]\n",
      "Training  : 100%|███████████████████████████████████| 14/14 [00:02<00:00,  6.62it/s, loss=0.0662]\n",
      "Training  : 100%|███████████████████████████████████| 14/14 [00:02<00:00,  6.71it/s, loss=0.0817]\n",
      "Training  : 100%|███████████████████████████████████| 14/14 [00:02<00:00,  6.69it/s, loss=0.0793]\n",
      "Training  : 100%|███████████████████████████████████| 14/14 [00:02<00:00,  6.69it/s, loss=0.0637]\n",
      "Training  : 100%|███████████████████████████████████| 14/14 [00:02<00:00,  6.62it/s, loss=0.0582]\n",
      "Training  : 100%|███████████████████████████████████| 14/14 [00:02<00:00,  6.65it/s, loss=0.0604]\n",
      "Training  : 100%|███████████████████████████████████| 14/14 [00:02<00:00,  6.62it/s, loss=0.0539]\n",
      "Training  : 100%|███████████████████████████████████| 14/14 [00:02<00:00,  6.68it/s, loss=0.0553]\n",
      "Training  : 100%|███████████████████████████████████| 14/14 [00:02<00:00,  6.64it/s, loss=0.0493]\n",
      "Training  : 100%|███████████████████████████████████| 14/14 [00:02<00:00,  6.69it/s, loss=0.0531]\n",
      "Training  : 100%|███████████████████████████████████| 14/14 [00:02<00:00,  6.59it/s, loss=0.0494]\n",
      "Training  : 100%|███████████████████████████████████| 14/14 [00:02<00:00,  6.61it/s, loss=0.0525]\n",
      "Training  : 100%|███████████████████████████████████| 14/14 [00:02<00:00,  6.67it/s, loss=0.0477]\n",
      "Training  : 100%|███████████████████████████████████| 14/14 [00:02<00:00,  6.62it/s, loss=0.0518]\n",
      "Training  : 100%|███████████████████████████████████| 14/14 [00:02<00:00,  6.69it/s, loss=0.0452]\n",
      "Training  : 100%|███████████████████████████████████| 14/14 [00:02<00:00,  6.71it/s, loss=0.0569]\n",
      "Training  : 100%|███████████████████████████████████| 14/14 [00:02<00:00,  6.68it/s, loss=0.0562]\n",
      "Training  : 100%|███████████████████████████████████| 14/14 [00:02<00:00,  6.64it/s, loss=0.0449]\n",
      "Training  : 100%|███████████████████████████████████| 14/14 [00:02<00:00,  6.61it/s, loss=0.0493]\n",
      "Training  : 100%|███████████████████████████████████| 14/14 [00:02<00:00,  6.64it/s, loss=0.0424]\n",
      "Training  : 100%|███████████████████████████████████| 14/14 [00:02<00:00,  6.67it/s, loss=0.0421]\n",
      "Training  : 100%|███████████████████████████████████| 14/14 [00:02<00:00,  6.70it/s, loss=0.0483]\n",
      "Training  : 100%|███████████████████████████████████| 14/14 [00:02<00:00,  6.65it/s, loss=0.0468]\n",
      "Training  : 100%|███████████████████████████████████| 14/14 [00:02<00:00,  6.62it/s, loss=0.0434]\n",
      "Training  : 100%|███████████████████████████████████| 14/14 [00:02<00:00,  6.70it/s, loss=0.0414]\n",
      "Training  : 100%|███████████████████████████████████| 14/14 [00:02<00:00,  6.72it/s, loss=0.0403]\n",
      "Training  : 100%|███████████████████████████████████| 14/14 [00:02<00:00,  6.64it/s, loss=0.0449]\n",
      "Training  : 100%|███████████████████████████████████| 14/14 [00:02<00:00,  6.65it/s, loss=0.0409]\n",
      "Training  : 100%|███████████████████████████████████| 14/14 [00:02<00:00,  6.71it/s, loss=0.0513]\n",
      "Training  : 100%|███████████████████████████████████| 14/14 [00:02<00:00,  6.69it/s, loss=0.0412]\n",
      "Training  : 100%|████████████████████████████████████| 14/14 [00:02<00:00,  6.64it/s, loss=0.042]\n",
      "Training  : 100%|███████████████████████████████████| 14/14 [00:02<00:00,  6.65it/s, loss=0.0463]\n",
      "Training  : 100%|███████████████████████████████████| 14/14 [00:02<00:00,  6.65it/s, loss=0.0453]\n",
      "Training  : 100%|███████████████████████████████████| 14/14 [00:02<00:00,  6.63it/s, loss=0.0443]\n",
      "Training  : 100%|███████████████████████████████████| 14/14 [00:02<00:00,  6.71it/s, loss=0.0433]\n",
      "Training  : 100%|███████████████████████████████████| 14/14 [00:02<00:00,  6.63it/s, loss=0.0422]\n",
      "Training  : 100%|███████████████████████████████████| 14/14 [00:02<00:00,  6.63it/s, loss=0.0443]\n",
      "Training  : 100%|███████████████████████████████████| 14/14 [00:02<00:00,  6.66it/s, loss=0.0395]\n",
      "Training  : 100%|███████████████████████████████████| 14/14 [00:02<00:00,  6.60it/s, loss=0.0381]\n",
      "Training  : 100%|███████████████████████████████████| 14/14 [00:02<00:00,  6.63it/s, loss=0.0419]\n",
      "Training  : 100%|███████████████████████████████████| 14/14 [00:02<00:00,  6.63it/s, loss=0.0424]\n",
      "Training  : 100%|███████████████████████████████████| 14/14 [00:02<00:00,  6.65it/s, loss=0.0429]\n",
      "Training  : 100%|███████████████████████████████████| 14/14 [00:02<00:00,  6.70it/s, loss=0.0391]\n",
      "Training  : 100%|███████████████████████████████████| 14/14 [00:02<00:00,  6.71it/s, loss=0.0435]\n",
      "Training  : 100%|███████████████████████████████████| 14/14 [00:02<00:00,  6.71it/s, loss=0.0452]\n",
      "Training  : 100%|███████████████████████████████████| 14/14 [00:02<00:00,  6.70it/s, loss=0.0402]\n",
      "Training  : 100%|███████████████████████████████████| 14/14 [00:02<00:00,  6.67it/s, loss=0.0409]\n",
      "Training  : 100%|███████████████████████████████████| 14/14 [00:02<00:00,  6.59it/s, loss=0.0453]\n",
      "Training  : 100%|███████████████████████████████████| 14/14 [00:02<00:00,  6.65it/s, loss=0.0425]\n",
      "Training  : 100%|███████████████████████████████████| 14/14 [00:02<00:00,  6.67it/s, loss=0.0444]\n",
      "Training  : 100%|███████████████████████████████████| 14/14 [00:02<00:00,  6.71it/s, loss=0.0459]\n",
      "Training  : 100%|███████████████████████████████████| 14/14 [00:02<00:00,  6.65it/s, loss=0.0409]\n",
      "Training  : 100%|█████████████████████████████████████| 14/14 [00:02<00:00,  6.63it/s, loss=0.04]\n",
      "Training  : 100%|███████████████████████████████████| 14/14 [00:02<00:00,  6.67it/s, loss=0.0397]\n",
      "Training  : 100%|███████████████████████████████████| 14/14 [00:02<00:00,  6.63it/s, loss=0.0399]\n",
      "Training  : 100%|███████████████████████████████████| 14/14 [00:02<00:00,  6.62it/s, loss=0.0389]\n",
      "Training  : 100%|███████████████████████████████████| 14/14 [00:02<00:00,  6.63it/s, loss=0.0416]\n",
      "Training  : 100%|███████████████████████████████████| 14/14 [00:02<00:00,  6.69it/s, loss=0.0406]\n",
      "Training  : 100%|███████████████████████████████████| 14/14 [00:02<00:00,  6.67it/s, loss=0.0447]\n",
      "Training  : 100%|████████████████████████████████████| 14/14 [00:02<00:00,  6.55it/s, loss=0.044]\n",
      "Training  : 100%|███████████████████████████████████| 14/14 [00:02<00:00,  6.56it/s, loss=0.0402]\n",
      "Training  : 100%|███████████████████████████████████| 14/14 [00:02<00:00,  6.67it/s, loss=0.0416]\n",
      "Training  : 100%|███████████████████████████████████| 14/14 [00:02<00:00,  6.71it/s, loss=0.0482]\n",
      "Training  : 100%|███████████████████████████████████| 14/14 [00:02<00:00,  6.67it/s, loss=0.0414]\n",
      "Training  : 100%|███████████████████████████████████| 14/14 [00:02<00:00,  6.65it/s, loss=0.0412]\n",
      "Training  : 100%|███████████████████████████████████| 14/14 [00:02<00:00,  6.59it/s, loss=0.0483]\n",
      "Training  : 100%|███████████████████████████████████| 14/14 [00:02<00:00,  6.66it/s, loss=0.0428]\n",
      "Training  : 100%|███████████████████████████████████| 14/14 [00:02<00:00,  6.74it/s, loss=0.0447]\n",
      "Training  : 100%|███████████████████████████████████| 14/14 [00:02<00:00,  6.70it/s, loss=0.0448]\n",
      "Training  : 100%|███████████████████████████████████| 14/14 [00:02<00:00,  6.60it/s, loss=0.0395]\n",
      "Training  : 100%|███████████████████████████████████| 14/14 [00:02<00:00,  6.69it/s, loss=0.0406]\n",
      "Training  : 100%|███████████████████████████████████| 14/14 [00:02<00:00,  6.65it/s, loss=0.0514]\n",
      "Training  : 100%|███████████████████████████████████| 14/14 [00:02<00:00,  6.64it/s, loss=0.0398]\n",
      "Training  : 100%|███████████████████████████████████| 14/14 [00:02<00:00,  6.63it/s, loss=0.0406]\n",
      "Training  : 100%|███████████████████████████████████| 14/14 [00:02<00:00,  6.71it/s, loss=0.0415]\n",
      "Training  : 100%|███████████████████████████████████| 14/14 [00:02<00:00,  6.66it/s, loss=0.0452]\n",
      "Training  : 100%|███████████████████████████████████| 14/14 [00:02<00:00,  6.64it/s, loss=0.0405]\n",
      "Training  : 100%|███████████████████████████████████| 14/14 [00:02<00:00,  6.66it/s, loss=0.0389]\n",
      "Training  : 100%|███████████████████████████████████| 14/14 [00:02<00:00,  6.67it/s, loss=0.0385]\n",
      "Training  : 100%|███████████████████████████████████| 14/14 [00:02<00:00,  6.68it/s, loss=0.0383]\n",
      "Training  : 100%|████████████████████████████████████| 14/14 [00:02<00:00,  6.62it/s, loss=0.039]\n",
      "Training  : 100%|███████████████████████████████████| 14/14 [00:02<00:00,  6.71it/s, loss=0.0393]\n",
      "Training  : 100%|███████████████████████████████████| 14/14 [00:02<00:00,  6.62it/s, loss=0.0385]\n",
      "Training  : 100%|███████████████████████████████████| 14/14 [00:02<00:00,  6.71it/s, loss=0.0495]\n",
      "Training  : 100%|███████████████████████████████████| 14/14 [00:02<00:00,  6.70it/s, loss=0.0403]\n",
      "Training  : 100%|███████████████████████████████████| 14/14 [00:02<00:00,  6.65it/s, loss=0.0534]\n",
      "Predicting: 100%|████████████████████████████████████████████████| 27/27 [00:00<00:00, 51.04it/s]\n"
     ]
    },
    {
     "name": "stdout",
     "output_type": "stream",
     "text": [
      "Building sklearn text classifier...\n",
      "Building sklearn text classifier...\n",
      "Loading bert-base-uncased model...\n",
      "Defaulting to linear classifier/regressor\n",
      "Loading Pytorch checkpoint\n",
      "train data size: 642, validation data size: 0\n"
     ]
    },
    {
     "name": "stderr",
     "output_type": "stream",
     "text": [
      "Training  : 100%|████████████████████████████████████| 21/21 [00:03<00:00,  6.93it/s, loss=0.572]\n",
      "Training  : 100%|████████████████████████████████████| 21/21 [00:03<00:00,  6.99it/s, loss=0.309]\n",
      "Training  : 100%|████████████████████████████████████| 21/21 [00:03<00:00,  6.94it/s, loss=0.224]\n",
      "Training  : 100%|████████████████████████████████████| 21/21 [00:03<00:00,  6.95it/s, loss=0.211]\n",
      "Training  : 100%|████████████████████████████████████| 21/21 [00:03<00:00,  6.93it/s, loss=0.124]\n",
      "Training  : 100%|████████████████████████████████████| 21/21 [00:03<00:00,  6.95it/s, loss=0.106]\n",
      "Training  : 100%|████████████████████████████████████| 21/21 [00:03<00:00,  6.95it/s, loss=0.103]\n",
      "Training  : 100%|███████████████████████████████████| 21/21 [00:03<00:00,  6.98it/s, loss=0.0957]\n",
      "Training  : 100%|███████████████████████████████████| 21/21 [00:03<00:00,  6.91it/s, loss=0.0994]\n",
      "Training  : 100%|████████████████████████████████████| 21/21 [00:03<00:00,  6.93it/s, loss=0.092]\n",
      "Training  : 100%|████████████████████████████████████| 21/21 [00:03<00:00,  6.95it/s, loss=0.084]\n",
      "Training  : 100%|███████████████████████████████████| 21/21 [00:03<00:00,  6.74it/s, loss=0.0792]\n",
      "Training  : 100%|███████████████████████████████████| 21/21 [00:03<00:00,  6.85it/s, loss=0.0745]\n",
      "Training  : 100%|███████████████████████████████████| 21/21 [00:03<00:00,  6.96it/s, loss=0.0717]\n",
      "Training  : 100%|███████████████████████████████████| 21/21 [00:03<00:00,  6.96it/s, loss=0.0835]\n",
      "Training  : 100%|███████████████████████████████████| 21/21 [00:03<00:00,  6.97it/s, loss=0.0899]\n",
      "Training  : 100%|███████████████████████████████████| 21/21 [00:03<00:00,  6.95it/s, loss=0.0698]\n",
      "Training  : 100%|███████████████████████████████████| 21/21 [00:03<00:00,  6.96it/s, loss=0.0648]\n",
      "Training  : 100%|███████████████████████████████████| 21/21 [00:03<00:00,  6.96it/s, loss=0.0643]\n",
      "Training  : 100%|███████████████████████████████████| 21/21 [00:03<00:00,  6.95it/s, loss=0.0664]\n",
      "Training  : 100%|███████████████████████████████████| 21/21 [00:03<00:00,  6.97it/s, loss=0.0633]\n",
      "Training  : 100%|███████████████████████████████████| 21/21 [00:03<00:00,  6.89it/s, loss=0.0599]\n",
      "Training  : 100%|███████████████████████████████████| 21/21 [00:03<00:00,  6.94it/s, loss=0.0915]\n",
      "Training  : 100%|███████████████████████████████████| 21/21 [00:03<00:00,  6.96it/s, loss=0.0858]\n",
      "Training  : 100%|███████████████████████████████████| 21/21 [00:03<00:00,  6.93it/s, loss=0.0597]\n",
      "Training  : 100%|███████████████████████████████████| 21/21 [00:03<00:00,  6.94it/s, loss=0.0597]\n",
      "Training  : 100%|███████████████████████████████████| 21/21 [00:03<00:00,  6.92it/s, loss=0.0594]\n",
      "Training  : 100%|███████████████████████████████████| 21/21 [00:03<00:00,  6.96it/s, loss=0.0547]\n",
      "Training  : 100%|███████████████████████████████████| 21/21 [00:03<00:00,  6.94it/s, loss=0.0575]\n",
      "Training  : 100%|███████████████████████████████████| 21/21 [00:03<00:00,  6.94it/s, loss=0.0598]\n",
      "Training  : 100%|███████████████████████████████████| 21/21 [00:03<00:00,  6.86it/s, loss=0.0572]\n",
      "Training  : 100%|███████████████████████████████████| 21/21 [00:03<00:00,  6.90it/s, loss=0.0556]\n",
      "Training  : 100%|███████████████████████████████████| 21/21 [00:03<00:00,  6.93it/s, loss=0.0593]\n",
      "Training  : 100%|███████████████████████████████████| 21/21 [00:03<00:00,  6.95it/s, loss=0.0568]\n",
      "Training  : 100%|████████████████████████████████████| 21/21 [00:03<00:00,  6.96it/s, loss=0.168]\n",
      "Training  : 100%|███████████████████████████████████| 21/21 [00:03<00:00,  6.96it/s, loss=0.0591]\n",
      "Training  : 100%|███████████████████████████████████| 21/21 [00:03<00:00,  6.93it/s, loss=0.0569]\n",
      "Training  : 100%|███████████████████████████████████| 21/21 [00:03<00:00,  6.89it/s, loss=0.0572]\n",
      "Training  : 100%|███████████████████████████████████| 21/21 [00:03<00:00,  6.96it/s, loss=0.0537]\n",
      "Training  : 100%|███████████████████████████████████| 21/21 [00:03<00:00,  6.96it/s, loss=0.0549]\n",
      "Training  : 100%|███████████████████████████████████| 21/21 [00:03<00:00,  6.72it/s, loss=0.0817]\n",
      "Training  : 100%|███████████████████████████████████| 21/21 [00:03<00:00,  6.80it/s, loss=0.0684]\n",
      "Training  : 100%|███████████████████████████████████| 21/21 [00:03<00:00,  6.91it/s, loss=0.0551]\n",
      "Training  : 100%|███████████████████████████████████| 21/21 [00:03<00:00,  6.92it/s, loss=0.0545]\n",
      "Training  : 100%|███████████████████████████████████| 21/21 [00:03<00:00,  6.95it/s, loss=0.0683]\n",
      "Training  : 100%|███████████████████████████████████| 21/21 [00:03<00:00,  6.95it/s, loss=0.0521]\n",
      "Training  : 100%|███████████████████████████████████| 21/21 [00:03<00:00,  6.97it/s, loss=0.0544]\n",
      "Training  : 100%|███████████████████████████████████| 21/21 [00:03<00:00,  6.95it/s, loss=0.0513]\n",
      "Training  : 100%|███████████████████████████████████| 21/21 [00:03<00:00,  6.92it/s, loss=0.0518]\n",
      "Training  : 100%|███████████████████████████████████| 21/21 [00:03<00:00,  6.90it/s, loss=0.0523]\n",
      "Training  : 100%|████████████████████████████████████| 21/21 [00:03<00:00,  6.90it/s, loss=0.052]\n",
      "Training  : 100%|███████████████████████████████████| 21/21 [00:03<00:00,  6.96it/s, loss=0.0525]\n",
      "Training  : 100%|███████████████████████████████████| 21/21 [00:03<00:00,  6.95it/s, loss=0.0523]\n",
      "Training  : 100%|███████████████████████████████████| 21/21 [00:03<00:00,  6.92it/s, loss=0.0545]\n",
      "Training  : 100%|███████████████████████████████████| 21/21 [00:03<00:00,  6.98it/s, loss=0.0532]\n",
      "Training  : 100%|███████████████████████████████████| 21/21 [00:03<00:00,  6.95it/s, loss=0.0518]\n",
      "Training  : 100%|███████████████████████████████████| 21/21 [00:03<00:00,  6.97it/s, loss=0.0526]\n",
      "Training  : 100%|███████████████████████████████████| 21/21 [00:03<00:00,  6.94it/s, loss=0.0516]\n",
      "Training  : 100%|███████████████████████████████████| 21/21 [00:03<00:00,  6.96it/s, loss=0.0536]\n",
      "Training  : 100%|███████████████████████████████████| 21/21 [00:03<00:00,  6.90it/s, loss=0.0533]\n",
      "Training  : 100%|███████████████████████████████████| 21/21 [00:03<00:00,  6.91it/s, loss=0.0523]\n",
      "Training  : 100%|███████████████████████████████████| 21/21 [00:03<00:00,  6.94it/s, loss=0.0519]\n",
      "Training  : 100%|███████████████████████████████████| 21/21 [00:03<00:00,  6.89it/s, loss=0.0702]\n",
      "Training  : 100%|███████████████████████████████████| 21/21 [00:03<00:00,  6.90it/s, loss=0.0527]\n",
      "Training  : 100%|████████████████████████████████████| 21/21 [00:03<00:00,  6.95it/s, loss=0.051]\n",
      "Training  : 100%|███████████████████████████████████| 21/21 [00:03<00:00,  6.90it/s, loss=0.0522]\n",
      "Training  : 100%|███████████████████████████████████| 21/21 [00:03<00:00,  6.74it/s, loss=0.0517]\n",
      "Training  : 100%|███████████████████████████████████| 21/21 [00:03<00:00,  6.64it/s, loss=0.0495]\n",
      "Training  : 100%|███████████████████████████████████| 21/21 [00:03<00:00,  6.95it/s, loss=0.0527]\n",
      "Training  : 100%|███████████████████████████████████| 21/21 [00:03<00:00,  6.94it/s, loss=0.0506]\n",
      "Training  : 100%|███████████████████████████████████| 21/21 [00:03<00:00,  6.97it/s, loss=0.0606]\n",
      "Training  : 100%|███████████████████████████████████| 21/21 [00:03<00:00,  6.99it/s, loss=0.0519]\n",
      "Training  : 100%|███████████████████████████████████| 21/21 [00:03<00:00,  6.97it/s, loss=0.0524]\n",
      "Training  : 100%|███████████████████████████████████| 21/21 [00:03<00:00,  6.92it/s, loss=0.0524]\n",
      "Training  : 100%|███████████████████████████████████| 21/21 [00:03<00:00,  6.92it/s, loss=0.0534]\n"
     ]
    },
    {
     "data": {
      "text/plain": [
       "GridSearchCV(cv=3,\n",
       "             estimator=BertClassifier(max_seq_length=64, validation_fraction=0),\n",
       "             param_grid={'epochs': [50, 75, 100],\n",
       "                         'learning_rate': [2e-05, 3e-05, 1e-05]},\n",
       "             scoring='accuracy', verbose=True)"
      ]
     },
     "execution_count": 35,
     "metadata": {},
     "output_type": "execute_result"
    }
   ],
   "source": [
    "# %%time\n",
    "# from bert import run_classifier\n",
    "params = {'epochs':[50, 75, 100], 'learning_rate':[2e-5, 3e-5, 1e-5]}\n",
    "\n",
    "# wrap classifier/regressor in GridSearchCV\n",
    "clf_bert = GridSearchCV(BertClassifier(validation_fraction=0, max_seq_length=64), \n",
    "                   params,\n",
    "                   cv=3,\n",
    "                   scoring='accuracy',\n",
    "                   verbose=True)\n",
    "\n",
    "# fit gridsearch \n",
    "clf_bert.fit(X_train ,y_train)"
   ]
  },
  {
   "cell_type": "code",
   "execution_count": 36,
   "metadata": {},
   "outputs": [
    {
     "name": "stdout",
     "output_type": "stream",
     "text": [
      "0.950 (+/-0.004) for {'epochs': 50, 'learning_rate': 2e-05}\n",
      "0.955 (+/-0.012) for {'epochs': 50, 'learning_rate': 3e-05}\n",
      "0.952 (+/-0.009) for {'epochs': 50, 'learning_rate': 1e-05}\n",
      "0.952 (+/-0.009) for {'epochs': 75, 'learning_rate': 2e-05}\n",
      "0.952 (+/-0.009) for {'epochs': 75, 'learning_rate': 3e-05}\n",
      "0.955 (+/-0.009) for {'epochs': 75, 'learning_rate': 1e-05}\n",
      "0.955 (+/-0.009) for {'epochs': 100, 'learning_rate': 2e-05}\n",
      "0.949 (+/-0.000) for {'epochs': 100, 'learning_rate': 3e-05}\n",
      "0.955 (+/-0.009) for {'epochs': 100, 'learning_rate': 1e-05}\n",
      "\n",
      "Best score: 0.9548286604361372 with params: {'epochs': 75, 'learning_rate': 1e-05}\n"
     ]
    }
   ],
   "source": [
    "means = clf_bert.cv_results_['mean_test_score']\n",
    "stds = clf_bert.cv_results_['std_test_score']\n",
    "\n",
    "for mean, std, params in zip(means, stds, clf_bert.cv_results_['params']):\n",
    "        print(\"%0.3f (+/-%0.03f) for %r\"\n",
    "              % (mean, std * 2, params))\n",
    "        \n",
    "# best scores\n",
    "print(\"\\nBest score:\", clf_bert.best_score_,\"with params:\", clf_bert.best_params_)"
   ]
  },
  {
   "cell_type": "code",
   "execution_count": 33,
   "metadata": {},
   "outputs": [
    {
     "data": {
      "text/plain": [
       "'Tesla P100-PCIE-16GB'"
      ]
     },
     "execution_count": 33,
     "metadata": {},
     "output_type": "execute_result"
    }
   ],
   "source": [
    "# CUDA device (GPU)\n",
    "device = torch.device(\"cuda\" if torch.cuda.is_available() else \"cpu\")\n",
    "n_gpu = torch.cuda.device_count()\n",
    "torch.cuda.get_device_name(0)\n",
    "# Print state of GPU\n",
    "# !nvidia-smi"
   ]
  },
  {
   "cell_type": "code",
   "execution_count": 136,
   "metadata": {},
   "outputs": [],
   "source": [
    "#define a batch size\n",
    "batch_size = 5\n",
    "epochs = 75\n",
    "learning_rate = 1e-1"
   ]
  },
  {
   "cell_type": "code",
   "execution_count": 137,
   "metadata": {},
   "outputs": [],
   "source": [
    "categories = {'control': 0, 'case': 1}\n",
    "# initialise the model use pretrained bert_2 instance and the label numbers\n",
    "model = BERT_Text_Classifier(bert, class_num=len(categories))\n",
    "\n",
    "# push the model to GPU\n",
    "model = model.to(device)\n",
    "\n",
    "# define the optimizer\n",
    "# optimizer = AdamW(model.parameters(),\n",
    "#                   lr = learning_rate)\n",
    "optimizer = optim.SGD(model.parameters(), lr=learning_rate)\n",
    "\n",
    "cross_entropy  = nn.NLLLoss() "
   ]
  },
  {
   "cell_type": "code",
   "execution_count": 138,
   "metadata": {},
   "outputs": [
    {
     "name": "stdout",
     "output_type": "stream",
     "text": [
      "\n",
      " Epoch 1 / 75\n"
     ]
    },
    {
     "name": "stderr",
     "output_type": "stream",
     "text": [
      "100%|██████████| 129/129 [00:08<00:00, 15.88it/s]"
     ]
    },
    {
     "name": "stdout",
     "output_type": "stream",
     "text": [
      "evaluating...\n"
     ]
    },
    {
     "name": "stderr",
     "output_type": "stream",
     "text": [
      "\n",
      "100%|██████████| 43/43 [00:00<00:00, 85.60it/s]"
     ]
    },
    {
     "name": "stdout",
     "output_type": "stream",
     "text": [
      "\n",
      "Training Loss: 0.079 dev performance, p:0.851, r:0.955, f1:0.900\n",
      "current best score is 0.900\n",
      "\n",
      " Epoch 2 / 75\n"
     ]
    },
    {
     "name": "stderr",
     "output_type": "stream",
     "text": [
      "\n",
      "100%|██████████| 129/129 [00:08<00:00, 16.05it/s]"
     ]
    },
    {
     "name": "stdout",
     "output_type": "stream",
     "text": [
      "evaluating...\n"
     ]
    },
    {
     "name": "stderr",
     "output_type": "stream",
     "text": [
      "\n",
      "100%|██████████| 43/43 [00:00<00:00, 86.12it/s]"
     ]
    },
    {
     "name": "stdout",
     "output_type": "stream",
     "text": [
      "\n",
      "Training Loss: 0.072 dev performance, p:0.831, r:0.970, f1:0.895\n",
      "\n",
      " Epoch 3 / 75\n"
     ]
    },
    {
     "name": "stderr",
     "output_type": "stream",
     "text": [
      "\n",
      "100%|██████████| 129/129 [00:08<00:00, 15.97it/s]"
     ]
    },
    {
     "name": "stdout",
     "output_type": "stream",
     "text": [
      "evaluating...\n"
     ]
    },
    {
     "name": "stderr",
     "output_type": "stream",
     "text": [
      "\n",
      "100%|██████████| 43/43 [00:00<00:00, 83.38it/s]"
     ]
    },
    {
     "name": "stdout",
     "output_type": "stream",
     "text": [
      "\n",
      "Training Loss: 0.077 dev performance, p:0.840, r:0.955, f1:0.894\n",
      "\n",
      " Epoch 4 / 75\n"
     ]
    },
    {
     "name": "stderr",
     "output_type": "stream",
     "text": [
      "\n",
      "100%|██████████| 129/129 [00:08<00:00, 15.86it/s]"
     ]
    },
    {
     "name": "stdout",
     "output_type": "stream",
     "text": [
      "evaluating...\n"
     ]
    },
    {
     "name": "stderr",
     "output_type": "stream",
     "text": [
      "\n",
      "100%|██████████| 43/43 [00:00<00:00, 72.18it/s]"
     ]
    },
    {
     "name": "stdout",
     "output_type": "stream",
     "text": [
      "\n",
      "Training Loss: 0.070 dev performance, p:0.851, r:0.955, f1:0.900\n",
      "\n",
      " Epoch 5 / 75\n"
     ]
    },
    {
     "name": "stderr",
     "output_type": "stream",
     "text": [
      "\n",
      "100%|██████████| 129/129 [00:08<00:00, 15.79it/s]"
     ]
    },
    {
     "name": "stdout",
     "output_type": "stream",
     "text": [
      "evaluating...\n"
     ]
    },
    {
     "name": "stderr",
     "output_type": "stream",
     "text": [
      "\n",
      "100%|██████████| 43/43 [00:00<00:00, 73.62it/s]"
     ]
    },
    {
     "name": "stdout",
     "output_type": "stream",
     "text": [
      "\n",
      "Training Loss: 0.062 dev performance, p:0.851, r:0.955, f1:0.900\n",
      "\n",
      " Epoch 6 / 75\n"
     ]
    },
    {
     "name": "stderr",
     "output_type": "stream",
     "text": [
      "\n",
      "100%|██████████| 129/129 [00:08<00:00, 15.76it/s]"
     ]
    },
    {
     "name": "stdout",
     "output_type": "stream",
     "text": [
      "evaluating...\n"
     ]
    },
    {
     "name": "stderr",
     "output_type": "stream",
     "text": [
      "\n",
      "100%|██████████| 43/43 [00:00<00:00, 68.95it/s]"
     ]
    },
    {
     "name": "stdout",
     "output_type": "stream",
     "text": [
      "\n",
      "Training Loss: 0.065 dev performance, p:0.853, r:0.970, f1:0.908\n",
      "current best score is 0.908\n",
      "\n",
      " Epoch 7 / 75\n"
     ]
    },
    {
     "name": "stderr",
     "output_type": "stream",
     "text": [
      "\n",
      "100%|██████████| 129/129 [00:08<00:00, 15.62it/s]"
     ]
    },
    {
     "name": "stdout",
     "output_type": "stream",
     "text": [
      "evaluating...\n"
     ]
    },
    {
     "name": "stderr",
     "output_type": "stream",
     "text": [
      "\n",
      "100%|██████████| 43/43 [00:00<00:00, 84.42it/s]"
     ]
    },
    {
     "name": "stdout",
     "output_type": "stream",
     "text": [
      "\n",
      "Training Loss: 0.070 dev performance, p:0.849, r:0.939, f1:0.892\n",
      "\n",
      " Epoch 8 / 75\n"
     ]
    },
    {
     "name": "stderr",
     "output_type": "stream",
     "text": [
      "\n",
      "100%|██████████| 129/129 [00:08<00:00, 15.82it/s]"
     ]
    },
    {
     "name": "stdout",
     "output_type": "stream",
     "text": [
      "evaluating...\n"
     ]
    },
    {
     "name": "stderr",
     "output_type": "stream",
     "text": [
      "\n",
      "100%|██████████| 43/43 [00:00<00:00, 83.95it/s]"
     ]
    },
    {
     "name": "stdout",
     "output_type": "stream",
     "text": [
      "\n",
      "Training Loss: 0.064 dev performance, p:0.831, r:0.970, f1:0.895\n",
      "\n",
      " Epoch 9 / 75\n"
     ]
    },
    {
     "name": "stderr",
     "output_type": "stream",
     "text": [
      "\n",
      "100%|██████████| 129/129 [00:05<00:00, 25.35it/s]"
     ]
    },
    {
     "name": "stdout",
     "output_type": "stream",
     "text": [
      "evaluating...\n"
     ]
    },
    {
     "name": "stderr",
     "output_type": "stream",
     "text": [
      "\n",
      "100%|██████████| 43/43 [00:00<00:00, 110.45it/s]"
     ]
    },
    {
     "name": "stdout",
     "output_type": "stream",
     "text": [
      "\n",
      "Training Loss: 0.069 dev performance, p:0.851, r:0.955, f1:0.900\n",
      "\n",
      " Epoch 10 / 75\n"
     ]
    },
    {
     "name": "stderr",
     "output_type": "stream",
     "text": [
      "\n",
      "100%|██████████| 129/129 [00:04<00:00, 29.50it/s]"
     ]
    },
    {
     "name": "stdout",
     "output_type": "stream",
     "text": [
      "evaluating...\n"
     ]
    },
    {
     "name": "stderr",
     "output_type": "stream",
     "text": [
      "\n",
      "100%|██████████| 43/43 [00:00<00:00, 102.40it/s]"
     ]
    },
    {
     "name": "stdout",
     "output_type": "stream",
     "text": [
      "\n",
      "Training Loss: 0.062 dev performance, p:0.818, r:0.955, f1:0.881\n",
      "\n",
      " Epoch 11 / 75\n"
     ]
    },
    {
     "name": "stderr",
     "output_type": "stream",
     "text": [
      "\n",
      "100%|██████████| 129/129 [00:04<00:00, 29.38it/s]"
     ]
    },
    {
     "name": "stdout",
     "output_type": "stream",
     "text": [
      "evaluating...\n"
     ]
    },
    {
     "name": "stderr",
     "output_type": "stream",
     "text": [
      "\n",
      "100%|██████████| 43/43 [00:00<00:00, 110.15it/s]"
     ]
    },
    {
     "name": "stdout",
     "output_type": "stream",
     "text": [
      "\n",
      "Training Loss: 0.067 dev performance, p:0.840, r:0.955, f1:0.894\n",
      "\n",
      " Epoch 12 / 75\n"
     ]
    },
    {
     "name": "stderr",
     "output_type": "stream",
     "text": [
      "\n",
      "100%|██████████| 129/129 [00:04<00:00, 29.53it/s]"
     ]
    },
    {
     "name": "stdout",
     "output_type": "stream",
     "text": [
      "evaluating...\n"
     ]
    },
    {
     "name": "stderr",
     "output_type": "stream",
     "text": [
      "\n",
      "100%|██████████| 43/43 [00:00<00:00, 110.34it/s]"
     ]
    },
    {
     "name": "stdout",
     "output_type": "stream",
     "text": [
      "\n",
      "Training Loss: 0.075 dev performance, p:0.800, r:0.970, f1:0.877\n",
      "\n",
      " Epoch 13 / 75\n"
     ]
    },
    {
     "name": "stderr",
     "output_type": "stream",
     "text": [
      "\n",
      "100%|██████████| 129/129 [00:04<00:00, 26.26it/s]"
     ]
    },
    {
     "name": "stdout",
     "output_type": "stream",
     "text": [
      "evaluating...\n"
     ]
    },
    {
     "name": "stderr",
     "output_type": "stream",
     "text": [
      "\n",
      "100%|██████████| 43/43 [00:00<00:00, 109.74it/s]"
     ]
    },
    {
     "name": "stdout",
     "output_type": "stream",
     "text": [
      "\n",
      "Training Loss: 0.105 dev performance, p:0.831, r:0.970, f1:0.895\n",
      "\n",
      " Epoch 14 / 75\n"
     ]
    },
    {
     "name": "stderr",
     "output_type": "stream",
     "text": [
      "\n",
      "100%|██████████| 129/129 [00:04<00:00, 25.86it/s]"
     ]
    },
    {
     "name": "stdout",
     "output_type": "stream",
     "text": [
      "evaluating...\n"
     ]
    },
    {
     "name": "stderr",
     "output_type": "stream",
     "text": [
      "\n",
      "100%|██████████| 43/43 [00:00<00:00, 105.55it/s]"
     ]
    },
    {
     "name": "stdout",
     "output_type": "stream",
     "text": [
      "\n",
      "Training Loss: 0.101 dev performance, p:0.865, r:0.970, f1:0.914\n",
      "current best score is 0.914\n",
      "\n",
      " Epoch 15 / 75\n"
     ]
    },
    {
     "name": "stderr",
     "output_type": "stream",
     "text": [
      "\n",
      "100%|██████████| 129/129 [00:07<00:00, 17.64it/s]"
     ]
    },
    {
     "name": "stdout",
     "output_type": "stream",
     "text": [
      "evaluating...\n"
     ]
    },
    {
     "name": "stderr",
     "output_type": "stream",
     "text": [
      "\n",
      "100%|██████████| 43/43 [00:00<00:00, 79.58it/s]"
     ]
    },
    {
     "name": "stdout",
     "output_type": "stream",
     "text": [
      "\n",
      "Training Loss: 0.114 dev performance, p:0.853, r:0.970, f1:0.908\n",
      "\n",
      " Epoch 16 / 75\n"
     ]
    },
    {
     "name": "stderr",
     "output_type": "stream",
     "text": [
      "\n",
      "100%|██████████| 129/129 [00:08<00:00, 15.85it/s]"
     ]
    },
    {
     "name": "stdout",
     "output_type": "stream",
     "text": [
      "evaluating...\n"
     ]
    },
    {
     "name": "stderr",
     "output_type": "stream",
     "text": [
      "\n",
      "100%|██████████| 43/43 [00:00<00:00, 82.00it/s]"
     ]
    },
    {
     "name": "stdout",
     "output_type": "stream",
     "text": [
      "\n",
      "Training Loss: 0.098 dev performance, p:0.863, r:0.955, f1:0.906\n",
      "\n",
      " Epoch 17 / 75\n"
     ]
    },
    {
     "name": "stderr",
     "output_type": "stream",
     "text": [
      "\n",
      "100%|██████████| 129/129 [00:08<00:00, 15.87it/s]"
     ]
    },
    {
     "name": "stdout",
     "output_type": "stream",
     "text": [
      "evaluating...\n"
     ]
    },
    {
     "name": "stderr",
     "output_type": "stream",
     "text": [
      "\n",
      "100%|██████████| 43/43 [00:00<00:00, 83.48it/s]"
     ]
    },
    {
     "name": "stdout",
     "output_type": "stream",
     "text": [
      "\n",
      "Training Loss: 0.089 dev performance, p:0.853, r:0.970, f1:0.908\n",
      "\n",
      " Epoch 18 / 75\n"
     ]
    },
    {
     "name": "stderr",
     "output_type": "stream",
     "text": [
      "\n",
      "100%|██████████| 129/129 [00:08<00:00, 15.86it/s]"
     ]
    },
    {
     "name": "stdout",
     "output_type": "stream",
     "text": [
      "evaluating...\n"
     ]
    },
    {
     "name": "stderr",
     "output_type": "stream",
     "text": [
      "\n",
      "100%|██████████| 43/43 [00:00<00:00, 85.68it/s]"
     ]
    },
    {
     "name": "stdout",
     "output_type": "stream",
     "text": [
      "\n",
      "Training Loss: 0.078 dev performance, p:0.865, r:0.970, f1:0.914\n",
      "\n",
      " Epoch 19 / 75\n"
     ]
    },
    {
     "name": "stderr",
     "output_type": "stream",
     "text": [
      "\n",
      "100%|██████████| 129/129 [00:08<00:00, 15.89it/s]"
     ]
    },
    {
     "name": "stdout",
     "output_type": "stream",
     "text": [
      "evaluating...\n"
     ]
    },
    {
     "name": "stderr",
     "output_type": "stream",
     "text": [
      "\n",
      "100%|██████████| 43/43 [00:00<00:00, 84.07it/s]"
     ]
    },
    {
     "name": "stdout",
     "output_type": "stream",
     "text": [
      "\n",
      "Training Loss: 0.071 dev performance, p:0.865, r:0.970, f1:0.914\n",
      "\n",
      " Epoch 20 / 75\n"
     ]
    },
    {
     "name": "stderr",
     "output_type": "stream",
     "text": [
      "\n",
      "100%|██████████| 129/129 [00:08<00:00, 15.88it/s]"
     ]
    },
    {
     "name": "stdout",
     "output_type": "stream",
     "text": [
      "evaluating...\n"
     ]
    },
    {
     "name": "stderr",
     "output_type": "stream",
     "text": [
      "\n",
      "100%|██████████| 43/43 [00:00<00:00, 85.65it/s]"
     ]
    },
    {
     "name": "stdout",
     "output_type": "stream",
     "text": [
      "\n",
      "Training Loss: 0.074 dev performance, p:0.861, r:0.939, f1:0.899\n",
      "\n",
      " Epoch 21 / 75\n"
     ]
    },
    {
     "name": "stderr",
     "output_type": "stream",
     "text": [
      "\n",
      "100%|██████████| 129/129 [00:08<00:00, 15.88it/s]"
     ]
    },
    {
     "name": "stdout",
     "output_type": "stream",
     "text": [
      "evaluating...\n"
     ]
    },
    {
     "name": "stderr",
     "output_type": "stream",
     "text": [
      "\n",
      "100%|██████████| 43/43 [00:00<00:00, 87.28it/s]"
     ]
    },
    {
     "name": "stdout",
     "output_type": "stream",
     "text": [
      "\n",
      "Training Loss: 0.093 dev performance, p:0.853, r:0.970, f1:0.908\n",
      "\n",
      " Epoch 22 / 75\n"
     ]
    },
    {
     "name": "stderr",
     "output_type": "stream",
     "text": [
      "\n",
      "100%|██████████| 129/129 [00:08<00:00, 15.94it/s]"
     ]
    },
    {
     "name": "stdout",
     "output_type": "stream",
     "text": [
      "evaluating...\n"
     ]
    },
    {
     "name": "stderr",
     "output_type": "stream",
     "text": [
      "\n",
      "100%|██████████| 43/43 [00:00<00:00, 83.35it/s]"
     ]
    },
    {
     "name": "stdout",
     "output_type": "stream",
     "text": [
      "\n",
      "Training Loss: 0.073 dev performance, p:0.865, r:0.970, f1:0.914\n",
      "\n",
      " Epoch 23 / 75\n"
     ]
    },
    {
     "name": "stderr",
     "output_type": "stream",
     "text": [
      "\n",
      "100%|██████████| 129/129 [00:08<00:00, 16.11it/s]"
     ]
    },
    {
     "name": "stdout",
     "output_type": "stream",
     "text": [
      "evaluating...\n"
     ]
    },
    {
     "name": "stderr",
     "output_type": "stream",
     "text": [
      "\n",
      "100%|██████████| 43/43 [00:00<00:00, 82.48it/s]"
     ]
    },
    {
     "name": "stdout",
     "output_type": "stream",
     "text": [
      "\n",
      "Training Loss: 0.066 dev performance, p:0.829, r:0.955, f1:0.887\n",
      "\n",
      " Epoch 24 / 75\n"
     ]
    },
    {
     "name": "stderr",
     "output_type": "stream",
     "text": [
      "\n",
      "100%|██████████| 129/129 [00:08<00:00, 15.93it/s]"
     ]
    },
    {
     "name": "stdout",
     "output_type": "stream",
     "text": [
      "evaluating...\n"
     ]
    },
    {
     "name": "stderr",
     "output_type": "stream",
     "text": [
      "\n",
      "100%|██████████| 43/43 [00:00<00:00, 87.23it/s]"
     ]
    },
    {
     "name": "stdout",
     "output_type": "stream",
     "text": [
      "\n",
      "Training Loss: 0.069 dev performance, p:0.863, r:0.955, f1:0.906\n",
      "\n",
      " Epoch 25 / 75\n"
     ]
    },
    {
     "name": "stderr",
     "output_type": "stream",
     "text": [
      "\n",
      "100%|██████████| 129/129 [00:08<00:00, 15.98it/s]"
     ]
    },
    {
     "name": "stdout",
     "output_type": "stream",
     "text": [
      "evaluating...\n"
     ]
    },
    {
     "name": "stderr",
     "output_type": "stream",
     "text": [
      "\n",
      "100%|██████████| 43/43 [00:00<00:00, 84.58it/s]"
     ]
    },
    {
     "name": "stdout",
     "output_type": "stream",
     "text": [
      "\n",
      "Training Loss: 0.064 dev performance, p:0.851, r:0.955, f1:0.900\n",
      "\n",
      " Epoch 26 / 75\n"
     ]
    },
    {
     "name": "stderr",
     "output_type": "stream",
     "text": [
      "\n",
      "100%|██████████| 129/129 [00:08<00:00, 15.78it/s]"
     ]
    },
    {
     "name": "stdout",
     "output_type": "stream",
     "text": [
      "evaluating...\n"
     ]
    },
    {
     "name": "stderr",
     "output_type": "stream",
     "text": [
      "\n",
      "100%|██████████| 43/43 [00:00<00:00, 70.34it/s]"
     ]
    },
    {
     "name": "stdout",
     "output_type": "stream",
     "text": [
      "\n",
      "Training Loss: 0.063 dev performance, p:0.840, r:0.955, f1:0.894\n",
      "\n",
      " Epoch 27 / 75\n"
     ]
    },
    {
     "name": "stderr",
     "output_type": "stream",
     "text": [
      "\n",
      "100%|██████████| 129/129 [00:08<00:00, 15.65it/s]"
     ]
    },
    {
     "name": "stdout",
     "output_type": "stream",
     "text": [
      "evaluating...\n"
     ]
    },
    {
     "name": "stderr",
     "output_type": "stream",
     "text": [
      "\n",
      "100%|██████████| 43/43 [00:00<00:00, 72.90it/s]"
     ]
    },
    {
     "name": "stdout",
     "output_type": "stream",
     "text": [
      "\n",
      "Training Loss: 0.062 dev performance, p:0.865, r:0.970, f1:0.914\n",
      "\n",
      " Epoch 28 / 75\n"
     ]
    },
    {
     "name": "stderr",
     "output_type": "stream",
     "text": [
      "\n",
      "100%|██████████| 129/129 [00:08<00:00, 15.73it/s]"
     ]
    },
    {
     "name": "stdout",
     "output_type": "stream",
     "text": [
      "evaluating...\n"
     ]
    },
    {
     "name": "stderr",
     "output_type": "stream",
     "text": [
      "\n",
      "100%|██████████| 43/43 [00:00<00:00, 72.57it/s]"
     ]
    },
    {
     "name": "stdout",
     "output_type": "stream",
     "text": [
      "\n",
      "Training Loss: 0.063 dev performance, p:0.851, r:0.955, f1:0.900\n",
      "\n",
      " Epoch 29 / 75\n"
     ]
    },
    {
     "name": "stderr",
     "output_type": "stream",
     "text": [
      "\n",
      "100%|██████████| 129/129 [00:08<00:00, 15.66it/s]"
     ]
    },
    {
     "name": "stdout",
     "output_type": "stream",
     "text": [
      "evaluating...\n"
     ]
    },
    {
     "name": "stderr",
     "output_type": "stream",
     "text": [
      "\n",
      "100%|██████████| 43/43 [00:00<00:00, 73.32it/s]"
     ]
    },
    {
     "name": "stdout",
     "output_type": "stream",
     "text": [
      "\n",
      "Training Loss: 0.060 dev performance, p:0.863, r:0.955, f1:0.906\n",
      "\n",
      " Epoch 30 / 75\n"
     ]
    },
    {
     "name": "stderr",
     "output_type": "stream",
     "text": [
      "\n",
      "100%|██████████| 129/129 [00:08<00:00, 15.82it/s]"
     ]
    },
    {
     "name": "stdout",
     "output_type": "stream",
     "text": [
      "evaluating...\n"
     ]
    },
    {
     "name": "stderr",
     "output_type": "stream",
     "text": [
      "\n",
      "100%|██████████| 43/43 [00:00<00:00, 83.48it/s]"
     ]
    },
    {
     "name": "stdout",
     "output_type": "stream",
     "text": [
      "\n",
      "Training Loss: 0.066 dev performance, p:0.831, r:0.970, f1:0.895\n",
      "\n",
      " Epoch 31 / 75\n"
     ]
    },
    {
     "name": "stderr",
     "output_type": "stream",
     "text": [
      "\n",
      "100%|██████████| 129/129 [00:08<00:00, 15.91it/s]"
     ]
    },
    {
     "name": "stdout",
     "output_type": "stream",
     "text": [
      "evaluating...\n"
     ]
    },
    {
     "name": "stderr",
     "output_type": "stream",
     "text": [
      "\n",
      "100%|██████████| 43/43 [00:00<00:00, 82.17it/s]"
     ]
    },
    {
     "name": "stdout",
     "output_type": "stream",
     "text": [
      "\n",
      "Training Loss: 0.064 dev performance, p:0.831, r:0.970, f1:0.895\n",
      "\n",
      " Epoch 32 / 75\n"
     ]
    },
    {
     "name": "stderr",
     "output_type": "stream",
     "text": [
      "\n",
      "100%|██████████| 129/129 [00:08<00:00, 15.93it/s]"
     ]
    },
    {
     "name": "stdout",
     "output_type": "stream",
     "text": [
      "evaluating...\n"
     ]
    },
    {
     "name": "stderr",
     "output_type": "stream",
     "text": [
      "\n",
      "100%|██████████| 43/43 [00:00<00:00, 85.07it/s]"
     ]
    },
    {
     "name": "stdout",
     "output_type": "stream",
     "text": [
      "\n",
      "Training Loss: 0.059 dev performance, p:0.831, r:0.970, f1:0.895\n",
      "\n",
      " Epoch 33 / 75\n"
     ]
    },
    {
     "name": "stderr",
     "output_type": "stream",
     "text": [
      "\n",
      "100%|██████████| 129/129 [00:08<00:00, 15.89it/s]"
     ]
    },
    {
     "name": "stdout",
     "output_type": "stream",
     "text": [
      "evaluating...\n"
     ]
    },
    {
     "name": "stderr",
     "output_type": "stream",
     "text": [
      "\n",
      "100%|██████████| 43/43 [00:00<00:00, 85.14it/s]"
     ]
    },
    {
     "name": "stdout",
     "output_type": "stream",
     "text": [
      "\n",
      "Training Loss: 0.062 dev performance, p:0.831, r:0.970, f1:0.895\n",
      "\n",
      " Epoch 34 / 75\n"
     ]
    },
    {
     "name": "stderr",
     "output_type": "stream",
     "text": [
      "\n",
      "100%|██████████| 129/129 [00:08<00:00, 15.92it/s]"
     ]
    },
    {
     "name": "stdout",
     "output_type": "stream",
     "text": [
      "evaluating...\n"
     ]
    },
    {
     "name": "stderr",
     "output_type": "stream",
     "text": [
      "\n",
      "100%|██████████| 43/43 [00:00<00:00, 82.56it/s]"
     ]
    },
    {
     "name": "stdout",
     "output_type": "stream",
     "text": [
      "\n",
      "Training Loss: 0.061 dev performance, p:0.812, r:0.985, f1:0.890\n",
      "\n",
      " Epoch 35 / 75\n"
     ]
    },
    {
     "name": "stderr",
     "output_type": "stream",
     "text": [
      "\n",
      "100%|██████████| 129/129 [00:08<00:00, 16.05it/s]"
     ]
    },
    {
     "name": "stdout",
     "output_type": "stream",
     "text": [
      "evaluating...\n"
     ]
    },
    {
     "name": "stderr",
     "output_type": "stream",
     "text": [
      "\n",
      "100%|██████████| 43/43 [00:00<00:00, 83.05it/s]"
     ]
    },
    {
     "name": "stdout",
     "output_type": "stream",
     "text": [
      "\n",
      "Training Loss: 0.071 dev performance, p:0.800, r:0.970, f1:0.877\n",
      "\n",
      " Epoch 36 / 75\n"
     ]
    },
    {
     "name": "stderr",
     "output_type": "stream",
     "text": [
      "\n",
      "100%|██████████| 129/129 [00:08<00:00, 15.90it/s]"
     ]
    },
    {
     "name": "stdout",
     "output_type": "stream",
     "text": [
      "evaluating...\n"
     ]
    },
    {
     "name": "stderr",
     "output_type": "stream",
     "text": [
      "\n",
      "100%|██████████| 43/43 [00:00<00:00, 86.28it/s]"
     ]
    },
    {
     "name": "stdout",
     "output_type": "stream",
     "text": [
      "\n",
      "Training Loss: 0.068 dev performance, p:0.831, r:0.970, f1:0.895\n",
      "\n",
      " Epoch 37 / 75\n"
     ]
    },
    {
     "name": "stderr",
     "output_type": "stream",
     "text": [
      "\n",
      "100%|██████████| 129/129 [00:08<00:00, 16.03it/s]"
     ]
    },
    {
     "name": "stdout",
     "output_type": "stream",
     "text": [
      "evaluating...\n"
     ]
    },
    {
     "name": "stderr",
     "output_type": "stream",
     "text": [
      "\n",
      "100%|██████████| 43/43 [00:00<00:00, 85.63it/s]"
     ]
    },
    {
     "name": "stdout",
     "output_type": "stream",
     "text": [
      "\n",
      "Training Loss: 0.079 dev performance, p:0.821, r:0.970, f1:0.889\n",
      "\n",
      " Epoch 38 / 75\n"
     ]
    },
    {
     "name": "stderr",
     "output_type": "stream",
     "text": [
      "\n",
      "100%|██████████| 129/129 [00:08<00:00, 16.06it/s]"
     ]
    },
    {
     "name": "stdout",
     "output_type": "stream",
     "text": [
      "evaluating...\n"
     ]
    },
    {
     "name": "stderr",
     "output_type": "stream",
     "text": [
      "\n",
      "100%|██████████| 43/43 [00:00<00:00, 83.23it/s]"
     ]
    },
    {
     "name": "stdout",
     "output_type": "stream",
     "text": [
      "\n",
      "Training Loss: 0.071 dev performance, p:0.831, r:0.970, f1:0.895\n",
      "\n",
      " Epoch 39 / 75\n"
     ]
    },
    {
     "name": "stderr",
     "output_type": "stream",
     "text": [
      "\n",
      "100%|██████████| 129/129 [00:08<00:00, 16.11it/s]"
     ]
    },
    {
     "name": "stdout",
     "output_type": "stream",
     "text": [
      "evaluating...\n"
     ]
    },
    {
     "name": "stderr",
     "output_type": "stream",
     "text": [
      "\n",
      "100%|██████████| 43/43 [00:00<00:00, 82.42it/s]"
     ]
    },
    {
     "name": "stdout",
     "output_type": "stream",
     "text": [
      "\n",
      "Training Loss: 0.067 dev performance, p:0.831, r:0.970, f1:0.895\n",
      "\n",
      " Epoch 40 / 75\n"
     ]
    },
    {
     "name": "stderr",
     "output_type": "stream",
     "text": [
      "\n",
      "100%|██████████| 129/129 [00:08<00:00, 16.03it/s]"
     ]
    },
    {
     "name": "stdout",
     "output_type": "stream",
     "text": [
      "evaluating...\n"
     ]
    },
    {
     "name": "stderr",
     "output_type": "stream",
     "text": [
      "\n",
      "100%|██████████| 43/43 [00:00<00:00, 87.93it/s]"
     ]
    },
    {
     "name": "stdout",
     "output_type": "stream",
     "text": [
      "\n",
      "Training Loss: 0.066 dev performance, p:0.821, r:0.970, f1:0.889\n",
      "\n",
      " Epoch 41 / 75\n"
     ]
    },
    {
     "name": "stderr",
     "output_type": "stream",
     "text": [
      "\n",
      "100%|██████████| 129/129 [00:08<00:00, 16.03it/s]"
     ]
    },
    {
     "name": "stdout",
     "output_type": "stream",
     "text": [
      "evaluating...\n"
     ]
    },
    {
     "name": "stderr",
     "output_type": "stream",
     "text": [
      "\n",
      "100%|██████████| 43/43 [00:00<00:00, 84.68it/s]"
     ]
    },
    {
     "name": "stdout",
     "output_type": "stream",
     "text": [
      "\n",
      "Training Loss: 0.072 dev performance, p:0.842, r:0.970, f1:0.901\n",
      "\n",
      " Epoch 42 / 75\n"
     ]
    },
    {
     "name": "stderr",
     "output_type": "stream",
     "text": [
      "\n",
      "100%|██████████| 129/129 [00:08<00:00, 16.04it/s]"
     ]
    },
    {
     "name": "stdout",
     "output_type": "stream",
     "text": [
      "evaluating...\n"
     ]
    },
    {
     "name": "stderr",
     "output_type": "stream",
     "text": [
      "\n",
      "100%|██████████| 43/43 [00:00<00:00, 83.30it/s]"
     ]
    },
    {
     "name": "stdout",
     "output_type": "stream",
     "text": [
      "\n",
      "Training Loss: 0.066 dev performance, p:0.831, r:0.970, f1:0.895\n",
      "\n",
      " Epoch 43 / 75\n"
     ]
    },
    {
     "name": "stderr",
     "output_type": "stream",
     "text": [
      "\n",
      "100%|██████████| 129/129 [00:08<00:00, 15.87it/s]"
     ]
    },
    {
     "name": "stdout",
     "output_type": "stream",
     "text": [
      "evaluating...\n"
     ]
    },
    {
     "name": "stderr",
     "output_type": "stream",
     "text": [
      "\n",
      "100%|██████████| 43/43 [00:00<00:00, 86.31it/s]"
     ]
    },
    {
     "name": "stdout",
     "output_type": "stream",
     "text": [
      "\n",
      "Training Loss: 0.071 dev performance, p:0.821, r:0.970, f1:0.889\n",
      "\n",
      " Epoch 44 / 75\n"
     ]
    },
    {
     "name": "stderr",
     "output_type": "stream",
     "text": [
      "\n",
      "100%|██████████| 129/129 [00:07<00:00, 16.13it/s]"
     ]
    },
    {
     "name": "stdout",
     "output_type": "stream",
     "text": [
      "evaluating...\n"
     ]
    },
    {
     "name": "stderr",
     "output_type": "stream",
     "text": [
      "\n",
      "100%|██████████| 43/43 [00:00<00:00, 85.22it/s]"
     ]
    },
    {
     "name": "stdout",
     "output_type": "stream",
     "text": [
      "\n",
      "Training Loss: 0.060 dev performance, p:0.821, r:0.970, f1:0.889\n",
      "\n",
      " Epoch 45 / 75\n"
     ]
    },
    {
     "name": "stderr",
     "output_type": "stream",
     "text": [
      "\n",
      "100%|██████████| 129/129 [00:08<00:00, 16.04it/s]"
     ]
    },
    {
     "name": "stdout",
     "output_type": "stream",
     "text": [
      "evaluating...\n"
     ]
    },
    {
     "name": "stderr",
     "output_type": "stream",
     "text": [
      "\n",
      "100%|██████████| 43/43 [00:00<00:00, 86.05it/s]"
     ]
    },
    {
     "name": "stdout",
     "output_type": "stream",
     "text": [
      "\n",
      "Training Loss: 0.075 dev performance, p:0.821, r:0.970, f1:0.889\n",
      "\n",
      " Epoch 46 / 75\n"
     ]
    },
    {
     "name": "stderr",
     "output_type": "stream",
     "text": [
      "\n",
      "100%|██████████| 129/129 [00:06<00:00, 19.79it/s]"
     ]
    },
    {
     "name": "stdout",
     "output_type": "stream",
     "text": [
      "evaluating...\n"
     ]
    },
    {
     "name": "stderr",
     "output_type": "stream",
     "text": [
      "\n",
      "100%|██████████| 43/43 [00:00<00:00, 106.09it/s]"
     ]
    },
    {
     "name": "stdout",
     "output_type": "stream",
     "text": [
      "\n",
      "Training Loss: 0.063 dev performance, p:0.831, r:0.970, f1:0.895\n",
      "\n",
      " Epoch 47 / 75\n"
     ]
    },
    {
     "name": "stderr",
     "output_type": "stream",
     "text": [
      "\n",
      "100%|██████████| 129/129 [00:05<00:00, 25.39it/s]"
     ]
    },
    {
     "name": "stdout",
     "output_type": "stream",
     "text": [
      "evaluating...\n"
     ]
    },
    {
     "name": "stderr",
     "output_type": "stream",
     "text": [
      "\n",
      "100%|██████████| 43/43 [00:00<00:00, 105.97it/s]"
     ]
    },
    {
     "name": "stdout",
     "output_type": "stream",
     "text": [
      "\n",
      "Training Loss: 0.065 dev performance, p:0.821, r:0.970, f1:0.889\n",
      "\n",
      " Epoch 48 / 75\n"
     ]
    },
    {
     "name": "stderr",
     "output_type": "stream",
     "text": [
      "\n",
      "100%|██████████| 129/129 [00:05<00:00, 25.40it/s]"
     ]
    },
    {
     "name": "stdout",
     "output_type": "stream",
     "text": [
      "evaluating...\n"
     ]
    },
    {
     "name": "stderr",
     "output_type": "stream",
     "text": [
      "\n",
      "100%|██████████| 43/43 [00:00<00:00, 107.71it/s]"
     ]
    },
    {
     "name": "stdout",
     "output_type": "stream",
     "text": [
      "\n",
      "Training Loss: 0.064 dev performance, p:0.821, r:0.970, f1:0.889\n",
      "\n",
      " Epoch 49 / 75\n"
     ]
    },
    {
     "name": "stderr",
     "output_type": "stream",
     "text": [
      "\n",
      "100%|██████████| 129/129 [00:04<00:00, 25.82it/s]"
     ]
    },
    {
     "name": "stdout",
     "output_type": "stream",
     "text": [
      "evaluating...\n"
     ]
    },
    {
     "name": "stderr",
     "output_type": "stream",
     "text": [
      "\n",
      "100%|██████████| 43/43 [00:00<00:00, 108.80it/s]"
     ]
    },
    {
     "name": "stdout",
     "output_type": "stream",
     "text": [
      "\n",
      "Training Loss: 0.069 dev performance, p:0.831, r:0.970, f1:0.895\n",
      "\n",
      " Epoch 50 / 75\n"
     ]
    },
    {
     "name": "stderr",
     "output_type": "stream",
     "text": [
      "\n",
      "100%|██████████| 129/129 [00:05<00:00, 25.41it/s]"
     ]
    },
    {
     "name": "stdout",
     "output_type": "stream",
     "text": [
      "evaluating...\n"
     ]
    },
    {
     "name": "stderr",
     "output_type": "stream",
     "text": [
      "\n",
      "100%|██████████| 43/43 [00:00<00:00, 106.81it/s]"
     ]
    },
    {
     "name": "stdout",
     "output_type": "stream",
     "text": [
      "\n",
      "Training Loss: 0.064 dev performance, p:0.831, r:0.970, f1:0.895\n",
      "\n",
      " Epoch 51 / 75\n"
     ]
    },
    {
     "name": "stderr",
     "output_type": "stream",
     "text": [
      "\n",
      "100%|██████████| 129/129 [00:05<00:00, 25.56it/s]"
     ]
    },
    {
     "name": "stdout",
     "output_type": "stream",
     "text": [
      "evaluating...\n"
     ]
    },
    {
     "name": "stderr",
     "output_type": "stream",
     "text": [
      "\n",
      "100%|██████████| 43/43 [00:00<00:00, 106.93it/s]"
     ]
    },
    {
     "name": "stdout",
     "output_type": "stream",
     "text": [
      "\n",
      "Training Loss: 0.088 dev performance, p:0.810, r:0.970, f1:0.883\n",
      "\n",
      " Epoch 52 / 75\n"
     ]
    },
    {
     "name": "stderr",
     "output_type": "stream",
     "text": [
      "\n",
      "100%|██████████| 129/129 [00:05<00:00, 25.38it/s]"
     ]
    },
    {
     "name": "stdout",
     "output_type": "stream",
     "text": [
      "evaluating...\n"
     ]
    },
    {
     "name": "stderr",
     "output_type": "stream",
     "text": [
      "\n",
      "100%|██████████| 43/43 [00:00<00:00, 107.71it/s]"
     ]
    },
    {
     "name": "stdout",
     "output_type": "stream",
     "text": [
      "\n",
      "Training Loss: 0.064 dev performance, p:0.821, r:0.970, f1:0.889\n",
      "\n",
      " Epoch 53 / 75\n"
     ]
    },
    {
     "name": "stderr",
     "output_type": "stream",
     "text": [
      "\n",
      "100%|██████████| 129/129 [00:04<00:00, 26.24it/s]"
     ]
    },
    {
     "name": "stdout",
     "output_type": "stream",
     "text": [
      "evaluating...\n"
     ]
    },
    {
     "name": "stderr",
     "output_type": "stream",
     "text": [
      "\n",
      "100%|██████████| 43/43 [00:00<00:00, 106.48it/s]"
     ]
    },
    {
     "name": "stdout",
     "output_type": "stream",
     "text": [
      "\n",
      "Training Loss: 0.068 dev performance, p:0.831, r:0.970, f1:0.895\n",
      "\n",
      " Epoch 54 / 75\n"
     ]
    },
    {
     "name": "stderr",
     "output_type": "stream",
     "text": [
      "\n",
      "100%|██████████| 129/129 [00:04<00:00, 27.41it/s]"
     ]
    },
    {
     "name": "stdout",
     "output_type": "stream",
     "text": [
      "evaluating...\n"
     ]
    },
    {
     "name": "stderr",
     "output_type": "stream",
     "text": [
      "\n",
      "100%|██████████| 43/43 [00:00<00:00, 109.47it/s]"
     ]
    },
    {
     "name": "stdout",
     "output_type": "stream",
     "text": [
      "\n",
      "Training Loss: 0.069 dev performance, p:0.863, r:0.955, f1:0.906\n",
      "\n",
      " Epoch 55 / 75\n"
     ]
    },
    {
     "name": "stderr",
     "output_type": "stream",
     "text": [
      "\n",
      "100%|██████████| 129/129 [00:04<00:00, 25.96it/s]"
     ]
    },
    {
     "name": "stdout",
     "output_type": "stream",
     "text": [
      "evaluating...\n"
     ]
    },
    {
     "name": "stderr",
     "output_type": "stream",
     "text": [
      "\n",
      "100%|██████████| 43/43 [00:00<00:00, 109.29it/s]"
     ]
    },
    {
     "name": "stdout",
     "output_type": "stream",
     "text": [
      "\n",
      "Training Loss: 0.063 dev performance, p:0.851, r:0.955, f1:0.900\n",
      "\n",
      " Epoch 56 / 75\n"
     ]
    },
    {
     "name": "stderr",
     "output_type": "stream",
     "text": [
      "\n",
      "100%|██████████| 129/129 [00:04<00:00, 26.49it/s]"
     ]
    },
    {
     "name": "stdout",
     "output_type": "stream",
     "text": [
      "evaluating...\n"
     ]
    },
    {
     "name": "stderr",
     "output_type": "stream",
     "text": [
      "\n",
      "100%|██████████| 43/43 [00:00<00:00, 105.82it/s]"
     ]
    },
    {
     "name": "stdout",
     "output_type": "stream",
     "text": [
      "\n",
      "Training Loss: 0.067 dev performance, p:0.851, r:0.955, f1:0.900\n",
      "\n",
      " Epoch 57 / 75\n"
     ]
    },
    {
     "name": "stderr",
     "output_type": "stream",
     "text": [
      "\n",
      "100%|██████████| 129/129 [00:05<00:00, 25.70it/s]"
     ]
    },
    {
     "name": "stdout",
     "output_type": "stream",
     "text": [
      "evaluating...\n"
     ]
    },
    {
     "name": "stderr",
     "output_type": "stream",
     "text": [
      "\n",
      "100%|██████████| 43/43 [00:00<00:00, 108.96it/s]"
     ]
    },
    {
     "name": "stdout",
     "output_type": "stream",
     "text": [
      "\n",
      "Training Loss: 0.075 dev performance, p:0.863, r:0.955, f1:0.906\n",
      "\n",
      " Epoch 58 / 75\n"
     ]
    },
    {
     "name": "stderr",
     "output_type": "stream",
     "text": [
      "\n",
      "100%|██████████| 129/129 [00:05<00:00, 25.45it/s]"
     ]
    },
    {
     "name": "stdout",
     "output_type": "stream",
     "text": [
      "evaluating...\n"
     ]
    },
    {
     "name": "stderr",
     "output_type": "stream",
     "text": [
      "\n",
      "100%|██████████| 43/43 [00:00<00:00, 108.38it/s]"
     ]
    },
    {
     "name": "stdout",
     "output_type": "stream",
     "text": [
      "\n",
      "Training Loss: 0.065 dev performance, p:0.831, r:0.970, f1:0.895\n",
      "\n",
      " Epoch 59 / 75\n"
     ]
    },
    {
     "name": "stderr",
     "output_type": "stream",
     "text": [
      "\n",
      "100%|██████████| 129/129 [00:04<00:00, 26.55it/s]"
     ]
    },
    {
     "name": "stdout",
     "output_type": "stream",
     "text": [
      "evaluating...\n"
     ]
    },
    {
     "name": "stderr",
     "output_type": "stream",
     "text": [
      "\n",
      "100%|██████████| 43/43 [00:00<00:00, 106.82it/s]"
     ]
    },
    {
     "name": "stdout",
     "output_type": "stream",
     "text": [
      "\n",
      "Training Loss: 0.068 dev performance, p:0.831, r:0.970, f1:0.895\n",
      "\n",
      " Epoch 60 / 75\n"
     ]
    },
    {
     "name": "stderr",
     "output_type": "stream",
     "text": [
      "\n",
      "100%|██████████| 129/129 [00:05<00:00, 25.44it/s]"
     ]
    },
    {
     "name": "stdout",
     "output_type": "stream",
     "text": [
      "evaluating...\n"
     ]
    },
    {
     "name": "stderr",
     "output_type": "stream",
     "text": [
      "\n",
      "100%|██████████| 43/43 [00:00<00:00, 106.70it/s]"
     ]
    },
    {
     "name": "stdout",
     "output_type": "stream",
     "text": [
      "\n",
      "Training Loss: 0.059 dev performance, p:0.831, r:0.970, f1:0.895\n",
      "\n",
      " Epoch 61 / 75\n"
     ]
    },
    {
     "name": "stderr",
     "output_type": "stream",
     "text": [
      "\n",
      "100%|██████████| 129/129 [00:04<00:00, 25.80it/s]"
     ]
    },
    {
     "name": "stdout",
     "output_type": "stream",
     "text": [
      "evaluating...\n"
     ]
    },
    {
     "name": "stderr",
     "output_type": "stream",
     "text": [
      "\n",
      "100%|██████████| 43/43 [00:00<00:00, 109.22it/s]"
     ]
    },
    {
     "name": "stdout",
     "output_type": "stream",
     "text": [
      "\n",
      "Training Loss: 0.064 dev performance, p:0.851, r:0.955, f1:0.900\n",
      "\n",
      " Epoch 62 / 75\n"
     ]
    },
    {
     "name": "stderr",
     "output_type": "stream",
     "text": [
      "\n",
      "100%|██████████| 129/129 [00:04<00:00, 25.90it/s]"
     ]
    },
    {
     "name": "stdout",
     "output_type": "stream",
     "text": [
      "evaluating...\n"
     ]
    },
    {
     "name": "stderr",
     "output_type": "stream",
     "text": [
      "\n",
      "100%|██████████| 43/43 [00:00<00:00, 106.91it/s]"
     ]
    },
    {
     "name": "stdout",
     "output_type": "stream",
     "text": [
      "\n",
      "Training Loss: 0.064 dev performance, p:0.831, r:0.970, f1:0.895\n",
      "\n",
      " Epoch 63 / 75\n"
     ]
    },
    {
     "name": "stderr",
     "output_type": "stream",
     "text": [
      "\n",
      "100%|██████████| 129/129 [00:05<00:00, 25.56it/s]"
     ]
    },
    {
     "name": "stdout",
     "output_type": "stream",
     "text": [
      "evaluating...\n"
     ]
    },
    {
     "name": "stderr",
     "output_type": "stream",
     "text": [
      "\n",
      "100%|██████████| 43/43 [00:00<00:00, 106.85it/s]"
     ]
    },
    {
     "name": "stdout",
     "output_type": "stream",
     "text": [
      "\n",
      "Training Loss: 0.061 dev performance, p:0.863, r:0.955, f1:0.906\n",
      "\n",
      " Epoch 64 / 75\n"
     ]
    },
    {
     "name": "stderr",
     "output_type": "stream",
     "text": [
      "\n",
      "100%|██████████| 129/129 [00:05<00:00, 25.41it/s]"
     ]
    },
    {
     "name": "stdout",
     "output_type": "stream",
     "text": [
      "evaluating...\n"
     ]
    },
    {
     "name": "stderr",
     "output_type": "stream",
     "text": [
      "\n",
      "100%|██████████| 43/43 [00:00<00:00, 109.17it/s]"
     ]
    },
    {
     "name": "stdout",
     "output_type": "stream",
     "text": [
      "\n",
      "Training Loss: 0.073 dev performance, p:0.840, r:0.955, f1:0.894\n",
      "\n",
      " Epoch 65 / 75\n"
     ]
    },
    {
     "name": "stderr",
     "output_type": "stream",
     "text": [
      "\n",
      "100%|██████████| 129/129 [00:04<00:00, 25.98it/s]"
     ]
    },
    {
     "name": "stdout",
     "output_type": "stream",
     "text": [
      "evaluating...\n"
     ]
    },
    {
     "name": "stderr",
     "output_type": "stream",
     "text": [
      "\n",
      "100%|██████████| 43/43 [00:00<00:00, 109.21it/s]"
     ]
    },
    {
     "name": "stdout",
     "output_type": "stream",
     "text": [
      "\n",
      "Training Loss: 0.061 dev performance, p:0.851, r:0.955, f1:0.900\n",
      "\n",
      " Epoch 66 / 75\n"
     ]
    },
    {
     "name": "stderr",
     "output_type": "stream",
     "text": [
      "\n",
      "100%|██████████| 129/129 [00:05<00:00, 25.50it/s]"
     ]
    },
    {
     "name": "stdout",
     "output_type": "stream",
     "text": [
      "evaluating...\n"
     ]
    },
    {
     "name": "stderr",
     "output_type": "stream",
     "text": [
      "\n",
      "100%|██████████| 43/43 [00:00<00:00, 106.52it/s]"
     ]
    },
    {
     "name": "stdout",
     "output_type": "stream",
     "text": [
      "\n",
      "Training Loss: 0.065 dev performance, p:0.853, r:0.970, f1:0.908\n",
      "\n",
      " Epoch 67 / 75\n"
     ]
    },
    {
     "name": "stderr",
     "output_type": "stream",
     "text": [
      "\n",
      "100%|██████████| 129/129 [00:04<00:00, 25.97it/s]"
     ]
    },
    {
     "name": "stdout",
     "output_type": "stream",
     "text": [
      "evaluating...\n"
     ]
    },
    {
     "name": "stderr",
     "output_type": "stream",
     "text": [
      "\n",
      "100%|██████████| 43/43 [00:00<00:00, 108.71it/s]"
     ]
    },
    {
     "name": "stdout",
     "output_type": "stream",
     "text": [
      "\n",
      "Training Loss: 0.062 dev performance, p:0.851, r:0.955, f1:0.900\n",
      "\n",
      " Epoch 68 / 75\n"
     ]
    },
    {
     "name": "stderr",
     "output_type": "stream",
     "text": [
      "\n",
      "100%|██████████| 129/129 [00:05<00:00, 25.49it/s]"
     ]
    },
    {
     "name": "stdout",
     "output_type": "stream",
     "text": [
      "evaluating...\n"
     ]
    },
    {
     "name": "stderr",
     "output_type": "stream",
     "text": [
      "\n",
      "100%|██████████| 43/43 [00:00<00:00, 108.64it/s]"
     ]
    },
    {
     "name": "stdout",
     "output_type": "stream",
     "text": [
      "\n",
      "Training Loss: 0.060 dev performance, p:0.831, r:0.970, f1:0.895\n",
      "\n",
      " Epoch 69 / 75\n"
     ]
    },
    {
     "name": "stderr",
     "output_type": "stream",
     "text": [
      "\n",
      "100%|██████████| 129/129 [00:04<00:00, 27.85it/s]"
     ]
    },
    {
     "name": "stdout",
     "output_type": "stream",
     "text": [
      "evaluating...\n"
     ]
    },
    {
     "name": "stderr",
     "output_type": "stream",
     "text": [
      "\n",
      "100%|██████████| 43/43 [00:00<00:00, 106.50it/s]"
     ]
    },
    {
     "name": "stdout",
     "output_type": "stream",
     "text": [
      "\n",
      "Training Loss: 0.065 dev performance, p:0.829, r:0.955, f1:0.887\n",
      "\n",
      " Epoch 70 / 75\n"
     ]
    },
    {
     "name": "stderr",
     "output_type": "stream",
     "text": [
      "\n",
      "100%|██████████| 129/129 [00:04<00:00, 29.55it/s]"
     ]
    },
    {
     "name": "stdout",
     "output_type": "stream",
     "text": [
      "evaluating...\n"
     ]
    },
    {
     "name": "stderr",
     "output_type": "stream",
     "text": [
      "\n",
      "100%|██████████| 43/43 [00:00<00:00, 108.93it/s]"
     ]
    },
    {
     "name": "stdout",
     "output_type": "stream",
     "text": [
      "\n",
      "Training Loss: 0.065 dev performance, p:0.821, r:0.970, f1:0.889\n",
      "\n",
      " Epoch 71 / 75\n"
     ]
    },
    {
     "name": "stderr",
     "output_type": "stream",
     "text": [
      "\n",
      "100%|██████████| 129/129 [00:04<00:00, 29.74it/s]"
     ]
    },
    {
     "name": "stdout",
     "output_type": "stream",
     "text": [
      "evaluating...\n"
     ]
    },
    {
     "name": "stderr",
     "output_type": "stream",
     "text": [
      "\n",
      "100%|██████████| 43/43 [00:00<00:00, 108.12it/s]\n"
     ]
    },
    {
     "name": "stdout",
     "output_type": "stream",
     "text": [
      "\n",
      "Training Loss: 0.061 dev performance, p:0.821, r:0.970, f1:0.889\n",
      "\n",
      " Epoch 72 / 75\n"
     ]
    },
    {
     "name": "stderr",
     "output_type": "stream",
     "text": [
      "100%|██████████| 129/129 [00:04<00:00, 29.60it/s]"
     ]
    },
    {
     "name": "stdout",
     "output_type": "stream",
     "text": [
      "evaluating...\n"
     ]
    },
    {
     "name": "stderr",
     "output_type": "stream",
     "text": [
      "\n",
      "100%|██████████| 43/43 [00:00<00:00, 107.17it/s]"
     ]
    },
    {
     "name": "stdout",
     "output_type": "stream",
     "text": [
      "\n",
      "Training Loss: 0.064 dev performance, p:0.821, r:0.970, f1:0.889\n",
      "\n",
      " Epoch 73 / 75\n"
     ]
    },
    {
     "name": "stderr",
     "output_type": "stream",
     "text": [
      "\n",
      "100%|██████████| 129/129 [00:04<00:00, 25.97it/s]"
     ]
    },
    {
     "name": "stdout",
     "output_type": "stream",
     "text": [
      "evaluating...\n"
     ]
    },
    {
     "name": "stderr",
     "output_type": "stream",
     "text": [
      "\n",
      "100%|██████████| 43/43 [00:00<00:00, 109.78it/s]"
     ]
    },
    {
     "name": "stdout",
     "output_type": "stream",
     "text": [
      "\n",
      "Training Loss: 0.063 dev performance, p:0.821, r:0.970, f1:0.889\n",
      "\n",
      " Epoch 74 / 75\n"
     ]
    },
    {
     "name": "stderr",
     "output_type": "stream",
     "text": [
      "\n",
      "100%|██████████| 129/129 [00:04<00:00, 25.98it/s]"
     ]
    },
    {
     "name": "stdout",
     "output_type": "stream",
     "text": [
      "evaluating...\n"
     ]
    },
    {
     "name": "stderr",
     "output_type": "stream",
     "text": [
      "\n",
      "100%|██████████| 43/43 [00:00<00:00, 109.57it/s]"
     ]
    },
    {
     "name": "stdout",
     "output_type": "stream",
     "text": [
      "\n",
      "Training Loss: 0.059 dev performance, p:0.829, r:0.955, f1:0.887\n",
      "\n",
      " Epoch 75 / 75\n"
     ]
    },
    {
     "name": "stderr",
     "output_type": "stream",
     "text": [
      "\n",
      "100%|██████████| 129/129 [00:05<00:00, 25.49it/s]"
     ]
    },
    {
     "name": "stdout",
     "output_type": "stream",
     "text": [
      "evaluating...\n"
     ]
    },
    {
     "name": "stderr",
     "output_type": "stream",
     "text": [
      "\n",
      "100%|██████████| 43/43 [00:00<00:00, 106.94it/s]"
     ]
    },
    {
     "name": "stdout",
     "output_type": "stream",
     "text": [
      "\n",
      "Training Loss: 0.061 dev performance, p:0.818, r:0.955, f1:0.881\n"
     ]
    },
    {
     "name": "stderr",
     "output_type": "stream",
     "text": [
      "\n"
     ]
    }
   ],
   "source": [
    "#for each epoch\n",
    "\n",
    "best_model_state = None\n",
    "best_score = -1\n",
    "\n",
    "for epoch in range(epochs):\n",
    "     \n",
    "    print('\\n Epoch {:} / {:}'.format(epoch + 1, epochs), flush=True)\n",
    "    #train model\n",
    "    train_loss, performance = train()\n",
    "    print('\\nTraining Loss: {:.3f}'.format(train_loss), \n",
    "          'dev performance, p:{precision:.3f}, r:{recall:.3f}, f1:{f1:.3f}'.format(**performance), flush=True)\n",
    "    if best_score < performance['f1']:\n",
    "        best_score = performance['f1']\n",
    "        best_model_state = copy.deepcopy(model.state_dict())\n",
    "        print('current best score is {0:.3f}'.format(best_score), flush=True)    \n",
    "\n",
    "ran = True"
   ]
  },
  {
   "cell_type": "code",
   "execution_count": 139,
   "metadata": {},
   "outputs": [],
   "source": [
    "model_file = 'bert_finetune_mimic.pt'\n",
    "torch.save(best_model_state, model_file)"
   ]
  },
  {
   "cell_type": "code",
   "execution_count": 140,
   "metadata": {},
   "outputs": [],
   "source": [
    "if not ran:\n",
    "    device = torch.device('cuda' if torch.cuda.is_available() else 'cpu')\n",
    "\n",
    "    model_file = 'bert_finetune_mimic.pt'\n",
    "\n",
    "    categories = {'control': 0, 'case': 1}\n",
    "    # initialise the model use pretrained bert instance and the label numbers\n",
    "    model = BERT_Text_Classifier(bert_2, class_num=len(categories))\n",
    "\n",
    "    model.load_state_dict(torch.load(model_file))\n",
    "    model.eval()"
   ]
  },
  {
   "cell_type": "markdown",
   "metadata": {},
   "source": [
    "### Test the optimized BERT"
   ]
  },
  {
   "cell_type": "code",
   "execution_count": 141,
   "metadata": {},
   "outputs": [],
   "source": [
    "test_seq = test_seq.to(device)\n",
    "test_mask = test_mask.to(device)\n",
    "model = model.to(device)"
   ]
  },
  {
   "cell_type": "code",
   "execution_count": 142,
   "metadata": {},
   "outputs": [
    {
     "name": "stdout",
     "output_type": "stream",
     "text": [
      "evaluating...\n"
     ]
    },
    {
     "name": "stderr",
     "output_type": "stream",
     "text": [
      "100%|██████████| 43/43 [00:00<00:00, 108.14it/s]"
     ]
    },
    {
     "name": "stdout",
     "output_type": "stream",
     "text": [
      "{'precision': 0.9420289855072463, 'recall': 0.9558823529411765, 'f1': 0.9489051094890512}\n"
     ]
    },
    {
     "name": "stderr",
     "output_type": "stream",
     "text": [
      "\n"
     ]
    }
   ],
   "source": [
    "# dataLoader for test set\n",
    "# wrap tensors\n",
    "testing_data = TensorDataset(test_seq, test_mask, test_y)\n",
    "testing_data_loader = DataLoader(testing_data, batch_size=batch_size)     \n",
    "print(evaluate(model, testing_data_loader))\n",
    "# preds = np.argmax(preds.detach().cpu(), axis = 1)"
   ]
  },
  {
   "cell_type": "code",
   "execution_count": 143,
   "metadata": {},
   "outputs": [
    {
     "name": "stdout",
     "output_type": "stream",
     "text": [
      "              precision    recall  f1-score   support\n",
      "\n",
      "           0       0.99      0.97      0.98       147\n",
      "           1       0.93      0.97      0.95        68\n",
      "\n",
      "    accuracy                           0.97       215\n",
      "   macro avg       0.96      0.97      0.96       215\n",
      "weighted avg       0.97      0.97      0.97       215\n",
      "\n"
     ]
    }
   ],
   "source": [
    "# predicting, so gradients\n",
    "with torch.no_grad():\n",
    "    preds = model(test_seq, test_mask)\n",
    "    \n",
    "preds = np.argmax(preds.detach().cpu(), axis = 1)\n",
    "print(classification_report(test_y, preds))"
   ]
  },
  {
   "cell_type": "code",
   "execution_count": 144,
   "metadata": {},
   "outputs": [
    {
     "data": {
      "image/png": "[encoded data removed]",
      "text/plain": [
       "<Figure size 432x288 with 2 Axes>"
      ]
     },
     "metadata": {
      "needs_background": "light"
     },
     "output_type": "display_data"
    }
   ],
   "source": [
    "cm_bert_finetune = confusion_matrix(test_y, preds, labels=[1,0])\n",
    "ax= plt.subplot()\n",
    "sns.heatmap(cm_bert_finetune, annot=True, ax = ax, cmap='Blues', fmt=\"d\")\n",
    "\n",
    "ax.set_title('Confusion Matrix of BERT after Grid Search (MIMIC-III data)')\n",
    "\n",
    "ax.set_xlabel('Predicted Labels')\n",
    "ax.set_ylabel('True Labels')\n",
    "\n",
    "ax.xaxis.set_ticklabels(['FAKE', 'REAL'])\n",
    "ax.yaxis.set_ticklabels(['FAKE', 'REAL'])\n",
    "plt.savefig('Confusion_matrix_BERT(grid search)_mimic')"
   ]
  },
  {
   "cell_type": "markdown",
   "metadata": {},
   "source": [
    "## Classification algorithm 2: BlueBERT\n",
    "### Train the BlueBERT"
   ]
  },
  {
   "cell_type": "code",
   "execution_count": 145,
   "metadata": {},
   "outputs": [
    {
     "name": "stderr",
     "output_type": "stream",
     "text": [
      "Some weights of the model checkpoint at bionlp/bluebert_pubmed_mimic_uncased_L-12_H-768_A-12 were not used when initializing BertModel: ['cls.predictions.decoder.weight', 'cls.predictions.transform.dense.weight', 'cls.predictions.transform.dense.bias', 'cls.predictions.transform.LayerNorm.weight', 'cls.seq_relationship.weight', 'cls.predictions.bias', 'cls.seq_relationship.bias', 'cls.predictions.transform.LayerNorm.bias', 'cls.predictions.decoder.bias']\n",
      "- This IS expected if you are initializing BertModel from the checkpoint of a model trained on another task or with another architecture (e.g. initializing a BertForSequenceClassification model from a BertForPreTraining model).\n",
      "- This IS NOT expected if you are initializing BertModel from the checkpoint of a model that you expect to be exactly identical (initializing a BertForSequenceClassification model from a BertForSequenceClassification model).\n"
     ]
    }
   ],
   "source": [
    "# bionlp/bluebert_pubmed_mimic_uncased_L-12_H-768_A-12\n",
    "# import BERT-base pretrained model\n",
    "bert_2 = AutoModel.from_pretrained('bionlp/bluebert_pubmed_mimic_uncased_L-12_H-768_A-12')\n",
    "# Load the BERT tokenizer\n",
    "tokenizer_2 = BertTokenizerFast.from_pretrained('bionlp/bluebert_pubmed_mimic_uncased_L-12_H-768_A-12')"
   ]
  },
  {
   "cell_type": "code",
   "execution_count": 146,
   "metadata": {},
   "outputs": [
    {
     "name": "stderr",
     "output_type": "stream",
     "text": [
      "Asking to truncate to max_length but no maximum length is provided and the model has no predefined maximum length. Default to no truncation.\n"
     ]
    }
   ],
   "source": [
    "def prepare_X_y(texts, labels):    \n",
    "    tokenized = tokenizer_2.batch_encode_plus(\n",
    "        texts,\n",
    "        padding=True,\n",
    "        truncation=True\n",
    "    )\n",
    "    seq = torch.tensor(tokenized['input_ids'])\n",
    "    mask = torch.tensor(tokenized['attention_mask'])\n",
    "    y = torch.tensor(labels)\n",
    "    return seq, mask, y\n",
    "\n",
    "train_seq, train_mask, train_y = prepare_X_y(X_train, y_train)\n",
    "dev_seq, dev_mask, dev_y = prepare_X_y(X_dev, y_dev)\n",
    "test_seq, test_mask, test_y = prepare_X_y(X_test, y_test)"
   ]
  },
  {
   "cell_type": "code",
   "execution_count": 147,
   "metadata": {},
   "outputs": [],
   "source": [
    "#define a batch size\n",
    "batch_size = 5\n",
    "epochs = 20\n",
    "learning_rate = 1e-1"
   ]
  },
  {
   "cell_type": "code",
   "execution_count": 148,
   "metadata": {},
   "outputs": [],
   "source": [
    "# wrap tensors\n",
    "training_data = TensorDataset(train_seq, train_mask, train_y)\n",
    "dev_data = TensorDataset(dev_seq, dev_mask, dev_y)\n",
    "# testing_data = TensorDataset(test_seq, test_mask, test_y)\n",
    "\n",
    "# sampler for sampling the data during training\n",
    "sampler = RandomSampler(training_data)\n",
    "\n",
    "# dataLoader\n",
    "training_data_loader = DataLoader(training_data, sampler=sampler, batch_size=batch_size)\n",
    "dev_data_loader = DataLoader(dev_data, batch_size=batch_size) \n",
    "# testing_data_loader = DataLoader(testing_data, sampler=sampler, batch_size=batch_size)"
   ]
  },
  {
   "cell_type": "code",
   "execution_count": 149,
   "metadata": {},
   "outputs": [],
   "source": [
    "# Define the model\n",
    "\n",
    "class BERT_Text_Classifier(nn.Module):\n",
    "    \n",
    "    def __init__(self, bert_2, class_num, bert_dim=768, hidden_dim=512):\n",
    "      \n",
    "        super(BERT_Text_Classifier, self).__init__()\n",
    "\n",
    "        self.bert_2 = bert_2 \n",
    "\n",
    "        # define a dropout\n",
    "        self.dropout = nn.Dropout(0.1)\n",
    "\n",
    "        # use relu\n",
    "        self.relu =  nn.ReLU()\n",
    "\n",
    "        # feedforward layer\n",
    "        self.fc1 = nn.Linear(bert_dim, hidden_dim)\n",
    "\n",
    "        # Output layer\n",
    "        self.fc2 = nn.Linear(hidden_dim, class_num)\n",
    "\n",
    "        #softmax function instance\n",
    "        self.softmax = nn.LogSoftmax(dim=1)\n",
    "\n",
    "    #define the forward pass\n",
    "    def forward(self, seq, mask):\n",
    "\n",
    "        # use pretrained bert_2 to read the sequence with the mask (pay attention to which tokens)\n",
    "        bert_out = self.bert_2(seq, attention_mask=mask)\n",
    "        \n",
    "        # print('last_hidden_state', bert_out['last_hidden_state'].size(), \n",
    "        #      'pooler_output', bert_out['pooler_output'].size())\n",
    "        \n",
    "        lhs = bert_out['pooler_output']\n",
    "        x = self.fc1(lhs)        \n",
    "        x = self.relu(x)\n",
    "        x = self.dropout(x)\n",
    "        x = self.fc2(x)\n",
    "        \n",
    "        # apply softmax activation\n",
    "        x = self.softmax(x)\n",
    "\n",
    "        return x"
   ]
  },
  {
   "cell_type": "code",
   "execution_count": 150,
   "metadata": {},
   "outputs": [],
   "source": [
    "def evaluate(m, evl_loader, eval_labels=[1]):\n",
    "    from sklearn.metrics import precision_recall_fscore_support\n",
    "    preds = []\n",
    "    lbls = []\n",
    "    print('evaluating...', flush=True)\n",
    "    for step, batch in enumerate(tqdm(evl_loader)):        \n",
    "        # use gpu if available\n",
    "        batch = [r.to(device) for r in batch]\n",
    "        seq, mask, labels = batch\n",
    "        with torch.no_grad():\n",
    "            batch_result = m(seq, mask)\n",
    "            rets = np.argmax(batch_result.detach().cpu(), axis = 1).tolist()\n",
    "            preds += rets\n",
    "            lbls += labels.tolist()\n",
    "    p, r, f, _ = precision_recall_fscore_support(lbls, preds, labels=eval_labels)\n",
    "    return {'precision': p[0], 'recall': r[0], 'f1': f[0]}"
   ]
  },
  {
   "cell_type": "code",
   "execution_count": 151,
   "metadata": {},
   "outputs": [],
   "source": [
    "# function to train the model\n",
    "def train():\n",
    "    # dropout activates when in train mode \n",
    "    model.train()\n",
    "\n",
    "    total_loss = 0\n",
    "    for step, batch in enumerate(tqdm(training_data_loader)):\n",
    "        \n",
    "        # use gpu if available\n",
    "        batch = [r.to(device) for r in batch]\n",
    "        \n",
    "        seq, mask, labels = batch\n",
    "        \n",
    "        # reset gradients \n",
    "        model.zero_grad()        \n",
    "\n",
    "        # get model outputs\n",
    "        outputs = model.forward(seq, mask)\n",
    "\n",
    "        # compute the loss between actual and predicted values\n",
    "        loss = cross_entropy(outputs, labels)\n",
    "\n",
    "        # accumulate loss\n",
    "        total_loss = total_loss + loss.item()\n",
    "\n",
    "        # calculate the gradients\n",
    "        loss.backward()\n",
    "\n",
    "        # deal with the exploding gradient problem\n",
    "        torch.nn.utils.clip_grad_norm_(model.parameters(), 1.0)\n",
    "\n",
    "        # update parameters\n",
    "        optimizer.step()\n",
    "\n",
    "    # calculate average loss\n",
    "    average_loss = total_loss / len(training_data_loader)\n",
    "    \n",
    "    ret = evaluate(model, dev_data_loader)\n",
    "  \n",
    "    return average_loss, ret"
   ]
  },
  {
   "cell_type": "code",
   "execution_count": 152,
   "metadata": {},
   "outputs": [],
   "source": [
    "categories = {'control': 0, 'case': 1}\n",
    "# initialise the model use pretrained bert_2 instance and the label numbers\n",
    "model = BERT_Text_Classifier(bert_2, class_num=len(categories))\n",
    "\n",
    "# push the model to GPU\n",
    "model = model.to(device)\n",
    "\n",
    "# define the optimizer\n",
    "# optimizer = AdamW(model.parameters(),\n",
    "#                   lr = learning_rate)\n",
    "optimizer = optim.SGD(model.parameters(), lr=learning_rate)\n",
    "\n",
    "cross_entropy  = nn.NLLLoss() "
   ]
  },
  {
   "cell_type": "code",
   "execution_count": 55,
   "metadata": {},
   "outputs": [
    {
     "name": "stdout",
     "output_type": "stream",
     "text": [
      "\n",
      " Epoch 1 / 20\n"
     ]
    },
    {
     "name": "stderr",
     "output_type": "stream",
     "text": [
      "100%|██████████████████████████████████████████████████████████| 129/129 [00:03<00:00, 38.71it/s]"
     ]
    },
    {
     "name": "stdout",
     "output_type": "stream",
     "text": [
      "evaluating...\n"
     ]
    },
    {
     "name": "stderr",
     "output_type": "stream",
     "text": [
      "\n",
      "100%|███████████████████████████████████████████████████████████| 43/43 [00:00<00:00, 132.52it/s]"
     ]
    },
    {
     "name": "stdout",
     "output_type": "stream",
     "text": [
      "\n",
      "Training Loss: 0.326 dev performance, p:0.913, r:0.636, f1:0.750\n",
      "current best score is 0.750\n",
      "\n",
      " Epoch 2 / 20\n"
     ]
    },
    {
     "name": "stderr",
     "output_type": "stream",
     "text": [
      "\n",
      "100%|██████████████████████████████████████████████████████████| 129/129 [00:03<00:00, 39.41it/s]"
     ]
    },
    {
     "name": "stdout",
     "output_type": "stream",
     "text": [
      "evaluating...\n"
     ]
    },
    {
     "name": "stderr",
     "output_type": "stream",
     "text": [
      "\n",
      "100%|███████████████████████████████████████████████████████████| 43/43 [00:00<00:00, 155.12it/s]"
     ]
    },
    {
     "name": "stdout",
     "output_type": "stream",
     "text": [
      "\n",
      "Training Loss: 0.262 dev performance, p:0.882, r:0.909, f1:0.896\n",
      "current best score is 0.896\n",
      "\n",
      " Epoch 3 / 20\n"
     ]
    },
    {
     "name": "stderr",
     "output_type": "stream",
     "text": [
      "\n",
      "100%|██████████████████████████████████████████████████████████| 129/129 [00:03<00:00, 40.67it/s]"
     ]
    },
    {
     "name": "stdout",
     "output_type": "stream",
     "text": [
      "evaluating...\n"
     ]
    },
    {
     "name": "stderr",
     "output_type": "stream",
     "text": [
      "\n",
      "100%|███████████████████████████████████████████████████████████| 43/43 [00:00<00:00, 160.68it/s]"
     ]
    },
    {
     "name": "stdout",
     "output_type": "stream",
     "text": [
      "\n",
      "Training Loss: 0.197 dev performance, p:0.851, r:0.955, f1:0.900\n",
      "current best score is 0.900\n",
      "\n",
      " Epoch 4 / 20\n"
     ]
    },
    {
     "name": "stderr",
     "output_type": "stream",
     "text": [
      "\n",
      "100%|██████████████████████████████████████████████████████████| 129/129 [00:03<00:00, 41.34it/s]"
     ]
    },
    {
     "name": "stdout",
     "output_type": "stream",
     "text": [
      "evaluating...\n"
     ]
    },
    {
     "name": "stderr",
     "output_type": "stream",
     "text": [
      "\n",
      "100%|███████████████████████████████████████████████████████████| 43/43 [00:00<00:00, 161.24it/s]"
     ]
    },
    {
     "name": "stdout",
     "output_type": "stream",
     "text": [
      "\n",
      "Training Loss: 0.137 dev performance, p:0.877, r:0.970, f1:0.921\n",
      "current best score is 0.921\n",
      "\n",
      " Epoch 5 / 20\n"
     ]
    },
    {
     "name": "stderr",
     "output_type": "stream",
     "text": [
      "\n",
      "100%|██████████████████████████████████████████████████████████| 129/129 [00:03<00:00, 41.33it/s]"
     ]
    },
    {
     "name": "stdout",
     "output_type": "stream",
     "text": [
      "evaluating...\n"
     ]
    },
    {
     "name": "stderr",
     "output_type": "stream",
     "text": [
      "\n",
      "100%|███████████████████████████████████████████████████████████| 43/43 [00:00<00:00, 160.28it/s]"
     ]
    },
    {
     "name": "stdout",
     "output_type": "stream",
     "text": [
      "\n",
      "Training Loss: 0.162 dev performance, p:0.881, r:0.894, f1:0.887\n",
      "\n",
      " Epoch 6 / 20\n"
     ]
    },
    {
     "name": "stderr",
     "output_type": "stream",
     "text": [
      "\n",
      "100%|██████████████████████████████████████████████████████████| 129/129 [00:03<00:00, 40.33it/s]"
     ]
    },
    {
     "name": "stdout",
     "output_type": "stream",
     "text": [
      "evaluating...\n"
     ]
    },
    {
     "name": "stderr",
     "output_type": "stream",
     "text": [
      "\n",
      "100%|███████████████████████████████████████████████████████████| 43/43 [00:00<00:00, 152.75it/s]"
     ]
    },
    {
     "name": "stdout",
     "output_type": "stream",
     "text": [
      "\n",
      "Training Loss: 0.151 dev performance, p:0.887, r:0.955, f1:0.920\n",
      "\n",
      " Epoch 7 / 20\n"
     ]
    },
    {
     "name": "stderr",
     "output_type": "stream",
     "text": [
      "\n",
      "100%|██████████████████████████████████████████████████████████| 129/129 [00:03<00:00, 40.52it/s]"
     ]
    },
    {
     "name": "stdout",
     "output_type": "stream",
     "text": [
      "evaluating...\n"
     ]
    },
    {
     "name": "stderr",
     "output_type": "stream",
     "text": [
      "\n",
      "100%|███████████████████████████████████████████████████████████| 43/43 [00:00<00:00, 157.77it/s]"
     ]
    },
    {
     "name": "stdout",
     "output_type": "stream",
     "text": [
      "\n",
      "Training Loss: 0.132 dev performance, p:0.889, r:0.970, f1:0.928\n",
      "current best score is 0.928\n",
      "\n",
      " Epoch 8 / 20\n"
     ]
    },
    {
     "name": "stderr",
     "output_type": "stream",
     "text": [
      "\n",
      "100%|██████████████████████████████████████████████████████████| 129/129 [00:03<00:00, 41.07it/s]"
     ]
    },
    {
     "name": "stdout",
     "output_type": "stream",
     "text": [
      "evaluating...\n"
     ]
    },
    {
     "name": "stderr",
     "output_type": "stream",
     "text": [
      "\n",
      "100%|███████████████████████████████████████████████████████████| 43/43 [00:00<00:00, 160.24it/s]"
     ]
    },
    {
     "name": "stdout",
     "output_type": "stream",
     "text": [
      "\n",
      "Training Loss: 0.126 dev performance, p:0.886, r:0.939, f1:0.912\n",
      "\n",
      " Epoch 9 / 20\n"
     ]
    },
    {
     "name": "stderr",
     "output_type": "stream",
     "text": [
      "\n",
      "100%|██████████████████████████████████████████████████████████| 129/129 [00:03<00:00, 41.19it/s]"
     ]
    },
    {
     "name": "stdout",
     "output_type": "stream",
     "text": [
      "evaluating...\n"
     ]
    },
    {
     "name": "stderr",
     "output_type": "stream",
     "text": [
      "\n",
      "100%|███████████████████████████████████████████████████████████| 43/43 [00:00<00:00, 157.18it/s]"
     ]
    },
    {
     "name": "stdout",
     "output_type": "stream",
     "text": [
      "\n",
      "Training Loss: 0.138 dev performance, p:0.887, r:0.955, f1:0.920\n",
      "\n",
      " Epoch 10 / 20\n"
     ]
    },
    {
     "name": "stderr",
     "output_type": "stream",
     "text": [
      "\n",
      "100%|██████████████████████████████████████████████████████████| 129/129 [00:03<00:00, 41.14it/s]"
     ]
    },
    {
     "name": "stdout",
     "output_type": "stream",
     "text": [
      "evaluating...\n"
     ]
    },
    {
     "name": "stderr",
     "output_type": "stream",
     "text": [
      "\n",
      "100%|███████████████████████████████████████████████████████████| 43/43 [00:00<00:00, 159.07it/s]"
     ]
    },
    {
     "name": "stdout",
     "output_type": "stream",
     "text": [
      "\n",
      "Training Loss: 0.103 dev performance, p:0.886, r:0.939, f1:0.912\n",
      "\n",
      " Epoch 11 / 20\n"
     ]
    },
    {
     "name": "stderr",
     "output_type": "stream",
     "text": [
      "\n",
      "100%|██████████████████████████████████████████████████████████| 129/129 [00:03<00:00, 41.23it/s]"
     ]
    },
    {
     "name": "stdout",
     "output_type": "stream",
     "text": [
      "evaluating...\n"
     ]
    },
    {
     "name": "stderr",
     "output_type": "stream",
     "text": [
      "\n",
      "100%|███████████████████████████████████████████████████████████| 43/43 [00:00<00:00, 159.13it/s]"
     ]
    },
    {
     "name": "stdout",
     "output_type": "stream",
     "text": [
      "\n",
      "Training Loss: 0.099 dev performance, p:0.900, r:0.955, f1:0.926\n",
      "\n",
      " Epoch 12 / 20\n"
     ]
    },
    {
     "name": "stderr",
     "output_type": "stream",
     "text": [
      "\n",
      "100%|██████████████████████████████████████████████████████████| 129/129 [00:03<00:00, 41.25it/s]"
     ]
    },
    {
     "name": "stdout",
     "output_type": "stream",
     "text": [
      "evaluating...\n"
     ]
    },
    {
     "name": "stderr",
     "output_type": "stream",
     "text": [
      "\n",
      "100%|███████████████████████████████████████████████████████████| 43/43 [00:00<00:00, 160.50it/s]"
     ]
    },
    {
     "name": "stdout",
     "output_type": "stream",
     "text": [
      "\n",
      "Training Loss: 0.104 dev performance, p:0.887, r:0.955, f1:0.920\n",
      "\n",
      " Epoch 13 / 20\n"
     ]
    },
    {
     "name": "stderr",
     "output_type": "stream",
     "text": [
      "\n",
      "100%|██████████████████████████████████████████████████████████| 129/129 [00:03<00:00, 36.69it/s]"
     ]
    },
    {
     "name": "stdout",
     "output_type": "stream",
     "text": [
      "evaluating...\n"
     ]
    },
    {
     "name": "stderr",
     "output_type": "stream",
     "text": [
      "\n",
      "100%|███████████████████████████████████████████████████████████| 43/43 [00:00<00:00, 147.42it/s]"
     ]
    },
    {
     "name": "stdout",
     "output_type": "stream",
     "text": [
      "\n",
      "Training Loss: 0.147 dev performance, p:0.853, r:0.970, f1:0.908\n",
      "\n",
      " Epoch 14 / 20\n"
     ]
    },
    {
     "name": "stderr",
     "output_type": "stream",
     "text": [
      "\n",
      "100%|██████████████████████████████████████████████████████████| 129/129 [00:03<00:00, 39.90it/s]"
     ]
    },
    {
     "name": "stdout",
     "output_type": "stream",
     "text": [
      "evaluating...\n"
     ]
    },
    {
     "name": "stderr",
     "output_type": "stream",
     "text": [
      "\n",
      "100%|███████████████████████████████████████████████████████████| 43/43 [00:00<00:00, 157.36it/s]"
     ]
    },
    {
     "name": "stdout",
     "output_type": "stream",
     "text": [
      "\n",
      "Training Loss: 0.128 dev performance, p:0.886, r:0.939, f1:0.912\n",
      "\n",
      " Epoch 15 / 20\n"
     ]
    },
    {
     "name": "stderr",
     "output_type": "stream",
     "text": [
      "\n",
      "100%|██████████████████████████████████████████████████████████| 129/129 [00:03<00:00, 41.02it/s]"
     ]
    },
    {
     "name": "stdout",
     "output_type": "stream",
     "text": [
      "evaluating...\n"
     ]
    },
    {
     "name": "stderr",
     "output_type": "stream",
     "text": [
      "\n",
      "100%|███████████████████████████████████████████████████████████| 43/43 [00:00<00:00, 159.88it/s]"
     ]
    },
    {
     "name": "stdout",
     "output_type": "stream",
     "text": [
      "\n",
      "Training Loss: 0.119 dev performance, p:0.823, r:0.985, f1:0.897\n",
      "\n",
      " Epoch 16 / 20\n"
     ]
    },
    {
     "name": "stderr",
     "output_type": "stream",
     "text": [
      "\n",
      "100%|██████████████████████████████████████████████████████████| 129/129 [00:03<00:00, 40.98it/s]"
     ]
    },
    {
     "name": "stdout",
     "output_type": "stream",
     "text": [
      "evaluating...\n"
     ]
    },
    {
     "name": "stderr",
     "output_type": "stream",
     "text": [
      "\n",
      "100%|███████████████████████████████████████████████████████████| 43/43 [00:00<00:00, 157.24it/s]"
     ]
    },
    {
     "name": "stdout",
     "output_type": "stream",
     "text": [
      "\n",
      "Training Loss: 0.130 dev performance, p:0.840, r:0.955, f1:0.894\n",
      "\n",
      " Epoch 17 / 20\n"
     ]
    },
    {
     "name": "stderr",
     "output_type": "stream",
     "text": [
      "\n",
      "100%|██████████████████████████████████████████████████████████| 129/129 [00:03<00:00, 41.06it/s]"
     ]
    },
    {
     "name": "stdout",
     "output_type": "stream",
     "text": [
      "evaluating...\n"
     ]
    },
    {
     "name": "stderr",
     "output_type": "stream",
     "text": [
      "\n",
      "100%|███████████████████████████████████████████████████████████| 43/43 [00:00<00:00, 159.82it/s]"
     ]
    },
    {
     "name": "stdout",
     "output_type": "stream",
     "text": [
      "\n",
      "Training Loss: 0.117 dev performance, p:0.900, r:0.955, f1:0.926\n",
      "\n",
      " Epoch 18 / 20\n"
     ]
    },
    {
     "name": "stderr",
     "output_type": "stream",
     "text": [
      "\n",
      "100%|██████████████████████████████████████████████████████████| 129/129 [00:03<00:00, 41.12it/s]"
     ]
    },
    {
     "name": "stdout",
     "output_type": "stream",
     "text": [
      "evaluating...\n"
     ]
    },
    {
     "name": "stderr",
     "output_type": "stream",
     "text": [
      "\n",
      "100%|███████████████████████████████████████████████████████████| 43/43 [00:00<00:00, 157.51it/s]"
     ]
    },
    {
     "name": "stdout",
     "output_type": "stream",
     "text": [
      "\n",
      "Training Loss: 0.109 dev performance, p:0.900, r:0.955, f1:0.926\n",
      "\n",
      " Epoch 19 / 20\n"
     ]
    },
    {
     "name": "stderr",
     "output_type": "stream",
     "text": [
      "\n",
      "100%|██████████████████████████████████████████████████████████| 129/129 [00:03<00:00, 41.06it/s]"
     ]
    },
    {
     "name": "stdout",
     "output_type": "stream",
     "text": [
      "evaluating...\n"
     ]
    },
    {
     "name": "stderr",
     "output_type": "stream",
     "text": [
      "\n",
      "100%|███████████████████████████████████████████████████████████| 43/43 [00:00<00:00, 159.85it/s]"
     ]
    },
    {
     "name": "stdout",
     "output_type": "stream",
     "text": [
      "\n",
      "Training Loss: 0.116 dev performance, p:0.889, r:0.970, f1:0.928\n",
      "\n",
      " Epoch 20 / 20\n"
     ]
    },
    {
     "name": "stderr",
     "output_type": "stream",
     "text": [
      "\n",
      "100%|██████████████████████████████████████████████████████████| 129/129 [00:03<00:00, 41.03it/s]"
     ]
    },
    {
     "name": "stdout",
     "output_type": "stream",
     "text": [
      "evaluating...\n"
     ]
    },
    {
     "name": "stderr",
     "output_type": "stream",
     "text": [
      "\n",
      "100%|███████████████████████████████████████████████████████████| 43/43 [00:00<00:00, 157.62it/s]"
     ]
    },
    {
     "name": "stdout",
     "output_type": "stream",
     "text": [
      "\n",
      "Training Loss: 0.098 dev performance, p:0.863, r:0.955, f1:0.906\n"
     ]
    },
    {
     "name": "stderr",
     "output_type": "stream",
     "text": [
      "\n"
     ]
    }
   ],
   "source": [
    "#for each epoch\n",
    "\n",
    "best_model_state = None\n",
    "best_score = -1\n",
    "\n",
    "for epoch in range(epochs):\n",
    "     \n",
    "    print('\\n Epoch {:} / {:}'.format(epoch + 1, epochs), flush=True)\n",
    "    #train model\n",
    "    train_loss, performance = train()\n",
    "    print('\\nTraining Loss: {:.3f}'.format(train_loss), \n",
    "          'dev performance, p:{precision:.3f}, r:{recall:.3f}, f1:{f1:.3f}'.format(**performance), flush=True)\n",
    "    if best_score < performance['f1']:\n",
    "        best_score = performance['f1']\n",
    "        best_model_state = copy.deepcopy(model.state_dict())\n",
    "        print('current best score is {0:.3f}'.format(best_score), flush=True)    \n",
    "\n",
    "ran = True"
   ]
  },
  {
   "cell_type": "code",
   "execution_count": 56,
   "metadata": {},
   "outputs": [],
   "source": [
    "model_file = 'bluebert_initial_mimic.pt'\n",
    "torch.save(best_model_state, model_file)"
   ]
  },
  {
   "cell_type": "code",
   "execution_count": 57,
   "metadata": {},
   "outputs": [],
   "source": [
    "if not ran:\n",
    "    device = torch.device('cuda' if torch.cuda.is_available() else 'cpu')\n",
    "\n",
    "    model_file = 'bluebert_initial_mimic.pt'\n",
    "\n",
    "    categories = {'control': 0, 'case': 1}\n",
    "    # initialise the model use pretrained bert instance and the label numbers\n",
    "    model = BERT_Text_Classifier(bert_2, class_num=len(categories))\n",
    "\n",
    "    model.load_state_dict(torch.load(model_file))\n",
    "    model.eval()"
   ]
  },
  {
   "cell_type": "markdown",
   "metadata": {},
   "source": [
    "### Test the BlueBERT"
   ]
  },
  {
   "cell_type": "code",
   "execution_count": 153,
   "metadata": {},
   "outputs": [],
   "source": [
    "test_seq = test_seq.to(device)\n",
    "test_mask = test_mask.to(device)\n",
    "model = model.to(device)"
   ]
  },
  {
   "cell_type": "code",
   "execution_count": 59,
   "metadata": {},
   "outputs": [
    {
     "name": "stdout",
     "output_type": "stream",
     "text": [
      "evaluating...\n"
     ]
    },
    {
     "name": "stderr",
     "output_type": "stream",
     "text": [
      "100%|███████████████████████████████████████████████████████████| 43/43 [00:00<00:00, 159.01it/s]"
     ]
    },
    {
     "name": "stdout",
     "output_type": "stream",
     "text": [
      "{'precision': 0.9558823529411765, 'recall': 0.9558823529411765, 'f1': 0.9558823529411765}\n"
     ]
    },
    {
     "name": "stderr",
     "output_type": "stream",
     "text": [
      "\n"
     ]
    }
   ],
   "source": [
    "# dataLoader for test set\n",
    "# wrap tensors\n",
    "testing_data = TensorDataset(test_seq, test_mask, test_y)\n",
    "testing_data_loader = DataLoader(testing_data, batch_size=batch_size)     \n",
    "print(evaluate(model, testing_data_loader))\n",
    "# preds = np.argmax(preds.detach().cpu(), axis = 1)"
   ]
  },
  {
   "cell_type": "code",
   "execution_count": 60,
   "metadata": {},
   "outputs": [
    {
     "name": "stdout",
     "output_type": "stream",
     "text": [
      "              precision    recall  f1-score   support\n",
      "\n",
      "           0       0.98      0.97      0.97       147\n",
      "           1       0.93      0.96      0.94        68\n",
      "\n",
      "    accuracy                           0.96       215\n",
      "   macro avg       0.95      0.96      0.96       215\n",
      "weighted avg       0.96      0.96      0.96       215\n",
      "\n"
     ]
    }
   ],
   "source": [
    "# predicting, so gradients\n",
    "with torch.no_grad():\n",
    "    preds = model(test_seq, test_mask)\n",
    "    \n",
    "preds = np.argmax(preds.detach().cpu(), axis = 1)\n",
    "print(classification_report(test_y, preds))"
   ]
  },
  {
   "cell_type": "code",
   "execution_count": 61,
   "metadata": {},
   "outputs": [
    {
     "data": {
      "image/png": "[encoded data removed]",
      "text/plain": [
       "<Figure size 432x288 with 2 Axes>"
      ]
     },
     "metadata": {
      "needs_background": "light"
     },
     "output_type": "display_data"
    }
   ],
   "source": [
    "cm_bert = confusion_matrix(test_y, preds, labels=[1,0])\n",
    "ax= plt.subplot()\n",
    "sns.heatmap(cm_bert, annot=True, ax = ax, cmap='Blues', fmt=\"d\")\n",
    "\n",
    "ax.set_title('Confusion Matrix of BlueBERT (MIMIC-III data)')\n",
    "\n",
    "ax.set_xlabel('Predicted Labels')\n",
    "ax.set_ylabel('True Labels')\n",
    "\n",
    "ax.xaxis.set_ticklabels(['FAKE', 'REAL'])\n",
    "ax.yaxis.set_ticklabels(['FAKE', 'REAL'])\n",
    "plt.savefig('Confusion_matrix_BlueBERT_mimic')"
   ]
  },
  {
   "cell_type": "markdown",
   "metadata": {},
   "source": [
    "### Grid search of BlueBERT for optimization"
   ]
  },
  {
   "cell_type": "code",
   "execution_count": 62,
   "metadata": {},
   "outputs": [
    {
     "name": "stdout",
     "output_type": "stream",
     "text": [
      "Building sklearn text classifier...\n",
      "Building sklearn text classifier...\n",
      "Fitting 3 folds for each of 9 candidates, totalling 27 fits\n",
      "Building sklearn text classifier...\n",
      "Loading bert-base-uncased model...\n",
      "Defaulting to linear classifier/regressor\n",
      "Loading Pytorch checkpoint\n",
      "train data size: 428, validation data size: 0\n"
     ]
    },
    {
     "name": "stderr",
     "output_type": "stream",
     "text": [
      "Training  : 100%|████████████████████████████████████| 14/14 [00:02<00:00,  6.65it/s, loss=0.522]\n",
      "Training  : 100%|████████████████████████████████████| 14/14 [00:02<00:00,  6.59it/s, loss=0.283]\n",
      "Training  : 100%|█████████████████████████████████████| 14/14 [00:02<00:00,  6.56it/s, loss=0.21]\n",
      "Training  : 100%|████████████████████████████████████| 14/14 [00:02<00:00,  6.62it/s, loss=0.185]\n",
      "Training  : 100%|████████████████████████████████████| 14/14 [00:02<00:00,  6.48it/s, loss=0.102]\n",
      "Training  : 100%|████████████████████████████████████| 14/14 [00:02<00:00,  6.60it/s, loss=0.135]\n",
      "Training  : 100%|████████████████████████████████████| 14/14 [00:02<00:00,  6.65it/s, loss=0.129]\n",
      "Training  : 100%|███████████████████████████████████| 14/14 [00:02<00:00,  6.60it/s, loss=0.0931]\n",
      "Training  : 100%|███████████████████████████████████| 14/14 [00:02<00:00,  6.54it/s, loss=0.0781]\n",
      "Training  : 100%|███████████████████████████████████| 14/14 [00:02<00:00,  6.62it/s, loss=0.0759]\n",
      "Training  : 100%|████████████████████████████████████| 14/14 [00:02<00:00,  6.62it/s, loss=0.068]\n",
      "Training  : 100%|███████████████████████████████████| 14/14 [00:02<00:00,  6.59it/s, loss=0.0693]\n",
      "Training  : 100%|███████████████████████████████████| 14/14 [00:02<00:00,  6.60it/s, loss=0.0723]\n",
      "Training  : 100%|███████████████████████████████████| 14/14 [00:02<00:00,  6.67it/s, loss=0.0611]\n",
      "Training  : 100%|███████████████████████████████████| 14/14 [00:02<00:00,  6.58it/s, loss=0.0543]\n",
      "Training  : 100%|███████████████████████████████████| 14/14 [00:02<00:00,  6.66it/s, loss=0.0604]\n",
      "Training  : 100%|███████████████████████████████████| 14/14 [00:02<00:00,  6.66it/s, loss=0.0584]\n",
      "Training  : 100%|███████████████████████████████████| 14/14 [00:02<00:00,  6.63it/s, loss=0.0539]\n",
      "Training  : 100%|███████████████████████████████████| 14/14 [00:02<00:00,  6.67it/s, loss=0.0557]\n",
      "Training  : 100%|███████████████████████████████████| 14/14 [00:02<00:00,  6.66it/s, loss=0.0578]\n",
      "Training  : 100%|███████████████████████████████████| 14/14 [00:02<00:00,  6.64it/s, loss=0.0543]\n",
      "Training  : 100%|███████████████████████████████████| 14/14 [00:02<00:00,  6.66it/s, loss=0.0526]\n",
      "Training  : 100%|███████████████████████████████████| 14/14 [00:02<00:00,  6.60it/s, loss=0.0569]\n",
      "Training  : 100%|███████████████████████████████████| 14/14 [00:02<00:00,  6.63it/s, loss=0.0578]\n",
      "Training  : 100%|███████████████████████████████████| 14/14 [00:02<00:00,  6.63it/s, loss=0.0517]\n",
      "Training  : 100%|███████████████████████████████████| 14/14 [00:02<00:00,  6.62it/s, loss=0.0575]\n",
      "Training  : 100%|███████████████████████████████████| 14/14 [00:02<00:00,  6.64it/s, loss=0.0503]\n",
      "Training  : 100%|███████████████████████████████████| 14/14 [00:02<00:00,  6.62it/s, loss=0.0539]\n",
      "Training  : 100%|███████████████████████████████████| 14/14 [00:02<00:00,  6.63it/s, loss=0.0535]\n",
      "Training  : 100%|███████████████████████████████████| 14/14 [00:02<00:00,  6.61it/s, loss=0.0535]\n",
      "Training  : 100%|███████████████████████████████████| 14/14 [00:02<00:00,  6.56it/s, loss=0.0511]\n",
      "Training  : 100%|███████████████████████████████████| 14/14 [00:02<00:00,  6.50it/s, loss=0.0588]\n",
      "Training  : 100%|███████████████████████████████████| 14/14 [00:02<00:00,  6.63it/s, loss=0.0522]\n",
      "Training  : 100%|███████████████████████████████████| 14/14 [00:02<00:00,  6.57it/s, loss=0.0593]\n",
      "Training  : 100%|███████████████████████████████████| 14/14 [00:02<00:00,  6.69it/s, loss=0.0529]\n",
      "Training  : 100%|███████████████████████████████████| 14/14 [00:02<00:00,  6.61it/s, loss=0.0491]\n",
      "Training  : 100%|████████████████████████████████████| 14/14 [00:02<00:00,  6.60it/s, loss=0.058]\n",
      "Training  : 100%|███████████████████████████████████| 14/14 [00:02<00:00,  6.62it/s, loss=0.0706]\n",
      "Training  : 100%|███████████████████████████████████| 14/14 [00:02<00:00,  6.66it/s, loss=0.0484]\n",
      "Training  : 100%|███████████████████████████████████| 14/14 [00:02<00:00,  6.63it/s, loss=0.0483]\n",
      "Training  : 100%|███████████████████████████████████| 14/14 [00:02<00:00,  6.61it/s, loss=0.0468]\n",
      "Training  : 100%|███████████████████████████████████| 14/14 [00:02<00:00,  6.62it/s, loss=0.0541]\n",
      "Training  : 100%|███████████████████████████████████| 14/14 [00:02<00:00,  6.66it/s, loss=0.0437]\n",
      "Training  : 100%|███████████████████████████████████| 14/14 [00:02<00:00,  6.62it/s, loss=0.0483]\n",
      "Training  : 100%|███████████████████████████████████| 14/14 [00:02<00:00,  6.39it/s, loss=0.0457]\n",
      "Training  : 100%|███████████████████████████████████| 14/14 [00:02<00:00,  6.71it/s, loss=0.0469]\n",
      "Training  : 100%|███████████████████████████████████| 14/14 [00:02<00:00,  6.50it/s, loss=0.0447]\n",
      "Training  : 100%|███████████████████████████████████| 14/14 [00:02<00:00,  6.57it/s, loss=0.0474]\n",
      "Training  : 100%|███████████████████████████████████| 14/14 [00:02<00:00,  6.63it/s, loss=0.0423]\n",
      "Training  : 100%|███████████████████████████████████| 14/14 [00:02<00:00,  6.61it/s, loss=0.0562]\n",
      "Predicting: 100%|████████████████████████████████████████████████| 27/27 [00:00<00:00, 48.46it/s]\n"
     ]
    },
    {
     "name": "stdout",
     "output_type": "stream",
     "text": [
      "Building sklearn text classifier...\n",
      "Loading bert-base-uncased model...\n",
      "Defaulting to linear classifier/regressor\n",
      "Loading Pytorch checkpoint\n",
      "train data size: 428, validation data size: 0\n"
     ]
    },
    {
     "name": "stderr",
     "output_type": "stream",
     "text": [
      "Training  : 100%|█████████████████████████████████████| 14/14 [00:02<00:00,  6.48it/s, loss=0.52]\n",
      "Training  : 100%|████████████████████████████████████| 14/14 [00:02<00:00,  6.63it/s, loss=0.285]\n",
      "Training  : 100%|████████████████████████████████████| 14/14 [00:02<00:00,  6.54it/s, loss=0.254]\n",
      "Training  : 100%|████████████████████████████████████| 14/14 [00:02<00:00,  6.64it/s, loss=0.235]\n",
      "Training  : 100%|████████████████████████████████████| 14/14 [00:02<00:00,  6.54it/s, loss=0.142]\n",
      "Training  : 100%|████████████████████████████████████| 14/14 [00:02<00:00,  6.61it/s, loss=0.126]\n",
      "Training  : 100%|████████████████████████████████████| 14/14 [00:02<00:00,  6.64it/s, loss=0.103]\n",
      "Training  : 100%|████████████████████████████████████| 14/14 [00:02<00:00,  6.63it/s, loss=0.103]\n",
      "Training  : 100%|████████████████████████████████████| 14/14 [00:02<00:00,  6.57it/s, loss=0.104]\n",
      "Training  : 100%|████████████████████████████████████| 14/14 [00:02<00:00,  6.57it/s, loss=0.111]\n",
      "Training  : 100%|███████████████████████████████████| 14/14 [00:02<00:00,  6.58it/s, loss=0.0904]\n",
      "Training  : 100%|███████████████████████████████████| 14/14 [00:02<00:00,  6.55it/s, loss=0.0847]\n",
      "Training  : 100%|███████████████████████████████████| 14/14 [00:02<00:00,  6.65it/s, loss=0.0856]\n",
      "Training  : 100%|███████████████████████████████████| 14/14 [00:02<00:00,  6.61it/s, loss=0.0703]\n",
      "Training  : 100%|███████████████████████████████████| 14/14 [00:02<00:00,  6.65it/s, loss=0.0931]\n",
      "Training  : 100%|███████████████████████████████████| 14/14 [00:02<00:00,  6.60it/s, loss=0.0753]\n",
      "Training  : 100%|███████████████████████████████████| 14/14 [00:02<00:00,  6.58it/s, loss=0.0666]\n",
      "Training  : 100%|███████████████████████████████████| 14/14 [00:02<00:00,  6.62it/s, loss=0.0644]\n",
      "Training  : 100%|███████████████████████████████████| 14/14 [00:02<00:00,  6.58it/s, loss=0.0702]\n",
      "Training  : 100%|███████████████████████████████████| 14/14 [00:02<00:00,  6.61it/s, loss=0.0679]\n",
      "Training  : 100%|███████████████████████████████████| 14/14 [00:02<00:00,  6.59it/s, loss=0.0628]\n",
      "Training  : 100%|███████████████████████████████████| 14/14 [00:02<00:00,  6.60it/s, loss=0.0639]\n",
      "Training  : 100%|███████████████████████████████████| 14/14 [00:02<00:00,  6.61it/s, loss=0.0637]\n",
      "Training  : 100%|███████████████████████████████████| 14/14 [00:02<00:00,  6.61it/s, loss=0.0635]\n",
      "Training  : 100%|███████████████████████████████████| 14/14 [00:02<00:00,  6.55it/s, loss=0.0535]\n",
      "Training  : 100%|███████████████████████████████████| 14/14 [00:02<00:00,  6.57it/s, loss=0.0549]\n",
      "Training  : 100%|███████████████████████████████████| 14/14 [00:02<00:00,  6.63it/s, loss=0.0543]\n",
      "Training  : 100%|███████████████████████████████████| 14/14 [00:02<00:00,  6.60it/s, loss=0.0621]\n",
      "Training  : 100%|███████████████████████████████████| 14/14 [00:02<00:00,  6.61it/s, loss=0.0549]\n",
      "Training  : 100%|███████████████████████████████████| 14/14 [00:02<00:00,  6.62it/s, loss=0.0582]\n",
      "Training  : 100%|███████████████████████████████████| 14/14 [00:02<00:00,  6.59it/s, loss=0.0599]\n",
      "Training  : 100%|███████████████████████████████████| 14/14 [00:02<00:00,  6.63it/s, loss=0.0619]\n",
      "Training  : 100%|███████████████████████████████████| 14/14 [00:02<00:00,  6.59it/s, loss=0.0566]\n",
      "Training  : 100%|███████████████████████████████████| 14/14 [00:02<00:00,  6.63it/s, loss=0.0749]\n",
      "Training  : 100%|███████████████████████████████████| 14/14 [00:02<00:00,  6.57it/s, loss=0.0611]\n",
      "Training  : 100%|███████████████████████████████████| 14/14 [00:02<00:00,  6.62it/s, loss=0.0522]\n",
      "Training  : 100%|███████████████████████████████████| 14/14 [00:02<00:00,  6.62it/s, loss=0.0686]\n",
      "Training  : 100%|███████████████████████████████████| 14/14 [00:02<00:00,  6.58it/s, loss=0.0527]\n",
      "Training  : 100%|███████████████████████████████████| 14/14 [00:02<00:00,  6.64it/s, loss=0.0482]\n",
      "Training  : 100%|███████████████████████████████████| 14/14 [00:02<00:00,  6.58it/s, loss=0.0476]\n",
      "Training  : 100%|███████████████████████████████████| 14/14 [00:02<00:00,  6.61it/s, loss=0.0507]\n",
      "Training  : 100%|███████████████████████████████████| 14/14 [00:02<00:00,  6.58it/s, loss=0.0515]\n",
      "Training  : 100%|███████████████████████████████████| 14/14 [00:02<00:00,  6.59it/s, loss=0.0515]\n",
      "Training  : 100%|███████████████████████████████████| 14/14 [00:02<00:00,  6.54it/s, loss=0.0472]\n",
      "Training  : 100%|███████████████████████████████████| 14/14 [00:02<00:00,  6.60it/s, loss=0.0542]\n",
      "Training  : 100%|████████████████████████████████████| 14/14 [00:02<00:00,  6.60it/s, loss=0.054]\n",
      "Training  : 100%|███████████████████████████████████| 14/14 [00:02<00:00,  6.62it/s, loss=0.0487]\n",
      "Training  : 100%|███████████████████████████████████| 14/14 [00:02<00:00,  6.55it/s, loss=0.0493]\n",
      "Training  : 100%|███████████████████████████████████| 14/14 [00:02<00:00,  6.68it/s, loss=0.0491]\n",
      "Training  : 100%|███████████████████████████████████| 14/14 [00:02<00:00,  6.53it/s, loss=0.0541]\n",
      "Predicting: 100%|████████████████████████████████████████████████| 27/27 [00:00<00:00, 50.13it/s]\n"
     ]
    },
    {
     "name": "stdout",
     "output_type": "stream",
     "text": [
      "Building sklearn text classifier...\n",
      "Loading bert-base-uncased model...\n",
      "Defaulting to linear classifier/regressor\n",
      "Loading Pytorch checkpoint\n",
      "train data size: 428, validation data size: 0\n"
     ]
    },
    {
     "name": "stderr",
     "output_type": "stream",
     "text": [
      "Training  : 100%|████████████████████████████████████| 14/14 [00:02<00:00,  6.44it/s, loss=0.541]\n",
      "Training  : 100%|████████████████████████████████████| 14/14 [00:02<00:00,  6.58it/s, loss=0.273]\n",
      "Training  : 100%|████████████████████████████████████| 14/14 [00:02<00:00,  6.57it/s, loss=0.223]\n",
      "Training  : 100%|████████████████████████████████████| 14/14 [00:02<00:00,  6.64it/s, loss=0.155]\n",
      "Training  : 100%|████████████████████████████████████| 14/14 [00:02<00:00,  6.52it/s, loss=0.136]\n",
      "Training  : 100%|████████████████████████████████████| 14/14 [00:02<00:00,  6.58it/s, loss=0.112]\n",
      "Training  : 100%|███████████████████████████████████| 14/14 [00:02<00:00,  6.54it/s, loss=0.0832]\n",
      "Training  : 100%|███████████████████████████████████| 14/14 [00:02<00:00,  6.58it/s, loss=0.0715]\n",
      "Training  : 100%|███████████████████████████████████| 14/14 [00:02<00:00,  6.58it/s, loss=0.0812]\n",
      "Training  : 100%|███████████████████████████████████| 14/14 [00:02<00:00,  6.56it/s, loss=0.0583]\n",
      "Training  : 100%|███████████████████████████████████| 14/14 [00:02<00:00,  6.56it/s, loss=0.0558]\n",
      "Training  : 100%|███████████████████████████████████| 14/14 [00:02<00:00,  6.61it/s, loss=0.0551]\n",
      "Training  : 100%|███████████████████████████████████| 14/14 [00:02<00:00,  6.58it/s, loss=0.0535]\n",
      "Training  : 100%|███████████████████████████████████| 14/14 [00:02<00:00,  6.59it/s, loss=0.0482]\n",
      "Training  : 100%|███████████████████████████████████| 14/14 [00:02<00:00,  6.61it/s, loss=0.0509]\n",
      "Training  : 100%|███████████████████████████████████| 14/14 [00:02<00:00,  6.56it/s, loss=0.0517]\n",
      "Training  : 100%|███████████████████████████████████| 14/14 [00:02<00:00,  6.62it/s, loss=0.0485]\n",
      "Training  : 100%|███████████████████████████████████| 14/14 [00:02<00:00,  6.57it/s, loss=0.0418]\n",
      "Training  : 100%|███████████████████████████████████| 14/14 [00:02<00:00,  6.53it/s, loss=0.0427]\n",
      "Training  : 100%|███████████████████████████████████| 14/14 [00:02<00:00,  6.60it/s, loss=0.0426]\n",
      "Training  : 100%|███████████████████████████████████| 14/14 [00:02<00:00,  6.60it/s, loss=0.0401]\n",
      "Training  : 100%|███████████████████████████████████| 14/14 [00:02<00:00,  6.60it/s, loss=0.0402]\n",
      "Training  : 100%|███████████████████████████████████| 14/14 [00:02<00:00,  6.62it/s, loss=0.0445]\n",
      "Training  : 100%|████████████████████████████████████| 14/14 [00:02<00:00,  6.59it/s, loss=0.041]\n",
      "Training  : 100%|███████████████████████████████████| 14/14 [00:02<00:00,  6.61it/s, loss=0.0387]\n",
      "Training  : 100%|███████████████████████████████████| 14/14 [00:02<00:00,  6.55it/s, loss=0.0419]\n",
      "Training  : 100%|███████████████████████████████████| 14/14 [00:02<00:00,  6.36it/s, loss=0.0389]\n",
      "Training  : 100%|███████████████████████████████████| 14/14 [00:02<00:00,  6.51it/s, loss=0.0442]\n",
      "Training  : 100%|███████████████████████████████████| 14/14 [00:02<00:00,  6.41it/s, loss=0.0388]\n",
      "Training  : 100%|███████████████████████████████████| 14/14 [00:02<00:00,  6.54it/s, loss=0.0494]\n",
      "Training  : 100%|███████████████████████████████████| 14/14 [00:02<00:00,  6.62it/s, loss=0.0512]\n",
      "Training  : 100%|███████████████████████████████████| 14/14 [00:02<00:00,  6.61it/s, loss=0.0405]\n",
      "Training  : 100%|████████████████████████████████████| 14/14 [00:02<00:00,  6.57it/s, loss=0.047]\n",
      "Training  : 100%|███████████████████████████████████| 14/14 [00:02<00:00,  6.58it/s, loss=0.0403]\n",
      "Training  : 100%|███████████████████████████████████| 14/14 [00:02<00:00,  6.62it/s, loss=0.0386]\n",
      "Training  : 100%|███████████████████████████████████| 14/14 [00:02<00:00,  6.56it/s, loss=0.0433]\n",
      "Training  : 100%|█████████████████████████████████████| 14/14 [00:02<00:00,  6.55it/s, loss=0.05]\n",
      "Training  : 100%|███████████████████████████████████| 14/14 [00:02<00:00,  6.58it/s, loss=0.0403]\n",
      "Training  : 100%|███████████████████████████████████| 14/14 [00:02<00:00,  6.59it/s, loss=0.0383]\n",
      "Training  : 100%|███████████████████████████████████| 14/14 [00:02<00:00,  6.56it/s, loss=0.0398]\n",
      "Training  : 100%|███████████████████████████████████| 14/14 [00:02<00:00,  6.57it/s, loss=0.0423]\n",
      "Training  : 100%|███████████████████████████████████| 14/14 [00:02<00:00,  6.61it/s, loss=0.0392]\n",
      "Training  : 100%|███████████████████████████████████| 14/14 [00:02<00:00,  6.54it/s, loss=0.0447]\n",
      "Training  : 100%|████████████████████████████████████| 14/14 [00:02<00:00,  6.59it/s, loss=0.039]\n",
      "Training  : 100%|███████████████████████████████████| 14/14 [00:02<00:00,  6.61it/s, loss=0.0405]\n",
      "Training  : 100%|███████████████████████████████████| 14/14 [00:02<00:00,  6.61it/s, loss=0.0461]\n",
      "Training  : 100%|███████████████████████████████████| 14/14 [00:02<00:00,  6.55it/s, loss=0.0414]\n",
      "Training  : 100%|███████████████████████████████████| 14/14 [00:02<00:00,  6.54it/s, loss=0.0416]\n",
      "Training  : 100%|███████████████████████████████████| 14/14 [00:02<00:00,  6.60it/s, loss=0.0398]\n",
      "Training  : 100%|████████████████████████████████████| 14/14 [00:02<00:00,  6.57it/s, loss=0.039]\n",
      "Predicting: 100%|████████████████████████████████████████████████| 27/27 [00:00<00:00, 49.34it/s]\n"
     ]
    },
    {
     "name": "stdout",
     "output_type": "stream",
     "text": [
      "Building sklearn text classifier...\n",
      "Loading bert-base-uncased model...\n",
      "Defaulting to linear classifier/regressor\n",
      "Loading Pytorch checkpoint\n",
      "train data size: 428, validation data size: 0\n"
     ]
    },
    {
     "name": "stderr",
     "output_type": "stream",
     "text": [
      "Training  : 100%|████████████████████████████████████| 14/14 [00:02<00:00,  6.46it/s, loss=0.487]\n",
      "Training  : 100%|████████████████████████████████████| 14/14 [00:02<00:00,  6.57it/s, loss=0.279]\n",
      "Training  : 100%|████████████████████████████████████| 14/14 [00:02<00:00,  6.62it/s, loss=0.261]\n",
      "Training  : 100%|█████████████████████████████████████| 14/14 [00:02<00:00,  6.59it/s, loss=0.19]\n",
      "Training  : 100%|████████████████████████████████████| 14/14 [00:02<00:00,  6.63it/s, loss=0.122]\n",
      "Training  : 100%|████████████████████████████████████| 14/14 [00:02<00:00,  6.52it/s, loss=0.106]\n",
      "Training  : 100%|███████████████████████████████████| 14/14 [00:02<00:00,  6.58it/s, loss=0.0952]\n",
      "Training  : 100%|███████████████████████████████████| 14/14 [00:02<00:00,  6.53it/s, loss=0.0929]\n",
      "Training  : 100%|███████████████████████████████████| 14/14 [00:02<00:00,  6.58it/s, loss=0.0853]\n",
      "Training  : 100%|███████████████████████████████████| 14/14 [00:02<00:00,  6.56it/s, loss=0.0898]\n",
      "Training  : 100%|███████████████████████████████████| 14/14 [00:02<00:00,  6.54it/s, loss=0.0848]\n",
      "Training  : 100%|███████████████████████████████████| 14/14 [00:02<00:00,  6.59it/s, loss=0.0953]\n",
      "Training  : 100%|███████████████████████████████████| 14/14 [00:02<00:00,  6.59it/s, loss=0.0866]\n",
      "Training  : 100%|███████████████████████████████████| 14/14 [00:02<00:00,  6.59it/s, loss=0.0689]\n",
      "Training  : 100%|███████████████████████████████████| 14/14 [00:02<00:00,  6.57it/s, loss=0.0643]\n",
      "Training  : 100%|███████████████████████████████████| 14/14 [00:02<00:00,  6.59it/s, loss=0.0612]\n",
      "Training  : 100%|███████████████████████████████████| 14/14 [00:02<00:00,  6.55it/s, loss=0.0675]\n",
      "Training  : 100%|███████████████████████████████████| 14/14 [00:02<00:00,  6.60it/s, loss=0.0593]\n",
      "Training  : 100%|███████████████████████████████████| 14/14 [00:02<00:00,  6.66it/s, loss=0.0653]\n",
      "Training  : 100%|███████████████████████████████████| 14/14 [00:02<00:00,  6.54it/s, loss=0.0616]\n",
      "Training  : 100%|███████████████████████████████████| 14/14 [00:02<00:00,  6.54it/s, loss=0.0575]\n",
      "Training  : 100%|███████████████████████████████████| 14/14 [00:02<00:00,  6.61it/s, loss=0.0552]\n",
      "Training  : 100%|███████████████████████████████████| 14/14 [00:02<00:00,  6.58it/s, loss=0.0599]\n",
      "Training  : 100%|███████████████████████████████████| 14/14 [00:02<00:00,  6.58it/s, loss=0.0571]\n",
      "Training  : 100%|███████████████████████████████████| 14/14 [00:02<00:00,  6.63it/s, loss=0.0552]\n",
      "Training  : 100%|███████████████████████████████████| 14/14 [00:02<00:00,  6.59it/s, loss=0.0559]\n",
      "Training  : 100%|███████████████████████████████████| 14/14 [00:02<00:00,  6.62it/s, loss=0.0545]\n",
      "Training  : 100%|███████████████████████████████████| 14/14 [00:02<00:00,  6.57it/s, loss=0.0653]\n",
      "Training  : 100%|███████████████████████████████████| 14/14 [00:02<00:00,  6.61it/s, loss=0.0566]\n",
      "Training  : 100%|███████████████████████████████████| 14/14 [00:02<00:00,  6.35it/s, loss=0.0609]\n",
      "Training  : 100%|███████████████████████████████████| 14/14 [00:02<00:00,  6.37it/s, loss=0.0597]\n",
      "Training  : 100%|███████████████████████████████████| 14/14 [00:02<00:00,  6.54it/s, loss=0.0615]\n",
      "Training  : 100%|███████████████████████████████████| 14/14 [00:02<00:00,  6.58it/s, loss=0.0595]\n",
      "Training  : 100%|███████████████████████████████████| 14/14 [00:02<00:00,  6.61it/s, loss=0.0585]\n",
      "Training  : 100%|███████████████████████████████████| 14/14 [00:02<00:00,  6.56it/s, loss=0.0559]\n",
      "Training  : 100%|███████████████████████████████████| 14/14 [00:02<00:00,  6.60it/s, loss=0.0493]\n",
      "Training  : 100%|███████████████████████████████████| 14/14 [00:02<00:00,  6.61it/s, loss=0.0554]\n",
      "Training  : 100%|███████████████████████████████████| 14/14 [00:02<00:00,  6.52it/s, loss=0.0489]\n",
      "Training  : 100%|███████████████████████████████████| 14/14 [00:02<00:00,  5.75it/s, loss=0.0466]\n",
      "Training  : 100%|███████████████████████████████████| 14/14 [00:02<00:00,  6.47it/s, loss=0.0489]\n",
      "Training  : 100%|███████████████████████████████████| 14/14 [00:02<00:00,  6.61it/s, loss=0.0485]\n",
      "Training  : 100%|███████████████████████████████████| 14/14 [00:02<00:00,  6.55it/s, loss=0.0516]\n",
      "Training  : 100%|████████████████████████████████████| 14/14 [00:02<00:00,  6.57it/s, loss=0.047]\n",
      "Training  : 100%|███████████████████████████████████| 14/14 [00:02<00:00,  6.52it/s, loss=0.0483]\n",
      "Training  : 100%|███████████████████████████████████| 14/14 [00:02<00:00,  6.56it/s, loss=0.0482]\n",
      "Training  : 100%|███████████████████████████████████| 14/14 [00:02<00:00,  6.57it/s, loss=0.0504]\n",
      "Training  : 100%|███████████████████████████████████| 14/14 [00:02<00:00,  6.61it/s, loss=0.0486]\n",
      "Training  : 100%|████████████████████████████████████| 14/14 [00:02<00:00,  6.57it/s, loss=0.048]\n",
      "Training  : 100%|███████████████████████████████████| 14/14 [00:02<00:00,  6.53it/s, loss=0.0479]\n",
      "Training  : 100%|████████████████████████████████████| 14/14 [00:02<00:00,  6.58it/s, loss=0.054]\n",
      "Predicting: 100%|████████████████████████████████████████████████| 27/27 [00:00<00:00, 48.58it/s]\n"
     ]
    },
    {
     "name": "stdout",
     "output_type": "stream",
     "text": [
      "Building sklearn text classifier...\n",
      "Loading bert-base-uncased model...\n",
      "Defaulting to linear classifier/regressor\n",
      "Loading Pytorch checkpoint\n",
      "train data size: 428, validation data size: 0\n"
     ]
    },
    {
     "name": "stderr",
     "output_type": "stream",
     "text": [
      "Training  : 100%|████████████████████████████████████| 14/14 [00:02<00:00,  6.46it/s, loss=0.492]\n",
      "Training  : 100%|████████████████████████████████████| 14/14 [00:02<00:00,  6.49it/s, loss=0.271]\n",
      "Training  : 100%|████████████████████████████████████| 14/14 [00:02<00:00,  6.57it/s, loss=0.176]\n",
      "Training  : 100%|████████████████████████████████████| 14/14 [00:02<00:00,  6.51it/s, loss=0.171]\n",
      "Training  : 100%|█████████████████████████████████████| 14/14 [00:02<00:00,  6.56it/s, loss=0.13]\n",
      "Training  : 100%|███████████████████████████████████| 14/14 [00:02<00:00,  6.60it/s, loss=0.0866]\n",
      "Training  : 100%|███████████████████████████████████| 14/14 [00:02<00:00,  6.48it/s, loss=0.0833]\n",
      "Training  : 100%|███████████████████████████████████| 14/14 [00:02<00:00,  6.58it/s, loss=0.0915]\n",
      "Training  : 100%|███████████████████████████████████| 14/14 [00:02<00:00,  6.55it/s, loss=0.0733]\n",
      "Training  : 100%|███████████████████████████████████| 14/14 [00:02<00:00,  6.55it/s, loss=0.0647]\n",
      "Training  : 100%|███████████████████████████████████| 14/14 [00:02<00:00,  6.56it/s, loss=0.0653]\n",
      "Training  : 100%|███████████████████████████████████| 14/14 [00:02<00:00,  6.57it/s, loss=0.0661]\n",
      "Training  : 100%|███████████████████████████████████| 14/14 [00:02<00:00,  6.54it/s, loss=0.0655]\n",
      "Training  : 100%|███████████████████████████████████| 14/14 [00:02<00:00,  6.63it/s, loss=0.0567]\n",
      "Training  : 100%|███████████████████████████████████| 14/14 [00:02<00:00,  6.53it/s, loss=0.0593]\n",
      "Training  : 100%|███████████████████████████████████| 14/14 [00:02<00:00,  6.54it/s, loss=0.0565]\n",
      "Training  : 100%|███████████████████████████████████| 14/14 [00:02<00:00,  6.60it/s, loss=0.0575]\n",
      "Training  : 100%|███████████████████████████████████| 14/14 [00:02<00:00,  6.57it/s, loss=0.0574]\n",
      "Training  : 100%|███████████████████████████████████| 14/14 [00:02<00:00,  6.58it/s, loss=0.0606]\n",
      "Training  : 100%|███████████████████████████████████| 14/14 [00:02<00:00,  6.52it/s, loss=0.0521]\n",
      "Training  : 100%|███████████████████████████████████| 14/14 [00:02<00:00,  6.56it/s, loss=0.0503]\n",
      "Training  : 100%|███████████████████████████████████| 14/14 [00:02<00:00,  6.61it/s, loss=0.0537]\n",
      "Training  : 100%|███████████████████████████████████| 14/14 [00:02<00:00,  6.60it/s, loss=0.0535]\n",
      "Training  : 100%|███████████████████████████████████| 14/14 [00:02<00:00,  6.56it/s, loss=0.0644]\n",
      "Training  : 100%|███████████████████████████████████| 14/14 [00:02<00:00,  6.54it/s, loss=0.0522]\n",
      "Training  : 100%|████████████████████████████████████| 14/14 [00:02<00:00,  6.59it/s, loss=0.051]\n",
      "Training  : 100%|███████████████████████████████████| 14/14 [00:02<00:00,  6.64it/s, loss=0.0521]\n",
      "Training  : 100%|███████████████████████████████████| 14/14 [00:02<00:00,  6.58it/s, loss=0.0487]\n",
      "Training  : 100%|███████████████████████████████████| 14/14 [00:02<00:00,  6.61it/s, loss=0.0491]\n",
      "Training  : 100%|███████████████████████████████████| 14/14 [00:02<00:00,  6.59it/s, loss=0.0529]\n",
      "Training  : 100%|███████████████████████████████████| 14/14 [00:02<00:00,  6.57it/s, loss=0.0488]\n",
      "Training  : 100%|███████████████████████████████████| 14/14 [00:02<00:00,  6.61it/s, loss=0.0588]\n",
      "Training  : 100%|███████████████████████████████████| 14/14 [00:02<00:00,  6.52it/s, loss=0.0524]\n",
      "Training  : 100%|███████████████████████████████████| 14/14 [00:02<00:00,  6.54it/s, loss=0.0593]\n",
      "Training  : 100%|███████████████████████████████████| 14/14 [00:02<00:00,  6.55it/s, loss=0.0569]\n",
      "Training  : 100%|███████████████████████████████████| 14/14 [00:02<00:00,  6.63it/s, loss=0.0527]\n",
      "Training  : 100%|███████████████████████████████████| 14/14 [00:02<00:00,  6.61it/s, loss=0.0686]\n",
      "Training  : 100%|███████████████████████████████████| 14/14 [00:02<00:00,  6.57it/s, loss=0.0496]\n",
      "Training  : 100%|███████████████████████████████████| 14/14 [00:02<00:00,  6.56it/s, loss=0.0506]\n",
      "Training  : 100%|███████████████████████████████████| 14/14 [00:02<00:00,  6.49it/s, loss=0.0478]\n",
      "Training  : 100%|███████████████████████████████████| 14/14 [00:02<00:00,  6.61it/s, loss=0.0499]\n",
      "Training  : 100%|███████████████████████████████████| 14/14 [00:02<00:00,  6.56it/s, loss=0.0498]\n",
      "Training  : 100%|███████████████████████████████████| 14/14 [00:02<00:00,  6.57it/s, loss=0.0465]\n",
      "Training  : 100%|███████████████████████████████████| 14/14 [00:02<00:00,  6.57it/s, loss=0.0494]\n",
      "Training  : 100%|████████████████████████████████████| 14/14 [00:02<00:00,  6.56it/s, loss=0.048]\n",
      "Training  : 100%|███████████████████████████████████| 14/14 [00:02<00:00,  6.59it/s, loss=0.0521]\n",
      "Training  : 100%|███████████████████████████████████| 14/14 [00:02<00:00,  6.54it/s, loss=0.0497]\n",
      "Training  : 100%|███████████████████████████████████| 14/14 [00:02<00:00,  6.57it/s, loss=0.0463]\n",
      "Training  : 100%|████████████████████████████████████| 14/14 [00:02<00:00,  6.58it/s, loss=0.048]\n",
      "Training  : 100%|███████████████████████████████████| 14/14 [00:02<00:00,  6.56it/s, loss=0.0562]\n",
      "Predicting: 100%|████████████████████████████████████████████████| 27/27 [00:00<00:00, 48.28it/s]\n"
     ]
    },
    {
     "name": "stdout",
     "output_type": "stream",
     "text": [
      "Building sklearn text classifier...\n",
      "Loading bert-base-uncased model...\n",
      "Defaulting to linear classifier/regressor\n",
      "Loading Pytorch checkpoint\n",
      "train data size: 428, validation data size: 0\n"
     ]
    },
    {
     "name": "stderr",
     "output_type": "stream",
     "text": [
      "Training  : 100%|████████████████████████████████████| 14/14 [00:02<00:00,  6.43it/s, loss=0.511]\n",
      "Training  : 100%|████████████████████████████████████| 14/14 [00:02<00:00,  6.44it/s, loss=0.254]\n",
      "Training  : 100%|████████████████████████████████████| 14/14 [00:02<00:00,  6.51it/s, loss=0.207]\n",
      "Training  : 100%|████████████████████████████████████| 14/14 [00:02<00:00,  6.57it/s, loss=0.166]\n",
      "Training  : 100%|████████████████████████████████████| 14/14 [00:02<00:00,  6.59it/s, loss=0.117]\n",
      "Training  : 100%|███████████████████████████████████| 14/14 [00:02<00:00,  6.58it/s, loss=0.0902]\n",
      "Training  : 100%|███████████████████████████████████| 14/14 [00:02<00:00,  6.60it/s, loss=0.0718]\n",
      "Training  : 100%|███████████████████████████████████| 14/14 [00:02<00:00,  6.59it/s, loss=0.0651]\n",
      "Training  : 100%|███████████████████████████████████| 14/14 [00:02<00:00,  6.47it/s, loss=0.0623]\n",
      "Training  : 100%|████████████████████████████████████| 14/14 [00:02<00:00,  6.60it/s, loss=0.052]\n",
      "Training  : 100%|████████████████████████████████████| 14/14 [00:02<00:00,  6.58it/s, loss=0.057]\n",
      "Training  : 100%|███████████████████████████████████| 14/14 [00:02<00:00,  6.55it/s, loss=0.0535]\n",
      "Training  : 100%|███████████████████████████████████| 14/14 [00:02<00:00,  6.58it/s, loss=0.0659]\n",
      "Training  : 100%|███████████████████████████████████| 14/14 [00:02<00:00,  6.54it/s, loss=0.0512]\n",
      "Training  : 100%|████████████████████████████████████| 14/14 [00:02<00:00,  6.57it/s, loss=0.046]\n",
      "Training  : 100%|███████████████████████████████████| 14/14 [00:02<00:00,  6.58it/s, loss=0.0474]\n",
      "Training  : 100%|███████████████████████████████████| 14/14 [00:02<00:00,  6.59it/s, loss=0.0485]\n",
      "Training  : 100%|███████████████████████████████████| 14/14 [00:02<00:00,  6.59it/s, loss=0.0429]\n",
      "Training  : 100%|███████████████████████████████████| 14/14 [00:02<00:00,  6.54it/s, loss=0.0393]\n",
      "Training  : 100%|███████████████████████████████████| 14/14 [00:02<00:00,  6.62it/s, loss=0.0415]\n",
      "Training  : 100%|███████████████████████████████████| 14/14 [00:02<00:00,  6.57it/s, loss=0.0396]\n",
      "Training  : 100%|███████████████████████████████████| 14/14 [00:02<00:00,  6.64it/s, loss=0.0414]\n",
      "Training  : 100%|████████████████████████████████████| 14/14 [00:02<00:00,  6.59it/s, loss=0.044]\n",
      "Training  : 100%|███████████████████████████████████| 14/14 [00:02<00:00,  6.61it/s, loss=0.0414]\n",
      "Training  : 100%|███████████████████████████████████| 14/14 [00:02<00:00,  6.60it/s, loss=0.0383]\n",
      "Training  : 100%|███████████████████████████████████| 14/14 [00:02<00:00,  6.58it/s, loss=0.0386]\n",
      "Training  : 100%|███████████████████████████████████| 14/14 [00:02<00:00,  6.53it/s, loss=0.0395]\n",
      "Training  : 100%|████████████████████████████████████| 14/14 [00:02<00:00,  6.62it/s, loss=0.045]\n",
      "Training  : 100%|███████████████████████████████████| 14/14 [00:02<00:00,  6.51it/s, loss=0.0395]\n",
      "Training  : 100%|███████████████████████████████████| 14/14 [00:02<00:00,  6.50it/s, loss=0.0486]\n",
      "Training  : 100%|███████████████████████████████████| 14/14 [00:02<00:00,  6.61it/s, loss=0.0499]\n",
      "Training  : 100%|███████████████████████████████████| 14/14 [00:02<00:00,  6.51it/s, loss=0.0414]\n",
      "Training  : 100%|███████████████████████████████████| 14/14 [00:02<00:00,  6.57it/s, loss=0.0458]\n",
      "Training  : 100%|███████████████████████████████████| 14/14 [00:02<00:00,  6.57it/s, loss=0.0394]\n",
      "Training  : 100%|███████████████████████████████████| 14/14 [00:02<00:00,  6.58it/s, loss=0.0388]\n",
      "Training  : 100%|███████████████████████████████████| 14/14 [00:02<00:00,  6.59it/s, loss=0.0439]\n",
      "Training  : 100%|███████████████████████████████████| 14/14 [00:02<00:00,  6.61it/s, loss=0.0476]\n",
      "Training  : 100%|███████████████████████████████████| 14/14 [00:02<00:00,  6.54it/s, loss=0.0411]\n",
      "Training  : 100%|███████████████████████████████████| 14/14 [00:02<00:00,  6.59it/s, loss=0.0385]\n",
      "Training  : 100%|███████████████████████████████████| 14/14 [00:02<00:00,  6.55it/s, loss=0.0377]\n",
      "Training  : 100%|███████████████████████████████████| 14/14 [00:02<00:00,  6.45it/s, loss=0.0415]\n",
      "Training  : 100%|███████████████████████████████████| 14/14 [00:02<00:00,  6.55it/s, loss=0.0391]\n",
      "Training  : 100%|███████████████████████████████████| 14/14 [00:02<00:00,  6.58it/s, loss=0.0453]\n",
      "Training  : 100%|████████████████████████████████████| 14/14 [00:02<00:00,  6.58it/s, loss=0.038]\n",
      "Training  : 100%|███████████████████████████████████| 14/14 [00:02<00:00,  6.52it/s, loss=0.0395]\n",
      "Training  : 100%|███████████████████████████████████| 14/14 [00:02<00:00,  6.56it/s, loss=0.0431]\n",
      "Training  : 100%|███████████████████████████████████| 14/14 [00:02<00:00,  6.66it/s, loss=0.0436]\n",
      "Training  : 100%|███████████████████████████████████| 14/14 [00:02<00:00,  6.55it/s, loss=0.0424]\n",
      "Training  : 100%|███████████████████████████████████| 14/14 [00:02<00:00,  6.58it/s, loss=0.0395]\n",
      "Training  : 100%|███████████████████████████████████| 14/14 [00:02<00:00,  6.58it/s, loss=0.0409]\n",
      "Predicting: 100%|████████████████████████████████████████████████| 27/27 [00:00<00:00, 47.49it/s]\n"
     ]
    },
    {
     "name": "stdout",
     "output_type": "stream",
     "text": [
      "Building sklearn text classifier...\n",
      "Loading bert-base-uncased model...\n",
      "Defaulting to linear classifier/regressor\n",
      "Loading Pytorch checkpoint\n",
      "train data size: 428, validation data size: 0\n"
     ]
    },
    {
     "name": "stderr",
     "output_type": "stream",
     "text": [
      "Training  : 100%|████████████████████████████████████| 14/14 [00:02<00:00,  6.42it/s, loss=0.567]\n",
      "Training  : 100%|████████████████████████████████████| 14/14 [00:02<00:00,  6.53it/s, loss=0.335]\n",
      "Training  : 100%|████████████████████████████████████| 14/14 [00:02<00:00,  6.60it/s, loss=0.235]\n",
      "Training  : 100%|████████████████████████████████████| 14/14 [00:02<00:00,  6.58it/s, loss=0.205]\n",
      "Training  : 100%|████████████████████████████████████| 14/14 [00:02<00:00,  6.59it/s, loss=0.143]\n",
      "Training  : 100%|████████████████████████████████████| 14/14 [00:02<00:00,  6.52it/s, loss=0.137]\n",
      "Training  : 100%|███████████████████████████████████| 14/14 [00:02<00:00,  6.53it/s, loss=0.0951]\n",
      "Training  : 100%|███████████████████████████████████| 14/14 [00:02<00:00,  6.57it/s, loss=0.0886]\n",
      "Training  : 100%|███████████████████████████████████| 14/14 [00:02<00:00,  6.57it/s, loss=0.0818]\n",
      "Training  : 100%|███████████████████████████████████| 14/14 [00:02<00:00,  6.51it/s, loss=0.0765]\n",
      "Training  : 100%|███████████████████████████████████| 14/14 [00:02<00:00,  6.61it/s, loss=0.0651]\n",
      "Training  : 100%|███████████████████████████████████| 14/14 [00:02<00:00,  6.51it/s, loss=0.0696]\n",
      "Training  : 100%|███████████████████████████████████| 14/14 [00:02<00:00,  6.42it/s, loss=0.0706]\n",
      "Training  : 100%|███████████████████████████████████| 14/14 [00:02<00:00,  6.54it/s, loss=0.0574]\n",
      "Training  : 100%|███████████████████████████████████| 14/14 [00:02<00:00,  6.61it/s, loss=0.0579]\n",
      "Training  : 100%|███████████████████████████████████| 14/14 [00:02<00:00,  6.64it/s, loss=0.0622]\n",
      "Training  : 100%|███████████████████████████████████| 14/14 [00:02<00:00,  6.56it/s, loss=0.0649]\n",
      "Training  : 100%|███████████████████████████████████| 14/14 [00:02<00:00,  6.60it/s, loss=0.0533]\n",
      "Training  : 100%|███████████████████████████████████| 14/14 [00:02<00:00,  6.49it/s, loss=0.0564]\n",
      "Training  : 100%|███████████████████████████████████| 14/14 [00:02<00:00,  6.55it/s, loss=0.0595]\n",
      "Training  : 100%|███████████████████████████████████| 14/14 [00:02<00:00,  6.56it/s, loss=0.0574]\n",
      "Training  : 100%|███████████████████████████████████| 14/14 [00:02<00:00,  6.54it/s, loss=0.0578]\n",
      "Training  : 100%|███████████████████████████████████| 14/14 [00:02<00:00,  6.55it/s, loss=0.0733]\n",
      "Training  : 100%|███████████████████████████████████| 14/14 [00:02<00:00,  6.55it/s, loss=0.0573]\n",
      "Training  : 100%|████████████████████████████████████| 14/14 [00:02<00:00,  6.57it/s, loss=0.058]\n",
      "Training  : 100%|███████████████████████████████████| 14/14 [00:02<00:00,  6.60it/s, loss=0.0596]\n",
      "Training  : 100%|███████████████████████████████████| 14/14 [00:02<00:00,  6.60it/s, loss=0.0594]\n",
      "Training  : 100%|███████████████████████████████████| 14/14 [00:02<00:00,  6.62it/s, loss=0.0604]\n",
      "Training  : 100%|███████████████████████████████████| 14/14 [00:02<00:00,  6.56it/s, loss=0.0549]\n",
      "Training  : 100%|███████████████████████████████████| 14/14 [00:02<00:00,  6.64it/s, loss=0.0545]\n",
      "Training  : 100%|███████████████████████████████████| 14/14 [00:02<00:00,  6.61it/s, loss=0.0551]\n",
      "Training  : 100%|███████████████████████████████████| 14/14 [00:02<00:00,  6.55it/s, loss=0.0635]\n",
      "Training  : 100%|███████████████████████████████████| 14/14 [00:02<00:00,  6.51it/s, loss=0.0612]\n",
      "Training  : 100%|███████████████████████████████████| 14/14 [00:02<00:00,  6.55it/s, loss=0.0695]\n",
      "Training  : 100%|███████████████████████████████████| 14/14 [00:02<00:00,  6.56it/s, loss=0.0604]\n",
      "Training  : 100%|███████████████████████████████████| 14/14 [00:02<00:00,  6.61it/s, loss=0.0524]\n",
      "Training  : 100%|███████████████████████████████████| 14/14 [00:02<00:00,  6.59it/s, loss=0.0684]\n",
      "Training  : 100%|███████████████████████████████████| 14/14 [00:02<00:00,  6.51it/s, loss=0.0552]\n",
      "Training  : 100%|███████████████████████████████████| 14/14 [00:02<00:00,  6.59it/s, loss=0.0544]\n",
      "Training  : 100%|███████████████████████████████████| 14/14 [00:02<00:00,  6.64it/s, loss=0.0538]\n",
      "Training  : 100%|███████████████████████████████████| 14/14 [00:02<00:00,  6.51it/s, loss=0.0522]\n",
      "Training  : 100%|███████████████████████████████████| 14/14 [00:02<00:00,  6.52it/s, loss=0.0576]\n",
      "Training  : 100%|███████████████████████████████████| 14/14 [00:02<00:00,  6.56it/s, loss=0.0511]\n",
      "Training  : 100%|███████████████████████████████████| 14/14 [00:02<00:00,  6.56it/s, loss=0.0504]\n",
      "Training  : 100%|███████████████████████████████████| 14/14 [00:02<00:00,  6.57it/s, loss=0.0519]\n",
      "Training  : 100%|█████████████████████████████████████| 14/14 [00:02<00:00,  6.60it/s, loss=0.05]\n",
      "Training  : 100%|███████████████████████████████████| 14/14 [00:02<00:00,  6.54it/s, loss=0.0489]\n",
      "Training  : 100%|███████████████████████████████████| 14/14 [00:02<00:00,  6.58it/s, loss=0.0497]\n",
      "Training  : 100%|███████████████████████████████████| 14/14 [00:02<00:00,  6.59it/s, loss=0.0497]\n",
      "Training  : 100%|███████████████████████████████████| 14/14 [00:02<00:00,  6.58it/s, loss=0.0648]\n",
      "Predicting: 100%|████████████████████████████████████████████████| 27/27 [00:00<00:00, 48.64it/s]\n"
     ]
    },
    {
     "name": "stdout",
     "output_type": "stream",
     "text": [
      "Building sklearn text classifier...\n",
      "Loading bert-base-uncased model...\n",
      "Defaulting to linear classifier/regressor\n",
      "Loading Pytorch checkpoint\n",
      "train data size: 428, validation data size: 0\n"
     ]
    },
    {
     "name": "stderr",
     "output_type": "stream",
     "text": [
      "Training  : 100%|████████████████████████████████████| 14/14 [00:02<00:00,  6.53it/s, loss=0.565]\n",
      "Training  : 100%|████████████████████████████████████| 14/14 [00:02<00:00,  6.61it/s, loss=0.338]\n",
      "Training  : 100%|████████████████████████████████████| 14/14 [00:02<00:00,  6.50it/s, loss=0.229]\n",
      "Training  : 100%|████████████████████████████████████| 14/14 [00:02<00:00,  6.58it/s, loss=0.199]\n",
      "Training  : 100%|████████████████████████████████████| 14/14 [00:02<00:00,  6.58it/s, loss=0.138]\n",
      "Training  : 100%|████████████████████████████████████| 14/14 [00:02<00:00,  6.58it/s, loss=0.135]\n",
      "Training  : 100%|████████████████████████████████████| 14/14 [00:02<00:00,  6.54it/s, loss=0.121]\n",
      "Training  : 100%|████████████████████████████████████| 14/14 [00:02<00:00,  6.55it/s, loss=0.112]\n",
      "Training  : 100%|████████████████████████████████████| 14/14 [00:02<00:00,  6.52it/s, loss=0.104]\n",
      "Training  : 100%|███████████████████████████████████| 14/14 [00:02<00:00,  6.59it/s, loss=0.0966]\n",
      "Training  : 100%|████████████████████████████████████| 14/14 [00:02<00:00,  6.57it/s, loss=0.075]\n",
      "Training  : 100%|███████████████████████████████████| 14/14 [00:02<00:00,  6.54it/s, loss=0.0775]\n",
      "Training  : 100%|███████████████████████████████████| 14/14 [00:02<00:00,  6.53it/s, loss=0.0767]\n",
      "Training  : 100%|████████████████████████████████████| 14/14 [00:02<00:00,  6.65it/s, loss=0.068]\n",
      "Training  : 100%|███████████████████████████████████| 14/14 [00:02<00:00,  6.52it/s, loss=0.0662]\n",
      "Training  : 100%|████████████████████████████████████| 14/14 [00:02<00:00,  6.56it/s, loss=0.065]\n",
      "Training  : 100%|███████████████████████████████████| 14/14 [00:02<00:00,  6.61it/s, loss=0.0618]\n",
      "Training  : 100%|███████████████████████████████████| 14/14 [00:02<00:00,  6.59it/s, loss=0.0672]\n",
      "Training  : 100%|███████████████████████████████████| 14/14 [00:02<00:00,  6.58it/s, loss=0.0645]\n",
      "Training  : 100%|███████████████████████████████████| 14/14 [00:02<00:00,  6.55it/s, loss=0.0616]\n",
      "Training  : 100%|███████████████████████████████████| 14/14 [00:02<00:00,  6.38it/s, loss=0.0539]\n",
      "Training  : 100%|███████████████████████████████████| 14/14 [00:02<00:00,  6.06it/s, loss=0.0573]\n",
      "Training  : 100%|███████████████████████████████████| 14/14 [00:02<00:00,  6.44it/s, loss=0.0599]\n",
      "Training  : 100%|███████████████████████████████████| 14/14 [00:02<00:00,  6.54it/s, loss=0.0664]\n",
      "Training  : 100%|████████████████████████████████████| 14/14 [00:02<00:00,  6.56it/s, loss=0.056]\n",
      "Training  : 100%|████████████████████████████████████| 14/14 [00:02<00:00,  6.62it/s, loss=0.055]\n",
      "Training  : 100%|███████████████████████████████████| 14/14 [00:02<00:00,  6.59it/s, loss=0.0582]\n",
      "Training  : 100%|███████████████████████████████████| 14/14 [00:02<00:00,  6.60it/s, loss=0.0541]\n",
      "Training  : 100%|███████████████████████████████████| 14/14 [00:02<00:00,  6.56it/s, loss=0.0548]\n",
      "Training  : 100%|███████████████████████████████████| 14/14 [00:02<00:00,  6.61it/s, loss=0.0652]\n",
      "Training  : 100%|███████████████████████████████████| 14/14 [00:02<00:00,  6.61it/s, loss=0.0607]\n",
      "Training  : 100%|███████████████████████████████████| 14/14 [00:02<00:00,  6.65it/s, loss=0.0669]\n",
      "Training  : 100%|███████████████████████████████████| 14/14 [00:02<00:00,  6.60it/s, loss=0.0585]\n",
      "Training  : 100%|███████████████████████████████████| 14/14 [00:02<00:00,  6.58it/s, loss=0.0737]\n",
      "Training  : 100%|███████████████████████████████████| 14/14 [00:02<00:00,  6.56it/s, loss=0.0642]\n",
      "Training  : 100%|████████████████████████████████████| 14/14 [00:02<00:00,  6.56it/s, loss=0.056]\n",
      "Training  : 100%|███████████████████████████████████| 14/14 [00:02<00:00,  6.58it/s, loss=0.0845]\n",
      "Training  : 100%|████████████████████████████████████| 14/14 [00:02<00:00,  6.53it/s, loss=0.056]\n",
      "Training  : 100%|███████████████████████████████████| 14/14 [00:02<00:00,  6.66it/s, loss=0.0551]\n",
      "Training  : 100%|███████████████████████████████████| 14/14 [00:02<00:00,  6.50it/s, loss=0.0521]\n",
      "Training  : 100%|███████████████████████████████████| 14/14 [00:02<00:00,  6.55it/s, loss=0.0544]\n",
      "Training  : 100%|███████████████████████████████████| 14/14 [00:02<00:00,  6.58it/s, loss=0.0565]\n",
      "Training  : 100%|████████████████████████████████████| 14/14 [00:02<00:00,  6.61it/s, loss=0.054]\n",
      "Training  : 100%|███████████████████████████████████| 14/14 [00:02<00:00,  6.62it/s, loss=0.0556]\n",
      "Training  : 100%|███████████████████████████████████| 14/14 [00:02<00:00,  6.57it/s, loss=0.0506]\n",
      "Training  : 100%|███████████████████████████████████| 14/14 [00:02<00:00,  6.53it/s, loss=0.0591]\n",
      "Training  : 100%|███████████████████████████████████| 14/14 [00:02<00:00,  6.52it/s, loss=0.0546]\n",
      "Training  : 100%|███████████████████████████████████| 14/14 [00:02<00:00,  6.43it/s, loss=0.0479]\n",
      "Training  : 100%|███████████████████████████████████| 14/14 [00:02<00:00,  6.59it/s, loss=0.0547]\n",
      "Training  : 100%|███████████████████████████████████| 14/14 [00:02<00:00,  6.54it/s, loss=0.0641]\n",
      "Predicting: 100%|████████████████████████████████████████████████| 27/27 [00:00<00:00, 48.83it/s]\n"
     ]
    },
    {
     "name": "stdout",
     "output_type": "stream",
     "text": [
      "Building sklearn text classifier...\n",
      "Loading bert-base-uncased model...\n",
      "Defaulting to linear classifier/regressor\n",
      "Loading Pytorch checkpoint\n",
      "train data size: 428, validation data size: 0\n"
     ]
    },
    {
     "name": "stderr",
     "output_type": "stream",
     "text": [
      "Training  : 100%|████████████████████████████████████| 14/14 [00:02<00:00,  6.50it/s, loss=0.581]\n",
      "Training  : 100%|████████████████████████████████████| 14/14 [00:02<00:00,  6.56it/s, loss=0.324]\n",
      "Training  : 100%|████████████████████████████████████| 14/14 [00:02<00:00,  6.56it/s, loss=0.226]\n",
      "Training  : 100%|████████████████████████████████████| 14/14 [00:02<00:00,  6.62it/s, loss=0.169]\n",
      "Training  : 100%|████████████████████████████████████| 14/14 [00:02<00:00,  6.62it/s, loss=0.121]\n",
      "Training  : 100%|████████████████████████████████████| 14/14 [00:02<00:00,  6.54it/s, loss=0.114]\n",
      "Training  : 100%|████████████████████████████████████| 14/14 [00:02<00:00,  6.57it/s, loss=0.103]\n",
      "Training  : 100%|███████████████████████████████████| 14/14 [00:02<00:00,  6.52it/s, loss=0.0761]\n",
      "Training  : 100%|███████████████████████████████████| 14/14 [00:02<00:00,  6.56it/s, loss=0.0899]\n",
      "Training  : 100%|███████████████████████████████████| 14/14 [00:02<00:00,  6.65it/s, loss=0.0623]\n",
      "Training  : 100%|███████████████████████████████████| 14/14 [00:02<00:00,  6.62it/s, loss=0.0608]\n",
      "Training  : 100%|███████████████████████████████████| 14/14 [00:02<00:00,  6.56it/s, loss=0.0646]\n",
      "Training  : 100%|███████████████████████████████████| 14/14 [00:02<00:00,  6.62it/s, loss=0.0635]\n",
      "Training  : 100%|███████████████████████████████████| 14/14 [00:02<00:00,  6.56it/s, loss=0.0579]\n",
      "Training  : 100%|███████████████████████████████████| 14/14 [00:02<00:00,  6.62it/s, loss=0.0541]\n",
      "Training  : 100%|███████████████████████████████████| 14/14 [00:02<00:00,  6.61it/s, loss=0.0603]\n",
      "Training  : 100%|███████████████████████████████████| 14/14 [00:02<00:00,  6.58it/s, loss=0.0541]\n",
      "Training  : 100%|███████████████████████████████████| 14/14 [00:02<00:00,  6.62it/s, loss=0.0487]\n",
      "Training  : 100%|███████████████████████████████████| 14/14 [00:02<00:00,  6.60it/s, loss=0.0444]\n",
      "Training  : 100%|███████████████████████████████████| 14/14 [00:02<00:00,  6.55it/s, loss=0.0479]\n",
      "Training  : 100%|███████████████████████████████████| 14/14 [00:02<00:00,  6.61it/s, loss=0.0453]\n",
      "Training  : 100%|███████████████████████████████████| 14/14 [00:02<00:00,  6.62it/s, loss=0.0423]\n",
      "Training  : 100%|███████████████████████████████████| 14/14 [00:02<00:00,  6.54it/s, loss=0.0466]\n",
      "Training  : 100%|███████████████████████████████████| 14/14 [00:02<00:00,  6.62it/s, loss=0.0433]\n",
      "Training  : 100%|███████████████████████████████████| 14/14 [00:02<00:00,  6.56it/s, loss=0.0416]\n",
      "Training  : 100%|███████████████████████████████████| 14/14 [00:02<00:00,  6.53it/s, loss=0.0454]\n",
      "Training  : 100%|███████████████████████████████████| 14/14 [00:02<00:00,  6.62it/s, loss=0.0448]\n",
      "Training  : 100%|███████████████████████████████████| 14/14 [00:02<00:00,  6.55it/s, loss=0.0474]\n",
      "Training  : 100%|███████████████████████████████████| 14/14 [00:02<00:00,  6.50it/s, loss=0.0408]\n",
      "Training  : 100%|███████████████████████████████████| 14/14 [00:02<00:00,  6.56it/s, loss=0.0518]\n",
      "Training  : 100%|███████████████████████████████████| 14/14 [00:02<00:00,  6.61it/s, loss=0.0516]\n",
      "Training  : 100%|███████████████████████████████████| 14/14 [00:02<00:00,  6.61it/s, loss=0.0426]\n",
      "Training  : 100%|████████████████████████████████████| 14/14 [00:02<00:00,  6.54it/s, loss=0.049]\n",
      "Training  : 100%|███████████████████████████████████| 14/14 [00:02<00:00,  6.56it/s, loss=0.0411]\n",
      "Training  : 100%|███████████████████████████████████| 14/14 [00:02<00:00,  6.57it/s, loss=0.0406]\n",
      "Training  : 100%|███████████████████████████████████| 14/14 [00:02<00:00,  6.61it/s, loss=0.0442]\n",
      "Training  : 100%|███████████████████████████████████| 14/14 [00:02<00:00,  6.56it/s, loss=0.0485]\n",
      "Training  : 100%|███████████████████████████████████| 14/14 [00:02<00:00,  6.57it/s, loss=0.0425]\n",
      "Training  : 100%|███████████████████████████████████| 14/14 [00:02<00:00,  6.58it/s, loss=0.0391]\n",
      "Training  : 100%|███████████████████████████████████| 14/14 [00:02<00:00,  6.55it/s, loss=0.0409]\n",
      "Training  : 100%|███████████████████████████████████| 14/14 [00:02<00:00,  6.51it/s, loss=0.0426]\n",
      "Training  : 100%|███████████████████████████████████| 14/14 [00:02<00:00,  6.62it/s, loss=0.0436]\n",
      "Training  : 100%|███████████████████████████████████| 14/14 [00:02<00:00,  6.49it/s, loss=0.0465]\n",
      "Training  : 100%|███████████████████████████████████| 14/14 [00:02<00:00,  6.59it/s, loss=0.0399]\n",
      "Training  : 100%|███████████████████████████████████| 14/14 [00:02<00:00,  6.58it/s, loss=0.0408]\n",
      "Training  : 100%|███████████████████████████████████| 14/14 [00:02<00:00,  6.56it/s, loss=0.0457]\n",
      "Training  : 100%|███████████████████████████████████| 14/14 [00:02<00:00,  6.58it/s, loss=0.0449]\n",
      "Training  : 100%|███████████████████████████████████| 14/14 [00:02<00:00,  6.56it/s, loss=0.0423]\n",
      "Training  : 100%|███████████████████████████████████| 14/14 [00:02<00:00,  6.60it/s, loss=0.0407]\n",
      "Training  : 100%|███████████████████████████████████| 14/14 [00:02<00:00,  6.58it/s, loss=0.0423]\n",
      "Predicting: 100%|████████████████████████████████████████████████| 27/27 [00:00<00:00, 50.26it/s]\n"
     ]
    },
    {
     "name": "stdout",
     "output_type": "stream",
     "text": [
      "Building sklearn text classifier...\n",
      "Loading bert-base-uncased model...\n",
      "Defaulting to linear classifier/regressor\n",
      "Loading Pytorch checkpoint\n",
      "train data size: 428, validation data size: 0\n"
     ]
    },
    {
     "name": "stderr",
     "output_type": "stream",
     "text": [
      "Training  : 100%|████████████████████████████████████| 14/14 [00:02<00:00,  6.50it/s, loss=0.549]\n",
      "Training  : 100%|████████████████████████████████████| 14/14 [00:02<00:00,  6.61it/s, loss=0.316]\n",
      "Training  : 100%|█████████████████████████████████████| 14/14 [00:02<00:00,  6.55it/s, loss=0.22]\n",
      "Training  : 100%|████████████████████████████████████| 14/14 [00:02<00:00,  6.64it/s, loss=0.195]\n",
      "Training  : 100%|████████████████████████████████████| 14/14 [00:02<00:00,  6.55it/s, loss=0.134]\n",
      "Training  : 100%|████████████████████████████████████| 14/14 [00:02<00:00,  6.56it/s, loss=0.112]\n",
      "Training  : 100%|███████████████████████████████████| 14/14 [00:02<00:00,  6.57it/s, loss=0.0919]\n",
      "Training  : 100%|███████████████████████████████████| 14/14 [00:02<00:00,  6.65it/s, loss=0.0806]\n",
      "Training  : 100%|███████████████████████████████████| 14/14 [00:02<00:00,  6.58it/s, loss=0.0734]\n",
      "Training  : 100%|████████████████████████████████████| 14/14 [00:02<00:00,  6.43it/s, loss=0.069]\n",
      "Training  : 100%|███████████████████████████████████| 14/14 [00:02<00:00,  6.51it/s, loss=0.0626]\n",
      "Training  : 100%|███████████████████████████████████| 14/14 [00:02<00:00,  6.55it/s, loss=0.0763]\n",
      "Training  : 100%|████████████████████████████████████| 14/14 [00:02<00:00,  6.59it/s, loss=0.068]\n",
      "Training  : 100%|███████████████████████████████████| 14/14 [00:02<00:00,  6.54it/s, loss=0.0553]\n",
      "Training  : 100%|████████████████████████████████████| 14/14 [00:02<00:00,  6.52it/s, loss=0.056]\n",
      "Training  : 100%|███████████████████████████████████| 14/14 [00:02<00:00,  6.59it/s, loss=0.0594]\n",
      "Training  : 100%|████████████████████████████████████| 14/14 [00:02<00:00,  6.58it/s, loss=0.051]\n",
      "Training  : 100%|███████████████████████████████████| 14/14 [00:02<00:00,  6.60it/s, loss=0.0529]\n",
      "Training  : 100%|████████████████████████████████████| 14/14 [00:02<00:00,  6.59it/s, loss=0.057]\n",
      "Training  : 100%|███████████████████████████████████| 14/14 [00:02<00:00,  6.55it/s, loss=0.0532]\n",
      "Training  : 100%|████████████████████████████████████| 14/14 [00:02<00:00,  6.50it/s, loss=0.052]\n",
      "Training  : 100%|███████████████████████████████████| 14/14 [00:02<00:00,  6.58it/s, loss=0.0508]\n",
      "Training  : 100%|███████████████████████████████████| 14/14 [00:02<00:00,  6.59it/s, loss=0.0528]\n",
      "Training  : 100%|███████████████████████████████████| 14/14 [00:02<00:00,  6.57it/s, loss=0.0528]\n",
      "Training  : 100%|███████████████████████████████████| 14/14 [00:02<00:00,  6.56it/s, loss=0.0519]\n",
      "Training  : 100%|███████████████████████████████████| 14/14 [00:02<00:00,  6.59it/s, loss=0.0516]\n",
      "Training  : 100%|███████████████████████████████████| 14/14 [00:02<00:00,  6.57it/s, loss=0.0503]\n",
      "Training  : 100%|███████████████████████████████████| 14/14 [00:02<00:00,  6.52it/s, loss=0.0544]\n",
      "Training  : 100%|███████████████████████████████████| 14/14 [00:02<00:00,  6.57it/s, loss=0.0511]\n",
      "Training  : 100%|███████████████████████████████████| 14/14 [00:02<00:00,  6.55it/s, loss=0.0478]\n",
      "Training  : 100%|███████████████████████████████████| 14/14 [00:02<00:00,  6.55it/s, loss=0.0496]\n",
      "Training  : 100%|███████████████████████████████████| 14/14 [00:02<00:00,  6.63it/s, loss=0.0564]\n",
      "Training  : 100%|███████████████████████████████████| 14/14 [00:02<00:00,  6.60it/s, loss=0.0573]\n",
      "Training  : 100%|███████████████████████████████████| 14/14 [00:02<00:00,  6.63it/s, loss=0.0574]\n",
      "Training  : 100%|███████████████████████████████████| 14/14 [00:02<00:00,  6.53it/s, loss=0.0534]\n",
      "Training  : 100%|███████████████████████████████████| 14/14 [00:02<00:00,  6.56it/s, loss=0.0467]\n",
      "Training  : 100%|███████████████████████████████████| 14/14 [00:02<00:00,  6.56it/s, loss=0.0545]\n",
      "Training  : 100%|███████████████████████████████████| 14/14 [00:02<00:00,  6.61it/s, loss=0.0483]\n",
      "Training  : 100%|███████████████████████████████████| 14/14 [00:02<00:00,  6.50it/s, loss=0.0465]\n",
      "Training  : 100%|███████████████████████████████████| 14/14 [00:02<00:00,  6.54it/s, loss=0.0481]\n",
      "Training  : 100%|███████████████████████████████████| 14/14 [00:02<00:00,  6.60it/s, loss=0.0471]\n",
      "Training  : 100%|███████████████████████████████████| 14/14 [00:02<00:00,  6.58it/s, loss=0.0515]\n",
      "Training  : 100%|███████████████████████████████████| 14/14 [00:02<00:00,  6.48it/s, loss=0.0479]\n",
      "Training  : 100%|████████████████████████████████████| 14/14 [00:02<00:00,  6.49it/s, loss=0.049]\n",
      "Training  : 100%|███████████████████████████████████| 14/14 [00:02<00:00,  6.59it/s, loss=0.0471]\n",
      "Training  : 100%|███████████████████████████████████| 14/14 [00:02<00:00,  6.60it/s, loss=0.0492]\n",
      "Training  : 100%|███████████████████████████████████| 14/14 [00:02<00:00,  6.60it/s, loss=0.0484]\n",
      "Training  : 100%|███████████████████████████████████| 14/14 [00:02<00:00,  6.57it/s, loss=0.0482]\n",
      "Training  : 100%|███████████████████████████████████| 14/14 [00:02<00:00,  6.47it/s, loss=0.0486]\n",
      "Training  : 100%|███████████████████████████████████| 14/14 [00:02<00:00,  6.53it/s, loss=0.0556]\n",
      "Training  : 100%|███████████████████████████████████| 14/14 [00:02<00:00,  6.55it/s, loss=0.0488]\n",
      "Training  : 100%|███████████████████████████████████| 14/14 [00:02<00:00,  6.61it/s, loss=0.0599]\n",
      "Training  : 100%|███████████████████████████████████| 14/14 [00:02<00:00,  6.55it/s, loss=0.0453]\n",
      "Training  : 100%|███████████████████████████████████| 14/14 [00:02<00:00,  6.52it/s, loss=0.0472]\n",
      "Training  : 100%|███████████████████████████████████| 14/14 [00:02<00:00,  6.51it/s, loss=0.0552]\n",
      "Training  : 100%|████████████████████████████████████| 14/14 [00:02<00:00,  6.61it/s, loss=0.046]\n",
      "Training  : 100%|███████████████████████████████████| 14/14 [00:02<00:00,  6.63it/s, loss=0.0497]\n",
      "Training  : 100%|███████████████████████████████████| 14/14 [00:02<00:00,  6.58it/s, loss=0.0454]\n",
      "Training  : 100%|███████████████████████████████████| 14/14 [00:02<00:00,  6.61it/s, loss=0.0467]\n",
      "Training  : 100%|███████████████████████████████████| 14/14 [00:02<00:00,  6.59it/s, loss=0.0472]\n",
      "Training  : 100%|███████████████████████████████████| 14/14 [00:02<00:00,  6.57it/s, loss=0.0501]\n",
      "Training  : 100%|████████████████████████████████████| 14/14 [00:02<00:00,  6.59it/s, loss=0.047]\n",
      "Training  : 100%|███████████████████████████████████| 14/14 [00:02<00:00,  6.50it/s, loss=0.0485]\n",
      "Training  : 100%|███████████████████████████████████| 14/14 [00:02<00:00,  6.60it/s, loss=0.0565]\n",
      "Training  : 100%|███████████████████████████████████| 14/14 [00:02<00:00,  6.51it/s, loss=0.0463]\n",
      "Training  : 100%|████████████████████████████████████| 14/14 [00:02<00:00,  6.55it/s, loss=0.045]\n",
      "Training  : 100%|███████████████████████████████████| 14/14 [00:02<00:00,  6.53it/s, loss=0.0506]\n",
      "Training  : 100%|███████████████████████████████████| 14/14 [00:02<00:00,  6.53it/s, loss=0.0454]\n",
      "Training  : 100%|███████████████████████████████████| 14/14 [00:02<00:00,  6.55it/s, loss=0.0468]\n",
      "Training  : 100%|███████████████████████████████████| 14/14 [00:02<00:00,  6.57it/s, loss=0.0513]\n",
      "Training  : 100%|███████████████████████████████████| 14/14 [00:02<00:00,  6.58it/s, loss=0.0463]\n",
      "Training  : 100%|███████████████████████████████████| 14/14 [00:02<00:00,  6.57it/s, loss=0.0476]\n",
      "Training  : 100%|████████████████████████████████████| 14/14 [00:02<00:00,  6.58it/s, loss=0.046]\n",
      "Training  : 100%|███████████████████████████████████| 14/14 [00:02<00:00,  6.50it/s, loss=0.0456]\n",
      "Training  : 100%|███████████████████████████████████| 14/14 [00:02<00:00,  6.57it/s, loss=0.0482]\n",
      "Predicting: 100%|████████████████████████████████████████████████| 27/27 [00:00<00:00, 48.36it/s]\n"
     ]
    },
    {
     "name": "stdout",
     "output_type": "stream",
     "text": [
      "Building sklearn text classifier...\n",
      "Loading bert-base-uncased model...\n",
      "Defaulting to linear classifier/regressor\n",
      "Loading Pytorch checkpoint\n",
      "train data size: 428, validation data size: 0\n"
     ]
    },
    {
     "name": "stderr",
     "output_type": "stream",
     "text": [
      "Training  : 100%|████████████████████████████████████| 14/14 [00:02<00:00,  6.53it/s, loss=0.549]\n",
      "Training  : 100%|████████████████████████████████████| 14/14 [00:02<00:00,  6.54it/s, loss=0.321]\n",
      "Training  : 100%|████████████████████████████████████| 14/14 [00:02<00:00,  6.55it/s, loss=0.239]\n",
      "Training  : 100%|█████████████████████████████████████| 14/14 [00:02<00:00,  6.51it/s, loss=0.21]\n",
      "Training  : 100%|████████████████████████████████████| 14/14 [00:02<00:00,  6.47it/s, loss=0.151]\n",
      "Training  : 100%|████████████████████████████████████| 14/14 [00:02<00:00,  6.60it/s, loss=0.122]\n",
      "Training  : 100%|████████████████████████████████████| 14/14 [00:02<00:00,  6.50it/s, loss=0.123]\n",
      "Training  : 100%|███████████████████████████████████| 14/14 [00:02<00:00,  6.48it/s, loss=0.0907]\n",
      "Training  : 100%|████████████████████████████████████| 14/14 [00:02<00:00,  6.50it/s, loss=0.102]\n",
      "Training  : 100%|███████████████████████████████████| 14/14 [00:02<00:00,  6.52it/s, loss=0.0894]\n",
      "Training  : 100%|███████████████████████████████████| 14/14 [00:02<00:00,  6.55it/s, loss=0.0893]\n",
      "Training  : 100%|███████████████████████████████████| 14/14 [00:02<00:00,  6.51it/s, loss=0.0717]\n",
      "Training  : 100%|███████████████████████████████████| 14/14 [00:02<00:00,  6.50it/s, loss=0.0778]\n",
      "Training  : 100%|███████████████████████████████████| 14/14 [00:02<00:00,  6.56it/s, loss=0.0646]\n",
      "Training  : 100%|███████████████████████████████████| 14/14 [00:02<00:00,  6.48it/s, loss=0.0609]\n",
      "Training  : 100%|███████████████████████████████████| 14/14 [00:02<00:00,  6.49it/s, loss=0.0561]\n",
      "Training  : 100%|███████████████████████████████████| 14/14 [00:02<00:00,  6.50it/s, loss=0.0561]\n",
      "Training  : 100%|███████████████████████████████████| 14/14 [00:02<00:00,  6.53it/s, loss=0.0599]\n",
      "Training  : 100%|████████████████████████████████████| 14/14 [00:02<00:00,  6.51it/s, loss=0.059]\n",
      "Training  : 100%|███████████████████████████████████| 14/14 [00:02<00:00,  6.52it/s, loss=0.0613]\n",
      "Training  : 100%|███████████████████████████████████| 14/14 [00:02<00:00,  6.52it/s, loss=0.0552]\n",
      "Training  : 100%|███████████████████████████████████| 14/14 [00:02<00:00,  6.57it/s, loss=0.0531]\n",
      "Training  : 100%|█████████████████████████████████████| 14/14 [00:02<00:00,  6.55it/s, loss=0.05]\n",
      "Training  : 100%|███████████████████████████████████| 14/14 [00:02<00:00,  6.46it/s, loss=0.0667]\n",
      "Training  : 100%|███████████████████████████████████| 14/14 [00:02<00:00,  6.50it/s, loss=0.0547]\n",
      "Training  : 100%|███████████████████████████████████| 14/14 [00:02<00:00,  6.54it/s, loss=0.0505]\n",
      "Training  : 100%|███████████████████████████████████| 14/14 [00:02<00:00,  6.51it/s, loss=0.0497]\n",
      "Training  : 100%|███████████████████████████████████| 14/14 [00:02<00:00,  6.54it/s, loss=0.0498]\n",
      "Training  : 100%|███████████████████████████████████| 14/14 [00:02<00:00,  6.49it/s, loss=0.0473]\n",
      "Training  : 100%|███████████████████████████████████| 14/14 [00:02<00:00,  6.55it/s, loss=0.0596]\n",
      "Training  : 100%|███████████████████████████████████| 14/14 [00:02<00:00,  6.49it/s, loss=0.0475]\n",
      "Training  : 100%|███████████████████████████████████| 14/14 [00:02<00:00,  6.46it/s, loss=0.0566]\n",
      "Training  : 100%|███████████████████████████████████| 14/14 [00:02<00:00,  6.53it/s, loss=0.0537]\n",
      "Training  : 100%|███████████████████████████████████| 14/14 [00:02<00:00,  6.55it/s, loss=0.0558]\n",
      "Training  : 100%|███████████████████████████████████| 14/14 [00:02<00:00,  6.53it/s, loss=0.0546]\n",
      "Training  : 100%|███████████████████████████████████| 14/14 [00:02<00:00,  6.57it/s, loss=0.0496]\n",
      "Training  : 100%|███████████████████████████████████| 14/14 [00:02<00:00,  6.49it/s, loss=0.0693]\n",
      "Training  : 100%|███████████████████████████████████| 14/14 [00:02<00:00,  6.57it/s, loss=0.0496]\n",
      "Training  : 100%|███████████████████████████████████| 14/14 [00:02<00:00,  6.49it/s, loss=0.0458]\n",
      "Training  : 100%|███████████████████████████████████| 14/14 [00:02<00:00,  6.18it/s, loss=0.0458]\n",
      "Training  : 100%|███████████████████████████████████| 14/14 [00:02<00:00,  6.42it/s, loss=0.0481]\n",
      "Training  : 100%|███████████████████████████████████| 14/14 [00:02<00:00,  6.57it/s, loss=0.0506]\n",
      "Training  : 100%|███████████████████████████████████| 14/14 [00:02<00:00,  6.54it/s, loss=0.0487]\n",
      "Training  : 100%|███████████████████████████████████| 14/14 [00:02<00:00,  6.50it/s, loss=0.0489]\n",
      "Training  : 100%|███████████████████████████████████| 14/14 [00:02<00:00,  6.56it/s, loss=0.0511]\n",
      "Training  : 100%|███████████████████████████████████| 14/14 [00:02<00:00,  6.53it/s, loss=0.0525]\n",
      "Training  : 100%|███████████████████████████████████| 14/14 [00:02<00:00,  6.50it/s, loss=0.0501]\n",
      "Training  : 100%|███████████████████████████████████| 14/14 [00:02<00:00,  6.53it/s, loss=0.0496]\n",
      "Training  : 100%|███████████████████████████████████| 14/14 [00:02<00:00,  6.50it/s, loss=0.0505]\n",
      "Training  : 100%|███████████████████████████████████| 14/14 [00:02<00:00,  6.51it/s, loss=0.0538]\n",
      "Training  : 100%|████████████████████████████████████| 14/14 [00:02<00:00,  6.52it/s, loss=0.051]\n",
      "Training  : 100%|███████████████████████████████████| 14/14 [00:02<00:00,  6.49it/s, loss=0.0515]\n",
      "Training  : 100%|███████████████████████████████████| 14/14 [00:02<00:00,  6.53it/s, loss=0.0483]\n",
      "Training  : 100%|███████████████████████████████████| 14/14 [00:02<00:00,  6.53it/s, loss=0.0519]\n",
      "Training  : 100%|███████████████████████████████████| 14/14 [00:02<00:00,  6.51it/s, loss=0.0571]\n",
      "Training  : 100%|███████████████████████████████████| 14/14 [00:02<00:00,  6.49it/s, loss=0.0489]\n",
      "Training  : 100%|███████████████████████████████████| 14/14 [00:02<00:00,  6.49it/s, loss=0.0479]\n",
      "Training  : 100%|█████████████████████████████████████| 14/14 [00:02<00:00,  6.53it/s, loss=0.05]\n",
      "Training  : 100%|███████████████████████████████████| 14/14 [00:02<00:00,  6.50it/s, loss=0.0512]\n",
      "Training  : 100%|███████████████████████████████████| 14/14 [00:02<00:00,  6.50it/s, loss=0.0494]\n",
      "Training  : 100%|███████████████████████████████████| 14/14 [00:02<00:00,  6.50it/s, loss=0.0489]\n",
      "Training  : 100%|███████████████████████████████████| 14/14 [00:02<00:00,  6.52it/s, loss=0.0528]\n",
      "Training  : 100%|███████████████████████████████████| 14/14 [00:02<00:00,  6.54it/s, loss=0.0554]\n",
      "Training  : 100%|███████████████████████████████████| 14/14 [00:02<00:00,  6.56it/s, loss=0.0579]\n",
      "Training  : 100%|█████████████████████████████████████| 14/14 [00:02<00:00,  6.50it/s, loss=0.05]\n",
      "Training  : 100%|███████████████████████████████████| 14/14 [00:02<00:00,  6.45it/s, loss=0.0486]\n",
      "Training  : 100%|█████████████████████████████████████| 14/14 [00:02<00:00,  6.46it/s, loss=0.05]\n",
      "Training  : 100%|███████████████████████████████████| 14/14 [00:02<00:00,  6.51it/s, loss=0.0478]\n",
      "Training  : 100%|███████████████████████████████████| 14/14 [00:02<00:00,  6.45it/s, loss=0.0451]\n",
      "Training  : 100%|███████████████████████████████████| 14/14 [00:02<00:00,  6.53it/s, loss=0.0477]\n",
      "Training  : 100%|███████████████████████████████████| 14/14 [00:02<00:00,  6.51it/s, loss=0.0455]\n",
      "Training  : 100%|███████████████████████████████████| 14/14 [00:02<00:00,  6.50it/s, loss=0.0487]\n",
      "Training  : 100%|███████████████████████████████████| 14/14 [00:02<00:00,  6.49it/s, loss=0.0475]\n",
      "Training  : 100%|███████████████████████████████████| 14/14 [00:02<00:00,  6.46it/s, loss=0.0478]\n",
      "Training  : 100%|███████████████████████████████████| 14/14 [00:02<00:00,  6.51it/s, loss=0.0488]\n",
      "Predicting: 100%|████████████████████████████████████████████████| 27/27 [00:00<00:00, 47.15it/s]\n"
     ]
    },
    {
     "name": "stdout",
     "output_type": "stream",
     "text": [
      "Building sklearn text classifier...\n",
      "Loading bert-base-uncased model...\n",
      "Defaulting to linear classifier/regressor\n",
      "Loading Pytorch checkpoint\n",
      "train data size: 428, validation data size: 0\n"
     ]
    },
    {
     "name": "stderr",
     "output_type": "stream",
     "text": [
      "Training  : 100%|████████████████████████████████████| 14/14 [00:02<00:00,  6.52it/s, loss=0.567]\n",
      "Training  : 100%|████████████████████████████████████| 14/14 [00:02<00:00,  6.47it/s, loss=0.295]\n",
      "Training  : 100%|████████████████████████████████████| 14/14 [00:02<00:00,  6.46it/s, loss=0.257]\n",
      "Training  : 100%|████████████████████████████████████| 14/14 [00:02<00:00,  6.44it/s, loss=0.203]\n",
      "Training  : 100%|████████████████████████████████████| 14/14 [00:02<00:00,  6.51it/s, loss=0.144]\n",
      "Training  : 100%|████████████████████████████████████| 14/14 [00:02<00:00,  6.48it/s, loss=0.132]\n",
      "Training  : 100%|████████████████████████████████████| 14/14 [00:02<00:00,  6.43it/s, loss=0.098]\n",
      "Training  : 100%|███████████████████████████████████| 14/14 [00:02<00:00,  6.46it/s, loss=0.0891]\n",
      "Training  : 100%|███████████████████████████████████| 14/14 [00:02<00:00,  6.48it/s, loss=0.0929]\n",
      "Training  : 100%|███████████████████████████████████| 14/14 [00:02<00:00,  6.52it/s, loss=0.0883]\n",
      "Training  : 100%|███████████████████████████████████| 14/14 [00:02<00:00,  6.51it/s, loss=0.0737]\n",
      "Training  : 100%|███████████████████████████████████| 14/14 [00:02<00:00,  6.54it/s, loss=0.0585]\n",
      "Training  : 100%|███████████████████████████████████| 14/14 [00:02<00:00,  6.47it/s, loss=0.0609]\n",
      "Training  : 100%|███████████████████████████████████| 14/14 [00:02<00:00,  6.47it/s, loss=0.0567]\n",
      "Training  : 100%|███████████████████████████████████| 14/14 [00:02<00:00,  6.47it/s, loss=0.0494]\n",
      "Training  : 100%|███████████████████████████████████| 14/14 [00:02<00:00,  6.53it/s, loss=0.0581]\n",
      "Training  : 100%|███████████████████████████████████| 14/14 [00:02<00:00,  6.45it/s, loss=0.0563]\n",
      "Training  : 100%|███████████████████████████████████| 14/14 [00:02<00:00,  6.50it/s, loss=0.0438]\n",
      "Training  : 100%|███████████████████████████████████| 14/14 [00:02<00:00,  6.49it/s, loss=0.0422]\n",
      "Training  : 100%|███████████████████████████████████| 14/14 [00:02<00:00,  6.50it/s, loss=0.0471]\n",
      "Training  : 100%|████████████████████████████████████| 14/14 [00:02<00:00,  6.54it/s, loss=0.041]\n",
      "Training  : 100%|███████████████████████████████████| 14/14 [00:02<00:00,  6.45it/s, loss=0.0425]\n",
      "Training  : 100%|███████████████████████████████████| 14/14 [00:02<00:00,  6.43it/s, loss=0.0476]\n",
      "Training  : 100%|███████████████████████████████████| 14/14 [00:02<00:00,  6.51it/s, loss=0.0419]\n",
      "Training  : 100%|███████████████████████████████████| 14/14 [00:02<00:00,  6.46it/s, loss=0.0401]\n",
      "Training  : 100%|███████████████████████████████████| 14/14 [00:02<00:00,  6.54it/s, loss=0.0388]\n",
      "Training  : 100%|███████████████████████████████████| 14/14 [00:02<00:00,  6.53it/s, loss=0.0406]\n",
      "Training  : 100%|███████████████████████████████████| 14/14 [00:02<00:00,  6.44it/s, loss=0.0451]\n",
      "Training  : 100%|███████████████████████████████████| 14/14 [00:02<00:00,  6.51it/s, loss=0.0386]\n",
      "Training  : 100%|███████████████████████████████████| 14/14 [00:02<00:00,  6.51it/s, loss=0.0566]\n",
      "Training  : 100%|███████████████████████████████████| 14/14 [00:02<00:00,  6.54it/s, loss=0.0525]\n",
      "Training  : 100%|███████████████████████████████████| 14/14 [00:02<00:00,  6.51it/s, loss=0.0402]\n",
      "Training  : 100%|███████████████████████████████████| 14/14 [00:02<00:00,  6.52it/s, loss=0.0472]\n",
      "Training  : 100%|███████████████████████████████████| 14/14 [00:02<00:00,  6.52it/s, loss=0.0402]\n",
      "Training  : 100%|███████████████████████████████████| 14/14 [00:02<00:00,  6.38it/s, loss=0.0389]\n",
      "Training  : 100%|███████████████████████████████████| 14/14 [00:02<00:00,  6.39it/s, loss=0.0445]\n",
      "Training  : 100%|████████████████████████████████████| 14/14 [00:02<00:00,  6.50it/s, loss=0.049]\n",
      "Training  : 100%|███████████████████████████████████| 14/14 [00:02<00:00,  6.51it/s, loss=0.0434]\n",
      "Training  : 100%|███████████████████████████████████| 14/14 [00:02<00:00,  6.51it/s, loss=0.0387]\n",
      "Training  : 100%|███████████████████████████████████| 14/14 [00:02<00:00,  6.48it/s, loss=0.0385]\n",
      "Training  : 100%|███████████████████████████████████| 14/14 [00:02<00:00,  6.48it/s, loss=0.0413]\n",
      "Training  : 100%|███████████████████████████████████| 14/14 [00:02<00:00,  6.50it/s, loss=0.0395]\n",
      "Training  : 100%|█████████████████████████████████████| 14/14 [00:02<00:00,  6.45it/s, loss=0.05]\n",
      "Training  : 100%|███████████████████████████████████| 14/14 [00:02<00:00,  6.53it/s, loss=0.0383]\n",
      "Training  : 100%|███████████████████████████████████| 14/14 [00:02<00:00,  6.49it/s, loss=0.0392]\n",
      "Training  : 100%|████████████████████████████████████| 14/14 [00:02<00:00,  6.50it/s, loss=0.045]\n",
      "Training  : 100%|███████████████████████████████████| 14/14 [00:02<00:00,  6.52it/s, loss=0.0425]\n",
      "Training  : 100%|███████████████████████████████████| 14/14 [00:02<00:00,  6.50it/s, loss=0.0427]\n",
      "Training  : 100%|███████████████████████████████████| 14/14 [00:02<00:00,  6.53it/s, loss=0.0409]\n",
      "Training  : 100%|███████████████████████████████████| 14/14 [00:02<00:00,  6.52it/s, loss=0.0395]\n",
      "Training  : 100%|███████████████████████████████████| 14/14 [00:02<00:00,  6.46it/s, loss=0.0409]\n",
      "Training  : 100%|███████████████████████████████████| 14/14 [00:02<00:00,  6.50it/s, loss=0.0379]\n",
      "Training  : 100%|███████████████████████████████████| 14/14 [00:02<00:00,  6.50it/s, loss=0.0366]\n",
      "Training  : 100%|███████████████████████████████████| 14/14 [00:02<00:00,  6.44it/s, loss=0.0411]\n",
      "Training  : 100%|███████████████████████████████████| 14/14 [00:02<00:00,  6.45it/s, loss=0.0408]\n",
      "Training  : 100%|███████████████████████████████████| 14/14 [00:02<00:00,  6.48it/s, loss=0.0413]\n",
      "Training  : 100%|███████████████████████████████████| 14/14 [00:02<00:00,  6.49it/s, loss=0.0371]\n",
      "Training  : 100%|███████████████████████████████████| 14/14 [00:02<00:00,  6.44it/s, loss=0.0402]\n",
      "Training  : 100%|███████████████████████████████████| 14/14 [00:02<00:00,  6.48it/s, loss=0.0441]\n",
      "Training  : 100%|███████████████████████████████████| 14/14 [00:02<00:00,  6.49it/s, loss=0.0416]\n",
      "Training  : 100%|███████████████████████████████████| 14/14 [00:02<00:00,  6.50it/s, loss=0.0399]\n",
      "Training  : 100%|███████████████████████████████████| 14/14 [00:02<00:00,  6.52it/s, loss=0.0439]\n",
      "Training  : 100%|███████████████████████████████████| 14/14 [00:02<00:00,  6.44it/s, loss=0.0414]\n",
      "Training  : 100%|███████████████████████████████████| 14/14 [00:02<00:00,  6.52it/s, loss=0.0404]\n",
      "Training  : 100%|███████████████████████████████████| 14/14 [00:02<00:00,  6.50it/s, loss=0.0446]\n",
      "Training  : 100%|███████████████████████████████████| 14/14 [00:02<00:00,  6.46it/s, loss=0.0408]\n",
      "Training  : 100%|███████████████████████████████████| 14/14 [00:02<00:00,  6.46it/s, loss=0.0396]\n",
      "Training  : 100%|███████████████████████████████████| 14/14 [00:02<00:00,  6.44it/s, loss=0.0376]\n",
      "Training  : 100%|███████████████████████████████████| 14/14 [00:02<00:00,  6.47it/s, loss=0.0392]\n",
      "Training  : 100%|███████████████████████████████████| 14/14 [00:02<00:00,  6.53it/s, loss=0.0388]\n",
      "Training  : 100%|███████████████████████████████████| 14/14 [00:02<00:00,  6.53it/s, loss=0.0393]\n",
      "Training  : 100%|███████████████████████████████████| 14/14 [00:02<00:00,  6.50it/s, loss=0.0402]\n",
      "Training  : 100%|███████████████████████████████████| 14/14 [00:02<00:00,  6.49it/s, loss=0.0433]\n",
      "Training  : 100%|███████████████████████████████████| 14/14 [00:02<00:00,  6.50it/s, loss=0.0437]\n",
      "Training  : 100%|███████████████████████████████████| 14/14 [00:02<00:00,  6.54it/s, loss=0.0394]\n",
      "Predicting: 100%|████████████████████████████████████████████████| 27/27 [00:00<00:00, 46.63it/s]\n"
     ]
    },
    {
     "name": "stdout",
     "output_type": "stream",
     "text": [
      "Building sklearn text classifier...\n",
      "Loading bert-base-uncased model...\n",
      "Defaulting to linear classifier/regressor\n",
      "Loading Pytorch checkpoint\n",
      "train data size: 428, validation data size: 0\n"
     ]
    },
    {
     "name": "stderr",
     "output_type": "stream",
     "text": [
      "Training  : 100%|████████████████████████████████████| 14/14 [00:02<00:00,  6.46it/s, loss=0.522]\n",
      "Training  : 100%|████████████████████████████████████| 14/14 [00:02<00:00,  6.46it/s, loss=0.283]\n",
      "Training  : 100%|█████████████████████████████████████| 14/14 [00:02<00:00,  6.41it/s, loss=0.21]\n",
      "Training  : 100%|████████████████████████████████████| 14/14 [00:02<00:00,  6.42it/s, loss=0.185]\n",
      "Training  : 100%|████████████████████████████████████| 14/14 [00:02<00:00,  6.41it/s, loss=0.102]\n",
      "Training  : 100%|████████████████████████████████████| 14/14 [00:02<00:00,  6.39it/s, loss=0.143]\n",
      "Training  : 100%|████████████████████████████████████| 14/14 [00:02<00:00,  6.49it/s, loss=0.132]\n",
      "Training  : 100%|████████████████████████████████████| 14/14 [00:02<00:00,  6.43it/s, loss=0.101]\n",
      "Training  : 100%|████████████████████████████████████| 14/14 [00:02<00:00,  6.44it/s, loss=0.105]\n",
      "Training  : 100%|███████████████████████████████████| 14/14 [00:02<00:00,  6.39it/s, loss=0.0846]\n",
      "Training  : 100%|███████████████████████████████████| 14/14 [00:02<00:00,  6.49it/s, loss=0.0712]\n",
      "Training  : 100%|███████████████████████████████████| 14/14 [00:02<00:00,  6.42it/s, loss=0.0693]\n",
      "Training  : 100%|███████████████████████████████████| 14/14 [00:02<00:00,  6.43it/s, loss=0.0651]\n",
      "Training  : 100%|███████████████████████████████████| 14/14 [00:02<00:00,  6.45it/s, loss=0.0568]\n",
      "Training  : 100%|███████████████████████████████████| 14/14 [00:02<00:00,  6.42it/s, loss=0.0545]\n",
      "Training  : 100%|███████████████████████████████████| 14/14 [00:02<00:00,  6.48it/s, loss=0.0597]\n",
      "Training  : 100%|███████████████████████████████████| 14/14 [00:02<00:00,  6.37it/s, loss=0.0541]\n",
      "Training  : 100%|███████████████████████████████████| 14/14 [00:02<00:00,  6.42it/s, loss=0.0534]\n",
      "Training  : 100%|███████████████████████████████████| 14/14 [00:02<00:00,  6.31it/s, loss=0.0548]\n",
      "Training  : 100%|███████████████████████████████████| 14/14 [00:02<00:00,  6.39it/s, loss=0.0548]\n",
      "Training  : 100%|███████████████████████████████████| 14/14 [00:02<00:00,  6.43it/s, loss=0.0574]\n",
      "Training  : 100%|████████████████████████████████████| 14/14 [00:02<00:00,  6.43it/s, loss=0.053]\n",
      "Training  : 100%|███████████████████████████████████| 14/14 [00:02<00:00,  6.44it/s, loss=0.0612]\n",
      "Training  : 100%|███████████████████████████████████| 14/14 [00:02<00:00,  6.40it/s, loss=0.0549]\n",
      "Training  : 100%|███████████████████████████████████| 14/14 [00:02<00:00,  6.40it/s, loss=0.0556]\n",
      "Training  : 100%|███████████████████████████████████| 14/14 [00:02<00:00,  6.44it/s, loss=0.0529]\n",
      "Training  : 100%|███████████████████████████████████| 14/14 [00:02<00:00,  6.37it/s, loss=0.0527]\n",
      "Training  : 100%|███████████████████████████████████| 14/14 [00:02<00:00,  6.44it/s, loss=0.0565]\n",
      "Training  : 100%|███████████████████████████████████| 14/14 [00:02<00:00,  6.41it/s, loss=0.0545]\n",
      "Training  : 100%|████████████████████████████████████| 14/14 [00:02<00:00,  6.46it/s, loss=0.053]\n",
      "Training  : 100%|███████████████████████████████████| 14/14 [00:02<00:00,  6.36it/s, loss=0.0494]\n",
      "Training  : 100%|███████████████████████████████████| 14/14 [00:02<00:00,  6.41it/s, loss=0.0569]\n",
      "Training  : 100%|███████████████████████████████████| 14/14 [00:02<00:00,  6.44it/s, loss=0.0573]\n",
      "Training  : 100%|███████████████████████████████████| 14/14 [00:02<00:00,  6.45it/s, loss=0.0563]\n",
      "Training  : 100%|████████████████████████████████████| 14/14 [00:02<00:00,  6.42it/s, loss=0.053]\n",
      "Training  : 100%|███████████████████████████████████| 14/14 [00:02<00:00,  6.43it/s, loss=0.0491]\n",
      "Training  : 100%|███████████████████████████████████| 14/14 [00:02<00:00,  6.31it/s, loss=0.0581]\n",
      "Training  : 100%|███████████████████████████████████| 14/14 [00:02<00:00,  6.37it/s, loss=0.0523]\n",
      "Training  : 100%|████████████████████████████████████| 14/14 [00:02<00:00,  6.45it/s, loss=0.049]\n",
      "Training  : 100%|███████████████████████████████████| 14/14 [00:02<00:00,  6.36it/s, loss=0.0489]\n",
      "Training  : 100%|███████████████████████████████████| 14/14 [00:02<00:00,  6.49it/s, loss=0.0463]\n",
      "Training  : 100%|███████████████████████████████████| 14/14 [00:02<00:00,  6.47it/s, loss=0.0539]\n",
      "Training  : 100%|███████████████████████████████████| 14/14 [00:02<00:00,  6.42it/s, loss=0.0472]\n",
      "Training  : 100%|███████████████████████████████████| 14/14 [00:02<00:00,  6.41it/s, loss=0.0476]\n",
      "Training  : 100%|███████████████████████████████████| 14/14 [00:02<00:00,  6.41it/s, loss=0.0495]\n",
      "Training  : 100%|███████████████████████████████████| 14/14 [00:02<00:00,  6.45it/s, loss=0.0449]\n",
      "Training  : 100%|███████████████████████████████████| 14/14 [00:02<00:00,  6.44it/s, loss=0.0455]\n",
      "Training  : 100%|███████████████████████████████████| 14/14 [00:02<00:00,  6.44it/s, loss=0.0471]\n",
      "Training  : 100%|███████████████████████████████████| 14/14 [00:02<00:00,  6.41it/s, loss=0.0462]\n",
      "Training  : 100%|███████████████████████████████████| 14/14 [00:02<00:00,  6.40it/s, loss=0.0548]\n",
      "Training  : 100%|███████████████████████████████████| 14/14 [00:02<00:00,  6.38it/s, loss=0.0456]\n",
      "Training  : 100%|███████████████████████████████████| 14/14 [00:02<00:00,  6.40it/s, loss=0.0576]\n",
      "Training  : 100%|███████████████████████████████████| 14/14 [00:02<00:00,  6.45it/s, loss=0.0475]\n",
      "Training  : 100%|███████████████████████████████████| 14/14 [00:02<00:00,  6.42it/s, loss=0.0478]\n",
      "Training  : 100%|███████████████████████████████████| 14/14 [00:02<00:00,  6.42it/s, loss=0.0527]\n",
      "Training  : 100%|███████████████████████████████████| 14/14 [00:02<00:00,  6.44it/s, loss=0.0464]\n",
      "Training  : 100%|███████████████████████████████████| 14/14 [00:02<00:00,  6.42it/s, loss=0.0544]\n",
      "Training  : 100%|███████████████████████████████████| 14/14 [00:02<00:00,  6.39it/s, loss=0.0482]\n",
      "Training  : 100%|███████████████████████████████████| 14/14 [00:02<00:00,  6.38it/s, loss=0.0461]\n",
      "Training  : 100%|████████████████████████████████████| 14/14 [00:02<00:00,  6.38it/s, loss=0.045]\n",
      "Training  : 100%|███████████████████████████████████| 14/14 [00:02<00:00,  6.42it/s, loss=0.0522]\n",
      "Training  : 100%|███████████████████████████████████| 14/14 [00:02<00:00,  6.47it/s, loss=0.0477]\n",
      "Training  : 100%|███████████████████████████████████| 14/14 [00:02<00:00,  6.44it/s, loss=0.0511]\n",
      "Training  : 100%|███████████████████████████████████| 14/14 [00:02<00:00,  6.38it/s, loss=0.0574]\n",
      "Training  : 100%|███████████████████████████████████| 14/14 [00:02<00:00,  6.45it/s, loss=0.0461]\n",
      "Training  : 100%|███████████████████████████████████| 14/14 [00:02<00:00,  6.41it/s, loss=0.0458]\n",
      "Training  : 100%|███████████████████████████████████| 14/14 [00:02<00:00,  6.43it/s, loss=0.0531]\n",
      "Training  : 100%|███████████████████████████████████| 14/14 [00:02<00:00,  6.45it/s, loss=0.0461]\n",
      "Training  : 100%|███████████████████████████████████| 14/14 [00:02<00:00,  6.45it/s, loss=0.0459]\n",
      "Training  : 100%|███████████████████████████████████| 14/14 [00:02<00:00,  6.44it/s, loss=0.0534]\n",
      "Training  : 100%|███████████████████████████████████| 14/14 [00:02<00:00,  6.49it/s, loss=0.0451]\n",
      "Training  : 100%|███████████████████████████████████| 14/14 [00:02<00:00,  6.47it/s, loss=0.0446]\n",
      "Training  : 100%|███████████████████████████████████| 14/14 [00:02<00:00,  6.38it/s, loss=0.0459]\n",
      "Training  : 100%|███████████████████████████████████| 14/14 [00:02<00:00,  6.40it/s, loss=0.0451]\n",
      "Training  : 100%|███████████████████████████████████| 14/14 [00:02<00:00,  6.46it/s, loss=0.0487]\n",
      "Predicting: 100%|████████████████████████████████████████████████| 27/27 [00:00<00:00, 43.93it/s]\n"
     ]
    },
    {
     "name": "stdout",
     "output_type": "stream",
     "text": [
      "Building sklearn text classifier...\n",
      "Loading bert-base-uncased model...\n",
      "Defaulting to linear classifier/regressor\n",
      "Loading Pytorch checkpoint\n",
      "train data size: 428, validation data size: 0\n"
     ]
    },
    {
     "name": "stderr",
     "output_type": "stream",
     "text": [
      "Training  : 100%|█████████████████████████████████████| 14/14 [00:02<00:00,  6.42it/s, loss=0.52]\n",
      "Training  : 100%|████████████████████████████████████| 14/14 [00:02<00:00,  6.41it/s, loss=0.285]\n",
      "Training  : 100%|████████████████████████████████████| 14/14 [00:02<00:00,  6.41it/s, loss=0.254]\n",
      "Training  : 100%|████████████████████████████████████| 14/14 [00:02<00:00,  6.38it/s, loss=0.235]\n",
      "Training  : 100%|████████████████████████████████████| 14/14 [00:02<00:00,  6.10it/s, loss=0.142]\n",
      "Training  : 100%|████████████████████████████████████| 14/14 [00:02<00:00,  6.27it/s, loss=0.126]\n",
      "Training  : 100%|████████████████████████████████████| 14/14 [00:02<00:00,  6.41it/s, loss=0.103]\n",
      "Training  : 100%|████████████████████████████████████| 14/14 [00:02<00:00,  6.42it/s, loss=0.104]\n",
      "Training  : 100%|████████████████████████████████████| 14/14 [00:02<00:00,  6.42it/s, loss=0.101]\n",
      "Training  : 100%|████████████████████████████████████| 14/14 [00:02<00:00,  6.48it/s, loss=0.142]\n",
      "Training  : 100%|███████████████████████████████████| 14/14 [00:02<00:00,  6.44it/s, loss=0.0844]\n",
      "Training  : 100%|████████████████████████████████████| 14/14 [00:02<00:00,  6.39it/s, loss=0.088]\n",
      "Training  : 100%|███████████████████████████████████| 14/14 [00:02<00:00,  6.42it/s, loss=0.0849]\n",
      "Training  : 100%|███████████████████████████████████| 14/14 [00:02<00:00,  6.45it/s, loss=0.0697]\n",
      "Training  : 100%|███████████████████████████████████| 14/14 [00:02<00:00,  6.44it/s, loss=0.0704]\n",
      "Training  : 100%|███████████████████████████████████| 14/14 [00:02<00:00,  6.45it/s, loss=0.0619]\n",
      "Training  : 100%|███████████████████████████████████| 14/14 [00:02<00:00,  6.37it/s, loss=0.0623]\n",
      "Training  : 100%|███████████████████████████████████| 14/14 [00:02<00:00,  6.46it/s, loss=0.0692]\n",
      "Training  : 100%|███████████████████████████████████| 14/14 [00:02<00:00,  6.45it/s, loss=0.0679]\n",
      "Training  : 100%|███████████████████████████████████| 14/14 [00:02<00:00,  6.39it/s, loss=0.0922]\n",
      "Training  : 100%|███████████████████████████████████| 14/14 [00:02<00:00,  6.46it/s, loss=0.0713]\n",
      "Training  : 100%|███████████████████████████████████| 14/14 [00:02<00:00,  6.36it/s, loss=0.0706]\n",
      "Training  : 100%|███████████████████████████████████| 14/14 [00:02<00:00,  6.42it/s, loss=0.0559]\n",
      "Training  : 100%|███████████████████████████████████| 14/14 [00:02<00:00,  6.39it/s, loss=0.0716]\n",
      "Training  : 100%|███████████████████████████████████| 14/14 [00:02<00:00,  6.45it/s, loss=0.0505]\n",
      "Training  : 100%|███████████████████████████████████| 14/14 [00:02<00:00,  6.42it/s, loss=0.0521]\n",
      "Training  : 100%|███████████████████████████████████| 14/14 [00:02<00:00,  6.48it/s, loss=0.0496]\n",
      "Training  : 100%|███████████████████████████████████| 14/14 [00:02<00:00,  6.45it/s, loss=0.0487]\n",
      "Training  : 100%|███████████████████████████████████| 14/14 [00:02<00:00,  6.44it/s, loss=0.0481]\n",
      "Training  : 100%|███████████████████████████████████| 14/14 [00:02<00:00,  6.47it/s, loss=0.0545]\n",
      "Training  : 100%|███████████████████████████████████| 14/14 [00:02<00:00,  6.38it/s, loss=0.0487]\n",
      "Training  : 100%|███████████████████████████████████| 14/14 [00:02<00:00,  6.43it/s, loss=0.0585]\n",
      "Training  : 100%|███████████████████████████████████| 14/14 [00:02<00:00,  6.44it/s, loss=0.0552]\n",
      "Training  : 100%|███████████████████████████████████| 14/14 [00:02<00:00,  6.44it/s, loss=0.0569]\n",
      "Training  : 100%|███████████████████████████████████| 14/14 [00:02<00:00,  6.46it/s, loss=0.0571]\n",
      "Training  : 100%|███████████████████████████████████| 14/14 [00:02<00:00,  6.41it/s, loss=0.0487]\n",
      "Training  : 100%|███████████████████████████████████| 14/14 [00:02<00:00,  6.49it/s, loss=0.0694]\n",
      "Training  : 100%|███████████████████████████████████| 14/14 [00:02<00:00,  6.41it/s, loss=0.0507]\n",
      "Training  : 100%|███████████████████████████████████| 14/14 [00:02<00:00,  6.43it/s, loss=0.0482]\n",
      "Training  : 100%|███████████████████████████████████| 14/14 [00:02<00:00,  6.44it/s, loss=0.0449]\n",
      "Training  : 100%|███████████████████████████████████| 14/14 [00:02<00:00,  6.46it/s, loss=0.0487]\n",
      "Training  : 100%|███████████████████████████████████| 14/14 [00:02<00:00,  6.42it/s, loss=0.0502]\n",
      "Training  : 100%|████████████████████████████████████| 14/14 [00:02<00:00,  6.51it/s, loss=0.049]\n",
      "Training  : 100%|████████████████████████████████████| 14/14 [00:02<00:00,  6.48it/s, loss=0.048]\n",
      "Training  : 100%|███████████████████████████████████| 14/14 [00:02<00:00,  6.46it/s, loss=0.0499]\n",
      "Training  : 100%|███████████████████████████████████| 14/14 [00:02<00:00,  6.41it/s, loss=0.0521]\n",
      "Training  : 100%|███████████████████████████████████| 14/14 [00:02<00:00,  6.44it/s, loss=0.0486]\n",
      "Training  : 100%|███████████████████████████████████| 14/14 [00:02<00:00,  6.43it/s, loss=0.0475]\n",
      "Training  : 100%|███████████████████████████████████| 14/14 [00:02<00:00,  6.40it/s, loss=0.0504]\n",
      "Training  : 100%|███████████████████████████████████| 14/14 [00:02<00:00,  6.39it/s, loss=0.0539]\n",
      "Training  : 100%|███████████████████████████████████| 14/14 [00:02<00:00,  6.45it/s, loss=0.0507]\n",
      "Training  : 100%|████████████████████████████████████| 14/14 [00:02<00:00,  6.41it/s, loss=0.051]\n",
      "Training  : 100%|███████████████████████████████████| 14/14 [00:02<00:00,  6.48it/s, loss=0.0461]\n",
      "Training  : 100%|███████████████████████████████████| 14/14 [00:02<00:00,  6.41it/s, loss=0.0515]\n",
      "Training  : 100%|███████████████████████████████████| 14/14 [00:02<00:00,  6.43it/s, loss=0.0573]\n",
      "Training  : 100%|███████████████████████████████████| 14/14 [00:02<00:00,  6.47it/s, loss=0.0487]\n",
      "Training  : 100%|███████████████████████████████████| 14/14 [00:02<00:00,  6.42it/s, loss=0.0482]\n",
      "Training  : 100%|███████████████████████████████████| 14/14 [00:02<00:00,  6.48it/s, loss=0.0484]\n",
      "Training  : 100%|███████████████████████████████████| 14/14 [00:02<00:00,  6.38it/s, loss=0.0515]\n",
      "Training  : 100%|███████████████████████████████████| 14/14 [00:02<00:00,  6.43it/s, loss=0.0483]\n",
      "Training  : 100%|███████████████████████████████████| 14/14 [00:02<00:00,  6.45it/s, loss=0.0476]\n",
      "Training  : 100%|███████████████████████████████████| 14/14 [00:02<00:00,  6.41it/s, loss=0.0527]\n",
      "Training  : 100%|████████████████████████████████████| 14/14 [00:02<00:00,  6.36it/s, loss=0.056]\n",
      "Training  : 100%|███████████████████████████████████| 14/14 [00:02<00:00,  6.40it/s, loss=0.0579]\n",
      "Training  : 100%|███████████████████████████████████| 14/14 [00:02<00:00,  6.41it/s, loss=0.0486]\n",
      "Training  : 100%|███████████████████████████████████| 14/14 [00:02<00:00,  6.39it/s, loss=0.0487]\n",
      "Training  : 100%|███████████████████████████████████| 14/14 [00:02<00:00,  6.44it/s, loss=0.0501]\n",
      "Training  : 100%|███████████████████████████████████| 14/14 [00:02<00:00,  6.46it/s, loss=0.0487]\n",
      "Training  : 100%|████████████████████████████████████| 14/14 [00:02<00:00,  6.39it/s, loss=0.045]\n",
      "Training  : 100%|███████████████████████████████████| 14/14 [00:02<00:00,  6.48it/s, loss=0.0461]\n",
      "Training  : 100%|████████████████████████████████████| 14/14 [00:02<00:00,  6.45it/s, loss=0.046]\n",
      "Training  : 100%|███████████████████████████████████| 14/14 [00:02<00:00,  6.47it/s, loss=0.0474]\n",
      "Training  : 100%|███████████████████████████████████| 14/14 [00:02<00:00,  6.47it/s, loss=0.0482]\n",
      "Training  : 100%|███████████████████████████████████| 14/14 [00:02<00:00,  6.49it/s, loss=0.0467]\n",
      "Training  : 100%|███████████████████████████████████| 14/14 [00:02<00:00,  6.52it/s, loss=0.0483]\n",
      "Predicting: 100%|████████████████████████████████████████████████| 27/27 [00:00<00:00, 45.47it/s]\n"
     ]
    },
    {
     "name": "stdout",
     "output_type": "stream",
     "text": [
      "Building sklearn text classifier...\n",
      "Loading bert-base-uncased model...\n",
      "Defaulting to linear classifier/regressor\n",
      "Loading Pytorch checkpoint\n",
      "train data size: 428, validation data size: 0\n"
     ]
    },
    {
     "name": "stderr",
     "output_type": "stream",
     "text": [
      "Training  : 100%|████████████████████████████████████| 14/14 [00:02<00:00,  6.40it/s, loss=0.541]\n",
      "Training  : 100%|████████████████████████████████████| 14/14 [00:02<00:00,  6.55it/s, loss=0.273]\n",
      "Training  : 100%|████████████████████████████████████| 14/14 [00:02<00:00,  6.48it/s, loss=0.223]\n",
      "Training  : 100%|████████████████████████████████████| 14/14 [00:02<00:00,  6.56it/s, loss=0.155]\n",
      "Training  : 100%|████████████████████████████████████| 14/14 [00:02<00:00,  6.55it/s, loss=0.136]\n",
      "Training  : 100%|████████████████████████████████████| 14/14 [00:02<00:00,  6.53it/s, loss=0.113]\n",
      "Training  : 100%|███████████████████████████████████| 14/14 [00:02<00:00,  6.48it/s, loss=0.0799]\n",
      "Training  : 100%|███████████████████████████████████| 14/14 [00:02<00:00,  6.49it/s, loss=0.0721]\n",
      "Training  : 100%|████████████████████████████████████| 14/14 [00:02<00:00,  6.46it/s, loss=0.143]\n",
      "Training  : 100%|███████████████████████████████████| 14/14 [00:02<00:00,  6.49it/s, loss=0.0775]\n",
      "Training  : 100%|███████████████████████████████████| 14/14 [00:02<00:00,  6.48it/s, loss=0.0723]\n",
      "Training  : 100%|███████████████████████████████████| 14/14 [00:02<00:00,  6.55it/s, loss=0.0672]\n",
      "Training  : 100%|███████████████████████████████████| 14/14 [00:02<00:00,  6.49it/s, loss=0.0615]\n",
      "Training  : 100%|███████████████████████████████████| 14/14 [00:02<00:00,  6.51it/s, loss=0.0518]\n",
      "Training  : 100%|███████████████████████████████████| 14/14 [00:02<00:00,  6.49it/s, loss=0.0591]\n",
      "Training  : 100%|███████████████████████████████████| 14/14 [00:02<00:00,  6.44it/s, loss=0.0573]\n",
      "Training  : 100%|███████████████████████████████████| 14/14 [00:02<00:00,  6.49it/s, loss=0.0536]\n",
      "Training  : 100%|███████████████████████████████████| 14/14 [00:02<00:00,  6.53it/s, loss=0.0575]\n",
      "Training  : 100%|███████████████████████████████████| 14/14 [00:02<00:00,  6.49it/s, loss=0.0559]\n",
      "Training  : 100%|████████████████████████████████████| 14/14 [00:02<00:00,  6.52it/s, loss=0.048]\n",
      "Training  : 100%|███████████████████████████████████| 14/14 [00:02<00:00,  6.53it/s, loss=0.0473]\n",
      "Training  : 100%|███████████████████████████████████| 14/14 [00:02<00:00,  6.57it/s, loss=0.0434]\n",
      "Training  : 100%|███████████████████████████████████| 14/14 [00:02<00:00,  6.55it/s, loss=0.0587]\n",
      "Training  : 100%|███████████████████████████████████| 14/14 [00:02<00:00,  6.57it/s, loss=0.0559]\n",
      "Training  : 100%|███████████████████████████████████| 14/14 [00:02<00:00,  6.51it/s, loss=0.0465]\n",
      "Training  : 100%|███████████████████████████████████| 14/14 [00:02<00:00,  6.40it/s, loss=0.0445]\n",
      "Training  : 100%|███████████████████████████████████| 14/14 [00:02<00:00,  6.45it/s, loss=0.0579]\n",
      "Training  : 100%|███████████████████████████████████| 14/14 [00:02<00:00,  6.48it/s, loss=0.0464]\n",
      "Training  : 100%|███████████████████████████████████| 14/14 [00:02<00:00,  6.53it/s, loss=0.0394]\n",
      "Training  : 100%|███████████████████████████████████| 14/14 [00:02<00:00,  6.53it/s, loss=0.0555]\n",
      "Training  : 100%|███████████████████████████████████| 14/14 [00:02<00:00,  6.52it/s, loss=0.0494]\n",
      "Training  : 100%|███████████████████████████████████| 14/14 [00:02<00:00,  6.49it/s, loss=0.0401]\n",
      "Training  : 100%|███████████████████████████████████| 14/14 [00:02<00:00,  6.51it/s, loss=0.0477]\n",
      "Training  : 100%|███████████████████████████████████| 14/14 [00:02<00:00,  6.53it/s, loss=0.0409]\n",
      "Training  : 100%|███████████████████████████████████| 14/14 [00:02<00:00,  6.49it/s, loss=0.0411]\n",
      "Training  : 100%|████████████████████████████████████| 14/14 [00:02<00:00,  6.50it/s, loss=0.045]\n",
      "Training  : 100%|███████████████████████████████████| 14/14 [00:02<00:00,  6.48it/s, loss=0.0502]\n",
      "Training  : 100%|███████████████████████████████████| 14/14 [00:02<00:00,  6.53it/s, loss=0.0419]\n",
      "Training  : 100%|███████████████████████████████████| 14/14 [00:02<00:00,  6.47it/s, loss=0.0397]\n",
      "Training  : 100%|███████████████████████████████████| 14/14 [00:02<00:00,  6.45it/s, loss=0.0375]\n",
      "Training  : 100%|███████████████████████████████████| 14/14 [00:02<00:00,  6.50it/s, loss=0.0579]\n",
      "Training  : 100%|███████████████████████████████████| 14/14 [00:02<00:00,  6.52it/s, loss=0.0416]\n",
      "Training  : 100%|███████████████████████████████████| 14/14 [00:02<00:00,  6.51it/s, loss=0.0481]\n",
      "Training  : 100%|███████████████████████████████████| 14/14 [00:02<00:00,  6.44it/s, loss=0.0395]\n",
      "Training  : 100%|████████████████████████████████████| 14/14 [00:02<00:00,  6.52it/s, loss=0.041]\n",
      "Training  : 100%|███████████████████████████████████| 14/14 [00:02<00:00,  6.55it/s, loss=0.0436]\n",
      "Training  : 100%|███████████████████████████████████| 14/14 [00:02<00:00,  6.49it/s, loss=0.0445]\n",
      "Training  : 100%|███████████████████████████████████| 14/14 [00:02<00:00,  6.48it/s, loss=0.0417]\n",
      "Training  : 100%|███████████████████████████████████| 14/14 [00:02<00:00,  6.46it/s, loss=0.0399]\n",
      "Training  : 100%|███████████████████████████████████| 14/14 [00:02<00:00,  6.53it/s, loss=0.0424]\n",
      "Training  : 100%|███████████████████████████████████| 14/14 [00:02<00:00,  6.54it/s, loss=0.0457]\n",
      "Training  : 100%|███████████████████████████████████| 14/14 [00:02<00:00,  6.46it/s, loss=0.0373]\n",
      "Training  : 100%|███████████████████████████████████| 14/14 [00:02<00:00,  6.48it/s, loss=0.0396]\n",
      "Training  : 100%|███████████████████████████████████| 14/14 [00:02<00:00,  6.54it/s, loss=0.0415]\n",
      "Training  : 100%|███████████████████████████████████| 14/14 [00:02<00:00,  6.49it/s, loss=0.0407]\n",
      "Training  : 100%|███████████████████████████████████| 14/14 [00:02<00:00,  6.51it/s, loss=0.0399]\n",
      "Training  : 100%|███████████████████████████████████| 14/14 [00:02<00:00,  6.54it/s, loss=0.0399]\n",
      "Training  : 100%|███████████████████████████████████| 14/14 [00:02<00:00,  6.51it/s, loss=0.0417]\n",
      "Training  : 100%|███████████████████████████████████| 14/14 [00:02<00:00,  6.50it/s, loss=0.0436]\n",
      "Training  : 100%|████████████████████████████████████| 14/14 [00:02<00:00,  6.49it/s, loss=0.039]\n",
      "Training  : 100%|███████████████████████████████████| 14/14 [00:02<00:00,  6.51it/s, loss=0.0398]\n",
      "Training  : 100%|███████████████████████████████████| 14/14 [00:02<00:00,  6.53it/s, loss=0.0436]\n",
      "Training  : 100%|███████████████████████████████████| 14/14 [00:02<00:00,  6.51it/s, loss=0.0418]\n",
      "Training  : 100%|███████████████████████████████████| 14/14 [00:02<00:00,  6.48it/s, loss=0.0419]\n",
      "Training  : 100%|███████████████████████████████████| 14/14 [00:02<00:00,  6.47it/s, loss=0.0445]\n",
      "Training  : 100%|███████████████████████████████████| 14/14 [00:02<00:00,  6.50it/s, loss=0.0402]\n",
      "Training  : 100%|███████████████████████████████████| 14/14 [00:02<00:00,  6.50it/s, loss=0.0408]\n",
      "Training  : 100%|███████████████████████████████████| 14/14 [00:02<00:00,  6.42it/s, loss=0.0375]\n",
      "Training  : 100%|███████████████████████████████████| 14/14 [00:02<00:00,  6.49it/s, loss=0.0385]\n",
      "Training  : 100%|███████████████████████████████████| 14/14 [00:02<00:00,  6.52it/s, loss=0.0361]\n",
      "Training  : 100%|███████████████████████████████████| 14/14 [00:02<00:00,  6.49it/s, loss=0.0398]\n",
      "Training  : 100%|███████████████████████████████████| 14/14 [00:02<00:00,  6.51it/s, loss=0.0392]\n",
      "Training  : 100%|███████████████████████████████████| 14/14 [00:02<00:00,  6.54it/s, loss=0.0451]\n",
      "Training  : 100%|███████████████████████████████████| 14/14 [00:02<00:00,  6.51it/s, loss=0.0444]\n",
      "Training  : 100%|███████████████████████████████████| 14/14 [00:02<00:00,  6.53it/s, loss=0.0395]\n",
      "Predicting: 100%|████████████████████████████████████████████████| 27/27 [00:00<00:00, 49.33it/s]\n"
     ]
    },
    {
     "name": "stdout",
     "output_type": "stream",
     "text": [
      "Building sklearn text classifier...\n",
      "Loading bert-base-uncased model...\n",
      "Defaulting to linear classifier/regressor\n",
      "Loading Pytorch checkpoint\n",
      "train data size: 428, validation data size: 0\n"
     ]
    },
    {
     "name": "stderr",
     "output_type": "stream",
     "text": [
      "Training  : 100%|████████████████████████████████████| 14/14 [00:02<00:00,  6.62it/s, loss=0.583]\n",
      "Training  : 100%|████████████████████████████████████| 14/14 [00:02<00:00,  6.62it/s, loss=0.376]\n",
      "Training  : 100%|████████████████████████████████████| 14/14 [00:02<00:00,  6.65it/s, loss=0.249]\n",
      "Training  : 100%|████████████████████████████████████| 14/14 [00:02<00:00,  6.64it/s, loss=0.195]\n",
      "Training  : 100%|████████████████████████████████████| 14/14 [00:02<00:00,  6.68it/s, loss=0.159]\n",
      "Training  : 100%|████████████████████████████████████| 14/14 [00:02<00:00,  6.54it/s, loss=0.135]\n",
      "Training  : 100%|█████████████████████████████████████| 14/14 [00:02<00:00,  6.61it/s, loss=0.11]\n",
      "Training  : 100%|████████████████████████████████████| 14/14 [00:02<00:00,  6.58it/s, loss=0.103]\n",
      "Training  : 100%|███████████████████████████████████| 14/14 [00:02<00:00,  6.59it/s, loss=0.0962]\n",
      "Training  : 100%|███████████████████████████████████| 14/14 [00:02<00:00,  6.68it/s, loss=0.0911]\n",
      "Training  : 100%|███████████████████████████████████| 14/14 [00:02<00:00,  6.59it/s, loss=0.0895]\n",
      "Training  : 100%|███████████████████████████████████| 14/14 [00:02<00:00,  6.58it/s, loss=0.0995]\n",
      "Training  : 100%|████████████████████████████████████| 14/14 [00:02<00:00,  6.60it/s, loss=0.105]\n",
      "Training  : 100%|███████████████████████████████████| 14/14 [00:02<00:00,  6.54it/s, loss=0.0734]\n",
      "Training  : 100%|███████████████████████████████████| 14/14 [00:02<00:00,  6.67it/s, loss=0.0678]\n",
      "Training  : 100%|███████████████████████████████████| 14/14 [00:02<00:00,  6.66it/s, loss=0.0693]\n",
      "Training  : 100%|███████████████████████████████████| 14/14 [00:02<00:00,  6.61it/s, loss=0.0602]\n",
      "Training  : 100%|███████████████████████████████████| 14/14 [00:02<00:00,  6.62it/s, loss=0.0618]\n",
      "Training  : 100%|███████████████████████████████████| 14/14 [00:02<00:00,  6.59it/s, loss=0.0674]\n",
      "Training  : 100%|███████████████████████████████████| 14/14 [00:02<00:00,  6.64it/s, loss=0.0638]\n",
      "Training  : 100%|███████████████████████████████████| 14/14 [00:02<00:00,  6.68it/s, loss=0.0582]\n",
      "Training  : 100%|███████████████████████████████████| 14/14 [00:02<00:00,  6.62it/s, loss=0.0572]\n",
      "Training  : 100%|███████████████████████████████████| 14/14 [00:02<00:00,  6.66it/s, loss=0.0684]\n",
      "Training  : 100%|███████████████████████████████████| 14/14 [00:02<00:00,  6.64it/s, loss=0.0657]\n",
      "Training  : 100%|███████████████████████████████████| 14/14 [00:02<00:00,  6.55it/s, loss=0.0567]\n",
      "Training  : 100%|███████████████████████████████████| 14/14 [00:02<00:00,  6.58it/s, loss=0.0556]\n",
      "Training  : 100%|███████████████████████████████████| 14/14 [00:02<00:00,  6.61it/s, loss=0.0546]\n",
      "Training  : 100%|███████████████████████████████████| 14/14 [00:02<00:00,  6.64it/s, loss=0.0574]\n",
      "Training  : 100%|███████████████████████████████████| 14/14 [00:02<00:00,  6.64it/s, loss=0.0592]\n",
      "Training  : 100%|███████████████████████████████████| 14/14 [00:02<00:00,  6.55it/s, loss=0.0569]\n",
      "Training  : 100%|███████████████████████████████████| 14/14 [00:02<00:00,  6.65it/s, loss=0.0517]\n",
      "Training  : 100%|███████████████████████████████████| 14/14 [00:02<00:00,  6.62it/s, loss=0.0633]\n",
      "Training  : 100%|███████████████████████████████████| 14/14 [00:02<00:00,  6.67it/s, loss=0.0596]\n",
      "Training  : 100%|███████████████████████████████████| 14/14 [00:02<00:00,  6.69it/s, loss=0.0632]\n",
      "Training  : 100%|███████████████████████████████████| 14/14 [00:02<00:00,  6.61it/s, loss=0.0581]\n",
      "Training  : 100%|████████████████████████████████████| 14/14 [00:02<00:00,  6.62it/s, loss=0.048]\n",
      "Training  : 100%|███████████████████████████████████| 14/14 [00:02<00:00,  6.65it/s, loss=0.0596]\n",
      "Training  : 100%|███████████████████████████████████| 14/14 [00:02<00:00,  6.59it/s, loss=0.0503]\n",
      "Training  : 100%|███████████████████████████████████| 14/14 [00:02<00:00,  6.61it/s, loss=0.0479]\n",
      "Training  : 100%|███████████████████████████████████| 14/14 [00:02<00:00,  6.59it/s, loss=0.0485]\n",
      "Training  : 100%|███████████████████████████████████| 14/14 [00:02<00:00,  6.62it/s, loss=0.0458]\n",
      "Training  : 100%|███████████████████████████████████| 14/14 [00:02<00:00,  6.66it/s, loss=0.0543]\n",
      "Training  : 100%|███████████████████████████████████| 14/14 [00:02<00:00,  6.65it/s, loss=0.0486]\n",
      "Training  : 100%|███████████████████████████████████| 14/14 [00:02<00:00,  6.57it/s, loss=0.0509]\n",
      "Training  : 100%|███████████████████████████████████| 14/14 [00:02<00:00,  6.58it/s, loss=0.0497]\n",
      "Training  : 100%|███████████████████████████████████| 14/14 [00:02<00:00,  6.65it/s, loss=0.0545]\n",
      "Training  : 100%|███████████████████████████████████| 14/14 [00:02<00:00,  6.63it/s, loss=0.0487]\n",
      "Training  : 100%|███████████████████████████████████| 14/14 [00:02<00:00,  6.18it/s, loss=0.0475]\n",
      "Training  : 100%|███████████████████████████████████| 14/14 [00:02<00:00,  6.45it/s, loss=0.0464]\n",
      "Training  : 100%|███████████████████████████████████| 14/14 [00:02<00:00,  6.66it/s, loss=0.0555]\n",
      "Training  : 100%|███████████████████████████████████| 14/14 [00:02<00:00,  6.61it/s, loss=0.0486]\n",
      "Training  : 100%|███████████████████████████████████| 14/14 [00:02<00:00,  6.62it/s, loss=0.0613]\n",
      "Training  : 100%|███████████████████████████████████| 14/14 [00:02<00:00,  6.70it/s, loss=0.0499]\n",
      "Training  : 100%|███████████████████████████████████| 14/14 [00:02<00:00,  6.64it/s, loss=0.0459]\n",
      "Training  : 100%|███████████████████████████████████| 14/14 [00:02<00:00,  6.65it/s, loss=0.0592]\n",
      "Training  : 100%|███████████████████████████████████| 14/14 [00:02<00:00,  6.58it/s, loss=0.0479]\n",
      "Training  : 100%|████████████████████████████████████| 14/14 [00:02<00:00,  6.65it/s, loss=0.054]\n",
      "Training  : 100%|███████████████████████████████████| 14/14 [00:02<00:00,  6.62it/s, loss=0.0448]\n",
      "Training  : 100%|███████████████████████████████████| 14/14 [00:02<00:00,  6.66it/s, loss=0.0461]\n",
      "Training  : 100%|███████████████████████████████████| 14/14 [00:02<00:00,  6.67it/s, loss=0.0483]\n",
      "Training  : 100%|███████████████████████████████████| 14/14 [00:02<00:00,  6.62it/s, loss=0.0503]\n",
      "Training  : 100%|███████████████████████████████████| 14/14 [00:02<00:00,  6.57it/s, loss=0.0464]\n",
      "Training  : 100%|████████████████████████████████████| 14/14 [00:02<00:00,  6.56it/s, loss=0.048]\n",
      "Training  : 100%|███████████████████████████████████| 14/14 [00:02<00:00,  6.61it/s, loss=0.0583]\n",
      "Training  : 100%|███████████████████████████████████| 14/14 [00:02<00:00,  6.56it/s, loss=0.0471]\n",
      "Training  : 100%|███████████████████████████████████| 14/14 [00:02<00:00,  6.60it/s, loss=0.0469]\n",
      "Training  : 100%|███████████████████████████████████| 14/14 [00:02<00:00,  6.56it/s, loss=0.0524]\n",
      "Training  : 100%|████████████████████████████████████| 14/14 [00:02<00:00,  6.66it/s, loss=0.046]\n",
      "Training  : 100%|███████████████████████████████████| 14/14 [00:02<00:00,  6.63it/s, loss=0.0493]\n",
      "Training  : 100%|███████████████████████████████████| 14/14 [00:02<00:00,  6.48it/s, loss=0.0534]\n",
      "Training  : 100%|███████████████████████████████████| 14/14 [00:02<00:00,  6.62it/s, loss=0.0501]\n",
      "Training  : 100%|███████████████████████████████████| 14/14 [00:02<00:00,  6.56it/s, loss=0.0484]\n",
      "Training  : 100%|███████████████████████████████████| 14/14 [00:02<00:00,  6.65it/s, loss=0.0476]\n",
      "Training  : 100%|███████████████████████████████████| 14/14 [00:02<00:00,  6.65it/s, loss=0.0463]\n",
      "Training  : 100%|███████████████████████████████████| 14/14 [00:02<00:00,  6.64it/s, loss=0.0485]\n",
      "Predicting: 100%|████████████████████████████████████████████████| 27/27 [00:00<00:00, 51.50it/s]\n"
     ]
    },
    {
     "name": "stdout",
     "output_type": "stream",
     "text": [
      "Building sklearn text classifier...\n",
      "Loading bert-base-uncased model...\n",
      "Defaulting to linear classifier/regressor\n",
      "Loading Pytorch checkpoint\n",
      "train data size: 428, validation data size: 0\n"
     ]
    },
    {
     "name": "stderr",
     "output_type": "stream",
     "text": [
      "Training  : 100%|█████████████████████████████████████| 14/14 [00:02<00:00,  6.65it/s, loss=0.58]\n",
      "Training  : 100%|████████████████████████████████████| 14/14 [00:02<00:00,  6.61it/s, loss=0.375]\n",
      "Training  : 100%|████████████████████████████████████| 14/14 [00:02<00:00,  6.60it/s, loss=0.248]\n",
      "Training  : 100%|████████████████████████████████████| 14/14 [00:02<00:00,  6.64it/s, loss=0.197]\n",
      "Training  : 100%|████████████████████████████████████| 14/14 [00:02<00:00,  6.61it/s, loss=0.143]\n",
      "Training  : 100%|████████████████████████████████████| 14/14 [00:02<00:00,  6.72it/s, loss=0.129]\n",
      "Training  : 100%|████████████████████████████████████| 14/14 [00:02<00:00,  6.61it/s, loss=0.116]\n",
      "Training  : 100%|████████████████████████████████████| 14/14 [00:02<00:00,  6.65it/s, loss=0.101]\n",
      "Training  : 100%|████████████████████████████████████| 14/14 [00:02<00:00,  6.58it/s, loss=0.118]\n",
      "Training  : 100%|███████████████████████████████████| 14/14 [00:02<00:00,  6.60it/s, loss=0.0935]\n",
      "Training  : 100%|███████████████████████████████████| 14/14 [00:02<00:00,  6.68it/s, loss=0.0843]\n",
      "Training  : 100%|███████████████████████████████████| 14/14 [00:02<00:00,  6.59it/s, loss=0.0739]\n",
      "Training  : 100%|███████████████████████████████████| 14/14 [00:02<00:00,  6.66it/s, loss=0.0766]\n",
      "Training  : 100%|███████████████████████████████████| 14/14 [00:02<00:00,  6.56it/s, loss=0.0678]\n",
      "Training  : 100%|███████████████████████████████████| 14/14 [00:02<00:00,  6.67it/s, loss=0.0645]\n",
      "Training  : 100%|███████████████████████████████████| 14/14 [00:02<00:00,  6.66it/s, loss=0.0653]\n",
      "Training  : 100%|███████████████████████████████████| 14/14 [00:02<00:00,  6.67it/s, loss=0.0603]\n",
      "Training  : 100%|███████████████████████████████████| 14/14 [00:02<00:00,  6.57it/s, loss=0.0644]\n",
      "Training  : 100%|███████████████████████████████████| 14/14 [00:02<00:00,  6.63it/s, loss=0.0645]\n",
      "Training  : 100%|███████████████████████████████████| 14/14 [00:02<00:00,  6.61it/s, loss=0.0626]\n",
      "Training  : 100%|███████████████████████████████████| 14/14 [00:02<00:00,  6.66it/s, loss=0.0598]\n",
      "Training  : 100%|███████████████████████████████████| 14/14 [00:02<00:00,  6.64it/s, loss=0.0579]\n",
      "Training  : 100%|███████████████████████████████████| 14/14 [00:02<00:00,  6.54it/s, loss=0.0583]\n",
      "Training  : 100%|███████████████████████████████████| 14/14 [00:02<00:00,  6.66it/s, loss=0.0636]\n",
      "Training  : 100%|███████████████████████████████████| 14/14 [00:02<00:00,  6.59it/s, loss=0.0545]\n",
      "Training  : 100%|███████████████████████████████████| 14/14 [00:02<00:00,  6.62it/s, loss=0.0548]\n",
      "Training  : 100%|███████████████████████████████████| 14/14 [00:02<00:00,  6.62it/s, loss=0.0524]\n",
      "Training  : 100%|███████████████████████████████████| 14/14 [00:02<00:00,  6.59it/s, loss=0.0565]\n",
      "Training  : 100%|███████████████████████████████████| 14/14 [00:02<00:00,  6.60it/s, loss=0.0498]\n",
      "Training  : 100%|███████████████████████████████████| 14/14 [00:02<00:00,  6.68it/s, loss=0.0636]\n",
      "Training  : 100%|███████████████████████████████████| 14/14 [00:02<00:00,  6.65it/s, loss=0.0543]\n",
      "Training  : 100%|███████████████████████████████████| 14/14 [00:02<00:00,  6.67it/s, loss=0.0645]\n",
      "Training  : 100%|███████████████████████████████████| 14/14 [00:02<00:00,  6.59it/s, loss=0.0568]\n",
      "Training  : 100%|███████████████████████████████████| 14/14 [00:02<00:00,  6.60it/s, loss=0.0589]\n",
      "Training  : 100%|███████████████████████████████████| 14/14 [00:02<00:00,  6.60it/s, loss=0.0563]\n",
      "Training  : 100%|███████████████████████████████████| 14/14 [00:02<00:00,  6.58it/s, loss=0.0479]\n",
      "Training  : 100%|███████████████████████████████████| 14/14 [00:02<00:00,  6.61it/s, loss=0.0709]\n",
      "Training  : 100%|███████████████████████████████████| 14/14 [00:02<00:00,  6.61it/s, loss=0.0514]\n",
      "Training  : 100%|███████████████████████████████████| 14/14 [00:02<00:00,  6.56it/s, loss=0.0488]\n",
      "Training  : 100%|███████████████████████████████████| 14/14 [00:02<00:00,  6.65it/s, loss=0.0487]\n",
      "Training  : 100%|███████████████████████████████████| 14/14 [00:02<00:00,  6.66it/s, loss=0.0518]\n",
      "Training  : 100%|████████████████████████████████████| 14/14 [00:02<00:00,  6.61it/s, loss=0.053]\n",
      "Training  : 100%|███████████████████████████████████| 14/14 [00:02<00:00,  6.57it/s, loss=0.0489]\n",
      "Training  : 100%|███████████████████████████████████| 14/14 [00:02<00:00,  6.60it/s, loss=0.0505]\n",
      "Training  : 100%|███████████████████████████████████| 14/14 [00:02<00:00,  6.61it/s, loss=0.0522]\n",
      "Training  : 100%|███████████████████████████████████| 14/14 [00:02<00:00,  6.69it/s, loss=0.0551]\n",
      "Training  : 100%|███████████████████████████████████| 14/14 [00:02<00:00,  6.61it/s, loss=0.0521]\n",
      "Training  : 100%|███████████████████████████████████| 14/14 [00:02<00:00,  6.64it/s, loss=0.0512]\n",
      "Training  : 100%|███████████████████████████████████| 14/14 [00:02<00:00,  6.56it/s, loss=0.0473]\n",
      "Training  : 100%|███████████████████████████████████| 14/14 [00:02<00:00,  6.64it/s, loss=0.0561]\n",
      "Training  : 100%|███████████████████████████████████| 14/14 [00:02<00:00,  6.62it/s, loss=0.0526]\n",
      "Training  : 100%|███████████████████████████████████| 14/14 [00:02<00:00,  6.65it/s, loss=0.0518]\n",
      "Training  : 100%|███████████████████████████████████| 14/14 [00:02<00:00,  6.68it/s, loss=0.0486]\n",
      "Training  : 100%|████████████████████████████████████| 14/14 [00:02<00:00,  6.65it/s, loss=0.054]\n",
      "Training  : 100%|███████████████████████████████████| 14/14 [00:02<00:00,  6.65it/s, loss=0.0623]\n",
      "Training  : 100%|███████████████████████████████████| 14/14 [00:02<00:00,  6.60it/s, loss=0.0487]\n",
      "Training  : 100%|███████████████████████████████████| 14/14 [00:02<00:00,  6.65it/s, loss=0.0497]\n",
      "Training  : 100%|███████████████████████████████████| 14/14 [00:02<00:00,  6.57it/s, loss=0.0493]\n",
      "Training  : 100%|████████████████████████████████████| 14/14 [00:02<00:00,  6.64it/s, loss=0.051]\n",
      "Training  : 100%|███████████████████████████████████| 14/14 [00:02<00:00,  6.64it/s, loss=0.0488]\n",
      "Training  : 100%|█████████████████████████████████████| 14/14 [00:02<00:00,  6.62it/s, loss=0.05]\n",
      "Training  : 100%|███████████████████████████████████| 14/14 [00:02<00:00,  6.63it/s, loss=0.0533]\n",
      "Training  : 100%|███████████████████████████████████| 14/14 [00:02<00:00,  6.57it/s, loss=0.0539]\n",
      "Training  : 100%|███████████████████████████████████| 14/14 [00:02<00:00,  6.63it/s, loss=0.0605]\n",
      "Training  : 100%|███████████████████████████████████| 14/14 [00:02<00:00,  6.64it/s, loss=0.0529]\n",
      "Training  : 100%|███████████████████████████████████| 14/14 [00:02<00:00,  6.65it/s, loss=0.0495]\n",
      "Training  : 100%|███████████████████████████████████| 14/14 [00:02<00:00,  6.63it/s, loss=0.0492]\n",
      "Training  : 100%|███████████████████████████████████| 14/14 [00:02<00:00,  6.56it/s, loss=0.0483]\n",
      "Training  : 100%|███████████████████████████████████| 14/14 [00:02<00:00,  6.62it/s, loss=0.0466]\n",
      "Training  : 100%|███████████████████████████████████| 14/14 [00:02<00:00,  6.63it/s, loss=0.0507]\n",
      "Training  : 100%|███████████████████████████████████| 14/14 [00:02<00:00,  6.65it/s, loss=0.0456]\n",
      "Training  : 100%|███████████████████████████████████| 14/14 [00:02<00:00,  6.62it/s, loss=0.0512]\n",
      "Training  : 100%|█████████████████████████████████████| 14/14 [00:02<00:00,  6.62it/s, loss=0.05]\n",
      "Training  : 100%|███████████████████████████████████| 14/14 [00:02<00:00,  6.61it/s, loss=0.0497]\n",
      "Training  : 100%|███████████████████████████████████| 14/14 [00:02<00:00,  6.64it/s, loss=0.0499]\n",
      "Predicting: 100%|████████████████████████████████████████████████| 27/27 [00:00<00:00, 51.81it/s]\n"
     ]
    },
    {
     "name": "stdout",
     "output_type": "stream",
     "text": [
      "Building sklearn text classifier...\n",
      "Loading bert-base-uncased model...\n",
      "Defaulting to linear classifier/regressor\n",
      "Loading Pytorch checkpoint\n",
      "train data size: 428, validation data size: 0\n"
     ]
    },
    {
     "name": "stderr",
     "output_type": "stream",
     "text": [
      "Training  : 100%|████████████████████████████████████| 14/14 [00:02<00:00,  6.61it/s, loss=0.596]\n",
      "Training  : 100%|████████████████████████████████████| 14/14 [00:02<00:00,  6.61it/s, loss=0.376]\n",
      "Training  : 100%|████████████████████████████████████| 14/14 [00:02<00:00,  6.60it/s, loss=0.248]\n",
      "Training  : 100%|████████████████████████████████████| 14/14 [00:02<00:00,  6.62it/s, loss=0.189]\n",
      "Training  : 100%|████████████████████████████████████| 14/14 [00:02<00:00,  6.60it/s, loss=0.132]\n",
      "Training  : 100%|████████████████████████████████████| 14/14 [00:02<00:00,  6.66it/s, loss=0.106]\n",
      "Training  : 100%|████████████████████████████████████| 14/14 [00:02<00:00,  6.65it/s, loss=0.097]\n",
      "Training  : 100%|████████████████████████████████████| 14/14 [00:02<00:00,  6.61it/s, loss=0.083]\n",
      "Training  : 100%|███████████████████████████████████| 14/14 [00:02<00:00,  6.64it/s, loss=0.0826]\n",
      "Training  : 100%|███████████████████████████████████| 14/14 [00:02<00:00,  6.59it/s, loss=0.0734]\n",
      "Training  : 100%|███████████████████████████████████| 14/14 [00:02<00:00,  6.65it/s, loss=0.0676]\n",
      "Training  : 100%|███████████████████████████████████| 14/14 [00:02<00:00,  6.66it/s, loss=0.0649]\n",
      "Training  : 100%|███████████████████████████████████| 14/14 [00:02<00:00,  6.58it/s, loss=0.0682]\n",
      "Training  : 100%|███████████████████████████████████| 14/14 [00:02<00:00,  6.67it/s, loss=0.0673]\n",
      "Training  : 100%|███████████████████████████████████| 14/14 [00:02<00:00,  6.61it/s, loss=0.0602]\n",
      "Training  : 100%|███████████████████████████████████| 14/14 [00:02<00:00,  6.58it/s, loss=0.0741]\n",
      "Training  : 100%|███████████████████████████████████| 14/14 [00:02<00:00,  6.55it/s, loss=0.0649]\n",
      "Training  : 100%|███████████████████████████████████| 14/14 [00:02<00:00,  6.57it/s, loss=0.0564]\n",
      "Training  : 100%|███████████████████████████████████| 14/14 [00:02<00:00,  6.63it/s, loss=0.0478]\n",
      "Training  : 100%|███████████████████████████████████| 14/14 [00:02<00:00,  6.60it/s, loss=0.0519]\n",
      "Training  : 100%|████████████████████████████████████| 14/14 [00:02<00:00,  6.59it/s, loss=0.045]\n",
      "Training  : 100%|███████████████████████████████████| 14/14 [00:02<00:00,  6.70it/s, loss=0.0458]\n",
      "Training  : 100%|███████████████████████████████████| 14/14 [00:02<00:00,  6.60it/s, loss=0.0487]\n",
      "Training  : 100%|████████████████████████████████████| 14/14 [00:02<00:00,  6.60it/s, loss=0.046]\n",
      "Training  : 100%|███████████████████████████████████| 14/14 [00:02<00:00,  6.57it/s, loss=0.0431]\n",
      "Training  : 100%|███████████████████████████████████| 14/14 [00:02<00:00,  6.58it/s, loss=0.0429]\n",
      "Training  : 100%|███████████████████████████████████| 14/14 [00:02<00:00,  6.59it/s, loss=0.0466]\n",
      "Training  : 100%|███████████████████████████████████| 14/14 [00:02<00:00,  6.56it/s, loss=0.0496]\n",
      "Training  : 100%|███████████████████████████████████| 14/14 [00:02<00:00,  6.61it/s, loss=0.0405]\n",
      "Training  : 100%|███████████████████████████████████| 14/14 [00:02<00:00,  6.60it/s, loss=0.0541]\n",
      "Training  : 100%|███████████████████████████████████| 14/14 [00:02<00:00,  6.64it/s, loss=0.0551]\n",
      "Training  : 100%|███████████████████████████████████| 14/14 [00:02<00:00,  6.55it/s, loss=0.0466]\n",
      "Training  : 100%|███████████████████████████████████| 14/14 [00:02<00:00,  6.57it/s, loss=0.0479]\n",
      "Training  : 100%|███████████████████████████████████| 14/14 [00:02<00:00,  6.68it/s, loss=0.0435]\n",
      "Training  : 100%|███████████████████████████████████| 14/14 [00:02<00:00,  6.57it/s, loss=0.0381]\n",
      "Training  : 100%|███████████████████████████████████| 14/14 [00:02<00:00,  6.66it/s, loss=0.0479]\n",
      "Training  : 100%|███████████████████████████████████| 14/14 [00:02<00:00,  6.62it/s, loss=0.0498]\n",
      "Training  : 100%|███████████████████████████████████| 14/14 [00:02<00:00,  6.64it/s, loss=0.0424]\n",
      "Training  : 100%|███████████████████████████████████| 14/14 [00:02<00:00,  6.67it/s, loss=0.0397]\n",
      "Training  : 100%|███████████████████████████████████| 14/14 [00:02<00:00,  6.63it/s, loss=0.0393]\n",
      "Training  : 100%|████████████████████████████████████| 14/14 [00:02<00:00,  6.63it/s, loss=0.044]\n",
      "Training  : 100%|███████████████████████████████████| 14/14 [00:02<00:00,  6.66it/s, loss=0.0391]\n",
      "Training  : 100%|███████████████████████████████████| 14/14 [00:02<00:00,  6.64it/s, loss=0.0509]\n",
      "Training  : 100%|███████████████████████████████████| 14/14 [00:02<00:00,  6.61it/s, loss=0.0398]\n",
      "Training  : 100%|███████████████████████████████████| 14/14 [00:02<00:00,  6.60it/s, loss=0.0417]\n",
      "Training  : 100%|███████████████████████████████████| 14/14 [00:02<00:00,  6.62it/s, loss=0.0456]\n",
      "Training  : 100%|███████████████████████████████████| 14/14 [00:02<00:00,  6.61it/s, loss=0.0439]\n",
      "Training  : 100%|███████████████████████████████████| 14/14 [00:02<00:00,  6.68it/s, loss=0.0429]\n",
      "Training  : 100%|███████████████████████████████████| 14/14 [00:02<00:00,  6.64it/s, loss=0.0443]\n",
      "Training  : 100%|███████████████████████████████████| 14/14 [00:02<00:00,  6.62it/s, loss=0.0407]\n",
      "Training  : 100%|████████████████████████████████████| 14/14 [00:02<00:00,  6.61it/s, loss=0.043]\n",
      "Training  : 100%|███████████████████████████████████| 14/14 [00:02<00:00,  6.58it/s, loss=0.0398]\n",
      "Training  : 100%|███████████████████████████████████| 14/14 [00:02<00:00,  6.61it/s, loss=0.0389]\n",
      "Training  : 100%|███████████████████████████████████| 14/14 [00:02<00:00,  6.61it/s, loss=0.0436]\n",
      "Training  : 100%|███████████████████████████████████| 14/14 [00:02<00:00,  6.61it/s, loss=0.0407]\n",
      "Training  : 100%|███████████████████████████████████| 14/14 [00:02<00:00,  6.55it/s, loss=0.0423]\n",
      "Training  : 100%|███████████████████████████████████| 14/14 [00:02<00:00,  6.69it/s, loss=0.0385]\n",
      "Training  : 100%|███████████████████████████████████| 14/14 [00:02<00:00,  6.49it/s, loss=0.0446]\n",
      "Training  : 100%|███████████████████████████████████| 14/14 [00:02<00:00,  6.49it/s, loss=0.0446]\n",
      "Training  : 100%|███████████████████████████████████| 14/14 [00:02<00:00,  6.61it/s, loss=0.0418]\n",
      "Training  : 100%|███████████████████████████████████| 14/14 [00:02<00:00,  6.60it/s, loss=0.0393]\n",
      "Training  : 100%|███████████████████████████████████| 14/14 [00:02<00:00,  6.61it/s, loss=0.0452]\n",
      "Training  : 100%|███████████████████████████████████| 14/14 [00:02<00:00,  6.64it/s, loss=0.0425]\n",
      "Training  : 100%|███████████████████████████████████| 14/14 [00:02<00:00,  6.58it/s, loss=0.0426]\n",
      "Training  : 100%|███████████████████████████████████| 14/14 [00:02<00:00,  6.64it/s, loss=0.0428]\n",
      "Training  : 100%|███████████████████████████████████| 14/14 [00:02<00:00,  6.62it/s, loss=0.0411]\n",
      "Training  : 100%|███████████████████████████████████| 14/14 [00:02<00:00,  6.63it/s, loss=0.0409]\n",
      "Training  : 100%|███████████████████████████████████| 14/14 [00:02<00:00,  6.61it/s, loss=0.0387]\n",
      "Training  : 100%|███████████████████████████████████| 14/14 [00:02<00:00,  6.61it/s, loss=0.0417]\n",
      "Training  : 100%|███████████████████████████████████| 14/14 [00:02<00:00,  6.63it/s, loss=0.0386]\n",
      "Training  : 100%|███████████████████████████████████| 14/14 [00:02<00:00,  6.55it/s, loss=0.0398]\n",
      "Training  : 100%|███████████████████████████████████| 14/14 [00:02<00:00,  6.60it/s, loss=0.0393]\n",
      "Training  : 100%|███████████████████████████████████| 14/14 [00:02<00:00,  6.60it/s, loss=0.0454]\n",
      "Training  : 100%|███████████████████████████████████| 14/14 [00:02<00:00,  6.57it/s, loss=0.0447]\n",
      "Training  : 100%|███████████████████████████████████| 14/14 [00:02<00:00,  6.62it/s, loss=0.0429]\n",
      "Predicting: 100%|████████████████████████████████████████████████| 27/27 [00:00<00:00, 50.33it/s]\n"
     ]
    },
    {
     "name": "stdout",
     "output_type": "stream",
     "text": [
      "Building sklearn text classifier...\n",
      "Loading bert-base-uncased model...\n",
      "Defaulting to linear classifier/regressor\n",
      "Loading Pytorch checkpoint\n",
      "train data size: 428, validation data size: 0\n"
     ]
    },
    {
     "name": "stderr",
     "output_type": "stream",
     "text": [
      "Training  : 100%|████████████████████████████████████| 14/14 [00:02<00:00,  6.60it/s, loss=0.567]\n",
      "Training  : 100%|████████████████████████████████████| 14/14 [00:02<00:00,  6.63it/s, loss=0.335]\n",
      "Training  : 100%|████████████████████████████████████| 14/14 [00:02<00:00,  6.59it/s, loss=0.235]\n",
      "Training  : 100%|████████████████████████████████████| 14/14 [00:02<00:00,  6.66it/s, loss=0.205]\n",
      "Training  : 100%|████████████████████████████████████| 14/14 [00:02<00:00,  6.63it/s, loss=0.143]\n",
      "Training  : 100%|████████████████████████████████████| 14/14 [00:02<00:00,  6.60it/s, loss=0.137]\n",
      "Training  : 100%|███████████████████████████████████| 14/14 [00:02<00:00,  6.60it/s, loss=0.0952]\n",
      "Training  : 100%|███████████████████████████████████| 14/14 [00:02<00:00,  6.57it/s, loss=0.0923]\n",
      "Training  : 100%|███████████████████████████████████| 14/14 [00:02<00:00,  6.58it/s, loss=0.0957]\n",
      "Training  : 100%|███████████████████████████████████| 14/14 [00:02<00:00,  6.60it/s, loss=0.0884]\n",
      "Training  : 100%|███████████████████████████████████| 14/14 [00:02<00:00,  6.67it/s, loss=0.0742]\n",
      "Training  : 100%|███████████████████████████████████| 14/14 [00:02<00:00,  6.65it/s, loss=0.0814]\n",
      "Training  : 100%|███████████████████████████████████| 14/14 [00:02<00:00,  6.64it/s, loss=0.0734]\n",
      "Training  : 100%|███████████████████████████████████| 14/14 [00:02<00:00,  6.64it/s, loss=0.0625]\n",
      "Training  : 100%|███████████████████████████████████| 14/14 [00:02<00:00,  6.63it/s, loss=0.0683]\n",
      "Training  : 100%|███████████████████████████████████| 14/14 [00:02<00:00,  6.61it/s, loss=0.0675]\n",
      "Training  : 100%|███████████████████████████████████| 14/14 [00:02<00:00,  6.63it/s, loss=0.0747]\n",
      "Training  : 100%|███████████████████████████████████| 14/14 [00:02<00:00,  6.36it/s, loss=0.0606]\n",
      "Training  : 100%|███████████████████████████████████| 14/14 [00:02<00:00,  6.45it/s, loss=0.0583]\n",
      "Training  : 100%|████████████████████████████████████| 14/14 [00:02<00:00,  6.69it/s, loss=0.061]\n",
      "Training  : 100%|███████████████████████████████████| 14/14 [00:02<00:00,  6.59it/s, loss=0.0581]\n",
      "Training  : 100%|███████████████████████████████████| 14/14 [00:02<00:00,  6.60it/s, loss=0.0546]\n",
      "Training  : 100%|███████████████████████████████████| 14/14 [00:02<00:00,  6.57it/s, loss=0.0625]\n",
      "Training  : 100%|███████████████████████████████████| 14/14 [00:02<00:00,  6.43it/s, loss=0.0582]\n",
      "Training  : 100%|███████████████████████████████████| 14/14 [00:02<00:00,  6.57it/s, loss=0.0531]\n",
      "Training  : 100%|███████████████████████████████████| 14/14 [00:02<00:00,  6.62it/s, loss=0.0551]\n",
      "Training  : 100%|███████████████████████████████████| 14/14 [00:02<00:00,  6.55it/s, loss=0.0545]\n",
      "Training  : 100%|███████████████████████████████████| 14/14 [00:02<00:00,  6.60it/s, loss=0.0567]\n",
      "Training  : 100%|███████████████████████████████████| 14/14 [00:02<00:00,  6.59it/s, loss=0.0513]\n",
      "Training  : 100%|███████████████████████████████████| 14/14 [00:02<00:00,  6.57it/s, loss=0.0515]\n",
      "Training  : 100%|███████████████████████████████████| 14/14 [00:02<00:00,  6.65it/s, loss=0.0523]\n",
      "Training  : 100%|███████████████████████████████████| 14/14 [00:02<00:00,  6.57it/s, loss=0.0588]\n",
      "Training  : 100%|███████████████████████████████████| 14/14 [00:02<00:00,  6.48it/s, loss=0.0569]\n",
      "Training  : 100%|███████████████████████████████████| 14/14 [00:02<00:00,  6.48it/s, loss=0.0593]\n",
      "Training  : 100%|███████████████████████████████████| 14/14 [00:02<00:00,  6.64it/s, loss=0.0566]\n",
      "Training  : 100%|███████████████████████████████████| 14/14 [00:02<00:00,  6.66it/s, loss=0.0492]\n",
      "Training  : 100%|███████████████████████████████████| 14/14 [00:02<00:00,  6.56it/s, loss=0.0556]\n",
      "Training  : 100%|███████████████████████████████████| 14/14 [00:02<00:00,  6.68it/s, loss=0.0525]\n",
      "Training  : 100%|███████████████████████████████████| 14/14 [00:02<00:00,  6.65it/s, loss=0.0494]\n",
      "Training  : 100%|███████████████████████████████████| 14/14 [00:02<00:00,  6.62it/s, loss=0.0501]\n",
      "Training  : 100%|███████████████████████████████████| 14/14 [00:02<00:00,  6.54it/s, loss=0.0473]\n",
      "Training  : 100%|███████████████████████████████████| 14/14 [00:02<00:00,  6.65it/s, loss=0.0568]\n",
      "Training  : 100%|███████████████████████████████████| 14/14 [00:02<00:00,  6.56it/s, loss=0.0456]\n",
      "Training  : 100%|███████████████████████████████████| 14/14 [00:02<00:00,  6.64it/s, loss=0.0487]\n",
      "Training  : 100%|███████████████████████████████████| 14/14 [00:02<00:00,  6.55it/s, loss=0.0502]\n",
      "Training  : 100%|███████████████████████████████████| 14/14 [00:02<00:00,  6.64it/s, loss=0.0456]\n",
      "Training  : 100%|███████████████████████████████████| 14/14 [00:02<00:00,  6.64it/s, loss=0.0461]\n",
      "Training  : 100%|███████████████████████████████████| 14/14 [00:02<00:00,  6.69it/s, loss=0.0473]\n",
      "Training  : 100%|███████████████████████████████████| 14/14 [00:02<00:00,  6.62it/s, loss=0.0459]\n",
      "Training  : 100%|███████████████████████████████████| 14/14 [00:02<00:00,  6.62it/s, loss=0.0574]\n",
      "Training  : 100%|███████████████████████████████████| 14/14 [00:02<00:00,  6.63it/s, loss=0.0481]\n",
      "Training  : 100%|███████████████████████████████████| 14/14 [00:02<00:00,  6.66it/s, loss=0.0606]\n",
      "Training  : 100%|███████████████████████████████████| 14/14 [00:02<00:00,  6.60it/s, loss=0.0486]\n",
      "Training  : 100%|███████████████████████████████████| 14/14 [00:02<00:00,  6.52it/s, loss=0.0462]\n",
      "Training  : 100%|███████████████████████████████████| 14/14 [00:02<00:00,  6.64it/s, loss=0.0574]\n",
      "Training  : 100%|████████████████████████████████████| 14/14 [00:02<00:00,  6.60it/s, loss=0.046]\n",
      "Training  : 100%|███████████████████████████████████| 14/14 [00:02<00:00,  6.57it/s, loss=0.0592]\n",
      "Training  : 100%|███████████████████████████████████| 14/14 [00:02<00:00,  6.59it/s, loss=0.0471]\n",
      "Training  : 100%|███████████████████████████████████| 14/14 [00:02<00:00,  6.62it/s, loss=0.0453]\n",
      "Training  : 100%|███████████████████████████████████| 14/14 [00:02<00:00,  6.60it/s, loss=0.0451]\n",
      "Training  : 100%|███████████████████████████████████| 14/14 [00:02<00:00,  6.60it/s, loss=0.0514]\n",
      "Training  : 100%|███████████████████████████████████| 14/14 [00:02<00:00,  6.56it/s, loss=0.0471]\n",
      "Training  : 100%|███████████████████████████████████| 14/14 [00:02<00:00,  6.59it/s, loss=0.0482]\n",
      "Training  : 100%|███████████████████████████████████| 14/14 [00:02<00:00,  6.63it/s, loss=0.0585]\n",
      "Training  : 100%|███████████████████████████████████| 14/14 [00:02<00:00,  6.61it/s, loss=0.0486]\n",
      "Training  : 100%|████████████████████████████████████| 14/14 [00:02<00:00,  6.57it/s, loss=0.047]\n",
      "Training  : 100%|███████████████████████████████████| 14/14 [00:02<00:00,  6.63it/s, loss=0.0529]\n",
      "Training  : 100%|███████████████████████████████████| 14/14 [00:02<00:00,  6.60it/s, loss=0.0464]\n",
      "Training  : 100%|███████████████████████████████████| 14/14 [00:02<00:00,  6.59it/s, loss=0.0462]\n",
      "Training  : 100%|███████████████████████████████████| 14/14 [00:02<00:00,  6.61it/s, loss=0.0524]\n",
      "Training  : 100%|███████████████████████████████████| 14/14 [00:02<00:00,  6.64it/s, loss=0.0475]\n",
      "Training  : 100%|███████████████████████████████████| 14/14 [00:02<00:00,  6.60it/s, loss=0.0438]\n",
      "Training  : 100%|███████████████████████████████████| 14/14 [00:02<00:00,  6.60it/s, loss=0.0445]\n",
      "Training  : 100%|████████████████████████████████████| 14/14 [00:02<00:00,  6.62it/s, loss=0.045]\n",
      "Training  : 100%|███████████████████████████████████| 14/14 [00:02<00:00,  6.56it/s, loss=0.0472]\n",
      "Training  : 100%|███████████████████████████████████| 14/14 [00:02<00:00,  6.59it/s, loss=0.0453]\n",
      "Training  : 100%|███████████████████████████████████| 14/14 [00:02<00:00,  6.65it/s, loss=0.0511]\n",
      "Training  : 100%|███████████████████████████████████| 14/14 [00:02<00:00,  6.69it/s, loss=0.0472]\n",
      "Training  : 100%|███████████████████████████████████| 14/14 [00:02<00:00,  6.65it/s, loss=0.0526]\n",
      "Training  : 100%|███████████████████████████████████| 14/14 [00:02<00:00,  6.62it/s, loss=0.0469]\n",
      "Training  : 100%|████████████████████████████████████| 14/14 [00:02<00:00,  6.62it/s, loss=0.046]\n",
      "Training  : 100%|███████████████████████████████████| 14/14 [00:02<00:00,  6.57it/s, loss=0.0461]\n",
      "Training  : 100%|███████████████████████████████████| 14/14 [00:02<00:00,  6.61it/s, loss=0.0485]\n",
      "Training  : 100%|███████████████████████████████████| 14/14 [00:02<00:00,  6.61it/s, loss=0.0495]\n",
      "Training  : 100%|███████████████████████████████████| 14/14 [00:02<00:00,  6.61it/s, loss=0.0452]\n",
      "Training  : 100%|████████████████████████████████████| 14/14 [00:02<00:00,  6.69it/s, loss=0.046]\n",
      "Training  : 100%|███████████████████████████████████| 14/14 [00:02<00:00,  6.61it/s, loss=0.0449]\n",
      "Training  : 100%|███████████████████████████████████| 14/14 [00:02<00:00,  6.58it/s, loss=0.0498]\n",
      "Training  : 100%|███████████████████████████████████| 14/14 [00:02<00:00,  6.62it/s, loss=0.0499]\n",
      "Training  : 100%|███████████████████████████████████| 14/14 [00:02<00:00,  6.66it/s, loss=0.0448]\n",
      "Training  : 100%|███████████████████████████████████| 14/14 [00:02<00:00,  6.67it/s, loss=0.0488]\n",
      "Training  : 100%|███████████████████████████████████| 14/14 [00:02<00:00,  6.61it/s, loss=0.0484]\n",
      "Training  : 100%|███████████████████████████████████| 14/14 [00:02<00:00,  6.65it/s, loss=0.0471]\n",
      "Training  : 100%|███████████████████████████████████| 14/14 [00:02<00:00,  6.59it/s, loss=0.0439]\n",
      "Training  : 100%|███████████████████████████████████| 14/14 [00:02<00:00,  6.63it/s, loss=0.0454]\n",
      "Training  : 100%|███████████████████████████████████| 14/14 [00:02<00:00,  6.58it/s, loss=0.0452]\n",
      "Training  : 100%|███████████████████████████████████| 14/14 [00:02<00:00,  6.55it/s, loss=0.0463]\n",
      "Training  : 100%|███████████████████████████████████| 14/14 [00:02<00:00,  6.62it/s, loss=0.0493]\n",
      "Training  : 100%|███████████████████████████████████| 14/14 [00:02<00:00,  6.59it/s, loss=0.0472]\n",
      "Training  : 100%|███████████████████████████████████| 14/14 [00:02<00:00,  6.60it/s, loss=0.0487]\n",
      "Predicting: 100%|████████████████████████████████████████████████| 27/27 [00:00<00:00, 50.33it/s]\n"
     ]
    },
    {
     "name": "stdout",
     "output_type": "stream",
     "text": [
      "Building sklearn text classifier...\n",
      "Loading bert-base-uncased model...\n",
      "Defaulting to linear classifier/regressor\n",
      "Loading Pytorch checkpoint\n",
      "train data size: 428, validation data size: 0\n"
     ]
    },
    {
     "name": "stderr",
     "output_type": "stream",
     "text": [
      "Training  : 100%|████████████████████████████████████| 14/14 [00:02<00:00,  6.65it/s, loss=0.565]\n",
      "Training  : 100%|████████████████████████████████████| 14/14 [00:02<00:00,  6.59it/s, loss=0.338]\n",
      "Training  : 100%|████████████████████████████████████| 14/14 [00:02<00:00,  6.58it/s, loss=0.229]\n",
      "Training  : 100%|████████████████████████████████████| 14/14 [00:02<00:00,  6.69it/s, loss=0.199]\n",
      "Training  : 100%|████████████████████████████████████| 14/14 [00:02<00:00,  6.64it/s, loss=0.138]\n",
      "Training  : 100%|████████████████████████████████████| 14/14 [00:02<00:00,  6.63it/s, loss=0.135]\n",
      "Training  : 100%|████████████████████████████████████| 14/14 [00:02<00:00,  6.63it/s, loss=0.123]\n",
      "Training  : 100%|████████████████████████████████████| 14/14 [00:02<00:00,  6.64it/s, loss=0.107]\n",
      "Training  : 100%|████████████████████████████████████| 14/14 [00:02<00:00,  6.66it/s, loss=0.111]\n",
      "Training  : 100%|███████████████████████████████████| 14/14 [00:02<00:00,  6.59it/s, loss=0.0954]\n",
      "Training  : 100%|███████████████████████████████████| 14/14 [00:02<00:00,  6.59it/s, loss=0.0734]\n",
      "Training  : 100%|███████████████████████████████████| 14/14 [00:02<00:00,  6.59it/s, loss=0.0869]\n",
      "Training  : 100%|████████████████████████████████████| 14/14 [00:02<00:00,  6.63it/s, loss=0.072]\n",
      "Training  : 100%|███████████████████████████████████| 14/14 [00:02<00:00,  6.49it/s, loss=0.0661]\n",
      "Training  : 100%|███████████████████████████████████| 14/14 [00:02<00:00,  6.58it/s, loss=0.0651]\n",
      "Training  : 100%|███████████████████████████████████| 14/14 [00:02<00:00,  6.62it/s, loss=0.0645]\n",
      "Training  : 100%|███████████████████████████████████| 14/14 [00:02<00:00,  6.59it/s, loss=0.0617]\n",
      "Training  : 100%|███████████████████████████████████| 14/14 [00:02<00:00,  6.60it/s, loss=0.0643]\n",
      "Training  : 100%|███████████████████████████████████| 14/14 [00:02<00:00,  6.63it/s, loss=0.0683]\n",
      "Training  : 100%|███████████████████████████████████| 14/14 [00:02<00:00,  6.60it/s, loss=0.0573]\n",
      "Training  : 100%|███████████████████████████████████| 14/14 [00:02<00:00,  6.61it/s, loss=0.0569]\n",
      "Training  : 100%|███████████████████████████████████| 14/14 [00:02<00:00,  6.56it/s, loss=0.0589]\n",
      "Training  : 100%|███████████████████████████████████| 14/14 [00:02<00:00,  6.66it/s, loss=0.0617]\n",
      "Training  : 100%|███████████████████████████████████| 14/14 [00:02<00:00,  6.57it/s, loss=0.0717]\n",
      "Training  : 100%|████████████████████████████████████| 14/14 [00:02<00:00,  6.67it/s, loss=0.054]\n",
      "Training  : 100%|███████████████████████████████████| 14/14 [00:02<00:00,  6.60it/s, loss=0.0522]\n",
      "Training  : 100%|███████████████████████████████████| 14/14 [00:02<00:00,  6.62it/s, loss=0.0542]\n",
      "Training  : 100%|███████████████████████████████████| 14/14 [00:02<00:00,  6.59it/s, loss=0.0529]\n",
      "Training  : 100%|████████████████████████████████████| 14/14 [00:02<00:00,  6.57it/s, loss=0.051]\n",
      "Training  : 100%|███████████████████████████████████| 14/14 [00:02<00:00,  6.60it/s, loss=0.0575]\n",
      "Training  : 100%|███████████████████████████████████| 14/14 [00:02<00:00,  6.59it/s, loss=0.0509]\n",
      "Training  : 100%|███████████████████████████████████| 14/14 [00:02<00:00,  6.61it/s, loss=0.0682]\n",
      "Training  : 100%|███████████████████████████████████| 14/14 [00:02<00:00,  6.69it/s, loss=0.0576]\n",
      "Training  : 100%|███████████████████████████████████| 14/14 [00:02<00:00,  6.65it/s, loss=0.0671]\n",
      "Training  : 100%|███████████████████████████████████| 14/14 [00:02<00:00,  6.62it/s, loss=0.0602]\n",
      "Training  : 100%|███████████████████████████████████| 14/14 [00:02<00:00,  6.59it/s, loss=0.0533]\n",
      "Training  : 100%|████████████████████████████████████| 14/14 [00:02<00:00,  6.41it/s, loss=0.078]\n",
      "Training  : 100%|███████████████████████████████████| 14/14 [00:02<00:00,  6.51it/s, loss=0.0535]\n",
      "Training  : 100%|███████████████████████████████████| 14/14 [00:02<00:00,  6.58it/s, loss=0.0523]\n",
      "Training  : 100%|███████████████████████████████████| 14/14 [00:02<00:00,  6.59it/s, loss=0.0473]\n",
      "Training  : 100%|███████████████████████████████████| 14/14 [00:02<00:00,  6.62it/s, loss=0.0519]\n",
      "Training  : 100%|███████████████████████████████████| 14/14 [00:02<00:00,  6.60it/s, loss=0.0531]\n",
      "Training  : 100%|███████████████████████████████████| 14/14 [00:02<00:00,  6.61it/s, loss=0.0483]\n",
      "Training  : 100%|███████████████████████████████████| 14/14 [00:02<00:00,  6.60it/s, loss=0.0495]\n",
      "Training  : 100%|███████████████████████████████████| 14/14 [00:02<00:00,  6.59it/s, loss=0.0517]\n",
      "Training  : 100%|███████████████████████████████████| 14/14 [00:02<00:00,  6.59it/s, loss=0.0559]\n",
      "Training  : 100%|███████████████████████████████████| 14/14 [00:02<00:00,  6.64it/s, loss=0.0511]\n",
      "Training  : 100%|███████████████████████████████████| 14/14 [00:02<00:00,  6.62it/s, loss=0.0479]\n",
      "Training  : 100%|████████████████████████████████████| 14/14 [00:02<00:00,  6.62it/s, loss=0.049]\n",
      "Training  : 100%|███████████████████████████████████| 14/14 [00:02<00:00,  6.63it/s, loss=0.0578]\n",
      "Training  : 100%|███████████████████████████████████| 14/14 [00:02<00:00,  6.61it/s, loss=0.0496]\n",
      "Training  : 100%|███████████████████████████████████| 14/14 [00:02<00:00,  6.63it/s, loss=0.0545]\n",
      "Training  : 100%|███████████████████████████████████| 14/14 [00:02<00:00,  6.60it/s, loss=0.0488]\n",
      "Training  : 100%|███████████████████████████████████| 14/14 [00:02<00:00,  6.63it/s, loss=0.0532]\n",
      "Training  : 100%|████████████████████████████████████| 14/14 [00:02<00:00,  6.64it/s, loss=0.055]\n",
      "Training  : 100%|███████████████████████████████████| 14/14 [00:02<00:00,  6.65it/s, loss=0.0479]\n",
      "Training  : 100%|███████████████████████████████████| 14/14 [00:02<00:00,  6.68it/s, loss=0.0496]\n",
      "Training  : 100%|███████████████████████████████████| 14/14 [00:02<00:00,  6.59it/s, loss=0.0521]\n",
      "Training  : 100%|███████████████████████████████████| 14/14 [00:02<00:00,  6.60it/s, loss=0.0528]\n",
      "Training  : 100%|███████████████████████████████████| 14/14 [00:02<00:00,  6.64it/s, loss=0.0478]\n",
      "Training  : 100%|███████████████████████████████████| 14/14 [00:02<00:00,  6.65it/s, loss=0.0487]\n",
      "Training  : 100%|███████████████████████████████████| 14/14 [00:02<00:00,  6.58it/s, loss=0.0548]\n",
      "Training  : 100%|███████████████████████████████████| 14/14 [00:02<00:00,  6.58it/s, loss=0.0573]\n",
      "Training  : 100%|████████████████████████████████████| 14/14 [00:02<00:00,  6.64it/s, loss=0.059]\n",
      "Training  : 100%|███████████████████████████████████| 14/14 [00:02<00:00,  6.64it/s, loss=0.0519]\n",
      "Training  : 100%|████████████████████████████████████| 14/14 [00:02<00:00,  6.62it/s, loss=0.048]\n",
      "Training  : 100%|███████████████████████████████████| 14/14 [00:02<00:00,  6.57it/s, loss=0.0508]\n",
      "Training  : 100%|███████████████████████████████████| 14/14 [00:02<00:00,  6.58it/s, loss=0.0493]\n",
      "Training  : 100%|███████████████████████████████████| 14/14 [00:02<00:00,  6.62it/s, loss=0.0477]\n",
      "Training  : 100%|███████████████████████████████████| 14/14 [00:02<00:00,  6.61it/s, loss=0.0497]\n",
      "Training  : 100%|███████████████████████████████████| 14/14 [00:02<00:00,  6.62it/s, loss=0.0473]\n",
      "Training  : 100%|████████████████████████████████████| 14/14 [00:02<00:00,  6.64it/s, loss=0.047]\n",
      "Training  : 100%|███████████████████████████████████| 14/14 [00:02<00:00,  6.63it/s, loss=0.0478]\n",
      "Training  : 100%|███████████████████████████████████| 14/14 [00:02<00:00,  6.59it/s, loss=0.0461]\n",
      "Training  : 100%|███████████████████████████████████| 14/14 [00:02<00:00,  6.66it/s, loss=0.0475]\n",
      "Training  : 100%|███████████████████████████████████| 14/14 [00:02<00:00,  6.65it/s, loss=0.0454]\n",
      "Training  : 100%|███████████████████████████████████| 14/14 [00:02<00:00,  6.61it/s, loss=0.0513]\n",
      "Training  : 100%|███████████████████████████████████| 14/14 [00:02<00:00,  6.62it/s, loss=0.0492]\n",
      "Training  : 100%|███████████████████████████████████| 14/14 [00:02<00:00,  6.61it/s, loss=0.0509]\n",
      "Training  : 100%|███████████████████████████████████| 14/14 [00:02<00:00,  6.40it/s, loss=0.0604]\n",
      "Training  : 100%|███████████████████████████████████| 14/14 [00:02<00:00,  6.53it/s, loss=0.0488]\n",
      "Training  : 100%|███████████████████████████████████| 14/14 [00:02<00:00,  6.55it/s, loss=0.0489]\n",
      "Training  : 100%|███████████████████████████████████| 14/14 [00:02<00:00,  6.65it/s, loss=0.0502]\n",
      "Training  : 100%|████████████████████████████████████| 14/14 [00:02<00:00,  6.59it/s, loss=0.047]\n",
      "Training  : 100%|███████████████████████████████████| 14/14 [00:02<00:00,  6.56it/s, loss=0.0473]\n",
      "Training  : 100%|████████████████████████████████████| 14/14 [00:02<00:00,  6.56it/s, loss=0.051]\n",
      "Training  : 100%|███████████████████████████████████| 14/14 [00:02<00:00,  6.60it/s, loss=0.0472]\n",
      "Training  : 100%|███████████████████████████████████| 14/14 [00:02<00:00,  6.63it/s, loss=0.0474]\n",
      "Training  : 100%|███████████████████████████████████| 14/14 [00:02<00:00,  6.60it/s, loss=0.0511]\n",
      "Training  : 100%|███████████████████████████████████| 14/14 [00:02<00:00,  6.61it/s, loss=0.0476]\n",
      "Training  : 100%|███████████████████████████████████| 14/14 [00:02<00:00,  6.57it/s, loss=0.0473]\n",
      "Training  : 100%|███████████████████████████████████| 14/14 [00:02<00:00,  6.67it/s, loss=0.0486]\n",
      "Training  : 100%|███████████████████████████████████| 14/14 [00:02<00:00,  6.59it/s, loss=0.0454]\n",
      "Training  : 100%|███████████████████████████████████| 14/14 [00:02<00:00,  6.59it/s, loss=0.0449]\n",
      "Training  : 100%|███████████████████████████████████| 14/14 [00:02<00:00,  6.63it/s, loss=0.0476]\n",
      "Training  : 100%|███████████████████████████████████| 14/14 [00:02<00:00,  6.70it/s, loss=0.0461]\n",
      "Training  : 100%|███████████████████████████████████| 14/14 [00:02<00:00,  6.63it/s, loss=0.0475]\n",
      "Training  : 100%|███████████████████████████████████| 14/14 [00:02<00:00,  6.63it/s, loss=0.0536]\n",
      "Training  : 100%|███████████████████████████████████| 14/14 [00:02<00:00,  6.59it/s, loss=0.0484]\n",
      "Training  : 100%|████████████████████████████████████| 14/14 [00:02<00:00,  6.62it/s, loss=0.052]\n",
      "Predicting: 100%|████████████████████████████████████████████████| 27/27 [00:00<00:00, 50.43it/s]\n"
     ]
    },
    {
     "name": "stdout",
     "output_type": "stream",
     "text": [
      "Building sklearn text classifier...\n",
      "Loading bert-base-uncased model...\n",
      "Defaulting to linear classifier/regressor\n",
      "Loading Pytorch checkpoint\n",
      "train data size: 428, validation data size: 0\n"
     ]
    },
    {
     "name": "stderr",
     "output_type": "stream",
     "text": [
      "Training  : 100%|████████████████████████████████████| 14/14 [00:02<00:00,  6.56it/s, loss=0.581]\n",
      "Training  : 100%|████████████████████████████████████| 14/14 [00:02<00:00,  6.69it/s, loss=0.324]\n",
      "Training  : 100%|████████████████████████████████████| 14/14 [00:02<00:00,  6.61it/s, loss=0.226]\n",
      "Training  : 100%|████████████████████████████████████| 14/14 [00:02<00:00,  6.61it/s, loss=0.169]\n",
      "Training  : 100%|████████████████████████████████████| 14/14 [00:02<00:00,  6.55it/s, loss=0.121]\n",
      "Training  : 100%|████████████████████████████████████| 14/14 [00:02<00:00,  6.64it/s, loss=0.114]\n",
      "Training  : 100%|████████████████████████████████████| 14/14 [00:02<00:00,  6.61it/s, loss=0.103]\n",
      "Training  : 100%|███████████████████████████████████| 14/14 [00:02<00:00,  6.62it/s, loss=0.0798]\n",
      "Training  : 100%|███████████████████████████████████| 14/14 [00:02<00:00,  6.67it/s, loss=0.0941]\n",
      "Training  : 100%|███████████████████████████████████| 14/14 [00:02<00:00,  6.67it/s, loss=0.0707]\n",
      "Training  : 100%|████████████████████████████████████| 14/14 [00:02<00:00,  6.62it/s, loss=0.053]\n",
      "Training  : 100%|███████████████████████████████████| 14/14 [00:02<00:00,  6.57it/s, loss=0.0627]\n",
      "Training  : 100%|███████████████████████████████████| 14/14 [00:02<00:00,  6.64it/s, loss=0.0613]\n",
      "Training  : 100%|███████████████████████████████████| 14/14 [00:02<00:00,  6.32it/s, loss=0.0578]\n",
      "Training  : 100%|███████████████████████████████████| 14/14 [00:02<00:00,  6.34it/s, loss=0.0505]\n",
      "Training  : 100%|███████████████████████████████████| 14/14 [00:02<00:00,  6.64it/s, loss=0.0527]\n",
      "Training  : 100%|███████████████████████████████████| 14/14 [00:02<00:00,  6.63it/s, loss=0.0495]\n",
      "Training  : 100%|███████████████████████████████████| 14/14 [00:02<00:00,  6.62it/s, loss=0.0456]\n",
      "Training  : 100%|███████████████████████████████████| 14/14 [00:02<00:00,  6.67it/s, loss=0.0439]\n",
      "Training  : 100%|███████████████████████████████████| 14/14 [00:02<00:00,  6.65it/s, loss=0.0468]\n",
      "Training  : 100%|███████████████████████████████████| 14/14 [00:02<00:00,  6.67it/s, loss=0.0421]\n",
      "Training  : 100%|███████████████████████████████████| 14/14 [00:02<00:00,  6.62it/s, loss=0.0418]\n",
      "Training  : 100%|███████████████████████████████████| 14/14 [00:02<00:00,  6.64it/s, loss=0.0471]\n",
      "Training  : 100%|███████████████████████████████████| 14/14 [00:02<00:00,  6.62it/s, loss=0.0429]\n",
      "Training  : 100%|███████████████████████████████████| 14/14 [00:02<00:00,  6.60it/s, loss=0.0393]\n",
      "Training  : 100%|███████████████████████████████████| 14/14 [00:02<00:00,  6.62it/s, loss=0.0399]\n",
      "Training  : 100%|███████████████████████████████████| 14/14 [00:02<00:00,  6.68it/s, loss=0.0417]\n",
      "Training  : 100%|███████████████████████████████████| 14/14 [00:02<00:00,  6.54it/s, loss=0.0462]\n",
      "Training  : 100%|███████████████████████████████████| 14/14 [00:02<00:00,  6.62it/s, loss=0.0389]\n",
      "Training  : 100%|███████████████████████████████████| 14/14 [00:02<00:00,  6.61it/s, loss=0.0496]\n",
      "Training  : 100%|███████████████████████████████████| 14/14 [00:02<00:00,  6.60it/s, loss=0.0527]\n",
      "Training  : 100%|███████████████████████████████████| 14/14 [00:02<00:00,  6.54it/s, loss=0.0397]\n",
      "Training  : 100%|███████████████████████████████████| 14/14 [00:02<00:00,  6.63it/s, loss=0.0466]\n",
      "Training  : 100%|███████████████████████████████████| 14/14 [00:02<00:00,  6.60it/s, loss=0.0406]\n",
      "Training  : 100%|███████████████████████████████████| 14/14 [00:02<00:00,  6.63it/s, loss=0.0401]\n",
      "Training  : 100%|███████████████████████████████████| 14/14 [00:02<00:00,  6.60it/s, loss=0.0452]\n",
      "Training  : 100%|███████████████████████████████████| 14/14 [00:02<00:00,  6.62it/s, loss=0.0468]\n",
      "Training  : 100%|███████████████████████████████████| 14/14 [00:02<00:00,  6.64it/s, loss=0.0424]\n",
      "Training  : 100%|███████████████████████████████████| 14/14 [00:02<00:00,  6.61it/s, loss=0.0382]\n",
      "Training  : 100%|███████████████████████████████████| 14/14 [00:02<00:00,  6.61it/s, loss=0.0381]\n",
      "Training  : 100%|███████████████████████████████████| 14/14 [00:02<00:00,  6.64it/s, loss=0.0427]\n",
      "Training  : 100%|███████████████████████████████████| 14/14 [00:02<00:00,  6.64it/s, loss=0.0417]\n",
      "Training  : 100%|███████████████████████████████████| 14/14 [00:02<00:00,  6.61it/s, loss=0.0461]\n",
      "Training  : 100%|███████████████████████████████████| 14/14 [00:02<00:00,  6.64it/s, loss=0.0388]\n",
      "Training  : 100%|███████████████████████████████████| 14/14 [00:02<00:00,  6.63it/s, loss=0.0384]\n",
      "Training  : 100%|███████████████████████████████████| 14/14 [00:02<00:00,  6.64it/s, loss=0.0458]\n",
      "Training  : 100%|███████████████████████████████████| 14/14 [00:02<00:00,  6.57it/s, loss=0.0439]\n",
      "Training  : 100%|███████████████████████████████████| 14/14 [00:02<00:00,  6.60it/s, loss=0.0439]\n",
      "Training  : 100%|███████████████████████████████████| 14/14 [00:02<00:00,  6.62it/s, loss=0.0396]\n",
      "Training  : 100%|███████████████████████████████████| 14/14 [00:02<00:00,  6.59it/s, loss=0.0404]\n",
      "Training  : 100%|███████████████████████████████████| 14/14 [00:02<00:00,  6.56it/s, loss=0.0426]\n",
      "Training  : 100%|███████████████████████████████████| 14/14 [00:02<00:00,  6.64it/s, loss=0.0396]\n",
      "Training  : 100%|███████████████████████████████████| 14/14 [00:02<00:00,  6.66it/s, loss=0.0383]\n",
      "Training  : 100%|███████████████████████████████████| 14/14 [00:02<00:00,  6.64it/s, loss=0.0414]\n",
      "Training  : 100%|███████████████████████████████████| 14/14 [00:02<00:00,  6.62it/s, loss=0.0411]\n",
      "Training  : 100%|███████████████████████████████████| 14/14 [00:02<00:00,  6.65it/s, loss=0.0402]\n",
      "Training  : 100%|███████████████████████████████████| 14/14 [00:02<00:00,  6.58it/s, loss=0.0376]\n",
      "Training  : 100%|███████████████████████████████████| 14/14 [00:02<00:00,  6.62it/s, loss=0.0408]\n",
      "Training  : 100%|███████████████████████████████████| 14/14 [00:02<00:00,  6.59it/s, loss=0.0442]\n",
      "Training  : 100%|███████████████████████████████████| 14/14 [00:02<00:00,  6.60it/s, loss=0.0406]\n",
      "Training  : 100%|███████████████████████████████████| 14/14 [00:02<00:00,  6.58it/s, loss=0.0398]\n",
      "Training  : 100%|███████████████████████████████████| 14/14 [00:02<00:00,  6.65it/s, loss=0.0451]\n",
      "Training  : 100%|███████████████████████████████████| 14/14 [00:02<00:00,  6.63it/s, loss=0.0411]\n",
      "Training  : 100%|███████████████████████████████████| 14/14 [00:02<00:00,  6.65it/s, loss=0.0414]\n",
      "Training  : 100%|███████████████████████████████████| 14/14 [00:02<00:00,  6.64it/s, loss=0.0441]\n",
      "Training  : 100%|███████████████████████████████████| 14/14 [00:02<00:00,  6.63it/s, loss=0.0394]\n",
      "Training  : 100%|███████████████████████████████████| 14/14 [00:02<00:00,  6.66it/s, loss=0.0398]\n",
      "Training  : 100%|███████████████████████████████████| 14/14 [00:02<00:00,  6.59it/s, loss=0.0381]\n",
      "Training  : 100%|███████████████████████████████████| 14/14 [00:02<00:00,  6.65it/s, loss=0.0396]\n",
      "Training  : 100%|███████████████████████████████████| 14/14 [00:02<00:00,  6.67it/s, loss=0.0383]\n",
      "Training  : 100%|████████████████████████████████████| 14/14 [00:02<00:00,  6.61it/s, loss=0.039]\n",
      "Training  : 100%|███████████████████████████████████| 14/14 [00:02<00:00,  6.62it/s, loss=0.0399]\n",
      "Training  : 100%|████████████████████████████████████| 14/14 [00:02<00:00,  6.59it/s, loss=0.045]\n",
      "Training  : 100%|███████████████████████████████████| 14/14 [00:02<00:00,  6.62it/s, loss=0.0429]\n",
      "Training  : 100%|███████████████████████████████████| 14/14 [00:02<00:00,  6.57it/s, loss=0.0402]\n",
      "Training  : 100%|███████████████████████████████████| 14/14 [00:02<00:00,  6.51it/s, loss=0.0404]\n",
      "Training  : 100%|███████████████████████████████████| 14/14 [00:02<00:00,  6.58it/s, loss=0.0481]\n",
      "Training  : 100%|███████████████████████████████████| 14/14 [00:02<00:00,  6.63it/s, loss=0.0409]\n",
      "Training  : 100%|███████████████████████████████████| 14/14 [00:02<00:00,  6.55it/s, loss=0.0386]\n",
      "Training  : 100%|███████████████████████████████████| 14/14 [00:02<00:00,  6.67it/s, loss=0.0469]\n",
      "Training  : 100%|███████████████████████████████████| 14/14 [00:02<00:00,  6.65it/s, loss=0.0409]\n",
      "Training  : 100%|███████████████████████████████████| 14/14 [00:02<00:00,  6.65it/s, loss=0.0429]\n",
      "Training  : 100%|████████████████████████████████████| 14/14 [00:02<00:00,  6.66it/s, loss=0.044]\n",
      "Training  : 100%|███████████████████████████████████| 14/14 [00:02<00:00,  6.65it/s, loss=0.0375]\n",
      "Training  : 100%|█████████████████████████████████████| 14/14 [00:02<00:00,  6.63it/s, loss=0.04]\n",
      "Training  : 100%|█████████████████████████████████████| 14/14 [00:02<00:00,  6.65it/s, loss=0.05]\n",
      "Training  : 100%|███████████████████████████████████| 14/14 [00:02<00:00,  6.62it/s, loss=0.0395]\n",
      "Training  : 100%|███████████████████████████████████| 14/14 [00:02<00:00,  6.61it/s, loss=0.0399]\n",
      "Training  : 100%|███████████████████████████████████| 14/14 [00:02<00:00,  6.64it/s, loss=0.0397]\n",
      "Training  : 100%|███████████████████████████████████| 14/14 [00:02<00:00,  6.65it/s, loss=0.0425]\n",
      "Training  : 100%|███████████████████████████████████| 14/14 [00:02<00:00,  6.68it/s, loss=0.0382]\n",
      "Training  : 100%|███████████████████████████████████| 14/14 [00:02<00:00,  6.58it/s, loss=0.0374]\n",
      "Training  : 100%|███████████████████████████████████| 14/14 [00:02<00:00,  6.60it/s, loss=0.0382]\n",
      "Training  : 100%|███████████████████████████████████| 14/14 [00:02<00:00,  6.60it/s, loss=0.0383]\n",
      "Training  : 100%|███████████████████████████████████| 14/14 [00:02<00:00,  6.58it/s, loss=0.0386]\n",
      "Training  : 100%|███████████████████████████████████| 14/14 [00:02<00:00,  6.60it/s, loss=0.0393]\n",
      "Training  : 100%|███████████████████████████████████| 14/14 [00:02<00:00,  6.56it/s, loss=0.0387]\n",
      "Training  : 100%|███████████████████████████████████| 14/14 [00:02<00:00,  6.65it/s, loss=0.0463]\n",
      "Training  : 100%|███████████████████████████████████| 14/14 [00:02<00:00,  6.58it/s, loss=0.0394]\n",
      "Training  : 100%|███████████████████████████████████| 14/14 [00:02<00:00,  6.60it/s, loss=0.0509]\n",
      "Predicting: 100%|████████████████████████████████████████████████| 27/27 [00:00<00:00, 50.35it/s]\n"
     ]
    },
    {
     "name": "stdout",
     "output_type": "stream",
     "text": [
      "Building sklearn text classifier...\n",
      "Loading bert-base-uncased model...\n",
      "Defaulting to linear classifier/regressor\n",
      "Loading Pytorch checkpoint\n",
      "train data size: 428, validation data size: 0\n"
     ]
    },
    {
     "name": "stderr",
     "output_type": "stream",
     "text": [
      "Training  : 100%|█████████████████████████████████████| 14/14 [00:02<00:00,  6.64it/s, loss=0.54]\n",
      "Training  : 100%|████████████████████████████████████| 14/14 [00:02<00:00,  6.60it/s, loss=0.302]\n",
      "Training  : 100%|████████████████████████████████████| 14/14 [00:02<00:00,  6.56it/s, loss=0.225]\n",
      "Training  : 100%|████████████████████████████████████| 14/14 [00:02<00:00,  6.64it/s, loss=0.175]\n",
      "Training  : 100%|████████████████████████████████████| 14/14 [00:02<00:00,  6.69it/s, loss=0.118]\n",
      "Training  : 100%|████████████████████████████████████| 14/14 [00:02<00:00,  6.55it/s, loss=0.108]\n",
      "Training  : 100%|███████████████████████████████████| 14/14 [00:02<00:00,  6.68it/s, loss=0.0792]\n",
      "Training  : 100%|███████████████████████████████████| 14/14 [00:02<00:00,  6.63it/s, loss=0.0784]\n",
      "Training  : 100%|███████████████████████████████████| 14/14 [00:02<00:00,  6.60it/s, loss=0.0709]\n",
      "Training  : 100%|███████████████████████████████████| 14/14 [00:02<00:00,  6.65it/s, loss=0.0699]\n",
      "Training  : 100%|███████████████████████████████████| 14/14 [00:02<00:00,  6.62it/s, loss=0.0598]\n",
      "Training  : 100%|███████████████████████████████████| 14/14 [00:02<00:00,  6.63it/s, loss=0.0707]\n",
      "Training  : 100%|████████████████████████████████████| 14/14 [00:02<00:00,  6.60it/s, loss=0.068]\n",
      "Training  : 100%|███████████████████████████████████| 14/14 [00:02<00:00,  6.59it/s, loss=0.0557]\n",
      "Training  : 100%|███████████████████████████████████| 14/14 [00:02<00:00,  6.67it/s, loss=0.0535]\n",
      "Training  : 100%|███████████████████████████████████| 14/14 [00:02<00:00,  6.67it/s, loss=0.0587]\n",
      "Training  : 100%|███████████████████████████████████| 14/14 [00:02<00:00,  6.67it/s, loss=0.0512]\n",
      "Training  : 100%|███████████████████████████████████| 14/14 [00:02<00:00,  6.63it/s, loss=0.0546]\n",
      "Training  : 100%|███████████████████████████████████| 14/14 [00:02<00:00,  6.67it/s, loss=0.0566]\n",
      "Training  : 100%|███████████████████████████████████| 14/14 [00:02<00:00,  6.67it/s, loss=0.0534]\n",
      "Training  : 100%|███████████████████████████████████| 14/14 [00:02<00:00,  6.66it/s, loss=0.0517]\n",
      "Training  : 100%|███████████████████████████████████| 14/14 [00:02<00:00,  6.64it/s, loss=0.0515]\n",
      "Training  : 100%|███████████████████████████████████| 14/14 [00:02<00:00,  6.61it/s, loss=0.0545]\n",
      "Training  : 100%|███████████████████████████████████| 14/14 [00:02<00:00,  6.60it/s, loss=0.0542]\n",
      "Training  : 100%|███████████████████████████████████| 14/14 [00:02<00:00,  6.62it/s, loss=0.0516]\n",
      "Training  : 100%|███████████████████████████████████| 14/14 [00:02<00:00,  6.64it/s, loss=0.0518]\n",
      "Training  : 100%|████████████████████████████████████| 14/14 [00:02<00:00,  6.64it/s, loss=0.049]\n",
      "Training  : 100%|███████████████████████████████████| 14/14 [00:02<00:00,  6.69it/s, loss=0.0542]\n",
      "Training  : 100%|███████████████████████████████████| 14/14 [00:02<00:00,  6.56it/s, loss=0.0519]\n",
      "Training  : 100%|█████████████████████████████████████| 14/14 [00:02<00:00,  6.58it/s, loss=0.05]\n",
      "Training  : 100%|███████████████████████████████████| 14/14 [00:02<00:00,  6.45it/s, loss=0.0499]\n",
      "Training  : 100%|███████████████████████████████████| 14/14 [00:02<00:00,  6.39it/s, loss=0.0538]\n",
      "Training  : 100%|███████████████████████████████████| 14/14 [00:02<00:00,  6.55it/s, loss=0.0555]\n",
      "Training  : 100%|███████████████████████████████████| 14/14 [00:02<00:00,  6.63it/s, loss=0.0592]\n",
      "Training  : 100%|███████████████████████████████████| 14/14 [00:02<00:00,  6.65it/s, loss=0.0541]\n",
      "Training  : 100%|███████████████████████████████████| 14/14 [00:02<00:00,  6.64it/s, loss=0.0465]\n",
      "Training  : 100%|███████████████████████████████████| 14/14 [00:02<00:00,  6.62it/s, loss=0.0558]\n",
      "Training  : 100%|███████████████████████████████████| 14/14 [00:02<00:00,  6.58it/s, loss=0.0489]\n",
      "Training  : 100%|███████████████████████████████████| 14/14 [00:02<00:00,  6.66it/s, loss=0.0467]\n",
      "Training  : 100%|███████████████████████████████████| 14/14 [00:02<00:00,  6.66it/s, loss=0.0497]\n",
      "Training  : 100%|███████████████████████████████████| 14/14 [00:02<00:00,  6.65it/s, loss=0.0477]\n",
      "Training  : 100%|███████████████████████████████████| 14/14 [00:02<00:00,  6.61it/s, loss=0.0529]\n",
      "Training  : 100%|████████████████████████████████████| 14/14 [00:02<00:00,  6.66it/s, loss=0.048]\n",
      "Training  : 100%|███████████████████████████████████| 14/14 [00:02<00:00,  6.60it/s, loss=0.0478]\n",
      "Training  : 100%|███████████████████████████████████| 14/14 [00:02<00:00,  6.61it/s, loss=0.0479]\n",
      "Training  : 100%|███████████████████████████████████| 14/14 [00:02<00:00,  6.61it/s, loss=0.0501]\n",
      "Training  : 100%|███████████████████████████████████| 14/14 [00:02<00:00,  6.60it/s, loss=0.0478]\n",
      "Training  : 100%|███████████████████████████████████| 14/14 [00:02<00:00,  6.67it/s, loss=0.0482]\n",
      "Training  : 100%|███████████████████████████████████| 14/14 [00:02<00:00,  6.57it/s, loss=0.0477]\n",
      "Training  : 100%|███████████████████████████████████| 14/14 [00:02<00:00,  6.62it/s, loss=0.0523]\n",
      "Training  : 100%|█████████████████████████████████████| 14/14 [00:02<00:00,  6.66it/s, loss=0.05]\n",
      "Training  : 100%|███████████████████████████████████| 14/14 [00:02<00:00,  6.61it/s, loss=0.0575]\n",
      "Training  : 100%|███████████████████████████████████| 14/14 [00:02<00:00,  6.60it/s, loss=0.0454]\n",
      "Training  : 100%|███████████████████████████████████| 14/14 [00:02<00:00,  6.67it/s, loss=0.0473]\n",
      "Training  : 100%|███████████████████████████████████| 14/14 [00:02<00:00,  6.60it/s, loss=0.0547]\n",
      "Training  : 100%|███████████████████████████████████| 14/14 [00:02<00:00,  6.62it/s, loss=0.0462]\n",
      "Training  : 100%|███████████████████████████████████| 14/14 [00:02<00:00,  6.65it/s, loss=0.0523]\n",
      "Training  : 100%|███████████████████████████████████| 14/14 [00:02<00:00,  6.65it/s, loss=0.0446]\n",
      "Training  : 100%|███████████████████████████████████| 14/14 [00:02<00:00,  6.62it/s, loss=0.0452]\n",
      "Training  : 100%|███████████████████████████████████| 14/14 [00:02<00:00,  6.62it/s, loss=0.0465]\n",
      "Training  : 100%|███████████████████████████████████| 14/14 [00:02<00:00,  6.61it/s, loss=0.0515]\n",
      "Training  : 100%|████████████████████████████████████| 14/14 [00:02<00:00,  6.64it/s, loss=0.046]\n",
      "Training  : 100%|███████████████████████████████████| 14/14 [00:02<00:00,  6.61it/s, loss=0.0497]\n",
      "Training  : 100%|███████████████████████████████████| 14/14 [00:02<00:00,  6.59it/s, loss=0.0562]\n",
      "Training  : 100%|███████████████████████████████████| 14/14 [00:02<00:00,  6.59it/s, loss=0.0459]\n",
      "Training  : 100%|███████████████████████████████████| 14/14 [00:02<00:00,  6.65it/s, loss=0.0456]\n",
      "Training  : 100%|███████████████████████████████████| 14/14 [00:02<00:00,  6.60it/s, loss=0.0537]\n",
      "Training  : 100%|███████████████████████████████████| 14/14 [00:02<00:00,  6.67it/s, loss=0.0468]\n",
      "Training  : 100%|███████████████████████████████████| 14/14 [00:02<00:00,  6.68it/s, loss=0.0483]\n",
      "Training  : 100%|███████████████████████████████████| 14/14 [00:02<00:00,  6.63it/s, loss=0.0522]\n",
      "Training  : 100%|███████████████████████████████████| 14/14 [00:02<00:00,  6.65it/s, loss=0.0463]\n",
      "Training  : 100%|███████████████████████████████████| 14/14 [00:02<00:00,  6.60it/s, loss=0.0478]\n",
      "Training  : 100%|████████████████████████████████████| 14/14 [00:02<00:00,  6.64it/s, loss=0.046]\n",
      "Training  : 100%|███████████████████████████████████| 14/14 [00:02<00:00,  6.63it/s, loss=0.0463]\n",
      "Training  : 100%|███████████████████████████████████| 14/14 [00:02<00:00,  6.66it/s, loss=0.0496]\n",
      "Training  : 100%|███████████████████████████████████| 14/14 [00:02<00:00,  6.60it/s, loss=0.0465]\n",
      "Training  : 100%|███████████████████████████████████| 14/14 [00:02<00:00,  6.66it/s, loss=0.0514]\n",
      "Training  : 100%|███████████████████████████████████| 14/14 [00:02<00:00,  6.62it/s, loss=0.0485]\n",
      "Training  : 100%|███████████████████████████████████| 14/14 [00:02<00:00,  6.62it/s, loss=0.0514]\n",
      "Training  : 100%|███████████████████████████████████| 14/14 [00:02<00:00,  6.56it/s, loss=0.0473]\n",
      "Training  : 100%|███████████████████████████████████| 14/14 [00:02<00:00,  6.61it/s, loss=0.0465]\n",
      "Training  : 100%|███████████████████████████████████| 14/14 [00:02<00:00,  6.61it/s, loss=0.0474]\n",
      "Training  : 100%|███████████████████████████████████| 14/14 [00:02<00:00,  6.63it/s, loss=0.0457]\n",
      "Training  : 100%|███████████████████████████████████| 14/14 [00:02<00:00,  6.60it/s, loss=0.0487]\n",
      "Training  : 100%|███████████████████████████████████| 14/14 [00:02<00:00,  6.64it/s, loss=0.0463]\n",
      "Training  : 100%|███████████████████████████████████| 14/14 [00:02<00:00,  6.62it/s, loss=0.0486]\n",
      "Training  : 100%|███████████████████████████████████| 14/14 [00:02<00:00,  6.64it/s, loss=0.0448]\n",
      "Training  : 100%|███████████████████████████████████| 14/14 [00:02<00:00,  6.59it/s, loss=0.0471]\n",
      "Training  : 100%|███████████████████████████████████| 14/14 [00:02<00:00,  6.63it/s, loss=0.0471]\n",
      "Training  : 100%|███████████████████████████████████| 14/14 [00:02<00:00,  6.60it/s, loss=0.0459]\n",
      "Training  : 100%|███████████████████████████████████| 14/14 [00:02<00:00,  6.67it/s, loss=0.0446]\n",
      "Training  : 100%|███████████████████████████████████| 14/14 [00:02<00:00,  6.60it/s, loss=0.0476]\n",
      "Training  : 100%|███████████████████████████████████| 14/14 [00:02<00:00,  6.62it/s, loss=0.0482]\n",
      "Training  : 100%|███████████████████████████████████| 14/14 [00:02<00:00,  6.59it/s, loss=0.0447]\n",
      "Training  : 100%|███████████████████████████████████| 14/14 [00:02<00:00,  6.67it/s, loss=0.0443]\n",
      "Training  : 100%|███████████████████████████████████| 14/14 [00:02<00:00,  6.65it/s, loss=0.0441]\n",
      "Training  : 100%|███████████████████████████████████| 14/14 [00:02<00:00,  6.56it/s, loss=0.0451]\n",
      "Training  : 100%|███████████████████████████████████| 14/14 [00:02<00:00,  6.68it/s, loss=0.0478]\n",
      "Training  : 100%|███████████████████████████████████| 14/14 [00:02<00:00,  6.62it/s, loss=0.0458]\n",
      "Training  : 100%|███████████████████████████████████| 14/14 [00:02<00:00,  6.59it/s, loss=0.0444]\n",
      "Predicting: 100%|████████████████████████████████████████████████| 27/27 [00:00<00:00, 50.35it/s]\n"
     ]
    },
    {
     "name": "stdout",
     "output_type": "stream",
     "text": [
      "Building sklearn text classifier...\n",
      "Loading bert-base-uncased model...\n",
      "Defaulting to linear classifier/regressor\n",
      "Loading Pytorch checkpoint\n",
      "train data size: 428, validation data size: 0\n"
     ]
    },
    {
     "name": "stderr",
     "output_type": "stream",
     "text": [
      "Training  : 100%|████████████████████████████████████| 14/14 [00:02<00:00,  6.56it/s, loss=0.541]\n",
      "Training  : 100%|████████████████████████████████████| 14/14 [00:02<00:00,  6.58it/s, loss=0.315]\n",
      "Training  : 100%|████████████████████████████████████| 14/14 [00:02<00:00,  6.64it/s, loss=0.237]\n",
      "Training  : 100%|████████████████████████████████████| 14/14 [00:02<00:00,  6.65it/s, loss=0.205]\n",
      "Training  : 100%|████████████████████████████████████| 14/14 [00:02<00:00,  6.66it/s, loss=0.152]\n",
      "Training  : 100%|████████████████████████████████████| 14/14 [00:02<00:00,  6.64it/s, loss=0.104]\n",
      "Training  : 100%|████████████████████████████████████| 14/14 [00:02<00:00,  6.60it/s, loss=0.126]\n",
      "Training  : 100%|████████████████████████████████████| 14/14 [00:02<00:00,  6.65it/s, loss=0.105]\n",
      "Training  : 100%|███████████████████████████████████| 14/14 [00:02<00:00,  6.60it/s, loss=0.0882]\n",
      "Training  : 100%|███████████████████████████████████| 14/14 [00:02<00:00,  6.27it/s, loss=0.0767]\n",
      "Training  : 100%|███████████████████████████████████| 14/14 [00:02<00:00,  6.36it/s, loss=0.0873]\n",
      "Training  : 100%|███████████████████████████████████| 14/14 [00:02<00:00,  6.64it/s, loss=0.0753]\n",
      "Training  : 100%|███████████████████████████████████| 14/14 [00:02<00:00,  6.61it/s, loss=0.0858]\n",
      "Training  : 100%|███████████████████████████████████| 14/14 [00:02<00:00,  6.58it/s, loss=0.0669]\n",
      "Training  : 100%|███████████████████████████████████| 14/14 [00:02<00:00,  6.64it/s, loss=0.0661]\n",
      "Training  : 100%|████████████████████████████████████| 14/14 [00:02<00:00,  6.65it/s, loss=0.066]\n",
      "Training  : 100%|███████████████████████████████████| 14/14 [00:02<00:00,  6.59it/s, loss=0.0611]\n",
      "Training  : 100%|███████████████████████████████████| 14/14 [00:02<00:00,  6.63it/s, loss=0.0659]\n",
      "Training  : 100%|███████████████████████████████████| 14/14 [00:02<00:00,  6.67it/s, loss=0.0728]\n",
      "Training  : 100%|███████████████████████████████████| 14/14 [00:02<00:00,  6.58it/s, loss=0.0703]\n",
      "Training  : 100%|███████████████████████████████████| 14/14 [00:02<00:00,  6.61it/s, loss=0.0644]\n",
      "Training  : 100%|███████████████████████████████████| 14/14 [00:02<00:00,  6.64it/s, loss=0.0607]\n",
      "Training  : 100%|███████████████████████████████████| 14/14 [00:02<00:00,  6.64it/s, loss=0.0566]\n",
      "Training  : 100%|████████████████████████████████████| 14/14 [00:02<00:00,  6.67it/s, loss=0.064]\n",
      "Training  : 100%|███████████████████████████████████| 14/14 [00:02<00:00,  6.60it/s, loss=0.0527]\n",
      "Training  : 100%|███████████████████████████████████| 14/14 [00:02<00:00,  6.61it/s, loss=0.0563]\n",
      "Training  : 100%|███████████████████████████████████| 14/14 [00:02<00:00,  6.62it/s, loss=0.0521]\n",
      "Training  : 100%|███████████████████████████████████| 14/14 [00:02<00:00,  6.57it/s, loss=0.0521]\n",
      "Training  : 100%|███████████████████████████████████| 14/14 [00:02<00:00,  6.62it/s, loss=0.0497]\n",
      "Training  : 100%|███████████████████████████████████| 14/14 [00:02<00:00,  6.64it/s, loss=0.0573]\n",
      "Training  : 100%|███████████████████████████████████| 14/14 [00:02<00:00,  6.68it/s, loss=0.0501]\n",
      "Training  : 100%|███████████████████████████████████| 14/14 [00:02<00:00,  6.65it/s, loss=0.0618]\n",
      "Training  : 100%|███████████████████████████████████| 14/14 [00:02<00:00,  6.61it/s, loss=0.0563]\n",
      "Training  : 100%|███████████████████████████████████| 14/14 [00:02<00:00,  6.59it/s, loss=0.0576]\n",
      "Training  : 100%|███████████████████████████████████| 14/14 [00:02<00:00,  6.60it/s, loss=0.0565]\n",
      "Training  : 100%|███████████████████████████████████| 14/14 [00:02<00:00,  6.65it/s, loss=0.0477]\n",
      "Training  : 100%|████████████████████████████████████| 14/14 [00:02<00:00,  6.65it/s, loss=0.067]\n",
      "Training  : 100%|███████████████████████████████████| 14/14 [00:02<00:00,  6.62it/s, loss=0.0516]\n",
      "Training  : 100%|███████████████████████████████████| 14/14 [00:02<00:00,  6.64it/s, loss=0.0473]\n",
      "Training  : 100%|███████████████████████████████████| 14/14 [00:02<00:00,  6.59it/s, loss=0.0476]\n",
      "Training  : 100%|███████████████████████████████████| 14/14 [00:02<00:00,  6.60it/s, loss=0.0486]\n",
      "Training  : 100%|███████████████████████████████████| 14/14 [00:02<00:00,  6.63it/s, loss=0.0485]\n",
      "Training  : 100%|███████████████████████████████████| 14/14 [00:02<00:00,  6.56it/s, loss=0.0492]\n",
      "Training  : 100%|███████████████████████████████████| 14/14 [00:02<00:00,  6.62it/s, loss=0.0494]\n",
      "Training  : 100%|███████████████████████████████████| 14/14 [00:02<00:00,  6.60it/s, loss=0.0526]\n",
      "Training  : 100%|███████████████████████████████████| 14/14 [00:02<00:00,  6.69it/s, loss=0.0525]\n",
      "Training  : 100%|███████████████████████████████████| 14/14 [00:02<00:00,  6.62it/s, loss=0.0521]\n",
      "Training  : 100%|███████████████████████████████████| 14/14 [00:02<00:00,  6.64it/s, loss=0.0495]\n",
      "Training  : 100%|███████████████████████████████████| 14/14 [00:02<00:00,  6.63it/s, loss=0.0487]\n",
      "Training  : 100%|███████████████████████████████████| 14/14 [00:02<00:00,  6.61it/s, loss=0.0578]\n",
      "Training  : 100%|███████████████████████████████████| 14/14 [00:02<00:00,  6.62it/s, loss=0.0519]\n",
      "Training  : 100%|███████████████████████████████████| 14/14 [00:02<00:00,  6.65it/s, loss=0.0501]\n",
      "Training  : 100%|███████████████████████████████████| 14/14 [00:02<00:00,  6.65it/s, loss=0.0472]\n",
      "Training  : 100%|████████████████████████████████████| 14/14 [00:02<00:00,  6.62it/s, loss=0.053]\n",
      "Training  : 100%|███████████████████████████████████| 14/14 [00:02<00:00,  6.61it/s, loss=0.0598]\n",
      "Training  : 100%|███████████████████████████████████| 14/14 [00:02<00:00,  6.60it/s, loss=0.0478]\n",
      "Training  : 100%|███████████████████████████████████| 14/14 [00:02<00:00,  6.59it/s, loss=0.0484]\n",
      "Training  : 100%|███████████████████████████████████| 14/14 [00:02<00:00,  6.62it/s, loss=0.0495]\n",
      "Training  : 100%|███████████████████████████████████| 14/14 [00:02<00:00,  6.60it/s, loss=0.0513]\n",
      "Training  : 100%|███████████████████████████████████| 14/14 [00:02<00:00,  6.61it/s, loss=0.0508]\n",
      "Training  : 100%|███████████████████████████████████| 14/14 [00:02<00:00,  6.63it/s, loss=0.0539]\n",
      "Training  : 100%|███████████████████████████████████| 14/14 [00:02<00:00,  6.64it/s, loss=0.0498]\n",
      "Training  : 100%|███████████████████████████████████| 14/14 [00:02<00:00,  6.68it/s, loss=0.0556]\n",
      "Training  : 100%|█████████████████████████████████████| 14/14 [00:02<00:00,  6.60it/s, loss=0.06]\n",
      "Training  : 100%|███████████████████████████████████| 14/14 [00:02<00:00,  6.58it/s, loss=0.0504]\n",
      "Training  : 100%|███████████████████████████████████| 14/14 [00:02<00:00,  6.63it/s, loss=0.0488]\n",
      "Training  : 100%|███████████████████████████████████| 14/14 [00:02<00:00,  6.64it/s, loss=0.0504]\n",
      "Training  : 100%|███████████████████████████████████| 14/14 [00:02<00:00,  6.56it/s, loss=0.0487]\n",
      "Training  : 100%|████████████████████████████████████| 14/14 [00:02<00:00,  6.56it/s, loss=0.048]\n",
      "Training  : 100%|███████████████████████████████████| 14/14 [00:02<00:00,  6.60it/s, loss=0.0505]\n",
      "Training  : 100%|███████████████████████████████████| 14/14 [00:02<00:00,  6.66it/s, loss=0.0476]\n",
      "Training  : 100%|███████████████████████████████████| 14/14 [00:02<00:00,  6.62it/s, loss=0.0488]\n",
      "Training  : 100%|███████████████████████████████████| 14/14 [00:02<00:00,  6.64it/s, loss=0.0487]\n",
      "Training  : 100%|███████████████████████████████████| 14/14 [00:02<00:00,  6.54it/s, loss=0.0473]\n",
      "Training  : 100%|████████████████████████████████████| 14/14 [00:02<00:00,  6.66it/s, loss=0.047]\n",
      "Training  : 100%|███████████████████████████████████| 14/14 [00:02<00:00,  6.62it/s, loss=0.0475]\n",
      "Training  : 100%|███████████████████████████████████| 14/14 [00:02<00:00,  6.63it/s, loss=0.0533]\n",
      "Training  : 100%|███████████████████████████████████| 14/14 [00:02<00:00,  6.60it/s, loss=0.0479]\n",
      "Training  : 100%|███████████████████████████████████| 14/14 [00:02<00:00,  6.62it/s, loss=0.0492]\n",
      "Training  : 100%|███████████████████████████████████| 14/14 [00:02<00:00,  6.60it/s, loss=0.0596]\n",
      "Training  : 100%|███████████████████████████████████| 14/14 [00:02<00:00,  6.65it/s, loss=0.0499]\n",
      "Training  : 100%|███████████████████████████████████| 14/14 [00:02<00:00,  6.64it/s, loss=0.0487]\n",
      "Training  : 100%|████████████████████████████████████| 14/14 [00:02<00:00,  6.61it/s, loss=0.049]\n",
      "Training  : 100%|███████████████████████████████████| 14/14 [00:02<00:00,  6.53it/s, loss=0.0485]\n",
      "Training  : 100%|███████████████████████████████████| 14/14 [00:02<00:00,  6.66it/s, loss=0.0471]\n",
      "Training  : 100%|███████████████████████████████████| 14/14 [00:02<00:00,  6.63it/s, loss=0.0502]\n",
      "Training  : 100%|███████████████████████████████████| 14/14 [00:02<00:00,  6.63it/s, loss=0.0476]\n",
      "Training  : 100%|███████████████████████████████████| 14/14 [00:02<00:00,  6.65it/s, loss=0.0477]\n",
      "Training  : 100%|████████████████████████████████████| 14/14 [00:02<00:00,  6.63it/s, loss=0.051]\n",
      "Training  : 100%|███████████████████████████████████| 14/14 [00:02<00:00,  6.67it/s, loss=0.0452]\n",
      "Training  : 100%|███████████████████████████████████| 14/14 [00:02<00:00,  6.61it/s, loss=0.0467]\n",
      "Training  : 100%|███████████████████████████████████| 14/14 [00:02<00:00,  6.65it/s, loss=0.0494]\n",
      "Training  : 100%|███████████████████████████████████| 14/14 [00:02<00:00,  6.45it/s, loss=0.0472]\n",
      "Training  : 100%|███████████████████████████████████| 14/14 [00:02<00:00,  6.64it/s, loss=0.0469]\n",
      "Training  : 100%|███████████████████████████████████| 14/14 [00:02<00:00,  6.65it/s, loss=0.0477]\n",
      "Training  : 100%|███████████████████████████████████| 14/14 [00:02<00:00,  6.61it/s, loss=0.0458]\n",
      "Training  : 100%|███████████████████████████████████| 14/14 [00:02<00:00,  6.64it/s, loss=0.0467]\n",
      "Training  : 100%|███████████████████████████████████| 14/14 [00:02<00:00,  6.62it/s, loss=0.0517]\n",
      "Training  : 100%|███████████████████████████████████| 14/14 [00:02<00:00,  6.65it/s, loss=0.0475]\n",
      "Training  : 100%|███████████████████████████████████| 14/14 [00:02<00:00,  6.64it/s, loss=0.0489]\n",
      "Predicting: 100%|████████████████████████████████████████████████| 27/27 [00:00<00:00, 51.42it/s]\n"
     ]
    },
    {
     "name": "stdout",
     "output_type": "stream",
     "text": [
      "Building sklearn text classifier...\n",
      "Loading bert-base-uncased model...\n",
      "Defaulting to linear classifier/regressor\n",
      "Loading Pytorch checkpoint\n",
      "train data size: 428, validation data size: 0\n"
     ]
    },
    {
     "name": "stderr",
     "output_type": "stream",
     "text": [
      "Training  : 100%|████████████████████████████████████| 14/14 [00:02<00:00,  6.56it/s, loss=0.561]\n",
      "Training  : 100%|████████████████████████████████████| 14/14 [00:02<00:00,  6.63it/s, loss=0.285]\n",
      "Training  : 100%|████████████████████████████████████| 14/14 [00:02<00:00,  6.64it/s, loss=0.253]\n",
      "Training  : 100%|████████████████████████████████████| 14/14 [00:02<00:00,  6.68it/s, loss=0.199]\n",
      "Training  : 100%|████████████████████████████████████| 14/14 [00:02<00:00,  6.66it/s, loss=0.139]\n",
      "Training  : 100%|████████████████████████████████████| 14/14 [00:02<00:00,  6.65it/s, loss=0.122]\n",
      "Training  : 100%|███████████████████████████████████| 14/14 [00:02<00:00,  6.63it/s, loss=0.0941]\n",
      "Training  : 100%|███████████████████████████████████| 14/14 [00:02<00:00,  6.60it/s, loss=0.0774]\n",
      "Training  : 100%|███████████████████████████████████| 14/14 [00:02<00:00,  6.65it/s, loss=0.0829]\n",
      "Training  : 100%|███████████████████████████████████| 14/14 [00:02<00:00,  6.71it/s, loss=0.0613]\n",
      "Training  : 100%|███████████████████████████████████| 14/14 [00:02<00:00,  6.65it/s, loss=0.0753]\n",
      "Training  : 100%|███████████████████████████████████| 14/14 [00:02<00:00,  6.57it/s, loss=0.0619]\n",
      "Training  : 100%|███████████████████████████████████| 14/14 [00:02<00:00,  6.65it/s, loss=0.0528]\n",
      "Training  : 100%|███████████████████████████████████| 14/14 [00:02<00:00,  6.65it/s, loss=0.0474]\n",
      "Training  : 100%|███████████████████████████████████| 14/14 [00:02<00:00,  6.61it/s, loss=0.0499]\n",
      "Training  : 100%|███████████████████████████████████| 14/14 [00:02<00:00,  6.67it/s, loss=0.0506]\n",
      "Training  : 100%|████████████████████████████████████| 14/14 [00:02<00:00,  6.61it/s, loss=0.052]\n",
      "Training  : 100%|███████████████████████████████████| 14/14 [00:02<00:00,  6.62it/s, loss=0.0453]\n",
      "Training  : 100%|███████████████████████████████████| 14/14 [00:02<00:00,  6.62it/s, loss=0.0456]\n",
      "Training  : 100%|███████████████████████████████████| 14/14 [00:02<00:00,  6.63it/s, loss=0.0512]\n",
      "Training  : 100%|███████████████████████████████████| 14/14 [00:02<00:00,  6.57it/s, loss=0.0371]\n",
      "Training  : 100%|███████████████████████████████████| 14/14 [00:02<00:00,  6.64it/s, loss=0.0429]\n",
      "Training  : 100%|███████████████████████████████████| 14/14 [00:02<00:00,  6.62it/s, loss=0.0446]\n",
      "Training  : 100%|███████████████████████████████████| 14/14 [00:02<00:00,  6.57it/s, loss=0.0408]\n",
      "Training  : 100%|███████████████████████████████████| 14/14 [00:02<00:00,  6.59it/s, loss=0.0431]\n",
      "Training  : 100%|███████████████████████████████████| 14/14 [00:02<00:00,  6.68it/s, loss=0.0423]\n",
      "Training  : 100%|███████████████████████████████████| 14/14 [00:02<00:00,  6.64it/s, loss=0.0424]\n",
      "Training  : 100%|███████████████████████████████████| 14/14 [00:02<00:00,  6.66it/s, loss=0.0423]\n",
      "Training  : 100%|███████████████████████████████████| 14/14 [00:02<00:00,  6.67it/s, loss=0.0397]\n",
      "Training  : 100%|███████████████████████████████████| 14/14 [00:02<00:00,  6.64it/s, loss=0.0461]\n",
      "Training  : 100%|███████████████████████████████████| 14/14 [00:02<00:00,  6.63it/s, loss=0.0514]\n",
      "Training  : 100%|███████████████████████████████████| 14/14 [00:02<00:00,  6.63it/s, loss=0.0435]\n",
      "Training  : 100%|███████████████████████████████████| 14/14 [00:02<00:00,  6.65it/s, loss=0.0458]\n",
      "Training  : 100%|█████████████████████████████████████| 14/14 [00:02<00:00,  6.68it/s, loss=0.04]\n",
      "Training  : 100%|███████████████████████████████████| 14/14 [00:02<00:00,  6.62it/s, loss=0.0406]\n",
      "Training  : 100%|███████████████████████████████████| 14/14 [00:02<00:00,  6.62it/s, loss=0.0448]\n",
      "Training  : 100%|███████████████████████████████████| 14/14 [00:02<00:00,  6.56it/s, loss=0.0483]\n",
      "Training  : 100%|███████████████████████████████████| 14/14 [00:02<00:00,  6.56it/s, loss=0.0419]\n",
      "Training  : 100%|███████████████████████████████████| 14/14 [00:02<00:00,  6.61it/s, loss=0.0401]\n",
      "Training  : 100%|███████████████████████████████████| 14/14 [00:02<00:00,  6.64it/s, loss=0.0363]\n",
      "Training  : 100%|███████████████████████████████████| 14/14 [00:02<00:00,  6.62it/s, loss=0.0462]\n",
      "Training  : 100%|███████████████████████████████████| 14/14 [00:02<00:00,  6.70it/s, loss=0.0401]\n",
      "Training  : 100%|████████████████████████████████████| 14/14 [00:02<00:00,  6.57it/s, loss=0.047]\n",
      "Training  : 100%|███████████████████████████████████| 14/14 [00:02<00:00,  6.63it/s, loss=0.0422]\n",
      "Training  : 100%|████████████████████████████████████| 14/14 [00:02<00:00,  6.63it/s, loss=0.039]\n",
      "Training  : 100%|███████████████████████████████████| 14/14 [00:02<00:00,  6.62it/s, loss=0.0444]\n",
      "Training  : 100%|████████████████████████████████████| 14/14 [00:02<00:00,  6.62it/s, loss=0.048]\n",
      "Training  : 100%|████████████████████████████████████| 14/14 [00:02<00:00,  6.67it/s, loss=0.038]\n",
      "Training  : 100%|███████████████████████████████████| 14/14 [00:02<00:00,  6.62it/s, loss=0.0402]\n",
      "Training  : 100%|███████████████████████████████████| 14/14 [00:02<00:00,  6.62it/s, loss=0.0406]\n",
      "Training  : 100%|███████████████████████████████████| 14/14 [00:02<00:00,  6.69it/s, loss=0.0456]\n",
      "Training  : 100%|███████████████████████████████████| 14/14 [00:02<00:00,  6.66it/s, loss=0.0371]\n",
      "Training  : 100%|███████████████████████████████████| 14/14 [00:02<00:00,  6.59it/s, loss=0.0405]\n",
      "Training  : 100%|████████████████████████████████████| 14/14 [00:02<00:00,  6.65it/s, loss=0.041]\n",
      "Training  : 100%|███████████████████████████████████| 14/14 [00:02<00:00,  6.60it/s, loss=0.0365]\n",
      "Training  : 100%|███████████████████████████████████| 14/14 [00:02<00:00,  6.60it/s, loss=0.0383]\n",
      "Training  : 100%|███████████████████████████████████| 14/14 [00:02<00:00,  6.57it/s, loss=0.0405]\n",
      "Training  : 100%|███████████████████████████████████| 14/14 [00:02<00:00,  6.58it/s, loss=0.0423]\n",
      "Training  : 100%|███████████████████████████████████| 14/14 [00:02<00:00,  6.64it/s, loss=0.0449]\n",
      "Training  : 100%|████████████████████████████████████| 14/14 [00:02<00:00,  6.71it/s, loss=0.037]\n",
      "Training  : 100%|███████████████████████████████████| 14/14 [00:02<00:00,  6.59it/s, loss=0.0405]\n",
      "Training  : 100%|███████████████████████████████████| 14/14 [00:02<00:00,  6.58it/s, loss=0.0444]\n",
      "Training  : 100%|███████████████████████████████████| 14/14 [00:02<00:00,  6.57it/s, loss=0.0406]\n",
      "Training  : 100%|███████████████████████████████████| 14/14 [00:02<00:00,  6.61it/s, loss=0.0405]\n",
      "Training  : 100%|███████████████████████████████████| 14/14 [00:02<00:00,  6.59it/s, loss=0.0443]\n",
      "Training  : 100%|███████████████████████████████████| 14/14 [00:02<00:00,  6.62it/s, loss=0.0416]\n",
      "Training  : 100%|███████████████████████████████████| 14/14 [00:02<00:00,  6.61it/s, loss=0.0396]\n",
      "Training  : 100%|███████████████████████████████████| 14/14 [00:02<00:00,  6.56it/s, loss=0.0418]\n",
      "Training  : 100%|███████████████████████████████████| 14/14 [00:02<00:00,  6.60it/s, loss=0.0409]\n",
      "Training  : 100%|███████████████████████████████████| 14/14 [00:02<00:00,  6.66it/s, loss=0.0381]\n",
      "Training  : 100%|███████████████████████████████████| 14/14 [00:02<00:00,  6.55it/s, loss=0.0396]\n",
      "Training  : 100%|███████████████████████████████████| 14/14 [00:02<00:00,  6.60it/s, loss=0.0398]\n",
      "Training  : 100%|███████████████████████████████████| 14/14 [00:02<00:00,  6.51it/s, loss=0.0407]\n",
      "Training  : 100%|███████████████████████████████████| 14/14 [00:02<00:00,  6.56it/s, loss=0.0454]\n",
      "Training  : 100%|███████████████████████████████████| 14/14 [00:02<00:00,  6.60it/s, loss=0.0366]\n",
      "Training  : 100%|███████████████████████████████████| 14/14 [00:02<00:00,  6.57it/s, loss=0.0409]\n",
      "Training  : 100%|███████████████████████████████████| 14/14 [00:02<00:00,  6.66it/s, loss=0.0459]\n",
      "Training  : 100%|███████████████████████████████████| 14/14 [00:02<00:00,  6.63it/s, loss=0.0427]\n",
      "Training  : 100%|███████████████████████████████████| 14/14 [00:02<00:00,  6.66it/s, loss=0.0378]\n",
      "Training  : 100%|███████████████████████████████████| 14/14 [00:02<00:00,  6.61it/s, loss=0.0481]\n",
      "Training  : 100%|███████████████████████████████████| 14/14 [00:02<00:00,  6.60it/s, loss=0.0408]\n",
      "Training  : 100%|███████████████████████████████████| 14/14 [00:02<00:00,  6.56it/s, loss=0.0409]\n",
      "Training  : 100%|███████████████████████████████████| 14/14 [00:02<00:00,  6.66it/s, loss=0.0418]\n",
      "Training  : 100%|███████████████████████████████████| 14/14 [00:02<00:00,  6.64it/s, loss=0.0383]\n",
      "Training  : 100%|████████████████████████████████████| 14/14 [00:02<00:00,  6.61it/s, loss=0.039]\n",
      "Training  : 100%|███████████████████████████████████| 14/14 [00:02<00:00,  6.60it/s, loss=0.0545]\n",
      "Training  : 100%|███████████████████████████████████| 14/14 [00:02<00:00,  6.61it/s, loss=0.0397]\n",
      "Training  : 100%|████████████████████████████████████| 14/14 [00:02<00:00,  6.62it/s, loss=0.042]\n",
      "Training  : 100%|███████████████████████████████████| 14/14 [00:02<00:00,  6.61it/s, loss=0.0369]\n",
      "Training  : 100%|███████████████████████████████████| 14/14 [00:02<00:00,  6.64it/s, loss=0.0444]\n",
      "Training  : 100%|███████████████████████████████████| 14/14 [00:02<00:00,  6.64it/s, loss=0.0401]\n",
      "Training  : 100%|███████████████████████████████████| 14/14 [00:02<00:00,  6.62it/s, loss=0.0379]\n",
      "Training  : 100%|█████████████████████████████████████| 14/14 [00:02<00:00,  6.70it/s, loss=0.04]\n",
      "Training  : 100%|███████████████████████████████████| 14/14 [00:02<00:00,  6.59it/s, loss=0.0381]\n",
      "Training  : 100%|███████████████████████████████████| 14/14 [00:02<00:00,  6.63it/s, loss=0.0392]\n",
      "Training  : 100%|███████████████████████████████████| 14/14 [00:02<00:00,  6.60it/s, loss=0.0399]\n",
      "Training  : 100%|███████████████████████████████████| 14/14 [00:02<00:00,  6.58it/s, loss=0.0387]\n",
      "Training  : 100%|███████████████████████████████████| 14/14 [00:02<00:00,  6.61it/s, loss=0.0508]\n",
      "Training  : 100%|███████████████████████████████████| 14/14 [00:02<00:00,  6.67it/s, loss=0.0404]\n",
      "Training  : 100%|████████████████████████████████████| 14/14 [00:02<00:00,  6.65it/s, loss=0.051]\n",
      "Predicting: 100%|████████████████████████████████████████████████| 27/27 [00:00<00:00, 50.10it/s]\n"
     ]
    },
    {
     "name": "stdout",
     "output_type": "stream",
     "text": [
      "Building sklearn text classifier...\n",
      "Loading bert-base-uncased model...\n",
      "Defaulting to linear classifier/regressor\n",
      "Loading Pytorch checkpoint\n",
      "train data size: 428, validation data size: 0\n"
     ]
    },
    {
     "name": "stderr",
     "output_type": "stream",
     "text": [
      "Training  : 100%|████████████████████████████████████| 14/14 [00:02<00:00,  6.58it/s, loss=0.591]\n",
      "Training  : 100%|█████████████████████████████████████| 14/14 [00:02<00:00,  6.55it/s, loss=0.41]\n",
      "Training  : 100%|█████████████████████████████████████| 14/14 [00:02<00:00,  6.60it/s, loss=0.27]\n",
      "Training  : 100%|████████████████████████████████████| 14/14 [00:02<00:00,  6.56it/s, loss=0.222]\n",
      "Training  : 100%|█████████████████████████████████████| 14/14 [00:02<00:00,  6.58it/s, loss=0.17]\n",
      "Training  : 100%|████████████████████████████████████| 14/14 [00:02<00:00,  6.54it/s, loss=0.143]\n",
      "Training  : 100%|████████████████████████████████████| 14/14 [00:02<00:00,  6.31it/s, loss=0.118]\n",
      "Training  : 100%|███████████████████████████████████| 14/14 [00:02<00:00,  6.55it/s, loss=0.0994]\n",
      "Training  : 100%|███████████████████████████████████| 14/14 [00:02<00:00,  6.69it/s, loss=0.0973]\n",
      "Training  : 100%|███████████████████████████████████| 14/14 [00:02<00:00,  6.60it/s, loss=0.0985]\n",
      "Training  : 100%|███████████████████████████████████| 14/14 [00:02<00:00,  6.61it/s, loss=0.0841]\n",
      "Training  : 100%|████████████████████████████████████| 14/14 [00:02<00:00,  6.60it/s, loss=0.095]\n",
      "Training  : 100%|████████████████████████████████████| 14/14 [00:02<00:00,  6.58it/s, loss=0.101]\n",
      "Training  : 100%|███████████████████████████████████| 14/14 [00:02<00:00,  6.61it/s, loss=0.0802]\n",
      "Training  : 100%|███████████████████████████████████| 14/14 [00:02<00:00,  6.61it/s, loss=0.0745]\n",
      "Training  : 100%|████████████████████████████████████| 14/14 [00:02<00:00,  6.51it/s, loss=0.076]\n",
      "Training  : 100%|███████████████████████████████████| 14/14 [00:02<00:00,  6.60it/s, loss=0.0684]\n",
      "Training  : 100%|███████████████████████████████████| 14/14 [00:02<00:00,  6.61it/s, loss=0.0704]\n",
      "Training  : 100%|███████████████████████████████████| 14/14 [00:02<00:00,  6.68it/s, loss=0.0647]\n",
      "Training  : 100%|███████████████████████████████████| 14/14 [00:02<00:00,  6.66it/s, loss=0.0705]\n",
      "Training  : 100%|███████████████████████████████████| 14/14 [00:02<00:00,  6.63it/s, loss=0.0639]\n",
      "Training  : 100%|███████████████████████████████████| 14/14 [00:02<00:00,  6.56it/s, loss=0.0636]\n",
      "Training  : 100%|███████████████████████████████████| 14/14 [00:02<00:00,  6.64it/s, loss=0.0668]\n",
      "Training  : 100%|███████████████████████████████████| 14/14 [00:02<00:00,  6.62it/s, loss=0.0658]\n",
      "Training  : 100%|███████████████████████████████████| 14/14 [00:02<00:00,  6.56it/s, loss=0.0587]\n",
      "Training  : 100%|███████████████████████████████████| 14/14 [00:02<00:00,  6.68it/s, loss=0.0581]\n",
      "Training  : 100%|███████████████████████████████████| 14/14 [00:02<00:00,  6.61it/s, loss=0.0586]\n",
      "Training  : 100%|███████████████████████████████████| 14/14 [00:02<00:00,  6.60it/s, loss=0.0592]\n",
      "Training  : 100%|███████████████████████████████████| 14/14 [00:02<00:00,  6.61it/s, loss=0.0608]\n",
      "Training  : 100%|███████████████████████████████████| 14/14 [00:02<00:00,  6.63it/s, loss=0.0562]\n",
      "Training  : 100%|███████████████████████████████████| 14/14 [00:02<00:00,  6.61it/s, loss=0.0617]\n",
      "Training  : 100%|████████████████████████████████████| 14/14 [00:02<00:00,  6.64it/s, loss=0.068]\n",
      "Training  : 100%|████████████████████████████████████| 14/14 [00:02<00:00,  6.62it/s, loss=0.065]\n",
      "Training  : 100%|███████████████████████████████████| 14/14 [00:02<00:00,  6.61it/s, loss=0.0711]\n",
      "Training  : 100%|███████████████████████████████████| 14/14 [00:02<00:00,  6.60it/s, loss=0.0592]\n",
      "Training  : 100%|███████████████████████████████████| 14/14 [00:02<00:00,  6.63it/s, loss=0.0463]\n",
      "Training  : 100%|███████████████████████████████████| 14/14 [00:02<00:00,  6.60it/s, loss=0.0628]\n",
      "Training  : 100%|███████████████████████████████████| 14/14 [00:02<00:00,  6.61it/s, loss=0.0529]\n",
      "Training  : 100%|███████████████████████████████████| 14/14 [00:02<00:00,  6.60it/s, loss=0.0503]\n",
      "Training  : 100%|███████████████████████████████████| 14/14 [00:02<00:00,  6.62it/s, loss=0.0526]\n",
      "Training  : 100%|███████████████████████████████████| 14/14 [00:02<00:00,  6.67it/s, loss=0.0483]\n",
      "Training  : 100%|███████████████████████████████████| 14/14 [00:02<00:00,  6.66it/s, loss=0.0544]\n",
      "Training  : 100%|███████████████████████████████████| 14/14 [00:02<00:00,  6.61it/s, loss=0.0466]\n",
      "Training  : 100%|███████████████████████████████████| 14/14 [00:02<00:00,  6.65it/s, loss=0.0542]\n",
      "Training  : 100%|███████████████████████████████████| 14/14 [00:02<00:00,  6.65it/s, loss=0.0488]\n",
      "Training  : 100%|███████████████████████████████████| 14/14 [00:02<00:00,  6.61it/s, loss=0.0525]\n",
      "Training  : 100%|███████████████████████████████████| 14/14 [00:02<00:00,  6.70it/s, loss=0.0552]\n",
      "Training  : 100%|████████████████████████████████████| 14/14 [00:02<00:00,  6.65it/s, loss=0.051]\n",
      "Training  : 100%|████████████████████████████████████| 14/14 [00:02<00:00,  6.60it/s, loss=0.056]\n",
      "Training  : 100%|███████████████████████████████████| 14/14 [00:02<00:00,  6.64it/s, loss=0.0534]\n",
      "Training  : 100%|███████████████████████████████████| 14/14 [00:02<00:00,  6.59it/s, loss=0.0516]\n",
      "Training  : 100%|███████████████████████████████████| 14/14 [00:02<00:00,  6.59it/s, loss=0.0641]\n",
      "Training  : 100%|███████████████████████████████████| 14/14 [00:02<00:00,  6.56it/s, loss=0.0492]\n",
      "Training  : 100%|███████████████████████████████████| 14/14 [00:02<00:00,  6.57it/s, loss=0.0495]\n",
      "Training  : 100%|███████████████████████████████████| 14/14 [00:02<00:00,  6.61it/s, loss=0.0579]\n",
      "Training  : 100%|███████████████████████████████████| 14/14 [00:02<00:00,  6.56it/s, loss=0.0479]\n",
      "Training  : 100%|████████████████████████████████████| 14/14 [00:02<00:00,  6.62it/s, loss=0.052]\n",
      "Training  : 100%|███████████████████████████████████| 14/14 [00:02<00:00,  6.65it/s, loss=0.0488]\n",
      "Training  : 100%|████████████████████████████████████| 14/14 [00:02<00:00,  6.63it/s, loss=0.046]\n",
      "Training  : 100%|███████████████████████████████████| 14/14 [00:02<00:00,  6.57it/s, loss=0.0473]\n",
      "Training  : 100%|███████████████████████████████████| 14/14 [00:02<00:00,  6.66it/s, loss=0.0516]\n",
      "Training  : 100%|████████████████████████████████████| 14/14 [00:02<00:00,  6.59it/s, loss=0.048]\n",
      "Training  : 100%|███████████████████████████████████| 14/14 [00:02<00:00,  6.56it/s, loss=0.0503]\n",
      "Training  : 100%|███████████████████████████████████| 14/14 [00:02<00:00,  6.64it/s, loss=0.0574]\n",
      "Training  : 100%|███████████████████████████████████| 14/14 [00:02<00:00,  6.67it/s, loss=0.0501]\n",
      "Training  : 100%|███████████████████████████████████| 14/14 [00:02<00:00,  6.68it/s, loss=0.0474]\n",
      "Training  : 100%|███████████████████████████████████| 14/14 [00:02<00:00,  6.68it/s, loss=0.0524]\n",
      "Training  : 100%|███████████████████████████████████| 14/14 [00:02<00:00,  6.64it/s, loss=0.0475]\n",
      "Training  : 100%|███████████████████████████████████| 14/14 [00:02<00:00,  6.67it/s, loss=0.0494]\n",
      "Training  : 100%|███████████████████████████████████| 14/14 [00:02<00:00,  6.59it/s, loss=0.0578]\n",
      "Training  : 100%|███████████████████████████████████| 14/14 [00:02<00:00,  6.64it/s, loss=0.0472]\n",
      "Training  : 100%|███████████████████████████████████| 14/14 [00:02<00:00,  6.66it/s, loss=0.0484]\n",
      "Training  : 100%|███████████████████████████████████| 14/14 [00:02<00:00,  6.66it/s, loss=0.0473]\n",
      "Training  : 100%|███████████████████████████████████| 14/14 [00:02<00:00,  6.65it/s, loss=0.0498]\n",
      "Training  : 100%|███████████████████████████████████| 14/14 [00:02<00:00,  6.62it/s, loss=0.0488]\n",
      "Training  : 100%|███████████████████████████████████| 14/14 [00:02<00:00,  6.58it/s, loss=0.0471]\n",
      "Training  : 100%|███████████████████████████████████| 14/14 [00:02<00:00,  6.66it/s, loss=0.0507]\n",
      "Training  : 100%|███████████████████████████████████| 14/14 [00:02<00:00,  6.67it/s, loss=0.0509]\n",
      "Training  : 100%|████████████████████████████████████| 14/14 [00:02<00:00,  6.66it/s, loss=0.052]\n",
      "Training  : 100%|███████████████████████████████████| 14/14 [00:02<00:00,  6.59it/s, loss=0.0519]\n",
      "Training  : 100%|███████████████████████████████████| 14/14 [00:02<00:00,  6.66it/s, loss=0.0477]\n",
      "Training  : 100%|███████████████████████████████████| 14/14 [00:02<00:00,  6.65it/s, loss=0.0474]\n",
      "Training  : 100%|███████████████████████████████████| 14/14 [00:02<00:00,  6.57it/s, loss=0.0457]\n",
      "Training  : 100%|███████████████████████████████████| 14/14 [00:02<00:00,  6.61it/s, loss=0.0514]\n",
      "Training  : 100%|███████████████████████████████████| 14/14 [00:02<00:00,  6.67it/s, loss=0.0502]\n",
      "Training  : 100%|███████████████████████████████████| 14/14 [00:02<00:00,  6.58it/s, loss=0.0487]\n",
      "Training  : 100%|███████████████████████████████████| 14/14 [00:02<00:00,  6.60it/s, loss=0.0459]\n",
      "Training  : 100%|███████████████████████████████████| 14/14 [00:02<00:00,  6.65it/s, loss=0.0474]\n",
      "Training  : 100%|███████████████████████████████████| 14/14 [00:02<00:00,  6.61it/s, loss=0.0498]\n",
      "Training  : 100%|███████████████████████████████████| 14/14 [00:02<00:00,  6.65it/s, loss=0.0442]\n",
      "Training  : 100%|███████████████████████████████████| 14/14 [00:02<00:00,  6.59it/s, loss=0.0466]\n",
      "Training  : 100%|███████████████████████████████████| 14/14 [00:02<00:00,  6.61it/s, loss=0.0492]\n",
      "Training  : 100%|███████████████████████████████████| 14/14 [00:02<00:00,  6.61it/s, loss=0.0477]\n",
      "Training  : 100%|███████████████████████████████████| 14/14 [00:02<00:00,  6.64it/s, loss=0.0468]\n",
      "Training  : 100%|███████████████████████████████████| 14/14 [00:02<00:00,  6.64it/s, loss=0.0437]\n",
      "Training  : 100%|███████████████████████████████████| 14/14 [00:02<00:00,  6.58it/s, loss=0.0433]\n",
      "Training  : 100%|███████████████████████████████████| 14/14 [00:02<00:00,  6.63it/s, loss=0.0502]\n",
      "Training  : 100%|███████████████████████████████████| 14/14 [00:02<00:00,  6.60it/s, loss=0.0478]\n",
      "Training  : 100%|███████████████████████████████████| 14/14 [00:02<00:00,  6.64it/s, loss=0.0463]\n",
      "Training  : 100%|███████████████████████████████████| 14/14 [00:02<00:00,  6.59it/s, loss=0.0456]\n",
      "Predicting: 100%|████████████████████████████████████████████████| 27/27 [00:00<00:00, 50.65it/s]\n"
     ]
    },
    {
     "name": "stdout",
     "output_type": "stream",
     "text": [
      "Building sklearn text classifier...\n",
      "Loading bert-base-uncased model...\n",
      "Defaulting to linear classifier/regressor\n",
      "Loading Pytorch checkpoint\n",
      "train data size: 428, validation data size: 0\n"
     ]
    },
    {
     "name": "stderr",
     "output_type": "stream",
     "text": [
      "Training  : 100%|████████████████████████████████████| 14/14 [00:02<00:00,  6.59it/s, loss=0.588]\n",
      "Training  : 100%|████████████████████████████████████| 14/14 [00:02<00:00,  6.67it/s, loss=0.411]\n",
      "Training  : 100%|████████████████████████████████████| 14/14 [00:02<00:00,  6.63it/s, loss=0.264]\n",
      "Training  : 100%|████████████████████████████████████| 14/14 [00:02<00:00,  6.58it/s, loss=0.219]\n",
      "Training  : 100%|████████████████████████████████████| 14/14 [00:02<00:00,  6.61it/s, loss=0.158]\n",
      "Training  : 100%|████████████████████████████████████| 14/14 [00:02<00:00,  6.70it/s, loss=0.134]\n",
      "Training  : 100%|████████████████████████████████████| 14/14 [00:02<00:00,  6.69it/s, loss=0.121]\n",
      "Training  : 100%|████████████████████████████████████| 14/14 [00:02<00:00,  6.62it/s, loss=0.116]\n",
      "Training  : 100%|████████████████████████████████████| 14/14 [00:02<00:00,  6.62it/s, loss=0.105]\n",
      "Training  : 100%|███████████████████████████████████| 14/14 [00:02<00:00,  6.60it/s, loss=0.0947]\n",
      "Training  : 100%|███████████████████████████████████| 14/14 [00:02<00:00,  6.62it/s, loss=0.0814]\n",
      "Training  : 100%|████████████████████████████████████| 14/14 [00:02<00:00,  6.57it/s, loss=0.077]\n",
      "Training  : 100%|███████████████████████████████████| 14/14 [00:02<00:00,  6.65it/s, loss=0.0772]\n",
      "Training  : 100%|███████████████████████████████████| 14/14 [00:02<00:00,  6.64it/s, loss=0.0674]\n",
      "Training  : 100%|███████████████████████████████████| 14/14 [00:02<00:00,  6.65it/s, loss=0.0636]\n",
      "Training  : 100%|███████████████████████████████████| 14/14 [00:02<00:00,  6.62it/s, loss=0.0623]\n",
      "Training  : 100%|███████████████████████████████████| 14/14 [00:02<00:00,  6.57it/s, loss=0.0663]\n",
      "Training  : 100%|███████████████████████████████████| 14/14 [00:02<00:00,  6.59it/s, loss=0.0625]\n",
      "Training  : 100%|███████████████████████████████████| 14/14 [00:02<00:00,  6.64it/s, loss=0.0589]\n",
      "Training  : 100%|███████████████████████████████████| 14/14 [00:02<00:00,  6.65it/s, loss=0.0626]\n",
      "Training  : 100%|███████████████████████████████████| 14/14 [00:02<00:00,  6.68it/s, loss=0.0578]\n",
      "Training  : 100%|███████████████████████████████████| 14/14 [00:02<00:00,  6.65it/s, loss=0.0571]\n",
      "Training  : 100%|███████████████████████████████████| 14/14 [00:02<00:00,  6.67it/s, loss=0.0633]\n",
      "Training  : 100%|███████████████████████████████████| 14/14 [00:02<00:00,  6.64it/s, loss=0.0668]\n",
      "Training  : 100%|███████████████████████████████████| 14/14 [00:02<00:00,  6.55it/s, loss=0.0585]\n",
      "Training  : 100%|███████████████████████████████████| 14/14 [00:02<00:00,  6.64it/s, loss=0.0572]\n",
      "Training  : 100%|███████████████████████████████████| 14/14 [00:02<00:00,  6.53it/s, loss=0.0575]\n",
      "Training  : 100%|███████████████████████████████████| 14/14 [00:02<00:00,  6.68it/s, loss=0.0544]\n",
      "Training  : 100%|███████████████████████████████████| 14/14 [00:02<00:00,  6.63it/s, loss=0.0536]\n",
      "Training  : 100%|███████████████████████████████████| 14/14 [00:02<00:00,  6.62it/s, loss=0.0665]\n",
      "Training  : 100%|████████████████████████████████████| 14/14 [00:02<00:00,  6.62it/s, loss=0.055]\n",
      "Training  : 100%|███████████████████████████████████| 14/14 [00:02<00:00,  6.63it/s, loss=0.0659]\n",
      "Training  : 100%|████████████████████████████████████| 14/14 [00:02<00:00,  6.59it/s, loss=0.057]\n",
      "Training  : 100%|████████████████████████████████████| 14/14 [00:02<00:00,  6.62it/s, loss=0.063]\n",
      "Training  : 100%|███████████████████████████████████| 14/14 [00:02<00:00,  6.58it/s, loss=0.0565]\n",
      "Training  : 100%|███████████████████████████████████| 14/14 [00:02<00:00,  6.66it/s, loss=0.0523]\n",
      "Training  : 100%|███████████████████████████████████| 14/14 [00:02<00:00,  6.62it/s, loss=0.0741]\n",
      "Training  : 100%|███████████████████████████████████| 14/14 [00:02<00:00,  6.67it/s, loss=0.0572]\n",
      "Training  : 100%|███████████████████████████████████| 14/14 [00:02<00:00,  6.67it/s, loss=0.0501]\n",
      "Training  : 100%|███████████████████████████████████| 14/14 [00:02<00:00,  6.58it/s, loss=0.0485]\n",
      "Training  : 100%|███████████████████████████████████| 14/14 [00:02<00:00,  6.57it/s, loss=0.0505]\n",
      "Training  : 100%|███████████████████████████████████| 14/14 [00:02<00:00,  6.65it/s, loss=0.0512]\n",
      "Training  : 100%|███████████████████████████████████| 14/14 [00:02<00:00,  6.61it/s, loss=0.0511]\n",
      "Training  : 100%|███████████████████████████████████| 14/14 [00:02<00:00,  6.63it/s, loss=0.0504]\n",
      "Training  : 100%|███████████████████████████████████| 14/14 [00:02<00:00,  6.61it/s, loss=0.0518]\n",
      "Training  : 100%|███████████████████████████████████| 14/14 [00:02<00:00,  6.69it/s, loss=0.0526]\n",
      "Training  : 100%|███████████████████████████████████| 14/14 [00:02<00:00,  6.63it/s, loss=0.0506]\n",
      "Training  : 100%|███████████████████████████████████| 14/14 [00:02<00:00,  6.68it/s, loss=0.0505]\n",
      "Training  : 100%|███████████████████████████████████| 14/14 [00:02<00:00,  6.59it/s, loss=0.0519]\n",
      "Training  : 100%|███████████████████████████████████| 14/14 [00:02<00:00,  6.57it/s, loss=0.0613]\n",
      "Training  : 100%|███████████████████████████████████| 14/14 [00:02<00:00,  6.60it/s, loss=0.0538]\n",
      "Training  : 100%|███████████████████████████████████| 14/14 [00:02<00:00,  6.61it/s, loss=0.0535]\n",
      "Training  : 100%|████████████████████████████████████| 14/14 [00:02<00:00,  6.58it/s, loss=0.048]\n",
      "Training  : 100%|███████████████████████████████████| 14/14 [00:02<00:00,  6.60it/s, loss=0.0524]\n",
      "Training  : 100%|███████████████████████████████████| 14/14 [00:02<00:00,  6.58it/s, loss=0.0647]\n",
      "Training  : 100%|███████████████████████████████████| 14/14 [00:02<00:00,  6.63it/s, loss=0.0494]\n",
      "Training  : 100%|███████████████████████████████████| 14/14 [00:02<00:00,  6.32it/s, loss=0.0508]\n",
      "Training  : 100%|███████████████████████████████████| 14/14 [00:02<00:00,  6.63it/s, loss=0.0484]\n",
      "Training  : 100%|███████████████████████████████████| 14/14 [00:02<00:00,  6.57it/s, loss=0.0535]\n",
      "Training  : 100%|███████████████████████████████████| 14/14 [00:02<00:00,  6.54it/s, loss=0.0515]\n",
      "Training  : 100%|███████████████████████████████████| 14/14 [00:02<00:00,  6.60it/s, loss=0.0501]\n",
      "Training  : 100%|███████████████████████████████████| 14/14 [00:02<00:00,  6.60it/s, loss=0.0561]\n",
      "Training  : 100%|███████████████████████████████████| 14/14 [00:02<00:00,  6.70it/s, loss=0.0572]\n",
      "Training  : 100%|███████████████████████████████████| 14/14 [00:02<00:00,  6.63it/s, loss=0.0579]\n",
      "Training  : 100%|███████████████████████████████████| 14/14 [00:02<00:00,  6.62it/s, loss=0.0514]\n",
      "Training  : 100%|███████████████████████████████████| 14/14 [00:02<00:00,  6.64it/s, loss=0.0498]\n",
      "Training  : 100%|███████████████████████████████████| 14/14 [00:02<00:00,  6.62it/s, loss=0.0517]\n",
      "Training  : 100%|███████████████████████████████████| 14/14 [00:02<00:00,  6.59it/s, loss=0.0486]\n",
      "Training  : 100%|███████████████████████████████████| 14/14 [00:02<00:00,  6.58it/s, loss=0.0461]\n",
      "Training  : 100%|███████████████████████████████████| 14/14 [00:02<00:00,  6.64it/s, loss=0.0507]\n",
      "Training  : 100%|███████████████████████████████████| 14/14 [00:02<00:00,  6.66it/s, loss=0.0486]\n",
      "Training  : 100%|████████████████████████████████████| 14/14 [00:02<00:00,  6.59it/s, loss=0.051]\n",
      "Training  : 100%|███████████████████████████████████| 14/14 [00:02<00:00,  6.61it/s, loss=0.0504]\n",
      "Training  : 100%|███████████████████████████████████| 14/14 [00:02<00:00,  6.62it/s, loss=0.0489]\n",
      "Training  : 100%|███████████████████████████████████| 14/14 [00:02<00:00,  6.57it/s, loss=0.0498]\n",
      "Training  : 100%|███████████████████████████████████| 14/14 [00:02<00:00,  6.56it/s, loss=0.0485]\n",
      "Training  : 100%|███████████████████████████████████| 14/14 [00:02<00:00,  6.68it/s, loss=0.0547]\n",
      "Training  : 100%|███████████████████████████████████| 14/14 [00:02<00:00,  6.46it/s, loss=0.0486]\n",
      "Training  : 100%|███████████████████████████████████| 14/14 [00:02<00:00,  6.50it/s, loss=0.0488]\n",
      "Training  : 100%|███████████████████████████████████| 14/14 [00:02<00:00,  6.56it/s, loss=0.0607]\n",
      "Training  : 100%|███████████████████████████████████| 14/14 [00:02<00:00,  6.56it/s, loss=0.0497]\n",
      "Training  : 100%|███████████████████████████████████| 14/14 [00:02<00:00,  6.64it/s, loss=0.0495]\n",
      "Training  : 100%|█████████████████████████████████████| 14/14 [00:02<00:00,  6.62it/s, loss=0.05]\n",
      "Training  : 100%|███████████████████████████████████| 14/14 [00:02<00:00,  6.62it/s, loss=0.0467]\n",
      "Training  : 100%|███████████████████████████████████| 14/14 [00:02<00:00,  6.58it/s, loss=0.0494]\n",
      "Training  : 100%|███████████████████████████████████| 14/14 [00:02<00:00,  6.63it/s, loss=0.0522]\n",
      "Training  : 100%|█████████████████████████████████████| 14/14 [00:02<00:00,  6.58it/s, loss=0.05]\n",
      "Training  : 100%|███████████████████████████████████| 14/14 [00:02<00:00,  6.59it/s, loss=0.0496]\n",
      "Training  : 100%|███████████████████████████████████| 14/14 [00:02<00:00,  6.69it/s, loss=0.0516]\n",
      "Training  : 100%|███████████████████████████████████| 14/14 [00:02<00:00,  6.59it/s, loss=0.0463]\n",
      "Training  : 100%|████████████████████████████████████| 14/14 [00:02<00:00,  6.62it/s, loss=0.049]\n",
      "Training  : 100%|███████████████████████████████████| 14/14 [00:02<00:00,  6.63it/s, loss=0.0484]\n",
      "Training  : 100%|███████████████████████████████████| 14/14 [00:02<00:00,  6.61it/s, loss=0.0472]\n",
      "Training  : 100%|███████████████████████████████████| 14/14 [00:02<00:00,  6.58it/s, loss=0.0469]\n",
      "Training  : 100%|███████████████████████████████████| 14/14 [00:02<00:00,  6.65it/s, loss=0.0491]\n",
      "Training  : 100%|███████████████████████████████████| 14/14 [00:02<00:00,  6.65it/s, loss=0.0462]\n",
      "Training  : 100%|███████████████████████████████████| 14/14 [00:02<00:00,  6.62it/s, loss=0.0482]\n",
      "Training  : 100%|███████████████████████████████████| 14/14 [00:02<00:00,  6.59it/s, loss=0.0523]\n",
      "Training  : 100%|███████████████████████████████████| 14/14 [00:02<00:00,  6.65it/s, loss=0.0483]\n",
      "Training  : 100%|███████████████████████████████████| 14/14 [00:02<00:00,  6.65it/s, loss=0.0534]\n",
      "Predicting: 100%|████████████████████████████████████████████████| 27/27 [00:00<00:00, 50.29it/s]\n"
     ]
    },
    {
     "name": "stdout",
     "output_type": "stream",
     "text": [
      "Building sklearn text classifier...\n",
      "Loading bert-base-uncased model...\n",
      "Defaulting to linear classifier/regressor\n",
      "Loading Pytorch checkpoint\n",
      "train data size: 428, validation data size: 0\n"
     ]
    },
    {
     "name": "stderr",
     "output_type": "stream",
     "text": [
      "Training  : 100%|████████████████████████████████████| 14/14 [00:02<00:00,  6.56it/s, loss=0.603]\n",
      "Training  : 100%|████████████████████████████████████| 14/14 [00:02<00:00,  6.55it/s, loss=0.412]\n",
      "Training  : 100%|████████████████████████████████████| 14/14 [00:02<00:00,  6.24it/s, loss=0.256]\n",
      "Training  : 100%|████████████████████████████████████| 14/14 [00:02<00:00,  6.04it/s, loss=0.192]\n",
      "Training  : 100%|████████████████████████████████████| 14/14 [00:02<00:00,  6.57it/s, loss=0.124]\n",
      "Training  : 100%|████████████████████████████████████| 14/14 [00:02<00:00,  6.59it/s, loss=0.116]\n",
      "Training  : 100%|████████████████████████████████████| 14/14 [00:02<00:00,  6.56it/s, loss=0.101]\n",
      "Training  : 100%|███████████████████████████████████| 14/14 [00:02<00:00,  6.59it/s, loss=0.0837]\n",
      "Training  : 100%|███████████████████████████████████| 14/14 [00:02<00:00,  6.57it/s, loss=0.0903]\n",
      "Training  : 100%|███████████████████████████████████| 14/14 [00:02<00:00,  6.48it/s, loss=0.0706]\n",
      "Training  : 100%|███████████████████████████████████| 14/14 [00:02<00:00,  6.56it/s, loss=0.0718]\n",
      "Training  : 100%|███████████████████████████████████| 14/14 [00:02<00:00,  6.58it/s, loss=0.0653]\n",
      "Training  : 100%|███████████████████████████████████| 14/14 [00:02<00:00,  6.58it/s, loss=0.0669]\n",
      "Training  : 100%|███████████████████████████████████| 14/14 [00:02<00:00,  6.59it/s, loss=0.0666]\n",
      "Training  : 100%|███████████████████████████████████| 14/14 [00:02<00:00,  6.51it/s, loss=0.0662]\n",
      "Training  : 100%|███████████████████████████████████| 14/14 [00:02<00:00,  6.59it/s, loss=0.0817]\n",
      "Training  : 100%|███████████████████████████████████| 14/14 [00:02<00:00,  6.56it/s, loss=0.0793]\n",
      "Training  : 100%|███████████████████████████████████| 14/14 [00:02<00:00,  6.53it/s, loss=0.0637]\n",
      "Training  : 100%|███████████████████████████████████| 14/14 [00:02<00:00,  6.59it/s, loss=0.0582]\n",
      "Training  : 100%|███████████████████████████████████| 14/14 [00:02<00:00,  6.55it/s, loss=0.0604]\n",
      "Training  : 100%|███████████████████████████████████| 14/14 [00:02<00:00,  6.49it/s, loss=0.0539]\n",
      "Training  : 100%|███████████████████████████████████| 14/14 [00:02<00:00,  6.49it/s, loss=0.0553]\n",
      "Training  : 100%|███████████████████████████████████| 14/14 [00:02<00:00,  6.55it/s, loss=0.0493]\n",
      "Training  : 100%|███████████████████████████████████| 14/14 [00:02<00:00,  6.58it/s, loss=0.0531]\n",
      "Training  : 100%|███████████████████████████████████| 14/14 [00:02<00:00,  6.49it/s, loss=0.0494]\n",
      "Training  : 100%|███████████████████████████████████| 14/14 [00:02<00:00,  6.49it/s, loss=0.0525]\n",
      "Training  : 100%|███████████████████████████████████| 14/14 [00:02<00:00,  6.50it/s, loss=0.0477]\n",
      "Training  : 100%|███████████████████████████████████| 14/14 [00:02<00:00,  6.51it/s, loss=0.0518]\n",
      "Training  : 100%|███████████████████████████████████| 14/14 [00:02<00:00,  6.45it/s, loss=0.0452]\n",
      "Training  : 100%|███████████████████████████████████| 14/14 [00:02<00:00,  6.54it/s, loss=0.0569]\n",
      "Training  : 100%|███████████████████████████████████| 14/14 [00:02<00:00,  6.54it/s, loss=0.0562]\n",
      "Training  : 100%|███████████████████████████████████| 14/14 [00:02<00:00,  6.53it/s, loss=0.0449]\n",
      "Training  : 100%|███████████████████████████████████| 14/14 [00:02<00:00,  6.56it/s, loss=0.0493]\n",
      "Training  : 100%|███████████████████████████████████| 14/14 [00:02<00:00,  6.54it/s, loss=0.0424]\n",
      "Training  : 100%|███████████████████████████████████| 14/14 [00:02<00:00,  6.49it/s, loss=0.0421]\n",
      "Training  : 100%|███████████████████████████████████| 14/14 [00:02<00:00,  6.46it/s, loss=0.0483]\n",
      "Training  : 100%|███████████████████████████████████| 14/14 [00:02<00:00,  6.56it/s, loss=0.0468]\n",
      "Training  : 100%|███████████████████████████████████| 14/14 [00:02<00:00,  6.59it/s, loss=0.0434]\n",
      "Training  : 100%|███████████████████████████████████| 14/14 [00:02<00:00,  6.52it/s, loss=0.0414]\n",
      "Training  : 100%|███████████████████████████████████| 14/14 [00:02<00:00,  6.53it/s, loss=0.0403]\n",
      "Training  : 100%|███████████████████████████████████| 14/14 [00:02<00:00,  6.56it/s, loss=0.0449]\n",
      "Training  : 100%|███████████████████████████████████| 14/14 [00:02<00:00,  6.54it/s, loss=0.0409]\n",
      "Training  : 100%|███████████████████████████████████| 14/14 [00:02<00:00,  6.50it/s, loss=0.0513]\n",
      "Training  : 100%|███████████████████████████████████| 14/14 [00:02<00:00,  6.53it/s, loss=0.0412]\n",
      "Training  : 100%|████████████████████████████████████| 14/14 [00:02<00:00,  6.52it/s, loss=0.042]\n",
      "Training  : 100%|███████████████████████████████████| 14/14 [00:02<00:00,  6.56it/s, loss=0.0463]\n",
      "Training  : 100%|███████████████████████████████████| 14/14 [00:02<00:00,  6.58it/s, loss=0.0453]\n",
      "Training  : 100%|███████████████████████████████████| 14/14 [00:02<00:00,  6.55it/s, loss=0.0443]\n",
      "Training  : 100%|███████████████████████████████████| 14/14 [00:02<00:00,  6.55it/s, loss=0.0433]\n",
      "Training  : 100%|███████████████████████████████████| 14/14 [00:02<00:00,  6.57it/s, loss=0.0422]\n",
      "Training  : 100%|███████████████████████████████████| 14/14 [00:02<00:00,  6.59it/s, loss=0.0443]\n",
      "Training  : 100%|███████████████████████████████████| 14/14 [00:02<00:00,  6.50it/s, loss=0.0395]\n",
      "Training  : 100%|███████████████████████████████████| 14/14 [00:02<00:00,  6.57it/s, loss=0.0381]\n",
      "Training  : 100%|███████████████████████████████████| 14/14 [00:02<00:00,  6.56it/s, loss=0.0419]\n",
      "Training  : 100%|███████████████████████████████████| 14/14 [00:02<00:00,  6.52it/s, loss=0.0424]\n",
      "Training  : 100%|███████████████████████████████████| 14/14 [00:02<00:00,  6.56it/s, loss=0.0429]\n",
      "Training  : 100%|███████████████████████████████████| 14/14 [00:02<00:00,  6.48it/s, loss=0.0391]\n",
      "Training  : 100%|███████████████████████████████████| 14/14 [00:02<00:00,  6.54it/s, loss=0.0435]\n",
      "Training  : 100%|███████████████████████████████████| 14/14 [00:02<00:00,  6.52it/s, loss=0.0452]\n",
      "Training  : 100%|███████████████████████████████████| 14/14 [00:02<00:00,  6.54it/s, loss=0.0402]\n",
      "Training  : 100%|███████████████████████████████████| 14/14 [00:02<00:00,  6.62it/s, loss=0.0409]\n",
      "Training  : 100%|███████████████████████████████████| 14/14 [00:02<00:00,  6.57it/s, loss=0.0453]\n",
      "Training  : 100%|███████████████████████████████████| 14/14 [00:02<00:00,  6.57it/s, loss=0.0425]\n",
      "Training  : 100%|███████████████████████████████████| 14/14 [00:02<00:00,  6.57it/s, loss=0.0444]\n",
      "Training  : 100%|███████████████████████████████████| 14/14 [00:02<00:00,  6.55it/s, loss=0.0459]\n",
      "Training  : 100%|███████████████████████████████████| 14/14 [00:02<00:00,  6.51it/s, loss=0.0409]\n",
      "Training  : 100%|█████████████████████████████████████| 14/14 [00:02<00:00,  6.61it/s, loss=0.04]\n",
      "Training  : 100%|███████████████████████████████████| 14/14 [00:02<00:00,  6.61it/s, loss=0.0397]\n",
      "Training  : 100%|███████████████████████████████████| 14/14 [00:02<00:00,  6.51it/s, loss=0.0399]\n",
      "Training  : 100%|███████████████████████████████████| 14/14 [00:02<00:00,  6.52it/s, loss=0.0389]\n",
      "Training  : 100%|███████████████████████████████████| 14/14 [00:02<00:00,  6.55it/s, loss=0.0416]\n",
      "Training  : 100%|███████████████████████████████████| 14/14 [00:02<00:00,  6.62it/s, loss=0.0406]\n",
      "Training  : 100%|███████████████████████████████████| 14/14 [00:02<00:00,  6.56it/s, loss=0.0447]\n",
      "Training  : 100%|████████████████████████████████████| 14/14 [00:02<00:00,  6.57it/s, loss=0.044]\n",
      "Training  : 100%|███████████████████████████████████| 14/14 [00:02<00:00,  6.65it/s, loss=0.0402]\n",
      "Training  : 100%|███████████████████████████████████| 14/14 [00:02<00:00,  6.64it/s, loss=0.0416]\n",
      "Training  : 100%|███████████████████████████████████| 14/14 [00:02<00:00,  6.56it/s, loss=0.0482]\n",
      "Training  : 100%|███████████████████████████████████| 14/14 [00:02<00:00,  6.59it/s, loss=0.0414]\n",
      "Training  : 100%|███████████████████████████████████| 14/14 [00:02<00:00,  6.64it/s, loss=0.0412]\n",
      "Training  : 100%|███████████████████████████████████| 14/14 [00:02<00:00,  6.58it/s, loss=0.0483]\n",
      "Training  : 100%|███████████████████████████████████| 14/14 [00:02<00:00,  6.65it/s, loss=0.0428]\n",
      "Training  : 100%|███████████████████████████████████| 14/14 [00:02<00:00,  6.62it/s, loss=0.0447]\n",
      "Training  : 100%|███████████████████████████████████| 14/14 [00:02<00:00,  6.57it/s, loss=0.0448]\n",
      "Training  : 100%|███████████████████████████████████| 14/14 [00:02<00:00,  6.63it/s, loss=0.0395]\n",
      "Training  : 100%|███████████████████████████████████| 14/14 [00:02<00:00,  6.64it/s, loss=0.0406]\n",
      "Training  : 100%|███████████████████████████████████| 14/14 [00:02<00:00,  6.60it/s, loss=0.0514]\n",
      "Training  : 100%|███████████████████████████████████| 14/14 [00:02<00:00,  6.54it/s, loss=0.0398]\n",
      "Training  : 100%|███████████████████████████████████| 14/14 [00:02<00:00,  6.62it/s, loss=0.0406]\n",
      "Training  : 100%|███████████████████████████████████| 14/14 [00:02<00:00,  6.65it/s, loss=0.0415]\n",
      "Training  : 100%|███████████████████████████████████| 14/14 [00:02<00:00,  6.61it/s, loss=0.0452]\n",
      "Training  : 100%|███████████████████████████████████| 14/14 [00:02<00:00,  6.57it/s, loss=0.0405]\n",
      "Training  : 100%|███████████████████████████████████| 14/14 [00:02<00:00,  6.60it/s, loss=0.0389]\n",
      "Training  : 100%|███████████████████████████████████| 14/14 [00:02<00:00,  6.61it/s, loss=0.0385]\n",
      "Training  : 100%|███████████████████████████████████| 14/14 [00:02<00:00,  6.60it/s, loss=0.0383]\n",
      "Training  : 100%|████████████████████████████████████| 14/14 [00:02<00:00,  6.58it/s, loss=0.039]\n",
      "Training  : 100%|███████████████████████████████████| 14/14 [00:02<00:00,  6.68it/s, loss=0.0393]\n",
      "Training  : 100%|███████████████████████████████████| 14/14 [00:02<00:00,  6.59it/s, loss=0.0385]\n",
      "Training  : 100%|███████████████████████████████████| 14/14 [00:02<00:00,  6.57it/s, loss=0.0495]\n",
      "Training  : 100%|███████████████████████████████████| 14/14 [00:02<00:00,  6.59it/s, loss=0.0403]\n",
      "Training  : 100%|███████████████████████████████████| 14/14 [00:02<00:00,  6.61it/s, loss=0.0534]\n",
      "Predicting: 100%|████████████████████████████████████████████████| 27/27 [00:00<00:00, 48.20it/s]\n"
     ]
    },
    {
     "name": "stdout",
     "output_type": "stream",
     "text": [
      "Building sklearn text classifier...\n",
      "Building sklearn text classifier...\n",
      "Loading bert-base-uncased model...\n",
      "Defaulting to linear classifier/regressor\n",
      "Loading Pytorch checkpoint\n",
      "train data size: 642, validation data size: 0\n"
     ]
    },
    {
     "name": "stderr",
     "output_type": "stream",
     "text": [
      "Training  : 100%|████████████████████████████████████| 21/21 [00:03<00:00,  6.82it/s, loss=0.572]\n",
      "Training  : 100%|████████████████████████████████████| 21/21 [00:03<00:00,  6.90it/s, loss=0.309]\n",
      "Training  : 100%|████████████████████████████████████| 21/21 [00:03<00:00,  6.94it/s, loss=0.224]\n",
      "Training  : 100%|████████████████████████████████████| 21/21 [00:03<00:00,  6.96it/s, loss=0.211]\n",
      "Training  : 100%|████████████████████████████████████| 21/21 [00:03<00:00,  6.91it/s, loss=0.124]\n",
      "Training  : 100%|████████████████████████████████████| 21/21 [00:03<00:00,  6.98it/s, loss=0.106]\n",
      "Training  : 100%|████████████████████████████████████| 21/21 [00:03<00:00,  6.95it/s, loss=0.103]\n",
      "Training  : 100%|███████████████████████████████████| 21/21 [00:03<00:00,  6.92it/s, loss=0.0957]\n",
      "Training  : 100%|███████████████████████████████████| 21/21 [00:03<00:00,  6.93it/s, loss=0.0994]\n",
      "Training  : 100%|████████████████████████████████████| 21/21 [00:03<00:00,  6.89it/s, loss=0.092]\n",
      "Training  : 100%|████████████████████████████████████| 21/21 [00:03<00:00,  6.76it/s, loss=0.084]\n",
      "Training  : 100%|███████████████████████████████████| 21/21 [00:03<00:00,  6.83it/s, loss=0.0792]\n",
      "Training  : 100%|███████████████████████████████████| 21/21 [00:03<00:00,  6.95it/s, loss=0.0745]\n",
      "Training  : 100%|███████████████████████████████████| 21/21 [00:03<00:00,  6.97it/s, loss=0.0717]\n",
      "Training  : 100%|███████████████████████████████████| 21/21 [00:03<00:00,  6.86it/s, loss=0.0835]\n",
      "Training  : 100%|███████████████████████████████████| 21/21 [00:03<00:00,  6.92it/s, loss=0.0899]\n",
      "Training  : 100%|███████████████████████████████████| 21/21 [00:03<00:00,  6.92it/s, loss=0.0698]\n",
      "Training  : 100%|███████████████████████████████████| 21/21 [00:03<00:00,  6.93it/s, loss=0.0648]\n",
      "Training  : 100%|███████████████████████████████████| 21/21 [00:03<00:00,  6.93it/s, loss=0.0643]\n",
      "Training  : 100%|███████████████████████████████████| 21/21 [00:03<00:00,  6.93it/s, loss=0.0664]\n",
      "Training  : 100%|███████████████████████████████████| 21/21 [00:03<00:00,  6.89it/s, loss=0.0633]\n",
      "Training  : 100%|███████████████████████████████████| 21/21 [00:03<00:00,  6.96it/s, loss=0.0599]\n",
      "Training  : 100%|███████████████████████████████████| 21/21 [00:03<00:00,  6.96it/s, loss=0.0915]\n",
      "Training  : 100%|███████████████████████████████████| 21/21 [00:03<00:00,  6.91it/s, loss=0.0858]\n",
      "Training  : 100%|███████████████████████████████████| 21/21 [00:03<00:00,  6.92it/s, loss=0.0597]\n",
      "Training  : 100%|███████████████████████████████████| 21/21 [00:03<00:00,  6.91it/s, loss=0.0597]\n",
      "Training  : 100%|███████████████████████████████████| 21/21 [00:03<00:00,  6.94it/s, loss=0.0594]\n",
      "Training  : 100%|███████████████████████████████████| 21/21 [00:03<00:00,  6.94it/s, loss=0.0547]\n",
      "Training  : 100%|███████████████████████████████████| 21/21 [00:03<00:00,  6.94it/s, loss=0.0575]\n",
      "Training  : 100%|███████████████████████████████████| 21/21 [00:03<00:00,  6.89it/s, loss=0.0598]\n",
      "Training  : 100%|███████████████████████████████████| 21/21 [00:03<00:00,  6.94it/s, loss=0.0572]\n",
      "Training  : 100%|███████████████████████████████████| 21/21 [00:03<00:00,  6.90it/s, loss=0.0556]\n",
      "Training  : 100%|███████████████████████████████████| 21/21 [00:03<00:00,  6.96it/s, loss=0.0593]\n",
      "Training  : 100%|███████████████████████████████████| 21/21 [00:03<00:00,  6.92it/s, loss=0.0568]\n",
      "Training  : 100%|████████████████████████████████████| 21/21 [00:03<00:00,  6.88it/s, loss=0.168]\n",
      "Training  : 100%|███████████████████████████████████| 21/21 [00:03<00:00,  6.90it/s, loss=0.0591]\n",
      "Training  : 100%|███████████████████████████████████| 21/21 [00:03<00:00,  6.97it/s, loss=0.0569]\n",
      "Training  : 100%|███████████████████████████████████| 21/21 [00:03<00:00,  6.95it/s, loss=0.0572]\n",
      "Training  : 100%|███████████████████████████████████| 21/21 [00:03<00:00,  6.91it/s, loss=0.0537]\n",
      "Training  : 100%|███████████████████████████████████| 21/21 [00:03<00:00,  6.95it/s, loss=0.0549]\n",
      "Training  : 100%|███████████████████████████████████| 21/21 [00:03<00:00,  6.91it/s, loss=0.0817]\n",
      "Training  : 100%|███████████████████████████████████| 21/21 [00:03<00:00,  6.94it/s, loss=0.0684]\n",
      "Training  : 100%|███████████████████████████████████| 21/21 [00:03<00:00,  6.92it/s, loss=0.0551]\n",
      "Training  : 100%|███████████████████████████████████| 21/21 [00:03<00:00,  6.89it/s, loss=0.0545]\n",
      "Training  : 100%|███████████████████████████████████| 21/21 [00:03<00:00,  6.93it/s, loss=0.0683]\n",
      "Training  : 100%|███████████████████████████████████| 21/21 [00:03<00:00,  6.92it/s, loss=0.0521]\n",
      "Training  : 100%|███████████████████████████████████| 21/21 [00:03<00:00,  6.94it/s, loss=0.0544]\n",
      "Training  : 100%|███████████████████████████████████| 21/21 [00:03<00:00,  6.96it/s, loss=0.0513]\n",
      "Training  : 100%|███████████████████████████████████| 21/21 [00:03<00:00,  6.89it/s, loss=0.0518]\n",
      "Training  : 100%|███████████████████████████████████| 21/21 [00:03<00:00,  6.94it/s, loss=0.0523]\n",
      "Training  : 100%|████████████████████████████████████| 21/21 [00:03<00:00,  6.88it/s, loss=0.052]\n",
      "Training  : 100%|███████████████████████████████████| 21/21 [00:03<00:00,  6.95it/s, loss=0.0525]\n",
      "Training  : 100%|███████████████████████████████████| 21/21 [00:03<00:00,  6.96it/s, loss=0.0523]\n",
      "Training  : 100%|███████████████████████████████████| 21/21 [00:03<00:00,  6.96it/s, loss=0.0545]\n",
      "Training  : 100%|███████████████████████████████████| 21/21 [00:03<00:00,  6.98it/s, loss=0.0532]\n",
      "Training  : 100%|███████████████████████████████████| 21/21 [00:03<00:00,  6.95it/s, loss=0.0518]\n",
      "Training  : 100%|███████████████████████████████████| 21/21 [00:03<00:00,  6.93it/s, loss=0.0526]\n",
      "Training  : 100%|███████████████████████████████████| 21/21 [00:03<00:00,  6.94it/s, loss=0.0516]\n",
      "Training  : 100%|███████████████████████████████████| 21/21 [00:03<00:00,  6.97it/s, loss=0.0536]\n",
      "Training  : 100%|███████████████████████████████████| 21/21 [00:03<00:00,  6.97it/s, loss=0.0533]\n",
      "Training  : 100%|███████████████████████████████████| 21/21 [00:03<00:00,  6.95it/s, loss=0.0523]\n",
      "Training  : 100%|███████████████████████████████████| 21/21 [00:03<00:00,  6.92it/s, loss=0.0519]\n",
      "Training  : 100%|███████████████████████████████████| 21/21 [00:03<00:00,  6.96it/s, loss=0.0702]\n",
      "Training  : 100%|███████████████████████████████████| 21/21 [00:03<00:00,  6.92it/s, loss=0.0527]\n",
      "Training  : 100%|████████████████████████████████████| 21/21 [00:03<00:00,  6.94it/s, loss=0.051]\n",
      "Training  : 100%|███████████████████████████████████| 21/21 [00:03<00:00,  6.99it/s, loss=0.0522]\n",
      "Training  : 100%|███████████████████████████████████| 21/21 [00:03<00:00,  6.89it/s, loss=0.0517]\n",
      "Training  : 100%|███████████████████████████████████| 21/21 [00:03<00:00,  6.96it/s, loss=0.0495]\n",
      "Training  : 100%|███████████████████████████████████| 21/21 [00:03<00:00,  6.91it/s, loss=0.0527]\n",
      "Training  : 100%|███████████████████████████████████| 21/21 [00:03<00:00,  6.68it/s, loss=0.0506]\n",
      "Training  : 100%|███████████████████████████████████| 21/21 [00:03<00:00,  6.80it/s, loss=0.0606]\n",
      "Training  : 100%|███████████████████████████████████| 21/21 [00:03<00:00,  6.91it/s, loss=0.0519]\n",
      "Training  : 100%|███████████████████████████████████| 21/21 [00:03<00:00,  6.89it/s, loss=0.0524]\n",
      "Training  : 100%|███████████████████████████████████| 21/21 [00:03<00:00,  6.91it/s, loss=0.0524]\n",
      "Training  : 100%|███████████████████████████████████| 21/21 [00:03<00:00,  6.94it/s, loss=0.0534]\n"
     ]
    },
    {
     "data": {
      "text/plain": [
       "GridSearchCV(cv=3,\n",
       "             estimator=BertClassifier(max_seq_length=64, validation_fraction=0),\n",
       "             param_grid={'epochs': [50, 75, 100],\n",
       "                         'learning_rate': [2e-05, 3e-05, 1e-05]},\n",
       "             scoring='accuracy', verbose=True)"
      ]
     },
     "execution_count": 62,
     "metadata": {},
     "output_type": "execute_result"
    }
   ],
   "source": [
    "# %%time\n",
    "# from bert import run_classifier\n",
    "params = {'epochs':[50, 75, 100], 'learning_rate':[2e-5, 3e-5, 1e-5]}\n",
    "\n",
    "# wrap classifier/regressor in GridSearchCV\n",
    "clf_bert = GridSearchCV(BertClassifier(validation_fraction=0, max_seq_length=64), \n",
    "                   params,\n",
    "                   cv=3,\n",
    "                   scoring='accuracy',\n",
    "                   verbose=True)\n",
    "\n",
    "# fit gridsearch \n",
    "clf_bert.fit(X_train ,y_train)"
   ]
  },
  {
   "cell_type": "code",
   "execution_count": 63,
   "metadata": {},
   "outputs": [
    {
     "name": "stdout",
     "output_type": "stream",
     "text": [
      "0.950 (+/-0.004) for {'epochs': 50, 'learning_rate': 2e-05}\n",
      "0.955 (+/-0.012) for {'epochs': 50, 'learning_rate': 3e-05}\n",
      "0.952 (+/-0.009) for {'epochs': 50, 'learning_rate': 1e-05}\n",
      "0.952 (+/-0.009) for {'epochs': 75, 'learning_rate': 2e-05}\n",
      "0.952 (+/-0.009) for {'epochs': 75, 'learning_rate': 3e-05}\n",
      "0.955 (+/-0.009) for {'epochs': 75, 'learning_rate': 1e-05}\n",
      "0.955 (+/-0.009) for {'epochs': 100, 'learning_rate': 2e-05}\n",
      "0.949 (+/-0.000) for {'epochs': 100, 'learning_rate': 3e-05}\n",
      "0.955 (+/-0.009) for {'epochs': 100, 'learning_rate': 1e-05}\n",
      "\n",
      "Best score: 0.9548286604361372 with params: {'epochs': 75, 'learning_rate': 1e-05}\n"
     ]
    }
   ],
   "source": [
    "means = clf_bert.cv_results_['mean_test_score']\n",
    "stds = clf_bert.cv_results_['std_test_score']\n",
    "\n",
    "for mean, std, params in zip(means, stds, clf_bert.cv_results_['params']):\n",
    "        print(\"%0.3f (+/-%0.03f) for %r\"\n",
    "              % (mean, std * 2, params))\n",
    "        \n",
    "# best scores\n",
    "print(\"\\nBest score:\", clf_bert.best_score_,\"with params:\", clf_bert.best_params_)"
   ]
  },
  {
   "cell_type": "code",
   "execution_count": 163,
   "metadata": {},
   "outputs": [],
   "source": [
    "#define a batch size\n",
    "batch_size = 5\n",
    "epochs = 100\n",
    "learning_rate = 1e-1"
   ]
  },
  {
   "cell_type": "code",
   "execution_count": 164,
   "metadata": {},
   "outputs": [],
   "source": [
    "categories = {'control': 0, 'case': 1}\n",
    "# initialise the model use pretrained bert_2 instance and the label numbers\n",
    "model = BERT_Text_Classifier(bert_2, class_num=len(categories))\n",
    "\n",
    "# push the model to GPU\n",
    "model = model.to(device)\n",
    "\n",
    "# define the optimizer\n",
    "# optimizer = AdamW(model.parameters(),\n",
    "#                   lr = learning_rate)\n",
    "optimizer = optim.SGD(model.parameters(), lr=learning_rate)\n",
    "\n",
    "cross_entropy  = nn.NLLLoss() "
   ]
  },
  {
   "cell_type": "code",
   "execution_count": 165,
   "metadata": {},
   "outputs": [
    {
     "name": "stdout",
     "output_type": "stream",
     "text": [
      "\n",
      " Epoch 1 / 100\n"
     ]
    },
    {
     "name": "stderr",
     "output_type": "stream",
     "text": [
      "100%|██████████| 129/129 [00:05<00:00, 24.94it/s]"
     ]
    },
    {
     "name": "stdout",
     "output_type": "stream",
     "text": [
      "evaluating...\n"
     ]
    },
    {
     "name": "stderr",
     "output_type": "stream",
     "text": [
      "\n",
      "100%|██████████| 43/43 [00:00<00:00, 109.64it/s]"
     ]
    },
    {
     "name": "stdout",
     "output_type": "stream",
     "text": [
      "\n",
      "Training Loss: 0.114 dev performance, p:0.851, r:0.955, f1:0.900\n"
     ]
    },
    {
     "name": "stderr",
     "output_type": "stream",
     "text": [
      "\n"
     ]
    },
    {
     "name": "stdout",
     "output_type": "stream",
     "text": [
      "current best score is 0.900\n",
      "\n",
      " Epoch 2 / 100\n"
     ]
    },
    {
     "name": "stderr",
     "output_type": "stream",
     "text": [
      "100%|██████████| 129/129 [00:05<00:00, 25.63it/s]"
     ]
    },
    {
     "name": "stdout",
     "output_type": "stream",
     "text": [
      "evaluating...\n"
     ]
    },
    {
     "name": "stderr",
     "output_type": "stream",
     "text": [
      "\n",
      "100%|██████████| 43/43 [00:00<00:00, 106.07it/s]"
     ]
    },
    {
     "name": "stdout",
     "output_type": "stream",
     "text": [
      "\n",
      "Training Loss: 0.088 dev performance, p:0.875, r:0.955, f1:0.913\n"
     ]
    },
    {
     "name": "stderr",
     "output_type": "stream",
     "text": [
      "\n"
     ]
    },
    {
     "name": "stdout",
     "output_type": "stream",
     "text": [
      "current best score is 0.913\n",
      "\n",
      " Epoch 3 / 100\n"
     ]
    },
    {
     "name": "stderr",
     "output_type": "stream",
     "text": [
      "100%|██████████| 129/129 [00:04<00:00, 29.64it/s]"
     ]
    },
    {
     "name": "stdout",
     "output_type": "stream",
     "text": [
      "evaluating...\n"
     ]
    },
    {
     "name": "stderr",
     "output_type": "stream",
     "text": [
      "\n",
      "100%|██████████| 43/43 [00:00<00:00, 109.62it/s]"
     ]
    },
    {
     "name": "stdout",
     "output_type": "stream",
     "text": [
      "\n",
      "Training Loss: 0.081 dev performance, p:0.851, r:0.955, f1:0.900\n",
      "\n",
      " Epoch 4 / 100\n"
     ]
    },
    {
     "name": "stderr",
     "output_type": "stream",
     "text": [
      "\n",
      "100%|██████████| 129/129 [00:04<00:00, 28.58it/s]"
     ]
    },
    {
     "name": "stdout",
     "output_type": "stream",
     "text": [
      "evaluating...\n"
     ]
    },
    {
     "name": "stderr",
     "output_type": "stream",
     "text": [
      "\n",
      "100%|██████████| 43/43 [00:00<00:00, 106.35it/s]"
     ]
    },
    {
     "name": "stdout",
     "output_type": "stream",
     "text": [
      "\n",
      "Training Loss: 0.073 dev performance, p:0.853, r:0.970, f1:0.908\n"
     ]
    },
    {
     "name": "stderr",
     "output_type": "stream",
     "text": [
      "\n"
     ]
    },
    {
     "name": "stdout",
     "output_type": "stream",
     "text": [
      "\n",
      " Epoch 5 / 100\n"
     ]
    },
    {
     "name": "stderr",
     "output_type": "stream",
     "text": [
      "100%|██████████| 129/129 [00:05<00:00, 25.79it/s]"
     ]
    },
    {
     "name": "stdout",
     "output_type": "stream",
     "text": [
      "evaluating...\n"
     ]
    },
    {
     "name": "stderr",
     "output_type": "stream",
     "text": [
      "\n",
      "100%|██████████| 43/43 [00:00<00:00, 108.21it/s]"
     ]
    },
    {
     "name": "stdout",
     "output_type": "stream",
     "text": [
      "\n",
      "Training Loss: 0.077 dev performance, p:0.863, r:0.955, f1:0.906\n",
      "\n",
      " Epoch 6 / 100\n"
     ]
    },
    {
     "name": "stderr",
     "output_type": "stream",
     "text": [
      "\n",
      "100%|██████████| 129/129 [00:04<00:00, 27.11it/s]"
     ]
    },
    {
     "name": "stdout",
     "output_type": "stream",
     "text": [
      "evaluating...\n"
     ]
    },
    {
     "name": "stderr",
     "output_type": "stream",
     "text": [
      "\n",
      "100%|██████████| 43/43 [00:00<00:00, 85.49it/s]"
     ]
    },
    {
     "name": "stdout",
     "output_type": "stream",
     "text": [
      "\n",
      "Training Loss: 0.074 dev performance, p:0.873, r:0.939, f1:0.905\n",
      "\n",
      " Epoch 7 / 100\n"
     ]
    },
    {
     "name": "stderr",
     "output_type": "stream",
     "text": [
      "\n",
      "100%|██████████| 129/129 [00:05<00:00, 25.21it/s]"
     ]
    },
    {
     "name": "stdout",
     "output_type": "stream",
     "text": [
      "evaluating...\n"
     ]
    },
    {
     "name": "stderr",
     "output_type": "stream",
     "text": [
      "\n",
      "100%|██████████| 43/43 [00:00<00:00, 85.81it/s]"
     ]
    },
    {
     "name": "stdout",
     "output_type": "stream",
     "text": [
      "\n",
      "Training Loss: 0.067 dev performance, p:0.842, r:0.970, f1:0.901\n",
      "\n",
      " Epoch 8 / 100\n"
     ]
    },
    {
     "name": "stderr",
     "output_type": "stream",
     "text": [
      "\n",
      "100%|██████████| 129/129 [00:05<00:00, 25.75it/s]"
     ]
    },
    {
     "name": "stdout",
     "output_type": "stream",
     "text": [
      "evaluating...\n"
     ]
    },
    {
     "name": "stderr",
     "output_type": "stream",
     "text": [
      "\n",
      "100%|██████████| 43/43 [00:00<00:00, 107.17it/s]"
     ]
    },
    {
     "name": "stdout",
     "output_type": "stream",
     "text": [
      "\n",
      "Training Loss: 0.076 dev performance, p:0.887, r:0.955, f1:0.920\n"
     ]
    },
    {
     "name": "stderr",
     "output_type": "stream",
     "text": [
      "\n"
     ]
    },
    {
     "name": "stdout",
     "output_type": "stream",
     "text": [
      "current best score is 0.920\n",
      "\n",
      " Epoch 9 / 100\n"
     ]
    },
    {
     "name": "stderr",
     "output_type": "stream",
     "text": [
      "100%|██████████| 129/129 [00:05<00:00, 25.45it/s]"
     ]
    },
    {
     "name": "stdout",
     "output_type": "stream",
     "text": [
      "evaluating...\n"
     ]
    },
    {
     "name": "stderr",
     "output_type": "stream",
     "text": [
      "\n",
      "100%|██████████| 43/43 [00:00<00:00, 108.54it/s]"
     ]
    },
    {
     "name": "stdout",
     "output_type": "stream",
     "text": [
      "\n",
      "Training Loss: 0.073 dev performance, p:0.863, r:0.955, f1:0.906\n",
      "\n",
      " Epoch 10 / 100\n"
     ]
    },
    {
     "name": "stderr",
     "output_type": "stream",
     "text": [
      "\n",
      "100%|██████████| 129/129 [00:05<00:00, 25.60it/s]"
     ]
    },
    {
     "name": "stdout",
     "output_type": "stream",
     "text": [
      "evaluating...\n"
     ]
    },
    {
     "name": "stderr",
     "output_type": "stream",
     "text": [
      "\n",
      "100%|██████████| 43/43 [00:00<00:00, 106.42it/s]"
     ]
    },
    {
     "name": "stdout",
     "output_type": "stream",
     "text": [
      "\n",
      "Training Loss: 0.064 dev performance, p:0.863, r:0.955, f1:0.906\n",
      "\n",
      " Epoch 11 / 100\n"
     ]
    },
    {
     "name": "stderr",
     "output_type": "stream",
     "text": [
      "\n",
      "100%|██████████| 129/129 [00:05<00:00, 25.56it/s]"
     ]
    },
    {
     "name": "stdout",
     "output_type": "stream",
     "text": [
      "evaluating...\n"
     ]
    },
    {
     "name": "stderr",
     "output_type": "stream",
     "text": [
      "\n",
      "100%|██████████| 43/43 [00:00<00:00, 106.84it/s]"
     ]
    },
    {
     "name": "stdout",
     "output_type": "stream",
     "text": [
      "\n",
      "Training Loss: 0.062 dev performance, p:0.887, r:0.955, f1:0.920\n",
      "\n",
      " Epoch 12 / 100\n"
     ]
    },
    {
     "name": "stderr",
     "output_type": "stream",
     "text": [
      "\n",
      "100%|██████████| 129/129 [00:05<00:00, 25.58it/s]"
     ]
    },
    {
     "name": "stdout",
     "output_type": "stream",
     "text": [
      "evaluating...\n"
     ]
    },
    {
     "name": "stderr",
     "output_type": "stream",
     "text": [
      "\n",
      "100%|██████████| 43/43 [00:00<00:00, 109.49it/s]"
     ]
    },
    {
     "name": "stdout",
     "output_type": "stream",
     "text": [
      "\n",
      "Training Loss: 0.061 dev performance, p:0.863, r:0.955, f1:0.906\n",
      "\n",
      " Epoch 13 / 100\n"
     ]
    },
    {
     "name": "stderr",
     "output_type": "stream",
     "text": [
      "\n",
      "100%|██████████| 129/129 [00:05<00:00, 25.49it/s]"
     ]
    },
    {
     "name": "stdout",
     "output_type": "stream",
     "text": [
      "evaluating...\n"
     ]
    },
    {
     "name": "stderr",
     "output_type": "stream",
     "text": [
      "\n",
      "100%|██████████| 43/43 [00:00<00:00, 108.33it/s]"
     ]
    },
    {
     "name": "stdout",
     "output_type": "stream",
     "text": [
      "\n",
      "Training Loss: 0.061 dev performance, p:0.863, r:0.955, f1:0.906\n",
      "\n",
      " Epoch 14 / 100\n"
     ]
    },
    {
     "name": "stderr",
     "output_type": "stream",
     "text": [
      "\n",
      "100%|██████████| 129/129 [00:05<00:00, 25.76it/s]"
     ]
    },
    {
     "name": "stdout",
     "output_type": "stream",
     "text": [
      "evaluating...\n"
     ]
    },
    {
     "name": "stderr",
     "output_type": "stream",
     "text": [
      "\n",
      "100%|██████████| 43/43 [00:00<00:00, 106.43it/s]"
     ]
    },
    {
     "name": "stdout",
     "output_type": "stream",
     "text": [
      "\n",
      "Training Loss: 0.065 dev performance, p:0.875, r:0.955, f1:0.913\n",
      "\n",
      " Epoch 15 / 100\n"
     ]
    },
    {
     "name": "stderr",
     "output_type": "stream",
     "text": [
      "\n",
      "100%|██████████| 129/129 [00:05<00:00, 25.65it/s]"
     ]
    },
    {
     "name": "stdout",
     "output_type": "stream",
     "text": [
      "evaluating...\n"
     ]
    },
    {
     "name": "stderr",
     "output_type": "stream",
     "text": [
      "\n",
      "100%|██████████| 43/43 [00:00<00:00, 108.75it/s]"
     ]
    },
    {
     "name": "stdout",
     "output_type": "stream",
     "text": [
      "\n",
      "Training Loss: 0.061 dev performance, p:0.875, r:0.955, f1:0.913\n",
      "\n",
      " Epoch 16 / 100\n"
     ]
    },
    {
     "name": "stderr",
     "output_type": "stream",
     "text": [
      "\n",
      "100%|██████████| 129/129 [00:05<00:00, 25.55it/s]"
     ]
    },
    {
     "name": "stdout",
     "output_type": "stream",
     "text": [
      "evaluating...\n"
     ]
    },
    {
     "name": "stderr",
     "output_type": "stream",
     "text": [
      "\n",
      "100%|██████████| 43/43 [00:00<00:00, 108.54it/s]"
     ]
    },
    {
     "name": "stdout",
     "output_type": "stream",
     "text": [
      "\n",
      "Training Loss: 0.062 dev performance, p:0.831, r:0.970, f1:0.895\n",
      "\n",
      " Epoch 17 / 100\n"
     ]
    },
    {
     "name": "stderr",
     "output_type": "stream",
     "text": [
      "\n",
      "100%|██████████| 129/129 [00:05<00:00, 25.29it/s]"
     ]
    },
    {
     "name": "stdout",
     "output_type": "stream",
     "text": [
      "evaluating...\n"
     ]
    },
    {
     "name": "stderr",
     "output_type": "stream",
     "text": [
      "\n",
      "100%|██████████| 43/43 [00:00<00:00, 88.31it/s]"
     ]
    },
    {
     "name": "stdout",
     "output_type": "stream",
     "text": [
      "\n",
      "Training Loss: 0.063 dev performance, p:0.853, r:0.970, f1:0.908\n",
      "\n",
      " Epoch 18 / 100\n"
     ]
    },
    {
     "name": "stderr",
     "output_type": "stream",
     "text": [
      "\n",
      "100%|██████████| 129/129 [00:05<00:00, 25.30it/s]"
     ]
    },
    {
     "name": "stdout",
     "output_type": "stream",
     "text": [
      "evaluating...\n"
     ]
    },
    {
     "name": "stderr",
     "output_type": "stream",
     "text": [
      "\n",
      "100%|██████████| 43/43 [00:00<00:00, 85.61it/s]"
     ]
    },
    {
     "name": "stdout",
     "output_type": "stream",
     "text": [
      "\n",
      "Training Loss: 0.060 dev performance, p:0.842, r:0.970, f1:0.901\n",
      "\n",
      " Epoch 19 / 100\n"
     ]
    },
    {
     "name": "stderr",
     "output_type": "stream",
     "text": [
      "\n",
      "100%|██████████| 129/129 [00:05<00:00, 24.36it/s]"
     ]
    },
    {
     "name": "stdout",
     "output_type": "stream",
     "text": [
      "evaluating...\n"
     ]
    },
    {
     "name": "stderr",
     "output_type": "stream",
     "text": [
      "\n",
      "100%|██████████| 43/43 [00:00<00:00, 106.45it/s]"
     ]
    },
    {
     "name": "stdout",
     "output_type": "stream",
     "text": [
      "\n",
      "Training Loss: 0.063 dev performance, p:0.842, r:0.970, f1:0.901\n",
      "\n",
      " Epoch 20 / 100\n"
     ]
    },
    {
     "name": "stderr",
     "output_type": "stream",
     "text": [
      "\n",
      "100%|██████████| 129/129 [00:07<00:00, 18.10it/s]"
     ]
    },
    {
     "name": "stdout",
     "output_type": "stream",
     "text": [
      "evaluating...\n"
     ]
    },
    {
     "name": "stderr",
     "output_type": "stream",
     "text": [
      "\n",
      "100%|██████████| 43/43 [00:00<00:00, 83.36it/s]"
     ]
    },
    {
     "name": "stdout",
     "output_type": "stream",
     "text": [
      "\n",
      "Training Loss: 0.061 dev performance, p:0.853, r:0.970, f1:0.908\n",
      "\n",
      " Epoch 21 / 100\n"
     ]
    },
    {
     "name": "stderr",
     "output_type": "stream",
     "text": [
      "\n",
      "100%|██████████| 129/129 [00:08<00:00, 15.52it/s]"
     ]
    },
    {
     "name": "stdout",
     "output_type": "stream",
     "text": [
      "evaluating...\n"
     ]
    },
    {
     "name": "stderr",
     "output_type": "stream",
     "text": [
      "\n",
      "100%|██████████| 43/43 [00:00<00:00, 81.35it/s]"
     ]
    },
    {
     "name": "stdout",
     "output_type": "stream",
     "text": [
      "\n",
      "Training Loss: 0.061 dev performance, p:0.875, r:0.955, f1:0.913\n",
      "\n",
      " Epoch 22 / 100\n"
     ]
    },
    {
     "name": "stderr",
     "output_type": "stream",
     "text": [
      "\n",
      "100%|██████████| 129/129 [00:08<00:00, 15.44it/s]"
     ]
    },
    {
     "name": "stdout",
     "output_type": "stream",
     "text": [
      "evaluating...\n"
     ]
    },
    {
     "name": "stderr",
     "output_type": "stream",
     "text": [
      "\n",
      "100%|██████████| 43/43 [00:00<00:00, 81.87it/s]"
     ]
    },
    {
     "name": "stdout",
     "output_type": "stream",
     "text": [
      "\n",
      "Training Loss: 0.062 dev performance, p:0.842, r:0.970, f1:0.901\n",
      "\n",
      " Epoch 23 / 100\n"
     ]
    },
    {
     "name": "stderr",
     "output_type": "stream",
     "text": [
      "\n",
      "100%|██████████| 129/129 [00:08<00:00, 15.51it/s]"
     ]
    },
    {
     "name": "stdout",
     "output_type": "stream",
     "text": [
      "evaluating...\n"
     ]
    },
    {
     "name": "stderr",
     "output_type": "stream",
     "text": [
      "\n",
      "100%|██████████| 43/43 [00:00<00:00, 84.35it/s]"
     ]
    },
    {
     "name": "stdout",
     "output_type": "stream",
     "text": [
      "\n",
      "Training Loss: 0.062 dev performance, p:0.865, r:0.970, f1:0.914\n",
      "\n",
      " Epoch 24 / 100\n"
     ]
    },
    {
     "name": "stderr",
     "output_type": "stream",
     "text": [
      "\n",
      "100%|██████████| 129/129 [00:08<00:00, 15.49it/s]"
     ]
    },
    {
     "name": "stdout",
     "output_type": "stream",
     "text": [
      "evaluating...\n"
     ]
    },
    {
     "name": "stderr",
     "output_type": "stream",
     "text": [
      "\n",
      "100%|██████████| 43/43 [00:00<00:00, 84.17it/s]"
     ]
    },
    {
     "name": "stdout",
     "output_type": "stream",
     "text": [
      "\n",
      "Training Loss: 0.061 dev performance, p:0.844, r:0.985, f1:0.909\n",
      "\n",
      " Epoch 25 / 100\n"
     ]
    },
    {
     "name": "stderr",
     "output_type": "stream",
     "text": [
      "\n",
      "100%|██████████| 129/129 [00:08<00:00, 15.53it/s]"
     ]
    },
    {
     "name": "stdout",
     "output_type": "stream",
     "text": [
      "evaluating...\n"
     ]
    },
    {
     "name": "stderr",
     "output_type": "stream",
     "text": [
      "\n",
      "100%|██████████| 43/43 [00:00<00:00, 82.59it/s]"
     ]
    },
    {
     "name": "stdout",
     "output_type": "stream",
     "text": [
      "\n",
      "Training Loss: 0.061 dev performance, p:0.875, r:0.955, f1:0.913\n",
      "\n",
      " Epoch 26 / 100\n"
     ]
    },
    {
     "name": "stderr",
     "output_type": "stream",
     "text": [
      "\n",
      "100%|██████████| 129/129 [00:08<00:00, 15.50it/s]"
     ]
    },
    {
     "name": "stdout",
     "output_type": "stream",
     "text": [
      "evaluating...\n"
     ]
    },
    {
     "name": "stderr",
     "output_type": "stream",
     "text": [
      "\n",
      "100%|██████████| 43/43 [00:00<00:00, 82.22it/s]"
     ]
    },
    {
     "name": "stdout",
     "output_type": "stream",
     "text": [
      "\n",
      "Training Loss: 0.071 dev performance, p:0.853, r:0.970, f1:0.908\n",
      "\n",
      " Epoch 27 / 100\n"
     ]
    },
    {
     "name": "stderr",
     "output_type": "stream",
     "text": [
      "\n",
      "100%|██████████| 129/129 [00:08<00:00, 15.50it/s]"
     ]
    },
    {
     "name": "stdout",
     "output_type": "stream",
     "text": [
      "evaluating...\n"
     ]
    },
    {
     "name": "stderr",
     "output_type": "stream",
     "text": [
      "\n",
      "100%|██████████| 43/43 [00:00<00:00, 83.37it/s]"
     ]
    },
    {
     "name": "stdout",
     "output_type": "stream",
     "text": [
      "\n",
      "Training Loss: 0.060 dev performance, p:0.842, r:0.970, f1:0.901\n",
      "\n",
      " Epoch 28 / 100\n"
     ]
    },
    {
     "name": "stderr",
     "output_type": "stream",
     "text": [
      "\n",
      "100%|██████████| 129/129 [00:08<00:00, 15.60it/s]"
     ]
    },
    {
     "name": "stdout",
     "output_type": "stream",
     "text": [
      "evaluating...\n"
     ]
    },
    {
     "name": "stderr",
     "output_type": "stream",
     "text": [
      "\n",
      "100%|██████████| 43/43 [00:00<00:00, 85.91it/s]"
     ]
    },
    {
     "name": "stdout",
     "output_type": "stream",
     "text": [
      "\n",
      "Training Loss: 0.059 dev performance, p:0.842, r:0.970, f1:0.901\n",
      "\n",
      " Epoch 29 / 100\n"
     ]
    },
    {
     "name": "stderr",
     "output_type": "stream",
     "text": [
      "\n",
      "100%|██████████| 129/129 [00:08<00:00, 15.51it/s]"
     ]
    },
    {
     "name": "stdout",
     "output_type": "stream",
     "text": [
      "evaluating...\n"
     ]
    },
    {
     "name": "stderr",
     "output_type": "stream",
     "text": [
      "\n",
      "100%|██████████| 43/43 [00:00<00:00, 82.87it/s]\n"
     ]
    },
    {
     "name": "stdout",
     "output_type": "stream",
     "text": [
      "\n",
      "Training Loss: 0.063 dev performance, p:0.873, r:0.939, f1:0.905\n",
      "\n",
      " Epoch 30 / 100\n"
     ]
    },
    {
     "name": "stderr",
     "output_type": "stream",
     "text": [
      "100%|██████████| 129/129 [00:08<00:00, 15.41it/s]"
     ]
    },
    {
     "name": "stdout",
     "output_type": "stream",
     "text": [
      "evaluating...\n"
     ]
    },
    {
     "name": "stderr",
     "output_type": "stream",
     "text": [
      "\n",
      "100%|██████████| 43/43 [00:00<00:00, 82.33it/s]"
     ]
    },
    {
     "name": "stdout",
     "output_type": "stream",
     "text": [
      "\n",
      "Training Loss: 0.063 dev performance, p:0.853, r:0.970, f1:0.908\n",
      "\n",
      " Epoch 31 / 100\n"
     ]
    },
    {
     "name": "stderr",
     "output_type": "stream",
     "text": [
      "\n",
      "100%|██████████| 129/129 [00:08<00:00, 15.54it/s]"
     ]
    },
    {
     "name": "stdout",
     "output_type": "stream",
     "text": [
      "evaluating...\n"
     ]
    },
    {
     "name": "stderr",
     "output_type": "stream",
     "text": [
      "\n",
      "100%|██████████| 43/43 [00:00<00:00, 83.19it/s]"
     ]
    },
    {
     "name": "stdout",
     "output_type": "stream",
     "text": [
      "\n",
      "Training Loss: 0.060 dev performance, p:0.840, r:0.955, f1:0.894\n",
      "\n",
      " Epoch 32 / 100\n"
     ]
    },
    {
     "name": "stderr",
     "output_type": "stream",
     "text": [
      "\n",
      "100%|██████████| 129/129 [00:08<00:00, 15.45it/s]"
     ]
    },
    {
     "name": "stdout",
     "output_type": "stream",
     "text": [
      "evaluating...\n"
     ]
    },
    {
     "name": "stderr",
     "output_type": "stream",
     "text": [
      "\n",
      "100%|██████████| 43/43 [00:00<00:00, 82.33it/s]\n"
     ]
    },
    {
     "name": "stdout",
     "output_type": "stream",
     "text": [
      "\n",
      "Training Loss: 0.058 dev performance, p:0.842, r:0.970, f1:0.901\n",
      "\n",
      " Epoch 33 / 100\n"
     ]
    },
    {
     "name": "stderr",
     "output_type": "stream",
     "text": [
      "100%|██████████| 129/129 [00:08<00:00, 15.58it/s]"
     ]
    },
    {
     "name": "stdout",
     "output_type": "stream",
     "text": [
      "evaluating...\n"
     ]
    },
    {
     "name": "stderr",
     "output_type": "stream",
     "text": [
      "\n",
      "100%|██████████| 43/43 [00:00<00:00, 85.36it/s]"
     ]
    },
    {
     "name": "stdout",
     "output_type": "stream",
     "text": [
      "\n",
      "Training Loss: 0.066 dev performance, p:0.842, r:0.970, f1:0.901\n",
      "\n",
      " Epoch 34 / 100\n"
     ]
    },
    {
     "name": "stderr",
     "output_type": "stream",
     "text": [
      "\n",
      "100%|██████████| 129/129 [00:08<00:00, 15.47it/s]"
     ]
    },
    {
     "name": "stdout",
     "output_type": "stream",
     "text": [
      "evaluating...\n"
     ]
    },
    {
     "name": "stderr",
     "output_type": "stream",
     "text": [
      "\n",
      "100%|██████████| 43/43 [00:00<00:00, 84.38it/s]"
     ]
    },
    {
     "name": "stdout",
     "output_type": "stream",
     "text": [
      "\n",
      "Training Loss: 0.061 dev performance, p:0.842, r:0.970, f1:0.901\n",
      "\n",
      " Epoch 35 / 100\n"
     ]
    },
    {
     "name": "stderr",
     "output_type": "stream",
     "text": [
      "\n",
      "100%|██████████| 129/129 [00:08<00:00, 15.53it/s]"
     ]
    },
    {
     "name": "stdout",
     "output_type": "stream",
     "text": [
      "evaluating...\n"
     ]
    },
    {
     "name": "stderr",
     "output_type": "stream",
     "text": [
      "\n",
      "100%|██████████| 43/43 [00:00<00:00, 84.22it/s]"
     ]
    },
    {
     "name": "stdout",
     "output_type": "stream",
     "text": [
      "\n",
      "Training Loss: 0.061 dev performance, p:0.842, r:0.970, f1:0.901\n",
      "\n",
      " Epoch 36 / 100\n"
     ]
    },
    {
     "name": "stderr",
     "output_type": "stream",
     "text": [
      "\n",
      "100%|██████████| 129/129 [00:08<00:00, 15.48it/s]"
     ]
    },
    {
     "name": "stdout",
     "output_type": "stream",
     "text": [
      "evaluating...\n"
     ]
    },
    {
     "name": "stderr",
     "output_type": "stream",
     "text": [
      "\n",
      "100%|██████████| 43/43 [00:00<00:00, 81.55it/s]"
     ]
    },
    {
     "name": "stdout",
     "output_type": "stream",
     "text": [
      "\n",
      "Training Loss: 0.061 dev performance, p:0.831, r:0.970, f1:0.895\n",
      "\n",
      " Epoch 37 / 100\n"
     ]
    },
    {
     "name": "stderr",
     "output_type": "stream",
     "text": [
      "\n",
      "100%|██████████| 129/129 [00:08<00:00, 15.54it/s]"
     ]
    },
    {
     "name": "stdout",
     "output_type": "stream",
     "text": [
      "evaluating...\n"
     ]
    },
    {
     "name": "stderr",
     "output_type": "stream",
     "text": [
      "\n",
      "100%|██████████| 43/43 [00:00<00:00, 84.03it/s]"
     ]
    },
    {
     "name": "stdout",
     "output_type": "stream",
     "text": [
      "\n",
      "Training Loss: 0.071 dev performance, p:0.844, r:0.985, f1:0.909\n",
      "\n",
      " Epoch 38 / 100\n"
     ]
    },
    {
     "name": "stderr",
     "output_type": "stream",
     "text": [
      "\n",
      "100%|██████████| 129/129 [00:08<00:00, 15.55it/s]"
     ]
    },
    {
     "name": "stdout",
     "output_type": "stream",
     "text": [
      "evaluating...\n"
     ]
    },
    {
     "name": "stderr",
     "output_type": "stream",
     "text": [
      "\n",
      "100%|██████████| 43/43 [00:00<00:00, 86.64it/s]"
     ]
    },
    {
     "name": "stdout",
     "output_type": "stream",
     "text": [
      "\n",
      "Training Loss: 0.085 dev performance, p:0.827, r:0.939, f1:0.879\n",
      "\n",
      " Epoch 39 / 100\n"
     ]
    },
    {
     "name": "stderr",
     "output_type": "stream",
     "text": [
      "\n",
      "100%|██████████| 129/129 [00:08<00:00, 15.57it/s]"
     ]
    },
    {
     "name": "stdout",
     "output_type": "stream",
     "text": [
      "evaluating...\n"
     ]
    },
    {
     "name": "stderr",
     "output_type": "stream",
     "text": [
      "\n",
      "100%|██████████| 43/43 [00:00<00:00, 83.48it/s]"
     ]
    },
    {
     "name": "stdout",
     "output_type": "stream",
     "text": [
      "\n",
      "Training Loss: 0.073 dev performance, p:0.853, r:0.970, f1:0.908\n",
      "\n",
      " Epoch 40 / 100\n"
     ]
    },
    {
     "name": "stderr",
     "output_type": "stream",
     "text": [
      "\n",
      "100%|██████████| 129/129 [00:08<00:00, 15.51it/s]"
     ]
    },
    {
     "name": "stdout",
     "output_type": "stream",
     "text": [
      "evaluating...\n"
     ]
    },
    {
     "name": "stderr",
     "output_type": "stream",
     "text": [
      "\n",
      "100%|██████████| 43/43 [00:00<00:00, 83.89it/s]"
     ]
    },
    {
     "name": "stdout",
     "output_type": "stream",
     "text": [
      "\n",
      "Training Loss: 0.071 dev performance, p:0.821, r:0.970, f1:0.889\n",
      "\n",
      " Epoch 41 / 100\n"
     ]
    },
    {
     "name": "stderr",
     "output_type": "stream",
     "text": [
      "\n",
      "100%|██████████| 129/129 [00:08<00:00, 15.55it/s]"
     ]
    },
    {
     "name": "stdout",
     "output_type": "stream",
     "text": [
      "evaluating...\n"
     ]
    },
    {
     "name": "stderr",
     "output_type": "stream",
     "text": [
      "\n",
      "100%|██████████| 43/43 [00:00<00:00, 87.16it/s]"
     ]
    },
    {
     "name": "stdout",
     "output_type": "stream",
     "text": [
      "\n",
      "Training Loss: 0.062 dev performance, p:0.844, r:0.985, f1:0.909\n",
      "\n",
      " Epoch 42 / 100\n"
     ]
    },
    {
     "name": "stderr",
     "output_type": "stream",
     "text": [
      "\n",
      "100%|██████████| 129/129 [00:08<00:00, 15.54it/s]"
     ]
    },
    {
     "name": "stdout",
     "output_type": "stream",
     "text": [
      "evaluating...\n"
     ]
    },
    {
     "name": "stderr",
     "output_type": "stream",
     "text": [
      "\n",
      "100%|██████████| 43/43 [00:00<00:00, 86.41it/s]"
     ]
    },
    {
     "name": "stdout",
     "output_type": "stream",
     "text": [
      "\n",
      "Training Loss: 0.064 dev performance, p:0.842, r:0.970, f1:0.901\n",
      "\n",
      " Epoch 43 / 100\n"
     ]
    },
    {
     "name": "stderr",
     "output_type": "stream",
     "text": [
      "\n",
      "100%|██████████| 129/129 [00:08<00:00, 15.58it/s]"
     ]
    },
    {
     "name": "stdout",
     "output_type": "stream",
     "text": [
      "evaluating...\n"
     ]
    },
    {
     "name": "stderr",
     "output_type": "stream",
     "text": [
      "\n",
      "100%|██████████| 43/43 [00:00<00:00, 85.79it/s]"
     ]
    },
    {
     "name": "stdout",
     "output_type": "stream",
     "text": [
      "\n",
      "Training Loss: 0.063 dev performance, p:0.831, r:0.970, f1:0.895\n",
      "\n",
      " Epoch 44 / 100\n"
     ]
    },
    {
     "name": "stderr",
     "output_type": "stream",
     "text": [
      "\n",
      "100%|██████████| 129/129 [00:08<00:00, 15.58it/s]"
     ]
    },
    {
     "name": "stdout",
     "output_type": "stream",
     "text": [
      "evaluating...\n"
     ]
    },
    {
     "name": "stderr",
     "output_type": "stream",
     "text": [
      "\n",
      "100%|██████████| 43/43 [00:00<00:00, 82.61it/s]"
     ]
    },
    {
     "name": "stdout",
     "output_type": "stream",
     "text": [
      "\n",
      "Training Loss: 0.061 dev performance, p:0.831, r:0.970, f1:0.895\n"
     ]
    },
    {
     "name": "stderr",
     "output_type": "stream",
     "text": [
      "\n"
     ]
    },
    {
     "name": "stdout",
     "output_type": "stream",
     "text": [
      "\n",
      " Epoch 45 / 100\n"
     ]
    },
    {
     "name": "stderr",
     "output_type": "stream",
     "text": [
      "100%|██████████| 129/129 [00:08<00:00, 15.54it/s]"
     ]
    },
    {
     "name": "stdout",
     "output_type": "stream",
     "text": [
      "evaluating...\n"
     ]
    },
    {
     "name": "stderr",
     "output_type": "stream",
     "text": [
      "\n",
      "100%|██████████| 43/43 [00:00<00:00, 83.42it/s]"
     ]
    },
    {
     "name": "stdout",
     "output_type": "stream",
     "text": [
      "\n",
      "Training Loss: 0.063 dev performance, p:0.853, r:0.970, f1:0.908\n",
      "\n",
      " Epoch 46 / 100\n"
     ]
    },
    {
     "name": "stderr",
     "output_type": "stream",
     "text": [
      "\n",
      "100%|██████████| 129/129 [00:08<00:00, 15.55it/s]"
     ]
    },
    {
     "name": "stdout",
     "output_type": "stream",
     "text": [
      "evaluating...\n"
     ]
    },
    {
     "name": "stderr",
     "output_type": "stream",
     "text": [
      "\n",
      "100%|██████████| 43/43 [00:00<00:00, 84.23it/s]"
     ]
    },
    {
     "name": "stdout",
     "output_type": "stream",
     "text": [
      "\n",
      "Training Loss: 0.069 dev performance, p:0.842, r:0.970, f1:0.901\n",
      "\n",
      " Epoch 47 / 100\n"
     ]
    },
    {
     "name": "stderr",
     "output_type": "stream",
     "text": [
      "\n",
      "100%|██████████| 129/129 [00:08<00:00, 15.55it/s]"
     ]
    },
    {
     "name": "stdout",
     "output_type": "stream",
     "text": [
      "evaluating...\n"
     ]
    },
    {
     "name": "stderr",
     "output_type": "stream",
     "text": [
      "\n",
      "100%|██████████| 43/43 [00:00<00:00, 84.12it/s]"
     ]
    },
    {
     "name": "stdout",
     "output_type": "stream",
     "text": [
      "\n",
      "Training Loss: 0.061 dev performance, p:0.853, r:0.970, f1:0.908\n",
      "\n",
      " Epoch 48 / 100\n"
     ]
    },
    {
     "name": "stderr",
     "output_type": "stream",
     "text": [
      "\n",
      "100%|██████████| 129/129 [00:08<00:00, 15.57it/s]"
     ]
    },
    {
     "name": "stdout",
     "output_type": "stream",
     "text": [
      "evaluating...\n"
     ]
    },
    {
     "name": "stderr",
     "output_type": "stream",
     "text": [
      "\n",
      "100%|██████████| 43/43 [00:00<00:00, 87.04it/s]"
     ]
    },
    {
     "name": "stdout",
     "output_type": "stream",
     "text": [
      "\n",
      "Training Loss: 0.067 dev performance, p:0.842, r:0.970, f1:0.901\n",
      "\n",
      " Epoch 49 / 100\n"
     ]
    },
    {
     "name": "stderr",
     "output_type": "stream",
     "text": [
      "\n",
      "100%|██████████| 129/129 [00:08<00:00, 15.55it/s]"
     ]
    },
    {
     "name": "stdout",
     "output_type": "stream",
     "text": [
      "evaluating...\n"
     ]
    },
    {
     "name": "stderr",
     "output_type": "stream",
     "text": [
      "\n",
      "100%|██████████| 43/43 [00:00<00:00, 80.54it/s]\n"
     ]
    },
    {
     "name": "stdout",
     "output_type": "stream",
     "text": [
      "\n",
      "Training Loss: 0.064 dev performance, p:0.831, r:0.970, f1:0.895\n",
      "\n",
      " Epoch 50 / 100\n"
     ]
    },
    {
     "name": "stderr",
     "output_type": "stream",
     "text": [
      "100%|██████████| 129/129 [00:08<00:00, 15.65it/s]"
     ]
    },
    {
     "name": "stdout",
     "output_type": "stream",
     "text": [
      "evaluating...\n"
     ]
    },
    {
     "name": "stderr",
     "output_type": "stream",
     "text": [
      "\n",
      "100%|██████████| 43/43 [00:00<00:00, 82.58it/s]"
     ]
    },
    {
     "name": "stdout",
     "output_type": "stream",
     "text": [
      "\n",
      "Training Loss: 0.076 dev performance, p:0.842, r:0.970, f1:0.901\n",
      "\n",
      " Epoch 51 / 100\n"
     ]
    },
    {
     "name": "stderr",
     "output_type": "stream",
     "text": [
      "\n",
      "100%|██████████| 129/129 [00:08<00:00, 15.52it/s]"
     ]
    },
    {
     "name": "stdout",
     "output_type": "stream",
     "text": [
      "evaluating...\n"
     ]
    },
    {
     "name": "stderr",
     "output_type": "stream",
     "text": [
      "\n",
      "100%|██████████| 43/43 [00:00<00:00, 80.91it/s]"
     ]
    },
    {
     "name": "stdout",
     "output_type": "stream",
     "text": [
      "\n",
      "Training Loss: 0.068 dev performance, p:0.865, r:0.970, f1:0.914\n",
      "\n",
      " Epoch 52 / 100\n"
     ]
    },
    {
     "name": "stderr",
     "output_type": "stream",
     "text": [
      "\n",
      "100%|██████████| 129/129 [00:08<00:00, 15.65it/s]"
     ]
    },
    {
     "name": "stdout",
     "output_type": "stream",
     "text": [
      "evaluating...\n"
     ]
    },
    {
     "name": "stderr",
     "output_type": "stream",
     "text": [
      "\n",
      "100%|██████████| 43/43 [00:00<00:00, 84.38it/s]"
     ]
    },
    {
     "name": "stdout",
     "output_type": "stream",
     "text": [
      "\n",
      "Training Loss: 0.064 dev performance, p:0.831, r:0.970, f1:0.895\n",
      "\n",
      " Epoch 53 / 100\n"
     ]
    },
    {
     "name": "stderr",
     "output_type": "stream",
     "text": [
      "\n",
      "100%|██████████| 129/129 [00:08<00:00, 15.65it/s]"
     ]
    },
    {
     "name": "stdout",
     "output_type": "stream",
     "text": [
      "evaluating...\n"
     ]
    },
    {
     "name": "stderr",
     "output_type": "stream",
     "text": [
      "\n",
      "100%|██████████| 43/43 [00:00<00:00, 87.07it/s]"
     ]
    },
    {
     "name": "stdout",
     "output_type": "stream",
     "text": [
      "\n",
      "Training Loss: 0.070 dev performance, p:0.821, r:0.970, f1:0.889\n",
      "\n",
      " Epoch 54 / 100\n"
     ]
    },
    {
     "name": "stderr",
     "output_type": "stream",
     "text": [
      "\n",
      "100%|██████████| 129/129 [00:08<00:00, 15.68it/s]"
     ]
    },
    {
     "name": "stdout",
     "output_type": "stream",
     "text": [
      "evaluating...\n"
     ]
    },
    {
     "name": "stderr",
     "output_type": "stream",
     "text": [
      "\n",
      "100%|██████████| 43/43 [00:00<00:00, 80.67it/s]"
     ]
    },
    {
     "name": "stdout",
     "output_type": "stream",
     "text": [
      "\n",
      "Training Loss: 0.067 dev performance, p:0.831, r:0.970, f1:0.895\n",
      "\n",
      " Epoch 55 / 100\n"
     ]
    },
    {
     "name": "stderr",
     "output_type": "stream",
     "text": [
      "\n",
      "100%|██████████| 129/129 [00:08<00:00, 15.57it/s]"
     ]
    },
    {
     "name": "stdout",
     "output_type": "stream",
     "text": [
      "evaluating...\n"
     ]
    },
    {
     "name": "stderr",
     "output_type": "stream",
     "text": [
      "\n",
      "100%|██████████| 43/43 [00:00<00:00, 83.26it/s]"
     ]
    },
    {
     "name": "stdout",
     "output_type": "stream",
     "text": [
      "\n",
      "Training Loss: 0.063 dev performance, p:0.863, r:0.955, f1:0.906\n",
      "\n",
      " Epoch 56 / 100\n"
     ]
    },
    {
     "name": "stderr",
     "output_type": "stream",
     "text": [
      "\n",
      "100%|██████████| 129/129 [00:08<00:00, 15.62it/s]"
     ]
    },
    {
     "name": "stdout",
     "output_type": "stream",
     "text": [
      "evaluating...\n"
     ]
    },
    {
     "name": "stderr",
     "output_type": "stream",
     "text": [
      "\n",
      "100%|██████████| 43/43 [00:00<00:00, 83.30it/s]"
     ]
    },
    {
     "name": "stdout",
     "output_type": "stream",
     "text": [
      "\n",
      "Training Loss: 0.066 dev performance, p:0.842, r:0.970, f1:0.901\n",
      "\n",
      " Epoch 57 / 100\n"
     ]
    },
    {
     "name": "stderr",
     "output_type": "stream",
     "text": [
      "\n",
      "100%|██████████| 129/129 [00:08<00:00, 15.63it/s]"
     ]
    },
    {
     "name": "stdout",
     "output_type": "stream",
     "text": [
      "evaluating...\n"
     ]
    },
    {
     "name": "stderr",
     "output_type": "stream",
     "text": [
      "\n",
      "100%|██████████| 43/43 [00:00<00:00, 83.81it/s]"
     ]
    },
    {
     "name": "stdout",
     "output_type": "stream",
     "text": [
      "\n",
      "Training Loss: 0.061 dev performance, p:0.831, r:0.970, f1:0.895\n",
      "\n",
      " Epoch 58 / 100\n"
     ]
    },
    {
     "name": "stderr",
     "output_type": "stream",
     "text": [
      "\n",
      "100%|██████████| 129/129 [00:08<00:00, 15.64it/s]"
     ]
    },
    {
     "name": "stdout",
     "output_type": "stream",
     "text": [
      "evaluating...\n"
     ]
    },
    {
     "name": "stderr",
     "output_type": "stream",
     "text": [
      "\n",
      "100%|██████████| 43/43 [00:00<00:00, 86.75it/s]"
     ]
    },
    {
     "name": "stdout",
     "output_type": "stream",
     "text": [
      "\n",
      "Training Loss: 0.068 dev performance, p:0.831, r:0.970, f1:0.895\n",
      "\n",
      " Epoch 59 / 100\n"
     ]
    },
    {
     "name": "stderr",
     "output_type": "stream",
     "text": [
      "\n",
      "100%|██████████| 129/129 [00:08<00:00, 15.61it/s]"
     ]
    },
    {
     "name": "stdout",
     "output_type": "stream",
     "text": [
      "evaluating...\n"
     ]
    },
    {
     "name": "stderr",
     "output_type": "stream",
     "text": [
      "\n",
      "100%|██████████| 43/43 [00:00<00:00, 82.91it/s]\n"
     ]
    },
    {
     "name": "stdout",
     "output_type": "stream",
     "text": [
      "\n",
      "Training Loss: 0.083 dev performance, p:0.821, r:0.970, f1:0.889\n",
      "\n",
      " Epoch 60 / 100\n"
     ]
    },
    {
     "name": "stderr",
     "output_type": "stream",
     "text": [
      "100%|██████████| 129/129 [00:08<00:00, 15.60it/s]"
     ]
    },
    {
     "name": "stdout",
     "output_type": "stream",
     "text": [
      "evaluating...\n"
     ]
    },
    {
     "name": "stderr",
     "output_type": "stream",
     "text": [
      "\n",
      "100%|██████████| 43/43 [00:00<00:00, 82.47it/s]"
     ]
    },
    {
     "name": "stdout",
     "output_type": "stream",
     "text": [
      "\n",
      "Training Loss: 0.082 dev performance, p:0.853, r:0.970, f1:0.908\n",
      "\n",
      " Epoch 61 / 100\n"
     ]
    },
    {
     "name": "stderr",
     "output_type": "stream",
     "text": [
      "\n",
      "100%|██████████| 129/129 [00:08<00:00, 15.47it/s]"
     ]
    },
    {
     "name": "stdout",
     "output_type": "stream",
     "text": [
      "evaluating...\n"
     ]
    },
    {
     "name": "stderr",
     "output_type": "stream",
     "text": [
      "\n",
      "100%|██████████| 43/43 [00:00<00:00, 82.71it/s]"
     ]
    },
    {
     "name": "stdout",
     "output_type": "stream",
     "text": [
      "\n",
      "Training Loss: 0.099 dev performance, p:0.853, r:0.970, f1:0.908\n",
      "\n",
      " Epoch 62 / 100\n"
     ]
    },
    {
     "name": "stderr",
     "output_type": "stream",
     "text": [
      "\n",
      "100%|██████████| 129/129 [00:08<00:00, 15.59it/s]"
     ]
    },
    {
     "name": "stdout",
     "output_type": "stream",
     "text": [
      "evaluating...\n"
     ]
    },
    {
     "name": "stderr",
     "output_type": "stream",
     "text": [
      "\n",
      "100%|██████████| 43/43 [00:00<00:00, 84.31it/s]"
     ]
    },
    {
     "name": "stdout",
     "output_type": "stream",
     "text": [
      "\n",
      "Training Loss: 0.086 dev performance, p:0.831, r:0.970, f1:0.895\n",
      "\n",
      " Epoch 63 / 100\n"
     ]
    },
    {
     "name": "stderr",
     "output_type": "stream",
     "text": [
      "\n",
      "100%|██████████| 129/129 [00:08<00:00, 15.59it/s]"
     ]
    },
    {
     "name": "stdout",
     "output_type": "stream",
     "text": [
      "evaluating...\n"
     ]
    },
    {
     "name": "stderr",
     "output_type": "stream",
     "text": [
      "\n",
      "100%|██████████| 43/43 [00:00<00:00, 89.38it/s]"
     ]
    },
    {
     "name": "stdout",
     "output_type": "stream",
     "text": [
      "\n",
      "Training Loss: 0.089 dev performance, p:0.863, r:0.955, f1:0.906\n",
      "\n",
      " Epoch 64 / 100\n"
     ]
    },
    {
     "name": "stderr",
     "output_type": "stream",
     "text": [
      "\n",
      "100%|██████████| 129/129 [00:08<00:00, 15.55it/s]"
     ]
    },
    {
     "name": "stdout",
     "output_type": "stream",
     "text": [
      "evaluating...\n"
     ]
    },
    {
     "name": "stderr",
     "output_type": "stream",
     "text": [
      "\n",
      "100%|██████████| 43/43 [00:00<00:00, 84.07it/s]"
     ]
    },
    {
     "name": "stdout",
     "output_type": "stream",
     "text": [
      "\n",
      "Training Loss: 0.067 dev performance, p:0.851, r:0.955, f1:0.900\n",
      "\n",
      " Epoch 65 / 100\n"
     ]
    },
    {
     "name": "stderr",
     "output_type": "stream",
     "text": [
      "\n",
      "100%|██████████| 129/129 [00:08<00:00, 15.51it/s]"
     ]
    },
    {
     "name": "stdout",
     "output_type": "stream",
     "text": [
      "evaluating...\n"
     ]
    },
    {
     "name": "stderr",
     "output_type": "stream",
     "text": [
      "\n",
      "100%|██████████| 43/43 [00:00<00:00, 86.00it/s]"
     ]
    },
    {
     "name": "stdout",
     "output_type": "stream",
     "text": [
      "\n",
      "Training Loss: 0.066 dev performance, p:0.855, r:0.985, f1:0.915\n",
      "\n",
      " Epoch 66 / 100\n"
     ]
    },
    {
     "name": "stderr",
     "output_type": "stream",
     "text": [
      "\n",
      "100%|██████████| 129/129 [00:08<00:00, 15.60it/s]"
     ]
    },
    {
     "name": "stdout",
     "output_type": "stream",
     "text": [
      "evaluating...\n"
     ]
    },
    {
     "name": "stderr",
     "output_type": "stream",
     "text": [
      "\n",
      "100%|██████████| 43/43 [00:00<00:00, 87.05it/s]"
     ]
    },
    {
     "name": "stdout",
     "output_type": "stream",
     "text": [
      "\n",
      "Training Loss: 0.064 dev performance, p:0.851, r:0.955, f1:0.900\n",
      "\n",
      " Epoch 67 / 100\n"
     ]
    },
    {
     "name": "stderr",
     "output_type": "stream",
     "text": [
      "\n",
      "100%|██████████| 129/129 [00:08<00:00, 15.61it/s]"
     ]
    },
    {
     "name": "stdout",
     "output_type": "stream",
     "text": [
      "evaluating...\n"
     ]
    },
    {
     "name": "stderr",
     "output_type": "stream",
     "text": [
      "\n",
      "100%|██████████| 43/43 [00:00<00:00, 85.21it/s]"
     ]
    },
    {
     "name": "stdout",
     "output_type": "stream",
     "text": [
      "\n",
      "Training Loss: 0.064 dev performance, p:0.865, r:0.970, f1:0.914\n",
      "\n",
      " Epoch 68 / 100\n"
     ]
    },
    {
     "name": "stderr",
     "output_type": "stream",
     "text": [
      "\n",
      "100%|██████████| 129/129 [00:08<00:00, 15.56it/s]"
     ]
    },
    {
     "name": "stdout",
     "output_type": "stream",
     "text": [
      "evaluating...\n"
     ]
    },
    {
     "name": "stderr",
     "output_type": "stream",
     "text": [
      "\n",
      "100%|██████████| 43/43 [00:00<00:00, 87.80it/s]"
     ]
    },
    {
     "name": "stdout",
     "output_type": "stream",
     "text": [
      "\n",
      "Training Loss: 0.073 dev performance, p:0.863, r:0.955, f1:0.906\n",
      "\n",
      " Epoch 69 / 100\n"
     ]
    },
    {
     "name": "stderr",
     "output_type": "stream",
     "text": [
      "\n",
      "100%|██████████| 129/129 [00:08<00:00, 15.58it/s]"
     ]
    },
    {
     "name": "stdout",
     "output_type": "stream",
     "text": [
      "evaluating...\n"
     ]
    },
    {
     "name": "stderr",
     "output_type": "stream",
     "text": [
      "\n",
      "100%|██████████| 43/43 [00:00<00:00, 86.46it/s]"
     ]
    },
    {
     "name": "stdout",
     "output_type": "stream",
     "text": [
      "\n",
      "Training Loss: 0.066 dev performance, p:0.853, r:0.970, f1:0.908\n",
      "\n",
      " Epoch 70 / 100\n"
     ]
    },
    {
     "name": "stderr",
     "output_type": "stream",
     "text": [
      "\n",
      "100%|██████████| 129/129 [00:08<00:00, 15.64it/s]"
     ]
    },
    {
     "name": "stdout",
     "output_type": "stream",
     "text": [
      "evaluating...\n"
     ]
    },
    {
     "name": "stderr",
     "output_type": "stream",
     "text": [
      "\n",
      "100%|██████████| 43/43 [00:00<00:00, 83.97it/s]"
     ]
    },
    {
     "name": "stdout",
     "output_type": "stream",
     "text": [
      "\n",
      "Training Loss: 0.065 dev performance, p:0.887, r:0.955, f1:0.920\n",
      "\n",
      " Epoch 71 / 100\n"
     ]
    },
    {
     "name": "stderr",
     "output_type": "stream",
     "text": [
      "\n",
      "100%|██████████| 129/129 [00:08<00:00, 15.68it/s]"
     ]
    },
    {
     "name": "stdout",
     "output_type": "stream",
     "text": [
      "evaluating...\n"
     ]
    },
    {
     "name": "stderr",
     "output_type": "stream",
     "text": [
      "\n",
      "100%|██████████| 43/43 [00:00<00:00, 86.89it/s]"
     ]
    },
    {
     "name": "stdout",
     "output_type": "stream",
     "text": [
      "\n",
      "Training Loss: 0.061 dev performance, p:0.842, r:0.970, f1:0.901\n",
      "\n",
      " Epoch 72 / 100\n"
     ]
    },
    {
     "name": "stderr",
     "output_type": "stream",
     "text": [
      "\n",
      "100%|██████████| 129/129 [00:08<00:00, 15.63it/s]"
     ]
    },
    {
     "name": "stdout",
     "output_type": "stream",
     "text": [
      "evaluating...\n"
     ]
    },
    {
     "name": "stderr",
     "output_type": "stream",
     "text": [
      "\n",
      "100%|██████████| 43/43 [00:00<00:00, 86.50it/s]"
     ]
    },
    {
     "name": "stdout",
     "output_type": "stream",
     "text": [
      "\n",
      "Training Loss: 0.064 dev performance, p:0.842, r:0.970, f1:0.901\n",
      "\n",
      " Epoch 73 / 100\n"
     ]
    },
    {
     "name": "stderr",
     "output_type": "stream",
     "text": [
      "\n",
      "100%|██████████| 129/129 [00:08<00:00, 15.48it/s]"
     ]
    },
    {
     "name": "stdout",
     "output_type": "stream",
     "text": [
      "evaluating...\n"
     ]
    },
    {
     "name": "stderr",
     "output_type": "stream",
     "text": [
      "\n",
      "100%|██████████| 43/43 [00:00<00:00, 84.81it/s]"
     ]
    },
    {
     "name": "stdout",
     "output_type": "stream",
     "text": [
      "\n",
      "Training Loss: 0.062 dev performance, p:0.853, r:0.970, f1:0.908\n",
      "\n",
      " Epoch 74 / 100\n"
     ]
    },
    {
     "name": "stderr",
     "output_type": "stream",
     "text": [
      "\n",
      "100%|██████████| 129/129 [00:08<00:00, 15.64it/s]"
     ]
    },
    {
     "name": "stdout",
     "output_type": "stream",
     "text": [
      "evaluating...\n"
     ]
    },
    {
     "name": "stderr",
     "output_type": "stream",
     "text": [
      "\n",
      "100%|██████████| 43/43 [00:00<00:00, 87.18it/s]"
     ]
    },
    {
     "name": "stdout",
     "output_type": "stream",
     "text": [
      "\n",
      "Training Loss: 0.061 dev performance, p:0.853, r:0.970, f1:0.908\n",
      "\n",
      " Epoch 75 / 100\n"
     ]
    },
    {
     "name": "stderr",
     "output_type": "stream",
     "text": [
      "\n",
      "100%|██████████| 129/129 [00:08<00:00, 15.66it/s]"
     ]
    },
    {
     "name": "stdout",
     "output_type": "stream",
     "text": [
      "evaluating...\n"
     ]
    },
    {
     "name": "stderr",
     "output_type": "stream",
     "text": [
      "\n",
      "100%|██████████| 43/43 [00:00<00:00, 84.97it/s]"
     ]
    },
    {
     "name": "stdout",
     "output_type": "stream",
     "text": [
      "\n",
      "Training Loss: 0.064 dev performance, p:0.840, r:0.955, f1:0.894\n",
      "\n",
      " Epoch 76 / 100\n"
     ]
    },
    {
     "name": "stderr",
     "output_type": "stream",
     "text": [
      "\n",
      "100%|██████████| 129/129 [00:08<00:00, 15.61it/s]"
     ]
    },
    {
     "name": "stdout",
     "output_type": "stream",
     "text": [
      "evaluating...\n"
     ]
    },
    {
     "name": "stderr",
     "output_type": "stream",
     "text": [
      "\n",
      "100%|██████████| 43/43 [00:00<00:00, 85.36it/s]"
     ]
    },
    {
     "name": "stdout",
     "output_type": "stream",
     "text": [
      "\n",
      "Training Loss: 0.061 dev performance, p:0.865, r:0.970, f1:0.914\n",
      "\n",
      " Epoch 77 / 100\n"
     ]
    },
    {
     "name": "stderr",
     "output_type": "stream",
     "text": [
      "\n",
      "100%|██████████| 129/129 [00:08<00:00, 15.53it/s]"
     ]
    },
    {
     "name": "stdout",
     "output_type": "stream",
     "text": [
      "evaluating...\n"
     ]
    },
    {
     "name": "stderr",
     "output_type": "stream",
     "text": [
      "\n",
      "100%|██████████| 43/43 [00:00<00:00, 89.89it/s]"
     ]
    },
    {
     "name": "stdout",
     "output_type": "stream",
     "text": [
      "\n",
      "Training Loss: 0.059 dev performance, p:0.853, r:0.970, f1:0.908\n",
      "\n",
      " Epoch 78 / 100\n"
     ]
    },
    {
     "name": "stderr",
     "output_type": "stream",
     "text": [
      "\n",
      "100%|██████████| 129/129 [00:08<00:00, 15.55it/s]"
     ]
    },
    {
     "name": "stdout",
     "output_type": "stream",
     "text": [
      "evaluating...\n"
     ]
    },
    {
     "name": "stderr",
     "output_type": "stream",
     "text": [
      "\n",
      "100%|██████████| 43/43 [00:00<00:00, 85.54it/s]"
     ]
    },
    {
     "name": "stdout",
     "output_type": "stream",
     "text": [
      "\n",
      "Training Loss: 0.071 dev performance, p:0.853, r:0.970, f1:0.908\n",
      "\n",
      " Epoch 79 / 100\n"
     ]
    },
    {
     "name": "stderr",
     "output_type": "stream",
     "text": [
      "\n",
      "100%|██████████| 129/129 [00:08<00:00, 15.68it/s]"
     ]
    },
    {
     "name": "stdout",
     "output_type": "stream",
     "text": [
      "evaluating...\n"
     ]
    },
    {
     "name": "stderr",
     "output_type": "stream",
     "text": [
      "\n",
      "100%|██████████| 43/43 [00:00<00:00, 86.62it/s]"
     ]
    },
    {
     "name": "stdout",
     "output_type": "stream",
     "text": [
      "\n",
      "Training Loss: 0.062 dev performance, p:0.842, r:0.970, f1:0.901\n",
      "\n",
      " Epoch 80 / 100\n"
     ]
    },
    {
     "name": "stderr",
     "output_type": "stream",
     "text": [
      "\n",
      "100%|██████████| 129/129 [00:08<00:00, 15.58it/s]"
     ]
    },
    {
     "name": "stdout",
     "output_type": "stream",
     "text": [
      "evaluating...\n"
     ]
    },
    {
     "name": "stderr",
     "output_type": "stream",
     "text": [
      "\n",
      "100%|██████████| 43/43 [00:00<00:00, 83.33it/s]"
     ]
    },
    {
     "name": "stdout",
     "output_type": "stream",
     "text": [
      "\n",
      "Training Loss: 0.062 dev performance, p:0.851, r:0.955, f1:0.900\n",
      "\n",
      " Epoch 81 / 100\n"
     ]
    },
    {
     "name": "stderr",
     "output_type": "stream",
     "text": [
      "\n",
      "100%|██████████| 129/129 [00:08<00:00, 15.60it/s]"
     ]
    },
    {
     "name": "stdout",
     "output_type": "stream",
     "text": [
      "evaluating...\n"
     ]
    },
    {
     "name": "stderr",
     "output_type": "stream",
     "text": [
      "\n",
      "100%|██████████| 43/43 [00:00<00:00, 82.80it/s]"
     ]
    },
    {
     "name": "stdout",
     "output_type": "stream",
     "text": [
      "\n",
      "Training Loss: 0.061 dev performance, p:0.821, r:0.970, f1:0.889\n",
      "\n",
      " Epoch 82 / 100\n"
     ]
    },
    {
     "name": "stderr",
     "output_type": "stream",
     "text": [
      "\n",
      "100%|██████████| 129/129 [00:08<00:00, 15.68it/s]"
     ]
    },
    {
     "name": "stdout",
     "output_type": "stream",
     "text": [
      "evaluating...\n"
     ]
    },
    {
     "name": "stderr",
     "output_type": "stream",
     "text": [
      "\n",
      "100%|██████████| 43/43 [00:00<00:00, 85.91it/s]"
     ]
    },
    {
     "name": "stdout",
     "output_type": "stream",
     "text": [
      "\n",
      "Training Loss: 0.069 dev performance, p:0.842, r:0.970, f1:0.901\n",
      "\n",
      " Epoch 83 / 100\n"
     ]
    },
    {
     "name": "stderr",
     "output_type": "stream",
     "text": [
      "\n",
      "100%|██████████| 129/129 [00:08<00:00, 15.65it/s]"
     ]
    },
    {
     "name": "stdout",
     "output_type": "stream",
     "text": [
      "evaluating...\n"
     ]
    },
    {
     "name": "stderr",
     "output_type": "stream",
     "text": [
      "\n",
      "100%|██████████| 43/43 [00:00<00:00, 82.79it/s]"
     ]
    },
    {
     "name": "stdout",
     "output_type": "stream",
     "text": [
      "\n",
      "Training Loss: 0.065 dev performance, p:0.842, r:0.970, f1:0.901\n",
      "\n",
      " Epoch 84 / 100\n"
     ]
    },
    {
     "name": "stderr",
     "output_type": "stream",
     "text": [
      "\n",
      "100%|██████████| 129/129 [00:08<00:00, 15.57it/s]"
     ]
    },
    {
     "name": "stdout",
     "output_type": "stream",
     "text": [
      "evaluating...\n"
     ]
    },
    {
     "name": "stderr",
     "output_type": "stream",
     "text": [
      "\n",
      "100%|██████████| 43/43 [00:00<00:00, 84.43it/s]"
     ]
    },
    {
     "name": "stdout",
     "output_type": "stream",
     "text": [
      "\n",
      "Training Loss: 0.063 dev performance, p:0.842, r:0.970, f1:0.901\n",
      "\n",
      " Epoch 85 / 100\n"
     ]
    },
    {
     "name": "stderr",
     "output_type": "stream",
     "text": [
      "\n",
      "100%|██████████| 129/129 [00:08<00:00, 15.59it/s]"
     ]
    },
    {
     "name": "stdout",
     "output_type": "stream",
     "text": [
      "evaluating...\n"
     ]
    },
    {
     "name": "stderr",
     "output_type": "stream",
     "text": [
      "\n",
      "100%|██████████| 43/43 [00:00<00:00, 82.20it/s]"
     ]
    },
    {
     "name": "stdout",
     "output_type": "stream",
     "text": [
      "\n",
      "Training Loss: 0.065 dev performance, p:0.844, r:0.985, f1:0.909\n",
      "\n",
      " Epoch 86 / 100\n"
     ]
    },
    {
     "name": "stderr",
     "output_type": "stream",
     "text": [
      "\n",
      "100%|██████████| 129/129 [00:08<00:00, 15.61it/s]"
     ]
    },
    {
     "name": "stdout",
     "output_type": "stream",
     "text": [
      "evaluating...\n"
     ]
    },
    {
     "name": "stderr",
     "output_type": "stream",
     "text": [
      "\n",
      "100%|██████████| 43/43 [00:00<00:00, 81.13it/s]"
     ]
    },
    {
     "name": "stdout",
     "output_type": "stream",
     "text": [
      "\n",
      "Training Loss: 0.063 dev performance, p:0.853, r:0.970, f1:0.908\n",
      "\n",
      " Epoch 87 / 100\n"
     ]
    },
    {
     "name": "stderr",
     "output_type": "stream",
     "text": [
      "\n",
      "100%|██████████| 129/129 [00:08<00:00, 15.65it/s]"
     ]
    },
    {
     "name": "stdout",
     "output_type": "stream",
     "text": [
      "evaluating...\n"
     ]
    },
    {
     "name": "stderr",
     "output_type": "stream",
     "text": [
      "\n",
      "100%|██████████| 43/43 [00:00<00:00, 86.81it/s]"
     ]
    },
    {
     "name": "stdout",
     "output_type": "stream",
     "text": [
      "\n",
      "Training Loss: 0.063 dev performance, p:0.855, r:0.985, f1:0.915\n",
      "\n",
      " Epoch 88 / 100\n"
     ]
    },
    {
     "name": "stderr",
     "output_type": "stream",
     "text": [
      "\n",
      "100%|██████████| 129/129 [00:10<00:00, 12.55it/s]"
     ]
    },
    {
     "name": "stdout",
     "output_type": "stream",
     "text": [
      "evaluating...\n"
     ]
    },
    {
     "name": "stderr",
     "output_type": "stream",
     "text": [
      "\n",
      "100%|██████████| 43/43 [00:00<00:00, 65.41it/s]"
     ]
    },
    {
     "name": "stdout",
     "output_type": "stream",
     "text": [
      "\n",
      "Training Loss: 0.059 dev performance, p:0.842, r:0.970, f1:0.901\n",
      "\n",
      " Epoch 89 / 100\n"
     ]
    },
    {
     "name": "stderr",
     "output_type": "stream",
     "text": [
      "\n",
      "100%|██████████| 129/129 [00:12<00:00, 10.58it/s]"
     ]
    },
    {
     "name": "stdout",
     "output_type": "stream",
     "text": [
      "evaluating...\n"
     ]
    },
    {
     "name": "stderr",
     "output_type": "stream",
     "text": [
      "\n",
      "100%|██████████| 43/43 [00:00<00:00, 67.04it/s]"
     ]
    },
    {
     "name": "stdout",
     "output_type": "stream",
     "text": [
      "\n",
      "Training Loss: 0.061 dev performance, p:0.831, r:0.970, f1:0.895\n",
      "\n",
      " Epoch 90 / 100\n"
     ]
    },
    {
     "name": "stderr",
     "output_type": "stream",
     "text": [
      "\n",
      "100%|██████████| 129/129 [00:12<00:00, 10.57it/s]"
     ]
    },
    {
     "name": "stdout",
     "output_type": "stream",
     "text": [
      "evaluating...\n"
     ]
    },
    {
     "name": "stderr",
     "output_type": "stream",
     "text": [
      "\n",
      "100%|██████████| 43/43 [00:00<00:00, 67.41it/s]"
     ]
    },
    {
     "name": "stdout",
     "output_type": "stream",
     "text": [
      "\n",
      "Training Loss: 0.065 dev performance, p:0.853, r:0.970, f1:0.908\n",
      "\n",
      " Epoch 91 / 100\n"
     ]
    },
    {
     "name": "stderr",
     "output_type": "stream",
     "text": [
      "\n",
      "100%|██████████| 129/129 [00:12<00:00, 10.60it/s]"
     ]
    },
    {
     "name": "stdout",
     "output_type": "stream",
     "text": [
      "evaluating...\n"
     ]
    },
    {
     "name": "stderr",
     "output_type": "stream",
     "text": [
      "\n",
      "100%|██████████| 43/43 [00:00<00:00, 67.85it/s]"
     ]
    },
    {
     "name": "stdout",
     "output_type": "stream",
     "text": [
      "\n",
      "Training Loss: 0.062 dev performance, p:0.865, r:0.970, f1:0.914\n",
      "\n",
      " Epoch 92 / 100\n"
     ]
    },
    {
     "name": "stderr",
     "output_type": "stream",
     "text": [
      "\n",
      "100%|██████████| 129/129 [00:12<00:00, 10.65it/s]"
     ]
    },
    {
     "name": "stdout",
     "output_type": "stream",
     "text": [
      "evaluating...\n"
     ]
    },
    {
     "name": "stderr",
     "output_type": "stream",
     "text": [
      "\n",
      "100%|██████████| 43/43 [00:00<00:00, 70.03it/s]"
     ]
    },
    {
     "name": "stdout",
     "output_type": "stream",
     "text": [
      "\n",
      "Training Loss: 0.075 dev performance, p:0.853, r:0.970, f1:0.908\n",
      "\n",
      " Epoch 93 / 100\n"
     ]
    },
    {
     "name": "stderr",
     "output_type": "stream",
     "text": [
      "\n",
      "100%|██████████| 129/129 [00:12<00:00, 10.55it/s]"
     ]
    },
    {
     "name": "stdout",
     "output_type": "stream",
     "text": [
      "evaluating...\n"
     ]
    },
    {
     "name": "stderr",
     "output_type": "stream",
     "text": [
      "\n",
      "100%|██████████| 43/43 [00:00<00:00, 64.07it/s]"
     ]
    },
    {
     "name": "stdout",
     "output_type": "stream",
     "text": [
      "\n",
      "Training Loss: 0.069 dev performance, p:0.853, r:0.970, f1:0.908\n",
      "\n",
      " Epoch 94 / 100\n"
     ]
    },
    {
     "name": "stderr",
     "output_type": "stream",
     "text": [
      "\n",
      "100%|██████████| 129/129 [00:12<00:00, 10.53it/s]"
     ]
    },
    {
     "name": "stdout",
     "output_type": "stream",
     "text": [
      "evaluating...\n"
     ]
    },
    {
     "name": "stderr",
     "output_type": "stream",
     "text": [
      "\n",
      "100%|██████████| 43/43 [00:00<00:00, 61.49it/s]"
     ]
    },
    {
     "name": "stdout",
     "output_type": "stream",
     "text": [
      "\n",
      "Training Loss: 0.066 dev performance, p:0.853, r:0.970, f1:0.908\n",
      "\n",
      " Epoch 95 / 100\n"
     ]
    },
    {
     "name": "stderr",
     "output_type": "stream",
     "text": [
      "\n",
      "100%|██████████| 129/129 [00:12<00:00, 10.59it/s]"
     ]
    },
    {
     "name": "stdout",
     "output_type": "stream",
     "text": [
      "evaluating...\n"
     ]
    },
    {
     "name": "stderr",
     "output_type": "stream",
     "text": [
      "\n",
      "100%|██████████| 43/43 [00:00<00:00, 66.51it/s]"
     ]
    },
    {
     "name": "stdout",
     "output_type": "stream",
     "text": [
      "\n",
      "Training Loss: 0.062 dev performance, p:0.865, r:0.970, f1:0.914\n",
      "\n",
      " Epoch 96 / 100\n"
     ]
    },
    {
     "name": "stderr",
     "output_type": "stream",
     "text": [
      "\n",
      "100%|██████████| 129/129 [00:12<00:00, 10.57it/s]"
     ]
    },
    {
     "name": "stdout",
     "output_type": "stream",
     "text": [
      "evaluating...\n"
     ]
    },
    {
     "name": "stderr",
     "output_type": "stream",
     "text": [
      "\n",
      "100%|██████████| 43/43 [00:00<00:00, 62.39it/s]"
     ]
    },
    {
     "name": "stdout",
     "output_type": "stream",
     "text": [
      "\n",
      "Training Loss: 0.066 dev performance, p:0.865, r:0.970, f1:0.914\n",
      "\n",
      " Epoch 97 / 100\n"
     ]
    },
    {
     "name": "stderr",
     "output_type": "stream",
     "text": [
      "\n",
      "100%|██████████| 129/129 [00:12<00:00, 10.61it/s]"
     ]
    },
    {
     "name": "stdout",
     "output_type": "stream",
     "text": [
      "evaluating...\n"
     ]
    },
    {
     "name": "stderr",
     "output_type": "stream",
     "text": [
      "\n",
      "100%|██████████| 43/43 [00:00<00:00, 70.12it/s]"
     ]
    },
    {
     "name": "stdout",
     "output_type": "stream",
     "text": [
      "\n",
      "Training Loss: 0.062 dev performance, p:0.875, r:0.955, f1:0.913\n",
      "\n",
      " Epoch 98 / 100\n"
     ]
    },
    {
     "name": "stderr",
     "output_type": "stream",
     "text": [
      "\n",
      "100%|██████████| 129/129 [00:12<00:00, 10.62it/s]"
     ]
    },
    {
     "name": "stdout",
     "output_type": "stream",
     "text": [
      "evaluating...\n"
     ]
    },
    {
     "name": "stderr",
     "output_type": "stream",
     "text": [
      "\n",
      "100%|██████████| 43/43 [00:00<00:00, 67.53it/s]"
     ]
    },
    {
     "name": "stdout",
     "output_type": "stream",
     "text": [
      "\n",
      "Training Loss: 0.063 dev performance, p:0.865, r:0.970, f1:0.914\n",
      "\n",
      " Epoch 99 / 100\n"
     ]
    },
    {
     "name": "stderr",
     "output_type": "stream",
     "text": [
      "\n",
      "100%|██████████| 129/129 [00:12<00:00, 10.49it/s]"
     ]
    },
    {
     "name": "stdout",
     "output_type": "stream",
     "text": [
      "evaluating...\n"
     ]
    },
    {
     "name": "stderr",
     "output_type": "stream",
     "text": [
      "\n",
      "100%|██████████| 43/43 [00:00<00:00, 58.96it/s]"
     ]
    },
    {
     "name": "stdout",
     "output_type": "stream",
     "text": [
      "\n",
      "Training Loss: 0.064 dev performance, p:0.842, r:0.970, f1:0.901\n",
      "\n",
      " Epoch 100 / 100\n"
     ]
    },
    {
     "name": "stderr",
     "output_type": "stream",
     "text": [
      "\n",
      "100%|██████████| 129/129 [00:12<00:00, 10.55it/s]"
     ]
    },
    {
     "name": "stdout",
     "output_type": "stream",
     "text": [
      "evaluating...\n"
     ]
    },
    {
     "name": "stderr",
     "output_type": "stream",
     "text": [
      "\n",
      "100%|██████████| 43/43 [00:00<00:00, 56.93it/s]"
     ]
    },
    {
     "name": "stdout",
     "output_type": "stream",
     "text": [
      "\n",
      "Training Loss: 0.060 dev performance, p:0.853, r:0.970, f1:0.908\n"
     ]
    },
    {
     "name": "stderr",
     "output_type": "stream",
     "text": [
      "\n"
     ]
    }
   ],
   "source": [
    "#for each epoch\n",
    "\n",
    "best_model_state = None\n",
    "best_score = -1\n",
    "\n",
    "for epoch in range(epochs):\n",
    "     \n",
    "    print('\\n Epoch {:} / {:}'.format(epoch + 1, epochs), flush=True)\n",
    "    #train model\n",
    "    train_loss, performance = train()\n",
    "    print('\\nTraining Loss: {:.3f}'.format(train_loss), \n",
    "          'dev performance, p:{precision:.3f}, r:{recall:.3f}, f1:{f1:.3f}'.format(**performance), flush=True)\n",
    "    if best_score < performance['f1']:\n",
    "        best_score = performance['f1']\n",
    "        best_model_state = copy.deepcopy(model.state_dict())\n",
    "        print('current best score is {0:.3f}'.format(best_score), flush=True)    \n",
    "\n",
    "ran = True"
   ]
  },
  {
   "cell_type": "code",
   "execution_count": 166,
   "metadata": {},
   "outputs": [],
   "source": [
    "model_file = 'bluebert_gridsearch_mimic.pt'\n",
    "torch.save(best_model_state, model_file)"
   ]
  },
  {
   "cell_type": "code",
   "execution_count": 167,
   "metadata": {},
   "outputs": [],
   "source": [
    "if not ran:\n",
    "    device = torch.device('cuda' if torch.cuda.is_available() else 'cpu')\n",
    "\n",
    "    model_file = 'bluebert_gridsearch_mimic.pt'\n",
    "\n",
    "    categories = {'control': 0, 'case': 1}\n",
    "    # initialise the model use pretrained bert instance and the label numbers\n",
    "    model = BERT_Text_Classifier(bert_2, class_num=len(categories))\n",
    "\n",
    "    model.load_state_dict(torch.load(model_file))\n",
    "    model.eval()"
   ]
  },
  {
   "cell_type": "markdown",
   "metadata": {},
   "source": [
    "### Test the optimized BlueBERT"
   ]
  },
  {
   "cell_type": "code",
   "execution_count": 168,
   "metadata": {},
   "outputs": [],
   "source": [
    "test_seq = test_seq.to(device)\n",
    "test_mask = test_mask.to(device)\n",
    "model = model.to(device)"
   ]
  },
  {
   "cell_type": "code",
   "execution_count": 169,
   "metadata": {},
   "outputs": [
    {
     "name": "stdout",
     "output_type": "stream",
     "text": [
      "evaluating...\n"
     ]
    },
    {
     "name": "stderr",
     "output_type": "stream",
     "text": [
      "100%|██████████| 43/43 [00:00<00:00, 75.28it/s]"
     ]
    },
    {
     "name": "stdout",
     "output_type": "stream",
     "text": [
      "{'precision': 0.918918918918919, 'recall': 1.0, 'f1': 0.9577464788732395}\n"
     ]
    },
    {
     "name": "stderr",
     "output_type": "stream",
     "text": [
      "\n"
     ]
    }
   ],
   "source": [
    "# dataLoader for test set\n",
    "# wrap tensors\n",
    "testing_data = TensorDataset(test_seq, test_mask, test_y)\n",
    "testing_data_loader = DataLoader(testing_data, batch_size=batch_size)     \n",
    "print(evaluate(model, testing_data_loader))\n",
    "# preds = np.argmax(preds.detach().cpu(), axis = 1)"
   ]
  },
  {
   "cell_type": "code",
   "execution_count": 170,
   "metadata": {},
   "outputs": [
    {
     "name": "stdout",
     "output_type": "stream",
     "text": [
      "              precision    recall  f1-score   support\n",
      "\n",
      "           0       1.00      0.97      0.98       147\n",
      "           1       0.93      1.00      0.96        68\n",
      "\n",
      "    accuracy                           0.98       215\n",
      "   macro avg       0.97      0.98      0.97       215\n",
      "weighted avg       0.98      0.98      0.98       215\n",
      "\n"
     ]
    }
   ],
   "source": [
    "# predicting, so gradients\n",
    "with torch.no_grad():\n",
    "    preds = model(test_seq, test_mask)\n",
    "    \n",
    "preds = np.argmax(preds.detach().cpu(), axis = 1)\n",
    "print(classification_report(test_y, preds))"
   ]
  },
  {
   "cell_type": "code",
   "execution_count": 171,
   "metadata": {},
   "outputs": [
    {
     "data": {
      "image/png": "[encoded data removed]",
      "text/plain": [
       "<Figure size 432x288 with 2 Axes>"
      ]
     },
     "metadata": {
      "needs_background": "light"
     },
     "output_type": "display_data"
    }
   ],
   "source": [
    "cm_bert = confusion_matrix(test_y, preds, labels=[1,0])\n",
    "ax= plt.subplot()\n",
    "sns.heatmap(cm_bert, annot=True, ax = ax, cmap='Blues', fmt=\"d\")\n",
    "\n",
    "ax.set_title('Confusion Matrix of BlueBERT after Grid Search (MIMIC-III data)')\n",
    "\n",
    "ax.set_xlabel('Predicted Labels')\n",
    "ax.set_ylabel('True Labels')\n",
    "\n",
    "ax.xaxis.set_ticklabels(['FAKE', 'REAL'])\n",
    "ax.yaxis.set_ticklabels(['FAKE', 'REAL'])\n",
    "plt.savefig('Confusion_matrix_BlueBERT(grid search)_mimic')"
   ]
  }
 ],
 "metadata": {
  "kernelspec": {
   "display_name": "Python 3",
   "language": "python",
   "name": "python3"
  },
  "language_info": {
   "codemirror_mode": {
    "name": "ipython",
    "version": 3
   },
   "file_extension": ".py",
   "mimetype": "text/x-python",
   "name": "python",
   "nbconvert_exporter": "python",
   "pygments_lexer": "ipython3",
   "version": "3.6.9"
  },
  "latex_envs": {
   "LaTeX_envs_menu_present": true,
   "autoclose": false,
   "autocomplete": true,
   "bibliofile": "biblio.bib",
   "cite_by": "apalike",
   "current_citInitial": 1,
   "eqLabelWithNumbers": true,
   "eqNumInitial": 1,
   "hotkeys": {
    "equation": "Ctrl-E",
    "itemize": "Ctrl-I"
   },
   "labels_anchors": false,
   "latex_user_defs": false,
   "report_style_numbering": false,
   "user_envs_cfg": false
  },
  "toc": {
   "base_numbering": 1,
   "nav_menu": {},
   "number_sections": true,
   "sideBar": true,
   "skip_h1_title": true,
   "title_cell": "Table of Contents",
   "title_sidebar": "Contents",
   "toc_cell": false,
   "toc_position": {
    "height": "calc(100% - 180px)",
    "left": "10px",
    "top": "150px",
    "width": "280.722px"
   },
   "toc_section_display": true,
   "toc_window_display": true
  },
  "varInspector": {
   "cols": {
    "lenName": 16,
    "lenType": 16,
    "lenVar": 40
   },
   "kernels_config": {
    "python": {
     "delete_cmd_postfix": "",
     "delete_cmd_prefix": "del ",
     "library": "var_list.py",
     "varRefreshCmd": "print(var_dic_list())"
    },
    "r": {
     "delete_cmd_postfix": ") ",
     "delete_cmd_prefix": "rm(",
     "library": "var_list.r",
     "varRefreshCmd": "cat(var_dic_list()) "
    }
   },
   "types_to_exclude": [
    "module",
    "function",
    "builtin_function_or_method",
    "instance",
    "_Feature"
   ],
   "window_display": false
  }
 },
 "nbformat": 4,
 "nbformat_minor": 5
}
