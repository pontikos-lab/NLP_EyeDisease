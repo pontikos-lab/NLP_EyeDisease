{
 "cells": [
  {
   "cell_type": "markdown",
   "metadata": {},
   "source": [
    "Dataset: randomly sample 500 discharge summaries (DS) from MIMIC-III. <br>\n",
    "Description of the dataset: https://mimic.mit.edu/docs/iii/tables/ <br>"
   ]
  },
  {
   "cell_type": "markdown",
   "metadata": {},
   "source": [
    "## Importing additional Python libraries<a class=\"anchor\" id=\"1\"></a>\n",
    "<!-- <mark>[Return Contents](#0) -->"
   ]
  },
  {
   "cell_type": "code",
   "execution_count": 2,
   "metadata": {},
   "outputs": [],
   "source": [
    "import pandas as pd\n",
    "import nltk.data\n",
    "import numpy as np\n",
    "import matplotlib.pyplot as plt # plot figures\n",
    "from nltk.corpus import PlaintextCorpusReader\n",
    "import os, time, random, re, codecs, spacy, math, torch, spacy, transformers, nltk\n",
    "from os.path import join\n",
    "import seaborn as sns # plot figures\n",
    "from os import listdir\n",
    "from os.path import isfile, join\n",
    "from sklearn.model_selection import train_test_split\n",
    "from ipywidgets import IntProgress\n",
    "from sklearn.metrics import classification_report\n",
    "from transformers import AutoModel, BertTokenizerFast\n",
    "from torch.utils.data import TensorDataset, DataLoader, RandomSampler, SequentialSampler\n",
    "import torch.optim as optim\n",
    "import torch.nn as nn\n",
    "import torch.nn.functional as F\n",
    "from sklearn.decomposition import PCA\n",
    "import tensorflow as tf\n",
    "import sklearn.metrics as metrics\n",
    "from sklearn.svm import SVC\n",
    "from sklearn.neighbors import KNeighborsClassifier\n",
    "from sklearn.tree import DecisionTreeClassifier\n",
    "from sklearn.neural_network import MLPClassifier\n",
    "from sklearn.ensemble import RandomForestClassifier\n",
    "from sklearn.naive_bayes import GaussianNB\n",
    "from nltk.stem import PorterStemmer\n",
    "from nltk.corpus import stopwords\n",
    "from nltk.stem.wordnet import WordNetLemmatizer \n",
    "from sklearn import metrics\n",
    "import transformers\n",
    "import torch\n",
    "from torch.utils.data import Dataset, DataLoader, RandomSampler, SequentialSampler\n",
    "from transformers import BertTokenizer, BertModel, BertConfig\n",
    "from sklearn.preprocessing import LabelBinarizer, LabelEncoder\n",
    "from sklearn.metrics import confusion_matrix\n",
    "import tensorflow as tf\n",
    "from sklearn.feature_extraction.text import CountVectorizer\n",
    "from sklearn.feature_extraction.text import TfidfTransformer\n",
    "from sklearn.metrics import plot_roc_curve\n",
    "from bert_sklearn import BertClassifier\n",
    "from bert_sklearn import BertRegressor\n",
    "from bert_sklearn import load_model\n",
    "from sklearn.model_selection import GridSearchCV\n",
    "from transformers import AdamW\n",
    "import torch.optim as optim\n",
    "import codecs, json, copy\n",
    "from tqdm import tqdm\n",
    "from sklearn.pipeline import Pipeline\n",
    "from sklearn.feature_extraction.text import CountVectorizer, TfidfTransformer\n",
    "from sklearn.linear_model import LogisticRegression\n",
    "from sklearn.tree import DecisionTreeClassifier\n",
    "from sklearn.ensemble import RandomForestClassifier\n",
    "from sklearn.neighbors import KNeighborsClassifier\n",
    "from sklearn.svm import SVC\n",
    "from sklearn.naive_bayes import GaussianNB\n",
    "from transformers.models.bert.modeling_bert import BertModel,BertForMaskedLM, BertForSequenceClassification\n",
    "from sklearn.metrics import precision_recall_fscore_support\n",
    "import warnings\n",
    "warnings.filterwarnings('ignore') "
   ]
  },
  {
   "cell_type": "code",
   "execution_count": 3,
   "metadata": {},
   "outputs": [],
   "source": [
    "# Seeding:\n",
    "def seed_all(seed):  \n",
    "    ''' A function to seed everything for getting stable results and reproducibility'''\n",
    "    random.seed(seed)\n",
    "    np.random.seed(seed)\n",
    "    os.environ['PYTHONHASHSEED'] = str(seed)\n",
    "seed = 2021    \n",
    "seed_all(seed)\n",
    "# Testing size:\n",
    "sizeoftest = 0.2"
   ]
  },
  {
   "cell_type": "markdown",
   "metadata": {},
   "source": [
    "## Importing Dataset and preprocessing <a class=\"anchor\" id=\"2\"></a>\n",
    "<!-- <mark>[Return Contents](#0) -->"
   ]
  },
  {
   "cell_type": "code",
   "execution_count": 4,
   "metadata": {},
   "outputs": [],
   "source": [
    "path = ('....xlsx')\n",
    "xl = pd.ExcelFile(path)\n",
    "df = xl.parse('Sheet1')\n",
    "# df.head()"
   ]
  },
  {
   "cell_type": "code",
   "execution_count": 6,
   "metadata": {},
   "outputs": [
    {
     "data": {
      "text/plain": [
       "(1073, 14)"
      ]
     },
     "execution_count": 6,
     "metadata": {},
     "output_type": "execute_result"
    }
   ],
   "source": [
    "df.shape"
   ]
  },
  {
   "cell_type": "code",
   "execution_count": 7,
   "metadata": {},
   "outputs": [
    {
     "name": "stdout",
     "output_type": "stream",
     "text": [
      "['ROW_ID', 'SUBJECT_ID', 'HADM_ID', 'CATEGORY', 'DESCRIPTION', 'TEXT_whole_doc', 'document structure', 'TEXT_in_doc_structure', 'mention', 'UMLS with desc', 'ORDO with desc', 'gold mention-to-UMLS label', 'gold UMLS-to-ORDO label', 'gold mention-to-ORDO label']\n"
     ]
    }
   ],
   "source": [
    "print(df.columns.tolist()) # column names"
   ]
  },
  {
   "cell_type": "code",
   "execution_count": 8,
   "metadata": {},
   "outputs": [
    {
     "data": {
      "text/plain": [
       "ROW_ID                         int64\n",
       "SUBJECT_ID                     int64\n",
       "HADM_ID                        int64\n",
       "CATEGORY                      object\n",
       "DESCRIPTION                   object\n",
       "TEXT_whole_doc                object\n",
       "document structure            object\n",
       "TEXT_in_doc_structure         object\n",
       "mention                       object\n",
       "UMLS with desc                object\n",
       "ORDO with desc                object\n",
       "gold mention-to-UMLS label     int64\n",
       "gold UMLS-to-ORDO label        int64\n",
       "gold mention-to-ORDO label     int64\n",
       "dtype: object"
      ]
     },
     "execution_count": 8,
     "metadata": {},
     "output_type": "execute_result"
    }
   ],
   "source": [
    "df.dtypes"
   ]
  },
  {
   "cell_type": "code",
   "execution_count": 9,
   "metadata": {},
   "outputs": [
    {
     "data": {
      "text/plain": [
       "Hospital_course                         359\n",
       "History_of_Past_Illness                 171\n",
       "History_of_Present_Illness              139\n",
       "pertinent_results                        64\n",
       "Discharge_Diagnosis                      58\n",
       "Discharge_Medications                    54\n",
       "Admission_Medications                    49\n",
       "basic                                    36\n",
       "Hospital_Discharge_Physical              30\n",
       "Review_of_Systems                        18\n",
       "Chief_Complaint_and_Reason_for_Visit     15\n",
       "facility                                 14\n",
       "Social_History                           11\n",
       "Procedures                                9\n",
       "Hospital_Discharge_Studies                9\n",
       "Hospital_Discharge_Instructions           8\n",
       "interpretation                            7\n",
       "admission_studies                         5\n",
       "impression                                5\n",
       "Problem                                   4\n",
       "Immunizations                             2\n",
       "Nutrition                                 2\n",
       "Vital_Signs                               1\n",
       "Allergies_and_Intolerances                1\n",
       "Family_History                            1\n",
       "admission_condition                       1\n",
       "Name: document structure, dtype: int64"
      ]
     },
     "execution_count": 9,
     "metadata": {},
     "output_type": "execute_result"
    }
   ],
   "source": [
    "df['document structure'].value_counts()"
   ]
  },
  {
   "cell_type": "markdown",
   "metadata": {},
   "source": [
    "### Data cleaning <a class=\"anchor\" id=\"2_1\"></a>"
   ]
  },
  {
   "cell_type": "code",
   "execution_count": 10,
   "metadata": {},
   "outputs": [
    {
     "data": {
      "text/plain": [
       "ROW_ID                        False\n",
       "SUBJECT_ID                    False\n",
       "HADM_ID                       False\n",
       "CATEGORY                      False\n",
       "DESCRIPTION                   False\n",
       "TEXT_whole_doc                False\n",
       "document structure            False\n",
       "TEXT_in_doc_structure         False\n",
       "mention                       False\n",
       "UMLS with desc                False\n",
       "ORDO with desc                False\n",
       "gold mention-to-UMLS label    False\n",
       "gold UMLS-to-ORDO label       False\n",
       "gold mention-to-ORDO label    False\n",
       "dtype: bool"
      ]
     },
     "execution_count": 10,
     "metadata": {},
     "output_type": "execute_result"
    }
   ],
   "source": [
    "df.isnull().any()"
   ]
  },
  {
   "cell_type": "markdown",
   "metadata": {},
   "source": [
    "Class lable : `gold mention-to-UMLS label`: Check whether the matching is correct from the mention to the UMLS concept, 1 if correct, 0 if not."
   ]
  },
  {
   "cell_type": "code",
   "execution_count": 11,
   "metadata": {},
   "outputs": [
    {
     "data": {
      "text/plain": [
       " 0    743\n",
       " 1    329\n",
       "-1      1\n",
       "Name: gold mention-to-UMLS label, dtype: int64"
      ]
     },
     "execution_count": 11,
     "metadata": {},
     "output_type": "execute_result"
    }
   ],
   "source": [
    "df['gold mention-to-UMLS label'].value_counts() # 1 incorrect data for 'gold mention-to-UMLS label'"
   ]
  },
  {
   "cell_type": "code",
   "execution_count": 12,
   "metadata": {},
   "outputs": [],
   "source": [
    "df.drop(df[df['gold mention-to-UMLS label'] == -1].index, inplace=True) # delete unexpected data"
   ]
  },
  {
   "cell_type": "code",
   "execution_count": 13,
   "metadata": {},
   "outputs": [
    {
     "data": {
      "image/png": "[encoded data removed]",
      "text/plain": [
       "<Figure size 432x288 with 1 Axes>"
      ]
     },
     "metadata": {
      "needs_background": "light"
     },
     "output_type": "display_data"
    }
   ],
   "source": [
    "ax = sns.countplot(y=\"gold mention-to-UMLS label\", data=df)\n",
    "plt.title('Distribution of  class')\n",
    "plt.xlabel('Number of class')\n",
    "total = len(df['gold mention-to-UMLS label'])\n",
    "for p in ax.patches:\n",
    "        percentage = '{:.1f}%'.format(100 * p.get_width()/total)\n",
    "        x = p.get_x() + p.get_width() + 0.02\n",
    "        y = p.get_y() + p.get_height()/2\n",
    "        ax.annotate(percentage, (x, y))\n",
    "# plt.savefig('class_label')\n",
    "plt.show()"
   ]
  },
  {
   "cell_type": "markdown",
   "metadata": {},
   "source": [
    "## Generation of training and testing set<a class=\"anchor\" id=\"6\"></a>\n",
    "<!-- <mark>[Return Contents](#0) -->"
   ]
  },
  {
   "cell_type": "code",
   "execution_count": 15,
   "metadata": {},
   "outputs": [
    {
     "name": "stdout",
     "output_type": "stream",
     "text": [
      "Train size: 642\n",
      "Dev size: 215\n",
      "Test size: 215\n"
     ]
    }
   ],
   "source": [
    "texts = df['mention'].tolist()\n",
    "labels = df['gold mention-to-UMLS label'].tolist()\n",
    "X, X_test, y, y_test = train_test_split(texts,\n",
    "                                        labels,\n",
    "                                        test_size=0.2,\n",
    "                                        train_size=0.8,\n",
    "                                        random_state=seed)\n",
    "X_train, X_dev, y_train, y_dev = train_test_split(X,\n",
    "                                                  y,\n",
    "                                                  test_size=0.25,\n",
    "                                                  train_size=0.75,\n",
    "                                                  random_state=seed)\n",
    "# len(X_train), len(y_train), len(X_test), len(y_test), len(X_dev), len(y_dev)\n",
    "print(\"Train size:\", len(X_train))\n",
    "print(\"Dev size:\", len(X_dev))\n",
    "print(\"Test size:\", len(X_test))"
   ]
  },
  {
   "cell_type": "markdown",
   "metadata": {},
   "source": [
    "## Classification algorithm 1: BERT<a class=\"anchor\" id=\"7\"></a>\n",
    "<!-- <mark>[Return Contents](#0) -->"
   ]
  },
  {
   "cell_type": "markdown",
   "metadata": {},
   "source": [
    "### Loading pre-trained models<a class=\"anchor\" id=\"7_1\"></a>\n",
    "Model from huggingface: https://huggingface.co/models"
   ]
  },
  {
   "cell_type": "code",
   "execution_count": 16,
   "metadata": {},
   "outputs": [
    {
     "name": "stderr",
     "output_type": "stream",
     "text": [
      "Some weights of the model checkpoint at bert-base-uncased were not used when initializing BertModel: ['cls.predictions.transform.dense.weight', 'cls.predictions.transform.dense.bias', 'cls.predictions.transform.LayerNorm.bias', 'cls.predictions.decoder.weight', 'cls.seq_relationship.weight', 'cls.seq_relationship.bias', 'cls.predictions.transform.LayerNorm.weight', 'cls.predictions.bias']\n",
      "- This IS expected if you are initializing BertModel from the checkpoint of a model trained on another task or with another architecture (e.g. initializing a BertForSequenceClassification model from a BertForPreTraining model).\n",
      "- This IS NOT expected if you are initializing BertModel from the checkpoint of a model that you expect to be exactly identical (initializing a BertForSequenceClassification model from a BertForSequenceClassification model).\n"
     ]
    }
   ],
   "source": [
    "# import BERT-base pretrained model\n",
    "bert = AutoModel.from_pretrained('bert-base-uncased')\n",
    "# Load the BERT tokenizer\n",
    "tokenizer = BertTokenizerFast.from_pretrained('bert-base-uncased')"
   ]
  },
  {
   "cell_type": "markdown",
   "metadata": {},
   "source": [
    "### Loading data for training and testing<a class=\"anchor\" id=\"7_1\"></a>"
   ]
  },
  {
   "cell_type": "code",
   "execution_count": 17,
   "metadata": {},
   "outputs": [],
   "source": [
    "def prepare_X_y(texts, labels):    \n",
    "    tokenized = tokenizer.batch_encode_plus(\n",
    "        texts,\n",
    "        padding=True,\n",
    "        truncation=True\n",
    "    )\n",
    "    seq = torch.tensor(tokenized['input_ids'])\n",
    "    mask = torch.tensor(tokenized['attention_mask'])\n",
    "    y = torch.tensor(labels)\n",
    "    return seq, mask, y\n",
    "\n",
    "train_seq, train_mask, train_y = prepare_X_y(X_train, y_train)\n",
    "dev_seq, dev_mask, dev_y = prepare_X_y(X_dev, y_dev)\n",
    "test_seq, test_mask, test_y = prepare_X_y(X_test, y_test)"
   ]
  },
  {
   "cell_type": "markdown",
   "metadata": {},
   "source": [
    "### Define hyperparameters<a class=\"anchor\" id=\"7_3\"></a>"
   ]
  },
  {
   "cell_type": "code",
   "execution_count": 18,
   "metadata": {},
   "outputs": [],
   "source": [
    "#define a batch size\n",
    "batch_size = 5\n",
    "epochs = 20\n",
    "learning_rate = 1e-1"
   ]
  },
  {
   "cell_type": "markdown",
   "metadata": {},
   "source": [
    "### Create a dataloader instance<a class=\"anchor\" id=\"7_4\"></a>"
   ]
  },
  {
   "cell_type": "code",
   "execution_count": 19,
   "metadata": {},
   "outputs": [],
   "source": [
    "# wrap tensors\n",
    "training_data = TensorDataset(train_seq, train_mask, train_y)\n",
    "dev_data = TensorDataset(dev_seq, dev_mask, dev_y)\n",
    "# testing_data = TensorDataset(test_seq, test_mask, test_y)\n",
    "\n",
    "# sampler for sampling the data during training\n",
    "sampler = RandomSampler(training_data)\n",
    "\n",
    "# dataLoader\n",
    "training_data_loader = DataLoader(training_data, sampler=sampler, batch_size=batch_size)\n",
    "dev_data_loader = DataLoader(dev_data, batch_size=batch_size) \n",
    "# testing_data_loader = DataLoader(testing_data, sampler=sampler, batch_size=batch_size)"
   ]
  },
  {
   "cell_type": "markdown",
   "metadata": {},
   "source": [
    "### Define BERT model<a class=\"anchor\" id=\"7_5\"></a>\n",
    "- BERT pretrained model\n",
    "- one feedforward layer"
   ]
  },
  {
   "cell_type": "code",
   "execution_count": 20,
   "metadata": {},
   "outputs": [],
   "source": [
    "# Define the model\n",
    "\n",
    "class BERT_Text_Classifier(nn.Module):\n",
    "    \n",
    "    def __init__(self, bert, class_num, bert_dim=768, hidden_dim=512):\n",
    "      \n",
    "        super(BERT_Text_Classifier, self).__init__()\n",
    "\n",
    "        self.bert = bert \n",
    "\n",
    "        # define a dropout\n",
    "        self.dropout = nn.Dropout(0.1)\n",
    "\n",
    "        # use relu\n",
    "        self.relu =  nn.ReLU()\n",
    "\n",
    "        # feedforward layer\n",
    "        self.fc1 = nn.Linear(bert_dim, hidden_dim)\n",
    "\n",
    "        # Output layer\n",
    "        self.fc2 = nn.Linear(hidden_dim, class_num)\n",
    "\n",
    "        #softmax function instance\n",
    "        self.softmax = nn.LogSoftmax(dim=1)\n",
    "\n",
    "    #define the forward pass\n",
    "    def forward(self, seq, mask):\n",
    "\n",
    "        # use pretrained bert to read the sequence with the mask (pay attention to which tokens)\n",
    "        bert_out = self.bert(seq, attention_mask=mask)\n",
    "        \n",
    "        # print('last_hidden_state', bert_out['last_hidden_state'].size(), \n",
    "        #      'pooler_output', bert_out['pooler_output'].size())\n",
    "        \n",
    "        lhs = bert_out['pooler_output']\n",
    "        x = self.fc1(lhs)        \n",
    "        x = self.relu(x)\n",
    "        x = self.dropout(x)\n",
    "        x = self.fc2(x)\n",
    "        \n",
    "        # apply softmax activation\n",
    "        x = self.softmax(x)\n",
    "\n",
    "        return x"
   ]
  },
  {
   "cell_type": "markdown",
   "metadata": {},
   "source": [
    "### Evaluation function<a class=\"anchor\" id=\"7_6\"></a>"
   ]
  },
  {
   "cell_type": "code",
   "execution_count": 21,
   "metadata": {},
   "outputs": [],
   "source": [
    "def evaluate(m, evl_loader, eval_labels=[1]):\n",
    "    from sklearn.metrics import precision_recall_fscore_support\n",
    "    preds = []\n",
    "    lbls = []\n",
    "    print('evaluating...', flush=True)\n",
    "    for step, batch in enumerate(tqdm(evl_loader)):        \n",
    "        # use gpu if available\n",
    "        batch = [r.to(device) for r in batch]\n",
    "        seq, mask, labels = batch\n",
    "        with torch.no_grad():\n",
    "            batch_result = m(seq, mask)\n",
    "            rets = np.argmax(batch_result.detach().cpu(), axis = 1).tolist()\n",
    "            preds += rets\n",
    "            lbls += labels.tolist()\n",
    "    p, r, f, _ = precision_recall_fscore_support(lbls, preds, labels=eval_labels)\n",
    "    return {'precision': p[0], 'recall': r[0], 'f1': f[0]}"
   ]
  },
  {
   "cell_type": "markdown",
   "metadata": {},
   "source": [
    "### Training function<a class=\"anchor\" id=\"7_6\"></a>"
   ]
  },
  {
   "cell_type": "code",
   "execution_count": 22,
   "metadata": {},
   "outputs": [],
   "source": [
    "# function to train the model\n",
    "def train():\n",
    "    # dropout activates when in train mode \n",
    "    model.train()\n",
    "\n",
    "    total_loss = 0\n",
    "    for step, batch in enumerate(tqdm(training_data_loader)):\n",
    "        \n",
    "        # use gpu if available\n",
    "        batch = [r.to(device) for r in batch]\n",
    "        \n",
    "        seq, mask, labels = batch\n",
    "        \n",
    "        # reset gradients \n",
    "        model.zero_grad()        \n",
    "\n",
    "        # get model outputs\n",
    "        outputs = model.forward(seq, mask)\n",
    "\n",
    "        # compute the loss between actual and predicted values\n",
    "        loss = cross_entropy(outputs, labels)\n",
    "\n",
    "        # accumulate loss\n",
    "        total_loss = total_loss + loss.item()\n",
    "\n",
    "        # calculate the gradients\n",
    "        loss.backward()\n",
    "\n",
    "        # deal with the exploding gradient problem\n",
    "        torch.nn.utils.clip_grad_norm_(model.parameters(), 1.0)\n",
    "\n",
    "        # update parameters\n",
    "        optimizer.step()\n",
    "\n",
    "    # calculate average loss\n",
    "    average_loss = total_loss / len(training_data_loader)\n",
    "    \n",
    "    ret = evaluate(model, dev_data_loader)\n",
    "  \n",
    "    return average_loss, ret"
   ]
  },
  {
   "cell_type": "markdown",
   "metadata": {},
   "source": [
    "### Identify CPU/GPU device for training<a class=\"anchor\" id=\"7_8\"></a>"
   ]
  },
  {
   "cell_type": "code",
   "execution_count": 5,
   "metadata": {},
   "outputs": [],
   "source": [
    "device = torch.device('cuda' if torch.cuda.is_available() else 'cpu')\n",
    "# device"
   ]
  },
  {
   "cell_type": "code",
   "execution_count": 26,
   "metadata": {},
   "outputs": [],
   "source": [
    "categories = {'control': 0, 'case': 1}\n",
    "# initialise the model use pretrained bert instance and the label numbers\n",
    "model = BERT_Text_Classifier(bert, class_num=len(categories))\n",
    "\n",
    "# push the model to GPU\n",
    "model = model.to(device)\n",
    "\n",
    "# define the optimizer\n",
    "# optimizer = AdamW(model.parameters(),\n",
    "#                   lr = learning_rate)\n",
    "optimizer = optim.SGD(model.parameters(), lr=learning_rate)\n",
    "\n",
    "cross_entropy  = nn.NLLLoss() "
   ]
  },
  {
   "cell_type": "markdown",
   "metadata": {},
   "source": [
    "### Train the model<a class=\"anchor\" id=\"7_9\"></a>"
   ]
  },
  {
   "cell_type": "code",
   "execution_count": 27,
   "metadata": {},
   "outputs": [
    {
     "name": "stdout",
     "output_type": "stream",
     "text": [
      "\n",
      " Epoch 1 / 20\n"
     ]
    },
    {
     "name": "stderr",
     "output_type": "stream",
     "text": [
      "100%|██████████████████████████████████████████████████████████| 129/129 [00:03<00:00, 40.38it/s]"
     ]
    },
    {
     "name": "stdout",
     "output_type": "stream",
     "text": [
      "evaluating...\n"
     ]
    },
    {
     "name": "stderr",
     "output_type": "stream",
     "text": [
      "\n",
      "100%|███████████████████████████████████████████████████████████| 43/43 [00:00<00:00, 161.18it/s]"
     ]
    },
    {
     "name": "stdout",
     "output_type": "stream",
     "text": [
      "\n",
      "Training Loss: 0.383 dev performance, p:0.871, r:0.818, f1:0.844\n",
      "current best score is 0.844\n",
      "\n",
      " Epoch 2 / 20\n"
     ]
    },
    {
     "name": "stderr",
     "output_type": "stream",
     "text": [
      "\n",
      "100%|██████████████████████████████████████████████████████████| 129/129 [00:03<00:00, 41.00it/s]"
     ]
    },
    {
     "name": "stdout",
     "output_type": "stream",
     "text": [
      "evaluating...\n"
     ]
    },
    {
     "name": "stderr",
     "output_type": "stream",
     "text": [
      "\n",
      "100%|███████████████████████████████████████████████████████████| 43/43 [00:00<00:00, 159.09it/s]"
     ]
    },
    {
     "name": "stdout",
     "output_type": "stream",
     "text": [
      "\n",
      "Training Loss: 0.282 dev performance, p:0.841, r:0.879, f1:0.859\n",
      "current best score is 0.859\n",
      "\n",
      " Epoch 3 / 20\n"
     ]
    },
    {
     "name": "stderr",
     "output_type": "stream",
     "text": [
      "\n",
      "100%|██████████████████████████████████████████████████████████| 129/129 [00:03<00:00, 41.26it/s]"
     ]
    },
    {
     "name": "stdout",
     "output_type": "stream",
     "text": [
      "evaluating...\n"
     ]
    },
    {
     "name": "stderr",
     "output_type": "stream",
     "text": [
      "\n",
      "100%|███████████████████████████████████████████████████████████| 43/43 [00:00<00:00, 160.56it/s]"
     ]
    },
    {
     "name": "stdout",
     "output_type": "stream",
     "text": [
      "\n",
      "Training Loss: 0.201 dev performance, p:0.845, r:0.909, f1:0.876\n",
      "current best score is 0.876\n",
      "\n",
      " Epoch 4 / 20\n"
     ]
    },
    {
     "name": "stderr",
     "output_type": "stream",
     "text": [
      "\n",
      "100%|██████████████████████████████████████████████████████████| 129/129 [00:03<00:00, 41.09it/s]"
     ]
    },
    {
     "name": "stdout",
     "output_type": "stream",
     "text": [
      "evaluating...\n"
     ]
    },
    {
     "name": "stderr",
     "output_type": "stream",
     "text": [
      "\n",
      "100%|███████████████████████████████████████████████████████████| 43/43 [00:00<00:00, 160.68it/s]"
     ]
    },
    {
     "name": "stdout",
     "output_type": "stream",
     "text": [
      "\n",
      "Training Loss: 0.184 dev performance, p:0.821, r:0.970, f1:0.889\n",
      "current best score is 0.889\n",
      "\n",
      " Epoch 5 / 20\n"
     ]
    },
    {
     "name": "stderr",
     "output_type": "stream",
     "text": [
      "\n",
      "100%|██████████████████████████████████████████████████████████| 129/129 [00:03<00:00, 41.30it/s]"
     ]
    },
    {
     "name": "stdout",
     "output_type": "stream",
     "text": [
      "evaluating...\n"
     ]
    },
    {
     "name": "stderr",
     "output_type": "stream",
     "text": [
      "\n",
      "100%|███████████████████████████████████████████████████████████| 43/43 [00:00<00:00, 160.19it/s]"
     ]
    },
    {
     "name": "stdout",
     "output_type": "stream",
     "text": [
      "\n",
      "Training Loss: 0.151 dev performance, p:0.851, r:0.955, f1:0.900\n",
      "current best score is 0.900\n",
      "\n",
      " Epoch 6 / 20\n"
     ]
    },
    {
     "name": "stderr",
     "output_type": "stream",
     "text": [
      "\n",
      "100%|██████████████████████████████████████████████████████████| 129/129 [00:03<00:00, 41.21it/s]"
     ]
    },
    {
     "name": "stdout",
     "output_type": "stream",
     "text": [
      "evaluating...\n"
     ]
    },
    {
     "name": "stderr",
     "output_type": "stream",
     "text": [
      "\n",
      "100%|███████████████████████████████████████████████████████████| 43/43 [00:00<00:00, 159.44it/s]"
     ]
    },
    {
     "name": "stdout",
     "output_type": "stream",
     "text": [
      "\n",
      "Training Loss: 0.138 dev performance, p:0.821, r:0.970, f1:0.889\n",
      "\n",
      " Epoch 7 / 20\n"
     ]
    },
    {
     "name": "stderr",
     "output_type": "stream",
     "text": [
      "\n",
      "100%|██████████████████████████████████████████████████████████| 129/129 [00:03<00:00, 41.20it/s]"
     ]
    },
    {
     "name": "stdout",
     "output_type": "stream",
     "text": [
      "evaluating...\n"
     ]
    },
    {
     "name": "stderr",
     "output_type": "stream",
     "text": [
      "\n",
      "100%|███████████████████████████████████████████████████████████| 43/43 [00:00<00:00, 161.39it/s]"
     ]
    },
    {
     "name": "stdout",
     "output_type": "stream",
     "text": [
      "\n",
      "Training Loss: 0.159 dev performance, p:0.863, r:0.955, f1:0.906\n",
      "current best score is 0.906\n",
      "\n",
      " Epoch 8 / 20\n"
     ]
    },
    {
     "name": "stderr",
     "output_type": "stream",
     "text": [
      "\n",
      "100%|██████████████████████████████████████████████████████████| 129/129 [00:03<00:00, 41.31it/s]"
     ]
    },
    {
     "name": "stdout",
     "output_type": "stream",
     "text": [
      "evaluating...\n"
     ]
    },
    {
     "name": "stderr",
     "output_type": "stream",
     "text": [
      "\n",
      "100%|███████████████████████████████████████████████████████████| 43/43 [00:00<00:00, 160.03it/s]"
     ]
    },
    {
     "name": "stdout",
     "output_type": "stream",
     "text": [
      "\n",
      "Training Loss: 0.128 dev performance, p:0.851, r:0.955, f1:0.900\n",
      "\n",
      " Epoch 9 / 20\n"
     ]
    },
    {
     "name": "stderr",
     "output_type": "stream",
     "text": [
      "\n",
      "100%|██████████████████████████████████████████████████████████| 129/129 [00:03<00:00, 41.03it/s]"
     ]
    },
    {
     "name": "stdout",
     "output_type": "stream",
     "text": [
      "evaluating...\n"
     ]
    },
    {
     "name": "stderr",
     "output_type": "stream",
     "text": [
      "\n",
      "100%|███████████████████████████████████████████████████████████| 43/43 [00:00<00:00, 161.30it/s]"
     ]
    },
    {
     "name": "stdout",
     "output_type": "stream",
     "text": [
      "\n",
      "Training Loss: 0.156 dev performance, p:0.851, r:0.955, f1:0.900\n",
      "\n",
      " Epoch 10 / 20\n"
     ]
    },
    {
     "name": "stderr",
     "output_type": "stream",
     "text": [
      "\n",
      "100%|██████████████████████████████████████████████████████████| 129/129 [00:03<00:00, 41.40it/s]"
     ]
    },
    {
     "name": "stdout",
     "output_type": "stream",
     "text": [
      "evaluating...\n"
     ]
    },
    {
     "name": "stderr",
     "output_type": "stream",
     "text": [
      "\n",
      "100%|███████████████████████████████████████████████████████████| 43/43 [00:00<00:00, 157.72it/s]"
     ]
    },
    {
     "name": "stdout",
     "output_type": "stream",
     "text": [
      "\n",
      "Training Loss: 0.116 dev performance, p:0.859, r:0.924, f1:0.891\n",
      "\n",
      " Epoch 11 / 20\n"
     ]
    },
    {
     "name": "stderr",
     "output_type": "stream",
     "text": [
      "\n",
      "100%|██████████████████████████████████████████████████████████| 129/129 [00:03<00:00, 41.28it/s]"
     ]
    },
    {
     "name": "stdout",
     "output_type": "stream",
     "text": [
      "evaluating...\n"
     ]
    },
    {
     "name": "stderr",
     "output_type": "stream",
     "text": [
      "\n",
      "100%|███████████████████████████████████████████████████████████| 43/43 [00:00<00:00, 160.75it/s]"
     ]
    },
    {
     "name": "stdout",
     "output_type": "stream",
     "text": [
      "\n",
      "Training Loss: 0.129 dev performance, p:0.861, r:0.939, f1:0.899\n",
      "\n",
      " Epoch 12 / 20\n"
     ]
    },
    {
     "name": "stderr",
     "output_type": "stream",
     "text": [
      "\n",
      "100%|██████████████████████████████████████████████████████████| 129/129 [00:03<00:00, 41.28it/s]"
     ]
    },
    {
     "name": "stdout",
     "output_type": "stream",
     "text": [
      "evaluating...\n"
     ]
    },
    {
     "name": "stderr",
     "output_type": "stream",
     "text": [
      "\n",
      "100%|███████████████████████████████████████████████████████████| 43/43 [00:00<00:00, 160.27it/s]"
     ]
    },
    {
     "name": "stdout",
     "output_type": "stream",
     "text": [
      "\n",
      "Training Loss: 0.141 dev performance, p:0.855, r:0.894, f1:0.874\n",
      "\n",
      " Epoch 13 / 20\n"
     ]
    },
    {
     "name": "stderr",
     "output_type": "stream",
     "text": [
      "\n",
      "100%|██████████████████████████████████████████████████████████| 129/129 [00:03<00:00, 41.41it/s]"
     ]
    },
    {
     "name": "stdout",
     "output_type": "stream",
     "text": [
      "evaluating...\n"
     ]
    },
    {
     "name": "stderr",
     "output_type": "stream",
     "text": [
      "\n",
      "100%|███████████████████████████████████████████████████████████| 43/43 [00:00<00:00, 160.54it/s]"
     ]
    },
    {
     "name": "stdout",
     "output_type": "stream",
     "text": [
      "\n",
      "Training Loss: 0.106 dev performance, p:0.827, r:0.939, f1:0.879\n",
      "\n",
      " Epoch 14 / 20\n"
     ]
    },
    {
     "name": "stderr",
     "output_type": "stream",
     "text": [
      "\n",
      "100%|██████████████████████████████████████████████████████████| 129/129 [00:03<00:00, 41.42it/s]"
     ]
    },
    {
     "name": "stdout",
     "output_type": "stream",
     "text": [
      "evaluating...\n"
     ]
    },
    {
     "name": "stderr",
     "output_type": "stream",
     "text": [
      "\n",
      "100%|███████████████████████████████████████████████████████████| 43/43 [00:00<00:00, 161.30it/s]"
     ]
    },
    {
     "name": "stdout",
     "output_type": "stream",
     "text": [
      "\n",
      "Training Loss: 0.107 dev performance, p:0.842, r:0.970, f1:0.901\n",
      "\n",
      " Epoch 15 / 20\n"
     ]
    },
    {
     "name": "stderr",
     "output_type": "stream",
     "text": [
      "\n",
      "100%|██████████████████████████████████████████████████████████| 129/129 [00:03<00:00, 41.25it/s]"
     ]
    },
    {
     "name": "stdout",
     "output_type": "stream",
     "text": [
      "evaluating...\n"
     ]
    },
    {
     "name": "stderr",
     "output_type": "stream",
     "text": [
      "\n",
      "100%|███████████████████████████████████████████████████████████| 43/43 [00:00<00:00, 158.65it/s]"
     ]
    },
    {
     "name": "stdout",
     "output_type": "stream",
     "text": [
      "\n",
      "Training Loss: 0.107 dev performance, p:0.851, r:0.955, f1:0.900\n",
      "\n",
      " Epoch 16 / 20\n"
     ]
    },
    {
     "name": "stderr",
     "output_type": "stream",
     "text": [
      "\n",
      "100%|██████████████████████████████████████████████████████████| 129/129 [00:03<00:00, 41.39it/s]"
     ]
    },
    {
     "name": "stdout",
     "output_type": "stream",
     "text": [
      "evaluating...\n"
     ]
    },
    {
     "name": "stderr",
     "output_type": "stream",
     "text": [
      "\n",
      "100%|███████████████████████████████████████████████████████████| 43/43 [00:00<00:00, 161.58it/s]"
     ]
    },
    {
     "name": "stdout",
     "output_type": "stream",
     "text": [
      "\n",
      "Training Loss: 0.102 dev performance, p:0.863, r:0.955, f1:0.906\n",
      "\n",
      " Epoch 17 / 20\n"
     ]
    },
    {
     "name": "stderr",
     "output_type": "stream",
     "text": [
      "\n",
      "100%|██████████████████████████████████████████████████████████| 129/129 [00:03<00:00, 41.26it/s]"
     ]
    },
    {
     "name": "stdout",
     "output_type": "stream",
     "text": [
      "evaluating...\n"
     ]
    },
    {
     "name": "stderr",
     "output_type": "stream",
     "text": [
      "\n",
      "100%|███████████████████████████████████████████████████████████| 43/43 [00:00<00:00, 160.78it/s]"
     ]
    },
    {
     "name": "stdout",
     "output_type": "stream",
     "text": [
      "\n",
      "Training Loss: 0.104 dev performance, p:0.851, r:0.955, f1:0.900\n",
      "\n",
      " Epoch 18 / 20\n"
     ]
    },
    {
     "name": "stderr",
     "output_type": "stream",
     "text": [
      "\n",
      "100%|██████████████████████████████████████████████████████████| 129/129 [00:03<00:00, 41.49it/s]"
     ]
    },
    {
     "name": "stdout",
     "output_type": "stream",
     "text": [
      "evaluating...\n"
     ]
    },
    {
     "name": "stderr",
     "output_type": "stream",
     "text": [
      "\n",
      "100%|███████████████████████████████████████████████████████████| 43/43 [00:00<00:00, 160.20it/s]"
     ]
    },
    {
     "name": "stdout",
     "output_type": "stream",
     "text": [
      "\n",
      "Training Loss: 0.110 dev performance, p:0.829, r:0.955, f1:0.887\n",
      "\n",
      " Epoch 19 / 20\n"
     ]
    },
    {
     "name": "stderr",
     "output_type": "stream",
     "text": [
      "\n",
      "100%|██████████████████████████████████████████████████████████| 129/129 [00:03<00:00, 41.33it/s]"
     ]
    },
    {
     "name": "stdout",
     "output_type": "stream",
     "text": [
      "evaluating...\n"
     ]
    },
    {
     "name": "stderr",
     "output_type": "stream",
     "text": [
      "\n",
      "100%|███████████████████████████████████████████████████████████| 43/43 [00:00<00:00, 161.00it/s]"
     ]
    },
    {
     "name": "stdout",
     "output_type": "stream",
     "text": [
      "\n",
      "Training Loss: 0.107 dev performance, p:0.853, r:0.970, f1:0.908\n",
      "current best score is 0.908\n",
      "\n",
      " Epoch 20 / 20\n"
     ]
    },
    {
     "name": "stderr",
     "output_type": "stream",
     "text": [
      "\n",
      "100%|██████████████████████████████████████████████████████████| 129/129 [00:03<00:00, 41.27it/s]"
     ]
    },
    {
     "name": "stdout",
     "output_type": "stream",
     "text": [
      "evaluating...\n"
     ]
    },
    {
     "name": "stderr",
     "output_type": "stream",
     "text": [
      "\n",
      "100%|███████████████████████████████████████████████████████████| 43/43 [00:00<00:00, 160.16it/s]"
     ]
    },
    {
     "name": "stdout",
     "output_type": "stream",
     "text": [
      "\n",
      "Training Loss: 0.112 dev performance, p:0.882, r:0.909, f1:0.896\n"
     ]
    },
    {
     "name": "stderr",
     "output_type": "stream",
     "text": [
      "\n"
     ]
    }
   ],
   "source": [
    "#for each epoch\n",
    "\n",
    "best_model_state = None\n",
    "best_score = -1\n",
    "\n",
    "for epoch in range(epochs):\n",
    "     \n",
    "    print('\\n Epoch {:} / {:}'.format(epoch + 1, epochs), flush=True)\n",
    "    #train model\n",
    "    train_loss, performance = train()\n",
    "    print('\\nTraining Loss: {:.3f}'.format(train_loss), \n",
    "          'dev performance, p:{precision:.3f}, r:{recall:.3f}, f1:{f1:.3f}'.format(**performance), flush=True)\n",
    "    if best_score < performance['f1']:\n",
    "        best_score = performance['f1']\n",
    "        best_model_state = copy.deepcopy(model.state_dict())\n",
    "        print('current best score is {0:.3f}'.format(best_score), flush=True)    \n",
    "\n",
    "ran = True"
   ]
  },
  {
   "cell_type": "markdown",
   "metadata": {},
   "source": [
    "### Save the model<a class=\"anchor\" id=\"7_10\"></a>"
   ]
  },
  {
   "cell_type": "code",
   "execution_count": 28,
   "metadata": {},
   "outputs": [],
   "source": [
    "model_file = 'bert_initial_mimic.pt'\n",
    "torch.save(best_model_state, model_file)"
   ]
  },
  {
   "cell_type": "code",
   "execution_count": 29,
   "metadata": {},
   "outputs": [],
   "source": [
    "if not ran:\n",
    "    device = torch.device('cuda' if torch.cuda.is_available() else 'cpu')\n",
    "\n",
    "    model_file = 'bert_initial_mimic.pt'\n",
    "\n",
    "    categories = {'control': 0, 'case': 1}\n",
    "    # initialise the model use pretrained bert instance and the label numbers\n",
    "    model = BERT_Text_Classifier(bert, class_num=len(categories))\n",
    "\n",
    "    model.load_state_dict(torch.load(model_file))\n",
    "    model.eval()"
   ]
  },
  {
   "cell_type": "markdown",
   "metadata": {},
   "source": [
    "### Test the model<a class=\"anchor\" id=\"7_11\"></a>"
   ]
  },
  {
   "cell_type": "code",
   "execution_count": 30,
   "metadata": {},
   "outputs": [],
   "source": [
    "test_seq = test_seq.to(device)\n",
    "test_mask = test_mask.to(device)\n",
    "model = model.to(device)"
   ]
  },
  {
   "cell_type": "code",
   "execution_count": 31,
   "metadata": {},
   "outputs": [
    {
     "name": "stdout",
     "output_type": "stream",
     "text": [
      "evaluating...\n"
     ]
    },
    {
     "name": "stderr",
     "output_type": "stream",
     "text": [
      "100%|███████████████████████████████████████████████████████████| 43/43 [00:00<00:00, 161.47it/s]"
     ]
    },
    {
     "name": "stdout",
     "output_type": "stream",
     "text": [
      "{'precision': 0.9558823529411765, 'recall': 0.9558823529411765, 'f1': 0.9558823529411765}\n"
     ]
    },
    {
     "name": "stderr",
     "output_type": "stream",
     "text": [
      "\n"
     ]
    }
   ],
   "source": [
    "# dataLoader for test set\n",
    "# wrap tensors\n",
    "testing_data = TensorDataset(test_seq, test_mask, test_y)\n",
    "testing_data_loader = DataLoader(testing_data, batch_size=batch_size)     \n",
    "print(evaluate(model, testing_data_loader))\n",
    "# preds = np.argmax(preds.detach().cpu(), axis = 1)"
   ]
  },
  {
   "cell_type": "code",
   "execution_count": 32,
   "metadata": {},
   "outputs": [
    {
     "name": "stdout",
     "output_type": "stream",
     "text": [
      "              precision    recall  f1-score   support\n",
      "\n",
      "           0       0.97      0.99      0.98       147\n",
      "           1       0.97      0.93      0.95        68\n",
      "\n",
      "    accuracy                           0.97       215\n",
      "   macro avg       0.97      0.96      0.96       215\n",
      "weighted avg       0.97      0.97      0.97       215\n",
      "\n"
     ]
    }
   ],
   "source": [
    "# predicting, so gradients\n",
    "with torch.no_grad():\n",
    "    preds = model(test_seq, test_mask)\n",
    "    \n",
    "preds = np.argmax(preds.detach().cpu(), axis = 1)\n",
    "print(classification_report(test_y, preds))\n",
    "# report_BERT1 = classification_report(test_y, preds)\n",
    "# classification_report_csv(report_BERT1)"
   ]
  },
  {
   "cell_type": "code",
   "execution_count": 33,
   "metadata": {},
   "outputs": [
    {
     "data": {
      "image/png": "[encoded data removed]",
      "text/plain": [
       "<Figure size 432x288 with 2 Axes>"
      ]
     },
     "metadata": {
      "needs_background": "light"
     },
     "output_type": "display_data"
    }
   ],
   "source": [
    "cm_bert_initial = confusion_matrix(test_y, preds, labels=[1,0])\n",
    "ax= plt.subplot()\n",
    "sns.heatmap(cm_bert_initial, annot=True, ax = ax, cmap='Blues', fmt=\"d\")\n",
    "\n",
    "ax.set_title('Confusion Matrix of BERT (MIMIC-III data)')\n",
    "\n",
    "ax.set_xlabel('Predicted Labels')\n",
    "ax.set_ylabel('True Labels')\n",
    "\n",
    "ax.xaxis.set_ticklabels(['FAKE', 'REAL'])\n",
    "ax.yaxis.set_ticklabels(['FAKE', 'REAL'])\n",
    "plt.savefig('Confusion_matrix_bert_initial_mimic')"
   ]
  },
  {
   "cell_type": "markdown",
   "metadata": {},
   "source": [
    "### Fine-tune hyperparameters<a class=\"anchor\" id=\"7_12\"></a>"
   ]
  },
  {
   "cell_type": "code",
   "execution_count": 34,
   "metadata": {},
   "outputs": [],
   "source": [
    "os.environ[\"TOKENIZERS_PARALLELISM\"] = \"false\""
   ]
  },
  {
   "cell_type": "code",
   "execution_count": 35,
   "metadata": {},
   "outputs": [
    {
     "name": "stdout",
     "output_type": "stream",
     "text": [
      "Building sklearn text classifier...\n",
      "Building sklearn text classifier...\n",
      "Fitting 3 folds for each of 9 candidates, totalling 27 fits\n",
      "Building sklearn text classifier...\n",
      "Loading bert-base-uncased model...\n",
      "Defaulting to linear classifier/regressor\n",
      "Loading Pytorch checkpoint\n",
      "train data size: 428, validation data size: 0\n"
     ]
    },
    {
     "name": "stderr",
     "output_type": "stream",
     "text": [
      "Training  : 100%|████████████████████████████████████| 14/14 [00:02<00:00,  6.93it/s, loss=0.522]\n",
      "Training  : 100%|████████████████████████████████████| 14/14 [00:01<00:00,  7.00it/s, loss=0.283]\n",
      "Training  : 100%|█████████████████████████████████████| 14/14 [00:01<00:00,  7.01it/s, loss=0.21]\n",
      "Training  : 100%|████████████████████████████████████| 14/14 [00:01<00:00,  7.02it/s, loss=0.185]\n",
      "Training  : 100%|████████████████████████████████████| 14/14 [00:02<00:00,  6.95it/s, loss=0.102]\n",
      "Training  : 100%|████████████████████████████████████| 14/14 [00:01<00:00,  7.01it/s, loss=0.135]\n",
      "Training  : 100%|████████████████████████████████████| 14/14 [00:02<00:00,  6.98it/s, loss=0.129]\n",
      "Training  : 100%|███████████████████████████████████| 14/14 [00:01<00:00,  7.00it/s, loss=0.0931]\n",
      "Training  : 100%|███████████████████████████████████| 14/14 [00:01<00:00,  7.03it/s, loss=0.0781]\n",
      "Training  : 100%|███████████████████████████████████| 14/14 [00:01<00:00,  7.04it/s, loss=0.0759]\n",
      "Training  : 100%|████████████████████████████████████| 14/14 [00:01<00:00,  7.02it/s, loss=0.068]\n",
      "Training  : 100%|███████████████████████████████████| 14/14 [00:01<00:00,  7.01it/s, loss=0.0693]\n",
      "Training  : 100%|███████████████████████████████████| 14/14 [00:02<00:00,  6.95it/s, loss=0.0723]\n",
      "Training  : 100%|███████████████████████████████████| 14/14 [00:02<00:00,  6.94it/s, loss=0.0611]\n",
      "Training  : 100%|███████████████████████████████████| 14/14 [00:02<00:00,  6.98it/s, loss=0.0543]\n",
      "Training  : 100%|███████████████████████████████████| 14/14 [00:02<00:00,  6.96it/s, loss=0.0604]\n",
      "Training  : 100%|███████████████████████████████████| 14/14 [00:02<00:00,  6.96it/s, loss=0.0584]\n",
      "Training  : 100%|███████████████████████████████████| 14/14 [00:01<00:00,  7.05it/s, loss=0.0539]\n",
      "Training  : 100%|███████████████████████████████████| 14/14 [00:01<00:00,  7.00it/s, loss=0.0557]\n",
      "Training  : 100%|███████████████████████████████████| 14/14 [00:02<00:00,  6.95it/s, loss=0.0578]\n",
      "Training  : 100%|███████████████████████████████████| 14/14 [00:02<00:00,  6.99it/s, loss=0.0543]\n",
      "Training  : 100%|███████████████████████████████████| 14/14 [00:02<00:00,  6.99it/s, loss=0.0526]\n",
      "Training  : 100%|███████████████████████████████████| 14/14 [00:02<00:00,  6.97it/s, loss=0.0569]\n",
      "Training  : 100%|███████████████████████████████████| 14/14 [00:02<00:00,  6.98it/s, loss=0.0578]\n",
      "Training  : 100%|███████████████████████████████████| 14/14 [00:02<00:00,  6.96it/s, loss=0.0517]\n",
      "Training  : 100%|███████████████████████████████████| 14/14 [00:01<00:00,  7.00it/s, loss=0.0575]\n",
      "Training  : 100%|███████████████████████████████████| 14/14 [00:02<00:00,  6.99it/s, loss=0.0503]\n",
      "Training  : 100%|███████████████████████████████████| 14/14 [00:02<00:00,  6.95it/s, loss=0.0539]\n",
      "Training  : 100%|███████████████████████████████████| 14/14 [00:02<00:00,  6.95it/s, loss=0.0535]\n",
      "Training  : 100%|███████████████████████████████████| 14/14 [00:02<00:00,  6.98it/s, loss=0.0535]\n",
      "Training  : 100%|███████████████████████████████████| 14/14 [00:01<00:00,  7.02it/s, loss=0.0511]\n",
      "Training  : 100%|███████████████████████████████████| 14/14 [00:02<00:00,  6.99it/s, loss=0.0588]\n",
      "Training  : 100%|███████████████████████████████████| 14/14 [00:02<00:00,  6.97it/s, loss=0.0522]\n",
      "Training  : 100%|███████████████████████████████████| 14/14 [00:02<00:00,  6.97it/s, loss=0.0593]\n",
      "Training  : 100%|███████████████████████████████████| 14/14 [00:02<00:00,  6.93it/s, loss=0.0529]\n",
      "Training  : 100%|███████████████████████████████████| 14/14 [00:02<00:00,  6.96it/s, loss=0.0491]\n",
      "Training  : 100%|████████████████████████████████████| 14/14 [00:02<00:00,  6.94it/s, loss=0.058]\n",
      "Training  : 100%|███████████████████████████████████| 14/14 [00:02<00:00,  6.99it/s, loss=0.0706]\n",
      "Training  : 100%|███████████████████████████████████| 14/14 [00:02<00:00,  6.99it/s, loss=0.0484]\n",
      "Training  : 100%|███████████████████████████████████| 14/14 [00:02<00:00,  6.97it/s, loss=0.0483]\n",
      "Training  : 100%|███████████████████████████████████| 14/14 [00:02<00:00,  6.96it/s, loss=0.0468]\n",
      "Training  : 100%|███████████████████████████████████| 14/14 [00:01<00:00,  7.00it/s, loss=0.0541]\n",
      "Training  : 100%|███████████████████████████████████| 14/14 [00:02<00:00,  6.96it/s, loss=0.0437]\n",
      "Training  : 100%|███████████████████████████████████| 14/14 [00:02<00:00,  6.97it/s, loss=0.0483]\n",
      "Training  : 100%|███████████████████████████████████| 14/14 [00:02<00:00,  6.99it/s, loss=0.0457]\n",
      "Training  : 100%|███████████████████████████████████| 14/14 [00:01<00:00,  7.01it/s, loss=0.0469]\n",
      "Training  : 100%|███████████████████████████████████| 14/14 [00:02<00:00,  6.96it/s, loss=0.0447]\n",
      "Training  : 100%|███████████████████████████████████| 14/14 [00:01<00:00,  7.04it/s, loss=0.0474]\n",
      "Training  : 100%|███████████████████████████████████| 14/14 [00:02<00:00,  6.95it/s, loss=0.0423]\n",
      "Training  : 100%|███████████████████████████████████| 14/14 [00:02<00:00,  6.99it/s, loss=0.0562]\n",
      "Predicting: 100%|████████████████████████████████████████████████| 27/27 [00:00<00:00, 61.86it/s]\n"
     ]
    },
    {
     "name": "stdout",
     "output_type": "stream",
     "text": [
      "Building sklearn text classifier...\n",
      "Loading bert-base-uncased model...\n",
      "Defaulting to linear classifier/regressor\n",
      "Loading Pytorch checkpoint\n",
      "train data size: 428, validation data size: 0\n"
     ]
    },
    {
     "name": "stderr",
     "output_type": "stream",
     "text": [
      "Training  : 100%|█████████████████████████████████████| 14/14 [00:02<00:00,  6.96it/s, loss=0.52]\n",
      "Training  : 100%|████████████████████████████████████| 14/14 [00:02<00:00,  6.81it/s, loss=0.285]\n",
      "Training  : 100%|████████████████████████████████████| 14/14 [00:02<00:00,  6.90it/s, loss=0.254]\n",
      "Training  : 100%|████████████████████████████████████| 14/14 [00:02<00:00,  6.89it/s, loss=0.235]\n",
      "Training  : 100%|████████████████████████████████████| 14/14 [00:02<00:00,  6.88it/s, loss=0.142]\n",
      "Training  : 100%|████████████████████████████████████| 14/14 [00:02<00:00,  6.91it/s, loss=0.126]\n",
      "Training  : 100%|████████████████████████████████████| 14/14 [00:02<00:00,  6.91it/s, loss=0.103]\n",
      "Training  : 100%|████████████████████████████████████| 14/14 [00:02<00:00,  6.94it/s, loss=0.103]\n",
      "Training  : 100%|████████████████████████████████████| 14/14 [00:02<00:00,  6.92it/s, loss=0.104]\n",
      "Training  : 100%|████████████████████████████████████| 14/14 [00:02<00:00,  6.90it/s, loss=0.111]\n",
      "Training  : 100%|███████████████████████████████████| 14/14 [00:02<00:00,  6.68it/s, loss=0.0904]\n",
      "Training  : 100%|███████████████████████████████████| 14/14 [00:02<00:00,  6.76it/s, loss=0.0847]\n",
      "Training  : 100%|███████████████████████████████████| 14/14 [00:02<00:00,  6.95it/s, loss=0.0856]\n",
      "Training  : 100%|███████████████████████████████████| 14/14 [00:02<00:00,  6.87it/s, loss=0.0703]\n",
      "Training  : 100%|███████████████████████████████████| 14/14 [00:02<00:00,  6.95it/s, loss=0.0931]\n",
      "Training  : 100%|███████████████████████████████████| 14/14 [00:02<00:00,  6.89it/s, loss=0.0753]\n",
      "Training  : 100%|███████████████████████████████████| 14/14 [00:02<00:00,  6.86it/s, loss=0.0666]\n",
      "Training  : 100%|███████████████████████████████████| 14/14 [00:02<00:00,  6.93it/s, loss=0.0644]\n",
      "Training  : 100%|███████████████████████████████████| 14/14 [00:02<00:00,  6.78it/s, loss=0.0702]\n",
      "Training  : 100%|███████████████████████████████████| 14/14 [00:02<00:00,  6.86it/s, loss=0.0679]\n",
      "Training  : 100%|███████████████████████████████████| 14/14 [00:02<00:00,  6.91it/s, loss=0.0628]\n",
      "Training  : 100%|███████████████████████████████████| 14/14 [00:02<00:00,  6.88it/s, loss=0.0639]\n",
      "Training  : 100%|███████████████████████████████████| 14/14 [00:02<00:00,  6.85it/s, loss=0.0637]\n",
      "Training  : 100%|███████████████████████████████████| 14/14 [00:02<00:00,  6.88it/s, loss=0.0635]\n",
      "Training  : 100%|███████████████████████████████████| 14/14 [00:02<00:00,  6.86it/s, loss=0.0535]\n",
      "Training  : 100%|███████████████████████████████████| 14/14 [00:02<00:00,  6.96it/s, loss=0.0549]\n",
      "Training  : 100%|███████████████████████████████████| 14/14 [00:02<00:00,  6.83it/s, loss=0.0543]\n",
      "Training  : 100%|███████████████████████████████████| 14/14 [00:02<00:00,  6.82it/s, loss=0.0621]\n",
      "Training  : 100%|███████████████████████████████████| 14/14 [00:02<00:00,  6.92it/s, loss=0.0549]\n",
      "Training  : 100%|███████████████████████████████████| 14/14 [00:02<00:00,  6.84it/s, loss=0.0582]\n",
      "Training  : 100%|███████████████████████████████████| 14/14 [00:02<00:00,  6.93it/s, loss=0.0599]\n",
      "Training  : 100%|███████████████████████████████████| 14/14 [00:02<00:00,  6.88it/s, loss=0.0619]\n",
      "Training  : 100%|███████████████████████████████████| 14/14 [00:02<00:00,  6.94it/s, loss=0.0566]\n",
      "Training  : 100%|███████████████████████████████████| 14/14 [00:02<00:00,  6.88it/s, loss=0.0749]\n",
      "Training  : 100%|███████████████████████████████████| 14/14 [00:02<00:00,  6.92it/s, loss=0.0611]\n",
      "Training  : 100%|███████████████████████████████████| 14/14 [00:02<00:00,  6.85it/s, loss=0.0522]\n",
      "Training  : 100%|███████████████████████████████████| 14/14 [00:02<00:00,  6.88it/s, loss=0.0686]\n",
      "Training  : 100%|███████████████████████████████████| 14/14 [00:02<00:00,  6.87it/s, loss=0.0527]\n",
      "Training  : 100%|███████████████████████████████████| 14/14 [00:02<00:00,  6.92it/s, loss=0.0482]\n",
      "Training  : 100%|███████████████████████████████████| 14/14 [00:02<00:00,  6.90it/s, loss=0.0476]\n",
      "Training  : 100%|███████████████████████████████████| 14/14 [00:02<00:00,  6.88it/s, loss=0.0507]\n",
      "Training  : 100%|███████████████████████████████████| 14/14 [00:02<00:00,  6.88it/s, loss=0.0515]\n",
      "Training  : 100%|███████████████████████████████████| 14/14 [00:02<00:00,  6.90it/s, loss=0.0515]\n",
      "Training  : 100%|███████████████████████████████████| 14/14 [00:02<00:00,  6.93it/s, loss=0.0472]\n",
      "Training  : 100%|███████████████████████████████████| 14/14 [00:02<00:00,  6.84it/s, loss=0.0542]\n",
      "Training  : 100%|████████████████████████████████████| 14/14 [00:02<00:00,  6.94it/s, loss=0.054]\n",
      "Training  : 100%|███████████████████████████████████| 14/14 [00:02<00:00,  6.82it/s, loss=0.0487]\n",
      "Training  : 100%|███████████████████████████████████| 14/14 [00:02<00:00,  6.95it/s, loss=0.0493]\n",
      "Training  : 100%|███████████████████████████████████| 14/14 [00:02<00:00,  6.47it/s, loss=0.0491]\n",
      "Training  : 100%|███████████████████████████████████| 14/14 [00:02<00:00,  6.51it/s, loss=0.0541]\n",
      "Predicting: 100%|████████████████████████████████████████████████| 27/27 [00:00<00:00, 59.21it/s]\n"
     ]
    },
    {
     "name": "stdout",
     "output_type": "stream",
     "text": [
      "Building sklearn text classifier...\n",
      "Loading bert-base-uncased model...\n",
      "Defaulting to linear classifier/regressor\n",
      "Loading Pytorch checkpoint\n",
      "train data size: 428, validation data size: 0\n"
     ]
    },
    {
     "name": "stderr",
     "output_type": "stream",
     "text": [
      "Training  : 100%|████████████████████████████████████| 14/14 [00:02<00:00,  6.69it/s, loss=0.541]\n",
      "Training  : 100%|████████████████████████████████████| 14/14 [00:02<00:00,  6.90it/s, loss=0.273]\n",
      "Training  : 100%|████████████████████████████████████| 14/14 [00:02<00:00,  6.78it/s, loss=0.223]\n",
      "Training  : 100%|████████████████████████████████████| 14/14 [00:02<00:00,  6.79it/s, loss=0.155]\n",
      "Training  : 100%|████████████████████████████████████| 14/14 [00:02<00:00,  6.78it/s, loss=0.136]\n",
      "Training  : 100%|████████████████████████████████████| 14/14 [00:02<00:00,  6.75it/s, loss=0.112]\n",
      "Training  : 100%|███████████████████████████████████| 14/14 [00:02<00:00,  6.84it/s, loss=0.0832]\n",
      "Training  : 100%|███████████████████████████████████| 14/14 [00:02<00:00,  6.74it/s, loss=0.0715]\n",
      "Training  : 100%|███████████████████████████████████| 14/14 [00:02<00:00,  6.85it/s, loss=0.0812]\n",
      "Training  : 100%|███████████████████████████████████| 14/14 [00:02<00:00,  6.84it/s, loss=0.0583]\n",
      "Training  : 100%|███████████████████████████████████| 14/14 [00:02<00:00,  6.88it/s, loss=0.0558]\n",
      "Training  : 100%|███████████████████████████████████| 14/14 [00:02<00:00,  6.81it/s, loss=0.0551]\n",
      "Training  : 100%|███████████████████████████████████| 14/14 [00:02<00:00,  6.83it/s, loss=0.0535]\n",
      "Training  : 100%|███████████████████████████████████| 14/14 [00:02<00:00,  6.91it/s, loss=0.0482]\n",
      "Training  : 100%|███████████████████████████████████| 14/14 [00:02<00:00,  6.89it/s, loss=0.0509]\n",
      "Training  : 100%|███████████████████████████████████| 14/14 [00:02<00:00,  6.75it/s, loss=0.0517]\n",
      "Training  : 100%|███████████████████████████████████| 14/14 [00:02<00:00,  6.77it/s, loss=0.0485]\n",
      "Training  : 100%|███████████████████████████████████| 14/14 [00:02<00:00,  6.87it/s, loss=0.0418]\n",
      "Training  : 100%|███████████████████████████████████| 14/14 [00:02<00:00,  6.84it/s, loss=0.0427]\n",
      "Training  : 100%|███████████████████████████████████| 14/14 [00:02<00:00,  6.84it/s, loss=0.0426]\n",
      "Training  : 100%|███████████████████████████████████| 14/14 [00:02<00:00,  6.83it/s, loss=0.0401]\n",
      "Training  : 100%|███████████████████████████████████| 14/14 [00:02<00:00,  6.86it/s, loss=0.0402]\n",
      "Training  : 100%|███████████████████████████████████| 14/14 [00:02<00:00,  6.83it/s, loss=0.0445]\n",
      "Training  : 100%|████████████████████████████████████| 14/14 [00:02<00:00,  6.83it/s, loss=0.041]\n",
      "Training  : 100%|███████████████████████████████████| 14/14 [00:02<00:00,  6.85it/s, loss=0.0387]\n",
      "Training  : 100%|███████████████████████████████████| 14/14 [00:02<00:00,  6.84it/s, loss=0.0419]\n",
      "Training  : 100%|███████████████████████████████████| 14/14 [00:02<00:00,  6.86it/s, loss=0.0389]\n",
      "Training  : 100%|███████████████████████████████████| 14/14 [00:02<00:00,  6.82it/s, loss=0.0442]\n",
      "Training  : 100%|███████████████████████████████████| 14/14 [00:02<00:00,  6.84it/s, loss=0.0388]\n",
      "Training  : 100%|███████████████████████████████████| 14/14 [00:02<00:00,  6.77it/s, loss=0.0494]\n",
      "Training  : 100%|███████████████████████████████████| 14/14 [00:02<00:00,  6.83it/s, loss=0.0512]\n",
      "Training  : 100%|███████████████████████████████████| 14/14 [00:02<00:00,  6.84it/s, loss=0.0405]\n",
      "Training  : 100%|████████████████████████████████████| 14/14 [00:02<00:00,  6.88it/s, loss=0.047]\n",
      "Training  : 100%|███████████████████████████████████| 14/14 [00:02<00:00,  6.81it/s, loss=0.0403]\n",
      "Training  : 100%|███████████████████████████████████| 14/14 [00:02<00:00,  6.91it/s, loss=0.0386]\n",
      "Training  : 100%|███████████████████████████████████| 14/14 [00:02<00:00,  6.86it/s, loss=0.0433]\n",
      "Training  : 100%|█████████████████████████████████████| 14/14 [00:02<00:00,  6.80it/s, loss=0.05]\n",
      "Training  : 100%|███████████████████████████████████| 14/14 [00:02<00:00,  6.85it/s, loss=0.0403]\n",
      "Training  : 100%|███████████████████████████████████| 14/14 [00:02<00:00,  6.86it/s, loss=0.0383]\n",
      "Training  : 100%|███████████████████████████████████| 14/14 [00:02<00:00,  6.84it/s, loss=0.0398]\n",
      "Training  : 100%|███████████████████████████████████| 14/14 [00:02<00:00,  6.86it/s, loss=0.0423]\n",
      "Training  : 100%|███████████████████████████████████| 14/14 [00:02<00:00,  6.84it/s, loss=0.0392]\n",
      "Training  : 100%|███████████████████████████████████| 14/14 [00:02<00:00,  6.83it/s, loss=0.0447]\n",
      "Training  : 100%|████████████████████████████████████| 14/14 [00:02<00:00,  6.84it/s, loss=0.039]\n",
      "Training  : 100%|███████████████████████████████████| 14/14 [00:02<00:00,  6.85it/s, loss=0.0405]\n",
      "Training  : 100%|███████████████████████████████████| 14/14 [00:02<00:00,  6.84it/s, loss=0.0461]\n",
      "Training  : 100%|███████████████████████████████████| 14/14 [00:02<00:00,  6.86it/s, loss=0.0414]\n",
      "Training  : 100%|███████████████████████████████████| 14/14 [00:02<00:00,  6.79it/s, loss=0.0416]\n",
      "Training  : 100%|███████████████████████████████████| 14/14 [00:02<00:00,  6.82it/s, loss=0.0398]\n",
      "Training  : 100%|████████████████████████████████████| 14/14 [00:02<00:00,  6.82it/s, loss=0.039]\n",
      "Predicting: 100%|████████████████████████████████████████████████| 27/27 [00:00<00:00, 56.97it/s]\n"
     ]
    },
    {
     "name": "stdout",
     "output_type": "stream",
     "text": [
      "Building sklearn text classifier...\n",
      "Loading bert-base-uncased model...\n",
      "Defaulting to linear classifier/regressor\n",
      "Loading Pytorch checkpoint\n",
      "train data size: 428, validation data size: 0\n"
     ]
    },
    {
     "name": "stderr",
     "output_type": "stream",
     "text": [
      "Training  : 100%|████████████████████████████████████| 14/14 [00:02<00:00,  6.83it/s, loss=0.487]\n",
      "Training  : 100%|████████████████████████████████████| 14/14 [00:02<00:00,  6.85it/s, loss=0.279]\n",
      "Training  : 100%|████████████████████████████████████| 14/14 [00:02<00:00,  6.87it/s, loss=0.261]\n",
      "Training  : 100%|█████████████████████████████████████| 14/14 [00:02<00:00,  6.75it/s, loss=0.19]\n",
      "Training  : 100%|████████████████████████████████████| 14/14 [00:02<00:00,  6.79it/s, loss=0.122]\n",
      "Training  : 100%|████████████████████████████████████| 14/14 [00:02<00:00,  6.77it/s, loss=0.106]\n",
      "Training  : 100%|███████████████████████████████████| 14/14 [00:02<00:00,  6.74it/s, loss=0.0952]\n",
      "Training  : 100%|███████████████████████████████████| 14/14 [00:02<00:00,  6.83it/s, loss=0.0929]\n",
      "Training  : 100%|███████████████████████████████████| 14/14 [00:02<00:00,  6.78it/s, loss=0.0853]\n",
      "Training  : 100%|███████████████████████████████████| 14/14 [00:02<00:00,  6.78it/s, loss=0.0898]\n",
      "Training  : 100%|███████████████████████████████████| 14/14 [00:02<00:00,  6.85it/s, loss=0.0848]\n",
      "Training  : 100%|███████████████████████████████████| 14/14 [00:02<00:00,  6.79it/s, loss=0.0953]\n",
      "Training  : 100%|███████████████████████████████████| 14/14 [00:02<00:00,  6.85it/s, loss=0.0866]\n",
      "Training  : 100%|███████████████████████████████████| 14/14 [00:02<00:00,  6.81it/s, loss=0.0689]\n",
      "Training  : 100%|███████████████████████████████████| 14/14 [00:02<00:00,  6.82it/s, loss=0.0643]\n",
      "Training  : 100%|███████████████████████████████████| 14/14 [00:02<00:00,  6.86it/s, loss=0.0612]\n",
      "Training  : 100%|███████████████████████████████████| 14/14 [00:02<00:00,  6.81it/s, loss=0.0675]\n",
      "Training  : 100%|███████████████████████████████████| 14/14 [00:02<00:00,  6.81it/s, loss=0.0593]\n",
      "Training  : 100%|███████████████████████████████████| 14/14 [00:02<00:00,  6.79it/s, loss=0.0653]\n",
      "Training  : 100%|███████████████████████████████████| 14/14 [00:02<00:00,  6.82it/s, loss=0.0616]\n",
      "Training  : 100%|███████████████████████████████████| 14/14 [00:02<00:00,  6.84it/s, loss=0.0575]\n",
      "Training  : 100%|███████████████████████████████████| 14/14 [00:02<00:00,  6.85it/s, loss=0.0552]\n",
      "Training  : 100%|███████████████████████████████████| 14/14 [00:02<00:00,  6.81it/s, loss=0.0599]\n",
      "Training  : 100%|███████████████████████████████████| 14/14 [00:02<00:00,  6.79it/s, loss=0.0571]\n",
      "Training  : 100%|███████████████████████████████████| 14/14 [00:02<00:00,  6.83it/s, loss=0.0552]\n",
      "Training  : 100%|███████████████████████████████████| 14/14 [00:02<00:00,  6.73it/s, loss=0.0559]\n",
      "Training  : 100%|███████████████████████████████████| 14/14 [00:02<00:00,  6.80it/s, loss=0.0545]\n",
      "Training  : 100%|███████████████████████████████████| 14/14 [00:02<00:00,  6.82it/s, loss=0.0653]\n",
      "Training  : 100%|███████████████████████████████████| 14/14 [00:02<00:00,  6.82it/s, loss=0.0566]\n",
      "Training  : 100%|███████████████████████████████████| 14/14 [00:02<00:00,  6.83it/s, loss=0.0609]\n",
      "Training  : 100%|███████████████████████████████████| 14/14 [00:02<00:00,  6.79it/s, loss=0.0597]\n",
      "Training  : 100%|███████████████████████████████████| 14/14 [00:02<00:00,  6.82it/s, loss=0.0615]\n",
      "Training  : 100%|███████████████████████████████████| 14/14 [00:02<00:00,  6.79it/s, loss=0.0595]\n",
      "Training  : 100%|███████████████████████████████████| 14/14 [00:02<00:00,  6.80it/s, loss=0.0585]\n",
      "Training  : 100%|███████████████████████████████████| 14/14 [00:02<00:00,  6.87it/s, loss=0.0559]\n",
      "Training  : 100%|███████████████████████████████████| 14/14 [00:02<00:00,  6.82it/s, loss=0.0493]\n",
      "Training  : 100%|███████████████████████████████████| 14/14 [00:02<00:00,  6.76it/s, loss=0.0554]\n",
      "Training  : 100%|███████████████████████████████████| 14/14 [00:02<00:00,  6.84it/s, loss=0.0489]\n",
      "Training  : 100%|███████████████████████████████████| 14/14 [00:02<00:00,  6.78it/s, loss=0.0466]\n",
      "Training  : 100%|███████████████████████████████████| 14/14 [00:02<00:00,  6.77it/s, loss=0.0489]\n",
      "Training  : 100%|███████████████████████████████████| 14/14 [00:02<00:00,  6.89it/s, loss=0.0485]\n",
      "Training  : 100%|███████████████████████████████████| 14/14 [00:02<00:00,  6.76it/s, loss=0.0516]\n",
      "Training  : 100%|████████████████████████████████████| 14/14 [00:02<00:00,  6.80it/s, loss=0.047]\n",
      "Training  : 100%|███████████████████████████████████| 14/14 [00:02<00:00,  6.85it/s, loss=0.0483]\n",
      "Training  : 100%|███████████████████████████████████| 14/14 [00:02<00:00,  6.87it/s, loss=0.0482]\n",
      "Training  : 100%|███████████████████████████████████| 14/14 [00:02<00:00,  6.79it/s, loss=0.0504]\n",
      "Training  : 100%|███████████████████████████████████| 14/14 [00:02<00:00,  6.84it/s, loss=0.0486]\n",
      "Training  : 100%|████████████████████████████████████| 14/14 [00:02<00:00,  6.83it/s, loss=0.048]\n",
      "Training  : 100%|███████████████████████████████████| 14/14 [00:02<00:00,  6.84it/s, loss=0.0479]\n",
      "Training  : 100%|████████████████████████████████████| 14/14 [00:02<00:00,  6.76it/s, loss=0.054]\n",
      "Predicting: 100%|████████████████████████████████████████████████| 27/27 [00:00<00:00, 55.60it/s]\n"
     ]
    },
    {
     "name": "stdout",
     "output_type": "stream",
     "text": [
      "Building sklearn text classifier...\n",
      "Loading bert-base-uncased model...\n",
      "Defaulting to linear classifier/regressor\n",
      "Loading Pytorch checkpoint\n",
      "train data size: 428, validation data size: 0\n"
     ]
    },
    {
     "name": "stderr",
     "output_type": "stream",
     "text": [
      "Training  : 100%|████████████████████████████████████| 14/14 [00:02<00:00,  6.73it/s, loss=0.492]\n",
      "Training  : 100%|████████████████████████████████████| 14/14 [00:02<00:00,  6.76it/s, loss=0.271]\n",
      "Training  : 100%|████████████████████████████████████| 14/14 [00:02<00:00,  6.65it/s, loss=0.176]\n",
      "Training  : 100%|████████████████████████████████████| 14/14 [00:02<00:00,  6.73it/s, loss=0.171]\n",
      "Training  : 100%|█████████████████████████████████████| 14/14 [00:02<00:00,  6.76it/s, loss=0.13]\n",
      "Training  : 100%|███████████████████████████████████| 14/14 [00:02<00:00,  6.78it/s, loss=0.0866]\n",
      "Training  : 100%|███████████████████████████████████| 14/14 [00:02<00:00,  6.82it/s, loss=0.0833]\n",
      "Training  : 100%|███████████████████████████████████| 14/14 [00:02<00:00,  6.79it/s, loss=0.0915]\n",
      "Training  : 100%|███████████████████████████████████| 14/14 [00:02<00:00,  6.78it/s, loss=0.0733]\n",
      "Training  : 100%|███████████████████████████████████| 14/14 [00:02<00:00,  6.83it/s, loss=0.0647]\n",
      "Training  : 100%|███████████████████████████████████| 14/14 [00:02<00:00,  6.77it/s, loss=0.0653]\n",
      "Training  : 100%|███████████████████████████████████| 14/14 [00:02<00:00,  6.81it/s, loss=0.0661]\n",
      "Training  : 100%|███████████████████████████████████| 14/14 [00:02<00:00,  6.81it/s, loss=0.0655]\n",
      "Training  : 100%|███████████████████████████████████| 14/14 [00:02<00:00,  6.75it/s, loss=0.0567]\n",
      "Training  : 100%|███████████████████████████████████| 14/14 [00:02<00:00,  6.86it/s, loss=0.0593]\n",
      "Training  : 100%|███████████████████████████████████| 14/14 [00:02<00:00,  6.76it/s, loss=0.0565]\n",
      "Training  : 100%|███████████████████████████████████| 14/14 [00:02<00:00,  6.80it/s, loss=0.0575]\n",
      "Training  : 100%|███████████████████████████████████| 14/14 [00:02<00:00,  6.84it/s, loss=0.0574]\n",
      "Training  : 100%|███████████████████████████████████| 14/14 [00:02<00:00,  6.82it/s, loss=0.0606]\n",
      "Training  : 100%|███████████████████████████████████| 14/14 [00:02<00:00,  6.81it/s, loss=0.0521]\n",
      "Training  : 100%|███████████████████████████████████| 14/14 [00:02<00:00,  6.80it/s, loss=0.0503]\n",
      "Training  : 100%|███████████████████████████████████| 14/14 [00:02<00:00,  6.78it/s, loss=0.0537]\n",
      "Training  : 100%|███████████████████████████████████| 14/14 [00:02<00:00,  6.82it/s, loss=0.0535]\n",
      "Training  : 100%|███████████████████████████████████| 14/14 [00:02<00:00,  6.79it/s, loss=0.0644]\n",
      "Training  : 100%|███████████████████████████████████| 14/14 [00:02<00:00,  6.78it/s, loss=0.0522]\n",
      "Training  : 100%|████████████████████████████████████| 14/14 [00:02<00:00,  6.81it/s, loss=0.051]\n",
      "Training  : 100%|███████████████████████████████████| 14/14 [00:02<00:00,  6.84it/s, loss=0.0521]\n",
      "Training  : 100%|███████████████████████████████████| 14/14 [00:02<00:00,  6.87it/s, loss=0.0487]\n",
      "Training  : 100%|███████████████████████████████████| 14/14 [00:02<00:00,  6.80it/s, loss=0.0491]\n",
      "Training  : 100%|███████████████████████████████████| 14/14 [00:02<00:00,  6.81it/s, loss=0.0529]\n",
      "Training  : 100%|███████████████████████████████████| 14/14 [00:02<00:00,  6.80it/s, loss=0.0488]\n",
      "Training  : 100%|███████████████████████████████████| 14/14 [00:02<00:00,  6.83it/s, loss=0.0588]\n",
      "Training  : 100%|███████████████████████████████████| 14/14 [00:02<00:00,  6.79it/s, loss=0.0524]\n",
      "Training  : 100%|███████████████████████████████████| 14/14 [00:02<00:00,  6.82it/s, loss=0.0593]\n",
      "Training  : 100%|███████████████████████████████████| 14/14 [00:02<00:00,  6.77it/s, loss=0.0569]\n",
      "Training  : 100%|███████████████████████████████████| 14/14 [00:02<00:00,  6.89it/s, loss=0.0527]\n",
      "Training  : 100%|███████████████████████████████████| 14/14 [00:02<00:00,  6.83it/s, loss=0.0686]\n",
      "Training  : 100%|███████████████████████████████████| 14/14 [00:02<00:00,  6.81it/s, loss=0.0496]\n",
      "Training  : 100%|███████████████████████████████████| 14/14 [00:02<00:00,  6.80it/s, loss=0.0506]\n",
      "Training  : 100%|███████████████████████████████████| 14/14 [00:02<00:00,  6.68it/s, loss=0.0478]\n",
      "Training  : 100%|███████████████████████████████████| 14/14 [00:02<00:00,  6.62it/s, loss=0.0499]\n",
      "Training  : 100%|███████████████████████████████████| 14/14 [00:02<00:00,  6.81it/s, loss=0.0498]\n",
      "Training  : 100%|███████████████████████████████████| 14/14 [00:02<00:00,  6.80it/s, loss=0.0465]\n",
      "Training  : 100%|███████████████████████████████████| 14/14 [00:02<00:00,  6.86it/s, loss=0.0494]\n",
      "Training  : 100%|████████████████████████████████████| 14/14 [00:02<00:00,  6.82it/s, loss=0.048]\n",
      "Training  : 100%|███████████████████████████████████| 14/14 [00:02<00:00,  6.83it/s, loss=0.0521]\n",
      "Training  : 100%|███████████████████████████████████| 14/14 [00:02<00:00,  6.85it/s, loss=0.0497]\n",
      "Training  : 100%|███████████████████████████████████| 14/14 [00:02<00:00,  6.75it/s, loss=0.0463]\n",
      "Training  : 100%|████████████████████████████████████| 14/14 [00:02<00:00,  6.78it/s, loss=0.048]\n",
      "Training  : 100%|███████████████████████████████████| 14/14 [00:02<00:00,  6.82it/s, loss=0.0562]\n",
      "Predicting: 100%|████████████████████████████████████████████████| 27/27 [00:00<00:00, 54.06it/s]\n"
     ]
    },
    {
     "name": "stdout",
     "output_type": "stream",
     "text": [
      "Building sklearn text classifier...\n",
      "Loading bert-base-uncased model...\n",
      "Defaulting to linear classifier/regressor\n",
      "Loading Pytorch checkpoint\n",
      "train data size: 428, validation data size: 0\n"
     ]
    },
    {
     "name": "stderr",
     "output_type": "stream",
     "text": [
      "Training  : 100%|████████████████████████████████████| 14/14 [00:02<00:00,  6.69it/s, loss=0.511]\n",
      "Training  : 100%|████████████████████████████████████| 14/14 [00:02<00:00,  6.83it/s, loss=0.254]\n",
      "Training  : 100%|████████████████████████████████████| 14/14 [00:02<00:00,  6.84it/s, loss=0.207]\n",
      "Training  : 100%|████████████████████████████████████| 14/14 [00:02<00:00,  6.82it/s, loss=0.166]\n",
      "Training  : 100%|████████████████████████████████████| 14/14 [00:02<00:00,  6.77it/s, loss=0.117]\n",
      "Training  : 100%|███████████████████████████████████| 14/14 [00:02<00:00,  6.81it/s, loss=0.0902]\n",
      "Training  : 100%|███████████████████████████████████| 14/14 [00:02<00:00,  6.82it/s, loss=0.0718]\n",
      "Training  : 100%|███████████████████████████████████| 14/14 [00:02<00:00,  6.78it/s, loss=0.0651]\n",
      "Training  : 100%|███████████████████████████████████| 14/14 [00:02<00:00,  6.72it/s, loss=0.0623]\n",
      "Training  : 100%|████████████████████████████████████| 14/14 [00:02<00:00,  6.81it/s, loss=0.052]\n",
      "Training  : 100%|████████████████████████████████████| 14/14 [00:02<00:00,  6.81it/s, loss=0.057]\n",
      "Training  : 100%|███████████████████████████████████| 14/14 [00:02<00:00,  6.78it/s, loss=0.0535]\n",
      "Training  : 100%|███████████████████████████████████| 14/14 [00:02<00:00,  6.74it/s, loss=0.0659]\n",
      "Training  : 100%|███████████████████████████████████| 14/14 [00:02<00:00,  6.79it/s, loss=0.0512]\n",
      "Training  : 100%|████████████████████████████████████| 14/14 [00:02<00:00,  6.75it/s, loss=0.046]\n",
      "Training  : 100%|███████████████████████████████████| 14/14 [00:02<00:00,  6.80it/s, loss=0.0474]\n",
      "Training  : 100%|███████████████████████████████████| 14/14 [00:02<00:00,  6.77it/s, loss=0.0485]\n",
      "Training  : 100%|███████████████████████████████████| 14/14 [00:02<00:00,  6.79it/s, loss=0.0429]\n",
      "Training  : 100%|███████████████████████████████████| 14/14 [00:02<00:00,  6.64it/s, loss=0.0393]\n",
      "Training  : 100%|███████████████████████████████████| 14/14 [00:02<00:00,  6.66it/s, loss=0.0415]\n",
      "Training  : 100%|███████████████████████████████████| 14/14 [00:02<00:00,  6.82it/s, loss=0.0396]\n",
      "Training  : 100%|███████████████████████████████████| 14/14 [00:02<00:00,  6.75it/s, loss=0.0414]\n",
      "Training  : 100%|████████████████████████████████████| 14/14 [00:02<00:00,  6.80it/s, loss=0.044]\n",
      "Training  : 100%|███████████████████████████████████| 14/14 [00:02<00:00,  6.82it/s, loss=0.0414]\n",
      "Training  : 100%|███████████████████████████████████| 14/14 [00:02<00:00,  6.80it/s, loss=0.0383]\n",
      "Training  : 100%|███████████████████████████████████| 14/14 [00:02<00:00,  6.76it/s, loss=0.0386]\n",
      "Training  : 100%|███████████████████████████████████| 14/14 [00:02<00:00,  6.70it/s, loss=0.0395]\n",
      "Training  : 100%|████████████████████████████████████| 14/14 [00:02<00:00,  6.80it/s, loss=0.045]\n",
      "Training  : 100%|███████████████████████████████████| 14/14 [00:02<00:00,  6.79it/s, loss=0.0395]\n",
      "Training  : 100%|███████████████████████████████████| 14/14 [00:02<00:00,  6.83it/s, loss=0.0486]\n",
      "Training  : 100%|███████████████████████████████████| 14/14 [00:02<00:00,  6.83it/s, loss=0.0499]\n",
      "Training  : 100%|███████████████████████████████████| 14/14 [00:02<00:00,  6.80it/s, loss=0.0414]\n",
      "Training  : 100%|███████████████████████████████████| 14/14 [00:02<00:00,  6.80it/s, loss=0.0458]\n",
      "Training  : 100%|███████████████████████████████████| 14/14 [00:02<00:00,  6.76it/s, loss=0.0394]\n",
      "Training  : 100%|███████████████████████████████████| 14/14 [00:02<00:00,  6.79it/s, loss=0.0388]\n",
      "Training  : 100%|███████████████████████████████████| 14/14 [00:02<00:00,  6.78it/s, loss=0.0439]\n",
      "Training  : 100%|███████████████████████████████████| 14/14 [00:02<00:00,  6.79it/s, loss=0.0476]\n",
      "Training  : 100%|███████████████████████████████████| 14/14 [00:02<00:00,  6.78it/s, loss=0.0411]\n",
      "Training  : 100%|███████████████████████████████████| 14/14 [00:02<00:00,  6.79it/s, loss=0.0385]\n",
      "Training  : 100%|███████████████████████████████████| 14/14 [00:02<00:00,  6.75it/s, loss=0.0377]\n",
      "Training  : 100%|███████████████████████████████████| 14/14 [00:02<00:00,  6.77it/s, loss=0.0415]\n",
      "Training  : 100%|███████████████████████████████████| 14/14 [00:02<00:00,  6.76it/s, loss=0.0391]\n",
      "Training  : 100%|███████████████████████████████████| 14/14 [00:02<00:00,  6.79it/s, loss=0.0453]\n",
      "Training  : 100%|████████████████████████████████████| 14/14 [00:02<00:00,  6.76it/s, loss=0.038]\n",
      "Training  : 100%|███████████████████████████████████| 14/14 [00:02<00:00,  6.75it/s, loss=0.0395]\n",
      "Training  : 100%|███████████████████████████████████| 14/14 [00:02<00:00,  6.75it/s, loss=0.0431]\n",
      "Training  : 100%|███████████████████████████████████| 14/14 [00:02<00:00,  6.76it/s, loss=0.0436]\n",
      "Training  : 100%|███████████████████████████████████| 14/14 [00:02<00:00,  6.43it/s, loss=0.0424]\n",
      "Training  : 100%|███████████████████████████████████| 14/14 [00:02<00:00,  6.56it/s, loss=0.0395]\n",
      "Training  : 100%|███████████████████████████████████| 14/14 [00:02<00:00,  6.79it/s, loss=0.0409]\n",
      "Predicting: 100%|████████████████████████████████████████████████| 27/27 [00:00<00:00, 55.71it/s]\n"
     ]
    },
    {
     "name": "stdout",
     "output_type": "stream",
     "text": [
      "Building sklearn text classifier...\n",
      "Loading bert-base-uncased model...\n",
      "Defaulting to linear classifier/regressor\n",
      "Loading Pytorch checkpoint\n",
      "train data size: 428, validation data size: 0\n"
     ]
    },
    {
     "name": "stderr",
     "output_type": "stream",
     "text": [
      "Training  : 100%|████████████████████████████████████| 14/14 [00:02<00:00,  6.81it/s, loss=0.567]\n",
      "Training  : 100%|████████████████████████████████████| 14/14 [00:02<00:00,  6.82it/s, loss=0.335]\n",
      "Training  : 100%|████████████████████████████████████| 14/14 [00:02<00:00,  6.85it/s, loss=0.235]\n",
      "Training  : 100%|████████████████████████████████████| 14/14 [00:02<00:00,  6.84it/s, loss=0.205]\n",
      "Training  : 100%|████████████████████████████████████| 14/14 [00:02<00:00,  6.81it/s, loss=0.143]\n",
      "Training  : 100%|████████████████████████████████████| 14/14 [00:02<00:00,  6.81it/s, loss=0.137]\n",
      "Training  : 100%|███████████████████████████████████| 14/14 [00:02<00:00,  6.77it/s, loss=0.0951]\n",
      "Training  : 100%|███████████████████████████████████| 14/14 [00:02<00:00,  6.76it/s, loss=0.0886]\n",
      "Training  : 100%|███████████████████████████████████| 14/14 [00:02<00:00,  6.76it/s, loss=0.0818]\n",
      "Training  : 100%|███████████████████████████████████| 14/14 [00:02<00:00,  6.78it/s, loss=0.0765]\n",
      "Training  : 100%|███████████████████████████████████| 14/14 [00:02<00:00,  6.80it/s, loss=0.0651]\n",
      "Training  : 100%|███████████████████████████████████| 14/14 [00:02<00:00,  6.80it/s, loss=0.0696]\n",
      "Training  : 100%|███████████████████████████████████| 14/14 [00:02<00:00,  6.81it/s, loss=0.0706]\n",
      "Training  : 100%|███████████████████████████████████| 14/14 [00:02<00:00,  6.78it/s, loss=0.0574]\n",
      "Training  : 100%|███████████████████████████████████| 14/14 [00:02<00:00,  6.86it/s, loss=0.0579]\n",
      "Training  : 100%|███████████████████████████████████| 14/14 [00:02<00:00,  6.66it/s, loss=0.0622]\n",
      "Training  : 100%|███████████████████████████████████| 14/14 [00:02<00:00,  6.79it/s, loss=0.0649]\n",
      "Training  : 100%|███████████████████████████████████| 14/14 [00:02<00:00,  6.81it/s, loss=0.0533]\n",
      "Training  : 100%|███████████████████████████████████| 14/14 [00:02<00:00,  6.77it/s, loss=0.0564]\n",
      "Training  : 100%|███████████████████████████████████| 14/14 [00:02<00:00,  6.81it/s, loss=0.0595]\n",
      "Training  : 100%|███████████████████████████████████| 14/14 [00:02<00:00,  6.79it/s, loss=0.0574]\n",
      "Training  : 100%|███████████████████████████████████| 14/14 [00:02<00:00,  6.78it/s, loss=0.0578]\n",
      "Training  : 100%|███████████████████████████████████| 14/14 [00:02<00:00,  6.79it/s, loss=0.0733]\n",
      "Training  : 100%|███████████████████████████████████| 14/14 [00:02<00:00,  6.79it/s, loss=0.0573]\n",
      "Training  : 100%|████████████████████████████████████| 14/14 [00:02<00:00,  6.81it/s, loss=0.058]\n",
      "Training  : 100%|███████████████████████████████████| 14/14 [00:02<00:00,  6.84it/s, loss=0.0596]\n",
      "Training  : 100%|███████████████████████████████████| 14/14 [00:02<00:00,  6.80it/s, loss=0.0594]\n",
      "Training  : 100%|███████████████████████████████████| 14/14 [00:02<00:00,  6.79it/s, loss=0.0604]\n",
      "Training  : 100%|███████████████████████████████████| 14/14 [00:02<00:00,  6.79it/s, loss=0.0549]\n",
      "Training  : 100%|███████████████████████████████████| 14/14 [00:02<00:00,  6.89it/s, loss=0.0545]\n",
      "Training  : 100%|███████████████████████████████████| 14/14 [00:02<00:00,  6.86it/s, loss=0.0551]\n",
      "Training  : 100%|███████████████████████████████████| 14/14 [00:02<00:00,  6.77it/s, loss=0.0635]\n",
      "Training  : 100%|███████████████████████████████████| 14/14 [00:02<00:00,  6.75it/s, loss=0.0612]\n",
      "Training  : 100%|███████████████████████████████████| 14/14 [00:02<00:00,  6.83it/s, loss=0.0695]\n",
      "Training  : 100%|███████████████████████████████████| 14/14 [00:02<00:00,  6.80it/s, loss=0.0604]\n",
      "Training  : 100%|███████████████████████████████████| 14/14 [00:02<00:00,  6.78it/s, loss=0.0524]\n",
      "Training  : 100%|███████████████████████████████████| 14/14 [00:02<00:00,  6.80it/s, loss=0.0684]\n",
      "Training  : 100%|███████████████████████████████████| 14/14 [00:02<00:00,  6.76it/s, loss=0.0552]\n",
      "Training  : 100%|███████████████████████████████████| 14/14 [00:02<00:00,  6.86it/s, loss=0.0544]\n",
      "Training  : 100%|███████████████████████████████████| 14/14 [00:02<00:00,  6.84it/s, loss=0.0538]\n",
      "Training  : 100%|███████████████████████████████████| 14/14 [00:02<00:00,  6.78it/s, loss=0.0522]\n",
      "Training  : 100%|███████████████████████████████████| 14/14 [00:02<00:00,  6.76it/s, loss=0.0576]\n",
      "Training  : 100%|███████████████████████████████████| 14/14 [00:02<00:00,  6.78it/s, loss=0.0511]\n",
      "Training  : 100%|███████████████████████████████████| 14/14 [00:02<00:00,  6.84it/s, loss=0.0504]\n",
      "Training  : 100%|███████████████████████████████████| 14/14 [00:02<00:00,  6.80it/s, loss=0.0519]\n",
      "Training  : 100%|█████████████████████████████████████| 14/14 [00:02<00:00,  6.79it/s, loss=0.05]\n",
      "Training  : 100%|███████████████████████████████████| 14/14 [00:02<00:00,  6.82it/s, loss=0.0489]\n",
      "Training  : 100%|███████████████████████████████████| 14/14 [00:02<00:00,  6.85it/s, loss=0.0497]\n",
      "Training  : 100%|███████████████████████████████████| 14/14 [00:02<00:00,  6.85it/s, loss=0.0497]\n",
      "Training  : 100%|███████████████████████████████████| 14/14 [00:02<00:00,  6.80it/s, loss=0.0648]\n",
      "Predicting: 100%|████████████████████████████████████████████████| 27/27 [00:00<00:00, 56.46it/s]\n"
     ]
    },
    {
     "name": "stdout",
     "output_type": "stream",
     "text": [
      "Building sklearn text classifier...\n",
      "Loading bert-base-uncased model...\n",
      "Defaulting to linear classifier/regressor\n",
      "Loading Pytorch checkpoint\n",
      "train data size: 428, validation data size: 0\n"
     ]
    },
    {
     "name": "stderr",
     "output_type": "stream",
     "text": [
      "Training  : 100%|████████████████████████████████████| 14/14 [00:02<00:00,  6.82it/s, loss=0.565]\n",
      "Training  : 100%|████████████████████████████████████| 14/14 [00:02<00:00,  6.77it/s, loss=0.338]\n",
      "Training  : 100%|████████████████████████████████████| 14/14 [00:02<00:00,  6.74it/s, loss=0.229]\n",
      "Training  : 100%|████████████████████████████████████| 14/14 [00:02<00:00,  6.85it/s, loss=0.199]\n",
      "Training  : 100%|████████████████████████████████████| 14/14 [00:02<00:00,  6.79it/s, loss=0.138]\n",
      "Training  : 100%|████████████████████████████████████| 14/14 [00:02<00:00,  6.76it/s, loss=0.135]\n",
      "Training  : 100%|████████████████████████████████████| 14/14 [00:02<00:00,  6.75it/s, loss=0.121]\n",
      "Training  : 100%|████████████████████████████████████| 14/14 [00:02<00:00,  6.69it/s, loss=0.112]\n",
      "Training  : 100%|████████████████████████████████████| 14/14 [00:02<00:00,  6.81it/s, loss=0.104]\n",
      "Training  : 100%|███████████████████████████████████| 14/14 [00:02<00:00,  6.73it/s, loss=0.0966]\n",
      "Training  : 100%|████████████████████████████████████| 14/14 [00:02<00:00,  6.76it/s, loss=0.075]\n",
      "Training  : 100%|███████████████████████████████████| 14/14 [00:02<00:00,  6.78it/s, loss=0.0775]\n",
      "Training  : 100%|███████████████████████████████████| 14/14 [00:02<00:00,  6.76it/s, loss=0.0767]\n",
      "Training  : 100%|████████████████████████████████████| 14/14 [00:02<00:00,  6.74it/s, loss=0.068]\n",
      "Training  : 100%|███████████████████████████████████| 14/14 [00:02<00:00,  6.79it/s, loss=0.0662]\n",
      "Training  : 100%|████████████████████████████████████| 14/14 [00:02<00:00,  6.80it/s, loss=0.065]\n",
      "Training  : 100%|███████████████████████████████████| 14/14 [00:02<00:00,  6.76it/s, loss=0.0618]\n",
      "Training  : 100%|███████████████████████████████████| 14/14 [00:02<00:00,  6.75it/s, loss=0.0672]\n",
      "Training  : 100%|███████████████████████████████████| 14/14 [00:02<00:00,  6.78it/s, loss=0.0645]\n",
      "Training  : 100%|███████████████████████████████████| 14/14 [00:02<00:00,  6.77it/s, loss=0.0616]\n",
      "Training  : 100%|███████████████████████████████████| 14/14 [00:02<00:00,  6.83it/s, loss=0.0539]\n",
      "Training  : 100%|███████████████████████████████████| 14/14 [00:02<00:00,  6.81it/s, loss=0.0573]\n",
      "Training  : 100%|███████████████████████████████████| 14/14 [00:02<00:00,  6.75it/s, loss=0.0599]\n",
      "Training  : 100%|███████████████████████████████████| 14/14 [00:02<00:00,  6.78it/s, loss=0.0664]\n",
      "Training  : 100%|████████████████████████████████████| 14/14 [00:02<00:00,  6.81it/s, loss=0.056]\n",
      "Training  : 100%|████████████████████████████████████| 14/14 [00:02<00:00,  6.79it/s, loss=0.055]\n",
      "Training  : 100%|███████████████████████████████████| 14/14 [00:02<00:00,  6.73it/s, loss=0.0582]\n",
      "Training  : 100%|███████████████████████████████████| 14/14 [00:02<00:00,  6.78it/s, loss=0.0541]\n",
      "Training  : 100%|███████████████████████████████████| 14/14 [00:02<00:00,  6.72it/s, loss=0.0548]\n",
      "Training  : 100%|███████████████████████████████████| 14/14 [00:02<00:00,  6.76it/s, loss=0.0652]\n",
      "Training  : 100%|███████████████████████████████████| 14/14 [00:02<00:00,  6.76it/s, loss=0.0607]\n",
      "Training  : 100%|███████████████████████████████████| 14/14 [00:02<00:00,  6.77it/s, loss=0.0669]\n",
      "Training  : 100%|███████████████████████████████████| 14/14 [00:02<00:00,  6.77it/s, loss=0.0585]\n",
      "Training  : 100%|███████████████████████████████████| 14/14 [00:02<00:00,  6.75it/s, loss=0.0737]\n",
      "Training  : 100%|███████████████████████████████████| 14/14 [00:02<00:00,  6.81it/s, loss=0.0642]\n",
      "Training  : 100%|████████████████████████████████████| 14/14 [00:02<00:00,  6.76it/s, loss=0.056]\n",
      "Training  : 100%|███████████████████████████████████| 14/14 [00:02<00:00,  6.76it/s, loss=0.0845]\n",
      "Training  : 100%|████████████████████████████████████| 14/14 [00:02<00:00,  6.77it/s, loss=0.056]\n",
      "Training  : 100%|███████████████████████████████████| 14/14 [00:02<00:00,  6.78it/s, loss=0.0551]\n",
      "Training  : 100%|███████████████████████████████████| 14/14 [00:02<00:00,  6.77it/s, loss=0.0521]\n",
      "Training  : 100%|███████████████████████████████████| 14/14 [00:02<00:00,  6.74it/s, loss=0.0544]\n",
      "Training  : 100%|███████████████████████████████████| 14/14 [00:02<00:00,  6.73it/s, loss=0.0565]\n",
      "Training  : 100%|████████████████████████████████████| 14/14 [00:02<00:00,  6.77it/s, loss=0.054]\n",
      "Training  : 100%|███████████████████████████████████| 14/14 [00:02<00:00,  6.75it/s, loss=0.0556]\n",
      "Training  : 100%|███████████████████████████████████| 14/14 [00:02<00:00,  6.82it/s, loss=0.0506]\n",
      "Training  : 100%|███████████████████████████████████| 14/14 [00:02<00:00,  6.77it/s, loss=0.0591]\n",
      "Training  : 100%|███████████████████████████████████| 14/14 [00:02<00:00,  6.80it/s, loss=0.0546]\n",
      "Training  : 100%|███████████████████████████████████| 14/14 [00:02<00:00,  6.78it/s, loss=0.0479]\n",
      "Training  : 100%|███████████████████████████████████| 14/14 [00:02<00:00,  6.74it/s, loss=0.0547]\n",
      "Training  : 100%|███████████████████████████████████| 14/14 [00:02<00:00,  6.79it/s, loss=0.0641]\n",
      "Predicting: 100%|████████████████████████████████████████████████| 27/27 [00:00<00:00, 55.22it/s]\n"
     ]
    },
    {
     "name": "stdout",
     "output_type": "stream",
     "text": [
      "Building sklearn text classifier...\n",
      "Loading bert-base-uncased model...\n",
      "Defaulting to linear classifier/regressor\n",
      "Loading Pytorch checkpoint\n",
      "train data size: 428, validation data size: 0\n"
     ]
    },
    {
     "name": "stderr",
     "output_type": "stream",
     "text": [
      "Training  : 100%|████████████████████████████████████| 14/14 [00:02<00:00,  6.81it/s, loss=0.581]\n",
      "Training  : 100%|████████████████████████████████████| 14/14 [00:02<00:00,  6.78it/s, loss=0.324]\n",
      "Training  : 100%|████████████████████████████████████| 14/14 [00:02<00:00,  6.77it/s, loss=0.226]\n",
      "Training  : 100%|████████████████████████████████████| 14/14 [00:02<00:00,  6.80it/s, loss=0.169]\n",
      "Training  : 100%|████████████████████████████████████| 14/14 [00:02<00:00,  6.71it/s, loss=0.121]\n",
      "Training  : 100%|████████████████████████████████████| 14/14 [00:02<00:00,  6.80it/s, loss=0.114]\n",
      "Training  : 100%|████████████████████████████████████| 14/14 [00:02<00:00,  6.75it/s, loss=0.103]\n",
      "Training  : 100%|███████████████████████████████████| 14/14 [00:02<00:00,  6.75it/s, loss=0.0761]\n",
      "Training  : 100%|███████████████████████████████████| 14/14 [00:02<00:00,  6.79it/s, loss=0.0899]\n",
      "Training  : 100%|███████████████████████████████████| 14/14 [00:02<00:00,  6.79it/s, loss=0.0623]\n",
      "Training  : 100%|███████████████████████████████████| 14/14 [00:02<00:00,  6.83it/s, loss=0.0608]\n",
      "Training  : 100%|███████████████████████████████████| 14/14 [00:02<00:00,  6.82it/s, loss=0.0646]\n",
      "Training  : 100%|███████████████████████████████████| 14/14 [00:02<00:00,  6.85it/s, loss=0.0635]\n",
      "Training  : 100%|███████████████████████████████████| 14/14 [00:02<00:00,  6.83it/s, loss=0.0579]\n",
      "Training  : 100%|███████████████████████████████████| 14/14 [00:02<00:00,  6.82it/s, loss=0.0541]\n",
      "Training  : 100%|███████████████████████████████████| 14/14 [00:02<00:00,  6.81it/s, loss=0.0603]\n",
      "Training  : 100%|███████████████████████████████████| 14/14 [00:02<00:00,  6.75it/s, loss=0.0541]\n",
      "Training  : 100%|███████████████████████████████████| 14/14 [00:02<00:00,  6.77it/s, loss=0.0487]\n",
      "Training  : 100%|███████████████████████████████████| 14/14 [00:02<00:00,  6.83it/s, loss=0.0444]\n",
      "Training  : 100%|███████████████████████████████████| 14/14 [00:02<00:00,  6.77it/s, loss=0.0479]\n",
      "Training  : 100%|███████████████████████████████████| 14/14 [00:02<00:00,  6.78it/s, loss=0.0453]\n",
      "Training  : 100%|███████████████████████████████████| 14/14 [00:02<00:00,  6.83it/s, loss=0.0423]\n",
      "Training  : 100%|███████████████████████████████████| 14/14 [00:02<00:00,  6.79it/s, loss=0.0466]\n",
      "Training  : 100%|███████████████████████████████████| 14/14 [00:02<00:00,  6.83it/s, loss=0.0433]\n",
      "Training  : 100%|███████████████████████████████████| 14/14 [00:02<00:00,  6.78it/s, loss=0.0416]\n",
      "Training  : 100%|███████████████████████████████████| 14/14 [00:02<00:00,  6.82it/s, loss=0.0454]\n",
      "Training  : 100%|███████████████████████████████████| 14/14 [00:02<00:00,  6.80it/s, loss=0.0448]\n",
      "Training  : 100%|███████████████████████████████████| 14/14 [00:02<00:00,  6.79it/s, loss=0.0474]\n",
      "Training  : 100%|███████████████████████████████████| 14/14 [00:02<00:00,  6.79it/s, loss=0.0408]\n",
      "Training  : 100%|███████████████████████████████████| 14/14 [00:02<00:00,  6.80it/s, loss=0.0518]\n",
      "Training  : 100%|███████████████████████████████████| 14/14 [00:02<00:00,  6.79it/s, loss=0.0516]\n",
      "Training  : 100%|███████████████████████████████████| 14/14 [00:02<00:00,  6.76it/s, loss=0.0426]\n",
      "Training  : 100%|████████████████████████████████████| 14/14 [00:02<00:00,  6.75it/s, loss=0.049]\n",
      "Training  : 100%|███████████████████████████████████| 14/14 [00:02<00:00,  6.77it/s, loss=0.0411]\n",
      "Training  : 100%|███████████████████████████████████| 14/14 [00:02<00:00,  6.82it/s, loss=0.0406]\n",
      "Training  : 100%|███████████████████████████████████| 14/14 [00:02<00:00,  6.77it/s, loss=0.0442]\n",
      "Training  : 100%|███████████████████████████████████| 14/14 [00:02<00:00,  6.80it/s, loss=0.0485]\n",
      "Training  : 100%|███████████████████████████████████| 14/14 [00:02<00:00,  6.76it/s, loss=0.0425]\n",
      "Training  : 100%|███████████████████████████████████| 14/14 [00:02<00:00,  6.79it/s, loss=0.0391]\n",
      "Training  : 100%|███████████████████████████████████| 14/14 [00:02<00:00,  6.77it/s, loss=0.0409]\n",
      "Training  : 100%|███████████████████████████████████| 14/14 [00:02<00:00,  6.84it/s, loss=0.0426]\n",
      "Training  : 100%|███████████████████████████████████| 14/14 [00:02<00:00,  6.75it/s, loss=0.0436]\n",
      "Training  : 100%|███████████████████████████████████| 14/14 [00:02<00:00,  6.82it/s, loss=0.0465]\n",
      "Training  : 100%|███████████████████████████████████| 14/14 [00:02<00:00,  6.78it/s, loss=0.0399]\n",
      "Training  : 100%|███████████████████████████████████| 14/14 [00:02<00:00,  6.54it/s, loss=0.0408]\n",
      "Training  : 100%|███████████████████████████████████| 14/14 [00:02<00:00,  6.66it/s, loss=0.0457]\n",
      "Training  : 100%|███████████████████████████████████| 14/14 [00:02<00:00,  6.49it/s, loss=0.0449]\n",
      "Training  : 100%|███████████████████████████████████| 14/14 [00:02<00:00,  6.77it/s, loss=0.0423]\n",
      "Training  : 100%|███████████████████████████████████| 14/14 [00:02<00:00,  6.78it/s, loss=0.0407]\n",
      "Training  : 100%|███████████████████████████████████| 14/14 [00:02<00:00,  6.79it/s, loss=0.0423]\n",
      "Predicting: 100%|████████████████████████████████████████████████| 27/27 [00:00<00:00, 53.83it/s]\n"
     ]
    },
    {
     "name": "stdout",
     "output_type": "stream",
     "text": [
      "Building sklearn text classifier...\n",
      "Loading bert-base-uncased model...\n",
      "Defaulting to linear classifier/regressor\n",
      "Loading Pytorch checkpoint\n",
      "train data size: 428, validation data size: 0\n"
     ]
    },
    {
     "name": "stderr",
     "output_type": "stream",
     "text": [
      "Training  : 100%|████████████████████████████████████| 14/14 [00:02<00:00,  6.71it/s, loss=0.549]\n",
      "Training  : 100%|████████████████████████████████████| 14/14 [00:02<00:00,  6.76it/s, loss=0.316]\n",
      "Training  : 100%|█████████████████████████████████████| 14/14 [00:02<00:00,  6.78it/s, loss=0.22]\n",
      "Training  : 100%|████████████████████████████████████| 14/14 [00:02<00:00,  6.78it/s, loss=0.195]\n",
      "Training  : 100%|████████████████████████████████████| 14/14 [00:02<00:00,  6.85it/s, loss=0.134]\n",
      "Training  : 100%|████████████████████████████████████| 14/14 [00:02<00:00,  6.81it/s, loss=0.112]\n",
      "Training  : 100%|███████████████████████████████████| 14/14 [00:02<00:00,  6.79it/s, loss=0.0919]\n",
      "Training  : 100%|███████████████████████████████████| 14/14 [00:02<00:00,  6.70it/s, loss=0.0806]\n",
      "Training  : 100%|███████████████████████████████████| 14/14 [00:02<00:00,  6.78it/s, loss=0.0734]\n",
      "Training  : 100%|████████████████████████████████████| 14/14 [00:02<00:00,  6.80it/s, loss=0.069]\n",
      "Training  : 100%|███████████████████████████████████| 14/14 [00:02<00:00,  6.83it/s, loss=0.0626]\n",
      "Training  : 100%|███████████████████████████████████| 14/14 [00:02<00:00,  6.80it/s, loss=0.0763]\n",
      "Training  : 100%|████████████████████████████████████| 14/14 [00:02<00:00,  6.82it/s, loss=0.068]\n",
      "Training  : 100%|███████████████████████████████████| 14/14 [00:02<00:00,  6.77it/s, loss=0.0553]\n",
      "Training  : 100%|████████████████████████████████████| 14/14 [00:02<00:00,  6.81it/s, loss=0.056]\n",
      "Training  : 100%|███████████████████████████████████| 14/14 [00:02<00:00,  6.73it/s, loss=0.0594]\n",
      "Training  : 100%|████████████████████████████████████| 14/14 [00:02<00:00,  6.71it/s, loss=0.051]\n",
      "Training  : 100%|███████████████████████████████████| 14/14 [00:02<00:00,  6.74it/s, loss=0.0529]\n",
      "Training  : 100%|████████████████████████████████████| 14/14 [00:02<00:00,  6.75it/s, loss=0.057]\n",
      "Training  : 100%|███████████████████████████████████| 14/14 [00:02<00:00,  6.78it/s, loss=0.0532]\n",
      "Training  : 100%|████████████████████████████████████| 14/14 [00:02<00:00,  6.74it/s, loss=0.052]\n",
      "Training  : 100%|███████████████████████████████████| 14/14 [00:02<00:00,  6.82it/s, loss=0.0508]\n",
      "Training  : 100%|███████████████████████████████████| 14/14 [00:02<00:00,  6.75it/s, loss=0.0528]\n",
      "Training  : 100%|███████████████████████████████████| 14/14 [00:02<00:00,  6.80it/s, loss=0.0528]\n",
      "Training  : 100%|███████████████████████████████████| 14/14 [00:02<00:00,  6.76it/s, loss=0.0519]\n",
      "Training  : 100%|███████████████████████████████████| 14/14 [00:02<00:00,  6.78it/s, loss=0.0516]\n",
      "Training  : 100%|███████████████████████████████████| 14/14 [00:02<00:00,  6.81it/s, loss=0.0503]\n",
      "Training  : 100%|███████████████████████████████████| 14/14 [00:02<00:00,  6.77it/s, loss=0.0544]\n",
      "Training  : 100%|███████████████████████████████████| 14/14 [00:02<00:00,  6.79it/s, loss=0.0511]\n",
      "Training  : 100%|███████████████████████████████████| 14/14 [00:02<00:00,  6.78it/s, loss=0.0478]\n",
      "Training  : 100%|███████████████████████████████████| 14/14 [00:02<00:00,  6.71it/s, loss=0.0496]\n",
      "Training  : 100%|███████████████████████████████████| 14/14 [00:02<00:00,  6.62it/s, loss=0.0564]\n",
      "Training  : 100%|███████████████████████████████████| 14/14 [00:02<00:00,  6.74it/s, loss=0.0573]\n",
      "Training  : 100%|███████████████████████████████████| 14/14 [00:02<00:00,  6.79it/s, loss=0.0574]\n",
      "Training  : 100%|███████████████████████████████████| 14/14 [00:02<00:00,  6.84it/s, loss=0.0534]\n",
      "Training  : 100%|███████████████████████████████████| 14/14 [00:02<00:00,  6.80it/s, loss=0.0467]\n",
      "Training  : 100%|███████████████████████████████████| 14/14 [00:02<00:00,  6.76it/s, loss=0.0545]\n",
      "Training  : 100%|███████████████████████████████████| 14/14 [00:02<00:00,  6.78it/s, loss=0.0483]\n",
      "Training  : 100%|███████████████████████████████████| 14/14 [00:02<00:00,  6.77it/s, loss=0.0465]\n",
      "Training  : 100%|███████████████████████████████████| 14/14 [00:02<00:00,  6.79it/s, loss=0.0481]\n",
      "Training  : 100%|███████████████████████████████████| 14/14 [00:02<00:00,  6.79it/s, loss=0.0471]\n",
      "Training  : 100%|███████████████████████████████████| 14/14 [00:02<00:00,  6.78it/s, loss=0.0515]\n",
      "Training  : 100%|███████████████████████████████████| 14/14 [00:02<00:00,  6.77it/s, loss=0.0479]\n",
      "Training  : 100%|████████████████████████████████████| 14/14 [00:02<00:00,  6.79it/s, loss=0.049]\n",
      "Training  : 100%|███████████████████████████████████| 14/14 [00:02<00:00,  6.75it/s, loss=0.0471]\n",
      "Training  : 100%|███████████████████████████████████| 14/14 [00:02<00:00,  6.74it/s, loss=0.0492]\n",
      "Training  : 100%|███████████████████████████████████| 14/14 [00:02<00:00,  6.43it/s, loss=0.0484]\n",
      "Training  : 100%|███████████████████████████████████| 14/14 [00:02<00:00,  6.58it/s, loss=0.0482]\n",
      "Training  : 100%|███████████████████████████████████| 14/14 [00:02<00:00,  6.80it/s, loss=0.0486]\n",
      "Training  : 100%|███████████████████████████████████| 14/14 [00:02<00:00,  6.73it/s, loss=0.0556]\n",
      "Training  : 100%|███████████████████████████████████| 14/14 [00:02<00:00,  6.76it/s, loss=0.0488]\n",
      "Training  : 100%|███████████████████████████████████| 14/14 [00:02<00:00,  6.77it/s, loss=0.0599]\n",
      "Training  : 100%|███████████████████████████████████| 14/14 [00:02<00:00,  6.74it/s, loss=0.0453]\n",
      "Training  : 100%|███████████████████████████████████| 14/14 [00:02<00:00,  6.80it/s, loss=0.0472]\n",
      "Training  : 100%|███████████████████████████████████| 14/14 [00:02<00:00,  6.78it/s, loss=0.0552]\n",
      "Training  : 100%|████████████████████████████████████| 14/14 [00:02<00:00,  6.78it/s, loss=0.046]\n",
      "Training  : 100%|███████████████████████████████████| 14/14 [00:02<00:00,  6.73it/s, loss=0.0497]\n",
      "Training  : 100%|███████████████████████████████████| 14/14 [00:02<00:00,  6.83it/s, loss=0.0454]\n",
      "Training  : 100%|███████████████████████████████████| 14/14 [00:02<00:00,  6.79it/s, loss=0.0467]\n",
      "Training  : 100%|███████████████████████████████████| 14/14 [00:02<00:00,  6.78it/s, loss=0.0472]\n",
      "Training  : 100%|███████████████████████████████████| 14/14 [00:02<00:00,  6.79it/s, loss=0.0501]\n",
      "Training  : 100%|████████████████████████████████████| 14/14 [00:02<00:00,  6.78it/s, loss=0.047]\n",
      "Training  : 100%|███████████████████████████████████| 14/14 [00:02<00:00,  6.83it/s, loss=0.0485]\n",
      "Training  : 100%|███████████████████████████████████| 14/14 [00:02<00:00,  6.78it/s, loss=0.0565]\n",
      "Training  : 100%|███████████████████████████████████| 14/14 [00:02<00:00,  6.86it/s, loss=0.0463]\n",
      "Training  : 100%|████████████████████████████████████| 14/14 [00:02<00:00,  6.79it/s, loss=0.045]\n",
      "Training  : 100%|███████████████████████████████████| 14/14 [00:02<00:00,  6.78it/s, loss=0.0506]\n",
      "Training  : 100%|███████████████████████████████████| 14/14 [00:02<00:00,  6.76it/s, loss=0.0454]\n",
      "Training  : 100%|███████████████████████████████████| 14/14 [00:02<00:00,  6.72it/s, loss=0.0468]\n",
      "Training  : 100%|███████████████████████████████████| 14/14 [00:02<00:00,  6.79it/s, loss=0.0513]\n",
      "Training  : 100%|███████████████████████████████████| 14/14 [00:02<00:00,  6.76it/s, loss=0.0463]\n",
      "Training  : 100%|███████████████████████████████████| 14/14 [00:02<00:00,  6.82it/s, loss=0.0476]\n",
      "Training  : 100%|████████████████████████████████████| 14/14 [00:02<00:00,  6.78it/s, loss=0.046]\n",
      "Training  : 100%|███████████████████████████████████| 14/14 [00:02<00:00,  6.77it/s, loss=0.0456]\n",
      "Training  : 100%|███████████████████████████████████| 14/14 [00:02<00:00,  6.80it/s, loss=0.0482]\n",
      "Predicting: 100%|████████████████████████████████████████████████| 27/27 [00:00<00:00, 54.93it/s]\n"
     ]
    },
    {
     "name": "stdout",
     "output_type": "stream",
     "text": [
      "Building sklearn text classifier...\n",
      "Loading bert-base-uncased model...\n",
      "Defaulting to linear classifier/regressor\n",
      "Loading Pytorch checkpoint\n",
      "train data size: 428, validation data size: 0\n"
     ]
    },
    {
     "name": "stderr",
     "output_type": "stream",
     "text": [
      "Training  : 100%|████████████████████████████████████| 14/14 [00:02<00:00,  6.81it/s, loss=0.549]\n",
      "Training  : 100%|████████████████████████████████████| 14/14 [00:02<00:00,  6.76it/s, loss=0.321]\n",
      "Training  : 100%|████████████████████████████████████| 14/14 [00:02<00:00,  6.75it/s, loss=0.239]\n",
      "Training  : 100%|█████████████████████████████████████| 14/14 [00:02<00:00,  6.77it/s, loss=0.21]\n",
      "Training  : 100%|████████████████████████████████████| 14/14 [00:02<00:00,  6.83it/s, loss=0.151]\n",
      "Training  : 100%|████████████████████████████████████| 14/14 [00:02<00:00,  6.75it/s, loss=0.122]\n",
      "Training  : 100%|████████████████████████████████████| 14/14 [00:02<00:00,  6.84it/s, loss=0.123]\n",
      "Training  : 100%|███████████████████████████████████| 14/14 [00:02<00:00,  6.82it/s, loss=0.0907]\n",
      "Training  : 100%|████████████████████████████████████| 14/14 [00:02<00:00,  6.70it/s, loss=0.102]\n",
      "Training  : 100%|███████████████████████████████████| 14/14 [00:02<00:00,  6.78it/s, loss=0.0894]\n",
      "Training  : 100%|███████████████████████████████████| 14/14 [00:02<00:00,  6.79it/s, loss=0.0893]\n",
      "Training  : 100%|███████████████████████████████████| 14/14 [00:02<00:00,  6.71it/s, loss=0.0717]\n",
      "Training  : 100%|███████████████████████████████████| 14/14 [00:02<00:00,  6.79it/s, loss=0.0778]\n",
      "Training  : 100%|███████████████████████████████████| 14/14 [00:02<00:00,  6.76it/s, loss=0.0646]\n",
      "Training  : 100%|███████████████████████████████████| 14/14 [00:02<00:00,  6.78it/s, loss=0.0609]\n",
      "Training  : 100%|███████████████████████████████████| 14/14 [00:02<00:00,  6.79it/s, loss=0.0561]\n",
      "Training  : 100%|███████████████████████████████████| 14/14 [00:02<00:00,  6.82it/s, loss=0.0561]\n",
      "Training  : 100%|███████████████████████████████████| 14/14 [00:02<00:00,  6.83it/s, loss=0.0599]\n",
      "Training  : 100%|████████████████████████████████████| 14/14 [00:02<00:00,  6.83it/s, loss=0.059]\n",
      "Training  : 100%|███████████████████████████████████| 14/14 [00:02<00:00,  6.77it/s, loss=0.0613]\n",
      "Training  : 100%|███████████████████████████████████| 14/14 [00:02<00:00,  6.79it/s, loss=0.0552]\n",
      "Training  : 100%|███████████████████████████████████| 14/14 [00:02<00:00,  6.74it/s, loss=0.0531]\n",
      "Training  : 100%|█████████████████████████████████████| 14/14 [00:02<00:00,  6.76it/s, loss=0.05]\n",
      "Training  : 100%|███████████████████████████████████| 14/14 [00:02<00:00,  6.68it/s, loss=0.0667]\n",
      "Training  : 100%|███████████████████████████████████| 14/14 [00:02<00:00,  6.77it/s, loss=0.0547]\n",
      "Training  : 100%|███████████████████████████████████| 14/14 [00:02<00:00,  6.75it/s, loss=0.0505]\n",
      "Training  : 100%|███████████████████████████████████| 14/14 [00:02<00:00,  6.68it/s, loss=0.0497]\n",
      "Training  : 100%|███████████████████████████████████| 14/14 [00:02<00:00,  6.72it/s, loss=0.0498]\n",
      "Training  : 100%|███████████████████████████████████| 14/14 [00:02<00:00,  6.78it/s, loss=0.0473]\n",
      "Training  : 100%|███████████████████████████████████| 14/14 [00:02<00:00,  6.75it/s, loss=0.0596]\n",
      "Training  : 100%|███████████████████████████████████| 14/14 [00:02<00:00,  6.79it/s, loss=0.0475]\n",
      "Training  : 100%|███████████████████████████████████| 14/14 [00:02<00:00,  6.81it/s, loss=0.0566]\n",
      "Training  : 100%|███████████████████████████████████| 14/14 [00:02<00:00,  6.79it/s, loss=0.0537]\n",
      "Training  : 100%|███████████████████████████████████| 14/14 [00:02<00:00,  6.84it/s, loss=0.0558]\n",
      "Training  : 100%|███████████████████████████████████| 14/14 [00:02<00:00,  6.80it/s, loss=0.0546]\n",
      "Training  : 100%|███████████████████████████████████| 14/14 [00:02<00:00,  6.80it/s, loss=0.0496]\n",
      "Training  : 100%|███████████████████████████████████| 14/14 [00:02<00:00,  6.77it/s, loss=0.0693]\n",
      "Training  : 100%|███████████████████████████████████| 14/14 [00:02<00:00,  6.72it/s, loss=0.0496]\n",
      "Training  : 100%|███████████████████████████████████| 14/14 [00:02<00:00,  6.82it/s, loss=0.0458]\n",
      "Training  : 100%|███████████████████████████████████| 14/14 [00:02<00:00,  6.70it/s, loss=0.0458]\n",
      "Training  : 100%|███████████████████████████████████| 14/14 [00:02<00:00,  6.82it/s, loss=0.0481]\n",
      "Training  : 100%|███████████████████████████████████| 14/14 [00:02<00:00,  6.77it/s, loss=0.0506]\n",
      "Training  : 100%|███████████████████████████████████| 14/14 [00:02<00:00,  6.75it/s, loss=0.0487]\n",
      "Training  : 100%|███████████████████████████████████| 14/14 [00:02<00:00,  6.75it/s, loss=0.0489]\n",
      "Training  : 100%|███████████████████████████████████| 14/14 [00:02<00:00,  6.82it/s, loss=0.0511]\n",
      "Training  : 100%|███████████████████████████████████| 14/14 [00:02<00:00,  6.85it/s, loss=0.0525]\n",
      "Training  : 100%|███████████████████████████████████| 14/14 [00:02<00:00,  6.79it/s, loss=0.0501]\n",
      "Training  : 100%|███████████████████████████████████| 14/14 [00:02<00:00,  6.75it/s, loss=0.0496]\n",
      "Training  : 100%|███████████████████████████████████| 14/14 [00:02<00:00,  6.85it/s, loss=0.0505]\n",
      "Training  : 100%|███████████████████████████████████| 14/14 [00:02<00:00,  6.80it/s, loss=0.0538]\n",
      "Training  : 100%|████████████████████████████████████| 14/14 [00:02<00:00,  6.76it/s, loss=0.051]\n",
      "Training  : 100%|███████████████████████████████████| 14/14 [00:02<00:00,  6.82it/s, loss=0.0515]\n",
      "Training  : 100%|███████████████████████████████████| 14/14 [00:02<00:00,  6.80it/s, loss=0.0483]\n",
      "Training  : 100%|███████████████████████████████████| 14/14 [00:02<00:00,  6.77it/s, loss=0.0519]\n",
      "Training  : 100%|███████████████████████████████████| 14/14 [00:02<00:00,  6.76it/s, loss=0.0571]\n",
      "Training  : 100%|███████████████████████████████████| 14/14 [00:02<00:00,  6.76it/s, loss=0.0489]\n",
      "Training  : 100%|███████████████████████████████████| 14/14 [00:02<00:00,  6.76it/s, loss=0.0479]\n",
      "Training  : 100%|█████████████████████████████████████| 14/14 [00:02<00:00,  6.81it/s, loss=0.05]\n",
      "Training  : 100%|███████████████████████████████████| 14/14 [00:02<00:00,  6.79it/s, loss=0.0512]\n",
      "Training  : 100%|███████████████████████████████████| 14/14 [00:02<00:00,  6.79it/s, loss=0.0494]\n",
      "Training  : 100%|███████████████████████████████████| 14/14 [00:02<00:00,  6.79it/s, loss=0.0489]\n",
      "Training  : 100%|███████████████████████████████████| 14/14 [00:02<00:00,  6.77it/s, loss=0.0528]\n",
      "Training  : 100%|███████████████████████████████████| 14/14 [00:02<00:00,  6.77it/s, loss=0.0554]\n",
      "Training  : 100%|███████████████████████████████████| 14/14 [00:02<00:00,  6.73it/s, loss=0.0579]\n",
      "Training  : 100%|█████████████████████████████████████| 14/14 [00:02<00:00,  6.81it/s, loss=0.05]\n",
      "Training  : 100%|███████████████████████████████████| 14/14 [00:02<00:00,  6.79it/s, loss=0.0486]\n",
      "Training  : 100%|█████████████████████████████████████| 14/14 [00:02<00:00,  6.79it/s, loss=0.05]\n",
      "Training  : 100%|███████████████████████████████████| 14/14 [00:02<00:00,  6.86it/s, loss=0.0478]\n",
      "Training  : 100%|███████████████████████████████████| 14/14 [00:02<00:00,  6.78it/s, loss=0.0451]\n",
      "Training  : 100%|███████████████████████████████████| 14/14 [00:02<00:00,  6.77it/s, loss=0.0477]\n",
      "Training  : 100%|███████████████████████████████████| 14/14 [00:02<00:00,  6.82it/s, loss=0.0455]\n",
      "Training  : 100%|███████████████████████████████████| 14/14 [00:02<00:00,  6.80it/s, loss=0.0487]\n",
      "Training  : 100%|███████████████████████████████████| 14/14 [00:02<00:00,  6.80it/s, loss=0.0475]\n",
      "Training  : 100%|███████████████████████████████████| 14/14 [00:02<00:00,  6.80it/s, loss=0.0478]\n",
      "Training  : 100%|███████████████████████████████████| 14/14 [00:02<00:00,  6.79it/s, loss=0.0488]\n",
      "Predicting: 100%|████████████████████████████████████████████████| 27/27 [00:00<00:00, 53.76it/s]\n"
     ]
    },
    {
     "name": "stdout",
     "output_type": "stream",
     "text": [
      "Building sklearn text classifier...\n",
      "Loading bert-base-uncased model...\n",
      "Defaulting to linear classifier/regressor\n",
      "Loading Pytorch checkpoint\n",
      "train data size: 428, validation data size: 0\n"
     ]
    },
    {
     "name": "stderr",
     "output_type": "stream",
     "text": [
      "Training  : 100%|████████████████████████████████████| 14/14 [00:02<00:00,  6.73it/s, loss=0.567]\n",
      "Training  : 100%|████████████████████████████████████| 14/14 [00:02<00:00,  6.77it/s, loss=0.295]\n",
      "Training  : 100%|████████████████████████████████████| 14/14 [00:02<00:00,  6.81it/s, loss=0.257]\n",
      "Training  : 100%|████████████████████████████████████| 14/14 [00:02<00:00,  6.73it/s, loss=0.203]\n",
      "Training  : 100%|████████████████████████████████████| 14/14 [00:02<00:00,  6.83it/s, loss=0.144]\n",
      "Training  : 100%|████████████████████████████████████| 14/14 [00:02<00:00,  6.66it/s, loss=0.132]\n",
      "Training  : 100%|████████████████████████████████████| 14/14 [00:02<00:00,  6.77it/s, loss=0.098]\n",
      "Training  : 100%|███████████████████████████████████| 14/14 [00:02<00:00,  6.80it/s, loss=0.0891]\n",
      "Training  : 100%|███████████████████████████████████| 14/14 [00:02<00:00,  6.78it/s, loss=0.0929]\n",
      "Training  : 100%|███████████████████████████████████| 14/14 [00:02<00:00,  6.79it/s, loss=0.0883]\n",
      "Training  : 100%|███████████████████████████████████| 14/14 [00:02<00:00,  6.77it/s, loss=0.0737]\n",
      "Training  : 100%|███████████████████████████████████| 14/14 [00:02<00:00,  6.80it/s, loss=0.0585]\n",
      "Training  : 100%|███████████████████████████████████| 14/14 [00:02<00:00,  6.81it/s, loss=0.0609]\n",
      "Training  : 100%|███████████████████████████████████| 14/14 [00:02<00:00,  6.79it/s, loss=0.0567]\n",
      "Training  : 100%|███████████████████████████████████| 14/14 [00:02<00:00,  6.79it/s, loss=0.0494]\n",
      "Training  : 100%|███████████████████████████████████| 14/14 [00:02<00:00,  6.76it/s, loss=0.0581]\n",
      "Training  : 100%|███████████████████████████████████| 14/14 [00:02<00:00,  6.79it/s, loss=0.0563]\n",
      "Training  : 100%|███████████████████████████████████| 14/14 [00:02<00:00,  6.80it/s, loss=0.0438]\n",
      "Training  : 100%|███████████████████████████████████| 14/14 [00:02<00:00,  6.81it/s, loss=0.0422]\n",
      "Training  : 100%|███████████████████████████████████| 14/14 [00:02<00:00,  6.77it/s, loss=0.0471]\n",
      "Training  : 100%|████████████████████████████████████| 14/14 [00:02<00:00,  6.80it/s, loss=0.041]\n",
      "Training  : 100%|███████████████████████████████████| 14/14 [00:02<00:00,  6.77it/s, loss=0.0425]\n",
      "Training  : 100%|███████████████████████████████████| 14/14 [00:02<00:00,  6.81it/s, loss=0.0476]\n",
      "Training  : 100%|███████████████████████████████████| 14/14 [00:02<00:00,  6.79it/s, loss=0.0419]\n",
      "Training  : 100%|███████████████████████████████████| 14/14 [00:02<00:00,  6.77it/s, loss=0.0401]\n",
      "Training  : 100%|███████████████████████████████████| 14/14 [00:02<00:00,  6.80it/s, loss=0.0388]\n",
      "Training  : 100%|███████████████████████████████████| 14/14 [00:02<00:00,  6.81it/s, loss=0.0406]\n",
      "Training  : 100%|███████████████████████████████████| 14/14 [00:02<00:00,  6.75it/s, loss=0.0451]\n",
      "Training  : 100%|███████████████████████████████████| 14/14 [00:02<00:00,  6.78it/s, loss=0.0386]\n",
      "Training  : 100%|███████████████████████████████████| 14/14 [00:02<00:00,  6.83it/s, loss=0.0566]\n",
      "Training  : 100%|███████████████████████████████████| 14/14 [00:02<00:00,  6.74it/s, loss=0.0525]\n",
      "Training  : 100%|███████████████████████████████████| 14/14 [00:02<00:00,  6.75it/s, loss=0.0402]\n",
      "Training  : 100%|███████████████████████████████████| 14/14 [00:02<00:00,  6.82it/s, loss=0.0472]\n",
      "Training  : 100%|███████████████████████████████████| 14/14 [00:02<00:00,  6.79it/s, loss=0.0402]\n",
      "Training  : 100%|███████████████████████████████████| 14/14 [00:02<00:00,  6.84it/s, loss=0.0389]\n",
      "Training  : 100%|███████████████████████████████████| 14/14 [00:02<00:00,  6.77it/s, loss=0.0445]\n",
      "Training  : 100%|████████████████████████████████████| 14/14 [00:02<00:00,  6.78it/s, loss=0.049]\n",
      "Training  : 100%|███████████████████████████████████| 14/14 [00:02<00:00,  6.70it/s, loss=0.0434]\n",
      "Training  : 100%|███████████████████████████████████| 14/14 [00:02<00:00,  6.76it/s, loss=0.0387]\n",
      "Training  : 100%|███████████████████████████████████| 14/14 [00:02<00:00,  6.76it/s, loss=0.0385]\n",
      "Training  : 100%|███████████████████████████████████| 14/14 [00:02<00:00,  6.82it/s, loss=0.0413]\n",
      "Training  : 100%|███████████████████████████████████| 14/14 [00:02<00:00,  6.77it/s, loss=0.0395]\n",
      "Training  : 100%|█████████████████████████████████████| 14/14 [00:02<00:00,  6.80it/s, loss=0.05]\n",
      "Training  : 100%|███████████████████████████████████| 14/14 [00:02<00:00,  6.81it/s, loss=0.0383]\n",
      "Training  : 100%|███████████████████████████████████| 14/14 [00:02<00:00,  6.72it/s, loss=0.0392]\n",
      "Training  : 100%|████████████████████████████████████| 14/14 [00:02<00:00,  6.77it/s, loss=0.045]\n",
      "Training  : 100%|███████████████████████████████████| 14/14 [00:02<00:00,  6.80it/s, loss=0.0425]\n",
      "Training  : 100%|███████████████████████████████████| 14/14 [00:02<00:00,  6.78it/s, loss=0.0427]\n",
      "Training  : 100%|███████████████████████████████████| 14/14 [00:02<00:00,  6.83it/s, loss=0.0409]\n",
      "Training  : 100%|███████████████████████████████████| 14/14 [00:02<00:00,  6.75it/s, loss=0.0395]\n",
      "Training  : 100%|███████████████████████████████████| 14/14 [00:02<00:00,  6.78it/s, loss=0.0409]\n",
      "Training  : 100%|███████████████████████████████████| 14/14 [00:02<00:00,  6.79it/s, loss=0.0379]\n",
      "Training  : 100%|███████████████████████████████████| 14/14 [00:02<00:00,  6.80it/s, loss=0.0366]\n",
      "Training  : 100%|███████████████████████████████████| 14/14 [00:02<00:00,  6.80it/s, loss=0.0411]\n",
      "Training  : 100%|███████████████████████████████████| 14/14 [00:02<00:00,  6.75it/s, loss=0.0408]\n",
      "Training  : 100%|███████████████████████████████████| 14/14 [00:02<00:00,  6.87it/s, loss=0.0413]\n",
      "Training  : 100%|███████████████████████████████████| 14/14 [00:02<00:00,  6.79it/s, loss=0.0371]\n",
      "Training  : 100%|███████████████████████████████████| 14/14 [00:02<00:00,  6.73it/s, loss=0.0402]\n",
      "Training  : 100%|███████████████████████████████████| 14/14 [00:02<00:00,  6.73it/s, loss=0.0441]\n",
      "Training  : 100%|███████████████████████████████████| 14/14 [00:02<00:00,  6.76it/s, loss=0.0416]\n",
      "Training  : 100%|███████████████████████████████████| 14/14 [00:02<00:00,  6.76it/s, loss=0.0399]\n",
      "Training  : 100%|███████████████████████████████████| 14/14 [00:02<00:00,  6.75it/s, loss=0.0439]\n",
      "Training  : 100%|███████████████████████████████████| 14/14 [00:02<00:00,  6.77it/s, loss=0.0414]\n",
      "Training  : 100%|███████████████████████████████████| 14/14 [00:02<00:00,  6.76it/s, loss=0.0404]\n",
      "Training  : 100%|███████████████████████████████████| 14/14 [00:02<00:00,  6.73it/s, loss=0.0446]\n",
      "Training  : 100%|███████████████████████████████████| 14/14 [00:02<00:00,  6.78it/s, loss=0.0408]\n",
      "Training  : 100%|███████████████████████████████████| 14/14 [00:02<00:00,  6.77it/s, loss=0.0396]\n",
      "Training  : 100%|███████████████████████████████████| 14/14 [00:02<00:00,  6.77it/s, loss=0.0376]\n",
      "Training  : 100%|███████████████████████████████████| 14/14 [00:02<00:00,  6.78it/s, loss=0.0392]\n",
      "Training  : 100%|███████████████████████████████████| 14/14 [00:02<00:00,  6.80it/s, loss=0.0388]\n",
      "Training  : 100%|███████████████████████████████████| 14/14 [00:02<00:00,  6.79it/s, loss=0.0393]\n",
      "Training  : 100%|███████████████████████████████████| 14/14 [00:02<00:00,  6.80it/s, loss=0.0402]\n",
      "Training  : 100%|███████████████████████████████████| 14/14 [00:02<00:00,  6.81it/s, loss=0.0433]\n",
      "Training  : 100%|███████████████████████████████████| 14/14 [00:02<00:00,  6.76it/s, loss=0.0437]\n",
      "Training  : 100%|███████████████████████████████████| 14/14 [00:02<00:00,  6.77it/s, loss=0.0394]\n",
      "Predicting: 100%|████████████████████████████████████████████████| 27/27 [00:00<00:00, 55.42it/s]\n"
     ]
    },
    {
     "name": "stdout",
     "output_type": "stream",
     "text": [
      "Building sklearn text classifier...\n",
      "Loading bert-base-uncased model...\n",
      "Defaulting to linear classifier/regressor\n",
      "Loading Pytorch checkpoint\n",
      "train data size: 428, validation data size: 0\n"
     ]
    },
    {
     "name": "stderr",
     "output_type": "stream",
     "text": [
      "Training  : 100%|████████████████████████████████████| 14/14 [00:02<00:00,  6.80it/s, loss=0.522]\n",
      "Training  : 100%|████████████████████████████████████| 14/14 [00:02<00:00,  6.77it/s, loss=0.283]\n",
      "Training  : 100%|█████████████████████████████████████| 14/14 [00:02<00:00,  6.76it/s, loss=0.21]\n",
      "Training  : 100%|████████████████████████████████████| 14/14 [00:02<00:00,  6.75it/s, loss=0.185]\n",
      "Training  : 100%|████████████████████████████████████| 14/14 [00:02<00:00,  6.76it/s, loss=0.102]\n",
      "Training  : 100%|████████████████████████████████████| 14/14 [00:02<00:00,  6.68it/s, loss=0.143]\n",
      "Training  : 100%|████████████████████████████████████| 14/14 [00:02<00:00,  6.72it/s, loss=0.132]\n",
      "Training  : 100%|████████████████████████████████████| 14/14 [00:02<00:00,  6.70it/s, loss=0.101]\n",
      "Training  : 100%|████████████████████████████████████| 14/14 [00:02<00:00,  6.84it/s, loss=0.105]\n",
      "Training  : 100%|███████████████████████████████████| 14/14 [00:02<00:00,  6.80it/s, loss=0.0846]\n",
      "Training  : 100%|███████████████████████████████████| 14/14 [00:02<00:00,  6.75it/s, loss=0.0712]\n",
      "Training  : 100%|███████████████████████████████████| 14/14 [00:02<00:00,  6.78it/s, loss=0.0693]\n",
      "Training  : 100%|███████████████████████████████████| 14/14 [00:02<00:00,  6.81it/s, loss=0.0651]\n",
      "Training  : 100%|███████████████████████████████████| 14/14 [00:02<00:00,  6.81it/s, loss=0.0568]\n",
      "Training  : 100%|███████████████████████████████████| 14/14 [00:02<00:00,  6.80it/s, loss=0.0545]\n",
      "Training  : 100%|███████████████████████████████████| 14/14 [00:02<00:00,  6.78it/s, loss=0.0597]\n",
      "Training  : 100%|███████████████████████████████████| 14/14 [00:02<00:00,  6.80it/s, loss=0.0541]\n",
      "Training  : 100%|███████████████████████████████████| 14/14 [00:02<00:00,  6.77it/s, loss=0.0534]\n",
      "Training  : 100%|███████████████████████████████████| 14/14 [00:02<00:00,  6.82it/s, loss=0.0548]\n",
      "Training  : 100%|███████████████████████████████████| 14/14 [00:02<00:00,  6.73it/s, loss=0.0548]\n",
      "Training  : 100%|███████████████████████████████████| 14/14 [00:02<00:00,  6.53it/s, loss=0.0574]\n",
      "Training  : 100%|████████████████████████████████████| 14/14 [00:02<00:00,  6.61it/s, loss=0.053]\n",
      "Training  : 100%|███████████████████████████████████| 14/14 [00:02<00:00,  6.83it/s, loss=0.0612]\n",
      "Training  : 100%|███████████████████████████████████| 14/14 [00:02<00:00,  6.77it/s, loss=0.0549]\n",
      "Training  : 100%|███████████████████████████████████| 14/14 [00:02<00:00,  6.77it/s, loss=0.0556]\n",
      "Training  : 100%|███████████████████████████████████| 14/14 [00:02<00:00,  6.79it/s, loss=0.0529]\n",
      "Training  : 100%|███████████████████████████████████| 14/14 [00:02<00:00,  6.73it/s, loss=0.0527]\n",
      "Training  : 100%|███████████████████████████████████| 14/14 [00:02<00:00,  6.79it/s, loss=0.0565]\n",
      "Training  : 100%|███████████████████████████████████| 14/14 [00:02<00:00,  6.77it/s, loss=0.0545]\n",
      "Training  : 100%|████████████████████████████████████| 14/14 [00:02<00:00,  6.79it/s, loss=0.053]\n",
      "Training  : 100%|███████████████████████████████████| 14/14 [00:02<00:00,  6.76it/s, loss=0.0494]\n",
      "Training  : 100%|███████████████████████████████████| 14/14 [00:02<00:00,  6.79it/s, loss=0.0569]\n",
      "Training  : 100%|███████████████████████████████████| 14/14 [00:02<00:00,  6.75it/s, loss=0.0573]\n",
      "Training  : 100%|███████████████████████████████████| 14/14 [00:02<00:00,  6.83it/s, loss=0.0563]\n",
      "Training  : 100%|████████████████████████████████████| 14/14 [00:02<00:00,  6.83it/s, loss=0.053]\n",
      "Training  : 100%|███████████████████████████████████| 14/14 [00:02<00:00,  6.82it/s, loss=0.0491]\n",
      "Training  : 100%|███████████████████████████████████| 14/14 [00:02<00:00,  6.84it/s, loss=0.0581]\n",
      "Training  : 100%|███████████████████████████████████| 14/14 [00:02<00:00,  6.81it/s, loss=0.0523]\n",
      "Training  : 100%|████████████████████████████████████| 14/14 [00:02<00:00,  6.77it/s, loss=0.049]\n",
      "Training  : 100%|███████████████████████████████████| 14/14 [00:02<00:00,  6.83it/s, loss=0.0489]\n",
      "Training  : 100%|███████████████████████████████████| 14/14 [00:02<00:00,  6.72it/s, loss=0.0463]\n",
      "Training  : 100%|███████████████████████████████████| 14/14 [00:02<00:00,  6.67it/s, loss=0.0539]\n",
      "Training  : 100%|███████████████████████████████████| 14/14 [00:02<00:00,  6.77it/s, loss=0.0472]\n",
      "Training  : 100%|███████████████████████████████████| 14/14 [00:02<00:00,  6.79it/s, loss=0.0476]\n",
      "Training  : 100%|███████████████████████████████████| 14/14 [00:02<00:00,  6.74it/s, loss=0.0495]\n",
      "Training  : 100%|███████████████████████████████████| 14/14 [00:02<00:00,  6.77it/s, loss=0.0449]\n",
      "Training  : 100%|███████████████████████████████████| 14/14 [00:02<00:00,  6.78it/s, loss=0.0455]\n",
      "Training  : 100%|███████████████████████████████████| 14/14 [00:02<00:00,  6.81it/s, loss=0.0471]\n",
      "Training  : 100%|███████████████████████████████████| 14/14 [00:02<00:00,  6.75it/s, loss=0.0462]\n",
      "Training  : 100%|███████████████████████████████████| 14/14 [00:02<00:00,  6.76it/s, loss=0.0548]\n",
      "Training  : 100%|███████████████████████████████████| 14/14 [00:02<00:00,  6.77it/s, loss=0.0456]\n",
      "Training  : 100%|███████████████████████████████████| 14/14 [00:02<00:00,  6.82it/s, loss=0.0576]\n",
      "Training  : 100%|███████████████████████████████████| 14/14 [00:02<00:00,  6.78it/s, loss=0.0475]\n",
      "Training  : 100%|███████████████████████████████████| 14/14 [00:02<00:00,  6.73it/s, loss=0.0478]\n",
      "Training  : 100%|███████████████████████████████████| 14/14 [00:02<00:00,  6.83it/s, loss=0.0527]\n",
      "Training  : 100%|███████████████████████████████████| 14/14 [00:02<00:00,  6.77it/s, loss=0.0464]\n",
      "Training  : 100%|███████████████████████████████████| 14/14 [00:02<00:00,  6.80it/s, loss=0.0544]\n",
      "Training  : 100%|███████████████████████████████████| 14/14 [00:02<00:00,  6.74it/s, loss=0.0482]\n",
      "Training  : 100%|███████████████████████████████████| 14/14 [00:02<00:00,  6.76it/s, loss=0.0461]\n",
      "Training  : 100%|████████████████████████████████████| 14/14 [00:02<00:00,  6.79it/s, loss=0.045]\n",
      "Training  : 100%|███████████████████████████████████| 14/14 [00:02<00:00,  6.79it/s, loss=0.0522]\n",
      "Training  : 100%|███████████████████████████████████| 14/14 [00:02<00:00,  6.75it/s, loss=0.0477]\n",
      "Training  : 100%|███████████████████████████████████| 14/14 [00:02<00:00,  6.75it/s, loss=0.0511]\n",
      "Training  : 100%|███████████████████████████████████| 14/14 [00:02<00:00,  6.80it/s, loss=0.0574]\n",
      "Training  : 100%|███████████████████████████████████| 14/14 [00:02<00:00,  6.86it/s, loss=0.0461]\n",
      "Training  : 100%|███████████████████████████████████| 14/14 [00:02<00:00,  6.78it/s, loss=0.0458]\n",
      "Training  : 100%|███████████████████████████████████| 14/14 [00:02<00:00,  6.80it/s, loss=0.0531]\n",
      "Training  : 100%|███████████████████████████████████| 14/14 [00:02<00:00,  6.75it/s, loss=0.0461]\n",
      "Training  : 100%|███████████████████████████████████| 14/14 [00:02<00:00,  6.79it/s, loss=0.0459]\n",
      "Training  : 100%|███████████████████████████████████| 14/14 [00:02<00:00,  6.77it/s, loss=0.0534]\n",
      "Training  : 100%|███████████████████████████████████| 14/14 [00:02<00:00,  6.87it/s, loss=0.0451]\n",
      "Training  : 100%|███████████████████████████████████| 14/14 [00:02<00:00,  6.75it/s, loss=0.0446]\n",
      "Training  : 100%|███████████████████████████████████| 14/14 [00:02<00:00,  6.78it/s, loss=0.0459]\n",
      "Training  : 100%|███████████████████████████████████| 14/14 [00:02<00:00,  6.76it/s, loss=0.0451]\n",
      "Training  : 100%|███████████████████████████████████| 14/14 [00:02<00:00,  6.76it/s, loss=0.0487]\n",
      "Predicting: 100%|████████████████████████████████████████████████| 27/27 [00:00<00:00, 54.68it/s]\n"
     ]
    },
    {
     "name": "stdout",
     "output_type": "stream",
     "text": [
      "Building sklearn text classifier...\n",
      "Loading bert-base-uncased model...\n",
      "Defaulting to linear classifier/regressor\n",
      "Loading Pytorch checkpoint\n",
      "train data size: 428, validation data size: 0\n"
     ]
    },
    {
     "name": "stderr",
     "output_type": "stream",
     "text": [
      "Training  : 100%|█████████████████████████████████████| 14/14 [00:02<00:00,  6.67it/s, loss=0.52]\n",
      "Training  : 100%|████████████████████████████████████| 14/14 [00:02<00:00,  6.71it/s, loss=0.285]\n",
      "Training  : 100%|████████████████████████████████████| 14/14 [00:02<00:00,  6.71it/s, loss=0.254]\n",
      "Training  : 100%|████████████████████████████████████| 14/14 [00:02<00:00,  6.66it/s, loss=0.235]\n",
      "Training  : 100%|████████████████████████████████████| 14/14 [00:02<00:00,  6.71it/s, loss=0.142]\n",
      "Training  : 100%|████████████████████████████████████| 14/14 [00:02<00:00,  6.74it/s, loss=0.126]\n",
      "Training  : 100%|████████████████████████████████████| 14/14 [00:02<00:00,  6.69it/s, loss=0.103]\n",
      "Training  : 100%|████████████████████████████████████| 14/14 [00:02<00:00,  6.66it/s, loss=0.104]\n",
      "Training  : 100%|████████████████████████████████████| 14/14 [00:02<00:00,  6.74it/s, loss=0.101]\n",
      "Training  : 100%|████████████████████████████████████| 14/14 [00:02<00:00,  6.74it/s, loss=0.142]\n",
      "Training  : 100%|███████████████████████████████████| 14/14 [00:02<00:00,  6.74it/s, loss=0.0844]\n",
      "Training  : 100%|████████████████████████████████████| 14/14 [00:02<00:00,  6.75it/s, loss=0.088]\n",
      "Training  : 100%|███████████████████████████████████| 14/14 [00:02<00:00,  6.78it/s, loss=0.0849]\n",
      "Training  : 100%|███████████████████████████████████| 14/14 [00:02<00:00,  6.72it/s, loss=0.0697]\n",
      "Training  : 100%|███████████████████████████████████| 14/14 [00:02<00:00,  6.61it/s, loss=0.0704]\n",
      "Training  : 100%|███████████████████████████████████| 14/14 [00:02<00:00,  6.53it/s, loss=0.0619]\n",
      "Training  : 100%|███████████████████████████████████| 14/14 [00:02<00:00,  6.68it/s, loss=0.0623]\n",
      "Training  : 100%|███████████████████████████████████| 14/14 [00:02<00:00,  6.62it/s, loss=0.0692]\n",
      "Training  : 100%|███████████████████████████████████| 14/14 [00:02<00:00,  6.66it/s, loss=0.0679]\n",
      "Training  : 100%|███████████████████████████████████| 14/14 [00:02<00:00,  6.62it/s, loss=0.0922]\n",
      "Training  : 100%|███████████████████████████████████| 14/14 [00:02<00:00,  6.74it/s, loss=0.0713]\n",
      "Training  : 100%|███████████████████████████████████| 14/14 [00:02<00:00,  6.68it/s, loss=0.0706]\n",
      "Training  : 100%|███████████████████████████████████| 14/14 [00:02<00:00,  6.76it/s, loss=0.0559]\n",
      "Training  : 100%|███████████████████████████████████| 14/14 [00:02<00:00,  6.74it/s, loss=0.0716]\n",
      "Training  : 100%|███████████████████████████████████| 14/14 [00:02<00:00,  6.76it/s, loss=0.0505]\n",
      "Training  : 100%|███████████████████████████████████| 14/14 [00:02<00:00,  6.66it/s, loss=0.0521]\n",
      "Training  : 100%|███████████████████████████████████| 14/14 [00:02<00:00,  6.67it/s, loss=0.0496]\n",
      "Training  : 100%|███████████████████████████████████| 14/14 [00:02<00:00,  6.71it/s, loss=0.0487]\n",
      "Training  : 100%|███████████████████████████████████| 14/14 [00:02<00:00,  6.76it/s, loss=0.0481]\n",
      "Training  : 100%|███████████████████████████████████| 14/14 [00:02<00:00,  6.70it/s, loss=0.0545]\n",
      "Training  : 100%|███████████████████████████████████| 14/14 [00:02<00:00,  6.70it/s, loss=0.0487]\n",
      "Training  : 100%|███████████████████████████████████| 14/14 [00:02<00:00,  6.64it/s, loss=0.0585]\n",
      "Training  : 100%|███████████████████████████████████| 14/14 [00:02<00:00,  6.71it/s, loss=0.0552]\n",
      "Training  : 100%|███████████████████████████████████| 14/14 [00:02<00:00,  6.72it/s, loss=0.0569]\n",
      "Training  : 100%|███████████████████████████████████| 14/14 [00:02<00:00,  6.69it/s, loss=0.0571]\n",
      "Training  : 100%|███████████████████████████████████| 14/14 [00:02<00:00,  6.75it/s, loss=0.0487]\n",
      "Training  : 100%|███████████████████████████████████| 14/14 [00:02<00:00,  6.75it/s, loss=0.0694]\n",
      "Training  : 100%|███████████████████████████████████| 14/14 [00:02<00:00,  6.77it/s, loss=0.0507]\n",
      "Training  : 100%|███████████████████████████████████| 14/14 [00:02<00:00,  6.69it/s, loss=0.0482]\n",
      "Training  : 100%|███████████████████████████████████| 14/14 [00:02<00:00,  6.73it/s, loss=0.0449]\n",
      "Training  : 100%|███████████████████████████████████| 14/14 [00:02<00:00,  6.69it/s, loss=0.0487]\n",
      "Training  : 100%|███████████████████████████████████| 14/14 [00:02<00:00,  6.74it/s, loss=0.0502]\n",
      "Training  : 100%|████████████████████████████████████| 14/14 [00:02<00:00,  6.66it/s, loss=0.049]\n",
      "Training  : 100%|████████████████████████████████████| 14/14 [00:02<00:00,  6.73it/s, loss=0.048]\n",
      "Training  : 100%|███████████████████████████████████| 14/14 [00:02<00:00,  6.73it/s, loss=0.0499]\n",
      "Training  : 100%|███████████████████████████████████| 14/14 [00:02<00:00,  6.77it/s, loss=0.0521]\n",
      "Training  : 100%|███████████████████████████████████| 14/14 [00:02<00:00,  6.68it/s, loss=0.0486]\n",
      "Training  : 100%|███████████████████████████████████| 14/14 [00:02<00:00,  6.64it/s, loss=0.0475]\n",
      "Training  : 100%|███████████████████████████████████| 14/14 [00:02<00:00,  6.52it/s, loss=0.0504]\n",
      "Training  : 100%|███████████████████████████████████| 14/14 [00:02<00:00,  6.67it/s, loss=0.0539]\n",
      "Training  : 100%|███████████████████████████████████| 14/14 [00:02<00:00,  6.69it/s, loss=0.0507]\n",
      "Training  : 100%|████████████████████████████████████| 14/14 [00:02<00:00,  6.68it/s, loss=0.051]\n",
      "Training  : 100%|███████████████████████████████████| 14/14 [00:02<00:00,  6.76it/s, loss=0.0461]\n",
      "Training  : 100%|███████████████████████████████████| 14/14 [00:02<00:00,  6.65it/s, loss=0.0515]\n",
      "Training  : 100%|███████████████████████████████████| 14/14 [00:02<00:00,  6.70it/s, loss=0.0573]\n",
      "Training  : 100%|███████████████████████████████████| 14/14 [00:02<00:00,  6.74it/s, loss=0.0487]\n",
      "Training  : 100%|███████████████████████████████████| 14/14 [00:02<00:00,  6.75it/s, loss=0.0482]\n",
      "Training  : 100%|███████████████████████████████████| 14/14 [00:02<00:00,  6.69it/s, loss=0.0484]\n",
      "Training  : 100%|███████████████████████████████████| 14/14 [00:02<00:00,  6.71it/s, loss=0.0515]\n",
      "Training  : 100%|███████████████████████████████████| 14/14 [00:02<00:00,  6.75it/s, loss=0.0483]\n",
      "Training  : 100%|███████████████████████████████████| 14/14 [00:02<00:00,  6.76it/s, loss=0.0476]\n",
      "Training  : 100%|███████████████████████████████████| 14/14 [00:02<00:00,  6.65it/s, loss=0.0527]\n",
      "Training  : 100%|████████████████████████████████████| 14/14 [00:02<00:00,  6.62it/s, loss=0.056]\n",
      "Training  : 100%|███████████████████████████████████| 14/14 [00:02<00:00,  6.74it/s, loss=0.0579]\n",
      "Training  : 100%|███████████████████████████████████| 14/14 [00:02<00:00,  6.71it/s, loss=0.0486]\n",
      "Training  : 100%|███████████████████████████████████| 14/14 [00:02<00:00,  6.71it/s, loss=0.0487]\n",
      "Training  : 100%|███████████████████████████████████| 14/14 [00:02<00:00,  6.68it/s, loss=0.0501]\n",
      "Training  : 100%|███████████████████████████████████| 14/14 [00:02<00:00,  6.71it/s, loss=0.0487]\n",
      "Training  : 100%|████████████████████████████████████| 14/14 [00:02<00:00,  6.71it/s, loss=0.045]\n",
      "Training  : 100%|███████████████████████████████████| 14/14 [00:02<00:00,  6.72it/s, loss=0.0461]\n",
      "Training  : 100%|████████████████████████████████████| 14/14 [00:02<00:00,  6.74it/s, loss=0.046]\n",
      "Training  : 100%|███████████████████████████████████| 14/14 [00:02<00:00,  6.75it/s, loss=0.0474]\n",
      "Training  : 100%|███████████████████████████████████| 14/14 [00:02<00:00,  6.72it/s, loss=0.0482]\n",
      "Training  : 100%|███████████████████████████████████| 14/14 [00:02<00:00,  6.72it/s, loss=0.0467]\n",
      "Training  : 100%|███████████████████████████████████| 14/14 [00:02<00:00,  6.72it/s, loss=0.0483]\n",
      "Predicting: 100%|████████████████████████████████████████████████| 27/27 [00:00<00:00, 51.91it/s]\n"
     ]
    },
    {
     "name": "stdout",
     "output_type": "stream",
     "text": [
      "Building sklearn text classifier...\n",
      "Loading bert-base-uncased model...\n",
      "Defaulting to linear classifier/regressor\n",
      "Loading Pytorch checkpoint\n",
      "train data size: 428, validation data size: 0\n"
     ]
    },
    {
     "name": "stderr",
     "output_type": "stream",
     "text": [
      "Training  : 100%|████████████████████████████████████| 14/14 [00:02<00:00,  6.57it/s, loss=0.541]\n",
      "Training  : 100%|████████████████████████████████████| 14/14 [00:02<00:00,  6.67it/s, loss=0.273]\n",
      "Training  : 100%|████████████████████████████████████| 14/14 [00:02<00:00,  6.58it/s, loss=0.223]\n",
      "Training  : 100%|████████████████████████████████████| 14/14 [00:02<00:00,  6.65it/s, loss=0.155]\n",
      "Training  : 100%|████████████████████████████████████| 14/14 [00:02<00:00,  6.69it/s, loss=0.136]\n",
      "Training  : 100%|████████████████████████████████████| 14/14 [00:02<00:00,  6.69it/s, loss=0.113]\n",
      "Training  : 100%|███████████████████████████████████| 14/14 [00:02<00:00,  6.68it/s, loss=0.0799]\n",
      "Training  : 100%|███████████████████████████████████| 14/14 [00:02<00:00,  6.62it/s, loss=0.0721]\n",
      "Training  : 100%|████████████████████████████████████| 14/14 [00:02<00:00,  6.60it/s, loss=0.143]\n",
      "Training  : 100%|███████████████████████████████████| 14/14 [00:02<00:00,  6.68it/s, loss=0.0775]\n",
      "Training  : 100%|███████████████████████████████████| 14/14 [00:02<00:00,  6.63it/s, loss=0.0723]\n",
      "Training  : 100%|███████████████████████████████████| 14/14 [00:02<00:00,  6.62it/s, loss=0.0672]\n",
      "Training  : 100%|███████████████████████████████████| 14/14 [00:02<00:00,  6.65it/s, loss=0.0615]\n",
      "Training  : 100%|███████████████████████████████████| 14/14 [00:02<00:00,  6.62it/s, loss=0.0518]\n",
      "Training  : 100%|███████████████████████████████████| 14/14 [00:02<00:00,  6.63it/s, loss=0.0591]\n",
      "Training  : 100%|███████████████████████████████████| 14/14 [00:02<00:00,  6.64it/s, loss=0.0573]\n",
      "Training  : 100%|███████████████████████████████████| 14/14 [00:02<00:00,  6.62it/s, loss=0.0536]\n",
      "Training  : 100%|███████████████████████████████████| 14/14 [00:02<00:00,  6.67it/s, loss=0.0575]\n",
      "Training  : 100%|███████████████████████████████████| 14/14 [00:02<00:00,  6.63it/s, loss=0.0559]\n",
      "Training  : 100%|████████████████████████████████████| 14/14 [00:02<00:00,  6.62it/s, loss=0.048]\n",
      "Training  : 100%|███████████████████████████████████| 14/14 [00:02<00:00,  6.69it/s, loss=0.0473]\n",
      "Training  : 100%|███████████████████████████████████| 14/14 [00:02<00:00,  6.72it/s, loss=0.0434]\n",
      "Training  : 100%|███████████████████████████████████| 14/14 [00:02<00:00,  6.69it/s, loss=0.0587]\n",
      "Training  : 100%|███████████████████████████████████| 14/14 [00:02<00:00,  6.64it/s, loss=0.0559]\n",
      "Training  : 100%|███████████████████████████████████| 14/14 [00:02<00:00,  6.67it/s, loss=0.0465]\n",
      "Training  : 100%|███████████████████████████████████| 14/14 [00:02<00:00,  6.62it/s, loss=0.0445]\n",
      "Training  : 100%|███████████████████████████████████| 14/14 [00:02<00:00,  6.68it/s, loss=0.0579]\n",
      "Training  : 100%|███████████████████████████████████| 14/14 [00:02<00:00,  6.61it/s, loss=0.0464]\n",
      "Training  : 100%|███████████████████████████████████| 14/14 [00:02<00:00,  6.60it/s, loss=0.0394]\n",
      "Training  : 100%|███████████████████████████████████| 14/14 [00:02<00:00,  6.59it/s, loss=0.0555]\n",
      "Training  : 100%|███████████████████████████████████| 14/14 [00:02<00:00,  6.62it/s, loss=0.0494]\n",
      "Training  : 100%|███████████████████████████████████| 14/14 [00:02<00:00,  6.67it/s, loss=0.0401]\n",
      "Training  : 100%|███████████████████████████████████| 14/14 [00:02<00:00,  6.68it/s, loss=0.0477]\n",
      "Training  : 100%|███████████████████████████████████| 14/14 [00:02<00:00,  6.66it/s, loss=0.0409]\n",
      "Training  : 100%|███████████████████████████████████| 14/14 [00:02<00:00,  6.67it/s, loss=0.0411]\n",
      "Training  : 100%|████████████████████████████████████| 14/14 [00:02<00:00,  6.61it/s, loss=0.045]\n",
      "Training  : 100%|███████████████████████████████████| 14/14 [00:02<00:00,  6.63it/s, loss=0.0502]\n",
      "Training  : 100%|███████████████████████████████████| 14/14 [00:02<00:00,  6.64it/s, loss=0.0419]\n",
      "Training  : 100%|███████████████████████████████████| 14/14 [00:02<00:00,  6.63it/s, loss=0.0397]\n",
      "Training  : 100%|███████████████████████████████████| 14/14 [00:02<00:00,  6.64it/s, loss=0.0375]\n",
      "Training  : 100%|███████████████████████████████████| 14/14 [00:02<00:00,  6.65it/s, loss=0.0579]\n",
      "Training  : 100%|███████████████████████████████████| 14/14 [00:02<00:00,  6.66it/s, loss=0.0416]\n",
      "Training  : 100%|███████████████████████████████████| 14/14 [00:02<00:00,  6.65it/s, loss=0.0481]\n",
      "Training  : 100%|███████████████████████████████████| 14/14 [00:02<00:00,  6.64it/s, loss=0.0395]\n",
      "Training  : 100%|████████████████████████████████████| 14/14 [00:02<00:00,  6.56it/s, loss=0.041]\n",
      "Training  : 100%|███████████████████████████████████| 14/14 [00:02<00:00,  6.68it/s, loss=0.0436]\n",
      "Training  : 100%|███████████████████████████████████| 14/14 [00:02<00:00,  6.61it/s, loss=0.0445]\n",
      "Training  : 100%|███████████████████████████████████| 14/14 [00:02<00:00,  6.64it/s, loss=0.0417]\n",
      "Training  : 100%|███████████████████████████████████| 14/14 [00:02<00:00,  6.63it/s, loss=0.0399]\n",
      "Training  : 100%|███████████████████████████████████| 14/14 [00:02<00:00,  6.62it/s, loss=0.0424]\n",
      "Training  : 100%|███████████████████████████████████| 14/14 [00:02<00:00,  6.65it/s, loss=0.0457]\n",
      "Training  : 100%|███████████████████████████████████| 14/14 [00:02<00:00,  6.66it/s, loss=0.0373]\n",
      "Training  : 100%|███████████████████████████████████| 14/14 [00:02<00:00,  6.64it/s, loss=0.0396]\n",
      "Training  : 100%|███████████████████████████████████| 14/14 [00:02<00:00,  6.66it/s, loss=0.0415]\n",
      "Training  : 100%|███████████████████████████████████| 14/14 [00:02<00:00,  6.69it/s, loss=0.0407]\n",
      "Training  : 100%|███████████████████████████████████| 14/14 [00:02<00:00,  6.70it/s, loss=0.0399]\n",
      "Training  : 100%|███████████████████████████████████| 14/14 [00:02<00:00,  6.69it/s, loss=0.0399]\n",
      "Training  : 100%|███████████████████████████████████| 14/14 [00:02<00:00,  6.69it/s, loss=0.0417]\n",
      "Training  : 100%|███████████████████████████████████| 14/14 [00:02<00:00,  6.65it/s, loss=0.0436]\n",
      "Training  : 100%|████████████████████████████████████| 14/14 [00:02<00:00,  6.67it/s, loss=0.039]\n",
      "Training  : 100%|███████████████████████████████████| 14/14 [00:02<00:00,  6.65it/s, loss=0.0398]\n",
      "Training  : 100%|███████████████████████████████████| 14/14 [00:02<00:00,  6.56it/s, loss=0.0436]\n",
      "Training  : 100%|███████████████████████████████████| 14/14 [00:02<00:00,  6.64it/s, loss=0.0418]\n",
      "Training  : 100%|███████████████████████████████████| 14/14 [00:02<00:00,  6.71it/s, loss=0.0419]\n",
      "Training  : 100%|███████████████████████████████████| 14/14 [00:02<00:00,  6.69it/s, loss=0.0445]\n",
      "Training  : 100%|███████████████████████████████████| 14/14 [00:02<00:00,  6.61it/s, loss=0.0402]\n",
      "Training  : 100%|███████████████████████████████████| 14/14 [00:02<00:00,  6.67it/s, loss=0.0408]\n",
      "Training  : 100%|███████████████████████████████████| 14/14 [00:02<00:00,  6.71it/s, loss=0.0375]\n",
      "Training  : 100%|███████████████████████████████████| 14/14 [00:02<00:00,  6.47it/s, loss=0.0385]\n",
      "Training  : 100%|███████████████████████████████████| 14/14 [00:02<00:00,  6.06it/s, loss=0.0361]\n",
      "Training  : 100%|███████████████████████████████████| 14/14 [00:02<00:00,  6.65it/s, loss=0.0398]\n",
      "Training  : 100%|███████████████████████████████████| 14/14 [00:02<00:00,  6.66it/s, loss=0.0392]\n",
      "Training  : 100%|███████████████████████████████████| 14/14 [00:02<00:00,  6.66it/s, loss=0.0451]\n",
      "Training  : 100%|███████████████████████████████████| 14/14 [00:02<00:00,  6.66it/s, loss=0.0444]\n",
      "Training  : 100%|███████████████████████████████████| 14/14 [00:02<00:00,  6.66it/s, loss=0.0395]\n",
      "Predicting: 100%|████████████████████████████████████████████████| 27/27 [00:00<00:00, 49.10it/s]\n"
     ]
    },
    {
     "name": "stdout",
     "output_type": "stream",
     "text": [
      "Building sklearn text classifier...\n",
      "Loading bert-base-uncased model...\n",
      "Defaulting to linear classifier/regressor\n",
      "Loading Pytorch checkpoint\n",
      "train data size: 428, validation data size: 0\n"
     ]
    },
    {
     "name": "stderr",
     "output_type": "stream",
     "text": [
      "Training  : 100%|████████████████████████████████████| 14/14 [00:02<00:00,  6.66it/s, loss=0.583]\n",
      "Training  : 100%|████████████████████████████████████| 14/14 [00:02<00:00,  6.52it/s, loss=0.376]\n",
      "Training  : 100%|████████████████████████████████████| 14/14 [00:02<00:00,  6.65it/s, loss=0.249]\n",
      "Training  : 100%|████████████████████████████████████| 14/14 [00:02<00:00,  6.63it/s, loss=0.195]\n",
      "Training  : 100%|████████████████████████████████████| 14/14 [00:02<00:00,  6.56it/s, loss=0.159]\n",
      "Training  : 100%|████████████████████████████████████| 14/14 [00:02<00:00,  6.62it/s, loss=0.135]\n",
      "Training  : 100%|█████████████████████████████████████| 14/14 [00:02<00:00,  6.64it/s, loss=0.11]\n",
      "Training  : 100%|████████████████████████████████████| 14/14 [00:02<00:00,  6.63it/s, loss=0.103]\n",
      "Training  : 100%|███████████████████████████████████| 14/14 [00:02<00:00,  6.61it/s, loss=0.0962]\n",
      "Training  : 100%|███████████████████████████████████| 14/14 [00:02<00:00,  6.62it/s, loss=0.0911]\n",
      "Training  : 100%|███████████████████████████████████| 14/14 [00:02<00:00,  6.67it/s, loss=0.0895]\n",
      "Training  : 100%|███████████████████████████████████| 14/14 [00:02<00:00,  6.67it/s, loss=0.0995]\n",
      "Training  : 100%|████████████████████████████████████| 14/14 [00:02<00:00,  6.68it/s, loss=0.105]\n",
      "Training  : 100%|███████████████████████████████████| 14/14 [00:02<00:00,  6.66it/s, loss=0.0734]\n",
      "Training  : 100%|███████████████████████████████████| 14/14 [00:02<00:00,  6.67it/s, loss=0.0678]\n",
      "Training  : 100%|███████████████████████████████████| 14/14 [00:02<00:00,  6.64it/s, loss=0.0693]\n",
      "Training  : 100%|███████████████████████████████████| 14/14 [00:02<00:00,  6.65it/s, loss=0.0602]\n",
      "Training  : 100%|███████████████████████████████████| 14/14 [00:02<00:00,  6.59it/s, loss=0.0618]\n",
      "Training  : 100%|███████████████████████████████████| 14/14 [00:02<00:00,  6.64it/s, loss=0.0674]\n",
      "Training  : 100%|███████████████████████████████████| 14/14 [00:02<00:00,  6.67it/s, loss=0.0638]\n",
      "Training  : 100%|███████████████████████████████████| 14/14 [00:02<00:00,  6.61it/s, loss=0.0582]\n",
      "Training  : 100%|███████████████████████████████████| 14/14 [00:02<00:00,  6.54it/s, loss=0.0572]\n",
      "Training  : 100%|███████████████████████████████████| 14/14 [00:02<00:00,  6.66it/s, loss=0.0684]\n",
      "Training  : 100%|███████████████████████████████████| 14/14 [00:02<00:00,  6.68it/s, loss=0.0657]\n",
      "Training  : 100%|███████████████████████████████████| 14/14 [00:02<00:00,  6.70it/s, loss=0.0567]\n",
      "Training  : 100%|███████████████████████████████████| 14/14 [00:02<00:00,  6.66it/s, loss=0.0556]\n",
      "Training  : 100%|███████████████████████████████████| 14/14 [00:02<00:00,  6.63it/s, loss=0.0546]\n",
      "Training  : 100%|███████████████████████████████████| 14/14 [00:02<00:00,  6.70it/s, loss=0.0574]\n",
      "Training  : 100%|███████████████████████████████████| 14/14 [00:02<00:00,  6.67it/s, loss=0.0592]\n",
      "Training  : 100%|███████████████████████████████████| 14/14 [00:02<00:00,  6.69it/s, loss=0.0569]\n",
      "Training  : 100%|███████████████████████████████████| 14/14 [00:02<00:00,  6.66it/s, loss=0.0517]\n",
      "Training  : 100%|███████████████████████████████████| 14/14 [00:02<00:00,  6.58it/s, loss=0.0633]\n",
      "Training  : 100%|███████████████████████████████████| 14/14 [00:02<00:00,  6.63it/s, loss=0.0596]\n",
      "Training  : 100%|███████████████████████████████████| 14/14 [00:02<00:00,  6.63it/s, loss=0.0632]\n",
      "Training  : 100%|███████████████████████████████████| 14/14 [00:02<00:00,  6.59it/s, loss=0.0581]\n",
      "Training  : 100%|████████████████████████████████████| 14/14 [00:02<00:00,  6.63it/s, loss=0.048]\n",
      "Training  : 100%|███████████████████████████████████| 14/14 [00:02<00:00,  6.67it/s, loss=0.0596]\n",
      "Training  : 100%|███████████████████████████████████| 14/14 [00:02<00:00,  6.66it/s, loss=0.0503]\n",
      "Training  : 100%|███████████████████████████████████| 14/14 [00:02<00:00,  6.65it/s, loss=0.0479]\n",
      "Training  : 100%|███████████████████████████████████| 14/14 [00:02<00:00,  6.66it/s, loss=0.0485]\n",
      "Training  : 100%|███████████████████████████████████| 14/14 [00:02<00:00,  6.54it/s, loss=0.0458]\n",
      "Training  : 100%|███████████████████████████████████| 14/14 [00:02<00:00,  6.63it/s, loss=0.0543]\n",
      "Training  : 100%|███████████████████████████████████| 14/14 [00:02<00:00,  6.67it/s, loss=0.0486]\n",
      "Training  : 100%|███████████████████████████████████| 14/14 [00:02<00:00,  6.51it/s, loss=0.0509]\n",
      "Training  : 100%|███████████████████████████████████| 14/14 [00:02<00:00,  6.65it/s, loss=0.0497]\n",
      "Training  : 100%|███████████████████████████████████| 14/14 [00:02<00:00,  6.60it/s, loss=0.0545]\n",
      "Training  : 100%|███████████████████████████████████| 14/14 [00:02<00:00,  6.66it/s, loss=0.0487]\n",
      "Training  : 100%|███████████████████████████████████| 14/14 [00:02<00:00,  6.65it/s, loss=0.0475]\n",
      "Training  : 100%|███████████████████████████████████| 14/14 [00:02<00:00,  6.66it/s, loss=0.0464]\n",
      "Training  : 100%|███████████████████████████████████| 14/14 [00:02<00:00,  6.68it/s, loss=0.0555]\n",
      "Training  : 100%|███████████████████████████████████| 14/14 [00:02<00:00,  6.60it/s, loss=0.0486]\n",
      "Training  : 100%|███████████████████████████████████| 14/14 [00:02<00:00,  6.65it/s, loss=0.0613]\n",
      "Training  : 100%|███████████████████████████████████| 14/14 [00:02<00:00,  6.58it/s, loss=0.0499]\n",
      "Training  : 100%|███████████████████████████████████| 14/14 [00:02<00:00,  6.71it/s, loss=0.0459]\n",
      "Training  : 100%|███████████████████████████████████| 14/14 [00:02<00:00,  6.65it/s, loss=0.0592]\n",
      "Training  : 100%|███████████████████████████████████| 14/14 [00:02<00:00,  6.63it/s, loss=0.0479]\n",
      "Training  : 100%|████████████████████████████████████| 14/14 [00:02<00:00,  6.64it/s, loss=0.054]\n",
      "Training  : 100%|███████████████████████████████████| 14/14 [00:02<00:00,  6.65it/s, loss=0.0448]\n",
      "Training  : 100%|███████████████████████████████████| 14/14 [00:02<00:00,  6.59it/s, loss=0.0461]\n",
      "Training  : 100%|███████████████████████████████████| 14/14 [00:02<00:00,  6.64it/s, loss=0.0483]\n",
      "Training  : 100%|███████████████████████████████████| 14/14 [00:02<00:00,  6.62it/s, loss=0.0503]\n",
      "Training  : 100%|███████████████████████████████████| 14/14 [00:02<00:00,  6.64it/s, loss=0.0464]\n",
      "Training  : 100%|████████████████████████████████████| 14/14 [00:02<00:00,  6.64it/s, loss=0.048]\n",
      "Training  : 100%|███████████████████████████████████| 14/14 [00:02<00:00,  6.62it/s, loss=0.0583]\n",
      "Training  : 100%|███████████████████████████████████| 14/14 [00:02<00:00,  6.64it/s, loss=0.0471]\n",
      "Training  : 100%|███████████████████████████████████| 14/14 [00:02<00:00,  6.65it/s, loss=0.0469]\n",
      "Training  : 100%|███████████████████████████████████| 14/14 [00:02<00:00,  6.64it/s, loss=0.0524]\n",
      "Training  : 100%|████████████████████████████████████| 14/14 [00:02<00:00,  6.61it/s, loss=0.046]\n",
      "Training  : 100%|███████████████████████████████████| 14/14 [00:02<00:00,  6.66it/s, loss=0.0493]\n",
      "Training  : 100%|███████████████████████████████████| 14/14 [00:02<00:00,  6.67it/s, loss=0.0534]\n",
      "Training  : 100%|███████████████████████████████████| 14/14 [00:02<00:00,  6.65it/s, loss=0.0501]\n",
      "Training  : 100%|███████████████████████████████████| 14/14 [00:02<00:00,  6.67it/s, loss=0.0484]\n",
      "Training  : 100%|███████████████████████████████████| 14/14 [00:02<00:00,  6.68it/s, loss=0.0476]\n",
      "Training  : 100%|███████████████████████████████████| 14/14 [00:02<00:00,  6.68it/s, loss=0.0463]\n",
      "Training  : 100%|███████████████████████████████████| 14/14 [00:02<00:00,  6.68it/s, loss=0.0485]\n",
      "Predicting: 100%|████████████████████████████████████████████████| 27/27 [00:00<00:00, 52.05it/s]\n"
     ]
    },
    {
     "name": "stdout",
     "output_type": "stream",
     "text": [
      "Building sklearn text classifier...\n",
      "Loading bert-base-uncased model...\n",
      "Defaulting to linear classifier/regressor\n",
      "Loading Pytorch checkpoint\n",
      "train data size: 428, validation data size: 0\n"
     ]
    },
    {
     "name": "stderr",
     "output_type": "stream",
     "text": [
      "Training  : 100%|█████████████████████████████████████| 14/14 [00:02<00:00,  6.64it/s, loss=0.58]\n",
      "Training  : 100%|████████████████████████████████████| 14/14 [00:02<00:00,  6.57it/s, loss=0.375]\n",
      "Training  : 100%|████████████████████████████████████| 14/14 [00:02<00:00,  6.51it/s, loss=0.248]\n",
      "Training  : 100%|████████████████████████████████████| 14/14 [00:02<00:00,  6.55it/s, loss=0.197]\n",
      "Training  : 100%|████████████████████████████████████| 14/14 [00:02<00:00,  6.64it/s, loss=0.143]\n",
      "Training  : 100%|████████████████████████████████████| 14/14 [00:02<00:00,  6.63it/s, loss=0.129]\n",
      "Training  : 100%|████████████████████████████████████| 14/14 [00:02<00:00,  6.57it/s, loss=0.116]\n",
      "Training  : 100%|████████████████████████████████████| 14/14 [00:02<00:00,  6.62it/s, loss=0.101]\n",
      "Training  : 100%|████████████████████████████████████| 14/14 [00:02<00:00,  6.63it/s, loss=0.118]\n",
      "Training  : 100%|███████████████████████████████████| 14/14 [00:02<00:00,  6.58it/s, loss=0.0935]\n",
      "Training  : 100%|███████████████████████████████████| 14/14 [00:02<00:00,  6.66it/s, loss=0.0843]\n",
      "Training  : 100%|███████████████████████████████████| 14/14 [00:02<00:00,  6.63it/s, loss=0.0739]\n",
      "Training  : 100%|███████████████████████████████████| 14/14 [00:02<00:00,  6.66it/s, loss=0.0766]\n",
      "Training  : 100%|███████████████████████████████████| 14/14 [00:02<00:00,  6.68it/s, loss=0.0678]\n",
      "Training  : 100%|███████████████████████████████████| 14/14 [00:02<00:00,  6.62it/s, loss=0.0645]\n",
      "Training  : 100%|███████████████████████████████████| 14/14 [00:02<00:00,  6.52it/s, loss=0.0653]\n",
      "Training  : 100%|███████████████████████████████████| 14/14 [00:02<00:00,  6.65it/s, loss=0.0603]\n",
      "Training  : 100%|███████████████████████████████████| 14/14 [00:02<00:00,  6.63it/s, loss=0.0644]\n",
      "Training  : 100%|███████████████████████████████████| 14/14 [00:02<00:00,  6.61it/s, loss=0.0645]\n",
      "Training  : 100%|███████████████████████████████████| 14/14 [00:02<00:00,  6.63it/s, loss=0.0626]\n",
      "Training  : 100%|███████████████████████████████████| 14/14 [00:02<00:00,  6.62it/s, loss=0.0598]\n",
      "Training  : 100%|███████████████████████████████████| 14/14 [00:02<00:00,  6.66it/s, loss=0.0579]\n",
      "Training  : 100%|███████████████████████████████████| 14/14 [00:02<00:00,  6.63it/s, loss=0.0583]\n",
      "Training  : 100%|███████████████████████████████████| 14/14 [00:02<00:00,  6.69it/s, loss=0.0636]\n",
      "Training  : 100%|███████████████████████████████████| 14/14 [00:02<00:00,  6.57it/s, loss=0.0545]\n",
      "Training  : 100%|███████████████████████████████████| 14/14 [00:02<00:00,  6.62it/s, loss=0.0548]\n",
      "Training  : 100%|███████████████████████████████████| 14/14 [00:02<00:00,  6.64it/s, loss=0.0524]\n",
      "Training  : 100%|███████████████████████████████████| 14/14 [00:02<00:00,  6.62it/s, loss=0.0565]\n",
      "Training  : 100%|███████████████████████████████████| 14/14 [00:02<00:00,  6.57it/s, loss=0.0498]\n",
      "Training  : 100%|███████████████████████████████████| 14/14 [00:02<00:00,  6.56it/s, loss=0.0636]\n",
      "Training  : 100%|███████████████████████████████████| 14/14 [00:02<00:00,  6.63it/s, loss=0.0543]\n",
      "Training  : 100%|███████████████████████████████████| 14/14 [00:02<00:00,  6.62it/s, loss=0.0645]\n",
      "Training  : 100%|███████████████████████████████████| 14/14 [00:02<00:00,  6.57it/s, loss=0.0568]\n",
      "Training  : 100%|███████████████████████████████████| 14/14 [00:02<00:00,  6.63it/s, loss=0.0589]\n",
      "Training  : 100%|███████████████████████████████████| 14/14 [00:02<00:00,  6.62it/s, loss=0.0563]\n",
      "Training  : 100%|███████████████████████████████████| 14/14 [00:02<00:00,  6.62it/s, loss=0.0479]\n",
      "Training  : 100%|███████████████████████████████████| 14/14 [00:02<00:00,  6.66it/s, loss=0.0709]\n",
      "Training  : 100%|███████████████████████████████████| 14/14 [00:02<00:00,  6.68it/s, loss=0.0514]\n",
      "Training  : 100%|███████████████████████████████████| 14/14 [00:02<00:00,  6.66it/s, loss=0.0488]\n",
      "Training  : 100%|███████████████████████████████████| 14/14 [00:02<00:00,  6.71it/s, loss=0.0487]\n",
      "Training  : 100%|███████████████████████████████████| 14/14 [00:02<00:00,  6.66it/s, loss=0.0518]\n",
      "Training  : 100%|████████████████████████████████████| 14/14 [00:02<00:00,  6.73it/s, loss=0.053]\n",
      "Training  : 100%|███████████████████████████████████| 14/14 [00:02<00:00,  6.65it/s, loss=0.0489]\n",
      "Training  : 100%|███████████████████████████████████| 14/14 [00:02<00:00,  6.63it/s, loss=0.0505]\n",
      "Training  : 100%|███████████████████████████████████| 14/14 [00:02<00:00,  6.68it/s, loss=0.0522]\n",
      "Training  : 100%|███████████████████████████████████| 14/14 [00:02<00:00,  6.64it/s, loss=0.0551]\n",
      "Training  : 100%|███████████████████████████████████| 14/14 [00:02<00:00,  6.73it/s, loss=0.0521]\n",
      "Training  : 100%|███████████████████████████████████| 14/14 [00:02<00:00,  6.69it/s, loss=0.0512]\n",
      "Training  : 100%|███████████████████████████████████| 14/14 [00:02<00:00,  6.73it/s, loss=0.0473]\n",
      "Training  : 100%|███████████████████████████████████| 14/14 [00:02<00:00,  6.71it/s, loss=0.0561]\n",
      "Training  : 100%|███████████████████████████████████| 14/14 [00:02<00:00,  6.64it/s, loss=0.0526]\n",
      "Training  : 100%|███████████████████████████████████| 14/14 [00:02<00:00,  6.74it/s, loss=0.0518]\n",
      "Training  : 100%|███████████████████████████████████| 14/14 [00:02<00:00,  6.67it/s, loss=0.0486]\n",
      "Training  : 100%|████████████████████████████████████| 14/14 [00:02<00:00,  6.71it/s, loss=0.054]\n",
      "Training  : 100%|███████████████████████████████████| 14/14 [00:02<00:00,  6.68it/s, loss=0.0623]\n",
      "Training  : 100%|███████████████████████████████████| 14/14 [00:02<00:00,  6.68it/s, loss=0.0487]\n",
      "Training  : 100%|███████████████████████████████████| 14/14 [00:02<00:00,  6.71it/s, loss=0.0497]\n",
      "Training  : 100%|███████████████████████████████████| 14/14 [00:02<00:00,  6.72it/s, loss=0.0493]\n",
      "Training  : 100%|████████████████████████████████████| 14/14 [00:02<00:00,  6.63it/s, loss=0.051]\n",
      "Training  : 100%|███████████████████████████████████| 14/14 [00:02<00:00,  6.69it/s, loss=0.0488]\n",
      "Training  : 100%|█████████████████████████████████████| 14/14 [00:02<00:00,  6.68it/s, loss=0.05]\n",
      "Training  : 100%|███████████████████████████████████| 14/14 [00:02<00:00,  6.68it/s, loss=0.0533]\n",
      "Training  : 100%|███████████████████████████████████| 14/14 [00:02<00:00,  6.64it/s, loss=0.0539]\n",
      "Training  : 100%|███████████████████████████████████| 14/14 [00:02<00:00,  6.61it/s, loss=0.0605]\n",
      "Training  : 100%|███████████████████████████████████| 14/14 [00:02<00:00,  6.68it/s, loss=0.0529]\n",
      "Training  : 100%|███████████████████████████████████| 14/14 [00:02<00:00,  6.69it/s, loss=0.0495]\n",
      "Training  : 100%|███████████████████████████████████| 14/14 [00:02<00:00,  6.70it/s, loss=0.0492]\n",
      "Training  : 100%|███████████████████████████████████| 14/14 [00:02<00:00,  6.73it/s, loss=0.0483]\n",
      "Training  : 100%|███████████████████████████████████| 14/14 [00:02<00:00,  6.59it/s, loss=0.0466]\n",
      "Training  : 100%|███████████████████████████████████| 14/14 [00:02<00:00,  6.69it/s, loss=0.0507]\n",
      "Training  : 100%|███████████████████████████████████| 14/14 [00:02<00:00,  6.71it/s, loss=0.0456]\n",
      "Training  : 100%|███████████████████████████████████| 14/14 [00:02<00:00,  6.66it/s, loss=0.0512]\n",
      "Training  : 100%|█████████████████████████████████████| 14/14 [00:02<00:00,  6.68it/s, loss=0.05]\n",
      "Training  : 100%|███████████████████████████████████| 14/14 [00:02<00:00,  6.71it/s, loss=0.0497]\n",
      "Training  : 100%|███████████████████████████████████| 14/14 [00:02<00:00,  6.69it/s, loss=0.0499]\n",
      "Predicting: 100%|████████████████████████████████████████████████| 27/27 [00:00<00:00, 52.13it/s]\n"
     ]
    },
    {
     "name": "stdout",
     "output_type": "stream",
     "text": [
      "Building sklearn text classifier...\n",
      "Loading bert-base-uncased model...\n",
      "Defaulting to linear classifier/regressor\n",
      "Loading Pytorch checkpoint\n",
      "train data size: 428, validation data size: 0\n"
     ]
    },
    {
     "name": "stderr",
     "output_type": "stream",
     "text": [
      "Training  : 100%|████████████████████████████████████| 14/14 [00:02<00:00,  6.62it/s, loss=0.596]\n",
      "Training  : 100%|████████████████████████████████████| 14/14 [00:02<00:00,  6.69it/s, loss=0.376]\n",
      "Training  : 100%|████████████████████████████████████| 14/14 [00:02<00:00,  6.66it/s, loss=0.248]\n",
      "Training  : 100%|████████████████████████████████████| 14/14 [00:02<00:00,  6.70it/s, loss=0.189]\n",
      "Training  : 100%|████████████████████████████████████| 14/14 [00:02<00:00,  6.71it/s, loss=0.132]\n",
      "Training  : 100%|████████████████████████████████████| 14/14 [00:02<00:00,  6.67it/s, loss=0.106]\n",
      "Training  : 100%|████████████████████████████████████| 14/14 [00:02<00:00,  6.69it/s, loss=0.097]\n",
      "Training  : 100%|████████████████████████████████████| 14/14 [00:02<00:00,  6.66it/s, loss=0.083]\n",
      "Training  : 100%|███████████████████████████████████| 14/14 [00:02<00:00,  6.58it/s, loss=0.0826]\n",
      "Training  : 100%|███████████████████████████████████| 14/14 [00:02<00:00,  6.74it/s, loss=0.0734]\n",
      "Training  : 100%|███████████████████████████████████| 14/14 [00:02<00:00,  6.69it/s, loss=0.0676]\n",
      "Training  : 100%|███████████████████████████████████| 14/14 [00:02<00:00,  6.67it/s, loss=0.0649]\n",
      "Training  : 100%|███████████████████████████████████| 14/14 [00:02<00:00,  6.68it/s, loss=0.0682]\n",
      "Training  : 100%|███████████████████████████████████| 14/14 [00:02<00:00,  6.68it/s, loss=0.0673]\n",
      "Training  : 100%|███████████████████████████████████| 14/14 [00:02<00:00,  6.68it/s, loss=0.0602]\n",
      "Training  : 100%|███████████████████████████████████| 14/14 [00:02<00:00,  6.68it/s, loss=0.0741]\n",
      "Training  : 100%|███████████████████████████████████| 14/14 [00:02<00:00,  6.69it/s, loss=0.0649]\n",
      "Training  : 100%|███████████████████████████████████| 14/14 [00:02<00:00,  6.68it/s, loss=0.0564]\n",
      "Training  : 100%|███████████████████████████████████| 14/14 [00:02<00:00,  6.68it/s, loss=0.0478]\n",
      "Training  : 100%|███████████████████████████████████| 14/14 [00:02<00:00,  6.68it/s, loss=0.0519]\n",
      "Training  : 100%|████████████████████████████████████| 14/14 [00:02<00:00,  6.75it/s, loss=0.045]\n",
      "Training  : 100%|███████████████████████████████████| 14/14 [00:02<00:00,  6.61it/s, loss=0.0458]\n",
      "Training  : 100%|███████████████████████████████████| 14/14 [00:02<00:00,  6.64it/s, loss=0.0487]\n",
      "Training  : 100%|████████████████████████████████████| 14/14 [00:02<00:00,  6.63it/s, loss=0.046]\n",
      "Training  : 100%|███████████████████████████████████| 14/14 [00:02<00:00,  6.69it/s, loss=0.0431]\n",
      "Training  : 100%|███████████████████████████████████| 14/14 [00:02<00:00,  6.71it/s, loss=0.0429]\n",
      "Training  : 100%|███████████████████████████████████| 14/14 [00:02<00:00,  6.65it/s, loss=0.0466]\n",
      "Training  : 100%|███████████████████████████████████| 14/14 [00:02<00:00,  6.68it/s, loss=0.0496]\n",
      "Training  : 100%|███████████████████████████████████| 14/14 [00:02<00:00,  6.68it/s, loss=0.0405]\n",
      "Training  : 100%|███████████████████████████████████| 14/14 [00:02<00:00,  6.67it/s, loss=0.0541]\n",
      "Training  : 100%|███████████████████████████████████| 14/14 [00:02<00:00,  6.63it/s, loss=0.0551]\n",
      "Training  : 100%|███████████████████████████████████| 14/14 [00:02<00:00,  6.70it/s, loss=0.0466]\n",
      "Training  : 100%|███████████████████████████████████| 14/14 [00:02<00:00,  6.69it/s, loss=0.0479]\n",
      "Training  : 100%|███████████████████████████████████| 14/14 [00:02<00:00,  6.67it/s, loss=0.0435]\n",
      "Training  : 100%|███████████████████████████████████| 14/14 [00:02<00:00,  6.68it/s, loss=0.0381]\n",
      "Training  : 100%|███████████████████████████████████| 14/14 [00:02<00:00,  6.65it/s, loss=0.0479]\n",
      "Training  : 100%|███████████████████████████████████| 14/14 [00:02<00:00,  6.65it/s, loss=0.0498]\n",
      "Training  : 100%|███████████████████████████████████| 14/14 [00:02<00:00,  6.70it/s, loss=0.0424]\n",
      "Training  : 100%|███████████████████████████████████| 14/14 [00:02<00:00,  6.64it/s, loss=0.0397]\n",
      "Training  : 100%|███████████████████████████████████| 14/14 [00:02<00:00,  6.45it/s, loss=0.0393]\n",
      "Training  : 100%|████████████████████████████████████| 14/14 [00:02<00:00,  6.39it/s, loss=0.044]\n",
      "Training  : 100%|███████████████████████████████████| 14/14 [00:02<00:00,  6.68it/s, loss=0.0391]\n",
      "Training  : 100%|███████████████████████████████████| 14/14 [00:02<00:00,  6.65it/s, loss=0.0509]\n",
      "Training  : 100%|███████████████████████████████████| 14/14 [00:02<00:00,  6.64it/s, loss=0.0398]\n",
      "Training  : 100%|███████████████████████████████████| 14/14 [00:02<00:00,  6.69it/s, loss=0.0417]\n",
      "Training  : 100%|███████████████████████████████████| 14/14 [00:02<00:00,  6.65it/s, loss=0.0456]\n",
      "Training  : 100%|███████████████████████████████████| 14/14 [00:02<00:00,  6.66it/s, loss=0.0439]\n",
      "Training  : 100%|███████████████████████████████████| 14/14 [00:02<00:00,  6.70it/s, loss=0.0429]\n",
      "Training  : 100%|███████████████████████████████████| 14/14 [00:02<00:00,  6.61it/s, loss=0.0443]\n",
      "Training  : 100%|███████████████████████████████████| 14/14 [00:02<00:00,  6.74it/s, loss=0.0407]\n",
      "Training  : 100%|████████████████████████████████████| 14/14 [00:02<00:00,  6.66it/s, loss=0.043]\n",
      "Training  : 100%|███████████████████████████████████| 14/14 [00:02<00:00,  6.70it/s, loss=0.0398]\n",
      "Training  : 100%|███████████████████████████████████| 14/14 [00:02<00:00,  6.66it/s, loss=0.0389]\n",
      "Training  : 100%|███████████████████████████████████| 14/14 [00:02<00:00,  6.72it/s, loss=0.0436]\n",
      "Training  : 100%|███████████████████████████████████| 14/14 [00:02<00:00,  6.73it/s, loss=0.0407]\n",
      "Training  : 100%|███████████████████████████████████| 14/14 [00:02<00:00,  6.72it/s, loss=0.0423]\n",
      "Training  : 100%|███████████████████████████████████| 14/14 [00:02<00:00,  6.64it/s, loss=0.0385]\n",
      "Training  : 100%|███████████████████████████████████| 14/14 [00:02<00:00,  6.73it/s, loss=0.0446]\n",
      "Training  : 100%|███████████████████████████████████| 14/14 [00:02<00:00,  6.73it/s, loss=0.0446]\n",
      "Training  : 100%|███████████████████████████████████| 14/14 [00:02<00:00,  6.67it/s, loss=0.0418]\n",
      "Training  : 100%|███████████████████████████████████| 14/14 [00:02<00:00,  6.66it/s, loss=0.0393]\n",
      "Training  : 100%|███████████████████████████████████| 14/14 [00:02<00:00,  6.71it/s, loss=0.0452]\n",
      "Training  : 100%|███████████████████████████████████| 14/14 [00:02<00:00,  6.66it/s, loss=0.0425]\n",
      "Training  : 100%|███████████████████████████████████| 14/14 [00:02<00:00,  6.73it/s, loss=0.0426]\n",
      "Training  : 100%|███████████████████████████████████| 14/14 [00:02<00:00,  6.69it/s, loss=0.0428]\n",
      "Training  : 100%|███████████████████████████████████| 14/14 [00:02<00:00,  6.71it/s, loss=0.0411]\n",
      "Training  : 100%|███████████████████████████████████| 14/14 [00:02<00:00,  6.71it/s, loss=0.0409]\n",
      "Training  : 100%|███████████████████████████████████| 14/14 [00:02<00:00,  6.74it/s, loss=0.0387]\n",
      "Training  : 100%|███████████████████████████████████| 14/14 [00:02<00:00,  6.70it/s, loss=0.0417]\n",
      "Training  : 100%|███████████████████████████████████| 14/14 [00:02<00:00,  6.73it/s, loss=0.0386]\n",
      "Training  : 100%|███████████████████████████████████| 14/14 [00:02<00:00,  6.72it/s, loss=0.0398]\n",
      "Training  : 100%|███████████████████████████████████| 14/14 [00:02<00:00,  6.62it/s, loss=0.0393]\n",
      "Training  : 100%|███████████████████████████████████| 14/14 [00:02<00:00,  6.69it/s, loss=0.0454]\n",
      "Training  : 100%|███████████████████████████████████| 14/14 [00:02<00:00,  6.67it/s, loss=0.0447]\n",
      "Training  : 100%|███████████████████████████████████| 14/14 [00:02<00:00,  6.65it/s, loss=0.0429]\n",
      "Predicting: 100%|████████████████████████████████████████████████| 27/27 [00:00<00:00, 54.14it/s]\n"
     ]
    },
    {
     "name": "stdout",
     "output_type": "stream",
     "text": [
      "Building sklearn text classifier...\n",
      "Loading bert-base-uncased model...\n",
      "Defaulting to linear classifier/regressor\n",
      "Loading Pytorch checkpoint\n",
      "train data size: 428, validation data size: 0\n"
     ]
    },
    {
     "name": "stderr",
     "output_type": "stream",
     "text": [
      "Training  : 100%|████████████████████████████████████| 14/14 [00:02<00:00,  6.71it/s, loss=0.567]\n",
      "Training  : 100%|████████████████████████████████████| 14/14 [00:02<00:00,  6.61it/s, loss=0.335]\n",
      "Training  : 100%|████████████████████████████████████| 14/14 [00:02<00:00,  6.63it/s, loss=0.235]\n",
      "Training  : 100%|████████████████████████████████████| 14/14 [00:02<00:00,  6.62it/s, loss=0.205]\n",
      "Training  : 100%|████████████████████████████████████| 14/14 [00:02<00:00,  6.62it/s, loss=0.143]\n",
      "Training  : 100%|████████████████████████████████████| 14/14 [00:02<00:00,  6.63it/s, loss=0.137]\n",
      "Training  : 100%|███████████████████████████████████| 14/14 [00:02<00:00,  6.57it/s, loss=0.0952]\n",
      "Training  : 100%|███████████████████████████████████| 14/14 [00:02<00:00,  6.68it/s, loss=0.0923]\n",
      "Training  : 100%|███████████████████████████████████| 14/14 [00:02<00:00,  6.60it/s, loss=0.0957]\n",
      "Training  : 100%|███████████████████████████████████| 14/14 [00:02<00:00,  6.69it/s, loss=0.0884]\n",
      "Training  : 100%|███████████████████████████████████| 14/14 [00:02<00:00,  6.70it/s, loss=0.0742]\n",
      "Training  : 100%|███████████████████████████████████| 14/14 [00:02<00:00,  6.63it/s, loss=0.0814]\n",
      "Training  : 100%|███████████████████████████████████| 14/14 [00:02<00:00,  6.63it/s, loss=0.0734]\n",
      "Training  : 100%|███████████████████████████████████| 14/14 [00:02<00:00,  6.61it/s, loss=0.0625]\n",
      "Training  : 100%|███████████████████████████████████| 14/14 [00:02<00:00,  6.58it/s, loss=0.0683]\n",
      "Training  : 100%|███████████████████████████████████| 14/14 [00:02<00:00,  6.54it/s, loss=0.0675]\n",
      "Training  : 100%|███████████████████████████████████| 14/14 [00:02<00:00,  6.60it/s, loss=0.0747]\n",
      "Training  : 100%|███████████████████████████████████| 14/14 [00:02<00:00,  6.61it/s, loss=0.0606]\n",
      "Training  : 100%|███████████████████████████████████| 14/14 [00:02<00:00,  6.66it/s, loss=0.0583]\n",
      "Training  : 100%|████████████████████████████████████| 14/14 [00:02<00:00,  6.59it/s, loss=0.061]\n",
      "Training  : 100%|███████████████████████████████████| 14/14 [00:02<00:00,  6.63it/s, loss=0.0581]\n",
      "Training  : 100%|███████████████████████████████████| 14/14 [00:02<00:00,  6.63it/s, loss=0.0546]\n",
      "Training  : 100%|███████████████████████████████████| 14/14 [00:02<00:00,  6.65it/s, loss=0.0625]\n",
      "Training  : 100%|███████████████████████████████████| 14/14 [00:02<00:00,  6.61it/s, loss=0.0582]\n",
      "Training  : 100%|███████████████████████████████████| 14/14 [00:02<00:00,  6.60it/s, loss=0.0531]\n",
      "Training  : 100%|███████████████████████████████████| 14/14 [00:02<00:00,  6.61it/s, loss=0.0551]\n",
      "Training  : 100%|███████████████████████████████████| 14/14 [00:02<00:00,  6.65it/s, loss=0.0545]\n",
      "Training  : 100%|███████████████████████████████████| 14/14 [00:02<00:00,  6.55it/s, loss=0.0567]\n",
      "Training  : 100%|███████████████████████████████████| 14/14 [00:02<00:00,  6.59it/s, loss=0.0513]\n",
      "Training  : 100%|███████████████████████████████████| 14/14 [00:02<00:00,  6.66it/s, loss=0.0515]\n",
      "Training  : 100%|███████████████████████████████████| 14/14 [00:02<00:00,  6.65it/s, loss=0.0523]\n",
      "Training  : 100%|███████████████████████████████████| 14/14 [00:02<00:00,  6.66it/s, loss=0.0588]\n",
      "Training  : 100%|███████████████████████████████████| 14/14 [00:02<00:00,  6.60it/s, loss=0.0569]\n",
      "Training  : 100%|███████████████████████████████████| 14/14 [00:02<00:00,  6.56it/s, loss=0.0593]\n",
      "Training  : 100%|███████████████████████████████████| 14/14 [00:02<00:00,  6.62it/s, loss=0.0566]\n",
      "Training  : 100%|███████████████████████████████████| 14/14 [00:02<00:00,  6.61it/s, loss=0.0492]\n",
      "Training  : 100%|███████████████████████████████████| 14/14 [00:02<00:00,  6.64it/s, loss=0.0556]\n",
      "Training  : 100%|███████████████████████████████████| 14/14 [00:02<00:00,  6.66it/s, loss=0.0525]\n",
      "Training  : 100%|███████████████████████████████████| 14/14 [00:02<00:00,  6.60it/s, loss=0.0494]\n",
      "Training  : 100%|███████████████████████████████████| 14/14 [00:02<00:00,  6.61it/s, loss=0.0501]\n",
      "Training  : 100%|███████████████████████████████████| 14/14 [00:02<00:00,  6.67it/s, loss=0.0473]\n",
      "Training  : 100%|███████████████████████████████████| 14/14 [00:02<00:00,  6.64it/s, loss=0.0568]\n",
      "Training  : 100%|███████████████████████████████████| 14/14 [00:02<00:00,  6.62it/s, loss=0.0456]\n",
      "Training  : 100%|███████████████████████████████████| 14/14 [00:02<00:00,  6.64it/s, loss=0.0487]\n",
      "Training  : 100%|███████████████████████████████████| 14/14 [00:02<00:00,  6.66it/s, loss=0.0502]\n",
      "Training  : 100%|███████████████████████████████████| 14/14 [00:02<00:00,  6.59it/s, loss=0.0456]\n",
      "Training  : 100%|███████████████████████████████████| 14/14 [00:02<00:00,  6.61it/s, loss=0.0461]\n",
      "Training  : 100%|███████████████████████████████████| 14/14 [00:02<00:00,  6.68it/s, loss=0.0473]\n",
      "Training  : 100%|███████████████████████████████████| 14/14 [00:02<00:00,  6.60it/s, loss=0.0459]\n",
      "Training  : 100%|███████████████████████████████████| 14/14 [00:02<00:00,  6.58it/s, loss=0.0574]\n",
      "Training  : 100%|███████████████████████████████████| 14/14 [00:02<00:00,  6.65it/s, loss=0.0481]\n",
      "Training  : 100%|███████████████████████████████████| 14/14 [00:02<00:00,  6.60it/s, loss=0.0606]\n",
      "Training  : 100%|███████████████████████████████████| 14/14 [00:02<00:00,  6.62it/s, loss=0.0486]\n",
      "Training  : 100%|███████████████████████████████████| 14/14 [00:02<00:00,  6.60it/s, loss=0.0462]\n",
      "Training  : 100%|███████████████████████████████████| 14/14 [00:02<00:00,  6.61it/s, loss=0.0574]\n",
      "Training  : 100%|████████████████████████████████████| 14/14 [00:02<00:00,  6.59it/s, loss=0.046]\n",
      "Training  : 100%|███████████████████████████████████| 14/14 [00:02<00:00,  6.68it/s, loss=0.0592]\n",
      "Training  : 100%|███████████████████████████████████| 14/14 [00:02<00:00,  6.59it/s, loss=0.0471]\n",
      "Training  : 100%|███████████████████████████████████| 14/14 [00:02<00:00,  6.64it/s, loss=0.0453]\n",
      "Training  : 100%|███████████████████████████████████| 14/14 [00:02<00:00,  6.63it/s, loss=0.0451]\n",
      "Training  : 100%|███████████████████████████████████| 14/14 [00:02<00:00,  6.66it/s, loss=0.0514]\n",
      "Training  : 100%|███████████████████████████████████| 14/14 [00:02<00:00,  6.70it/s, loss=0.0471]\n",
      "Training  : 100%|███████████████████████████████████| 14/14 [00:02<00:00,  6.63it/s, loss=0.0482]\n",
      "Training  : 100%|███████████████████████████████████| 14/14 [00:02<00:00,  6.66it/s, loss=0.0585]\n",
      "Training  : 100%|███████████████████████████████████| 14/14 [00:02<00:00,  6.59it/s, loss=0.0486]\n",
      "Training  : 100%|████████████████████████████████████| 14/14 [00:02<00:00,  6.62it/s, loss=0.047]\n",
      "Training  : 100%|███████████████████████████████████| 14/14 [00:02<00:00,  6.02it/s, loss=0.0529]\n",
      "Training  : 100%|███████████████████████████████████| 14/14 [00:02<00:00,  6.56it/s, loss=0.0464]\n",
      "Training  : 100%|███████████████████████████████████| 14/14 [00:02<00:00,  6.63it/s, loss=0.0462]\n",
      "Training  : 100%|███████████████████████████████████| 14/14 [00:02<00:00,  6.65it/s, loss=0.0524]\n",
      "Training  : 100%|███████████████████████████████████| 14/14 [00:02<00:00,  6.66it/s, loss=0.0475]\n",
      "Training  : 100%|███████████████████████████████████| 14/14 [00:02<00:00,  6.57it/s, loss=0.0438]\n",
      "Training  : 100%|███████████████████████████████████| 14/14 [00:02<00:00,  6.60it/s, loss=0.0445]\n",
      "Training  : 100%|████████████████████████████████████| 14/14 [00:02<00:00,  6.63it/s, loss=0.045]\n",
      "Training  : 100%|███████████████████████████████████| 14/14 [00:02<00:00,  6.67it/s, loss=0.0472]\n",
      "Training  : 100%|███████████████████████████████████| 14/14 [00:02<00:00,  6.67it/s, loss=0.0453]\n",
      "Training  : 100%|███████████████████████████████████| 14/14 [00:02<00:00,  6.66it/s, loss=0.0511]\n",
      "Training  : 100%|███████████████████████████████████| 14/14 [00:02<00:00,  6.61it/s, loss=0.0472]\n",
      "Training  : 100%|███████████████████████████████████| 14/14 [00:02<00:00,  6.57it/s, loss=0.0526]\n",
      "Training  : 100%|███████████████████████████████████| 14/14 [00:02<00:00,  6.65it/s, loss=0.0469]\n",
      "Training  : 100%|████████████████████████████████████| 14/14 [00:02<00:00,  6.61it/s, loss=0.046]\n",
      "Training  : 100%|███████████████████████████████████| 14/14 [00:02<00:00,  6.64it/s, loss=0.0461]\n",
      "Training  : 100%|███████████████████████████████████| 14/14 [00:02<00:00,  6.60it/s, loss=0.0485]\n",
      "Training  : 100%|███████████████████████████████████| 14/14 [00:02<00:00,  6.60it/s, loss=0.0495]\n",
      "Training  : 100%|███████████████████████████████████| 14/14 [00:02<00:00,  6.60it/s, loss=0.0452]\n",
      "Training  : 100%|████████████████████████████████████| 14/14 [00:02<00:00,  6.70it/s, loss=0.046]\n",
      "Training  : 100%|███████████████████████████████████| 14/14 [00:02<00:00,  6.61it/s, loss=0.0449]\n",
      "Training  : 100%|███████████████████████████████████| 14/14 [00:02<00:00,  6.64it/s, loss=0.0498]\n",
      "Training  : 100%|███████████████████████████████████| 14/14 [00:02<00:00,  6.66it/s, loss=0.0499]\n",
      "Training  : 100%|███████████████████████████████████| 14/14 [00:02<00:00,  6.66it/s, loss=0.0448]\n",
      "Training  : 100%|███████████████████████████████████| 14/14 [00:02<00:00,  6.62it/s, loss=0.0488]\n",
      "Training  : 100%|███████████████████████████████████| 14/14 [00:02<00:00,  6.67it/s, loss=0.0484]\n",
      "Training  : 100%|███████████████████████████████████| 14/14 [00:02<00:00,  6.63it/s, loss=0.0471]\n",
      "Training  : 100%|███████████████████████████████████| 14/14 [00:02<00:00,  6.65it/s, loss=0.0439]\n",
      "Training  : 100%|███████████████████████████████████| 14/14 [00:02<00:00,  6.61it/s, loss=0.0454]\n",
      "Training  : 100%|███████████████████████████████████| 14/14 [00:02<00:00,  6.60it/s, loss=0.0452]\n",
      "Training  : 100%|███████████████████████████████████| 14/14 [00:02<00:00,  6.66it/s, loss=0.0463]\n",
      "Training  : 100%|███████████████████████████████████| 14/14 [00:02<00:00,  6.63it/s, loss=0.0493]\n",
      "Training  : 100%|███████████████████████████████████| 14/14 [00:02<00:00,  6.63it/s, loss=0.0472]\n",
      "Training  : 100%|███████████████████████████████████| 14/14 [00:02<00:00,  6.64it/s, loss=0.0487]\n",
      "Predicting: 100%|████████████████████████████████████████████████| 27/27 [00:00<00:00, 50.00it/s]\n"
     ]
    },
    {
     "name": "stdout",
     "output_type": "stream",
     "text": [
      "Building sklearn text classifier...\n",
      "Loading bert-base-uncased model...\n",
      "Defaulting to linear classifier/regressor\n",
      "Loading Pytorch checkpoint\n",
      "train data size: 428, validation data size: 0\n"
     ]
    },
    {
     "name": "stderr",
     "output_type": "stream",
     "text": [
      "Training  : 100%|████████████████████████████████████| 14/14 [00:02<00:00,  6.61it/s, loss=0.565]\n",
      "Training  : 100%|████████████████████████████████████| 14/14 [00:02<00:00,  6.75it/s, loss=0.338]\n",
      "Training  : 100%|████████████████████████████████████| 14/14 [00:02<00:00,  6.76it/s, loss=0.229]\n",
      "Training  : 100%|████████████████████████████████████| 14/14 [00:02<00:00,  6.77it/s, loss=0.199]\n",
      "Training  : 100%|████████████████████████████████████| 14/14 [00:02<00:00,  6.79it/s, loss=0.138]\n",
      "Training  : 100%|████████████████████████████████████| 14/14 [00:02<00:00,  6.73it/s, loss=0.135]\n",
      "Training  : 100%|████████████████████████████████████| 14/14 [00:02<00:00,  6.82it/s, loss=0.123]\n",
      "Training  : 100%|████████████████████████████████████| 14/14 [00:02<00:00,  6.78it/s, loss=0.107]\n",
      "Training  : 100%|████████████████████████████████████| 14/14 [00:02<00:00,  6.78it/s, loss=0.111]\n",
      "Training  : 100%|███████████████████████████████████| 14/14 [00:02<00:00,  6.79it/s, loss=0.0954]\n",
      "Training  : 100%|███████████████████████████████████| 14/14 [00:02<00:00,  6.77it/s, loss=0.0734]\n",
      "Training  : 100%|███████████████████████████████████| 14/14 [00:02<00:00,  6.80it/s, loss=0.0869]\n",
      "Training  : 100%|████████████████████████████████████| 14/14 [00:02<00:00,  6.73it/s, loss=0.072]\n",
      "Training  : 100%|███████████████████████████████████| 14/14 [00:02<00:00,  6.75it/s, loss=0.0661]\n",
      "Training  : 100%|███████████████████████████████████| 14/14 [00:02<00:00,  6.76it/s, loss=0.0651]\n",
      "Training  : 100%|███████████████████████████████████| 14/14 [00:02<00:00,  6.73it/s, loss=0.0645]\n",
      "Training  : 100%|███████████████████████████████████| 14/14 [00:02<00:00,  6.73it/s, loss=0.0617]\n",
      "Training  : 100%|███████████████████████████████████| 14/14 [00:02<00:00,  6.80it/s, loss=0.0643]\n",
      "Training  : 100%|███████████████████████████████████| 14/14 [00:02<00:00,  6.74it/s, loss=0.0683]\n",
      "Training  : 100%|███████████████████████████████████| 14/14 [00:02<00:00,  6.79it/s, loss=0.0573]\n",
      "Training  : 100%|███████████████████████████████████| 14/14 [00:02<00:00,  6.78it/s, loss=0.0569]\n",
      "Training  : 100%|███████████████████████████████████| 14/14 [00:02<00:00,  6.78it/s, loss=0.0589]\n",
      "Training  : 100%|███████████████████████████████████| 14/14 [00:02<00:00,  6.70it/s, loss=0.0617]\n",
      "Training  : 100%|███████████████████████████████████| 14/14 [00:02<00:00,  6.78it/s, loss=0.0717]\n",
      "Training  : 100%|████████████████████████████████████| 14/14 [00:02<00:00,  6.71it/s, loss=0.054]\n",
      "Training  : 100%|███████████████████████████████████| 14/14 [00:02<00:00,  6.82it/s, loss=0.0522]\n",
      "Training  : 100%|███████████████████████████████████| 14/14 [00:02<00:00,  6.76it/s, loss=0.0542]\n",
      "Training  : 100%|███████████████████████████████████| 14/14 [00:02<00:00,  6.80it/s, loss=0.0529]\n",
      "Training  : 100%|████████████████████████████████████| 14/14 [00:02<00:00,  6.73it/s, loss=0.051]\n",
      "Training  : 100%|███████████████████████████████████| 14/14 [00:02<00:00,  6.80it/s, loss=0.0575]\n",
      "Training  : 100%|███████████████████████████████████| 14/14 [00:02<00:00,  6.75it/s, loss=0.0509]\n",
      "Training  : 100%|███████████████████████████████████| 14/14 [00:02<00:00,  6.70it/s, loss=0.0682]\n",
      "Training  : 100%|███████████████████████████████████| 14/14 [00:02<00:00,  6.81it/s, loss=0.0576]\n",
      "Training  : 100%|███████████████████████████████████| 14/14 [00:02<00:00,  6.72it/s, loss=0.0671]\n",
      "Training  : 100%|███████████████████████████████████| 14/14 [00:02<00:00,  6.77it/s, loss=0.0602]\n",
      "Training  : 100%|███████████████████████████████████| 14/14 [00:02<00:00,  6.72it/s, loss=0.0533]\n",
      "Training  : 100%|████████████████████████████████████| 14/14 [00:02<00:00,  6.74it/s, loss=0.078]\n",
      "Training  : 100%|███████████████████████████████████| 14/14 [00:02<00:00,  6.76it/s, loss=0.0535]\n",
      "Training  : 100%|███████████████████████████████████| 14/14 [00:02<00:00,  6.76it/s, loss=0.0523]\n",
      "Training  : 100%|███████████████████████████████████| 14/14 [00:02<00:00,  6.75it/s, loss=0.0473]\n",
      "Training  : 100%|███████████████████████████████████| 14/14 [00:02<00:00,  6.75it/s, loss=0.0519]\n",
      "Training  : 100%|███████████████████████████████████| 14/14 [00:02<00:00,  6.76it/s, loss=0.0531]\n",
      "Training  : 100%|███████████████████████████████████| 14/14 [00:02<00:00,  6.78it/s, loss=0.0483]\n",
      "Training  : 100%|███████████████████████████████████| 14/14 [00:02<00:00,  6.72it/s, loss=0.0495]\n",
      "Training  : 100%|███████████████████████████████████| 14/14 [00:02<00:00,  6.74it/s, loss=0.0517]\n",
      "Training  : 100%|███████████████████████████████████| 14/14 [00:02<00:00,  6.73it/s, loss=0.0559]\n",
      "Training  : 100%|███████████████████████████████████| 14/14 [00:02<00:00,  6.77it/s, loss=0.0511]\n",
      "Training  : 100%|███████████████████████████████████| 14/14 [00:02<00:00,  6.71it/s, loss=0.0479]\n",
      "Training  : 100%|████████████████████████████████████| 14/14 [00:02<00:00,  6.77it/s, loss=0.049]\n",
      "Training  : 100%|███████████████████████████████████| 14/14 [00:02<00:00,  6.69it/s, loss=0.0578]\n",
      "Training  : 100%|███████████████████████████████████| 14/14 [00:02<00:00,  6.75it/s, loss=0.0496]\n",
      "Training  : 100%|███████████████████████████████████| 14/14 [00:02<00:00,  6.82it/s, loss=0.0545]\n",
      "Training  : 100%|███████████████████████████████████| 14/14 [00:02<00:00,  6.76it/s, loss=0.0488]\n",
      "Training  : 100%|███████████████████████████████████| 14/14 [00:02<00:00,  6.80it/s, loss=0.0532]\n",
      "Training  : 100%|████████████████████████████████████| 14/14 [00:02<00:00,  6.74it/s, loss=0.055]\n",
      "Training  : 100%|███████████████████████████████████| 14/14 [00:02<00:00,  6.75it/s, loss=0.0479]\n",
      "Training  : 100%|███████████████████████████████████| 14/14 [00:02<00:00,  6.77it/s, loss=0.0496]\n",
      "Training  : 100%|███████████████████████████████████| 14/14 [00:02<00:00,  6.77it/s, loss=0.0521]\n",
      "Training  : 100%|███████████████████████████████████| 14/14 [00:02<00:00,  6.78it/s, loss=0.0528]\n",
      "Training  : 100%|███████████████████████████████████| 14/14 [00:02<00:00,  6.73it/s, loss=0.0478]\n",
      "Training  : 100%|███████████████████████████████████| 14/14 [00:02<00:00,  6.81it/s, loss=0.0487]\n",
      "Training  : 100%|███████████████████████████████████| 14/14 [00:02<00:00,  6.63it/s, loss=0.0548]\n",
      "Training  : 100%|███████████████████████████████████| 14/14 [00:02<00:00,  6.21it/s, loss=0.0573]\n",
      "Training  : 100%|████████████████████████████████████| 14/14 [00:02<00:00,  6.44it/s, loss=0.059]\n",
      "Training  : 100%|███████████████████████████████████| 14/14 [00:02<00:00,  6.75it/s, loss=0.0519]\n",
      "Training  : 100%|████████████████████████████████████| 14/14 [00:02<00:00,  6.73it/s, loss=0.048]\n",
      "Training  : 100%|███████████████████████████████████| 14/14 [00:02<00:00,  6.77it/s, loss=0.0508]\n",
      "Training  : 100%|███████████████████████████████████| 14/14 [00:02<00:00,  6.74it/s, loss=0.0493]\n",
      "Training  : 100%|███████████████████████████████████| 14/14 [00:02<00:00,  6.82it/s, loss=0.0477]\n",
      "Training  : 100%|███████████████████████████████████| 14/14 [00:02<00:00,  6.75it/s, loss=0.0497]\n",
      "Training  : 100%|███████████████████████████████████| 14/14 [00:02<00:00,  6.73it/s, loss=0.0473]\n",
      "Training  : 100%|████████████████████████████████████| 14/14 [00:02<00:00,  6.77it/s, loss=0.047]\n",
      "Training  : 100%|███████████████████████████████████| 14/14 [00:02<00:00,  6.78it/s, loss=0.0478]\n",
      "Training  : 100%|███████████████████████████████████| 14/14 [00:02<00:00,  6.76it/s, loss=0.0461]\n",
      "Training  : 100%|███████████████████████████████████| 14/14 [00:02<00:00,  6.70it/s, loss=0.0475]\n",
      "Training  : 100%|███████████████████████████████████| 14/14 [00:02<00:00,  6.74it/s, loss=0.0454]\n",
      "Training  : 100%|███████████████████████████████████| 14/14 [00:02<00:00,  6.61it/s, loss=0.0513]\n",
      "Training  : 100%|███████████████████████████████████| 14/14 [00:02<00:00,  6.76it/s, loss=0.0492]\n",
      "Training  : 100%|███████████████████████████████████| 14/14 [00:02<00:00,  6.81it/s, loss=0.0509]\n",
      "Training  : 100%|███████████████████████████████████| 14/14 [00:02<00:00,  6.78it/s, loss=0.0604]\n",
      "Training  : 100%|███████████████████████████████████| 14/14 [00:02<00:00,  6.76it/s, loss=0.0488]\n",
      "Training  : 100%|███████████████████████████████████| 14/14 [00:02<00:00,  6.74it/s, loss=0.0489]\n",
      "Training  : 100%|███████████████████████████████████| 14/14 [00:02<00:00,  6.82it/s, loss=0.0502]\n",
      "Training  : 100%|████████████████████████████████████| 14/14 [00:02<00:00,  6.74it/s, loss=0.047]\n",
      "Training  : 100%|███████████████████████████████████| 14/14 [00:02<00:00,  6.73it/s, loss=0.0473]\n",
      "Training  : 100%|████████████████████████████████████| 14/14 [00:02<00:00,  6.81it/s, loss=0.051]\n",
      "Training  : 100%|███████████████████████████████████| 14/14 [00:02<00:00,  6.75it/s, loss=0.0472]\n",
      "Training  : 100%|███████████████████████████████████| 14/14 [00:02<00:00,  6.75it/s, loss=0.0474]\n",
      "Training  : 100%|███████████████████████████████████| 14/14 [00:02<00:00,  6.76it/s, loss=0.0511]\n",
      "Training  : 100%|███████████████████████████████████| 14/14 [00:02<00:00,  6.73it/s, loss=0.0476]\n",
      "Training  : 100%|███████████████████████████████████| 14/14 [00:02<00:00,  6.73it/s, loss=0.0473]\n",
      "Training  : 100%|███████████████████████████████████| 14/14 [00:02<00:00,  6.74it/s, loss=0.0486]\n",
      "Training  : 100%|███████████████████████████████████| 14/14 [00:02<00:00,  6.74it/s, loss=0.0454]\n",
      "Training  : 100%|███████████████████████████████████| 14/14 [00:02<00:00,  6.75it/s, loss=0.0449]\n",
      "Training  : 100%|███████████████████████████████████| 14/14 [00:02<00:00,  6.76it/s, loss=0.0476]\n",
      "Training  : 100%|███████████████████████████████████| 14/14 [00:02<00:00,  6.73it/s, loss=0.0461]\n",
      "Training  : 100%|███████████████████████████████████| 14/14 [00:02<00:00,  6.74it/s, loss=0.0475]\n",
      "Training  : 100%|███████████████████████████████████| 14/14 [00:02<00:00,  6.79it/s, loss=0.0536]\n",
      "Training  : 100%|███████████████████████████████████| 14/14 [00:02<00:00,  6.76it/s, loss=0.0484]\n",
      "Training  : 100%|████████████████████████████████████| 14/14 [00:02<00:00,  6.75it/s, loss=0.052]\n",
      "Predicting: 100%|████████████████████████████████████████████████| 27/27 [00:00<00:00, 56.60it/s]\n"
     ]
    },
    {
     "name": "stdout",
     "output_type": "stream",
     "text": [
      "Building sklearn text classifier...\n",
      "Loading bert-base-uncased model...\n",
      "Defaulting to linear classifier/regressor\n",
      "Loading Pytorch checkpoint\n",
      "train data size: 428, validation data size: 0\n"
     ]
    },
    {
     "name": "stderr",
     "output_type": "stream",
     "text": [
      "Training  : 100%|████████████████████████████████████| 14/14 [00:02<00:00,  6.69it/s, loss=0.581]\n",
      "Training  : 100%|████████████████████████████████████| 14/14 [00:02<00:00,  6.78it/s, loss=0.324]\n",
      "Training  : 100%|████████████████████████████████████| 14/14 [00:02<00:00,  6.73it/s, loss=0.226]\n",
      "Training  : 100%|████████████████████████████████████| 14/14 [00:02<00:00,  6.80it/s, loss=0.169]\n",
      "Training  : 100%|████████████████████████████████████| 14/14 [00:02<00:00,  6.80it/s, loss=0.121]\n",
      "Training  : 100%|████████████████████████████████████| 14/14 [00:02<00:00,  6.74it/s, loss=0.114]\n",
      "Training  : 100%|████████████████████████████████████| 14/14 [00:02<00:00,  6.77it/s, loss=0.103]\n",
      "Training  : 100%|███████████████████████████████████| 14/14 [00:02<00:00,  6.66it/s, loss=0.0798]\n",
      "Training  : 100%|███████████████████████████████████| 14/14 [00:02<00:00,  6.79it/s, loss=0.0941]\n",
      "Training  : 100%|███████████████████████████████████| 14/14 [00:02<00:00,  6.74it/s, loss=0.0707]\n",
      "Training  : 100%|████████████████████████████████████| 14/14 [00:02<00:00,  6.75it/s, loss=0.053]\n",
      "Training  : 100%|███████████████████████████████████| 14/14 [00:02<00:00,  6.72it/s, loss=0.0627]\n",
      "Training  : 100%|███████████████████████████████████| 14/14 [00:02<00:00,  6.73it/s, loss=0.0613]\n",
      "Training  : 100%|███████████████████████████████████| 14/14 [00:02<00:00,  6.74it/s, loss=0.0578]\n",
      "Training  : 100%|███████████████████████████████████| 14/14 [00:02<00:00,  6.76it/s, loss=0.0505]\n",
      "Training  : 100%|███████████████████████████████████| 14/14 [00:02<00:00,  6.77it/s, loss=0.0527]\n",
      "Training  : 100%|███████████████████████████████████| 14/14 [00:02<00:00,  6.72it/s, loss=0.0495]\n",
      "Training  : 100%|███████████████████████████████████| 14/14 [00:02<00:00,  6.75it/s, loss=0.0456]\n",
      "Training  : 100%|███████████████████████████████████| 14/14 [00:02<00:00,  6.79it/s, loss=0.0439]\n",
      "Training  : 100%|███████████████████████████████████| 14/14 [00:02<00:00,  6.77it/s, loss=0.0468]\n",
      "Training  : 100%|███████████████████████████████████| 14/14 [00:02<00:00,  6.72it/s, loss=0.0421]\n",
      "Training  : 100%|███████████████████████████████████| 14/14 [00:02<00:00,  6.77it/s, loss=0.0418]\n",
      "Training  : 100%|███████████████████████████████████| 14/14 [00:02<00:00,  6.69it/s, loss=0.0471]\n",
      "Training  : 100%|███████████████████████████████████| 14/14 [00:02<00:00,  6.70it/s, loss=0.0429]\n",
      "Training  : 100%|███████████████████████████████████| 14/14 [00:02<00:00,  6.76it/s, loss=0.0393]\n",
      "Training  : 100%|███████████████████████████████████| 14/14 [00:02<00:00,  6.75it/s, loss=0.0399]\n",
      "Training  : 100%|███████████████████████████████████| 14/14 [00:02<00:00,  6.79it/s, loss=0.0417]\n",
      "Training  : 100%|███████████████████████████████████| 14/14 [00:02<00:00,  6.72it/s, loss=0.0462]\n",
      "Training  : 100%|███████████████████████████████████| 14/14 [00:02<00:00,  6.78it/s, loss=0.0389]\n",
      "Training  : 100%|███████████████████████████████████| 14/14 [00:02<00:00,  6.75it/s, loss=0.0496]\n",
      "Training  : 100%|███████████████████████████████████| 14/14 [00:02<00:00,  6.73it/s, loss=0.0527]\n",
      "Training  : 100%|███████████████████████████████████| 14/14 [00:02<00:00,  6.77it/s, loss=0.0397]\n",
      "Training  : 100%|███████████████████████████████████| 14/14 [00:02<00:00,  6.77it/s, loss=0.0466]\n",
      "Training  : 100%|███████████████████████████████████| 14/14 [00:02<00:00,  6.72it/s, loss=0.0406]\n",
      "Training  : 100%|███████████████████████████████████| 14/14 [00:02<00:00,  6.69it/s, loss=0.0401]\n",
      "Training  : 100%|███████████████████████████████████| 14/14 [00:02<00:00,  6.78it/s, loss=0.0452]\n",
      "Training  : 100%|███████████████████████████████████| 14/14 [00:02<00:00,  6.73it/s, loss=0.0468]\n",
      "Training  : 100%|███████████████████████████████████| 14/14 [00:02<00:00,  6.70it/s, loss=0.0424]\n",
      "Training  : 100%|███████████████████████████████████| 14/14 [00:02<00:00,  6.73it/s, loss=0.0382]\n",
      "Training  : 100%|███████████████████████████████████| 14/14 [00:02<00:00,  6.76it/s, loss=0.0381]\n",
      "Training  : 100%|███████████████████████████████████| 14/14 [00:02<00:00,  6.75it/s, loss=0.0427]\n",
      "Training  : 100%|███████████████████████████████████| 14/14 [00:02<00:00,  6.66it/s, loss=0.0417]\n",
      "Training  : 100%|███████████████████████████████████| 14/14 [00:02<00:00,  6.73it/s, loss=0.0461]\n",
      "Training  : 100%|███████████████████████████████████| 14/14 [00:02<00:00,  6.72it/s, loss=0.0388]\n",
      "Training  : 100%|███████████████████████████████████| 14/14 [00:02<00:00,  6.77it/s, loss=0.0384]\n",
      "Training  : 100%|███████████████████████████████████| 14/14 [00:02<00:00,  6.73it/s, loss=0.0458]\n",
      "Training  : 100%|███████████████████████████████████| 14/14 [00:02<00:00,  6.77it/s, loss=0.0439]\n",
      "Training  : 100%|███████████████████████████████████| 14/14 [00:02<00:00,  6.77it/s, loss=0.0439]\n",
      "Training  : 100%|███████████████████████████████████| 14/14 [00:02<00:00,  6.73it/s, loss=0.0396]\n",
      "Training  : 100%|███████████████████████████████████| 14/14 [00:02<00:00,  6.75it/s, loss=0.0404]\n",
      "Training  : 100%|███████████████████████████████████| 14/14 [00:02<00:00,  6.75it/s, loss=0.0426]\n",
      "Training  : 100%|███████████████████████████████████| 14/14 [00:02<00:00,  6.74it/s, loss=0.0396]\n",
      "Training  : 100%|███████████████████████████████████| 14/14 [00:02<00:00,  6.76it/s, loss=0.0383]\n",
      "Training  : 100%|███████████████████████████████████| 14/14 [00:02<00:00,  6.71it/s, loss=0.0414]\n",
      "Training  : 100%|███████████████████████████████████| 14/14 [00:02<00:00,  6.72it/s, loss=0.0411]\n",
      "Training  : 100%|███████████████████████████████████| 14/14 [00:02<00:00,  6.72it/s, loss=0.0402]\n",
      "Training  : 100%|███████████████████████████████████| 14/14 [00:02<00:00,  6.56it/s, loss=0.0376]\n",
      "Training  : 100%|███████████████████████████████████| 14/14 [00:02<00:00,  6.74it/s, loss=0.0408]\n",
      "Training  : 100%|███████████████████████████████████| 14/14 [00:02<00:00,  6.77it/s, loss=0.0442]\n",
      "Training  : 100%|███████████████████████████████████| 14/14 [00:02<00:00,  6.77it/s, loss=0.0406]\n",
      "Training  : 100%|███████████████████████████████████| 14/14 [00:02<00:00,  6.72it/s, loss=0.0398]\n",
      "Training  : 100%|███████████████████████████████████| 14/14 [00:02<00:00,  6.77it/s, loss=0.0451]\n",
      "Training  : 100%|███████████████████████████████████| 14/14 [00:02<00:00,  6.77it/s, loss=0.0411]\n",
      "Training  : 100%|███████████████████████████████████| 14/14 [00:02<00:00,  6.77it/s, loss=0.0414]\n",
      "Training  : 100%|███████████████████████████████████| 14/14 [00:02<00:00,  6.74it/s, loss=0.0441]\n",
      "Training  : 100%|███████████████████████████████████| 14/14 [00:02<00:00,  6.77it/s, loss=0.0394]\n",
      "Training  : 100%|███████████████████████████████████| 14/14 [00:02<00:00,  6.75it/s, loss=0.0398]\n",
      "Training  : 100%|███████████████████████████████████| 14/14 [00:02<00:00,  6.75it/s, loss=0.0381]\n",
      "Training  : 100%|███████████████████████████████████| 14/14 [00:02<00:00,  6.76it/s, loss=0.0396]\n",
      "Training  : 100%|███████████████████████████████████| 14/14 [00:02<00:00,  6.77it/s, loss=0.0383]\n",
      "Training  : 100%|████████████████████████████████████| 14/14 [00:02<00:00,  6.74it/s, loss=0.039]\n",
      "Training  : 100%|███████████████████████████████████| 14/14 [00:02<00:00,  6.78it/s, loss=0.0399]\n",
      "Training  : 100%|████████████████████████████████████| 14/14 [00:02<00:00,  6.77it/s, loss=0.045]\n",
      "Training  : 100%|███████████████████████████████████| 14/14 [00:02<00:00,  6.73it/s, loss=0.0429]\n",
      "Training  : 100%|███████████████████████████████████| 14/14 [00:02<00:00,  6.73it/s, loss=0.0402]\n",
      "Training  : 100%|███████████████████████████████████| 14/14 [00:02<00:00,  6.80it/s, loss=0.0404]\n",
      "Training  : 100%|███████████████████████████████████| 14/14 [00:02<00:00,  6.70it/s, loss=0.0481]\n",
      "Training  : 100%|███████████████████████████████████| 14/14 [00:02<00:00,  6.79it/s, loss=0.0409]\n",
      "Training  : 100%|███████████████████████████████████| 14/14 [00:02<00:00,  6.77it/s, loss=0.0386]\n",
      "Training  : 100%|███████████████████████████████████| 14/14 [00:02<00:00,  6.79it/s, loss=0.0469]\n",
      "Training  : 100%|███████████████████████████████████| 14/14 [00:02<00:00,  6.77it/s, loss=0.0409]\n",
      "Training  : 100%|███████████████████████████████████| 14/14 [00:02<00:00,  6.84it/s, loss=0.0429]\n",
      "Training  : 100%|████████████████████████████████████| 14/14 [00:02<00:00,  6.73it/s, loss=0.044]\n",
      "Training  : 100%|███████████████████████████████████| 14/14 [00:02<00:00,  6.68it/s, loss=0.0375]\n",
      "Training  : 100%|█████████████████████████████████████| 14/14 [00:02<00:00,  6.77it/s, loss=0.04]\n",
      "Training  : 100%|█████████████████████████████████████| 14/14 [00:02<00:00,  6.78it/s, loss=0.05]\n",
      "Training  : 100%|███████████████████████████████████| 14/14 [00:02<00:00,  6.70it/s, loss=0.0395]\n",
      "Training  : 100%|███████████████████████████████████| 14/14 [00:02<00:00,  6.79it/s, loss=0.0399]\n",
      "Training  : 100%|███████████████████████████████████| 14/14 [00:02<00:00,  6.69it/s, loss=0.0397]\n",
      "Training  : 100%|███████████████████████████████████| 14/14 [00:02<00:00,  6.75it/s, loss=0.0425]\n",
      "Training  : 100%|███████████████████████████████████| 14/14 [00:02<00:00,  6.72it/s, loss=0.0382]\n",
      "Training  : 100%|███████████████████████████████████| 14/14 [00:02<00:00,  6.74it/s, loss=0.0374]\n",
      "Training  : 100%|███████████████████████████████████| 14/14 [00:02<00:00,  6.77it/s, loss=0.0382]\n",
      "Training  : 100%|███████████████████████████████████| 14/14 [00:02<00:00,  6.72it/s, loss=0.0383]\n",
      "Training  : 100%|███████████████████████████████████| 14/14 [00:02<00:00,  6.78it/s, loss=0.0386]\n",
      "Training  : 100%|███████████████████████████████████| 14/14 [00:02<00:00,  6.72it/s, loss=0.0393]\n",
      "Training  : 100%|███████████████████████████████████| 14/14 [00:02<00:00,  6.74it/s, loss=0.0387]\n",
      "Training  : 100%|███████████████████████████████████| 14/14 [00:02<00:00,  6.78it/s, loss=0.0463]\n",
      "Training  : 100%|███████████████████████████████████| 14/14 [00:02<00:00,  6.75it/s, loss=0.0394]\n",
      "Training  : 100%|███████████████████████████████████| 14/14 [00:02<00:00,  6.76it/s, loss=0.0509]\n",
      "Predicting: 100%|████████████████████████████████████████████████| 27/27 [00:00<00:00, 54.49it/s]\n"
     ]
    },
    {
     "name": "stdout",
     "output_type": "stream",
     "text": [
      "Building sklearn text classifier...\n",
      "Loading bert-base-uncased model...\n",
      "Defaulting to linear classifier/regressor\n",
      "Loading Pytorch checkpoint\n",
      "train data size: 428, validation data size: 0\n"
     ]
    },
    {
     "name": "stderr",
     "output_type": "stream",
     "text": [
      "Training  : 100%|█████████████████████████████████████| 14/14 [00:02<00:00,  6.77it/s, loss=0.54]\n",
      "Training  : 100%|████████████████████████████████████| 14/14 [00:02<00:00,  6.74it/s, loss=0.302]\n",
      "Training  : 100%|████████████████████████████████████| 14/14 [00:02<00:00,  6.70it/s, loss=0.225]\n",
      "Training  : 100%|████████████████████████████████████| 14/14 [00:02<00:00,  6.69it/s, loss=0.175]\n",
      "Training  : 100%|████████████████████████████████████| 14/14 [00:02<00:00,  6.73it/s, loss=0.118]\n",
      "Training  : 100%|████████████████████████████████████| 14/14 [00:02<00:00,  6.82it/s, loss=0.108]\n",
      "Training  : 100%|███████████████████████████████████| 14/14 [00:02<00:00,  6.77it/s, loss=0.0792]\n",
      "Training  : 100%|███████████████████████████████████| 14/14 [00:02<00:00,  6.75it/s, loss=0.0784]\n",
      "Training  : 100%|███████████████████████████████████| 14/14 [00:02<00:00,  6.66it/s, loss=0.0709]\n",
      "Training  : 100%|███████████████████████████████████| 14/14 [00:02<00:00,  6.71it/s, loss=0.0699]\n",
      "Training  : 100%|███████████████████████████████████| 14/14 [00:02<00:00,  6.78it/s, loss=0.0598]\n",
      "Training  : 100%|███████████████████████████████████| 14/14 [00:02<00:00,  6.78it/s, loss=0.0707]\n",
      "Training  : 100%|████████████████████████████████████| 14/14 [00:02<00:00,  6.73it/s, loss=0.068]\n",
      "Training  : 100%|███████████████████████████████████| 14/14 [00:02<00:00,  6.76it/s, loss=0.0557]\n",
      "Training  : 100%|███████████████████████████████████| 14/14 [00:02<00:00,  6.76it/s, loss=0.0535]\n",
      "Training  : 100%|███████████████████████████████████| 14/14 [00:02<00:00,  6.74it/s, loss=0.0587]\n",
      "Training  : 100%|███████████████████████████████████| 14/14 [00:02<00:00,  6.67it/s, loss=0.0512]\n",
      "Training  : 100%|███████████████████████████████████| 14/14 [00:02<00:00,  6.74it/s, loss=0.0546]\n",
      "Training  : 100%|███████████████████████████████████| 14/14 [00:02<00:00,  6.70it/s, loss=0.0566]\n",
      "Training  : 100%|███████████████████████████████████| 14/14 [00:02<00:00,  6.65it/s, loss=0.0534]\n",
      "Training  : 100%|███████████████████████████████████| 14/14 [00:02<00:00,  6.66it/s, loss=0.0517]\n",
      "Training  : 100%|███████████████████████████████████| 14/14 [00:02<00:00,  6.71it/s, loss=0.0515]\n",
      "Training  : 100%|███████████████████████████████████| 14/14 [00:02<00:00,  6.68it/s, loss=0.0545]\n",
      "Training  : 100%|███████████████████████████████████| 14/14 [00:02<00:00,  6.75it/s, loss=0.0542]\n",
      "Training  : 100%|███████████████████████████████████| 14/14 [00:02<00:00,  6.73it/s, loss=0.0516]\n",
      "Training  : 100%|███████████████████████████████████| 14/14 [00:02<00:00,  6.62it/s, loss=0.0518]\n",
      "Training  : 100%|████████████████████████████████████| 14/14 [00:02<00:00,  6.75it/s, loss=0.049]\n",
      "Training  : 100%|███████████████████████████████████| 14/14 [00:02<00:00,  6.71it/s, loss=0.0542]\n",
      "Training  : 100%|███████████████████████████████████| 14/14 [00:02<00:00,  6.76it/s, loss=0.0519]\n",
      "Training  : 100%|█████████████████████████████████████| 14/14 [00:02<00:00,  6.76it/s, loss=0.05]\n",
      "Training  : 100%|███████████████████████████████████| 14/14 [00:02<00:00,  6.75it/s, loss=0.0499]\n",
      "Training  : 100%|███████████████████████████████████| 14/14 [00:02<00:00,  6.74it/s, loss=0.0538]\n",
      "Training  : 100%|███████████████████████████████████| 14/14 [00:02<00:00,  6.72it/s, loss=0.0555]\n",
      "Training  : 100%|███████████████████████████████████| 14/14 [00:02<00:00,  6.70it/s, loss=0.0592]\n",
      "Training  : 100%|███████████████████████████████████| 14/14 [00:02<00:00,  6.70it/s, loss=0.0541]\n",
      "Training  : 100%|███████████████████████████████████| 14/14 [00:02<00:00,  6.79it/s, loss=0.0465]\n",
      "Training  : 100%|███████████████████████████████████| 14/14 [00:02<00:00,  6.79it/s, loss=0.0558]\n",
      "Training  : 100%|███████████████████████████████████| 14/14 [00:02<00:00,  6.75it/s, loss=0.0489]\n",
      "Training  : 100%|███████████████████████████████████| 14/14 [00:02<00:00,  6.74it/s, loss=0.0467]\n",
      "Training  : 100%|███████████████████████████████████| 14/14 [00:02<00:00,  6.78it/s, loss=0.0497]\n",
      "Training  : 100%|███████████████████████████████████| 14/14 [00:02<00:00,  6.74it/s, loss=0.0477]\n",
      "Training  : 100%|███████████████████████████████████| 14/14 [00:02<00:00,  6.74it/s, loss=0.0529]\n",
      "Training  : 100%|████████████████████████████████████| 14/14 [00:02<00:00,  6.81it/s, loss=0.048]\n",
      "Training  : 100%|███████████████████████████████████| 14/14 [00:02<00:00,  6.74it/s, loss=0.0478]\n",
      "Training  : 100%|███████████████████████████████████| 14/14 [00:02<00:00,  6.73it/s, loss=0.0479]\n",
      "Training  : 100%|███████████████████████████████████| 14/14 [00:02<00:00,  6.74it/s, loss=0.0501]\n",
      "Training  : 100%|███████████████████████████████████| 14/14 [00:02<00:00,  6.70it/s, loss=0.0478]\n",
      "Training  : 100%|███████████████████████████████████| 14/14 [00:02<00:00,  6.74it/s, loss=0.0482]\n",
      "Training  : 100%|███████████████████████████████████| 14/14 [00:02<00:00,  6.74it/s, loss=0.0477]\n",
      "Training  : 100%|███████████████████████████████████| 14/14 [00:02<00:00,  6.74it/s, loss=0.0523]\n",
      "Training  : 100%|█████████████████████████████████████| 14/14 [00:02<00:00,  6.77it/s, loss=0.05]\n",
      "Training  : 100%|███████████████████████████████████| 14/14 [00:02<00:00,  6.65it/s, loss=0.0575]\n",
      "Training  : 100%|███████████████████████████████████| 14/14 [00:02<00:00,  6.73it/s, loss=0.0454]\n",
      "Training  : 100%|███████████████████████████████████| 14/14 [00:02<00:00,  6.76it/s, loss=0.0473]\n",
      "Training  : 100%|███████████████████████████████████| 14/14 [00:02<00:00,  6.71it/s, loss=0.0547]\n",
      "Training  : 100%|███████████████████████████████████| 14/14 [00:02<00:00,  6.68it/s, loss=0.0462]\n",
      "Training  : 100%|███████████████████████████████████| 14/14 [00:02<00:00,  6.68it/s, loss=0.0523]\n",
      "Training  : 100%|███████████████████████████████████| 14/14 [00:02<00:00,  6.72it/s, loss=0.0446]\n",
      "Training  : 100%|███████████████████████████████████| 14/14 [00:02<00:00,  6.71it/s, loss=0.0452]\n",
      "Training  : 100%|███████████████████████████████████| 14/14 [00:02<00:00,  6.73it/s, loss=0.0465]\n",
      "Training  : 100%|███████████████████████████████████| 14/14 [00:02<00:00,  6.73it/s, loss=0.0515]\n",
      "Training  : 100%|████████████████████████████████████| 14/14 [00:02<00:00,  6.66it/s, loss=0.046]\n",
      "Training  : 100%|███████████████████████████████████| 14/14 [00:02<00:00,  6.40it/s, loss=0.0497]\n",
      "Training  : 100%|███████████████████████████████████| 14/14 [00:02<00:00,  6.57it/s, loss=0.0562]\n",
      "Training  : 100%|███████████████████████████████████| 14/14 [00:02<00:00,  6.74it/s, loss=0.0459]\n",
      "Training  : 100%|███████████████████████████████████| 14/14 [00:02<00:00,  6.74it/s, loss=0.0456]\n",
      "Training  : 100%|███████████████████████████████████| 14/14 [00:02<00:00,  6.72it/s, loss=0.0537]\n",
      "Training  : 100%|███████████████████████████████████| 14/14 [00:02<00:00,  6.73it/s, loss=0.0468]\n",
      "Training  : 100%|███████████████████████████████████| 14/14 [00:02<00:00,  6.78it/s, loss=0.0483]\n",
      "Training  : 100%|███████████████████████████████████| 14/14 [00:02<00:00,  6.78it/s, loss=0.0522]\n",
      "Training  : 100%|███████████████████████████████████| 14/14 [00:02<00:00,  6.76it/s, loss=0.0463]\n",
      "Training  : 100%|███████████████████████████████████| 14/14 [00:02<00:00,  6.78it/s, loss=0.0478]\n",
      "Training  : 100%|████████████████████████████████████| 14/14 [00:02<00:00,  6.78it/s, loss=0.046]\n",
      "Training  : 100%|███████████████████████████████████| 14/14 [00:02<00:00,  6.73it/s, loss=0.0463]\n",
      "Training  : 100%|███████████████████████████████████| 14/14 [00:02<00:00,  6.73it/s, loss=0.0496]\n",
      "Training  : 100%|███████████████████████████████████| 14/14 [00:02<00:00,  6.77it/s, loss=0.0465]\n",
      "Training  : 100%|███████████████████████████████████| 14/14 [00:02<00:00,  6.75it/s, loss=0.0514]\n",
      "Training  : 100%|███████████████████████████████████| 14/14 [00:02<00:00,  6.69it/s, loss=0.0485]\n",
      "Training  : 100%|███████████████████████████████████| 14/14 [00:02<00:00,  6.68it/s, loss=0.0514]\n",
      "Training  : 100%|███████████████████████████████████| 14/14 [00:02<00:00,  6.70it/s, loss=0.0473]\n",
      "Training  : 100%|███████████████████████████████████| 14/14 [00:02<00:00,  6.78it/s, loss=0.0465]\n",
      "Training  : 100%|███████████████████████████████████| 14/14 [00:02<00:00,  6.74it/s, loss=0.0474]\n",
      "Training  : 100%|███████████████████████████████████| 14/14 [00:02<00:00,  6.78it/s, loss=0.0457]\n",
      "Training  : 100%|███████████████████████████████████| 14/14 [00:02<00:00,  6.75it/s, loss=0.0487]\n",
      "Training  : 100%|███████████████████████████████████| 14/14 [00:02<00:00,  6.74it/s, loss=0.0463]\n",
      "Training  : 100%|███████████████████████████████████| 14/14 [00:02<00:00,  6.70it/s, loss=0.0486]\n",
      "Training  : 100%|███████████████████████████████████| 14/14 [00:02<00:00,  6.73it/s, loss=0.0448]\n",
      "Training  : 100%|███████████████████████████████████| 14/14 [00:02<00:00,  6.79it/s, loss=0.0471]\n",
      "Training  : 100%|███████████████████████████████████| 14/14 [00:02<00:00,  6.75it/s, loss=0.0471]\n",
      "Training  : 100%|███████████████████████████████████| 14/14 [00:02<00:00,  6.71it/s, loss=0.0459]\n",
      "Training  : 100%|███████████████████████████████████| 14/14 [00:02<00:00,  6.75it/s, loss=0.0446]\n",
      "Training  : 100%|███████████████████████████████████| 14/14 [00:02<00:00,  6.72it/s, loss=0.0476]\n",
      "Training  : 100%|███████████████████████████████████| 14/14 [00:02<00:00,  6.69it/s, loss=0.0482]\n",
      "Training  : 100%|███████████████████████████████████| 14/14 [00:02<00:00,  6.70it/s, loss=0.0447]\n",
      "Training  : 100%|███████████████████████████████████| 14/14 [00:02<00:00,  6.71it/s, loss=0.0443]\n",
      "Training  : 100%|███████████████████████████████████| 14/14 [00:02<00:00,  6.70it/s, loss=0.0441]\n",
      "Training  : 100%|███████████████████████████████████| 14/14 [00:02<00:00,  6.77it/s, loss=0.0451]\n",
      "Training  : 100%|███████████████████████████████████| 14/14 [00:02<00:00,  6.78it/s, loss=0.0478]\n",
      "Training  : 100%|███████████████████████████████████| 14/14 [00:02<00:00,  6.76it/s, loss=0.0458]\n",
      "Training  : 100%|███████████████████████████████████| 14/14 [00:02<00:00,  6.78it/s, loss=0.0444]\n",
      "Predicting: 100%|████████████████████████████████████████████████| 27/27 [00:00<00:00, 57.02it/s]\n"
     ]
    },
    {
     "name": "stdout",
     "output_type": "stream",
     "text": [
      "Building sklearn text classifier...\n",
      "Loading bert-base-uncased model...\n",
      "Defaulting to linear classifier/regressor\n",
      "Loading Pytorch checkpoint\n",
      "train data size: 428, validation data size: 0\n"
     ]
    },
    {
     "name": "stderr",
     "output_type": "stream",
     "text": [
      "Training  : 100%|████████████████████████████████████| 14/14 [00:02<00:00,  6.62it/s, loss=0.541]\n",
      "Training  : 100%|████████████████████████████████████| 14/14 [00:02<00:00,  6.74it/s, loss=0.315]\n",
      "Training  : 100%|████████████████████████████████████| 14/14 [00:02<00:00,  6.72it/s, loss=0.237]\n",
      "Training  : 100%|████████████████████████████████████| 14/14 [00:02<00:00,  6.73it/s, loss=0.205]\n",
      "Training  : 100%|████████████████████████████████████| 14/14 [00:02<00:00,  6.80it/s, loss=0.152]\n",
      "Training  : 100%|████████████████████████████████████| 14/14 [00:02<00:00,  6.75it/s, loss=0.104]\n",
      "Training  : 100%|████████████████████████████████████| 14/14 [00:02<00:00,  6.70it/s, loss=0.126]\n",
      "Training  : 100%|████████████████████████████████████| 14/14 [00:02<00:00,  6.79it/s, loss=0.105]\n",
      "Training  : 100%|███████████████████████████████████| 14/14 [00:02<00:00,  6.76it/s, loss=0.0882]\n",
      "Training  : 100%|███████████████████████████████████| 14/14 [00:02<00:00,  6.78it/s, loss=0.0767]\n",
      "Training  : 100%|███████████████████████████████████| 14/14 [00:02<00:00,  6.73it/s, loss=0.0873]\n",
      "Training  : 100%|███████████████████████████████████| 14/14 [00:02<00:00,  6.70it/s, loss=0.0753]\n",
      "Training  : 100%|███████████████████████████████████| 14/14 [00:02<00:00,  6.76it/s, loss=0.0858]\n",
      "Training  : 100%|███████████████████████████████████| 14/14 [00:02<00:00,  6.76it/s, loss=0.0669]\n",
      "Training  : 100%|███████████████████████████████████| 14/14 [00:02<00:00,  6.75it/s, loss=0.0661]\n",
      "Training  : 100%|████████████████████████████████████| 14/14 [00:02<00:00,  6.82it/s, loss=0.066]\n",
      "Training  : 100%|███████████████████████████████████| 14/14 [00:02<00:00,  6.75it/s, loss=0.0611]\n",
      "Training  : 100%|███████████████████████████████████| 14/14 [00:02<00:00,  6.78it/s, loss=0.0659]\n",
      "Training  : 100%|███████████████████████████████████| 14/14 [00:02<00:00,  6.67it/s, loss=0.0728]\n",
      "Training  : 100%|███████████████████████████████████| 14/14 [00:02<00:00,  6.67it/s, loss=0.0703]\n",
      "Training  : 100%|███████████████████████████████████| 14/14 [00:02<00:00,  6.79it/s, loss=0.0644]\n",
      "Training  : 100%|███████████████████████████████████| 14/14 [00:02<00:00,  6.77it/s, loss=0.0607]\n",
      "Training  : 100%|███████████████████████████████████| 14/14 [00:02<00:00,  6.77it/s, loss=0.0566]\n",
      "Training  : 100%|████████████████████████████████████| 14/14 [00:02<00:00,  6.64it/s, loss=0.064]\n",
      "Training  : 100%|███████████████████████████████████| 14/14 [00:02<00:00,  6.75it/s, loss=0.0527]\n",
      "Training  : 100%|███████████████████████████████████| 14/14 [00:02<00:00,  6.78it/s, loss=0.0563]\n",
      "Training  : 100%|███████████████████████████████████| 14/14 [00:02<00:00,  6.74it/s, loss=0.0521]\n",
      "Training  : 100%|███████████████████████████████████| 14/14 [00:02<00:00,  6.79it/s, loss=0.0521]\n",
      "Training  : 100%|███████████████████████████████████| 14/14 [00:02<00:00,  6.73it/s, loss=0.0497]\n",
      "Training  : 100%|███████████████████████████████████| 14/14 [00:02<00:00,  6.75it/s, loss=0.0573]\n",
      "Training  : 100%|███████████████████████████████████| 14/14 [00:02<00:00,  6.77it/s, loss=0.0501]\n",
      "Training  : 100%|███████████████████████████████████| 14/14 [00:02<00:00,  6.73it/s, loss=0.0618]\n",
      "Training  : 100%|███████████████████████████████████| 14/14 [00:02<00:00,  6.75it/s, loss=0.0563]\n",
      "Training  : 100%|███████████████████████████████████| 14/14 [00:02<00:00,  6.77it/s, loss=0.0576]\n",
      "Training  : 100%|███████████████████████████████████| 14/14 [00:02<00:00,  6.80it/s, loss=0.0565]\n",
      "Training  : 100%|███████████████████████████████████| 14/14 [00:02<00:00,  6.82it/s, loss=0.0477]\n",
      "Training  : 100%|████████████████████████████████████| 14/14 [00:02<00:00,  6.77it/s, loss=0.067]\n",
      "Training  : 100%|███████████████████████████████████| 14/14 [00:02<00:00,  6.73it/s, loss=0.0516]\n",
      "Training  : 100%|███████████████████████████████████| 14/14 [00:02<00:00,  6.78it/s, loss=0.0473]\n",
      "Training  : 100%|███████████████████████████████████| 14/14 [00:02<00:00,  6.81it/s, loss=0.0476]\n",
      "Training  : 100%|███████████████████████████████████| 14/14 [00:02<00:00,  6.69it/s, loss=0.0486]\n",
      "Training  : 100%|███████████████████████████████████| 14/14 [00:02<00:00,  6.78it/s, loss=0.0485]\n",
      "Training  : 100%|███████████████████████████████████| 14/14 [00:02<00:00,  6.74it/s, loss=0.0492]\n",
      "Training  : 100%|███████████████████████████████████| 14/14 [00:02<00:00,  6.82it/s, loss=0.0494]\n",
      "Training  : 100%|███████████████████████████████████| 14/14 [00:02<00:00,  6.77it/s, loss=0.0526]\n",
      "Training  : 100%|███████████████████████████████████| 14/14 [00:02<00:00,  6.79it/s, loss=0.0525]\n",
      "Training  : 100%|███████████████████████████████████| 14/14 [00:02<00:00,  6.77it/s, loss=0.0521]\n",
      "Training  : 100%|███████████████████████████████████| 14/14 [00:02<00:00,  6.75it/s, loss=0.0495]\n",
      "Training  : 100%|███████████████████████████████████| 14/14 [00:02<00:00,  6.78it/s, loss=0.0487]\n",
      "Training  : 100%|███████████████████████████████████| 14/14 [00:02<00:00,  6.80it/s, loss=0.0578]\n",
      "Training  : 100%|███████████████████████████████████| 14/14 [00:02<00:00,  6.66it/s, loss=0.0519]\n",
      "Training  : 100%|███████████████████████████████████| 14/14 [00:02<00:00,  6.73it/s, loss=0.0501]\n",
      "Training  : 100%|███████████████████████████████████| 14/14 [00:02<00:00,  6.73it/s, loss=0.0472]\n",
      "Training  : 100%|████████████████████████████████████| 14/14 [00:02<00:00,  6.76it/s, loss=0.053]\n",
      "Training  : 100%|███████████████████████████████████| 14/14 [00:02<00:00,  6.82it/s, loss=0.0598]\n",
      "Training  : 100%|███████████████████████████████████| 14/14 [00:02<00:00,  6.73it/s, loss=0.0478]\n",
      "Training  : 100%|███████████████████████████████████| 14/14 [00:02<00:00,  6.76it/s, loss=0.0484]\n",
      "Training  : 100%|███████████████████████████████████| 14/14 [00:02<00:00,  6.78it/s, loss=0.0495]\n",
      "Training  : 100%|███████████████████████████████████| 14/14 [00:02<00:00,  6.78it/s, loss=0.0513]\n",
      "Training  : 100%|███████████████████████████████████| 14/14 [00:02<00:00,  6.76it/s, loss=0.0508]\n",
      "Training  : 100%|███████████████████████████████████| 14/14 [00:02<00:00,  6.77it/s, loss=0.0539]\n",
      "Training  : 100%|███████████████████████████████████| 14/14 [00:02<00:00,  6.76it/s, loss=0.0498]\n",
      "Training  : 100%|███████████████████████████████████| 14/14 [00:02<00:00,  6.77it/s, loss=0.0556]\n",
      "Training  : 100%|█████████████████████████████████████| 14/14 [00:02<00:00,  6.75it/s, loss=0.06]\n",
      "Training  : 100%|███████████████████████████████████| 14/14 [00:02<00:00,  6.75it/s, loss=0.0504]\n",
      "Training  : 100%|███████████████████████████████████| 14/14 [00:02<00:00,  6.71it/s, loss=0.0488]\n",
      "Training  : 100%|███████████████████████████████████| 14/14 [00:02<00:00,  6.76it/s, loss=0.0504]\n",
      "Training  : 100%|███████████████████████████████████| 14/14 [00:02<00:00,  6.71it/s, loss=0.0487]\n",
      "Training  : 100%|████████████████████████████████████| 14/14 [00:02<00:00,  6.78it/s, loss=0.048]\n",
      "Training  : 100%|███████████████████████████████████| 14/14 [00:02<00:00,  6.83it/s, loss=0.0505]\n",
      "Training  : 100%|███████████████████████████████████| 14/14 [00:02<00:00,  6.76it/s, loss=0.0476]\n",
      "Training  : 100%|███████████████████████████████████| 14/14 [00:02<00:00,  6.80it/s, loss=0.0488]\n",
      "Training  : 100%|███████████████████████████████████| 14/14 [00:02<00:00,  6.83it/s, loss=0.0487]\n",
      "Training  : 100%|███████████████████████████████████| 14/14 [00:02<00:00,  6.72it/s, loss=0.0473]\n",
      "Training  : 100%|████████████████████████████████████| 14/14 [00:02<00:00,  6.69it/s, loss=0.047]\n",
      "Training  : 100%|███████████████████████████████████| 14/14 [00:02<00:00,  6.80it/s, loss=0.0475]\n",
      "Training  : 100%|███████████████████████████████████| 14/14 [00:02<00:00,  6.75it/s, loss=0.0533]\n",
      "Training  : 100%|███████████████████████████████████| 14/14 [00:02<00:00,  6.76it/s, loss=0.0479]\n",
      "Training  : 100%|███████████████████████████████████| 14/14 [00:02<00:00,  6.79it/s, loss=0.0492]\n",
      "Training  : 100%|███████████████████████████████████| 14/14 [00:02<00:00,  6.75it/s, loss=0.0596]\n",
      "Training  : 100%|███████████████████████████████████| 14/14 [00:02<00:00,  6.83it/s, loss=0.0499]\n",
      "Training  : 100%|███████████████████████████████████| 14/14 [00:02<00:00,  6.77it/s, loss=0.0487]\n",
      "Training  : 100%|████████████████████████████████████| 14/14 [00:02<00:00,  6.77it/s, loss=0.049]\n",
      "Training  : 100%|███████████████████████████████████| 14/14 [00:02<00:00,  6.78it/s, loss=0.0485]\n",
      "Training  : 100%|███████████████████████████████████| 14/14 [00:02<00:00,  6.79it/s, loss=0.0471]\n",
      "Training  : 100%|███████████████████████████████████| 14/14 [00:02<00:00,  6.79it/s, loss=0.0502]\n",
      "Training  : 100%|███████████████████████████████████| 14/14 [00:02<00:00,  6.76it/s, loss=0.0476]\n",
      "Training  : 100%|███████████████████████████████████| 14/14 [00:02<00:00,  6.75it/s, loss=0.0477]\n",
      "Training  : 100%|████████████████████████████████████| 14/14 [00:02<00:00,  6.78it/s, loss=0.051]\n",
      "Training  : 100%|███████████████████████████████████| 14/14 [00:02<00:00,  6.75it/s, loss=0.0452]\n",
      "Training  : 100%|███████████████████████████████████| 14/14 [00:02<00:00,  6.84it/s, loss=0.0467]\n",
      "Training  : 100%|███████████████████████████████████| 14/14 [00:02<00:00,  6.78it/s, loss=0.0494]\n",
      "Training  : 100%|███████████████████████████████████| 14/14 [00:02<00:00,  6.78it/s, loss=0.0472]\n",
      "Training  : 100%|███████████████████████████████████| 14/14 [00:02<00:00,  6.79it/s, loss=0.0469]\n",
      "Training  : 100%|███████████████████████████████████| 14/14 [00:02<00:00,  6.76it/s, loss=0.0477]\n",
      "Training  : 100%|███████████████████████████████████| 14/14 [00:02<00:00,  6.73it/s, loss=0.0458]\n",
      "Training  : 100%|███████████████████████████████████| 14/14 [00:02<00:00,  6.76it/s, loss=0.0467]\n",
      "Training  : 100%|███████████████████████████████████| 14/14 [00:02<00:00,  6.78it/s, loss=0.0517]\n",
      "Training  : 100%|███████████████████████████████████| 14/14 [00:02<00:00,  6.74it/s, loss=0.0475]\n",
      "Training  : 100%|███████████████████████████████████| 14/14 [00:02<00:00,  6.77it/s, loss=0.0489]\n",
      "Predicting: 100%|████████████████████████████████████████████████| 27/27 [00:00<00:00, 53.22it/s]\n"
     ]
    },
    {
     "name": "stdout",
     "output_type": "stream",
     "text": [
      "Building sklearn text classifier...\n",
      "Loading bert-base-uncased model...\n",
      "Defaulting to linear classifier/regressor\n",
      "Loading Pytorch checkpoint\n",
      "train data size: 428, validation data size: 0\n"
     ]
    },
    {
     "name": "stderr",
     "output_type": "stream",
     "text": [
      "Training  : 100%|████████████████████████████████████| 14/14 [00:02<00:00,  6.72it/s, loss=0.561]\n",
      "Training  : 100%|████████████████████████████████████| 14/14 [00:02<00:00,  6.77it/s, loss=0.285]\n",
      "Training  : 100%|████████████████████████████████████| 14/14 [00:02<00:00,  6.70it/s, loss=0.253]\n",
      "Training  : 100%|████████████████████████████████████| 14/14 [00:02<00:00,  6.77it/s, loss=0.199]\n",
      "Training  : 100%|████████████████████████████████████| 14/14 [00:02<00:00,  6.65it/s, loss=0.139]\n",
      "Training  : 100%|████████████████████████████████████| 14/14 [00:02<00:00,  6.70it/s, loss=0.122]\n",
      "Training  : 100%|███████████████████████████████████| 14/14 [00:02<00:00,  6.79it/s, loss=0.0941]\n",
      "Training  : 100%|███████████████████████████████████| 14/14 [00:02<00:00,  6.77it/s, loss=0.0774]\n",
      "Training  : 100%|███████████████████████████████████| 14/14 [00:02<00:00,  6.75it/s, loss=0.0829]\n",
      "Training  : 100%|███████████████████████████████████| 14/14 [00:02<00:00,  6.74it/s, loss=0.0613]\n",
      "Training  : 100%|███████████████████████████████████| 14/14 [00:02<00:00,  6.75it/s, loss=0.0753]\n",
      "Training  : 100%|███████████████████████████████████| 14/14 [00:02<00:00,  6.74it/s, loss=0.0619]\n",
      "Training  : 100%|███████████████████████████████████| 14/14 [00:02<00:00,  6.77it/s, loss=0.0528]\n",
      "Training  : 100%|███████████████████████████████████| 14/14 [00:02<00:00,  6.77it/s, loss=0.0474]\n",
      "Training  : 100%|███████████████████████████████████| 14/14 [00:02<00:00,  6.73it/s, loss=0.0499]\n",
      "Training  : 100%|███████████████████████████████████| 14/14 [00:02<00:00,  6.67it/s, loss=0.0506]\n",
      "Training  : 100%|████████████████████████████████████| 14/14 [00:02<00:00,  6.81it/s, loss=0.052]\n",
      "Training  : 100%|███████████████████████████████████| 14/14 [00:02<00:00,  6.72it/s, loss=0.0453]\n",
      "Training  : 100%|███████████████████████████████████| 14/14 [00:02<00:00,  6.74it/s, loss=0.0456]\n",
      "Training  : 100%|███████████████████████████████████| 14/14 [00:02<00:00,  6.72it/s, loss=0.0512]\n",
      "Training  : 100%|███████████████████████████████████| 14/14 [00:02<00:00,  6.72it/s, loss=0.0371]\n",
      "Training  : 100%|███████████████████████████████████| 14/14 [00:02<00:00,  6.71it/s, loss=0.0429]\n",
      "Training  : 100%|███████████████████████████████████| 14/14 [00:02<00:00,  6.78it/s, loss=0.0446]\n",
      "Training  : 100%|███████████████████████████████████| 14/14 [00:02<00:00,  6.79it/s, loss=0.0408]\n",
      "Training  : 100%|███████████████████████████████████| 14/14 [00:02<00:00,  6.74it/s, loss=0.0431]\n",
      "Training  : 100%|███████████████████████████████████| 14/14 [00:02<00:00,  6.74it/s, loss=0.0423]\n",
      "Training  : 100%|███████████████████████████████████| 14/14 [00:02<00:00,  6.75it/s, loss=0.0424]\n",
      "Training  : 100%|███████████████████████████████████| 14/14 [00:02<00:00,  6.79it/s, loss=0.0423]\n",
      "Training  : 100%|███████████████████████████████████| 14/14 [00:02<00:00,  6.75it/s, loss=0.0397]\n",
      "Training  : 100%|███████████████████████████████████| 14/14 [00:02<00:00,  6.79it/s, loss=0.0461]\n",
      "Training  : 100%|███████████████████████████████████| 14/14 [00:02<00:00,  6.74it/s, loss=0.0514]\n",
      "Training  : 100%|███████████████████████████████████| 14/14 [00:02<00:00,  6.73it/s, loss=0.0435]\n",
      "Training  : 100%|███████████████████████████████████| 14/14 [00:02<00:00,  6.75it/s, loss=0.0458]\n",
      "Training  : 100%|█████████████████████████████████████| 14/14 [00:02<00:00,  6.73it/s, loss=0.04]\n",
      "Training  : 100%|███████████████████████████████████| 14/14 [00:02<00:00,  6.68it/s, loss=0.0406]\n",
      "Training  : 100%|███████████████████████████████████| 14/14 [00:02<00:00,  6.73it/s, loss=0.0448]\n",
      "Training  : 100%|███████████████████████████████████| 14/14 [00:02<00:00,  6.67it/s, loss=0.0483]\n",
      "Training  : 100%|███████████████████████████████████| 14/14 [00:02<00:00,  6.66it/s, loss=0.0419]\n",
      "Training  : 100%|███████████████████████████████████| 14/14 [00:02<00:00,  6.81it/s, loss=0.0401]\n",
      "Training  : 100%|███████████████████████████████████| 14/14 [00:02<00:00,  6.71it/s, loss=0.0363]\n",
      "Training  : 100%|███████████████████████████████████| 14/14 [00:02<00:00,  6.68it/s, loss=0.0462]\n",
      "Training  : 100%|███████████████████████████████████| 14/14 [00:02<00:00,  6.75it/s, loss=0.0401]\n",
      "Training  : 100%|████████████████████████████████████| 14/14 [00:02<00:00,  6.75it/s, loss=0.047]\n",
      "Training  : 100%|███████████████████████████████████| 14/14 [00:02<00:00,  6.75it/s, loss=0.0422]\n",
      "Training  : 100%|████████████████████████████████████| 14/14 [00:02<00:00,  6.76it/s, loss=0.039]\n",
      "Training  : 100%|███████████████████████████████████| 14/14 [00:02<00:00,  6.72it/s, loss=0.0444]\n",
      "Training  : 100%|████████████████████████████████████| 14/14 [00:02<00:00,  6.79it/s, loss=0.048]\n",
      "Training  : 100%|████████████████████████████████████| 14/14 [00:02<00:00,  6.72it/s, loss=0.038]\n",
      "Training  : 100%|███████████████████████████████████| 14/14 [00:02<00:00,  6.76it/s, loss=0.0402]\n",
      "Training  : 100%|███████████████████████████████████| 14/14 [00:02<00:00,  6.68it/s, loss=0.0406]\n",
      "Training  : 100%|███████████████████████████████████| 14/14 [00:02<00:00,  6.69it/s, loss=0.0456]\n",
      "Training  : 100%|███████████████████████████████████| 14/14 [00:02<00:00,  6.66it/s, loss=0.0371]\n",
      "Training  : 100%|███████████████████████████████████| 14/14 [00:02<00:00,  6.74it/s, loss=0.0405]\n",
      "Training  : 100%|████████████████████████████████████| 14/14 [00:02<00:00,  6.76it/s, loss=0.041]\n",
      "Training  : 100%|███████████████████████████████████| 14/14 [00:02<00:00,  6.77it/s, loss=0.0365]\n",
      "Training  : 100%|███████████████████████████████████| 14/14 [00:02<00:00,  6.74it/s, loss=0.0383]\n",
      "Training  : 100%|███████████████████████████████████| 14/14 [00:02<00:00,  6.71it/s, loss=0.0405]\n",
      "Training  : 100%|███████████████████████████████████| 14/14 [00:02<00:00,  6.72it/s, loss=0.0423]\n",
      "Training  : 100%|███████████████████████████████████| 14/14 [00:02<00:00,  6.80it/s, loss=0.0449]\n",
      "Training  : 100%|████████████████████████████████████| 14/14 [00:02<00:00,  6.70it/s, loss=0.037]\n",
      "Training  : 100%|███████████████████████████████████| 14/14 [00:02<00:00,  6.69it/s, loss=0.0405]\n",
      "Training  : 100%|███████████████████████████████████| 14/14 [00:02<00:00,  6.76it/s, loss=0.0444]\n",
      "Training  : 100%|███████████████████████████████████| 14/14 [00:02<00:00,  6.54it/s, loss=0.0406]\n",
      "Training  : 100%|███████████████████████████████████| 14/14 [00:02<00:00,  6.60it/s, loss=0.0405]\n",
      "Training  : 100%|███████████████████████████████████| 14/14 [00:02<00:00,  6.79it/s, loss=0.0443]\n",
      "Training  : 100%|███████████████████████████████████| 14/14 [00:02<00:00,  6.70it/s, loss=0.0416]\n",
      "Training  : 100%|███████████████████████████████████| 14/14 [00:02<00:00,  6.67it/s, loss=0.0396]\n",
      "Training  : 100%|███████████████████████████████████| 14/14 [00:02<00:00,  6.77it/s, loss=0.0418]\n",
      "Training  : 100%|███████████████████████████████████| 14/14 [00:02<00:00,  6.77it/s, loss=0.0409]\n",
      "Training  : 100%|███████████████████████████████████| 14/14 [00:02<00:00,  6.73it/s, loss=0.0381]\n",
      "Training  : 100%|███████████████████████████████████| 14/14 [00:02<00:00,  6.77it/s, loss=0.0396]\n",
      "Training  : 100%|███████████████████████████████████| 14/14 [00:02<00:00,  6.77it/s, loss=0.0398]\n",
      "Training  : 100%|███████████████████████████████████| 14/14 [00:02<00:00,  6.76it/s, loss=0.0407]\n",
      "Training  : 100%|███████████████████████████████████| 14/14 [00:02<00:00,  6.70it/s, loss=0.0454]\n",
      "Training  : 100%|███████████████████████████████████| 14/14 [00:02<00:00,  6.75it/s, loss=0.0366]\n",
      "Training  : 100%|███████████████████████████████████| 14/14 [00:02<00:00,  6.74it/s, loss=0.0409]\n",
      "Training  : 100%|███████████████████████████████████| 14/14 [00:02<00:00,  6.71it/s, loss=0.0459]\n",
      "Training  : 100%|███████████████████████████████████| 14/14 [00:02<00:00,  6.73it/s, loss=0.0427]\n",
      "Training  : 100%|███████████████████████████████████| 14/14 [00:02<00:00,  6.79it/s, loss=0.0378]\n",
      "Training  : 100%|███████████████████████████████████| 14/14 [00:02<00:00,  6.72it/s, loss=0.0481]\n",
      "Training  : 100%|███████████████████████████████████| 14/14 [00:02<00:00,  6.75it/s, loss=0.0408]\n",
      "Training  : 100%|███████████████████████████████████| 14/14 [00:02<00:00,  6.75it/s, loss=0.0409]\n",
      "Training  : 100%|███████████████████████████████████| 14/14 [00:02<00:00,  6.72it/s, loss=0.0418]\n",
      "Training  : 100%|███████████████████████████████████| 14/14 [00:02<00:00,  6.74it/s, loss=0.0383]\n",
      "Training  : 100%|████████████████████████████████████| 14/14 [00:02<00:00,  6.74it/s, loss=0.039]\n",
      "Training  : 100%|███████████████████████████████████| 14/14 [00:02<00:00,  6.81it/s, loss=0.0545]\n",
      "Training  : 100%|███████████████████████████████████| 14/14 [00:02<00:00,  6.70it/s, loss=0.0397]\n",
      "Training  : 100%|████████████████████████████████████| 14/14 [00:02<00:00,  6.73it/s, loss=0.042]\n",
      "Training  : 100%|███████████████████████████████████| 14/14 [00:02<00:00,  6.72it/s, loss=0.0369]\n",
      "Training  : 100%|███████████████████████████████████| 14/14 [00:02<00:00,  6.74it/s, loss=0.0444]\n",
      "Training  : 100%|███████████████████████████████████| 14/14 [00:02<00:00,  6.76it/s, loss=0.0401]\n",
      "Training  : 100%|███████████████████████████████████| 14/14 [00:02<00:00,  6.75it/s, loss=0.0379]\n",
      "Training  : 100%|█████████████████████████████████████| 14/14 [00:02<00:00,  6.78it/s, loss=0.04]\n",
      "Training  : 100%|███████████████████████████████████| 14/14 [00:02<00:00,  6.72it/s, loss=0.0381]\n",
      "Training  : 100%|███████████████████████████████████| 14/14 [00:02<00:00,  6.73it/s, loss=0.0392]\n",
      "Training  : 100%|███████████████████████████████████| 14/14 [00:02<00:00,  6.68it/s, loss=0.0399]\n",
      "Training  : 100%|███████████████████████████████████| 14/14 [00:02<00:00,  6.75it/s, loss=0.0387]\n",
      "Training  : 100%|███████████████████████████████████| 14/14 [00:02<00:00,  6.74it/s, loss=0.0508]\n",
      "Training  : 100%|███████████████████████████████████| 14/14 [00:02<00:00,  6.78it/s, loss=0.0404]\n",
      "Training  : 100%|████████████████████████████████████| 14/14 [00:02<00:00,  6.77it/s, loss=0.051]\n",
      "Predicting: 100%|████████████████████████████████████████████████| 27/27 [00:00<00:00, 53.25it/s]\n"
     ]
    },
    {
     "name": "stdout",
     "output_type": "stream",
     "text": [
      "Building sklearn text classifier...\n",
      "Loading bert-base-uncased model...\n",
      "Defaulting to linear classifier/regressor\n",
      "Loading Pytorch checkpoint\n",
      "train data size: 428, validation data size: 0\n"
     ]
    },
    {
     "name": "stderr",
     "output_type": "stream",
     "text": [
      "Training  : 100%|████████████████████████████████████| 14/14 [00:02<00:00,  6.73it/s, loss=0.591]\n",
      "Training  : 100%|█████████████████████████████████████| 14/14 [00:02<00:00,  6.71it/s, loss=0.41]\n",
      "Training  : 100%|█████████████████████████████████████| 14/14 [00:02<00:00,  6.70it/s, loss=0.27]\n",
      "Training  : 100%|████████████████████████████████████| 14/14 [00:02<00:00,  6.62it/s, loss=0.222]\n",
      "Training  : 100%|█████████████████████████████████████| 14/14 [00:02<00:00,  6.68it/s, loss=0.17]\n",
      "Training  : 100%|████████████████████████████████████| 14/14 [00:02<00:00,  6.68it/s, loss=0.143]\n",
      "Training  : 100%|████████████████████████████████████| 14/14 [00:02<00:00,  6.61it/s, loss=0.118]\n",
      "Training  : 100%|███████████████████████████████████| 14/14 [00:02<00:00,  6.72it/s, loss=0.0994]\n",
      "Training  : 100%|███████████████████████████████████| 14/14 [00:02<00:00,  6.66it/s, loss=0.0973]\n",
      "Training  : 100%|███████████████████████████████████| 14/14 [00:02<00:00,  6.60it/s, loss=0.0985]\n",
      "Training  : 100%|███████████████████████████████████| 14/14 [00:02<00:00,  6.72it/s, loss=0.0841]\n",
      "Training  : 100%|████████████████████████████████████| 14/14 [00:02<00:00,  6.71it/s, loss=0.095]\n",
      "Training  : 100%|████████████████████████████████████| 14/14 [00:02<00:00,  6.69it/s, loss=0.101]\n",
      "Training  : 100%|███████████████████████████████████| 14/14 [00:02<00:00,  6.74it/s, loss=0.0802]\n",
      "Training  : 100%|███████████████████████████████████| 14/14 [00:02<00:00,  6.70it/s, loss=0.0745]\n",
      "Training  : 100%|████████████████████████████████████| 14/14 [00:02<00:00,  6.66it/s, loss=0.076]\n",
      "Training  : 100%|███████████████████████████████████| 14/14 [00:02<00:00,  6.68it/s, loss=0.0684]\n",
      "Training  : 100%|███████████████████████████████████| 14/14 [00:02<00:00,  6.72it/s, loss=0.0704]\n",
      "Training  : 100%|███████████████████████████████████| 14/14 [00:02<00:00,  6.62it/s, loss=0.0647]\n",
      "Training  : 100%|███████████████████████████████████| 14/14 [00:02<00:00,  6.75it/s, loss=0.0705]\n",
      "Training  : 100%|███████████████████████████████████| 14/14 [00:02<00:00,  6.66it/s, loss=0.0639]\n",
      "Training  : 100%|███████████████████████████████████| 14/14 [00:02<00:00,  6.69it/s, loss=0.0636]\n",
      "Training  : 100%|███████████████████████████████████| 14/14 [00:02<00:00,  6.68it/s, loss=0.0668]\n",
      "Training  : 100%|███████████████████████████████████| 14/14 [00:02<00:00,  6.71it/s, loss=0.0658]\n",
      "Training  : 100%|███████████████████████████████████| 14/14 [00:02<00:00,  6.67it/s, loss=0.0587]\n",
      "Training  : 100%|███████████████████████████████████| 14/14 [00:02<00:00,  6.71it/s, loss=0.0581]\n",
      "Training  : 100%|███████████████████████████████████| 14/14 [00:02<00:00,  6.62it/s, loss=0.0586]\n",
      "Training  : 100%|███████████████████████████████████| 14/14 [00:02<00:00,  6.71it/s, loss=0.0592]\n",
      "Training  : 100%|███████████████████████████████████| 14/14 [00:02<00:00,  6.68it/s, loss=0.0608]\n",
      "Training  : 100%|███████████████████████████████████| 14/14 [00:02<00:00,  6.71it/s, loss=0.0562]\n",
      "Training  : 100%|███████████████████████████████████| 14/14 [00:02<00:00,  6.65it/s, loss=0.0617]\n",
      "Training  : 100%|████████████████████████████████████| 14/14 [00:02<00:00,  6.70it/s, loss=0.068]\n",
      "Training  : 100%|████████████████████████████████████| 14/14 [00:02<00:00,  6.69it/s, loss=0.065]\n",
      "Training  : 100%|███████████████████████████████████| 14/14 [00:02<00:00,  6.65it/s, loss=0.0711]\n",
      "Training  : 100%|███████████████████████████████████| 14/14 [00:02<00:00,  6.67it/s, loss=0.0592]\n",
      "Training  : 100%|███████████████████████████████████| 14/14 [00:02<00:00,  6.62it/s, loss=0.0463]\n",
      "Training  : 100%|███████████████████████████████████| 14/14 [00:02<00:00,  6.71it/s, loss=0.0628]\n",
      "Training  : 100%|███████████████████████████████████| 14/14 [00:02<00:00,  6.70it/s, loss=0.0529]\n",
      "Training  : 100%|███████████████████████████████████| 14/14 [00:02<00:00,  6.75it/s, loss=0.0503]\n",
      "Training  : 100%|███████████████████████████████████| 14/14 [00:02<00:00,  6.66it/s, loss=0.0526]\n",
      "Training  : 100%|███████████████████████████████████| 14/14 [00:02<00:00,  6.69it/s, loss=0.0483]\n",
      "Training  : 100%|███████████████████████████████████| 14/14 [00:02<00:00,  6.63it/s, loss=0.0544]\n",
      "Training  : 100%|███████████████████████████████████| 14/14 [00:02<00:00,  6.69it/s, loss=0.0466]\n",
      "Training  : 100%|███████████████████████████████████| 14/14 [00:02<00:00,  6.62it/s, loss=0.0542]\n",
      "Training  : 100%|███████████████████████████████████| 14/14 [00:02<00:00,  6.69it/s, loss=0.0488]\n",
      "Training  : 100%|███████████████████████████████████| 14/14 [00:02<00:00,  6.65it/s, loss=0.0525]\n",
      "Training  : 100%|███████████████████████████████████| 14/14 [00:02<00:00,  6.71it/s, loss=0.0552]\n",
      "Training  : 100%|████████████████████████████████████| 14/14 [00:02<00:00,  6.66it/s, loss=0.051]\n",
      "Training  : 100%|████████████████████████████████████| 14/14 [00:02<00:00,  6.65it/s, loss=0.056]\n",
      "Training  : 100%|███████████████████████████████████| 14/14 [00:02<00:00,  6.69it/s, loss=0.0534]\n",
      "Training  : 100%|███████████████████████████████████| 14/14 [00:02<00:00,  6.64it/s, loss=0.0516]\n",
      "Training  : 100%|███████████████████████████████████| 14/14 [00:02<00:00,  6.64it/s, loss=0.0641]\n",
      "Training  : 100%|███████████████████████████████████| 14/14 [00:02<00:00,  6.71it/s, loss=0.0492]\n",
      "Training  : 100%|███████████████████████████████████| 14/14 [00:02<00:00,  6.63it/s, loss=0.0495]\n",
      "Training  : 100%|███████████████████████████████████| 14/14 [00:02<00:00,  6.69it/s, loss=0.0579]\n",
      "Training  : 100%|███████████████████████████████████| 14/14 [00:02<00:00,  6.69it/s, loss=0.0479]\n",
      "Training  : 100%|████████████████████████████████████| 14/14 [00:02<00:00,  6.76it/s, loss=0.052]\n",
      "Training  : 100%|███████████████████████████████████| 14/14 [00:02<00:00,  6.74it/s, loss=0.0488]\n",
      "Training  : 100%|████████████████████████████████████| 14/14 [00:02<00:00,  6.70it/s, loss=0.046]\n",
      "Training  : 100%|███████████████████████████████████| 14/14 [00:02<00:00,  6.71it/s, loss=0.0473]\n",
      "Training  : 100%|███████████████████████████████████| 14/14 [00:02<00:00,  6.74it/s, loss=0.0516]\n",
      "Training  : 100%|████████████████████████████████████| 14/14 [00:02<00:00,  6.70it/s, loss=0.048]\n",
      "Training  : 100%|███████████████████████████████████| 14/14 [00:02<00:00,  6.71it/s, loss=0.0503]\n",
      "Training  : 100%|███████████████████████████████████| 14/14 [00:02<00:00,  6.64it/s, loss=0.0574]\n",
      "Training  : 100%|███████████████████████████████████| 14/14 [00:02<00:00,  6.64it/s, loss=0.0501]\n",
      "Training  : 100%|███████████████████████████████████| 14/14 [00:02<00:00,  6.67it/s, loss=0.0474]\n",
      "Training  : 100%|███████████████████████████████████| 14/14 [00:02<00:00,  6.72it/s, loss=0.0524]\n",
      "Training  : 100%|███████████████████████████████████| 14/14 [00:02<00:00,  6.64it/s, loss=0.0475]\n",
      "Training  : 100%|███████████████████████████████████| 14/14 [00:02<00:00,  6.68it/s, loss=0.0494]\n",
      "Training  : 100%|███████████████████████████████████| 14/14 [00:02<00:00,  6.67it/s, loss=0.0578]\n",
      "Training  : 100%|███████████████████████████████████| 14/14 [00:02<00:00,  6.68it/s, loss=0.0472]\n",
      "Training  : 100%|███████████████████████████████████| 14/14 [00:02<00:00,  6.70it/s, loss=0.0484]\n",
      "Training  : 100%|███████████████████████████████████| 14/14 [00:02<00:00,  6.69it/s, loss=0.0473]\n",
      "Training  : 100%|███████████████████████████████████| 14/14 [00:02<00:00,  6.68it/s, loss=0.0498]\n",
      "Training  : 100%|███████████████████████████████████| 14/14 [00:02<00:00,  6.71it/s, loss=0.0488]\n",
      "Training  : 100%|███████████████████████████████████| 14/14 [00:02<00:00,  6.66it/s, loss=0.0471]\n",
      "Training  : 100%|███████████████████████████████████| 14/14 [00:02<00:00,  6.73it/s, loss=0.0507]\n",
      "Training  : 100%|███████████████████████████████████| 14/14 [00:02<00:00,  6.74it/s, loss=0.0509]\n",
      "Training  : 100%|████████████████████████████████████| 14/14 [00:02<00:00,  6.62it/s, loss=0.052]\n",
      "Training  : 100%|███████████████████████████████████| 14/14 [00:02<00:00,  6.66it/s, loss=0.0519]\n",
      "Training  : 100%|███████████████████████████████████| 14/14 [00:02<00:00,  6.70it/s, loss=0.0477]\n",
      "Training  : 100%|███████████████████████████████████| 14/14 [00:02<00:00,  6.71it/s, loss=0.0474]\n",
      "Training  : 100%|███████████████████████████████████| 14/14 [00:02<00:00,  6.68it/s, loss=0.0457]\n",
      "Training  : 100%|███████████████████████████████████| 14/14 [00:02<00:00,  6.70it/s, loss=0.0514]\n",
      "Training  : 100%|███████████████████████████████████| 14/14 [00:02<00:00,  6.75it/s, loss=0.0502]\n",
      "Training  : 100%|███████████████████████████████████| 14/14 [00:02<00:00,  6.64it/s, loss=0.0487]\n",
      "Training  : 100%|███████████████████████████████████| 14/14 [00:02<00:00,  6.67it/s, loss=0.0459]\n",
      "Training  : 100%|███████████████████████████████████| 14/14 [00:02<00:00,  6.69it/s, loss=0.0474]\n",
      "Training  : 100%|███████████████████████████████████| 14/14 [00:02<00:00,  6.73it/s, loss=0.0498]\n",
      "Training  : 100%|███████████████████████████████████| 14/14 [00:02<00:00,  6.73it/s, loss=0.0442]\n",
      "Training  : 100%|███████████████████████████████████| 14/14 [00:02<00:00,  6.67it/s, loss=0.0466]\n",
      "Training  : 100%|███████████████████████████████████| 14/14 [00:02<00:00,  6.68it/s, loss=0.0492]\n",
      "Training  : 100%|███████████████████████████████████| 14/14 [00:02<00:00,  6.65it/s, loss=0.0477]\n",
      "Training  : 100%|███████████████████████████████████| 14/14 [00:02<00:00,  6.67it/s, loss=0.0468]\n",
      "Training  : 100%|███████████████████████████████████| 14/14 [00:02<00:00,  6.69it/s, loss=0.0437]\n",
      "Training  : 100%|███████████████████████████████████| 14/14 [00:02<00:00,  6.67it/s, loss=0.0433]\n",
      "Training  : 100%|███████████████████████████████████| 14/14 [00:02<00:00,  6.69it/s, loss=0.0502]\n",
      "Training  : 100%|███████████████████████████████████| 14/14 [00:02<00:00,  6.65it/s, loss=0.0478]\n",
      "Training  : 100%|███████████████████████████████████| 14/14 [00:02<00:00,  6.75it/s, loss=0.0463]\n",
      "Training  : 100%|███████████████████████████████████| 14/14 [00:02<00:00,  6.67it/s, loss=0.0456]\n",
      "Predicting: 100%|████████████████████████████████████████████████| 27/27 [00:00<00:00, 55.17it/s]\n"
     ]
    },
    {
     "name": "stdout",
     "output_type": "stream",
     "text": [
      "Building sklearn text classifier...\n",
      "Loading bert-base-uncased model...\n",
      "Defaulting to linear classifier/regressor\n",
      "Loading Pytorch checkpoint\n",
      "train data size: 428, validation data size: 0\n"
     ]
    },
    {
     "name": "stderr",
     "output_type": "stream",
     "text": [
      "Training  : 100%|████████████████████████████████████| 14/14 [00:02<00:00,  6.52it/s, loss=0.588]\n",
      "Training  : 100%|████████████████████████████████████| 14/14 [00:02<00:00,  6.57it/s, loss=0.411]\n",
      "Training  : 100%|████████████████████████████████████| 14/14 [00:02<00:00,  6.69it/s, loss=0.264]\n",
      "Training  : 100%|████████████████████████████████████| 14/14 [00:02<00:00,  6.67it/s, loss=0.219]\n",
      "Training  : 100%|████████████████████████████████████| 14/14 [00:02<00:00,  6.72it/s, loss=0.158]\n",
      "Training  : 100%|████████████████████████████████████| 14/14 [00:02<00:00,  6.68it/s, loss=0.134]\n",
      "Training  : 100%|████████████████████████████████████| 14/14 [00:02<00:00,  6.61it/s, loss=0.121]\n",
      "Training  : 100%|████████████████████████████████████| 14/14 [00:02<00:00,  6.66it/s, loss=0.116]\n",
      "Training  : 100%|████████████████████████████████████| 14/14 [00:02<00:00,  6.61it/s, loss=0.105]\n",
      "Training  : 100%|███████████████████████████████████| 14/14 [00:02<00:00,  6.64it/s, loss=0.0947]\n",
      "Training  : 100%|███████████████████████████████████| 14/14 [00:02<00:00,  6.68it/s, loss=0.0814]\n",
      "Training  : 100%|████████████████████████████████████| 14/14 [00:02<00:00,  6.72it/s, loss=0.077]\n",
      "Training  : 100%|███████████████████████████████████| 14/14 [00:02<00:00,  6.70it/s, loss=0.0772]\n",
      "Training  : 100%|███████████████████████████████████| 14/14 [00:02<00:00,  6.66it/s, loss=0.0674]\n",
      "Training  : 100%|███████████████████████████████████| 14/14 [00:02<00:00,  6.68it/s, loss=0.0636]\n",
      "Training  : 100%|███████████████████████████████████| 14/14 [00:02<00:00,  6.57it/s, loss=0.0623]\n",
      "Training  : 100%|███████████████████████████████████| 14/14 [00:02<00:00,  6.62it/s, loss=0.0663]\n",
      "Training  : 100%|███████████████████████████████████| 14/14 [00:02<00:00,  6.68it/s, loss=0.0625]\n",
      "Training  : 100%|███████████████████████████████████| 14/14 [00:02<00:00,  6.63it/s, loss=0.0589]\n",
      "Training  : 100%|███████████████████████████████████| 14/14 [00:02<00:00,  6.70it/s, loss=0.0626]\n",
      "Training  : 100%|███████████████████████████████████| 14/14 [00:02<00:00,  6.67it/s, loss=0.0578]\n",
      "Training  : 100%|███████████████████████████████████| 14/14 [00:02<00:00,  6.67it/s, loss=0.0571]\n",
      "Training  : 100%|███████████████████████████████████| 14/14 [00:02<00:00,  6.69it/s, loss=0.0633]\n",
      "Training  : 100%|███████████████████████████████████| 14/14 [00:02<00:00,  6.68it/s, loss=0.0668]\n",
      "Training  : 100%|███████████████████████████████████| 14/14 [00:02<00:00,  6.68it/s, loss=0.0585]\n",
      "Training  : 100%|███████████████████████████████████| 14/14 [00:02<00:00,  6.63it/s, loss=0.0572]\n",
      "Training  : 100%|███████████████████████████████████| 14/14 [00:02<00:00,  6.73it/s, loss=0.0575]\n",
      "Training  : 100%|███████████████████████████████████| 14/14 [00:02<00:00,  6.70it/s, loss=0.0544]\n",
      "Training  : 100%|███████████████████████████████████| 14/14 [00:02<00:00,  6.67it/s, loss=0.0536]\n",
      "Training  : 100%|███████████████████████████████████| 14/14 [00:02<00:00,  6.72it/s, loss=0.0665]\n",
      "Training  : 100%|████████████████████████████████████| 14/14 [00:02<00:00,  6.69it/s, loss=0.055]\n",
      "Training  : 100%|███████████████████████████████████| 14/14 [00:02<00:00,  6.68it/s, loss=0.0659]\n",
      "Training  : 100%|████████████████████████████████████| 14/14 [00:02<00:00,  6.70it/s, loss=0.057]\n",
      "Training  : 100%|████████████████████████████████████| 14/14 [00:02<00:00,  6.59it/s, loss=0.063]\n",
      "Training  : 100%|███████████████████████████████████| 14/14 [00:02<00:00,  6.67it/s, loss=0.0565]\n",
      "Training  : 100%|███████████████████████████████████| 14/14 [00:02<00:00,  6.68it/s, loss=0.0523]\n",
      "Training  : 100%|███████████████████████████████████| 14/14 [00:02<00:00,  6.68it/s, loss=0.0741]\n",
      "Training  : 100%|███████████████████████████████████| 14/14 [00:02<00:00,  6.71it/s, loss=0.0572]\n",
      "Training  : 100%|███████████████████████████████████| 14/14 [00:02<00:00,  6.74it/s, loss=0.0501]\n",
      "Training  : 100%|███████████████████████████████████| 14/14 [00:02<00:00,  6.74it/s, loss=0.0485]\n",
      "Training  : 100%|███████████████████████████████████| 14/14 [00:02<00:00,  6.73it/s, loss=0.0505]\n",
      "Training  : 100%|███████████████████████████████████| 14/14 [00:02<00:00,  6.69it/s, loss=0.0512]\n",
      "Training  : 100%|███████████████████████████████████| 14/14 [00:02<00:00,  6.70it/s, loss=0.0511]\n",
      "Training  : 100%|███████████████████████████████████| 14/14 [00:02<00:00,  6.71it/s, loss=0.0504]\n",
      "Training  : 100%|███████████████████████████████████| 14/14 [00:02<00:00,  6.71it/s, loss=0.0518]\n",
      "Training  : 100%|███████████████████████████████████| 14/14 [00:02<00:00,  6.78it/s, loss=0.0526]\n",
      "Training  : 100%|███████████████████████████████████| 14/14 [00:02<00:00,  6.73it/s, loss=0.0506]\n",
      "Training  : 100%|███████████████████████████████████| 14/14 [00:02<00:00,  6.77it/s, loss=0.0505]\n",
      "Training  : 100%|███████████████████████████████████| 14/14 [00:02<00:00,  6.74it/s, loss=0.0519]\n",
      "Training  : 100%|███████████████████████████████████| 14/14 [00:02<00:00,  6.77it/s, loss=0.0613]\n",
      "Training  : 100%|███████████████████████████████████| 14/14 [00:02<00:00,  6.79it/s, loss=0.0538]\n",
      "Training  : 100%|███████████████████████████████████| 14/14 [00:02<00:00,  6.72it/s, loss=0.0535]\n",
      "Training  : 100%|████████████████████████████████████| 14/14 [00:02<00:00,  6.72it/s, loss=0.048]\n",
      "Training  : 100%|███████████████████████████████████| 14/14 [00:02<00:00,  6.76it/s, loss=0.0524]\n",
      "Training  : 100%|███████████████████████████████████| 14/14 [00:02<00:00,  6.77it/s, loss=0.0647]\n",
      "Training  : 100%|███████████████████████████████████| 14/14 [00:02<00:00,  6.70it/s, loss=0.0494]\n",
      "Training  : 100%|███████████████████████████████████| 14/14 [00:02<00:00,  6.65it/s, loss=0.0508]\n",
      "Training  : 100%|███████████████████████████████████| 14/14 [00:02<00:00,  6.67it/s, loss=0.0484]\n",
      "Training  : 100%|███████████████████████████████████| 14/14 [00:02<00:00,  6.72it/s, loss=0.0535]\n",
      "Training  : 100%|███████████████████████████████████| 14/14 [00:02<00:00,  6.68it/s, loss=0.0515]\n",
      "Training  : 100%|███████████████████████████████████| 14/14 [00:02<00:00,  6.60it/s, loss=0.0501]\n",
      "Training  : 100%|███████████████████████████████████| 14/14 [00:02<00:00,  6.22it/s, loss=0.0561]\n",
      "Training  : 100%|███████████████████████████████████| 14/14 [00:02<00:00,  6.38it/s, loss=0.0572]\n",
      "Training  : 100%|███████████████████████████████████| 14/14 [00:02<00:00,  6.73it/s, loss=0.0579]\n",
      "Training  : 100%|███████████████████████████████████| 14/14 [00:02<00:00,  6.72it/s, loss=0.0514]\n",
      "Training  : 100%|███████████████████████████████████| 14/14 [00:02<00:00,  6.73it/s, loss=0.0498]\n",
      "Training  : 100%|███████████████████████████████████| 14/14 [00:02<00:00,  6.72it/s, loss=0.0517]\n",
      "Training  : 100%|███████████████████████████████████| 14/14 [00:02<00:00,  6.64it/s, loss=0.0486]\n",
      "Training  : 100%|███████████████████████████████████| 14/14 [00:02<00:00,  6.72it/s, loss=0.0461]\n",
      "Training  : 100%|███████████████████████████████████| 14/14 [00:02<00:00,  6.73it/s, loss=0.0507]\n",
      "Training  : 100%|███████████████████████████████████| 14/14 [00:02<00:00,  6.67it/s, loss=0.0486]\n",
      "Training  : 100%|████████████████████████████████████| 14/14 [00:02<00:00,  6.69it/s, loss=0.051]\n",
      "Training  : 100%|███████████████████████████████████| 14/14 [00:02<00:00,  6.67it/s, loss=0.0504]\n",
      "Training  : 100%|███████████████████████████████████| 14/14 [00:02<00:00,  6.71it/s, loss=0.0489]\n",
      "Training  : 100%|███████████████████████████████████| 14/14 [00:02<00:00,  6.71it/s, loss=0.0498]\n",
      "Training  : 100%|███████████████████████████████████| 14/14 [00:02<00:00,  6.66it/s, loss=0.0485]\n",
      "Training  : 100%|███████████████████████████████████| 14/14 [00:02<00:00,  6.69it/s, loss=0.0547]\n",
      "Training  : 100%|███████████████████████████████████| 14/14 [00:02<00:00,  6.72it/s, loss=0.0486]\n",
      "Training  : 100%|███████████████████████████████████| 14/14 [00:02<00:00,  6.67it/s, loss=0.0488]\n",
      "Training  : 100%|███████████████████████████████████| 14/14 [00:02<00:00,  6.76it/s, loss=0.0607]\n",
      "Training  : 100%|███████████████████████████████████| 14/14 [00:02<00:00,  6.75it/s, loss=0.0497]\n",
      "Training  : 100%|███████████████████████████████████| 14/14 [00:02<00:00,  6.64it/s, loss=0.0495]\n",
      "Training  : 100%|█████████████████████████████████████| 14/14 [00:02<00:00,  6.70it/s, loss=0.05]\n",
      "Training  : 100%|███████████████████████████████████| 14/14 [00:02<00:00,  6.70it/s, loss=0.0467]\n",
      "Training  : 100%|███████████████████████████████████| 14/14 [00:02<00:00,  6.70it/s, loss=0.0494]\n",
      "Training  : 100%|███████████████████████████████████| 14/14 [00:02<00:00,  6.72it/s, loss=0.0522]\n",
      "Training  : 100%|█████████████████████████████████████| 14/14 [00:02<00:00,  6.71it/s, loss=0.05]\n",
      "Training  : 100%|███████████████████████████████████| 14/14 [00:02<00:00,  6.69it/s, loss=0.0496]\n",
      "Training  : 100%|███████████████████████████████████| 14/14 [00:02<00:00,  6.63it/s, loss=0.0516]\n",
      "Training  : 100%|███████████████████████████████████| 14/14 [00:02<00:00,  6.73it/s, loss=0.0463]\n",
      "Training  : 100%|████████████████████████████████████| 14/14 [00:02<00:00,  6.76it/s, loss=0.049]\n",
      "Training  : 100%|███████████████████████████████████| 14/14 [00:02<00:00,  6.77it/s, loss=0.0484]\n",
      "Training  : 100%|███████████████████████████████████| 14/14 [00:02<00:00,  6.71it/s, loss=0.0472]\n",
      "Training  : 100%|███████████████████████████████████| 14/14 [00:02<00:00,  6.64it/s, loss=0.0469]\n",
      "Training  : 100%|███████████████████████████████████| 14/14 [00:02<00:00,  6.78it/s, loss=0.0491]\n",
      "Training  : 100%|███████████████████████████████████| 14/14 [00:02<00:00,  6.79it/s, loss=0.0462]\n",
      "Training  : 100%|███████████████████████████████████| 14/14 [00:02<00:00,  6.68it/s, loss=0.0482]\n",
      "Training  : 100%|███████████████████████████████████| 14/14 [00:02<00:00,  6.72it/s, loss=0.0523]\n",
      "Training  : 100%|███████████████████████████████████| 14/14 [00:02<00:00,  6.81it/s, loss=0.0483]\n",
      "Training  : 100%|███████████████████████████████████| 14/14 [00:02<00:00,  6.71it/s, loss=0.0534]\n",
      "Predicting: 100%|████████████████████████████████████████████████| 27/27 [00:00<00:00, 53.10it/s]\n"
     ]
    },
    {
     "name": "stdout",
     "output_type": "stream",
     "text": [
      "Building sklearn text classifier...\n",
      "Loading bert-base-uncased model...\n",
      "Defaulting to linear classifier/regressor\n",
      "Loading Pytorch checkpoint\n",
      "train data size: 428, validation data size: 0\n"
     ]
    },
    {
     "name": "stderr",
     "output_type": "stream",
     "text": [
      "Training  : 100%|████████████████████████████████████| 14/14 [00:02<00:00,  6.59it/s, loss=0.603]\n",
      "Training  : 100%|████████████████████████████████████| 14/14 [00:02<00:00,  6.59it/s, loss=0.412]\n",
      "Training  : 100%|████████████████████████████████████| 14/14 [00:02<00:00,  6.65it/s, loss=0.256]\n",
      "Training  : 100%|████████████████████████████████████| 14/14 [00:02<00:00,  6.71it/s, loss=0.192]\n",
      "Training  : 100%|████████████████████████████████████| 14/14 [00:02<00:00,  6.74it/s, loss=0.124]\n",
      "Training  : 100%|████████████████████████████████████| 14/14 [00:02<00:00,  6.64it/s, loss=0.116]\n",
      "Training  : 100%|████████████████████████████████████| 14/14 [00:02<00:00,  6.66it/s, loss=0.101]\n",
      "Training  : 100%|███████████████████████████████████| 14/14 [00:02<00:00,  6.66it/s, loss=0.0837]\n",
      "Training  : 100%|███████████████████████████████████| 14/14 [00:02<00:00,  6.68it/s, loss=0.0903]\n",
      "Training  : 100%|███████████████████████████████████| 14/14 [00:02<00:00,  6.64it/s, loss=0.0706]\n",
      "Training  : 100%|███████████████████████████████████| 14/14 [00:02<00:00,  6.64it/s, loss=0.0718]\n",
      "Training  : 100%|███████████████████████████████████| 14/14 [00:02<00:00,  6.65it/s, loss=0.0653]\n",
      "Training  : 100%|███████████████████████████████████| 14/14 [00:02<00:00,  6.64it/s, loss=0.0669]\n",
      "Training  : 100%|███████████████████████████████████| 14/14 [00:02<00:00,  6.71it/s, loss=0.0666]\n",
      "Training  : 100%|███████████████████████████████████| 14/14 [00:02<00:00,  6.62it/s, loss=0.0662]\n",
      "Training  : 100%|███████████████████████████████████| 14/14 [00:02<00:00,  6.71it/s, loss=0.0817]\n",
      "Training  : 100%|███████████████████████████████████| 14/14 [00:02<00:00,  6.69it/s, loss=0.0793]\n",
      "Training  : 100%|███████████████████████████████████| 14/14 [00:02<00:00,  6.69it/s, loss=0.0637]\n",
      "Training  : 100%|███████████████████████████████████| 14/14 [00:02<00:00,  6.62it/s, loss=0.0582]\n",
      "Training  : 100%|███████████████████████████████████| 14/14 [00:02<00:00,  6.65it/s, loss=0.0604]\n",
      "Training  : 100%|███████████████████████████████████| 14/14 [00:02<00:00,  6.62it/s, loss=0.0539]\n",
      "Training  : 100%|███████████████████████████████████| 14/14 [00:02<00:00,  6.68it/s, loss=0.0553]\n",
      "Training  : 100%|███████████████████████████████████| 14/14 [00:02<00:00,  6.64it/s, loss=0.0493]\n",
      "Training  : 100%|███████████████████████████████████| 14/14 [00:02<00:00,  6.69it/s, loss=0.0531]\n",
      "Training  : 100%|███████████████████████████████████| 14/14 [00:02<00:00,  6.59it/s, loss=0.0494]\n",
      "Training  : 100%|███████████████████████████████████| 14/14 [00:02<00:00,  6.61it/s, loss=0.0525]\n",
      "Training  : 100%|███████████████████████████████████| 14/14 [00:02<00:00,  6.67it/s, loss=0.0477]\n",
      "Training  : 100%|███████████████████████████████████| 14/14 [00:02<00:00,  6.62it/s, loss=0.0518]\n",
      "Training  : 100%|███████████████████████████████████| 14/14 [00:02<00:00,  6.69it/s, loss=0.0452]\n",
      "Training  : 100%|███████████████████████████████████| 14/14 [00:02<00:00,  6.71it/s, loss=0.0569]\n",
      "Training  : 100%|███████████████████████████████████| 14/14 [00:02<00:00,  6.68it/s, loss=0.0562]\n",
      "Training  : 100%|███████████████████████████████████| 14/14 [00:02<00:00,  6.64it/s, loss=0.0449]\n",
      "Training  : 100%|███████████████████████████████████| 14/14 [00:02<00:00,  6.61it/s, loss=0.0493]\n",
      "Training  : 100%|███████████████████████████████████| 14/14 [00:02<00:00,  6.64it/s, loss=0.0424]\n",
      "Training  : 100%|███████████████████████████████████| 14/14 [00:02<00:00,  6.67it/s, loss=0.0421]\n",
      "Training  : 100%|███████████████████████████████████| 14/14 [00:02<00:00,  6.70it/s, loss=0.0483]\n",
      "Training  : 100%|███████████████████████████████████| 14/14 [00:02<00:00,  6.65it/s, loss=0.0468]\n",
      "Training  : 100%|███████████████████████████████████| 14/14 [00:02<00:00,  6.62it/s, loss=0.0434]\n",
      "Training  : 100%|███████████████████████████████████| 14/14 [00:02<00:00,  6.70it/s, loss=0.0414]\n",
      "Training  : 100%|███████████████████████████████████| 14/14 [00:02<00:00,  6.72it/s, loss=0.0403]\n",
      "Training  : 100%|███████████████████████████████████| 14/14 [00:02<00:00,  6.64it/s, loss=0.0449]\n",
      "Training  : 100%|███████████████████████████████████| 14/14 [00:02<00:00,  6.65it/s, loss=0.0409]\n",
      "Training  : 100%|███████████████████████████████████| 14/14 [00:02<00:00,  6.71it/s, loss=0.0513]\n",
      "Training  : 100%|███████████████████████████████████| 14/14 [00:02<00:00,  6.69it/s, loss=0.0412]\n",
      "Training  : 100%|████████████████████████████████████| 14/14 [00:02<00:00,  6.64it/s, loss=0.042]\n",
      "Training  : 100%|███████████████████████████████████| 14/14 [00:02<00:00,  6.65it/s, loss=0.0463]\n",
      "Training  : 100%|███████████████████████████████████| 14/14 [00:02<00:00,  6.65it/s, loss=0.0453]\n",
      "Training  : 100%|███████████████████████████████████| 14/14 [00:02<00:00,  6.63it/s, loss=0.0443]\n",
      "Training  : 100%|███████████████████████████████████| 14/14 [00:02<00:00,  6.71it/s, loss=0.0433]\n",
      "Training  : 100%|███████████████████████████████████| 14/14 [00:02<00:00,  6.63it/s, loss=0.0422]\n",
      "Training  : 100%|███████████████████████████████████| 14/14 [00:02<00:00,  6.63it/s, loss=0.0443]\n",
      "Training  : 100%|███████████████████████████████████| 14/14 [00:02<00:00,  6.66it/s, loss=0.0395]\n",
      "Training  : 100%|███████████████████████████████████| 14/14 [00:02<00:00,  6.60it/s, loss=0.0381]\n",
      "Training  : 100%|███████████████████████████████████| 14/14 [00:02<00:00,  6.63it/s, loss=0.0419]\n",
      "Training  : 100%|███████████████████████████████████| 14/14 [00:02<00:00,  6.63it/s, loss=0.0424]\n",
      "Training  : 100%|███████████████████████████████████| 14/14 [00:02<00:00,  6.65it/s, loss=0.0429]\n",
      "Training  : 100%|███████████████████████████████████| 14/14 [00:02<00:00,  6.70it/s, loss=0.0391]\n",
      "Training  : 100%|███████████████████████████████████| 14/14 [00:02<00:00,  6.71it/s, loss=0.0435]\n",
      "Training  : 100%|███████████████████████████████████| 14/14 [00:02<00:00,  6.71it/s, loss=0.0452]\n",
      "Training  : 100%|███████████████████████████████████| 14/14 [00:02<00:00,  6.70it/s, loss=0.0402]\n",
      "Training  : 100%|███████████████████████████████████| 14/14 [00:02<00:00,  6.67it/s, loss=0.0409]\n",
      "Training  : 100%|███████████████████████████████████| 14/14 [00:02<00:00,  6.59it/s, loss=0.0453]\n",
      "Training  : 100%|███████████████████████████████████| 14/14 [00:02<00:00,  6.65it/s, loss=0.0425]\n",
      "Training  : 100%|███████████████████████████████████| 14/14 [00:02<00:00,  6.67it/s, loss=0.0444]\n",
      "Training  : 100%|███████████████████████████████████| 14/14 [00:02<00:00,  6.71it/s, loss=0.0459]\n",
      "Training  : 100%|███████████████████████████████████| 14/14 [00:02<00:00,  6.65it/s, loss=0.0409]\n",
      "Training  : 100%|█████████████████████████████████████| 14/14 [00:02<00:00,  6.63it/s, loss=0.04]\n",
      "Training  : 100%|███████████████████████████████████| 14/14 [00:02<00:00,  6.67it/s, loss=0.0397]\n",
      "Training  : 100%|███████████████████████████████████| 14/14 [00:02<00:00,  6.63it/s, loss=0.0399]\n",
      "Training  : 100%|███████████████████████████████████| 14/14 [00:02<00:00,  6.62it/s, loss=0.0389]\n",
      "Training  : 100%|███████████████████████████████████| 14/14 [00:02<00:00,  6.63it/s, loss=0.0416]\n",
      "Training  : 100%|███████████████████████████████████| 14/14 [00:02<00:00,  6.69it/s, loss=0.0406]\n",
      "Training  : 100%|███████████████████████████████████| 14/14 [00:02<00:00,  6.67it/s, loss=0.0447]\n",
      "Training  : 100%|████████████████████████████████████| 14/14 [00:02<00:00,  6.55it/s, loss=0.044]\n",
      "Training  : 100%|███████████████████████████████████| 14/14 [00:02<00:00,  6.56it/s, loss=0.0402]\n",
      "Training  : 100%|███████████████████████████████████| 14/14 [00:02<00:00,  6.67it/s, loss=0.0416]\n",
      "Training  : 100%|███████████████████████████████████| 14/14 [00:02<00:00,  6.71it/s, loss=0.0482]\n",
      "Training  : 100%|███████████████████████████████████| 14/14 [00:02<00:00,  6.67it/s, loss=0.0414]\n",
      "Training  : 100%|███████████████████████████████████| 14/14 [00:02<00:00,  6.65it/s, loss=0.0412]\n",
      "Training  : 100%|███████████████████████████████████| 14/14 [00:02<00:00,  6.59it/s, loss=0.0483]\n",
      "Training  : 100%|███████████████████████████████████| 14/14 [00:02<00:00,  6.66it/s, loss=0.0428]\n",
      "Training  : 100%|███████████████████████████████████| 14/14 [00:02<00:00,  6.74it/s, loss=0.0447]\n",
      "Training  : 100%|███████████████████████████████████| 14/14 [00:02<00:00,  6.70it/s, loss=0.0448]\n",
      "Training  : 100%|███████████████████████████████████| 14/14 [00:02<00:00,  6.60it/s, loss=0.0395]\n",
      "Training  : 100%|███████████████████████████████████| 14/14 [00:02<00:00,  6.69it/s, loss=0.0406]\n",
      "Training  : 100%|███████████████████████████████████| 14/14 [00:02<00:00,  6.65it/s, loss=0.0514]\n",
      "Training  : 100%|███████████████████████████████████| 14/14 [00:02<00:00,  6.64it/s, loss=0.0398]\n",
      "Training  : 100%|███████████████████████████████████| 14/14 [00:02<00:00,  6.63it/s, loss=0.0406]\n",
      "Training  : 100%|███████████████████████████████████| 14/14 [00:02<00:00,  6.71it/s, loss=0.0415]\n",
      "Training  : 100%|███████████████████████████████████| 14/14 [00:02<00:00,  6.66it/s, loss=0.0452]\n",
      "Training  : 100%|███████████████████████████████████| 14/14 [00:02<00:00,  6.64it/s, loss=0.0405]\n",
      "Training  : 100%|███████████████████████████████████| 14/14 [00:02<00:00,  6.66it/s, loss=0.0389]\n",
      "Training  : 100%|███████████████████████████████████| 14/14 [00:02<00:00,  6.67it/s, loss=0.0385]\n",
      "Training  : 100%|███████████████████████████████████| 14/14 [00:02<00:00,  6.68it/s, loss=0.0383]\n",
      "Training  : 100%|████████████████████████████████████| 14/14 [00:02<00:00,  6.62it/s, loss=0.039]\n",
      "Training  : 100%|███████████████████████████████████| 14/14 [00:02<00:00,  6.71it/s, loss=0.0393]\n",
      "Training  : 100%|███████████████████████████████████| 14/14 [00:02<00:00,  6.62it/s, loss=0.0385]\n",
      "Training  : 100%|███████████████████████████████████| 14/14 [00:02<00:00,  6.71it/s, loss=0.0495]\n",
      "Training  : 100%|███████████████████████████████████| 14/14 [00:02<00:00,  6.70it/s, loss=0.0403]\n",
      "Training  : 100%|███████████████████████████████████| 14/14 [00:02<00:00,  6.65it/s, loss=0.0534]\n",
      "Predicting: 100%|████████████████████████████████████████████████| 27/27 [00:00<00:00, 51.04it/s]\n"
     ]
    },
    {
     "name": "stdout",
     "output_type": "stream",
     "text": [
      "Building sklearn text classifier...\n",
      "Building sklearn text classifier...\n",
      "Loading bert-base-uncased model...\n",
      "Defaulting to linear classifier/regressor\n",
      "Loading Pytorch checkpoint\n",
      "train data size: 642, validation data size: 0\n"
     ]
    },
    {
     "name": "stderr",
     "output_type": "stream",
     "text": [
      "Training  : 100%|████████████████████████████████████| 21/21 [00:03<00:00,  6.93it/s, loss=0.572]\n",
      "Training  : 100%|████████████████████████████████████| 21/21 [00:03<00:00,  6.99it/s, loss=0.309]\n",
      "Training  : 100%|████████████████████████████████████| 21/21 [00:03<00:00,  6.94it/s, loss=0.224]\n",
      "Training  : 100%|████████████████████████████████████| 21/21 [00:03<00:00,  6.95it/s, loss=0.211]\n",
      "Training  : 100%|████████████████████████████████████| 21/21 [00:03<00:00,  6.93it/s, loss=0.124]\n",
      "Training  : 100%|████████████████████████████████████| 21/21 [00:03<00:00,  6.95it/s, loss=0.106]\n",
      "Training  : 100%|████████████████████████████████████| 21/21 [00:03<00:00,  6.95it/s, loss=0.103]\n",
      "Training  : 100%|███████████████████████████████████| 21/21 [00:03<00:00,  6.98it/s, loss=0.0957]\n",
      "Training  : 100%|███████████████████████████████████| 21/21 [00:03<00:00,  6.91it/s, loss=0.0994]\n",
      "Training  : 100%|████████████████████████████████████| 21/21 [00:03<00:00,  6.93it/s, loss=0.092]\n",
      "Training  : 100%|████████████████████████████████████| 21/21 [00:03<00:00,  6.95it/s, loss=0.084]\n",
      "Training  : 100%|███████████████████████████████████| 21/21 [00:03<00:00,  6.74it/s, loss=0.0792]\n",
      "Training  : 100%|███████████████████████████████████| 21/21 [00:03<00:00,  6.85it/s, loss=0.0745]\n",
      "Training  : 100%|███████████████████████████████████| 21/21 [00:03<00:00,  6.96it/s, loss=0.0717]\n",
      "Training  : 100%|███████████████████████████████████| 21/21 [00:03<00:00,  6.96it/s, loss=0.0835]\n",
      "Training  : 100%|███████████████████████████████████| 21/21 [00:03<00:00,  6.97it/s, loss=0.0899]\n",
      "Training  : 100%|███████████████████████████████████| 21/21 [00:03<00:00,  6.95it/s, loss=0.0698]\n",
      "Training  : 100%|███████████████████████████████████| 21/21 [00:03<00:00,  6.96it/s, loss=0.0648]\n",
      "Training  : 100%|███████████████████████████████████| 21/21 [00:03<00:00,  6.96it/s, loss=0.0643]\n",
      "Training  : 100%|███████████████████████████████████| 21/21 [00:03<00:00,  6.95it/s, loss=0.0664]\n",
      "Training  : 100%|███████████████████████████████████| 21/21 [00:03<00:00,  6.97it/s, loss=0.0633]\n",
      "Training  : 100%|███████████████████████████████████| 21/21 [00:03<00:00,  6.89it/s, loss=0.0599]\n",
      "Training  : 100%|███████████████████████████████████| 21/21 [00:03<00:00,  6.94it/s, loss=0.0915]\n",
      "Training  : 100%|███████████████████████████████████| 21/21 [00:03<00:00,  6.96it/s, loss=0.0858]\n",
      "Training  : 100%|███████████████████████████████████| 21/21 [00:03<00:00,  6.93it/s, loss=0.0597]\n",
      "Training  : 100%|███████████████████████████████████| 21/21 [00:03<00:00,  6.94it/s, loss=0.0597]\n",
      "Training  : 100%|███████████████████████████████████| 21/21 [00:03<00:00,  6.92it/s, loss=0.0594]\n",
      "Training  : 100%|███████████████████████████████████| 21/21 [00:03<00:00,  6.96it/s, loss=0.0547]\n",
      "Training  : 100%|███████████████████████████████████| 21/21 [00:03<00:00,  6.94it/s, loss=0.0575]\n",
      "Training  : 100%|███████████████████████████████████| 21/21 [00:03<00:00,  6.94it/s, loss=0.0598]\n",
      "Training  : 100%|███████████████████████████████████| 21/21 [00:03<00:00,  6.86it/s, loss=0.0572]\n",
      "Training  : 100%|███████████████████████████████████| 21/21 [00:03<00:00,  6.90it/s, loss=0.0556]\n",
      "Training  : 100%|███████████████████████████████████| 21/21 [00:03<00:00,  6.93it/s, loss=0.0593]\n",
      "Training  : 100%|███████████████████████████████████| 21/21 [00:03<00:00,  6.95it/s, loss=0.0568]\n",
      "Training  : 100%|████████████████████████████████████| 21/21 [00:03<00:00,  6.96it/s, loss=0.168]\n",
      "Training  : 100%|███████████████████████████████████| 21/21 [00:03<00:00,  6.96it/s, loss=0.0591]\n",
      "Training  : 100%|███████████████████████████████████| 21/21 [00:03<00:00,  6.93it/s, loss=0.0569]\n",
      "Training  : 100%|███████████████████████████████████| 21/21 [00:03<00:00,  6.89it/s, loss=0.0572]\n",
      "Training  : 100%|███████████████████████████████████| 21/21 [00:03<00:00,  6.96it/s, loss=0.0537]\n",
      "Training  : 100%|███████████████████████████████████| 21/21 [00:03<00:00,  6.96it/s, loss=0.0549]\n",
      "Training  : 100%|███████████████████████████████████| 21/21 [00:03<00:00,  6.72it/s, loss=0.0817]\n",
      "Training  : 100%|███████████████████████████████████| 21/21 [00:03<00:00,  6.80it/s, loss=0.0684]\n",
      "Training  : 100%|███████████████████████████████████| 21/21 [00:03<00:00,  6.91it/s, loss=0.0551]\n",
      "Training  : 100%|███████████████████████████████████| 21/21 [00:03<00:00,  6.92it/s, loss=0.0545]\n",
      "Training  : 100%|███████████████████████████████████| 21/21 [00:03<00:00,  6.95it/s, loss=0.0683]\n",
      "Training  : 100%|███████████████████████████████████| 21/21 [00:03<00:00,  6.95it/s, loss=0.0521]\n",
      "Training  : 100%|███████████████████████████████████| 21/21 [00:03<00:00,  6.97it/s, loss=0.0544]\n",
      "Training  : 100%|███████████████████████████████████| 21/21 [00:03<00:00,  6.95it/s, loss=0.0513]\n",
      "Training  : 100%|███████████████████████████████████| 21/21 [00:03<00:00,  6.92it/s, loss=0.0518]\n",
      "Training  : 100%|███████████████████████████████████| 21/21 [00:03<00:00,  6.90it/s, loss=0.0523]\n",
      "Training  : 100%|████████████████████████████████████| 21/21 [00:03<00:00,  6.90it/s, loss=0.052]\n",
      "Training  : 100%|███████████████████████████████████| 21/21 [00:03<00:00,  6.96it/s, loss=0.0525]\n",
      "Training  : 100%|███████████████████████████████████| 21/21 [00:03<00:00,  6.95it/s, loss=0.0523]\n",
      "Training  : 100%|███████████████████████████████████| 21/21 [00:03<00:00,  6.92it/s, loss=0.0545]\n",
      "Training  : 100%|███████████████████████████████████| 21/21 [00:03<00:00,  6.98it/s, loss=0.0532]\n",
      "Training  : 100%|███████████████████████████████████| 21/21 [00:03<00:00,  6.95it/s, loss=0.0518]\n",
      "Training  : 100%|███████████████████████████████████| 21/21 [00:03<00:00,  6.97it/s, loss=0.0526]\n",
      "Training  : 100%|███████████████████████████████████| 21/21 [00:03<00:00,  6.94it/s, loss=0.0516]\n",
      "Training  : 100%|███████████████████████████████████| 21/21 [00:03<00:00,  6.96it/s, loss=0.0536]\n",
      "Training  : 100%|███████████████████████████████████| 21/21 [00:03<00:00,  6.90it/s, loss=0.0533]\n",
      "Training  : 100%|███████████████████████████████████| 21/21 [00:03<00:00,  6.91it/s, loss=0.0523]\n",
      "Training  : 100%|███████████████████████████████████| 21/21 [00:03<00:00,  6.94it/s, loss=0.0519]\n",
      "Training  : 100%|███████████████████████████████████| 21/21 [00:03<00:00,  6.89it/s, loss=0.0702]\n",
      "Training  : 100%|███████████████████████████████████| 21/21 [00:03<00:00,  6.90it/s, loss=0.0527]\n",
      "Training  : 100%|████████████████████████████████████| 21/21 [00:03<00:00,  6.95it/s, loss=0.051]\n",
      "Training  : 100%|███████████████████████████████████| 21/21 [00:03<00:00,  6.90it/s, loss=0.0522]\n",
      "Training  : 100%|███████████████████████████████████| 21/21 [00:03<00:00,  6.74it/s, loss=0.0517]\n",
      "Training  : 100%|███████████████████████████████████| 21/21 [00:03<00:00,  6.64it/s, loss=0.0495]\n",
      "Training  : 100%|███████████████████████████████████| 21/21 [00:03<00:00,  6.95it/s, loss=0.0527]\n",
      "Training  : 100%|███████████████████████████████████| 21/21 [00:03<00:00,  6.94it/s, loss=0.0506]\n",
      "Training  : 100%|███████████████████████████████████| 21/21 [00:03<00:00,  6.97it/s, loss=0.0606]\n",
      "Training  : 100%|███████████████████████████████████| 21/21 [00:03<00:00,  6.99it/s, loss=0.0519]\n",
      "Training  : 100%|███████████████████████████████████| 21/21 [00:03<00:00,  6.97it/s, loss=0.0524]\n",
      "Training  : 100%|███████████████████████████████████| 21/21 [00:03<00:00,  6.92it/s, loss=0.0524]\n",
      "Training  : 100%|███████████████████████████████████| 21/21 [00:03<00:00,  6.92it/s, loss=0.0534]\n"
     ]
    },
    {
     "data": {
      "text/plain": [
       "GridSearchCV(cv=3,\n",
       "             estimator=BertClassifier(max_seq_length=64, validation_fraction=0),\n",
       "             param_grid={'epochs': [50, 75, 100],\n",
       "                         'learning_rate': [2e-05, 3e-05, 1e-05]},\n",
       "             scoring='accuracy', verbose=True)"
      ]
     },
     "execution_count": 35,
     "metadata": {},
     "output_type": "execute_result"
    }
   ],
   "source": [
    "# %%time\n",
    "# from bert import run_classifier\n",
    "params = {'epochs':[50, 75, 100], 'learning_rate':[2e-5, 3e-5, 1e-5]}\n",
    "\n",
    "# wrap classifier/regressor in GridSearchCV\n",
    "clf_bert = GridSearchCV(BertClassifier(validation_fraction=0, max_seq_length=64), \n",
    "                   params,\n",
    "                   cv=3,\n",
    "                   scoring='accuracy',\n",
    "                   verbose=True)\n",
    "\n",
    "# fit gridsearch \n",
    "clf_bert.fit(X_train ,y_train)"
   ]
  },
  {
   "cell_type": "code",
   "execution_count": 36,
   "metadata": {},
   "outputs": [
    {
     "name": "stdout",
     "output_type": "stream",
     "text": [
      "0.950 (+/-0.004) for {'epochs': 50, 'learning_rate': 2e-05}\n",
      "0.955 (+/-0.012) for {'epochs': 50, 'learning_rate': 3e-05}\n",
      "0.952 (+/-0.009) for {'epochs': 50, 'learning_rate': 1e-05}\n",
      "0.952 (+/-0.009) for {'epochs': 75, 'learning_rate': 2e-05}\n",
      "0.952 (+/-0.009) for {'epochs': 75, 'learning_rate': 3e-05}\n",
      "0.955 (+/-0.009) for {'epochs': 75, 'learning_rate': 1e-05}\n",
      "0.955 (+/-0.009) for {'epochs': 100, 'learning_rate': 2e-05}\n",
      "0.949 (+/-0.000) for {'epochs': 100, 'learning_rate': 3e-05}\n",
      "0.955 (+/-0.009) for {'epochs': 100, 'learning_rate': 1e-05}\n",
      "\n",
      "Best score: 0.9548286604361372 with params: {'epochs': 75, 'learning_rate': 1e-05}\n"
     ]
    }
   ],
   "source": [
    "means = clf_bert.cv_results_['mean_test_score']\n",
    "stds = clf_bert.cv_results_['std_test_score']\n",
    "\n",
    "for mean, std, params in zip(means, stds, clf_bert.cv_results_['params']):\n",
    "        print(\"%0.3f (+/-%0.03f) for %r\"\n",
    "              % (mean, std * 2, params))\n",
    "        \n",
    "# best scores\n",
    "print(\"\\nBest score:\", clf_bert.best_score_,\"with params:\", clf_bert.best_params_)"
   ]
  },
  {
   "cell_type": "code",
   "execution_count": 37,
   "metadata": {},
   "outputs": [
    {
     "data": {
      "text/plain": [
       "'NVIDIA GeForce RTX 3090'"
      ]
     },
     "execution_count": 37,
     "metadata": {},
     "output_type": "execute_result"
    }
   ],
   "source": [
    "# CUDA device (GPU)\n",
    "device = torch.device(\"cuda\" if torch.cuda.is_available() else \"cpu\")\n",
    "n_gpu = torch.cuda.device_count()\n",
    "torch.cuda.get_device_name(0)\n",
    "# Print state of GPU\n",
    "# !nvidia-smi"
   ]
  },
  {
   "cell_type": "code",
   "execution_count": 38,
   "metadata": {},
   "outputs": [],
   "source": [
    "#define a batch size\n",
    "batch_size = 5\n",
    "epochs = 75\n",
    "learning_rate = 1e-5"
   ]
  },
  {
   "cell_type": "code",
   "execution_count": 39,
   "metadata": {},
   "outputs": [],
   "source": [
    "categories = {'control': 0, 'case': 1}\n",
    "# initialise the model use pretrained bert_2 instance and the label numbers\n",
    "model = BERT_Text_Classifier(bert, class_num=len(categories))\n",
    "\n",
    "# push the model to GPU\n",
    "model = model.to(device)\n",
    "\n",
    "# define the optimizer\n",
    "# optimizer = AdamW(model.parameters(),\n",
    "#                   lr = learning_rate)\n",
    "optimizer = optim.SGD(model.parameters(), lr=learning_rate)\n",
    "\n",
    "cross_entropy  = nn.NLLLoss() "
   ]
  },
  {
   "cell_type": "code",
   "execution_count": 40,
   "metadata": {},
   "outputs": [
    {
     "name": "stdout",
     "output_type": "stream",
     "text": [
      "\n",
      " Epoch 1 / 75\n"
     ]
    },
    {
     "name": "stderr",
     "output_type": "stream",
     "text": [
      "100%|██████████████████████████████████████████████████████████| 129/129 [00:03<00:00, 38.45it/s]"
     ]
    },
    {
     "name": "stdout",
     "output_type": "stream",
     "text": [
      "evaluating...\n"
     ]
    },
    {
     "name": "stderr",
     "output_type": "stream",
     "text": [
      "\n",
      "100%|███████████████████████████████████████████████████████████| 43/43 [00:00<00:00, 158.18it/s]"
     ]
    },
    {
     "name": "stdout",
     "output_type": "stream",
     "text": [
      "\n",
      "Training Loss: 0.933 dev performance, p:0.041, r:0.091, f1:0.057\n",
      "current best score is 0.057\n",
      "\n",
      " Epoch 2 / 75\n"
     ]
    },
    {
     "name": "stderr",
     "output_type": "stream",
     "text": [
      "\n",
      "100%|██████████████████████████████████████████████████████████| 129/129 [00:03<00:00, 38.77it/s]"
     ]
    },
    {
     "name": "stdout",
     "output_type": "stream",
     "text": [
      "evaluating...\n"
     ]
    },
    {
     "name": "stderr",
     "output_type": "stream",
     "text": [
      "\n",
      "100%|███████████████████████████████████████████████████████████| 43/43 [00:00<00:00, 157.69it/s]"
     ]
    },
    {
     "name": "stdout",
     "output_type": "stream",
     "text": [
      "\n",
      "Training Loss: 0.923 dev performance, p:0.022, r:0.045, f1:0.029\n",
      "\n",
      " Epoch 3 / 75\n"
     ]
    },
    {
     "name": "stderr",
     "output_type": "stream",
     "text": [
      "\n",
      "100%|██████████████████████████████████████████████████████████| 129/129 [00:03<00:00, 38.69it/s]"
     ]
    },
    {
     "name": "stdout",
     "output_type": "stream",
     "text": [
      "evaluating...\n"
     ]
    },
    {
     "name": "stderr",
     "output_type": "stream",
     "text": [
      "\n",
      "100%|███████████████████████████████████████████████████████████| 43/43 [00:00<00:00, 159.62it/s]"
     ]
    },
    {
     "name": "stdout",
     "output_type": "stream",
     "text": [
      "\n",
      "Training Loss: 0.913 dev performance, p:0.049, r:0.106, f1:0.067\n",
      "current best score is 0.067\n",
      "\n",
      " Epoch 4 / 75\n"
     ]
    },
    {
     "name": "stderr",
     "output_type": "stream",
     "text": [
      "\n",
      "100%|██████████████████████████████████████████████████████████| 129/129 [00:03<00:00, 38.75it/s]"
     ]
    },
    {
     "name": "stdout",
     "output_type": "stream",
     "text": [
      "evaluating...\n"
     ]
    },
    {
     "name": "stderr",
     "output_type": "stream",
     "text": [
      "\n",
      "100%|███████████████████████████████████████████████████████████| 43/43 [00:00<00:00, 158.46it/s]"
     ]
    },
    {
     "name": "stdout",
     "output_type": "stream",
     "text": [
      "\n",
      "Training Loss: 0.901 dev performance, p:0.035, r:0.076, f1:0.048\n",
      "\n",
      " Epoch 5 / 75\n"
     ]
    },
    {
     "name": "stderr",
     "output_type": "stream",
     "text": [
      "\n",
      "100%|██████████████████████████████████████████████████████████| 129/129 [00:03<00:00, 38.74it/s]"
     ]
    },
    {
     "name": "stdout",
     "output_type": "stream",
     "text": [
      "evaluating...\n"
     ]
    },
    {
     "name": "stderr",
     "output_type": "stream",
     "text": [
      "\n",
      "100%|███████████████████████████████████████████████████████████| 43/43 [00:00<00:00, 159.98it/s]"
     ]
    },
    {
     "name": "stdout",
     "output_type": "stream",
     "text": [
      "\n",
      "Training Loss: 0.896 dev performance, p:0.022, r:0.045, f1:0.029\n",
      "\n",
      " Epoch 6 / 75\n"
     ]
    },
    {
     "name": "stderr",
     "output_type": "stream",
     "text": [
      "\n",
      "100%|██████████████████████████████████████████████████████████| 129/129 [00:03<00:00, 38.73it/s]"
     ]
    },
    {
     "name": "stdout",
     "output_type": "stream",
     "text": [
      "evaluating...\n"
     ]
    },
    {
     "name": "stderr",
     "output_type": "stream",
     "text": [
      "\n",
      "100%|███████████████████████████████████████████████████████████| 43/43 [00:00<00:00, 158.28it/s]"
     ]
    },
    {
     "name": "stdout",
     "output_type": "stream",
     "text": [
      "\n",
      "Training Loss: 0.879 dev performance, p:0.035, r:0.076, f1:0.048\n",
      "\n",
      " Epoch 7 / 75\n"
     ]
    },
    {
     "name": "stderr",
     "output_type": "stream",
     "text": [
      "\n",
      "100%|██████████████████████████████████████████████████████████| 129/129 [00:03<00:00, 38.83it/s]"
     ]
    },
    {
     "name": "stdout",
     "output_type": "stream",
     "text": [
      "evaluating...\n"
     ]
    },
    {
     "name": "stderr",
     "output_type": "stream",
     "text": [
      "\n",
      "100%|███████████████████████████████████████████████████████████| 43/43 [00:00<00:00, 158.90it/s]"
     ]
    },
    {
     "name": "stdout",
     "output_type": "stream",
     "text": [
      "\n",
      "Training Loss: 0.879 dev performance, p:0.021, r:0.045, f1:0.029\n",
      "\n",
      " Epoch 8 / 75\n"
     ]
    },
    {
     "name": "stderr",
     "output_type": "stream",
     "text": [
      "\n",
      "100%|██████████████████████████████████████████████████████████| 129/129 [00:03<00:00, 38.79it/s]"
     ]
    },
    {
     "name": "stdout",
     "output_type": "stream",
     "text": [
      "evaluating...\n"
     ]
    },
    {
     "name": "stderr",
     "output_type": "stream",
     "text": [
      "\n",
      "100%|███████████████████████████████████████████████████████████| 43/43 [00:00<00:00, 161.09it/s]"
     ]
    },
    {
     "name": "stdout",
     "output_type": "stream",
     "text": [
      "\n",
      "Training Loss: 0.872 dev performance, p:0.048, r:0.106, f1:0.066\n",
      "\n",
      " Epoch 9 / 75\n"
     ]
    },
    {
     "name": "stderr",
     "output_type": "stream",
     "text": [
      "\n",
      "100%|██████████████████████████████████████████████████████████| 129/129 [00:03<00:00, 38.79it/s]"
     ]
    },
    {
     "name": "stdout",
     "output_type": "stream",
     "text": [
      "evaluating...\n"
     ]
    },
    {
     "name": "stderr",
     "output_type": "stream",
     "text": [
      "\n",
      "100%|███████████████████████████████████████████████████████████| 43/43 [00:00<00:00, 159.79it/s]"
     ]
    },
    {
     "name": "stdout",
     "output_type": "stream",
     "text": [
      "\n",
      "Training Loss: 0.864 dev performance, p:0.049, r:0.106, f1:0.067\n",
      "\n",
      " Epoch 10 / 75\n"
     ]
    },
    {
     "name": "stderr",
     "output_type": "stream",
     "text": [
      "\n",
      "100%|██████████████████████████████████████████████████████████| 129/129 [00:03<00:00, 38.88it/s]"
     ]
    },
    {
     "name": "stdout",
     "output_type": "stream",
     "text": [
      "evaluating...\n"
     ]
    },
    {
     "name": "stderr",
     "output_type": "stream",
     "text": [
      "\n",
      "100%|███████████████████████████████████████████████████████████| 43/43 [00:00<00:00, 159.43it/s]"
     ]
    },
    {
     "name": "stdout",
     "output_type": "stream",
     "text": [
      "\n",
      "Training Loss: 0.855 dev performance, p:0.029, r:0.061, f1:0.039\n",
      "\n",
      " Epoch 11 / 75\n"
     ]
    },
    {
     "name": "stderr",
     "output_type": "stream",
     "text": [
      "\n",
      "100%|██████████████████████████████████████████████████████████| 129/129 [00:03<00:00, 38.81it/s]"
     ]
    },
    {
     "name": "stdout",
     "output_type": "stream",
     "text": [
      "evaluating...\n"
     ]
    },
    {
     "name": "stderr",
     "output_type": "stream",
     "text": [
      "\n",
      "100%|███████████████████████████████████████████████████████████| 43/43 [00:00<00:00, 159.77it/s]"
     ]
    },
    {
     "name": "stdout",
     "output_type": "stream",
     "text": [
      "\n",
      "Training Loss: 0.844 dev performance, p:0.036, r:0.076, f1:0.049\n",
      "\n",
      " Epoch 12 / 75\n"
     ]
    },
    {
     "name": "stderr",
     "output_type": "stream",
     "text": [
      "\n",
      "100%|██████████████████████████████████████████████████████████| 129/129 [00:03<00:00, 38.85it/s]"
     ]
    },
    {
     "name": "stdout",
     "output_type": "stream",
     "text": [
      "evaluating...\n"
     ]
    },
    {
     "name": "stderr",
     "output_type": "stream",
     "text": [
      "\n",
      "100%|███████████████████████████████████████████████████████████| 43/43 [00:00<00:00, 159.08it/s]"
     ]
    },
    {
     "name": "stdout",
     "output_type": "stream",
     "text": [
      "\n",
      "Training Loss: 0.840 dev performance, p:0.030, r:0.061, f1:0.040\n",
      "\n",
      " Epoch 13 / 75\n"
     ]
    },
    {
     "name": "stderr",
     "output_type": "stream",
     "text": [
      "\n",
      "100%|██████████████████████████████████████████████████████████| 129/129 [00:03<00:00, 38.81it/s]"
     ]
    },
    {
     "name": "stdout",
     "output_type": "stream",
     "text": [
      "evaluating...\n"
     ]
    },
    {
     "name": "stderr",
     "output_type": "stream",
     "text": [
      "\n",
      "100%|███████████████████████████████████████████████████████████| 43/43 [00:00<00:00, 161.05it/s]"
     ]
    },
    {
     "name": "stdout",
     "output_type": "stream",
     "text": [
      "\n",
      "Training Loss: 0.829 dev performance, p:0.030, r:0.061, f1:0.040\n",
      "\n",
      " Epoch 14 / 75\n"
     ]
    },
    {
     "name": "stderr",
     "output_type": "stream",
     "text": [
      "\n",
      "100%|██████████████████████████████████████████████████████████| 129/129 [00:03<00:00, 38.82it/s]"
     ]
    },
    {
     "name": "stdout",
     "output_type": "stream",
     "text": [
      "evaluating...\n"
     ]
    },
    {
     "name": "stderr",
     "output_type": "stream",
     "text": [
      "\n",
      "100%|███████████████████████████████████████████████████████████| 43/43 [00:00<00:00, 158.73it/s]"
     ]
    },
    {
     "name": "stdout",
     "output_type": "stream",
     "text": [
      "\n",
      "Training Loss: 0.820 dev performance, p:0.016, r:0.030, f1:0.021\n",
      "\n",
      " Epoch 15 / 75\n"
     ]
    },
    {
     "name": "stderr",
     "output_type": "stream",
     "text": [
      "\n",
      "100%|██████████████████████████████████████████████████████████| 129/129 [00:03<00:00, 38.90it/s]"
     ]
    },
    {
     "name": "stdout",
     "output_type": "stream",
     "text": [
      "evaluating...\n"
     ]
    },
    {
     "name": "stderr",
     "output_type": "stream",
     "text": [
      "\n",
      "100%|███████████████████████████████████████████████████████████| 43/43 [00:00<00:00, 159.92it/s]"
     ]
    },
    {
     "name": "stdout",
     "output_type": "stream",
     "text": [
      "\n",
      "Training Loss: 0.809 dev performance, p:0.016, r:0.030, f1:0.021\n",
      "\n",
      " Epoch 16 / 75\n"
     ]
    },
    {
     "name": "stderr",
     "output_type": "stream",
     "text": [
      "\n",
      "100%|██████████████████████████████████████████████████████████| 129/129 [00:03<00:00, 38.81it/s]"
     ]
    },
    {
     "name": "stdout",
     "output_type": "stream",
     "text": [
      "evaluating...\n"
     ]
    },
    {
     "name": "stderr",
     "output_type": "stream",
     "text": [
      "\n",
      "100%|███████████████████████████████████████████████████████████| 43/43 [00:00<00:00, 159.16it/s]"
     ]
    },
    {
     "name": "stdout",
     "output_type": "stream",
     "text": [
      "\n",
      "Training Loss: 0.804 dev performance, p:0.026, r:0.045, f1:0.033\n",
      "\n",
      " Epoch 17 / 75\n"
     ]
    },
    {
     "name": "stderr",
     "output_type": "stream",
     "text": [
      "\n",
      "100%|██████████████████████████████████████████████████████████| 129/129 [00:03<00:00, 38.89it/s]"
     ]
    },
    {
     "name": "stdout",
     "output_type": "stream",
     "text": [
      "evaluating...\n"
     ]
    },
    {
     "name": "stderr",
     "output_type": "stream",
     "text": [
      "\n",
      "100%|███████████████████████████████████████████████████████████| 43/43 [00:00<00:00, 159.06it/s]"
     ]
    },
    {
     "name": "stdout",
     "output_type": "stream",
     "text": [
      "\n",
      "Training Loss: 0.799 dev performance, p:0.035, r:0.061, f1:0.045\n",
      "\n",
      " Epoch 18 / 75\n"
     ]
    },
    {
     "name": "stderr",
     "output_type": "stream",
     "text": [
      "\n",
      "100%|██████████████████████████████████████████████████████████| 129/129 [00:03<00:00, 38.84it/s]"
     ]
    },
    {
     "name": "stdout",
     "output_type": "stream",
     "text": [
      "evaluating...\n"
     ]
    },
    {
     "name": "stderr",
     "output_type": "stream",
     "text": [
      "\n",
      "100%|███████████████████████████████████████████████████████████| 43/43 [00:00<00:00, 161.03it/s]"
     ]
    },
    {
     "name": "stdout",
     "output_type": "stream",
     "text": [
      "\n",
      "Training Loss: 0.788 dev performance, p:0.040, r:0.061, f1:0.048\n",
      "\n",
      " Epoch 19 / 75\n"
     ]
    },
    {
     "name": "stderr",
     "output_type": "stream",
     "text": [
      "\n",
      "100%|██████████████████████████████████████████████████████████| 129/129 [00:03<00:00, 38.86it/s]"
     ]
    },
    {
     "name": "stdout",
     "output_type": "stream",
     "text": [
      "evaluating...\n"
     ]
    },
    {
     "name": "stderr",
     "output_type": "stream",
     "text": [
      "\n",
      "100%|███████████████████████████████████████████████████████████| 43/43 [00:00<00:00, 158.82it/s]"
     ]
    },
    {
     "name": "stdout",
     "output_type": "stream",
     "text": [
      "\n",
      "Training Loss: 0.776 dev performance, p:0.011, r:0.015, f1:0.012\n",
      "\n",
      " Epoch 20 / 75\n"
     ]
    },
    {
     "name": "stderr",
     "output_type": "stream",
     "text": [
      "\n",
      "100%|██████████████████████████████████████████████████████████| 129/129 [00:03<00:00, 38.88it/s]"
     ]
    },
    {
     "name": "stdout",
     "output_type": "stream",
     "text": [
      "evaluating...\n"
     ]
    },
    {
     "name": "stderr",
     "output_type": "stream",
     "text": [
      "\n",
      "100%|███████████████████████████████████████████████████████████| 43/43 [00:00<00:00, 161.08it/s]"
     ]
    },
    {
     "name": "stdout",
     "output_type": "stream",
     "text": [
      "\n",
      "Training Loss: 0.768 dev performance, p:0.045, r:0.061, f1:0.052\n",
      "\n",
      " Epoch 21 / 75\n"
     ]
    },
    {
     "name": "stderr",
     "output_type": "stream",
     "text": [
      "\n",
      "100%|██████████████████████████████████████████████████████████| 129/129 [00:03<00:00, 38.84it/s]"
     ]
    },
    {
     "name": "stdout",
     "output_type": "stream",
     "text": [
      "evaluating...\n"
     ]
    },
    {
     "name": "stderr",
     "output_type": "stream",
     "text": [
      "\n",
      "100%|███████████████████████████████████████████████████████████| 43/43 [00:00<00:00, 160.48it/s]"
     ]
    },
    {
     "name": "stdout",
     "output_type": "stream",
     "text": [
      "\n",
      "Training Loss: 0.762 dev performance, p:0.013, r:0.015, f1:0.014\n",
      "\n",
      " Epoch 22 / 75\n"
     ]
    },
    {
     "name": "stderr",
     "output_type": "stream",
     "text": [
      "\n",
      "100%|██████████████████████████████████████████████████████████| 129/129 [00:03<00:00, 38.86it/s]"
     ]
    },
    {
     "name": "stdout",
     "output_type": "stream",
     "text": [
      "evaluating...\n"
     ]
    },
    {
     "name": "stderr",
     "output_type": "stream",
     "text": [
      "\n",
      "100%|███████████████████████████████████████████████████████████| 43/43 [00:00<00:00, 158.80it/s]"
     ]
    },
    {
     "name": "stdout",
     "output_type": "stream",
     "text": [
      "\n",
      "Training Loss: 0.757 dev performance, p:0.081, r:0.076, f1:0.078\n",
      "current best score is 0.078\n",
      "\n",
      " Epoch 23 / 75\n"
     ]
    },
    {
     "name": "stderr",
     "output_type": "stream",
     "text": [
      "\n",
      "100%|██████████████████████████████████████████████████████████| 129/129 [00:03<00:00, 38.95it/s]"
     ]
    },
    {
     "name": "stdout",
     "output_type": "stream",
     "text": [
      "evaluating...\n"
     ]
    },
    {
     "name": "stderr",
     "output_type": "stream",
     "text": [
      "\n",
      "100%|███████████████████████████████████████████████████████████| 43/43 [00:00<00:00, 160.66it/s]"
     ]
    },
    {
     "name": "stdout",
     "output_type": "stream",
     "text": [
      "\n",
      "Training Loss: 0.748 dev performance, p:0.068, r:0.061, f1:0.064\n",
      "\n",
      " Epoch 24 / 75\n"
     ]
    },
    {
     "name": "stderr",
     "output_type": "stream",
     "text": [
      "\n",
      "100%|██████████████████████████████████████████████████████████| 129/129 [00:03<00:00, 38.99it/s]"
     ]
    },
    {
     "name": "stdout",
     "output_type": "stream",
     "text": [
      "evaluating...\n"
     ]
    },
    {
     "name": "stderr",
     "output_type": "stream",
     "text": [
      "\n",
      "100%|███████████████████████████████████████████████████████████| 43/43 [00:00<00:00, 159.95it/s]"
     ]
    },
    {
     "name": "stdout",
     "output_type": "stream",
     "text": [
      "\n",
      "Training Loss: 0.741 dev performance, p:0.038, r:0.030, f1:0.034\n",
      "\n",
      " Epoch 25 / 75\n"
     ]
    },
    {
     "name": "stderr",
     "output_type": "stream",
     "text": [
      "\n",
      "100%|██████████████████████████████████████████████████████████| 129/129 [00:03<00:00, 38.93it/s]"
     ]
    },
    {
     "name": "stdout",
     "output_type": "stream",
     "text": [
      "evaluating...\n"
     ]
    },
    {
     "name": "stderr",
     "output_type": "stream",
     "text": [
      "\n",
      "100%|███████████████████████████████████████████████████████████| 43/43 [00:00<00:00, 161.60it/s]"
     ]
    },
    {
     "name": "stdout",
     "output_type": "stream",
     "text": [
      "\n",
      "Training Loss: 0.735 dev performance, p:0.070, r:0.045, f1:0.055\n",
      "\n",
      " Epoch 26 / 75\n"
     ]
    },
    {
     "name": "stderr",
     "output_type": "stream",
     "text": [
      "\n",
      "100%|██████████████████████████████████████████████████████████| 129/129 [00:03<00:00, 38.93it/s]"
     ]
    },
    {
     "name": "stdout",
     "output_type": "stream",
     "text": [
      "evaluating...\n"
     ]
    },
    {
     "name": "stderr",
     "output_type": "stream",
     "text": [
      "\n",
      "100%|███████████████████████████████████████████████████████████| 43/43 [00:00<00:00, 159.18it/s]"
     ]
    },
    {
     "name": "stdout",
     "output_type": "stream",
     "text": [
      "\n",
      "Training Loss: 0.728 dev performance, p:0.067, r:0.030, f1:0.042\n",
      "\n",
      " Epoch 27 / 75\n"
     ]
    },
    {
     "name": "stderr",
     "output_type": "stream",
     "text": [
      "\n",
      "100%|██████████████████████████████████████████████████████████| 129/129 [00:03<00:00, 38.95it/s]"
     ]
    },
    {
     "name": "stdout",
     "output_type": "stream",
     "text": [
      "evaluating...\n"
     ]
    },
    {
     "name": "stderr",
     "output_type": "stream",
     "text": [
      "\n",
      "100%|███████████████████████████████████████████████████████████| 43/43 [00:00<00:00, 161.67it/s]"
     ]
    },
    {
     "name": "stdout",
     "output_type": "stream",
     "text": [
      "\n",
      "Training Loss: 0.718 dev performance, p:0.105, r:0.030, f1:0.047\n",
      "\n",
      " Epoch 28 / 75\n"
     ]
    },
    {
     "name": "stderr",
     "output_type": "stream",
     "text": [
      "\n",
      "100%|██████████████████████████████████████████████████████████| 129/129 [00:03<00:00, 38.91it/s]"
     ]
    },
    {
     "name": "stdout",
     "output_type": "stream",
     "text": [
      "evaluating...\n"
     ]
    },
    {
     "name": "stderr",
     "output_type": "stream",
     "text": [
      "\n",
      "100%|███████████████████████████████████████████████████████████| 43/43 [00:00<00:00, 159.22it/s]"
     ]
    },
    {
     "name": "stdout",
     "output_type": "stream",
     "text": [
      "\n",
      "Training Loss: 0.709 dev performance, p:0.050, r:0.015, f1:0.023\n",
      "\n",
      " Epoch 29 / 75\n"
     ]
    },
    {
     "name": "stderr",
     "output_type": "stream",
     "text": [
      "\n",
      "100%|██████████████████████████████████████████████████████████| 129/129 [00:03<00:00, 38.96it/s]"
     ]
    },
    {
     "name": "stdout",
     "output_type": "stream",
     "text": [
      "evaluating...\n"
     ]
    },
    {
     "name": "stderr",
     "output_type": "stream",
     "text": [
      "\n",
      "100%|███████████████████████████████████████████████████████████| 43/43 [00:00<00:00, 159.60it/s]"
     ]
    },
    {
     "name": "stdout",
     "output_type": "stream",
     "text": [
      "\n",
      "Training Loss: 0.705 dev performance, p:0.143, r:0.045, f1:0.069\n",
      "\n",
      " Epoch 30 / 75\n"
     ]
    },
    {
     "name": "stderr",
     "output_type": "stream",
     "text": [
      "\n",
      "100%|██████████████████████████████████████████████████████████| 129/129 [00:03<00:00, 38.93it/s]"
     ]
    },
    {
     "name": "stdout",
     "output_type": "stream",
     "text": [
      "evaluating...\n"
     ]
    },
    {
     "name": "stderr",
     "output_type": "stream",
     "text": [
      "\n",
      "100%|███████████████████████████████████████████████████████████| 43/43 [00:00<00:00, 160.44it/s]"
     ]
    },
    {
     "name": "stdout",
     "output_type": "stream",
     "text": [
      "\n",
      "Training Loss: 0.699 dev performance, p:0.133, r:0.030, f1:0.049\n",
      "\n",
      " Epoch 31 / 75\n"
     ]
    },
    {
     "name": "stderr",
     "output_type": "stream",
     "text": [
      "\n",
      "100%|██████████████████████████████████████████████████████████| 129/129 [00:03<00:00, 38.95it/s]"
     ]
    },
    {
     "name": "stdout",
     "output_type": "stream",
     "text": [
      "evaluating...\n"
     ]
    },
    {
     "name": "stderr",
     "output_type": "stream",
     "text": [
      "\n",
      "100%|███████████████████████████████████████████████████████████| 43/43 [00:00<00:00, 159.64it/s]"
     ]
    },
    {
     "name": "stdout",
     "output_type": "stream",
     "text": [
      "\n",
      "Training Loss: 0.691 dev performance, p:0.125, r:0.015, f1:0.027\n",
      "\n",
      " Epoch 32 / 75\n"
     ]
    },
    {
     "name": "stderr",
     "output_type": "stream",
     "text": [
      "\n",
      "100%|██████████████████████████████████████████████████████████| 129/129 [00:03<00:00, 38.94it/s]"
     ]
    },
    {
     "name": "stdout",
     "output_type": "stream",
     "text": [
      "evaluating...\n"
     ]
    },
    {
     "name": "stderr",
     "output_type": "stream",
     "text": [
      "\n",
      "100%|███████████████████████████████████████████████████████████| 43/43 [00:00<00:00, 160.76it/s]"
     ]
    },
    {
     "name": "stdout",
     "output_type": "stream",
     "text": [
      "\n",
      "Training Loss: 0.686 dev performance, p:0.000, r:0.000, f1:0.000\n",
      "\n",
      " Epoch 33 / 75\n"
     ]
    },
    {
     "name": "stderr",
     "output_type": "stream",
     "text": [
      "\n",
      "100%|██████████████████████████████████████████████████████████| 129/129 [00:03<00:00, 38.92it/s]"
     ]
    },
    {
     "name": "stdout",
     "output_type": "stream",
     "text": [
      "evaluating...\n"
     ]
    },
    {
     "name": "stderr",
     "output_type": "stream",
     "text": [
      "\n",
      "100%|███████████████████████████████████████████████████████████| 43/43 [00:00<00:00, 159.03it/s]"
     ]
    },
    {
     "name": "stdout",
     "output_type": "stream",
     "text": [
      "\n",
      "Training Loss: 0.675 dev performance, p:0.000, r:0.000, f1:0.000\n",
      "\n",
      " Epoch 34 / 75\n"
     ]
    },
    {
     "name": "stderr",
     "output_type": "stream",
     "text": [
      "\n",
      "100%|██████████████████████████████████████████████████████████| 129/129 [00:03<00:00, 38.90it/s]"
     ]
    },
    {
     "name": "stdout",
     "output_type": "stream",
     "text": [
      "evaluating...\n"
     ]
    },
    {
     "name": "stderr",
     "output_type": "stream",
     "text": [
      "\n",
      "100%|███████████████████████████████████████████████████████████| 43/43 [00:00<00:00, 160.51it/s]"
     ]
    },
    {
     "name": "stdout",
     "output_type": "stream",
     "text": [
      "\n",
      "Training Loss: 0.667 dev performance, p:0.000, r:0.000, f1:0.000\n",
      "\n",
      " Epoch 35 / 75\n"
     ]
    },
    {
     "name": "stderr",
     "output_type": "stream",
     "text": [
      "\n",
      "100%|██████████████████████████████████████████████████████████| 129/129 [00:03<00:00, 38.91it/s]"
     ]
    },
    {
     "name": "stdout",
     "output_type": "stream",
     "text": [
      "evaluating...\n"
     ]
    },
    {
     "name": "stderr",
     "output_type": "stream",
     "text": [
      "\n",
      "100%|███████████████████████████████████████████████████████████| 43/43 [00:00<00:00, 159.13it/s]"
     ]
    },
    {
     "name": "stdout",
     "output_type": "stream",
     "text": [
      "\n",
      "Training Loss: 0.667 dev performance, p:0.500, r:0.030, f1:0.057\n",
      "\n",
      " Epoch 36 / 75\n"
     ]
    },
    {
     "name": "stderr",
     "output_type": "stream",
     "text": [
      "\n",
      "100%|██████████████████████████████████████████████████████████| 129/129 [00:03<00:00, 38.93it/s]"
     ]
    },
    {
     "name": "stdout",
     "output_type": "stream",
     "text": [
      "evaluating...\n"
     ]
    },
    {
     "name": "stderr",
     "output_type": "stream",
     "text": [
      "\n",
      "100%|███████████████████████████████████████████████████████████| 43/43 [00:00<00:00, 160.55it/s]"
     ]
    },
    {
     "name": "stdout",
     "output_type": "stream",
     "text": [
      "\n",
      "Training Loss: 0.660 dev performance, p:0.000, r:0.000, f1:0.000\n",
      "\n",
      " Epoch 37 / 75\n"
     ]
    },
    {
     "name": "stderr",
     "output_type": "stream",
     "text": [
      "\n",
      "100%|██████████████████████████████████████████████████████████| 129/129 [00:03<00:00, 38.87it/s]"
     ]
    },
    {
     "name": "stdout",
     "output_type": "stream",
     "text": [
      "evaluating...\n"
     ]
    },
    {
     "name": "stderr",
     "output_type": "stream",
     "text": [
      "\n",
      "100%|███████████████████████████████████████████████████████████| 43/43 [00:00<00:00, 160.91it/s]"
     ]
    },
    {
     "name": "stdout",
     "output_type": "stream",
     "text": [
      "\n",
      "Training Loss: 0.651 dev performance, p:0.500, r:0.015, f1:0.029\n",
      "\n",
      " Epoch 38 / 75\n"
     ]
    },
    {
     "name": "stderr",
     "output_type": "stream",
     "text": [
      "\n",
      "100%|██████████████████████████████████████████████████████████| 129/129 [00:03<00:00, 38.94it/s]"
     ]
    },
    {
     "name": "stdout",
     "output_type": "stream",
     "text": [
      "evaluating...\n"
     ]
    },
    {
     "name": "stderr",
     "output_type": "stream",
     "text": [
      "\n",
      "100%|███████████████████████████████████████████████████████████| 43/43 [00:00<00:00, 159.91it/s]"
     ]
    },
    {
     "name": "stdout",
     "output_type": "stream",
     "text": [
      "\n",
      "Training Loss: 0.646 dev performance, p:0.000, r:0.000, f1:0.000\n",
      "\n",
      " Epoch 39 / 75\n"
     ]
    },
    {
     "name": "stderr",
     "output_type": "stream",
     "text": [
      "\n",
      "100%|██████████████████████████████████████████████████████████| 129/129 [00:03<00:00, 38.90it/s]"
     ]
    },
    {
     "name": "stdout",
     "output_type": "stream",
     "text": [
      "evaluating...\n"
     ]
    },
    {
     "name": "stderr",
     "output_type": "stream",
     "text": [
      "\n",
      "100%|███████████████████████████████████████████████████████████| 43/43 [00:00<00:00, 160.36it/s]"
     ]
    },
    {
     "name": "stdout",
     "output_type": "stream",
     "text": [
      "\n",
      "Training Loss: 0.636 dev performance, p:0.000, r:0.000, f1:0.000\n",
      "\n",
      " Epoch 40 / 75\n"
     ]
    },
    {
     "name": "stderr",
     "output_type": "stream",
     "text": [
      "\n",
      "100%|██████████████████████████████████████████████████████████| 129/129 [00:03<00:00, 38.93it/s]"
     ]
    },
    {
     "name": "stdout",
     "output_type": "stream",
     "text": [
      "evaluating...\n"
     ]
    },
    {
     "name": "stderr",
     "output_type": "stream",
     "text": [
      "\n",
      "100%|███████████████████████████████████████████████████████████| 43/43 [00:00<00:00, 158.94it/s]"
     ]
    },
    {
     "name": "stdout",
     "output_type": "stream",
     "text": [
      "\n",
      "Training Loss: 0.632 dev performance, p:1.000, r:0.015, f1:0.030\n",
      "\n",
      " Epoch 41 / 75\n"
     ]
    },
    {
     "name": "stderr",
     "output_type": "stream",
     "text": [
      "\n",
      "100%|██████████████████████████████████████████████████████████| 129/129 [00:03<00:00, 38.88it/s]"
     ]
    },
    {
     "name": "stdout",
     "output_type": "stream",
     "text": [
      "evaluating...\n"
     ]
    },
    {
     "name": "stderr",
     "output_type": "stream",
     "text": [
      "\n",
      "100%|███████████████████████████████████████████████████████████| 43/43 [00:00<00:00, 161.54it/s]"
     ]
    },
    {
     "name": "stdout",
     "output_type": "stream",
     "text": [
      "\n",
      "Training Loss: 0.623 dev performance, p:0.000, r:0.000, f1:0.000\n",
      "\n",
      " Epoch 42 / 75\n"
     ]
    },
    {
     "name": "stderr",
     "output_type": "stream",
     "text": [
      "\n",
      "100%|██████████████████████████████████████████████████████████| 129/129 [00:03<00:00, 38.93it/s]"
     ]
    },
    {
     "name": "stdout",
     "output_type": "stream",
     "text": [
      "evaluating...\n"
     ]
    },
    {
     "name": "stderr",
     "output_type": "stream",
     "text": [
      "\n",
      "100%|███████████████████████████████████████████████████████████| 43/43 [00:00<00:00, 159.81it/s]"
     ]
    },
    {
     "name": "stdout",
     "output_type": "stream",
     "text": [
      "\n",
      "Training Loss: 0.621 dev performance, p:1.000, r:0.030, f1:0.059\n",
      "\n",
      " Epoch 43 / 75\n"
     ]
    },
    {
     "name": "stderr",
     "output_type": "stream",
     "text": [
      "\n",
      "100%|██████████████████████████████████████████████████████████| 129/129 [00:03<00:00, 38.96it/s]"
     ]
    },
    {
     "name": "stdout",
     "output_type": "stream",
     "text": [
      "evaluating...\n"
     ]
    },
    {
     "name": "stderr",
     "output_type": "stream",
     "text": [
      "\n",
      "100%|███████████████████████████████████████████████████████████| 43/43 [00:00<00:00, 160.83it/s]"
     ]
    },
    {
     "name": "stdout",
     "output_type": "stream",
     "text": [
      "\n",
      "Training Loss: 0.610 dev performance, p:1.000, r:0.030, f1:0.059\n",
      "\n",
      " Epoch 44 / 75\n"
     ]
    },
    {
     "name": "stderr",
     "output_type": "stream",
     "text": [
      "\n",
      "100%|██████████████████████████████████████████████████████████| 129/129 [00:03<00:00, 38.92it/s]"
     ]
    },
    {
     "name": "stdout",
     "output_type": "stream",
     "text": [
      "evaluating...\n"
     ]
    },
    {
     "name": "stderr",
     "output_type": "stream",
     "text": [
      "\n",
      "100%|███████████████████████████████████████████████████████████| 43/43 [00:00<00:00, 160.58it/s]"
     ]
    },
    {
     "name": "stdout",
     "output_type": "stream",
     "text": [
      "\n",
      "Training Loss: 0.607 dev performance, p:0.750, r:0.045, f1:0.086\n",
      "current best score is 0.086\n",
      "\n",
      " Epoch 45 / 75\n"
     ]
    },
    {
     "name": "stderr",
     "output_type": "stream",
     "text": [
      "\n",
      "100%|██████████████████████████████████████████████████████████| 129/129 [00:03<00:00, 38.94it/s]"
     ]
    },
    {
     "name": "stdout",
     "output_type": "stream",
     "text": [
      "evaluating...\n"
     ]
    },
    {
     "name": "stderr",
     "output_type": "stream",
     "text": [
      "\n",
      "100%|███████████████████████████████████████████████████████████| 43/43 [00:00<00:00, 159.38it/s]"
     ]
    },
    {
     "name": "stdout",
     "output_type": "stream",
     "text": [
      "\n",
      "Training Loss: 0.602 dev performance, p:1.000, r:0.076, f1:0.141\n",
      "current best score is 0.141\n",
      "\n",
      " Epoch 46 / 75\n"
     ]
    },
    {
     "name": "stderr",
     "output_type": "stream",
     "text": [
      "\n",
      "100%|██████████████████████████████████████████████████████████| 129/129 [00:03<00:00, 38.92it/s]"
     ]
    },
    {
     "name": "stdout",
     "output_type": "stream",
     "text": [
      "evaluating...\n"
     ]
    },
    {
     "name": "stderr",
     "output_type": "stream",
     "text": [
      "\n",
      "100%|███████████████████████████████████████████████████████████| 43/43 [00:00<00:00, 160.39it/s]"
     ]
    },
    {
     "name": "stdout",
     "output_type": "stream",
     "text": [
      "\n",
      "Training Loss: 0.596 dev performance, p:1.000, r:0.015, f1:0.030\n",
      "\n",
      " Epoch 47 / 75\n"
     ]
    },
    {
     "name": "stderr",
     "output_type": "stream",
     "text": [
      "\n",
      "100%|██████████████████████████████████████████████████████████| 129/129 [00:03<00:00, 38.93it/s]"
     ]
    },
    {
     "name": "stdout",
     "output_type": "stream",
     "text": [
      "evaluating...\n"
     ]
    },
    {
     "name": "stderr",
     "output_type": "stream",
     "text": [
      "\n",
      "100%|███████████████████████████████████████████████████████████| 43/43 [00:00<00:00, 159.34it/s]"
     ]
    },
    {
     "name": "stdout",
     "output_type": "stream",
     "text": [
      "\n",
      "Training Loss: 0.588 dev performance, p:0.600, r:0.045, f1:0.085\n",
      "\n",
      " Epoch 48 / 75\n"
     ]
    },
    {
     "name": "stderr",
     "output_type": "stream",
     "text": [
      "\n",
      "100%|██████████████████████████████████████████████████████████| 129/129 [00:03<00:00, 38.98it/s]"
     ]
    },
    {
     "name": "stdout",
     "output_type": "stream",
     "text": [
      "evaluating...\n"
     ]
    },
    {
     "name": "stderr",
     "output_type": "stream",
     "text": [
      "\n",
      "100%|███████████████████████████████████████████████████████████| 43/43 [00:00<00:00, 161.72it/s]"
     ]
    },
    {
     "name": "stdout",
     "output_type": "stream",
     "text": [
      "\n",
      "Training Loss: 0.580 dev performance, p:1.000, r:0.076, f1:0.141\n",
      "\n",
      " Epoch 49 / 75\n"
     ]
    },
    {
     "name": "stderr",
     "output_type": "stream",
     "text": [
      "\n",
      "100%|██████████████████████████████████████████████████████████| 129/129 [00:03<00:00, 39.00it/s]"
     ]
    },
    {
     "name": "stdout",
     "output_type": "stream",
     "text": [
      "evaluating...\n"
     ]
    },
    {
     "name": "stderr",
     "output_type": "stream",
     "text": [
      "\n",
      "100%|███████████████████████████████████████████████████████████| 43/43 [00:00<00:00, 159.25it/s]"
     ]
    },
    {
     "name": "stdout",
     "output_type": "stream",
     "text": [
      "\n",
      "Training Loss: 0.576 dev performance, p:1.000, r:0.045, f1:0.087\n",
      "\n",
      " Epoch 50 / 75\n"
     ]
    },
    {
     "name": "stderr",
     "output_type": "stream",
     "text": [
      "\n",
      "100%|██████████████████████████████████████████████████████████| 129/129 [00:03<00:00, 38.98it/s]"
     ]
    },
    {
     "name": "stdout",
     "output_type": "stream",
     "text": [
      "evaluating...\n"
     ]
    },
    {
     "name": "stderr",
     "output_type": "stream",
     "text": [
      "\n",
      "100%|███████████████████████████████████████████████████████████| 43/43 [00:00<00:00, 161.67it/s]"
     ]
    },
    {
     "name": "stdout",
     "output_type": "stream",
     "text": [
      "\n",
      "Training Loss: 0.571 dev performance, p:0.800, r:0.061, f1:0.113\n",
      "\n",
      " Epoch 51 / 75\n"
     ]
    },
    {
     "name": "stderr",
     "output_type": "stream",
     "text": [
      "\n",
      "100%|██████████████████████████████████████████████████████████| 129/129 [00:03<00:00, 38.98it/s]"
     ]
    },
    {
     "name": "stdout",
     "output_type": "stream",
     "text": [
      "evaluating...\n"
     ]
    },
    {
     "name": "stderr",
     "output_type": "stream",
     "text": [
      "\n",
      "100%|███████████████████████████████████████████████████████████| 43/43 [00:00<00:00, 159.65it/s]"
     ]
    },
    {
     "name": "stdout",
     "output_type": "stream",
     "text": [
      "\n",
      "Training Loss: 0.566 dev performance, p:0.750, r:0.091, f1:0.162\n",
      "current best score is 0.162\n",
      "\n",
      " Epoch 52 / 75\n"
     ]
    },
    {
     "name": "stderr",
     "output_type": "stream",
     "text": [
      "\n",
      "100%|██████████████████████████████████████████████████████████| 129/129 [00:03<00:00, 39.06it/s]"
     ]
    },
    {
     "name": "stdout",
     "output_type": "stream",
     "text": [
      "evaluating...\n"
     ]
    },
    {
     "name": "stderr",
     "output_type": "stream",
     "text": [
      "\n",
      "100%|███████████████████████████████████████████████████████████| 43/43 [00:00<00:00, 160.19it/s]"
     ]
    },
    {
     "name": "stdout",
     "output_type": "stream",
     "text": [
      "\n",
      "Training Loss: 0.560 dev performance, p:0.857, r:0.091, f1:0.164\n",
      "current best score is 0.164\n",
      "\n",
      " Epoch 53 / 75\n"
     ]
    },
    {
     "name": "stderr",
     "output_type": "stream",
     "text": [
      "\n",
      "100%|██████████████████████████████████████████████████████████| 129/129 [00:03<00:00, 38.98it/s]"
     ]
    },
    {
     "name": "stdout",
     "output_type": "stream",
     "text": [
      "evaluating...\n"
     ]
    },
    {
     "name": "stderr",
     "output_type": "stream",
     "text": [
      "\n",
      "100%|███████████████████████████████████████████████████████████| 43/43 [00:00<00:00, 160.08it/s]"
     ]
    },
    {
     "name": "stdout",
     "output_type": "stream",
     "text": [
      "\n",
      "Training Loss: 0.553 dev performance, p:0.900, r:0.136, f1:0.237\n",
      "current best score is 0.237\n",
      "\n",
      " Epoch 54 / 75\n"
     ]
    },
    {
     "name": "stderr",
     "output_type": "stream",
     "text": [
      "\n",
      "100%|██████████████████████████████████████████████████████████| 129/129 [00:03<00:00, 38.95it/s]"
     ]
    },
    {
     "name": "stdout",
     "output_type": "stream",
     "text": [
      "evaluating...\n"
     ]
    },
    {
     "name": "stderr",
     "output_type": "stream",
     "text": [
      "\n",
      "100%|███████████████████████████████████████████████████████████| 43/43 [00:00<00:00, 158.81it/s]"
     ]
    },
    {
     "name": "stdout",
     "output_type": "stream",
     "text": [
      "\n",
      "Training Loss: 0.548 dev performance, p:0.889, r:0.121, f1:0.213\n",
      "\n",
      " Epoch 55 / 75\n"
     ]
    },
    {
     "name": "stderr",
     "output_type": "stream",
     "text": [
      "\n",
      "100%|██████████████████████████████████████████████████████████| 129/129 [00:03<00:00, 39.00it/s]"
     ]
    },
    {
     "name": "stdout",
     "output_type": "stream",
     "text": [
      "evaluating...\n"
     ]
    },
    {
     "name": "stderr",
     "output_type": "stream",
     "text": [
      "\n",
      "100%|███████████████████████████████████████████████████████████| 43/43 [00:00<00:00, 160.23it/s]"
     ]
    },
    {
     "name": "stdout",
     "output_type": "stream",
     "text": [
      "\n",
      "Training Loss: 0.545 dev performance, p:0.917, r:0.167, f1:0.282\n",
      "current best score is 0.282\n",
      "\n",
      " Epoch 56 / 75\n"
     ]
    },
    {
     "name": "stderr",
     "output_type": "stream",
     "text": [
      "\n",
      "100%|██████████████████████████████████████████████████████████| 129/129 [00:03<00:00, 39.01it/s]"
     ]
    },
    {
     "name": "stdout",
     "output_type": "stream",
     "text": [
      "evaluating...\n"
     ]
    },
    {
     "name": "stderr",
     "output_type": "stream",
     "text": [
      "\n",
      "100%|███████████████████████████████████████████████████████████| 43/43 [00:00<00:00, 159.12it/s]"
     ]
    },
    {
     "name": "stdout",
     "output_type": "stream",
     "text": [
      "\n",
      "Training Loss: 0.539 dev performance, p:0.750, r:0.227, f1:0.349\n",
      "current best score is 0.349\n",
      "\n",
      " Epoch 57 / 75\n"
     ]
    },
    {
     "name": "stderr",
     "output_type": "stream",
     "text": [
      "\n",
      "100%|██████████████████████████████████████████████████████████| 129/129 [00:03<00:00, 38.98it/s]"
     ]
    },
    {
     "name": "stdout",
     "output_type": "stream",
     "text": [
      "evaluating...\n"
     ]
    },
    {
     "name": "stderr",
     "output_type": "stream",
     "text": [
      "\n",
      "100%|███████████████████████████████████████████████████████████| 43/43 [00:00<00:00, 161.19it/s]"
     ]
    },
    {
     "name": "stdout",
     "output_type": "stream",
     "text": [
      "\n",
      "Training Loss: 0.532 dev performance, p:0.909, r:0.152, f1:0.260\n",
      "\n",
      " Epoch 58 / 75\n"
     ]
    },
    {
     "name": "stderr",
     "output_type": "stream",
     "text": [
      "\n",
      "100%|██████████████████████████████████████████████████████████| 129/129 [00:03<00:00, 38.95it/s]"
     ]
    },
    {
     "name": "stdout",
     "output_type": "stream",
     "text": [
      "evaluating...\n"
     ]
    },
    {
     "name": "stderr",
     "output_type": "stream",
     "text": [
      "\n",
      "100%|███████████████████████████████████████████████████████████| 43/43 [00:00<00:00, 159.56it/s]"
     ]
    },
    {
     "name": "stdout",
     "output_type": "stream",
     "text": [
      "\n",
      "Training Loss: 0.526 dev performance, p:0.826, r:0.288, f1:0.427\n",
      "current best score is 0.427\n",
      "\n",
      " Epoch 59 / 75\n"
     ]
    },
    {
     "name": "stderr",
     "output_type": "stream",
     "text": [
      "\n",
      "100%|██████████████████████████████████████████████████████████| 129/129 [00:03<00:00, 39.02it/s]"
     ]
    },
    {
     "name": "stdout",
     "output_type": "stream",
     "text": [
      "evaluating...\n"
     ]
    },
    {
     "name": "stderr",
     "output_type": "stream",
     "text": [
      "\n",
      "100%|███████████████████████████████████████████████████████████| 43/43 [00:00<00:00, 160.79it/s]"
     ]
    },
    {
     "name": "stdout",
     "output_type": "stream",
     "text": [
      "\n",
      "Training Loss: 0.518 dev performance, p:0.875, r:0.212, f1:0.341\n",
      "\n",
      " Epoch 60 / 75\n"
     ]
    },
    {
     "name": "stderr",
     "output_type": "stream",
     "text": [
      "\n",
      "100%|██████████████████████████████████████████████████████████| 129/129 [00:03<00:00, 39.02it/s]"
     ]
    },
    {
     "name": "stdout",
     "output_type": "stream",
     "text": [
      "evaluating...\n"
     ]
    },
    {
     "name": "stderr",
     "output_type": "stream",
     "text": [
      "\n",
      "100%|███████████████████████████████████████████████████████████| 43/43 [00:00<00:00, 159.69it/s]"
     ]
    },
    {
     "name": "stdout",
     "output_type": "stream",
     "text": [
      "\n",
      "Training Loss: 0.518 dev performance, p:0.895, r:0.258, f1:0.400\n",
      "\n",
      " Epoch 61 / 75\n"
     ]
    },
    {
     "name": "stderr",
     "output_type": "stream",
     "text": [
      "\n",
      "100%|██████████████████████████████████████████████████████████| 129/129 [00:03<00:00, 39.06it/s]"
     ]
    },
    {
     "name": "stdout",
     "output_type": "stream",
     "text": [
      "evaluating...\n"
     ]
    },
    {
     "name": "stderr",
     "output_type": "stream",
     "text": [
      "\n",
      "100%|███████████████████████████████████████████████████████████| 43/43 [00:00<00:00, 159.90it/s]"
     ]
    },
    {
     "name": "stdout",
     "output_type": "stream",
     "text": [
      "\n",
      "Training Loss: 0.508 dev performance, p:0.857, r:0.364, f1:0.511\n",
      "current best score is 0.511\n",
      "\n",
      " Epoch 62 / 75\n"
     ]
    },
    {
     "name": "stderr",
     "output_type": "stream",
     "text": [
      "\n",
      "100%|██████████████████████████████████████████████████████████| 129/129 [00:03<00:00, 38.97it/s]"
     ]
    },
    {
     "name": "stdout",
     "output_type": "stream",
     "text": [
      "evaluating...\n"
     ]
    },
    {
     "name": "stderr",
     "output_type": "stream",
     "text": [
      "\n",
      "100%|███████████████████████████████████████████████████████████| 43/43 [00:00<00:00, 160.95it/s]"
     ]
    },
    {
     "name": "stdout",
     "output_type": "stream",
     "text": [
      "\n",
      "Training Loss: 0.506 dev performance, p:0.865, r:0.485, f1:0.621\n",
      "current best score is 0.621\n",
      "\n",
      " Epoch 63 / 75\n"
     ]
    },
    {
     "name": "stderr",
     "output_type": "stream",
     "text": [
      "\n",
      "100%|██████████████████████████████████████████████████████████| 129/129 [00:03<00:00, 39.02it/s]"
     ]
    },
    {
     "name": "stdout",
     "output_type": "stream",
     "text": [
      "evaluating...\n"
     ]
    },
    {
     "name": "stderr",
     "output_type": "stream",
     "text": [
      "\n",
      "100%|███████████████████████████████████████████████████████████| 43/43 [00:00<00:00, 159.44it/s]"
     ]
    },
    {
     "name": "stdout",
     "output_type": "stream",
     "text": [
      "\n",
      "Training Loss: 0.499 dev performance, p:0.880, r:0.333, f1:0.484\n",
      "\n",
      " Epoch 64 / 75\n"
     ]
    },
    {
     "name": "stderr",
     "output_type": "stream",
     "text": [
      "\n",
      "100%|██████████████████████████████████████████████████████████| 129/129 [00:03<00:00, 38.98it/s]"
     ]
    },
    {
     "name": "stdout",
     "output_type": "stream",
     "text": [
      "evaluating...\n"
     ]
    },
    {
     "name": "stderr",
     "output_type": "stream",
     "text": [
      "\n",
      "100%|███████████████████████████████████████████████████████████| 43/43 [00:00<00:00, 160.94it/s]"
     ]
    },
    {
     "name": "stdout",
     "output_type": "stream",
     "text": [
      "\n",
      "Training Loss: 0.490 dev performance, p:0.929, r:0.394, f1:0.553\n",
      "\n",
      " Epoch 65 / 75\n"
     ]
    },
    {
     "name": "stderr",
     "output_type": "stream",
     "text": [
      "\n",
      "100%|██████████████████████████████████████████████████████████| 129/129 [00:03<00:00, 39.04it/s]"
     ]
    },
    {
     "name": "stdout",
     "output_type": "stream",
     "text": [
      "evaluating...\n"
     ]
    },
    {
     "name": "stderr",
     "output_type": "stream",
     "text": [
      "\n",
      "100%|███████████████████████████████████████████████████████████| 43/43 [00:00<00:00, 160.54it/s]"
     ]
    },
    {
     "name": "stdout",
     "output_type": "stream",
     "text": [
      "\n",
      "Training Loss: 0.491 dev performance, p:1.000, r:0.515, f1:0.680\n",
      "current best score is 0.680\n",
      "\n",
      " Epoch 66 / 75\n"
     ]
    },
    {
     "name": "stderr",
     "output_type": "stream",
     "text": [
      "\n",
      "100%|██████████████████████████████████████████████████████████| 129/129 [00:03<00:00, 38.95it/s]"
     ]
    },
    {
     "name": "stdout",
     "output_type": "stream",
     "text": [
      "evaluating...\n"
     ]
    },
    {
     "name": "stderr",
     "output_type": "stream",
     "text": [
      "\n",
      "100%|███████████████████████████████████████████████████████████| 43/43 [00:00<00:00, 160.32it/s]"
     ]
    },
    {
     "name": "stdout",
     "output_type": "stream",
     "text": [
      "\n",
      "Training Loss: 0.492 dev performance, p:0.833, r:0.379, f1:0.521\n",
      "\n",
      " Epoch 67 / 75\n"
     ]
    },
    {
     "name": "stderr",
     "output_type": "stream",
     "text": [
      "\n",
      "100%|██████████████████████████████████████████████████████████| 129/129 [00:03<00:00, 38.94it/s]"
     ]
    },
    {
     "name": "stdout",
     "output_type": "stream",
     "text": [
      "evaluating...\n"
     ]
    },
    {
     "name": "stderr",
     "output_type": "stream",
     "text": [
      "\n",
      "100%|███████████████████████████████████████████████████████████| 43/43 [00:00<00:00, 159.66it/s]"
     ]
    },
    {
     "name": "stdout",
     "output_type": "stream",
     "text": [
      "\n",
      "Training Loss: 0.479 dev performance, p:0.894, r:0.636, f1:0.743\n",
      "current best score is 0.743\n",
      "\n",
      " Epoch 68 / 75\n"
     ]
    },
    {
     "name": "stderr",
     "output_type": "stream",
     "text": [
      "\n",
      "100%|██████████████████████████████████████████████████████████| 129/129 [00:03<00:00, 39.00it/s]"
     ]
    },
    {
     "name": "stdout",
     "output_type": "stream",
     "text": [
      "evaluating...\n"
     ]
    },
    {
     "name": "stderr",
     "output_type": "stream",
     "text": [
      "\n",
      "100%|███████████████████████████████████████████████████████████| 43/43 [00:00<00:00, 160.22it/s]"
     ]
    },
    {
     "name": "stdout",
     "output_type": "stream",
     "text": [
      "\n",
      "Training Loss: 0.480 dev performance, p:0.881, r:0.561, f1:0.685\n",
      "\n",
      " Epoch 69 / 75\n"
     ]
    },
    {
     "name": "stderr",
     "output_type": "stream",
     "text": [
      "\n",
      "100%|██████████████████████████████████████████████████████████| 129/129 [00:03<00:00, 39.03it/s]"
     ]
    },
    {
     "name": "stdout",
     "output_type": "stream",
     "text": [
      "evaluating...\n"
     ]
    },
    {
     "name": "stderr",
     "output_type": "stream",
     "text": [
      "\n",
      "100%|███████████████████████████████████████████████████████████| 43/43 [00:00<00:00, 160.68it/s]"
     ]
    },
    {
     "name": "stdout",
     "output_type": "stream",
     "text": [
      "\n",
      "Training Loss: 0.470 dev performance, p:0.864, r:0.576, f1:0.691\n",
      "\n",
      " Epoch 70 / 75\n"
     ]
    },
    {
     "name": "stderr",
     "output_type": "stream",
     "text": [
      "\n",
      "100%|██████████████████████████████████████████████████████████| 129/129 [00:03<00:00, 38.97it/s]"
     ]
    },
    {
     "name": "stdout",
     "output_type": "stream",
     "text": [
      "evaluating...\n"
     ]
    },
    {
     "name": "stderr",
     "output_type": "stream",
     "text": [
      "\n",
      "100%|███████████████████████████████████████████████████████████| 43/43 [00:00<00:00, 159.56it/s]"
     ]
    },
    {
     "name": "stdout",
     "output_type": "stream",
     "text": [
      "\n",
      "Training Loss: 0.467 dev performance, p:0.872, r:0.621, f1:0.726\n",
      "\n",
      " Epoch 71 / 75\n"
     ]
    },
    {
     "name": "stderr",
     "output_type": "stream",
     "text": [
      "\n",
      "100%|██████████████████████████████████████████████████████████| 129/129 [00:03<00:00, 38.93it/s]"
     ]
    },
    {
     "name": "stdout",
     "output_type": "stream",
     "text": [
      "evaluating...\n"
     ]
    },
    {
     "name": "stderr",
     "output_type": "stream",
     "text": [
      "\n",
      "100%|███████████████████████████████████████████████████████████| 43/43 [00:00<00:00, 161.56it/s]"
     ]
    },
    {
     "name": "stdout",
     "output_type": "stream",
     "text": [
      "\n",
      "Training Loss: 0.462 dev performance, p:0.952, r:0.606, f1:0.741\n",
      "\n",
      " Epoch 72 / 75\n"
     ]
    },
    {
     "name": "stderr",
     "output_type": "stream",
     "text": [
      "\n",
      "100%|██████████████████████████████████████████████████████████| 129/129 [00:03<00:00, 38.93it/s]"
     ]
    },
    {
     "name": "stdout",
     "output_type": "stream",
     "text": [
      "evaluating...\n"
     ]
    },
    {
     "name": "stderr",
     "output_type": "stream",
     "text": [
      "\n",
      "100%|███████████████████████████████████████████████████████████| 43/43 [00:00<00:00, 160.07it/s]"
     ]
    },
    {
     "name": "stdout",
     "output_type": "stream",
     "text": [
      "\n",
      "Training Loss: 0.462 dev performance, p:0.911, r:0.621, f1:0.739\n",
      "\n",
      " Epoch 73 / 75\n"
     ]
    },
    {
     "name": "stderr",
     "output_type": "stream",
     "text": [
      "\n",
      "100%|██████████████████████████████████████████████████████████| 129/129 [00:03<00:00, 38.96it/s]"
     ]
    },
    {
     "name": "stdout",
     "output_type": "stream",
     "text": [
      "evaluating...\n"
     ]
    },
    {
     "name": "stderr",
     "output_type": "stream",
     "text": [
      "\n",
      "100%|███████████████████████████████████████████████████████████| 43/43 [00:00<00:00, 160.91it/s]"
     ]
    },
    {
     "name": "stdout",
     "output_type": "stream",
     "text": [
      "\n",
      "Training Loss: 0.454 dev performance, p:0.925, r:0.742, f1:0.824\n",
      "current best score is 0.824\n",
      "\n",
      " Epoch 74 / 75\n"
     ]
    },
    {
     "name": "stderr",
     "output_type": "stream",
     "text": [
      "\n",
      "100%|██████████████████████████████████████████████████████████| 129/129 [00:03<00:00, 38.86it/s]"
     ]
    },
    {
     "name": "stdout",
     "output_type": "stream",
     "text": [
      "evaluating...\n"
     ]
    },
    {
     "name": "stderr",
     "output_type": "stream",
     "text": [
      "\n",
      "100%|███████████████████████████████████████████████████████████| 43/43 [00:00<00:00, 159.35it/s]"
     ]
    },
    {
     "name": "stdout",
     "output_type": "stream",
     "text": [
      "\n",
      "Training Loss: 0.448 dev performance, p:0.878, r:0.652, f1:0.748\n",
      "\n",
      " Epoch 75 / 75\n"
     ]
    },
    {
     "name": "stderr",
     "output_type": "stream",
     "text": [
      "\n",
      "100%|██████████████████████████████████████████████████████████| 129/129 [00:03<00:00, 38.84it/s]"
     ]
    },
    {
     "name": "stdout",
     "output_type": "stream",
     "text": [
      "evaluating...\n"
     ]
    },
    {
     "name": "stderr",
     "output_type": "stream",
     "text": [
      "\n",
      "100%|███████████████████████████████████████████████████████████| 43/43 [00:00<00:00, 159.61it/s]"
     ]
    },
    {
     "name": "stdout",
     "output_type": "stream",
     "text": [
      "\n",
      "Training Loss: 0.447 dev performance, p:0.887, r:0.712, f1:0.790\n"
     ]
    },
    {
     "name": "stderr",
     "output_type": "stream",
     "text": [
      "\n"
     ]
    }
   ],
   "source": [
    "#for each epoch\n",
    "\n",
    "best_model_state = None\n",
    "best_score = -1\n",
    "\n",
    "for epoch in range(epochs):\n",
    "     \n",
    "    print('\\n Epoch {:} / {:}'.format(epoch + 1, epochs), flush=True)\n",
    "    #train model\n",
    "    train_loss, performance = train()\n",
    "    print('\\nTraining Loss: {:.3f}'.format(train_loss), \n",
    "          'dev performance, p:{precision:.3f}, r:{recall:.3f}, f1:{f1:.3f}'.format(**performance), flush=True)\n",
    "    if best_score < performance['f1']:\n",
    "        best_score = performance['f1']\n",
    "        best_model_state = copy.deepcopy(model.state_dict())\n",
    "        print('current best score is {0:.3f}'.format(best_score), flush=True)    \n",
    "\n",
    "ran = True"
   ]
  },
  {
   "cell_type": "code",
   "execution_count": 41,
   "metadata": {},
   "outputs": [],
   "source": [
    "model_file = 'bert_finetune_mimic.pt'\n",
    "torch.save(best_model_state, model_file)"
   ]
  },
  {
   "cell_type": "code",
   "execution_count": 42,
   "metadata": {},
   "outputs": [],
   "source": [
    "if not ran:\n",
    "    device = torch.device('cuda' if torch.cuda.is_available() else 'cpu')\n",
    "\n",
    "    model_file = 'bert_finetune_mimic.pt'\n",
    "\n",
    "    categories = {'control': 0, 'case': 1}\n",
    "    # initialise the model use pretrained bert instance and the label numbers\n",
    "    model = BERT_Text_Classifier(bert_2, class_num=len(categories))\n",
    "\n",
    "    model.load_state_dict(torch.load(model_file))\n",
    "    model.eval()"
   ]
  },
  {
   "cell_type": "markdown",
   "metadata": {},
   "source": [
    "### Test the optimized BERT"
   ]
  },
  {
   "cell_type": "code",
   "execution_count": 43,
   "metadata": {},
   "outputs": [],
   "source": [
    "test_seq = test_seq.to(device)\n",
    "test_mask = test_mask.to(device)\n",
    "model = model.to(device)"
   ]
  },
  {
   "cell_type": "code",
   "execution_count": 44,
   "metadata": {},
   "outputs": [
    {
     "name": "stdout",
     "output_type": "stream",
     "text": [
      "evaluating...\n"
     ]
    },
    {
     "name": "stderr",
     "output_type": "stream",
     "text": [
      "100%|███████████████████████████████████████████████████████████| 43/43 [00:00<00:00, 160.03it/s]"
     ]
    },
    {
     "name": "stdout",
     "output_type": "stream",
     "text": [
      "{'precision': 0.9444444444444444, 'recall': 0.75, 'f1': 0.8360655737704917}\n"
     ]
    },
    {
     "name": "stderr",
     "output_type": "stream",
     "text": [
      "\n"
     ]
    }
   ],
   "source": [
    "# dataLoader for test set\n",
    "# wrap tensors\n",
    "testing_data = TensorDataset(test_seq, test_mask, test_y)\n",
    "testing_data_loader = DataLoader(testing_data, batch_size=batch_size)     \n",
    "print(evaluate(model, testing_data_loader))\n",
    "# preds = np.argmax(preds.detach().cpu(), axis = 1)"
   ]
  },
  {
   "cell_type": "code",
   "execution_count": 45,
   "metadata": {},
   "outputs": [
    {
     "name": "stdout",
     "output_type": "stream",
     "text": [
      "              precision    recall  f1-score   support\n",
      "\n",
      "           0       0.85      0.99      0.92       147\n",
      "           1       0.98      0.63      0.77        68\n",
      "\n",
      "    accuracy                           0.88       215\n",
      "   macro avg       0.92      0.81      0.84       215\n",
      "weighted avg       0.89      0.88      0.87       215\n",
      "\n"
     ]
    }
   ],
   "source": [
    "# predicting, so gradients\n",
    "with torch.no_grad():\n",
    "    preds = model(test_seq, test_mask)\n",
    "    \n",
    "preds = np.argmax(preds.detach().cpu(), axis = 1)\n",
    "print(classification_report(test_y, preds))"
   ]
  },
  {
   "cell_type": "code",
   "execution_count": 46,
   "metadata": {},
   "outputs": [
    {
     "data": {
      "image/png": "[encoded data removed]",
      "text/plain": [
       "<Figure size 432x288 with 2 Axes>"
      ]
     },
     "metadata": {
      "needs_background": "light"
     },
     "output_type": "display_data"
    }
   ],
   "source": [
    "cm_bert_finetune = confusion_matrix(test_y, preds, labels=[1,0])\n",
    "ax= plt.subplot()\n",
    "sns.heatmap(cm_bert_finetune, annot=True, ax = ax, cmap='Blues', fmt=\"d\")\n",
    "\n",
    "ax.set_title('Confusion Matrix of BERT after Grid Search (MIMIC-III data)')\n",
    "\n",
    "ax.set_xlabel('Predicted Labels')\n",
    "ax.set_ylabel('True Labels')\n",
    "\n",
    "ax.xaxis.set_ticklabels(['FAKE', 'REAL'])\n",
    "ax.yaxis.set_ticklabels(['FAKE', 'REAL'])\n",
    "plt.savefig('Confusion_matrix_BERT(grid search)_mimic')"
   ]
  },
  {
   "cell_type": "markdown",
   "metadata": {},
   "source": [
    "## Classification algorithm 2: BlueBERT\n",
    "### Train the BlueBERT"
   ]
  },
  {
   "cell_type": "code",
   "execution_count": 47,
   "metadata": {},
   "outputs": [
    {
     "name": "stderr",
     "output_type": "stream",
     "text": [
      "Some weights of the model checkpoint at bionlp/bluebert_pubmed_mimic_uncased_L-12_H-768_A-12 were not used when initializing BertModel: ['cls.predictions.transform.dense.weight', 'cls.predictions.transform.dense.bias', 'cls.predictions.transform.LayerNorm.bias', 'cls.predictions.decoder.weight', 'cls.predictions.decoder.bias', 'cls.seq_relationship.weight', 'cls.seq_relationship.bias', 'cls.predictions.transform.LayerNorm.weight', 'cls.predictions.bias']\n",
      "- This IS expected if you are initializing BertModel from the checkpoint of a model trained on another task or with another architecture (e.g. initializing a BertForSequenceClassification model from a BertForPreTraining model).\n",
      "- This IS NOT expected if you are initializing BertModel from the checkpoint of a model that you expect to be exactly identical (initializing a BertForSequenceClassification model from a BertForSequenceClassification model).\n"
     ]
    }
   ],
   "source": [
    "# bionlp/bluebert_pubmed_mimic_uncased_L-12_H-768_A-12\n",
    "# import BERT-base pretrained model\n",
    "bert_2 = AutoModel.from_pretrained('bionlp/bluebert_pubmed_mimic_uncased_L-12_H-768_A-12')\n",
    "# Load the BERT tokenizer\n",
    "tokenizer_2 = BertTokenizerFast.from_pretrained('bionlp/bluebert_pubmed_mimic_uncased_L-12_H-768_A-12')"
   ]
  },
  {
   "cell_type": "code",
   "execution_count": 48,
   "metadata": {},
   "outputs": [
    {
     "name": "stderr",
     "output_type": "stream",
     "text": [
      "Asking to truncate to max_length but no maximum length is provided and the model has no predefined maximum length. Default to no truncation.\n"
     ]
    }
   ],
   "source": [
    "def prepare_X_y(texts, labels):    \n",
    "    tokenized = tokenizer_2.batch_encode_plus(\n",
    "        texts,\n",
    "        padding=True,\n",
    "        truncation=True\n",
    "    )\n",
    "    seq = torch.tensor(tokenized['input_ids'])\n",
    "    mask = torch.tensor(tokenized['attention_mask'])\n",
    "    y = torch.tensor(labels)\n",
    "    return seq, mask, y\n",
    "\n",
    "train_seq, train_mask, train_y = prepare_X_y(X_train, y_train)\n",
    "dev_seq, dev_mask, dev_y = prepare_X_y(X_dev, y_dev)\n",
    "test_seq, test_mask, test_y = prepare_X_y(X_test, y_test)"
   ]
  },
  {
   "cell_type": "code",
   "execution_count": 49,
   "metadata": {},
   "outputs": [],
   "source": [
    "#define a batch size\n",
    "batch_size = 5\n",
    "epochs = 20\n",
    "learning_rate = 1e-1"
   ]
  },
  {
   "cell_type": "code",
   "execution_count": 50,
   "metadata": {},
   "outputs": [],
   "source": [
    "# wrap tensors\n",
    "training_data = TensorDataset(train_seq, train_mask, train_y)\n",
    "dev_data = TensorDataset(dev_seq, dev_mask, dev_y)\n",
    "# testing_data = TensorDataset(test_seq, test_mask, test_y)\n",
    "\n",
    "# sampler for sampling the data during training\n",
    "sampler = RandomSampler(training_data)\n",
    "\n",
    "# dataLoader\n",
    "training_data_loader = DataLoader(training_data, sampler=sampler, batch_size=batch_size)\n",
    "dev_data_loader = DataLoader(dev_data, batch_size=batch_size) \n",
    "# testing_data_loader = DataLoader(testing_data, sampler=sampler, batch_size=batch_size)"
   ]
  },
  {
   "cell_type": "code",
   "execution_count": 51,
   "metadata": {},
   "outputs": [],
   "source": [
    "# Define the model\n",
    "\n",
    "class BERT_Text_Classifier(nn.Module):\n",
    "    \n",
    "    def __init__(self, bert_2, class_num, bert_dim=768, hidden_dim=512):\n",
    "      \n",
    "        super(BERT_Text_Classifier, self).__init__()\n",
    "\n",
    "        self.bert_2 = bert_2 \n",
    "\n",
    "        # define a dropout\n",
    "        self.dropout = nn.Dropout(0.1)\n",
    "\n",
    "        # use relu\n",
    "        self.relu =  nn.ReLU()\n",
    "\n",
    "        # feedforward layer\n",
    "        self.fc1 = nn.Linear(bert_dim, hidden_dim)\n",
    "\n",
    "        # Output layer\n",
    "        self.fc2 = nn.Linear(hidden_dim, class_num)\n",
    "\n",
    "        #softmax function instance\n",
    "        self.softmax = nn.LogSoftmax(dim=1)\n",
    "\n",
    "    #define the forward pass\n",
    "    def forward(self, seq, mask):\n",
    "\n",
    "        # use pretrained bert_2 to read the sequence with the mask (pay attention to which tokens)\n",
    "        bert_out = self.bert_2(seq, attention_mask=mask)\n",
    "        \n",
    "        # print('last_hidden_state', bert_out['last_hidden_state'].size(), \n",
    "        #      'pooler_output', bert_out['pooler_output'].size())\n",
    "        \n",
    "        lhs = bert_out['pooler_output']\n",
    "        x = self.fc1(lhs)        \n",
    "        x = self.relu(x)\n",
    "        x = self.dropout(x)\n",
    "        x = self.fc2(x)\n",
    "        \n",
    "        # apply softmax activation\n",
    "        x = self.softmax(x)\n",
    "\n",
    "        return x"
   ]
  },
  {
   "cell_type": "code",
   "execution_count": 52,
   "metadata": {},
   "outputs": [],
   "source": [
    "def evaluate(m, evl_loader, eval_labels=[1]):\n",
    "    from sklearn.metrics import precision_recall_fscore_support\n",
    "    preds = []\n",
    "    lbls = []\n",
    "    print('evaluating...', flush=True)\n",
    "    for step, batch in enumerate(tqdm(evl_loader)):        \n",
    "        # use gpu if available\n",
    "        batch = [r.to(device) for r in batch]\n",
    "        seq, mask, labels = batch\n",
    "        with torch.no_grad():\n",
    "            batch_result = m(seq, mask)\n",
    "            rets = np.argmax(batch_result.detach().cpu(), axis = 1).tolist()\n",
    "            preds += rets\n",
    "            lbls += labels.tolist()\n",
    "    p, r, f, _ = precision_recall_fscore_support(lbls, preds, labels=eval_labels)\n",
    "    return {'precision': p[0], 'recall': r[0], 'f1': f[0]}"
   ]
  },
  {
   "cell_type": "code",
   "execution_count": 53,
   "metadata": {},
   "outputs": [],
   "source": [
    "# function to train the model\n",
    "def train():\n",
    "    # dropout activates when in train mode \n",
    "    model.train()\n",
    "\n",
    "    total_loss = 0\n",
    "    for step, batch in enumerate(tqdm(training_data_loader)):\n",
    "        \n",
    "        # use gpu if available\n",
    "        batch = [r.to(device) for r in batch]\n",
    "        \n",
    "        seq, mask, labels = batch\n",
    "        \n",
    "        # reset gradients \n",
    "        model.zero_grad()        \n",
    "\n",
    "        # get model outputs\n",
    "        outputs = model.forward(seq, mask)\n",
    "\n",
    "        # compute the loss between actual and predicted values\n",
    "        loss = cross_entropy(outputs, labels)\n",
    "\n",
    "        # accumulate loss\n",
    "        total_loss = total_loss + loss.item()\n",
    "\n",
    "        # calculate the gradients\n",
    "        loss.backward()\n",
    "\n",
    "        # deal with the exploding gradient problem\n",
    "        torch.nn.utils.clip_grad_norm_(model.parameters(), 1.0)\n",
    "\n",
    "        # update parameters\n",
    "        optimizer.step()\n",
    "\n",
    "    # calculate average loss\n",
    "    average_loss = total_loss / len(training_data_loader)\n",
    "    \n",
    "    ret = evaluate(model, dev_data_loader)\n",
    "  \n",
    "    return average_loss, ret"
   ]
  },
  {
   "cell_type": "code",
   "execution_count": 54,
   "metadata": {},
   "outputs": [],
   "source": [
    "categories = {'control': 0, 'case': 1}\n",
    "# initialise the model use pretrained bert_2 instance and the label numbers\n",
    "model = BERT_Text_Classifier(bert_2, class_num=len(categories))\n",
    "\n",
    "# push the model to GPU\n",
    "model = model.to(device)\n",
    "\n",
    "# define the optimizer\n",
    "# optimizer = AdamW(model.parameters(),\n",
    "#                   lr = learning_rate)\n",
    "optimizer = optim.SGD(model.parameters(), lr=learning_rate)\n",
    "\n",
    "cross_entropy  = nn.NLLLoss() "
   ]
  },
  {
   "cell_type": "code",
   "execution_count": 55,
   "metadata": {},
   "outputs": [
    {
     "name": "stdout",
     "output_type": "stream",
     "text": [
      "\n",
      " Epoch 1 / 20\n"
     ]
    },
    {
     "name": "stderr",
     "output_type": "stream",
     "text": [
      "100%|██████████████████████████████████████████████████████████| 129/129 [00:03<00:00, 38.71it/s]"
     ]
    },
    {
     "name": "stdout",
     "output_type": "stream",
     "text": [
      "evaluating...\n"
     ]
    },
    {
     "name": "stderr",
     "output_type": "stream",
     "text": [
      "\n",
      "100%|███████████████████████████████████████████████████████████| 43/43 [00:00<00:00, 132.52it/s]"
     ]
    },
    {
     "name": "stdout",
     "output_type": "stream",
     "text": [
      "\n",
      "Training Loss: 0.326 dev performance, p:0.913, r:0.636, f1:0.750\n",
      "current best score is 0.750\n",
      "\n",
      " Epoch 2 / 20\n"
     ]
    },
    {
     "name": "stderr",
     "output_type": "stream",
     "text": [
      "\n",
      "100%|██████████████████████████████████████████████████████████| 129/129 [00:03<00:00, 39.41it/s]"
     ]
    },
    {
     "name": "stdout",
     "output_type": "stream",
     "text": [
      "evaluating...\n"
     ]
    },
    {
     "name": "stderr",
     "output_type": "stream",
     "text": [
      "\n",
      "100%|███████████████████████████████████████████████████████████| 43/43 [00:00<00:00, 155.12it/s]"
     ]
    },
    {
     "name": "stdout",
     "output_type": "stream",
     "text": [
      "\n",
      "Training Loss: 0.262 dev performance, p:0.882, r:0.909, f1:0.896\n",
      "current best score is 0.896\n",
      "\n",
      " Epoch 3 / 20\n"
     ]
    },
    {
     "name": "stderr",
     "output_type": "stream",
     "text": [
      "\n",
      "100%|██████████████████████████████████████████████████████████| 129/129 [00:03<00:00, 40.67it/s]"
     ]
    },
    {
     "name": "stdout",
     "output_type": "stream",
     "text": [
      "evaluating...\n"
     ]
    },
    {
     "name": "stderr",
     "output_type": "stream",
     "text": [
      "\n",
      "100%|███████████████████████████████████████████████████████████| 43/43 [00:00<00:00, 160.68it/s]"
     ]
    },
    {
     "name": "stdout",
     "output_type": "stream",
     "text": [
      "\n",
      "Training Loss: 0.197 dev performance, p:0.851, r:0.955, f1:0.900\n",
      "current best score is 0.900\n",
      "\n",
      " Epoch 4 / 20\n"
     ]
    },
    {
     "name": "stderr",
     "output_type": "stream",
     "text": [
      "\n",
      "100%|██████████████████████████████████████████████████████████| 129/129 [00:03<00:00, 41.34it/s]"
     ]
    },
    {
     "name": "stdout",
     "output_type": "stream",
     "text": [
      "evaluating...\n"
     ]
    },
    {
     "name": "stderr",
     "output_type": "stream",
     "text": [
      "\n",
      "100%|███████████████████████████████████████████████████████████| 43/43 [00:00<00:00, 161.24it/s]"
     ]
    },
    {
     "name": "stdout",
     "output_type": "stream",
     "text": [
      "\n",
      "Training Loss: 0.137 dev performance, p:0.877, r:0.970, f1:0.921\n",
      "current best score is 0.921\n",
      "\n",
      " Epoch 5 / 20\n"
     ]
    },
    {
     "name": "stderr",
     "output_type": "stream",
     "text": [
      "\n",
      "100%|██████████████████████████████████████████████████████████| 129/129 [00:03<00:00, 41.33it/s]"
     ]
    },
    {
     "name": "stdout",
     "output_type": "stream",
     "text": [
      "evaluating...\n"
     ]
    },
    {
     "name": "stderr",
     "output_type": "stream",
     "text": [
      "\n",
      "100%|███████████████████████████████████████████████████████████| 43/43 [00:00<00:00, 160.28it/s]"
     ]
    },
    {
     "name": "stdout",
     "output_type": "stream",
     "text": [
      "\n",
      "Training Loss: 0.162 dev performance, p:0.881, r:0.894, f1:0.887\n",
      "\n",
      " Epoch 6 / 20\n"
     ]
    },
    {
     "name": "stderr",
     "output_type": "stream",
     "text": [
      "\n",
      "100%|██████████████████████████████████████████████████████████| 129/129 [00:03<00:00, 40.33it/s]"
     ]
    },
    {
     "name": "stdout",
     "output_type": "stream",
     "text": [
      "evaluating...\n"
     ]
    },
    {
     "name": "stderr",
     "output_type": "stream",
     "text": [
      "\n",
      "100%|███████████████████████████████████████████████████████████| 43/43 [00:00<00:00, 152.75it/s]"
     ]
    },
    {
     "name": "stdout",
     "output_type": "stream",
     "text": [
      "\n",
      "Training Loss: 0.151 dev performance, p:0.887, r:0.955, f1:0.920\n",
      "\n",
      " Epoch 7 / 20\n"
     ]
    },
    {
     "name": "stderr",
     "output_type": "stream",
     "text": [
      "\n",
      "100%|██████████████████████████████████████████████████████████| 129/129 [00:03<00:00, 40.52it/s]"
     ]
    },
    {
     "name": "stdout",
     "output_type": "stream",
     "text": [
      "evaluating...\n"
     ]
    },
    {
     "name": "stderr",
     "output_type": "stream",
     "text": [
      "\n",
      "100%|███████████████████████████████████████████████████████████| 43/43 [00:00<00:00, 157.77it/s]"
     ]
    },
    {
     "name": "stdout",
     "output_type": "stream",
     "text": [
      "\n",
      "Training Loss: 0.132 dev performance, p:0.889, r:0.970, f1:0.928\n",
      "current best score is 0.928\n",
      "\n",
      " Epoch 8 / 20\n"
     ]
    },
    {
     "name": "stderr",
     "output_type": "stream",
     "text": [
      "\n",
      "100%|██████████████████████████████████████████████████████████| 129/129 [00:03<00:00, 41.07it/s]"
     ]
    },
    {
     "name": "stdout",
     "output_type": "stream",
     "text": [
      "evaluating...\n"
     ]
    },
    {
     "name": "stderr",
     "output_type": "stream",
     "text": [
      "\n",
      "100%|███████████████████████████████████████████████████████████| 43/43 [00:00<00:00, 160.24it/s]"
     ]
    },
    {
     "name": "stdout",
     "output_type": "stream",
     "text": [
      "\n",
      "Training Loss: 0.126 dev performance, p:0.886, r:0.939, f1:0.912\n",
      "\n",
      " Epoch 9 / 20\n"
     ]
    },
    {
     "name": "stderr",
     "output_type": "stream",
     "text": [
      "\n",
      "100%|██████████████████████████████████████████████████████████| 129/129 [00:03<00:00, 41.19it/s]"
     ]
    },
    {
     "name": "stdout",
     "output_type": "stream",
     "text": [
      "evaluating...\n"
     ]
    },
    {
     "name": "stderr",
     "output_type": "stream",
     "text": [
      "\n",
      "100%|███████████████████████████████████████████████████████████| 43/43 [00:00<00:00, 157.18it/s]"
     ]
    },
    {
     "name": "stdout",
     "output_type": "stream",
     "text": [
      "\n",
      "Training Loss: 0.138 dev performance, p:0.887, r:0.955, f1:0.920\n",
      "\n",
      " Epoch 10 / 20\n"
     ]
    },
    {
     "name": "stderr",
     "output_type": "stream",
     "text": [
      "\n",
      "100%|██████████████████████████████████████████████████████████| 129/129 [00:03<00:00, 41.14it/s]"
     ]
    },
    {
     "name": "stdout",
     "output_type": "stream",
     "text": [
      "evaluating...\n"
     ]
    },
    {
     "name": "stderr",
     "output_type": "stream",
     "text": [
      "\n",
      "100%|███████████████████████████████████████████████████████████| 43/43 [00:00<00:00, 159.07it/s]"
     ]
    },
    {
     "name": "stdout",
     "output_type": "stream",
     "text": [
      "\n",
      "Training Loss: 0.103 dev performance, p:0.886, r:0.939, f1:0.912\n",
      "\n",
      " Epoch 11 / 20\n"
     ]
    },
    {
     "name": "stderr",
     "output_type": "stream",
     "text": [
      "\n",
      "100%|██████████████████████████████████████████████████████████| 129/129 [00:03<00:00, 41.23it/s]"
     ]
    },
    {
     "name": "stdout",
     "output_type": "stream",
     "text": [
      "evaluating...\n"
     ]
    },
    {
     "name": "stderr",
     "output_type": "stream",
     "text": [
      "\n",
      "100%|███████████████████████████████████████████████████████████| 43/43 [00:00<00:00, 159.13it/s]"
     ]
    },
    {
     "name": "stdout",
     "output_type": "stream",
     "text": [
      "\n",
      "Training Loss: 0.099 dev performance, p:0.900, r:0.955, f1:0.926\n",
      "\n",
      " Epoch 12 / 20\n"
     ]
    },
    {
     "name": "stderr",
     "output_type": "stream",
     "text": [
      "\n",
      "100%|██████████████████████████████████████████████████████████| 129/129 [00:03<00:00, 41.25it/s]"
     ]
    },
    {
     "name": "stdout",
     "output_type": "stream",
     "text": [
      "evaluating...\n"
     ]
    },
    {
     "name": "stderr",
     "output_type": "stream",
     "text": [
      "\n",
      "100%|███████████████████████████████████████████████████████████| 43/43 [00:00<00:00, 160.50it/s]"
     ]
    },
    {
     "name": "stdout",
     "output_type": "stream",
     "text": [
      "\n",
      "Training Loss: 0.104 dev performance, p:0.887, r:0.955, f1:0.920\n",
      "\n",
      " Epoch 13 / 20\n"
     ]
    },
    {
     "name": "stderr",
     "output_type": "stream",
     "text": [
      "\n",
      "100%|██████████████████████████████████████████████████████████| 129/129 [00:03<00:00, 36.69it/s]"
     ]
    },
    {
     "name": "stdout",
     "output_type": "stream",
     "text": [
      "evaluating...\n"
     ]
    },
    {
     "name": "stderr",
     "output_type": "stream",
     "text": [
      "\n",
      "100%|███████████████████████████████████████████████████████████| 43/43 [00:00<00:00, 147.42it/s]"
     ]
    },
    {
     "name": "stdout",
     "output_type": "stream",
     "text": [
      "\n",
      "Training Loss: 0.147 dev performance, p:0.853, r:0.970, f1:0.908\n",
      "\n",
      " Epoch 14 / 20\n"
     ]
    },
    {
     "name": "stderr",
     "output_type": "stream",
     "text": [
      "\n",
      "100%|██████████████████████████████████████████████████████████| 129/129 [00:03<00:00, 39.90it/s]"
     ]
    },
    {
     "name": "stdout",
     "output_type": "stream",
     "text": [
      "evaluating...\n"
     ]
    },
    {
     "name": "stderr",
     "output_type": "stream",
     "text": [
      "\n",
      "100%|███████████████████████████████████████████████████████████| 43/43 [00:00<00:00, 157.36it/s]"
     ]
    },
    {
     "name": "stdout",
     "output_type": "stream",
     "text": [
      "\n",
      "Training Loss: 0.128 dev performance, p:0.886, r:0.939, f1:0.912\n",
      "\n",
      " Epoch 15 / 20\n"
     ]
    },
    {
     "name": "stderr",
     "output_type": "stream",
     "text": [
      "\n",
      "100%|██████████████████████████████████████████████████████████| 129/129 [00:03<00:00, 41.02it/s]"
     ]
    },
    {
     "name": "stdout",
     "output_type": "stream",
     "text": [
      "evaluating...\n"
     ]
    },
    {
     "name": "stderr",
     "output_type": "stream",
     "text": [
      "\n",
      "100%|███████████████████████████████████████████████████████████| 43/43 [00:00<00:00, 159.88it/s]"
     ]
    },
    {
     "name": "stdout",
     "output_type": "stream",
     "text": [
      "\n",
      "Training Loss: 0.119 dev performance, p:0.823, r:0.985, f1:0.897\n",
      "\n",
      " Epoch 16 / 20\n"
     ]
    },
    {
     "name": "stderr",
     "output_type": "stream",
     "text": [
      "\n",
      "100%|██████████████████████████████████████████████████████████| 129/129 [00:03<00:00, 40.98it/s]"
     ]
    },
    {
     "name": "stdout",
     "output_type": "stream",
     "text": [
      "evaluating...\n"
     ]
    },
    {
     "name": "stderr",
     "output_type": "stream",
     "text": [
      "\n",
      "100%|███████████████████████████████████████████████████████████| 43/43 [00:00<00:00, 157.24it/s]"
     ]
    },
    {
     "name": "stdout",
     "output_type": "stream",
     "text": [
      "\n",
      "Training Loss: 0.130 dev performance, p:0.840, r:0.955, f1:0.894\n",
      "\n",
      " Epoch 17 / 20\n"
     ]
    },
    {
     "name": "stderr",
     "output_type": "stream",
     "text": [
      "\n",
      "100%|██████████████████████████████████████████████████████████| 129/129 [00:03<00:00, 41.06it/s]"
     ]
    },
    {
     "name": "stdout",
     "output_type": "stream",
     "text": [
      "evaluating...\n"
     ]
    },
    {
     "name": "stderr",
     "output_type": "stream",
     "text": [
      "\n",
      "100%|███████████████████████████████████████████████████████████| 43/43 [00:00<00:00, 159.82it/s]"
     ]
    },
    {
     "name": "stdout",
     "output_type": "stream",
     "text": [
      "\n",
      "Training Loss: 0.117 dev performance, p:0.900, r:0.955, f1:0.926\n",
      "\n",
      " Epoch 18 / 20\n"
     ]
    },
    {
     "name": "stderr",
     "output_type": "stream",
     "text": [
      "\n",
      "100%|██████████████████████████████████████████████████████████| 129/129 [00:03<00:00, 41.12it/s]"
     ]
    },
    {
     "name": "stdout",
     "output_type": "stream",
     "text": [
      "evaluating...\n"
     ]
    },
    {
     "name": "stderr",
     "output_type": "stream",
     "text": [
      "\n",
      "100%|███████████████████████████████████████████████████████████| 43/43 [00:00<00:00, 157.51it/s]"
     ]
    },
    {
     "name": "stdout",
     "output_type": "stream",
     "text": [
      "\n",
      "Training Loss: 0.109 dev performance, p:0.900, r:0.955, f1:0.926\n",
      "\n",
      " Epoch 19 / 20\n"
     ]
    },
    {
     "name": "stderr",
     "output_type": "stream",
     "text": [
      "\n",
      "100%|██████████████████████████████████████████████████████████| 129/129 [00:03<00:00, 41.06it/s]"
     ]
    },
    {
     "name": "stdout",
     "output_type": "stream",
     "text": [
      "evaluating...\n"
     ]
    },
    {
     "name": "stderr",
     "output_type": "stream",
     "text": [
      "\n",
      "100%|███████████████████████████████████████████████████████████| 43/43 [00:00<00:00, 159.85it/s]"
     ]
    },
    {
     "name": "stdout",
     "output_type": "stream",
     "text": [
      "\n",
      "Training Loss: 0.116 dev performance, p:0.889, r:0.970, f1:0.928\n",
      "\n",
      " Epoch 20 / 20\n"
     ]
    },
    {
     "name": "stderr",
     "output_type": "stream",
     "text": [
      "\n",
      "100%|██████████████████████████████████████████████████████████| 129/129 [00:03<00:00, 41.03it/s]"
     ]
    },
    {
     "name": "stdout",
     "output_type": "stream",
     "text": [
      "evaluating...\n"
     ]
    },
    {
     "name": "stderr",
     "output_type": "stream",
     "text": [
      "\n",
      "100%|███████████████████████████████████████████████████████████| 43/43 [00:00<00:00, 157.62it/s]"
     ]
    },
    {
     "name": "stdout",
     "output_type": "stream",
     "text": [
      "\n",
      "Training Loss: 0.098 dev performance, p:0.863, r:0.955, f1:0.906\n"
     ]
    },
    {
     "name": "stderr",
     "output_type": "stream",
     "text": [
      "\n"
     ]
    }
   ],
   "source": [
    "#for each epoch\n",
    "\n",
    "best_model_state = None\n",
    "best_score = -1\n",
    "\n",
    "for epoch in range(epochs):\n",
    "     \n",
    "    print('\\n Epoch {:} / {:}'.format(epoch + 1, epochs), flush=True)\n",
    "    #train model\n",
    "    train_loss, performance = train()\n",
    "    print('\\nTraining Loss: {:.3f}'.format(train_loss), \n",
    "          'dev performance, p:{precision:.3f}, r:{recall:.3f}, f1:{f1:.3f}'.format(**performance), flush=True)\n",
    "    if best_score < performance['f1']:\n",
    "        best_score = performance['f1']\n",
    "        best_model_state = copy.deepcopy(model.state_dict())\n",
    "        print('current best score is {0:.3f}'.format(best_score), flush=True)    \n",
    "\n",
    "ran = True"
   ]
  },
  {
   "cell_type": "code",
   "execution_count": 56,
   "metadata": {},
   "outputs": [],
   "source": [
    "model_file = 'bluebert_initial_mimic.pt'\n",
    "torch.save(best_model_state, model_file)"
   ]
  },
  {
   "cell_type": "code",
   "execution_count": 57,
   "metadata": {},
   "outputs": [],
   "source": [
    "if not ran:\n",
    "    device = torch.device('cuda' if torch.cuda.is_available() else 'cpu')\n",
    "\n",
    "    model_file = 'bluebert_initial_mimic.pt'\n",
    "\n",
    "    categories = {'control': 0, 'case': 1}\n",
    "    # initialise the model use pretrained bert instance and the label numbers\n",
    "    model = BERT_Text_Classifier(bert_2, class_num=len(categories))\n",
    "\n",
    "    model.load_state_dict(torch.load(model_file))\n",
    "    model.eval()"
   ]
  },
  {
   "cell_type": "markdown",
   "metadata": {},
   "source": [
    "### Test the BlueBERT"
   ]
  },
  {
   "cell_type": "code",
   "execution_count": 58,
   "metadata": {},
   "outputs": [],
   "source": [
    "test_seq = test_seq.to(device)\n",
    "test_mask = test_mask.to(device)\n",
    "model = model.to(device)"
   ]
  },
  {
   "cell_type": "code",
   "execution_count": 59,
   "metadata": {},
   "outputs": [
    {
     "name": "stdout",
     "output_type": "stream",
     "text": [
      "evaluating...\n"
     ]
    },
    {
     "name": "stderr",
     "output_type": "stream",
     "text": [
      "100%|███████████████████████████████████████████████████████████| 43/43 [00:00<00:00, 159.01it/s]"
     ]
    },
    {
     "name": "stdout",
     "output_type": "stream",
     "text": [
      "{'precision': 0.9558823529411765, 'recall': 0.9558823529411765, 'f1': 0.9558823529411765}\n"
     ]
    },
    {
     "name": "stderr",
     "output_type": "stream",
     "text": [
      "\n"
     ]
    }
   ],
   "source": [
    "# dataLoader for test set\n",
    "# wrap tensors\n",
    "testing_data = TensorDataset(test_seq, test_mask, test_y)\n",
    "testing_data_loader = DataLoader(testing_data, batch_size=batch_size)     \n",
    "print(evaluate(model, testing_data_loader))\n",
    "# preds = np.argmax(preds.detach().cpu(), axis = 1)"
   ]
  },
  {
   "cell_type": "code",
   "execution_count": 60,
   "metadata": {},
   "outputs": [
    {
     "name": "stdout",
     "output_type": "stream",
     "text": [
      "              precision    recall  f1-score   support\n",
      "\n",
      "           0       0.98      0.97      0.97       147\n",
      "           1       0.93      0.96      0.94        68\n",
      "\n",
      "    accuracy                           0.96       215\n",
      "   macro avg       0.95      0.96      0.96       215\n",
      "weighted avg       0.96      0.96      0.96       215\n",
      "\n"
     ]
    }
   ],
   "source": [
    "# predicting, so gradients\n",
    "with torch.no_grad():\n",
    "    preds = model(test_seq, test_mask)\n",
    "    \n",
    "preds = np.argmax(preds.detach().cpu(), axis = 1)\n",
    "print(classification_report(test_y, preds))"
   ]
  },
  {
   "cell_type": "code",
   "execution_count": 61,
   "metadata": {},
   "outputs": [
    {
     "data": {
      "image/png": "[encoded data removed]",
      "text/plain": [
       "<Figure size 432x288 with 2 Axes>"
      ]
     },
     "metadata": {
      "needs_background": "light"
     },
     "output_type": "display_data"
    }
   ],
   "source": [
    "cm_bert = confusion_matrix(test_y, preds, labels=[1,0])\n",
    "ax= plt.subplot()\n",
    "sns.heatmap(cm_bert, annot=True, ax = ax, cmap='Blues', fmt=\"d\")\n",
    "\n",
    "ax.set_title('Confusion Matrix of BlueBERT (MIMIC-III data)')\n",
    "\n",
    "ax.set_xlabel('Predicted Labels')\n",
    "ax.set_ylabel('True Labels')\n",
    "\n",
    "ax.xaxis.set_ticklabels(['FAKE', 'REAL'])\n",
    "ax.yaxis.set_ticklabels(['FAKE', 'REAL'])\n",
    "plt.savefig('Confusion_matrix_BlueBERT_mimic')"
   ]
  },
  {
   "cell_type": "markdown",
   "metadata": {},
   "source": [
    "### Grid search of BlueBERT for optimization"
   ]
  },
  {
   "cell_type": "code",
   "execution_count": 62,
   "metadata": {},
   "outputs": [
    {
     "name": "stdout",
     "output_type": "stream",
     "text": [
      "Building sklearn text classifier...\n",
      "Building sklearn text classifier...\n",
      "Fitting 3 folds for each of 9 candidates, totalling 27 fits\n",
      "Building sklearn text classifier...\n",
      "Loading bert-base-uncased model...\n",
      "Defaulting to linear classifier/regressor\n",
      "Loading Pytorch checkpoint\n",
      "train data size: 428, validation data size: 0\n"
     ]
    },
    {
     "name": "stderr",
     "output_type": "stream",
     "text": [
      "Training  : 100%|████████████████████████████████████| 14/14 [00:02<00:00,  6.65it/s, loss=0.522]\n",
      "Training  : 100%|████████████████████████████████████| 14/14 [00:02<00:00,  6.59it/s, loss=0.283]\n",
      "Training  : 100%|█████████████████████████████████████| 14/14 [00:02<00:00,  6.56it/s, loss=0.21]\n",
      "Training  : 100%|████████████████████████████████████| 14/14 [00:02<00:00,  6.62it/s, loss=0.185]\n",
      "Training  : 100%|████████████████████████████████████| 14/14 [00:02<00:00,  6.48it/s, loss=0.102]\n",
      "Training  : 100%|████████████████████████████████████| 14/14 [00:02<00:00,  6.60it/s, loss=0.135]\n",
      "Training  : 100%|████████████████████████████████████| 14/14 [00:02<00:00,  6.65it/s, loss=0.129]\n",
      "Training  : 100%|███████████████████████████████████| 14/14 [00:02<00:00,  6.60it/s, loss=0.0931]\n",
      "Training  : 100%|███████████████████████████████████| 14/14 [00:02<00:00,  6.54it/s, loss=0.0781]\n",
      "Training  : 100%|███████████████████████████████████| 14/14 [00:02<00:00,  6.62it/s, loss=0.0759]\n",
      "Training  : 100%|████████████████████████████████████| 14/14 [00:02<00:00,  6.62it/s, loss=0.068]\n",
      "Training  : 100%|███████████████████████████████████| 14/14 [00:02<00:00,  6.59it/s, loss=0.0693]\n",
      "Training  : 100%|███████████████████████████████████| 14/14 [00:02<00:00,  6.60it/s, loss=0.0723]\n",
      "Training  : 100%|███████████████████████████████████| 14/14 [00:02<00:00,  6.67it/s, loss=0.0611]\n",
      "Training  : 100%|███████████████████████████████████| 14/14 [00:02<00:00,  6.58it/s, loss=0.0543]\n",
      "Training  : 100%|███████████████████████████████████| 14/14 [00:02<00:00,  6.66it/s, loss=0.0604]\n",
      "Training  : 100%|███████████████████████████████████| 14/14 [00:02<00:00,  6.66it/s, loss=0.0584]\n",
      "Training  : 100%|███████████████████████████████████| 14/14 [00:02<00:00,  6.63it/s, loss=0.0539]\n",
      "Training  : 100%|███████████████████████████████████| 14/14 [00:02<00:00,  6.67it/s, loss=0.0557]\n",
      "Training  : 100%|███████████████████████████████████| 14/14 [00:02<00:00,  6.66it/s, loss=0.0578]\n",
      "Training  : 100%|███████████████████████████████████| 14/14 [00:02<00:00,  6.64it/s, loss=0.0543]\n",
      "Training  : 100%|███████████████████████████████████| 14/14 [00:02<00:00,  6.66it/s, loss=0.0526]\n",
      "Training  : 100%|███████████████████████████████████| 14/14 [00:02<00:00,  6.60it/s, loss=0.0569]\n",
      "Training  : 100%|███████████████████████████████████| 14/14 [00:02<00:00,  6.63it/s, loss=0.0578]\n",
      "Training  : 100%|███████████████████████████████████| 14/14 [00:02<00:00,  6.63it/s, loss=0.0517]\n",
      "Training  : 100%|███████████████████████████████████| 14/14 [00:02<00:00,  6.62it/s, loss=0.0575]\n",
      "Training  : 100%|███████████████████████████████████| 14/14 [00:02<00:00,  6.64it/s, loss=0.0503]\n",
      "Training  : 100%|███████████████████████████████████| 14/14 [00:02<00:00,  6.62it/s, loss=0.0539]\n",
      "Training  : 100%|███████████████████████████████████| 14/14 [00:02<00:00,  6.63it/s, loss=0.0535]\n",
      "Training  : 100%|███████████████████████████████████| 14/14 [00:02<00:00,  6.61it/s, loss=0.0535]\n",
      "Training  : 100%|███████████████████████████████████| 14/14 [00:02<00:00,  6.56it/s, loss=0.0511]\n",
      "Training  : 100%|███████████████████████████████████| 14/14 [00:02<00:00,  6.50it/s, loss=0.0588]\n",
      "Training  : 100%|███████████████████████████████████| 14/14 [00:02<00:00,  6.63it/s, loss=0.0522]\n",
      "Training  : 100%|███████████████████████████████████| 14/14 [00:02<00:00,  6.57it/s, loss=0.0593]\n",
      "Training  : 100%|███████████████████████████████████| 14/14 [00:02<00:00,  6.69it/s, loss=0.0529]\n",
      "Training  : 100%|███████████████████████████████████| 14/14 [00:02<00:00,  6.61it/s, loss=0.0491]\n",
      "Training  : 100%|████████████████████████████████████| 14/14 [00:02<00:00,  6.60it/s, loss=0.058]\n",
      "Training  : 100%|███████████████████████████████████| 14/14 [00:02<00:00,  6.62it/s, loss=0.0706]\n",
      "Training  : 100%|███████████████████████████████████| 14/14 [00:02<00:00,  6.66it/s, loss=0.0484]\n",
      "Training  : 100%|███████████████████████████████████| 14/14 [00:02<00:00,  6.63it/s, loss=0.0483]\n",
      "Training  : 100%|███████████████████████████████████| 14/14 [00:02<00:00,  6.61it/s, loss=0.0468]\n",
      "Training  : 100%|███████████████████████████████████| 14/14 [00:02<00:00,  6.62it/s, loss=0.0541]\n",
      "Training  : 100%|███████████████████████████████████| 14/14 [00:02<00:00,  6.66it/s, loss=0.0437]\n",
      "Training  : 100%|███████████████████████████████████| 14/14 [00:02<00:00,  6.62it/s, loss=0.0483]\n",
      "Training  : 100%|███████████████████████████████████| 14/14 [00:02<00:00,  6.39it/s, loss=0.0457]\n",
      "Training  : 100%|███████████████████████████████████| 14/14 [00:02<00:00,  6.71it/s, loss=0.0469]\n",
      "Training  : 100%|███████████████████████████████████| 14/14 [00:02<00:00,  6.50it/s, loss=0.0447]\n",
      "Training  : 100%|███████████████████████████████████| 14/14 [00:02<00:00,  6.57it/s, loss=0.0474]\n",
      "Training  : 100%|███████████████████████████████████| 14/14 [00:02<00:00,  6.63it/s, loss=0.0423]\n",
      "Training  : 100%|███████████████████████████████████| 14/14 [00:02<00:00,  6.61it/s, loss=0.0562]\n",
      "Predicting: 100%|████████████████████████████████████████████████| 27/27 [00:00<00:00, 48.46it/s]\n"
     ]
    },
    {
     "name": "stdout",
     "output_type": "stream",
     "text": [
      "Building sklearn text classifier...\n",
      "Loading bert-base-uncased model...\n",
      "Defaulting to linear classifier/regressor\n",
      "Loading Pytorch checkpoint\n",
      "train data size: 428, validation data size: 0\n"
     ]
    },
    {
     "name": "stderr",
     "output_type": "stream",
     "text": [
      "Training  : 100%|█████████████████████████████████████| 14/14 [00:02<00:00,  6.48it/s, loss=0.52]\n",
      "Training  : 100%|████████████████████████████████████| 14/14 [00:02<00:00,  6.63it/s, loss=0.285]\n",
      "Training  : 100%|████████████████████████████████████| 14/14 [00:02<00:00,  6.54it/s, loss=0.254]\n",
      "Training  : 100%|████████████████████████████████████| 14/14 [00:02<00:00,  6.64it/s, loss=0.235]\n",
      "Training  : 100%|████████████████████████████████████| 14/14 [00:02<00:00,  6.54it/s, loss=0.142]\n",
      "Training  : 100%|████████████████████████████████████| 14/14 [00:02<00:00,  6.61it/s, loss=0.126]\n",
      "Training  : 100%|████████████████████████████████████| 14/14 [00:02<00:00,  6.64it/s, loss=0.103]\n",
      "Training  : 100%|████████████████████████████████████| 14/14 [00:02<00:00,  6.63it/s, loss=0.103]\n",
      "Training  : 100%|████████████████████████████████████| 14/14 [00:02<00:00,  6.57it/s, loss=0.104]\n",
      "Training  : 100%|████████████████████████████████████| 14/14 [00:02<00:00,  6.57it/s, loss=0.111]\n",
      "Training  : 100%|███████████████████████████████████| 14/14 [00:02<00:00,  6.58it/s, loss=0.0904]\n",
      "Training  : 100%|███████████████████████████████████| 14/14 [00:02<00:00,  6.55it/s, loss=0.0847]\n",
      "Training  : 100%|███████████████████████████████████| 14/14 [00:02<00:00,  6.65it/s, loss=0.0856]\n",
      "Training  : 100%|███████████████████████████████████| 14/14 [00:02<00:00,  6.61it/s, loss=0.0703]\n",
      "Training  : 100%|███████████████████████████████████| 14/14 [00:02<00:00,  6.65it/s, loss=0.0931]\n",
      "Training  : 100%|███████████████████████████████████| 14/14 [00:02<00:00,  6.60it/s, loss=0.0753]\n",
      "Training  : 100%|███████████████████████████████████| 14/14 [00:02<00:00,  6.58it/s, loss=0.0666]\n",
      "Training  : 100%|███████████████████████████████████| 14/14 [00:02<00:00,  6.62it/s, loss=0.0644]\n",
      "Training  : 100%|███████████████████████████████████| 14/14 [00:02<00:00,  6.58it/s, loss=0.0702]\n",
      "Training  : 100%|███████████████████████████████████| 14/14 [00:02<00:00,  6.61it/s, loss=0.0679]\n",
      "Training  : 100%|███████████████████████████████████| 14/14 [00:02<00:00,  6.59it/s, loss=0.0628]\n",
      "Training  : 100%|███████████████████████████████████| 14/14 [00:02<00:00,  6.60it/s, loss=0.0639]\n",
      "Training  : 100%|███████████████████████████████████| 14/14 [00:02<00:00,  6.61it/s, loss=0.0637]\n",
      "Training  : 100%|███████████████████████████████████| 14/14 [00:02<00:00,  6.61it/s, loss=0.0635]\n",
      "Training  : 100%|███████████████████████████████████| 14/14 [00:02<00:00,  6.55it/s, loss=0.0535]\n",
      "Training  : 100%|███████████████████████████████████| 14/14 [00:02<00:00,  6.57it/s, loss=0.0549]\n",
      "Training  : 100%|███████████████████████████████████| 14/14 [00:02<00:00,  6.63it/s, loss=0.0543]\n",
      "Training  : 100%|███████████████████████████████████| 14/14 [00:02<00:00,  6.60it/s, loss=0.0621]\n",
      "Training  : 100%|███████████████████████████████████| 14/14 [00:02<00:00,  6.61it/s, loss=0.0549]\n",
      "Training  : 100%|███████████████████████████████████| 14/14 [00:02<00:00,  6.62it/s, loss=0.0582]\n",
      "Training  : 100%|███████████████████████████████████| 14/14 [00:02<00:00,  6.59it/s, loss=0.0599]\n",
      "Training  : 100%|███████████████████████████████████| 14/14 [00:02<00:00,  6.63it/s, loss=0.0619]\n",
      "Training  : 100%|███████████████████████████████████| 14/14 [00:02<00:00,  6.59it/s, loss=0.0566]\n",
      "Training  : 100%|███████████████████████████████████| 14/14 [00:02<00:00,  6.63it/s, loss=0.0749]\n",
      "Training  : 100%|███████████████████████████████████| 14/14 [00:02<00:00,  6.57it/s, loss=0.0611]\n",
      "Training  : 100%|███████████████████████████████████| 14/14 [00:02<00:00,  6.62it/s, loss=0.0522]\n",
      "Training  : 100%|███████████████████████████████████| 14/14 [00:02<00:00,  6.62it/s, loss=0.0686]\n",
      "Training  : 100%|███████████████████████████████████| 14/14 [00:02<00:00,  6.58it/s, loss=0.0527]\n",
      "Training  : 100%|███████████████████████████████████| 14/14 [00:02<00:00,  6.64it/s, loss=0.0482]\n",
      "Training  : 100%|███████████████████████████████████| 14/14 [00:02<00:00,  6.58it/s, loss=0.0476]\n",
      "Training  : 100%|███████████████████████████████████| 14/14 [00:02<00:00,  6.61it/s, loss=0.0507]\n",
      "Training  : 100%|███████████████████████████████████| 14/14 [00:02<00:00,  6.58it/s, loss=0.0515]\n",
      "Training  : 100%|███████████████████████████████████| 14/14 [00:02<00:00,  6.59it/s, loss=0.0515]\n",
      "Training  : 100%|███████████████████████████████████| 14/14 [00:02<00:00,  6.54it/s, loss=0.0472]\n",
      "Training  : 100%|███████████████████████████████████| 14/14 [00:02<00:00,  6.60it/s, loss=0.0542]\n",
      "Training  : 100%|████████████████████████████████████| 14/14 [00:02<00:00,  6.60it/s, loss=0.054]\n",
      "Training  : 100%|███████████████████████████████████| 14/14 [00:02<00:00,  6.62it/s, loss=0.0487]\n",
      "Training  : 100%|███████████████████████████████████| 14/14 [00:02<00:00,  6.55it/s, loss=0.0493]\n",
      "Training  : 100%|███████████████████████████████████| 14/14 [00:02<00:00,  6.68it/s, loss=0.0491]\n",
      "Training  : 100%|███████████████████████████████████| 14/14 [00:02<00:00,  6.53it/s, loss=0.0541]\n",
      "Predicting: 100%|████████████████████████████████████████████████| 27/27 [00:00<00:00, 50.13it/s]\n"
     ]
    },
    {
     "name": "stdout",
     "output_type": "stream",
     "text": [
      "Building sklearn text classifier...\n",
      "Loading bert-base-uncased model...\n",
      "Defaulting to linear classifier/regressor\n",
      "Loading Pytorch checkpoint\n",
      "train data size: 428, validation data size: 0\n"
     ]
    },
    {
     "name": "stderr",
     "output_type": "stream",
     "text": [
      "Training  : 100%|████████████████████████████████████| 14/14 [00:02<00:00,  6.44it/s, loss=0.541]\n",
      "Training  : 100%|████████████████████████████████████| 14/14 [00:02<00:00,  6.58it/s, loss=0.273]\n",
      "Training  : 100%|████████████████████████████████████| 14/14 [00:02<00:00,  6.57it/s, loss=0.223]\n",
      "Training  : 100%|████████████████████████████████████| 14/14 [00:02<00:00,  6.64it/s, loss=0.155]\n",
      "Training  : 100%|████████████████████████████████████| 14/14 [00:02<00:00,  6.52it/s, loss=0.136]\n",
      "Training  : 100%|████████████████████████████████████| 14/14 [00:02<00:00,  6.58it/s, loss=0.112]\n",
      "Training  : 100%|███████████████████████████████████| 14/14 [00:02<00:00,  6.54it/s, loss=0.0832]\n",
      "Training  : 100%|███████████████████████████████████| 14/14 [00:02<00:00,  6.58it/s, loss=0.0715]\n",
      "Training  : 100%|███████████████████████████████████| 14/14 [00:02<00:00,  6.58it/s, loss=0.0812]\n",
      "Training  : 100%|███████████████████████████████████| 14/14 [00:02<00:00,  6.56it/s, loss=0.0583]\n",
      "Training  : 100%|███████████████████████████████████| 14/14 [00:02<00:00,  6.56it/s, loss=0.0558]\n",
      "Training  : 100%|███████████████████████████████████| 14/14 [00:02<00:00,  6.61it/s, loss=0.0551]\n",
      "Training  : 100%|███████████████████████████████████| 14/14 [00:02<00:00,  6.58it/s, loss=0.0535]\n",
      "Training  : 100%|███████████████████████████████████| 14/14 [00:02<00:00,  6.59it/s, loss=0.0482]\n",
      "Training  : 100%|███████████████████████████████████| 14/14 [00:02<00:00,  6.61it/s, loss=0.0509]\n",
      "Training  : 100%|███████████████████████████████████| 14/14 [00:02<00:00,  6.56it/s, loss=0.0517]\n",
      "Training  : 100%|███████████████████████████████████| 14/14 [00:02<00:00,  6.62it/s, loss=0.0485]\n",
      "Training  : 100%|███████████████████████████████████| 14/14 [00:02<00:00,  6.57it/s, loss=0.0418]\n",
      "Training  : 100%|███████████████████████████████████| 14/14 [00:02<00:00,  6.53it/s, loss=0.0427]\n",
      "Training  : 100%|███████████████████████████████████| 14/14 [00:02<00:00,  6.60it/s, loss=0.0426]\n",
      "Training  : 100%|███████████████████████████████████| 14/14 [00:02<00:00,  6.60it/s, loss=0.0401]\n",
      "Training  : 100%|███████████████████████████████████| 14/14 [00:02<00:00,  6.60it/s, loss=0.0402]\n",
      "Training  : 100%|███████████████████████████████████| 14/14 [00:02<00:00,  6.62it/s, loss=0.0445]\n",
      "Training  : 100%|████████████████████████████████████| 14/14 [00:02<00:00,  6.59it/s, loss=0.041]\n",
      "Training  : 100%|███████████████████████████████████| 14/14 [00:02<00:00,  6.61it/s, loss=0.0387]\n",
      "Training  : 100%|███████████████████████████████████| 14/14 [00:02<00:00,  6.55it/s, loss=0.0419]\n",
      "Training  : 100%|███████████████████████████████████| 14/14 [00:02<00:00,  6.36it/s, loss=0.0389]\n",
      "Training  : 100%|███████████████████████████████████| 14/14 [00:02<00:00,  6.51it/s, loss=0.0442]\n",
      "Training  : 100%|███████████████████████████████████| 14/14 [00:02<00:00,  6.41it/s, loss=0.0388]\n",
      "Training  : 100%|███████████████████████████████████| 14/14 [00:02<00:00,  6.54it/s, loss=0.0494]\n",
      "Training  : 100%|███████████████████████████████████| 14/14 [00:02<00:00,  6.62it/s, loss=0.0512]\n",
      "Training  : 100%|███████████████████████████████████| 14/14 [00:02<00:00,  6.61it/s, loss=0.0405]\n",
      "Training  : 100%|████████████████████████████████████| 14/14 [00:02<00:00,  6.57it/s, loss=0.047]\n",
      "Training  : 100%|███████████████████████████████████| 14/14 [00:02<00:00,  6.58it/s, loss=0.0403]\n",
      "Training  : 100%|███████████████████████████████████| 14/14 [00:02<00:00,  6.62it/s, loss=0.0386]\n",
      "Training  : 100%|███████████████████████████████████| 14/14 [00:02<00:00,  6.56it/s, loss=0.0433]\n",
      "Training  : 100%|█████████████████████████████████████| 14/14 [00:02<00:00,  6.55it/s, loss=0.05]\n",
      "Training  : 100%|███████████████████████████████████| 14/14 [00:02<00:00,  6.58it/s, loss=0.0403]\n",
      "Training  : 100%|███████████████████████████████████| 14/14 [00:02<00:00,  6.59it/s, loss=0.0383]\n",
      "Training  : 100%|███████████████████████████████████| 14/14 [00:02<00:00,  6.56it/s, loss=0.0398]\n",
      "Training  : 100%|███████████████████████████████████| 14/14 [00:02<00:00,  6.57it/s, loss=0.0423]\n",
      "Training  : 100%|███████████████████████████████████| 14/14 [00:02<00:00,  6.61it/s, loss=0.0392]\n",
      "Training  : 100%|███████████████████████████████████| 14/14 [00:02<00:00,  6.54it/s, loss=0.0447]\n",
      "Training  : 100%|████████████████████████████████████| 14/14 [00:02<00:00,  6.59it/s, loss=0.039]\n",
      "Training  : 100%|███████████████████████████████████| 14/14 [00:02<00:00,  6.61it/s, loss=0.0405]\n",
      "Training  : 100%|███████████████████████████████████| 14/14 [00:02<00:00,  6.61it/s, loss=0.0461]\n",
      "Training  : 100%|███████████████████████████████████| 14/14 [00:02<00:00,  6.55it/s, loss=0.0414]\n",
      "Training  : 100%|███████████████████████████████████| 14/14 [00:02<00:00,  6.54it/s, loss=0.0416]\n",
      "Training  : 100%|███████████████████████████████████| 14/14 [00:02<00:00,  6.60it/s, loss=0.0398]\n",
      "Training  : 100%|████████████████████████████████████| 14/14 [00:02<00:00,  6.57it/s, loss=0.039]\n",
      "Predicting: 100%|████████████████████████████████████████████████| 27/27 [00:00<00:00, 49.34it/s]\n"
     ]
    },
    {
     "name": "stdout",
     "output_type": "stream",
     "text": [
      "Building sklearn text classifier...\n",
      "Loading bert-base-uncased model...\n",
      "Defaulting to linear classifier/regressor\n",
      "Loading Pytorch checkpoint\n",
      "train data size: 428, validation data size: 0\n"
     ]
    },
    {
     "name": "stderr",
     "output_type": "stream",
     "text": [
      "Training  : 100%|████████████████████████████████████| 14/14 [00:02<00:00,  6.46it/s, loss=0.487]\n",
      "Training  : 100%|████████████████████████████████████| 14/14 [00:02<00:00,  6.57it/s, loss=0.279]\n",
      "Training  : 100%|████████████████████████████████████| 14/14 [00:02<00:00,  6.62it/s, loss=0.261]\n",
      "Training  : 100%|█████████████████████████████████████| 14/14 [00:02<00:00,  6.59it/s, loss=0.19]\n",
      "Training  : 100%|████████████████████████████████████| 14/14 [00:02<00:00,  6.63it/s, loss=0.122]\n",
      "Training  : 100%|████████████████████████████████████| 14/14 [00:02<00:00,  6.52it/s, loss=0.106]\n",
      "Training  : 100%|███████████████████████████████████| 14/14 [00:02<00:00,  6.58it/s, loss=0.0952]\n",
      "Training  : 100%|███████████████████████████████████| 14/14 [00:02<00:00,  6.53it/s, loss=0.0929]\n",
      "Training  : 100%|███████████████████████████████████| 14/14 [00:02<00:00,  6.58it/s, loss=0.0853]\n",
      "Training  : 100%|███████████████████████████████████| 14/14 [00:02<00:00,  6.56it/s, loss=0.0898]\n",
      "Training  : 100%|███████████████████████████████████| 14/14 [00:02<00:00,  6.54it/s, loss=0.0848]\n",
      "Training  : 100%|███████████████████████████████████| 14/14 [00:02<00:00,  6.59it/s, loss=0.0953]\n",
      "Training  : 100%|███████████████████████████████████| 14/14 [00:02<00:00,  6.59it/s, loss=0.0866]\n",
      "Training  : 100%|███████████████████████████████████| 14/14 [00:02<00:00,  6.59it/s, loss=0.0689]\n",
      "Training  : 100%|███████████████████████████████████| 14/14 [00:02<00:00,  6.57it/s, loss=0.0643]\n",
      "Training  : 100%|███████████████████████████████████| 14/14 [00:02<00:00,  6.59it/s, loss=0.0612]\n",
      "Training  : 100%|███████████████████████████████████| 14/14 [00:02<00:00,  6.55it/s, loss=0.0675]\n",
      "Training  : 100%|███████████████████████████████████| 14/14 [00:02<00:00,  6.60it/s, loss=0.0593]\n",
      "Training  : 100%|███████████████████████████████████| 14/14 [00:02<00:00,  6.66it/s, loss=0.0653]\n",
      "Training  : 100%|███████████████████████████████████| 14/14 [00:02<00:00,  6.54it/s, loss=0.0616]\n",
      "Training  : 100%|███████████████████████████████████| 14/14 [00:02<00:00,  6.54it/s, loss=0.0575]\n",
      "Training  : 100%|███████████████████████████████████| 14/14 [00:02<00:00,  6.61it/s, loss=0.0552]\n",
      "Training  : 100%|███████████████████████████████████| 14/14 [00:02<00:00,  6.58it/s, loss=0.0599]\n",
      "Training  : 100%|███████████████████████████████████| 14/14 [00:02<00:00,  6.58it/s, loss=0.0571]\n",
      "Training  : 100%|███████████████████████████████████| 14/14 [00:02<00:00,  6.63it/s, loss=0.0552]\n",
      "Training  : 100%|███████████████████████████████████| 14/14 [00:02<00:00,  6.59it/s, loss=0.0559]\n",
      "Training  : 100%|███████████████████████████████████| 14/14 [00:02<00:00,  6.62it/s, loss=0.0545]\n",
      "Training  : 100%|███████████████████████████████████| 14/14 [00:02<00:00,  6.57it/s, loss=0.0653]\n",
      "Training  : 100%|███████████████████████████████████| 14/14 [00:02<00:00,  6.61it/s, loss=0.0566]\n",
      "Training  : 100%|███████████████████████████████████| 14/14 [00:02<00:00,  6.35it/s, loss=0.0609]\n",
      "Training  : 100%|███████████████████████████████████| 14/14 [00:02<00:00,  6.37it/s, loss=0.0597]\n",
      "Training  : 100%|███████████████████████████████████| 14/14 [00:02<00:00,  6.54it/s, loss=0.0615]\n",
      "Training  : 100%|███████████████████████████████████| 14/14 [00:02<00:00,  6.58it/s, loss=0.0595]\n",
      "Training  : 100%|███████████████████████████████████| 14/14 [00:02<00:00,  6.61it/s, loss=0.0585]\n",
      "Training  : 100%|███████████████████████████████████| 14/14 [00:02<00:00,  6.56it/s, loss=0.0559]\n",
      "Training  : 100%|███████████████████████████████████| 14/14 [00:02<00:00,  6.60it/s, loss=0.0493]\n",
      "Training  : 100%|███████████████████████████████████| 14/14 [00:02<00:00,  6.61it/s, loss=0.0554]\n",
      "Training  : 100%|███████████████████████████████████| 14/14 [00:02<00:00,  6.52it/s, loss=0.0489]\n",
      "Training  : 100%|███████████████████████████████████| 14/14 [00:02<00:00,  5.75it/s, loss=0.0466]\n",
      "Training  : 100%|███████████████████████████████████| 14/14 [00:02<00:00,  6.47it/s, loss=0.0489]\n",
      "Training  : 100%|███████████████████████████████████| 14/14 [00:02<00:00,  6.61it/s, loss=0.0485]\n",
      "Training  : 100%|███████████████████████████████████| 14/14 [00:02<00:00,  6.55it/s, loss=0.0516]\n",
      "Training  : 100%|████████████████████████████████████| 14/14 [00:02<00:00,  6.57it/s, loss=0.047]\n",
      "Training  : 100%|███████████████████████████████████| 14/14 [00:02<00:00,  6.52it/s, loss=0.0483]\n",
      "Training  : 100%|███████████████████████████████████| 14/14 [00:02<00:00,  6.56it/s, loss=0.0482]\n",
      "Training  : 100%|███████████████████████████████████| 14/14 [00:02<00:00,  6.57it/s, loss=0.0504]\n",
      "Training  : 100%|███████████████████████████████████| 14/14 [00:02<00:00,  6.61it/s, loss=0.0486]\n",
      "Training  : 100%|████████████████████████████████████| 14/14 [00:02<00:00,  6.57it/s, loss=0.048]\n",
      "Training  : 100%|███████████████████████████████████| 14/14 [00:02<00:00,  6.53it/s, loss=0.0479]\n",
      "Training  : 100%|████████████████████████████████████| 14/14 [00:02<00:00,  6.58it/s, loss=0.054]\n",
      "Predicting: 100%|████████████████████████████████████████████████| 27/27 [00:00<00:00, 48.58it/s]\n"
     ]
    },
    {
     "name": "stdout",
     "output_type": "stream",
     "text": [
      "Building sklearn text classifier...\n",
      "Loading bert-base-uncased model...\n",
      "Defaulting to linear classifier/regressor\n",
      "Loading Pytorch checkpoint\n",
      "train data size: 428, validation data size: 0\n"
     ]
    },
    {
     "name": "stderr",
     "output_type": "stream",
     "text": [
      "Training  : 100%|████████████████████████████████████| 14/14 [00:02<00:00,  6.46it/s, loss=0.492]\n",
      "Training  : 100%|████████████████████████████████████| 14/14 [00:02<00:00,  6.49it/s, loss=0.271]\n",
      "Training  : 100%|████████████████████████████████████| 14/14 [00:02<00:00,  6.57it/s, loss=0.176]\n",
      "Training  : 100%|████████████████████████████████████| 14/14 [00:02<00:00,  6.51it/s, loss=0.171]\n",
      "Training  : 100%|█████████████████████████████████████| 14/14 [00:02<00:00,  6.56it/s, loss=0.13]\n",
      "Training  : 100%|███████████████████████████████████| 14/14 [00:02<00:00,  6.60it/s, loss=0.0866]\n",
      "Training  : 100%|███████████████████████████████████| 14/14 [00:02<00:00,  6.48it/s, loss=0.0833]\n",
      "Training  : 100%|███████████████████████████████████| 14/14 [00:02<00:00,  6.58it/s, loss=0.0915]\n",
      "Training  : 100%|███████████████████████████████████| 14/14 [00:02<00:00,  6.55it/s, loss=0.0733]\n",
      "Training  : 100%|███████████████████████████████████| 14/14 [00:02<00:00,  6.55it/s, loss=0.0647]\n",
      "Training  : 100%|███████████████████████████████████| 14/14 [00:02<00:00,  6.56it/s, loss=0.0653]\n",
      "Training  : 100%|███████████████████████████████████| 14/14 [00:02<00:00,  6.57it/s, loss=0.0661]\n",
      "Training  : 100%|███████████████████████████████████| 14/14 [00:02<00:00,  6.54it/s, loss=0.0655]\n",
      "Training  : 100%|███████████████████████████████████| 14/14 [00:02<00:00,  6.63it/s, loss=0.0567]\n",
      "Training  : 100%|███████████████████████████████████| 14/14 [00:02<00:00,  6.53it/s, loss=0.0593]\n",
      "Training  : 100%|███████████████████████████████████| 14/14 [00:02<00:00,  6.54it/s, loss=0.0565]\n",
      "Training  : 100%|███████████████████████████████████| 14/14 [00:02<00:00,  6.60it/s, loss=0.0575]\n",
      "Training  : 100%|███████████████████████████████████| 14/14 [00:02<00:00,  6.57it/s, loss=0.0574]\n",
      "Training  : 100%|███████████████████████████████████| 14/14 [00:02<00:00,  6.58it/s, loss=0.0606]\n",
      "Training  : 100%|███████████████████████████████████| 14/14 [00:02<00:00,  6.52it/s, loss=0.0521]\n",
      "Training  : 100%|███████████████████████████████████| 14/14 [00:02<00:00,  6.56it/s, loss=0.0503]\n",
      "Training  : 100%|███████████████████████████████████| 14/14 [00:02<00:00,  6.61it/s, loss=0.0537]\n",
      "Training  : 100%|███████████████████████████████████| 14/14 [00:02<00:00,  6.60it/s, loss=0.0535]\n",
      "Training  : 100%|███████████████████████████████████| 14/14 [00:02<00:00,  6.56it/s, loss=0.0644]\n",
      "Training  : 100%|███████████████████████████████████| 14/14 [00:02<00:00,  6.54it/s, loss=0.0522]\n",
      "Training  : 100%|████████████████████████████████████| 14/14 [00:02<00:00,  6.59it/s, loss=0.051]\n",
      "Training  : 100%|███████████████████████████████████| 14/14 [00:02<00:00,  6.64it/s, loss=0.0521]\n",
      "Training  : 100%|███████████████████████████████████| 14/14 [00:02<00:00,  6.58it/s, loss=0.0487]\n",
      "Training  : 100%|███████████████████████████████████| 14/14 [00:02<00:00,  6.61it/s, loss=0.0491]\n",
      "Training  : 100%|███████████████████████████████████| 14/14 [00:02<00:00,  6.59it/s, loss=0.0529]\n",
      "Training  : 100%|███████████████████████████████████| 14/14 [00:02<00:00,  6.57it/s, loss=0.0488]\n",
      "Training  : 100%|███████████████████████████████████| 14/14 [00:02<00:00,  6.61it/s, loss=0.0588]\n",
      "Training  : 100%|███████████████████████████████████| 14/14 [00:02<00:00,  6.52it/s, loss=0.0524]\n",
      "Training  : 100%|███████████████████████████████████| 14/14 [00:02<00:00,  6.54it/s, loss=0.0593]\n",
      "Training  : 100%|███████████████████████████████████| 14/14 [00:02<00:00,  6.55it/s, loss=0.0569]\n",
      "Training  : 100%|███████████████████████████████████| 14/14 [00:02<00:00,  6.63it/s, loss=0.0527]\n",
      "Training  : 100%|███████████████████████████████████| 14/14 [00:02<00:00,  6.61it/s, loss=0.0686]\n",
      "Training  : 100%|███████████████████████████████████| 14/14 [00:02<00:00,  6.57it/s, loss=0.0496]\n",
      "Training  : 100%|███████████████████████████████████| 14/14 [00:02<00:00,  6.56it/s, loss=0.0506]\n",
      "Training  : 100%|███████████████████████████████████| 14/14 [00:02<00:00,  6.49it/s, loss=0.0478]\n",
      "Training  : 100%|███████████████████████████████████| 14/14 [00:02<00:00,  6.61it/s, loss=0.0499]\n",
      "Training  : 100%|███████████████████████████████████| 14/14 [00:02<00:00,  6.56it/s, loss=0.0498]\n",
      "Training  : 100%|███████████████████████████████████| 14/14 [00:02<00:00,  6.57it/s, loss=0.0465]\n",
      "Training  : 100%|███████████████████████████████████| 14/14 [00:02<00:00,  6.57it/s, loss=0.0494]\n",
      "Training  : 100%|████████████████████████████████████| 14/14 [00:02<00:00,  6.56it/s, loss=0.048]\n",
      "Training  : 100%|███████████████████████████████████| 14/14 [00:02<00:00,  6.59it/s, loss=0.0521]\n",
      "Training  : 100%|███████████████████████████████████| 14/14 [00:02<00:00,  6.54it/s, loss=0.0497]\n",
      "Training  : 100%|███████████████████████████████████| 14/14 [00:02<00:00,  6.57it/s, loss=0.0463]\n",
      "Training  : 100%|████████████████████████████████████| 14/14 [00:02<00:00,  6.58it/s, loss=0.048]\n",
      "Training  : 100%|███████████████████████████████████| 14/14 [00:02<00:00,  6.56it/s, loss=0.0562]\n",
      "Predicting: 100%|████████████████████████████████████████████████| 27/27 [00:00<00:00, 48.28it/s]\n"
     ]
    },
    {
     "name": "stdout",
     "output_type": "stream",
     "text": [
      "Building sklearn text classifier...\n",
      "Loading bert-base-uncased model...\n",
      "Defaulting to linear classifier/regressor\n",
      "Loading Pytorch checkpoint\n",
      "train data size: 428, validation data size: 0\n"
     ]
    },
    {
     "name": "stderr",
     "output_type": "stream",
     "text": [
      "Training  : 100%|████████████████████████████████████| 14/14 [00:02<00:00,  6.43it/s, loss=0.511]\n",
      "Training  : 100%|████████████████████████████████████| 14/14 [00:02<00:00,  6.44it/s, loss=0.254]\n",
      "Training  : 100%|████████████████████████████████████| 14/14 [00:02<00:00,  6.51it/s, loss=0.207]\n",
      "Training  : 100%|████████████████████████████████████| 14/14 [00:02<00:00,  6.57it/s, loss=0.166]\n",
      "Training  : 100%|████████████████████████████████████| 14/14 [00:02<00:00,  6.59it/s, loss=0.117]\n",
      "Training  : 100%|███████████████████████████████████| 14/14 [00:02<00:00,  6.58it/s, loss=0.0902]\n",
      "Training  : 100%|███████████████████████████████████| 14/14 [00:02<00:00,  6.60it/s, loss=0.0718]\n",
      "Training  : 100%|███████████████████████████████████| 14/14 [00:02<00:00,  6.59it/s, loss=0.0651]\n",
      "Training  : 100%|███████████████████████████████████| 14/14 [00:02<00:00,  6.47it/s, loss=0.0623]\n",
      "Training  : 100%|████████████████████████████████████| 14/14 [00:02<00:00,  6.60it/s, loss=0.052]\n",
      "Training  : 100%|████████████████████████████████████| 14/14 [00:02<00:00,  6.58it/s, loss=0.057]\n",
      "Training  : 100%|███████████████████████████████████| 14/14 [00:02<00:00,  6.55it/s, loss=0.0535]\n",
      "Training  : 100%|███████████████████████████████████| 14/14 [00:02<00:00,  6.58it/s, loss=0.0659]\n",
      "Training  : 100%|███████████████████████████████████| 14/14 [00:02<00:00,  6.54it/s, loss=0.0512]\n",
      "Training  : 100%|████████████████████████████████████| 14/14 [00:02<00:00,  6.57it/s, loss=0.046]\n",
      "Training  : 100%|███████████████████████████████████| 14/14 [00:02<00:00,  6.58it/s, loss=0.0474]\n",
      "Training  : 100%|███████████████████████████████████| 14/14 [00:02<00:00,  6.59it/s, loss=0.0485]\n",
      "Training  : 100%|███████████████████████████████████| 14/14 [00:02<00:00,  6.59it/s, loss=0.0429]\n",
      "Training  : 100%|███████████████████████████████████| 14/14 [00:02<00:00,  6.54it/s, loss=0.0393]\n",
      "Training  : 100%|███████████████████████████████████| 14/14 [00:02<00:00,  6.62it/s, loss=0.0415]\n",
      "Training  : 100%|███████████████████████████████████| 14/14 [00:02<00:00,  6.57it/s, loss=0.0396]\n",
      "Training  : 100%|███████████████████████████████████| 14/14 [00:02<00:00,  6.64it/s, loss=0.0414]\n",
      "Training  : 100%|████████████████████████████████████| 14/14 [00:02<00:00,  6.59it/s, loss=0.044]\n",
      "Training  : 100%|███████████████████████████████████| 14/14 [00:02<00:00,  6.61it/s, loss=0.0414]\n",
      "Training  : 100%|███████████████████████████████████| 14/14 [00:02<00:00,  6.60it/s, loss=0.0383]\n",
      "Training  : 100%|███████████████████████████████████| 14/14 [00:02<00:00,  6.58it/s, loss=0.0386]\n",
      "Training  : 100%|███████████████████████████████████| 14/14 [00:02<00:00,  6.53it/s, loss=0.0395]\n",
      "Training  : 100%|████████████████████████████████████| 14/14 [00:02<00:00,  6.62it/s, loss=0.045]\n",
      "Training  : 100%|███████████████████████████████████| 14/14 [00:02<00:00,  6.51it/s, loss=0.0395]\n",
      "Training  : 100%|███████████████████████████████████| 14/14 [00:02<00:00,  6.50it/s, loss=0.0486]\n",
      "Training  : 100%|███████████████████████████████████| 14/14 [00:02<00:00,  6.61it/s, loss=0.0499]\n",
      "Training  : 100%|███████████████████████████████████| 14/14 [00:02<00:00,  6.51it/s, loss=0.0414]\n",
      "Training  : 100%|███████████████████████████████████| 14/14 [00:02<00:00,  6.57it/s, loss=0.0458]\n",
      "Training  : 100%|███████████████████████████████████| 14/14 [00:02<00:00,  6.57it/s, loss=0.0394]\n",
      "Training  : 100%|███████████████████████████████████| 14/14 [00:02<00:00,  6.58it/s, loss=0.0388]\n",
      "Training  : 100%|███████████████████████████████████| 14/14 [00:02<00:00,  6.59it/s, loss=0.0439]\n",
      "Training  : 100%|███████████████████████████████████| 14/14 [00:02<00:00,  6.61it/s, loss=0.0476]\n",
      "Training  : 100%|███████████████████████████████████| 14/14 [00:02<00:00,  6.54it/s, loss=0.0411]\n",
      "Training  : 100%|███████████████████████████████████| 14/14 [00:02<00:00,  6.59it/s, loss=0.0385]\n",
      "Training  : 100%|███████████████████████████████████| 14/14 [00:02<00:00,  6.55it/s, loss=0.0377]\n",
      "Training  : 100%|███████████████████████████████████| 14/14 [00:02<00:00,  6.45it/s, loss=0.0415]\n",
      "Training  : 100%|███████████████████████████████████| 14/14 [00:02<00:00,  6.55it/s, loss=0.0391]\n",
      "Training  : 100%|███████████████████████████████████| 14/14 [00:02<00:00,  6.58it/s, loss=0.0453]\n",
      "Training  : 100%|████████████████████████████████████| 14/14 [00:02<00:00,  6.58it/s, loss=0.038]\n",
      "Training  : 100%|███████████████████████████████████| 14/14 [00:02<00:00,  6.52it/s, loss=0.0395]\n",
      "Training  : 100%|███████████████████████████████████| 14/14 [00:02<00:00,  6.56it/s, loss=0.0431]\n",
      "Training  : 100%|███████████████████████████████████| 14/14 [00:02<00:00,  6.66it/s, loss=0.0436]\n",
      "Training  : 100%|███████████████████████████████████| 14/14 [00:02<00:00,  6.55it/s, loss=0.0424]\n",
      "Training  : 100%|███████████████████████████████████| 14/14 [00:02<00:00,  6.58it/s, loss=0.0395]\n",
      "Training  : 100%|███████████████████████████████████| 14/14 [00:02<00:00,  6.58it/s, loss=0.0409]\n",
      "Predicting: 100%|████████████████████████████████████████████████| 27/27 [00:00<00:00, 47.49it/s]\n"
     ]
    },
    {
     "name": "stdout",
     "output_type": "stream",
     "text": [
      "Building sklearn text classifier...\n",
      "Loading bert-base-uncased model...\n",
      "Defaulting to linear classifier/regressor\n",
      "Loading Pytorch checkpoint\n",
      "train data size: 428, validation data size: 0\n"
     ]
    },
    {
     "name": "stderr",
     "output_type": "stream",
     "text": [
      "Training  : 100%|████████████████████████████████████| 14/14 [00:02<00:00,  6.42it/s, loss=0.567]\n",
      "Training  : 100%|████████████████████████████████████| 14/14 [00:02<00:00,  6.53it/s, loss=0.335]\n",
      "Training  : 100%|████████████████████████████████████| 14/14 [00:02<00:00,  6.60it/s, loss=0.235]\n",
      "Training  : 100%|████████████████████████████████████| 14/14 [00:02<00:00,  6.58it/s, loss=0.205]\n",
      "Training  : 100%|████████████████████████████████████| 14/14 [00:02<00:00,  6.59it/s, loss=0.143]\n",
      "Training  : 100%|████████████████████████████████████| 14/14 [00:02<00:00,  6.52it/s, loss=0.137]\n",
      "Training  : 100%|███████████████████████████████████| 14/14 [00:02<00:00,  6.53it/s, loss=0.0951]\n",
      "Training  : 100%|███████████████████████████████████| 14/14 [00:02<00:00,  6.57it/s, loss=0.0886]\n",
      "Training  : 100%|███████████████████████████████████| 14/14 [00:02<00:00,  6.57it/s, loss=0.0818]\n",
      "Training  : 100%|███████████████████████████████████| 14/14 [00:02<00:00,  6.51it/s, loss=0.0765]\n",
      "Training  : 100%|███████████████████████████████████| 14/14 [00:02<00:00,  6.61it/s, loss=0.0651]\n",
      "Training  : 100%|███████████████████████████████████| 14/14 [00:02<00:00,  6.51it/s, loss=0.0696]\n",
      "Training  : 100%|███████████████████████████████████| 14/14 [00:02<00:00,  6.42it/s, loss=0.0706]\n",
      "Training  : 100%|███████████████████████████████████| 14/14 [00:02<00:00,  6.54it/s, loss=0.0574]\n",
      "Training  : 100%|███████████████████████████████████| 14/14 [00:02<00:00,  6.61it/s, loss=0.0579]\n",
      "Training  : 100%|███████████████████████████████████| 14/14 [00:02<00:00,  6.64it/s, loss=0.0622]\n",
      "Training  : 100%|███████████████████████████████████| 14/14 [00:02<00:00,  6.56it/s, loss=0.0649]\n",
      "Training  : 100%|███████████████████████████████████| 14/14 [00:02<00:00,  6.60it/s, loss=0.0533]\n",
      "Training  : 100%|███████████████████████████████████| 14/14 [00:02<00:00,  6.49it/s, loss=0.0564]\n",
      "Training  : 100%|███████████████████████████████████| 14/14 [00:02<00:00,  6.55it/s, loss=0.0595]\n",
      "Training  : 100%|███████████████████████████████████| 14/14 [00:02<00:00,  6.56it/s, loss=0.0574]\n",
      "Training  : 100%|███████████████████████████████████| 14/14 [00:02<00:00,  6.54it/s, loss=0.0578]\n",
      "Training  : 100%|███████████████████████████████████| 14/14 [00:02<00:00,  6.55it/s, loss=0.0733]\n",
      "Training  : 100%|███████████████████████████████████| 14/14 [00:02<00:00,  6.55it/s, loss=0.0573]\n",
      "Training  : 100%|████████████████████████████████████| 14/14 [00:02<00:00,  6.57it/s, loss=0.058]\n",
      "Training  : 100%|███████████████████████████████████| 14/14 [00:02<00:00,  6.60it/s, loss=0.0596]\n",
      "Training  : 100%|███████████████████████████████████| 14/14 [00:02<00:00,  6.60it/s, loss=0.0594]\n",
      "Training  : 100%|███████████████████████████████████| 14/14 [00:02<00:00,  6.62it/s, loss=0.0604]\n",
      "Training  : 100%|███████████████████████████████████| 14/14 [00:02<00:00,  6.56it/s, loss=0.0549]\n",
      "Training  : 100%|███████████████████████████████████| 14/14 [00:02<00:00,  6.64it/s, loss=0.0545]\n",
      "Training  : 100%|███████████████████████████████████| 14/14 [00:02<00:00,  6.61it/s, loss=0.0551]\n",
      "Training  : 100%|███████████████████████████████████| 14/14 [00:02<00:00,  6.55it/s, loss=0.0635]\n",
      "Training  : 100%|███████████████████████████████████| 14/14 [00:02<00:00,  6.51it/s, loss=0.0612]\n",
      "Training  : 100%|███████████████████████████████████| 14/14 [00:02<00:00,  6.55it/s, loss=0.0695]\n",
      "Training  : 100%|███████████████████████████████████| 14/14 [00:02<00:00,  6.56it/s, loss=0.0604]\n",
      "Training  : 100%|███████████████████████████████████| 14/14 [00:02<00:00,  6.61it/s, loss=0.0524]\n",
      "Training  : 100%|███████████████████████████████████| 14/14 [00:02<00:00,  6.59it/s, loss=0.0684]\n",
      "Training  : 100%|███████████████████████████████████| 14/14 [00:02<00:00,  6.51it/s, loss=0.0552]\n",
      "Training  : 100%|███████████████████████████████████| 14/14 [00:02<00:00,  6.59it/s, loss=0.0544]\n",
      "Training  : 100%|███████████████████████████████████| 14/14 [00:02<00:00,  6.64it/s, loss=0.0538]\n",
      "Training  : 100%|███████████████████████████████████| 14/14 [00:02<00:00,  6.51it/s, loss=0.0522]\n",
      "Training  : 100%|███████████████████████████████████| 14/14 [00:02<00:00,  6.52it/s, loss=0.0576]\n",
      "Training  : 100%|███████████████████████████████████| 14/14 [00:02<00:00,  6.56it/s, loss=0.0511]\n",
      "Training  : 100%|███████████████████████████████████| 14/14 [00:02<00:00,  6.56it/s, loss=0.0504]\n",
      "Training  : 100%|███████████████████████████████████| 14/14 [00:02<00:00,  6.57it/s, loss=0.0519]\n",
      "Training  : 100%|█████████████████████████████████████| 14/14 [00:02<00:00,  6.60it/s, loss=0.05]\n",
      "Training  : 100%|███████████████████████████████████| 14/14 [00:02<00:00,  6.54it/s, loss=0.0489]\n",
      "Training  : 100%|███████████████████████████████████| 14/14 [00:02<00:00,  6.58it/s, loss=0.0497]\n",
      "Training  : 100%|███████████████████████████████████| 14/14 [00:02<00:00,  6.59it/s, loss=0.0497]\n",
      "Training  : 100%|███████████████████████████████████| 14/14 [00:02<00:00,  6.58it/s, loss=0.0648]\n",
      "Predicting: 100%|████████████████████████████████████████████████| 27/27 [00:00<00:00, 48.64it/s]\n"
     ]
    },
    {
     "name": "stdout",
     "output_type": "stream",
     "text": [
      "Building sklearn text classifier...\n",
      "Loading bert-base-uncased model...\n",
      "Defaulting to linear classifier/regressor\n",
      "Loading Pytorch checkpoint\n",
      "train data size: 428, validation data size: 0\n"
     ]
    },
    {
     "name": "stderr",
     "output_type": "stream",
     "text": [
      "Training  : 100%|████████████████████████████████████| 14/14 [00:02<00:00,  6.53it/s, loss=0.565]\n",
      "Training  : 100%|████████████████████████████████████| 14/14 [00:02<00:00,  6.61it/s, loss=0.338]\n",
      "Training  : 100%|████████████████████████████████████| 14/14 [00:02<00:00,  6.50it/s, loss=0.229]\n",
      "Training  : 100%|████████████████████████████████████| 14/14 [00:02<00:00,  6.58it/s, loss=0.199]\n",
      "Training  : 100%|████████████████████████████████████| 14/14 [00:02<00:00,  6.58it/s, loss=0.138]\n",
      "Training  : 100%|████████████████████████████████████| 14/14 [00:02<00:00,  6.58it/s, loss=0.135]\n",
      "Training  : 100%|████████████████████████████████████| 14/14 [00:02<00:00,  6.54it/s, loss=0.121]\n",
      "Training  : 100%|████████████████████████████████████| 14/14 [00:02<00:00,  6.55it/s, loss=0.112]\n",
      "Training  : 100%|████████████████████████████████████| 14/14 [00:02<00:00,  6.52it/s, loss=0.104]\n",
      "Training  : 100%|███████████████████████████████████| 14/14 [00:02<00:00,  6.59it/s, loss=0.0966]\n",
      "Training  : 100%|████████████████████████████████████| 14/14 [00:02<00:00,  6.57it/s, loss=0.075]\n",
      "Training  : 100%|███████████████████████████████████| 14/14 [00:02<00:00,  6.54it/s, loss=0.0775]\n",
      "Training  : 100%|███████████████████████████████████| 14/14 [00:02<00:00,  6.53it/s, loss=0.0767]\n",
      "Training  : 100%|████████████████████████████████████| 14/14 [00:02<00:00,  6.65it/s, loss=0.068]\n",
      "Training  : 100%|███████████████████████████████████| 14/14 [00:02<00:00,  6.52it/s, loss=0.0662]\n",
      "Training  : 100%|████████████████████████████████████| 14/14 [00:02<00:00,  6.56it/s, loss=0.065]\n",
      "Training  : 100%|███████████████████████████████████| 14/14 [00:02<00:00,  6.61it/s, loss=0.0618]\n",
      "Training  : 100%|███████████████████████████████████| 14/14 [00:02<00:00,  6.59it/s, loss=0.0672]\n",
      "Training  : 100%|███████████████████████████████████| 14/14 [00:02<00:00,  6.58it/s, loss=0.0645]\n",
      "Training  : 100%|███████████████████████████████████| 14/14 [00:02<00:00,  6.55it/s, loss=0.0616]\n",
      "Training  : 100%|███████████████████████████████████| 14/14 [00:02<00:00,  6.38it/s, loss=0.0539]\n",
      "Training  : 100%|███████████████████████████████████| 14/14 [00:02<00:00,  6.06it/s, loss=0.0573]\n",
      "Training  : 100%|███████████████████████████████████| 14/14 [00:02<00:00,  6.44it/s, loss=0.0599]\n",
      "Training  : 100%|███████████████████████████████████| 14/14 [00:02<00:00,  6.54it/s, loss=0.0664]\n",
      "Training  : 100%|████████████████████████████████████| 14/14 [00:02<00:00,  6.56it/s, loss=0.056]\n",
      "Training  : 100%|████████████████████████████████████| 14/14 [00:02<00:00,  6.62it/s, loss=0.055]\n",
      "Training  : 100%|███████████████████████████████████| 14/14 [00:02<00:00,  6.59it/s, loss=0.0582]\n",
      "Training  : 100%|███████████████████████████████████| 14/14 [00:02<00:00,  6.60it/s, loss=0.0541]\n",
      "Training  : 100%|███████████████████████████████████| 14/14 [00:02<00:00,  6.56it/s, loss=0.0548]\n",
      "Training  : 100%|███████████████████████████████████| 14/14 [00:02<00:00,  6.61it/s, loss=0.0652]\n",
      "Training  : 100%|███████████████████████████████████| 14/14 [00:02<00:00,  6.61it/s, loss=0.0607]\n",
      "Training  : 100%|███████████████████████████████████| 14/14 [00:02<00:00,  6.65it/s, loss=0.0669]\n",
      "Training  : 100%|███████████████████████████████████| 14/14 [00:02<00:00,  6.60it/s, loss=0.0585]\n",
      "Training  : 100%|███████████████████████████████████| 14/14 [00:02<00:00,  6.58it/s, loss=0.0737]\n",
      "Training  : 100%|███████████████████████████████████| 14/14 [00:02<00:00,  6.56it/s, loss=0.0642]\n",
      "Training  : 100%|████████████████████████████████████| 14/14 [00:02<00:00,  6.56it/s, loss=0.056]\n",
      "Training  : 100%|███████████████████████████████████| 14/14 [00:02<00:00,  6.58it/s, loss=0.0845]\n",
      "Training  : 100%|████████████████████████████████████| 14/14 [00:02<00:00,  6.53it/s, loss=0.056]\n",
      "Training  : 100%|███████████████████████████████████| 14/14 [00:02<00:00,  6.66it/s, loss=0.0551]\n",
      "Training  : 100%|███████████████████████████████████| 14/14 [00:02<00:00,  6.50it/s, loss=0.0521]\n",
      "Training  : 100%|███████████████████████████████████| 14/14 [00:02<00:00,  6.55it/s, loss=0.0544]\n",
      "Training  : 100%|███████████████████████████████████| 14/14 [00:02<00:00,  6.58it/s, loss=0.0565]\n",
      "Training  : 100%|████████████████████████████████████| 14/14 [00:02<00:00,  6.61it/s, loss=0.054]\n",
      "Training  : 100%|███████████████████████████████████| 14/14 [00:02<00:00,  6.62it/s, loss=0.0556]\n",
      "Training  : 100%|███████████████████████████████████| 14/14 [00:02<00:00,  6.57it/s, loss=0.0506]\n",
      "Training  : 100%|███████████████████████████████████| 14/14 [00:02<00:00,  6.53it/s, loss=0.0591]\n",
      "Training  : 100%|███████████████████████████████████| 14/14 [00:02<00:00,  6.52it/s, loss=0.0546]\n",
      "Training  : 100%|███████████████████████████████████| 14/14 [00:02<00:00,  6.43it/s, loss=0.0479]\n",
      "Training  : 100%|███████████████████████████████████| 14/14 [00:02<00:00,  6.59it/s, loss=0.0547]\n",
      "Training  : 100%|███████████████████████████████████| 14/14 [00:02<00:00,  6.54it/s, loss=0.0641]\n",
      "Predicting: 100%|████████████████████████████████████████████████| 27/27 [00:00<00:00, 48.83it/s]\n"
     ]
    },
    {
     "name": "stdout",
     "output_type": "stream",
     "text": [
      "Building sklearn text classifier...\n",
      "Loading bert-base-uncased model...\n",
      "Defaulting to linear classifier/regressor\n",
      "Loading Pytorch checkpoint\n",
      "train data size: 428, validation data size: 0\n"
     ]
    },
    {
     "name": "stderr",
     "output_type": "stream",
     "text": [
      "Training  : 100%|████████████████████████████████████| 14/14 [00:02<00:00,  6.50it/s, loss=0.581]\n",
      "Training  : 100%|████████████████████████████████████| 14/14 [00:02<00:00,  6.56it/s, loss=0.324]\n",
      "Training  : 100%|████████████████████████████████████| 14/14 [00:02<00:00,  6.56it/s, loss=0.226]\n",
      "Training  : 100%|████████████████████████████████████| 14/14 [00:02<00:00,  6.62it/s, loss=0.169]\n",
      "Training  : 100%|████████████████████████████████████| 14/14 [00:02<00:00,  6.62it/s, loss=0.121]\n",
      "Training  : 100%|████████████████████████████████████| 14/14 [00:02<00:00,  6.54it/s, loss=0.114]\n",
      "Training  : 100%|████████████████████████████████████| 14/14 [00:02<00:00,  6.57it/s, loss=0.103]\n",
      "Training  : 100%|███████████████████████████████████| 14/14 [00:02<00:00,  6.52it/s, loss=0.0761]\n",
      "Training  : 100%|███████████████████████████████████| 14/14 [00:02<00:00,  6.56it/s, loss=0.0899]\n",
      "Training  : 100%|███████████████████████████████████| 14/14 [00:02<00:00,  6.65it/s, loss=0.0623]\n",
      "Training  : 100%|███████████████████████████████████| 14/14 [00:02<00:00,  6.62it/s, loss=0.0608]\n",
      "Training  : 100%|███████████████████████████████████| 14/14 [00:02<00:00,  6.56it/s, loss=0.0646]\n",
      "Training  : 100%|███████████████████████████████████| 14/14 [00:02<00:00,  6.62it/s, loss=0.0635]\n",
      "Training  : 100%|███████████████████████████████████| 14/14 [00:02<00:00,  6.56it/s, loss=0.0579]\n",
      "Training  : 100%|███████████████████████████████████| 14/14 [00:02<00:00,  6.62it/s, loss=0.0541]\n",
      "Training  : 100%|███████████████████████████████████| 14/14 [00:02<00:00,  6.61it/s, loss=0.0603]\n",
      "Training  : 100%|███████████████████████████████████| 14/14 [00:02<00:00,  6.58it/s, loss=0.0541]\n",
      "Training  : 100%|███████████████████████████████████| 14/14 [00:02<00:00,  6.62it/s, loss=0.0487]\n",
      "Training  : 100%|███████████████████████████████████| 14/14 [00:02<00:00,  6.60it/s, loss=0.0444]\n",
      "Training  : 100%|███████████████████████████████████| 14/14 [00:02<00:00,  6.55it/s, loss=0.0479]\n",
      "Training  : 100%|███████████████████████████████████| 14/14 [00:02<00:00,  6.61it/s, loss=0.0453]\n",
      "Training  : 100%|███████████████████████████████████| 14/14 [00:02<00:00,  6.62it/s, loss=0.0423]\n",
      "Training  : 100%|███████████████████████████████████| 14/14 [00:02<00:00,  6.54it/s, loss=0.0466]\n",
      "Training  : 100%|███████████████████████████████████| 14/14 [00:02<00:00,  6.62it/s, loss=0.0433]\n",
      "Training  : 100%|███████████████████████████████████| 14/14 [00:02<00:00,  6.56it/s, loss=0.0416]\n",
      "Training  : 100%|███████████████████████████████████| 14/14 [00:02<00:00,  6.53it/s, loss=0.0454]\n",
      "Training  : 100%|███████████████████████████████████| 14/14 [00:02<00:00,  6.62it/s, loss=0.0448]\n",
      "Training  : 100%|███████████████████████████████████| 14/14 [00:02<00:00,  6.55it/s, loss=0.0474]\n",
      "Training  : 100%|███████████████████████████████████| 14/14 [00:02<00:00,  6.50it/s, loss=0.0408]\n",
      "Training  : 100%|███████████████████████████████████| 14/14 [00:02<00:00,  6.56it/s, loss=0.0518]\n",
      "Training  : 100%|███████████████████████████████████| 14/14 [00:02<00:00,  6.61it/s, loss=0.0516]\n",
      "Training  : 100%|███████████████████████████████████| 14/14 [00:02<00:00,  6.61it/s, loss=0.0426]\n",
      "Training  : 100%|████████████████████████████████████| 14/14 [00:02<00:00,  6.54it/s, loss=0.049]\n",
      "Training  : 100%|███████████████████████████████████| 14/14 [00:02<00:00,  6.56it/s, loss=0.0411]\n",
      "Training  : 100%|███████████████████████████████████| 14/14 [00:02<00:00,  6.57it/s, loss=0.0406]\n",
      "Training  : 100%|███████████████████████████████████| 14/14 [00:02<00:00,  6.61it/s, loss=0.0442]\n",
      "Training  : 100%|███████████████████████████████████| 14/14 [00:02<00:00,  6.56it/s, loss=0.0485]\n",
      "Training  : 100%|███████████████████████████████████| 14/14 [00:02<00:00,  6.57it/s, loss=0.0425]\n",
      "Training  : 100%|███████████████████████████████████| 14/14 [00:02<00:00,  6.58it/s, loss=0.0391]\n",
      "Training  : 100%|███████████████████████████████████| 14/14 [00:02<00:00,  6.55it/s, loss=0.0409]\n",
      "Training  : 100%|███████████████████████████████████| 14/14 [00:02<00:00,  6.51it/s, loss=0.0426]\n",
      "Training  : 100%|███████████████████████████████████| 14/14 [00:02<00:00,  6.62it/s, loss=0.0436]\n",
      "Training  : 100%|███████████████████████████████████| 14/14 [00:02<00:00,  6.49it/s, loss=0.0465]\n",
      "Training  : 100%|███████████████████████████████████| 14/14 [00:02<00:00,  6.59it/s, loss=0.0399]\n",
      "Training  : 100%|███████████████████████████████████| 14/14 [00:02<00:00,  6.58it/s, loss=0.0408]\n",
      "Training  : 100%|███████████████████████████████████| 14/14 [00:02<00:00,  6.56it/s, loss=0.0457]\n",
      "Training  : 100%|███████████████████████████████████| 14/14 [00:02<00:00,  6.58it/s, loss=0.0449]\n",
      "Training  : 100%|███████████████████████████████████| 14/14 [00:02<00:00,  6.56it/s, loss=0.0423]\n",
      "Training  : 100%|███████████████████████████████████| 14/14 [00:02<00:00,  6.60it/s, loss=0.0407]\n",
      "Training  : 100%|███████████████████████████████████| 14/14 [00:02<00:00,  6.58it/s, loss=0.0423]\n",
      "Predicting: 100%|████████████████████████████████████████████████| 27/27 [00:00<00:00, 50.26it/s]\n"
     ]
    },
    {
     "name": "stdout",
     "output_type": "stream",
     "text": [
      "Building sklearn text classifier...\n",
      "Loading bert-base-uncased model...\n",
      "Defaulting to linear classifier/regressor\n",
      "Loading Pytorch checkpoint\n",
      "train data size: 428, validation data size: 0\n"
     ]
    },
    {
     "name": "stderr",
     "output_type": "stream",
     "text": [
      "Training  : 100%|████████████████████████████████████| 14/14 [00:02<00:00,  6.50it/s, loss=0.549]\n",
      "Training  : 100%|████████████████████████████████████| 14/14 [00:02<00:00,  6.61it/s, loss=0.316]\n",
      "Training  : 100%|█████████████████████████████████████| 14/14 [00:02<00:00,  6.55it/s, loss=0.22]\n",
      "Training  : 100%|████████████████████████████████████| 14/14 [00:02<00:00,  6.64it/s, loss=0.195]\n",
      "Training  : 100%|████████████████████████████████████| 14/14 [00:02<00:00,  6.55it/s, loss=0.134]\n",
      "Training  : 100%|████████████████████████████████████| 14/14 [00:02<00:00,  6.56it/s, loss=0.112]\n",
      "Training  : 100%|███████████████████████████████████| 14/14 [00:02<00:00,  6.57it/s, loss=0.0919]\n",
      "Training  : 100%|███████████████████████████████████| 14/14 [00:02<00:00,  6.65it/s, loss=0.0806]\n",
      "Training  : 100%|███████████████████████████████████| 14/14 [00:02<00:00,  6.58it/s, loss=0.0734]\n",
      "Training  : 100%|████████████████████████████████████| 14/14 [00:02<00:00,  6.43it/s, loss=0.069]\n",
      "Training  : 100%|███████████████████████████████████| 14/14 [00:02<00:00,  6.51it/s, loss=0.0626]\n",
      "Training  : 100%|███████████████████████████████████| 14/14 [00:02<00:00,  6.55it/s, loss=0.0763]\n",
      "Training  : 100%|████████████████████████████████████| 14/14 [00:02<00:00,  6.59it/s, loss=0.068]\n",
      "Training  : 100%|███████████████████████████████████| 14/14 [00:02<00:00,  6.54it/s, loss=0.0553]\n",
      "Training  : 100%|████████████████████████████████████| 14/14 [00:02<00:00,  6.52it/s, loss=0.056]\n",
      "Training  : 100%|███████████████████████████████████| 14/14 [00:02<00:00,  6.59it/s, loss=0.0594]\n",
      "Training  : 100%|████████████████████████████████████| 14/14 [00:02<00:00,  6.58it/s, loss=0.051]\n",
      "Training  : 100%|███████████████████████████████████| 14/14 [00:02<00:00,  6.60it/s, loss=0.0529]\n",
      "Training  : 100%|████████████████████████████████████| 14/14 [00:02<00:00,  6.59it/s, loss=0.057]\n",
      "Training  : 100%|███████████████████████████████████| 14/14 [00:02<00:00,  6.55it/s, loss=0.0532]\n",
      "Training  : 100%|████████████████████████████████████| 14/14 [00:02<00:00,  6.50it/s, loss=0.052]\n",
      "Training  : 100%|███████████████████████████████████| 14/14 [00:02<00:00,  6.58it/s, loss=0.0508]\n",
      "Training  : 100%|███████████████████████████████████| 14/14 [00:02<00:00,  6.59it/s, loss=0.0528]\n",
      "Training  : 100%|███████████████████████████████████| 14/14 [00:02<00:00,  6.57it/s, loss=0.0528]\n",
      "Training  : 100%|███████████████████████████████████| 14/14 [00:02<00:00,  6.56it/s, loss=0.0519]\n",
      "Training  : 100%|███████████████████████████████████| 14/14 [00:02<00:00,  6.59it/s, loss=0.0516]\n",
      "Training  : 100%|███████████████████████████████████| 14/14 [00:02<00:00,  6.57it/s, loss=0.0503]\n",
      "Training  : 100%|███████████████████████████████████| 14/14 [00:02<00:00,  6.52it/s, loss=0.0544]\n",
      "Training  : 100%|███████████████████████████████████| 14/14 [00:02<00:00,  6.57it/s, loss=0.0511]\n",
      "Training  : 100%|███████████████████████████████████| 14/14 [00:02<00:00,  6.55it/s, loss=0.0478]\n",
      "Training  : 100%|███████████████████████████████████| 14/14 [00:02<00:00,  6.55it/s, loss=0.0496]\n",
      "Training  : 100%|███████████████████████████████████| 14/14 [00:02<00:00,  6.63it/s, loss=0.0564]\n",
      "Training  : 100%|███████████████████████████████████| 14/14 [00:02<00:00,  6.60it/s, loss=0.0573]\n",
      "Training  : 100%|███████████████████████████████████| 14/14 [00:02<00:00,  6.63it/s, loss=0.0574]\n",
      "Training  : 100%|███████████████████████████████████| 14/14 [00:02<00:00,  6.53it/s, loss=0.0534]\n",
      "Training  : 100%|███████████████████████████████████| 14/14 [00:02<00:00,  6.56it/s, loss=0.0467]\n",
      "Training  : 100%|███████████████████████████████████| 14/14 [00:02<00:00,  6.56it/s, loss=0.0545]\n",
      "Training  : 100%|███████████████████████████████████| 14/14 [00:02<00:00,  6.61it/s, loss=0.0483]\n",
      "Training  : 100%|███████████████████████████████████| 14/14 [00:02<00:00,  6.50it/s, loss=0.0465]\n",
      "Training  : 100%|███████████████████████████████████| 14/14 [00:02<00:00,  6.54it/s, loss=0.0481]\n",
      "Training  : 100%|███████████████████████████████████| 14/14 [00:02<00:00,  6.60it/s, loss=0.0471]\n",
      "Training  : 100%|███████████████████████████████████| 14/14 [00:02<00:00,  6.58it/s, loss=0.0515]\n",
      "Training  : 100%|███████████████████████████████████| 14/14 [00:02<00:00,  6.48it/s, loss=0.0479]\n",
      "Training  : 100%|████████████████████████████████████| 14/14 [00:02<00:00,  6.49it/s, loss=0.049]\n",
      "Training  : 100%|███████████████████████████████████| 14/14 [00:02<00:00,  6.59it/s, loss=0.0471]\n",
      "Training  : 100%|███████████████████████████████████| 14/14 [00:02<00:00,  6.60it/s, loss=0.0492]\n",
      "Training  : 100%|███████████████████████████████████| 14/14 [00:02<00:00,  6.60it/s, loss=0.0484]\n",
      "Training  : 100%|███████████████████████████████████| 14/14 [00:02<00:00,  6.57it/s, loss=0.0482]\n",
      "Training  : 100%|███████████████████████████████████| 14/14 [00:02<00:00,  6.47it/s, loss=0.0486]\n",
      "Training  : 100%|███████████████████████████████████| 14/14 [00:02<00:00,  6.53it/s, loss=0.0556]\n",
      "Training  : 100%|███████████████████████████████████| 14/14 [00:02<00:00,  6.55it/s, loss=0.0488]\n",
      "Training  : 100%|███████████████████████████████████| 14/14 [00:02<00:00,  6.61it/s, loss=0.0599]\n",
      "Training  : 100%|███████████████████████████████████| 14/14 [00:02<00:00,  6.55it/s, loss=0.0453]\n",
      "Training  : 100%|███████████████████████████████████| 14/14 [00:02<00:00,  6.52it/s, loss=0.0472]\n",
      "Training  : 100%|███████████████████████████████████| 14/14 [00:02<00:00,  6.51it/s, loss=0.0552]\n",
      "Training  : 100%|████████████████████████████████████| 14/14 [00:02<00:00,  6.61it/s, loss=0.046]\n",
      "Training  : 100%|███████████████████████████████████| 14/14 [00:02<00:00,  6.63it/s, loss=0.0497]\n",
      "Training  : 100%|███████████████████████████████████| 14/14 [00:02<00:00,  6.58it/s, loss=0.0454]\n",
      "Training  : 100%|███████████████████████████████████| 14/14 [00:02<00:00,  6.61it/s, loss=0.0467]\n",
      "Training  : 100%|███████████████████████████████████| 14/14 [00:02<00:00,  6.59it/s, loss=0.0472]\n",
      "Training  : 100%|███████████████████████████████████| 14/14 [00:02<00:00,  6.57it/s, loss=0.0501]\n",
      "Training  : 100%|████████████████████████████████████| 14/14 [00:02<00:00,  6.59it/s, loss=0.047]\n",
      "Training  : 100%|███████████████████████████████████| 14/14 [00:02<00:00,  6.50it/s, loss=0.0485]\n",
      "Training  : 100%|███████████████████████████████████| 14/14 [00:02<00:00,  6.60it/s, loss=0.0565]\n",
      "Training  : 100%|███████████████████████████████████| 14/14 [00:02<00:00,  6.51it/s, loss=0.0463]\n",
      "Training  : 100%|████████████████████████████████████| 14/14 [00:02<00:00,  6.55it/s, loss=0.045]\n",
      "Training  : 100%|███████████████████████████████████| 14/14 [00:02<00:00,  6.53it/s, loss=0.0506]\n",
      "Training  : 100%|███████████████████████████████████| 14/14 [00:02<00:00,  6.53it/s, loss=0.0454]\n",
      "Training  : 100%|███████████████████████████████████| 14/14 [00:02<00:00,  6.55it/s, loss=0.0468]\n",
      "Training  : 100%|███████████████████████████████████| 14/14 [00:02<00:00,  6.57it/s, loss=0.0513]\n",
      "Training  : 100%|███████████████████████████████████| 14/14 [00:02<00:00,  6.58it/s, loss=0.0463]\n",
      "Training  : 100%|███████████████████████████████████| 14/14 [00:02<00:00,  6.57it/s, loss=0.0476]\n",
      "Training  : 100%|████████████████████████████████████| 14/14 [00:02<00:00,  6.58it/s, loss=0.046]\n",
      "Training  : 100%|███████████████████████████████████| 14/14 [00:02<00:00,  6.50it/s, loss=0.0456]\n",
      "Training  : 100%|███████████████████████████████████| 14/14 [00:02<00:00,  6.57it/s, loss=0.0482]\n",
      "Predicting: 100%|████████████████████████████████████████████████| 27/27 [00:00<00:00, 48.36it/s]\n"
     ]
    },
    {
     "name": "stdout",
     "output_type": "stream",
     "text": [
      "Building sklearn text classifier...\n",
      "Loading bert-base-uncased model...\n",
      "Defaulting to linear classifier/regressor\n",
      "Loading Pytorch checkpoint\n",
      "train data size: 428, validation data size: 0\n"
     ]
    },
    {
     "name": "stderr",
     "output_type": "stream",
     "text": [
      "Training  : 100%|████████████████████████████████████| 14/14 [00:02<00:00,  6.53it/s, loss=0.549]\n",
      "Training  : 100%|████████████████████████████████████| 14/14 [00:02<00:00,  6.54it/s, loss=0.321]\n",
      "Training  : 100%|████████████████████████████████████| 14/14 [00:02<00:00,  6.55it/s, loss=0.239]\n",
      "Training  : 100%|█████████████████████████████████████| 14/14 [00:02<00:00,  6.51it/s, loss=0.21]\n",
      "Training  : 100%|████████████████████████████████████| 14/14 [00:02<00:00,  6.47it/s, loss=0.151]\n",
      "Training  : 100%|████████████████████████████████████| 14/14 [00:02<00:00,  6.60it/s, loss=0.122]\n",
      "Training  : 100%|████████████████████████████████████| 14/14 [00:02<00:00,  6.50it/s, loss=0.123]\n",
      "Training  : 100%|███████████████████████████████████| 14/14 [00:02<00:00,  6.48it/s, loss=0.0907]\n",
      "Training  : 100%|████████████████████████████████████| 14/14 [00:02<00:00,  6.50it/s, loss=0.102]\n",
      "Training  : 100%|███████████████████████████████████| 14/14 [00:02<00:00,  6.52it/s, loss=0.0894]\n",
      "Training  : 100%|███████████████████████████████████| 14/14 [00:02<00:00,  6.55it/s, loss=0.0893]\n",
      "Training  : 100%|███████████████████████████████████| 14/14 [00:02<00:00,  6.51it/s, loss=0.0717]\n",
      "Training  : 100%|███████████████████████████████████| 14/14 [00:02<00:00,  6.50it/s, loss=0.0778]\n",
      "Training  : 100%|███████████████████████████████████| 14/14 [00:02<00:00,  6.56it/s, loss=0.0646]\n",
      "Training  : 100%|███████████████████████████████████| 14/14 [00:02<00:00,  6.48it/s, loss=0.0609]\n",
      "Training  : 100%|███████████████████████████████████| 14/14 [00:02<00:00,  6.49it/s, loss=0.0561]\n",
      "Training  : 100%|███████████████████████████████████| 14/14 [00:02<00:00,  6.50it/s, loss=0.0561]\n",
      "Training  : 100%|███████████████████████████████████| 14/14 [00:02<00:00,  6.53it/s, loss=0.0599]\n",
      "Training  : 100%|████████████████████████████████████| 14/14 [00:02<00:00,  6.51it/s, loss=0.059]\n",
      "Training  : 100%|███████████████████████████████████| 14/14 [00:02<00:00,  6.52it/s, loss=0.0613]\n",
      "Training  : 100%|███████████████████████████████████| 14/14 [00:02<00:00,  6.52it/s, loss=0.0552]\n",
      "Training  : 100%|███████████████████████████████████| 14/14 [00:02<00:00,  6.57it/s, loss=0.0531]\n",
      "Training  : 100%|█████████████████████████████████████| 14/14 [00:02<00:00,  6.55it/s, loss=0.05]\n",
      "Training  : 100%|███████████████████████████████████| 14/14 [00:02<00:00,  6.46it/s, loss=0.0667]\n",
      "Training  : 100%|███████████████████████████████████| 14/14 [00:02<00:00,  6.50it/s, loss=0.0547]\n",
      "Training  : 100%|███████████████████████████████████| 14/14 [00:02<00:00,  6.54it/s, loss=0.0505]\n",
      "Training  : 100%|███████████████████████████████████| 14/14 [00:02<00:00,  6.51it/s, loss=0.0497]\n",
      "Training  : 100%|███████████████████████████████████| 14/14 [00:02<00:00,  6.54it/s, loss=0.0498]\n",
      "Training  : 100%|███████████████████████████████████| 14/14 [00:02<00:00,  6.49it/s, loss=0.0473]\n",
      "Training  : 100%|███████████████████████████████████| 14/14 [00:02<00:00,  6.55it/s, loss=0.0596]\n",
      "Training  : 100%|███████████████████████████████████| 14/14 [00:02<00:00,  6.49it/s, loss=0.0475]\n",
      "Training  : 100%|███████████████████████████████████| 14/14 [00:02<00:00,  6.46it/s, loss=0.0566]\n",
      "Training  : 100%|███████████████████████████████████| 14/14 [00:02<00:00,  6.53it/s, loss=0.0537]\n",
      "Training  : 100%|███████████████████████████████████| 14/14 [00:02<00:00,  6.55it/s, loss=0.0558]\n",
      "Training  : 100%|███████████████████████████████████| 14/14 [00:02<00:00,  6.53it/s, loss=0.0546]\n",
      "Training  : 100%|███████████████████████████████████| 14/14 [00:02<00:00,  6.57it/s, loss=0.0496]\n",
      "Training  : 100%|███████████████████████████████████| 14/14 [00:02<00:00,  6.49it/s, loss=0.0693]\n",
      "Training  : 100%|███████████████████████████████████| 14/14 [00:02<00:00,  6.57it/s, loss=0.0496]\n",
      "Training  : 100%|███████████████████████████████████| 14/14 [00:02<00:00,  6.49it/s, loss=0.0458]\n",
      "Training  : 100%|███████████████████████████████████| 14/14 [00:02<00:00,  6.18it/s, loss=0.0458]\n",
      "Training  : 100%|███████████████████████████████████| 14/14 [00:02<00:00,  6.42it/s, loss=0.0481]\n",
      "Training  : 100%|███████████████████████████████████| 14/14 [00:02<00:00,  6.57it/s, loss=0.0506]\n",
      "Training  : 100%|███████████████████████████████████| 14/14 [00:02<00:00,  6.54it/s, loss=0.0487]\n",
      "Training  : 100%|███████████████████████████████████| 14/14 [00:02<00:00,  6.50it/s, loss=0.0489]\n",
      "Training  : 100%|███████████████████████████████████| 14/14 [00:02<00:00,  6.56it/s, loss=0.0511]\n",
      "Training  : 100%|███████████████████████████████████| 14/14 [00:02<00:00,  6.53it/s, loss=0.0525]\n",
      "Training  : 100%|███████████████████████████████████| 14/14 [00:02<00:00,  6.50it/s, loss=0.0501]\n",
      "Training  : 100%|███████████████████████████████████| 14/14 [00:02<00:00,  6.53it/s, loss=0.0496]\n",
      "Training  : 100%|███████████████████████████████████| 14/14 [00:02<00:00,  6.50it/s, loss=0.0505]\n",
      "Training  : 100%|███████████████████████████████████| 14/14 [00:02<00:00,  6.51it/s, loss=0.0538]\n",
      "Training  : 100%|████████████████████████████████████| 14/14 [00:02<00:00,  6.52it/s, loss=0.051]\n",
      "Training  : 100%|███████████████████████████████████| 14/14 [00:02<00:00,  6.49it/s, loss=0.0515]\n",
      "Training  : 100%|███████████████████████████████████| 14/14 [00:02<00:00,  6.53it/s, loss=0.0483]\n",
      "Training  : 100%|███████████████████████████████████| 14/14 [00:02<00:00,  6.53it/s, loss=0.0519]\n",
      "Training  : 100%|███████████████████████████████████| 14/14 [00:02<00:00,  6.51it/s, loss=0.0571]\n",
      "Training  : 100%|███████████████████████████████████| 14/14 [00:02<00:00,  6.49it/s, loss=0.0489]\n",
      "Training  : 100%|███████████████████████████████████| 14/14 [00:02<00:00,  6.49it/s, loss=0.0479]\n",
      "Training  : 100%|█████████████████████████████████████| 14/14 [00:02<00:00,  6.53it/s, loss=0.05]\n",
      "Training  : 100%|███████████████████████████████████| 14/14 [00:02<00:00,  6.50it/s, loss=0.0512]\n",
      "Training  : 100%|███████████████████████████████████| 14/14 [00:02<00:00,  6.50it/s, loss=0.0494]\n",
      "Training  : 100%|███████████████████████████████████| 14/14 [00:02<00:00,  6.50it/s, loss=0.0489]\n",
      "Training  : 100%|███████████████████████████████████| 14/14 [00:02<00:00,  6.52it/s, loss=0.0528]\n",
      "Training  : 100%|███████████████████████████████████| 14/14 [00:02<00:00,  6.54it/s, loss=0.0554]\n",
      "Training  : 100%|███████████████████████████████████| 14/14 [00:02<00:00,  6.56it/s, loss=0.0579]\n",
      "Training  : 100%|█████████████████████████████████████| 14/14 [00:02<00:00,  6.50it/s, loss=0.05]\n",
      "Training  : 100%|███████████████████████████████████| 14/14 [00:02<00:00,  6.45it/s, loss=0.0486]\n",
      "Training  : 100%|█████████████████████████████████████| 14/14 [00:02<00:00,  6.46it/s, loss=0.05]\n",
      "Training  : 100%|███████████████████████████████████| 14/14 [00:02<00:00,  6.51it/s, loss=0.0478]\n",
      "Training  : 100%|███████████████████████████████████| 14/14 [00:02<00:00,  6.45it/s, loss=0.0451]\n",
      "Training  : 100%|███████████████████████████████████| 14/14 [00:02<00:00,  6.53it/s, loss=0.0477]\n",
      "Training  : 100%|███████████████████████████████████| 14/14 [00:02<00:00,  6.51it/s, loss=0.0455]\n",
      "Training  : 100%|███████████████████████████████████| 14/14 [00:02<00:00,  6.50it/s, loss=0.0487]\n",
      "Training  : 100%|███████████████████████████████████| 14/14 [00:02<00:00,  6.49it/s, loss=0.0475]\n",
      "Training  : 100%|███████████████████████████████████| 14/14 [00:02<00:00,  6.46it/s, loss=0.0478]\n",
      "Training  : 100%|███████████████████████████████████| 14/14 [00:02<00:00,  6.51it/s, loss=0.0488]\n",
      "Predicting: 100%|████████████████████████████████████████████████| 27/27 [00:00<00:00, 47.15it/s]\n"
     ]
    },
    {
     "name": "stdout",
     "output_type": "stream",
     "text": [
      "Building sklearn text classifier...\n",
      "Loading bert-base-uncased model...\n",
      "Defaulting to linear classifier/regressor\n",
      "Loading Pytorch checkpoint\n",
      "train data size: 428, validation data size: 0\n"
     ]
    },
    {
     "name": "stderr",
     "output_type": "stream",
     "text": [
      "Training  : 100%|████████████████████████████████████| 14/14 [00:02<00:00,  6.52it/s, loss=0.567]\n",
      "Training  : 100%|████████████████████████████████████| 14/14 [00:02<00:00,  6.47it/s, loss=0.295]\n",
      "Training  : 100%|████████████████████████████████████| 14/14 [00:02<00:00,  6.46it/s, loss=0.257]\n",
      "Training  : 100%|████████████████████████████████████| 14/14 [00:02<00:00,  6.44it/s, loss=0.203]\n",
      "Training  : 100%|████████████████████████████████████| 14/14 [00:02<00:00,  6.51it/s, loss=0.144]\n",
      "Training  : 100%|████████████████████████████████████| 14/14 [00:02<00:00,  6.48it/s, loss=0.132]\n",
      "Training  : 100%|████████████████████████████████████| 14/14 [00:02<00:00,  6.43it/s, loss=0.098]\n",
      "Training  : 100%|███████████████████████████████████| 14/14 [00:02<00:00,  6.46it/s, loss=0.0891]\n",
      "Training  : 100%|███████████████████████████████████| 14/14 [00:02<00:00,  6.48it/s, loss=0.0929]\n",
      "Training  : 100%|███████████████████████████████████| 14/14 [00:02<00:00,  6.52it/s, loss=0.0883]\n",
      "Training  : 100%|███████████████████████████████████| 14/14 [00:02<00:00,  6.51it/s, loss=0.0737]\n",
      "Training  : 100%|███████████████████████████████████| 14/14 [00:02<00:00,  6.54it/s, loss=0.0585]\n",
      "Training  : 100%|███████████████████████████████████| 14/14 [00:02<00:00,  6.47it/s, loss=0.0609]\n",
      "Training  : 100%|███████████████████████████████████| 14/14 [00:02<00:00,  6.47it/s, loss=0.0567]\n",
      "Training  : 100%|███████████████████████████████████| 14/14 [00:02<00:00,  6.47it/s, loss=0.0494]\n",
      "Training  : 100%|███████████████████████████████████| 14/14 [00:02<00:00,  6.53it/s, loss=0.0581]\n",
      "Training  : 100%|███████████████████████████████████| 14/14 [00:02<00:00,  6.45it/s, loss=0.0563]\n",
      "Training  : 100%|███████████████████████████████████| 14/14 [00:02<00:00,  6.50it/s, loss=0.0438]\n",
      "Training  : 100%|███████████████████████████████████| 14/14 [00:02<00:00,  6.49it/s, loss=0.0422]\n",
      "Training  : 100%|███████████████████████████████████| 14/14 [00:02<00:00,  6.50it/s, loss=0.0471]\n",
      "Training  : 100%|████████████████████████████████████| 14/14 [00:02<00:00,  6.54it/s, loss=0.041]\n",
      "Training  : 100%|███████████████████████████████████| 14/14 [00:02<00:00,  6.45it/s, loss=0.0425]\n",
      "Training  : 100%|███████████████████████████████████| 14/14 [00:02<00:00,  6.43it/s, loss=0.0476]\n",
      "Training  : 100%|███████████████████████████████████| 14/14 [00:02<00:00,  6.51it/s, loss=0.0419]\n",
      "Training  : 100%|███████████████████████████████████| 14/14 [00:02<00:00,  6.46it/s, loss=0.0401]\n",
      "Training  : 100%|███████████████████████████████████| 14/14 [00:02<00:00,  6.54it/s, loss=0.0388]\n",
      "Training  : 100%|███████████████████████████████████| 14/14 [00:02<00:00,  6.53it/s, loss=0.0406]\n",
      "Training  : 100%|███████████████████████████████████| 14/14 [00:02<00:00,  6.44it/s, loss=0.0451]\n",
      "Training  : 100%|███████████████████████████████████| 14/14 [00:02<00:00,  6.51it/s, loss=0.0386]\n",
      "Training  : 100%|███████████████████████████████████| 14/14 [00:02<00:00,  6.51it/s, loss=0.0566]\n",
      "Training  : 100%|███████████████████████████████████| 14/14 [00:02<00:00,  6.54it/s, loss=0.0525]\n",
      "Training  : 100%|███████████████████████████████████| 14/14 [00:02<00:00,  6.51it/s, loss=0.0402]\n",
      "Training  : 100%|███████████████████████████████████| 14/14 [00:02<00:00,  6.52it/s, loss=0.0472]\n",
      "Training  : 100%|███████████████████████████████████| 14/14 [00:02<00:00,  6.52it/s, loss=0.0402]\n",
      "Training  : 100%|███████████████████████████████████| 14/14 [00:02<00:00,  6.38it/s, loss=0.0389]\n",
      "Training  : 100%|███████████████████████████████████| 14/14 [00:02<00:00,  6.39it/s, loss=0.0445]\n",
      "Training  : 100%|████████████████████████████████████| 14/14 [00:02<00:00,  6.50it/s, loss=0.049]\n",
      "Training  : 100%|███████████████████████████████████| 14/14 [00:02<00:00,  6.51it/s, loss=0.0434]\n",
      "Training  : 100%|███████████████████████████████████| 14/14 [00:02<00:00,  6.51it/s, loss=0.0387]\n",
      "Training  : 100%|███████████████████████████████████| 14/14 [00:02<00:00,  6.48it/s, loss=0.0385]\n",
      "Training  : 100%|███████████████████████████████████| 14/14 [00:02<00:00,  6.48it/s, loss=0.0413]\n",
      "Training  : 100%|███████████████████████████████████| 14/14 [00:02<00:00,  6.50it/s, loss=0.0395]\n",
      "Training  : 100%|█████████████████████████████████████| 14/14 [00:02<00:00,  6.45it/s, loss=0.05]\n",
      "Training  : 100%|███████████████████████████████████| 14/14 [00:02<00:00,  6.53it/s, loss=0.0383]\n",
      "Training  : 100%|███████████████████████████████████| 14/14 [00:02<00:00,  6.49it/s, loss=0.0392]\n",
      "Training  : 100%|████████████████████████████████████| 14/14 [00:02<00:00,  6.50it/s, loss=0.045]\n",
      "Training  : 100%|███████████████████████████████████| 14/14 [00:02<00:00,  6.52it/s, loss=0.0425]\n",
      "Training  : 100%|███████████████████████████████████| 14/14 [00:02<00:00,  6.50it/s, loss=0.0427]\n",
      "Training  : 100%|███████████████████████████████████| 14/14 [00:02<00:00,  6.53it/s, loss=0.0409]\n",
      "Training  : 100%|███████████████████████████████████| 14/14 [00:02<00:00,  6.52it/s, loss=0.0395]\n",
      "Training  : 100%|███████████████████████████████████| 14/14 [00:02<00:00,  6.46it/s, loss=0.0409]\n",
      "Training  : 100%|███████████████████████████████████| 14/14 [00:02<00:00,  6.50it/s, loss=0.0379]\n",
      "Training  : 100%|███████████████████████████████████| 14/14 [00:02<00:00,  6.50it/s, loss=0.0366]\n",
      "Training  : 100%|███████████████████████████████████| 14/14 [00:02<00:00,  6.44it/s, loss=0.0411]\n",
      "Training  : 100%|███████████████████████████████████| 14/14 [00:02<00:00,  6.45it/s, loss=0.0408]\n",
      "Training  : 100%|███████████████████████████████████| 14/14 [00:02<00:00,  6.48it/s, loss=0.0413]\n",
      "Training  : 100%|███████████████████████████████████| 14/14 [00:02<00:00,  6.49it/s, loss=0.0371]\n",
      "Training  : 100%|███████████████████████████████████| 14/14 [00:02<00:00,  6.44it/s, loss=0.0402]\n",
      "Training  : 100%|███████████████████████████████████| 14/14 [00:02<00:00,  6.48it/s, loss=0.0441]\n",
      "Training  : 100%|███████████████████████████████████| 14/14 [00:02<00:00,  6.49it/s, loss=0.0416]\n",
      "Training  : 100%|███████████████████████████████████| 14/14 [00:02<00:00,  6.50it/s, loss=0.0399]\n",
      "Training  : 100%|███████████████████████████████████| 14/14 [00:02<00:00,  6.52it/s, loss=0.0439]\n",
      "Training  : 100%|███████████████████████████████████| 14/14 [00:02<00:00,  6.44it/s, loss=0.0414]\n",
      "Training  : 100%|███████████████████████████████████| 14/14 [00:02<00:00,  6.52it/s, loss=0.0404]\n",
      "Training  : 100%|███████████████████████████████████| 14/14 [00:02<00:00,  6.50it/s, loss=0.0446]\n",
      "Training  : 100%|███████████████████████████████████| 14/14 [00:02<00:00,  6.46it/s, loss=0.0408]\n",
      "Training  : 100%|███████████████████████████████████| 14/14 [00:02<00:00,  6.46it/s, loss=0.0396]\n",
      "Training  : 100%|███████████████████████████████████| 14/14 [00:02<00:00,  6.44it/s, loss=0.0376]\n",
      "Training  : 100%|███████████████████████████████████| 14/14 [00:02<00:00,  6.47it/s, loss=0.0392]\n",
      "Training  : 100%|███████████████████████████████████| 14/14 [00:02<00:00,  6.53it/s, loss=0.0388]\n",
      "Training  : 100%|███████████████████████████████████| 14/14 [00:02<00:00,  6.53it/s, loss=0.0393]\n",
      "Training  : 100%|███████████████████████████████████| 14/14 [00:02<00:00,  6.50it/s, loss=0.0402]\n",
      "Training  : 100%|███████████████████████████████████| 14/14 [00:02<00:00,  6.49it/s, loss=0.0433]\n",
      "Training  : 100%|███████████████████████████████████| 14/14 [00:02<00:00,  6.50it/s, loss=0.0437]\n",
      "Training  : 100%|███████████████████████████████████| 14/14 [00:02<00:00,  6.54it/s, loss=0.0394]\n",
      "Predicting: 100%|████████████████████████████████████████████████| 27/27 [00:00<00:00, 46.63it/s]\n"
     ]
    },
    {
     "name": "stdout",
     "output_type": "stream",
     "text": [
      "Building sklearn text classifier...\n",
      "Loading bert-base-uncased model...\n",
      "Defaulting to linear classifier/regressor\n",
      "Loading Pytorch checkpoint\n",
      "train data size: 428, validation data size: 0\n"
     ]
    },
    {
     "name": "stderr",
     "output_type": "stream",
     "text": [
      "Training  : 100%|████████████████████████████████████| 14/14 [00:02<00:00,  6.46it/s, loss=0.522]\n",
      "Training  : 100%|████████████████████████████████████| 14/14 [00:02<00:00,  6.46it/s, loss=0.283]\n",
      "Training  : 100%|█████████████████████████████████████| 14/14 [00:02<00:00,  6.41it/s, loss=0.21]\n",
      "Training  : 100%|████████████████████████████████████| 14/14 [00:02<00:00,  6.42it/s, loss=0.185]\n",
      "Training  : 100%|████████████████████████████████████| 14/14 [00:02<00:00,  6.41it/s, loss=0.102]\n",
      "Training  : 100%|████████████████████████████████████| 14/14 [00:02<00:00,  6.39it/s, loss=0.143]\n",
      "Training  : 100%|████████████████████████████████████| 14/14 [00:02<00:00,  6.49it/s, loss=0.132]\n",
      "Training  : 100%|████████████████████████████████████| 14/14 [00:02<00:00,  6.43it/s, loss=0.101]\n",
      "Training  : 100%|████████████████████████████████████| 14/14 [00:02<00:00,  6.44it/s, loss=0.105]\n",
      "Training  : 100%|███████████████████████████████████| 14/14 [00:02<00:00,  6.39it/s, loss=0.0846]\n",
      "Training  : 100%|███████████████████████████████████| 14/14 [00:02<00:00,  6.49it/s, loss=0.0712]\n",
      "Training  : 100%|███████████████████████████████████| 14/14 [00:02<00:00,  6.42it/s, loss=0.0693]\n",
      "Training  : 100%|███████████████████████████████████| 14/14 [00:02<00:00,  6.43it/s, loss=0.0651]\n",
      "Training  : 100%|███████████████████████████████████| 14/14 [00:02<00:00,  6.45it/s, loss=0.0568]\n",
      "Training  : 100%|███████████████████████████████████| 14/14 [00:02<00:00,  6.42it/s, loss=0.0545]\n",
      "Training  : 100%|███████████████████████████████████| 14/14 [00:02<00:00,  6.48it/s, loss=0.0597]\n",
      "Training  : 100%|███████████████████████████████████| 14/14 [00:02<00:00,  6.37it/s, loss=0.0541]\n",
      "Training  : 100%|███████████████████████████████████| 14/14 [00:02<00:00,  6.42it/s, loss=0.0534]\n",
      "Training  : 100%|███████████████████████████████████| 14/14 [00:02<00:00,  6.31it/s, loss=0.0548]\n",
      "Training  : 100%|███████████████████████████████████| 14/14 [00:02<00:00,  6.39it/s, loss=0.0548]\n",
      "Training  : 100%|███████████████████████████████████| 14/14 [00:02<00:00,  6.43it/s, loss=0.0574]\n",
      "Training  : 100%|████████████████████████████████████| 14/14 [00:02<00:00,  6.43it/s, loss=0.053]\n",
      "Training  : 100%|███████████████████████████████████| 14/14 [00:02<00:00,  6.44it/s, loss=0.0612]\n",
      "Training  : 100%|███████████████████████████████████| 14/14 [00:02<00:00,  6.40it/s, loss=0.0549]\n",
      "Training  : 100%|███████████████████████████████████| 14/14 [00:02<00:00,  6.40it/s, loss=0.0556]\n",
      "Training  : 100%|███████████████████████████████████| 14/14 [00:02<00:00,  6.44it/s, loss=0.0529]\n",
      "Training  : 100%|███████████████████████████████████| 14/14 [00:02<00:00,  6.37it/s, loss=0.0527]\n",
      "Training  : 100%|███████████████████████████████████| 14/14 [00:02<00:00,  6.44it/s, loss=0.0565]\n",
      "Training  : 100%|███████████████████████████████████| 14/14 [00:02<00:00,  6.41it/s, loss=0.0545]\n",
      "Training  : 100%|████████████████████████████████████| 14/14 [00:02<00:00,  6.46it/s, loss=0.053]\n",
      "Training  : 100%|███████████████████████████████████| 14/14 [00:02<00:00,  6.36it/s, loss=0.0494]\n",
      "Training  : 100%|███████████████████████████████████| 14/14 [00:02<00:00,  6.41it/s, loss=0.0569]\n",
      "Training  : 100%|███████████████████████████████████| 14/14 [00:02<00:00,  6.44it/s, loss=0.0573]\n",
      "Training  : 100%|███████████████████████████████████| 14/14 [00:02<00:00,  6.45it/s, loss=0.0563]\n",
      "Training  : 100%|████████████████████████████████████| 14/14 [00:02<00:00,  6.42it/s, loss=0.053]\n",
      "Training  : 100%|███████████████████████████████████| 14/14 [00:02<00:00,  6.43it/s, loss=0.0491]\n",
      "Training  : 100%|███████████████████████████████████| 14/14 [00:02<00:00,  6.31it/s, loss=0.0581]\n",
      "Training  : 100%|███████████████████████████████████| 14/14 [00:02<00:00,  6.37it/s, loss=0.0523]\n",
      "Training  : 100%|████████████████████████████████████| 14/14 [00:02<00:00,  6.45it/s, loss=0.049]\n",
      "Training  : 100%|███████████████████████████████████| 14/14 [00:02<00:00,  6.36it/s, loss=0.0489]\n",
      "Training  : 100%|███████████████████████████████████| 14/14 [00:02<00:00,  6.49it/s, loss=0.0463]\n",
      "Training  : 100%|███████████████████████████████████| 14/14 [00:02<00:00,  6.47it/s, loss=0.0539]\n",
      "Training  : 100%|███████████████████████████████████| 14/14 [00:02<00:00,  6.42it/s, loss=0.0472]\n",
      "Training  : 100%|███████████████████████████████████| 14/14 [00:02<00:00,  6.41it/s, loss=0.0476]\n",
      "Training  : 100%|███████████████████████████████████| 14/14 [00:02<00:00,  6.41it/s, loss=0.0495]\n",
      "Training  : 100%|███████████████████████████████████| 14/14 [00:02<00:00,  6.45it/s, loss=0.0449]\n",
      "Training  : 100%|███████████████████████████████████| 14/14 [00:02<00:00,  6.44it/s, loss=0.0455]\n",
      "Training  : 100%|███████████████████████████████████| 14/14 [00:02<00:00,  6.44it/s, loss=0.0471]\n",
      "Training  : 100%|███████████████████████████████████| 14/14 [00:02<00:00,  6.41it/s, loss=0.0462]\n",
      "Training  : 100%|███████████████████████████████████| 14/14 [00:02<00:00,  6.40it/s, loss=0.0548]\n",
      "Training  : 100%|███████████████████████████████████| 14/14 [00:02<00:00,  6.38it/s, loss=0.0456]\n",
      "Training  : 100%|███████████████████████████████████| 14/14 [00:02<00:00,  6.40it/s, loss=0.0576]\n",
      "Training  : 100%|███████████████████████████████████| 14/14 [00:02<00:00,  6.45it/s, loss=0.0475]\n",
      "Training  : 100%|███████████████████████████████████| 14/14 [00:02<00:00,  6.42it/s, loss=0.0478]\n",
      "Training  : 100%|███████████████████████████████████| 14/14 [00:02<00:00,  6.42it/s, loss=0.0527]\n",
      "Training  : 100%|███████████████████████████████████| 14/14 [00:02<00:00,  6.44it/s, loss=0.0464]\n",
      "Training  : 100%|███████████████████████████████████| 14/14 [00:02<00:00,  6.42it/s, loss=0.0544]\n",
      "Training  : 100%|███████████████████████████████████| 14/14 [00:02<00:00,  6.39it/s, loss=0.0482]\n",
      "Training  : 100%|███████████████████████████████████| 14/14 [00:02<00:00,  6.38it/s, loss=0.0461]\n",
      "Training  : 100%|████████████████████████████████████| 14/14 [00:02<00:00,  6.38it/s, loss=0.045]\n",
      "Training  : 100%|███████████████████████████████████| 14/14 [00:02<00:00,  6.42it/s, loss=0.0522]\n",
      "Training  : 100%|███████████████████████████████████| 14/14 [00:02<00:00,  6.47it/s, loss=0.0477]\n",
      "Training  : 100%|███████████████████████████████████| 14/14 [00:02<00:00,  6.44it/s, loss=0.0511]\n",
      "Training  : 100%|███████████████████████████████████| 14/14 [00:02<00:00,  6.38it/s, loss=0.0574]\n",
      "Training  : 100%|███████████████████████████████████| 14/14 [00:02<00:00,  6.45it/s, loss=0.0461]\n",
      "Training  : 100%|███████████████████████████████████| 14/14 [00:02<00:00,  6.41it/s, loss=0.0458]\n",
      "Training  : 100%|███████████████████████████████████| 14/14 [00:02<00:00,  6.43it/s, loss=0.0531]\n",
      "Training  : 100%|███████████████████████████████████| 14/14 [00:02<00:00,  6.45it/s, loss=0.0461]\n",
      "Training  : 100%|███████████████████████████████████| 14/14 [00:02<00:00,  6.45it/s, loss=0.0459]\n",
      "Training  : 100%|███████████████████████████████████| 14/14 [00:02<00:00,  6.44it/s, loss=0.0534]\n",
      "Training  : 100%|███████████████████████████████████| 14/14 [00:02<00:00,  6.49it/s, loss=0.0451]\n",
      "Training  : 100%|███████████████████████████████████| 14/14 [00:02<00:00,  6.47it/s, loss=0.0446]\n",
      "Training  : 100%|███████████████████████████████████| 14/14 [00:02<00:00,  6.38it/s, loss=0.0459]\n",
      "Training  : 100%|███████████████████████████████████| 14/14 [00:02<00:00,  6.40it/s, loss=0.0451]\n",
      "Training  : 100%|███████████████████████████████████| 14/14 [00:02<00:00,  6.46it/s, loss=0.0487]\n",
      "Predicting: 100%|████████████████████████████████████████████████| 27/27 [00:00<00:00, 43.93it/s]\n"
     ]
    },
    {
     "name": "stdout",
     "output_type": "stream",
     "text": [
      "Building sklearn text classifier...\n",
      "Loading bert-base-uncased model...\n",
      "Defaulting to linear classifier/regressor\n",
      "Loading Pytorch checkpoint\n",
      "train data size: 428, validation data size: 0\n"
     ]
    },
    {
     "name": "stderr",
     "output_type": "stream",
     "text": [
      "Training  : 100%|█████████████████████████████████████| 14/14 [00:02<00:00,  6.42it/s, loss=0.52]\n",
      "Training  : 100%|████████████████████████████████████| 14/14 [00:02<00:00,  6.41it/s, loss=0.285]\n",
      "Training  : 100%|████████████████████████████████████| 14/14 [00:02<00:00,  6.41it/s, loss=0.254]\n",
      "Training  : 100%|████████████████████████████████████| 14/14 [00:02<00:00,  6.38it/s, loss=0.235]\n",
      "Training  : 100%|████████████████████████████████████| 14/14 [00:02<00:00,  6.10it/s, loss=0.142]\n",
      "Training  : 100%|████████████████████████████████████| 14/14 [00:02<00:00,  6.27it/s, loss=0.126]\n",
      "Training  : 100%|████████████████████████████████████| 14/14 [00:02<00:00,  6.41it/s, loss=0.103]\n",
      "Training  : 100%|████████████████████████████████████| 14/14 [00:02<00:00,  6.42it/s, loss=0.104]\n",
      "Training  : 100%|████████████████████████████████████| 14/14 [00:02<00:00,  6.42it/s, loss=0.101]\n",
      "Training  : 100%|████████████████████████████████████| 14/14 [00:02<00:00,  6.48it/s, loss=0.142]\n",
      "Training  : 100%|███████████████████████████████████| 14/14 [00:02<00:00,  6.44it/s, loss=0.0844]\n",
      "Training  : 100%|████████████████████████████████████| 14/14 [00:02<00:00,  6.39it/s, loss=0.088]\n",
      "Training  : 100%|███████████████████████████████████| 14/14 [00:02<00:00,  6.42it/s, loss=0.0849]\n",
      "Training  : 100%|███████████████████████████████████| 14/14 [00:02<00:00,  6.45it/s, loss=0.0697]\n",
      "Training  : 100%|███████████████████████████████████| 14/14 [00:02<00:00,  6.44it/s, loss=0.0704]\n",
      "Training  : 100%|███████████████████████████████████| 14/14 [00:02<00:00,  6.45it/s, loss=0.0619]\n",
      "Training  : 100%|███████████████████████████████████| 14/14 [00:02<00:00,  6.37it/s, loss=0.0623]\n",
      "Training  : 100%|███████████████████████████████████| 14/14 [00:02<00:00,  6.46it/s, loss=0.0692]\n",
      "Training  : 100%|███████████████████████████████████| 14/14 [00:02<00:00,  6.45it/s, loss=0.0679]\n",
      "Training  : 100%|███████████████████████████████████| 14/14 [00:02<00:00,  6.39it/s, loss=0.0922]\n",
      "Training  : 100%|███████████████████████████████████| 14/14 [00:02<00:00,  6.46it/s, loss=0.0713]\n",
      "Training  : 100%|███████████████████████████████████| 14/14 [00:02<00:00,  6.36it/s, loss=0.0706]\n",
      "Training  : 100%|███████████████████████████████████| 14/14 [00:02<00:00,  6.42it/s, loss=0.0559]\n",
      "Training  : 100%|███████████████████████████████████| 14/14 [00:02<00:00,  6.39it/s, loss=0.0716]\n",
      "Training  : 100%|███████████████████████████████████| 14/14 [00:02<00:00,  6.45it/s, loss=0.0505]\n",
      "Training  : 100%|███████████████████████████████████| 14/14 [00:02<00:00,  6.42it/s, loss=0.0521]\n",
      "Training  : 100%|███████████████████████████████████| 14/14 [00:02<00:00,  6.48it/s, loss=0.0496]\n",
      "Training  : 100%|███████████████████████████████████| 14/14 [00:02<00:00,  6.45it/s, loss=0.0487]\n",
      "Training  : 100%|███████████████████████████████████| 14/14 [00:02<00:00,  6.44it/s, loss=0.0481]\n",
      "Training  : 100%|███████████████████████████████████| 14/14 [00:02<00:00,  6.47it/s, loss=0.0545]\n",
      "Training  : 100%|███████████████████████████████████| 14/14 [00:02<00:00,  6.38it/s, loss=0.0487]\n",
      "Training  : 100%|███████████████████████████████████| 14/14 [00:02<00:00,  6.43it/s, loss=0.0585]\n",
      "Training  : 100%|███████████████████████████████████| 14/14 [00:02<00:00,  6.44it/s, loss=0.0552]\n",
      "Training  : 100%|███████████████████████████████████| 14/14 [00:02<00:00,  6.44it/s, loss=0.0569]\n",
      "Training  : 100%|███████████████████████████████████| 14/14 [00:02<00:00,  6.46it/s, loss=0.0571]\n",
      "Training  : 100%|███████████████████████████████████| 14/14 [00:02<00:00,  6.41it/s, loss=0.0487]\n",
      "Training  : 100%|███████████████████████████████████| 14/14 [00:02<00:00,  6.49it/s, loss=0.0694]\n",
      "Training  : 100%|███████████████████████████████████| 14/14 [00:02<00:00,  6.41it/s, loss=0.0507]\n",
      "Training  : 100%|███████████████████████████████████| 14/14 [00:02<00:00,  6.43it/s, loss=0.0482]\n",
      "Training  : 100%|███████████████████████████████████| 14/14 [00:02<00:00,  6.44it/s, loss=0.0449]\n",
      "Training  : 100%|███████████████████████████████████| 14/14 [00:02<00:00,  6.46it/s, loss=0.0487]\n",
      "Training  : 100%|███████████████████████████████████| 14/14 [00:02<00:00,  6.42it/s, loss=0.0502]\n",
      "Training  : 100%|████████████████████████████████████| 14/14 [00:02<00:00,  6.51it/s, loss=0.049]\n",
      "Training  : 100%|████████████████████████████████████| 14/14 [00:02<00:00,  6.48it/s, loss=0.048]\n",
      "Training  : 100%|███████████████████████████████████| 14/14 [00:02<00:00,  6.46it/s, loss=0.0499]\n",
      "Training  : 100%|███████████████████████████████████| 14/14 [00:02<00:00,  6.41it/s, loss=0.0521]\n",
      "Training  : 100%|███████████████████████████████████| 14/14 [00:02<00:00,  6.44it/s, loss=0.0486]\n",
      "Training  : 100%|███████████████████████████████████| 14/14 [00:02<00:00,  6.43it/s, loss=0.0475]\n",
      "Training  : 100%|███████████████████████████████████| 14/14 [00:02<00:00,  6.40it/s, loss=0.0504]\n",
      "Training  : 100%|███████████████████████████████████| 14/14 [00:02<00:00,  6.39it/s, loss=0.0539]\n",
      "Training  : 100%|███████████████████████████████████| 14/14 [00:02<00:00,  6.45it/s, loss=0.0507]\n",
      "Training  : 100%|████████████████████████████████████| 14/14 [00:02<00:00,  6.41it/s, loss=0.051]\n",
      "Training  : 100%|███████████████████████████████████| 14/14 [00:02<00:00,  6.48it/s, loss=0.0461]\n",
      "Training  : 100%|███████████████████████████████████| 14/14 [00:02<00:00,  6.41it/s, loss=0.0515]\n",
      "Training  : 100%|███████████████████████████████████| 14/14 [00:02<00:00,  6.43it/s, loss=0.0573]\n",
      "Training  : 100%|███████████████████████████████████| 14/14 [00:02<00:00,  6.47it/s, loss=0.0487]\n",
      "Training  : 100%|███████████████████████████████████| 14/14 [00:02<00:00,  6.42it/s, loss=0.0482]\n",
      "Training  : 100%|███████████████████████████████████| 14/14 [00:02<00:00,  6.48it/s, loss=0.0484]\n",
      "Training  : 100%|███████████████████████████████████| 14/14 [00:02<00:00,  6.38it/s, loss=0.0515]\n",
      "Training  : 100%|███████████████████████████████████| 14/14 [00:02<00:00,  6.43it/s, loss=0.0483]\n",
      "Training  : 100%|███████████████████████████████████| 14/14 [00:02<00:00,  6.45it/s, loss=0.0476]\n",
      "Training  : 100%|███████████████████████████████████| 14/14 [00:02<00:00,  6.41it/s, loss=0.0527]\n",
      "Training  : 100%|████████████████████████████████████| 14/14 [00:02<00:00,  6.36it/s, loss=0.056]\n",
      "Training  : 100%|███████████████████████████████████| 14/14 [00:02<00:00,  6.40it/s, loss=0.0579]\n",
      "Training  : 100%|███████████████████████████████████| 14/14 [00:02<00:00,  6.41it/s, loss=0.0486]\n",
      "Training  : 100%|███████████████████████████████████| 14/14 [00:02<00:00,  6.39it/s, loss=0.0487]\n",
      "Training  : 100%|███████████████████████████████████| 14/14 [00:02<00:00,  6.44it/s, loss=0.0501]\n",
      "Training  : 100%|███████████████████████████████████| 14/14 [00:02<00:00,  6.46it/s, loss=0.0487]\n",
      "Training  : 100%|████████████████████████████████████| 14/14 [00:02<00:00,  6.39it/s, loss=0.045]\n",
      "Training  : 100%|███████████████████████████████████| 14/14 [00:02<00:00,  6.48it/s, loss=0.0461]\n",
      "Training  : 100%|████████████████████████████████████| 14/14 [00:02<00:00,  6.45it/s, loss=0.046]\n",
      "Training  : 100%|███████████████████████████████████| 14/14 [00:02<00:00,  6.47it/s, loss=0.0474]\n",
      "Training  : 100%|███████████████████████████████████| 14/14 [00:02<00:00,  6.47it/s, loss=0.0482]\n",
      "Training  : 100%|███████████████████████████████████| 14/14 [00:02<00:00,  6.49it/s, loss=0.0467]\n",
      "Training  : 100%|███████████████████████████████████| 14/14 [00:02<00:00,  6.52it/s, loss=0.0483]\n",
      "Predicting: 100%|████████████████████████████████████████████████| 27/27 [00:00<00:00, 45.47it/s]\n"
     ]
    },
    {
     "name": "stdout",
     "output_type": "stream",
     "text": [
      "Building sklearn text classifier...\n",
      "Loading bert-base-uncased model...\n",
      "Defaulting to linear classifier/regressor\n",
      "Loading Pytorch checkpoint\n",
      "train data size: 428, validation data size: 0\n"
     ]
    },
    {
     "name": "stderr",
     "output_type": "stream",
     "text": [
      "Training  : 100%|████████████████████████████████████| 14/14 [00:02<00:00,  6.40it/s, loss=0.541]\n",
      "Training  : 100%|████████████████████████████████████| 14/14 [00:02<00:00,  6.55it/s, loss=0.273]\n",
      "Training  : 100%|████████████████████████████████████| 14/14 [00:02<00:00,  6.48it/s, loss=0.223]\n",
      "Training  : 100%|████████████████████████████████████| 14/14 [00:02<00:00,  6.56it/s, loss=0.155]\n",
      "Training  : 100%|████████████████████████████████████| 14/14 [00:02<00:00,  6.55it/s, loss=0.136]\n",
      "Training  : 100%|████████████████████████████████████| 14/14 [00:02<00:00,  6.53it/s, loss=0.113]\n",
      "Training  : 100%|███████████████████████████████████| 14/14 [00:02<00:00,  6.48it/s, loss=0.0799]\n",
      "Training  : 100%|███████████████████████████████████| 14/14 [00:02<00:00,  6.49it/s, loss=0.0721]\n",
      "Training  : 100%|████████████████████████████████████| 14/14 [00:02<00:00,  6.46it/s, loss=0.143]\n",
      "Training  : 100%|███████████████████████████████████| 14/14 [00:02<00:00,  6.49it/s, loss=0.0775]\n",
      "Training  : 100%|███████████████████████████████████| 14/14 [00:02<00:00,  6.48it/s, loss=0.0723]\n",
      "Training  : 100%|███████████████████████████████████| 14/14 [00:02<00:00,  6.55it/s, loss=0.0672]\n",
      "Training  : 100%|███████████████████████████████████| 14/14 [00:02<00:00,  6.49it/s, loss=0.0615]\n",
      "Training  : 100%|███████████████████████████████████| 14/14 [00:02<00:00,  6.51it/s, loss=0.0518]\n",
      "Training  : 100%|███████████████████████████████████| 14/14 [00:02<00:00,  6.49it/s, loss=0.0591]\n",
      "Training  : 100%|███████████████████████████████████| 14/14 [00:02<00:00,  6.44it/s, loss=0.0573]\n",
      "Training  : 100%|███████████████████████████████████| 14/14 [00:02<00:00,  6.49it/s, loss=0.0536]\n",
      "Training  : 100%|███████████████████████████████████| 14/14 [00:02<00:00,  6.53it/s, loss=0.0575]\n",
      "Training  : 100%|███████████████████████████████████| 14/14 [00:02<00:00,  6.49it/s, loss=0.0559]\n",
      "Training  : 100%|████████████████████████████████████| 14/14 [00:02<00:00,  6.52it/s, loss=0.048]\n",
      "Training  : 100%|███████████████████████████████████| 14/14 [00:02<00:00,  6.53it/s, loss=0.0473]\n",
      "Training  : 100%|███████████████████████████████████| 14/14 [00:02<00:00,  6.57it/s, loss=0.0434]\n",
      "Training  : 100%|███████████████████████████████████| 14/14 [00:02<00:00,  6.55it/s, loss=0.0587]\n",
      "Training  : 100%|███████████████████████████████████| 14/14 [00:02<00:00,  6.57it/s, loss=0.0559]\n",
      "Training  : 100%|███████████████████████████████████| 14/14 [00:02<00:00,  6.51it/s, loss=0.0465]\n",
      "Training  : 100%|███████████████████████████████████| 14/14 [00:02<00:00,  6.40it/s, loss=0.0445]\n",
      "Training  : 100%|███████████████████████████████████| 14/14 [00:02<00:00,  6.45it/s, loss=0.0579]\n",
      "Training  : 100%|███████████████████████████████████| 14/14 [00:02<00:00,  6.48it/s, loss=0.0464]\n",
      "Training  : 100%|███████████████████████████████████| 14/14 [00:02<00:00,  6.53it/s, loss=0.0394]\n",
      "Training  : 100%|███████████████████████████████████| 14/14 [00:02<00:00,  6.53it/s, loss=0.0555]\n",
      "Training  : 100%|███████████████████████████████████| 14/14 [00:02<00:00,  6.52it/s, loss=0.0494]\n",
      "Training  : 100%|███████████████████████████████████| 14/14 [00:02<00:00,  6.49it/s, loss=0.0401]\n",
      "Training  : 100%|███████████████████████████████████| 14/14 [00:02<00:00,  6.51it/s, loss=0.0477]\n",
      "Training  : 100%|███████████████████████████████████| 14/14 [00:02<00:00,  6.53it/s, loss=0.0409]\n",
      "Training  : 100%|███████████████████████████████████| 14/14 [00:02<00:00,  6.49it/s, loss=0.0411]\n",
      "Training  : 100%|████████████████████████████████████| 14/14 [00:02<00:00,  6.50it/s, loss=0.045]\n",
      "Training  : 100%|███████████████████████████████████| 14/14 [00:02<00:00,  6.48it/s, loss=0.0502]\n",
      "Training  : 100%|███████████████████████████████████| 14/14 [00:02<00:00,  6.53it/s, loss=0.0419]\n",
      "Training  : 100%|███████████████████████████████████| 14/14 [00:02<00:00,  6.47it/s, loss=0.0397]\n",
      "Training  : 100%|███████████████████████████████████| 14/14 [00:02<00:00,  6.45it/s, loss=0.0375]\n",
      "Training  : 100%|███████████████████████████████████| 14/14 [00:02<00:00,  6.50it/s, loss=0.0579]\n",
      "Training  : 100%|███████████████████████████████████| 14/14 [00:02<00:00,  6.52it/s, loss=0.0416]\n",
      "Training  : 100%|███████████████████████████████████| 14/14 [00:02<00:00,  6.51it/s, loss=0.0481]\n",
      "Training  : 100%|███████████████████████████████████| 14/14 [00:02<00:00,  6.44it/s, loss=0.0395]\n",
      "Training  : 100%|████████████████████████████████████| 14/14 [00:02<00:00,  6.52it/s, loss=0.041]\n",
      "Training  : 100%|███████████████████████████████████| 14/14 [00:02<00:00,  6.55it/s, loss=0.0436]\n",
      "Training  : 100%|███████████████████████████████████| 14/14 [00:02<00:00,  6.49it/s, loss=0.0445]\n",
      "Training  : 100%|███████████████████████████████████| 14/14 [00:02<00:00,  6.48it/s, loss=0.0417]\n",
      "Training  : 100%|███████████████████████████████████| 14/14 [00:02<00:00,  6.46it/s, loss=0.0399]\n",
      "Training  : 100%|███████████████████████████████████| 14/14 [00:02<00:00,  6.53it/s, loss=0.0424]\n",
      "Training  : 100%|███████████████████████████████████| 14/14 [00:02<00:00,  6.54it/s, loss=0.0457]\n",
      "Training  : 100%|███████████████████████████████████| 14/14 [00:02<00:00,  6.46it/s, loss=0.0373]\n",
      "Training  : 100%|███████████████████████████████████| 14/14 [00:02<00:00,  6.48it/s, loss=0.0396]\n",
      "Training  : 100%|███████████████████████████████████| 14/14 [00:02<00:00,  6.54it/s, loss=0.0415]\n",
      "Training  : 100%|███████████████████████████████████| 14/14 [00:02<00:00,  6.49it/s, loss=0.0407]\n",
      "Training  : 100%|███████████████████████████████████| 14/14 [00:02<00:00,  6.51it/s, loss=0.0399]\n",
      "Training  : 100%|███████████████████████████████████| 14/14 [00:02<00:00,  6.54it/s, loss=0.0399]\n",
      "Training  : 100%|███████████████████████████████████| 14/14 [00:02<00:00,  6.51it/s, loss=0.0417]\n",
      "Training  : 100%|███████████████████████████████████| 14/14 [00:02<00:00,  6.50it/s, loss=0.0436]\n",
      "Training  : 100%|████████████████████████████████████| 14/14 [00:02<00:00,  6.49it/s, loss=0.039]\n",
      "Training  : 100%|███████████████████████████████████| 14/14 [00:02<00:00,  6.51it/s, loss=0.0398]\n",
      "Training  : 100%|███████████████████████████████████| 14/14 [00:02<00:00,  6.53it/s, loss=0.0436]\n",
      "Training  : 100%|███████████████████████████████████| 14/14 [00:02<00:00,  6.51it/s, loss=0.0418]\n",
      "Training  : 100%|███████████████████████████████████| 14/14 [00:02<00:00,  6.48it/s, loss=0.0419]\n",
      "Training  : 100%|███████████████████████████████████| 14/14 [00:02<00:00,  6.47it/s, loss=0.0445]\n",
      "Training  : 100%|███████████████████████████████████| 14/14 [00:02<00:00,  6.50it/s, loss=0.0402]\n",
      "Training  : 100%|███████████████████████████████████| 14/14 [00:02<00:00,  6.50it/s, loss=0.0408]\n",
      "Training  : 100%|███████████████████████████████████| 14/14 [00:02<00:00,  6.42it/s, loss=0.0375]\n",
      "Training  : 100%|███████████████████████████████████| 14/14 [00:02<00:00,  6.49it/s, loss=0.0385]\n",
      "Training  : 100%|███████████████████████████████████| 14/14 [00:02<00:00,  6.52it/s, loss=0.0361]\n",
      "Training  : 100%|███████████████████████████████████| 14/14 [00:02<00:00,  6.49it/s, loss=0.0398]\n",
      "Training  : 100%|███████████████████████████████████| 14/14 [00:02<00:00,  6.51it/s, loss=0.0392]\n",
      "Training  : 100%|███████████████████████████████████| 14/14 [00:02<00:00,  6.54it/s, loss=0.0451]\n",
      "Training  : 100%|███████████████████████████████████| 14/14 [00:02<00:00,  6.51it/s, loss=0.0444]\n",
      "Training  : 100%|███████████████████████████████████| 14/14 [00:02<00:00,  6.53it/s, loss=0.0395]\n",
      "Predicting: 100%|████████████████████████████████████████████████| 27/27 [00:00<00:00, 49.33it/s]\n"
     ]
    },
    {
     "name": "stdout",
     "output_type": "stream",
     "text": [
      "Building sklearn text classifier...\n",
      "Loading bert-base-uncased model...\n",
      "Defaulting to linear classifier/regressor\n",
      "Loading Pytorch checkpoint\n",
      "train data size: 428, validation data size: 0\n"
     ]
    },
    {
     "name": "stderr",
     "output_type": "stream",
     "text": [
      "Training  : 100%|████████████████████████████████████| 14/14 [00:02<00:00,  6.62it/s, loss=0.583]\n",
      "Training  : 100%|████████████████████████████████████| 14/14 [00:02<00:00,  6.62it/s, loss=0.376]\n",
      "Training  : 100%|████████████████████████████████████| 14/14 [00:02<00:00,  6.65it/s, loss=0.249]\n",
      "Training  : 100%|████████████████████████████████████| 14/14 [00:02<00:00,  6.64it/s, loss=0.195]\n",
      "Training  : 100%|████████████████████████████████████| 14/14 [00:02<00:00,  6.68it/s, loss=0.159]\n",
      "Training  : 100%|████████████████████████████████████| 14/14 [00:02<00:00,  6.54it/s, loss=0.135]\n",
      "Training  : 100%|█████████████████████████████████████| 14/14 [00:02<00:00,  6.61it/s, loss=0.11]\n",
      "Training  : 100%|████████████████████████████████████| 14/14 [00:02<00:00,  6.58it/s, loss=0.103]\n",
      "Training  : 100%|███████████████████████████████████| 14/14 [00:02<00:00,  6.59it/s, loss=0.0962]\n",
      "Training  : 100%|███████████████████████████████████| 14/14 [00:02<00:00,  6.68it/s, loss=0.0911]\n",
      "Training  : 100%|███████████████████████████████████| 14/14 [00:02<00:00,  6.59it/s, loss=0.0895]\n",
      "Training  : 100%|███████████████████████████████████| 14/14 [00:02<00:00,  6.58it/s, loss=0.0995]\n",
      "Training  : 100%|████████████████████████████████████| 14/14 [00:02<00:00,  6.60it/s, loss=0.105]\n",
      "Training  : 100%|███████████████████████████████████| 14/14 [00:02<00:00,  6.54it/s, loss=0.0734]\n",
      "Training  : 100%|███████████████████████████████████| 14/14 [00:02<00:00,  6.67it/s, loss=0.0678]\n",
      "Training  : 100%|███████████████████████████████████| 14/14 [00:02<00:00,  6.66it/s, loss=0.0693]\n",
      "Training  : 100%|███████████████████████████████████| 14/14 [00:02<00:00,  6.61it/s, loss=0.0602]\n",
      "Training  : 100%|███████████████████████████████████| 14/14 [00:02<00:00,  6.62it/s, loss=0.0618]\n",
      "Training  : 100%|███████████████████████████████████| 14/14 [00:02<00:00,  6.59it/s, loss=0.0674]\n",
      "Training  : 100%|███████████████████████████████████| 14/14 [00:02<00:00,  6.64it/s, loss=0.0638]\n",
      "Training  : 100%|███████████████████████████████████| 14/14 [00:02<00:00,  6.68it/s, loss=0.0582]\n",
      "Training  : 100%|███████████████████████████████████| 14/14 [00:02<00:00,  6.62it/s, loss=0.0572]\n",
      "Training  : 100%|███████████████████████████████████| 14/14 [00:02<00:00,  6.66it/s, loss=0.0684]\n",
      "Training  : 100%|███████████████████████████████████| 14/14 [00:02<00:00,  6.64it/s, loss=0.0657]\n",
      "Training  : 100%|███████████████████████████████████| 14/14 [00:02<00:00,  6.55it/s, loss=0.0567]\n",
      "Training  : 100%|███████████████████████████████████| 14/14 [00:02<00:00,  6.58it/s, loss=0.0556]\n",
      "Training  : 100%|███████████████████████████████████| 14/14 [00:02<00:00,  6.61it/s, loss=0.0546]\n",
      "Training  : 100%|███████████████████████████████████| 14/14 [00:02<00:00,  6.64it/s, loss=0.0574]\n",
      "Training  : 100%|███████████████████████████████████| 14/14 [00:02<00:00,  6.64it/s, loss=0.0592]\n",
      "Training  : 100%|███████████████████████████████████| 14/14 [00:02<00:00,  6.55it/s, loss=0.0569]\n",
      "Training  : 100%|███████████████████████████████████| 14/14 [00:02<00:00,  6.65it/s, loss=0.0517]\n",
      "Training  : 100%|███████████████████████████████████| 14/14 [00:02<00:00,  6.62it/s, loss=0.0633]\n",
      "Training  : 100%|███████████████████████████████████| 14/14 [00:02<00:00,  6.67it/s, loss=0.0596]\n",
      "Training  : 100%|███████████████████████████████████| 14/14 [00:02<00:00,  6.69it/s, loss=0.0632]\n",
      "Training  : 100%|███████████████████████████████████| 14/14 [00:02<00:00,  6.61it/s, loss=0.0581]\n",
      "Training  : 100%|████████████████████████████████████| 14/14 [00:02<00:00,  6.62it/s, loss=0.048]\n",
      "Training  : 100%|███████████████████████████████████| 14/14 [00:02<00:00,  6.65it/s, loss=0.0596]\n",
      "Training  : 100%|███████████████████████████████████| 14/14 [00:02<00:00,  6.59it/s, loss=0.0503]\n",
      "Training  : 100%|███████████████████████████████████| 14/14 [00:02<00:00,  6.61it/s, loss=0.0479]\n",
      "Training  : 100%|███████████████████████████████████| 14/14 [00:02<00:00,  6.59it/s, loss=0.0485]\n",
      "Training  : 100%|███████████████████████████████████| 14/14 [00:02<00:00,  6.62it/s, loss=0.0458]\n",
      "Training  : 100%|███████████████████████████████████| 14/14 [00:02<00:00,  6.66it/s, loss=0.0543]\n",
      "Training  : 100%|███████████████████████████████████| 14/14 [00:02<00:00,  6.65it/s, loss=0.0486]\n",
      "Training  : 100%|███████████████████████████████████| 14/14 [00:02<00:00,  6.57it/s, loss=0.0509]\n",
      "Training  : 100%|███████████████████████████████████| 14/14 [00:02<00:00,  6.58it/s, loss=0.0497]\n",
      "Training  : 100%|███████████████████████████████████| 14/14 [00:02<00:00,  6.65it/s, loss=0.0545]\n",
      "Training  : 100%|███████████████████████████████████| 14/14 [00:02<00:00,  6.63it/s, loss=0.0487]\n",
      "Training  : 100%|███████████████████████████████████| 14/14 [00:02<00:00,  6.18it/s, loss=0.0475]\n",
      "Training  : 100%|███████████████████████████████████| 14/14 [00:02<00:00,  6.45it/s, loss=0.0464]\n",
      "Training  : 100%|███████████████████████████████████| 14/14 [00:02<00:00,  6.66it/s, loss=0.0555]\n",
      "Training  : 100%|███████████████████████████████████| 14/14 [00:02<00:00,  6.61it/s, loss=0.0486]\n",
      "Training  : 100%|███████████████████████████████████| 14/14 [00:02<00:00,  6.62it/s, loss=0.0613]\n",
      "Training  : 100%|███████████████████████████████████| 14/14 [00:02<00:00,  6.70it/s, loss=0.0499]\n",
      "Training  : 100%|███████████████████████████████████| 14/14 [00:02<00:00,  6.64it/s, loss=0.0459]\n",
      "Training  : 100%|███████████████████████████████████| 14/14 [00:02<00:00,  6.65it/s, loss=0.0592]\n",
      "Training  : 100%|███████████████████████████████████| 14/14 [00:02<00:00,  6.58it/s, loss=0.0479]\n",
      "Training  : 100%|████████████████████████████████████| 14/14 [00:02<00:00,  6.65it/s, loss=0.054]\n",
      "Training  : 100%|███████████████████████████████████| 14/14 [00:02<00:00,  6.62it/s, loss=0.0448]\n",
      "Training  : 100%|███████████████████████████████████| 14/14 [00:02<00:00,  6.66it/s, loss=0.0461]\n",
      "Training  : 100%|███████████████████████████████████| 14/14 [00:02<00:00,  6.67it/s, loss=0.0483]\n",
      "Training  : 100%|███████████████████████████████████| 14/14 [00:02<00:00,  6.62it/s, loss=0.0503]\n",
      "Training  : 100%|███████████████████████████████████| 14/14 [00:02<00:00,  6.57it/s, loss=0.0464]\n",
      "Training  : 100%|████████████████████████████████████| 14/14 [00:02<00:00,  6.56it/s, loss=0.048]\n",
      "Training  : 100%|███████████████████████████████████| 14/14 [00:02<00:00,  6.61it/s, loss=0.0583]\n",
      "Training  : 100%|███████████████████████████████████| 14/14 [00:02<00:00,  6.56it/s, loss=0.0471]\n",
      "Training  : 100%|███████████████████████████████████| 14/14 [00:02<00:00,  6.60it/s, loss=0.0469]\n",
      "Training  : 100%|███████████████████████████████████| 14/14 [00:02<00:00,  6.56it/s, loss=0.0524]\n",
      "Training  : 100%|████████████████████████████████████| 14/14 [00:02<00:00,  6.66it/s, loss=0.046]\n",
      "Training  : 100%|███████████████████████████████████| 14/14 [00:02<00:00,  6.63it/s, loss=0.0493]\n",
      "Training  : 100%|███████████████████████████████████| 14/14 [00:02<00:00,  6.48it/s, loss=0.0534]\n",
      "Training  : 100%|███████████████████████████████████| 14/14 [00:02<00:00,  6.62it/s, loss=0.0501]\n",
      "Training  : 100%|███████████████████████████████████| 14/14 [00:02<00:00,  6.56it/s, loss=0.0484]\n",
      "Training  : 100%|███████████████████████████████████| 14/14 [00:02<00:00,  6.65it/s, loss=0.0476]\n",
      "Training  : 100%|███████████████████████████████████| 14/14 [00:02<00:00,  6.65it/s, loss=0.0463]\n",
      "Training  : 100%|███████████████████████████████████| 14/14 [00:02<00:00,  6.64it/s, loss=0.0485]\n",
      "Predicting: 100%|████████████████████████████████████████████████| 27/27 [00:00<00:00, 51.50it/s]\n"
     ]
    },
    {
     "name": "stdout",
     "output_type": "stream",
     "text": [
      "Building sklearn text classifier...\n",
      "Loading bert-base-uncased model...\n",
      "Defaulting to linear classifier/regressor\n",
      "Loading Pytorch checkpoint\n",
      "train data size: 428, validation data size: 0\n"
     ]
    },
    {
     "name": "stderr",
     "output_type": "stream",
     "text": [
      "Training  : 100%|█████████████████████████████████████| 14/14 [00:02<00:00,  6.65it/s, loss=0.58]\n",
      "Training  : 100%|████████████████████████████████████| 14/14 [00:02<00:00,  6.61it/s, loss=0.375]\n",
      "Training  : 100%|████████████████████████████████████| 14/14 [00:02<00:00,  6.60it/s, loss=0.248]\n",
      "Training  : 100%|████████████████████████████████████| 14/14 [00:02<00:00,  6.64it/s, loss=0.197]\n",
      "Training  : 100%|████████████████████████████████████| 14/14 [00:02<00:00,  6.61it/s, loss=0.143]\n",
      "Training  : 100%|████████████████████████████████████| 14/14 [00:02<00:00,  6.72it/s, loss=0.129]\n",
      "Training  : 100%|████████████████████████████████████| 14/14 [00:02<00:00,  6.61it/s, loss=0.116]\n",
      "Training  : 100%|████████████████████████████████████| 14/14 [00:02<00:00,  6.65it/s, loss=0.101]\n",
      "Training  : 100%|████████████████████████████████████| 14/14 [00:02<00:00,  6.58it/s, loss=0.118]\n",
      "Training  : 100%|███████████████████████████████████| 14/14 [00:02<00:00,  6.60it/s, loss=0.0935]\n",
      "Training  : 100%|███████████████████████████████████| 14/14 [00:02<00:00,  6.68it/s, loss=0.0843]\n",
      "Training  : 100%|███████████████████████████████████| 14/14 [00:02<00:00,  6.59it/s, loss=0.0739]\n",
      "Training  : 100%|███████████████████████████████████| 14/14 [00:02<00:00,  6.66it/s, loss=0.0766]\n",
      "Training  : 100%|███████████████████████████████████| 14/14 [00:02<00:00,  6.56it/s, loss=0.0678]\n",
      "Training  : 100%|███████████████████████████████████| 14/14 [00:02<00:00,  6.67it/s, loss=0.0645]\n",
      "Training  : 100%|███████████████████████████████████| 14/14 [00:02<00:00,  6.66it/s, loss=0.0653]\n",
      "Training  : 100%|███████████████████████████████████| 14/14 [00:02<00:00,  6.67it/s, loss=0.0603]\n",
      "Training  : 100%|███████████████████████████████████| 14/14 [00:02<00:00,  6.57it/s, loss=0.0644]\n",
      "Training  : 100%|███████████████████████████████████| 14/14 [00:02<00:00,  6.63it/s, loss=0.0645]\n",
      "Training  : 100%|███████████████████████████████████| 14/14 [00:02<00:00,  6.61it/s, loss=0.0626]\n",
      "Training  : 100%|███████████████████████████████████| 14/14 [00:02<00:00,  6.66it/s, loss=0.0598]\n",
      "Training  : 100%|███████████████████████████████████| 14/14 [00:02<00:00,  6.64it/s, loss=0.0579]\n",
      "Training  : 100%|███████████████████████████████████| 14/14 [00:02<00:00,  6.54it/s, loss=0.0583]\n",
      "Training  : 100%|███████████████████████████████████| 14/14 [00:02<00:00,  6.66it/s, loss=0.0636]\n",
      "Training  : 100%|███████████████████████████████████| 14/14 [00:02<00:00,  6.59it/s, loss=0.0545]\n",
      "Training  : 100%|███████████████████████████████████| 14/14 [00:02<00:00,  6.62it/s, loss=0.0548]\n",
      "Training  : 100%|███████████████████████████████████| 14/14 [00:02<00:00,  6.62it/s, loss=0.0524]\n",
      "Training  : 100%|███████████████████████████████████| 14/14 [00:02<00:00,  6.59it/s, loss=0.0565]\n",
      "Training  : 100%|███████████████████████████████████| 14/14 [00:02<00:00,  6.60it/s, loss=0.0498]\n",
      "Training  : 100%|███████████████████████████████████| 14/14 [00:02<00:00,  6.68it/s, loss=0.0636]\n",
      "Training  : 100%|███████████████████████████████████| 14/14 [00:02<00:00,  6.65it/s, loss=0.0543]\n",
      "Training  : 100%|███████████████████████████████████| 14/14 [00:02<00:00,  6.67it/s, loss=0.0645]\n",
      "Training  : 100%|███████████████████████████████████| 14/14 [00:02<00:00,  6.59it/s, loss=0.0568]\n",
      "Training  : 100%|███████████████████████████████████| 14/14 [00:02<00:00,  6.60it/s, loss=0.0589]\n",
      "Training  : 100%|███████████████████████████████████| 14/14 [00:02<00:00,  6.60it/s, loss=0.0563]\n",
      "Training  : 100%|███████████████████████████████████| 14/14 [00:02<00:00,  6.58it/s, loss=0.0479]\n",
      "Training  : 100%|███████████████████████████████████| 14/14 [00:02<00:00,  6.61it/s, loss=0.0709]\n",
      "Training  : 100%|███████████████████████████████████| 14/14 [00:02<00:00,  6.61it/s, loss=0.0514]\n",
      "Training  : 100%|███████████████████████████████████| 14/14 [00:02<00:00,  6.56it/s, loss=0.0488]\n",
      "Training  : 100%|███████████████████████████████████| 14/14 [00:02<00:00,  6.65it/s, loss=0.0487]\n",
      "Training  : 100%|███████████████████████████████████| 14/14 [00:02<00:00,  6.66it/s, loss=0.0518]\n",
      "Training  : 100%|████████████████████████████████████| 14/14 [00:02<00:00,  6.61it/s, loss=0.053]\n",
      "Training  : 100%|███████████████████████████████████| 14/14 [00:02<00:00,  6.57it/s, loss=0.0489]\n",
      "Training  : 100%|███████████████████████████████████| 14/14 [00:02<00:00,  6.60it/s, loss=0.0505]\n",
      "Training  : 100%|███████████████████████████████████| 14/14 [00:02<00:00,  6.61it/s, loss=0.0522]\n",
      "Training  : 100%|███████████████████████████████████| 14/14 [00:02<00:00,  6.69it/s, loss=0.0551]\n",
      "Training  : 100%|███████████████████████████████████| 14/14 [00:02<00:00,  6.61it/s, loss=0.0521]\n",
      "Training  : 100%|███████████████████████████████████| 14/14 [00:02<00:00,  6.64it/s, loss=0.0512]\n",
      "Training  : 100%|███████████████████████████████████| 14/14 [00:02<00:00,  6.56it/s, loss=0.0473]\n",
      "Training  : 100%|███████████████████████████████████| 14/14 [00:02<00:00,  6.64it/s, loss=0.0561]\n",
      "Training  : 100%|███████████████████████████████████| 14/14 [00:02<00:00,  6.62it/s, loss=0.0526]\n",
      "Training  : 100%|███████████████████████████████████| 14/14 [00:02<00:00,  6.65it/s, loss=0.0518]\n",
      "Training  : 100%|███████████████████████████████████| 14/14 [00:02<00:00,  6.68it/s, loss=0.0486]\n",
      "Training  : 100%|████████████████████████████████████| 14/14 [00:02<00:00,  6.65it/s, loss=0.054]\n",
      "Training  : 100%|███████████████████████████████████| 14/14 [00:02<00:00,  6.65it/s, loss=0.0623]\n",
      "Training  : 100%|███████████████████████████████████| 14/14 [00:02<00:00,  6.60it/s, loss=0.0487]\n",
      "Training  : 100%|███████████████████████████████████| 14/14 [00:02<00:00,  6.65it/s, loss=0.0497]\n",
      "Training  : 100%|███████████████████████████████████| 14/14 [00:02<00:00,  6.57it/s, loss=0.0493]\n",
      "Training  : 100%|████████████████████████████████████| 14/14 [00:02<00:00,  6.64it/s, loss=0.051]\n",
      "Training  : 100%|███████████████████████████████████| 14/14 [00:02<00:00,  6.64it/s, loss=0.0488]\n",
      "Training  : 100%|█████████████████████████████████████| 14/14 [00:02<00:00,  6.62it/s, loss=0.05]\n",
      "Training  : 100%|███████████████████████████████████| 14/14 [00:02<00:00,  6.63it/s, loss=0.0533]\n",
      "Training  : 100%|███████████████████████████████████| 14/14 [00:02<00:00,  6.57it/s, loss=0.0539]\n",
      "Training  : 100%|███████████████████████████████████| 14/14 [00:02<00:00,  6.63it/s, loss=0.0605]\n",
      "Training  : 100%|███████████████████████████████████| 14/14 [00:02<00:00,  6.64it/s, loss=0.0529]\n",
      "Training  : 100%|███████████████████████████████████| 14/14 [00:02<00:00,  6.65it/s, loss=0.0495]\n",
      "Training  : 100%|███████████████████████████████████| 14/14 [00:02<00:00,  6.63it/s, loss=0.0492]\n",
      "Training  : 100%|███████████████████████████████████| 14/14 [00:02<00:00,  6.56it/s, loss=0.0483]\n",
      "Training  : 100%|███████████████████████████████████| 14/14 [00:02<00:00,  6.62it/s, loss=0.0466]\n",
      "Training  : 100%|███████████████████████████████████| 14/14 [00:02<00:00,  6.63it/s, loss=0.0507]\n",
      "Training  : 100%|███████████████████████████████████| 14/14 [00:02<00:00,  6.65it/s, loss=0.0456]\n",
      "Training  : 100%|███████████████████████████████████| 14/14 [00:02<00:00,  6.62it/s, loss=0.0512]\n",
      "Training  : 100%|█████████████████████████████████████| 14/14 [00:02<00:00,  6.62it/s, loss=0.05]\n",
      "Training  : 100%|███████████████████████████████████| 14/14 [00:02<00:00,  6.61it/s, loss=0.0497]\n",
      "Training  : 100%|███████████████████████████████████| 14/14 [00:02<00:00,  6.64it/s, loss=0.0499]\n",
      "Predicting: 100%|████████████████████████████████████████████████| 27/27 [00:00<00:00, 51.81it/s]\n"
     ]
    },
    {
     "name": "stdout",
     "output_type": "stream",
     "text": [
      "Building sklearn text classifier...\n",
      "Loading bert-base-uncased model...\n",
      "Defaulting to linear classifier/regressor\n",
      "Loading Pytorch checkpoint\n",
      "train data size: 428, validation data size: 0\n"
     ]
    },
    {
     "name": "stderr",
     "output_type": "stream",
     "text": [
      "Training  : 100%|████████████████████████████████████| 14/14 [00:02<00:00,  6.61it/s, loss=0.596]\n",
      "Training  : 100%|████████████████████████████████████| 14/14 [00:02<00:00,  6.61it/s, loss=0.376]\n",
      "Training  : 100%|████████████████████████████████████| 14/14 [00:02<00:00,  6.60it/s, loss=0.248]\n",
      "Training  : 100%|████████████████████████████████████| 14/14 [00:02<00:00,  6.62it/s, loss=0.189]\n",
      "Training  : 100%|████████████████████████████████████| 14/14 [00:02<00:00,  6.60it/s, loss=0.132]\n",
      "Training  : 100%|████████████████████████████████████| 14/14 [00:02<00:00,  6.66it/s, loss=0.106]\n",
      "Training  : 100%|████████████████████████████████████| 14/14 [00:02<00:00,  6.65it/s, loss=0.097]\n",
      "Training  : 100%|████████████████████████████████████| 14/14 [00:02<00:00,  6.61it/s, loss=0.083]\n",
      "Training  : 100%|███████████████████████████████████| 14/14 [00:02<00:00,  6.64it/s, loss=0.0826]\n",
      "Training  : 100%|███████████████████████████████████| 14/14 [00:02<00:00,  6.59it/s, loss=0.0734]\n",
      "Training  : 100%|███████████████████████████████████| 14/14 [00:02<00:00,  6.65it/s, loss=0.0676]\n",
      "Training  : 100%|███████████████████████████████████| 14/14 [00:02<00:00,  6.66it/s, loss=0.0649]\n",
      "Training  : 100%|███████████████████████████████████| 14/14 [00:02<00:00,  6.58it/s, loss=0.0682]\n",
      "Training  : 100%|███████████████████████████████████| 14/14 [00:02<00:00,  6.67it/s, loss=0.0673]\n",
      "Training  : 100%|███████████████████████████████████| 14/14 [00:02<00:00,  6.61it/s, loss=0.0602]\n",
      "Training  : 100%|███████████████████████████████████| 14/14 [00:02<00:00,  6.58it/s, loss=0.0741]\n",
      "Training  : 100%|███████████████████████████████████| 14/14 [00:02<00:00,  6.55it/s, loss=0.0649]\n",
      "Training  : 100%|███████████████████████████████████| 14/14 [00:02<00:00,  6.57it/s, loss=0.0564]\n",
      "Training  : 100%|███████████████████████████████████| 14/14 [00:02<00:00,  6.63it/s, loss=0.0478]\n",
      "Training  : 100%|███████████████████████████████████| 14/14 [00:02<00:00,  6.60it/s, loss=0.0519]\n",
      "Training  : 100%|████████████████████████████████████| 14/14 [00:02<00:00,  6.59it/s, loss=0.045]\n",
      "Training  : 100%|███████████████████████████████████| 14/14 [00:02<00:00,  6.70it/s, loss=0.0458]\n",
      "Training  : 100%|███████████████████████████████████| 14/14 [00:02<00:00,  6.60it/s, loss=0.0487]\n",
      "Training  : 100%|████████████████████████████████████| 14/14 [00:02<00:00,  6.60it/s, loss=0.046]\n",
      "Training  : 100%|███████████████████████████████████| 14/14 [00:02<00:00,  6.57it/s, loss=0.0431]\n",
      "Training  : 100%|███████████████████████████████████| 14/14 [00:02<00:00,  6.58it/s, loss=0.0429]\n",
      "Training  : 100%|███████████████████████████████████| 14/14 [00:02<00:00,  6.59it/s, loss=0.0466]\n",
      "Training  : 100%|███████████████████████████████████| 14/14 [00:02<00:00,  6.56it/s, loss=0.0496]\n",
      "Training  : 100%|███████████████████████████████████| 14/14 [00:02<00:00,  6.61it/s, loss=0.0405]\n",
      "Training  : 100%|███████████████████████████████████| 14/14 [00:02<00:00,  6.60it/s, loss=0.0541]\n",
      "Training  : 100%|███████████████████████████████████| 14/14 [00:02<00:00,  6.64it/s, loss=0.0551]\n",
      "Training  : 100%|███████████████████████████████████| 14/14 [00:02<00:00,  6.55it/s, loss=0.0466]\n",
      "Training  : 100%|███████████████████████████████████| 14/14 [00:02<00:00,  6.57it/s, loss=0.0479]\n",
      "Training  : 100%|███████████████████████████████████| 14/14 [00:02<00:00,  6.68it/s, loss=0.0435]\n",
      "Training  : 100%|███████████████████████████████████| 14/14 [00:02<00:00,  6.57it/s, loss=0.0381]\n",
      "Training  : 100%|███████████████████████████████████| 14/14 [00:02<00:00,  6.66it/s, loss=0.0479]\n",
      "Training  : 100%|███████████████████████████████████| 14/14 [00:02<00:00,  6.62it/s, loss=0.0498]\n",
      "Training  : 100%|███████████████████████████████████| 14/14 [00:02<00:00,  6.64it/s, loss=0.0424]\n",
      "Training  : 100%|███████████████████████████████████| 14/14 [00:02<00:00,  6.67it/s, loss=0.0397]\n",
      "Training  : 100%|███████████████████████████████████| 14/14 [00:02<00:00,  6.63it/s, loss=0.0393]\n",
      "Training  : 100%|████████████████████████████████████| 14/14 [00:02<00:00,  6.63it/s, loss=0.044]\n",
      "Training  : 100%|███████████████████████████████████| 14/14 [00:02<00:00,  6.66it/s, loss=0.0391]\n",
      "Training  : 100%|███████████████████████████████████| 14/14 [00:02<00:00,  6.64it/s, loss=0.0509]\n",
      "Training  : 100%|███████████████████████████████████| 14/14 [00:02<00:00,  6.61it/s, loss=0.0398]\n",
      "Training  : 100%|███████████████████████████████████| 14/14 [00:02<00:00,  6.60it/s, loss=0.0417]\n",
      "Training  : 100%|███████████████████████████████████| 14/14 [00:02<00:00,  6.62it/s, loss=0.0456]\n",
      "Training  : 100%|███████████████████████████████████| 14/14 [00:02<00:00,  6.61it/s, loss=0.0439]\n",
      "Training  : 100%|███████████████████████████████████| 14/14 [00:02<00:00,  6.68it/s, loss=0.0429]\n",
      "Training  : 100%|███████████████████████████████████| 14/14 [00:02<00:00,  6.64it/s, loss=0.0443]\n",
      "Training  : 100%|███████████████████████████████████| 14/14 [00:02<00:00,  6.62it/s, loss=0.0407]\n",
      "Training  : 100%|████████████████████████████████████| 14/14 [00:02<00:00,  6.61it/s, loss=0.043]\n",
      "Training  : 100%|███████████████████████████████████| 14/14 [00:02<00:00,  6.58it/s, loss=0.0398]\n",
      "Training  : 100%|███████████████████████████████████| 14/14 [00:02<00:00,  6.61it/s, loss=0.0389]\n",
      "Training  : 100%|███████████████████████████████████| 14/14 [00:02<00:00,  6.61it/s, loss=0.0436]\n",
      "Training  : 100%|███████████████████████████████████| 14/14 [00:02<00:00,  6.61it/s, loss=0.0407]\n",
      "Training  : 100%|███████████████████████████████████| 14/14 [00:02<00:00,  6.55it/s, loss=0.0423]\n",
      "Training  : 100%|███████████████████████████████████| 14/14 [00:02<00:00,  6.69it/s, loss=0.0385]\n",
      "Training  : 100%|███████████████████████████████████| 14/14 [00:02<00:00,  6.49it/s, loss=0.0446]\n",
      "Training  : 100%|███████████████████████████████████| 14/14 [00:02<00:00,  6.49it/s, loss=0.0446]\n",
      "Training  : 100%|███████████████████████████████████| 14/14 [00:02<00:00,  6.61it/s, loss=0.0418]\n",
      "Training  : 100%|███████████████████████████████████| 14/14 [00:02<00:00,  6.60it/s, loss=0.0393]\n",
      "Training  : 100%|███████████████████████████████████| 14/14 [00:02<00:00,  6.61it/s, loss=0.0452]\n",
      "Training  : 100%|███████████████████████████████████| 14/14 [00:02<00:00,  6.64it/s, loss=0.0425]\n",
      "Training  : 100%|███████████████████████████████████| 14/14 [00:02<00:00,  6.58it/s, loss=0.0426]\n",
      "Training  : 100%|███████████████████████████████████| 14/14 [00:02<00:00,  6.64it/s, loss=0.0428]\n",
      "Training  : 100%|███████████████████████████████████| 14/14 [00:02<00:00,  6.62it/s, loss=0.0411]\n",
      "Training  : 100%|███████████████████████████████████| 14/14 [00:02<00:00,  6.63it/s, loss=0.0409]\n",
      "Training  : 100%|███████████████████████████████████| 14/14 [00:02<00:00,  6.61it/s, loss=0.0387]\n",
      "Training  : 100%|███████████████████████████████████| 14/14 [00:02<00:00,  6.61it/s, loss=0.0417]\n",
      "Training  : 100%|███████████████████████████████████| 14/14 [00:02<00:00,  6.63it/s, loss=0.0386]\n",
      "Training  : 100%|███████████████████████████████████| 14/14 [00:02<00:00,  6.55it/s, loss=0.0398]\n",
      "Training  : 100%|███████████████████████████████████| 14/14 [00:02<00:00,  6.60it/s, loss=0.0393]\n",
      "Training  : 100%|███████████████████████████████████| 14/14 [00:02<00:00,  6.60it/s, loss=0.0454]\n",
      "Training  : 100%|███████████████████████████████████| 14/14 [00:02<00:00,  6.57it/s, loss=0.0447]\n",
      "Training  : 100%|███████████████████████████████████| 14/14 [00:02<00:00,  6.62it/s, loss=0.0429]\n",
      "Predicting: 100%|████████████████████████████████████████████████| 27/27 [00:00<00:00, 50.33it/s]\n"
     ]
    },
    {
     "name": "stdout",
     "output_type": "stream",
     "text": [
      "Building sklearn text classifier...\n",
      "Loading bert-base-uncased model...\n",
      "Defaulting to linear classifier/regressor\n",
      "Loading Pytorch checkpoint\n",
      "train data size: 428, validation data size: 0\n"
     ]
    },
    {
     "name": "stderr",
     "output_type": "stream",
     "text": [
      "Training  : 100%|████████████████████████████████████| 14/14 [00:02<00:00,  6.60it/s, loss=0.567]\n",
      "Training  : 100%|████████████████████████████████████| 14/14 [00:02<00:00,  6.63it/s, loss=0.335]\n",
      "Training  : 100%|████████████████████████████████████| 14/14 [00:02<00:00,  6.59it/s, loss=0.235]\n",
      "Training  : 100%|████████████████████████████████████| 14/14 [00:02<00:00,  6.66it/s, loss=0.205]\n",
      "Training  : 100%|████████████████████████████████████| 14/14 [00:02<00:00,  6.63it/s, loss=0.143]\n",
      "Training  : 100%|████████████████████████████████████| 14/14 [00:02<00:00,  6.60it/s, loss=0.137]\n",
      "Training  : 100%|███████████████████████████████████| 14/14 [00:02<00:00,  6.60it/s, loss=0.0952]\n",
      "Training  : 100%|███████████████████████████████████| 14/14 [00:02<00:00,  6.57it/s, loss=0.0923]\n",
      "Training  : 100%|███████████████████████████████████| 14/14 [00:02<00:00,  6.58it/s, loss=0.0957]\n",
      "Training  : 100%|███████████████████████████████████| 14/14 [00:02<00:00,  6.60it/s, loss=0.0884]\n",
      "Training  : 100%|███████████████████████████████████| 14/14 [00:02<00:00,  6.67it/s, loss=0.0742]\n",
      "Training  : 100%|███████████████████████████████████| 14/14 [00:02<00:00,  6.65it/s, loss=0.0814]\n",
      "Training  : 100%|███████████████████████████████████| 14/14 [00:02<00:00,  6.64it/s, loss=0.0734]\n",
      "Training  : 100%|███████████████████████████████████| 14/14 [00:02<00:00,  6.64it/s, loss=0.0625]\n",
      "Training  : 100%|███████████████████████████████████| 14/14 [00:02<00:00,  6.63it/s, loss=0.0683]\n",
      "Training  : 100%|███████████████████████████████████| 14/14 [00:02<00:00,  6.61it/s, loss=0.0675]\n",
      "Training  : 100%|███████████████████████████████████| 14/14 [00:02<00:00,  6.63it/s, loss=0.0747]\n",
      "Training  : 100%|███████████████████████████████████| 14/14 [00:02<00:00,  6.36it/s, loss=0.0606]\n",
      "Training  : 100%|███████████████████████████████████| 14/14 [00:02<00:00,  6.45it/s, loss=0.0583]\n",
      "Training  : 100%|████████████████████████████████████| 14/14 [00:02<00:00,  6.69it/s, loss=0.061]\n",
      "Training  : 100%|███████████████████████████████████| 14/14 [00:02<00:00,  6.59it/s, loss=0.0581]\n",
      "Training  : 100%|███████████████████████████████████| 14/14 [00:02<00:00,  6.60it/s, loss=0.0546]\n",
      "Training  : 100%|███████████████████████████████████| 14/14 [00:02<00:00,  6.57it/s, loss=0.0625]\n",
      "Training  : 100%|███████████████████████████████████| 14/14 [00:02<00:00,  6.43it/s, loss=0.0582]\n",
      "Training  : 100%|███████████████████████████████████| 14/14 [00:02<00:00,  6.57it/s, loss=0.0531]\n",
      "Training  : 100%|███████████████████████████████████| 14/14 [00:02<00:00,  6.62it/s, loss=0.0551]\n",
      "Training  : 100%|███████████████████████████████████| 14/14 [00:02<00:00,  6.55it/s, loss=0.0545]\n",
      "Training  : 100%|███████████████████████████████████| 14/14 [00:02<00:00,  6.60it/s, loss=0.0567]\n",
      "Training  : 100%|███████████████████████████████████| 14/14 [00:02<00:00,  6.59it/s, loss=0.0513]\n",
      "Training  : 100%|███████████████████████████████████| 14/14 [00:02<00:00,  6.57it/s, loss=0.0515]\n",
      "Training  : 100%|███████████████████████████████████| 14/14 [00:02<00:00,  6.65it/s, loss=0.0523]\n",
      "Training  : 100%|███████████████████████████████████| 14/14 [00:02<00:00,  6.57it/s, loss=0.0588]\n",
      "Training  : 100%|███████████████████████████████████| 14/14 [00:02<00:00,  6.48it/s, loss=0.0569]\n",
      "Training  : 100%|███████████████████████████████████| 14/14 [00:02<00:00,  6.48it/s, loss=0.0593]\n",
      "Training  : 100%|███████████████████████████████████| 14/14 [00:02<00:00,  6.64it/s, loss=0.0566]\n",
      "Training  : 100%|███████████████████████████████████| 14/14 [00:02<00:00,  6.66it/s, loss=0.0492]\n",
      "Training  : 100%|███████████████████████████████████| 14/14 [00:02<00:00,  6.56it/s, loss=0.0556]\n",
      "Training  : 100%|███████████████████████████████████| 14/14 [00:02<00:00,  6.68it/s, loss=0.0525]\n",
      "Training  : 100%|███████████████████████████████████| 14/14 [00:02<00:00,  6.65it/s, loss=0.0494]\n",
      "Training  : 100%|███████████████████████████████████| 14/14 [00:02<00:00,  6.62it/s, loss=0.0501]\n",
      "Training  : 100%|███████████████████████████████████| 14/14 [00:02<00:00,  6.54it/s, loss=0.0473]\n",
      "Training  : 100%|███████████████████████████████████| 14/14 [00:02<00:00,  6.65it/s, loss=0.0568]\n",
      "Training  : 100%|███████████████████████████████████| 14/14 [00:02<00:00,  6.56it/s, loss=0.0456]\n",
      "Training  : 100%|███████████████████████████████████| 14/14 [00:02<00:00,  6.64it/s, loss=0.0487]\n",
      "Training  : 100%|███████████████████████████████████| 14/14 [00:02<00:00,  6.55it/s, loss=0.0502]\n",
      "Training  : 100%|███████████████████████████████████| 14/14 [00:02<00:00,  6.64it/s, loss=0.0456]\n",
      "Training  : 100%|███████████████████████████████████| 14/14 [00:02<00:00,  6.64it/s, loss=0.0461]\n",
      "Training  : 100%|███████████████████████████████████| 14/14 [00:02<00:00,  6.69it/s, loss=0.0473]\n",
      "Training  : 100%|███████████████████████████████████| 14/14 [00:02<00:00,  6.62it/s, loss=0.0459]\n",
      "Training  : 100%|███████████████████████████████████| 14/14 [00:02<00:00,  6.62it/s, loss=0.0574]\n",
      "Training  : 100%|███████████████████████████████████| 14/14 [00:02<00:00,  6.63it/s, loss=0.0481]\n",
      "Training  : 100%|███████████████████████████████████| 14/14 [00:02<00:00,  6.66it/s, loss=0.0606]\n",
      "Training  : 100%|███████████████████████████████████| 14/14 [00:02<00:00,  6.60it/s, loss=0.0486]\n",
      "Training  : 100%|███████████████████████████████████| 14/14 [00:02<00:00,  6.52it/s, loss=0.0462]\n",
      "Training  : 100%|███████████████████████████████████| 14/14 [00:02<00:00,  6.64it/s, loss=0.0574]\n",
      "Training  : 100%|████████████████████████████████████| 14/14 [00:02<00:00,  6.60it/s, loss=0.046]\n",
      "Training  : 100%|███████████████████████████████████| 14/14 [00:02<00:00,  6.57it/s, loss=0.0592]\n",
      "Training  : 100%|███████████████████████████████████| 14/14 [00:02<00:00,  6.59it/s, loss=0.0471]\n",
      "Training  : 100%|███████████████████████████████████| 14/14 [00:02<00:00,  6.62it/s, loss=0.0453]\n",
      "Training  : 100%|███████████████████████████████████| 14/14 [00:02<00:00,  6.60it/s, loss=0.0451]\n",
      "Training  : 100%|███████████████████████████████████| 14/14 [00:02<00:00,  6.60it/s, loss=0.0514]\n",
      "Training  : 100%|███████████████████████████████████| 14/14 [00:02<00:00,  6.56it/s, loss=0.0471]\n",
      "Training  : 100%|███████████████████████████████████| 14/14 [00:02<00:00,  6.59it/s, loss=0.0482]\n",
      "Training  : 100%|███████████████████████████████████| 14/14 [00:02<00:00,  6.63it/s, loss=0.0585]\n",
      "Training  : 100%|███████████████████████████████████| 14/14 [00:02<00:00,  6.61it/s, loss=0.0486]\n",
      "Training  : 100%|████████████████████████████████████| 14/14 [00:02<00:00,  6.57it/s, loss=0.047]\n",
      "Training  : 100%|███████████████████████████████████| 14/14 [00:02<00:00,  6.63it/s, loss=0.0529]\n",
      "Training  : 100%|███████████████████████████████████| 14/14 [00:02<00:00,  6.60it/s, loss=0.0464]\n",
      "Training  : 100%|███████████████████████████████████| 14/14 [00:02<00:00,  6.59it/s, loss=0.0462]\n",
      "Training  : 100%|███████████████████████████████████| 14/14 [00:02<00:00,  6.61it/s, loss=0.0524]\n",
      "Training  : 100%|███████████████████████████████████| 14/14 [00:02<00:00,  6.64it/s, loss=0.0475]\n",
      "Training  : 100%|███████████████████████████████████| 14/14 [00:02<00:00,  6.60it/s, loss=0.0438]\n",
      "Training  : 100%|███████████████████████████████████| 14/14 [00:02<00:00,  6.60it/s, loss=0.0445]\n",
      "Training  : 100%|████████████████████████████████████| 14/14 [00:02<00:00,  6.62it/s, loss=0.045]\n",
      "Training  : 100%|███████████████████████████████████| 14/14 [00:02<00:00,  6.56it/s, loss=0.0472]\n",
      "Training  : 100%|███████████████████████████████████| 14/14 [00:02<00:00,  6.59it/s, loss=0.0453]\n",
      "Training  : 100%|███████████████████████████████████| 14/14 [00:02<00:00,  6.65it/s, loss=0.0511]\n",
      "Training  : 100%|███████████████████████████████████| 14/14 [00:02<00:00,  6.69it/s, loss=0.0472]\n",
      "Training  : 100%|███████████████████████████████████| 14/14 [00:02<00:00,  6.65it/s, loss=0.0526]\n",
      "Training  : 100%|███████████████████████████████████| 14/14 [00:02<00:00,  6.62it/s, loss=0.0469]\n",
      "Training  : 100%|████████████████████████████████████| 14/14 [00:02<00:00,  6.62it/s, loss=0.046]\n",
      "Training  : 100%|███████████████████████████████████| 14/14 [00:02<00:00,  6.57it/s, loss=0.0461]\n",
      "Training  : 100%|███████████████████████████████████| 14/14 [00:02<00:00,  6.61it/s, loss=0.0485]\n",
      "Training  : 100%|███████████████████████████████████| 14/14 [00:02<00:00,  6.61it/s, loss=0.0495]\n",
      "Training  : 100%|███████████████████████████████████| 14/14 [00:02<00:00,  6.61it/s, loss=0.0452]\n",
      "Training  : 100%|████████████████████████████████████| 14/14 [00:02<00:00,  6.69it/s, loss=0.046]\n",
      "Training  : 100%|███████████████████████████████████| 14/14 [00:02<00:00,  6.61it/s, loss=0.0449]\n",
      "Training  : 100%|███████████████████████████████████| 14/14 [00:02<00:00,  6.58it/s, loss=0.0498]\n",
      "Training  : 100%|███████████████████████████████████| 14/14 [00:02<00:00,  6.62it/s, loss=0.0499]\n",
      "Training  : 100%|███████████████████████████████████| 14/14 [00:02<00:00,  6.66it/s, loss=0.0448]\n",
      "Training  : 100%|███████████████████████████████████| 14/14 [00:02<00:00,  6.67it/s, loss=0.0488]\n",
      "Training  : 100%|███████████████████████████████████| 14/14 [00:02<00:00,  6.61it/s, loss=0.0484]\n",
      "Training  : 100%|███████████████████████████████████| 14/14 [00:02<00:00,  6.65it/s, loss=0.0471]\n",
      "Training  : 100%|███████████████████████████████████| 14/14 [00:02<00:00,  6.59it/s, loss=0.0439]\n",
      "Training  : 100%|███████████████████████████████████| 14/14 [00:02<00:00,  6.63it/s, loss=0.0454]\n",
      "Training  : 100%|███████████████████████████████████| 14/14 [00:02<00:00,  6.58it/s, loss=0.0452]\n",
      "Training  : 100%|███████████████████████████████████| 14/14 [00:02<00:00,  6.55it/s, loss=0.0463]\n",
      "Training  : 100%|███████████████████████████████████| 14/14 [00:02<00:00,  6.62it/s, loss=0.0493]\n",
      "Training  : 100%|███████████████████████████████████| 14/14 [00:02<00:00,  6.59it/s, loss=0.0472]\n",
      "Training  : 100%|███████████████████████████████████| 14/14 [00:02<00:00,  6.60it/s, loss=0.0487]\n",
      "Predicting: 100%|████████████████████████████████████████████████| 27/27 [00:00<00:00, 50.33it/s]\n"
     ]
    },
    {
     "name": "stdout",
     "output_type": "stream",
     "text": [
      "Building sklearn text classifier...\n",
      "Loading bert-base-uncased model...\n",
      "Defaulting to linear classifier/regressor\n",
      "Loading Pytorch checkpoint\n",
      "train data size: 428, validation data size: 0\n"
     ]
    },
    {
     "name": "stderr",
     "output_type": "stream",
     "text": [
      "Training  : 100%|████████████████████████████████████| 14/14 [00:02<00:00,  6.65it/s, loss=0.565]\n",
      "Training  : 100%|████████████████████████████████████| 14/14 [00:02<00:00,  6.59it/s, loss=0.338]\n",
      "Training  : 100%|████████████████████████████████████| 14/14 [00:02<00:00,  6.58it/s, loss=0.229]\n",
      "Training  : 100%|████████████████████████████████████| 14/14 [00:02<00:00,  6.69it/s, loss=0.199]\n",
      "Training  : 100%|████████████████████████████████████| 14/14 [00:02<00:00,  6.64it/s, loss=0.138]\n",
      "Training  : 100%|████████████████████████████████████| 14/14 [00:02<00:00,  6.63it/s, loss=0.135]\n",
      "Training  : 100%|████████████████████████████████████| 14/14 [00:02<00:00,  6.63it/s, loss=0.123]\n",
      "Training  : 100%|████████████████████████████████████| 14/14 [00:02<00:00,  6.64it/s, loss=0.107]\n",
      "Training  : 100%|████████████████████████████████████| 14/14 [00:02<00:00,  6.66it/s, loss=0.111]\n",
      "Training  : 100%|███████████████████████████████████| 14/14 [00:02<00:00,  6.59it/s, loss=0.0954]\n",
      "Training  : 100%|███████████████████████████████████| 14/14 [00:02<00:00,  6.59it/s, loss=0.0734]\n",
      "Training  : 100%|███████████████████████████████████| 14/14 [00:02<00:00,  6.59it/s, loss=0.0869]\n",
      "Training  : 100%|████████████████████████████████████| 14/14 [00:02<00:00,  6.63it/s, loss=0.072]\n",
      "Training  : 100%|███████████████████████████████████| 14/14 [00:02<00:00,  6.49it/s, loss=0.0661]\n",
      "Training  : 100%|███████████████████████████████████| 14/14 [00:02<00:00,  6.58it/s, loss=0.0651]\n",
      "Training  : 100%|███████████████████████████████████| 14/14 [00:02<00:00,  6.62it/s, loss=0.0645]\n",
      "Training  : 100%|███████████████████████████████████| 14/14 [00:02<00:00,  6.59it/s, loss=0.0617]\n",
      "Training  : 100%|███████████████████████████████████| 14/14 [00:02<00:00,  6.60it/s, loss=0.0643]\n",
      "Training  : 100%|███████████████████████████████████| 14/14 [00:02<00:00,  6.63it/s, loss=0.0683]\n",
      "Training  : 100%|███████████████████████████████████| 14/14 [00:02<00:00,  6.60it/s, loss=0.0573]\n",
      "Training  : 100%|███████████████████████████████████| 14/14 [00:02<00:00,  6.61it/s, loss=0.0569]\n",
      "Training  : 100%|███████████████████████████████████| 14/14 [00:02<00:00,  6.56it/s, loss=0.0589]\n",
      "Training  : 100%|███████████████████████████████████| 14/14 [00:02<00:00,  6.66it/s, loss=0.0617]\n",
      "Training  : 100%|███████████████████████████████████| 14/14 [00:02<00:00,  6.57it/s, loss=0.0717]\n",
      "Training  : 100%|████████████████████████████████████| 14/14 [00:02<00:00,  6.67it/s, loss=0.054]\n",
      "Training  : 100%|███████████████████████████████████| 14/14 [00:02<00:00,  6.60it/s, loss=0.0522]\n",
      "Training  : 100%|███████████████████████████████████| 14/14 [00:02<00:00,  6.62it/s, loss=0.0542]\n",
      "Training  : 100%|███████████████████████████████████| 14/14 [00:02<00:00,  6.59it/s, loss=0.0529]\n",
      "Training  : 100%|████████████████████████████████████| 14/14 [00:02<00:00,  6.57it/s, loss=0.051]\n",
      "Training  : 100%|███████████████████████████████████| 14/14 [00:02<00:00,  6.60it/s, loss=0.0575]\n",
      "Training  : 100%|███████████████████████████████████| 14/14 [00:02<00:00,  6.59it/s, loss=0.0509]\n",
      "Training  : 100%|███████████████████████████████████| 14/14 [00:02<00:00,  6.61it/s, loss=0.0682]\n",
      "Training  : 100%|███████████████████████████████████| 14/14 [00:02<00:00,  6.69it/s, loss=0.0576]\n",
      "Training  : 100%|███████████████████████████████████| 14/14 [00:02<00:00,  6.65it/s, loss=0.0671]\n",
      "Training  : 100%|███████████████████████████████████| 14/14 [00:02<00:00,  6.62it/s, loss=0.0602]\n",
      "Training  : 100%|███████████████████████████████████| 14/14 [00:02<00:00,  6.59it/s, loss=0.0533]\n",
      "Training  : 100%|████████████████████████████████████| 14/14 [00:02<00:00,  6.41it/s, loss=0.078]\n",
      "Training  : 100%|███████████████████████████████████| 14/14 [00:02<00:00,  6.51it/s, loss=0.0535]\n",
      "Training  : 100%|███████████████████████████████████| 14/14 [00:02<00:00,  6.58it/s, loss=0.0523]\n",
      "Training  : 100%|███████████████████████████████████| 14/14 [00:02<00:00,  6.59it/s, loss=0.0473]\n",
      "Training  : 100%|███████████████████████████████████| 14/14 [00:02<00:00,  6.62it/s, loss=0.0519]\n",
      "Training  : 100%|███████████████████████████████████| 14/14 [00:02<00:00,  6.60it/s, loss=0.0531]\n",
      "Training  : 100%|███████████████████████████████████| 14/14 [00:02<00:00,  6.61it/s, loss=0.0483]\n",
      "Training  : 100%|███████████████████████████████████| 14/14 [00:02<00:00,  6.60it/s, loss=0.0495]\n",
      "Training  : 100%|███████████████████████████████████| 14/14 [00:02<00:00,  6.59it/s, loss=0.0517]\n",
      "Training  : 100%|███████████████████████████████████| 14/14 [00:02<00:00,  6.59it/s, loss=0.0559]\n",
      "Training  : 100%|███████████████████████████████████| 14/14 [00:02<00:00,  6.64it/s, loss=0.0511]\n",
      "Training  : 100%|███████████████████████████████████| 14/14 [00:02<00:00,  6.62it/s, loss=0.0479]\n",
      "Training  : 100%|████████████████████████████████████| 14/14 [00:02<00:00,  6.62it/s, loss=0.049]\n",
      "Training  : 100%|███████████████████████████████████| 14/14 [00:02<00:00,  6.63it/s, loss=0.0578]\n",
      "Training  : 100%|███████████████████████████████████| 14/14 [00:02<00:00,  6.61it/s, loss=0.0496]\n",
      "Training  : 100%|███████████████████████████████████| 14/14 [00:02<00:00,  6.63it/s, loss=0.0545]\n",
      "Training  : 100%|███████████████████████████████████| 14/14 [00:02<00:00,  6.60it/s, loss=0.0488]\n",
      "Training  : 100%|███████████████████████████████████| 14/14 [00:02<00:00,  6.63it/s, loss=0.0532]\n",
      "Training  : 100%|████████████████████████████████████| 14/14 [00:02<00:00,  6.64it/s, loss=0.055]\n",
      "Training  : 100%|███████████████████████████████████| 14/14 [00:02<00:00,  6.65it/s, loss=0.0479]\n",
      "Training  : 100%|███████████████████████████████████| 14/14 [00:02<00:00,  6.68it/s, loss=0.0496]\n",
      "Training  : 100%|███████████████████████████████████| 14/14 [00:02<00:00,  6.59it/s, loss=0.0521]\n",
      "Training  : 100%|███████████████████████████████████| 14/14 [00:02<00:00,  6.60it/s, loss=0.0528]\n",
      "Training  : 100%|███████████████████████████████████| 14/14 [00:02<00:00,  6.64it/s, loss=0.0478]\n",
      "Training  : 100%|███████████████████████████████████| 14/14 [00:02<00:00,  6.65it/s, loss=0.0487]\n",
      "Training  : 100%|███████████████████████████████████| 14/14 [00:02<00:00,  6.58it/s, loss=0.0548]\n",
      "Training  : 100%|███████████████████████████████████| 14/14 [00:02<00:00,  6.58it/s, loss=0.0573]\n",
      "Training  : 100%|████████████████████████████████████| 14/14 [00:02<00:00,  6.64it/s, loss=0.059]\n",
      "Training  : 100%|███████████████████████████████████| 14/14 [00:02<00:00,  6.64it/s, loss=0.0519]\n",
      "Training  : 100%|████████████████████████████████████| 14/14 [00:02<00:00,  6.62it/s, loss=0.048]\n",
      "Training  : 100%|███████████████████████████████████| 14/14 [00:02<00:00,  6.57it/s, loss=0.0508]\n",
      "Training  : 100%|███████████████████████████████████| 14/14 [00:02<00:00,  6.58it/s, loss=0.0493]\n",
      "Training  : 100%|███████████████████████████████████| 14/14 [00:02<00:00,  6.62it/s, loss=0.0477]\n",
      "Training  : 100%|███████████████████████████████████| 14/14 [00:02<00:00,  6.61it/s, loss=0.0497]\n",
      "Training  : 100%|███████████████████████████████████| 14/14 [00:02<00:00,  6.62it/s, loss=0.0473]\n",
      "Training  : 100%|████████████████████████████████████| 14/14 [00:02<00:00,  6.64it/s, loss=0.047]\n",
      "Training  : 100%|███████████████████████████████████| 14/14 [00:02<00:00,  6.63it/s, loss=0.0478]\n",
      "Training  : 100%|███████████████████████████████████| 14/14 [00:02<00:00,  6.59it/s, loss=0.0461]\n",
      "Training  : 100%|███████████████████████████████████| 14/14 [00:02<00:00,  6.66it/s, loss=0.0475]\n",
      "Training  : 100%|███████████████████████████████████| 14/14 [00:02<00:00,  6.65it/s, loss=0.0454]\n",
      "Training  : 100%|███████████████████████████████████| 14/14 [00:02<00:00,  6.61it/s, loss=0.0513]\n",
      "Training  : 100%|███████████████████████████████████| 14/14 [00:02<00:00,  6.62it/s, loss=0.0492]\n",
      "Training  : 100%|███████████████████████████████████| 14/14 [00:02<00:00,  6.61it/s, loss=0.0509]\n",
      "Training  : 100%|███████████████████████████████████| 14/14 [00:02<00:00,  6.40it/s, loss=0.0604]\n",
      "Training  : 100%|███████████████████████████████████| 14/14 [00:02<00:00,  6.53it/s, loss=0.0488]\n",
      "Training  : 100%|███████████████████████████████████| 14/14 [00:02<00:00,  6.55it/s, loss=0.0489]\n",
      "Training  : 100%|███████████████████████████████████| 14/14 [00:02<00:00,  6.65it/s, loss=0.0502]\n",
      "Training  : 100%|████████████████████████████████████| 14/14 [00:02<00:00,  6.59it/s, loss=0.047]\n",
      "Training  : 100%|███████████████████████████████████| 14/14 [00:02<00:00,  6.56it/s, loss=0.0473]\n",
      "Training  : 100%|████████████████████████████████████| 14/14 [00:02<00:00,  6.56it/s, loss=0.051]\n",
      "Training  : 100%|███████████████████████████████████| 14/14 [00:02<00:00,  6.60it/s, loss=0.0472]\n",
      "Training  : 100%|███████████████████████████████████| 14/14 [00:02<00:00,  6.63it/s, loss=0.0474]\n",
      "Training  : 100%|███████████████████████████████████| 14/14 [00:02<00:00,  6.60it/s, loss=0.0511]\n",
      "Training  : 100%|███████████████████████████████████| 14/14 [00:02<00:00,  6.61it/s, loss=0.0476]\n",
      "Training  : 100%|███████████████████████████████████| 14/14 [00:02<00:00,  6.57it/s, loss=0.0473]\n",
      "Training  : 100%|███████████████████████████████████| 14/14 [00:02<00:00,  6.67it/s, loss=0.0486]\n",
      "Training  : 100%|███████████████████████████████████| 14/14 [00:02<00:00,  6.59it/s, loss=0.0454]\n",
      "Training  : 100%|███████████████████████████████████| 14/14 [00:02<00:00,  6.59it/s, loss=0.0449]\n",
      "Training  : 100%|███████████████████████████████████| 14/14 [00:02<00:00,  6.63it/s, loss=0.0476]\n",
      "Training  : 100%|███████████████████████████████████| 14/14 [00:02<00:00,  6.70it/s, loss=0.0461]\n",
      "Training  : 100%|███████████████████████████████████| 14/14 [00:02<00:00,  6.63it/s, loss=0.0475]\n",
      "Training  : 100%|███████████████████████████████████| 14/14 [00:02<00:00,  6.63it/s, loss=0.0536]\n",
      "Training  : 100%|███████████████████████████████████| 14/14 [00:02<00:00,  6.59it/s, loss=0.0484]\n",
      "Training  : 100%|████████████████████████████████████| 14/14 [00:02<00:00,  6.62it/s, loss=0.052]\n",
      "Predicting: 100%|████████████████████████████████████████████████| 27/27 [00:00<00:00, 50.43it/s]\n"
     ]
    },
    {
     "name": "stdout",
     "output_type": "stream",
     "text": [
      "Building sklearn text classifier...\n",
      "Loading bert-base-uncased model...\n",
      "Defaulting to linear classifier/regressor\n",
      "Loading Pytorch checkpoint\n",
      "train data size: 428, validation data size: 0\n"
     ]
    },
    {
     "name": "stderr",
     "output_type": "stream",
     "text": [
      "Training  : 100%|████████████████████████████████████| 14/14 [00:02<00:00,  6.56it/s, loss=0.581]\n",
      "Training  : 100%|████████████████████████████████████| 14/14 [00:02<00:00,  6.69it/s, loss=0.324]\n",
      "Training  : 100%|████████████████████████████████████| 14/14 [00:02<00:00,  6.61it/s, loss=0.226]\n",
      "Training  : 100%|████████████████████████████████████| 14/14 [00:02<00:00,  6.61it/s, loss=0.169]\n",
      "Training  : 100%|████████████████████████████████████| 14/14 [00:02<00:00,  6.55it/s, loss=0.121]\n",
      "Training  : 100%|████████████████████████████████████| 14/14 [00:02<00:00,  6.64it/s, loss=0.114]\n",
      "Training  : 100%|████████████████████████████████████| 14/14 [00:02<00:00,  6.61it/s, loss=0.103]\n",
      "Training  : 100%|███████████████████████████████████| 14/14 [00:02<00:00,  6.62it/s, loss=0.0798]\n",
      "Training  : 100%|███████████████████████████████████| 14/14 [00:02<00:00,  6.67it/s, loss=0.0941]\n",
      "Training  : 100%|███████████████████████████████████| 14/14 [00:02<00:00,  6.67it/s, loss=0.0707]\n",
      "Training  : 100%|████████████████████████████████████| 14/14 [00:02<00:00,  6.62it/s, loss=0.053]\n",
      "Training  : 100%|███████████████████████████████████| 14/14 [00:02<00:00,  6.57it/s, loss=0.0627]\n",
      "Training  : 100%|███████████████████████████████████| 14/14 [00:02<00:00,  6.64it/s, loss=0.0613]\n",
      "Training  : 100%|███████████████████████████████████| 14/14 [00:02<00:00,  6.32it/s, loss=0.0578]\n",
      "Training  : 100%|███████████████████████████████████| 14/14 [00:02<00:00,  6.34it/s, loss=0.0505]\n",
      "Training  : 100%|███████████████████████████████████| 14/14 [00:02<00:00,  6.64it/s, loss=0.0527]\n",
      "Training  : 100%|███████████████████████████████████| 14/14 [00:02<00:00,  6.63it/s, loss=0.0495]\n",
      "Training  : 100%|███████████████████████████████████| 14/14 [00:02<00:00,  6.62it/s, loss=0.0456]\n",
      "Training  : 100%|███████████████████████████████████| 14/14 [00:02<00:00,  6.67it/s, loss=0.0439]\n",
      "Training  : 100%|███████████████████████████████████| 14/14 [00:02<00:00,  6.65it/s, loss=0.0468]\n",
      "Training  : 100%|███████████████████████████████████| 14/14 [00:02<00:00,  6.67it/s, loss=0.0421]\n",
      "Training  : 100%|███████████████████████████████████| 14/14 [00:02<00:00,  6.62it/s, loss=0.0418]\n",
      "Training  : 100%|███████████████████████████████████| 14/14 [00:02<00:00,  6.64it/s, loss=0.0471]\n",
      "Training  : 100%|███████████████████████████████████| 14/14 [00:02<00:00,  6.62it/s, loss=0.0429]\n",
      "Training  : 100%|███████████████████████████████████| 14/14 [00:02<00:00,  6.60it/s, loss=0.0393]\n",
      "Training  : 100%|███████████████████████████████████| 14/14 [00:02<00:00,  6.62it/s, loss=0.0399]\n",
      "Training  : 100%|███████████████████████████████████| 14/14 [00:02<00:00,  6.68it/s, loss=0.0417]\n",
      "Training  : 100%|███████████████████████████████████| 14/14 [00:02<00:00,  6.54it/s, loss=0.0462]\n",
      "Training  : 100%|███████████████████████████████████| 14/14 [00:02<00:00,  6.62it/s, loss=0.0389]\n",
      "Training  : 100%|███████████████████████████████████| 14/14 [00:02<00:00,  6.61it/s, loss=0.0496]\n",
      "Training  : 100%|███████████████████████████████████| 14/14 [00:02<00:00,  6.60it/s, loss=0.0527]\n",
      "Training  : 100%|███████████████████████████████████| 14/14 [00:02<00:00,  6.54it/s, loss=0.0397]\n",
      "Training  : 100%|███████████████████████████████████| 14/14 [00:02<00:00,  6.63it/s, loss=0.0466]\n",
      "Training  : 100%|███████████████████████████████████| 14/14 [00:02<00:00,  6.60it/s, loss=0.0406]\n",
      "Training  : 100%|███████████████████████████████████| 14/14 [00:02<00:00,  6.63it/s, loss=0.0401]\n",
      "Training  : 100%|███████████████████████████████████| 14/14 [00:02<00:00,  6.60it/s, loss=0.0452]\n",
      "Training  : 100%|███████████████████████████████████| 14/14 [00:02<00:00,  6.62it/s, loss=0.0468]\n",
      "Training  : 100%|███████████████████████████████████| 14/14 [00:02<00:00,  6.64it/s, loss=0.0424]\n",
      "Training  : 100%|███████████████████████████████████| 14/14 [00:02<00:00,  6.61it/s, loss=0.0382]\n",
      "Training  : 100%|███████████████████████████████████| 14/14 [00:02<00:00,  6.61it/s, loss=0.0381]\n",
      "Training  : 100%|███████████████████████████████████| 14/14 [00:02<00:00,  6.64it/s, loss=0.0427]\n",
      "Training  : 100%|███████████████████████████████████| 14/14 [00:02<00:00,  6.64it/s, loss=0.0417]\n",
      "Training  : 100%|███████████████████████████████████| 14/14 [00:02<00:00,  6.61it/s, loss=0.0461]\n",
      "Training  : 100%|███████████████████████████████████| 14/14 [00:02<00:00,  6.64it/s, loss=0.0388]\n",
      "Training  : 100%|███████████████████████████████████| 14/14 [00:02<00:00,  6.63it/s, loss=0.0384]\n",
      "Training  : 100%|███████████████████████████████████| 14/14 [00:02<00:00,  6.64it/s, loss=0.0458]\n",
      "Training  : 100%|███████████████████████████████████| 14/14 [00:02<00:00,  6.57it/s, loss=0.0439]\n",
      "Training  : 100%|███████████████████████████████████| 14/14 [00:02<00:00,  6.60it/s, loss=0.0439]\n",
      "Training  : 100%|███████████████████████████████████| 14/14 [00:02<00:00,  6.62it/s, loss=0.0396]\n",
      "Training  : 100%|███████████████████████████████████| 14/14 [00:02<00:00,  6.59it/s, loss=0.0404]\n",
      "Training  : 100%|███████████████████████████████████| 14/14 [00:02<00:00,  6.56it/s, loss=0.0426]\n",
      "Training  : 100%|███████████████████████████████████| 14/14 [00:02<00:00,  6.64it/s, loss=0.0396]\n",
      "Training  : 100%|███████████████████████████████████| 14/14 [00:02<00:00,  6.66it/s, loss=0.0383]\n",
      "Training  : 100%|███████████████████████████████████| 14/14 [00:02<00:00,  6.64it/s, loss=0.0414]\n",
      "Training  : 100%|███████████████████████████████████| 14/14 [00:02<00:00,  6.62it/s, loss=0.0411]\n",
      "Training  : 100%|███████████████████████████████████| 14/14 [00:02<00:00,  6.65it/s, loss=0.0402]\n",
      "Training  : 100%|███████████████████████████████████| 14/14 [00:02<00:00,  6.58it/s, loss=0.0376]\n",
      "Training  : 100%|███████████████████████████████████| 14/14 [00:02<00:00,  6.62it/s, loss=0.0408]\n",
      "Training  : 100%|███████████████████████████████████| 14/14 [00:02<00:00,  6.59it/s, loss=0.0442]\n",
      "Training  : 100%|███████████████████████████████████| 14/14 [00:02<00:00,  6.60it/s, loss=0.0406]\n",
      "Training  : 100%|███████████████████████████████████| 14/14 [00:02<00:00,  6.58it/s, loss=0.0398]\n",
      "Training  : 100%|███████████████████████████████████| 14/14 [00:02<00:00,  6.65it/s, loss=0.0451]\n",
      "Training  : 100%|███████████████████████████████████| 14/14 [00:02<00:00,  6.63it/s, loss=0.0411]\n",
      "Training  : 100%|███████████████████████████████████| 14/14 [00:02<00:00,  6.65it/s, loss=0.0414]\n",
      "Training  : 100%|███████████████████████████████████| 14/14 [00:02<00:00,  6.64it/s, loss=0.0441]\n",
      "Training  : 100%|███████████████████████████████████| 14/14 [00:02<00:00,  6.63it/s, loss=0.0394]\n",
      "Training  : 100%|███████████████████████████████████| 14/14 [00:02<00:00,  6.66it/s, loss=0.0398]\n",
      "Training  : 100%|███████████████████████████████████| 14/14 [00:02<00:00,  6.59it/s, loss=0.0381]\n",
      "Training  : 100%|███████████████████████████████████| 14/14 [00:02<00:00,  6.65it/s, loss=0.0396]\n",
      "Training  : 100%|███████████████████████████████████| 14/14 [00:02<00:00,  6.67it/s, loss=0.0383]\n",
      "Training  : 100%|████████████████████████████████████| 14/14 [00:02<00:00,  6.61it/s, loss=0.039]\n",
      "Training  : 100%|███████████████████████████████████| 14/14 [00:02<00:00,  6.62it/s, loss=0.0399]\n",
      "Training  : 100%|████████████████████████████████████| 14/14 [00:02<00:00,  6.59it/s, loss=0.045]\n",
      "Training  : 100%|███████████████████████████████████| 14/14 [00:02<00:00,  6.62it/s, loss=0.0429]\n",
      "Training  : 100%|███████████████████████████████████| 14/14 [00:02<00:00,  6.57it/s, loss=0.0402]\n",
      "Training  : 100%|███████████████████████████████████| 14/14 [00:02<00:00,  6.51it/s, loss=0.0404]\n",
      "Training  : 100%|███████████████████████████████████| 14/14 [00:02<00:00,  6.58it/s, loss=0.0481]\n",
      "Training  : 100%|███████████████████████████████████| 14/14 [00:02<00:00,  6.63it/s, loss=0.0409]\n",
      "Training  : 100%|███████████████████████████████████| 14/14 [00:02<00:00,  6.55it/s, loss=0.0386]\n",
      "Training  : 100%|███████████████████████████████████| 14/14 [00:02<00:00,  6.67it/s, loss=0.0469]\n",
      "Training  : 100%|███████████████████████████████████| 14/14 [00:02<00:00,  6.65it/s, loss=0.0409]\n",
      "Training  : 100%|███████████████████████████████████| 14/14 [00:02<00:00,  6.65it/s, loss=0.0429]\n",
      "Training  : 100%|████████████████████████████████████| 14/14 [00:02<00:00,  6.66it/s, loss=0.044]\n",
      "Training  : 100%|███████████████████████████████████| 14/14 [00:02<00:00,  6.65it/s, loss=0.0375]\n",
      "Training  : 100%|█████████████████████████████████████| 14/14 [00:02<00:00,  6.63it/s, loss=0.04]\n",
      "Training  : 100%|█████████████████████████████████████| 14/14 [00:02<00:00,  6.65it/s, loss=0.05]\n",
      "Training  : 100%|███████████████████████████████████| 14/14 [00:02<00:00,  6.62it/s, loss=0.0395]\n",
      "Training  : 100%|███████████████████████████████████| 14/14 [00:02<00:00,  6.61it/s, loss=0.0399]\n",
      "Training  : 100%|███████████████████████████████████| 14/14 [00:02<00:00,  6.64it/s, loss=0.0397]\n",
      "Training  : 100%|███████████████████████████████████| 14/14 [00:02<00:00,  6.65it/s, loss=0.0425]\n",
      "Training  : 100%|███████████████████████████████████| 14/14 [00:02<00:00,  6.68it/s, loss=0.0382]\n",
      "Training  : 100%|███████████████████████████████████| 14/14 [00:02<00:00,  6.58it/s, loss=0.0374]\n",
      "Training  : 100%|███████████████████████████████████| 14/14 [00:02<00:00,  6.60it/s, loss=0.0382]\n",
      "Training  : 100%|███████████████████████████████████| 14/14 [00:02<00:00,  6.60it/s, loss=0.0383]\n",
      "Training  : 100%|███████████████████████████████████| 14/14 [00:02<00:00,  6.58it/s, loss=0.0386]\n",
      "Training  : 100%|███████████████████████████████████| 14/14 [00:02<00:00,  6.60it/s, loss=0.0393]\n",
      "Training  : 100%|███████████████████████████████████| 14/14 [00:02<00:00,  6.56it/s, loss=0.0387]\n",
      "Training  : 100%|███████████████████████████████████| 14/14 [00:02<00:00,  6.65it/s, loss=0.0463]\n",
      "Training  : 100%|███████████████████████████████████| 14/14 [00:02<00:00,  6.58it/s, loss=0.0394]\n",
      "Training  : 100%|███████████████████████████████████| 14/14 [00:02<00:00,  6.60it/s, loss=0.0509]\n",
      "Predicting: 100%|████████████████████████████████████████████████| 27/27 [00:00<00:00, 50.35it/s]\n"
     ]
    },
    {
     "name": "stdout",
     "output_type": "stream",
     "text": [
      "Building sklearn text classifier...\n",
      "Loading bert-base-uncased model...\n",
      "Defaulting to linear classifier/regressor\n",
      "Loading Pytorch checkpoint\n",
      "train data size: 428, validation data size: 0\n"
     ]
    },
    {
     "name": "stderr",
     "output_type": "stream",
     "text": [
      "Training  : 100%|█████████████████████████████████████| 14/14 [00:02<00:00,  6.64it/s, loss=0.54]\n",
      "Training  : 100%|████████████████████████████████████| 14/14 [00:02<00:00,  6.60it/s, loss=0.302]\n",
      "Training  : 100%|████████████████████████████████████| 14/14 [00:02<00:00,  6.56it/s, loss=0.225]\n",
      "Training  : 100%|████████████████████████████████████| 14/14 [00:02<00:00,  6.64it/s, loss=0.175]\n",
      "Training  : 100%|████████████████████████████████████| 14/14 [00:02<00:00,  6.69it/s, loss=0.118]\n",
      "Training  : 100%|████████████████████████████████████| 14/14 [00:02<00:00,  6.55it/s, loss=0.108]\n",
      "Training  : 100%|███████████████████████████████████| 14/14 [00:02<00:00,  6.68it/s, loss=0.0792]\n",
      "Training  : 100%|███████████████████████████████████| 14/14 [00:02<00:00,  6.63it/s, loss=0.0784]\n",
      "Training  : 100%|███████████████████████████████████| 14/14 [00:02<00:00,  6.60it/s, loss=0.0709]\n",
      "Training  : 100%|███████████████████████████████████| 14/14 [00:02<00:00,  6.65it/s, loss=0.0699]\n",
      "Training  : 100%|███████████████████████████████████| 14/14 [00:02<00:00,  6.62it/s, loss=0.0598]\n",
      "Training  : 100%|███████████████████████████████████| 14/14 [00:02<00:00,  6.63it/s, loss=0.0707]\n",
      "Training  : 100%|████████████████████████████████████| 14/14 [00:02<00:00,  6.60it/s, loss=0.068]\n",
      "Training  : 100%|███████████████████████████████████| 14/14 [00:02<00:00,  6.59it/s, loss=0.0557]\n",
      "Training  : 100%|███████████████████████████████████| 14/14 [00:02<00:00,  6.67it/s, loss=0.0535]\n",
      "Training  : 100%|███████████████████████████████████| 14/14 [00:02<00:00,  6.67it/s, loss=0.0587]\n",
      "Training  : 100%|███████████████████████████████████| 14/14 [00:02<00:00,  6.67it/s, loss=0.0512]\n",
      "Training  : 100%|███████████████████████████████████| 14/14 [00:02<00:00,  6.63it/s, loss=0.0546]\n",
      "Training  : 100%|███████████████████████████████████| 14/14 [00:02<00:00,  6.67it/s, loss=0.0566]\n",
      "Training  : 100%|███████████████████████████████████| 14/14 [00:02<00:00,  6.67it/s, loss=0.0534]\n",
      "Training  : 100%|███████████████████████████████████| 14/14 [00:02<00:00,  6.66it/s, loss=0.0517]\n",
      "Training  : 100%|███████████████████████████████████| 14/14 [00:02<00:00,  6.64it/s, loss=0.0515]\n",
      "Training  : 100%|███████████████████████████████████| 14/14 [00:02<00:00,  6.61it/s, loss=0.0545]\n",
      "Training  : 100%|███████████████████████████████████| 14/14 [00:02<00:00,  6.60it/s, loss=0.0542]\n",
      "Training  : 100%|███████████████████████████████████| 14/14 [00:02<00:00,  6.62it/s, loss=0.0516]\n",
      "Training  : 100%|███████████████████████████████████| 14/14 [00:02<00:00,  6.64it/s, loss=0.0518]\n",
      "Training  : 100%|████████████████████████████████████| 14/14 [00:02<00:00,  6.64it/s, loss=0.049]\n",
      "Training  : 100%|███████████████████████████████████| 14/14 [00:02<00:00,  6.69it/s, loss=0.0542]\n",
      "Training  : 100%|███████████████████████████████████| 14/14 [00:02<00:00,  6.56it/s, loss=0.0519]\n",
      "Training  : 100%|█████████████████████████████████████| 14/14 [00:02<00:00,  6.58it/s, loss=0.05]\n",
      "Training  : 100%|███████████████████████████████████| 14/14 [00:02<00:00,  6.45it/s, loss=0.0499]\n",
      "Training  : 100%|███████████████████████████████████| 14/14 [00:02<00:00,  6.39it/s, loss=0.0538]\n",
      "Training  : 100%|███████████████████████████████████| 14/14 [00:02<00:00,  6.55it/s, loss=0.0555]\n",
      "Training  : 100%|███████████████████████████████████| 14/14 [00:02<00:00,  6.63it/s, loss=0.0592]\n",
      "Training  : 100%|███████████████████████████████████| 14/14 [00:02<00:00,  6.65it/s, loss=0.0541]\n",
      "Training  : 100%|███████████████████████████████████| 14/14 [00:02<00:00,  6.64it/s, loss=0.0465]\n",
      "Training  : 100%|███████████████████████████████████| 14/14 [00:02<00:00,  6.62it/s, loss=0.0558]\n",
      "Training  : 100%|███████████████████████████████████| 14/14 [00:02<00:00,  6.58it/s, loss=0.0489]\n",
      "Training  : 100%|███████████████████████████████████| 14/14 [00:02<00:00,  6.66it/s, loss=0.0467]\n",
      "Training  : 100%|███████████████████████████████████| 14/14 [00:02<00:00,  6.66it/s, loss=0.0497]\n",
      "Training  : 100%|███████████████████████████████████| 14/14 [00:02<00:00,  6.65it/s, loss=0.0477]\n",
      "Training  : 100%|███████████████████████████████████| 14/14 [00:02<00:00,  6.61it/s, loss=0.0529]\n",
      "Training  : 100%|████████████████████████████████████| 14/14 [00:02<00:00,  6.66it/s, loss=0.048]\n",
      "Training  : 100%|███████████████████████████████████| 14/14 [00:02<00:00,  6.60it/s, loss=0.0478]\n",
      "Training  : 100%|███████████████████████████████████| 14/14 [00:02<00:00,  6.61it/s, loss=0.0479]\n",
      "Training  : 100%|███████████████████████████████████| 14/14 [00:02<00:00,  6.61it/s, loss=0.0501]\n",
      "Training  : 100%|███████████████████████████████████| 14/14 [00:02<00:00,  6.60it/s, loss=0.0478]\n",
      "Training  : 100%|███████████████████████████████████| 14/14 [00:02<00:00,  6.67it/s, loss=0.0482]\n",
      "Training  : 100%|███████████████████████████████████| 14/14 [00:02<00:00,  6.57it/s, loss=0.0477]\n",
      "Training  : 100%|███████████████████████████████████| 14/14 [00:02<00:00,  6.62it/s, loss=0.0523]\n",
      "Training  : 100%|█████████████████████████████████████| 14/14 [00:02<00:00,  6.66it/s, loss=0.05]\n",
      "Training  : 100%|███████████████████████████████████| 14/14 [00:02<00:00,  6.61it/s, loss=0.0575]\n",
      "Training  : 100%|███████████████████████████████████| 14/14 [00:02<00:00,  6.60it/s, loss=0.0454]\n",
      "Training  : 100%|███████████████████████████████████| 14/14 [00:02<00:00,  6.67it/s, loss=0.0473]\n",
      "Training  : 100%|███████████████████████████████████| 14/14 [00:02<00:00,  6.60it/s, loss=0.0547]\n",
      "Training  : 100%|███████████████████████████████████| 14/14 [00:02<00:00,  6.62it/s, loss=0.0462]\n",
      "Training  : 100%|███████████████████████████████████| 14/14 [00:02<00:00,  6.65it/s, loss=0.0523]\n",
      "Training  : 100%|███████████████████████████████████| 14/14 [00:02<00:00,  6.65it/s, loss=0.0446]\n",
      "Training  : 100%|███████████████████████████████████| 14/14 [00:02<00:00,  6.62it/s, loss=0.0452]\n",
      "Training  : 100%|███████████████████████████████████| 14/14 [00:02<00:00,  6.62it/s, loss=0.0465]\n",
      "Training  : 100%|███████████████████████████████████| 14/14 [00:02<00:00,  6.61it/s, loss=0.0515]\n",
      "Training  : 100%|████████████████████████████████████| 14/14 [00:02<00:00,  6.64it/s, loss=0.046]\n",
      "Training  : 100%|███████████████████████████████████| 14/14 [00:02<00:00,  6.61it/s, loss=0.0497]\n",
      "Training  : 100%|███████████████████████████████████| 14/14 [00:02<00:00,  6.59it/s, loss=0.0562]\n",
      "Training  : 100%|███████████████████████████████████| 14/14 [00:02<00:00,  6.59it/s, loss=0.0459]\n",
      "Training  : 100%|███████████████████████████████████| 14/14 [00:02<00:00,  6.65it/s, loss=0.0456]\n",
      "Training  : 100%|███████████████████████████████████| 14/14 [00:02<00:00,  6.60it/s, loss=0.0537]\n",
      "Training  : 100%|███████████████████████████████████| 14/14 [00:02<00:00,  6.67it/s, loss=0.0468]\n",
      "Training  : 100%|███████████████████████████████████| 14/14 [00:02<00:00,  6.68it/s, loss=0.0483]\n",
      "Training  : 100%|███████████████████████████████████| 14/14 [00:02<00:00,  6.63it/s, loss=0.0522]\n",
      "Training  : 100%|███████████████████████████████████| 14/14 [00:02<00:00,  6.65it/s, loss=0.0463]\n",
      "Training  : 100%|███████████████████████████████████| 14/14 [00:02<00:00,  6.60it/s, loss=0.0478]\n",
      "Training  : 100%|████████████████████████████████████| 14/14 [00:02<00:00,  6.64it/s, loss=0.046]\n",
      "Training  : 100%|███████████████████████████████████| 14/14 [00:02<00:00,  6.63it/s, loss=0.0463]\n",
      "Training  : 100%|███████████████████████████████████| 14/14 [00:02<00:00,  6.66it/s, loss=0.0496]\n",
      "Training  : 100%|███████████████████████████████████| 14/14 [00:02<00:00,  6.60it/s, loss=0.0465]\n",
      "Training  : 100%|███████████████████████████████████| 14/14 [00:02<00:00,  6.66it/s, loss=0.0514]\n",
      "Training  : 100%|███████████████████████████████████| 14/14 [00:02<00:00,  6.62it/s, loss=0.0485]\n",
      "Training  : 100%|███████████████████████████████████| 14/14 [00:02<00:00,  6.62it/s, loss=0.0514]\n",
      "Training  : 100%|███████████████████████████████████| 14/14 [00:02<00:00,  6.56it/s, loss=0.0473]\n",
      "Training  : 100%|███████████████████████████████████| 14/14 [00:02<00:00,  6.61it/s, loss=0.0465]\n",
      "Training  : 100%|███████████████████████████████████| 14/14 [00:02<00:00,  6.61it/s, loss=0.0474]\n",
      "Training  : 100%|███████████████████████████████████| 14/14 [00:02<00:00,  6.63it/s, loss=0.0457]\n",
      "Training  : 100%|███████████████████████████████████| 14/14 [00:02<00:00,  6.60it/s, loss=0.0487]\n",
      "Training  : 100%|███████████████████████████████████| 14/14 [00:02<00:00,  6.64it/s, loss=0.0463]\n",
      "Training  : 100%|███████████████████████████████████| 14/14 [00:02<00:00,  6.62it/s, loss=0.0486]\n",
      "Training  : 100%|███████████████████████████████████| 14/14 [00:02<00:00,  6.64it/s, loss=0.0448]\n",
      "Training  : 100%|███████████████████████████████████| 14/14 [00:02<00:00,  6.59it/s, loss=0.0471]\n",
      "Training  : 100%|███████████████████████████████████| 14/14 [00:02<00:00,  6.63it/s, loss=0.0471]\n",
      "Training  : 100%|███████████████████████████████████| 14/14 [00:02<00:00,  6.60it/s, loss=0.0459]\n",
      "Training  : 100%|███████████████████████████████████| 14/14 [00:02<00:00,  6.67it/s, loss=0.0446]\n",
      "Training  : 100%|███████████████████████████████████| 14/14 [00:02<00:00,  6.60it/s, loss=0.0476]\n",
      "Training  : 100%|███████████████████████████████████| 14/14 [00:02<00:00,  6.62it/s, loss=0.0482]\n",
      "Training  : 100%|███████████████████████████████████| 14/14 [00:02<00:00,  6.59it/s, loss=0.0447]\n",
      "Training  : 100%|███████████████████████████████████| 14/14 [00:02<00:00,  6.67it/s, loss=0.0443]\n",
      "Training  : 100%|███████████████████████████████████| 14/14 [00:02<00:00,  6.65it/s, loss=0.0441]\n",
      "Training  : 100%|███████████████████████████████████| 14/14 [00:02<00:00,  6.56it/s, loss=0.0451]\n",
      "Training  : 100%|███████████████████████████████████| 14/14 [00:02<00:00,  6.68it/s, loss=0.0478]\n",
      "Training  : 100%|███████████████████████████████████| 14/14 [00:02<00:00,  6.62it/s, loss=0.0458]\n",
      "Training  : 100%|███████████████████████████████████| 14/14 [00:02<00:00,  6.59it/s, loss=0.0444]\n",
      "Predicting: 100%|████████████████████████████████████████████████| 27/27 [00:00<00:00, 50.35it/s]\n"
     ]
    },
    {
     "name": "stdout",
     "output_type": "stream",
     "text": [
      "Building sklearn text classifier...\n",
      "Loading bert-base-uncased model...\n",
      "Defaulting to linear classifier/regressor\n",
      "Loading Pytorch checkpoint\n",
      "train data size: 428, validation data size: 0\n"
     ]
    },
    {
     "name": "stderr",
     "output_type": "stream",
     "text": [
      "Training  : 100%|████████████████████████████████████| 14/14 [00:02<00:00,  6.56it/s, loss=0.541]\n",
      "Training  : 100%|████████████████████████████████████| 14/14 [00:02<00:00,  6.58it/s, loss=0.315]\n",
      "Training  : 100%|████████████████████████████████████| 14/14 [00:02<00:00,  6.64it/s, loss=0.237]\n",
      "Training  : 100%|████████████████████████████████████| 14/14 [00:02<00:00,  6.65it/s, loss=0.205]\n",
      "Training  : 100%|████████████████████████████████████| 14/14 [00:02<00:00,  6.66it/s, loss=0.152]\n",
      "Training  : 100%|████████████████████████████████████| 14/14 [00:02<00:00,  6.64it/s, loss=0.104]\n",
      "Training  : 100%|████████████████████████████████████| 14/14 [00:02<00:00,  6.60it/s, loss=0.126]\n",
      "Training  : 100%|████████████████████████████████████| 14/14 [00:02<00:00,  6.65it/s, loss=0.105]\n",
      "Training  : 100%|███████████████████████████████████| 14/14 [00:02<00:00,  6.60it/s, loss=0.0882]\n",
      "Training  : 100%|███████████████████████████████████| 14/14 [00:02<00:00,  6.27it/s, loss=0.0767]\n",
      "Training  : 100%|███████████████████████████████████| 14/14 [00:02<00:00,  6.36it/s, loss=0.0873]\n",
      "Training  : 100%|███████████████████████████████████| 14/14 [00:02<00:00,  6.64it/s, loss=0.0753]\n",
      "Training  : 100%|███████████████████████████████████| 14/14 [00:02<00:00,  6.61it/s, loss=0.0858]\n",
      "Training  : 100%|███████████████████████████████████| 14/14 [00:02<00:00,  6.58it/s, loss=0.0669]\n",
      "Training  : 100%|███████████████████████████████████| 14/14 [00:02<00:00,  6.64it/s, loss=0.0661]\n",
      "Training  : 100%|████████████████████████████████████| 14/14 [00:02<00:00,  6.65it/s, loss=0.066]\n",
      "Training  : 100%|███████████████████████████████████| 14/14 [00:02<00:00,  6.59it/s, loss=0.0611]\n",
      "Training  : 100%|███████████████████████████████████| 14/14 [00:02<00:00,  6.63it/s, loss=0.0659]\n",
      "Training  : 100%|███████████████████████████████████| 14/14 [00:02<00:00,  6.67it/s, loss=0.0728]\n",
      "Training  : 100%|███████████████████████████████████| 14/14 [00:02<00:00,  6.58it/s, loss=0.0703]\n",
      "Training  : 100%|███████████████████████████████████| 14/14 [00:02<00:00,  6.61it/s, loss=0.0644]\n",
      "Training  : 100%|███████████████████████████████████| 14/14 [00:02<00:00,  6.64it/s, loss=0.0607]\n",
      "Training  : 100%|███████████████████████████████████| 14/14 [00:02<00:00,  6.64it/s, loss=0.0566]\n",
      "Training  : 100%|████████████████████████████████████| 14/14 [00:02<00:00,  6.67it/s, loss=0.064]\n",
      "Training  : 100%|███████████████████████████████████| 14/14 [00:02<00:00,  6.60it/s, loss=0.0527]\n",
      "Training  : 100%|███████████████████████████████████| 14/14 [00:02<00:00,  6.61it/s, loss=0.0563]\n",
      "Training  : 100%|███████████████████████████████████| 14/14 [00:02<00:00,  6.62it/s, loss=0.0521]\n",
      "Training  : 100%|███████████████████████████████████| 14/14 [00:02<00:00,  6.57it/s, loss=0.0521]\n",
      "Training  : 100%|███████████████████████████████████| 14/14 [00:02<00:00,  6.62it/s, loss=0.0497]\n",
      "Training  : 100%|███████████████████████████████████| 14/14 [00:02<00:00,  6.64it/s, loss=0.0573]\n",
      "Training  : 100%|███████████████████████████████████| 14/14 [00:02<00:00,  6.68it/s, loss=0.0501]\n",
      "Training  : 100%|███████████████████████████████████| 14/14 [00:02<00:00,  6.65it/s, loss=0.0618]\n",
      "Training  : 100%|███████████████████████████████████| 14/14 [00:02<00:00,  6.61it/s, loss=0.0563]\n",
      "Training  : 100%|███████████████████████████████████| 14/14 [00:02<00:00,  6.59it/s, loss=0.0576]\n",
      "Training  : 100%|███████████████████████████████████| 14/14 [00:02<00:00,  6.60it/s, loss=0.0565]\n",
      "Training  : 100%|███████████████████████████████████| 14/14 [00:02<00:00,  6.65it/s, loss=0.0477]\n",
      "Training  : 100%|████████████████████████████████████| 14/14 [00:02<00:00,  6.65it/s, loss=0.067]\n",
      "Training  : 100%|███████████████████████████████████| 14/14 [00:02<00:00,  6.62it/s, loss=0.0516]\n",
      "Training  : 100%|███████████████████████████████████| 14/14 [00:02<00:00,  6.64it/s, loss=0.0473]\n",
      "Training  : 100%|███████████████████████████████████| 14/14 [00:02<00:00,  6.59it/s, loss=0.0476]\n",
      "Training  : 100%|███████████████████████████████████| 14/14 [00:02<00:00,  6.60it/s, loss=0.0486]\n",
      "Training  : 100%|███████████████████████████████████| 14/14 [00:02<00:00,  6.63it/s, loss=0.0485]\n",
      "Training  : 100%|███████████████████████████████████| 14/14 [00:02<00:00,  6.56it/s, loss=0.0492]\n",
      "Training  : 100%|███████████████████████████████████| 14/14 [00:02<00:00,  6.62it/s, loss=0.0494]\n",
      "Training  : 100%|███████████████████████████████████| 14/14 [00:02<00:00,  6.60it/s, loss=0.0526]\n",
      "Training  : 100%|███████████████████████████████████| 14/14 [00:02<00:00,  6.69it/s, loss=0.0525]\n",
      "Training  : 100%|███████████████████████████████████| 14/14 [00:02<00:00,  6.62it/s, loss=0.0521]\n",
      "Training  : 100%|███████████████████████████████████| 14/14 [00:02<00:00,  6.64it/s, loss=0.0495]\n",
      "Training  : 100%|███████████████████████████████████| 14/14 [00:02<00:00,  6.63it/s, loss=0.0487]\n",
      "Training  : 100%|███████████████████████████████████| 14/14 [00:02<00:00,  6.61it/s, loss=0.0578]\n",
      "Training  : 100%|███████████████████████████████████| 14/14 [00:02<00:00,  6.62it/s, loss=0.0519]\n",
      "Training  : 100%|███████████████████████████████████| 14/14 [00:02<00:00,  6.65it/s, loss=0.0501]\n",
      "Training  : 100%|███████████████████████████████████| 14/14 [00:02<00:00,  6.65it/s, loss=0.0472]\n",
      "Training  : 100%|████████████████████████████████████| 14/14 [00:02<00:00,  6.62it/s, loss=0.053]\n",
      "Training  : 100%|███████████████████████████████████| 14/14 [00:02<00:00,  6.61it/s, loss=0.0598]\n",
      "Training  : 100%|███████████████████████████████████| 14/14 [00:02<00:00,  6.60it/s, loss=0.0478]\n",
      "Training  : 100%|███████████████████████████████████| 14/14 [00:02<00:00,  6.59it/s, loss=0.0484]\n",
      "Training  : 100%|███████████████████████████████████| 14/14 [00:02<00:00,  6.62it/s, loss=0.0495]\n",
      "Training  : 100%|███████████████████████████████████| 14/14 [00:02<00:00,  6.60it/s, loss=0.0513]\n",
      "Training  : 100%|███████████████████████████████████| 14/14 [00:02<00:00,  6.61it/s, loss=0.0508]\n",
      "Training  : 100%|███████████████████████████████████| 14/14 [00:02<00:00,  6.63it/s, loss=0.0539]\n",
      "Training  : 100%|███████████████████████████████████| 14/14 [00:02<00:00,  6.64it/s, loss=0.0498]\n",
      "Training  : 100%|███████████████████████████████████| 14/14 [00:02<00:00,  6.68it/s, loss=0.0556]\n",
      "Training  : 100%|█████████████████████████████████████| 14/14 [00:02<00:00,  6.60it/s, loss=0.06]\n",
      "Training  : 100%|███████████████████████████████████| 14/14 [00:02<00:00,  6.58it/s, loss=0.0504]\n",
      "Training  : 100%|███████████████████████████████████| 14/14 [00:02<00:00,  6.63it/s, loss=0.0488]\n",
      "Training  : 100%|███████████████████████████████████| 14/14 [00:02<00:00,  6.64it/s, loss=0.0504]\n",
      "Training  : 100%|███████████████████████████████████| 14/14 [00:02<00:00,  6.56it/s, loss=0.0487]\n",
      "Training  : 100%|████████████████████████████████████| 14/14 [00:02<00:00,  6.56it/s, loss=0.048]\n",
      "Training  : 100%|███████████████████████████████████| 14/14 [00:02<00:00,  6.60it/s, loss=0.0505]\n",
      "Training  : 100%|███████████████████████████████████| 14/14 [00:02<00:00,  6.66it/s, loss=0.0476]\n",
      "Training  : 100%|███████████████████████████████████| 14/14 [00:02<00:00,  6.62it/s, loss=0.0488]\n",
      "Training  : 100%|███████████████████████████████████| 14/14 [00:02<00:00,  6.64it/s, loss=0.0487]\n",
      "Training  : 100%|███████████████████████████████████| 14/14 [00:02<00:00,  6.54it/s, loss=0.0473]\n",
      "Training  : 100%|████████████████████████████████████| 14/14 [00:02<00:00,  6.66it/s, loss=0.047]\n",
      "Training  : 100%|███████████████████████████████████| 14/14 [00:02<00:00,  6.62it/s, loss=0.0475]\n",
      "Training  : 100%|███████████████████████████████████| 14/14 [00:02<00:00,  6.63it/s, loss=0.0533]\n",
      "Training  : 100%|███████████████████████████████████| 14/14 [00:02<00:00,  6.60it/s, loss=0.0479]\n",
      "Training  : 100%|███████████████████████████████████| 14/14 [00:02<00:00,  6.62it/s, loss=0.0492]\n",
      "Training  : 100%|███████████████████████████████████| 14/14 [00:02<00:00,  6.60it/s, loss=0.0596]\n",
      "Training  : 100%|███████████████████████████████████| 14/14 [00:02<00:00,  6.65it/s, loss=0.0499]\n",
      "Training  : 100%|███████████████████████████████████| 14/14 [00:02<00:00,  6.64it/s, loss=0.0487]\n",
      "Training  : 100%|████████████████████████████████████| 14/14 [00:02<00:00,  6.61it/s, loss=0.049]\n",
      "Training  : 100%|███████████████████████████████████| 14/14 [00:02<00:00,  6.53it/s, loss=0.0485]\n",
      "Training  : 100%|███████████████████████████████████| 14/14 [00:02<00:00,  6.66it/s, loss=0.0471]\n",
      "Training  : 100%|███████████████████████████████████| 14/14 [00:02<00:00,  6.63it/s, loss=0.0502]\n",
      "Training  : 100%|███████████████████████████████████| 14/14 [00:02<00:00,  6.63it/s, loss=0.0476]\n",
      "Training  : 100%|███████████████████████████████████| 14/14 [00:02<00:00,  6.65it/s, loss=0.0477]\n",
      "Training  : 100%|████████████████████████████████████| 14/14 [00:02<00:00,  6.63it/s, loss=0.051]\n",
      "Training  : 100%|███████████████████████████████████| 14/14 [00:02<00:00,  6.67it/s, loss=0.0452]\n",
      "Training  : 100%|███████████████████████████████████| 14/14 [00:02<00:00,  6.61it/s, loss=0.0467]\n",
      "Training  : 100%|███████████████████████████████████| 14/14 [00:02<00:00,  6.65it/s, loss=0.0494]\n",
      "Training  : 100%|███████████████████████████████████| 14/14 [00:02<00:00,  6.45it/s, loss=0.0472]\n",
      "Training  : 100%|███████████████████████████████████| 14/14 [00:02<00:00,  6.64it/s, loss=0.0469]\n",
      "Training  : 100%|███████████████████████████████████| 14/14 [00:02<00:00,  6.65it/s, loss=0.0477]\n",
      "Training  : 100%|███████████████████████████████████| 14/14 [00:02<00:00,  6.61it/s, loss=0.0458]\n",
      "Training  : 100%|███████████████████████████████████| 14/14 [00:02<00:00,  6.64it/s, loss=0.0467]\n",
      "Training  : 100%|███████████████████████████████████| 14/14 [00:02<00:00,  6.62it/s, loss=0.0517]\n",
      "Training  : 100%|███████████████████████████████████| 14/14 [00:02<00:00,  6.65it/s, loss=0.0475]\n",
      "Training  : 100%|███████████████████████████████████| 14/14 [00:02<00:00,  6.64it/s, loss=0.0489]\n",
      "Predicting: 100%|████████████████████████████████████████████████| 27/27 [00:00<00:00, 51.42it/s]\n"
     ]
    },
    {
     "name": "stdout",
     "output_type": "stream",
     "text": [
      "Building sklearn text classifier...\n",
      "Loading bert-base-uncased model...\n",
      "Defaulting to linear classifier/regressor\n",
      "Loading Pytorch checkpoint\n",
      "train data size: 428, validation data size: 0\n"
     ]
    },
    {
     "name": "stderr",
     "output_type": "stream",
     "text": [
      "Training  : 100%|████████████████████████████████████| 14/14 [00:02<00:00,  6.56it/s, loss=0.561]\n",
      "Training  : 100%|████████████████████████████████████| 14/14 [00:02<00:00,  6.63it/s, loss=0.285]\n",
      "Training  : 100%|████████████████████████████████████| 14/14 [00:02<00:00,  6.64it/s, loss=0.253]\n",
      "Training  : 100%|████████████████████████████████████| 14/14 [00:02<00:00,  6.68it/s, loss=0.199]\n",
      "Training  : 100%|████████████████████████████████████| 14/14 [00:02<00:00,  6.66it/s, loss=0.139]\n",
      "Training  : 100%|████████████████████████████████████| 14/14 [00:02<00:00,  6.65it/s, loss=0.122]\n",
      "Training  : 100%|███████████████████████████████████| 14/14 [00:02<00:00,  6.63it/s, loss=0.0941]\n",
      "Training  : 100%|███████████████████████████████████| 14/14 [00:02<00:00,  6.60it/s, loss=0.0774]\n",
      "Training  : 100%|███████████████████████████████████| 14/14 [00:02<00:00,  6.65it/s, loss=0.0829]\n",
      "Training  : 100%|███████████████████████████████████| 14/14 [00:02<00:00,  6.71it/s, loss=0.0613]\n",
      "Training  : 100%|███████████████████████████████████| 14/14 [00:02<00:00,  6.65it/s, loss=0.0753]\n",
      "Training  : 100%|███████████████████████████████████| 14/14 [00:02<00:00,  6.57it/s, loss=0.0619]\n",
      "Training  : 100%|███████████████████████████████████| 14/14 [00:02<00:00,  6.65it/s, loss=0.0528]\n",
      "Training  : 100%|███████████████████████████████████| 14/14 [00:02<00:00,  6.65it/s, loss=0.0474]\n",
      "Training  : 100%|███████████████████████████████████| 14/14 [00:02<00:00,  6.61it/s, loss=0.0499]\n",
      "Training  : 100%|███████████████████████████████████| 14/14 [00:02<00:00,  6.67it/s, loss=0.0506]\n",
      "Training  : 100%|████████████████████████████████████| 14/14 [00:02<00:00,  6.61it/s, loss=0.052]\n",
      "Training  : 100%|███████████████████████████████████| 14/14 [00:02<00:00,  6.62it/s, loss=0.0453]\n",
      "Training  : 100%|███████████████████████████████████| 14/14 [00:02<00:00,  6.62it/s, loss=0.0456]\n",
      "Training  : 100%|███████████████████████████████████| 14/14 [00:02<00:00,  6.63it/s, loss=0.0512]\n",
      "Training  : 100%|███████████████████████████████████| 14/14 [00:02<00:00,  6.57it/s, loss=0.0371]\n",
      "Training  : 100%|███████████████████████████████████| 14/14 [00:02<00:00,  6.64it/s, loss=0.0429]\n",
      "Training  : 100%|███████████████████████████████████| 14/14 [00:02<00:00,  6.62it/s, loss=0.0446]\n",
      "Training  : 100%|███████████████████████████████████| 14/14 [00:02<00:00,  6.57it/s, loss=0.0408]\n",
      "Training  : 100%|███████████████████████████████████| 14/14 [00:02<00:00,  6.59it/s, loss=0.0431]\n",
      "Training  : 100%|███████████████████████████████████| 14/14 [00:02<00:00,  6.68it/s, loss=0.0423]\n",
      "Training  : 100%|███████████████████████████████████| 14/14 [00:02<00:00,  6.64it/s, loss=0.0424]\n",
      "Training  : 100%|███████████████████████████████████| 14/14 [00:02<00:00,  6.66it/s, loss=0.0423]\n",
      "Training  : 100%|███████████████████████████████████| 14/14 [00:02<00:00,  6.67it/s, loss=0.0397]\n",
      "Training  : 100%|███████████████████████████████████| 14/14 [00:02<00:00,  6.64it/s, loss=0.0461]\n",
      "Training  : 100%|███████████████████████████████████| 14/14 [00:02<00:00,  6.63it/s, loss=0.0514]\n",
      "Training  : 100%|███████████████████████████████████| 14/14 [00:02<00:00,  6.63it/s, loss=0.0435]\n",
      "Training  : 100%|███████████████████████████████████| 14/14 [00:02<00:00,  6.65it/s, loss=0.0458]\n",
      "Training  : 100%|█████████████████████████████████████| 14/14 [00:02<00:00,  6.68it/s, loss=0.04]\n",
      "Training  : 100%|███████████████████████████████████| 14/14 [00:02<00:00,  6.62it/s, loss=0.0406]\n",
      "Training  : 100%|███████████████████████████████████| 14/14 [00:02<00:00,  6.62it/s, loss=0.0448]\n",
      "Training  : 100%|███████████████████████████████████| 14/14 [00:02<00:00,  6.56it/s, loss=0.0483]\n",
      "Training  : 100%|███████████████████████████████████| 14/14 [00:02<00:00,  6.56it/s, loss=0.0419]\n",
      "Training  : 100%|███████████████████████████████████| 14/14 [00:02<00:00,  6.61it/s, loss=0.0401]\n",
      "Training  : 100%|███████████████████████████████████| 14/14 [00:02<00:00,  6.64it/s, loss=0.0363]\n",
      "Training  : 100%|███████████████████████████████████| 14/14 [00:02<00:00,  6.62it/s, loss=0.0462]\n",
      "Training  : 100%|███████████████████████████████████| 14/14 [00:02<00:00,  6.70it/s, loss=0.0401]\n",
      "Training  : 100%|████████████████████████████████████| 14/14 [00:02<00:00,  6.57it/s, loss=0.047]\n",
      "Training  : 100%|███████████████████████████████████| 14/14 [00:02<00:00,  6.63it/s, loss=0.0422]\n",
      "Training  : 100%|████████████████████████████████████| 14/14 [00:02<00:00,  6.63it/s, loss=0.039]\n",
      "Training  : 100%|███████████████████████████████████| 14/14 [00:02<00:00,  6.62it/s, loss=0.0444]\n",
      "Training  : 100%|████████████████████████████████████| 14/14 [00:02<00:00,  6.62it/s, loss=0.048]\n",
      "Training  : 100%|████████████████████████████████████| 14/14 [00:02<00:00,  6.67it/s, loss=0.038]\n",
      "Training  : 100%|███████████████████████████████████| 14/14 [00:02<00:00,  6.62it/s, loss=0.0402]\n",
      "Training  : 100%|███████████████████████████████████| 14/14 [00:02<00:00,  6.62it/s, loss=0.0406]\n",
      "Training  : 100%|███████████████████████████████████| 14/14 [00:02<00:00,  6.69it/s, loss=0.0456]\n",
      "Training  : 100%|███████████████████████████████████| 14/14 [00:02<00:00,  6.66it/s, loss=0.0371]\n",
      "Training  : 100%|███████████████████████████████████| 14/14 [00:02<00:00,  6.59it/s, loss=0.0405]\n",
      "Training  : 100%|████████████████████████████████████| 14/14 [00:02<00:00,  6.65it/s, loss=0.041]\n",
      "Training  : 100%|███████████████████████████████████| 14/14 [00:02<00:00,  6.60it/s, loss=0.0365]\n",
      "Training  : 100%|███████████████████████████████████| 14/14 [00:02<00:00,  6.60it/s, loss=0.0383]\n",
      "Training  : 100%|███████████████████████████████████| 14/14 [00:02<00:00,  6.57it/s, loss=0.0405]\n",
      "Training  : 100%|███████████████████████████████████| 14/14 [00:02<00:00,  6.58it/s, loss=0.0423]\n",
      "Training  : 100%|███████████████████████████████████| 14/14 [00:02<00:00,  6.64it/s, loss=0.0449]\n",
      "Training  : 100%|████████████████████████████████████| 14/14 [00:02<00:00,  6.71it/s, loss=0.037]\n",
      "Training  : 100%|███████████████████████████████████| 14/14 [00:02<00:00,  6.59it/s, loss=0.0405]\n",
      "Training  : 100%|███████████████████████████████████| 14/14 [00:02<00:00,  6.58it/s, loss=0.0444]\n",
      "Training  : 100%|███████████████████████████████████| 14/14 [00:02<00:00,  6.57it/s, loss=0.0406]\n",
      "Training  : 100%|███████████████████████████████████| 14/14 [00:02<00:00,  6.61it/s, loss=0.0405]\n",
      "Training  : 100%|███████████████████████████████████| 14/14 [00:02<00:00,  6.59it/s, loss=0.0443]\n",
      "Training  : 100%|███████████████████████████████████| 14/14 [00:02<00:00,  6.62it/s, loss=0.0416]\n",
      "Training  : 100%|███████████████████████████████████| 14/14 [00:02<00:00,  6.61it/s, loss=0.0396]\n",
      "Training  : 100%|███████████████████████████████████| 14/14 [00:02<00:00,  6.56it/s, loss=0.0418]\n",
      "Training  : 100%|███████████████████████████████████| 14/14 [00:02<00:00,  6.60it/s, loss=0.0409]\n",
      "Training  : 100%|███████████████████████████████████| 14/14 [00:02<00:00,  6.66it/s, loss=0.0381]\n",
      "Training  : 100%|███████████████████████████████████| 14/14 [00:02<00:00,  6.55it/s, loss=0.0396]\n",
      "Training  : 100%|███████████████████████████████████| 14/14 [00:02<00:00,  6.60it/s, loss=0.0398]\n",
      "Training  : 100%|███████████████████████████████████| 14/14 [00:02<00:00,  6.51it/s, loss=0.0407]\n",
      "Training  : 100%|███████████████████████████████████| 14/14 [00:02<00:00,  6.56it/s, loss=0.0454]\n",
      "Training  : 100%|███████████████████████████████████| 14/14 [00:02<00:00,  6.60it/s, loss=0.0366]\n",
      "Training  : 100%|███████████████████████████████████| 14/14 [00:02<00:00,  6.57it/s, loss=0.0409]\n",
      "Training  : 100%|███████████████████████████████████| 14/14 [00:02<00:00,  6.66it/s, loss=0.0459]\n",
      "Training  : 100%|███████████████████████████████████| 14/14 [00:02<00:00,  6.63it/s, loss=0.0427]\n",
      "Training  : 100%|███████████████████████████████████| 14/14 [00:02<00:00,  6.66it/s, loss=0.0378]\n",
      "Training  : 100%|███████████████████████████████████| 14/14 [00:02<00:00,  6.61it/s, loss=0.0481]\n",
      "Training  : 100%|███████████████████████████████████| 14/14 [00:02<00:00,  6.60it/s, loss=0.0408]\n",
      "Training  : 100%|███████████████████████████████████| 14/14 [00:02<00:00,  6.56it/s, loss=0.0409]\n",
      "Training  : 100%|███████████████████████████████████| 14/14 [00:02<00:00,  6.66it/s, loss=0.0418]\n",
      "Training  : 100%|███████████████████████████████████| 14/14 [00:02<00:00,  6.64it/s, loss=0.0383]\n",
      "Training  : 100%|████████████████████████████████████| 14/14 [00:02<00:00,  6.61it/s, loss=0.039]\n",
      "Training  : 100%|███████████████████████████████████| 14/14 [00:02<00:00,  6.60it/s, loss=0.0545]\n",
      "Training  : 100%|███████████████████████████████████| 14/14 [00:02<00:00,  6.61it/s, loss=0.0397]\n",
      "Training  : 100%|████████████████████████████████████| 14/14 [00:02<00:00,  6.62it/s, loss=0.042]\n",
      "Training  : 100%|███████████████████████████████████| 14/14 [00:02<00:00,  6.61it/s, loss=0.0369]\n",
      "Training  : 100%|███████████████████████████████████| 14/14 [00:02<00:00,  6.64it/s, loss=0.0444]\n",
      "Training  : 100%|███████████████████████████████████| 14/14 [00:02<00:00,  6.64it/s, loss=0.0401]\n",
      "Training  : 100%|███████████████████████████████████| 14/14 [00:02<00:00,  6.62it/s, loss=0.0379]\n",
      "Training  : 100%|█████████████████████████████████████| 14/14 [00:02<00:00,  6.70it/s, loss=0.04]\n",
      "Training  : 100%|███████████████████████████████████| 14/14 [00:02<00:00,  6.59it/s, loss=0.0381]\n",
      "Training  : 100%|███████████████████████████████████| 14/14 [00:02<00:00,  6.63it/s, loss=0.0392]\n",
      "Training  : 100%|███████████████████████████████████| 14/14 [00:02<00:00,  6.60it/s, loss=0.0399]\n",
      "Training  : 100%|███████████████████████████████████| 14/14 [00:02<00:00,  6.58it/s, loss=0.0387]\n",
      "Training  : 100%|███████████████████████████████████| 14/14 [00:02<00:00,  6.61it/s, loss=0.0508]\n",
      "Training  : 100%|███████████████████████████████████| 14/14 [00:02<00:00,  6.67it/s, loss=0.0404]\n",
      "Training  : 100%|████████████████████████████████████| 14/14 [00:02<00:00,  6.65it/s, loss=0.051]\n",
      "Predicting: 100%|████████████████████████████████████████████████| 27/27 [00:00<00:00, 50.10it/s]\n"
     ]
    },
    {
     "name": "stdout",
     "output_type": "stream",
     "text": [
      "Building sklearn text classifier...\n",
      "Loading bert-base-uncased model...\n",
      "Defaulting to linear classifier/regressor\n",
      "Loading Pytorch checkpoint\n",
      "train data size: 428, validation data size: 0\n"
     ]
    },
    {
     "name": "stderr",
     "output_type": "stream",
     "text": [
      "Training  : 100%|████████████████████████████████████| 14/14 [00:02<00:00,  6.58it/s, loss=0.591]\n",
      "Training  : 100%|█████████████████████████████████████| 14/14 [00:02<00:00,  6.55it/s, loss=0.41]\n",
      "Training  : 100%|█████████████████████████████████████| 14/14 [00:02<00:00,  6.60it/s, loss=0.27]\n",
      "Training  : 100%|████████████████████████████████████| 14/14 [00:02<00:00,  6.56it/s, loss=0.222]\n",
      "Training  : 100%|█████████████████████████████████████| 14/14 [00:02<00:00,  6.58it/s, loss=0.17]\n",
      "Training  : 100%|████████████████████████████████████| 14/14 [00:02<00:00,  6.54it/s, loss=0.143]\n",
      "Training  : 100%|████████████████████████████████████| 14/14 [00:02<00:00,  6.31it/s, loss=0.118]\n",
      "Training  : 100%|███████████████████████████████████| 14/14 [00:02<00:00,  6.55it/s, loss=0.0994]\n",
      "Training  : 100%|███████████████████████████████████| 14/14 [00:02<00:00,  6.69it/s, loss=0.0973]\n",
      "Training  : 100%|███████████████████████████████████| 14/14 [00:02<00:00,  6.60it/s, loss=0.0985]\n",
      "Training  : 100%|███████████████████████████████████| 14/14 [00:02<00:00,  6.61it/s, loss=0.0841]\n",
      "Training  : 100%|████████████████████████████████████| 14/14 [00:02<00:00,  6.60it/s, loss=0.095]\n",
      "Training  : 100%|████████████████████████████████████| 14/14 [00:02<00:00,  6.58it/s, loss=0.101]\n",
      "Training  : 100%|███████████████████████████████████| 14/14 [00:02<00:00,  6.61it/s, loss=0.0802]\n",
      "Training  : 100%|███████████████████████████████████| 14/14 [00:02<00:00,  6.61it/s, loss=0.0745]\n",
      "Training  : 100%|████████████████████████████████████| 14/14 [00:02<00:00,  6.51it/s, loss=0.076]\n",
      "Training  : 100%|███████████████████████████████████| 14/14 [00:02<00:00,  6.60it/s, loss=0.0684]\n",
      "Training  : 100%|███████████████████████████████████| 14/14 [00:02<00:00,  6.61it/s, loss=0.0704]\n",
      "Training  : 100%|███████████████████████████████████| 14/14 [00:02<00:00,  6.68it/s, loss=0.0647]\n",
      "Training  : 100%|███████████████████████████████████| 14/14 [00:02<00:00,  6.66it/s, loss=0.0705]\n",
      "Training  : 100%|███████████████████████████████████| 14/14 [00:02<00:00,  6.63it/s, loss=0.0639]\n",
      "Training  : 100%|███████████████████████████████████| 14/14 [00:02<00:00,  6.56it/s, loss=0.0636]\n",
      "Training  : 100%|███████████████████████████████████| 14/14 [00:02<00:00,  6.64it/s, loss=0.0668]\n",
      "Training  : 100%|███████████████████████████████████| 14/14 [00:02<00:00,  6.62it/s, loss=0.0658]\n",
      "Training  : 100%|███████████████████████████████████| 14/14 [00:02<00:00,  6.56it/s, loss=0.0587]\n",
      "Training  : 100%|███████████████████████████████████| 14/14 [00:02<00:00,  6.68it/s, loss=0.0581]\n",
      "Training  : 100%|███████████████████████████████████| 14/14 [00:02<00:00,  6.61it/s, loss=0.0586]\n",
      "Training  : 100%|███████████████████████████████████| 14/14 [00:02<00:00,  6.60it/s, loss=0.0592]\n",
      "Training  : 100%|███████████████████████████████████| 14/14 [00:02<00:00,  6.61it/s, loss=0.0608]\n",
      "Training  : 100%|███████████████████████████████████| 14/14 [00:02<00:00,  6.63it/s, loss=0.0562]\n",
      "Training  : 100%|███████████████████████████████████| 14/14 [00:02<00:00,  6.61it/s, loss=0.0617]\n",
      "Training  : 100%|████████████████████████████████████| 14/14 [00:02<00:00,  6.64it/s, loss=0.068]\n",
      "Training  : 100%|████████████████████████████████████| 14/14 [00:02<00:00,  6.62it/s, loss=0.065]\n",
      "Training  : 100%|███████████████████████████████████| 14/14 [00:02<00:00,  6.61it/s, loss=0.0711]\n",
      "Training  : 100%|███████████████████████████████████| 14/14 [00:02<00:00,  6.60it/s, loss=0.0592]\n",
      "Training  : 100%|███████████████████████████████████| 14/14 [00:02<00:00,  6.63it/s, loss=0.0463]\n",
      "Training  : 100%|███████████████████████████████████| 14/14 [00:02<00:00,  6.60it/s, loss=0.0628]\n",
      "Training  : 100%|███████████████████████████████████| 14/14 [00:02<00:00,  6.61it/s, loss=0.0529]\n",
      "Training  : 100%|███████████████████████████████████| 14/14 [00:02<00:00,  6.60it/s, loss=0.0503]\n",
      "Training  : 100%|███████████████████████████████████| 14/14 [00:02<00:00,  6.62it/s, loss=0.0526]\n",
      "Training  : 100%|███████████████████████████████████| 14/14 [00:02<00:00,  6.67it/s, loss=0.0483]\n",
      "Training  : 100%|███████████████████████████████████| 14/14 [00:02<00:00,  6.66it/s, loss=0.0544]\n",
      "Training  : 100%|███████████████████████████████████| 14/14 [00:02<00:00,  6.61it/s, loss=0.0466]\n",
      "Training  : 100%|███████████████████████████████████| 14/14 [00:02<00:00,  6.65it/s, loss=0.0542]\n",
      "Training  : 100%|███████████████████████████████████| 14/14 [00:02<00:00,  6.65it/s, loss=0.0488]\n",
      "Training  : 100%|███████████████████████████████████| 14/14 [00:02<00:00,  6.61it/s, loss=0.0525]\n",
      "Training  : 100%|███████████████████████████████████| 14/14 [00:02<00:00,  6.70it/s, loss=0.0552]\n",
      "Training  : 100%|████████████████████████████████████| 14/14 [00:02<00:00,  6.65it/s, loss=0.051]\n",
      "Training  : 100%|████████████████████████████████████| 14/14 [00:02<00:00,  6.60it/s, loss=0.056]\n",
      "Training  : 100%|███████████████████████████████████| 14/14 [00:02<00:00,  6.64it/s, loss=0.0534]\n",
      "Training  : 100%|███████████████████████████████████| 14/14 [00:02<00:00,  6.59it/s, loss=0.0516]\n",
      "Training  : 100%|███████████████████████████████████| 14/14 [00:02<00:00,  6.59it/s, loss=0.0641]\n",
      "Training  : 100%|███████████████████████████████████| 14/14 [00:02<00:00,  6.56it/s, loss=0.0492]\n",
      "Training  : 100%|███████████████████████████████████| 14/14 [00:02<00:00,  6.57it/s, loss=0.0495]\n",
      "Training  : 100%|███████████████████████████████████| 14/14 [00:02<00:00,  6.61it/s, loss=0.0579]\n",
      "Training  : 100%|███████████████████████████████████| 14/14 [00:02<00:00,  6.56it/s, loss=0.0479]\n",
      "Training  : 100%|████████████████████████████████████| 14/14 [00:02<00:00,  6.62it/s, loss=0.052]\n",
      "Training  : 100%|███████████████████████████████████| 14/14 [00:02<00:00,  6.65it/s, loss=0.0488]\n",
      "Training  : 100%|████████████████████████████████████| 14/14 [00:02<00:00,  6.63it/s, loss=0.046]\n",
      "Training  : 100%|███████████████████████████████████| 14/14 [00:02<00:00,  6.57it/s, loss=0.0473]\n",
      "Training  : 100%|███████████████████████████████████| 14/14 [00:02<00:00,  6.66it/s, loss=0.0516]\n",
      "Training  : 100%|████████████████████████████████████| 14/14 [00:02<00:00,  6.59it/s, loss=0.048]\n",
      "Training  : 100%|███████████████████████████████████| 14/14 [00:02<00:00,  6.56it/s, loss=0.0503]\n",
      "Training  : 100%|███████████████████████████████████| 14/14 [00:02<00:00,  6.64it/s, loss=0.0574]\n",
      "Training  : 100%|███████████████████████████████████| 14/14 [00:02<00:00,  6.67it/s, loss=0.0501]\n",
      "Training  : 100%|███████████████████████████████████| 14/14 [00:02<00:00,  6.68it/s, loss=0.0474]\n",
      "Training  : 100%|███████████████████████████████████| 14/14 [00:02<00:00,  6.68it/s, loss=0.0524]\n",
      "Training  : 100%|███████████████████████████████████| 14/14 [00:02<00:00,  6.64it/s, loss=0.0475]\n",
      "Training  : 100%|███████████████████████████████████| 14/14 [00:02<00:00,  6.67it/s, loss=0.0494]\n",
      "Training  : 100%|███████████████████████████████████| 14/14 [00:02<00:00,  6.59it/s, loss=0.0578]\n",
      "Training  : 100%|███████████████████████████████████| 14/14 [00:02<00:00,  6.64it/s, loss=0.0472]\n",
      "Training  : 100%|███████████████████████████████████| 14/14 [00:02<00:00,  6.66it/s, loss=0.0484]\n",
      "Training  : 100%|███████████████████████████████████| 14/14 [00:02<00:00,  6.66it/s, loss=0.0473]\n",
      "Training  : 100%|███████████████████████████████████| 14/14 [00:02<00:00,  6.65it/s, loss=0.0498]\n",
      "Training  : 100%|███████████████████████████████████| 14/14 [00:02<00:00,  6.62it/s, loss=0.0488]\n",
      "Training  : 100%|███████████████████████████████████| 14/14 [00:02<00:00,  6.58it/s, loss=0.0471]\n",
      "Training  : 100%|███████████████████████████████████| 14/14 [00:02<00:00,  6.66it/s, loss=0.0507]\n",
      "Training  : 100%|███████████████████████████████████| 14/14 [00:02<00:00,  6.67it/s, loss=0.0509]\n",
      "Training  : 100%|████████████████████████████████████| 14/14 [00:02<00:00,  6.66it/s, loss=0.052]\n",
      "Training  : 100%|███████████████████████████████████| 14/14 [00:02<00:00,  6.59it/s, loss=0.0519]\n",
      "Training  : 100%|███████████████████████████████████| 14/14 [00:02<00:00,  6.66it/s, loss=0.0477]\n",
      "Training  : 100%|███████████████████████████████████| 14/14 [00:02<00:00,  6.65it/s, loss=0.0474]\n",
      "Training  : 100%|███████████████████████████████████| 14/14 [00:02<00:00,  6.57it/s, loss=0.0457]\n",
      "Training  : 100%|███████████████████████████████████| 14/14 [00:02<00:00,  6.61it/s, loss=0.0514]\n",
      "Training  : 100%|███████████████████████████████████| 14/14 [00:02<00:00,  6.67it/s, loss=0.0502]\n",
      "Training  : 100%|███████████████████████████████████| 14/14 [00:02<00:00,  6.58it/s, loss=0.0487]\n",
      "Training  : 100%|███████████████████████████████████| 14/14 [00:02<00:00,  6.60it/s, loss=0.0459]\n",
      "Training  : 100%|███████████████████████████████████| 14/14 [00:02<00:00,  6.65it/s, loss=0.0474]\n",
      "Training  : 100%|███████████████████████████████████| 14/14 [00:02<00:00,  6.61it/s, loss=0.0498]\n",
      "Training  : 100%|███████████████████████████████████| 14/14 [00:02<00:00,  6.65it/s, loss=0.0442]\n",
      "Training  : 100%|███████████████████████████████████| 14/14 [00:02<00:00,  6.59it/s, loss=0.0466]\n",
      "Training  : 100%|███████████████████████████████████| 14/14 [00:02<00:00,  6.61it/s, loss=0.0492]\n",
      "Training  : 100%|███████████████████████████████████| 14/14 [00:02<00:00,  6.61it/s, loss=0.0477]\n",
      "Training  : 100%|███████████████████████████████████| 14/14 [00:02<00:00,  6.64it/s, loss=0.0468]\n",
      "Training  : 100%|███████████████████████████████████| 14/14 [00:02<00:00,  6.64it/s, loss=0.0437]\n",
      "Training  : 100%|███████████████████████████████████| 14/14 [00:02<00:00,  6.58it/s, loss=0.0433]\n",
      "Training  : 100%|███████████████████████████████████| 14/14 [00:02<00:00,  6.63it/s, loss=0.0502]\n",
      "Training  : 100%|███████████████████████████████████| 14/14 [00:02<00:00,  6.60it/s, loss=0.0478]\n",
      "Training  : 100%|███████████████████████████████████| 14/14 [00:02<00:00,  6.64it/s, loss=0.0463]\n",
      "Training  : 100%|███████████████████████████████████| 14/14 [00:02<00:00,  6.59it/s, loss=0.0456]\n",
      "Predicting: 100%|████████████████████████████████████████████████| 27/27 [00:00<00:00, 50.65it/s]\n"
     ]
    },
    {
     "name": "stdout",
     "output_type": "stream",
     "text": [
      "Building sklearn text classifier...\n",
      "Loading bert-base-uncased model...\n",
      "Defaulting to linear classifier/regressor\n",
      "Loading Pytorch checkpoint\n",
      "train data size: 428, validation data size: 0\n"
     ]
    },
    {
     "name": "stderr",
     "output_type": "stream",
     "text": [
      "Training  : 100%|████████████████████████████████████| 14/14 [00:02<00:00,  6.59it/s, loss=0.588]\n",
      "Training  : 100%|████████████████████████████████████| 14/14 [00:02<00:00,  6.67it/s, loss=0.411]\n",
      "Training  : 100%|████████████████████████████████████| 14/14 [00:02<00:00,  6.63it/s, loss=0.264]\n",
      "Training  : 100%|████████████████████████████████████| 14/14 [00:02<00:00,  6.58it/s, loss=0.219]\n",
      "Training  : 100%|████████████████████████████████████| 14/14 [00:02<00:00,  6.61it/s, loss=0.158]\n",
      "Training  : 100%|████████████████████████████████████| 14/14 [00:02<00:00,  6.70it/s, loss=0.134]\n",
      "Training  : 100%|████████████████████████████████████| 14/14 [00:02<00:00,  6.69it/s, loss=0.121]\n",
      "Training  : 100%|████████████████████████████████████| 14/14 [00:02<00:00,  6.62it/s, loss=0.116]\n",
      "Training  : 100%|████████████████████████████████████| 14/14 [00:02<00:00,  6.62it/s, loss=0.105]\n",
      "Training  : 100%|███████████████████████████████████| 14/14 [00:02<00:00,  6.60it/s, loss=0.0947]\n",
      "Training  : 100%|███████████████████████████████████| 14/14 [00:02<00:00,  6.62it/s, loss=0.0814]\n",
      "Training  : 100%|████████████████████████████████████| 14/14 [00:02<00:00,  6.57it/s, loss=0.077]\n",
      "Training  : 100%|███████████████████████████████████| 14/14 [00:02<00:00,  6.65it/s, loss=0.0772]\n",
      "Training  : 100%|███████████████████████████████████| 14/14 [00:02<00:00,  6.64it/s, loss=0.0674]\n",
      "Training  : 100%|███████████████████████████████████| 14/14 [00:02<00:00,  6.65it/s, loss=0.0636]\n",
      "Training  : 100%|███████████████████████████████████| 14/14 [00:02<00:00,  6.62it/s, loss=0.0623]\n",
      "Training  : 100%|███████████████████████████████████| 14/14 [00:02<00:00,  6.57it/s, loss=0.0663]\n",
      "Training  : 100%|███████████████████████████████████| 14/14 [00:02<00:00,  6.59it/s, loss=0.0625]\n",
      "Training  : 100%|███████████████████████████████████| 14/14 [00:02<00:00,  6.64it/s, loss=0.0589]\n",
      "Training  : 100%|███████████████████████████████████| 14/14 [00:02<00:00,  6.65it/s, loss=0.0626]\n",
      "Training  : 100%|███████████████████████████████████| 14/14 [00:02<00:00,  6.68it/s, loss=0.0578]\n",
      "Training  : 100%|███████████████████████████████████| 14/14 [00:02<00:00,  6.65it/s, loss=0.0571]\n",
      "Training  : 100%|███████████████████████████████████| 14/14 [00:02<00:00,  6.67it/s, loss=0.0633]\n",
      "Training  : 100%|███████████████████████████████████| 14/14 [00:02<00:00,  6.64it/s, loss=0.0668]\n",
      "Training  : 100%|███████████████████████████████████| 14/14 [00:02<00:00,  6.55it/s, loss=0.0585]\n",
      "Training  : 100%|███████████████████████████████████| 14/14 [00:02<00:00,  6.64it/s, loss=0.0572]\n",
      "Training  : 100%|███████████████████████████████████| 14/14 [00:02<00:00,  6.53it/s, loss=0.0575]\n",
      "Training  : 100%|███████████████████████████████████| 14/14 [00:02<00:00,  6.68it/s, loss=0.0544]\n",
      "Training  : 100%|███████████████████████████████████| 14/14 [00:02<00:00,  6.63it/s, loss=0.0536]\n",
      "Training  : 100%|███████████████████████████████████| 14/14 [00:02<00:00,  6.62it/s, loss=0.0665]\n",
      "Training  : 100%|████████████████████████████████████| 14/14 [00:02<00:00,  6.62it/s, loss=0.055]\n",
      "Training  : 100%|███████████████████████████████████| 14/14 [00:02<00:00,  6.63it/s, loss=0.0659]\n",
      "Training  : 100%|████████████████████████████████████| 14/14 [00:02<00:00,  6.59it/s, loss=0.057]\n",
      "Training  : 100%|████████████████████████████████████| 14/14 [00:02<00:00,  6.62it/s, loss=0.063]\n",
      "Training  : 100%|███████████████████████████████████| 14/14 [00:02<00:00,  6.58it/s, loss=0.0565]\n",
      "Training  : 100%|███████████████████████████████████| 14/14 [00:02<00:00,  6.66it/s, loss=0.0523]\n",
      "Training  : 100%|███████████████████████████████████| 14/14 [00:02<00:00,  6.62it/s, loss=0.0741]\n",
      "Training  : 100%|███████████████████████████████████| 14/14 [00:02<00:00,  6.67it/s, loss=0.0572]\n",
      "Training  : 100%|███████████████████████████████████| 14/14 [00:02<00:00,  6.67it/s, loss=0.0501]\n",
      "Training  : 100%|███████████████████████████████████| 14/14 [00:02<00:00,  6.58it/s, loss=0.0485]\n",
      "Training  : 100%|███████████████████████████████████| 14/14 [00:02<00:00,  6.57it/s, loss=0.0505]\n",
      "Training  : 100%|███████████████████████████████████| 14/14 [00:02<00:00,  6.65it/s, loss=0.0512]\n",
      "Training  : 100%|███████████████████████████████████| 14/14 [00:02<00:00,  6.61it/s, loss=0.0511]\n",
      "Training  : 100%|███████████████████████████████████| 14/14 [00:02<00:00,  6.63it/s, loss=0.0504]\n",
      "Training  : 100%|███████████████████████████████████| 14/14 [00:02<00:00,  6.61it/s, loss=0.0518]\n",
      "Training  : 100%|███████████████████████████████████| 14/14 [00:02<00:00,  6.69it/s, loss=0.0526]\n",
      "Training  : 100%|███████████████████████████████████| 14/14 [00:02<00:00,  6.63it/s, loss=0.0506]\n",
      "Training  : 100%|███████████████████████████████████| 14/14 [00:02<00:00,  6.68it/s, loss=0.0505]\n",
      "Training  : 100%|███████████████████████████████████| 14/14 [00:02<00:00,  6.59it/s, loss=0.0519]\n",
      "Training  : 100%|███████████████████████████████████| 14/14 [00:02<00:00,  6.57it/s, loss=0.0613]\n",
      "Training  : 100%|███████████████████████████████████| 14/14 [00:02<00:00,  6.60it/s, loss=0.0538]\n",
      "Training  : 100%|███████████████████████████████████| 14/14 [00:02<00:00,  6.61it/s, loss=0.0535]\n",
      "Training  : 100%|████████████████████████████████████| 14/14 [00:02<00:00,  6.58it/s, loss=0.048]\n",
      "Training  : 100%|███████████████████████████████████| 14/14 [00:02<00:00,  6.60it/s, loss=0.0524]\n",
      "Training  : 100%|███████████████████████████████████| 14/14 [00:02<00:00,  6.58it/s, loss=0.0647]\n",
      "Training  : 100%|███████████████████████████████████| 14/14 [00:02<00:00,  6.63it/s, loss=0.0494]\n",
      "Training  : 100%|███████████████████████████████████| 14/14 [00:02<00:00,  6.32it/s, loss=0.0508]\n",
      "Training  : 100%|███████████████████████████████████| 14/14 [00:02<00:00,  6.63it/s, loss=0.0484]\n",
      "Training  : 100%|███████████████████████████████████| 14/14 [00:02<00:00,  6.57it/s, loss=0.0535]\n",
      "Training  : 100%|███████████████████████████████████| 14/14 [00:02<00:00,  6.54it/s, loss=0.0515]\n",
      "Training  : 100%|███████████████████████████████████| 14/14 [00:02<00:00,  6.60it/s, loss=0.0501]\n",
      "Training  : 100%|███████████████████████████████████| 14/14 [00:02<00:00,  6.60it/s, loss=0.0561]\n",
      "Training  : 100%|███████████████████████████████████| 14/14 [00:02<00:00,  6.70it/s, loss=0.0572]\n",
      "Training  : 100%|███████████████████████████████████| 14/14 [00:02<00:00,  6.63it/s, loss=0.0579]\n",
      "Training  : 100%|███████████████████████████████████| 14/14 [00:02<00:00,  6.62it/s, loss=0.0514]\n",
      "Training  : 100%|███████████████████████████████████| 14/14 [00:02<00:00,  6.64it/s, loss=0.0498]\n",
      "Training  : 100%|███████████████████████████████████| 14/14 [00:02<00:00,  6.62it/s, loss=0.0517]\n",
      "Training  : 100%|███████████████████████████████████| 14/14 [00:02<00:00,  6.59it/s, loss=0.0486]\n",
      "Training  : 100%|███████████████████████████████████| 14/14 [00:02<00:00,  6.58it/s, loss=0.0461]\n",
      "Training  : 100%|███████████████████████████████████| 14/14 [00:02<00:00,  6.64it/s, loss=0.0507]\n",
      "Training  : 100%|███████████████████████████████████| 14/14 [00:02<00:00,  6.66it/s, loss=0.0486]\n",
      "Training  : 100%|████████████████████████████████████| 14/14 [00:02<00:00,  6.59it/s, loss=0.051]\n",
      "Training  : 100%|███████████████████████████████████| 14/14 [00:02<00:00,  6.61it/s, loss=0.0504]\n",
      "Training  : 100%|███████████████████████████████████| 14/14 [00:02<00:00,  6.62it/s, loss=0.0489]\n",
      "Training  : 100%|███████████████████████████████████| 14/14 [00:02<00:00,  6.57it/s, loss=0.0498]\n",
      "Training  : 100%|███████████████████████████████████| 14/14 [00:02<00:00,  6.56it/s, loss=0.0485]\n",
      "Training  : 100%|███████████████████████████████████| 14/14 [00:02<00:00,  6.68it/s, loss=0.0547]\n",
      "Training  : 100%|███████████████████████████████████| 14/14 [00:02<00:00,  6.46it/s, loss=0.0486]\n",
      "Training  : 100%|███████████████████████████████████| 14/14 [00:02<00:00,  6.50it/s, loss=0.0488]\n",
      "Training  : 100%|███████████████████████████████████| 14/14 [00:02<00:00,  6.56it/s, loss=0.0607]\n",
      "Training  : 100%|███████████████████████████████████| 14/14 [00:02<00:00,  6.56it/s, loss=0.0497]\n",
      "Training  : 100%|███████████████████████████████████| 14/14 [00:02<00:00,  6.64it/s, loss=0.0495]\n",
      "Training  : 100%|█████████████████████████████████████| 14/14 [00:02<00:00,  6.62it/s, loss=0.05]\n",
      "Training  : 100%|███████████████████████████████████| 14/14 [00:02<00:00,  6.62it/s, loss=0.0467]\n",
      "Training  : 100%|███████████████████████████████████| 14/14 [00:02<00:00,  6.58it/s, loss=0.0494]\n",
      "Training  : 100%|███████████████████████████████████| 14/14 [00:02<00:00,  6.63it/s, loss=0.0522]\n",
      "Training  : 100%|█████████████████████████████████████| 14/14 [00:02<00:00,  6.58it/s, loss=0.05]\n",
      "Training  : 100%|███████████████████████████████████| 14/14 [00:02<00:00,  6.59it/s, loss=0.0496]\n",
      "Training  : 100%|███████████████████████████████████| 14/14 [00:02<00:00,  6.69it/s, loss=0.0516]\n",
      "Training  : 100%|███████████████████████████████████| 14/14 [00:02<00:00,  6.59it/s, loss=0.0463]\n",
      "Training  : 100%|████████████████████████████████████| 14/14 [00:02<00:00,  6.62it/s, loss=0.049]\n",
      "Training  : 100%|███████████████████████████████████| 14/14 [00:02<00:00,  6.63it/s, loss=0.0484]\n",
      "Training  : 100%|███████████████████████████████████| 14/14 [00:02<00:00,  6.61it/s, loss=0.0472]\n",
      "Training  : 100%|███████████████████████████████████| 14/14 [00:02<00:00,  6.58it/s, loss=0.0469]\n",
      "Training  : 100%|███████████████████████████████████| 14/14 [00:02<00:00,  6.65it/s, loss=0.0491]\n",
      "Training  : 100%|███████████████████████████████████| 14/14 [00:02<00:00,  6.65it/s, loss=0.0462]\n",
      "Training  : 100%|███████████████████████████████████| 14/14 [00:02<00:00,  6.62it/s, loss=0.0482]\n",
      "Training  : 100%|███████████████████████████████████| 14/14 [00:02<00:00,  6.59it/s, loss=0.0523]\n",
      "Training  : 100%|███████████████████████████████████| 14/14 [00:02<00:00,  6.65it/s, loss=0.0483]\n",
      "Training  : 100%|███████████████████████████████████| 14/14 [00:02<00:00,  6.65it/s, loss=0.0534]\n",
      "Predicting: 100%|████████████████████████████████████████████████| 27/27 [00:00<00:00, 50.29it/s]\n"
     ]
    },
    {
     "name": "stdout",
     "output_type": "stream",
     "text": [
      "Building sklearn text classifier...\n",
      "Loading bert-base-uncased model...\n",
      "Defaulting to linear classifier/regressor\n",
      "Loading Pytorch checkpoint\n",
      "train data size: 428, validation data size: 0\n"
     ]
    },
    {
     "name": "stderr",
     "output_type": "stream",
     "text": [
      "Training  : 100%|████████████████████████████████████| 14/14 [00:02<00:00,  6.56it/s, loss=0.603]\n",
      "Training  : 100%|████████████████████████████████████| 14/14 [00:02<00:00,  6.55it/s, loss=0.412]\n",
      "Training  : 100%|████████████████████████████████████| 14/14 [00:02<00:00,  6.24it/s, loss=0.256]\n",
      "Training  : 100%|████████████████████████████████████| 14/14 [00:02<00:00,  6.04it/s, loss=0.192]\n",
      "Training  : 100%|████████████████████████████████████| 14/14 [00:02<00:00,  6.57it/s, loss=0.124]\n",
      "Training  : 100%|████████████████████████████████████| 14/14 [00:02<00:00,  6.59it/s, loss=0.116]\n",
      "Training  : 100%|████████████████████████████████████| 14/14 [00:02<00:00,  6.56it/s, loss=0.101]\n",
      "Training  : 100%|███████████████████████████████████| 14/14 [00:02<00:00,  6.59it/s, loss=0.0837]\n",
      "Training  : 100%|███████████████████████████████████| 14/14 [00:02<00:00,  6.57it/s, loss=0.0903]\n",
      "Training  : 100%|███████████████████████████████████| 14/14 [00:02<00:00,  6.48it/s, loss=0.0706]\n",
      "Training  : 100%|███████████████████████████████████| 14/14 [00:02<00:00,  6.56it/s, loss=0.0718]\n",
      "Training  : 100%|███████████████████████████████████| 14/14 [00:02<00:00,  6.58it/s, loss=0.0653]\n",
      "Training  : 100%|███████████████████████████████████| 14/14 [00:02<00:00,  6.58it/s, loss=0.0669]\n",
      "Training  : 100%|███████████████████████████████████| 14/14 [00:02<00:00,  6.59it/s, loss=0.0666]\n",
      "Training  : 100%|███████████████████████████████████| 14/14 [00:02<00:00,  6.51it/s, loss=0.0662]\n",
      "Training  : 100%|███████████████████████████████████| 14/14 [00:02<00:00,  6.59it/s, loss=0.0817]\n",
      "Training  : 100%|███████████████████████████████████| 14/14 [00:02<00:00,  6.56it/s, loss=0.0793]\n",
      "Training  : 100%|███████████████████████████████████| 14/14 [00:02<00:00,  6.53it/s, loss=0.0637]\n",
      "Training  : 100%|███████████████████████████████████| 14/14 [00:02<00:00,  6.59it/s, loss=0.0582]\n",
      "Training  : 100%|███████████████████████████████████| 14/14 [00:02<00:00,  6.55it/s, loss=0.0604]\n",
      "Training  : 100%|███████████████████████████████████| 14/14 [00:02<00:00,  6.49it/s, loss=0.0539]\n",
      "Training  : 100%|███████████████████████████████████| 14/14 [00:02<00:00,  6.49it/s, loss=0.0553]\n",
      "Training  : 100%|███████████████████████████████████| 14/14 [00:02<00:00,  6.55it/s, loss=0.0493]\n",
      "Training  : 100%|███████████████████████████████████| 14/14 [00:02<00:00,  6.58it/s, loss=0.0531]\n",
      "Training  : 100%|███████████████████████████████████| 14/14 [00:02<00:00,  6.49it/s, loss=0.0494]\n",
      "Training  : 100%|███████████████████████████████████| 14/14 [00:02<00:00,  6.49it/s, loss=0.0525]\n",
      "Training  : 100%|███████████████████████████████████| 14/14 [00:02<00:00,  6.50it/s, loss=0.0477]\n",
      "Training  : 100%|███████████████████████████████████| 14/14 [00:02<00:00,  6.51it/s, loss=0.0518]\n",
      "Training  : 100%|███████████████████████████████████| 14/14 [00:02<00:00,  6.45it/s, loss=0.0452]\n",
      "Training  : 100%|███████████████████████████████████| 14/14 [00:02<00:00,  6.54it/s, loss=0.0569]\n",
      "Training  : 100%|███████████████████████████████████| 14/14 [00:02<00:00,  6.54it/s, loss=0.0562]\n",
      "Training  : 100%|███████████████████████████████████| 14/14 [00:02<00:00,  6.53it/s, loss=0.0449]\n",
      "Training  : 100%|███████████████████████████████████| 14/14 [00:02<00:00,  6.56it/s, loss=0.0493]\n",
      "Training  : 100%|███████████████████████████████████| 14/14 [00:02<00:00,  6.54it/s, loss=0.0424]\n",
      "Training  : 100%|███████████████████████████████████| 14/14 [00:02<00:00,  6.49it/s, loss=0.0421]\n",
      "Training  : 100%|███████████████████████████████████| 14/14 [00:02<00:00,  6.46it/s, loss=0.0483]\n",
      "Training  : 100%|███████████████████████████████████| 14/14 [00:02<00:00,  6.56it/s, loss=0.0468]\n",
      "Training  : 100%|███████████████████████████████████| 14/14 [00:02<00:00,  6.59it/s, loss=0.0434]\n",
      "Training  : 100%|███████████████████████████████████| 14/14 [00:02<00:00,  6.52it/s, loss=0.0414]\n",
      "Training  : 100%|███████████████████████████████████| 14/14 [00:02<00:00,  6.53it/s, loss=0.0403]\n",
      "Training  : 100%|███████████████████████████████████| 14/14 [00:02<00:00,  6.56it/s, loss=0.0449]\n",
      "Training  : 100%|███████████████████████████████████| 14/14 [00:02<00:00,  6.54it/s, loss=0.0409]\n",
      "Training  : 100%|███████████████████████████████████| 14/14 [00:02<00:00,  6.50it/s, loss=0.0513]\n",
      "Training  : 100%|███████████████████████████████████| 14/14 [00:02<00:00,  6.53it/s, loss=0.0412]\n",
      "Training  : 100%|████████████████████████████████████| 14/14 [00:02<00:00,  6.52it/s, loss=0.042]\n",
      "Training  : 100%|███████████████████████████████████| 14/14 [00:02<00:00,  6.56it/s, loss=0.0463]\n",
      "Training  : 100%|███████████████████████████████████| 14/14 [00:02<00:00,  6.58it/s, loss=0.0453]\n",
      "Training  : 100%|███████████████████████████████████| 14/14 [00:02<00:00,  6.55it/s, loss=0.0443]\n",
      "Training  : 100%|███████████████████████████████████| 14/14 [00:02<00:00,  6.55it/s, loss=0.0433]\n",
      "Training  : 100%|███████████████████████████████████| 14/14 [00:02<00:00,  6.57it/s, loss=0.0422]\n",
      "Training  : 100%|███████████████████████████████████| 14/14 [00:02<00:00,  6.59it/s, loss=0.0443]\n",
      "Training  : 100%|███████████████████████████████████| 14/14 [00:02<00:00,  6.50it/s, loss=0.0395]\n",
      "Training  : 100%|███████████████████████████████████| 14/14 [00:02<00:00,  6.57it/s, loss=0.0381]\n",
      "Training  : 100%|███████████████████████████████████| 14/14 [00:02<00:00,  6.56it/s, loss=0.0419]\n",
      "Training  : 100%|███████████████████████████████████| 14/14 [00:02<00:00,  6.52it/s, loss=0.0424]\n",
      "Training  : 100%|███████████████████████████████████| 14/14 [00:02<00:00,  6.56it/s, loss=0.0429]\n",
      "Training  : 100%|███████████████████████████████████| 14/14 [00:02<00:00,  6.48it/s, loss=0.0391]\n",
      "Training  : 100%|███████████████████████████████████| 14/14 [00:02<00:00,  6.54it/s, loss=0.0435]\n",
      "Training  : 100%|███████████████████████████████████| 14/14 [00:02<00:00,  6.52it/s, loss=0.0452]\n",
      "Training  : 100%|███████████████████████████████████| 14/14 [00:02<00:00,  6.54it/s, loss=0.0402]\n",
      "Training  : 100%|███████████████████████████████████| 14/14 [00:02<00:00,  6.62it/s, loss=0.0409]\n",
      "Training  : 100%|███████████████████████████████████| 14/14 [00:02<00:00,  6.57it/s, loss=0.0453]\n",
      "Training  : 100%|███████████████████████████████████| 14/14 [00:02<00:00,  6.57it/s, loss=0.0425]\n",
      "Training  : 100%|███████████████████████████████████| 14/14 [00:02<00:00,  6.57it/s, loss=0.0444]\n",
      "Training  : 100%|███████████████████████████████████| 14/14 [00:02<00:00,  6.55it/s, loss=0.0459]\n",
      "Training  : 100%|███████████████████████████████████| 14/14 [00:02<00:00,  6.51it/s, loss=0.0409]\n",
      "Training  : 100%|█████████████████████████████████████| 14/14 [00:02<00:00,  6.61it/s, loss=0.04]\n",
      "Training  : 100%|███████████████████████████████████| 14/14 [00:02<00:00,  6.61it/s, loss=0.0397]\n",
      "Training  : 100%|███████████████████████████████████| 14/14 [00:02<00:00,  6.51it/s, loss=0.0399]\n",
      "Training  : 100%|███████████████████████████████████| 14/14 [00:02<00:00,  6.52it/s, loss=0.0389]\n",
      "Training  : 100%|███████████████████████████████████| 14/14 [00:02<00:00,  6.55it/s, loss=0.0416]\n",
      "Training  : 100%|███████████████████████████████████| 14/14 [00:02<00:00,  6.62it/s, loss=0.0406]\n",
      "Training  : 100%|███████████████████████████████████| 14/14 [00:02<00:00,  6.56it/s, loss=0.0447]\n",
      "Training  : 100%|████████████████████████████████████| 14/14 [00:02<00:00,  6.57it/s, loss=0.044]\n",
      "Training  : 100%|███████████████████████████████████| 14/14 [00:02<00:00,  6.65it/s, loss=0.0402]\n",
      "Training  : 100%|███████████████████████████████████| 14/14 [00:02<00:00,  6.64it/s, loss=0.0416]\n",
      "Training  : 100%|███████████████████████████████████| 14/14 [00:02<00:00,  6.56it/s, loss=0.0482]\n",
      "Training  : 100%|███████████████████████████████████| 14/14 [00:02<00:00,  6.59it/s, loss=0.0414]\n",
      "Training  : 100%|███████████████████████████████████| 14/14 [00:02<00:00,  6.64it/s, loss=0.0412]\n",
      "Training  : 100%|███████████████████████████████████| 14/14 [00:02<00:00,  6.58it/s, loss=0.0483]\n",
      "Training  : 100%|███████████████████████████████████| 14/14 [00:02<00:00,  6.65it/s, loss=0.0428]\n",
      "Training  : 100%|███████████████████████████████████| 14/14 [00:02<00:00,  6.62it/s, loss=0.0447]\n",
      "Training  : 100%|███████████████████████████████████| 14/14 [00:02<00:00,  6.57it/s, loss=0.0448]\n",
      "Training  : 100%|███████████████████████████████████| 14/14 [00:02<00:00,  6.63it/s, loss=0.0395]\n",
      "Training  : 100%|███████████████████████████████████| 14/14 [00:02<00:00,  6.64it/s, loss=0.0406]\n",
      "Training  : 100%|███████████████████████████████████| 14/14 [00:02<00:00,  6.60it/s, loss=0.0514]\n",
      "Training  : 100%|███████████████████████████████████| 14/14 [00:02<00:00,  6.54it/s, loss=0.0398]\n",
      "Training  : 100%|███████████████████████████████████| 14/14 [00:02<00:00,  6.62it/s, loss=0.0406]\n",
      "Training  : 100%|███████████████████████████████████| 14/14 [00:02<00:00,  6.65it/s, loss=0.0415]\n",
      "Training  : 100%|███████████████████████████████████| 14/14 [00:02<00:00,  6.61it/s, loss=0.0452]\n",
      "Training  : 100%|███████████████████████████████████| 14/14 [00:02<00:00,  6.57it/s, loss=0.0405]\n",
      "Training  : 100%|███████████████████████████████████| 14/14 [00:02<00:00,  6.60it/s, loss=0.0389]\n",
      "Training  : 100%|███████████████████████████████████| 14/14 [00:02<00:00,  6.61it/s, loss=0.0385]\n",
      "Training  : 100%|███████████████████████████████████| 14/14 [00:02<00:00,  6.60it/s, loss=0.0383]\n",
      "Training  : 100%|████████████████████████████████████| 14/14 [00:02<00:00,  6.58it/s, loss=0.039]\n",
      "Training  : 100%|███████████████████████████████████| 14/14 [00:02<00:00,  6.68it/s, loss=0.0393]\n",
      "Training  : 100%|███████████████████████████████████| 14/14 [00:02<00:00,  6.59it/s, loss=0.0385]\n",
      "Training  : 100%|███████████████████████████████████| 14/14 [00:02<00:00,  6.57it/s, loss=0.0495]\n",
      "Training  : 100%|███████████████████████████████████| 14/14 [00:02<00:00,  6.59it/s, loss=0.0403]\n",
      "Training  : 100%|███████████████████████████████████| 14/14 [00:02<00:00,  6.61it/s, loss=0.0534]\n",
      "Predicting: 100%|████████████████████████████████████████████████| 27/27 [00:00<00:00, 48.20it/s]\n"
     ]
    },
    {
     "name": "stdout",
     "output_type": "stream",
     "text": [
      "Building sklearn text classifier...\n",
      "Building sklearn text classifier...\n",
      "Loading bert-base-uncased model...\n",
      "Defaulting to linear classifier/regressor\n",
      "Loading Pytorch checkpoint\n",
      "train data size: 642, validation data size: 0\n"
     ]
    },
    {
     "name": "stderr",
     "output_type": "stream",
     "text": [
      "Training  : 100%|████████████████████████████████████| 21/21 [00:03<00:00,  6.82it/s, loss=0.572]\n",
      "Training  : 100%|████████████████████████████████████| 21/21 [00:03<00:00,  6.90it/s, loss=0.309]\n",
      "Training  : 100%|████████████████████████████████████| 21/21 [00:03<00:00,  6.94it/s, loss=0.224]\n",
      "Training  : 100%|████████████████████████████████████| 21/21 [00:03<00:00,  6.96it/s, loss=0.211]\n",
      "Training  : 100%|████████████████████████████████████| 21/21 [00:03<00:00,  6.91it/s, loss=0.124]\n",
      "Training  : 100%|████████████████████████████████████| 21/21 [00:03<00:00,  6.98it/s, loss=0.106]\n",
      "Training  : 100%|████████████████████████████████████| 21/21 [00:03<00:00,  6.95it/s, loss=0.103]\n",
      "Training  : 100%|███████████████████████████████████| 21/21 [00:03<00:00,  6.92it/s, loss=0.0957]\n",
      "Training  : 100%|███████████████████████████████████| 21/21 [00:03<00:00,  6.93it/s, loss=0.0994]\n",
      "Training  : 100%|████████████████████████████████████| 21/21 [00:03<00:00,  6.89it/s, loss=0.092]\n",
      "Training  : 100%|████████████████████████████████████| 21/21 [00:03<00:00,  6.76it/s, loss=0.084]\n",
      "Training  : 100%|███████████████████████████████████| 21/21 [00:03<00:00,  6.83it/s, loss=0.0792]\n",
      "Training  : 100%|███████████████████████████████████| 21/21 [00:03<00:00,  6.95it/s, loss=0.0745]\n",
      "Training  : 100%|███████████████████████████████████| 21/21 [00:03<00:00,  6.97it/s, loss=0.0717]\n",
      "Training  : 100%|███████████████████████████████████| 21/21 [00:03<00:00,  6.86it/s, loss=0.0835]\n",
      "Training  : 100%|███████████████████████████████████| 21/21 [00:03<00:00,  6.92it/s, loss=0.0899]\n",
      "Training  : 100%|███████████████████████████████████| 21/21 [00:03<00:00,  6.92it/s, loss=0.0698]\n",
      "Training  : 100%|███████████████████████████████████| 21/21 [00:03<00:00,  6.93it/s, loss=0.0648]\n",
      "Training  : 100%|███████████████████████████████████| 21/21 [00:03<00:00,  6.93it/s, loss=0.0643]\n",
      "Training  : 100%|███████████████████████████████████| 21/21 [00:03<00:00,  6.93it/s, loss=0.0664]\n",
      "Training  : 100%|███████████████████████████████████| 21/21 [00:03<00:00,  6.89it/s, loss=0.0633]\n",
      "Training  : 100%|███████████████████████████████████| 21/21 [00:03<00:00,  6.96it/s, loss=0.0599]\n",
      "Training  : 100%|███████████████████████████████████| 21/21 [00:03<00:00,  6.96it/s, loss=0.0915]\n",
      "Training  : 100%|███████████████████████████████████| 21/21 [00:03<00:00,  6.91it/s, loss=0.0858]\n",
      "Training  : 100%|███████████████████████████████████| 21/21 [00:03<00:00,  6.92it/s, loss=0.0597]\n",
      "Training  : 100%|███████████████████████████████████| 21/21 [00:03<00:00,  6.91it/s, loss=0.0597]\n",
      "Training  : 100%|███████████████████████████████████| 21/21 [00:03<00:00,  6.94it/s, loss=0.0594]\n",
      "Training  : 100%|███████████████████████████████████| 21/21 [00:03<00:00,  6.94it/s, loss=0.0547]\n",
      "Training  : 100%|███████████████████████████████████| 21/21 [00:03<00:00,  6.94it/s, loss=0.0575]\n",
      "Training  : 100%|███████████████████████████████████| 21/21 [00:03<00:00,  6.89it/s, loss=0.0598]\n",
      "Training  : 100%|███████████████████████████████████| 21/21 [00:03<00:00,  6.94it/s, loss=0.0572]\n",
      "Training  : 100%|███████████████████████████████████| 21/21 [00:03<00:00,  6.90it/s, loss=0.0556]\n",
      "Training  : 100%|███████████████████████████████████| 21/21 [00:03<00:00,  6.96it/s, loss=0.0593]\n",
      "Training  : 100%|███████████████████████████████████| 21/21 [00:03<00:00,  6.92it/s, loss=0.0568]\n",
      "Training  : 100%|████████████████████████████████████| 21/21 [00:03<00:00,  6.88it/s, loss=0.168]\n",
      "Training  : 100%|███████████████████████████████████| 21/21 [00:03<00:00,  6.90it/s, loss=0.0591]\n",
      "Training  : 100%|███████████████████████████████████| 21/21 [00:03<00:00,  6.97it/s, loss=0.0569]\n",
      "Training  : 100%|███████████████████████████████████| 21/21 [00:03<00:00,  6.95it/s, loss=0.0572]\n",
      "Training  : 100%|███████████████████████████████████| 21/21 [00:03<00:00,  6.91it/s, loss=0.0537]\n",
      "Training  : 100%|███████████████████████████████████| 21/21 [00:03<00:00,  6.95it/s, loss=0.0549]\n",
      "Training  : 100%|███████████████████████████████████| 21/21 [00:03<00:00,  6.91it/s, loss=0.0817]\n",
      "Training  : 100%|███████████████████████████████████| 21/21 [00:03<00:00,  6.94it/s, loss=0.0684]\n",
      "Training  : 100%|███████████████████████████████████| 21/21 [00:03<00:00,  6.92it/s, loss=0.0551]\n",
      "Training  : 100%|███████████████████████████████████| 21/21 [00:03<00:00,  6.89it/s, loss=0.0545]\n",
      "Training  : 100%|███████████████████████████████████| 21/21 [00:03<00:00,  6.93it/s, loss=0.0683]\n",
      "Training  : 100%|███████████████████████████████████| 21/21 [00:03<00:00,  6.92it/s, loss=0.0521]\n",
      "Training  : 100%|███████████████████████████████████| 21/21 [00:03<00:00,  6.94it/s, loss=0.0544]\n",
      "Training  : 100%|███████████████████████████████████| 21/21 [00:03<00:00,  6.96it/s, loss=0.0513]\n",
      "Training  : 100%|███████████████████████████████████| 21/21 [00:03<00:00,  6.89it/s, loss=0.0518]\n",
      "Training  : 100%|███████████████████████████████████| 21/21 [00:03<00:00,  6.94it/s, loss=0.0523]\n",
      "Training  : 100%|████████████████████████████████████| 21/21 [00:03<00:00,  6.88it/s, loss=0.052]\n",
      "Training  : 100%|███████████████████████████████████| 21/21 [00:03<00:00,  6.95it/s, loss=0.0525]\n",
      "Training  : 100%|███████████████████████████████████| 21/21 [00:03<00:00,  6.96it/s, loss=0.0523]\n",
      "Training  : 100%|███████████████████████████████████| 21/21 [00:03<00:00,  6.96it/s, loss=0.0545]\n",
      "Training  : 100%|███████████████████████████████████| 21/21 [00:03<00:00,  6.98it/s, loss=0.0532]\n",
      "Training  : 100%|███████████████████████████████████| 21/21 [00:03<00:00,  6.95it/s, loss=0.0518]\n",
      "Training  : 100%|███████████████████████████████████| 21/21 [00:03<00:00,  6.93it/s, loss=0.0526]\n",
      "Training  : 100%|███████████████████████████████████| 21/21 [00:03<00:00,  6.94it/s, loss=0.0516]\n",
      "Training  : 100%|███████████████████████████████████| 21/21 [00:03<00:00,  6.97it/s, loss=0.0536]\n",
      "Training  : 100%|███████████████████████████████████| 21/21 [00:03<00:00,  6.97it/s, loss=0.0533]\n",
      "Training  : 100%|███████████████████████████████████| 21/21 [00:03<00:00,  6.95it/s, loss=0.0523]\n",
      "Training  : 100%|███████████████████████████████████| 21/21 [00:03<00:00,  6.92it/s, loss=0.0519]\n",
      "Training  : 100%|███████████████████████████████████| 21/21 [00:03<00:00,  6.96it/s, loss=0.0702]\n",
      "Training  : 100%|███████████████████████████████████| 21/21 [00:03<00:00,  6.92it/s, loss=0.0527]\n",
      "Training  : 100%|████████████████████████████████████| 21/21 [00:03<00:00,  6.94it/s, loss=0.051]\n",
      "Training  : 100%|███████████████████████████████████| 21/21 [00:03<00:00,  6.99it/s, loss=0.0522]\n",
      "Training  : 100%|███████████████████████████████████| 21/21 [00:03<00:00,  6.89it/s, loss=0.0517]\n",
      "Training  : 100%|███████████████████████████████████| 21/21 [00:03<00:00,  6.96it/s, loss=0.0495]\n",
      "Training  : 100%|███████████████████████████████████| 21/21 [00:03<00:00,  6.91it/s, loss=0.0527]\n",
      "Training  : 100%|███████████████████████████████████| 21/21 [00:03<00:00,  6.68it/s, loss=0.0506]\n",
      "Training  : 100%|███████████████████████████████████| 21/21 [00:03<00:00,  6.80it/s, loss=0.0606]\n",
      "Training  : 100%|███████████████████████████████████| 21/21 [00:03<00:00,  6.91it/s, loss=0.0519]\n",
      "Training  : 100%|███████████████████████████████████| 21/21 [00:03<00:00,  6.89it/s, loss=0.0524]\n",
      "Training  : 100%|███████████████████████████████████| 21/21 [00:03<00:00,  6.91it/s, loss=0.0524]\n",
      "Training  : 100%|███████████████████████████████████| 21/21 [00:03<00:00,  6.94it/s, loss=0.0534]\n"
     ]
    },
    {
     "data": {
      "text/plain": [
       "GridSearchCV(cv=3,\n",
       "             estimator=BertClassifier(max_seq_length=64, validation_fraction=0),\n",
       "             param_grid={'epochs': [50, 75, 100],\n",
       "                         'learning_rate': [2e-05, 3e-05, 1e-05]},\n",
       "             scoring='accuracy', verbose=True)"
      ]
     },
     "execution_count": 62,
     "metadata": {},
     "output_type": "execute_result"
    }
   ],
   "source": [
    "# %%time\n",
    "# from bert import run_classifier\n",
    "params = {'epochs':[50, 75, 100], 'learning_rate':[2e-5, 3e-5, 1e-5]}\n",
    "\n",
    "# wrap classifier/regressor in GridSearchCV\n",
    "clf_bert = GridSearchCV(BertClassifier(validation_fraction=0, max_seq_length=64), \n",
    "                   params,\n",
    "                   cv=3,\n",
    "                   scoring='accuracy',\n",
    "                   verbose=True)\n",
    "\n",
    "# fit gridsearch \n",
    "clf_bert.fit(X_train ,y_train)"
   ]
  },
  {
   "cell_type": "code",
   "execution_count": 63,
   "metadata": {},
   "outputs": [
    {
     "name": "stdout",
     "output_type": "stream",
     "text": [
      "0.950 (+/-0.004) for {'epochs': 50, 'learning_rate': 2e-05}\n",
      "0.955 (+/-0.012) for {'epochs': 50, 'learning_rate': 3e-05}\n",
      "0.952 (+/-0.009) for {'epochs': 50, 'learning_rate': 1e-05}\n",
      "0.952 (+/-0.009) for {'epochs': 75, 'learning_rate': 2e-05}\n",
      "0.952 (+/-0.009) for {'epochs': 75, 'learning_rate': 3e-05}\n",
      "0.955 (+/-0.009) for {'epochs': 75, 'learning_rate': 1e-05}\n",
      "0.955 (+/-0.009) for {'epochs': 100, 'learning_rate': 2e-05}\n",
      "0.949 (+/-0.000) for {'epochs': 100, 'learning_rate': 3e-05}\n",
      "0.955 (+/-0.009) for {'epochs': 100, 'learning_rate': 1e-05}\n",
      "\n",
      "Best score: 0.9548286604361372 with params: {'epochs': 75, 'learning_rate': 1e-05}\n"
     ]
    }
   ],
   "source": [
    "means = clf_bert.cv_results_['mean_test_score']\n",
    "stds = clf_bert.cv_results_['std_test_score']\n",
    "\n",
    "for mean, std, params in zip(means, stds, clf_bert.cv_results_['params']):\n",
    "        print(\"%0.3f (+/-%0.03f) for %r\"\n",
    "              % (mean, std * 2, params))\n",
    "        \n",
    "# best scores\n",
    "print(\"\\nBest score:\", clf_bert.best_score_,\"with params:\", clf_bert.best_params_)"
   ]
  },
  {
   "cell_type": "code",
   "execution_count": 64,
   "metadata": {},
   "outputs": [],
   "source": [
    "#define a batch size\n",
    "batch_size = 5\n",
    "epochs = 75\n",
    "learning_rate = 1e-5"
   ]
  },
  {
   "cell_type": "code",
   "execution_count": 65,
   "metadata": {},
   "outputs": [],
   "source": [
    "categories = {'control': 0, 'case': 1}\n",
    "# initialise the model use pretrained bert_2 instance and the label numbers\n",
    "model = BERT_Text_Classifier(bert_2, class_num=len(categories))\n",
    "\n",
    "# push the model to GPU\n",
    "model = model.to(device)\n",
    "\n",
    "# define the optimizer\n",
    "# optimizer = AdamW(model.parameters(),\n",
    "#                   lr = learning_rate)\n",
    "optimizer = optim.SGD(model.parameters(), lr=learning_rate)\n",
    "\n",
    "cross_entropy  = nn.NLLLoss() "
   ]
  },
  {
   "cell_type": "code",
   "execution_count": 66,
   "metadata": {},
   "outputs": [
    {
     "name": "stdout",
     "output_type": "stream",
     "text": [
      "\n",
      " Epoch 1 / 75\n"
     ]
    },
    {
     "name": "stderr",
     "output_type": "stream",
     "text": [
      "100%|██████████████████████████████████████████████████████████| 129/129 [00:03<00:00, 38.41it/s]"
     ]
    },
    {
     "name": "stdout",
     "output_type": "stream",
     "text": [
      "evaluating...\n"
     ]
    },
    {
     "name": "stderr",
     "output_type": "stream",
     "text": [
      "\n",
      "100%|███████████████████████████████████████████████████████████| 43/43 [00:00<00:00, 159.43it/s]"
     ]
    },
    {
     "name": "stdout",
     "output_type": "stream",
     "text": [
      "\n",
      "Training Loss: 0.881 dev performance, p:0.021, r:0.045, f1:0.029\n",
      "current best score is 0.029\n",
      "\n",
      " Epoch 2 / 75\n"
     ]
    },
    {
     "name": "stderr",
     "output_type": "stream",
     "text": [
      "\n",
      "100%|██████████████████████████████████████████████████████████| 129/129 [00:03<00:00, 38.49it/s]"
     ]
    },
    {
     "name": "stdout",
     "output_type": "stream",
     "text": [
      "evaluating...\n"
     ]
    },
    {
     "name": "stderr",
     "output_type": "stream",
     "text": [
      "\n",
      "100%|███████████████████████████████████████████████████████████| 43/43 [00:00<00:00, 159.29it/s]"
     ]
    },
    {
     "name": "stdout",
     "output_type": "stream",
     "text": [
      "\n",
      "Training Loss: 0.876 dev performance, p:0.014, r:0.030, f1:0.019\n",
      "\n",
      " Epoch 3 / 75\n"
     ]
    },
    {
     "name": "stderr",
     "output_type": "stream",
     "text": [
      "\n",
      "100%|██████████████████████████████████████████████████████████| 129/129 [00:03<00:00, 38.50it/s]"
     ]
    },
    {
     "name": "stdout",
     "output_type": "stream",
     "text": [
      "evaluating...\n"
     ]
    },
    {
     "name": "stderr",
     "output_type": "stream",
     "text": [
      "\n",
      "100%|███████████████████████████████████████████████████████████| 43/43 [00:00<00:00, 159.23it/s]"
     ]
    },
    {
     "name": "stdout",
     "output_type": "stream",
     "text": [
      "\n",
      "Training Loss: 0.874 dev performance, p:0.014, r:0.030, f1:0.020\n",
      "\n",
      " Epoch 4 / 75\n"
     ]
    },
    {
     "name": "stderr",
     "output_type": "stream",
     "text": [
      "\n",
      "100%|██████████████████████████████████████████████████████████| 129/129 [00:03<00:00, 38.47it/s]"
     ]
    },
    {
     "name": "stdout",
     "output_type": "stream",
     "text": [
      "evaluating...\n"
     ]
    },
    {
     "name": "stderr",
     "output_type": "stream",
     "text": [
      "\n",
      "100%|███████████████████████████████████████████████████████████| 43/43 [00:00<00:00, 159.44it/s]"
     ]
    },
    {
     "name": "stdout",
     "output_type": "stream",
     "text": [
      "\n",
      "Training Loss: 0.866 dev performance, p:0.021, r:0.045, f1:0.029\n",
      "current best score is 0.029\n",
      "\n",
      " Epoch 5 / 75\n"
     ]
    },
    {
     "name": "stderr",
     "output_type": "stream",
     "text": [
      "\n",
      "100%|██████████████████████████████████████████████████████████| 129/129 [00:03<00:00, 38.57it/s]"
     ]
    },
    {
     "name": "stdout",
     "output_type": "stream",
     "text": [
      "evaluating...\n"
     ]
    },
    {
     "name": "stderr",
     "output_type": "stream",
     "text": [
      "\n",
      "100%|███████████████████████████████████████████████████████████| 43/43 [00:00<00:00, 157.89it/s]"
     ]
    },
    {
     "name": "stdout",
     "output_type": "stream",
     "text": [
      "\n",
      "Training Loss: 0.860 dev performance, p:0.015, r:0.030, f1:0.020\n",
      "\n",
      " Epoch 6 / 75\n"
     ]
    },
    {
     "name": "stderr",
     "output_type": "stream",
     "text": [
      "\n",
      "100%|██████████████████████████████████████████████████████████| 129/129 [00:03<00:00, 38.52it/s]"
     ]
    },
    {
     "name": "stdout",
     "output_type": "stream",
     "text": [
      "evaluating...\n"
     ]
    },
    {
     "name": "stderr",
     "output_type": "stream",
     "text": [
      "\n",
      "100%|███████████████████████████████████████████████████████████| 43/43 [00:00<00:00, 159.23it/s]"
     ]
    },
    {
     "name": "stdout",
     "output_type": "stream",
     "text": [
      "\n",
      "Training Loss: 0.854 dev performance, p:0.015, r:0.030, f1:0.020\n",
      "\n",
      " Epoch 7 / 75\n"
     ]
    },
    {
     "name": "stderr",
     "output_type": "stream",
     "text": [
      "\n",
      "100%|██████████████████████████████████████████████████████████| 129/129 [00:03<00:00, 38.58it/s]"
     ]
    },
    {
     "name": "stdout",
     "output_type": "stream",
     "text": [
      "evaluating...\n"
     ]
    },
    {
     "name": "stderr",
     "output_type": "stream",
     "text": [
      "\n",
      "100%|███████████████████████████████████████████████████████████| 43/43 [00:00<00:00, 158.75it/s]"
     ]
    },
    {
     "name": "stdout",
     "output_type": "stream",
     "text": [
      "\n",
      "Training Loss: 0.851 dev performance, p:0.015, r:0.030, f1:0.020\n",
      "\n",
      " Epoch 8 / 75\n"
     ]
    },
    {
     "name": "stderr",
     "output_type": "stream",
     "text": [
      "\n",
      "100%|██████████████████████████████████████████████████████████| 129/129 [00:03<00:00, 38.59it/s]"
     ]
    },
    {
     "name": "stdout",
     "output_type": "stream",
     "text": [
      "evaluating...\n"
     ]
    },
    {
     "name": "stderr",
     "output_type": "stream",
     "text": [
      "\n",
      "100%|███████████████████████████████████████████████████████████| 43/43 [00:00<00:00, 159.02it/s]"
     ]
    },
    {
     "name": "stdout",
     "output_type": "stream",
     "text": [
      "\n",
      "Training Loss: 0.845 dev performance, p:0.015, r:0.030, f1:0.020\n",
      "\n",
      " Epoch 9 / 75\n"
     ]
    },
    {
     "name": "stderr",
     "output_type": "stream",
     "text": [
      "\n",
      "100%|██████████████████████████████████████████████████████████| 129/129 [00:03<00:00, 38.57it/s]"
     ]
    },
    {
     "name": "stdout",
     "output_type": "stream",
     "text": [
      "evaluating...\n"
     ]
    },
    {
     "name": "stderr",
     "output_type": "stream",
     "text": [
      "\n",
      "100%|███████████████████████████████████████████████████████████| 43/43 [00:00<00:00, 160.59it/s]"
     ]
    },
    {
     "name": "stdout",
     "output_type": "stream",
     "text": [
      "\n",
      "Training Loss: 0.842 dev performance, p:0.015, r:0.030, f1:0.020\n",
      "\n",
      " Epoch 10 / 75\n"
     ]
    },
    {
     "name": "stderr",
     "output_type": "stream",
     "text": [
      "\n",
      "100%|██████████████████████████████████████████████████████████| 129/129 [00:03<00:00, 38.61it/s]"
     ]
    },
    {
     "name": "stdout",
     "output_type": "stream",
     "text": [
      "evaluating...\n"
     ]
    },
    {
     "name": "stderr",
     "output_type": "stream",
     "text": [
      "\n",
      "100%|███████████████████████████████████████████████████████████| 43/43 [00:00<00:00, 158.92it/s]"
     ]
    },
    {
     "name": "stdout",
     "output_type": "stream",
     "text": [
      "\n",
      "Training Loss: 0.836 dev performance, p:0.015, r:0.030, f1:0.020\n",
      "\n",
      " Epoch 11 / 75\n"
     ]
    },
    {
     "name": "stderr",
     "output_type": "stream",
     "text": [
      "\n",
      "100%|██████████████████████████████████████████████████████████| 129/129 [00:03<00:00, 38.67it/s]"
     ]
    },
    {
     "name": "stdout",
     "output_type": "stream",
     "text": [
      "evaluating...\n"
     ]
    },
    {
     "name": "stderr",
     "output_type": "stream",
     "text": [
      "\n",
      "100%|███████████████████████████████████████████████████████████| 43/43 [00:00<00:00, 158.45it/s]"
     ]
    },
    {
     "name": "stdout",
     "output_type": "stream",
     "text": [
      "\n",
      "Training Loss: 0.825 dev performance, p:0.008, r:0.015, f1:0.010\n",
      "\n",
      " Epoch 12 / 75\n"
     ]
    },
    {
     "name": "stderr",
     "output_type": "stream",
     "text": [
      "\n",
      "100%|██████████████████████████████████████████████████████████| 129/129 [00:03<00:00, 38.60it/s]"
     ]
    },
    {
     "name": "stdout",
     "output_type": "stream",
     "text": [
      "evaluating...\n"
     ]
    },
    {
     "name": "stderr",
     "output_type": "stream",
     "text": [
      "\n",
      "100%|███████████████████████████████████████████████████████████| 43/43 [00:00<00:00, 159.77it/s]"
     ]
    },
    {
     "name": "stdout",
     "output_type": "stream",
     "text": [
      "\n",
      "Training Loss: 0.830 dev performance, p:0.015, r:0.030, f1:0.020\n",
      "\n",
      " Epoch 13 / 75\n"
     ]
    },
    {
     "name": "stderr",
     "output_type": "stream",
     "text": [
      "\n",
      "100%|██████████████████████████████████████████████████████████| 129/129 [00:03<00:00, 38.63it/s]"
     ]
    },
    {
     "name": "stdout",
     "output_type": "stream",
     "text": [
      "evaluating...\n"
     ]
    },
    {
     "name": "stderr",
     "output_type": "stream",
     "text": [
      "\n",
      "100%|███████████████████████████████████████████████████████████| 43/43 [00:00<00:00, 158.45it/s]"
     ]
    },
    {
     "name": "stdout",
     "output_type": "stream",
     "text": [
      "\n",
      "Training Loss: 0.823 dev performance, p:0.015, r:0.030, f1:0.020\n",
      "\n",
      " Epoch 14 / 75\n"
     ]
    },
    {
     "name": "stderr",
     "output_type": "stream",
     "text": [
      "\n",
      "100%|██████████████████████████████████████████████████████████| 129/129 [00:03<00:00, 38.58it/s]"
     ]
    },
    {
     "name": "stdout",
     "output_type": "stream",
     "text": [
      "evaluating...\n"
     ]
    },
    {
     "name": "stderr",
     "output_type": "stream",
     "text": [
      "\n",
      "100%|███████████████████████████████████████████████████████████| 43/43 [00:00<00:00, 159.44it/s]"
     ]
    },
    {
     "name": "stdout",
     "output_type": "stream",
     "text": [
      "\n",
      "Training Loss: 0.815 dev performance, p:0.023, r:0.045, f1:0.030\n",
      "current best score is 0.030\n",
      "\n",
      " Epoch 15 / 75\n"
     ]
    },
    {
     "name": "stderr",
     "output_type": "stream",
     "text": [
      "\n",
      "100%|██████████████████████████████████████████████████████████| 129/129 [00:03<00:00, 38.58it/s]"
     ]
    },
    {
     "name": "stdout",
     "output_type": "stream",
     "text": [
      "evaluating...\n"
     ]
    },
    {
     "name": "stderr",
     "output_type": "stream",
     "text": [
      "\n",
      "100%|███████████████████████████████████████████████████████████| 43/43 [00:00<00:00, 159.69it/s]"
     ]
    },
    {
     "name": "stdout",
     "output_type": "stream",
     "text": [
      "\n",
      "Training Loss: 0.808 dev performance, p:0.007, r:0.015, f1:0.010\n",
      "\n",
      " Epoch 16 / 75\n"
     ]
    },
    {
     "name": "stderr",
     "output_type": "stream",
     "text": [
      "\n",
      "100%|██████████████████████████████████████████████████████████| 129/129 [00:03<00:00, 38.62it/s]"
     ]
    },
    {
     "name": "stdout",
     "output_type": "stream",
     "text": [
      "evaluating...\n"
     ]
    },
    {
     "name": "stderr",
     "output_type": "stream",
     "text": [
      "\n",
      "100%|███████████████████████████████████████████████████████████| 43/43 [00:00<00:00, 159.38it/s]"
     ]
    },
    {
     "name": "stdout",
     "output_type": "stream",
     "text": [
      "\n",
      "Training Loss: 0.803 dev performance, p:0.008, r:0.015, f1:0.010\n",
      "\n",
      " Epoch 17 / 75\n"
     ]
    },
    {
     "name": "stderr",
     "output_type": "stream",
     "text": [
      "\n",
      "100%|██████████████████████████████████████████████████████████| 129/129 [00:03<00:00, 38.62it/s]"
     ]
    },
    {
     "name": "stdout",
     "output_type": "stream",
     "text": [
      "evaluating...\n"
     ]
    },
    {
     "name": "stderr",
     "output_type": "stream",
     "text": [
      "\n",
      "100%|███████████████████████████████████████████████████████████| 43/43 [00:00<00:00, 160.76it/s]"
     ]
    },
    {
     "name": "stdout",
     "output_type": "stream",
     "text": [
      "\n",
      "Training Loss: 0.801 dev performance, p:0.008, r:0.015, f1:0.010\n",
      "\n",
      " Epoch 18 / 75\n"
     ]
    },
    {
     "name": "stderr",
     "output_type": "stream",
     "text": [
      "\n",
      "100%|██████████████████████████████████████████████████████████| 129/129 [00:03<00:00, 38.60it/s]"
     ]
    },
    {
     "name": "stdout",
     "output_type": "stream",
     "text": [
      "evaluating...\n"
     ]
    },
    {
     "name": "stderr",
     "output_type": "stream",
     "text": [
      "\n",
      "100%|███████████████████████████████████████████████████████████| 43/43 [00:00<00:00, 159.47it/s]"
     ]
    },
    {
     "name": "stdout",
     "output_type": "stream",
     "text": [
      "\n",
      "Training Loss: 0.797 dev performance, p:0.008, r:0.015, f1:0.011\n",
      "\n",
      " Epoch 19 / 75\n"
     ]
    },
    {
     "name": "stderr",
     "output_type": "stream",
     "text": [
      "\n",
      "100%|██████████████████████████████████████████████████████████| 129/129 [00:03<00:00, 38.67it/s]"
     ]
    },
    {
     "name": "stdout",
     "output_type": "stream",
     "text": [
      "evaluating...\n"
     ]
    },
    {
     "name": "stderr",
     "output_type": "stream",
     "text": [
      "\n",
      "100%|███████████████████████████████████████████████████████████| 43/43 [00:00<00:00, 158.83it/s]"
     ]
    },
    {
     "name": "stdout",
     "output_type": "stream",
     "text": [
      "\n",
      "Training Loss: 0.790 dev performance, p:0.016, r:0.030, f1:0.021\n",
      "\n",
      " Epoch 20 / 75\n"
     ]
    },
    {
     "name": "stderr",
     "output_type": "stream",
     "text": [
      "\n",
      "100%|██████████████████████████████████████████████████████████| 129/129 [00:03<00:00, 38.61it/s]"
     ]
    },
    {
     "name": "stdout",
     "output_type": "stream",
     "text": [
      "evaluating...\n"
     ]
    },
    {
     "name": "stderr",
     "output_type": "stream",
     "text": [
      "\n",
      "100%|███████████████████████████████████████████████████████████| 43/43 [00:00<00:00, 159.93it/s]"
     ]
    },
    {
     "name": "stdout",
     "output_type": "stream",
     "text": [
      "\n",
      "Training Loss: 0.781 dev performance, p:0.000, r:0.000, f1:0.000\n",
      "\n",
      " Epoch 21 / 75\n"
     ]
    },
    {
     "name": "stderr",
     "output_type": "stream",
     "text": [
      "\n",
      "100%|██████████████████████████████████████████████████████████| 129/129 [00:03<00:00, 38.58it/s]"
     ]
    },
    {
     "name": "stdout",
     "output_type": "stream",
     "text": [
      "evaluating...\n"
     ]
    },
    {
     "name": "stderr",
     "output_type": "stream",
     "text": [
      "\n",
      "100%|███████████████████████████████████████████████████████████| 43/43 [00:00<00:00, 158.52it/s]"
     ]
    },
    {
     "name": "stdout",
     "output_type": "stream",
     "text": [
      "\n",
      "Training Loss: 0.783 dev performance, p:0.018, r:0.030, f1:0.023\n",
      "\n",
      " Epoch 22 / 75\n"
     ]
    },
    {
     "name": "stderr",
     "output_type": "stream",
     "text": [
      "\n",
      "100%|██████████████████████████████████████████████████████████| 129/129 [00:03<00:00, 38.68it/s]"
     ]
    },
    {
     "name": "stdout",
     "output_type": "stream",
     "text": [
      "evaluating...\n"
     ]
    },
    {
     "name": "stderr",
     "output_type": "stream",
     "text": [
      "\n",
      "100%|███████████████████████████████████████████████████████████| 43/43 [00:00<00:00, 158.67it/s]"
     ]
    },
    {
     "name": "stdout",
     "output_type": "stream",
     "text": [
      "\n",
      "Training Loss: 0.776 dev performance, p:0.000, r:0.000, f1:0.000\n",
      "\n",
      " Epoch 23 / 75\n"
     ]
    },
    {
     "name": "stderr",
     "output_type": "stream",
     "text": [
      "\n",
      "100%|██████████████████████████████████████████████████████████| 129/129 [00:03<00:00, 38.61it/s]"
     ]
    },
    {
     "name": "stdout",
     "output_type": "stream",
     "text": [
      "evaluating...\n"
     ]
    },
    {
     "name": "stderr",
     "output_type": "stream",
     "text": [
      "\n",
      "100%|███████████████████████████████████████████████████████████| 43/43 [00:00<00:00, 159.38it/s]"
     ]
    },
    {
     "name": "stdout",
     "output_type": "stream",
     "text": [
      "\n",
      "Training Loss: 0.776 dev performance, p:0.011, r:0.015, f1:0.013\n",
      "\n",
      " Epoch 24 / 75\n"
     ]
    },
    {
     "name": "stderr",
     "output_type": "stream",
     "text": [
      "\n",
      "100%|██████████████████████████████████████████████████████████| 129/129 [00:03<00:00, 38.62it/s]"
     ]
    },
    {
     "name": "stdout",
     "output_type": "stream",
     "text": [
      "evaluating...\n"
     ]
    },
    {
     "name": "stderr",
     "output_type": "stream",
     "text": [
      "\n",
      "100%|███████████████████████████████████████████████████████████| 43/43 [00:00<00:00, 158.32it/s]"
     ]
    },
    {
     "name": "stdout",
     "output_type": "stream",
     "text": [
      "\n",
      "Training Loss: 0.766 dev performance, p:0.000, r:0.000, f1:0.000\n",
      "\n",
      " Epoch 25 / 75\n"
     ]
    },
    {
     "name": "stderr",
     "output_type": "stream",
     "text": [
      "\n",
      "100%|██████████████████████████████████████████████████████████| 129/129 [00:03<00:00, 38.57it/s]"
     ]
    },
    {
     "name": "stdout",
     "output_type": "stream",
     "text": [
      "evaluating...\n"
     ]
    },
    {
     "name": "stderr",
     "output_type": "stream",
     "text": [
      "\n",
      "100%|███████████████████████████████████████████████████████████| 43/43 [00:00<00:00, 160.75it/s]"
     ]
    },
    {
     "name": "stdout",
     "output_type": "stream",
     "text": [
      "\n",
      "Training Loss: 0.762 dev performance, p:0.010, r:0.015, f1:0.012\n",
      "\n",
      " Epoch 26 / 75\n"
     ]
    },
    {
     "name": "stderr",
     "output_type": "stream",
     "text": [
      "\n",
      "100%|██████████████████████████████████████████████████████████| 129/129 [00:03<00:00, 38.58it/s]"
     ]
    },
    {
     "name": "stdout",
     "output_type": "stream",
     "text": [
      "evaluating...\n"
     ]
    },
    {
     "name": "stderr",
     "output_type": "stream",
     "text": [
      "\n",
      "100%|███████████████████████████████████████████████████████████| 43/43 [00:00<00:00, 160.01it/s]"
     ]
    },
    {
     "name": "stdout",
     "output_type": "stream",
     "text": [
      "\n",
      "Training Loss: 0.761 dev performance, p:0.000, r:0.000, f1:0.000\n",
      "\n",
      " Epoch 27 / 75\n"
     ]
    },
    {
     "name": "stderr",
     "output_type": "stream",
     "text": [
      "\n",
      "100%|██████████████████████████████████████████████████████████| 129/129 [00:03<00:00, 38.66it/s]"
     ]
    },
    {
     "name": "stdout",
     "output_type": "stream",
     "text": [
      "evaluating...\n"
     ]
    },
    {
     "name": "stderr",
     "output_type": "stream",
     "text": [
      "\n",
      "100%|███████████████████████████████████████████████████████████| 43/43 [00:00<00:00, 159.05it/s]"
     ]
    },
    {
     "name": "stdout",
     "output_type": "stream",
     "text": [
      "\n",
      "Training Loss: 0.755 dev performance, p:0.035, r:0.045, f1:0.040\n",
      "current best score is 0.040\n",
      "\n",
      " Epoch 28 / 75\n"
     ]
    },
    {
     "name": "stderr",
     "output_type": "stream",
     "text": [
      "\n",
      "100%|██████████████████████████████████████████████████████████| 129/129 [00:03<00:00, 38.63it/s]"
     ]
    },
    {
     "name": "stdout",
     "output_type": "stream",
     "text": [
      "evaluating...\n"
     ]
    },
    {
     "name": "stderr",
     "output_type": "stream",
     "text": [
      "\n",
      "100%|███████████████████████████████████████████████████████████| 43/43 [00:00<00:00, 159.95it/s]"
     ]
    },
    {
     "name": "stdout",
     "output_type": "stream",
     "text": [
      "\n",
      "Training Loss: 0.747 dev performance, p:0.015, r:0.015, f1:0.015\n",
      "\n",
      " Epoch 29 / 75\n"
     ]
    },
    {
     "name": "stderr",
     "output_type": "stream",
     "text": [
      "\n",
      "100%|██████████████████████████████████████████████████████████| 129/129 [00:03<00:00, 38.66it/s]"
     ]
    },
    {
     "name": "stdout",
     "output_type": "stream",
     "text": [
      "evaluating...\n"
     ]
    },
    {
     "name": "stderr",
     "output_type": "stream",
     "text": [
      "\n",
      "100%|███████████████████████████████████████████████████████████| 43/43 [00:00<00:00, 158.04it/s]"
     ]
    },
    {
     "name": "stdout",
     "output_type": "stream",
     "text": [
      "\n",
      "Training Loss: 0.748 dev performance, p:0.015, r:0.015, f1:0.015\n",
      "\n",
      " Epoch 30 / 75\n"
     ]
    },
    {
     "name": "stderr",
     "output_type": "stream",
     "text": [
      "\n",
      "100%|██████████████████████████████████████████████████████████| 129/129 [00:03<00:00, 38.65it/s]"
     ]
    },
    {
     "name": "stdout",
     "output_type": "stream",
     "text": [
      "evaluating...\n"
     ]
    },
    {
     "name": "stderr",
     "output_type": "stream",
     "text": [
      "\n",
      "100%|███████████████████████████████████████████████████████████| 43/43 [00:00<00:00, 159.63it/s]"
     ]
    },
    {
     "name": "stdout",
     "output_type": "stream",
     "text": [
      "\n",
      "Training Loss: 0.739 dev performance, p:0.000, r:0.000, f1:0.000\n",
      "\n",
      " Epoch 31 / 75\n"
     ]
    },
    {
     "name": "stderr",
     "output_type": "stream",
     "text": [
      "\n",
      "100%|██████████████████████████████████████████████████████████| 129/129 [00:03<00:00, 38.63it/s]"
     ]
    },
    {
     "name": "stdout",
     "output_type": "stream",
     "text": [
      "evaluating...\n"
     ]
    },
    {
     "name": "stderr",
     "output_type": "stream",
     "text": [
      "\n",
      "100%|███████████████████████████████████████████████████████████| 43/43 [00:00<00:00, 159.33it/s]"
     ]
    },
    {
     "name": "stdout",
     "output_type": "stream",
     "text": [
      "\n",
      "Training Loss: 0.735 dev performance, p:0.020, r:0.015, f1:0.017\n",
      "\n",
      " Epoch 32 / 75\n"
     ]
    },
    {
     "name": "stderr",
     "output_type": "stream",
     "text": [
      "\n",
      "100%|██████████████████████████████████████████████████████████| 129/129 [00:03<00:00, 38.65it/s]"
     ]
    },
    {
     "name": "stdout",
     "output_type": "stream",
     "text": [
      "evaluating...\n"
     ]
    },
    {
     "name": "stderr",
     "output_type": "stream",
     "text": [
      "\n",
      "100%|███████████████████████████████████████████████████████████| 43/43 [00:00<00:00, 158.41it/s]"
     ]
    },
    {
     "name": "stdout",
     "output_type": "stream",
     "text": [
      "\n",
      "Training Loss: 0.731 dev performance, p:0.000, r:0.000, f1:0.000\n",
      "\n",
      " Epoch 33 / 75\n"
     ]
    },
    {
     "name": "stderr",
     "output_type": "stream",
     "text": [
      "\n",
      "100%|██████████████████████████████████████████████████████████| 129/129 [00:03<00:00, 38.66it/s]"
     ]
    },
    {
     "name": "stdout",
     "output_type": "stream",
     "text": [
      "evaluating...\n"
     ]
    },
    {
     "name": "stderr",
     "output_type": "stream",
     "text": [
      "\n",
      "100%|███████████████████████████████████████████████████████████| 43/43 [00:00<00:00, 160.16it/s]"
     ]
    },
    {
     "name": "stdout",
     "output_type": "stream",
     "text": [
      "\n",
      "Training Loss: 0.727 dev performance, p:0.022, r:0.015, f1:0.018\n",
      "\n",
      " Epoch 34 / 75\n"
     ]
    },
    {
     "name": "stderr",
     "output_type": "stream",
     "text": [
      "\n",
      "100%|██████████████████████████████████████████████████████████| 129/129 [00:03<00:00, 38.61it/s]"
     ]
    },
    {
     "name": "stdout",
     "output_type": "stream",
     "text": [
      "evaluating...\n"
     ]
    },
    {
     "name": "stderr",
     "output_type": "stream",
     "text": [
      "\n",
      "100%|███████████████████████████████████████████████████████████| 43/43 [00:00<00:00, 159.49it/s]"
     ]
    },
    {
     "name": "stdout",
     "output_type": "stream",
     "text": [
      "\n",
      "Training Loss: 0.718 dev performance, p:0.029, r:0.015, f1:0.020\n",
      "\n",
      " Epoch 35 / 75\n"
     ]
    },
    {
     "name": "stderr",
     "output_type": "stream",
     "text": [
      "\n",
      "100%|██████████████████████████████████████████████████████████| 129/129 [00:03<00:00, 38.65it/s]"
     ]
    },
    {
     "name": "stdout",
     "output_type": "stream",
     "text": [
      "evaluating...\n"
     ]
    },
    {
     "name": "stderr",
     "output_type": "stream",
     "text": [
      "\n",
      "100%|███████████████████████████████████████████████████████████| 43/43 [00:00<00:00, 158.76it/s]"
     ]
    },
    {
     "name": "stdout",
     "output_type": "stream",
     "text": [
      "\n",
      "Training Loss: 0.721 dev performance, p:0.000, r:0.000, f1:0.000\n",
      "\n",
      " Epoch 36 / 75\n"
     ]
    },
    {
     "name": "stderr",
     "output_type": "stream",
     "text": [
      "\n",
      "100%|██████████████████████████████████████████████████████████| 129/129 [00:03<00:00, 38.60it/s]"
     ]
    },
    {
     "name": "stdout",
     "output_type": "stream",
     "text": [
      "evaluating...\n"
     ]
    },
    {
     "name": "stderr",
     "output_type": "stream",
     "text": [
      "\n",
      "100%|███████████████████████████████████████████████████████████| 43/43 [00:00<00:00, 159.35it/s]"
     ]
    },
    {
     "name": "stdout",
     "output_type": "stream",
     "text": [
      "\n",
      "Training Loss: 0.712 dev performance, p:0.000, r:0.000, f1:0.000\n",
      "\n",
      " Epoch 37 / 75\n"
     ]
    },
    {
     "name": "stderr",
     "output_type": "stream",
     "text": [
      "\n",
      "100%|██████████████████████████████████████████████████████████| 129/129 [00:03<00:00, 38.62it/s]"
     ]
    },
    {
     "name": "stdout",
     "output_type": "stream",
     "text": [
      "evaluating...\n"
     ]
    },
    {
     "name": "stderr",
     "output_type": "stream",
     "text": [
      "\n",
      "100%|███████████████████████████████████████████████████████████| 43/43 [00:00<00:00, 158.02it/s]"
     ]
    },
    {
     "name": "stdout",
     "output_type": "stream",
     "text": [
      "\n",
      "Training Loss: 0.709 dev performance, p:0.059, r:0.015, f1:0.024\n",
      "\n",
      " Epoch 38 / 75\n"
     ]
    },
    {
     "name": "stderr",
     "output_type": "stream",
     "text": [
      "\n",
      "100%|██████████████████████████████████████████████████████████| 129/129 [00:03<00:00, 38.67it/s]"
     ]
    },
    {
     "name": "stdout",
     "output_type": "stream",
     "text": [
      "evaluating...\n"
     ]
    },
    {
     "name": "stderr",
     "output_type": "stream",
     "text": [
      "\n",
      "100%|███████████████████████████████████████████████████████████| 43/43 [00:00<00:00, 160.12it/s]"
     ]
    },
    {
     "name": "stdout",
     "output_type": "stream",
     "text": [
      "\n",
      "Training Loss: 0.705 dev performance, p:0.100, r:0.015, f1:0.026\n",
      "\n",
      " Epoch 39 / 75\n"
     ]
    },
    {
     "name": "stderr",
     "output_type": "stream",
     "text": [
      "\n",
      "100%|██████████████████████████████████████████████████████████| 129/129 [00:03<00:00, 38.62it/s]"
     ]
    },
    {
     "name": "stdout",
     "output_type": "stream",
     "text": [
      "evaluating...\n"
     ]
    },
    {
     "name": "stderr",
     "output_type": "stream",
     "text": [
      "\n",
      "100%|███████████████████████████████████████████████████████████| 43/43 [00:00<00:00, 158.78it/s]"
     ]
    },
    {
     "name": "stdout",
     "output_type": "stream",
     "text": [
      "\n",
      "Training Loss: 0.699 dev performance, p:0.000, r:0.000, f1:0.000\n",
      "\n",
      " Epoch 40 / 75\n"
     ]
    },
    {
     "name": "stderr",
     "output_type": "stream",
     "text": [
      "\n",
      "100%|██████████████████████████████████████████████████████████| 129/129 [00:03<00:00, 38.67it/s]"
     ]
    },
    {
     "name": "stdout",
     "output_type": "stream",
     "text": [
      "evaluating...\n"
     ]
    },
    {
     "name": "stderr",
     "output_type": "stream",
     "text": [
      "\n",
      "100%|███████████████████████████████████████████████████████████| 43/43 [00:00<00:00, 157.59it/s]"
     ]
    },
    {
     "name": "stdout",
     "output_type": "stream",
     "text": [
      "\n",
      "Training Loss: 0.696 dev performance, p:0.200, r:0.030, f1:0.053\n",
      "current best score is 0.053\n",
      "\n",
      " Epoch 41 / 75\n"
     ]
    },
    {
     "name": "stderr",
     "output_type": "stream",
     "text": [
      "\n",
      "100%|██████████████████████████████████████████████████████████| 129/129 [00:03<00:00, 38.62it/s]"
     ]
    },
    {
     "name": "stdout",
     "output_type": "stream",
     "text": [
      "evaluating...\n"
     ]
    },
    {
     "name": "stderr",
     "output_type": "stream",
     "text": [
      "\n",
      "100%|███████████████████████████████████████████████████████████| 43/43 [00:00<00:00, 160.67it/s]"
     ]
    },
    {
     "name": "stdout",
     "output_type": "stream",
     "text": [
      "\n",
      "Training Loss: 0.690 dev performance, p:0.000, r:0.000, f1:0.000\n",
      "\n",
      " Epoch 42 / 75\n"
     ]
    },
    {
     "name": "stderr",
     "output_type": "stream",
     "text": [
      "\n",
      "100%|██████████████████████████████████████████████████████████| 129/129 [00:03<00:00, 38.62it/s]"
     ]
    },
    {
     "name": "stdout",
     "output_type": "stream",
     "text": [
      "evaluating...\n"
     ]
    },
    {
     "name": "stderr",
     "output_type": "stream",
     "text": [
      "\n",
      "100%|███████████████████████████████████████████████████████████| 43/43 [00:00<00:00, 158.56it/s]"
     ]
    },
    {
     "name": "stdout",
     "output_type": "stream",
     "text": [
      "\n",
      "Training Loss: 0.687 dev performance, p:0.000, r:0.000, f1:0.000\n",
      "\n",
      " Epoch 43 / 75\n"
     ]
    },
    {
     "name": "stderr",
     "output_type": "stream",
     "text": [
      "\n",
      "100%|██████████████████████████████████████████████████████████| 129/129 [00:03<00:00, 38.66it/s]"
     ]
    },
    {
     "name": "stdout",
     "output_type": "stream",
     "text": [
      "evaluating...\n"
     ]
    },
    {
     "name": "stderr",
     "output_type": "stream",
     "text": [
      "\n",
      "100%|███████████████████████████████████████████████████████████| 43/43 [00:00<00:00, 159.22it/s]"
     ]
    },
    {
     "name": "stdout",
     "output_type": "stream",
     "text": [
      "\n",
      "Training Loss: 0.682 dev performance, p:0.000, r:0.000, f1:0.000\n",
      "\n",
      " Epoch 44 / 75\n"
     ]
    },
    {
     "name": "stderr",
     "output_type": "stream",
     "text": [
      "\n",
      "100%|██████████████████████████████████████████████████████████| 129/129 [00:03<00:00, 38.63it/s]"
     ]
    },
    {
     "name": "stdout",
     "output_type": "stream",
     "text": [
      "evaluating...\n"
     ]
    },
    {
     "name": "stderr",
     "output_type": "stream",
     "text": [
      "\n",
      "100%|███████████████████████████████████████████████████████████| 43/43 [00:00<00:00, 159.97it/s]"
     ]
    },
    {
     "name": "stdout",
     "output_type": "stream",
     "text": [
      "\n",
      "Training Loss: 0.679 dev performance, p:0.375, r:0.045, f1:0.081\n",
      "current best score is 0.081\n",
      "\n",
      " Epoch 45 / 75\n"
     ]
    },
    {
     "name": "stderr",
     "output_type": "stream",
     "text": [
      "\n",
      "100%|██████████████████████████████████████████████████████████| 129/129 [00:03<00:00, 38.64it/s]"
     ]
    },
    {
     "name": "stdout",
     "output_type": "stream",
     "text": [
      "evaluating...\n"
     ]
    },
    {
     "name": "stderr",
     "output_type": "stream",
     "text": [
      "\n",
      "100%|███████████████████████████████████████████████████████████| 43/43 [00:00<00:00, 157.53it/s]"
     ]
    },
    {
     "name": "stdout",
     "output_type": "stream",
     "text": [
      "\n",
      "Training Loss: 0.675 dev performance, p:0.000, r:0.000, f1:0.000\n",
      "\n",
      " Epoch 46 / 75\n"
     ]
    },
    {
     "name": "stderr",
     "output_type": "stream",
     "text": [
      "\n",
      "100%|██████████████████████████████████████████████████████████| 129/129 [00:03<00:00, 38.57it/s]"
     ]
    },
    {
     "name": "stdout",
     "output_type": "stream",
     "text": [
      "evaluating...\n"
     ]
    },
    {
     "name": "stderr",
     "output_type": "stream",
     "text": [
      "\n",
      "100%|███████████████████████████████████████████████████████████| 43/43 [00:00<00:00, 160.35it/s]"
     ]
    },
    {
     "name": "stdout",
     "output_type": "stream",
     "text": [
      "\n",
      "Training Loss: 0.672 dev performance, p:0.750, r:0.045, f1:0.086\n",
      "current best score is 0.086\n",
      "\n",
      " Epoch 47 / 75\n"
     ]
    },
    {
     "name": "stderr",
     "output_type": "stream",
     "text": [
      "\n",
      "100%|██████████████████████████████████████████████████████████| 129/129 [00:03<00:00, 38.60it/s]"
     ]
    },
    {
     "name": "stdout",
     "output_type": "stream",
     "text": [
      "evaluating...\n"
     ]
    },
    {
     "name": "stderr",
     "output_type": "stream",
     "text": [
      "\n",
      "100%|███████████████████████████████████████████████████████████| 43/43 [00:00<00:00, 159.44it/s]"
     ]
    },
    {
     "name": "stdout",
     "output_type": "stream",
     "text": [
      "\n",
      "Training Loss: 0.664 dev performance, p:0.000, r:0.000, f1:0.000\n",
      "\n",
      " Epoch 48 / 75\n"
     ]
    },
    {
     "name": "stderr",
     "output_type": "stream",
     "text": [
      "\n",
      "100%|██████████████████████████████████████████████████████████| 129/129 [00:03<00:00, 38.63it/s]"
     ]
    },
    {
     "name": "stdout",
     "output_type": "stream",
     "text": [
      "evaluating...\n"
     ]
    },
    {
     "name": "stderr",
     "output_type": "stream",
     "text": [
      "\n",
      "100%|███████████████████████████████████████████████████████████| 43/43 [00:00<00:00, 158.40it/s]"
     ]
    },
    {
     "name": "stdout",
     "output_type": "stream",
     "text": [
      "\n",
      "Training Loss: 0.659 dev performance, p:0.500, r:0.015, f1:0.029\n",
      "\n",
      " Epoch 49 / 75\n"
     ]
    },
    {
     "name": "stderr",
     "output_type": "stream",
     "text": [
      "\n",
      "100%|██████████████████████████████████████████████████████████| 129/129 [00:03<00:00, 38.62it/s]"
     ]
    },
    {
     "name": "stdout",
     "output_type": "stream",
     "text": [
      "evaluating...\n"
     ]
    },
    {
     "name": "stderr",
     "output_type": "stream",
     "text": [
      "\n",
      "100%|███████████████████████████████████████████████████████████| 43/43 [00:00<00:00, 159.79it/s]"
     ]
    },
    {
     "name": "stdout",
     "output_type": "stream",
     "text": [
      "\n",
      "Training Loss: 0.659 dev performance, p:0.500, r:0.015, f1:0.029\n",
      "\n",
      " Epoch 50 / 75\n"
     ]
    },
    {
     "name": "stderr",
     "output_type": "stream",
     "text": [
      "\n",
      "100%|██████████████████████████████████████████████████████████| 129/129 [00:03<00:00, 38.67it/s]"
     ]
    },
    {
     "name": "stdout",
     "output_type": "stream",
     "text": [
      "evaluating...\n"
     ]
    },
    {
     "name": "stderr",
     "output_type": "stream",
     "text": [
      "\n",
      "100%|███████████████████████████████████████████████████████████| 43/43 [00:00<00:00, 158.41it/s]"
     ]
    },
    {
     "name": "stdout",
     "output_type": "stream",
     "text": [
      "\n",
      "Training Loss: 0.653 dev performance, p:0.667, r:0.030, f1:0.058\n",
      "\n",
      " Epoch 51 / 75\n"
     ]
    },
    {
     "name": "stderr",
     "output_type": "stream",
     "text": [
      "\n",
      "100%|██████████████████████████████████████████████████████████| 129/129 [00:03<00:00, 38.66it/s]"
     ]
    },
    {
     "name": "stdout",
     "output_type": "stream",
     "text": [
      "evaluating...\n"
     ]
    },
    {
     "name": "stderr",
     "output_type": "stream",
     "text": [
      "\n",
      "100%|███████████████████████████████████████████████████████████| 43/43 [00:00<00:00, 159.78it/s]"
     ]
    },
    {
     "name": "stdout",
     "output_type": "stream",
     "text": [
      "\n",
      "Training Loss: 0.649 dev performance, p:1.000, r:0.106, f1:0.192\n",
      "current best score is 0.192\n",
      "\n",
      " Epoch 52 / 75\n"
     ]
    },
    {
     "name": "stderr",
     "output_type": "stream",
     "text": [
      "\n",
      "100%|██████████████████████████████████████████████████████████| 129/129 [00:03<00:00, 38.62it/s]"
     ]
    },
    {
     "name": "stdout",
     "output_type": "stream",
     "text": [
      "evaluating...\n"
     ]
    },
    {
     "name": "stderr",
     "output_type": "stream",
     "text": [
      "\n",
      "100%|███████████████████████████████████████████████████████████| 43/43 [00:00<00:00, 158.93it/s]"
     ]
    },
    {
     "name": "stdout",
     "output_type": "stream",
     "text": [
      "\n",
      "Training Loss: 0.647 dev performance, p:0.667, r:0.030, f1:0.058\n",
      "\n",
      " Epoch 53 / 75\n"
     ]
    },
    {
     "name": "stderr",
     "output_type": "stream",
     "text": [
      "\n",
      "100%|██████████████████████████████████████████████████████████| 129/129 [00:03<00:00, 38.64it/s]"
     ]
    },
    {
     "name": "stdout",
     "output_type": "stream",
     "text": [
      "evaluating...\n"
     ]
    },
    {
     "name": "stderr",
     "output_type": "stream",
     "text": [
      "\n",
      "100%|███████████████████████████████████████████████████████████| 43/43 [00:00<00:00, 158.21it/s]"
     ]
    },
    {
     "name": "stdout",
     "output_type": "stream",
     "text": [
      "\n",
      "Training Loss: 0.641 dev performance, p:1.000, r:0.045, f1:0.087\n",
      "\n",
      " Epoch 54 / 75\n"
     ]
    },
    {
     "name": "stderr",
     "output_type": "stream",
     "text": [
      "\n",
      "100%|██████████████████████████████████████████████████████████| 129/129 [00:03<00:00, 38.64it/s]"
     ]
    },
    {
     "name": "stdout",
     "output_type": "stream",
     "text": [
      "evaluating...\n"
     ]
    },
    {
     "name": "stderr",
     "output_type": "stream",
     "text": [
      "\n",
      "100%|███████████████████████████████████████████████████████████| 43/43 [00:00<00:00, 160.47it/s]"
     ]
    },
    {
     "name": "stdout",
     "output_type": "stream",
     "text": [
      "\n",
      "Training Loss: 0.634 dev performance, p:0.857, r:0.091, f1:0.164\n",
      "\n",
      " Epoch 55 / 75\n"
     ]
    },
    {
     "name": "stderr",
     "output_type": "stream",
     "text": [
      "\n",
      "100%|██████████████████████████████████████████████████████████| 129/129 [00:03<00:00, 38.62it/s]"
     ]
    },
    {
     "name": "stdout",
     "output_type": "stream",
     "text": [
      "evaluating...\n"
     ]
    },
    {
     "name": "stderr",
     "output_type": "stream",
     "text": [
      "\n",
      "100%|███████████████████████████████████████████████████████████| 43/43 [00:00<00:00, 157.41it/s]"
     ]
    },
    {
     "name": "stdout",
     "output_type": "stream",
     "text": [
      "\n",
      "Training Loss: 0.634 dev performance, p:1.000, r:0.061, f1:0.114\n",
      "\n",
      " Epoch 56 / 75\n"
     ]
    },
    {
     "name": "stderr",
     "output_type": "stream",
     "text": [
      "\n",
      "100%|██████████████████████████████████████████████████████████| 129/129 [00:03<00:00, 38.68it/s]"
     ]
    },
    {
     "name": "stdout",
     "output_type": "stream",
     "text": [
      "evaluating...\n"
     ]
    },
    {
     "name": "stderr",
     "output_type": "stream",
     "text": [
      "\n",
      "100%|███████████████████████████████████████████████████████████| 43/43 [00:00<00:00, 158.76it/s]"
     ]
    },
    {
     "name": "stdout",
     "output_type": "stream",
     "text": [
      "\n",
      "Training Loss: 0.629 dev performance, p:0.833, r:0.076, f1:0.139\n",
      "\n",
      " Epoch 57 / 75\n"
     ]
    },
    {
     "name": "stderr",
     "output_type": "stream",
     "text": [
      "\n",
      "100%|██████████████████████████████████████████████████████████| 129/129 [00:03<00:00, 38.60it/s]"
     ]
    },
    {
     "name": "stdout",
     "output_type": "stream",
     "text": [
      "evaluating...\n"
     ]
    },
    {
     "name": "stderr",
     "output_type": "stream",
     "text": [
      "\n",
      "100%|███████████████████████████████████████████████████████████| 43/43 [00:00<00:00, 158.39it/s]"
     ]
    },
    {
     "name": "stdout",
     "output_type": "stream",
     "text": [
      "\n",
      "Training Loss: 0.624 dev performance, p:0.714, r:0.076, f1:0.137\n",
      "\n",
      " Epoch 58 / 75\n"
     ]
    },
    {
     "name": "stderr",
     "output_type": "stream",
     "text": [
      "\n",
      "100%|██████████████████████████████████████████████████████████| 129/129 [00:03<00:00, 38.66it/s]"
     ]
    },
    {
     "name": "stdout",
     "output_type": "stream",
     "text": [
      "evaluating...\n"
     ]
    },
    {
     "name": "stderr",
     "output_type": "stream",
     "text": [
      "\n",
      "100%|███████████████████████████████████████████████████████████| 43/43 [00:00<00:00, 157.67it/s]"
     ]
    },
    {
     "name": "stdout",
     "output_type": "stream",
     "text": [
      "\n",
      "Training Loss: 0.619 dev performance, p:0.750, r:0.136, f1:0.231\n",
      "current best score is 0.231\n",
      "\n",
      " Epoch 59 / 75\n"
     ]
    },
    {
     "name": "stderr",
     "output_type": "stream",
     "text": [
      "\n",
      "100%|██████████████████████████████████████████████████████████| 129/129 [00:03<00:00, 38.59it/s]"
     ]
    },
    {
     "name": "stdout",
     "output_type": "stream",
     "text": [
      "evaluating...\n"
     ]
    },
    {
     "name": "stderr",
     "output_type": "stream",
     "text": [
      "\n",
      "100%|███████████████████████████████████████████████████████████| 43/43 [00:00<00:00, 160.09it/s]"
     ]
    },
    {
     "name": "stdout",
     "output_type": "stream",
     "text": [
      "\n",
      "Training Loss: 0.617 dev performance, p:0.923, r:0.182, f1:0.304\n",
      "current best score is 0.304\n",
      "\n",
      " Epoch 60 / 75\n"
     ]
    },
    {
     "name": "stderr",
     "output_type": "stream",
     "text": [
      "\n",
      "100%|██████████████████████████████████████████████████████████| 129/129 [00:03<00:00, 38.58it/s]"
     ]
    },
    {
     "name": "stdout",
     "output_type": "stream",
     "text": [
      "evaluating...\n"
     ]
    },
    {
     "name": "stderr",
     "output_type": "stream",
     "text": [
      "\n",
      "100%|███████████████████████████████████████████████████████████| 43/43 [00:00<00:00, 159.21it/s]"
     ]
    },
    {
     "name": "stdout",
     "output_type": "stream",
     "text": [
      "\n",
      "Training Loss: 0.611 dev performance, p:1.000, r:0.136, f1:0.240\n",
      "\n",
      " Epoch 61 / 75\n"
     ]
    },
    {
     "name": "stderr",
     "output_type": "stream",
     "text": [
      "\n",
      "100%|██████████████████████████████████████████████████████████| 129/129 [00:03<00:00, 38.66it/s]"
     ]
    },
    {
     "name": "stdout",
     "output_type": "stream",
     "text": [
      "evaluating...\n"
     ]
    },
    {
     "name": "stderr",
     "output_type": "stream",
     "text": [
      "\n",
      "100%|███████████████████████████████████████████████████████████| 43/43 [00:00<00:00, 158.40it/s]"
     ]
    },
    {
     "name": "stdout",
     "output_type": "stream",
     "text": [
      "\n",
      "Training Loss: 0.605 dev performance, p:1.000, r:0.258, f1:0.410\n",
      "current best score is 0.410\n",
      "\n",
      " Epoch 62 / 75\n"
     ]
    },
    {
     "name": "stderr",
     "output_type": "stream",
     "text": [
      "\n",
      "100%|██████████████████████████████████████████████████████████| 129/129 [00:03<00:00, 38.45it/s]"
     ]
    },
    {
     "name": "stdout",
     "output_type": "stream",
     "text": [
      "evaluating...\n"
     ]
    },
    {
     "name": "stderr",
     "output_type": "stream",
     "text": [
      "\n",
      "100%|███████████████████████████████████████████████████████████| 43/43 [00:00<00:00, 160.52it/s]"
     ]
    },
    {
     "name": "stdout",
     "output_type": "stream",
     "text": [
      "\n",
      "Training Loss: 0.603 dev performance, p:0.889, r:0.242, f1:0.381\n",
      "\n",
      " Epoch 63 / 75\n"
     ]
    },
    {
     "name": "stderr",
     "output_type": "stream",
     "text": [
      "\n",
      "100%|██████████████████████████████████████████████████████████| 129/129 [00:03<00:00, 38.53it/s]"
     ]
    },
    {
     "name": "stdout",
     "output_type": "stream",
     "text": [
      "evaluating...\n"
     ]
    },
    {
     "name": "stderr",
     "output_type": "stream",
     "text": [
      "\n",
      "100%|███████████████████████████████████████████████████████████| 43/43 [00:00<00:00, 158.06it/s]"
     ]
    },
    {
     "name": "stdout",
     "output_type": "stream",
     "text": [
      "\n",
      "Training Loss: 0.602 dev performance, p:0.867, r:0.197, f1:0.321\n",
      "\n",
      " Epoch 64 / 75\n"
     ]
    },
    {
     "name": "stderr",
     "output_type": "stream",
     "text": [
      "\n",
      "100%|██████████████████████████████████████████████████████████| 129/129 [00:03<00:00, 38.58it/s]"
     ]
    },
    {
     "name": "stdout",
     "output_type": "stream",
     "text": [
      "evaluating...\n"
     ]
    },
    {
     "name": "stderr",
     "output_type": "stream",
     "text": [
      "\n",
      "100%|███████████████████████████████████████████████████████████| 43/43 [00:00<00:00, 159.15it/s]"
     ]
    },
    {
     "name": "stdout",
     "output_type": "stream",
     "text": [
      "\n",
      "Training Loss: 0.596 dev performance, p:0.778, r:0.212, f1:0.333\n",
      "\n",
      " Epoch 65 / 75\n"
     ]
    },
    {
     "name": "stderr",
     "output_type": "stream",
     "text": [
      "\n",
      "100%|██████████████████████████████████████████████████████████| 129/129 [00:03<00:00, 38.52it/s]"
     ]
    },
    {
     "name": "stdout",
     "output_type": "stream",
     "text": [
      "evaluating...\n"
     ]
    },
    {
     "name": "stderr",
     "output_type": "stream",
     "text": [
      "\n",
      "100%|███████████████████████████████████████████████████████████| 43/43 [00:00<00:00, 159.61it/s]"
     ]
    },
    {
     "name": "stdout",
     "output_type": "stream",
     "text": [
      "\n",
      "Training Loss: 0.591 dev performance, p:1.000, r:0.303, f1:0.465\n",
      "current best score is 0.465\n",
      "\n",
      " Epoch 66 / 75\n"
     ]
    },
    {
     "name": "stderr",
     "output_type": "stream",
     "text": [
      "\n",
      "100%|██████████████████████████████████████████████████████████| 129/129 [00:03<00:00, 38.63it/s]"
     ]
    },
    {
     "name": "stdout",
     "output_type": "stream",
     "text": [
      "evaluating...\n"
     ]
    },
    {
     "name": "stderr",
     "output_type": "stream",
     "text": [
      "\n",
      "100%|███████████████████████████████████████████████████████████| 43/43 [00:00<00:00, 157.87it/s]"
     ]
    },
    {
     "name": "stdout",
     "output_type": "stream",
     "text": [
      "\n",
      "Training Loss: 0.590 dev performance, p:0.900, r:0.273, f1:0.419\n",
      "\n",
      " Epoch 67 / 75\n"
     ]
    },
    {
     "name": "stderr",
     "output_type": "stream",
     "text": [
      "\n",
      "100%|██████████████████████████████████████████████████████████| 129/129 [00:03<00:00, 38.66it/s]"
     ]
    },
    {
     "name": "stdout",
     "output_type": "stream",
     "text": [
      "evaluating...\n"
     ]
    },
    {
     "name": "stderr",
     "output_type": "stream",
     "text": [
      "\n",
      "100%|███████████████████████████████████████████████████████████| 43/43 [00:00<00:00, 161.49it/s]"
     ]
    },
    {
     "name": "stdout",
     "output_type": "stream",
     "text": [
      "\n",
      "Training Loss: 0.585 dev performance, p:0.939, r:0.470, f1:0.626\n",
      "current best score is 0.626\n",
      "\n",
      " Epoch 68 / 75\n"
     ]
    },
    {
     "name": "stderr",
     "output_type": "stream",
     "text": [
      "\n",
      "100%|██████████████████████████████████████████████████████████| 129/129 [00:03<00:00, 38.64it/s]"
     ]
    },
    {
     "name": "stdout",
     "output_type": "stream",
     "text": [
      "evaluating...\n"
     ]
    },
    {
     "name": "stderr",
     "output_type": "stream",
     "text": [
      "\n",
      "100%|███████████████████████████████████████████████████████████| 43/43 [00:00<00:00, 159.12it/s]"
     ]
    },
    {
     "name": "stdout",
     "output_type": "stream",
     "text": [
      "\n",
      "Training Loss: 0.584 dev performance, p:0.882, r:0.455, f1:0.600\n",
      "\n",
      " Epoch 69 / 75\n"
     ]
    },
    {
     "name": "stderr",
     "output_type": "stream",
     "text": [
      "\n",
      "100%|██████████████████████████████████████████████████████████| 129/129 [00:03<00:00, 38.63it/s]"
     ]
    },
    {
     "name": "stdout",
     "output_type": "stream",
     "text": [
      "evaluating...\n"
     ]
    },
    {
     "name": "stderr",
     "output_type": "stream",
     "text": [
      "\n",
      "100%|███████████████████████████████████████████████████████████| 43/43 [00:00<00:00, 159.57it/s]"
     ]
    },
    {
     "name": "stdout",
     "output_type": "stream",
     "text": [
      "\n",
      "Training Loss: 0.580 dev performance, p:0.935, r:0.439, f1:0.598\n",
      "\n",
      " Epoch 70 / 75\n"
     ]
    },
    {
     "name": "stderr",
     "output_type": "stream",
     "text": [
      "\n",
      "100%|██████████████████████████████████████████████████████████| 129/129 [00:03<00:00, 38.54it/s]"
     ]
    },
    {
     "name": "stdout",
     "output_type": "stream",
     "text": [
      "evaluating...\n"
     ]
    },
    {
     "name": "stderr",
     "output_type": "stream",
     "text": [
      "\n",
      "100%|███████████████████████████████████████████████████████████| 43/43 [00:00<00:00, 159.53it/s]"
     ]
    },
    {
     "name": "stdout",
     "output_type": "stream",
     "text": [
      "\n",
      "Training Loss: 0.575 dev performance, p:0.903, r:0.424, f1:0.577\n",
      "\n",
      " Epoch 71 / 75\n"
     ]
    },
    {
     "name": "stderr",
     "output_type": "stream",
     "text": [
      "\n",
      "100%|██████████████████████████████████████████████████████████| 129/129 [00:03<00:00, 38.62it/s]"
     ]
    },
    {
     "name": "stdout",
     "output_type": "stream",
     "text": [
      "evaluating...\n"
     ]
    },
    {
     "name": "stderr",
     "output_type": "stream",
     "text": [
      "\n",
      "100%|███████████████████████████████████████████████████████████| 43/43 [00:00<00:00, 156.35it/s]"
     ]
    },
    {
     "name": "stdout",
     "output_type": "stream",
     "text": [
      "\n",
      "Training Loss: 0.571 dev performance, p:0.974, r:0.576, f1:0.724\n",
      "current best score is 0.724\n",
      "\n",
      " Epoch 72 / 75\n"
     ]
    },
    {
     "name": "stderr",
     "output_type": "stream",
     "text": [
      "\n",
      "100%|██████████████████████████████████████████████████████████| 129/129 [00:03<00:00, 38.66it/s]"
     ]
    },
    {
     "name": "stdout",
     "output_type": "stream",
     "text": [
      "evaluating...\n"
     ]
    },
    {
     "name": "stderr",
     "output_type": "stream",
     "text": [
      "\n",
      "100%|███████████████████████████████████████████████████████████| 43/43 [00:00<00:00, 158.39it/s]"
     ]
    },
    {
     "name": "stdout",
     "output_type": "stream",
     "text": [
      "\n",
      "Training Loss: 0.569 dev performance, p:0.900, r:0.545, f1:0.679\n",
      "\n",
      " Epoch 73 / 75\n"
     ]
    },
    {
     "name": "stderr",
     "output_type": "stream",
     "text": [
      "\n",
      "100%|██████████████████████████████████████████████████████████| 129/129 [00:03<00:00, 38.54it/s]"
     ]
    },
    {
     "name": "stdout",
     "output_type": "stream",
     "text": [
      "evaluating...\n"
     ]
    },
    {
     "name": "stderr",
     "output_type": "stream",
     "text": [
      "\n",
      "100%|███████████████████████████████████████████████████████████| 43/43 [00:00<00:00, 159.21it/s]"
     ]
    },
    {
     "name": "stdout",
     "output_type": "stream",
     "text": [
      "\n",
      "Training Loss: 0.561 dev performance, p:0.882, r:0.682, f1:0.769\n",
      "current best score is 0.769\n",
      "\n",
      " Epoch 74 / 75\n"
     ]
    },
    {
     "name": "stderr",
     "output_type": "stream",
     "text": [
      "\n",
      "100%|██████████████████████████████████████████████████████████| 129/129 [00:03<00:00, 38.61it/s]"
     ]
    },
    {
     "name": "stdout",
     "output_type": "stream",
     "text": [
      "evaluating...\n"
     ]
    },
    {
     "name": "stderr",
     "output_type": "stream",
     "text": [
      "\n",
      "100%|███████████████████████████████████████████████████████████| 43/43 [00:00<00:00, 158.38it/s]"
     ]
    },
    {
     "name": "stdout",
     "output_type": "stream",
     "text": [
      "\n",
      "Training Loss: 0.559 dev performance, p:0.897, r:0.530, f1:0.667\n",
      "\n",
      " Epoch 75 / 75\n"
     ]
    },
    {
     "name": "stderr",
     "output_type": "stream",
     "text": [
      "\n",
      "100%|██████████████████████████████████████████████████████████| 129/129 [00:03<00:00, 38.69it/s]"
     ]
    },
    {
     "name": "stdout",
     "output_type": "stream",
     "text": [
      "evaluating...\n"
     ]
    },
    {
     "name": "stderr",
     "output_type": "stream",
     "text": [
      "\n",
      "100%|███████████████████████████████████████████████████████████| 43/43 [00:00<00:00, 159.83it/s]"
     ]
    },
    {
     "name": "stdout",
     "output_type": "stream",
     "text": [
      "\n",
      "Training Loss: 0.556 dev performance, p:0.898, r:0.667, f1:0.765\n"
     ]
    },
    {
     "name": "stderr",
     "output_type": "stream",
     "text": [
      "\n"
     ]
    }
   ],
   "source": [
    "#for each epoch\n",
    "\n",
    "best_model_state = None\n",
    "best_score = -1\n",
    "\n",
    "for epoch in range(epochs):\n",
    "     \n",
    "    print('\\n Epoch {:} / {:}'.format(epoch + 1, epochs), flush=True)\n",
    "    #train model\n",
    "    train_loss, performance = train()\n",
    "    print('\\nTraining Loss: {:.3f}'.format(train_loss), \n",
    "          'dev performance, p:{precision:.3f}, r:{recall:.3f}, f1:{f1:.3f}'.format(**performance), flush=True)\n",
    "    if best_score < performance['f1']:\n",
    "        best_score = performance['f1']\n",
    "        best_model_state = copy.deepcopy(model.state_dict())\n",
    "        print('current best score is {0:.3f}'.format(best_score), flush=True)    \n",
    "\n",
    "ran = True"
   ]
  },
  {
   "cell_type": "code",
   "execution_count": 67,
   "metadata": {},
   "outputs": [],
   "source": [
    "model_file = 'bluebert_gridsearch_mimic.pt'\n",
    "torch.save(best_model_state, model_file)"
   ]
  },
  {
   "cell_type": "code",
   "execution_count": 68,
   "metadata": {},
   "outputs": [],
   "source": [
    "if not ran:\n",
    "    device = torch.device('cuda' if torch.cuda.is_available() else 'cpu')\n",
    "\n",
    "    model_file = 'bluebert_gridsearch_mimic.pt'\n",
    "\n",
    "    categories = {'control': 0, 'case': 1}\n",
    "    # initialise the model use pretrained bert instance and the label numbers\n",
    "    model = BERT_Text_Classifier(bert_2, class_num=len(categories))\n",
    "\n",
    "    model.load_state_dict(torch.load(model_file))\n",
    "    model.eval()"
   ]
  },
  {
   "cell_type": "markdown",
   "metadata": {},
   "source": [
    "### Test the optimized BlueBERT"
   ]
  },
  {
   "cell_type": "code",
   "execution_count": 69,
   "metadata": {},
   "outputs": [],
   "source": [
    "test_seq = test_seq.to(device)\n",
    "test_mask = test_mask.to(device)\n",
    "model = model.to(device)"
   ]
  },
  {
   "cell_type": "code",
   "execution_count": 70,
   "metadata": {},
   "outputs": [
    {
     "name": "stdout",
     "output_type": "stream",
     "text": [
      "evaluating...\n"
     ]
    },
    {
     "name": "stderr",
     "output_type": "stream",
     "text": [
      "100%|███████████████████████████████████████████████████████████| 43/43 [00:00<00:00, 157.94it/s]"
     ]
    },
    {
     "name": "stdout",
     "output_type": "stream",
     "text": [
      "{'precision': 0.9574468085106383, 'recall': 0.6617647058823529, 'f1': 0.782608695652174}\n"
     ]
    },
    {
     "name": "stderr",
     "output_type": "stream",
     "text": [
      "\n"
     ]
    }
   ],
   "source": [
    "# dataLoader for test set\n",
    "# wrap tensors\n",
    "testing_data = TensorDataset(test_seq, test_mask, test_y)\n",
    "testing_data_loader = DataLoader(testing_data, batch_size=batch_size)     \n",
    "print(evaluate(model, testing_data_loader))\n",
    "# preds = np.argmax(preds.detach().cpu(), axis = 1)"
   ]
  },
  {
   "cell_type": "code",
   "execution_count": 71,
   "metadata": {},
   "outputs": [
    {
     "name": "stdout",
     "output_type": "stream",
     "text": [
      "              precision    recall  f1-score   support\n",
      "\n",
      "           0       0.86      1.00      0.93       147\n",
      "           1       1.00      0.66      0.80        68\n",
      "\n",
      "    accuracy                           0.89       215\n",
      "   macro avg       0.93      0.83      0.86       215\n",
      "weighted avg       0.91      0.89      0.89       215\n",
      "\n"
     ]
    }
   ],
   "source": [
    "# predicting, so gradients\n",
    "with torch.no_grad():\n",
    "    preds = model(test_seq, test_mask)\n",
    "    \n",
    "preds = np.argmax(preds.detach().cpu(), axis = 1)\n",
    "print(classification_report(test_y, preds))"
   ]
  },
  {
   "cell_type": "code",
   "execution_count": 72,
   "metadata": {},
   "outputs": [
    {
     "data": {
      "image/png": "[encoded data removed]",
      "text/plain": [
       "<Figure size 432x288 with 2 Axes>"
      ]
     },
     "metadata": {
      "needs_background": "light"
     },
     "output_type": "display_data"
    }
   ],
   "source": [
    "cm_bert = confusion_matrix(test_y, preds, labels=[1,0])\n",
    "ax= plt.subplot()\n",
    "sns.heatmap(cm_bert, annot=True, ax = ax, cmap='Blues', fmt=\"d\")\n",
    "\n",
    "ax.set_title('Confusion Matrix of BlueBERT after Grid Search (MIMIC-III data)')\n",
    "\n",
    "ax.set_xlabel('Predicted Labels')\n",
    "ax.set_ylabel('True Labels')\n",
    "\n",
    "ax.xaxis.set_ticklabels(['FAKE', 'REAL'])\n",
    "ax.yaxis.set_ticklabels(['FAKE', 'REAL'])\n",
    "plt.savefig('Confusion_matrix_BlueBERT(grid search)_mimic')"
   ]
  }
 ],
 "metadata": {
  "kernelspec": {
   "display_name": "Python 3",
   "language": "python",
   "name": "python3"
  },
  "language_info": {
   "codemirror_mode": {
    "name": "ipython",
    "version": 3
   },
   "file_extension": ".py",
   "mimetype": "text/x-python",
   "name": "python",
   "nbconvert_exporter": "python",
   "pygments_lexer": "ipython3",
   "version": "3.6.9"
  },
  "latex_envs": {
   "LaTeX_envs_menu_present": true,
   "autoclose": false,
   "autocomplete": true,
   "bibliofile": "biblio.bib",
   "cite_by": "apalike",
   "current_citInitial": 1,
   "eqLabelWithNumbers": true,
   "eqNumInitial": 1,
   "hotkeys": {
    "equation": "Ctrl-E",
    "itemize": "Ctrl-I"
   },
   "labels_anchors": false,
   "latex_user_defs": false,
   "report_style_numbering": false,
   "user_envs_cfg": false
  },
  "toc": {
   "base_numbering": 1,
   "nav_menu": {},
   "number_sections": true,
   "sideBar": true,
   "skip_h1_title": true,
   "title_cell": "Table of Contents",
   "title_sidebar": "Contents",
   "toc_cell": false,
   "toc_position": {
    "height": "calc(100% - 180px)",
    "left": "10px",
    "top": "150px",
    "width": "280.722px"
   },
   "toc_section_display": true,
   "toc_window_display": true
  },
  "varInspector": {
   "cols": {
    "lenName": 16,
    "lenType": 16,
    "lenVar": 40
   },
   "kernels_config": {
    "python": {
     "delete_cmd_postfix": "",
     "delete_cmd_prefix": "del ",
     "library": "var_list.py",
     "varRefreshCmd": "print(var_dic_list())"
    },
    "r": {
     "delete_cmd_postfix": ") ",
     "delete_cmd_prefix": "rm(",
     "library": "var_list.r",
     "varRefreshCmd": "cat(var_dic_list()) "
    }
   },
   "types_to_exclude": [
    "module",
    "function",
    "builtin_function_or_method",
    "instance",
    "_Feature"
   ],
   "window_display": false
  }
 },
 "nbformat": 4,
 "nbformat_minor": 5
}
