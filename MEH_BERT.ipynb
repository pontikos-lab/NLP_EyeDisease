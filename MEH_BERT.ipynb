{
 "cells": [
  {
   "cell_type": "code",
   "execution_count": 1,
   "metadata": {},
   "outputs": [],
   "source": [
    "import pandas as pd\n",
    "import nltk.data\n",
    "import numpy as np\n",
    "import matplotlib.pyplot as plt # plot figures\n",
    "from nltk.corpus import PlaintextCorpusReader\n",
    "import os, time, random, re, codecs, spacy, math, torch, spacy, transformers, nltk\n",
    "from os.path import join\n",
    "import seaborn as sns # plot figures\n",
    "from os import listdir\n",
    "from os.path import isfile, join\n",
    "from sklearn.model_selection import train_test_split\n",
    "from ipywidgets import IntProgress\n",
    "from sklearn.metrics import classification_report\n",
    "from transformers import AutoModel, BertTokenizerFast\n",
    "from torch.utils.data import TensorDataset, DataLoader, RandomSampler, SequentialSampler\n",
    "import torch.optim as optim\n",
    "import torch.nn as nn\n",
    "import torch.nn.functional as F\n",
    "from sklearn.decomposition import PCA\n",
    "import tensorflow as tf\n",
    "import sklearn.metrics as metrics\n",
    "from sklearn.svm import SVC\n",
    "from sklearn.neighbors import KNeighborsClassifier\n",
    "from sklearn.tree import DecisionTreeClassifier\n",
    "from sklearn.neural_network import MLPClassifier\n",
    "from sklearn.ensemble import RandomForestClassifier\n",
    "from sklearn.naive_bayes import GaussianNB\n",
    "from nltk.stem import PorterStemmer\n",
    "from nltk.corpus import stopwords\n",
    "from nltk.stem.wordnet import WordNetLemmatizer \n",
    "from sklearn import metrics\n",
    "import transformers\n",
    "import torch\n",
    "from torch.utils.data import Dataset, DataLoader, RandomSampler, SequentialSampler\n",
    "from transformers import BertTokenizer, BertModel, BertConfig\n",
    "from sklearn.preprocessing import LabelBinarizer, LabelEncoder\n",
    "from sklearn.metrics import confusion_matrix\n",
    "import tensorflow as tf\n",
    "from sklearn.feature_extraction.text import CountVectorizer\n",
    "from sklearn.feature_extraction.text import TfidfTransformer\n",
    "from sklearn.metrics import plot_roc_curve\n",
    "from bert_sklearn import BertClassifier\n",
    "from bert_sklearn import BertRegressor\n",
    "from bert_sklearn import load_model\n",
    "from sklearn.model_selection import GridSearchCV\n",
    "from transformers import AdamW\n",
    "import torch.optim as optim\n",
    "import codecs, json, copy\n",
    "from tqdm import tqdm\n",
    "from sklearn.pipeline import Pipeline\n",
    "from sklearn.feature_extraction.text import CountVectorizer, TfidfTransformer\n",
    "from sklearn.linear_model import LogisticRegression\n",
    "from sklearn.tree import DecisionTreeClassifier\n",
    "from sklearn.ensemble import RandomForestClassifier\n",
    "from sklearn.neighbors import KNeighborsClassifier\n",
    "from sklearn.svm import SVC\n",
    "from sklearn.naive_bayes import GaussianNB\n",
    "from transformers.models.bert.modeling_bert import BertModel,BertForMaskedLM, BertForSequenceClassification\n",
    "from sklearn.metrics import precision_recall_fscore_support\n",
    "import warnings\n",
    "warnings.filterwarnings('ignore') \n",
    "import copy\n",
    "import glob"
   ]
  },
  {
   "cell_type": "code",
   "execution_count": 2,
   "metadata": {},
   "outputs": [],
   "source": [
    "path = '....csv'\n",
    "df = pd.read_csv(path)\n",
    "df = df.drop(df.columns[0], axis=1)\n",
    "# df"
   ]
  },
  {
   "cell_type": "code",
   "execution_count": 3,
   "metadata": {},
   "outputs": [],
   "source": [
    "path_2 = '....csv'\n",
    "df_2 = pd.read_csv(path_2)\n",
    "df_2 = df_2.drop(df_2.columns[0], axis=1)\n",
    "# df_2"
   ]
  },
  {
   "cell_type": "code",
   "execution_count": 4,
   "metadata": {},
   "outputs": [],
   "source": [
    "# Seeding:\n",
    "def seed_all(seed):  \n",
    "    ''' A function to seed everything for getting stable results and reproducibility'''\n",
    "    random.seed(seed)\n",
    "    np.random.seed(seed)\n",
    "    os.environ['PYTHONHASHSEED'] = str(seed)\n",
    "seed = 2021    \n",
    "seed_all(seed)\n",
    "# Testing size:\n",
    "sizeoftest = 0.2"
   ]
  },
  {
   "cell_type": "code",
   "execution_count": 5,
   "metadata": {},
   "outputs": [
    {
     "data": {
      "text/plain": [
       "(447, 5)"
      ]
     },
     "execution_count": 5,
     "metadata": {},
     "output_type": "execute_result"
    }
   ],
   "source": [
    "df.shape"
   ]
  },
  {
   "cell_type": "code",
   "execution_count": 6,
   "metadata": {},
   "outputs": [
    {
     "name": "stdout",
     "output_type": "stream",
     "text": [
      "['end', 'file_key', 'label', 'start', 'str']\n"
     ]
    }
   ],
   "source": [
    "print(df.columns.tolist()) # column names"
   ]
  },
  {
   "cell_type": "code",
   "execution_count": 7,
   "metadata": {},
   "outputs": [
    {
     "data": {
      "text/plain": [
       "end          int64\n",
       "file_key     int64\n",
       "label        int64\n",
       "start        int64\n",
       "str         object\n",
       "dtype: object"
      ]
     },
     "execution_count": 7,
     "metadata": {},
     "output_type": "execute_result"
    }
   ],
   "source": [
    "df.dtypes"
   ]
  },
  {
   "cell_type": "code",
   "execution_count": 8,
   "metadata": {},
   "outputs": [
    {
     "data": {
      "text/plain": [
       "end         False\n",
       "file_key    False\n",
       "label       False\n",
       "start       False\n",
       "str         False\n",
       "dtype: bool"
      ]
     },
     "execution_count": 8,
     "metadata": {},
     "output_type": "execute_result"
    }
   ],
   "source": [
    "df.isnull().any()"
   ]
  },
  {
   "cell_type": "code",
   "execution_count": 9,
   "metadata": {},
   "outputs": [
    {
     "data": {
      "text/plain": [
       "1    356\n",
       "0     91\n",
       "Name: label, dtype: int64"
      ]
     },
     "execution_count": 9,
     "metadata": {},
     "output_type": "execute_result"
    }
   ],
   "source": [
    "df['label'].value_counts()"
   ]
  },
  {
   "cell_type": "code",
   "execution_count": 10,
   "metadata": {},
   "outputs": [
    {
     "data": {
      "image/png": "[encoded data removed]",
      "text/plain": [
       "<Figure size 432x288 with 1 Axes>"
      ]
     },
     "metadata": {
      "needs_background": "light"
     },
     "output_type": "display_data"
    }
   ],
   "source": [
    "ax = sns.countplot(y=\"label\", data=df)\n",
    "plt.title('Distribution of  class (MEH data)')\n",
    "plt.xlabel('Number of class')\n",
    "total = len(df['label'])\n",
    "for p in ax.patches:\n",
    "        percentage = '{:.1f}%'.format(100 * p.get_width()/total)\n",
    "        x = p.get_x() + p.get_width() + 0.02\n",
    "        y = p.get_y() + p.get_height()/2\n",
    "        ax.annotate(percentage, (x, y))\n",
    "# plt.savefig('class_label')\n",
    "plt.show()"
   ]
  },
  {
   "cell_type": "code",
   "execution_count": 11,
   "metadata": {},
   "outputs": [
    {
     "name": "stdout",
     "output_type": "stream",
     "text": [
      "Train size: 267\n",
      "Dev size: 90\n",
      "Test size: 90\n"
     ]
    }
   ],
   "source": [
    "texts = df['str'].tolist()\n",
    "labels = df['label'].tolist()\n",
    "X, X_test, y, y_test = train_test_split(texts,\n",
    "                                        labels,\n",
    "                                        test_size=0.2,\n",
    "                                        train_size=0.8,\n",
    "                                        random_state=seed)\n",
    "X_train, X_dev, y_train, y_dev = train_test_split(X,\n",
    "                                                  y,\n",
    "                                                  test_size=0.25,\n",
    "                                                  train_size=0.75,\n",
    "                                                  random_state=seed)\n",
    "# len(X_train), len(y_train), len(X_test), len(y_test), len(X_dev), len(y_dev)\n",
    "print(\"Train size:\", len(X_train))\n",
    "print(\"Dev size:\", len(X_dev))\n",
    "print(\"Test size:\", len(X_test))"
   ]
  },
  {
   "cell_type": "markdown",
   "metadata": {},
   "source": [
    "# BERT model\n",
    "## Initial training"
   ]
  },
  {
   "cell_type": "code",
   "execution_count": 12,
   "metadata": {},
   "outputs": [
    {
     "name": "stderr",
     "output_type": "stream",
     "text": [
      "Some weights of the model checkpoint at bert-base-uncased were not used when initializing BertModel: ['cls.predictions.transform.dense.bias', 'cls.predictions.transform.dense.weight', 'cls.seq_relationship.weight', 'cls.predictions.transform.LayerNorm.weight', 'cls.seq_relationship.bias', 'cls.predictions.decoder.weight', 'cls.predictions.bias', 'cls.predictions.transform.LayerNorm.bias']\n",
      "- This IS expected if you are initializing BertModel from the checkpoint of a model trained on another task or with another architecture (e.g. initializing a BertForSequenceClassification model from a BertForPreTraining model).\n",
      "- This IS NOT expected if you are initializing BertModel from the checkpoint of a model that you expect to be exactly identical (initializing a BertForSequenceClassification model from a BertForSequenceClassification model).\n"
     ]
    }
   ],
   "source": [
    "# import BERT-base pretrained model\n",
    "bert = AutoModel.from_pretrained('bert-base-uncased')\n",
    "# Load the BERT tokenizer\n",
    "tokenizer = BertTokenizerFast.from_pretrained('bert-base-uncased')"
   ]
  },
  {
   "cell_type": "code",
   "execution_count": 13,
   "metadata": {},
   "outputs": [],
   "source": [
    "def prepare_X_y(texts, labels):    \n",
    "    tokenized = tokenizer.batch_encode_plus(\n",
    "        texts,\n",
    "        padding=True,\n",
    "        truncation=True\n",
    "    )\n",
    "    seq = torch.tensor(tokenized['input_ids'])\n",
    "    mask = torch.tensor(tokenized['attention_mask'])\n",
    "    y = torch.tensor(labels)\n",
    "    return seq, mask, y\n",
    "\n",
    "train_seq, train_mask, train_y = prepare_X_y(X_train, y_train)\n",
    "dev_seq, dev_mask, dev_y = prepare_X_y(X_dev, y_dev)\n",
    "test_seq, test_mask, test_y = prepare_X_y(X_test, y_test)"
   ]
  },
  {
   "cell_type": "code",
   "execution_count": 14,
   "metadata": {},
   "outputs": [],
   "source": [
    "#define a batch size\n",
    "batch_size = 5\n",
    "epochs = 20\n",
    "learning_rate = 1e-1"
   ]
  },
  {
   "cell_type": "code",
   "execution_count": 15,
   "metadata": {},
   "outputs": [],
   "source": [
    "# wrap tensors\n",
    "training_data = TensorDataset(train_seq, train_mask, train_y)\n",
    "dev_data = TensorDataset(dev_seq, dev_mask, dev_y)\n",
    "# testing_data = TensorDataset(test_seq, test_mask, test_y)\n",
    "\n",
    "# sampler for sampling the data during training\n",
    "sampler = RandomSampler(training_data)\n",
    "\n",
    "# dataLoader\n",
    "training_data_loader = DataLoader(training_data, sampler=sampler, batch_size=batch_size)\n",
    "dev_data_loader = DataLoader(dev_data, batch_size=batch_size) \n",
    "# testing_data_loader = DataLoader(testing_data, sampler=sampler, batch_size=batch_size)"
   ]
  },
  {
   "cell_type": "code",
   "execution_count": 16,
   "metadata": {},
   "outputs": [],
   "source": [
    "# Define the model\n",
    "\n",
    "class BERT_Text_Classifier(nn.Module):\n",
    "    \n",
    "    def __init__(self, bert, class_num, bert_dim=768, hidden_dim=512):\n",
    "      \n",
    "        super(BERT_Text_Classifier, self).__init__()\n",
    "\n",
    "        self.bert = bert \n",
    "\n",
    "        # define a dropout\n",
    "        self.dropout = nn.Dropout(0.1)\n",
    "\n",
    "        # use relu\n",
    "        self.relu =  nn.ReLU()\n",
    "\n",
    "        # feedforward layer\n",
    "        self.fc1 = nn.Linear(bert_dim, hidden_dim)\n",
    "\n",
    "        # Output layer\n",
    "        self.fc2 = nn.Linear(hidden_dim, class_num)\n",
    "\n",
    "        #softmax function instance\n",
    "        self.softmax = nn.LogSoftmax(dim=1)\n",
    "\n",
    "    #define the forward pass\n",
    "    def forward(self, seq, mask):\n",
    "\n",
    "        # use pretrained bert to read the sequence with the mask (pay attention to which tokens)\n",
    "        bert_out = self.bert(seq, attention_mask=mask)\n",
    "        \n",
    "        # print('last_hidden_state', bert_out['last_hidden_state'].size(), \n",
    "        #      'pooler_output', bert_out['pooler_output'].size())\n",
    "        \n",
    "        lhs = bert_out['pooler_output']\n",
    "        x = self.fc1(lhs)        \n",
    "        x = self.relu(x)\n",
    "        x = self.dropout(x)\n",
    "        x = self.fc2(x)\n",
    "        \n",
    "        # apply softmax activation\n",
    "        x = self.softmax(x)\n",
    "\n",
    "        return x"
   ]
  },
  {
   "cell_type": "code",
   "execution_count": 17,
   "metadata": {},
   "outputs": [],
   "source": [
    "def evaluate(m, evl_loader, eval_labels=[1]):\n",
    "    from sklearn.metrics import precision_recall_fscore_support\n",
    "    preds = []\n",
    "    lbls = []\n",
    "    print('evaluating...', flush=True)\n",
    "    for step, batch in enumerate(tqdm(evl_loader)):        \n",
    "        # use gpu if available\n",
    "        batch = [r.to(device) for r in batch]\n",
    "        seq, mask, labels = batch\n",
    "        with torch.no_grad():\n",
    "            batch_result = m(seq, mask)\n",
    "            rets = np.argmax(batch_result.detach().cpu(), axis = 1).tolist()\n",
    "            preds += rets\n",
    "            lbls += labels.tolist()\n",
    "    p, r, f, _ = precision_recall_fscore_support(lbls, preds, labels=eval_labels)\n",
    "    return {'precision': p[0], 'recall': r[0], 'f1': f[0]}"
   ]
  },
  {
   "cell_type": "code",
   "execution_count": 18,
   "metadata": {},
   "outputs": [],
   "source": [
    "# function to train the model\n",
    "def train():\n",
    "    # dropout activates when in train mode \n",
    "    model.train()\n",
    "\n",
    "    total_loss = 0\n",
    "    for step, batch in enumerate(tqdm(training_data_loader)):\n",
    "        \n",
    "        # use gpu if available\n",
    "        batch = [r.to(device) for r in batch]\n",
    "        \n",
    "        seq, mask, labels = batch\n",
    "        \n",
    "        # reset gradients \n",
    "        model.zero_grad()        \n",
    "\n",
    "        # get model outputs\n",
    "        outputs = model.forward(seq, mask)\n",
    "\n",
    "        # compute the loss between actual and predicted values\n",
    "        loss = cross_entropy(outputs, labels)\n",
    "\n",
    "        # accumulate loss\n",
    "        total_loss = total_loss + loss.item()\n",
    "\n",
    "        # calculate the gradients\n",
    "        loss.backward()\n",
    "\n",
    "        # deal with the exploding gradient problem\n",
    "        torch.nn.utils.clip_grad_norm_(model.parameters(), 1.0)\n",
    "\n",
    "        # update parameters\n",
    "        optimizer.step()\n",
    "\n",
    "    # calculate average loss\n",
    "    average_loss = total_loss / len(training_data_loader)\n",
    "    \n",
    "    ret = evaluate(model, dev_data_loader)\n",
    "  \n",
    "    return average_loss, ret"
   ]
  },
  {
   "cell_type": "code",
   "execution_count": 4,
   "metadata": {},
   "outputs": [],
   "source": [
    "device = torch.device('cuda' if torch.cuda.is_available() else 'cpu')\n",
    "# device"
   ]
  },
  {
   "cell_type": "code",
   "execution_count": 22,
   "metadata": {},
   "outputs": [],
   "source": [
    "categories = {'control': 0, 'case': 1}\n",
    "# initialise the model use pretrained bert instance and the label numbers\n",
    "model = BERT_Text_Classifier(bert, class_num=len(categories))\n",
    "\n",
    "# push the model to GPU\n",
    "model = model.to(device)\n",
    "\n",
    "# define the optimizer\n",
    "# optimizer = AdamW(model.parameters(),\n",
    "#                   lr = learning_rate)\n",
    "optimizer = optim.SGD(model.parameters(), lr=learning_rate)\n",
    "\n",
    "cross_entropy  = nn.NLLLoss() "
   ]
  },
  {
   "cell_type": "code",
   "execution_count": 23,
   "metadata": {},
   "outputs": [
    {
     "name": "stdout",
     "output_type": "stream",
     "text": [
      "\n",
      " Epoch 1 / 20\n"
     ]
    },
    {
     "name": "stderr",
     "output_type": "stream",
     "text": [
      "100%|██████████| 54/54 [00:01<00:00, 29.61it/s]"
     ]
    },
    {
     "name": "stdout",
     "output_type": "stream",
     "text": [
      "evaluating...\n"
     ]
    },
    {
     "name": "stderr",
     "output_type": "stream",
     "text": [
      "\n",
      "100%|██████████| 18/18 [00:00<00:00, 111.40it/s]"
     ]
    },
    {
     "name": "stdout",
     "output_type": "stream",
     "text": [
      "\n",
      "Training Loss: 0.372 dev performance, p:0.918, r:0.985, f1:0.950\n",
      "current best score is 0.950\n",
      "\n",
      " Epoch 2 / 20\n"
     ]
    },
    {
     "name": "stderr",
     "output_type": "stream",
     "text": [
      "\n",
      "100%|██████████| 54/54 [00:01<00:00, 30.07it/s]"
     ]
    },
    {
     "name": "stdout",
     "output_type": "stream",
     "text": [
      "evaluating...\n"
     ]
    },
    {
     "name": "stderr",
     "output_type": "stream",
     "text": [
      "\n",
      "100%|██████████| 18/18 [00:00<00:00, 110.47it/s]"
     ]
    },
    {
     "name": "stdout",
     "output_type": "stream",
     "text": [
      "\n",
      "Training Loss: 0.280 dev performance, p:0.918, r:0.985, f1:0.950\n",
      "\n",
      " Epoch 3 / 20\n"
     ]
    },
    {
     "name": "stderr",
     "output_type": "stream",
     "text": [
      "\n",
      "100%|██████████| 54/54 [00:01<00:00, 30.07it/s]"
     ]
    },
    {
     "name": "stdout",
     "output_type": "stream",
     "text": [
      "evaluating...\n"
     ]
    },
    {
     "name": "stderr",
     "output_type": "stream",
     "text": [
      "\n",
      "100%|██████████| 18/18 [00:00<00:00, 110.25it/s]"
     ]
    },
    {
     "name": "stdout",
     "output_type": "stream",
     "text": [
      "\n",
      "Training Loss: 0.291 dev performance, p:0.919, r:1.000, f1:0.958\n",
      "current best score is 0.958\n",
      "\n",
      " Epoch 4 / 20\n"
     ]
    },
    {
     "name": "stderr",
     "output_type": "stream",
     "text": [
      "\n",
      "100%|██████████| 54/54 [00:01<00:00, 30.18it/s]"
     ]
    },
    {
     "name": "stdout",
     "output_type": "stream",
     "text": [
      "evaluating...\n"
     ]
    },
    {
     "name": "stderr",
     "output_type": "stream",
     "text": [
      "\n",
      "100%|██████████| 18/18 [00:00<00:00, 110.30it/s]"
     ]
    },
    {
     "name": "stdout",
     "output_type": "stream",
     "text": [
      "\n",
      "Training Loss: 0.284 dev performance, p:0.931, r:0.985, f1:0.957\n",
      "\n",
      " Epoch 5 / 20\n"
     ]
    },
    {
     "name": "stderr",
     "output_type": "stream",
     "text": [
      "\n",
      "100%|██████████| 54/54 [00:01<00:00, 30.28it/s]"
     ]
    },
    {
     "name": "stdout",
     "output_type": "stream",
     "text": [
      "evaluating...\n"
     ]
    },
    {
     "name": "stderr",
     "output_type": "stream",
     "text": [
      "\n",
      "100%|██████████| 18/18 [00:00<00:00, 112.18it/s]"
     ]
    },
    {
     "name": "stdout",
     "output_type": "stream",
     "text": [
      "\n",
      "Training Loss: 0.260 dev performance, p:0.918, r:0.985, f1:0.950\n",
      "\n",
      " Epoch 6 / 20\n"
     ]
    },
    {
     "name": "stderr",
     "output_type": "stream",
     "text": [
      "\n",
      "100%|██████████| 54/54 [00:01<00:00, 29.05it/s]"
     ]
    },
    {
     "name": "stdout",
     "output_type": "stream",
     "text": [
      "evaluating...\n"
     ]
    },
    {
     "name": "stderr",
     "output_type": "stream",
     "text": [
      "\n",
      "100%|██████████| 18/18 [00:00<00:00, 89.08it/s]"
     ]
    },
    {
     "name": "stdout",
     "output_type": "stream",
     "text": [
      "\n",
      "Training Loss: 0.232 dev performance, p:0.918, r:0.985, f1:0.950\n",
      "\n",
      " Epoch 7 / 20\n"
     ]
    },
    {
     "name": "stderr",
     "output_type": "stream",
     "text": [
      "\n",
      "100%|██████████| 54/54 [00:01<00:00, 29.51it/s]"
     ]
    },
    {
     "name": "stdout",
     "output_type": "stream",
     "text": [
      "evaluating...\n"
     ]
    },
    {
     "name": "stderr",
     "output_type": "stream",
     "text": [
      "\n",
      "100%|██████████| 18/18 [00:00<00:00, 113.01it/s]"
     ]
    },
    {
     "name": "stdout",
     "output_type": "stream",
     "text": [
      "\n",
      "Training Loss: 0.222 dev performance, p:0.919, r:1.000, f1:0.958\n",
      "\n",
      " Epoch 8 / 20\n"
     ]
    },
    {
     "name": "stderr",
     "output_type": "stream",
     "text": [
      "\n",
      "100%|██████████| 54/54 [00:01<00:00, 30.36it/s]"
     ]
    },
    {
     "name": "stdout",
     "output_type": "stream",
     "text": [
      "evaluating...\n"
     ]
    },
    {
     "name": "stderr",
     "output_type": "stream",
     "text": [
      "\n",
      "100%|██████████| 18/18 [00:00<00:00, 112.35it/s]"
     ]
    },
    {
     "name": "stdout",
     "output_type": "stream",
     "text": [
      "\n",
      "Training Loss: 0.195 dev performance, p:0.918, r:0.985, f1:0.950\n",
      "\n",
      " Epoch 9 / 20\n"
     ]
    },
    {
     "name": "stderr",
     "output_type": "stream",
     "text": [
      "\n",
      "100%|██████████| 54/54 [00:01<00:00, 30.43it/s]"
     ]
    },
    {
     "name": "stdout",
     "output_type": "stream",
     "text": [
      "evaluating...\n"
     ]
    },
    {
     "name": "stderr",
     "output_type": "stream",
     "text": [
      "\n",
      "100%|██████████| 18/18 [00:00<00:00, 111.99it/s]"
     ]
    },
    {
     "name": "stdout",
     "output_type": "stream",
     "text": [
      "\n",
      "Training Loss: 0.222 dev performance, p:0.918, r:0.985, f1:0.950\n",
      "\n",
      " Epoch 10 / 20\n"
     ]
    },
    {
     "name": "stderr",
     "output_type": "stream",
     "text": [
      "\n",
      "100%|██████████| 54/54 [00:01<00:00, 29.90it/s]"
     ]
    },
    {
     "name": "stdout",
     "output_type": "stream",
     "text": [
      "evaluating...\n"
     ]
    },
    {
     "name": "stderr",
     "output_type": "stream",
     "text": [
      "\n",
      "100%|██████████| 18/18 [00:00<00:00, 112.64it/s]"
     ]
    },
    {
     "name": "stdout",
     "output_type": "stream",
     "text": [
      "\n",
      "Training Loss: 0.175 dev performance, p:0.926, r:0.926, f1:0.926\n",
      "\n",
      " Epoch 11 / 20\n"
     ]
    },
    {
     "name": "stderr",
     "output_type": "stream",
     "text": [
      "\n",
      "100%|██████████| 54/54 [00:01<00:00, 30.00it/s]"
     ]
    },
    {
     "name": "stdout",
     "output_type": "stream",
     "text": [
      "evaluating...\n"
     ]
    },
    {
     "name": "stderr",
     "output_type": "stream",
     "text": [
      "\n",
      "100%|██████████| 18/18 [00:00<00:00, 112.81it/s]"
     ]
    },
    {
     "name": "stdout",
     "output_type": "stream",
     "text": [
      "\n",
      "Training Loss: 0.220 dev performance, p:0.918, r:0.985, f1:0.950\n",
      "\n",
      " Epoch 12 / 20\n"
     ]
    },
    {
     "name": "stderr",
     "output_type": "stream",
     "text": [
      "\n",
      "100%|██████████| 54/54 [00:01<00:00, 30.62it/s]"
     ]
    },
    {
     "name": "stdout",
     "output_type": "stream",
     "text": [
      "evaluating...\n"
     ]
    },
    {
     "name": "stderr",
     "output_type": "stream",
     "text": [
      "\n",
      "100%|██████████| 18/18 [00:00<00:00, 102.12it/s]"
     ]
    },
    {
     "name": "stdout",
     "output_type": "stream",
     "text": [
      "\n",
      "Training Loss: 0.197 dev performance, p:0.918, r:0.985, f1:0.950\n",
      "\n",
      " Epoch 13 / 20\n"
     ]
    },
    {
     "name": "stderr",
     "output_type": "stream",
     "text": [
      "\n",
      "100%|██████████| 54/54 [00:01<00:00, 30.58it/s]"
     ]
    },
    {
     "name": "stdout",
     "output_type": "stream",
     "text": [
      "evaluating...\n"
     ]
    },
    {
     "name": "stderr",
     "output_type": "stream",
     "text": [
      "\n",
      "100%|██████████| 18/18 [00:00<00:00, 101.85it/s]"
     ]
    },
    {
     "name": "stdout",
     "output_type": "stream",
     "text": [
      "\n",
      "Training Loss: 0.201 dev performance, p:0.917, r:0.971, f1:0.943\n",
      "\n",
      " Epoch 14 / 20\n"
     ]
    },
    {
     "name": "stderr",
     "output_type": "stream",
     "text": [
      "\n",
      "100%|██████████| 54/54 [00:01<00:00, 30.37it/s]"
     ]
    },
    {
     "name": "stdout",
     "output_type": "stream",
     "text": [
      "evaluating...\n"
     ]
    },
    {
     "name": "stderr",
     "output_type": "stream",
     "text": [
      "\n",
      "100%|██████████| 18/18 [00:00<00:00, 101.87it/s]"
     ]
    },
    {
     "name": "stdout",
     "output_type": "stream",
     "text": [
      "\n",
      "Training Loss: 0.184 dev performance, p:0.925, r:0.912, f1:0.919\n",
      "\n",
      " Epoch 15 / 20\n"
     ]
    },
    {
     "name": "stderr",
     "output_type": "stream",
     "text": [
      "\n",
      "100%|██████████| 54/54 [00:01<00:00, 30.69it/s]"
     ]
    },
    {
     "name": "stdout",
     "output_type": "stream",
     "text": [
      "evaluating...\n"
     ]
    },
    {
     "name": "stderr",
     "output_type": "stream",
     "text": [
      "\n",
      "100%|██████████| 18/18 [00:00<00:00, 108.37it/s]"
     ]
    },
    {
     "name": "stdout",
     "output_type": "stream",
     "text": [
      "\n",
      "Training Loss: 0.175 dev performance, p:0.918, r:0.985, f1:0.950\n",
      "\n",
      " Epoch 16 / 20\n"
     ]
    },
    {
     "name": "stderr",
     "output_type": "stream",
     "text": [
      "\n",
      "100%|██████████| 54/54 [00:01<00:00, 30.84it/s]"
     ]
    },
    {
     "name": "stdout",
     "output_type": "stream",
     "text": [
      "evaluating...\n"
     ]
    },
    {
     "name": "stderr",
     "output_type": "stream",
     "text": [
      "\n",
      "100%|██████████| 18/18 [00:00<00:00, 101.93it/s]"
     ]
    },
    {
     "name": "stdout",
     "output_type": "stream",
     "text": [
      "\n",
      "Training Loss: 0.213 dev performance, p:0.918, r:0.985, f1:0.950\n",
      "\n",
      " Epoch 17 / 20\n"
     ]
    },
    {
     "name": "stderr",
     "output_type": "stream",
     "text": [
      "\n",
      "100%|██████████| 54/54 [00:01<00:00, 30.69it/s]"
     ]
    },
    {
     "name": "stdout",
     "output_type": "stream",
     "text": [
      "evaluating...\n"
     ]
    },
    {
     "name": "stderr",
     "output_type": "stream",
     "text": [
      "\n",
      "100%|██████████| 18/18 [00:00<00:00, 102.02it/s]"
     ]
    },
    {
     "name": "stdout",
     "output_type": "stream",
     "text": [
      "\n",
      "Training Loss: 0.215 dev performance, p:0.918, r:0.985, f1:0.950\n",
      "\n",
      " Epoch 18 / 20\n"
     ]
    },
    {
     "name": "stderr",
     "output_type": "stream",
     "text": [
      "\n",
      "100%|██████████| 54/54 [00:01<00:00, 30.85it/s]"
     ]
    },
    {
     "name": "stdout",
     "output_type": "stream",
     "text": [
      "evaluating...\n"
     ]
    },
    {
     "name": "stderr",
     "output_type": "stream",
     "text": [
      "\n",
      "100%|██████████| 18/18 [00:00<00:00, 107.82it/s]"
     ]
    },
    {
     "name": "stdout",
     "output_type": "stream",
     "text": [
      "\n",
      "Training Loss: 0.203 dev performance, p:0.918, r:0.985, f1:0.950\n",
      "\n",
      " Epoch 19 / 20\n"
     ]
    },
    {
     "name": "stderr",
     "output_type": "stream",
     "text": [
      "\n",
      "100%|██████████| 54/54 [00:01<00:00, 30.64it/s]"
     ]
    },
    {
     "name": "stdout",
     "output_type": "stream",
     "text": [
      "evaluating...\n"
     ]
    },
    {
     "name": "stderr",
     "output_type": "stream",
     "text": [
      "\n",
      "100%|██████████| 18/18 [00:00<00:00, 112.08it/s]"
     ]
    },
    {
     "name": "stdout",
     "output_type": "stream",
     "text": [
      "\n",
      "Training Loss: 0.212 dev performance, p:0.918, r:0.985, f1:0.950\n",
      "\n",
      " Epoch 20 / 20\n"
     ]
    },
    {
     "name": "stderr",
     "output_type": "stream",
     "text": [
      "\n",
      "100%|██████████| 54/54 [00:01<00:00, 30.53it/s]"
     ]
    },
    {
     "name": "stdout",
     "output_type": "stream",
     "text": [
      "evaluating...\n"
     ]
    },
    {
     "name": "stderr",
     "output_type": "stream",
     "text": [
      "\n",
      "100%|██████████| 18/18 [00:00<00:00, 111.70it/s]"
     ]
    },
    {
     "name": "stdout",
     "output_type": "stream",
     "text": [
      "\n",
      "Training Loss: 0.157 dev performance, p:0.984, r:0.912, f1:0.947\n"
     ]
    },
    {
     "name": "stderr",
     "output_type": "stream",
     "text": [
      "\n"
     ]
    }
   ],
   "source": [
    "#for each epoch\n",
    "\n",
    "best_model_state = None\n",
    "best_score = -1\n",
    "\n",
    "for epoch in range(epochs):\n",
    "     \n",
    "    print('\\n Epoch {:} / {:}'.format(epoch + 1, epochs), flush=True)\n",
    "    #train model\n",
    "    train_loss, performance = train()\n",
    "    print('\\nTraining Loss: {:.3f}'.format(train_loss), \n",
    "          'dev performance, p:{precision:.3f}, r:{recall:.3f}, f1:{f1:.3f}'.format(**performance), flush=True)\n",
    "    if best_score < performance['f1']:\n",
    "        best_score = performance['f1']\n",
    "        best_model_state = copy.deepcopy(model.state_dict())\n",
    "        print('current best score is {0:.3f}'.format(best_score), flush=True)    \n",
    "\n",
    "ran = True"
   ]
  },
  {
   "cell_type": "code",
   "execution_count": 24,
   "metadata": {},
   "outputs": [],
   "source": [
    "model_file = 'MEH_bert_initial.pt'\n",
    "torch.save(best_model_state, model_file)"
   ]
  },
  {
   "cell_type": "code",
   "execution_count": 25,
   "metadata": {},
   "outputs": [],
   "source": [
    "if not ran:\n",
    "    device = torch.device('cuda' if torch.cuda.is_available() else 'cpu')\n",
    "\n",
    "    model_file = 'MEH_bert_initial.pt'\n",
    "\n",
    "    categories = {'control': 0, 'case': 1}\n",
    "    # initialise the model use pretrained bert instance and the label numbers\n",
    "    model = BERT_Text_Classifier(bert, class_num=len(categories))\n",
    "\n",
    "    model.load_state_dict(torch.load(model_file))\n",
    "    model.eval()"
   ]
  },
  {
   "cell_type": "code",
   "execution_count": 26,
   "metadata": {},
   "outputs": [],
   "source": [
    "test_seq = test_seq.to(device)\n",
    "test_mask = test_mask.to(device)\n",
    "model = model.to(device)"
   ]
  },
  {
   "cell_type": "code",
   "execution_count": 27,
   "metadata": {},
   "outputs": [
    {
     "name": "stdout",
     "output_type": "stream",
     "text": [
      "evaluating...\n"
     ]
    },
    {
     "name": "stderr",
     "output_type": "stream",
     "text": [
      "100%|██████████| 18/18 [00:00<00:00, 110.77it/s]"
     ]
    },
    {
     "name": "stdout",
     "output_type": "stream",
     "text": [
      "{'precision': 0.9722222222222222, 'recall': 0.9333333333333333, 'f1': 0.9523809523809524}\n"
     ]
    },
    {
     "name": "stderr",
     "output_type": "stream",
     "text": [
      "\n"
     ]
    }
   ],
   "source": [
    "# dataLoader for test set\n",
    "# wrap tensors\n",
    "testing_data = TensorDataset(test_seq, test_mask, test_y)\n",
    "testing_data_loader = DataLoader(testing_data, batch_size=batch_size)     \n",
    "print(evaluate(model, testing_data_loader))\n",
    "# preds = np.argmax(preds.detach().cpu(), axis = 1)"
   ]
  },
  {
   "cell_type": "code",
   "execution_count": 28,
   "metadata": {},
   "outputs": [
    {
     "name": "stdout",
     "output_type": "stream",
     "text": [
      "              precision    recall  f1-score   support\n",
      "\n",
      "           0       0.71      0.80      0.75        15\n",
      "           1       0.96      0.93      0.95        75\n",
      "\n",
      "    accuracy                           0.91        90\n",
      "   macro avg       0.83      0.87      0.85        90\n",
      "weighted avg       0.92      0.91      0.91        90\n",
      "\n"
     ]
    }
   ],
   "source": [
    "# predicting, so gradients\n",
    "with torch.no_grad():\n",
    "    preds = model(test_seq, test_mask)\n",
    "    \n",
    "preds = np.argmax(preds.detach().cpu(), axis = 1)\n",
    "print(classification_report(test_y, preds))\n",
    "# report_BERT1 = classification_report(test_y, preds)\n",
    "# classification_report_csv(report_BERT1)"
   ]
  },
  {
   "cell_type": "code",
   "execution_count": 29,
   "metadata": {},
   "outputs": [
    {
     "data": {
      "image/png": "[encoded data removed]",
      "text/plain": [
       "<Figure size 432x288 with 2 Axes>"
      ]
     },
     "metadata": {
      "needs_background": "light"
     },
     "output_type": "display_data"
    }
   ],
   "source": [
    "cm_bert = confusion_matrix(test_y, preds, labels=[1,0])\n",
    "ax= plt.subplot()\n",
    "sns.heatmap(cm_bert, annot=True, ax = ax, cmap='Blues', fmt=\"d\")\n",
    "\n",
    "ax.set_title('Confusion Matrix of BERT (MEH data)')\n",
    "\n",
    "ax.set_xlabel('Predicted Labels')\n",
    "ax.set_ylabel('True Labels')\n",
    "\n",
    "ax.xaxis.set_ticklabels(['FAKE', 'REAL'])\n",
    "ax.yaxis.set_ticklabels(['FAKE', 'REAL'])\n",
    "plt.savefig('Confusion_matrix_bert_meh')"
   ]
  },
  {
   "cell_type": "markdown",
   "metadata": {},
   "source": [
    "## Fine-tuning"
   ]
  },
  {
   "cell_type": "code",
   "execution_count": 30,
   "metadata": {},
   "outputs": [],
   "source": [
    "os.environ[\"TOKENIZERS_PARALLELISM\"] = \"false\""
   ]
  },
  {
   "cell_type": "code",
   "execution_count": 31,
   "metadata": {},
   "outputs": [
    {
     "name": "stdout",
     "output_type": "stream",
     "text": [
      "Building sklearn text classifier...\n",
      "Building sklearn text classifier...\n",
      "Fitting 3 folds for each of 9 candidates, totalling 27 fits\n",
      "Building sklearn text classifier...\n",
      "Loading bert-base-uncased model...\n",
      "Defaulting to linear classifier/regressor\n",
      "Loading Pytorch checkpoint\n",
      "train data size: 178, validation data size: 0\n"
     ]
    },
    {
     "name": "stderr",
     "output_type": "stream",
     "text": [
      "Training  : 100%|██████████| 6/6 [00:02<00:00,  2.62it/s, loss=0.893]\n",
      "Training  : 100%|██████████| 6/6 [00:02<00:00,  2.65it/s, loss=0.482]\n",
      "Training  : 100%|██████████| 6/6 [00:02<00:00,  2.68it/s, loss=0.323]\n",
      "Training  : 100%|██████████| 6/6 [00:02<00:00,  2.68it/s, loss=0.217]\n",
      "Training  : 100%|██████████| 6/6 [00:02<00:00,  2.56it/s, loss=0.203]\n",
      "Training  : 100%|██████████| 6/6 [00:02<00:00,  2.64it/s, loss=0.171]\n",
      "Training  : 100%|██████████| 6/6 [00:02<00:00,  2.67it/s, loss=0.201]\n",
      "Training  : 100%|██████████| 6/6 [00:02<00:00,  2.61it/s, loss=0.169] \n",
      "Training  : 100%|██████████| 6/6 [00:02<00:00,  2.67it/s, loss=0.184]\n",
      "Training  : 100%|██████████| 6/6 [00:02<00:00,  2.66it/s, loss=0.188] \n",
      "Training  : 100%|██████████| 6/6 [00:02<00:00,  2.55it/s, loss=0.194]\n",
      "Training  : 100%|██████████| 6/6 [00:02<00:00,  2.67it/s, loss=0.155] \n",
      "Training  : 100%|██████████| 6/6 [00:02<00:00,  2.68it/s, loss=0.129] \n",
      "Training  : 100%|██████████| 6/6 [00:02<00:00,  2.69it/s, loss=0.143]\n",
      "Training  : 100%|██████████| 6/6 [00:02<00:00,  2.69it/s, loss=0.136] \n",
      "Training  : 100%|██████████| 6/6 [00:02<00:00,  2.54it/s, loss=0.131] \n",
      "Training  : 100%|██████████| 6/6 [00:02<00:00,  2.64it/s, loss=0.101] \n",
      "Training  : 100%|██████████| 6/6 [00:02<00:00,  2.65it/s, loss=0.105] \n",
      "Training  : 100%|██████████| 6/6 [00:02<00:00,  2.60it/s, loss=0.0978]\n",
      "Training  : 100%|██████████| 6/6 [00:02<00:00,  2.68it/s, loss=0.0995]\n",
      "Training  : 100%|██████████| 6/6 [00:02<00:00,  2.64it/s, loss=0.0886]\n",
      "Training  : 100%|██████████| 6/6 [00:02<00:00,  2.53it/s, loss=0.0749]\n",
      "Training  : 100%|██████████| 6/6 [00:02<00:00,  2.68it/s, loss=0.0791]\n",
      "Training  : 100%|██████████| 6/6 [00:02<00:00,  2.66it/s, loss=0.0688]\n",
      "Training  : 100%|██████████| 6/6 [00:02<00:00,  2.66it/s, loss=0.0741] \n",
      "Training  : 100%|██████████| 6/6 [00:02<00:00,  2.69it/s, loss=0.0651]\n",
      "Training  : 100%|██████████| 6/6 [00:02<00:00,  2.69it/s, loss=0.0733]\n",
      "Training  : 100%|██████████| 6/6 [00:02<00:00,  2.63it/s, loss=0.133] \n",
      "Training  : 100%|██████████| 6/6 [00:02<00:00,  2.69it/s, loss=0.102] \n",
      "Training  : 100%|██████████| 6/6 [00:02<00:00,  2.66it/s, loss=0.104]\n",
      "Training  : 100%|██████████| 6/6 [00:02<00:00,  2.65it/s, loss=0.0886]\n",
      "Training  : 100%|██████████| 6/6 [00:02<00:00,  2.66it/s, loss=0.0794]\n",
      "Training  : 100%|██████████| 6/6 [00:02<00:00,  2.62it/s, loss=0.0789]\n",
      "Training  : 100%|██████████| 6/6 [00:02<00:00,  2.52it/s, loss=0.1]   \n",
      "Training  : 100%|██████████| 6/6 [00:02<00:00,  2.54it/s, loss=0.086] \n",
      "Training  : 100%|██████████| 6/6 [00:02<00:00,  2.69it/s, loss=0.0995]\n",
      "Training  : 100%|██████████| 6/6 [00:02<00:00,  2.52it/s, loss=0.0807]\n",
      "Training  : 100%|██████████| 6/6 [00:02<00:00,  2.67it/s, loss=0.0705]\n",
      "Training  : 100%|██████████| 6/6 [00:02<00:00,  2.62it/s, loss=0.0566]\n",
      "Training  : 100%|██████████| 6/6 [00:02<00:00,  2.67it/s, loss=0.0711]\n",
      "Training  : 100%|██████████| 6/6 [00:02<00:00,  2.60it/s, loss=0.0616]\n",
      "Training  : 100%|██████████| 6/6 [00:02<00:00,  2.61it/s, loss=0.0664]\n",
      "Training  : 100%|██████████| 6/6 [00:02<00:00,  2.70it/s, loss=0.0634]\n",
      "Training  : 100%|██████████| 6/6 [00:02<00:00,  2.54it/s, loss=0.0651]\n",
      "Training  : 100%|██████████| 6/6 [00:02<00:00,  2.61it/s, loss=0.0633]\n",
      "Training  : 100%|██████████| 6/6 [00:02<00:00,  2.67it/s, loss=0.0683]\n",
      "Training  : 100%|██████████| 6/6 [00:02<00:00,  2.52it/s, loss=0.0616]\n",
      "Training  : 100%|██████████| 6/6 [00:02<00:00,  2.58it/s, loss=0.0704] \n",
      "Training  : 100%|██████████| 6/6 [00:02<00:00,  2.53it/s, loss=0.0719]\n",
      "Training  : 100%|██████████| 6/6 [00:02<00:00,  2.68it/s, loss=0.0589]\n",
      "Predicting: 100%|██████████| 12/12 [00:00<00:00, 16.38it/s]\n"
     ]
    },
    {
     "name": "stdout",
     "output_type": "stream",
     "text": [
      "Building sklearn text classifier...\n",
      "Loading bert-base-uncased model...\n",
      "Defaulting to linear classifier/regressor\n",
      "Loading Pytorch checkpoint\n",
      "train data size: 178, validation data size: 0\n"
     ]
    },
    {
     "name": "stderr",
     "output_type": "stream",
     "text": [
      "Training  : 100%|██████████| 6/6 [00:02<00:00,  2.61it/s, loss=0.895]\n",
      "Training  : 100%|██████████| 6/6 [00:02<00:00,  2.64it/s, loss=0.502]\n",
      "Training  : 100%|██████████| 6/6 [00:02<00:00,  2.61it/s, loss=0.298]\n",
      "Training  : 100%|██████████| 6/6 [00:02<00:00,  2.61it/s, loss=0.234]\n",
      "Training  : 100%|██████████| 6/6 [00:02<00:00,  2.62it/s, loss=0.252]\n",
      "Training  : 100%|██████████| 6/6 [00:02<00:00,  2.61it/s, loss=0.198] \n",
      "Training  : 100%|██████████| 6/6 [00:02<00:00,  2.60it/s, loss=0.258]\n",
      "Training  : 100%|██████████| 6/6 [00:02<00:00,  2.62it/s, loss=0.206] \n",
      "Training  : 100%|██████████| 6/6 [00:02<00:00,  2.59it/s, loss=0.173]\n",
      "Training  : 100%|██████████| 6/6 [00:02<00:00,  2.49it/s, loss=0.165]\n",
      "Training  : 100%|██████████| 6/6 [00:02<00:00,  2.62it/s, loss=0.169]\n",
      "Training  : 100%|██████████| 6/6 [00:02<00:00,  2.62it/s, loss=0.138] \n",
      "Training  : 100%|██████████| 6/6 [00:02<00:00,  2.62it/s, loss=0.151]\n",
      "Training  : 100%|██████████| 6/6 [00:02<00:00,  2.60it/s, loss=0.154] \n",
      "Training  : 100%|██████████| 6/6 [00:02<00:00,  2.48it/s, loss=0.148] \n",
      "Training  : 100%|██████████| 6/6 [00:02<00:00,  2.56it/s, loss=0.148] \n",
      "Training  : 100%|██████████| 6/6 [00:02<00:00,  2.56it/s, loss=0.15]  \n",
      "Training  : 100%|██████████| 6/6 [00:02<00:00,  2.49it/s, loss=0.141] \n",
      "Training  : 100%|██████████| 6/6 [00:02<00:00,  2.58it/s, loss=0.133]\n",
      "Training  : 100%|██████████| 6/6 [00:02<00:00,  2.56it/s, loss=0.146] \n",
      "Training  : 100%|██████████| 6/6 [00:02<00:00,  2.61it/s, loss=0.144] \n",
      "Training  : 100%|██████████| 6/6 [00:02<00:00,  2.62it/s, loss=0.131] \n",
      "Training  : 100%|██████████| 6/6 [00:02<00:00,  2.62it/s, loss=0.12] \n",
      "Training  : 100%|██████████| 6/6 [00:02<00:00,  2.60it/s, loss=0.131] \n",
      "Training  : 100%|██████████| 6/6 [00:02<00:00,  2.62it/s, loss=0.118] \n",
      "Training  : 100%|██████████| 6/6 [00:02<00:00,  2.60it/s, loss=0.127] \n",
      "Training  : 100%|██████████| 6/6 [00:02<00:00,  2.60it/s, loss=0.123] \n",
      "Training  : 100%|██████████| 6/6 [00:02<00:00,  2.59it/s, loss=0.111]\n",
      "Training  : 100%|██████████| 6/6 [00:02<00:00,  2.59it/s, loss=0.118]\n",
      "Training  : 100%|██████████| 6/6 [00:02<00:00,  2.62it/s, loss=0.115] \n",
      "Training  : 100%|██████████| 6/6 [00:02<00:00,  2.61it/s, loss=0.12]  \n",
      "Training  : 100%|██████████| 6/6 [00:02<00:00,  2.55it/s, loss=0.115] \n",
      "Training  : 100%|██████████| 6/6 [00:02<00:00,  2.56it/s, loss=0.106]\n",
      "Training  : 100%|██████████| 6/6 [00:02<00:00,  2.49it/s, loss=0.117] \n",
      "Training  : 100%|██████████| 6/6 [00:02<00:00,  2.53it/s, loss=0.109] \n",
      "Training  : 100%|██████████| 6/6 [00:02<00:00,  2.64it/s, loss=0.13] \n",
      "Training  : 100%|██████████| 6/6 [00:02<00:00,  2.51it/s, loss=0.119] \n",
      "Training  : 100%|██████████| 6/6 [00:02<00:00,  2.43it/s, loss=0.113] \n",
      "Training  : 100%|██████████| 6/6 [00:02<00:00,  2.57it/s, loss=0.118] \n",
      "Training  : 100%|██████████| 6/6 [00:02<00:00,  2.53it/s, loss=0.11] \n",
      "Training  : 100%|██████████| 6/6 [00:02<00:00,  2.61it/s, loss=0.117] \n",
      "Training  : 100%|██████████| 6/6 [00:02<00:00,  2.52it/s, loss=0.115]\n",
      "Training  : 100%|██████████| 6/6 [00:02<00:00,  2.60it/s, loss=0.103]\n",
      "Training  : 100%|██████████| 6/6 [00:02<00:00,  2.55it/s, loss=0.104]\n",
      "Training  : 100%|██████████| 6/6 [00:02<00:00,  2.47it/s, loss=0.115]\n",
      "Training  : 100%|██████████| 6/6 [00:02<00:00,  2.48it/s, loss=0.1]  \n",
      "Training  : 100%|██████████| 6/6 [00:02<00:00,  2.61it/s, loss=0.11]  \n",
      "Training  : 100%|██████████| 6/6 [00:02<00:00,  2.58it/s, loss=0.0992]\n",
      "Training  : 100%|██████████| 6/6 [00:02<00:00,  2.60it/s, loss=0.124]\n",
      "Training  : 100%|██████████| 6/6 [00:02<00:00,  2.61it/s, loss=0.109] \n",
      "Predicting: 100%|██████████| 12/12 [00:00<00:00, 15.38it/s]\n"
     ]
    },
    {
     "name": "stdout",
     "output_type": "stream",
     "text": [
      "Building sklearn text classifier...\n",
      "Loading bert-base-uncased model...\n",
      "Defaulting to linear classifier/regressor\n",
      "Loading Pytorch checkpoint\n",
      "train data size: 178, validation data size: 0\n"
     ]
    },
    {
     "name": "stderr",
     "output_type": "stream",
     "text": [
      "Training  : 100%|██████████| 6/6 [00:02<00:00,  2.55it/s, loss=0.902]\n",
      "Training  : 100%|██████████| 6/6 [00:02<00:00,  2.52it/s, loss=0.513]\n",
      "Training  : 100%|██████████| 6/6 [00:02<00:00,  2.53it/s, loss=0.34] \n",
      "Training  : 100%|██████████| 6/6 [00:02<00:00,  2.54it/s, loss=0.252]\n",
      "Training  : 100%|██████████| 6/6 [00:02<00:00,  2.57it/s, loss=0.28] \n",
      "Training  : 100%|██████████| 6/6 [00:02<00:00,  2.55it/s, loss=0.207] \n",
      "Training  : 100%|██████████| 6/6 [00:02<00:00,  2.44it/s, loss=0.218]\n",
      "Training  : 100%|██████████| 6/6 [00:02<00:00,  2.53it/s, loss=0.235] \n",
      "Training  : 100%|██████████| 6/6 [00:02<00:00,  2.57it/s, loss=0.181]\n",
      "Training  : 100%|██████████| 6/6 [00:02<00:00,  2.56it/s, loss=0.211]\n",
      "Training  : 100%|██████████| 6/6 [00:02<00:00,  2.49it/s, loss=0.18] \n",
      "Training  : 100%|██████████| 6/6 [00:02<00:00,  2.56it/s, loss=0.162]\n",
      "Training  : 100%|██████████| 6/6 [00:02<00:00,  2.45it/s, loss=0.16] \n",
      "Training  : 100%|██████████| 6/6 [00:02<00:00,  2.56it/s, loss=0.152] \n",
      "Training  : 100%|██████████| 6/6 [00:02<00:00,  2.53it/s, loss=0.154] \n",
      "Training  : 100%|██████████| 6/6 [00:02<00:00,  2.57it/s, loss=0.149] \n",
      "Training  : 100%|██████████| 6/6 [00:02<00:00,  2.57it/s, loss=0.143] \n",
      "Training  : 100%|██████████| 6/6 [00:02<00:00,  2.59it/s, loss=0.125] \n",
      "Training  : 100%|██████████| 6/6 [00:02<00:00,  2.54it/s, loss=0.116]\n",
      "Training  : 100%|██████████| 6/6 [00:02<00:00,  2.47it/s, loss=0.108] \n",
      "Training  : 100%|██████████| 6/6 [00:02<00:00,  2.58it/s, loss=0.142]\n",
      "Training  : 100%|██████████| 6/6 [00:02<00:00,  2.61it/s, loss=0.108] \n",
      "Training  : 100%|██████████| 6/6 [00:02<00:00,  2.57it/s, loss=0.116]\n",
      "Training  : 100%|██████████| 6/6 [00:02<00:00,  2.52it/s, loss=0.129] \n",
      "Training  : 100%|██████████| 6/6 [00:02<00:00,  2.50it/s, loss=0.11] \n",
      "Training  : 100%|██████████| 6/6 [00:02<00:00,  2.43it/s, loss=0.122] \n",
      "Training  : 100%|██████████| 6/6 [00:02<00:00,  2.58it/s, loss=0.114] \n",
      "Training  : 100%|██████████| 6/6 [00:02<00:00,  2.51it/s, loss=0.116] \n",
      "Training  : 100%|██████████| 6/6 [00:02<00:00,  2.57it/s, loss=0.12] \n",
      "Training  : 100%|██████████| 6/6 [00:02<00:00,  2.59it/s, loss=0.119] \n",
      "Training  : 100%|██████████| 6/6 [00:02<00:00,  2.52it/s, loss=0.113] \n",
      "Training  : 100%|██████████| 6/6 [00:02<00:00,  2.42it/s, loss=0.113] \n",
      "Training  : 100%|██████████| 6/6 [00:02<00:00,  2.59it/s, loss=0.112]\n",
      "Training  : 100%|██████████| 6/6 [00:02<00:00,  2.47it/s, loss=0.111] \n",
      "Training  : 100%|██████████| 6/6 [00:02<00:00,  2.48it/s, loss=0.106]\n",
      "Training  : 100%|██████████| 6/6 [00:02<00:00,  2.59it/s, loss=0.11]  \n",
      "Training  : 100%|██████████| 6/6 [00:02<00:00,  2.53it/s, loss=0.118]\n",
      "Training  : 100%|██████████| 6/6 [00:02<00:00,  2.50it/s, loss=0.121] \n",
      "Training  : 100%|██████████| 6/6 [00:02<00:00,  2.46it/s, loss=0.109] \n",
      "Training  : 100%|██████████| 6/6 [00:02<00:00,  2.52it/s, loss=0.111]\n",
      "Training  : 100%|██████████| 6/6 [00:02<00:00,  2.57it/s, loss=0.123] \n",
      "Training  : 100%|██████████| 6/6 [00:02<00:00,  2.58it/s, loss=0.113]\n",
      "Training  : 100%|██████████| 6/6 [00:02<00:00,  2.43it/s, loss=0.106]\n",
      "Training  : 100%|██████████| 6/6 [00:02<00:00,  2.45it/s, loss=0.113]\n",
      "Training  : 100%|██████████| 6/6 [00:02<00:00,  2.59it/s, loss=0.105]\n",
      "Training  : 100%|██████████| 6/6 [00:02<00:00,  2.58it/s, loss=0.105] \n",
      "Training  : 100%|██████████| 6/6 [00:02<00:00,  2.58it/s, loss=0.107] \n",
      "Training  : 100%|██████████| 6/6 [00:02<00:00,  2.52it/s, loss=0.0971]\n",
      "Training  : 100%|██████████| 6/6 [00:02<00:00,  2.57it/s, loss=0.101] \n",
      "Training  : 100%|██████████| 6/6 [00:02<00:00,  2.46it/s, loss=0.106]\n",
      "Predicting: 100%|██████████| 12/12 [00:00<00:00, 14.68it/s]\n"
     ]
    },
    {
     "name": "stdout",
     "output_type": "stream",
     "text": [
      "Building sklearn text classifier...\n",
      "Loading bert-base-uncased model...\n",
      "Defaulting to linear classifier/regressor\n",
      "Loading Pytorch checkpoint\n",
      "train data size: 178, validation data size: 0\n"
     ]
    },
    {
     "name": "stderr",
     "output_type": "stream",
     "text": [
      "Training  : 100%|██████████| 6/6 [00:02<00:00,  2.44it/s, loss=0.86] \n",
      "Training  : 100%|██████████| 6/6 [00:02<00:00,  2.57it/s, loss=0.416]\n",
      "Training  : 100%|██████████| 6/6 [00:02<00:00,  2.56it/s, loss=0.306]\n",
      "Training  : 100%|██████████| 6/6 [00:02<00:00,  2.52it/s, loss=0.22] \n",
      "Training  : 100%|██████████| 6/6 [00:02<00:00,  2.60it/s, loss=0.216]\n",
      "Training  : 100%|██████████| 6/6 [00:02<00:00,  2.58it/s, loss=0.233]\n",
      "Training  : 100%|██████████| 6/6 [00:02<00:00,  2.55it/s, loss=0.194]\n",
      "Training  : 100%|██████████| 6/6 [00:02<00:00,  2.54it/s, loss=0.174]\n",
      "Training  : 100%|██████████| 6/6 [00:02<00:00,  2.57it/s, loss=0.177]\n",
      "Training  : 100%|██████████| 6/6 [00:02<00:00,  2.58it/s, loss=0.134] \n",
      "Training  : 100%|██████████| 6/6 [00:02<00:00,  2.50it/s, loss=0.16] \n",
      "Training  : 100%|██████████| 6/6 [00:02<00:00,  2.57it/s, loss=0.133] \n",
      "Training  : 100%|██████████| 6/6 [00:02<00:00,  2.58it/s, loss=0.0865]\n",
      "Training  : 100%|██████████| 6/6 [00:02<00:00,  2.58it/s, loss=0.0737]\n",
      "Training  : 100%|██████████| 6/6 [00:02<00:00,  2.55it/s, loss=0.0813]\n",
      "Training  : 100%|██████████| 6/6 [00:02<00:00,  2.57it/s, loss=0.0709]\n",
      "Training  : 100%|██████████| 6/6 [00:02<00:00,  2.57it/s, loss=0.0707]\n",
      "Training  : 100%|██████████| 6/6 [00:02<00:00,  2.50it/s, loss=0.09]  \n",
      "Training  : 100%|██████████| 6/6 [00:02<00:00,  2.55it/s, loss=0.0605]\n",
      "Training  : 100%|██████████| 6/6 [00:02<00:00,  2.42it/s, loss=0.0958]\n",
      "Training  : 100%|██████████| 6/6 [00:02<00:00,  2.48it/s, loss=0.0722]\n",
      "Training  : 100%|██████████| 6/6 [00:02<00:00,  2.45it/s, loss=0.067] \n",
      "Training  : 100%|██████████| 6/6 [00:02<00:00,  2.50it/s, loss=0.0743]\n",
      "Training  : 100%|██████████| 6/6 [00:02<00:00,  2.43it/s, loss=0.0627]\n",
      "Training  : 100%|██████████| 6/6 [00:02<00:00,  2.56it/s, loss=0.0658] \n",
      "Training  : 100%|██████████| 6/6 [00:02<00:00,  2.58it/s, loss=0.0624]\n",
      "Training  : 100%|██████████| 6/6 [00:02<00:00,  2.46it/s, loss=0.0729]\n",
      "Training  : 100%|██████████| 6/6 [00:02<00:00,  2.45it/s, loss=0.0639]\n",
      "Training  : 100%|██████████| 6/6 [00:02<00:00,  2.57it/s, loss=0.0685] \n",
      "Training  : 100%|██████████| 6/6 [00:02<00:00,  2.52it/s, loss=0.0588]\n",
      "Training  : 100%|██████████| 6/6 [00:02<00:00,  2.59it/s, loss=0.0638]\n",
      "Training  : 100%|██████████| 6/6 [00:02<00:00,  2.59it/s, loss=0.0646]\n",
      "Training  : 100%|██████████| 6/6 [00:02<00:00,  2.58it/s, loss=0.0571]\n",
      "Training  : 100%|██████████| 6/6 [00:02<00:00,  2.55it/s, loss=0.0762]\n",
      "Training  : 100%|██████████| 6/6 [00:02<00:00,  2.56it/s, loss=0.0679]\n",
      "Training  : 100%|██████████| 6/6 [00:02<00:00,  2.51it/s, loss=0.0803]\n",
      "Training  : 100%|██████████| 6/6 [00:02<00:00,  2.50it/s, loss=0.0693]\n",
      "Training  : 100%|██████████| 6/6 [00:02<00:00,  2.57it/s, loss=0.0671]\n",
      "Training  : 100%|██████████| 6/6 [00:02<00:00,  2.44it/s, loss=0.0558]\n",
      "Training  : 100%|██████████| 6/6 [00:02<00:00,  2.56it/s, loss=0.0641]\n",
      "Training  : 100%|██████████| 6/6 [00:02<00:00,  2.53it/s, loss=0.0571]\n",
      "Training  : 100%|██████████| 6/6 [00:02<00:00,  2.58it/s, loss=0.0612]\n",
      "Training  : 100%|██████████| 6/6 [00:02<00:00,  2.56it/s, loss=0.061] \n",
      "Training  : 100%|██████████| 6/6 [00:02<00:00,  2.52it/s, loss=0.0599]\n",
      "Training  : 100%|██████████| 6/6 [00:02<00:00,  2.56it/s, loss=0.0645]\n",
      "Training  : 100%|██████████| 6/6 [00:02<00:00,  2.57it/s, loss=0.0612]\n",
      "Training  : 100%|██████████| 6/6 [00:02<00:00,  2.57it/s, loss=0.0558]\n",
      "Training  : 100%|██████████| 6/6 [00:02<00:00,  2.55it/s, loss=0.062]  \n",
      "Training  : 100%|██████████| 6/6 [00:02<00:00,  2.58it/s, loss=0.0685]\n",
      "Training  : 100%|██████████| 6/6 [00:02<00:00,  2.57it/s, loss=0.0583]\n",
      "Predicting: 100%|██████████| 12/12 [00:00<00:00, 14.76it/s]\n"
     ]
    },
    {
     "name": "stdout",
     "output_type": "stream",
     "text": [
      "Building sklearn text classifier...\n",
      "Loading bert-base-uncased model...\n",
      "Defaulting to linear classifier/regressor\n",
      "Loading Pytorch checkpoint\n",
      "train data size: 178, validation data size: 0\n"
     ]
    },
    {
     "name": "stderr",
     "output_type": "stream",
     "text": [
      "Training  : 100%|██████████| 6/6 [00:02<00:00,  2.52it/s, loss=0.865]\n",
      "Training  : 100%|██████████| 6/6 [00:02<00:00,  2.50it/s, loss=0.427]\n",
      "Training  : 100%|██████████| 6/6 [00:02<00:00,  2.52it/s, loss=0.284]\n",
      "Training  : 100%|██████████| 6/6 [00:02<00:00,  2.51it/s, loss=0.247]\n",
      "Training  : 100%|██████████| 6/6 [00:02<00:00,  2.52it/s, loss=0.283]\n",
      "Training  : 100%|██████████| 6/6 [00:02<00:00,  2.39it/s, loss=0.301]\n",
      "Training  : 100%|██████████| 6/6 [00:02<00:00,  2.49it/s, loss=0.247]\n",
      "Training  : 100%|██████████| 6/6 [00:02<00:00,  2.41it/s, loss=0.208] \n",
      "Training  : 100%|██████████| 6/6 [00:02<00:00,  2.52it/s, loss=0.171]\n",
      "Training  : 100%|██████████| 6/6 [00:02<00:00,  2.50it/s, loss=0.169]\n",
      "Training  : 100%|██████████| 6/6 [00:02<00:00,  2.42it/s, loss=0.198]\n",
      "Training  : 100%|██████████| 6/6 [00:02<00:00,  2.46it/s, loss=0.151] \n",
      "Training  : 100%|██████████| 6/6 [00:02<00:00,  2.51it/s, loss=0.171]\n",
      "Training  : 100%|██████████| 6/6 [00:02<00:00,  2.50it/s, loss=0.162] \n",
      "Training  : 100%|██████████| 6/6 [00:02<00:00,  2.51it/s, loss=0.175]\n",
      "Training  : 100%|██████████| 6/6 [00:02<00:00,  2.40it/s, loss=0.153]\n",
      "Training  : 100%|██████████| 6/6 [00:02<00:00,  2.53it/s, loss=0.227]\n",
      "Training  : 100%|██████████| 6/6 [00:02<00:00,  2.50it/s, loss=0.148] \n",
      "Training  : 100%|██████████| 6/6 [00:02<00:00,  2.48it/s, loss=0.124] \n",
      "Training  : 100%|██████████| 6/6 [00:02<00:00,  2.51it/s, loss=0.147] \n",
      "Training  : 100%|██████████| 6/6 [00:02<00:00,  2.47it/s, loss=0.138] \n",
      "Training  : 100%|██████████| 6/6 [00:02<00:00,  2.43it/s, loss=0.124] \n",
      "Training  : 100%|██████████| 6/6 [00:02<00:00,  2.54it/s, loss=0.127]\n",
      "Training  : 100%|██████████| 6/6 [00:02<00:00,  2.52it/s, loss=0.135] \n",
      "Training  : 100%|██████████| 6/6 [00:02<00:00,  2.52it/s, loss=0.124] \n",
      "Training  : 100%|██████████| 6/6 [00:02<00:00,  2.52it/s, loss=0.127] \n",
      "Training  : 100%|██████████| 6/6 [00:02<00:00,  2.51it/s, loss=0.125] \n",
      "Training  : 100%|██████████| 6/6 [00:02<00:00,  2.52it/s, loss=0.111]\n",
      "Training  : 100%|██████████| 6/6 [00:02<00:00,  2.48it/s, loss=0.115] \n",
      "Training  : 100%|██████████| 6/6 [00:02<00:00,  2.51it/s, loss=0.107]\n",
      "Training  : 100%|██████████| 6/6 [00:02<00:00,  2.49it/s, loss=0.123] \n",
      "Training  : 100%|██████████| 6/6 [00:02<00:00,  2.56it/s, loss=0.105] \n",
      "Training  : 100%|██████████| 6/6 [00:02<00:00,  2.57it/s, loss=0.102]\n",
      "Training  : 100%|██████████| 6/6 [00:02<00:00,  2.49it/s, loss=0.116]\n",
      "Training  : 100%|██████████| 6/6 [00:02<00:00,  2.57it/s, loss=0.105]\n",
      "Training  : 100%|██████████| 6/6 [00:02<00:00,  2.55it/s, loss=0.121] \n",
      "Training  : 100%|██████████| 6/6 [00:02<00:00,  2.56it/s, loss=0.119] \n",
      "Training  : 100%|██████████| 6/6 [00:02<00:00,  2.58it/s, loss=0.109] \n",
      "Training  : 100%|██████████| 6/6 [00:02<00:00,  2.58it/s, loss=0.109] \n",
      "Training  : 100%|██████████| 6/6 [00:02<00:00,  2.58it/s, loss=0.104] \n",
      "Training  : 100%|██████████| 6/6 [00:02<00:00,  2.52it/s, loss=0.117] \n",
      "Training  : 100%|██████████| 6/6 [00:02<00:00,  2.42it/s, loss=0.111]\n",
      "Training  : 100%|██████████| 6/6 [00:02<00:00,  2.44it/s, loss=0.103]\n",
      "Training  : 100%|██████████| 6/6 [00:02<00:00,  2.53it/s, loss=0.103]\n",
      "Training  : 100%|██████████| 6/6 [00:02<00:00,  2.54it/s, loss=0.114] \n",
      "Training  : 100%|██████████| 6/6 [00:02<00:00,  2.54it/s, loss=0.098]\n",
      "Training  : 100%|██████████| 6/6 [00:02<00:00,  2.55it/s, loss=0.101] \n",
      "Training  : 100%|██████████| 6/6 [00:02<00:00,  2.47it/s, loss=0.0987]\n",
      "Training  : 100%|██████████| 6/6 [00:02<00:00,  2.55it/s, loss=0.131] \n",
      "Training  : 100%|██████████| 6/6 [00:02<00:00,  2.59it/s, loss=0.113] \n",
      "Predicting: 100%|██████████| 12/12 [00:00<00:00, 14.36it/s]\n"
     ]
    },
    {
     "name": "stdout",
     "output_type": "stream",
     "text": [
      "Building sklearn text classifier...\n",
      "Loading bert-base-uncased model...\n",
      "Defaulting to linear classifier/regressor\n",
      "Loading Pytorch checkpoint\n",
      "train data size: 178, validation data size: 0\n"
     ]
    },
    {
     "name": "stderr",
     "output_type": "stream",
     "text": [
      "Training  : 100%|██████████| 6/6 [00:02<00:00,  2.49it/s, loss=0.875]\n",
      "Training  : 100%|██████████| 6/6 [00:02<00:00,  2.50it/s, loss=0.447]\n",
      "Training  : 100%|██████████| 6/6 [00:02<00:00,  2.47it/s, loss=0.302]\n",
      "Training  : 100%|██████████| 6/6 [00:02<00:00,  2.53it/s, loss=0.258]\n",
      "Training  : 100%|██████████| 6/6 [00:02<00:00,  2.48it/s, loss=0.463]\n",
      "Training  : 100%|██████████| 6/6 [00:02<00:00,  2.54it/s, loss=0.256]\n",
      "Training  : 100%|██████████| 6/6 [00:02<00:00,  2.53it/s, loss=0.196]\n",
      "Training  : 100%|██████████| 6/6 [00:02<00:00,  2.51it/s, loss=0.214] \n",
      "Training  : 100%|██████████| 6/6 [00:02<00:00,  2.44it/s, loss=0.161]\n",
      "Training  : 100%|██████████| 6/6 [00:02<00:00,  2.50it/s, loss=0.172]\n",
      "Training  : 100%|██████████| 6/6 [00:02<00:00,  2.49it/s, loss=0.129]\n",
      "Training  : 100%|██████████| 6/6 [00:02<00:00,  2.51it/s, loss=0.186]\n",
      "Training  : 100%|██████████| 6/6 [00:02<00:00,  2.47it/s, loss=0.172] \n",
      "Training  : 100%|██████████| 6/6 [00:02<00:00,  2.51it/s, loss=0.161] \n",
      "Training  : 100%|██████████| 6/6 [00:02<00:00,  2.51it/s, loss=0.159] \n",
      "Training  : 100%|██████████| 6/6 [00:02<00:00,  2.42it/s, loss=0.15] \n",
      "Training  : 100%|██████████| 6/6 [00:02<00:00,  2.52it/s, loss=0.17] \n",
      "Training  : 100%|██████████| 6/6 [00:02<00:00,  2.49it/s, loss=0.127] \n",
      "Training  : 100%|██████████| 6/6 [00:02<00:00,  2.44it/s, loss=0.134]\n",
      "Training  : 100%|██████████| 6/6 [00:02<00:00,  2.47it/s, loss=0.124] \n",
      "Training  : 100%|██████████| 6/6 [00:02<00:00,  2.41it/s, loss=0.147] \n",
      "Training  : 100%|██████████| 6/6 [00:02<00:00,  2.50it/s, loss=0.125] \n",
      "Training  : 100%|██████████| 6/6 [00:02<00:00,  2.53it/s, loss=0.132]\n",
      "Training  : 100%|██████████| 6/6 [00:02<00:00,  2.49it/s, loss=0.138]\n",
      "Training  : 100%|██████████| 6/6 [00:02<00:00,  2.41it/s, loss=0.125]\n",
      "Training  : 100%|██████████| 6/6 [00:02<00:00,  2.42it/s, loss=0.131] \n",
      "Training  : 100%|██████████| 6/6 [00:02<00:00,  2.52it/s, loss=0.119] \n",
      "Training  : 100%|██████████| 6/6 [00:02<00:00,  2.41it/s, loss=0.132]\n",
      "Training  : 100%|██████████| 6/6 [00:02<00:00,  2.53it/s, loss=0.124] \n",
      "Training  : 100%|██████████| 6/6 [00:02<00:00,  2.51it/s, loss=0.128] \n",
      "Training  : 100%|██████████| 6/6 [00:02<00:00,  2.53it/s, loss=0.139] \n",
      "Training  : 100%|██████████| 6/6 [00:02<00:00,  2.45it/s, loss=0.127] \n",
      "Training  : 100%|██████████| 6/6 [00:02<00:00,  2.39it/s, loss=0.124]\n",
      "Training  : 100%|██████████| 6/6 [00:02<00:00,  2.53it/s, loss=0.133] \n",
      "Training  : 100%|██████████| 6/6 [00:02<00:00,  2.52it/s, loss=0.119]\n",
      "Training  : 100%|██████████| 6/6 [00:02<00:00,  2.52it/s, loss=0.121]\n",
      "Training  : 100%|██████████| 6/6 [00:02<00:00,  2.44it/s, loss=0.128]\n",
      "Training  : 100%|██████████| 6/6 [00:02<00:00,  2.43it/s, loss=0.128] \n",
      "Training  : 100%|██████████| 6/6 [00:02<00:00,  2.52it/s, loss=0.119] \n",
      "Training  : 100%|██████████| 6/6 [00:02<00:00,  2.51it/s, loss=0.122]\n",
      "Training  : 100%|██████████| 6/6 [00:02<00:00,  2.44it/s, loss=0.14]  \n",
      "Training  : 100%|██████████| 6/6 [00:02<00:00,  2.48it/s, loss=0.124]\n",
      "Training  : 100%|██████████| 6/6 [00:02<00:00,  2.52it/s, loss=0.118]\n",
      "Training  : 100%|██████████| 6/6 [00:02<00:00,  2.51it/s, loss=0.122]\n",
      "Training  : 100%|██████████| 6/6 [00:02<00:00,  2.52it/s, loss=0.124]\n",
      "Training  : 100%|██████████| 6/6 [00:02<00:00,  2.52it/s, loss=0.117] \n",
      "Training  : 100%|██████████| 6/6 [00:02<00:00,  2.49it/s, loss=0.12] \n",
      "Training  : 100%|██████████| 6/6 [00:02<00:00,  2.47it/s, loss=0.119]\n",
      "Training  : 100%|██████████| 6/6 [00:02<00:00,  2.40it/s, loss=0.118] \n",
      "Training  : 100%|██████████| 6/6 [00:02<00:00,  2.52it/s, loss=0.12] \n",
      "Predicting: 100%|██████████| 12/12 [00:00<00:00, 14.04it/s]\n"
     ]
    },
    {
     "name": "stdout",
     "output_type": "stream",
     "text": [
      "Building sklearn text classifier...\n",
      "Loading bert-base-uncased model...\n",
      "Defaulting to linear classifier/regressor\n",
      "Loading Pytorch checkpoint\n",
      "train data size: 178, validation data size: 0\n"
     ]
    },
    {
     "name": "stderr",
     "output_type": "stream",
     "text": [
      "Training  : 100%|██████████| 6/6 [00:02<00:00,  2.47it/s, loss=0.924]\n",
      "Training  : 100%|██████████| 6/6 [00:02<00:00,  2.37it/s, loss=0.608]\n",
      "Training  : 100%|██████████| 6/6 [00:02<00:00,  2.54it/s, loss=0.367]\n",
      "Training  : 100%|██████████| 6/6 [00:02<00:00,  2.51it/s, loss=0.288]\n",
      "Training  : 100%|██████████| 6/6 [00:02<00:00,  2.51it/s, loss=0.221]\n",
      "Training  : 100%|██████████| 6/6 [00:02<00:00,  2.47it/s, loss=0.246]\n",
      "Training  : 100%|██████████| 6/6 [00:02<00:00,  2.54it/s, loss=0.209]\n",
      "Training  : 100%|██████████| 6/6 [00:02<00:00,  2.50it/s, loss=0.178]\n",
      "Training  : 100%|██████████| 6/6 [00:02<00:00,  2.50it/s, loss=0.183]\n",
      "Training  : 100%|██████████| 6/6 [00:02<00:00,  2.50it/s, loss=0.165] \n",
      "Training  : 100%|██████████| 6/6 [00:02<00:00,  2.39it/s, loss=0.189]\n",
      "Training  : 100%|██████████| 6/6 [00:02<00:00,  2.41it/s, loss=0.165] \n",
      "Training  : 100%|██████████| 6/6 [00:02<00:00,  2.46it/s, loss=0.183] \n",
      "Training  : 100%|██████████| 6/6 [00:02<00:00,  2.50it/s, loss=0.152] \n",
      "Training  : 100%|██████████| 6/6 [00:02<00:00,  2.52it/s, loss=0.164]\n",
      "Training  : 100%|██████████| 6/6 [00:02<00:00,  2.50it/s, loss=0.155]\n",
      "Training  : 100%|██████████| 6/6 [00:02<00:00,  2.51it/s, loss=0.14] \n",
      "Training  : 100%|██████████| 6/6 [00:02<00:00,  2.49it/s, loss=0.125] \n",
      "Training  : 100%|██████████| 6/6 [00:02<00:00,  2.38it/s, loss=0.11] \n",
      "Training  : 100%|██████████| 6/6 [00:02<00:00,  2.49it/s, loss=0.112] \n",
      "Training  : 100%|██████████| 6/6 [00:02<00:00,  2.50it/s, loss=0.081] \n",
      "Training  : 100%|██████████| 6/6 [00:02<00:00,  2.52it/s, loss=0.0825]\n",
      "Training  : 100%|██████████| 6/6 [00:02<00:00,  2.47it/s, loss=0.0859]\n",
      "Training  : 100%|██████████| 6/6 [00:02<00:00,  2.43it/s, loss=0.0796]\n",
      "Training  : 100%|██████████| 6/6 [00:02<00:00,  2.36it/s, loss=0.0752]\n",
      "Training  : 100%|██████████| 6/6 [00:02<00:00,  2.51it/s, loss=0.0637]\n",
      "Training  : 100%|██████████| 6/6 [00:02<00:00,  2.51it/s, loss=0.0785]\n",
      "Training  : 100%|██████████| 6/6 [00:02<00:00,  2.45it/s, loss=0.0736]\n",
      "Training  : 100%|██████████| 6/6 [00:02<00:00,  2.53it/s, loss=0.0724]\n",
      "Training  : 100%|██████████| 6/6 [00:02<00:00,  2.47it/s, loss=0.0647]\n",
      "Training  : 100%|██████████| 6/6 [00:02<00:00,  2.52it/s, loss=0.066] \n",
      "Training  : 100%|██████████| 6/6 [00:02<00:00,  2.38it/s, loss=0.0834]\n",
      "Training  : 100%|██████████| 6/6 [00:02<00:00,  2.53it/s, loss=0.0608]\n",
      "Training  : 100%|██████████| 6/6 [00:02<00:00,  2.39it/s, loss=0.0829]\n",
      "Training  : 100%|██████████| 6/6 [00:02<00:00,  2.49it/s, loss=0.0702]\n",
      "Training  : 100%|██████████| 6/6 [00:02<00:00,  2.45it/s, loss=0.0812]\n",
      "Training  : 100%|██████████| 6/6 [00:02<00:00,  2.49it/s, loss=0.0817]\n",
      "Training  : 100%|██████████| 6/6 [00:02<00:00,  2.50it/s, loss=0.0726]\n",
      "Training  : 100%|██████████| 6/6 [00:02<00:00,  2.51it/s, loss=0.0648]\n",
      "Training  : 100%|██████████| 6/6 [00:02<00:00,  2.52it/s, loss=0.0688]\n",
      "Training  : 100%|██████████| 6/6 [00:02<00:00,  2.48it/s, loss=0.0654]\n",
      "Training  : 100%|██████████| 6/6 [00:02<00:00,  2.49it/s, loss=0.0665]\n",
      "Training  : 100%|██████████| 6/6 [00:02<00:00,  2.48it/s, loss=0.0663]\n",
      "Training  : 100%|██████████| 6/6 [00:02<00:00,  2.54it/s, loss=0.0685]\n",
      "Training  : 100%|██████████| 6/6 [00:02<00:00,  2.49it/s, loss=0.0669]\n",
      "Training  : 100%|██████████| 6/6 [00:02<00:00,  2.48it/s, loss=0.0671]\n",
      "Training  : 100%|██████████| 6/6 [00:02<00:00,  2.48it/s, loss=0.0589]\n",
      "Training  : 100%|██████████| 6/6 [00:02<00:00,  2.44it/s, loss=0.0633] \n",
      "Training  : 100%|██████████| 6/6 [00:02<00:00,  2.46it/s, loss=0.0772]\n",
      "Training  : 100%|██████████| 6/6 [00:02<00:00,  2.41it/s, loss=0.0635]\n",
      "Predicting: 100%|██████████| 12/12 [00:00<00:00, 13.86it/s]\n"
     ]
    },
    {
     "name": "stdout",
     "output_type": "stream",
     "text": [
      "Building sklearn text classifier...\n",
      "Loading bert-base-uncased model...\n",
      "Defaulting to linear classifier/regressor\n",
      "Loading Pytorch checkpoint\n",
      "train data size: 178, validation data size: 0\n"
     ]
    },
    {
     "name": "stderr",
     "output_type": "stream",
     "text": [
      "Training  : 100%|██████████| 6/6 [00:02<00:00,  2.45it/s, loss=0.923]\n",
      "Training  : 100%|██████████| 6/6 [00:02<00:00,  2.51it/s, loss=0.609]\n",
      "Training  : 100%|██████████| 6/6 [00:02<00:00,  2.38it/s, loss=0.354]\n",
      "Training  : 100%|██████████| 6/6 [00:02<00:00,  2.43it/s, loss=0.264]\n",
      "Training  : 100%|██████████| 6/6 [00:02<00:00,  2.52it/s, loss=0.234]\n",
      "Training  : 100%|██████████| 6/6 [00:02<00:00,  2.40it/s, loss=0.21]  \n",
      "Training  : 100%|██████████| 6/6 [00:02<00:00,  2.52it/s, loss=0.247]\n",
      "Training  : 100%|██████████| 6/6 [00:02<00:00,  2.47it/s, loss=0.215]\n",
      "Training  : 100%|██████████| 6/6 [00:02<00:00,  2.49it/s, loss=0.204]\n",
      "Training  : 100%|██████████| 6/6 [00:02<00:00,  2.49it/s, loss=0.242]\n",
      "Training  : 100%|██████████| 6/6 [00:02<00:00,  2.51it/s, loss=0.233]\n",
      "Training  : 100%|██████████| 6/6 [00:02<00:00,  2.52it/s, loss=0.188]\n",
      "Training  : 100%|██████████| 6/6 [00:02<00:00,  2.50it/s, loss=0.238]\n",
      "Training  : 100%|██████████| 6/6 [00:02<00:00,  2.44it/s, loss=0.234] \n",
      "Training  : 100%|██████████| 6/6 [00:02<00:00,  2.51it/s, loss=0.209]\n",
      "Training  : 100%|██████████| 6/6 [00:02<00:00,  2.40it/s, loss=0.202]\n",
      "Training  : 100%|██████████| 6/6 [00:02<00:00,  2.46it/s, loss=0.194] \n",
      "Training  : 100%|██████████| 6/6 [00:02<00:00,  2.51it/s, loss=0.166] \n",
      "Training  : 100%|██████████| 6/6 [00:02<00:00,  2.38it/s, loss=0.152]\n",
      "Training  : 100%|██████████| 6/6 [00:02<00:00,  2.49it/s, loss=0.164] \n",
      "Training  : 100%|██████████| 6/6 [00:02<00:00,  2.53it/s, loss=0.143] \n",
      "Training  : 100%|██████████| 6/6 [00:02<00:00,  2.50it/s, loss=0.136] \n",
      "Training  : 100%|██████████| 6/6 [00:02<00:00,  2.37it/s, loss=0.129]\n",
      "Training  : 100%|██████████| 6/6 [00:02<00:00,  2.41it/s, loss=0.132]\n",
      "Training  : 100%|██████████| 6/6 [00:02<00:00,  2.44it/s, loss=0.119]\n",
      "Training  : 100%|██████████| 6/6 [00:02<00:00,  2.50it/s, loss=0.126] \n",
      "Training  : 100%|██████████| 6/6 [00:02<00:00,  2.45it/s, loss=0.118]\n",
      "Training  : 100%|██████████| 6/6 [00:02<00:00,  2.47it/s, loss=0.116]\n",
      "Training  : 100%|██████████| 6/6 [00:02<00:00,  2.52it/s, loss=0.126]\n",
      "Training  : 100%|██████████| 6/6 [00:02<00:00,  2.53it/s, loss=0.114] \n",
      "Training  : 100%|██████████| 6/6 [00:02<00:00,  2.50it/s, loss=0.116] \n",
      "Training  : 100%|██████████| 6/6 [00:02<00:00,  2.49it/s, loss=0.112]\n",
      "Training  : 100%|██████████| 6/6 [00:02<00:00,  2.49it/s, loss=0.101]\n",
      "Training  : 100%|██████████| 6/6 [00:02<00:00,  2.52it/s, loss=0.117] \n",
      "Training  : 100%|██████████| 6/6 [00:02<00:00,  2.49it/s, loss=0.109]\n",
      "Training  : 100%|██████████| 6/6 [00:02<00:00,  2.47it/s, loss=0.132]\n",
      "Training  : 100%|██████████| 6/6 [00:02<00:00,  2.42it/s, loss=0.118] \n",
      "Training  : 100%|██████████| 6/6 [00:02<00:00,  2.47it/s, loss=0.107] \n",
      "Training  : 100%|██████████| 6/6 [00:02<00:00,  2.51it/s, loss=0.123] \n",
      "Training  : 100%|██████████| 6/6 [00:02<00:00,  2.39it/s, loss=0.117]\n",
      "Training  : 100%|██████████| 6/6 [00:02<00:00,  2.49it/s, loss=0.114] \n",
      "Training  : 100%|██████████| 6/6 [00:02<00:00,  2.42it/s, loss=0.113]\n",
      "Training  : 100%|██████████| 6/6 [00:02<00:00,  2.43it/s, loss=0.1]  \n",
      "Training  : 100%|██████████| 6/6 [00:02<00:00,  2.37it/s, loss=0.105]\n",
      "Training  : 100%|██████████| 6/6 [00:02<00:00,  2.54it/s, loss=0.114] \n",
      "Training  : 100%|██████████| 6/6 [00:02<00:00,  2.51it/s, loss=0.0962]\n",
      "Training  : 100%|██████████| 6/6 [00:02<00:00,  2.48it/s, loss=0.108] \n",
      "Training  : 100%|██████████| 6/6 [00:02<00:00,  2.51it/s, loss=0.105]\n",
      "Training  : 100%|██████████| 6/6 [00:02<00:00,  2.54it/s, loss=0.109] \n",
      "Training  : 100%|██████████| 6/6 [00:02<00:00,  2.45it/s, loss=0.108] \n",
      "Predicting: 100%|██████████| 12/12 [00:00<00:00, 13.57it/s]\n"
     ]
    },
    {
     "name": "stdout",
     "output_type": "stream",
     "text": [
      "Building sklearn text classifier...\n",
      "Loading bert-base-uncased model...\n",
      "Defaulting to linear classifier/regressor\n",
      "Loading Pytorch checkpoint\n",
      "train data size: 178, validation data size: 0\n"
     ]
    },
    {
     "name": "stderr",
     "output_type": "stream",
     "text": [
      "Training  : 100%|██████████| 6/6 [00:02<00:00,  2.48it/s, loss=0.929]\n",
      "Training  : 100%|██████████| 6/6 [00:02<00:00,  2.41it/s, loss=0.631]\n",
      "Training  : 100%|██████████| 6/6 [00:02<00:00,  2.51it/s, loss=0.4]  \n",
      "Training  : 100%|██████████| 6/6 [00:02<00:00,  2.36it/s, loss=0.295]\n",
      "Training  : 100%|██████████| 6/6 [00:02<00:00,  2.41it/s, loss=0.258]\n",
      "Training  : 100%|██████████| 6/6 [00:02<00:00,  2.35it/s, loss=0.228] \n",
      "Training  : 100%|██████████| 6/6 [00:02<00:00,  2.51it/s, loss=0.235]\n",
      "Training  : 100%|██████████| 6/6 [00:02<00:00,  2.48it/s, loss=0.253]\n",
      "Training  : 100%|██████████| 6/6 [00:02<00:00,  2.46it/s, loss=0.213]\n",
      "Training  : 100%|██████████| 6/6 [00:02<00:00,  2.42it/s, loss=0.221]\n",
      "Training  : 100%|██████████| 6/6 [00:02<00:00,  2.43it/s, loss=0.215]\n",
      "Training  : 100%|██████████| 6/6 [00:02<00:00,  2.41it/s, loss=0.223]\n",
      "Training  : 100%|██████████| 6/6 [00:02<00:00,  2.49it/s, loss=0.217]\n",
      "Training  : 100%|██████████| 6/6 [00:02<00:00,  2.35it/s, loss=0.232]\n",
      "Training  : 100%|██████████| 6/6 [00:02<00:00,  2.43it/s, loss=0.221]\n",
      "Training  : 100%|██████████| 6/6 [00:02<00:00,  2.42it/s, loss=0.218]\n",
      "Training  : 100%|██████████| 6/6 [00:02<00:00,  2.40it/s, loss=0.228]\n",
      "Training  : 100%|██████████| 6/6 [00:02<00:00,  2.47it/s, loss=0.192]\n",
      "Training  : 100%|██████████| 6/6 [00:02<00:00,  2.48it/s, loss=0.188]\n",
      "Training  : 100%|██████████| 6/6 [00:02<00:00,  2.47it/s, loss=0.162] \n",
      "Training  : 100%|██████████| 6/6 [00:02<00:00,  2.44it/s, loss=0.191]\n",
      "Training  : 100%|██████████| 6/6 [00:02<00:00,  2.41it/s, loss=0.149]\n",
      "Training  : 100%|██████████| 6/6 [00:02<00:00,  2.50it/s, loss=0.151]\n",
      "Training  : 100%|██████████| 6/6 [00:02<00:00,  2.46it/s, loss=0.144]\n",
      "Training  : 100%|██████████| 6/6 [00:02<00:00,  2.50it/s, loss=0.152]\n",
      "Training  : 100%|██████████| 6/6 [00:02<00:00,  2.44it/s, loss=0.169] \n",
      "Training  : 100%|██████████| 6/6 [00:02<00:00,  2.42it/s, loss=0.128] \n",
      "Training  : 100%|██████████| 6/6 [00:02<00:00,  2.46it/s, loss=0.131] \n",
      "Training  : 100%|██████████| 6/6 [00:02<00:00,  2.49it/s, loss=0.131]\n",
      "Training  : 100%|██████████| 6/6 [00:02<00:00,  2.49it/s, loss=0.133] \n",
      "Training  : 100%|██████████| 6/6 [00:02<00:00,  2.51it/s, loss=0.113] \n",
      "Training  : 100%|██████████| 6/6 [00:02<00:00,  2.37it/s, loss=0.112] \n",
      "Training  : 100%|██████████| 6/6 [00:02<00:00,  2.42it/s, loss=0.111]\n",
      "Training  : 100%|██████████| 6/6 [00:02<00:00,  2.49it/s, loss=0.108] \n",
      "Training  : 100%|██████████| 6/6 [00:02<00:00,  2.47it/s, loss=0.113]\n",
      "Training  : 100%|██████████| 6/6 [00:02<00:00,  2.44it/s, loss=0.111]\n",
      "Training  : 100%|██████████| 6/6 [00:02<00:00,  2.45it/s, loss=0.112] \n",
      "Training  : 100%|██████████| 6/6 [00:02<00:00,  2.47it/s, loss=0.123] \n",
      "Training  : 100%|██████████| 6/6 [00:02<00:00,  2.47it/s, loss=0.117] \n",
      "Training  : 100%|██████████| 6/6 [00:02<00:00,  2.48it/s, loss=0.122]\n",
      "Training  : 100%|██████████| 6/6 [00:02<00:00,  2.48it/s, loss=0.12]  \n",
      "Training  : 100%|██████████| 6/6 [00:02<00:00,  2.47it/s, loss=0.128] \n",
      "Training  : 100%|██████████| 6/6 [00:02<00:00,  2.47it/s, loss=0.105]\n",
      "Training  : 100%|██████████| 6/6 [00:02<00:00,  2.48it/s, loss=0.109]\n",
      "Training  : 100%|██████████| 6/6 [00:02<00:00,  2.47it/s, loss=0.111]\n",
      "Training  : 100%|██████████| 6/6 [00:02<00:00,  2.46it/s, loss=0.111] \n",
      "Training  : 100%|██████████| 6/6 [00:02<00:00,  2.43it/s, loss=0.111]\n",
      "Training  : 100%|██████████| 6/6 [00:02<00:00,  2.48it/s, loss=0.111]\n",
      "Training  : 100%|██████████| 6/6 [00:02<00:00,  2.44it/s, loss=0.115] \n",
      "Training  : 100%|██████████| 6/6 [00:02<00:00,  2.48it/s, loss=0.114]\n",
      "Predicting: 100%|██████████| 12/12 [00:00<00:00, 13.58it/s]\n"
     ]
    },
    {
     "name": "stdout",
     "output_type": "stream",
     "text": [
      "Building sklearn text classifier...\n",
      "Loading bert-base-uncased model...\n",
      "Defaulting to linear classifier/regressor\n",
      "Loading Pytorch checkpoint\n",
      "train data size: 178, validation data size: 0\n"
     ]
    },
    {
     "name": "stderr",
     "output_type": "stream",
     "text": [
      "Training  : 100%|██████████| 6/6 [00:02<00:00,  2.39it/s, loss=0.913]\n",
      "Training  : 100%|██████████| 6/6 [00:02<00:00,  2.43it/s, loss=0.547]\n",
      "Training  : 100%|██████████| 6/6 [00:02<00:00,  2.32it/s, loss=0.346]\n",
      "Training  : 100%|██████████| 6/6 [00:02<00:00,  2.38it/s, loss=0.267]\n",
      "Training  : 100%|██████████| 6/6 [00:02<00:00,  2.43it/s, loss=0.205]\n",
      "Training  : 100%|██████████| 6/6 [00:02<00:00,  2.31it/s, loss=0.191]\n",
      "Training  : 100%|██████████| 6/6 [00:02<00:00,  2.37it/s, loss=0.202]\n",
      "Training  : 100%|██████████| 6/6 [00:02<00:00,  2.44it/s, loss=0.196]\n",
      "Training  : 100%|██████████| 6/6 [00:02<00:00,  2.42it/s, loss=0.177]\n",
      "Training  : 100%|██████████| 6/6 [00:02<00:00,  2.36it/s, loss=0.166] \n",
      "Training  : 100%|██████████| 6/6 [00:02<00:00,  2.41it/s, loss=0.19] \n",
      "Training  : 100%|██████████| 6/6 [00:02<00:00,  2.44it/s, loss=0.159] \n",
      "Training  : 100%|██████████| 6/6 [00:02<00:00,  2.45it/s, loss=0.171] \n",
      "Training  : 100%|██████████| 6/6 [00:02<00:00,  2.40it/s, loss=0.138] \n",
      "Training  : 100%|██████████| 6/6 [00:02<00:00,  2.29it/s, loss=0.134]\n",
      "Training  : 100%|██████████| 6/6 [00:02<00:00,  2.43it/s, loss=0.126] \n",
      "Training  : 100%|██████████| 6/6 [00:02<00:00,  2.45it/s, loss=0.0933]\n",
      "Training  : 100%|██████████| 6/6 [00:02<00:00,  2.34it/s, loss=0.106] \n",
      "Training  : 100%|██████████| 6/6 [00:02<00:00,  2.40it/s, loss=0.0662]\n",
      "Training  : 100%|██████████| 6/6 [00:02<00:00,  2.38it/s, loss=0.0888]\n",
      "Training  : 100%|██████████| 6/6 [00:02<00:00,  2.45it/s, loss=0.0676]\n",
      "Training  : 100%|██████████| 6/6 [00:02<00:00,  2.40it/s, loss=0.0644]\n",
      "Training  : 100%|██████████| 6/6 [00:02<00:00,  2.43it/s, loss=0.0702]\n",
      "Training  : 100%|██████████| 6/6 [00:02<00:00,  2.45it/s, loss=0.0797]\n",
      "Training  : 100%|██████████| 6/6 [00:02<00:00,  2.38it/s, loss=0.0734] \n",
      "Training  : 100%|██████████| 6/6 [00:02<00:00,  2.41it/s, loss=0.0662]\n",
      "Training  : 100%|██████████| 6/6 [00:02<00:00,  2.32it/s, loss=0.0789]\n",
      "Training  : 100%|██████████| 6/6 [00:02<00:00,  2.41it/s, loss=0.0677]\n",
      "Training  : 100%|██████████| 6/6 [00:02<00:00,  2.44it/s, loss=0.0694]\n",
      "Training  : 100%|██████████| 6/6 [00:02<00:00,  2.37it/s, loss=0.0639]\n",
      "Training  : 100%|██████████| 6/6 [00:02<00:00,  2.39it/s, loss=0.0704]\n",
      "Training  : 100%|██████████| 6/6 [00:02<00:00,  2.41it/s, loss=0.0701]\n",
      "Training  : 100%|██████████| 6/6 [00:02<00:00,  2.46it/s, loss=0.0614]\n",
      "Training  : 100%|██████████| 6/6 [00:02<00:00,  2.44it/s, loss=0.0935]\n",
      "Training  : 100%|██████████| 6/6 [00:02<00:00,  2.43it/s, loss=0.071] \n",
      "Training  : 100%|██████████| 6/6 [00:02<00:00,  2.31it/s, loss=0.0937]\n",
      "Training  : 100%|██████████| 6/6 [00:02<00:00,  2.46it/s, loss=0.0731]\n",
      "Training  : 100%|██████████| 6/6 [00:02<00:00,  2.43it/s, loss=0.0714] \n",
      "Training  : 100%|██████████| 6/6 [00:02<00:00,  2.43it/s, loss=0.0622]\n",
      "Training  : 100%|██████████| 6/6 [00:02<00:00,  2.33it/s, loss=0.0682]\n",
      "Training  : 100%|██████████| 6/6 [00:02<00:00,  2.39it/s, loss=0.0649]\n",
      "Training  : 100%|██████████| 6/6 [00:02<00:00,  2.46it/s, loss=0.0638]\n",
      "Training  : 100%|██████████| 6/6 [00:02<00:00,  2.45it/s, loss=0.0616]\n",
      "Training  : 100%|██████████| 6/6 [00:02<00:00,  2.43it/s, loss=0.069] \n",
      "Training  : 100%|██████████| 6/6 [00:02<00:00,  2.46it/s, loss=0.0632]\n",
      "Training  : 100%|██████████| 6/6 [00:02<00:00,  2.45it/s, loss=0.0669]\n",
      "Training  : 100%|██████████| 6/6 [00:02<00:00,  2.43it/s, loss=0.0623]\n",
      "Training  : 100%|██████████| 6/6 [00:02<00:00,  2.37it/s, loss=0.0664] \n",
      "Training  : 100%|██████████| 6/6 [00:02<00:00,  2.43it/s, loss=0.0755]\n",
      "Training  : 100%|██████████| 6/6 [00:02<00:00,  2.47it/s, loss=0.0572]\n",
      "Training  : 100%|██████████| 6/6 [00:02<00:00,  2.38it/s, loss=0.0863]\n",
      "Training  : 100%|██████████| 6/6 [00:02<00:00,  2.47it/s, loss=0.0625]\n",
      "Training  : 100%|██████████| 6/6 [00:02<00:00,  2.34it/s, loss=0.0622]\n",
      "Training  : 100%|██████████| 6/6 [00:02<00:00,  2.47it/s, loss=0.0675]\n",
      "Training  : 100%|██████████| 6/6 [00:02<00:00,  2.43it/s, loss=0.0598]\n",
      "Training  : 100%|██████████| 6/6 [00:02<00:00,  2.42it/s, loss=0.0584]\n",
      "Training  : 100%|██████████| 6/6 [00:02<00:00,  2.46it/s, loss=0.0812]\n",
      "Training  : 100%|██████████| 6/6 [00:02<00:00,  2.42it/s, loss=0.0696]\n",
      "Training  : 100%|██████████| 6/6 [00:02<00:00,  2.33it/s, loss=0.0625]\n",
      "Training  : 100%|██████████| 6/6 [00:02<00:00,  2.37it/s, loss=0.0598]\n",
      "Training  : 100%|██████████| 6/6 [00:02<00:00,  2.30it/s, loss=0.0598]\n",
      "Training  : 100%|██████████| 6/6 [00:02<00:00,  2.42it/s, loss=0.0642]\n",
      "Training  : 100%|██████████| 6/6 [00:02<00:00,  2.41it/s, loss=0.0561]\n",
      "Training  : 100%|██████████| 6/6 [00:02<00:00,  2.45it/s, loss=0.067] \n",
      "Training  : 100%|██████████| 6/6 [00:02<00:00,  2.44it/s, loss=0.0635]\n",
      "Training  : 100%|██████████| 6/6 [00:02<00:00,  2.46it/s, loss=0.0654]\n",
      "Training  : 100%|██████████| 6/6 [00:02<00:00,  2.45it/s, loss=0.0627]\n",
      "Training  : 100%|██████████| 6/6 [00:02<00:00,  2.44it/s, loss=0.061]  \n",
      "Training  : 100%|██████████| 6/6 [00:02<00:00,  2.38it/s, loss=0.075] \n",
      "Training  : 100%|██████████| 6/6 [00:02<00:00,  2.45it/s, loss=0.0637]\n",
      "Training  : 100%|██████████| 6/6 [00:02<00:00,  2.47it/s, loss=0.064]  \n",
      "Training  : 100%|██████████| 6/6 [00:02<00:00,  2.45it/s, loss=0.0632]\n",
      "Training  : 100%|██████████| 6/6 [00:02<00:00,  2.47it/s, loss=0.0543]\n",
      "Training  : 100%|██████████| 6/6 [00:02<00:00,  2.46it/s, loss=0.0637] \n",
      "Training  : 100%|██████████| 6/6 [00:02<00:00,  2.41it/s, loss=0.0568]\n",
      "Predicting: 100%|██████████| 12/12 [00:00<00:00, 13.00it/s]\n"
     ]
    },
    {
     "name": "stdout",
     "output_type": "stream",
     "text": [
      "Building sklearn text classifier...\n",
      "Loading bert-base-uncased model...\n",
      "Defaulting to linear classifier/regressor\n",
      "Loading Pytorch checkpoint\n",
      "train data size: 178, validation data size: 0\n"
     ]
    },
    {
     "name": "stderr",
     "output_type": "stream",
     "text": [
      "Training  : 100%|██████████| 6/6 [00:02<00:00,  2.34it/s, loss=0.913]\n",
      "Training  : 100%|██████████| 6/6 [00:02<00:00,  2.41it/s, loss=0.566]\n",
      "Training  : 100%|██████████| 6/6 [00:02<00:00,  2.40it/s, loss=0.335]\n",
      "Training  : 100%|██████████| 6/6 [00:02<00:00,  2.34it/s, loss=0.251]\n",
      "Training  : 100%|██████████| 6/6 [00:02<00:00,  2.39it/s, loss=0.27] \n",
      "Training  : 100%|██████████| 6/6 [00:02<00:00,  2.33it/s, loss=0.239] \n",
      "Training  : 100%|██████████| 6/6 [00:02<00:00,  2.41it/s, loss=0.265]\n",
      "Training  : 100%|██████████| 6/6 [00:02<00:00,  2.40it/s, loss=0.232]\n",
      "Training  : 100%|██████████| 6/6 [00:02<00:00,  2.41it/s, loss=0.235]\n",
      "Training  : 100%|██████████| 6/6 [00:02<00:00,  2.29it/s, loss=0.221]\n",
      "Training  : 100%|██████████| 6/6 [00:02<00:00,  2.28it/s, loss=0.218]\n",
      "Training  : 100%|██████████| 6/6 [00:02<00:00,  2.40it/s, loss=0.182]\n",
      "Training  : 100%|██████████| 6/6 [00:02<00:00,  2.41it/s, loss=0.176]\n",
      "Training  : 100%|██████████| 6/6 [00:02<00:00,  2.34it/s, loss=0.178] \n",
      "Training  : 100%|██████████| 6/6 [00:02<00:00,  2.40it/s, loss=0.159] \n",
      "Training  : 100%|██████████| 6/6 [00:02<00:00,  2.33it/s, loss=0.155] \n",
      "Training  : 100%|██████████| 6/6 [00:02<00:00,  2.31it/s, loss=0.165] \n",
      "Training  : 100%|██████████| 6/6 [00:02<00:00,  2.41it/s, loss=0.142] \n",
      "Training  : 100%|██████████| 6/6 [00:02<00:00,  2.42it/s, loss=0.125]\n",
      "Training  : 100%|██████████| 6/6 [00:02<00:00,  2.29it/s, loss=0.122] \n",
      "Training  : 100%|██████████| 6/6 [00:02<00:00,  2.27it/s, loss=0.119] \n",
      "Training  : 100%|██████████| 6/6 [00:02<00:00,  2.41it/s, loss=0.111] \n",
      "Training  : 100%|██████████| 6/6 [00:02<00:00,  2.37it/s, loss=0.118]\n",
      "Training  : 100%|██████████| 6/6 [00:02<00:00,  2.42it/s, loss=0.115] \n",
      "Training  : 100%|██████████| 6/6 [00:02<00:00,  2.25it/s, loss=0.105] \n",
      "Training  : 100%|██████████| 6/6 [00:02<00:00,  2.28it/s, loss=0.116] \n",
      "Training  : 100%|██████████| 6/6 [00:02<00:00,  2.41it/s, loss=0.118] \n",
      "Training  : 100%|██████████| 6/6 [00:02<00:00,  2.41it/s, loss=0.106]\n",
      "Training  : 100%|██████████| 6/6 [00:02<00:00,  2.39it/s, loss=0.116]\n",
      "Training  : 100%|██████████| 6/6 [00:02<00:00,  2.30it/s, loss=0.118] \n",
      "Training  : 100%|██████████| 6/6 [00:02<00:00,  2.42it/s, loss=0.11]  \n",
      "Training  : 100%|██████████| 6/6 [00:02<00:00,  2.39it/s, loss=0.106] \n",
      "Training  : 100%|██████████| 6/6 [00:02<00:00,  2.40it/s, loss=0.0992]\n",
      "Training  : 100%|██████████| 6/6 [00:02<00:00,  2.36it/s, loss=0.112] \n",
      "Training  : 100%|██████████| 6/6 [00:02<00:00,  2.32it/s, loss=0.105]\n",
      "Training  : 100%|██████████| 6/6 [00:02<00:00,  2.39it/s, loss=0.122] \n",
      "Training  : 100%|██████████| 6/6 [00:02<00:00,  2.32it/s, loss=0.114] \n",
      "Training  : 100%|██████████| 6/6 [00:02<00:00,  2.33it/s, loss=0.107] \n",
      "Training  : 100%|██████████| 6/6 [00:02<00:00,  2.33it/s, loss=0.103] \n",
      "Training  : 100%|██████████| 6/6 [00:02<00:00,  2.43it/s, loss=0.105] \n",
      "Training  : 100%|██████████| 6/6 [00:02<00:00,  2.31it/s, loss=0.109] \n",
      "Training  : 100%|██████████| 6/6 [00:02<00:00,  2.26it/s, loss=0.11]  \n",
      "Training  : 100%|██████████| 6/6 [00:02<00:00,  2.43it/s, loss=0.0985]\n",
      "Training  : 100%|██████████| 6/6 [00:02<00:00,  2.42it/s, loss=0.105]\n",
      "Training  : 100%|██████████| 6/6 [00:02<00:00,  2.34it/s, loss=0.114] \n",
      "Training  : 100%|██████████| 6/6 [00:02<00:00,  2.37it/s, loss=0.0959]\n",
      "Training  : 100%|██████████| 6/6 [00:02<00:00,  2.28it/s, loss=0.102] \n",
      "Training  : 100%|██████████| 6/6 [00:02<00:00,  2.39it/s, loss=0.0979]\n",
      "Training  : 100%|██████████| 6/6 [00:02<00:00,  2.36it/s, loss=0.112] \n",
      "Training  : 100%|██████████| 6/6 [00:02<00:00,  2.39it/s, loss=0.101] \n",
      "Training  : 100%|██████████| 6/6 [00:02<00:00,  2.39it/s, loss=0.115] \n",
      "Training  : 100%|██████████| 6/6 [00:02<00:00,  2.41it/s, loss=0.111] \n",
      "Training  : 100%|██████████| 6/6 [00:02<00:00,  2.42it/s, loss=0.108]\n",
      "Training  : 100%|██████████| 6/6 [00:02<00:00,  2.39it/s, loss=0.12]  \n",
      "Training  : 100%|██████████| 6/6 [00:02<00:00,  2.33it/s, loss=0.108] \n",
      "Training  : 100%|██████████| 6/6 [00:02<00:00,  2.37it/s, loss=0.11] \n",
      "Training  : 100%|██████████| 6/6 [00:02<00:00,  2.32it/s, loss=0.123] \n",
      "Training  : 100%|██████████| 6/6 [00:02<00:00,  2.37it/s, loss=0.112]\n",
      "Training  : 100%|██████████| 6/6 [00:02<00:00,  2.37it/s, loss=0.113] \n",
      "Training  : 100%|██████████| 6/6 [00:02<00:00,  2.38it/s, loss=0.106]\n",
      "Training  : 100%|██████████| 6/6 [00:02<00:00,  2.34it/s, loss=0.101]\n",
      "Training  : 100%|██████████| 6/6 [00:02<00:00,  2.35it/s, loss=0.102]\n",
      "Training  : 100%|██████████| 6/6 [00:02<00:00,  2.42it/s, loss=0.101] \n",
      "Training  : 100%|██████████| 6/6 [00:02<00:00,  2.30it/s, loss=0.105] \n",
      "Training  : 100%|██████████| 6/6 [00:02<00:00,  2.40it/s, loss=0.115] \n",
      "Training  : 100%|██████████| 6/6 [00:02<00:00,  2.34it/s, loss=0.104] \n",
      "Training  : 100%|██████████| 6/6 [00:02<00:00,  2.40it/s, loss=0.0966]\n",
      "Training  : 100%|██████████| 6/6 [00:02<00:00,  2.40it/s, loss=0.0991]\n",
      "Training  : 100%|██████████| 6/6 [00:02<00:00,  2.29it/s, loss=0.115] \n",
      "Training  : 100%|██████████| 6/6 [00:02<00:00,  2.31it/s, loss=0.0971]\n",
      "Training  : 100%|██████████| 6/6 [00:02<00:00,  2.40it/s, loss=0.113] \n",
      "Training  : 100%|██████████| 6/6 [00:02<00:00,  2.36it/s, loss=0.108] \n",
      "Training  : 100%|██████████| 6/6 [00:02<00:00,  2.27it/s, loss=0.122] \n",
      "Training  : 100%|██████████| 6/6 [00:02<00:00,  2.35it/s, loss=0.0999]\n",
      "Training  : 100%|██████████| 6/6 [00:02<00:00,  2.29it/s, loss=0.108]\n",
      "Predicting: 100%|██████████| 12/12 [00:00<00:00, 12.25it/s]\n"
     ]
    },
    {
     "name": "stdout",
     "output_type": "stream",
     "text": [
      "Building sklearn text classifier...\n",
      "Loading bert-base-uncased model...\n",
      "Defaulting to linear classifier/regressor\n",
      "Loading Pytorch checkpoint\n",
      "train data size: 178, validation data size: 0\n"
     ]
    },
    {
     "name": "stderr",
     "output_type": "stream",
     "text": [
      "Training  : 100%|██████████| 6/6 [00:02<00:00,  2.33it/s, loss=0.92] \n",
      "Training  : 100%|██████████| 6/6 [00:02<00:00,  2.33it/s, loss=0.581]\n",
      "Training  : 100%|██████████| 6/6 [00:02<00:00,  2.34it/s, loss=0.383]\n",
      "Training  : 100%|██████████| 6/6 [00:02<00:00,  2.26it/s, loss=0.278]\n",
      "Training  : 100%|██████████| 6/6 [00:02<00:00,  2.32it/s, loss=0.254]\n",
      "Training  : 100%|██████████| 6/6 [00:02<00:00,  2.35it/s, loss=0.233] \n",
      "Training  : 100%|██████████| 6/6 [00:02<00:00,  2.31it/s, loss=0.233]\n",
      "Training  : 100%|██████████| 6/6 [00:02<00:00,  2.25it/s, loss=0.216]\n",
      "Training  : 100%|██████████| 6/6 [00:02<00:00,  2.24it/s, loss=0.161]\n",
      "Training  : 100%|██████████| 6/6 [00:02<00:00,  2.37it/s, loss=0.164] \n",
      "Training  : 100%|██████████| 6/6 [00:02<00:00,  2.33it/s, loss=0.16] \n",
      "Training  : 100%|██████████| 6/6 [00:02<00:00,  2.35it/s, loss=0.137]\n",
      "Training  : 100%|██████████| 6/6 [00:02<00:00,  2.24it/s, loss=0.172]\n",
      "Training  : 100%|██████████| 6/6 [00:02<00:00,  2.37it/s, loss=0.222]\n",
      "Training  : 100%|██████████| 6/6 [00:02<00:00,  2.37it/s, loss=0.195] \n",
      "Training  : 100%|██████████| 6/6 [00:02<00:00,  2.38it/s, loss=0.191]\n",
      "Training  : 100%|██████████| 6/6 [00:02<00:00,  2.35it/s, loss=0.191]\n",
      "Training  : 100%|██████████| 6/6 [00:02<00:00,  2.35it/s, loss=0.164]\n",
      "Training  : 100%|██████████| 6/6 [00:02<00:00,  2.34it/s, loss=0.136]\n",
      "Training  : 100%|██████████| 6/6 [00:02<00:00,  2.35it/s, loss=0.125] \n",
      "Training  : 100%|██████████| 6/6 [00:02<00:00,  2.37it/s, loss=0.151] \n",
      "Training  : 100%|██████████| 6/6 [00:02<00:00,  2.35it/s, loss=0.127] \n",
      "Training  : 100%|██████████| 6/6 [00:02<00:00,  2.31it/s, loss=0.131] \n",
      "Training  : 100%|██████████| 6/6 [00:02<00:00,  2.37it/s, loss=0.141] \n",
      "Training  : 100%|██████████| 6/6 [00:02<00:00,  2.37it/s, loss=0.115] \n",
      "Training  : 100%|██████████| 6/6 [00:02<00:00,  2.35it/s, loss=0.133] \n",
      "Training  : 100%|██████████| 6/6 [00:02<00:00,  2.26it/s, loss=0.12]  \n",
      "Training  : 100%|██████████| 6/6 [00:02<00:00,  2.34it/s, loss=0.115]\n",
      "Training  : 100%|██████████| 6/6 [00:02<00:00,  2.33it/s, loss=0.124] \n",
      "Training  : 100%|██████████| 6/6 [00:02<00:00,  2.31it/s, loss=0.12]  \n",
      "Training  : 100%|██████████| 6/6 [00:02<00:00,  2.28it/s, loss=0.113] \n",
      "Training  : 100%|██████████| 6/6 [00:02<00:00,  2.35it/s, loss=0.116] \n",
      "Training  : 100%|██████████| 6/6 [00:02<00:00,  2.35it/s, loss=0.114]\n",
      "Training  : 100%|██████████| 6/6 [00:02<00:00,  2.34it/s, loss=0.107]\n",
      "Training  : 100%|██████████| 6/6 [00:02<00:00,  2.34it/s, loss=0.115]\n",
      "Training  : 100%|██████████| 6/6 [00:02<00:00,  2.28it/s, loss=0.119]\n",
      "Training  : 100%|██████████| 6/6 [00:02<00:00,  2.29it/s, loss=0.117] \n",
      "Training  : 100%|██████████| 6/6 [00:02<00:00,  2.25it/s, loss=0.112] \n",
      "Training  : 100%|██████████| 6/6 [00:02<00:00,  2.27it/s, loss=0.12]  \n",
      "Training  : 100%|██████████| 6/6 [00:02<00:00,  2.38it/s, loss=0.109]\n",
      "Training  : 100%|██████████| 6/6 [00:02<00:00,  2.35it/s, loss=0.115] \n",
      "Training  : 100%|██████████| 6/6 [00:02<00:00,  2.32it/s, loss=0.112] \n",
      "Training  : 100%|██████████| 6/6 [00:02<00:00,  2.27it/s, loss=0.103]\n",
      "Training  : 100%|██████████| 6/6 [00:02<00:00,  2.27it/s, loss=0.11] \n",
      "Training  : 100%|██████████| 6/6 [00:02<00:00,  2.30it/s, loss=0.111]\n",
      "Training  : 100%|██████████| 6/6 [00:02<00:00,  2.38it/s, loss=0.103] \n",
      "Training  : 100%|██████████| 6/6 [00:02<00:00,  2.33it/s, loss=0.101] \n",
      "Training  : 100%|██████████| 6/6 [00:02<00:00,  2.24it/s, loss=0.11] \n",
      "Training  : 100%|██████████| 6/6 [00:02<00:00,  2.32it/s, loss=0.105] \n",
      "Training  : 100%|██████████| 6/6 [00:02<00:00,  2.38it/s, loss=0.108]\n",
      "Training  : 100%|██████████| 6/6 [00:02<00:00,  2.33it/s, loss=0.104] \n",
      "Training  : 100%|██████████| 6/6 [00:02<00:00,  2.33it/s, loss=0.118] \n",
      "Training  : 100%|██████████| 6/6 [00:02<00:00,  2.35it/s, loss=0.107] \n",
      "Training  : 100%|██████████| 6/6 [00:02<00:00,  2.36it/s, loss=0.123]\n",
      "Training  : 100%|██████████| 6/6 [00:02<00:00,  2.34it/s, loss=0.113] \n",
      "Training  : 100%|██████████| 6/6 [00:02<00:00,  2.30it/s, loss=0.119] \n",
      "Training  : 100%|██████████| 6/6 [00:02<00:00,  2.37it/s, loss=0.113] \n",
      "Training  : 100%|██████████| 6/6 [00:02<00:00,  2.36it/s, loss=0.103] \n",
      "Training  : 100%|██████████| 6/6 [00:02<00:00,  2.34it/s, loss=0.112] \n",
      "Training  : 100%|██████████| 6/6 [00:02<00:00,  2.33it/s, loss=0.112]\n",
      "Training  : 100%|██████████| 6/6 [00:02<00:00,  2.28it/s, loss=0.107]\n",
      "Training  : 100%|██████████| 6/6 [00:02<00:00,  2.36it/s, loss=0.108]\n",
      "Training  : 100%|██████████| 6/6 [00:02<00:00,  2.37it/s, loss=0.098] \n",
      "Training  : 100%|██████████| 6/6 [00:02<00:00,  2.38it/s, loss=0.109] \n",
      "Training  : 100%|██████████| 6/6 [00:02<00:00,  2.39it/s, loss=0.112] \n",
      "Training  : 100%|██████████| 6/6 [00:02<00:00,  2.24it/s, loss=0.103] \n",
      "Training  : 100%|██████████| 6/6 [00:02<00:00,  2.38it/s, loss=0.0968]\n",
      "Training  : 100%|██████████| 6/6 [00:02<00:00,  2.38it/s, loss=0.102] \n",
      "Training  : 100%|██████████| 6/6 [00:02<00:00,  2.31it/s, loss=0.119] \n",
      "Training  : 100%|██████████| 6/6 [00:02<00:00,  2.36it/s, loss=0.0989]\n",
      "Training  : 100%|██████████| 6/6 [00:02<00:00,  2.35it/s, loss=0.114] \n",
      "Training  : 100%|██████████| 6/6 [00:02<00:00,  2.38it/s, loss=0.112] \n",
      "Training  : 100%|██████████| 6/6 [00:02<00:00,  2.37it/s, loss=0.128] \n",
      "Training  : 100%|██████████| 6/6 [00:02<00:00,  2.30it/s, loss=0.106]\n",
      "Training  : 100%|██████████| 6/6 [00:02<00:00,  2.36it/s, loss=0.102]\n",
      "Predicting: 100%|██████████| 12/12 [00:01<00:00, 11.60it/s]\n"
     ]
    },
    {
     "name": "stdout",
     "output_type": "stream",
     "text": [
      "Building sklearn text classifier...\n",
      "Loading bert-base-uncased model...\n",
      "Defaulting to linear classifier/regressor\n",
      "Loading Pytorch checkpoint\n",
      "train data size: 178, validation data size: 0\n"
     ]
    },
    {
     "name": "stderr",
     "output_type": "stream",
     "text": [
      "Training  : 100%|██████████| 6/6 [00:02<00:00,  2.29it/s, loss=0.893]\n",
      "Training  : 100%|██████████| 6/6 [00:02<00:00,  2.38it/s, loss=0.482]\n",
      "Training  : 100%|██████████| 6/6 [00:02<00:00,  2.35it/s, loss=0.323]\n",
      "Training  : 100%|██████████| 6/6 [00:02<00:00,  2.24it/s, loss=0.217]\n",
      "Training  : 100%|██████████| 6/6 [00:02<00:00,  2.25it/s, loss=0.203]\n",
      "Training  : 100%|██████████| 6/6 [00:02<00:00,  2.26it/s, loss=0.171]\n",
      "Training  : 100%|██████████| 6/6 [00:02<00:00,  2.32it/s, loss=0.215]\n",
      "Training  : 100%|██████████| 6/6 [00:02<00:00,  2.36it/s, loss=0.16]  \n",
      "Training  : 100%|██████████| 6/6 [00:02<00:00,  2.36it/s, loss=0.202]\n",
      "Training  : 100%|██████████| 6/6 [00:02<00:00,  2.35it/s, loss=0.187] \n",
      "Training  : 100%|██████████| 6/6 [00:02<00:00,  2.38it/s, loss=0.203]\n",
      "Training  : 100%|██████████| 6/6 [00:02<00:00,  2.37it/s, loss=0.147] \n",
      "Training  : 100%|██████████| 6/6 [00:02<00:00,  2.37it/s, loss=0.136] \n",
      "Training  : 100%|██████████| 6/6 [00:02<00:00,  2.32it/s, loss=0.103] \n",
      "Training  : 100%|██████████| 6/6 [00:02<00:00,  2.36it/s, loss=0.111]\n",
      "Training  : 100%|██████████| 6/6 [00:02<00:00,  2.30it/s, loss=0.086] \n",
      "Training  : 100%|██████████| 6/6 [00:02<00:00,  2.40it/s, loss=0.0763]\n",
      "Training  : 100%|██████████| 6/6 [00:02<00:00,  2.38it/s, loss=0.0938]\n",
      "Training  : 100%|██████████| 6/6 [00:02<00:00,  2.34it/s, loss=0.0736]\n",
      "Training  : 100%|██████████| 6/6 [00:02<00:00,  2.27it/s, loss=0.107] \n",
      "Training  : 100%|██████████| 6/6 [00:02<00:00,  2.27it/s, loss=0.107] \n",
      "Training  : 100%|██████████| 6/6 [00:02<00:00,  2.30it/s, loss=0.0804]\n",
      "Training  : 100%|██████████| 6/6 [00:02<00:00,  2.37it/s, loss=0.0799]\n",
      "Training  : 100%|██████████| 6/6 [00:02<00:00,  2.34it/s, loss=0.0702]\n",
      "Training  : 100%|██████████| 6/6 [00:02<00:00,  2.35it/s, loss=0.0755] \n",
      "Training  : 100%|██████████| 6/6 [00:02<00:00,  2.38it/s, loss=0.0703]\n",
      "Training  : 100%|██████████| 6/6 [00:02<00:00,  2.37it/s, loss=0.0864]\n",
      "Training  : 100%|██████████| 6/6 [00:02<00:00,  2.26it/s, loss=0.0648]\n",
      "Training  : 100%|██████████| 6/6 [00:02<00:00,  2.37it/s, loss=0.0716] \n",
      "Training  : 100%|██████████| 6/6 [00:02<00:00,  2.37it/s, loss=0.0614]\n",
      "Training  : 100%|██████████| 6/6 [00:02<00:00,  2.26it/s, loss=0.0695]\n",
      "Training  : 100%|██████████| 6/6 [00:02<00:00,  2.36it/s, loss=0.0638]\n",
      "Training  : 100%|██████████| 6/6 [00:02<00:00,  2.27it/s, loss=0.0594]\n",
      "Training  : 100%|██████████| 6/6 [00:02<00:00,  2.34it/s, loss=0.088] \n",
      "Training  : 100%|██████████| 6/6 [00:02<00:00,  2.34it/s, loss=0.0679]\n",
      "Training  : 100%|██████████| 6/6 [00:02<00:00,  2.36it/s, loss=0.0836]\n",
      "Training  : 100%|██████████| 6/6 [00:02<00:00,  2.37it/s, loss=0.0723]\n",
      "Training  : 100%|██████████| 6/6 [00:02<00:00,  2.34it/s, loss=0.0659]\n",
      "Training  : 100%|██████████| 6/6 [00:02<00:00,  2.39it/s, loss=0.0604]\n",
      "Training  : 100%|██████████| 6/6 [00:02<00:00,  2.37it/s, loss=0.0658]\n",
      "Training  : 100%|██████████| 6/6 [00:02<00:00,  2.37it/s, loss=0.0613]\n",
      "Training  : 100%|██████████| 6/6 [00:02<00:00,  2.28it/s, loss=0.0634]\n",
      "Training  : 100%|██████████| 6/6 [00:02<00:00,  2.35it/s, loss=0.0574]\n",
      "Training  : 100%|██████████| 6/6 [00:02<00:00,  2.36it/s, loss=0.0613]\n",
      "Training  : 100%|██████████| 6/6 [00:02<00:00,  2.37it/s, loss=0.0653]\n",
      "Training  : 100%|██████████| 6/6 [00:02<00:00,  2.34it/s, loss=0.0633]\n",
      "Training  : 100%|██████████| 6/6 [00:02<00:00,  2.32it/s, loss=0.059] \n",
      "Training  : 100%|██████████| 6/6 [00:02<00:00,  2.27it/s, loss=0.0595] \n",
      "Training  : 100%|██████████| 6/6 [00:02<00:00,  2.35it/s, loss=0.0688]\n",
      "Training  : 100%|██████████| 6/6 [00:02<00:00,  2.36it/s, loss=0.058] \n",
      "Training  : 100%|██████████| 6/6 [00:02<00:00,  2.26it/s, loss=0.0832]\n",
      "Training  : 100%|██████████| 6/6 [00:02<00:00,  2.33it/s, loss=0.0649]\n",
      "Training  : 100%|██████████| 6/6 [00:02<00:00,  2.33it/s, loss=0.061] \n",
      "Training  : 100%|██████████| 6/6 [00:02<00:00,  2.36it/s, loss=0.0755]\n",
      "Training  : 100%|██████████| 6/6 [00:02<00:00,  2.30it/s, loss=0.0581]\n",
      "Training  : 100%|██████████| 6/6 [00:02<00:00,  2.37it/s, loss=0.0571]\n",
      "Training  : 100%|██████████| 6/6 [00:02<00:00,  2.38it/s, loss=0.0778]\n",
      "Training  : 100%|██████████| 6/6 [00:02<00:00,  2.35it/s, loss=0.0639]\n",
      "Training  : 100%|██████████| 6/6 [00:02<00:00,  2.38it/s, loss=0.0639]\n",
      "Training  : 100%|██████████| 6/6 [00:02<00:00,  2.37it/s, loss=0.0575]\n",
      "Training  : 100%|██████████| 6/6 [00:02<00:00,  2.26it/s, loss=0.0621]\n",
      "Training  : 100%|██████████| 6/6 [00:02<00:00,  2.32it/s, loss=0.0606]\n",
      "Training  : 100%|██████████| 6/6 [00:02<00:00,  2.34it/s, loss=0.0569]\n",
      "Training  : 100%|██████████| 6/6 [00:02<00:00,  2.37it/s, loss=0.0645]\n",
      "Training  : 100%|██████████| 6/6 [00:02<00:00,  2.33it/s, loss=0.0578]\n",
      "Training  : 100%|██████████| 6/6 [00:02<00:00,  2.30it/s, loss=0.0565]\n",
      "Training  : 100%|██████████| 6/6 [00:02<00:00,  2.39it/s, loss=0.0591]\n",
      "Training  : 100%|██████████| 6/6 [00:02<00:00,  2.31it/s, loss=0.0543] \n",
      "Training  : 100%|██████████| 6/6 [00:02<00:00,  2.26it/s, loss=0.0734]\n",
      "Training  : 100%|██████████| 6/6 [00:02<00:00,  2.37it/s, loss=0.0591]\n",
      "Training  : 100%|██████████| 6/6 [00:02<00:00,  2.34it/s, loss=0.0607]\n",
      "Training  : 100%|██████████| 6/6 [00:02<00:00,  2.32it/s, loss=0.0635]\n",
      "Training  : 100%|██████████| 6/6 [00:02<00:00,  2.33it/s, loss=0.0596]\n",
      "Training  : 100%|██████████| 6/6 [00:02<00:00,  2.37it/s, loss=0.061]  \n",
      "Training  : 100%|██████████| 6/6 [00:02<00:00,  2.34it/s, loss=0.0598]\n",
      "Predicting: 100%|██████████| 12/12 [00:01<00:00, 11.33it/s]\n"
     ]
    },
    {
     "name": "stdout",
     "output_type": "stream",
     "text": [
      "Building sklearn text classifier...\n",
      "Loading bert-base-uncased model...\n",
      "Defaulting to linear classifier/regressor\n",
      "Loading Pytorch checkpoint\n",
      "train data size: 178, validation data size: 0\n"
     ]
    },
    {
     "name": "stderr",
     "output_type": "stream",
     "text": [
      "Training  : 100%|██████████| 6/6 [00:02<00:00,  2.36it/s, loss=0.895]\n",
      "Training  : 100%|██████████| 6/6 [00:02<00:00,  2.38it/s, loss=0.502]\n",
      "Training  : 100%|██████████| 6/6 [00:02<00:00,  2.37it/s, loss=0.298]\n",
      "Training  : 100%|██████████| 6/6 [00:02<00:00,  2.37it/s, loss=0.234]\n",
      "Training  : 100%|██████████| 6/6 [00:02<00:00,  2.37it/s, loss=0.252]\n",
      "Training  : 100%|██████████| 6/6 [00:02<00:00,  2.35it/s, loss=0.198] \n",
      "Training  : 100%|██████████| 6/6 [00:02<00:00,  2.38it/s, loss=0.265]\n",
      "Training  : 100%|██████████| 6/6 [00:02<00:00,  2.34it/s, loss=0.205] \n",
      "Training  : 100%|██████████| 6/6 [00:02<00:00,  2.37it/s, loss=0.183]\n",
      "Training  : 100%|██████████| 6/6 [00:02<00:00,  2.39it/s, loss=0.187]\n",
      "Training  : 100%|██████████| 6/6 [00:02<00:00,  2.35it/s, loss=0.191]\n",
      "Training  : 100%|██████████| 6/6 [00:02<00:00,  2.34it/s, loss=0.161] \n",
      "Training  : 100%|██████████| 6/6 [00:02<00:00,  2.37it/s, loss=0.167]\n",
      "Training  : 100%|██████████| 6/6 [00:02<00:00,  2.35it/s, loss=0.162] \n",
      "Training  : 100%|██████████| 6/6 [00:02<00:00,  2.38it/s, loss=0.159] \n",
      "Training  : 100%|██████████| 6/6 [00:02<00:00,  2.37it/s, loss=0.149] \n",
      "Training  : 100%|██████████| 6/6 [00:02<00:00,  2.37it/s, loss=0.148] \n",
      "Training  : 100%|██████████| 6/6 [00:02<00:00,  2.37it/s, loss=0.135] \n",
      "Training  : 100%|██████████| 6/6 [00:02<00:00,  2.38it/s, loss=0.129] \n",
      "Training  : 100%|██████████| 6/6 [00:02<00:00,  2.36it/s, loss=0.147] \n",
      "Training  : 100%|██████████| 6/6 [00:02<00:00,  2.39it/s, loss=0.13]  \n",
      "Training  : 100%|██████████| 6/6 [00:02<00:00,  2.34it/s, loss=0.132] \n",
      "Training  : 100%|██████████| 6/6 [00:02<00:00,  2.40it/s, loss=0.115]\n",
      "Training  : 100%|██████████| 6/6 [00:02<00:00,  2.37it/s, loss=0.128] \n",
      "Training  : 100%|██████████| 6/6 [00:02<00:00,  2.39it/s, loss=0.116] \n",
      "Training  : 100%|██████████| 6/6 [00:02<00:00,  2.37it/s, loss=0.123] \n",
      "Training  : 100%|██████████| 6/6 [00:02<00:00,  2.34it/s, loss=0.122] \n",
      "Training  : 100%|██████████| 6/6 [00:02<00:00,  2.32it/s, loss=0.105]\n",
      "Training  : 100%|██████████| 6/6 [00:02<00:00,  2.27it/s, loss=0.107]\n",
      "Training  : 100%|██████████| 6/6 [00:02<00:00,  2.36it/s, loss=0.112] \n",
      "Training  : 100%|██████████| 6/6 [00:02<00:00,  2.32it/s, loss=0.12]  \n",
      "Training  : 100%|██████████| 6/6 [00:02<00:00,  2.36it/s, loss=0.11]  \n",
      "Training  : 100%|██████████| 6/6 [00:02<00:00,  2.34it/s, loss=0.107]\n",
      "Training  : 100%|██████████| 6/6 [00:02<00:00,  2.35it/s, loss=0.112] \n",
      "Training  : 100%|██████████| 6/6 [00:02<00:00,  2.34it/s, loss=0.105]\n",
      "Training  : 100%|██████████| 6/6 [00:02<00:00,  2.34it/s, loss=0.122] \n",
      "Training  : 100%|██████████| 6/6 [00:02<00:00,  2.39it/s, loss=0.125] \n",
      "Training  : 100%|██████████| 6/6 [00:02<00:00,  2.37it/s, loss=0.113] \n",
      "Training  : 100%|██████████| 6/6 [00:02<00:00,  2.37it/s, loss=0.114] \n",
      "Training  : 100%|██████████| 6/6 [00:02<00:00,  2.38it/s, loss=0.112]\n",
      "Training  : 100%|██████████| 6/6 [00:02<00:00,  2.33it/s, loss=0.124] \n",
      "Training  : 100%|██████████| 6/6 [00:02<00:00,  2.34it/s, loss=0.121]\n",
      "Training  : 100%|██████████| 6/6 [00:02<00:00,  2.41it/s, loss=0.111]\n",
      "Training  : 100%|██████████| 6/6 [00:02<00:00,  2.30it/s, loss=0.108]\n",
      "Training  : 100%|██████████| 6/6 [00:02<00:00,  2.39it/s, loss=0.125] \n",
      "Training  : 100%|██████████| 6/6 [00:02<00:00,  2.36it/s, loss=0.0973]\n",
      "Training  : 100%|██████████| 6/6 [00:02<00:00,  2.33it/s, loss=0.107] \n",
      "Training  : 100%|██████████| 6/6 [00:02<00:00,  2.31it/s, loss=0.101]\n",
      "Training  : 100%|██████████| 6/6 [00:02<00:00,  2.32it/s, loss=0.114] \n",
      "Training  : 100%|██████████| 6/6 [00:02<00:00,  2.37it/s, loss=0.104] \n",
      "Training  : 100%|██████████| 6/6 [00:02<00:00,  2.35it/s, loss=0.114] \n",
      "Training  : 100%|██████████| 6/6 [00:02<00:00,  2.37it/s, loss=0.113] \n",
      "Training  : 100%|██████████| 6/6 [00:02<00:00,  2.38it/s, loss=0.121]\n",
      "Training  : 100%|██████████| 6/6 [00:02<00:00,  2.37it/s, loss=0.111] \n",
      "Training  : 100%|██████████| 6/6 [00:02<00:00,  2.38it/s, loss=0.113] \n",
      "Training  : 100%|██████████| 6/6 [00:02<00:00,  2.30it/s, loss=0.109]\n",
      "Training  : 100%|██████████| 6/6 [00:02<00:00,  2.31it/s, loss=0.132] \n",
      "Training  : 100%|██████████| 6/6 [00:02<00:00,  2.39it/s, loss=0.106] \n",
      "Training  : 100%|██████████| 6/6 [00:02<00:00,  2.36it/s, loss=0.118] \n",
      "Training  : 100%|██████████| 6/6 [00:02<00:00,  2.35it/s, loss=0.104]\n",
      "Training  : 100%|██████████| 6/6 [00:02<00:00,  2.26it/s, loss=0.106]\n",
      "Training  : 100%|██████████| 6/6 [00:02<00:00,  2.35it/s, loss=0.102]\n",
      "Training  : 100%|██████████| 6/6 [00:02<00:00,  2.33it/s, loss=0.103] \n",
      "Training  : 100%|██████████| 6/6 [00:02<00:00,  2.31it/s, loss=0.108] \n",
      "Training  : 100%|██████████| 6/6 [00:02<00:00,  2.33it/s, loss=0.0971]\n",
      "Training  : 100%|██████████| 6/6 [00:02<00:00,  2.34it/s, loss=0.103] \n",
      "Training  : 100%|██████████| 6/6 [00:02<00:00,  2.24it/s, loss=0.0989]\n",
      "Training  : 100%|██████████| 6/6 [00:02<00:00,  2.35it/s, loss=0.103]\n",
      "Training  : 100%|██████████| 6/6 [00:02<00:00,  2.35it/s, loss=0.119] \n",
      "Training  : 100%|██████████| 6/6 [00:02<00:00,  2.38it/s, loss=0.102]\n",
      "Training  : 100%|██████████| 6/6 [00:02<00:00,  2.35it/s, loss=0.111] \n",
      "Training  : 100%|██████████| 6/6 [00:02<00:00,  2.32it/s, loss=0.114]\n",
      "Training  : 100%|██████████| 6/6 [00:02<00:00,  2.33it/s, loss=0.118] \n",
      "Training  : 100%|██████████| 6/6 [00:02<00:00,  2.29it/s, loss=0.105] \n",
      "Training  : 100%|██████████| 6/6 [00:02<00:00,  2.27it/s, loss=0.0964]\n",
      "Predicting: 100%|██████████| 12/12 [00:01<00:00, 11.63it/s]\n"
     ]
    },
    {
     "name": "stdout",
     "output_type": "stream",
     "text": [
      "Building sklearn text classifier...\n",
      "Loading bert-base-uncased model...\n",
      "Defaulting to linear classifier/regressor\n",
      "Loading Pytorch checkpoint\n",
      "train data size: 178, validation data size: 0\n"
     ]
    },
    {
     "name": "stderr",
     "output_type": "stream",
     "text": [
      "Training  : 100%|██████████| 6/6 [00:02<00:00,  2.36it/s, loss=0.902]\n",
      "Training  : 100%|██████████| 6/6 [00:02<00:00,  2.31it/s, loss=0.513]\n",
      "Training  : 100%|██████████| 6/6 [00:02<00:00,  2.35it/s, loss=0.34] \n",
      "Training  : 100%|██████████| 6/6 [00:02<00:00,  2.38it/s, loss=0.252]\n",
      "Training  : 100%|██████████| 6/6 [00:02<00:00,  2.37it/s, loss=0.28] \n",
      "Training  : 100%|██████████| 6/6 [00:02<00:00,  2.35it/s, loss=0.208] \n",
      "Training  : 100%|██████████| 6/6 [00:02<00:00,  2.35it/s, loss=0.223]\n",
      "Training  : 100%|██████████| 6/6 [00:02<00:00,  2.36it/s, loss=0.235]\n",
      "Training  : 100%|██████████| 6/6 [00:02<00:00,  2.37it/s, loss=0.158]\n",
      "Training  : 100%|██████████| 6/6 [00:02<00:00,  2.36it/s, loss=0.16]  \n",
      "Training  : 100%|██████████| 6/6 [00:02<00:00,  2.35it/s, loss=0.138]\n",
      "Training  : 100%|██████████| 6/6 [00:02<00:00,  2.36it/s, loss=0.127]\n",
      "Training  : 100%|██████████| 6/6 [00:02<00:00,  2.28it/s, loss=0.178]\n",
      "Training  : 100%|██████████| 6/6 [00:02<00:00,  2.30it/s, loss=0.159] \n",
      "Training  : 100%|██████████| 6/6 [00:02<00:00,  2.32it/s, loss=0.151] \n",
      "Training  : 100%|██████████| 6/6 [00:02<00:00,  2.34it/s, loss=0.176]\n",
      "Training  : 100%|██████████| 6/6 [00:02<00:00,  2.26it/s, loss=0.154]\n",
      "Training  : 100%|██████████| 6/6 [00:02<00:00,  2.34it/s, loss=0.129] \n",
      "Training  : 100%|██████████| 6/6 [00:02<00:00,  2.33it/s, loss=0.117]\n",
      "Training  : 100%|██████████| 6/6 [00:02<00:00,  2.36it/s, loss=0.114] \n",
      "Training  : 100%|██████████| 6/6 [00:02<00:00,  2.34it/s, loss=0.146]\n",
      "Training  : 100%|██████████| 6/6 [00:02<00:00,  2.33it/s, loss=0.116] \n",
      "Training  : 100%|██████████| 6/6 [00:02<00:00,  2.34it/s, loss=0.117] \n",
      "Training  : 100%|██████████| 6/6 [00:02<00:00,  2.35it/s, loss=0.132] \n",
      "Training  : 100%|██████████| 6/6 [00:02<00:00,  2.30it/s, loss=0.118]\n",
      "Training  : 100%|██████████| 6/6 [00:02<00:00,  2.38it/s, loss=0.118] \n",
      "Training  : 100%|██████████| 6/6 [00:02<00:00,  2.25it/s, loss=0.113] \n",
      "Training  : 100%|██████████| 6/6 [00:02<00:00,  2.34it/s, loss=0.125]\n",
      "Training  : 100%|██████████| 6/6 [00:02<00:00,  2.35it/s, loss=0.119] \n",
      "Training  : 100%|██████████| 6/6 [00:02<00:00,  2.33it/s, loss=0.123] \n",
      "Training  : 100%|██████████| 6/6 [00:02<00:00,  2.31it/s, loss=0.115] \n",
      "Training  : 100%|██████████| 6/6 [00:02<00:00,  2.39it/s, loss=0.118] \n",
      "Training  : 100%|██████████| 6/6 [00:02<00:00,  2.28it/s, loss=0.11] \n",
      "Training  : 100%|██████████| 6/6 [00:02<00:00,  2.33it/s, loss=0.11]  \n",
      "Training  : 100%|██████████| 6/6 [00:02<00:00,  2.31it/s, loss=0.116]\n",
      "Training  : 100%|██████████| 6/6 [00:02<00:00,  2.31it/s, loss=0.118]\n",
      "Training  : 100%|██████████| 6/6 [00:02<00:00,  2.28it/s, loss=0.108]\n",
      "Training  : 100%|██████████| 6/6 [00:02<00:00,  2.29it/s, loss=0.12]  \n",
      "Training  : 100%|██████████| 6/6 [00:02<00:00,  2.37it/s, loss=0.11]  \n",
      "Training  : 100%|██████████| 6/6 [00:02<00:00,  2.26it/s, loss=0.116]\n",
      "Training  : 100%|██████████| 6/6 [00:02<00:00,  2.39it/s, loss=0.122] \n",
      "Training  : 100%|██████████| 6/6 [00:02<00:00,  2.36it/s, loss=0.109] \n",
      "Training  : 100%|██████████| 6/6 [00:02<00:00,  2.31it/s, loss=0.105]\n",
      "Training  : 100%|██████████| 6/6 [00:02<00:00,  2.33it/s, loss=0.111]\n",
      "Training  : 100%|██████████| 6/6 [00:02<00:00,  2.33it/s, loss=0.104]\n",
      "Training  : 100%|██████████| 6/6 [00:02<00:00,  2.34it/s, loss=0.104] \n",
      "Training  : 100%|██████████| 6/6 [00:02<00:00,  2.31it/s, loss=0.105] \n",
      "Training  : 100%|██████████| 6/6 [00:02<00:00,  2.32it/s, loss=0.0996]\n",
      "Training  : 100%|██████████| 6/6 [00:02<00:00,  2.37it/s, loss=0.0998]\n",
      "Training  : 100%|██████████| 6/6 [00:02<00:00,  2.38it/s, loss=0.108]\n",
      "Training  : 100%|██████████| 6/6 [00:02<00:00,  2.31it/s, loss=0.105] \n",
      "Training  : 100%|██████████| 6/6 [00:02<00:00,  2.36it/s, loss=0.128] \n",
      "Training  : 100%|██████████| 6/6 [00:02<00:00,  2.31it/s, loss=0.109] \n",
      "Training  : 100%|██████████| 6/6 [00:02<00:00,  2.37it/s, loss=0.118] \n",
      "Training  : 100%|██████████| 6/6 [00:02<00:00,  2.27it/s, loss=0.111] \n",
      "Training  : 100%|██████████| 6/6 [00:02<00:00,  2.32it/s, loss=0.113] \n",
      "Training  : 100%|██████████| 6/6 [00:02<00:00,  2.39it/s, loss=0.114] \n",
      "Training  : 100%|██████████| 6/6 [00:02<00:00,  2.25it/s, loss=0.109] \n",
      "Training  : 100%|██████████| 6/6 [00:02<00:00,  2.35it/s, loss=0.112] \n",
      "Training  : 100%|██████████| 6/6 [00:02<00:00,  2.32it/s, loss=0.113]\n",
      "Training  : 100%|██████████| 6/6 [00:02<00:00,  2.37it/s, loss=0.108]\n",
      "Training  : 100%|██████████| 6/6 [00:02<00:00,  2.35it/s, loss=0.108]\n",
      "Training  : 100%|██████████| 6/6 [00:02<00:00,  2.34it/s, loss=0.101] \n",
      "Training  : 100%|██████████| 6/6 [00:02<00:00,  2.34it/s, loss=0.104] \n",
      "Training  : 100%|██████████| 6/6 [00:02<00:00,  2.38it/s, loss=0.112] \n",
      "Training  : 100%|██████████| 6/6 [00:02<00:00,  2.35it/s, loss=0.107]\n",
      "Training  : 100%|██████████| 6/6 [00:02<00:00,  2.36it/s, loss=0.102]\n",
      "Training  : 100%|██████████| 6/6 [00:02<00:00,  2.35it/s, loss=0.101] \n",
      "Training  : 100%|██████████| 6/6 [00:02<00:00,  2.33it/s, loss=0.115]\n",
      "Training  : 100%|██████████| 6/6 [00:02<00:00,  2.35it/s, loss=0.0989]\n",
      "Training  : 100%|██████████| 6/6 [00:02<00:00,  2.36it/s, loss=0.111] \n",
      "Training  : 100%|██████████| 6/6 [00:02<00:00,  2.31it/s, loss=0.116] \n",
      "Training  : 100%|██████████| 6/6 [00:02<00:00,  2.35it/s, loss=0.122] \n",
      "Training  : 100%|██████████| 6/6 [00:02<00:00,  2.37it/s, loss=0.108] \n",
      "Training  : 100%|██████████| 6/6 [00:02<00:00,  2.32it/s, loss=0.11]  \n",
      "Predicting: 100%|██████████| 12/12 [00:01<00:00, 11.11it/s]\n"
     ]
    },
    {
     "name": "stdout",
     "output_type": "stream",
     "text": [
      "Building sklearn text classifier...\n",
      "Loading bert-base-uncased model...\n",
      "Defaulting to linear classifier/regressor\n",
      "Loading Pytorch checkpoint\n",
      "train data size: 178, validation data size: 0\n"
     ]
    },
    {
     "name": "stderr",
     "output_type": "stream",
     "text": [
      "Training  : 100%|██████████| 6/6 [00:02<00:00,  2.31it/s, loss=0.936]\n",
      "Training  : 100%|██████████| 6/6 [00:02<00:00,  2.33it/s, loss=0.686]\n",
      "Training  : 100%|██████████| 6/6 [00:02<00:00,  2.25it/s, loss=0.412]\n",
      "Training  : 100%|██████████| 6/6 [00:02<00:00,  2.32it/s, loss=0.315]\n",
      "Training  : 100%|██████████| 6/6 [00:02<00:00,  2.30it/s, loss=0.254]\n",
      "Training  : 100%|██████████| 6/6 [00:02<00:00,  2.31it/s, loss=0.24] \n",
      "Training  : 100%|██████████| 6/6 [00:02<00:00,  2.31it/s, loss=0.21] \n",
      "Training  : 100%|██████████| 6/6 [00:02<00:00,  2.30it/s, loss=0.212]\n",
      "Training  : 100%|██████████| 6/6 [00:02<00:00,  2.32it/s, loss=0.226]\n",
      "Training  : 100%|██████████| 6/6 [00:02<00:00,  2.31it/s, loss=0.22] \n",
      "Training  : 100%|██████████| 6/6 [00:02<00:00,  2.32it/s, loss=0.218]\n",
      "Training  : 100%|██████████| 6/6 [00:02<00:00,  2.30it/s, loss=0.193] \n",
      "Training  : 100%|██████████| 6/6 [00:02<00:00,  2.26it/s, loss=0.201]\n",
      "Training  : 100%|██████████| 6/6 [00:02<00:00,  2.32it/s, loss=0.177]\n",
      "Training  : 100%|██████████| 6/6 [00:02<00:00,  2.28it/s, loss=0.184]\n",
      "Training  : 100%|██████████| 6/6 [00:02<00:00,  2.28it/s, loss=0.178]\n",
      "Training  : 100%|██████████| 6/6 [00:02<00:00,  2.31it/s, loss=0.154]\n",
      "Training  : 100%|██████████| 6/6 [00:02<00:00,  2.32it/s, loss=0.174]\n",
      "Training  : 100%|██████████| 6/6 [00:02<00:00,  2.33it/s, loss=0.158]\n",
      "Training  : 100%|██████████| 6/6 [00:02<00:00,  2.25it/s, loss=0.164]\n",
      "Training  : 100%|██████████| 6/6 [00:02<00:00,  2.32it/s, loss=0.119] \n",
      "Training  : 100%|██████████| 6/6 [00:02<00:00,  2.33it/s, loss=0.116] \n",
      "Training  : 100%|██████████| 6/6 [00:02<00:00,  2.32it/s, loss=0.0848]\n",
      "Training  : 100%|██████████| 6/6 [00:02<00:00,  2.33it/s, loss=0.0902]\n",
      "Training  : 100%|██████████| 6/6 [00:02<00:00,  2.32it/s, loss=0.0822]\n",
      "Training  : 100%|██████████| 6/6 [00:02<00:00,  2.30it/s, loss=0.0828]\n",
      "Training  : 100%|██████████| 6/6 [00:02<00:00,  2.30it/s, loss=0.0812]\n",
      "Training  : 100%|██████████| 6/6 [00:02<00:00,  2.32it/s, loss=0.0733]\n",
      "Training  : 100%|██████████| 6/6 [00:02<00:00,  2.32it/s, loss=0.0898] \n",
      "Training  : 100%|██████████| 6/6 [00:02<00:00,  2.31it/s, loss=0.105] \n",
      "Training  : 100%|██████████| 6/6 [00:02<00:00,  2.33it/s, loss=0.0879]\n",
      "Training  : 100%|██████████| 6/6 [00:02<00:00,  2.31it/s, loss=0.0762]\n",
      "Training  : 100%|██████████| 6/6 [00:02<00:00,  2.32it/s, loss=0.0726]\n",
      "Training  : 100%|██████████| 6/6 [00:02<00:00,  2.28it/s, loss=0.095] \n",
      "Training  : 100%|██████████| 6/6 [00:02<00:00,  2.31it/s, loss=0.0783]\n",
      "Training  : 100%|██████████| 6/6 [00:02<00:00,  2.31it/s, loss=0.1]   \n",
      "Training  : 100%|██████████| 6/6 [00:02<00:00,  2.28it/s, loss=0.0797]\n",
      "Training  : 100%|██████████| 6/6 [00:02<00:00,  2.35it/s, loss=0.082] \n",
      "Training  : 100%|██████████| 6/6 [00:02<00:00,  2.27it/s, loss=0.066] \n",
      "Training  : 100%|██████████| 6/6 [00:02<00:00,  2.25it/s, loss=0.0743]\n",
      "Training  : 100%|██████████| 6/6 [00:02<00:00,  2.34it/s, loss=0.0764]\n",
      "Training  : 100%|██████████| 6/6 [00:02<00:00,  2.31it/s, loss=0.0683]\n",
      "Training  : 100%|██████████| 6/6 [00:02<00:00,  2.31it/s, loss=0.0675]\n",
      "Training  : 100%|██████████| 6/6 [00:02<00:00,  2.30it/s, loss=0.0701]\n",
      "Training  : 100%|██████████| 6/6 [00:02<00:00,  2.30it/s, loss=0.067] \n",
      "Training  : 100%|██████████| 6/6 [00:02<00:00,  2.32it/s, loss=0.0684]\n",
      "Training  : 100%|██████████| 6/6 [00:02<00:00,  2.31it/s, loss=0.0669]\n",
      "Training  : 100%|██████████| 6/6 [00:02<00:00,  2.30it/s, loss=0.0649]\n",
      "Training  : 100%|██████████| 6/6 [00:02<00:00,  2.30it/s, loss=0.0808]\n",
      "Training  : 100%|██████████| 6/6 [00:02<00:00,  2.33it/s, loss=0.064] \n",
      "Training  : 100%|██████████| 6/6 [00:02<00:00,  2.32it/s, loss=0.0828]\n",
      "Training  : 100%|██████████| 6/6 [00:02<00:00,  2.31it/s, loss=0.0671]\n",
      "Training  : 100%|██████████| 6/6 [00:02<00:00,  2.33it/s, loss=0.0637]\n",
      "Training  : 100%|██████████| 6/6 [00:02<00:00,  2.32it/s, loss=0.07]  \n",
      "Training  : 100%|██████████| 6/6 [00:02<00:00,  2.24it/s, loss=0.0595]\n",
      "Training  : 100%|██████████| 6/6 [00:02<00:00,  2.21it/s, loss=0.0605]\n",
      "Training  : 100%|██████████| 6/6 [00:02<00:00,  2.31it/s, loss=0.0842]\n",
      "Training  : 100%|██████████| 6/6 [00:02<00:00,  2.30it/s, loss=0.0772]\n",
      "Training  : 100%|██████████| 6/6 [00:02<00:00,  2.32it/s, loss=0.0673]\n",
      "Training  : 100%|██████████| 6/6 [00:02<00:00,  2.30it/s, loss=0.0635]\n",
      "Training  : 100%|██████████| 6/6 [00:02<00:00,  2.24it/s, loss=0.0538]\n",
      "Training  : 100%|██████████| 6/6 [00:02<00:00,  2.22it/s, loss=0.063] \n",
      "Training  : 100%|██████████| 6/6 [00:02<00:00,  2.28it/s, loss=0.0639]\n",
      "Training  : 100%|██████████| 6/6 [00:02<00:00,  2.31it/s, loss=0.0674]\n",
      "Training  : 100%|██████████| 6/6 [00:02<00:00,  2.29it/s, loss=0.0703]\n",
      "Training  : 100%|██████████| 6/6 [00:02<00:00,  2.16it/s, loss=0.0646]\n",
      "Training  : 100%|██████████| 6/6 [00:02<00:00,  2.15it/s, loss=0.0713]\n",
      "Training  : 100%|██████████| 6/6 [00:02<00:00,  2.26it/s, loss=0.0633] \n",
      "Training  : 100%|██████████| 6/6 [00:02<00:00,  2.28it/s, loss=0.0865]\n",
      "Training  : 100%|██████████| 6/6 [00:02<00:00,  2.24it/s, loss=0.0672]\n",
      "Training  : 100%|██████████| 6/6 [00:02<00:00,  2.31it/s, loss=0.067]  \n",
      "Training  : 100%|██████████| 6/6 [00:02<00:00,  2.31it/s, loss=0.0735]\n",
      "Training  : 100%|██████████| 6/6 [00:02<00:00,  2.30it/s, loss=0.0591]\n",
      "Training  : 100%|██████████| 6/6 [00:02<00:00,  2.32it/s, loss=0.0688]\n",
      "Training  : 100%|██████████| 6/6 [00:02<00:00,  2.34it/s, loss=0.0609]\n",
      "Predicting: 100%|██████████| 12/12 [00:01<00:00, 10.91it/s]\n"
     ]
    },
    {
     "name": "stdout",
     "output_type": "stream",
     "text": [
      "Building sklearn text classifier...\n",
      "Loading bert-base-uncased model...\n",
      "Defaulting to linear classifier/regressor\n",
      "Loading Pytorch checkpoint\n",
      "train data size: 178, validation data size: 0\n"
     ]
    },
    {
     "name": "stderr",
     "output_type": "stream",
     "text": [
      "Training  : 100%|██████████| 6/6 [00:02<00:00,  2.27it/s, loss=0.934]\n",
      "Training  : 100%|██████████| 6/6 [00:02<00:00,  2.28it/s, loss=0.697]\n",
      "Training  : 100%|██████████| 6/6 [00:02<00:00,  2.32it/s, loss=0.405]\n",
      "Training  : 100%|██████████| 6/6 [00:02<00:00,  2.29it/s, loss=0.298]\n",
      "Training  : 100%|██████████| 6/6 [00:02<00:00,  2.25it/s, loss=0.287]\n",
      "Training  : 100%|██████████| 6/6 [00:02<00:00,  2.30it/s, loss=0.216]\n",
      "Training  : 100%|██████████| 6/6 [00:02<00:00,  2.27it/s, loss=0.259]\n",
      "Training  : 100%|██████████| 6/6 [00:02<00:00,  2.30it/s, loss=0.224]\n",
      "Training  : 100%|██████████| 6/6 [00:02<00:00,  2.24it/s, loss=0.199]\n",
      "Training  : 100%|██████████| 6/6 [00:02<00:00,  2.20it/s, loss=0.22] \n",
      "Training  : 100%|██████████| 6/6 [00:02<00:00,  2.23it/s, loss=0.217]\n",
      "Training  : 100%|██████████| 6/6 [00:02<00:00,  2.28it/s, loss=0.181]\n",
      "Training  : 100%|██████████| 6/6 [00:02<00:00,  2.28it/s, loss=0.218]\n",
      "Training  : 100%|██████████| 6/6 [00:02<00:00,  2.25it/s, loss=0.215] \n",
      "Training  : 100%|██████████| 6/6 [00:02<00:00,  2.28it/s, loss=0.209]\n",
      "Training  : 100%|██████████| 6/6 [00:02<00:00,  2.30it/s, loss=0.208]\n",
      "Training  : 100%|██████████| 6/6 [00:02<00:00,  2.29it/s, loss=0.196] \n",
      "Training  : 100%|██████████| 6/6 [00:02<00:00,  2.29it/s, loss=0.171] \n",
      "Training  : 100%|██████████| 6/6 [00:02<00:00,  2.21it/s, loss=0.17] \n",
      "Training  : 100%|██████████| 6/6 [00:02<00:00,  2.29it/s, loss=0.177] \n",
      "Training  : 100%|██████████| 6/6 [00:02<00:00,  2.30it/s, loss=0.174]\n",
      "Training  : 100%|██████████| 6/6 [00:02<00:00,  2.25it/s, loss=0.149]\n",
      "Training  : 100%|██████████| 6/6 [00:02<00:00,  2.27it/s, loss=0.149]\n",
      "Training  : 100%|██████████| 6/6 [00:02<00:00,  2.23it/s, loss=0.148]\n",
      "Training  : 100%|██████████| 6/6 [00:02<00:00,  2.24it/s, loss=0.135]\n",
      "Training  : 100%|██████████| 6/6 [00:02<00:00,  2.19it/s, loss=0.139] \n",
      "Training  : 100%|██████████| 6/6 [00:02<00:00,  2.30it/s, loss=0.126]\n",
      "Training  : 100%|██████████| 6/6 [00:02<00:00,  2.23it/s, loss=0.12] \n",
      "Training  : 100%|██████████| 6/6 [00:02<00:00,  2.27it/s, loss=0.143]\n",
      "Training  : 100%|██████████| 6/6 [00:02<00:00,  2.28it/s, loss=0.12]  \n",
      "Training  : 100%|██████████| 6/6 [00:02<00:00,  2.25it/s, loss=0.13]  \n",
      "Training  : 100%|██████████| 6/6 [00:02<00:00,  2.29it/s, loss=0.126]\n",
      "Training  : 100%|██████████| 6/6 [00:02<00:00,  2.27it/s, loss=0.107]\n",
      "Training  : 100%|██████████| 6/6 [00:02<00:00,  2.26it/s, loss=0.117]\n",
      "Training  : 100%|██████████| 6/6 [00:02<00:00,  2.19it/s, loss=0.118]\n",
      "Training  : 100%|██████████| 6/6 [00:02<00:00,  2.15it/s, loss=0.13] \n",
      "Training  : 100%|██████████| 6/6 [00:02<00:00,  2.25it/s, loss=0.126] \n",
      "Training  : 100%|██████████| 6/6 [00:02<00:00,  2.18it/s, loss=0.11]  \n",
      "Training  : 100%|██████████| 6/6 [00:02<00:00,  2.23it/s, loss=0.112] \n",
      "Training  : 100%|██████████| 6/6 [00:02<00:00,  2.26it/s, loss=0.111]\n",
      "Training  : 100%|██████████| 6/6 [00:02<00:00,  2.26it/s, loss=0.117] \n",
      "Training  : 100%|██████████| 6/6 [00:02<00:00,  2.17it/s, loss=0.117]\n",
      "Training  : 100%|██████████| 6/6 [00:02<00:00,  2.29it/s, loss=0.1]  \n",
      "Training  : 100%|██████████| 6/6 [00:02<00:00,  2.18it/s, loss=0.107]\n",
      "Training  : 100%|██████████| 6/6 [00:02<00:00,  2.27it/s, loss=0.12]  \n",
      "Training  : 100%|██████████| 6/6 [00:02<00:00,  2.13it/s, loss=0.0953]\n",
      "Training  : 100%|██████████| 6/6 [00:02<00:00,  2.29it/s, loss=0.11]  \n",
      "Training  : 100%|██████████| 6/6 [00:02<00:00,  2.22it/s, loss=0.107]\n",
      "Training  : 100%|██████████| 6/6 [00:02<00:00,  2.30it/s, loss=0.116] \n",
      "Training  : 100%|██████████| 6/6 [00:02<00:00,  2.28it/s, loss=0.108] \n",
      "Training  : 100%|██████████| 6/6 [00:02<00:00,  2.17it/s, loss=0.119] \n",
      "Training  : 100%|██████████| 6/6 [00:02<00:00,  2.28it/s, loss=0.113] \n",
      "Training  : 100%|██████████| 6/6 [00:02<00:00,  2.30it/s, loss=0.111]\n",
      "Training  : 100%|██████████| 6/6 [00:02<00:00,  2.28it/s, loss=0.115] \n",
      "Training  : 100%|██████████| 6/6 [00:02<00:00,  2.25it/s, loss=0.105] \n",
      "Training  : 100%|██████████| 6/6 [00:02<00:00,  2.30it/s, loss=0.103]\n",
      "Training  : 100%|██████████| 6/6 [00:02<00:00,  2.27it/s, loss=0.131] \n",
      "Training  : 100%|██████████| 6/6 [00:02<00:00,  2.27it/s, loss=0.108] \n",
      "Training  : 100%|██████████| 6/6 [00:02<00:00,  2.27it/s, loss=0.116] \n",
      "Training  : 100%|██████████| 6/6 [00:02<00:00,  2.27it/s, loss=0.11] \n",
      "Training  : 100%|██████████| 6/6 [00:02<00:00,  2.26it/s, loss=0.108]\n",
      "Training  : 100%|██████████| 6/6 [00:02<00:00,  2.25it/s, loss=0.108]\n",
      "Training  : 100%|██████████| 6/6 [00:02<00:00,  2.29it/s, loss=0.107] \n",
      "Training  : 100%|██████████| 6/6 [00:02<00:00,  2.27it/s, loss=0.115] \n",
      "Training  : 100%|██████████| 6/6 [00:02<00:00,  2.17it/s, loss=0.111] \n",
      "Training  : 100%|██████████| 6/6 [00:02<00:00,  2.28it/s, loss=0.106] \n",
      "Training  : 100%|██████████| 6/6 [00:02<00:00,  2.25it/s, loss=0.108]\n",
      "Training  : 100%|██████████| 6/6 [00:02<00:00,  2.27it/s, loss=0.101] \n",
      "Training  : 100%|██████████| 6/6 [00:02<00:00,  2.29it/s, loss=0.116] \n",
      "Training  : 100%|██████████| 6/6 [00:02<00:00,  2.29it/s, loss=0.0983]\n",
      "Training  : 100%|██████████| 6/6 [00:02<00:00,  2.28it/s, loss=0.121] \n",
      "Training  : 100%|██████████| 6/6 [00:02<00:00,  2.27it/s, loss=0.11]  \n",
      "Training  : 100%|██████████| 6/6 [00:02<00:00,  2.25it/s, loss=0.119] \n",
      "Training  : 100%|██████████| 6/6 [00:02<00:00,  2.20it/s, loss=0.104] \n",
      "Training  : 100%|██████████| 6/6 [00:02<00:00,  2.30it/s, loss=0.101]\n",
      "Predicting: 100%|██████████| 12/12 [00:01<00:00, 10.50it/s]\n"
     ]
    },
    {
     "name": "stdout",
     "output_type": "stream",
     "text": [
      "Building sklearn text classifier...\n",
      "Loading bert-base-uncased model...\n",
      "Defaulting to linear classifier/regressor\n",
      "Loading Pytorch checkpoint\n",
      "train data size: 178, validation data size: 0\n"
     ]
    },
    {
     "name": "stderr",
     "output_type": "stream",
     "text": [
      "Training  : 100%|██████████| 6/6 [00:02<00:00,  2.24it/s, loss=0.941]\n",
      "Training  : 100%|██████████| 6/6 [00:02<00:00,  2.25it/s, loss=0.713]\n",
      "Training  : 100%|██████████| 6/6 [00:02<00:00,  2.25it/s, loss=0.458]\n",
      "Training  : 100%|██████████| 6/6 [00:02<00:00,  2.22it/s, loss=0.313]\n",
      "Training  : 100%|██████████| 6/6 [00:02<00:00,  2.24it/s, loss=0.298]\n",
      "Training  : 100%|██████████| 6/6 [00:02<00:00,  2.27it/s, loss=0.233]\n",
      "Training  : 100%|██████████| 6/6 [00:02<00:00,  2.21it/s, loss=0.238]\n",
      "Training  : 100%|██████████| 6/6 [00:02<00:00,  2.17it/s, loss=0.262]\n",
      "Training  : 100%|██████████| 6/6 [00:02<00:00,  2.27it/s, loss=0.216]\n",
      "Training  : 100%|██████████| 6/6 [00:02<00:00,  2.24it/s, loss=0.224]\n",
      "Training  : 100%|██████████| 6/6 [00:02<00:00,  2.26it/s, loss=0.215]\n",
      "Training  : 100%|██████████| 6/6 [00:02<00:00,  2.18it/s, loss=0.219]\n",
      "Training  : 100%|██████████| 6/6 [00:02<00:00,  2.23it/s, loss=0.214]\n",
      "Training  : 100%|██████████| 6/6 [00:02<00:00,  2.23it/s, loss=0.231]\n",
      "Training  : 100%|██████████| 6/6 [00:02<00:00,  2.19it/s, loss=0.211]\n",
      "Training  : 100%|██████████| 6/6 [00:02<00:00,  2.17it/s, loss=0.197]\n",
      "Training  : 100%|██████████| 6/6 [00:02<00:00,  2.22it/s, loss=0.208]\n",
      "Training  : 100%|██████████| 6/6 [00:02<00:00,  2.22it/s, loss=0.172]\n",
      "Training  : 100%|██████████| 6/6 [00:02<00:00,  2.24it/s, loss=0.169]\n",
      "Training  : 100%|██████████| 6/6 [00:02<00:00,  2.26it/s, loss=0.148] \n",
      "Training  : 100%|██████████| 6/6 [00:02<00:00,  2.24it/s, loss=0.175]\n",
      "Training  : 100%|██████████| 6/6 [00:02<00:00,  2.25it/s, loss=0.14] \n",
      "Training  : 100%|██████████| 6/6 [00:02<00:00,  2.25it/s, loss=0.149]\n",
      "Training  : 100%|██████████| 6/6 [00:02<00:00,  2.29it/s, loss=0.158]\n",
      "Training  : 100%|██████████| 6/6 [00:02<00:00,  2.24it/s, loss=0.129]\n",
      "Training  : 100%|██████████| 6/6 [00:02<00:00,  2.26it/s, loss=0.146] \n",
      "Training  : 100%|██████████| 6/6 [00:02<00:00,  2.26it/s, loss=0.133]\n",
      "Training  : 100%|██████████| 6/6 [00:02<00:00,  2.24it/s, loss=0.123]\n",
      "Training  : 100%|██████████| 6/6 [00:02<00:00,  2.24it/s, loss=0.143]\n",
      "Training  : 100%|██████████| 6/6 [00:02<00:00,  2.25it/s, loss=0.132] \n",
      "Training  : 100%|██████████| 6/6 [00:02<00:00,  2.17it/s, loss=0.135] \n",
      "Training  : 100%|██████████| 6/6 [00:02<00:00,  2.23it/s, loss=0.118]\n",
      "Training  : 100%|██████████| 6/6 [00:02<00:00,  2.24it/s, loss=0.115]\n",
      "Training  : 100%|██████████| 6/6 [00:02<00:00,  2.26it/s, loss=0.12]  \n",
      "Training  : 100%|██████████| 6/6 [00:02<00:00,  2.21it/s, loss=0.109]\n",
      "Training  : 100%|██████████| 6/6 [00:02<00:00,  2.24it/s, loss=0.115] \n",
      "Training  : 100%|██████████| 6/6 [00:02<00:00,  2.24it/s, loss=0.125]\n",
      "Training  : 100%|██████████| 6/6 [00:02<00:00,  2.25it/s, loss=0.122] \n",
      "Training  : 100%|██████████| 6/6 [00:02<00:00,  2.26it/s, loss=0.118] \n",
      "Training  : 100%|██████████| 6/6 [00:02<00:00,  2.22it/s, loss=0.112]\n",
      "Training  : 100%|██████████| 6/6 [00:02<00:00,  2.25it/s, loss=0.118] \n",
      "Training  : 100%|██████████| 6/6 [00:02<00:00,  2.17it/s, loss=0.113] \n",
      "Training  : 100%|██████████| 6/6 [00:02<00:00,  2.23it/s, loss=0.105]\n",
      "Training  : 100%|██████████| 6/6 [00:02<00:00,  2.20it/s, loss=0.114]\n",
      "Training  : 100%|██████████| 6/6 [00:02<00:00,  2.20it/s, loss=0.104]\n",
      "Training  : 100%|██████████| 6/6 [00:02<00:00,  2.14it/s, loss=0.115] \n",
      "Training  : 100%|██████████| 6/6 [00:02<00:00,  2.23it/s, loss=0.109] \n",
      "Training  : 100%|██████████| 6/6 [00:02<00:00,  2.23it/s, loss=0.108]\n",
      "Training  : 100%|██████████| 6/6 [00:02<00:00,  2.24it/s, loss=0.106] \n",
      "Training  : 100%|██████████| 6/6 [00:02<00:00,  2.24it/s, loss=0.104] \n",
      "Training  : 100%|██████████| 6/6 [00:02<00:00,  2.22it/s, loss=0.105] \n",
      "Training  : 100%|██████████| 6/6 [00:02<00:00,  2.25it/s, loss=0.127] \n",
      "Training  : 100%|██████████| 6/6 [00:02<00:00,  2.22it/s, loss=0.109] \n",
      "Training  : 100%|██████████| 6/6 [00:02<00:00,  2.23it/s, loss=0.123]\n",
      "Training  : 100%|██████████| 6/6 [00:02<00:00,  2.27it/s, loss=0.113] \n",
      "Training  : 100%|██████████| 6/6 [00:02<00:00,  2.26it/s, loss=0.112] \n",
      "Training  : 100%|██████████| 6/6 [00:02<00:00,  2.23it/s, loss=0.117]\n",
      "Training  : 100%|██████████| 6/6 [00:02<00:00,  2.26it/s, loss=0.105] \n",
      "Training  : 100%|██████████| 6/6 [00:02<00:00,  2.13it/s, loss=0.114] \n",
      "Training  : 100%|██████████| 6/6 [00:02<00:00,  2.22it/s, loss=0.118]\n",
      "Training  : 100%|██████████| 6/6 [00:02<00:00,  2.15it/s, loss=0.107]\n",
      "Training  : 100%|██████████| 6/6 [00:02<00:00,  2.20it/s, loss=0.11] \n",
      "Training  : 100%|██████████| 6/6 [00:02<00:00,  2.23it/s, loss=0.104] \n",
      "Training  : 100%|██████████| 6/6 [00:02<00:00,  2.24it/s, loss=0.104] \n",
      "Training  : 100%|██████████| 6/6 [00:02<00:00,  2.24it/s, loss=0.113] \n",
      "Training  : 100%|██████████| 6/6 [00:02<00:00,  2.14it/s, loss=0.11] \n",
      "Training  : 100%|██████████| 6/6 [00:02<00:00,  2.19it/s, loss=0.0952]\n",
      "Training  : 100%|██████████| 6/6 [00:02<00:00,  2.20it/s, loss=0.108] \n",
      "Training  : 100%|██████████| 6/6 [00:02<00:00,  2.23it/s, loss=0.115] \n",
      "Training  : 100%|██████████| 6/6 [00:02<00:00,  2.13it/s, loss=0.104]\n",
      "Training  : 100%|██████████| 6/6 [00:02<00:00,  2.17it/s, loss=0.114] \n",
      "Training  : 100%|██████████| 6/6 [00:02<00:00,  2.20it/s, loss=0.131]\n",
      "Training  : 100%|██████████| 6/6 [00:02<00:00,  2.19it/s, loss=0.117] \n",
      "Training  : 100%|██████████| 6/6 [00:02<00:00,  2.21it/s, loss=0.115] \n",
      "Training  : 100%|██████████| 6/6 [00:02<00:00,  2.25it/s, loss=0.108] \n",
      "Predicting: 100%|██████████| 12/12 [00:01<00:00, 10.15it/s]\n"
     ]
    },
    {
     "name": "stdout",
     "output_type": "stream",
     "text": [
      "Building sklearn text classifier...\n",
      "Loading bert-base-uncased model...\n",
      "Defaulting to linear classifier/regressor\n",
      "Loading Pytorch checkpoint\n",
      "train data size: 178, validation data size: 0\n"
     ]
    },
    {
     "name": "stderr",
     "output_type": "stream",
     "text": [
      "Training  : 100%|██████████| 6/6 [00:02<00:00,  2.20it/s, loss=0.924]\n",
      "Training  : 100%|██████████| 6/6 [00:02<00:00,  2.25it/s, loss=0.608]\n",
      "Training  : 100%|██████████| 6/6 [00:02<00:00,  2.13it/s, loss=0.367]\n",
      "Training  : 100%|██████████| 6/6 [00:02<00:00,  2.16it/s, loss=0.288]\n",
      "Training  : 100%|██████████| 6/6 [00:02<00:00,  2.22it/s, loss=0.221]\n",
      "Training  : 100%|██████████| 6/6 [00:02<00:00,  2.23it/s, loss=0.241]\n",
      "Training  : 100%|██████████| 6/6 [00:02<00:00,  2.15it/s, loss=0.247]\n",
      "Training  : 100%|██████████| 6/6 [00:02<00:00,  2.20it/s, loss=0.198]\n",
      "Training  : 100%|██████████| 6/6 [00:02<00:00,  2.25it/s, loss=0.177]\n",
      "Training  : 100%|██████████| 6/6 [00:02<00:00,  2.22it/s, loss=0.163] \n",
      "Training  : 100%|██████████| 6/6 [00:02<00:00,  2.24it/s, loss=0.205]\n",
      "Training  : 100%|██████████| 6/6 [00:02<00:00,  2.23it/s, loss=0.131] \n",
      "Training  : 100%|██████████| 6/6 [00:02<00:00,  2.25it/s, loss=0.0991]\n",
      "Training  : 100%|██████████| 6/6 [00:02<00:00,  2.21it/s, loss=0.117]\n",
      "Training  : 100%|██████████| 6/6 [00:02<00:00,  2.24it/s, loss=0.102]\n",
      "Training  : 100%|██████████| 6/6 [00:02<00:00,  2.20it/s, loss=0.11]  \n",
      "Training  : 100%|██████████| 6/6 [00:02<00:00,  2.24it/s, loss=0.103] \n",
      "Training  : 100%|██████████| 6/6 [00:02<00:00,  2.23it/s, loss=0.105] \n",
      "Training  : 100%|██████████| 6/6 [00:02<00:00,  2.23it/s, loss=0.0959]\n",
      "Training  : 100%|██████████| 6/6 [00:02<00:00,  2.20it/s, loss=0.113] \n",
      "Training  : 100%|██████████| 6/6 [00:02<00:00,  2.24it/s, loss=0.0909]\n",
      "Training  : 100%|██████████| 6/6 [00:02<00:00,  2.25it/s, loss=0.0838]\n",
      "Training  : 100%|██████████| 6/6 [00:02<00:00,  2.25it/s, loss=0.0756]\n",
      "Training  : 100%|██████████| 6/6 [00:02<00:00,  2.20it/s, loss=0.0761]\n",
      "Training  : 100%|██████████| 6/6 [00:02<00:00,  2.25it/s, loss=0.0727] \n",
      "Training  : 100%|██████████| 6/6 [00:02<00:00,  2.23it/s, loss=0.0712]\n",
      "Training  : 100%|██████████| 6/6 [00:02<00:00,  2.20it/s, loss=0.082] \n",
      "Training  : 100%|██████████| 6/6 [00:02<00:00,  2.23it/s, loss=0.0687]\n",
      "Training  : 100%|██████████| 6/6 [00:02<00:00,  2.27it/s, loss=0.0754] \n",
      "Training  : 100%|██████████| 6/6 [00:02<00:00,  2.25it/s, loss=0.0644]\n",
      "Training  : 100%|██████████| 6/6 [00:02<00:00,  2.22it/s, loss=0.0691]\n",
      "Training  : 100%|██████████| 6/6 [00:02<00:00,  2.27it/s, loss=0.0683]\n",
      "Training  : 100%|██████████| 6/6 [00:02<00:00,  2.24it/s, loss=0.0657]\n",
      "Training  : 100%|██████████| 6/6 [00:02<00:00,  2.27it/s, loss=0.0841]\n",
      "Training  : 100%|██████████| 6/6 [00:02<00:00,  2.25it/s, loss=0.0677]\n",
      "Training  : 100%|██████████| 6/6 [00:02<00:00,  2.25it/s, loss=0.0825]\n",
      "Training  : 100%|██████████| 6/6 [00:02<00:00,  2.26it/s, loss=0.0734]\n",
      "Training  : 100%|██████████| 6/6 [00:02<00:00,  2.26it/s, loss=0.0707] \n",
      "Training  : 100%|██████████| 6/6 [00:02<00:00,  2.25it/s, loss=0.0637]\n",
      "Training  : 100%|██████████| 6/6 [00:02<00:00,  2.23it/s, loss=0.0693]\n",
      "Training  : 100%|██████████| 6/6 [00:02<00:00,  2.24it/s, loss=0.0635]\n",
      "Training  : 100%|██████████| 6/6 [00:02<00:00,  2.13it/s, loss=0.0676]\n",
      "Training  : 100%|██████████| 6/6 [00:02<00:00,  2.19it/s, loss=0.0644]\n",
      "Training  : 100%|██████████| 6/6 [00:02<00:00,  2.24it/s, loss=0.0639]\n",
      "Training  : 100%|██████████| 6/6 [00:02<00:00,  2.18it/s, loss=0.0652]\n",
      "Training  : 100%|██████████| 6/6 [00:02<00:00,  2.24it/s, loss=0.0643]\n",
      "Training  : 100%|██████████| 6/6 [00:02<00:00,  2.17it/s, loss=0.0626]\n",
      "Training  : 100%|██████████| 6/6 [00:02<00:00,  2.18it/s, loss=0.0658] \n",
      "Training  : 100%|██████████| 6/6 [00:02<00:00,  2.18it/s, loss=0.0799]\n",
      "Training  : 100%|██████████| 6/6 [00:02<00:00,  2.24it/s, loss=0.0589]\n",
      "Training  : 100%|██████████| 6/6 [00:02<00:00,  2.16it/s, loss=0.0821]\n",
      "Training  : 100%|██████████| 6/6 [00:02<00:00,  2.20it/s, loss=0.0614]\n",
      "Training  : 100%|██████████| 6/6 [00:02<00:00,  2.23it/s, loss=0.0679]\n",
      "Training  : 100%|██████████| 6/6 [00:02<00:00,  2.22it/s, loss=0.0742]\n",
      "Training  : 100%|██████████| 6/6 [00:02<00:00,  2.15it/s, loss=0.0632]\n",
      "Training  : 100%|██████████| 6/6 [00:02<00:00,  2.27it/s, loss=0.0598]\n",
      "Training  : 100%|██████████| 6/6 [00:02<00:00,  2.26it/s, loss=0.0784]\n",
      "Training  : 100%|██████████| 6/6 [00:02<00:00,  2.27it/s, loss=0.0645]\n",
      "Training  : 100%|██████████| 6/6 [00:02<00:00,  2.16it/s, loss=0.063] \n",
      "Training  : 100%|██████████| 6/6 [00:02<00:00,  2.26it/s, loss=0.0626]\n",
      "Training  : 100%|██████████| 6/6 [00:02<00:00,  2.23it/s, loss=0.0605]\n",
      "Training  : 100%|██████████| 6/6 [00:02<00:00,  2.17it/s, loss=0.0662]\n",
      "Training  : 100%|██████████| 6/6 [00:02<00:00,  2.25it/s, loss=0.0595]\n",
      "Training  : 100%|██████████| 6/6 [00:02<00:00,  2.27it/s, loss=0.0659]\n",
      "Training  : 100%|██████████| 6/6 [00:02<00:00,  2.14it/s, loss=0.0595]\n",
      "Training  : 100%|██████████| 6/6 [00:02<00:00,  2.26it/s, loss=0.0609]\n",
      "Training  : 100%|██████████| 6/6 [00:02<00:00,  2.25it/s, loss=0.0616]\n",
      "Training  : 100%|██████████| 6/6 [00:02<00:00,  2.23it/s, loss=0.0574]\n",
      "Training  : 100%|██████████| 6/6 [00:02<00:00,  2.19it/s, loss=0.0742]\n",
      "Training  : 100%|██████████| 6/6 [00:02<00:00,  2.24it/s, loss=0.0611]\n",
      "Training  : 100%|██████████| 6/6 [00:02<00:00,  2.16it/s, loss=0.0612] \n",
      "Training  : 100%|██████████| 6/6 [00:02<00:00,  2.16it/s, loss=0.0611]\n",
      "Training  : 100%|██████████| 6/6 [00:02<00:00,  2.22it/s, loss=0.0612]\n",
      "Training  : 100%|██████████| 6/6 [00:02<00:00,  2.24it/s, loss=0.0609] \n",
      "Training  : 100%|██████████| 6/6 [00:02<00:00,  2.23it/s, loss=0.0605]\n",
      "Training  : 100%|██████████| 6/6 [00:02<00:00,  2.22it/s, loss=0.0752]\n",
      "Training  : 100%|██████████| 6/6 [00:02<00:00,  2.27it/s, loss=0.0624]\n",
      "Training  : 100%|██████████| 6/6 [00:02<00:00,  2.23it/s, loss=0.0794]\n",
      "Training  : 100%|██████████| 6/6 [00:02<00:00,  2.22it/s, loss=0.0695]\n",
      "Training  : 100%|██████████| 6/6 [00:02<00:00,  2.26it/s, loss=0.0561]\n",
      "Training  : 100%|██████████| 6/6 [00:02<00:00,  2.17it/s, loss=0.0577] \n",
      "Training  : 100%|██████████| 6/6 [00:02<00:00,  2.19it/s, loss=0.0627]\n",
      "Training  : 100%|██████████| 6/6 [00:02<00:00,  2.14it/s, loss=0.0598]\n",
      "Training  : 100%|██████████| 6/6 [00:02<00:00,  2.23it/s, loss=0.0599]\n",
      "Training  : 100%|██████████| 6/6 [00:02<00:00,  2.16it/s, loss=0.058] \n",
      "Training  : 100%|██████████| 6/6 [00:02<00:00,  2.27it/s, loss=0.0634]\n",
      "Training  : 100%|██████████| 6/6 [00:02<00:00,  2.17it/s, loss=0.064] \n",
      "Training  : 100%|██████████| 6/6 [00:02<00:00,  2.25it/s, loss=0.0644]\n",
      "Training  : 100%|██████████| 6/6 [00:02<00:00,  2.25it/s, loss=0.0766]\n",
      "Training  : 100%|██████████| 6/6 [00:02<00:00,  2.27it/s, loss=0.0635]\n",
      "Training  : 100%|██████████| 6/6 [00:02<00:00,  2.26it/s, loss=0.0578] \n",
      "Training  : 100%|██████████| 6/6 [00:02<00:00,  2.26it/s, loss=0.0598] \n",
      "Training  : 100%|██████████| 6/6 [00:02<00:00,  2.18it/s, loss=0.0624]\n",
      "Training  : 100%|██████████| 6/6 [00:02<00:00,  2.26it/s, loss=0.058] \n",
      "Training  : 100%|██████████| 6/6 [00:02<00:00,  2.21it/s, loss=0.066] \n",
      "Training  : 100%|██████████| 6/6 [00:02<00:00,  2.19it/s, loss=0.0643]\n",
      "Training  : 100%|██████████| 6/6 [00:02<00:00,  2.26it/s, loss=0.059] \n",
      "Training  : 100%|██████████| 6/6 [00:02<00:00,  2.16it/s, loss=0.0596]\n",
      "Training  : 100%|██████████| 6/6 [00:02<00:00,  2.18it/s, loss=0.0629]\n",
      "Training  : 100%|██████████| 6/6 [00:02<00:00,  2.15it/s, loss=0.057] \n",
      "Predicting: 100%|██████████| 12/12 [00:01<00:00, 10.26it/s]\n"
     ]
    },
    {
     "name": "stdout",
     "output_type": "stream",
     "text": [
      "Building sklearn text classifier...\n",
      "Loading bert-base-uncased model...\n",
      "Defaulting to linear classifier/regressor\n",
      "Loading Pytorch checkpoint\n",
      "train data size: 178, validation data size: 0\n"
     ]
    },
    {
     "name": "stderr",
     "output_type": "stream",
     "text": [
      "Training  : 100%|██████████| 6/6 [00:02<00:00,  2.20it/s, loss=0.923]\n",
      "Training  : 100%|██████████| 6/6 [00:02<00:00,  2.26it/s, loss=0.609]\n",
      "Training  : 100%|██████████| 6/6 [00:02<00:00,  2.23it/s, loss=0.354]\n",
      "Training  : 100%|██████████| 6/6 [00:02<00:00,  2.23it/s, loss=0.264]\n",
      "Training  : 100%|██████████| 6/6 [00:02<00:00,  2.15it/s, loss=0.234]\n",
      "Training  : 100%|██████████| 6/6 [00:02<00:00,  2.26it/s, loss=0.21]  \n",
      "Training  : 100%|██████████| 6/6 [00:02<00:00,  2.25it/s, loss=0.248]\n",
      "Training  : 100%|██████████| 6/6 [00:02<00:00,  2.18it/s, loss=0.215]\n",
      "Training  : 100%|██████████| 6/6 [00:02<00:00,  2.25it/s, loss=0.225]\n",
      "Training  : 100%|██████████| 6/6 [00:02<00:00,  2.25it/s, loss=0.241]\n",
      "Training  : 100%|██████████| 6/6 [00:02<00:00,  2.17it/s, loss=0.243]\n",
      "Training  : 100%|██████████| 6/6 [00:02<00:00,  2.24it/s, loss=0.196]\n",
      "Training  : 100%|██████████| 6/6 [00:02<00:00,  2.25it/s, loss=0.203]\n",
      "Training  : 100%|██████████| 6/6 [00:02<00:00,  2.27it/s, loss=0.197] \n",
      "Training  : 100%|██████████| 6/6 [00:02<00:00,  2.25it/s, loss=0.179]\n",
      "Training  : 100%|██████████| 6/6 [00:02<00:00,  2.25it/s, loss=0.156]\n",
      "Training  : 100%|██████████| 6/6 [00:02<00:00,  2.27it/s, loss=0.162]\n",
      "Training  : 100%|██████████| 6/6 [00:02<00:00,  2.26it/s, loss=0.139] \n",
      "Training  : 100%|██████████| 6/6 [00:02<00:00,  2.28it/s, loss=0.123]\n",
      "Training  : 100%|██████████| 6/6 [00:02<00:00,  2.21it/s, loss=0.134] \n",
      "Training  : 100%|██████████| 6/6 [00:02<00:00,  2.26it/s, loss=0.134] \n",
      "Training  : 100%|██████████| 6/6 [00:02<00:00,  2.26it/s, loss=0.128] \n",
      "Training  : 100%|██████████| 6/6 [00:02<00:00,  2.20it/s, loss=0.127]\n",
      "Training  : 100%|██████████| 6/6 [00:02<00:00,  2.16it/s, loss=0.118] \n",
      "Training  : 100%|██████████| 6/6 [00:02<00:00,  2.22it/s, loss=0.114] \n",
      "Training  : 100%|██████████| 6/6 [00:02<00:00,  2.22it/s, loss=0.114] \n",
      "Training  : 100%|██████████| 6/6 [00:02<00:00,  2.26it/s, loss=0.107] \n",
      "Training  : 100%|██████████| 6/6 [00:02<00:00,  2.24it/s, loss=0.115]\n",
      "Training  : 100%|██████████| 6/6 [00:02<00:00,  2.22it/s, loss=0.115] \n",
      "Training  : 100%|██████████| 6/6 [00:02<00:00,  2.25it/s, loss=0.116]\n",
      "Training  : 100%|██████████| 6/6 [00:02<00:00,  2.23it/s, loss=0.107] \n",
      "Training  : 100%|██████████| 6/6 [00:02<00:00,  2.18it/s, loss=0.104] \n",
      "Training  : 100%|██████████| 6/6 [00:02<00:00,  2.23it/s, loss=0.107]\n",
      "Training  : 100%|██████████| 6/6 [00:02<00:00,  2.24it/s, loss=0.111] \n",
      "Training  : 100%|██████████| 6/6 [00:02<00:00,  2.23it/s, loss=0.112]\n",
      "Training  : 100%|██████████| 6/6 [00:02<00:00,  2.20it/s, loss=0.137]\n",
      "Training  : 100%|██████████| 6/6 [00:02<00:00,  2.25it/s, loss=0.119] \n",
      "Training  : 100%|██████████| 6/6 [00:02<00:00,  2.20it/s, loss=0.0982]\n",
      "Training  : 100%|██████████| 6/6 [00:02<00:00,  2.20it/s, loss=0.107] \n",
      "Training  : 100%|██████████| 6/6 [00:02<00:00,  2.18it/s, loss=0.126]\n",
      "Training  : 100%|██████████| 6/6 [00:02<00:00,  2.22it/s, loss=0.119] \n",
      "Training  : 100%|██████████| 6/6 [00:02<00:00,  2.17it/s, loss=0.117]\n",
      "Training  : 100%|██████████| 6/6 [00:02<00:00,  2.24it/s, loss=0.106]\n",
      "Training  : 100%|██████████| 6/6 [00:02<00:00,  2.22it/s, loss=0.109] \n",
      "Training  : 100%|██████████| 6/6 [00:02<00:00,  2.13it/s, loss=0.118] \n",
      "Training  : 100%|██████████| 6/6 [00:02<00:00,  2.23it/s, loss=0.103]\n",
      "Training  : 100%|██████████| 6/6 [00:02<00:00,  2.24it/s, loss=0.107] \n",
      "Training  : 100%|██████████| 6/6 [00:02<00:00,  2.24it/s, loss=0.104]\n",
      "Training  : 100%|██████████| 6/6 [00:02<00:00,  2.19it/s, loss=0.118]\n",
      "Training  : 100%|██████████| 6/6 [00:02<00:00,  2.23it/s, loss=0.109] \n",
      "Training  : 100%|██████████| 6/6 [00:02<00:00,  2.22it/s, loss=0.118] \n",
      "Training  : 100%|██████████| 6/6 [00:02<00:00,  2.19it/s, loss=0.115] \n",
      "Training  : 100%|██████████| 6/6 [00:02<00:00,  2.23it/s, loss=0.106]\n",
      "Training  : 100%|██████████| 6/6 [00:02<00:00,  2.18it/s, loss=0.113] \n",
      "Training  : 100%|██████████| 6/6 [00:02<00:00,  2.23it/s, loss=0.111] \n",
      "Training  : 100%|██████████| 6/6 [00:02<00:00,  2.13it/s, loss=0.104]\n",
      "Training  : 100%|██████████| 6/6 [00:02<00:00,  2.15it/s, loss=0.126] \n",
      "Training  : 100%|██████████| 6/6 [00:02<00:00,  2.24it/s, loss=0.101] \n",
      "Training  : 100%|██████████| 6/6 [00:02<00:00,  2.22it/s, loss=0.128] \n",
      "Training  : 100%|██████████| 6/6 [00:02<00:00,  2.23it/s, loss=0.109]\n",
      "Training  : 100%|██████████| 6/6 [00:02<00:00,  2.16it/s, loss=0.0979]\n",
      "Training  : 100%|██████████| 6/6 [00:02<00:00,  2.24it/s, loss=0.0982]\n",
      "Training  : 100%|██████████| 6/6 [00:02<00:00,  2.21it/s, loss=0.114] \n",
      "Training  : 100%|██████████| 6/6 [00:02<00:00,  2.24it/s, loss=0.106] \n",
      "Training  : 100%|██████████| 6/6 [00:02<00:00,  2.26it/s, loss=0.113] \n",
      "Training  : 100%|██████████| 6/6 [00:02<00:00,  2.22it/s, loss=0.102] \n",
      "Training  : 100%|██████████| 6/6 [00:02<00:00,  2.17it/s, loss=0.0964]\n",
      "Training  : 100%|██████████| 6/6 [00:02<00:00,  2.19it/s, loss=0.0931]\n",
      "Training  : 100%|██████████| 6/6 [00:02<00:00,  2.14it/s, loss=0.118] \n",
      "Training  : 100%|██████████| 6/6 [00:02<00:00,  2.20it/s, loss=0.098]\n",
      "Training  : 100%|██████████| 6/6 [00:02<00:00,  2.17it/s, loss=0.115] \n",
      "Training  : 100%|██████████| 6/6 [00:02<00:00,  2.24it/s, loss=0.109] \n",
      "Training  : 100%|██████████| 6/6 [00:02<00:00,  2.23it/s, loss=0.123] \n",
      "Training  : 100%|██████████| 6/6 [00:02<00:00,  2.18it/s, loss=0.103] \n",
      "Training  : 100%|██████████| 6/6 [00:02<00:00,  2.15it/s, loss=0.101] \n",
      "Training  : 100%|██████████| 6/6 [00:02<00:00,  2.18it/s, loss=0.127] \n",
      "Training  : 100%|██████████| 6/6 [00:02<00:00,  2.15it/s, loss=0.111] \n",
      "Training  : 100%|██████████| 6/6 [00:02<00:00,  2.23it/s, loss=0.122] \n",
      "Training  : 100%|██████████| 6/6 [00:02<00:00,  2.18it/s, loss=0.102] \n",
      "Training  : 100%|██████████| 6/6 [00:02<00:00,  2.23it/s, loss=0.106]\n",
      "Training  : 100%|██████████| 6/6 [00:02<00:00,  2.26it/s, loss=0.103] \n",
      "Training  : 100%|██████████| 6/6 [00:02<00:00,  2.28it/s, loss=0.0983]\n",
      "Training  : 100%|██████████| 6/6 [00:02<00:00,  2.26it/s, loss=0.0936]\n",
      "Training  : 100%|██████████| 6/6 [00:02<00:00,  2.26it/s, loss=0.111] \n",
      "Training  : 100%|██████████| 6/6 [00:02<00:00,  2.28it/s, loss=0.107] \n",
      "Training  : 100%|██████████| 6/6 [00:02<00:00,  2.17it/s, loss=0.101]\n",
      "Training  : 100%|██████████| 6/6 [00:02<00:00,  2.22it/s, loss=0.122] \n",
      "Training  : 100%|██████████| 6/6 [00:02<00:00,  2.25it/s, loss=0.108] \n",
      "Training  : 100%|██████████| 6/6 [00:02<00:00,  2.25it/s, loss=0.111] \n",
      "Training  : 100%|██████████| 6/6 [00:02<00:00,  2.23it/s, loss=0.107] \n",
      "Training  : 100%|██████████| 6/6 [00:02<00:00,  2.22it/s, loss=0.111] \n",
      "Training  : 100%|██████████| 6/6 [00:02<00:00,  2.22it/s, loss=0.103] \n",
      "Training  : 100%|██████████| 6/6 [00:02<00:00,  2.26it/s, loss=0.0988]\n",
      "Training  : 100%|██████████| 6/6 [00:02<00:00,  2.25it/s, loss=0.114] \n",
      "Training  : 100%|██████████| 6/6 [00:02<00:00,  2.25it/s, loss=0.106] \n",
      "Training  : 100%|██████████| 6/6 [00:02<00:00,  2.24it/s, loss=0.108] \n",
      "Training  : 100%|██████████| 6/6 [00:02<00:00,  2.20it/s, loss=0.0972]\n",
      "Training  : 100%|██████████| 6/6 [00:02<00:00,  2.26it/s, loss=0.11] \n",
      "Training  : 100%|██████████| 6/6 [00:02<00:00,  2.26it/s, loss=0.115] \n",
      "Training  : 100%|██████████| 6/6 [00:02<00:00,  2.25it/s, loss=0.114] \n",
      "Predicting: 100%|██████████| 12/12 [00:01<00:00, 10.32it/s]\n"
     ]
    },
    {
     "name": "stdout",
     "output_type": "stream",
     "text": [
      "Building sklearn text classifier...\n",
      "Loading bert-base-uncased model...\n",
      "Defaulting to linear classifier/regressor\n",
      "Loading Pytorch checkpoint\n",
      "train data size: 178, validation data size: 0\n"
     ]
    },
    {
     "name": "stderr",
     "output_type": "stream",
     "text": [
      "Training  : 100%|██████████| 6/6 [00:02<00:00,  2.12it/s, loss=0.929]\n",
      "Training  : 100%|██████████| 6/6 [00:02<00:00,  2.26it/s, loss=0.631]\n",
      "Training  : 100%|██████████| 6/6 [00:02<00:00,  2.25it/s, loss=0.4]  \n",
      "Training  : 100%|██████████| 6/6 [00:02<00:00,  2.18it/s, loss=0.295]\n",
      "Training  : 100%|██████████| 6/6 [00:02<00:00,  2.26it/s, loss=0.258]\n",
      "Training  : 100%|██████████| 6/6 [00:02<00:00,  2.23it/s, loss=0.228] \n",
      "Training  : 100%|██████████| 6/6 [00:02<00:00,  2.17it/s, loss=0.235]\n",
      "Training  : 100%|██████████| 6/6 [00:02<00:00,  2.20it/s, loss=0.252]\n",
      "Training  : 100%|██████████| 6/6 [00:02<00:00,  2.23it/s, loss=0.211]\n",
      "Training  : 100%|██████████| 6/6 [00:02<00:00,  2.22it/s, loss=0.237]\n",
      "Training  : 100%|██████████| 6/6 [00:02<00:00,  2.27it/s, loss=0.229]\n",
      "Training  : 100%|██████████| 6/6 [00:02<00:00,  2.24it/s, loss=0.216]\n",
      "Training  : 100%|██████████| 6/6 [00:02<00:00,  2.27it/s, loss=0.219]\n",
      "Training  : 100%|██████████| 6/6 [00:02<00:00,  2.24it/s, loss=0.213]\n",
      "Training  : 100%|██████████| 6/6 [00:02<00:00,  2.16it/s, loss=0.178] \n",
      "Training  : 100%|██████████| 6/6 [00:02<00:00,  2.27it/s, loss=0.171]\n",
      "Training  : 100%|██████████| 6/6 [00:02<00:00,  2.26it/s, loss=0.158]\n",
      "Training  : 100%|██████████| 6/6 [00:02<00:00,  2.26it/s, loss=0.133] \n",
      "Training  : 100%|██████████| 6/6 [00:02<00:00,  2.13it/s, loss=0.125]\n",
      "Training  : 100%|██████████| 6/6 [00:02<00:00,  2.25it/s, loss=0.12]  \n",
      "Training  : 100%|██████████| 6/6 [00:02<00:00,  2.25it/s, loss=0.135]\n",
      "Training  : 100%|██████████| 6/6 [00:02<00:00,  2.26it/s, loss=0.103] \n",
      "Training  : 100%|██████████| 6/6 [00:02<00:00,  2.28it/s, loss=0.141]\n",
      "Training  : 100%|██████████| 6/6 [00:02<00:00,  2.15it/s, loss=0.138]\n",
      "Training  : 100%|██████████| 6/6 [00:02<00:00,  2.27it/s, loss=0.116]\n",
      "Training  : 100%|██████████| 6/6 [00:02<00:00,  2.27it/s, loss=0.12]  \n",
      "Training  : 100%|██████████| 6/6 [00:02<00:00,  2.25it/s, loss=0.109] \n",
      "Training  : 100%|██████████| 6/6 [00:02<00:00,  2.17it/s, loss=0.112]\n",
      "Training  : 100%|██████████| 6/6 [00:02<00:00,  2.17it/s, loss=0.113]\n",
      "Training  : 100%|██████████| 6/6 [00:02<00:00,  2.16it/s, loss=0.115] \n",
      "Training  : 100%|██████████| 6/6 [00:02<00:00,  2.26it/s, loss=0.108] \n",
      "Training  : 100%|██████████| 6/6 [00:02<00:00,  2.23it/s, loss=0.117] \n",
      "Training  : 100%|██████████| 6/6 [00:02<00:00,  2.24it/s, loss=0.104] \n",
      "Training  : 100%|██████████| 6/6 [00:02<00:00,  2.26it/s, loss=0.105] \n",
      "Training  : 100%|██████████| 6/6 [00:02<00:00,  2.26it/s, loss=0.102]\n",
      "Training  : 100%|██████████| 6/6 [00:02<00:00,  2.18it/s, loss=0.114]\n",
      "Training  : 100%|██████████| 6/6 [00:02<00:00,  2.18it/s, loss=0.113] \n",
      "Training  : 100%|██████████| 6/6 [00:02<00:00,  2.23it/s, loss=0.117] \n",
      "Training  : 100%|██████████| 6/6 [00:02<00:00,  2.23it/s, loss=0.111] \n",
      "Training  : 100%|██████████| 6/6 [00:02<00:00,  2.24it/s, loss=0.117]\n",
      "Training  : 100%|██████████| 6/6 [00:02<00:00,  2.13it/s, loss=0.117] \n",
      "Training  : 100%|██████████| 6/6 [00:02<00:00,  2.23it/s, loss=0.112] \n",
      "Training  : 100%|██████████| 6/6 [00:02<00:00,  2.25it/s, loss=0.104]\n",
      "Training  : 100%|██████████| 6/6 [00:02<00:00,  2.24it/s, loss=0.102]\n",
      "Training  : 100%|██████████| 6/6 [00:02<00:00,  2.17it/s, loss=0.102]\n",
      "Training  : 100%|██████████| 6/6 [00:02<00:00,  2.23it/s, loss=0.103] \n",
      "Training  : 100%|██████████| 6/6 [00:02<00:00,  2.21it/s, loss=0.108] \n",
      "Training  : 100%|██████████| 6/6 [00:02<00:00,  2.25it/s, loss=0.103]\n",
      "Training  : 100%|██████████| 6/6 [00:02<00:00,  2.21it/s, loss=0.113] \n",
      "Training  : 100%|██████████| 6/6 [00:02<00:00,  2.23it/s, loss=0.107]\n",
      "Training  : 100%|██████████| 6/6 [00:02<00:00,  2.23it/s, loss=0.106] \n",
      "Training  : 100%|██████████| 6/6 [00:02<00:00,  2.24it/s, loss=0.126] \n",
      "Training  : 100%|██████████| 6/6 [00:02<00:00,  2.26it/s, loss=0.107] \n",
      "Training  : 100%|██████████| 6/6 [00:02<00:00,  2.24it/s, loss=0.116] \n",
      "Training  : 100%|██████████| 6/6 [00:02<00:00,  2.17it/s, loss=0.107] \n",
      "Training  : 100%|██████████| 6/6 [00:02<00:00,  2.24it/s, loss=0.116] \n",
      "Training  : 100%|██████████| 6/6 [00:02<00:00,  2.22it/s, loss=0.111] \n",
      "Training  : 100%|██████████| 6/6 [00:02<00:00,  2.21it/s, loss=0.106]\n",
      "Training  : 100%|██████████| 6/6 [00:02<00:00,  2.15it/s, loss=0.117] \n",
      "Training  : 100%|██████████| 6/6 [00:02<00:00,  2.19it/s, loss=0.114]\n",
      "Training  : 100%|██████████| 6/6 [00:02<00:00,  2.19it/s, loss=0.104]\n",
      "Training  : 100%|██████████| 6/6 [00:02<00:00,  2.24it/s, loss=0.109]\n",
      "Training  : 100%|██████████| 6/6 [00:02<00:00,  2.24it/s, loss=0.0994]\n",
      "Training  : 100%|██████████| 6/6 [00:02<00:00,  2.23it/s, loss=0.102] \n",
      "Training  : 100%|██████████| 6/6 [00:02<00:00,  2.14it/s, loss=0.115] \n",
      "Training  : 100%|██████████| 6/6 [00:02<00:00,  2.21it/s, loss=0.107] \n",
      "Training  : 100%|██████████| 6/6 [00:02<00:00,  2.24it/s, loss=0.0979]\n",
      "Training  : 100%|██████████| 6/6 [00:02<00:00,  2.13it/s, loss=0.099] \n",
      "Training  : 100%|██████████| 6/6 [00:02<00:00,  2.15it/s, loss=0.113] \n",
      "Training  : 100%|██████████| 6/6 [00:02<00:00,  2.22it/s, loss=0.101]\n",
      "Training  : 100%|██████████| 6/6 [00:02<00:00,  2.18it/s, loss=0.115] \n",
      "Training  : 100%|██████████| 6/6 [00:02<00:00,  2.23it/s, loss=0.116] \n",
      "Training  : 100%|██████████| 6/6 [00:02<00:00,  2.26it/s, loss=0.124] \n",
      "Training  : 100%|██████████| 6/6 [00:02<00:00,  2.24it/s, loss=0.111]\n",
      "Training  : 100%|██████████| 6/6 [00:02<00:00,  2.24it/s, loss=0.111] \n",
      "Training  : 100%|██████████| 6/6 [00:02<00:00,  2.15it/s, loss=0.119] \n",
      "Training  : 100%|██████████| 6/6 [00:02<00:00,  2.20it/s, loss=0.111] \n",
      "Training  : 100%|██████████| 6/6 [00:02<00:00,  2.21it/s, loss=0.11]  \n",
      "Training  : 100%|██████████| 6/6 [00:02<00:00,  2.24it/s, loss=0.114] \n",
      "Training  : 100%|██████████| 6/6 [00:02<00:00,  2.26it/s, loss=0.103]\n",
      "Training  : 100%|██████████| 6/6 [00:02<00:00,  2.25it/s, loss=0.105] \n",
      "Training  : 100%|██████████| 6/6 [00:02<00:00,  2.18it/s, loss=0.103] \n",
      "Training  : 100%|██████████| 6/6 [00:02<00:00,  2.24it/s, loss=0.1]  \n",
      "Training  : 100%|██████████| 6/6 [00:02<00:00,  2.21it/s, loss=0.103] \n",
      "Training  : 100%|██████████| 6/6 [00:02<00:00,  2.21it/s, loss=0.105] \n",
      "Training  : 100%|██████████| 6/6 [00:02<00:00,  2.17it/s, loss=0.108] \n",
      "Training  : 100%|██████████| 6/6 [00:02<00:00,  2.21it/s, loss=0.119] \n",
      "Training  : 100%|██████████| 6/6 [00:02<00:00,  2.23it/s, loss=0.109]\n",
      "Training  : 100%|██████████| 6/6 [00:02<00:00,  2.25it/s, loss=0.106] \n",
      "Training  : 100%|██████████| 6/6 [00:02<00:00,  2.25it/s, loss=0.106]\n",
      "Training  : 100%|██████████| 6/6 [00:02<00:00,  2.24it/s, loss=0.109] \n",
      "Training  : 100%|██████████| 6/6 [00:02<00:00,  2.23it/s, loss=0.106] \n",
      "Training  : 100%|██████████| 6/6 [00:02<00:00,  2.22it/s, loss=0.104] \n",
      "Training  : 100%|██████████| 6/6 [00:02<00:00,  2.24it/s, loss=0.118]  \n",
      "Training  : 100%|██████████| 6/6 [00:02<00:00,  2.24it/s, loss=0.106]\n",
      "Training  : 100%|██████████| 6/6 [00:02<00:00,  2.19it/s, loss=0.106] \n",
      "Training  : 100%|██████████| 6/6 [00:02<00:00,  2.19it/s, loss=0.101] \n",
      "Training  : 100%|██████████| 6/6 [00:02<00:00,  2.23it/s, loss=0.109] \n",
      "Training  : 100%|██████████| 6/6 [00:02<00:00,  2.19it/s, loss=0.112] \n",
      "Training  : 100%|██████████| 6/6 [00:02<00:00,  2.23it/s, loss=0.112] \n",
      "Predicting: 100%|██████████| 12/12 [00:01<00:00, 10.49it/s]\n"
     ]
    },
    {
     "name": "stdout",
     "output_type": "stream",
     "text": [
      "Building sklearn text classifier...\n",
      "Loading bert-base-uncased model...\n",
      "Defaulting to linear classifier/regressor\n",
      "Loading Pytorch checkpoint\n",
      "train data size: 178, validation data size: 0\n"
     ]
    },
    {
     "name": "stderr",
     "output_type": "stream",
     "text": [
      "Training  : 100%|██████████| 6/6 [00:02<00:00,  2.11it/s, loss=0.908]\n",
      "Training  : 100%|██████████| 6/6 [00:02<00:00,  2.18it/s, loss=0.522]\n",
      "Training  : 100%|██████████| 6/6 [00:02<00:00,  2.19it/s, loss=0.335]\n",
      "Training  : 100%|██████████| 6/6 [00:02<00:00,  2.22it/s, loss=0.244]\n",
      "Training  : 100%|██████████| 6/6 [00:02<00:00,  2.12it/s, loss=0.216]\n",
      "Training  : 100%|██████████| 6/6 [00:02<00:00,  2.21it/s, loss=0.173]\n",
      "Training  : 100%|██████████| 6/6 [00:02<00:00,  2.20it/s, loss=0.187]\n",
      "Training  : 100%|██████████| 6/6 [00:02<00:00,  2.18it/s, loss=0.173] \n",
      "Training  : 100%|██████████| 6/6 [00:02<00:00,  2.16it/s, loss=0.166]\n",
      "Training  : 100%|██████████| 6/6 [00:02<00:00,  2.21it/s, loss=0.156] \n",
      "Training  : 100%|██████████| 6/6 [00:02<00:00,  2.15it/s, loss=0.175]\n",
      "Training  : 100%|██████████| 6/6 [00:02<00:00,  2.21it/s, loss=0.123] \n",
      "Training  : 100%|██████████| 6/6 [00:02<00:00,  2.20it/s, loss=0.146]\n",
      "Training  : 100%|██████████| 6/6 [00:02<00:00,  2.13it/s, loss=0.108] \n",
      "Training  : 100%|██████████| 6/6 [00:02<00:00,  2.18it/s, loss=0.0838]\n",
      "Training  : 100%|██████████| 6/6 [00:02<00:00,  2.14it/s, loss=0.097] \n",
      "Training  : 100%|██████████| 6/6 [00:02<00:00,  2.19it/s, loss=0.0698]\n",
      "Training  : 100%|██████████| 6/6 [00:02<00:00,  2.19it/s, loss=0.128] \n",
      "Training  : 100%|██████████| 6/6 [00:02<00:00,  2.16it/s, loss=0.0767]\n",
      "Training  : 100%|██████████| 6/6 [00:02<00:00,  2.19it/s, loss=0.0809]\n",
      "Training  : 100%|██████████| 6/6 [00:02<00:00,  2.17it/s, loss=0.0656]\n",
      "Training  : 100%|██████████| 6/6 [00:02<00:00,  2.09it/s, loss=0.0584]\n",
      "Training  : 100%|██████████| 6/6 [00:02<00:00,  2.21it/s, loss=0.0815]\n",
      "Training  : 100%|██████████| 6/6 [00:02<00:00,  2.20it/s, loss=0.0899]\n",
      "Training  : 100%|██████████| 6/6 [00:02<00:00,  2.14it/s, loss=0.0744]\n",
      "Training  : 100%|██████████| 6/6 [00:02<00:00,  2.20it/s, loss=0.0684]\n",
      "Training  : 100%|██████████| 6/6 [00:02<00:00,  2.18it/s, loss=0.0773]\n",
      "Training  : 100%|██████████| 6/6 [00:02<00:00,  2.19it/s, loss=0.0687]\n",
      "Training  : 100%|██████████| 6/6 [00:02<00:00,  2.21it/s, loss=0.0709]\n",
      "Training  : 100%|██████████| 6/6 [00:02<00:00,  2.11it/s, loss=0.0605]\n",
      "Training  : 100%|██████████| 6/6 [00:02<00:00,  2.20it/s, loss=0.0655]\n",
      "Training  : 100%|██████████| 6/6 [00:02<00:00,  2.11it/s, loss=0.0673]\n",
      "Training  : 100%|██████████| 6/6 [00:02<00:00,  2.18it/s, loss=0.0615]\n",
      "Training  : 100%|██████████| 6/6 [00:02<00:00,  2.07it/s, loss=0.143] \n",
      "Training  : 100%|██████████| 6/6 [00:02<00:00,  2.12it/s, loss=0.0917]\n",
      "Training  : 100%|██████████| 6/6 [00:02<00:00,  2.17it/s, loss=0.0857]\n",
      "Training  : 100%|██████████| 6/6 [00:02<00:00,  2.21it/s, loss=0.0736]\n",
      "Training  : 100%|██████████| 6/6 [00:02<00:00,  2.21it/s, loss=0.0686]\n",
      "Training  : 100%|██████████| 6/6 [00:02<00:00,  2.14it/s, loss=0.0629]\n",
      "Training  : 100%|██████████| 6/6 [00:02<00:00,  2.10it/s, loss=0.0679]\n",
      "Training  : 100%|██████████| 6/6 [00:02<00:00,  2.21it/s, loss=0.0577]\n",
      "Training  : 100%|██████████| 6/6 [00:02<00:00,  2.20it/s, loss=0.0621]\n",
      "Training  : 100%|██████████| 6/6 [00:02<00:00,  2.14it/s, loss=0.0588]\n",
      "Training  : 100%|██████████| 6/6 [00:02<00:00,  2.09it/s, loss=0.0562]\n",
      "Training  : 100%|██████████| 6/6 [00:02<00:00,  2.11it/s, loss=0.0602]\n",
      "Training  : 100%|██████████| 6/6 [00:02<00:00,  2.20it/s, loss=0.0647]\n",
      "Training  : 100%|██████████| 6/6 [00:02<00:00,  2.18it/s, loss=0.0633]\n",
      "Training  : 100%|██████████| 6/6 [00:02<00:00,  2.19it/s, loss=0.0653] \n",
      "Training  : 100%|██████████| 6/6 [00:02<00:00,  2.18it/s, loss=0.081] \n",
      "Training  : 100%|██████████| 6/6 [00:02<00:00,  2.08it/s, loss=0.0616]\n",
      "Training  : 100%|██████████| 6/6 [00:02<00:00,  2.21it/s, loss=0.0785]\n",
      "Training  : 100%|██████████| 6/6 [00:02<00:00,  2.13it/s, loss=0.0566]\n",
      "Training  : 100%|██████████| 6/6 [00:02<00:00,  2.21it/s, loss=0.063] \n",
      "Training  : 100%|██████████| 6/6 [00:02<00:00,  2.22it/s, loss=0.0791]\n",
      "Training  : 100%|██████████| 6/6 [00:02<00:00,  2.17it/s, loss=0.0622]\n",
      "Training  : 100%|██████████| 6/6 [00:02<00:00,  2.12it/s, loss=0.0562]\n",
      "Training  : 100%|██████████| 6/6 [00:02<00:00,  2.23it/s, loss=0.0806]\n",
      "Training  : 100%|██████████| 6/6 [00:02<00:00,  2.11it/s, loss=0.0643]\n",
      "Training  : 100%|██████████| 6/6 [00:02<00:00,  2.21it/s, loss=0.0635]\n",
      "Training  : 100%|██████████| 6/6 [00:02<00:00,  2.16it/s, loss=0.0624]\n",
      "Training  : 100%|██████████| 6/6 [00:02<00:00,  2.15it/s, loss=0.0556]\n",
      "Training  : 100%|██████████| 6/6 [00:02<00:00,  2.10it/s, loss=0.0684]\n",
      "Training  : 100%|██████████| 6/6 [00:02<00:00,  2.19it/s, loss=0.0568]\n",
      "Training  : 100%|██████████| 6/6 [00:02<00:00,  2.17it/s, loss=0.065] \n",
      "Training  : 100%|██████████| 6/6 [00:02<00:00,  2.21it/s, loss=0.061] \n",
      "Training  : 100%|██████████| 6/6 [00:02<00:00,  2.19it/s, loss=0.0602]\n",
      "Training  : 100%|██████████| 6/6 [00:02<00:00,  2.16it/s, loss=0.0602]\n",
      "Training  : 100%|██████████| 6/6 [00:02<00:00,  2.16it/s, loss=0.0576] \n",
      "Training  : 100%|██████████| 6/6 [00:02<00:00,  2.19it/s, loss=0.0694]\n",
      "Training  : 100%|██████████| 6/6 [00:02<00:00,  2.21it/s, loss=0.0632]\n",
      "Training  : 100%|██████████| 6/6 [00:02<00:00,  2.10it/s, loss=0.0654] \n",
      "Training  : 100%|██████████| 6/6 [00:02<00:00,  2.12it/s, loss=0.0628]\n",
      "Training  : 100%|██████████| 6/6 [00:02<00:00,  2.24it/s, loss=0.0537]\n",
      "Training  : 100%|██████████| 6/6 [00:02<00:00,  2.16it/s, loss=0.0622] \n",
      "Training  : 100%|██████████| 6/6 [00:02<00:00,  2.19it/s, loss=0.0595]\n",
      "Training  : 100%|██████████| 6/6 [00:02<00:00,  2.18it/s, loss=0.0796]\n",
      "Training  : 100%|██████████| 6/6 [00:02<00:00,  2.08it/s, loss=0.0631]\n",
      "Training  : 100%|██████████| 6/6 [00:02<00:00,  2.21it/s, loss=0.0786]\n",
      "Training  : 100%|██████████| 6/6 [00:02<00:00,  2.20it/s, loss=0.0629]\n",
      "Training  : 100%|██████████| 6/6 [00:02<00:00,  2.17it/s, loss=0.0552]\n",
      "Training  : 100%|██████████| 6/6 [00:02<00:00,  2.12it/s, loss=0.0572]\n",
      "Training  : 100%|██████████| 6/6 [00:02<00:00,  2.12it/s, loss=0.0608]\n",
      "Training  : 100%|██████████| 6/6 [00:02<00:00,  2.23it/s, loss=0.0587]\n",
      "Training  : 100%|██████████| 6/6 [00:02<00:00,  2.12it/s, loss=0.0559]\n",
      "Training  : 100%|██████████| 6/6 [00:02<00:00,  2.15it/s, loss=0.0628]\n",
      "Training  : 100%|██████████| 6/6 [00:02<00:00,  2.21it/s, loss=0.0603]\n",
      "Training  : 100%|██████████| 6/6 [00:02<00:00,  2.17it/s, loss=0.0651]\n",
      "Training  : 100%|██████████| 6/6 [00:02<00:00,  2.17it/s, loss=0.0645]\n",
      "Training  : 100%|██████████| 6/6 [00:02<00:00,  2.19it/s, loss=0.0774]\n",
      "Training  : 100%|██████████| 6/6 [00:02<00:00,  2.20it/s, loss=0.0653]\n",
      "Training  : 100%|██████████| 6/6 [00:02<00:00,  2.22it/s, loss=0.0528] \n",
      "Training  : 100%|██████████| 6/6 [00:02<00:00,  2.20it/s, loss=0.0602] \n",
      "Training  : 100%|██████████| 6/6 [00:02<00:00,  2.15it/s, loss=0.062] \n",
      "Training  : 100%|██████████| 6/6 [00:02<00:00,  2.18it/s, loss=0.0536]\n",
      "Training  : 100%|██████████| 6/6 [00:02<00:00,  2.20it/s, loss=0.0627]\n",
      "Training  : 100%|██████████| 6/6 [00:02<00:00,  2.22it/s, loss=0.0641]\n",
      "Training  : 100%|██████████| 6/6 [00:02<00:00,  2.14it/s, loss=0.0558]\n",
      "Training  : 100%|██████████| 6/6 [00:02<00:00,  2.19it/s, loss=0.0555]\n",
      "Training  : 100%|██████████| 6/6 [00:02<00:00,  2.20it/s, loss=0.0621]\n",
      "Training  : 100%|██████████| 6/6 [00:02<00:00,  2.18it/s, loss=0.0577]\n",
      "Predicting: 100%|██████████| 12/12 [00:01<00:00,  9.96it/s]\n"
     ]
    },
    {
     "name": "stdout",
     "output_type": "stream",
     "text": [
      "Building sklearn text classifier...\n",
      "Loading bert-base-uncased model...\n",
      "Defaulting to linear classifier/regressor\n",
      "Loading Pytorch checkpoint\n",
      "train data size: 178, validation data size: 0\n"
     ]
    },
    {
     "name": "stderr",
     "output_type": "stream",
     "text": [
      "Training  : 100%|██████████| 6/6 [00:02<00:00,  2.20it/s, loss=0.908]\n",
      "Training  : 100%|██████████| 6/6 [00:02<00:00,  2.07it/s, loss=0.54] \n",
      "Training  : 100%|██████████| 6/6 [00:02<00:00,  2.17it/s, loss=0.325]\n",
      "Training  : 100%|██████████| 6/6 [00:02<00:00,  2.07it/s, loss=0.249]\n",
      "Training  : 100%|██████████| 6/6 [00:02<00:00,  2.16it/s, loss=0.23] \n",
      "Training  : 100%|██████████| 6/6 [00:02<00:00,  2.14it/s, loss=0.221] \n",
      "Training  : 100%|██████████| 6/6 [00:02<00:00,  2.13it/s, loss=0.251]\n",
      "Training  : 100%|██████████| 6/6 [00:02<00:00,  2.16it/s, loss=0.212]\n",
      "Training  : 100%|██████████| 6/6 [00:02<00:00,  2.14it/s, loss=0.198]\n",
      "Training  : 100%|██████████| 6/6 [00:02<00:00,  2.18it/s, loss=0.201]\n",
      "Training  : 100%|██████████| 6/6 [00:02<00:00,  2.17it/s, loss=0.2]  \n",
      "Training  : 100%|██████████| 6/6 [00:02<00:00,  2.14it/s, loss=0.152] \n",
      "Training  : 100%|██████████| 6/6 [00:02<00:00,  2.08it/s, loss=0.173]\n",
      "Training  : 100%|██████████| 6/6 [00:02<00:00,  2.12it/s, loss=0.17]  \n",
      "Training  : 100%|██████████| 6/6 [00:02<00:00,  2.05it/s, loss=0.165] \n",
      "Training  : 100%|██████████| 6/6 [00:02<00:00,  2.10it/s, loss=0.146] \n",
      "Training  : 100%|██████████| 6/6 [00:02<00:00,  2.10it/s, loss=0.144] \n",
      "Training  : 100%|██████████| 6/6 [00:02<00:00,  2.12it/s, loss=0.153] \n",
      "Training  : 100%|██████████| 6/6 [00:02<00:00,  2.16it/s, loss=0.138] \n",
      "Training  : 100%|██████████| 6/6 [00:02<00:00,  2.10it/s, loss=0.126] \n",
      "Training  : 100%|██████████| 6/6 [00:02<00:00,  2.19it/s, loss=0.137] \n",
      "Training  : 100%|██████████| 6/6 [00:02<00:00,  2.14it/s, loss=0.126] \n",
      "Training  : 100%|██████████| 6/6 [00:02<00:00,  2.15it/s, loss=0.128]\n",
      "Training  : 100%|██████████| 6/6 [00:02<00:00,  2.14it/s, loss=0.119] \n",
      "Training  : 100%|██████████| 6/6 [00:02<00:00,  2.14it/s, loss=0.113]\n",
      "Training  : 100%|██████████| 6/6 [00:02<00:00,  2.13it/s, loss=0.125] \n",
      "Training  : 100%|██████████| 6/6 [00:02<00:00,  2.13it/s, loss=0.103]\n",
      "Training  : 100%|██████████| 6/6 [00:02<00:00,  2.09it/s, loss=0.105]\n",
      "Training  : 100%|██████████| 6/6 [00:02<00:00,  2.16it/s, loss=0.111]\n",
      "Training  : 100%|██████████| 6/6 [00:02<00:00,  2.18it/s, loss=0.117] \n",
      "Training  : 100%|██████████| 6/6 [00:02<00:00,  2.15it/s, loss=0.112] \n",
      "Training  : 100%|██████████| 6/6 [00:02<00:00,  2.16it/s, loss=0.106]\n",
      "Training  : 100%|██████████| 6/6 [00:02<00:00,  2.16it/s, loss=0.0997]\n",
      "Training  : 100%|██████████| 6/6 [00:02<00:00,  2.14it/s, loss=0.112] \n",
      "Training  : 100%|██████████| 6/6 [00:02<00:00,  2.18it/s, loss=0.106]\n",
      "Training  : 100%|██████████| 6/6 [00:02<00:00,  2.21it/s, loss=0.118] \n",
      "Training  : 100%|██████████| 6/6 [00:02<00:00,  2.20it/s, loss=0.111] \n",
      "Training  : 100%|██████████| 6/6 [00:02<00:00,  2.16it/s, loss=0.111] \n",
      "Training  : 100%|██████████| 6/6 [00:02<00:00,  2.16it/s, loss=0.114] \n",
      "Training  : 100%|██████████| 6/6 [00:02<00:00,  2.16it/s, loss=0.11]  \n",
      "Training  : 100%|██████████| 6/6 [00:02<00:00,  2.13it/s, loss=0.11]  \n",
      "Training  : 100%|██████████| 6/6 [00:02<00:00,  2.16it/s, loss=0.113]\n",
      "Training  : 100%|██████████| 6/6 [00:02<00:00,  2.08it/s, loss=0.0981]\n",
      "Training  : 100%|██████████| 6/6 [00:02<00:00,  2.17it/s, loss=0.104]\n",
      "Training  : 100%|██████████| 6/6 [00:02<00:00,  2.18it/s, loss=0.117] \n",
      "Training  : 100%|██████████| 6/6 [00:02<00:00,  2.15it/s, loss=0.0975]\n",
      "Training  : 100%|██████████| 6/6 [00:02<00:00,  2.21it/s, loss=0.102] \n",
      "Training  : 100%|██████████| 6/6 [00:02<00:00,  2.10it/s, loss=0.107]\n",
      "Training  : 100%|██████████| 6/6 [00:02<00:00,  2.11it/s, loss=0.108] \n",
      "Training  : 100%|██████████| 6/6 [00:02<00:00,  2.07it/s, loss=0.105] \n",
      "Training  : 100%|██████████| 6/6 [00:02<00:00,  2.18it/s, loss=0.113] \n",
      "Training  : 100%|██████████| 6/6 [00:02<00:00,  2.15it/s, loss=0.116] \n",
      "Training  : 100%|██████████| 6/6 [00:02<00:00,  2.11it/s, loss=0.108]\n",
      "Training  : 100%|██████████| 6/6 [00:02<00:00,  2.16it/s, loss=0.122]\n",
      "Training  : 100%|██████████| 6/6 [00:02<00:00,  2.14it/s, loss=0.109] \n",
      "Training  : 100%|██████████| 6/6 [00:02<00:00,  2.14it/s, loss=0.11] \n",
      "Training  : 100%|██████████| 6/6 [00:02<00:00,  2.16it/s, loss=0.129] \n",
      "Training  : 100%|██████████| 6/6 [00:02<00:00,  2.15it/s, loss=0.114] \n",
      "Training  : 100%|██████████| 6/6 [00:02<00:00,  2.11it/s, loss=0.117] \n",
      "Training  : 100%|██████████| 6/6 [00:02<00:00,  2.15it/s, loss=0.107]\n",
      "Training  : 100%|██████████| 6/6 [00:02<00:00,  2.17it/s, loss=0.102]\n",
      "Training  : 100%|██████████| 6/6 [00:02<00:00,  2.10it/s, loss=0.1]  \n",
      "Training  : 100%|██████████| 6/6 [00:02<00:00,  2.09it/s, loss=0.1]   \n",
      "Training  : 100%|██████████| 6/6 [00:02<00:00,  2.16it/s, loss=0.109] \n",
      "Training  : 100%|██████████| 6/6 [00:02<00:00,  2.18it/s, loss=0.106] \n",
      "Training  : 100%|██████████| 6/6 [00:02<00:00,  2.11it/s, loss=0.106] \n",
      "Training  : 100%|██████████| 6/6 [00:02<00:00,  2.14it/s, loss=0.0959]\n",
      "Training  : 100%|██████████| 6/6 [00:02<00:00,  2.12it/s, loss=0.102]\n",
      "Training  : 100%|██████████| 6/6 [00:02<00:00,  2.15it/s, loss=0.116] \n",
      "Training  : 100%|██████████| 6/6 [00:02<00:00,  2.18it/s, loss=0.0985]\n",
      "Training  : 100%|██████████| 6/6 [00:02<00:00,  2.18it/s, loss=0.119] \n",
      "Training  : 100%|██████████| 6/6 [00:02<00:00,  2.21it/s, loss=0.109] \n",
      "Training  : 100%|██████████| 6/6 [00:02<00:00,  2.16it/s, loss=0.121] \n",
      "Training  : 100%|██████████| 6/6 [00:02<00:00,  2.15it/s, loss=0.0998]\n",
      "Training  : 100%|██████████| 6/6 [00:02<00:00,  2.20it/s, loss=0.106]\n",
      "Training  : 100%|██████████| 6/6 [00:02<00:00,  2.19it/s, loss=0.122] \n",
      "Training  : 100%|██████████| 6/6 [00:02<00:00,  2.18it/s, loss=0.101] \n",
      "Training  : 100%|██████████| 6/6 [00:02<00:00,  2.16it/s, loss=0.122] \n",
      "Training  : 100%|██████████| 6/6 [00:02<00:00,  2.15it/s, loss=0.108] \n",
      "Training  : 100%|██████████| 6/6 [00:02<00:00,  2.17it/s, loss=0.107] \n",
      "Training  : 100%|██████████| 6/6 [00:02<00:00,  2.19it/s, loss=0.0988]\n",
      "Training  : 100%|██████████| 6/6 [00:02<00:00,  2.17it/s, loss=0.105]\n",
      "Training  : 100%|██████████| 6/6 [00:02<00:00,  2.15it/s, loss=0.103]\n",
      "Training  : 100%|██████████| 6/6 [00:02<00:00,  2.21it/s, loss=0.105] \n",
      "Training  : 100%|██████████| 6/6 [00:02<00:00,  2.15it/s, loss=0.11]  \n",
      "Training  : 100%|██████████| 6/6 [00:02<00:00,  2.17it/s, loss=0.106]\n",
      "Training  : 100%|██████████| 6/6 [00:02<00:00,  2.09it/s, loss=0.112] \n",
      "Training  : 100%|██████████| 6/6 [00:02<00:00,  2.17it/s, loss=0.107] \n",
      "Training  : 100%|██████████| 6/6 [00:02<00:00,  2.16it/s, loss=0.111] \n",
      "Training  : 100%|██████████| 6/6 [00:02<00:00,  2.13it/s, loss=0.102] \n",
      "Training  : 100%|██████████| 6/6 [00:02<00:00,  2.15it/s, loss=0.106] \n",
      "Training  : 100%|██████████| 6/6 [00:02<00:00,  2.15it/s, loss=0.107] \n",
      "Training  : 100%|██████████| 6/6 [00:02<00:00,  2.16it/s, loss=0.104] \n",
      "Training  : 100%|██████████| 6/6 [00:02<00:00,  2.11it/s, loss=0.109] \n",
      "Training  : 100%|██████████| 6/6 [00:02<00:00,  2.16it/s, loss=0.102] \n",
      "Training  : 100%|██████████| 6/6 [00:02<00:00,  2.16it/s, loss=0.102]\n",
      "Training  : 100%|██████████| 6/6 [00:02<00:00,  2.18it/s, loss=0.0992]\n",
      "Training  : 100%|██████████| 6/6 [00:02<00:00,  2.18it/s, loss=0.102]\n",
      "Training  : 100%|██████████| 6/6 [00:02<00:00,  2.18it/s, loss=0.103] \n",
      "Training  : 100%|██████████| 6/6 [00:02<00:00,  2.16it/s, loss=0.106] \n",
      "Predicting: 100%|██████████| 12/12 [00:01<00:00,  9.65it/s]\n"
     ]
    },
    {
     "name": "stdout",
     "output_type": "stream",
     "text": [
      "Building sklearn text classifier...\n",
      "Loading bert-base-uncased model...\n",
      "Defaulting to linear classifier/regressor\n",
      "Loading Pytorch checkpoint\n",
      "train data size: 178, validation data size: 0\n"
     ]
    },
    {
     "name": "stderr",
     "output_type": "stream",
     "text": [
      "Training  : 100%|██████████| 6/6 [00:02<00:00,  2.11it/s, loss=0.915]\n",
      "Training  : 100%|██████████| 6/6 [00:02<00:00,  2.12it/s, loss=0.565]\n",
      "Training  : 100%|██████████| 6/6 [00:02<00:00,  2.08it/s, loss=0.354]\n",
      "Training  : 100%|██████████| 6/6 [00:02<00:00,  2.13it/s, loss=0.276]\n",
      "Training  : 100%|██████████| 6/6 [00:02<00:00,  2.02it/s, loss=0.245]\n",
      "Training  : 100%|██████████| 6/6 [00:02<00:00,  2.00it/s, loss=0.239] \n",
      "Training  : 100%|██████████| 6/6 [00:02<00:00,  2.15it/s, loss=0.23] \n",
      "Training  : 100%|██████████| 6/6 [00:02<00:00,  2.09it/s, loss=0.243] \n",
      "Training  : 100%|██████████| 6/6 [00:02<00:00,  2.13it/s, loss=0.209]\n",
      "Training  : 100%|██████████| 6/6 [00:02<00:00,  2.05it/s, loss=0.205]\n",
      "Training  : 100%|██████████| 6/6 [00:02<00:00,  2.10it/s, loss=0.16] \n",
      "Training  : 100%|██████████| 6/6 [00:02<00:00,  2.14it/s, loss=0.145]\n",
      "Training  : 100%|██████████| 6/6 [00:02<00:00,  2.13it/s, loss=0.162]\n",
      "Training  : 100%|██████████| 6/6 [00:02<00:00,  2.12it/s, loss=0.15]  \n",
      "Training  : 100%|██████████| 6/6 [00:02<00:00,  2.06it/s, loss=0.164] \n",
      "Training  : 100%|██████████| 6/6 [00:02<00:00,  2.12it/s, loss=0.158] \n",
      "Training  : 100%|██████████| 6/6 [00:02<00:00,  2.14it/s, loss=0.17] \n",
      "Training  : 100%|██████████| 6/6 [00:02<00:00,  2.12it/s, loss=0.132] \n",
      "Training  : 100%|██████████| 6/6 [00:02<00:00,  2.15it/s, loss=0.125]\n",
      "Training  : 100%|██████████| 6/6 [00:02<00:00,  2.14it/s, loss=0.116] \n",
      "Training  : 100%|██████████| 6/6 [00:02<00:00,  2.08it/s, loss=0.131] \n",
      "Training  : 100%|██████████| 6/6 [00:02<00:00,  2.15it/s, loss=0.131]\n",
      "Training  : 100%|██████████| 6/6 [00:02<00:00,  2.12it/s, loss=0.135]\n",
      "Training  : 100%|██████████| 6/6 [00:02<00:00,  2.12it/s, loss=0.138]\n",
      "Training  : 100%|██████████| 6/6 [00:02<00:00,  2.11it/s, loss=0.114]\n",
      "Training  : 100%|██████████| 6/6 [00:02<00:00,  2.15it/s, loss=0.131] \n",
      "Training  : 100%|██████████| 6/6 [00:02<00:00,  2.11it/s, loss=0.115] \n",
      "Training  : 100%|██████████| 6/6 [00:02<00:00,  2.04it/s, loss=0.122] \n",
      "Training  : 100%|██████████| 6/6 [00:02<00:00,  2.09it/s, loss=0.123]\n",
      "Training  : 100%|██████████| 6/6 [00:02<00:00,  2.11it/s, loss=0.129] \n",
      "Training  : 100%|██████████| 6/6 [00:02<00:00,  2.08it/s, loss=0.121] \n",
      "Training  : 100%|██████████| 6/6 [00:02<00:00,  2.13it/s, loss=0.119] \n",
      "Training  : 100%|██████████| 6/6 [00:02<00:00,  2.11it/s, loss=0.114]\n",
      "Training  : 100%|██████████| 6/6 [00:02<00:00,  2.12it/s, loss=0.108] \n",
      "Training  : 100%|██████████| 6/6 [00:02<00:00,  2.14it/s, loss=0.105]\n",
      "Training  : 100%|██████████| 6/6 [00:02<00:00,  2.09it/s, loss=0.112] \n",
      "Training  : 100%|██████████| 6/6 [00:02<00:00,  2.07it/s, loss=0.108] \n",
      "Training  : 100%|██████████| 6/6 [00:02<00:00,  2.13it/s, loss=0.116] \n",
      "Training  : 100%|██████████| 6/6 [00:02<00:00,  2.13it/s, loss=0.107] \n",
      "Training  : 100%|██████████| 6/6 [00:02<00:00,  2.17it/s, loss=0.113]\n",
      "Training  : 100%|██████████| 6/6 [00:02<00:00,  2.10it/s, loss=0.132] \n",
      "Training  : 100%|██████████| 6/6 [00:02<00:00,  2.08it/s, loss=0.119] \n",
      "Training  : 100%|██████████| 6/6 [00:02<00:00,  2.09it/s, loss=0.105]\n",
      "Training  : 100%|██████████| 6/6 [00:02<00:00,  2.09it/s, loss=0.106]\n",
      "Training  : 100%|██████████| 6/6 [00:02<00:00,  2.11it/s, loss=0.106]\n",
      "Training  : 100%|██████████| 6/6 [00:02<00:00,  2.12it/s, loss=0.101] \n",
      "Training  : 100%|██████████| 6/6 [00:02<00:00,  2.12it/s, loss=0.109] \n",
      "Training  : 100%|██████████| 6/6 [00:02<00:00,  2.15it/s, loss=0.101]\n",
      "Training  : 100%|██████████| 6/6 [00:02<00:00,  2.10it/s, loss=0.105] \n",
      "Training  : 100%|██████████| 6/6 [00:02<00:00,  2.08it/s, loss=0.107]\n",
      "Training  : 100%|██████████| 6/6 [00:02<00:00,  2.12it/s, loss=0.107] \n",
      "Training  : 100%|██████████| 6/6 [00:02<00:00,  2.14it/s, loss=0.121] \n",
      "Training  : 100%|██████████| 6/6 [00:02<00:00,  2.10it/s, loss=0.107] \n",
      "Training  : 100%|██████████| 6/6 [00:02<00:00,  2.14it/s, loss=0.123] \n",
      "Training  : 100%|██████████| 6/6 [00:02<00:00,  2.13it/s, loss=0.112] \n",
      "Training  : 100%|██████████| 6/6 [00:02<00:00,  2.14it/s, loss=0.117] \n",
      "Training  : 100%|██████████| 6/6 [00:02<00:00,  2.05it/s, loss=0.113] \n",
      "Training  : 100%|██████████| 6/6 [00:02<00:00,  2.14it/s, loss=0.109] \n",
      "Training  : 100%|██████████| 6/6 [00:02<00:00,  2.10it/s, loss=0.116] \n",
      "Training  : 100%|██████████| 6/6 [00:02<00:00,  2.12it/s, loss=0.113]\n",
      "Training  : 100%|██████████| 6/6 [00:02<00:00,  2.14it/s, loss=0.109]\n",
      "Training  : 100%|██████████| 6/6 [00:02<00:00,  2.13it/s, loss=0.112]\n",
      "Training  : 100%|██████████| 6/6 [00:02<00:00,  2.09it/s, loss=0.0996]\n",
      "Training  : 100%|██████████| 6/6 [00:02<00:00,  2.10it/s, loss=0.106] \n",
      "Training  : 100%|██████████| 6/6 [00:02<00:00,  2.04it/s, loss=0.111] \n",
      "Training  : 100%|██████████| 6/6 [00:02<00:00,  2.10it/s, loss=0.107] \n",
      "Training  : 100%|██████████| 6/6 [00:02<00:00,  2.09it/s, loss=0.0985]\n",
      "Training  : 100%|██████████| 6/6 [00:02<00:00,  2.05it/s, loss=0.0986]\n",
      "Training  : 100%|██████████| 6/6 [00:02<00:00,  2.14it/s, loss=0.112] \n",
      "Training  : 100%|██████████| 6/6 [00:02<00:00,  2.06it/s, loss=0.102]\n",
      "Training  : 100%|██████████| 6/6 [00:02<00:00,  2.10it/s, loss=0.115] \n",
      "Training  : 100%|██████████| 6/6 [00:02<00:00,  2.07it/s, loss=0.115] \n",
      "Training  : 100%|██████████| 6/6 [00:02<00:00,  2.09it/s, loss=0.127] \n",
      "Training  : 100%|██████████| 6/6 [00:02<00:00,  2.14it/s, loss=0.107] \n",
      "Training  : 100%|██████████| 6/6 [00:02<00:00,  2.12it/s, loss=0.106] \n",
      "Training  : 100%|██████████| 6/6 [00:02<00:00,  2.08it/s, loss=0.112] \n",
      "Training  : 100%|██████████| 6/6 [00:02<00:00,  2.11it/s, loss=0.115] \n",
      "Training  : 100%|██████████| 6/6 [00:02<00:00,  2.05it/s, loss=0.113] \n",
      "Training  : 100%|██████████| 6/6 [00:02<00:00,  2.11it/s, loss=0.104] \n",
      "Training  : 100%|██████████| 6/6 [00:02<00:00,  2.16it/s, loss=0.1]  \n",
      "Training  : 100%|██████████| 6/6 [00:02<00:00,  2.14it/s, loss=0.0999]\n",
      "Training  : 100%|██████████| 6/6 [00:02<00:00,  2.11it/s, loss=0.103] \n",
      "Training  : 100%|██████████| 6/6 [00:02<00:00,  2.13it/s, loss=0.102]\n",
      "Training  : 100%|██████████| 6/6 [00:02<00:00,  2.12it/s, loss=0.104] \n",
      "Training  : 100%|██████████| 6/6 [00:02<00:00,  2.05it/s, loss=0.106]\n",
      "Training  : 100%|██████████| 6/6 [00:02<00:00,  2.14it/s, loss=0.111]\n",
      "Training  : 100%|██████████| 6/6 [00:02<00:00,  2.11it/s, loss=0.114] \n",
      "Training  : 100%|██████████| 6/6 [00:02<00:00,  2.13it/s, loss=0.106]\n",
      "Training  : 100%|██████████| 6/6 [00:02<00:00,  2.06it/s, loss=0.104] \n",
      "Training  : 100%|██████████| 6/6 [00:02<00:00,  2.09it/s, loss=0.104]\n",
      "Training  : 100%|██████████| 6/6 [00:02<00:00,  2.09it/s, loss=0.109] \n",
      "Training  : 100%|██████████| 6/6 [00:02<00:00,  2.09it/s, loss=0.109] \n",
      "Training  : 100%|██████████| 6/6 [00:02<00:00,  2.15it/s, loss=0.103]\n",
      "Training  : 100%|██████████| 6/6 [00:02<00:00,  2.12it/s, loss=0.115] \n",
      "Training  : 100%|██████████| 6/6 [00:02<00:00,  2.04it/s, loss=0.1]  \n",
      "Training  : 100%|██████████| 6/6 [00:02<00:00,  2.13it/s, loss=0.11]  \n",
      "Training  : 100%|██████████| 6/6 [00:02<00:00,  2.13it/s, loss=0.101] \n",
      "Training  : 100%|██████████| 6/6 [00:02<00:00,  2.16it/s, loss=0.108] \n",
      "Training  : 100%|██████████| 6/6 [00:02<00:00,  2.06it/s, loss=0.115] \n",
      "Training  : 100%|██████████| 6/6 [00:02<00:00,  2.07it/s, loss=0.11]  \n",
      "Predicting: 100%|██████████| 12/12 [00:01<00:00,  9.31it/s]\n"
     ]
    },
    {
     "name": "stdout",
     "output_type": "stream",
     "text": [
      "Building sklearn text classifier...\n",
      "Loading bert-base-uncased model...\n",
      "Defaulting to linear classifier/regressor\n",
      "Loading Pytorch checkpoint\n",
      "train data size: 178, validation data size: 0\n"
     ]
    },
    {
     "name": "stderr",
     "output_type": "stream",
     "text": [
      "Training  : 100%|██████████| 6/6 [00:02<00:00,  2.10it/s, loss=0.943]\n",
      "Training  : 100%|██████████| 6/6 [00:02<00:00,  2.11it/s, loss=0.746]\n",
      "Training  : 100%|██████████| 6/6 [00:02<00:00,  2.14it/s, loss=0.463]\n",
      "Training  : 100%|██████████| 6/6 [00:02<00:00,  2.10it/s, loss=0.339]\n",
      "Training  : 100%|██████████| 6/6 [00:02<00:00,  2.16it/s, loss=0.259]\n",
      "Training  : 100%|██████████| 6/6 [00:02<00:00,  2.04it/s, loss=0.227]\n",
      "Training  : 100%|██████████| 6/6 [00:02<00:00,  2.17it/s, loss=0.202]\n",
      "Training  : 100%|██████████| 6/6 [00:02<00:00,  2.17it/s, loss=0.177] \n",
      "Training  : 100%|██████████| 6/6 [00:02<00:00,  2.16it/s, loss=0.175]\n",
      "Training  : 100%|██████████| 6/6 [00:02<00:00,  2.15it/s, loss=0.168]\n",
      "Training  : 100%|██████████| 6/6 [00:02<00:00,  2.14it/s, loss=0.227]\n",
      "Training  : 100%|██████████| 6/6 [00:02<00:00,  2.14it/s, loss=0.186] \n",
      "Training  : 100%|██████████| 6/6 [00:02<00:00,  2.15it/s, loss=0.185] \n",
      "Training  : 100%|██████████| 6/6 [00:02<00:00,  2.04it/s, loss=0.156] \n",
      "Training  : 100%|██████████| 6/6 [00:02<00:00,  2.13it/s, loss=0.181]\n",
      "Training  : 100%|██████████| 6/6 [00:02<00:00,  2.13it/s, loss=0.161]\n",
      "Training  : 100%|██████████| 6/6 [00:02<00:00,  2.08it/s, loss=0.15] \n",
      "Training  : 100%|██████████| 6/6 [00:02<00:00,  2.10it/s, loss=0.138]\n",
      "Training  : 100%|██████████| 6/6 [00:02<00:00,  2.15it/s, loss=0.108] \n",
      "Training  : 100%|██████████| 6/6 [00:02<00:00,  2.10it/s, loss=0.119] \n",
      "Training  : 100%|██████████| 6/6 [00:02<00:00,  2.15it/s, loss=0.1]  \n",
      "Training  : 100%|██████████| 6/6 [00:02<00:00,  2.14it/s, loss=0.0892]\n",
      "Training  : 100%|██████████| 6/6 [00:02<00:00,  2.11it/s, loss=0.0816]\n",
      "Training  : 100%|██████████| 6/6 [00:02<00:00,  2.15it/s, loss=0.0762]\n",
      "Training  : 100%|██████████| 6/6 [00:02<00:00,  2.13it/s, loss=0.0703]\n",
      "Training  : 100%|██████████| 6/6 [00:02<00:00,  2.15it/s, loss=0.0716]\n",
      "Training  : 100%|██████████| 6/6 [00:02<00:00,  2.08it/s, loss=0.078] \n",
      "Training  : 100%|██████████| 6/6 [00:02<00:00,  2.12it/s, loss=0.0703]\n",
      "Training  : 100%|██████████| 6/6 [00:02<00:00,  2.08it/s, loss=0.0758]\n",
      "Training  : 100%|██████████| 6/6 [00:02<00:00,  2.16it/s, loss=0.0688]\n",
      "Training  : 100%|██████████| 6/6 [00:02<00:00,  2.14it/s, loss=0.0634]\n",
      "Training  : 100%|██████████| 6/6 [00:02<00:00,  2.14it/s, loss=0.0711]\n",
      "Training  : 100%|██████████| 6/6 [00:02<00:00,  2.11it/s, loss=0.0587]\n",
      "Training  : 100%|██████████| 6/6 [00:02<00:00,  2.15it/s, loss=0.0843]\n",
      "Training  : 100%|██████████| 6/6 [00:02<00:00,  2.09it/s, loss=0.0745]\n",
      "Training  : 100%|██████████| 6/6 [00:02<00:00,  2.14it/s, loss=0.0826]\n",
      "Training  : 100%|██████████| 6/6 [00:02<00:00,  2.16it/s, loss=0.0713]\n",
      "Training  : 100%|██████████| 6/6 [00:02<00:00,  2.12it/s, loss=0.0798]\n",
      "Training  : 100%|██████████| 6/6 [00:02<00:00,  2.15it/s, loss=0.0667]\n",
      "Training  : 100%|██████████| 6/6 [00:02<00:00,  2.14it/s, loss=0.0673]\n",
      "Training  : 100%|██████████| 6/6 [00:02<00:00,  2.06it/s, loss=0.06]  \n",
      "Training  : 100%|██████████| 6/6 [00:02<00:00,  2.09it/s, loss=0.0614]\n",
      "Training  : 100%|██████████| 6/6 [00:02<00:00,  2.14it/s, loss=0.0605]\n",
      "Training  : 100%|██████████| 6/6 [00:02<00:00,  2.12it/s, loss=0.063] \n",
      "Training  : 100%|██████████| 6/6 [00:02<00:00,  2.13it/s, loss=0.0668]\n",
      "Training  : 100%|██████████| 6/6 [00:02<00:00,  2.12it/s, loss=0.0686]\n",
      "Training  : 100%|██████████| 6/6 [00:02<00:00,  2.13it/s, loss=0.0585]\n",
      "Training  : 100%|██████████| 6/6 [00:02<00:00,  2.13it/s, loss=0.064]  \n",
      "Training  : 100%|██████████| 6/6 [00:02<00:00,  2.04it/s, loss=0.0767]\n",
      "Training  : 100%|██████████| 6/6 [00:02<00:00,  2.14it/s, loss=0.059] \n",
      "Training  : 100%|██████████| 6/6 [00:02<00:00,  2.04it/s, loss=0.083] \n",
      "Training  : 100%|██████████| 6/6 [00:02<00:00,  2.13it/s, loss=0.0644]\n",
      "Training  : 100%|██████████| 6/6 [00:02<00:00,  2.15it/s, loss=0.0589]\n",
      "Training  : 100%|██████████| 6/6 [00:02<00:00,  2.14it/s, loss=0.0672]\n",
      "Training  : 100%|██████████| 6/6 [00:02<00:00,  2.16it/s, loss=0.0541]\n",
      "Training  : 100%|██████████| 6/6 [00:02<00:00,  2.18it/s, loss=0.0633]\n",
      "Training  : 100%|██████████| 6/6 [00:02<00:00,  2.15it/s, loss=0.084] \n",
      "Training  : 100%|██████████| 6/6 [00:02<00:00,  2.13it/s, loss=0.0658]\n",
      "Training  : 100%|██████████| 6/6 [00:02<00:00,  2.11it/s, loss=0.0649]\n",
      "Training  : 100%|██████████| 6/6 [00:02<00:00,  2.13it/s, loss=0.0621]\n",
      "Training  : 100%|██████████| 6/6 [00:02<00:00,  2.12it/s, loss=0.0599]\n",
      "Training  : 100%|██████████| 6/6 [00:02<00:00,  2.08it/s, loss=0.068] \n",
      "Training  : 100%|██████████| 6/6 [00:02<00:00,  2.13it/s, loss=0.0628]\n",
      "Training  : 100%|██████████| 6/6 [00:02<00:00,  2.10it/s, loss=0.0597]\n",
      "Training  : 100%|██████████| 6/6 [00:02<00:00,  2.14it/s, loss=0.0598]\n",
      "Training  : 100%|██████████| 6/6 [00:02<00:00,  2.15it/s, loss=0.064] \n",
      "Training  : 100%|██████████| 6/6 [00:02<00:00,  2.16it/s, loss=0.0614]\n",
      "Training  : 100%|██████████| 6/6 [00:03<00:00,  1.99it/s, loss=0.0566] \n",
      "Training  : 100%|██████████| 6/6 [00:02<00:00,  2.07it/s, loss=0.0721]\n",
      "Training  : 100%|██████████| 6/6 [00:02<00:00,  2.11it/s, loss=0.0652]\n",
      "Training  : 100%|██████████| 6/6 [00:02<00:00,  2.05it/s, loss=0.0645] \n",
      "Training  : 100%|██████████| 6/6 [00:02<00:00,  2.14it/s, loss=0.0629]\n",
      "Training  : 100%|██████████| 6/6 [00:02<00:00,  2.16it/s, loss=0.0588]\n",
      "Training  : 100%|██████████| 6/6 [00:02<00:00,  2.18it/s, loss=0.0631]\n",
      "Training  : 100%|██████████| 6/6 [00:02<00:00,  2.15it/s, loss=0.0609]\n",
      "Training  : 100%|██████████| 6/6 [00:02<00:00,  2.17it/s, loss=0.0781]\n",
      "Training  : 100%|██████████| 6/6 [00:02<00:00,  2.11it/s, loss=0.0653]\n",
      "Training  : 100%|██████████| 6/6 [00:02<00:00,  2.12it/s, loss=0.0784]\n",
      "Training  : 100%|██████████| 6/6 [00:02<00:00,  2.14it/s, loss=0.0657]\n",
      "Training  : 100%|██████████| 6/6 [00:02<00:00,  2.13it/s, loss=0.0571]\n",
      "Training  : 100%|██████████| 6/6 [00:02<00:00,  2.15it/s, loss=0.0572] \n",
      "Training  : 100%|██████████| 6/6 [00:02<00:00,  2.06it/s, loss=0.0596]\n",
      "Training  : 100%|██████████| 6/6 [00:02<00:00,  2.17it/s, loss=0.0612]\n",
      "Training  : 100%|██████████| 6/6 [00:02<00:00,  2.14it/s, loss=0.0571]\n",
      "Training  : 100%|██████████| 6/6 [00:02<00:00,  2.07it/s, loss=0.0608]\n",
      "Training  : 100%|██████████| 6/6 [00:02<00:00,  2.15it/s, loss=0.0607]\n",
      "Training  : 100%|██████████| 6/6 [00:02<00:00,  2.17it/s, loss=0.0633]\n",
      "Training  : 100%|██████████| 6/6 [00:02<00:00,  2.08it/s, loss=0.0656]\n",
      "Training  : 100%|██████████| 6/6 [00:02<00:00,  2.17it/s, loss=0.0771]\n",
      "Training  : 100%|██████████| 6/6 [00:02<00:00,  2.14it/s, loss=0.064] \n",
      "Training  : 100%|██████████| 6/6 [00:02<00:00,  2.13it/s, loss=0.0569] \n",
      "Training  : 100%|██████████| 6/6 [00:02<00:00,  2.09it/s, loss=0.064]  \n",
      "Training  : 100%|██████████| 6/6 [00:02<00:00,  2.14it/s, loss=0.0621]\n",
      "Training  : 100%|██████████| 6/6 [00:02<00:00,  2.06it/s, loss=0.0568]\n",
      "Training  : 100%|██████████| 6/6 [00:02<00:00,  2.14it/s, loss=0.0677]\n",
      "Training  : 100%|██████████| 6/6 [00:02<00:00,  2.09it/s, loss=0.0658]\n",
      "Training  : 100%|██████████| 6/6 [00:02<00:00,  2.12it/s, loss=0.0572]\n",
      "Training  : 100%|██████████| 6/6 [00:02<00:00,  2.15it/s, loss=0.0598]\n",
      "Training  : 100%|██████████| 6/6 [00:02<00:00,  2.12it/s, loss=0.0667]\n",
      "Training  : 100%|██████████| 6/6 [00:02<00:00,  2.11it/s, loss=0.0604]\n",
      "Predicting: 100%|██████████| 12/12 [00:01<00:00,  9.53it/s]\n"
     ]
    },
    {
     "name": "stdout",
     "output_type": "stream",
     "text": [
      "Building sklearn text classifier...\n",
      "Loading bert-base-uncased model...\n",
      "Defaulting to linear classifier/regressor\n",
      "Loading Pytorch checkpoint\n",
      "train data size: 178, validation data size: 0\n"
     ]
    },
    {
     "name": "stderr",
     "output_type": "stream",
     "text": [
      "Training  : 100%|██████████| 6/6 [00:02<00:00,  2.09it/s, loss=0.94] \n",
      "Training  : 100%|██████████| 6/6 [00:02<00:00,  2.16it/s, loss=0.747]\n",
      "Training  : 100%|██████████| 6/6 [00:02<00:00,  2.11it/s, loss=0.454]\n",
      "Training  : 100%|██████████| 6/6 [00:02<00:00,  2.14it/s, loss=0.323]\n",
      "Training  : 100%|██████████| 6/6 [00:02<00:00,  2.15it/s, loss=0.287]\n",
      "Training  : 100%|██████████| 6/6 [00:02<00:00,  2.14it/s, loss=0.236]\n",
      "Training  : 100%|██████████| 6/6 [00:02<00:00,  2.11it/s, loss=0.251]\n",
      "Training  : 100%|██████████| 6/6 [00:02<00:00,  2.08it/s, loss=0.23] \n",
      "Training  : 100%|██████████| 6/6 [00:02<00:00,  2.12it/s, loss=0.209]\n",
      "Training  : 100%|██████████| 6/6 [00:02<00:00,  2.14it/s, loss=0.213]\n",
      "Training  : 100%|██████████| 6/6 [00:02<00:00,  2.14it/s, loss=0.224]\n",
      "Training  : 100%|██████████| 6/6 [00:02<00:00,  2.13it/s, loss=0.192]\n",
      "Training  : 100%|██████████| 6/6 [00:02<00:00,  2.08it/s, loss=0.225]\n",
      "Training  : 100%|██████████| 6/6 [00:02<00:00,  2.16it/s, loss=0.232] \n",
      "Training  : 100%|██████████| 6/6 [00:02<00:00,  2.10it/s, loss=0.214]\n",
      "Training  : 100%|██████████| 6/6 [00:02<00:00,  2.10it/s, loss=0.216]\n",
      "Training  : 100%|██████████| 6/6 [00:02<00:00,  2.06it/s, loss=0.208] \n",
      "Training  : 100%|██████████| 6/6 [00:02<00:00,  2.15it/s, loss=0.194] \n",
      "Training  : 100%|██████████| 6/6 [00:02<00:00,  2.13it/s, loss=0.186]\n",
      "Training  : 100%|██████████| 6/6 [00:02<00:00,  2.07it/s, loss=0.183]\n",
      "Training  : 100%|██████████| 6/6 [00:02<00:00,  2.07it/s, loss=0.193]\n",
      "Training  : 100%|██████████| 6/6 [00:02<00:00,  2.06it/s, loss=0.165]\n",
      "Training  : 100%|██████████| 6/6 [00:02<00:00,  2.17it/s, loss=0.17] \n",
      "Training  : 100%|██████████| 6/6 [00:02<00:00,  2.07it/s, loss=0.16] \n",
      "Training  : 100%|██████████| 6/6 [00:02<00:00,  2.13it/s, loss=0.142]\n",
      "Training  : 100%|██████████| 6/6 [00:02<00:00,  2.15it/s, loss=0.15] \n",
      "Training  : 100%|██████████| 6/6 [00:02<00:00,  2.14it/s, loss=0.136]\n",
      "Training  : 100%|██████████| 6/6 [00:02<00:00,  2.07it/s, loss=0.121]\n",
      "Training  : 100%|██████████| 6/6 [00:02<00:00,  2.09it/s, loss=0.156]\n",
      "Training  : 100%|██████████| 6/6 [00:02<00:00,  2.14it/s, loss=0.118] \n",
      "Training  : 100%|██████████| 6/6 [00:02<00:00,  2.10it/s, loss=0.126] \n",
      "Training  : 100%|██████████| 6/6 [00:02<00:00,  2.13it/s, loss=0.115]\n",
      "Training  : 100%|██████████| 6/6 [00:02<00:00,  2.13it/s, loss=0.106]\n",
      "Training  : 100%|██████████| 6/6 [00:02<00:00,  2.12it/s, loss=0.125]\n",
      "Training  : 100%|██████████| 6/6 [00:02<00:00,  2.03it/s, loss=0.114]\n",
      "Training  : 100%|██████████| 6/6 [00:02<00:00,  2.15it/s, loss=0.129] \n",
      "Training  : 100%|██████████| 6/6 [00:02<00:00,  2.15it/s, loss=0.124] \n",
      "Training  : 100%|██████████| 6/6 [00:02<00:00,  2.12it/s, loss=0.113] \n",
      "Training  : 100%|██████████| 6/6 [00:02<00:00,  2.14it/s, loss=0.115] \n",
      "Training  : 100%|██████████| 6/6 [00:02<00:00,  2.11it/s, loss=0.115]\n",
      "Training  : 100%|██████████| 6/6 [00:02<00:00,  2.13it/s, loss=0.116] \n",
      "Training  : 100%|██████████| 6/6 [00:02<00:00,  2.09it/s, loss=0.12] \n",
      "Training  : 100%|██████████| 6/6 [00:02<00:00,  2.05it/s, loss=0.101]\n",
      "Training  : 100%|██████████| 6/6 [00:02<00:00,  2.11it/s, loss=0.105] \n",
      "Training  : 100%|██████████| 6/6 [00:02<00:00,  2.12it/s, loss=0.12] \n",
      "Training  : 100%|██████████| 6/6 [00:02<00:00,  2.16it/s, loss=0.0988]\n",
      "Training  : 100%|██████████| 6/6 [00:02<00:00,  2.12it/s, loss=0.106] \n",
      "Training  : 100%|██████████| 6/6 [00:02<00:00,  2.14it/s, loss=0.111]\n",
      "Training  : 100%|██████████| 6/6 [00:02<00:00,  2.16it/s, loss=0.124]\n",
      "Training  : 100%|██████████| 6/6 [00:02<00:00,  2.09it/s, loss=0.114] \n",
      "Training  : 100%|██████████| 6/6 [00:02<00:00,  2.09it/s, loss=0.121] \n",
      "Training  : 100%|██████████| 6/6 [00:03<00:00,  1.98it/s, loss=0.121] \n",
      "Training  : 100%|██████████| 6/6 [00:02<00:00,  2.16it/s, loss=0.11] \n",
      "Training  : 100%|██████████| 6/6 [00:02<00:00,  2.15it/s, loss=0.124]\n",
      "Training  : 100%|██████████| 6/6 [00:02<00:00,  2.16it/s, loss=0.116] \n",
      "Training  : 100%|██████████| 6/6 [00:02<00:00,  2.15it/s, loss=0.105]\n",
      "Training  : 100%|██████████| 6/6 [00:02<00:00,  2.18it/s, loss=0.125] \n",
      "Training  : 100%|██████████| 6/6 [00:02<00:00,  2.15it/s, loss=0.115] \n",
      "Training  : 100%|██████████| 6/6 [00:02<00:00,  2.16it/s, loss=0.114] \n",
      "Training  : 100%|██████████| 6/6 [00:02<00:00,  2.18it/s, loss=0.105]\n",
      "Training  : 100%|██████████| 6/6 [00:02<00:00,  2.15it/s, loss=0.102]\n",
      "Training  : 100%|██████████| 6/6 [00:02<00:00,  2.07it/s, loss=0.103] \n",
      "Training  : 100%|██████████| 6/6 [00:02<00:00,  2.14it/s, loss=0.105] \n",
      "Training  : 100%|██████████| 6/6 [00:02<00:00,  2.12it/s, loss=0.102] \n",
      "Training  : 100%|██████████| 6/6 [00:02<00:00,  2.14it/s, loss=0.12]  \n",
      "Training  : 100%|██████████| 6/6 [00:02<00:00,  2.02it/s, loss=0.104] \n",
      "Training  : 100%|██████████| 6/6 [00:02<00:00,  2.03it/s, loss=0.0983]\n",
      "Training  : 100%|██████████| 6/6 [00:02<00:00,  2.08it/s, loss=0.104] \n",
      "Training  : 100%|██████████| 6/6 [00:02<00:00,  2.06it/s, loss=0.115] \n",
      "Training  : 100%|██████████| 6/6 [00:02<00:00,  2.16it/s, loss=0.101]\n",
      "Training  : 100%|██████████| 6/6 [00:02<00:00,  2.10it/s, loss=0.118] \n",
      "Training  : 100%|██████████| 6/6 [00:02<00:00,  2.13it/s, loss=0.115] \n",
      "Training  : 100%|██████████| 6/6 [00:02<00:00,  2.10it/s, loss=0.126] \n",
      "Training  : 100%|██████████| 6/6 [00:02<00:00,  2.14it/s, loss=0.109]\n",
      "Training  : 100%|██████████| 6/6 [00:02<00:00,  2.05it/s, loss=0.106]\n",
      "Training  : 100%|██████████| 6/6 [00:02<00:00,  2.12it/s, loss=0.124] \n",
      "Training  : 100%|██████████| 6/6 [00:02<00:00,  2.15it/s, loss=0.105] \n",
      "Training  : 100%|██████████| 6/6 [00:02<00:00,  2.07it/s, loss=0.119] \n",
      "Training  : 100%|██████████| 6/6 [00:02<00:00,  2.17it/s, loss=0.111] \n",
      "Training  : 100%|██████████| 6/6 [00:02<00:00,  2.07it/s, loss=0.105] \n",
      "Training  : 100%|██████████| 6/6 [00:02<00:00,  2.15it/s, loss=0.0952]\n",
      "Training  : 100%|██████████| 6/6 [00:02<00:00,  2.14it/s, loss=0.104]\n",
      "Training  : 100%|██████████| 6/6 [00:02<00:00,  2.09it/s, loss=0.1]  \n",
      "Training  : 100%|██████████| 6/6 [00:02<00:00,  2.11it/s, loss=0.109] \n",
      "Training  : 100%|██████████| 6/6 [00:02<00:00,  2.13it/s, loss=0.115] \n",
      "Training  : 100%|██████████| 6/6 [00:02<00:00,  2.12it/s, loss=0.111]\n",
      "Training  : 100%|██████████| 6/6 [00:02<00:00,  2.15it/s, loss=0.116] \n",
      "Training  : 100%|██████████| 6/6 [00:02<00:00,  2.16it/s, loss=0.103] \n",
      "Training  : 100%|██████████| 6/6 [00:02<00:00,  2.05it/s, loss=0.117] \n",
      "Training  : 100%|██████████| 6/6 [00:02<00:00,  2.13it/s, loss=0.102] \n",
      "Training  : 100%|██████████| 6/6 [00:02<00:00,  2.14it/s, loss=0.111] \n",
      "Training  : 100%|██████████| 6/6 [00:02<00:00,  2.18it/s, loss=0.106] \n",
      "Training  : 100%|██████████| 6/6 [00:02<00:00,  2.13it/s, loss=0.103] \n",
      "Training  : 100%|██████████| 6/6 [00:02<00:00,  2.14it/s, loss=0.116] \n",
      "Training  : 100%|██████████| 6/6 [00:03<00:00,  2.00it/s, loss=0.108]\n",
      "Training  : 100%|██████████| 6/6 [00:02<00:00,  2.10it/s, loss=0.103]\n",
      "Training  : 100%|██████████| 6/6 [00:02<00:00,  2.09it/s, loss=0.102] \n",
      "Training  : 100%|██████████| 6/6 [00:02<00:00,  2.15it/s, loss=0.106]\n",
      "Training  : 100%|██████████| 6/6 [00:02<00:00,  2.10it/s, loss=0.1]   \n",
      "Training  : 100%|██████████| 6/6 [00:02<00:00,  2.13it/s, loss=0.116] \n",
      "Predicting: 100%|██████████| 12/12 [00:01<00:00,  9.40it/s]\n"
     ]
    },
    {
     "name": "stdout",
     "output_type": "stream",
     "text": [
      "Building sklearn text classifier...\n",
      "Loading bert-base-uncased model...\n",
      "Defaulting to linear classifier/regressor\n",
      "Loading Pytorch checkpoint\n",
      "train data size: 178, validation data size: 0\n"
     ]
    },
    {
     "name": "stderr",
     "output_type": "stream",
     "text": [
      "Training  : 100%|██████████| 6/6 [00:02<00:00,  2.06it/s, loss=0.947]\n",
      "Training  : 100%|██████████| 6/6 [00:02<00:00,  2.08it/s, loss=0.754]\n",
      "Training  : 100%|██████████| 6/6 [00:02<00:00,  2.15it/s, loss=0.504]\n",
      "Training  : 100%|██████████| 6/6 [00:02<00:00,  2.12it/s, loss=0.333]\n",
      "Training  : 100%|██████████| 6/6 [00:02<00:00,  2.15it/s, loss=0.302]\n",
      "Training  : 100%|██████████| 6/6 [00:02<00:00,  2.14it/s, loss=0.248]\n",
      "Training  : 100%|██████████| 6/6 [00:02<00:00,  2.06it/s, loss=0.248]\n",
      "Training  : 100%|██████████| 6/6 [00:02<00:00,  2.12it/s, loss=0.252]\n",
      "Training  : 100%|██████████| 6/6 [00:03<00:00,  2.00it/s, loss=0.208]\n",
      "Training  : 100%|██████████| 6/6 [00:02<00:00,  2.17it/s, loss=0.21] \n",
      "Training  : 100%|██████████| 6/6 [00:02<00:00,  2.18it/s, loss=0.209]\n",
      "Training  : 100%|██████████| 6/6 [00:02<00:00,  2.11it/s, loss=0.207]\n",
      "Training  : 100%|██████████| 6/6 [00:02<00:00,  2.09it/s, loss=0.214]\n",
      "Training  : 100%|██████████| 6/6 [00:02<00:00,  2.03it/s, loss=0.237]\n",
      "Training  : 100%|██████████| 6/6 [00:02<00:00,  2.15it/s, loss=0.216] \n",
      "Training  : 100%|██████████| 6/6 [00:02<00:00,  2.05it/s, loss=0.213]\n",
      "Training  : 100%|██████████| 6/6 [00:02<00:00,  2.06it/s, loss=0.215]\n",
      "Training  : 100%|██████████| 6/6 [00:02<00:00,  2.07it/s, loss=0.186]\n",
      "Training  : 100%|██████████| 6/6 [00:02<00:00,  2.14it/s, loss=0.184]\n",
      "Training  : 100%|██████████| 6/6 [00:02<00:00,  2.03it/s, loss=0.16]  \n",
      "Training  : 100%|██████████| 6/6 [00:02<00:00,  2.14it/s, loss=0.184]\n",
      "Training  : 100%|██████████| 6/6 [00:02<00:00,  2.13it/s, loss=0.15] \n",
      "Training  : 100%|██████████| 6/6 [00:02<00:00,  2.15it/s, loss=0.159]\n",
      "Training  : 100%|██████████| 6/6 [00:02<00:00,  2.16it/s, loss=0.161]\n",
      "Training  : 100%|██████████| 6/6 [00:02<00:00,  2.14it/s, loss=0.144]\n",
      "Training  : 100%|██████████| 6/6 [00:02<00:00,  2.17it/s, loss=0.151] \n",
      "Training  : 100%|██████████| 6/6 [00:02<00:00,  2.17it/s, loss=0.141] \n",
      "Training  : 100%|██████████| 6/6 [00:02<00:00,  2.08it/s, loss=0.131]\n",
      "Training  : 100%|██████████| 6/6 [00:02<00:00,  2.18it/s, loss=0.129]\n",
      "Training  : 100%|██████████| 6/6 [00:02<00:00,  2.16it/s, loss=0.131] \n",
      "Training  : 100%|██████████| 6/6 [00:02<00:00,  2.15it/s, loss=0.123] \n",
      "Training  : 100%|██████████| 6/6 [00:02<00:00,  2.15it/s, loss=0.113] \n",
      "Training  : 100%|██████████| 6/6 [00:02<00:00,  2.01it/s, loss=0.104]\n",
      "Training  : 100%|██████████| 6/6 [00:02<00:00,  2.17it/s, loss=0.117] \n",
      "Training  : 100%|██████████| 6/6 [00:02<00:00,  2.15it/s, loss=0.106]\n",
      "Training  : 100%|██████████| 6/6 [00:02<00:00,  2.15it/s, loss=0.129] \n",
      "Training  : 100%|██████████| 6/6 [00:02<00:00,  2.05it/s, loss=0.118]\n",
      "Training  : 100%|██████████| 6/6 [00:02<00:00,  2.06it/s, loss=0.14]  \n",
      "Training  : 100%|██████████| 6/6 [00:02<00:00,  2.14it/s, loss=0.118] \n",
      "Training  : 100%|██████████| 6/6 [00:02<00:00,  2.09it/s, loss=0.126]\n",
      "Training  : 100%|██████████| 6/6 [00:02<00:00,  2.11it/s, loss=0.125] \n",
      "Training  : 100%|██████████| 6/6 [00:02<00:00,  2.05it/s, loss=0.117] \n",
      "Training  : 100%|██████████| 6/6 [00:02<00:00,  2.11it/s, loss=0.0963]\n",
      "Training  : 100%|██████████| 6/6 [00:02<00:00,  2.10it/s, loss=0.111]\n",
      "Training  : 100%|██████████| 6/6 [00:02<00:00,  2.15it/s, loss=0.108]\n",
      "Training  : 100%|██████████| 6/6 [00:02<00:00,  2.15it/s, loss=0.112] \n",
      "Training  : 100%|██████████| 6/6 [00:02<00:00,  2.11it/s, loss=0.117]\n",
      "Training  : 100%|██████████| 6/6 [00:02<00:00,  2.16it/s, loss=0.11] \n",
      "Training  : 100%|██████████| 6/6 [00:02<00:00,  2.12it/s, loss=0.11]  \n",
      "Training  : 100%|██████████| 6/6 [00:02<00:00,  2.07it/s, loss=0.112]\n",
      "Training  : 100%|██████████| 6/6 [00:02<00:00,  2.07it/s, loss=0.107]\n",
      "Training  : 100%|██████████| 6/6 [00:02<00:00,  2.16it/s, loss=0.135] \n",
      "Training  : 100%|██████████| 6/6 [00:02<00:00,  2.12it/s, loss=0.11]  \n",
      "Training  : 100%|██████████| 6/6 [00:02<00:00,  2.04it/s, loss=0.12] \n",
      "Training  : 100%|██████████| 6/6 [00:02<00:00,  2.10it/s, loss=0.114] \n",
      "Training  : 100%|██████████| 6/6 [00:02<00:00,  2.15it/s, loss=0.114] \n",
      "Training  : 100%|██████████| 6/6 [00:02<00:00,  2.09it/s, loss=0.118] \n",
      "Training  : 100%|██████████| 6/6 [00:02<00:00,  2.08it/s, loss=0.105] \n",
      "Training  : 100%|██████████| 6/6 [00:02<00:00,  2.11it/s, loss=0.122]\n",
      "Training  : 100%|██████████| 6/6 [00:02<00:00,  2.15it/s, loss=0.122]\n",
      "Training  : 100%|██████████| 6/6 [00:02<00:00,  2.15it/s, loss=0.108]\n",
      "Training  : 100%|██████████| 6/6 [00:02<00:00,  2.12it/s, loss=0.111]\n",
      "Training  : 100%|██████████| 6/6 [00:02<00:00,  2.14it/s, loss=0.104] \n",
      "Training  : 100%|██████████| 6/6 [00:02<00:00,  2.09it/s, loss=0.102] \n",
      "Training  : 100%|██████████| 6/6 [00:02<00:00,  2.14it/s, loss=0.121] \n",
      "Training  : 100%|██████████| 6/6 [00:02<00:00,  2.09it/s, loss=0.1]   \n",
      "Training  : 100%|██████████| 6/6 [00:02<00:00,  2.14it/s, loss=0.0972]\n",
      "Training  : 100%|██████████| 6/6 [00:02<00:00,  2.15it/s, loss=0.102] \n",
      "Training  : 100%|██████████| 6/6 [00:02<00:00,  2.11it/s, loss=0.115] \n",
      "Training  : 100%|██████████| 6/6 [00:02<00:00,  2.13it/s, loss=0.101]\n",
      "Training  : 100%|██████████| 6/6 [00:02<00:00,  2.07it/s, loss=0.118] \n",
      "Training  : 100%|██████████| 6/6 [00:02<00:00,  2.13it/s, loss=0.124]\n",
      "Training  : 100%|██████████| 6/6 [00:02<00:00,  2.09it/s, loss=0.128] \n",
      "Training  : 100%|██████████| 6/6 [00:02<00:00,  2.13it/s, loss=0.127] \n",
      "Training  : 100%|██████████| 6/6 [00:02<00:00,  2.14it/s, loss=0.109] \n",
      "Training  : 100%|██████████| 6/6 [00:02<00:00,  2.12it/s, loss=0.115] \n",
      "Training  : 100%|██████████| 6/6 [00:02<00:00,  2.16it/s, loss=0.112] \n",
      "Training  : 100%|██████████| 6/6 [00:02<00:00,  2.17it/s, loss=0.111] \n",
      "Training  : 100%|██████████| 6/6 [00:02<00:00,  2.16it/s, loss=0.116] \n",
      "Training  : 100%|██████████| 6/6 [00:02<00:00,  2.06it/s, loss=0.113]\n",
      "Training  : 100%|██████████| 6/6 [00:02<00:00,  2.03it/s, loss=0.105] \n",
      "Training  : 100%|██████████| 6/6 [00:02<00:00,  2.05it/s, loss=0.11] \n",
      "Training  : 100%|██████████| 6/6 [00:02<00:00,  2.18it/s, loss=0.0991]\n",
      "Training  : 100%|██████████| 6/6 [00:02<00:00,  2.17it/s, loss=0.11]  \n",
      "Training  : 100%|██████████| 6/6 [00:02<00:00,  2.16it/s, loss=0.106] \n",
      "Training  : 100%|██████████| 6/6 [00:02<00:00,  2.05it/s, loss=0.11]  \n",
      "Training  : 100%|██████████| 6/6 [00:02<00:00,  2.12it/s, loss=0.117] \n",
      "Training  : 100%|██████████| 6/6 [00:02<00:00,  2.11it/s, loss=0.115]\n",
      "Training  : 100%|██████████| 6/6 [00:02<00:00,  2.05it/s, loss=0.109] \n",
      "Training  : 100%|██████████| 6/6 [00:02<00:00,  2.17it/s, loss=0.106]\n",
      "Training  : 100%|██████████| 6/6 [00:02<00:00,  2.07it/s, loss=0.113] \n",
      "Training  : 100%|██████████| 6/6 [00:02<00:00,  2.17it/s, loss=0.105] \n",
      "Training  : 100%|██████████| 6/6 [00:02<00:00,  2.08it/s, loss=0.101]\n",
      "Training  : 100%|██████████| 6/6 [00:02<00:00,  2.10it/s, loss=0.123] \n",
      "Training  : 100%|██████████| 6/6 [00:02<00:00,  2.11it/s, loss=0.108]\n",
      "Training  : 100%|██████████| 6/6 [00:02<00:00,  2.07it/s, loss=0.104] \n",
      "Training  : 100%|██████████| 6/6 [00:02<00:00,  2.06it/s, loss=0.11]  \n",
      "Training  : 100%|██████████| 6/6 [00:02<00:00,  2.11it/s, loss=0.111] \n",
      "Training  : 100%|██████████| 6/6 [00:02<00:00,  2.14it/s, loss=0.115] \n",
      "Training  : 100%|██████████| 6/6 [00:02<00:00,  2.13it/s, loss=0.115] \n",
      "Predicting: 100%|██████████| 12/12 [00:01<00:00,  9.46it/s]\n"
     ]
    },
    {
     "name": "stdout",
     "output_type": "stream",
     "text": [
      "Building sklearn text classifier...\n",
      "Building sklearn text classifier...\n",
      "Loading bert-base-uncased model...\n",
      "Defaulting to linear classifier/regressor\n",
      "Loading Pytorch checkpoint\n",
      "train data size: 267, validation data size: 0\n"
     ]
    },
    {
     "name": "stderr",
     "output_type": "stream",
     "text": [
      "Training  : 100%|██████████| 9/9 [00:03<00:00,  2.40it/s, loss=0.781]\n",
      "Training  : 100%|██████████| 9/9 [00:03<00:00,  2.41it/s, loss=0.346]\n",
      "Training  : 100%|██████████| 9/9 [00:03<00:00,  2.36it/s, loss=0.259]\n",
      "Training  : 100%|██████████| 9/9 [00:03<00:00,  2.30it/s, loss=0.211]\n",
      "Training  : 100%|██████████| 9/9 [00:03<00:00,  2.42it/s, loss=0.222]\n",
      "Training  : 100%|██████████| 9/9 [00:03<00:00,  2.39it/s, loss=0.195]\n",
      "Training  : 100%|██████████| 9/9 [00:03<00:00,  2.40it/s, loss=0.194]\n",
      "Training  : 100%|██████████| 9/9 [00:03<00:00,  2.38it/s, loss=0.179]\n",
      "Training  : 100%|██████████| 9/9 [00:03<00:00,  2.27it/s, loss=0.156]\n",
      "Training  : 100%|██████████| 9/9 [00:03<00:00,  2.31it/s, loss=0.145] \n",
      "Training  : 100%|██████████| 9/9 [00:03<00:00,  2.30it/s, loss=0.204] \n",
      "Training  : 100%|██████████| 9/9 [00:03<00:00,  2.27it/s, loss=0.189]\n",
      "Training  : 100%|██████████| 9/9 [00:03<00:00,  2.27it/s, loss=0.162] \n",
      "Training  : 100%|██████████| 9/9 [00:03<00:00,  2.41it/s, loss=0.181]\n",
      "Training  : 100%|██████████| 9/9 [00:03<00:00,  2.43it/s, loss=0.176]\n",
      "Training  : 100%|██████████| 9/9 [00:03<00:00,  2.34it/s, loss=0.149]\n",
      "Training  : 100%|██████████| 9/9 [00:03<00:00,  2.44it/s, loss=0.145] \n",
      "Training  : 100%|██████████| 9/9 [00:03<00:00,  2.44it/s, loss=0.15]  \n",
      "Training  : 100%|██████████| 9/9 [00:03<00:00,  2.39it/s, loss=0.121]\n",
      "Training  : 100%|██████████| 9/9 [00:03<00:00,  2.30it/s, loss=0.145] \n",
      "Training  : 100%|██████████| 9/9 [00:03<00:00,  2.40it/s, loss=0.12] \n",
      "Training  : 100%|██████████| 9/9 [00:03<00:00,  2.43it/s, loss=0.114] \n",
      "Training  : 100%|██████████| 9/9 [00:03<00:00,  2.36it/s, loss=0.118] \n",
      "Training  : 100%|██████████| 9/9 [00:03<00:00,  2.41it/s, loss=0.115]\n",
      "Training  : 100%|██████████| 9/9 [00:03<00:00,  2.38it/s, loss=0.115] \n",
      "Training  : 100%|██████████| 9/9 [00:03<00:00,  2.43it/s, loss=0.162] \n",
      "Training  : 100%|██████████| 9/9 [00:03<00:00,  2.32it/s, loss=0.116]\n",
      "Training  : 100%|██████████| 9/9 [00:03<00:00,  2.38it/s, loss=0.116] \n",
      "Training  : 100%|██████████| 9/9 [00:03<00:00,  2.41it/s, loss=0.102] \n",
      "Training  : 100%|██████████| 9/9 [00:03<00:00,  2.36it/s, loss=0.106] \n",
      "Training  : 100%|██████████| 9/9 [00:03<00:00,  2.42it/s, loss=0.11]  \n",
      "Training  : 100%|██████████| 9/9 [00:03<00:00,  2.35it/s, loss=0.137] \n",
      "Training  : 100%|██████████| 9/9 [00:03<00:00,  2.43it/s, loss=0.122] \n",
      "Training  : 100%|██████████| 9/9 [00:03<00:00,  2.42it/s, loss=0.117] \n",
      "Training  : 100%|██████████| 9/9 [00:03<00:00,  2.36it/s, loss=0.11] \n",
      "Training  : 100%|██████████| 9/9 [00:03<00:00,  2.36it/s, loss=0.115] \n",
      "Training  : 100%|██████████| 9/9 [00:03<00:00,  2.45it/s, loss=0.102] \n",
      "Training  : 100%|██████████| 9/9 [00:03<00:00,  2.38it/s, loss=0.125] \n",
      "Training  : 100%|██████████| 9/9 [00:03<00:00,  2.37it/s, loss=0.0942]\n",
      "Training  : 100%|██████████| 9/9 [00:03<00:00,  2.42it/s, loss=0.0937]\n",
      "Training  : 100%|██████████| 9/9 [00:03<00:00,  2.37it/s, loss=0.101] \n",
      "Training  : 100%|██████████| 9/9 [00:03<00:00,  2.39it/s, loss=0.0925]\n",
      "Training  : 100%|██████████| 9/9 [00:03<00:00,  2.37it/s, loss=0.0965]\n",
      "Training  : 100%|██████████| 9/9 [00:03<00:00,  2.40it/s, loss=0.0984]\n",
      "Training  : 100%|██████████| 9/9 [00:03<00:00,  2.30it/s, loss=0.102] \n",
      "Training  : 100%|██████████| 9/9 [00:03<00:00,  2.35it/s, loss=0.107] \n",
      "Training  : 100%|██████████| 9/9 [00:03<00:00,  2.40it/s, loss=0.0963]\n",
      "Training  : 100%|██████████| 9/9 [00:03<00:00,  2.43it/s, loss=0.0927]\n",
      "Training  : 100%|██████████| 9/9 [00:03<00:00,  2.38it/s, loss=0.0959]\n",
      "Training  : 100%|██████████| 9/9 [00:03<00:00,  2.29it/s, loss=0.089] \n"
     ]
    },
    {
     "data": {
      "text/plain": [
       "GridSearchCV(cv=3,\n",
       "             estimator=BertClassifier(max_seq_length=64, validation_fraction=0),\n",
       "             param_grid={'epochs': [50, 75, 100],\n",
       "                         'learning_rate': [2e-05, 3e-05, 1e-05]},\n",
       "             scoring='accuracy', verbose=True)"
      ]
     },
     "execution_count": 31,
     "metadata": {},
     "output_type": "execute_result"
    }
   ],
   "source": [
    "# %%time\n",
    "# from bert import run_classifier\n",
    "params = {'epochs':[50, 75, 100], 'learning_rate':[2e-5, 3e-5, 1e-5]}\n",
    "\n",
    "# wrap classifier/regressor in GridSearchCV\n",
    "clf_bert = GridSearchCV(BertClassifier(validation_fraction=0, max_seq_length=64), \n",
    "                   params,\n",
    "                   cv=3,\n",
    "                   scoring='accuracy',\n",
    "                   verbose=True)\n",
    "\n",
    "# fit gridsearch \n",
    "clf_bert.fit(X_train ,y_train)"
   ]
  },
  {
   "cell_type": "code",
   "execution_count": 32,
   "metadata": {},
   "outputs": [
    {
     "name": "stdout",
     "output_type": "stream",
     "text": [
      "0.918 (+/-0.046) for {'epochs': 50, 'learning_rate': 2e-05}\n",
      "0.921 (+/-0.055) for {'epochs': 50, 'learning_rate': 3e-05}\n",
      "0.918 (+/-0.046) for {'epochs': 50, 'learning_rate': 1e-05}\n",
      "0.921 (+/-0.049) for {'epochs': 75, 'learning_rate': 2e-05}\n",
      "0.918 (+/-0.046) for {'epochs': 75, 'learning_rate': 3e-05}\n",
      "0.914 (+/-0.046) for {'epochs': 75, 'learning_rate': 1e-05}\n",
      "0.921 (+/-0.037) for {'epochs': 100, 'learning_rate': 2e-05}\n",
      "0.918 (+/-0.038) for {'epochs': 100, 'learning_rate': 3e-05}\n",
      "0.918 (+/-0.038) for {'epochs': 100, 'learning_rate': 1e-05}\n",
      "\n",
      "Best score: 0.9213483146067416 with params: {'epochs': 50, 'learning_rate': 3e-05}\n"
     ]
    }
   ],
   "source": [
    "means = clf_bert.cv_results_['mean_test_score']\n",
    "stds = clf_bert.cv_results_['std_test_score']\n",
    "\n",
    "for mean, std, params in zip(means, stds, clf_bert.cv_results_['params']):\n",
    "        print(\"%0.3f (+/-%0.03f) for %r\"\n",
    "              % (mean, std * 2, params))\n",
    "        \n",
    "# best scores\n",
    "print(\"\\nBest score:\", clf_bert.best_score_,\"with params:\", clf_bert.best_params_)"
   ]
  },
  {
   "cell_type": "code",
   "execution_count": 33,
   "metadata": {},
   "outputs": [
    {
     "data": {
      "text/plain": [
       "'Tesla P100-PCIE-16GB'"
      ]
     },
     "execution_count": 33,
     "metadata": {},
     "output_type": "execute_result"
    }
   ],
   "source": [
    "# CUDA device (GPU)\n",
    "device = torch.device(\"cuda\" if torch.cuda.is_available() else \"cpu\")\n",
    "n_gpu = torch.cuda.device_count()\n",
    "torch.cuda.get_device_name(0)\n",
    "# Print state of GPU\n",
    "# !nvidia-smi"
   ]
  },
  {
   "cell_type": "code",
   "execution_count": 34,
   "metadata": {},
   "outputs": [],
   "source": [
    "#define a batch size\n",
    "batch_size = 5\n",
    "epochs = 50\n",
    "learning_rate = 3e-5"
   ]
  },
  {
   "cell_type": "code",
   "execution_count": 35,
   "metadata": {},
   "outputs": [],
   "source": [
    "categories = {'control': 0, 'case': 1}\n",
    "# initialise the model use pretrained bert_2 instance and the label numbers\n",
    "model = BERT_Text_Classifier(bert, class_num=len(categories))\n",
    "\n",
    "# push the model to GPU\n",
    "model = model.to(device)\n",
    "\n",
    "# define the optimizer\n",
    "# optimizer = AdamW(model.parameters(),\n",
    "#                   lr = learning_rate)\n",
    "optimizer = optim.SGD(model.parameters(), lr=learning_rate)\n",
    "\n",
    "cross_entropy  = nn.NLLLoss() "
   ]
  },
  {
   "cell_type": "code",
   "execution_count": 36,
   "metadata": {},
   "outputs": [
    {
     "name": "stdout",
     "output_type": "stream",
     "text": [
      "\n",
      " Epoch 1 / 50\n"
     ]
    },
    {
     "name": "stderr",
     "output_type": "stream",
     "text": [
      "100%|██████████| 54/54 [00:02<00:00, 23.77it/s]"
     ]
    },
    {
     "name": "stdout",
     "output_type": "stream",
     "text": [
      "evaluating...\n"
     ]
    },
    {
     "name": "stderr",
     "output_type": "stream",
     "text": [
      "\n",
      "100%|██████████| 18/18 [00:00<00:00, 81.26it/s]"
     ]
    },
    {
     "name": "stdout",
     "output_type": "stream",
     "text": [
      "\n",
      "Training Loss: 0.550 dev performance, p:0.808, r:0.926, f1:0.863\n",
      "current best score is 0.863\n",
      "\n",
      " Epoch 2 / 50\n"
     ]
    },
    {
     "name": "stderr",
     "output_type": "stream",
     "text": [
      "\n",
      "100%|██████████| 54/54 [00:02<00:00, 23.72it/s]"
     ]
    },
    {
     "name": "stdout",
     "output_type": "stream",
     "text": [
      "evaluating...\n"
     ]
    },
    {
     "name": "stderr",
     "output_type": "stream",
     "text": [
      "\n",
      "100%|██████████| 18/18 [00:00<00:00, 86.77it/s]"
     ]
    },
    {
     "name": "stdout",
     "output_type": "stream",
     "text": [
      "\n",
      "Training Loss: 0.543 dev performance, p:0.787, r:0.926, f1:0.851\n",
      "\n",
      " Epoch 3 / 50\n"
     ]
    },
    {
     "name": "stderr",
     "output_type": "stream",
     "text": [
      "\n",
      "100%|██████████| 54/54 [00:02<00:00, 23.78it/s]"
     ]
    },
    {
     "name": "stdout",
     "output_type": "stream",
     "text": [
      "evaluating...\n"
     ]
    },
    {
     "name": "stderr",
     "output_type": "stream",
     "text": [
      "\n",
      "100%|██████████| 18/18 [00:00<00:00, 87.76it/s]"
     ]
    },
    {
     "name": "stdout",
     "output_type": "stream",
     "text": [
      "\n",
      "Training Loss: 0.540 dev performance, p:0.818, r:0.926, f1:0.869\n",
      "current best score is 0.869\n",
      "\n",
      " Epoch 4 / 50\n"
     ]
    },
    {
     "name": "stderr",
     "output_type": "stream",
     "text": [
      "\n",
      "100%|██████████| 54/54 [00:02<00:00, 23.81it/s]"
     ]
    },
    {
     "name": "stdout",
     "output_type": "stream",
     "text": [
      "evaluating...\n"
     ]
    },
    {
     "name": "stderr",
     "output_type": "stream",
     "text": [
      "\n",
      "100%|██████████| 18/18 [00:00<00:00, 81.92it/s]"
     ]
    },
    {
     "name": "stdout",
     "output_type": "stream",
     "text": [
      "\n",
      "Training Loss: 0.532 dev performance, p:0.785, r:0.912, f1:0.844\n",
      "\n",
      " Epoch 5 / 50\n"
     ]
    },
    {
     "name": "stderr",
     "output_type": "stream",
     "text": [
      "\n",
      "100%|██████████| 54/54 [00:02<00:00, 23.81it/s]"
     ]
    },
    {
     "name": "stdout",
     "output_type": "stream",
     "text": [
      "evaluating...\n"
     ]
    },
    {
     "name": "stderr",
     "output_type": "stream",
     "text": [
      "\n",
      "100%|██████████| 18/18 [00:00<00:00, 82.13it/s]"
     ]
    },
    {
     "name": "stdout",
     "output_type": "stream",
     "text": [
      "\n",
      "Training Loss: 0.523 dev performance, p:0.778, r:0.926, f1:0.846\n",
      "\n",
      " Epoch 6 / 50\n"
     ]
    },
    {
     "name": "stderr",
     "output_type": "stream",
     "text": [
      "\n",
      "100%|██████████| 54/54 [00:02<00:00, 23.89it/s]"
     ]
    },
    {
     "name": "stdout",
     "output_type": "stream",
     "text": [
      "evaluating...\n"
     ]
    },
    {
     "name": "stderr",
     "output_type": "stream",
     "text": [
      "\n",
      "100%|██████████| 18/18 [00:00<00:00, 88.26it/s]"
     ]
    },
    {
     "name": "stdout",
     "output_type": "stream",
     "text": [
      "\n",
      "Training Loss: 0.521 dev performance, p:0.797, r:0.926, f1:0.857\n",
      "\n",
      " Epoch 7 / 50\n"
     ]
    },
    {
     "name": "stderr",
     "output_type": "stream",
     "text": [
      "\n",
      "100%|██████████| 54/54 [00:02<00:00, 23.89it/s]"
     ]
    },
    {
     "name": "stdout",
     "output_type": "stream",
     "text": [
      "evaluating...\n"
     ]
    },
    {
     "name": "stderr",
     "output_type": "stream",
     "text": [
      "\n",
      "100%|██████████| 18/18 [00:00<00:00, 88.49it/s]"
     ]
    },
    {
     "name": "stdout",
     "output_type": "stream",
     "text": [
      "\n",
      "Training Loss: 0.507 dev performance, p:0.816, r:0.912, f1:0.861\n",
      "\n",
      " Epoch 8 / 50\n"
     ]
    },
    {
     "name": "stderr",
     "output_type": "stream",
     "text": [
      "\n",
      "100%|██████████| 54/54 [00:02<00:00, 23.91it/s]"
     ]
    },
    {
     "name": "stdout",
     "output_type": "stream",
     "text": [
      "evaluating...\n"
     ]
    },
    {
     "name": "stderr",
     "output_type": "stream",
     "text": [
      "\n",
      "100%|██████████| 18/18 [00:00<00:00, 88.99it/s]"
     ]
    },
    {
     "name": "stdout",
     "output_type": "stream",
     "text": [
      "\n",
      "Training Loss: 0.507 dev performance, p:0.797, r:0.926, f1:0.857\n",
      "\n",
      " Epoch 9 / 50\n"
     ]
    },
    {
     "name": "stderr",
     "output_type": "stream",
     "text": [
      "\n",
      "100%|██████████| 54/54 [00:02<00:00, 23.83it/s]"
     ]
    },
    {
     "name": "stdout",
     "output_type": "stream",
     "text": [
      "evaluating...\n"
     ]
    },
    {
     "name": "stderr",
     "output_type": "stream",
     "text": [
      "\n",
      "100%|██████████| 18/18 [00:00<00:00, 82.58it/s]"
     ]
    },
    {
     "name": "stdout",
     "output_type": "stream",
     "text": [
      "\n",
      "Training Loss: 0.502 dev performance, p:0.865, r:0.941, f1:0.901\n",
      "current best score is 0.901\n",
      "\n",
      " Epoch 10 / 50\n"
     ]
    },
    {
     "name": "stderr",
     "output_type": "stream",
     "text": [
      "\n",
      "100%|██████████| 54/54 [00:02<00:00, 23.98it/s]"
     ]
    },
    {
     "name": "stdout",
     "output_type": "stream",
     "text": [
      "evaluating...\n"
     ]
    },
    {
     "name": "stderr",
     "output_type": "stream",
     "text": [
      "\n",
      "100%|██████████| 18/18 [00:00<00:00, 88.94it/s]"
     ]
    },
    {
     "name": "stdout",
     "output_type": "stream",
     "text": [
      "\n",
      "Training Loss: 0.487 dev performance, p:0.797, r:0.926, f1:0.857\n",
      "\n",
      " Epoch 11 / 50\n"
     ]
    },
    {
     "name": "stderr",
     "output_type": "stream",
     "text": [
      "\n",
      "100%|██████████| 54/54 [00:02<00:00, 23.98it/s]"
     ]
    },
    {
     "name": "stdout",
     "output_type": "stream",
     "text": [
      "evaluating...\n"
     ]
    },
    {
     "name": "stderr",
     "output_type": "stream",
     "text": [
      "\n",
      "100%|██████████| 18/18 [00:00<00:00, 88.73it/s]"
     ]
    },
    {
     "name": "stdout",
     "output_type": "stream",
     "text": [
      "\n",
      "Training Loss: 0.486 dev performance, p:0.797, r:0.926, f1:0.857\n",
      "\n",
      " Epoch 12 / 50\n"
     ]
    },
    {
     "name": "stderr",
     "output_type": "stream",
     "text": [
      "\n",
      "100%|██████████| 54/54 [00:01<00:00, 28.13it/s]"
     ]
    },
    {
     "name": "stdout",
     "output_type": "stream",
     "text": [
      "evaluating...\n"
     ]
    },
    {
     "name": "stderr",
     "output_type": "stream",
     "text": [
      "\n",
      "100%|██████████| 18/18 [00:00<00:00, 111.66it/s]"
     ]
    },
    {
     "name": "stdout",
     "output_type": "stream",
     "text": [
      "\n",
      "Training Loss: 0.477 dev performance, p:0.816, r:0.912, f1:0.861\n",
      "\n",
      " Epoch 13 / 50\n"
     ]
    },
    {
     "name": "stderr",
     "output_type": "stream",
     "text": [
      "\n",
      "100%|██████████| 54/54 [00:01<00:00, 29.06it/s]"
     ]
    },
    {
     "name": "stdout",
     "output_type": "stream",
     "text": [
      "evaluating...\n"
     ]
    },
    {
     "name": "stderr",
     "output_type": "stream",
     "text": [
      "\n",
      "100%|██████████| 18/18 [00:00<00:00, 112.26it/s]"
     ]
    },
    {
     "name": "stdout",
     "output_type": "stream",
     "text": [
      "\n",
      "Training Loss: 0.478 dev performance, p:0.808, r:0.926, f1:0.863\n",
      "\n",
      " Epoch 14 / 50\n"
     ]
    },
    {
     "name": "stderr",
     "output_type": "stream",
     "text": [
      "\n",
      "100%|██████████| 54/54 [00:01<00:00, 28.94it/s]"
     ]
    },
    {
     "name": "stdout",
     "output_type": "stream",
     "text": [
      "evaluating...\n"
     ]
    },
    {
     "name": "stderr",
     "output_type": "stream",
     "text": [
      "\n",
      "100%|██████████| 18/18 [00:00<00:00, 110.58it/s]"
     ]
    },
    {
     "name": "stdout",
     "output_type": "stream",
     "text": [
      "\n",
      "Training Loss: 0.466 dev performance, p:0.829, r:0.926, f1:0.875\n",
      "\n",
      " Epoch 15 / 50\n"
     ]
    },
    {
     "name": "stderr",
     "output_type": "stream",
     "text": [
      "\n",
      "100%|██████████| 54/54 [00:01<00:00, 28.93it/s]"
     ]
    },
    {
     "name": "stdout",
     "output_type": "stream",
     "text": [
      "evaluating...\n"
     ]
    },
    {
     "name": "stderr",
     "output_type": "stream",
     "text": [
      "\n",
      "100%|██████████| 18/18 [00:00<00:00, 110.39it/s]"
     ]
    },
    {
     "name": "stdout",
     "output_type": "stream",
     "text": [
      "\n",
      "Training Loss: 0.459 dev performance, p:0.821, r:0.941, f1:0.877\n",
      "\n",
      " Epoch 16 / 50\n"
     ]
    },
    {
     "name": "stderr",
     "output_type": "stream",
     "text": [
      "\n",
      "100%|██████████| 54/54 [00:01<00:00, 28.55it/s]"
     ]
    },
    {
     "name": "stdout",
     "output_type": "stream",
     "text": [
      "evaluating...\n"
     ]
    },
    {
     "name": "stderr",
     "output_type": "stream",
     "text": [
      "\n",
      "100%|██████████| 18/18 [00:00<00:00, 109.52it/s]"
     ]
    },
    {
     "name": "stdout",
     "output_type": "stream",
     "text": [
      "\n",
      "Training Loss: 0.458 dev performance, p:0.842, r:0.941, f1:0.889\n",
      "\n",
      " Epoch 17 / 50\n"
     ]
    },
    {
     "name": "stderr",
     "output_type": "stream",
     "text": [
      "\n",
      "100%|██████████| 54/54 [00:01<00:00, 28.90it/s]"
     ]
    },
    {
     "name": "stdout",
     "output_type": "stream",
     "text": [
      "evaluating...\n"
     ]
    },
    {
     "name": "stderr",
     "output_type": "stream",
     "text": [
      "\n",
      "100%|██████████| 18/18 [00:00<00:00, 109.35it/s]"
     ]
    },
    {
     "name": "stdout",
     "output_type": "stream",
     "text": [
      "\n",
      "Training Loss: 0.454 dev performance, p:0.829, r:0.926, f1:0.875\n",
      "\n",
      " Epoch 18 / 50\n"
     ]
    },
    {
     "name": "stderr",
     "output_type": "stream",
     "text": [
      "\n",
      "100%|██████████| 54/54 [00:01<00:00, 28.95it/s]"
     ]
    },
    {
     "name": "stdout",
     "output_type": "stream",
     "text": [
      "evaluating...\n"
     ]
    },
    {
     "name": "stderr",
     "output_type": "stream",
     "text": [
      "\n",
      "100%|██████████| 18/18 [00:00<00:00, 109.31it/s]"
     ]
    },
    {
     "name": "stdout",
     "output_type": "stream",
     "text": [
      "\n",
      "Training Loss: 0.445 dev performance, p:0.821, r:0.941, f1:0.877\n",
      "\n",
      " Epoch 19 / 50\n"
     ]
    },
    {
     "name": "stderr",
     "output_type": "stream",
     "text": [
      "\n",
      "100%|██████████| 54/54 [00:01<00:00, 28.95it/s]"
     ]
    },
    {
     "name": "stdout",
     "output_type": "stream",
     "text": [
      "evaluating...\n"
     ]
    },
    {
     "name": "stderr",
     "output_type": "stream",
     "text": [
      "\n",
      "100%|██████████| 18/18 [00:00<00:00, 112.69it/s]"
     ]
    },
    {
     "name": "stdout",
     "output_type": "stream",
     "text": [
      "\n",
      "Training Loss: 0.443 dev performance, p:0.875, r:0.926, f1:0.900\n",
      "\n",
      " Epoch 20 / 50\n"
     ]
    },
    {
     "name": "stderr",
     "output_type": "stream",
     "text": [
      "\n",
      "100%|██████████| 54/54 [00:01<00:00, 28.97it/s]"
     ]
    },
    {
     "name": "stdout",
     "output_type": "stream",
     "text": [
      "evaluating...\n"
     ]
    },
    {
     "name": "stderr",
     "output_type": "stream",
     "text": [
      "\n",
      "100%|██████████| 18/18 [00:00<00:00, 112.14it/s]"
     ]
    },
    {
     "name": "stdout",
     "output_type": "stream",
     "text": [
      "\n",
      "Training Loss: 0.437 dev performance, p:0.829, r:0.926, f1:0.875\n",
      "\n",
      " Epoch 21 / 50\n"
     ]
    },
    {
     "name": "stderr",
     "output_type": "stream",
     "text": [
      "\n",
      "100%|██████████| 54/54 [00:01<00:00, 28.74it/s]"
     ]
    },
    {
     "name": "stdout",
     "output_type": "stream",
     "text": [
      "evaluating...\n"
     ]
    },
    {
     "name": "stderr",
     "output_type": "stream",
     "text": [
      "\n",
      "100%|██████████| 18/18 [00:00<00:00, 112.13it/s]"
     ]
    },
    {
     "name": "stdout",
     "output_type": "stream",
     "text": [
      "\n",
      "Training Loss: 0.430 dev performance, p:0.875, r:0.926, f1:0.900\n",
      "\n",
      " Epoch 22 / 50\n"
     ]
    },
    {
     "name": "stderr",
     "output_type": "stream",
     "text": [
      "\n",
      "100%|██████████| 54/54 [00:01<00:00, 28.78it/s]"
     ]
    },
    {
     "name": "stdout",
     "output_type": "stream",
     "text": [
      "evaluating...\n"
     ]
    },
    {
     "name": "stderr",
     "output_type": "stream",
     "text": [
      "\n",
      "100%|██████████| 18/18 [00:00<00:00, 112.57it/s]"
     ]
    },
    {
     "name": "stdout",
     "output_type": "stream",
     "text": [
      "\n",
      "Training Loss: 0.420 dev performance, p:0.853, r:0.941, f1:0.895\n",
      "\n",
      " Epoch 23 / 50\n"
     ]
    },
    {
     "name": "stderr",
     "output_type": "stream",
     "text": [
      "\n",
      "100%|██████████| 54/54 [00:01<00:00, 28.28it/s]"
     ]
    },
    {
     "name": "stdout",
     "output_type": "stream",
     "text": [
      "evaluating...\n"
     ]
    },
    {
     "name": "stderr",
     "output_type": "stream",
     "text": [
      "\n",
      "100%|██████████| 18/18 [00:00<00:00, 88.51it/s]"
     ]
    },
    {
     "name": "stdout",
     "output_type": "stream",
     "text": [
      "\n",
      "Training Loss: 0.418 dev performance, p:0.810, r:0.941, f1:0.871\n",
      "\n",
      " Epoch 24 / 50\n"
     ]
    },
    {
     "name": "stderr",
     "output_type": "stream",
     "text": [
      "\n",
      "100%|██████████| 54/54 [00:02<00:00, 23.76it/s]"
     ]
    },
    {
     "name": "stdout",
     "output_type": "stream",
     "text": [
      "evaluating...\n"
     ]
    },
    {
     "name": "stderr",
     "output_type": "stream",
     "text": [
      "\n",
      "100%|██████████| 18/18 [00:00<00:00, 87.31it/s]"
     ]
    },
    {
     "name": "stdout",
     "output_type": "stream",
     "text": [
      "\n",
      "Training Loss: 0.413 dev performance, p:0.890, r:0.956, f1:0.922\n",
      "current best score is 0.922\n",
      "\n",
      " Epoch 25 / 50\n"
     ]
    },
    {
     "name": "stderr",
     "output_type": "stream",
     "text": [
      "\n",
      "100%|██████████| 54/54 [00:02<00:00, 23.78it/s]"
     ]
    },
    {
     "name": "stdout",
     "output_type": "stream",
     "text": [
      "evaluating...\n"
     ]
    },
    {
     "name": "stderr",
     "output_type": "stream",
     "text": [
      "\n",
      "100%|██████████| 18/18 [00:00<00:00, 88.42it/s]"
     ]
    },
    {
     "name": "stdout",
     "output_type": "stream",
     "text": [
      "\n",
      "Training Loss: 0.412 dev performance, p:0.863, r:0.926, f1:0.894\n",
      "\n",
      " Epoch 26 / 50\n"
     ]
    },
    {
     "name": "stderr",
     "output_type": "stream",
     "text": [
      "\n",
      "100%|██████████| 54/54 [00:02<00:00, 24.06it/s]"
     ]
    },
    {
     "name": "stdout",
     "output_type": "stream",
     "text": [
      "evaluating...\n"
     ]
    },
    {
     "name": "stderr",
     "output_type": "stream",
     "text": [
      "\n",
      "100%|██████████| 18/18 [00:00<00:00, 111.21it/s]"
     ]
    },
    {
     "name": "stdout",
     "output_type": "stream",
     "text": [
      "\n",
      "Training Loss: 0.405 dev performance, p:0.878, r:0.956, f1:0.915\n",
      "\n",
      " Epoch 27 / 50\n"
     ]
    },
    {
     "name": "stderr",
     "output_type": "stream",
     "text": [
      "\n",
      "100%|██████████| 54/54 [00:01<00:00, 28.58it/s]"
     ]
    },
    {
     "name": "stdout",
     "output_type": "stream",
     "text": [
      "evaluating...\n"
     ]
    },
    {
     "name": "stderr",
     "output_type": "stream",
     "text": [
      "\n",
      "100%|██████████| 18/18 [00:00<00:00, 111.50it/s]"
     ]
    },
    {
     "name": "stdout",
     "output_type": "stream",
     "text": [
      "\n",
      "Training Loss: 0.402 dev performance, p:0.855, r:0.956, f1:0.903\n",
      "\n",
      " Epoch 28 / 50\n"
     ]
    },
    {
     "name": "stderr",
     "output_type": "stream",
     "text": [
      "\n",
      "100%|██████████| 54/54 [00:01<00:00, 28.63it/s]"
     ]
    },
    {
     "name": "stdout",
     "output_type": "stream",
     "text": [
      "evaluating...\n"
     ]
    },
    {
     "name": "stderr",
     "output_type": "stream",
     "text": [
      "\n",
      "100%|██████████| 18/18 [00:00<00:00, 111.40it/s]"
     ]
    },
    {
     "name": "stdout",
     "output_type": "stream",
     "text": [
      "\n",
      "Training Loss: 0.397 dev performance, p:0.875, r:0.926, f1:0.900\n",
      "\n",
      " Epoch 29 / 50\n"
     ]
    },
    {
     "name": "stderr",
     "output_type": "stream",
     "text": [
      "\n",
      "100%|██████████| 54/54 [00:01<00:00, 28.82it/s]"
     ]
    },
    {
     "name": "stdout",
     "output_type": "stream",
     "text": [
      "evaluating...\n"
     ]
    },
    {
     "name": "stderr",
     "output_type": "stream",
     "text": [
      "\n",
      "100%|██████████| 18/18 [00:00<00:00, 109.97it/s]"
     ]
    },
    {
     "name": "stdout",
     "output_type": "stream",
     "text": [
      "\n",
      "Training Loss: 0.400 dev performance, p:0.900, r:0.926, f1:0.913\n",
      "\n",
      " Epoch 30 / 50\n"
     ]
    },
    {
     "name": "stderr",
     "output_type": "stream",
     "text": [
      "\n",
      "100%|██████████| 54/54 [00:01<00:00, 28.57it/s]"
     ]
    },
    {
     "name": "stdout",
     "output_type": "stream",
     "text": [
      "evaluating...\n"
     ]
    },
    {
     "name": "stderr",
     "output_type": "stream",
     "text": [
      "\n",
      "100%|██████████| 18/18 [00:00<00:00, 111.42it/s]"
     ]
    },
    {
     "name": "stdout",
     "output_type": "stream",
     "text": [
      "\n",
      "Training Loss: 0.391 dev performance, p:0.863, r:0.926, f1:0.894\n",
      "\n",
      " Epoch 31 / 50\n"
     ]
    },
    {
     "name": "stderr",
     "output_type": "stream",
     "text": [
      "\n",
      "100%|██████████| 54/54 [00:01<00:00, 28.76it/s]"
     ]
    },
    {
     "name": "stdout",
     "output_type": "stream",
     "text": [
      "evaluating...\n"
     ]
    },
    {
     "name": "stderr",
     "output_type": "stream",
     "text": [
      "\n",
      "100%|██████████| 18/18 [00:00<00:00, 111.52it/s]"
     ]
    },
    {
     "name": "stdout",
     "output_type": "stream",
     "text": [
      "\n",
      "Training Loss: 0.382 dev performance, p:0.889, r:0.941, f1:0.914\n",
      "\n",
      " Epoch 32 / 50\n"
     ]
    },
    {
     "name": "stderr",
     "output_type": "stream",
     "text": [
      "\n",
      "100%|██████████| 54/54 [00:01<00:00, 28.62it/s]"
     ]
    },
    {
     "name": "stdout",
     "output_type": "stream",
     "text": [
      "evaluating...\n"
     ]
    },
    {
     "name": "stderr",
     "output_type": "stream",
     "text": [
      "\n",
      "100%|██████████| 18/18 [00:00<00:00, 111.31it/s]"
     ]
    },
    {
     "name": "stdout",
     "output_type": "stream",
     "text": [
      "\n",
      "Training Loss: 0.380 dev performance, p:0.867, r:0.956, f1:0.909\n",
      "\n",
      " Epoch 33 / 50\n"
     ]
    },
    {
     "name": "stderr",
     "output_type": "stream",
     "text": [
      "\n",
      "100%|██████████| 54/54 [00:01<00:00, 27.19it/s]"
     ]
    },
    {
     "name": "stdout",
     "output_type": "stream",
     "text": [
      "evaluating...\n"
     ]
    },
    {
     "name": "stderr",
     "output_type": "stream",
     "text": [
      "\n",
      "100%|██████████| 18/18 [00:00<00:00, 88.29it/s]"
     ]
    },
    {
     "name": "stdout",
     "output_type": "stream",
     "text": [
      "\n",
      "Training Loss: 0.378 dev performance, p:0.915, r:0.956, f1:0.935\n",
      "current best score is 0.935\n",
      "\n",
      " Epoch 34 / 50\n"
     ]
    },
    {
     "name": "stderr",
     "output_type": "stream",
     "text": [
      "\n",
      "100%|██████████| 54/54 [00:02<00:00, 24.00it/s]"
     ]
    },
    {
     "name": "stdout",
     "output_type": "stream",
     "text": [
      "evaluating...\n"
     ]
    },
    {
     "name": "stderr",
     "output_type": "stream",
     "text": [
      "\n",
      "100%|██████████| 18/18 [00:00<00:00, 82.47it/s]"
     ]
    },
    {
     "name": "stdout",
     "output_type": "stream",
     "text": [
      "\n",
      "Training Loss: 0.372 dev performance, p:0.915, r:0.956, f1:0.935\n",
      "\n",
      " Epoch 35 / 50\n"
     ]
    },
    {
     "name": "stderr",
     "output_type": "stream",
     "text": [
      "\n",
      "100%|██████████| 54/54 [00:02<00:00, 23.80it/s]"
     ]
    },
    {
     "name": "stdout",
     "output_type": "stream",
     "text": [
      "evaluating...\n"
     ]
    },
    {
     "name": "stderr",
     "output_type": "stream",
     "text": [
      "\n",
      "100%|██████████| 18/18 [00:00<00:00, 108.84it/s]"
     ]
    },
    {
     "name": "stdout",
     "output_type": "stream",
     "text": [
      "\n",
      "Training Loss: 0.368 dev performance, p:0.913, r:0.926, f1:0.920\n",
      "\n",
      " Epoch 36 / 50\n"
     ]
    },
    {
     "name": "stderr",
     "output_type": "stream",
     "text": [
      "\n",
      "100%|██████████| 54/54 [00:02<00:00, 24.01it/s]"
     ]
    },
    {
     "name": "stdout",
     "output_type": "stream",
     "text": [
      "evaluating...\n"
     ]
    },
    {
     "name": "stderr",
     "output_type": "stream",
     "text": [
      "\n",
      "100%|██████████| 18/18 [00:00<00:00, 88.78it/s]"
     ]
    },
    {
     "name": "stdout",
     "output_type": "stream",
     "text": [
      "\n",
      "Training Loss: 0.367 dev performance, p:0.901, r:0.941, f1:0.921\n",
      "\n",
      " Epoch 37 / 50\n"
     ]
    },
    {
     "name": "stderr",
     "output_type": "stream",
     "text": [
      "\n",
      "100%|██████████| 54/54 [00:02<00:00, 23.79it/s]"
     ]
    },
    {
     "name": "stdout",
     "output_type": "stream",
     "text": [
      "evaluating...\n"
     ]
    },
    {
     "name": "stderr",
     "output_type": "stream",
     "text": [
      "\n",
      "100%|██████████| 18/18 [00:00<00:00, 88.85it/s]"
     ]
    },
    {
     "name": "stdout",
     "output_type": "stream",
     "text": [
      "\n",
      "Training Loss: 0.362 dev performance, p:0.917, r:0.971, f1:0.943\n",
      "current best score is 0.943\n",
      "\n",
      " Epoch 38 / 50\n"
     ]
    },
    {
     "name": "stderr",
     "output_type": "stream",
     "text": [
      "\n",
      "100%|██████████| 54/54 [00:02<00:00, 25.44it/s]"
     ]
    },
    {
     "name": "stdout",
     "output_type": "stream",
     "text": [
      "evaluating...\n"
     ]
    },
    {
     "name": "stderr",
     "output_type": "stream",
     "text": [
      "\n",
      "100%|██████████| 18/18 [00:00<00:00, 110.39it/s]"
     ]
    },
    {
     "name": "stdout",
     "output_type": "stream",
     "text": [
      "\n",
      "Training Loss: 0.359 dev performance, p:0.969, r:0.912, f1:0.939\n",
      "\n",
      " Epoch 39 / 50\n"
     ]
    },
    {
     "name": "stderr",
     "output_type": "stream",
     "text": [
      "\n",
      "100%|██████████| 54/54 [00:02<00:00, 25.72it/s]"
     ]
    },
    {
     "name": "stdout",
     "output_type": "stream",
     "text": [
      "evaluating...\n"
     ]
    },
    {
     "name": "stderr",
     "output_type": "stream",
     "text": [
      "\n",
      "100%|██████████| 18/18 [00:00<00:00, 110.88it/s]"
     ]
    },
    {
     "name": "stdout",
     "output_type": "stream",
     "text": [
      "\n",
      "Training Loss: 0.353 dev performance, p:0.926, r:0.926, f1:0.926\n",
      "\n",
      " Epoch 40 / 50\n"
     ]
    },
    {
     "name": "stderr",
     "output_type": "stream",
     "text": [
      "\n",
      "100%|██████████| 54/54 [00:02<00:00, 25.37it/s]"
     ]
    },
    {
     "name": "stdout",
     "output_type": "stream",
     "text": [
      "evaluating...\n"
     ]
    },
    {
     "name": "stderr",
     "output_type": "stream",
     "text": [
      "\n",
      "100%|██████████| 18/18 [00:00<00:00, 94.04it/s] "
     ]
    },
    {
     "name": "stdout",
     "output_type": "stream",
     "text": [
      "\n",
      "Training Loss: 0.350 dev performance, p:0.943, r:0.971, f1:0.957\n"
     ]
    },
    {
     "name": "stderr",
     "output_type": "stream",
     "text": [
      "\n"
     ]
    },
    {
     "name": "stdout",
     "output_type": "stream",
     "text": [
      "current best score is 0.957\n",
      "\n",
      " Epoch 41 / 50\n"
     ]
    },
    {
     "name": "stderr",
     "output_type": "stream",
     "text": [
      "100%|██████████| 54/54 [00:02<00:00, 25.47it/s]"
     ]
    },
    {
     "name": "stdout",
     "output_type": "stream",
     "text": [
      "evaluating...\n"
     ]
    },
    {
     "name": "stderr",
     "output_type": "stream",
     "text": [
      "\n",
      "100%|██████████| 18/18 [00:00<00:00, 111.18it/s]"
     ]
    },
    {
     "name": "stdout",
     "output_type": "stream",
     "text": [
      "\n",
      "Training Loss: 0.351 dev performance, p:0.887, r:0.926, f1:0.906\n",
      "\n",
      " Epoch 42 / 50\n"
     ]
    },
    {
     "name": "stderr",
     "output_type": "stream",
     "text": [
      "\n",
      "100%|██████████| 54/54 [00:02<00:00, 25.94it/s]"
     ]
    },
    {
     "name": "stdout",
     "output_type": "stream",
     "text": [
      "evaluating...\n"
     ]
    },
    {
     "name": "stderr",
     "output_type": "stream",
     "text": [
      "\n",
      "100%|██████████| 18/18 [00:00<00:00, 111.18it/s]"
     ]
    },
    {
     "name": "stdout",
     "output_type": "stream",
     "text": [
      "\n",
      "Training Loss: 0.342 dev performance, p:0.903, r:0.956, f1:0.929\n",
      "\n",
      " Epoch 43 / 50\n"
     ]
    },
    {
     "name": "stderr",
     "output_type": "stream",
     "text": [
      "\n",
      "100%|██████████| 54/54 [00:02<00:00, 25.89it/s]"
     ]
    },
    {
     "name": "stdout",
     "output_type": "stream",
     "text": [
      "evaluating...\n"
     ]
    },
    {
     "name": "stderr",
     "output_type": "stream",
     "text": [
      "\n",
      "100%|██████████| 18/18 [00:00<00:00, 111.50it/s]"
     ]
    },
    {
     "name": "stdout",
     "output_type": "stream",
     "text": [
      "\n",
      "Training Loss: 0.339 dev performance, p:0.929, r:0.956, f1:0.942\n",
      "\n",
      " Epoch 44 / 50\n"
     ]
    },
    {
     "name": "stderr",
     "output_type": "stream",
     "text": [
      "\n",
      "100%|██████████| 54/54 [00:02<00:00, 25.94it/s]"
     ]
    },
    {
     "name": "stdout",
     "output_type": "stream",
     "text": [
      "evaluating...\n"
     ]
    },
    {
     "name": "stderr",
     "output_type": "stream",
     "text": [
      "\n",
      "100%|██████████| 18/18 [00:00<00:00, 111.07it/s]"
     ]
    },
    {
     "name": "stdout",
     "output_type": "stream",
     "text": [
      "\n",
      "Training Loss: 0.341 dev performance, p:0.890, r:0.956, f1:0.922\n",
      "\n",
      " Epoch 45 / 50\n"
     ]
    },
    {
     "name": "stderr",
     "output_type": "stream",
     "text": [
      "\n",
      "100%|██████████| 54/54 [00:02<00:00, 25.87it/s]"
     ]
    },
    {
     "name": "stdout",
     "output_type": "stream",
     "text": [
      "evaluating...\n"
     ]
    },
    {
     "name": "stderr",
     "output_type": "stream",
     "text": [
      "\n",
      "100%|██████████| 18/18 [00:00<00:00, 112.05it/s]"
     ]
    },
    {
     "name": "stdout",
     "output_type": "stream",
     "text": [
      "\n",
      "Training Loss: 0.333 dev performance, p:0.943, r:0.971, f1:0.957\n",
      "\n",
      " Epoch 46 / 50\n"
     ]
    },
    {
     "name": "stderr",
     "output_type": "stream",
     "text": [
      "\n",
      "100%|██████████| 54/54 [00:02<00:00, 25.78it/s]"
     ]
    },
    {
     "name": "stdout",
     "output_type": "stream",
     "text": [
      "evaluating...\n"
     ]
    },
    {
     "name": "stderr",
     "output_type": "stream",
     "text": [
      "\n",
      "100%|██████████| 18/18 [00:00<00:00, 111.86it/s]"
     ]
    },
    {
     "name": "stdout",
     "output_type": "stream",
     "text": [
      "\n",
      "Training Loss: 0.337 dev performance, p:0.941, r:0.941, f1:0.941\n",
      "\n",
      " Epoch 47 / 50\n"
     ]
    },
    {
     "name": "stderr",
     "output_type": "stream",
     "text": [
      "\n",
      "100%|██████████| 54/54 [00:02<00:00, 25.51it/s]"
     ]
    },
    {
     "name": "stdout",
     "output_type": "stream",
     "text": [
      "evaluating...\n"
     ]
    },
    {
     "name": "stderr",
     "output_type": "stream",
     "text": [
      "\n",
      "100%|██████████| 18/18 [00:00<00:00, 94.22it/s]"
     ]
    },
    {
     "name": "stdout",
     "output_type": "stream",
     "text": [
      "\n",
      "Training Loss: 0.330 dev performance, p:0.942, r:0.956, f1:0.949\n",
      "\n",
      " Epoch 48 / 50\n"
     ]
    },
    {
     "name": "stderr",
     "output_type": "stream",
     "text": [
      "\n",
      "100%|██████████| 54/54 [00:02<00:00, 25.62it/s]"
     ]
    },
    {
     "name": "stdout",
     "output_type": "stream",
     "text": [
      "evaluating...\n"
     ]
    },
    {
     "name": "stderr",
     "output_type": "stream",
     "text": [
      "\n",
      "100%|██████████| 18/18 [00:00<00:00, 94.55it/s] "
     ]
    },
    {
     "name": "stdout",
     "output_type": "stream",
     "text": [
      "\n",
      "Training Loss: 0.326 dev performance, p:0.941, r:0.941, f1:0.941\n",
      "\n",
      " Epoch 49 / 50\n"
     ]
    },
    {
     "name": "stderr",
     "output_type": "stream",
     "text": [
      "\n",
      "100%|██████████| 54/54 [00:02<00:00, 25.45it/s]"
     ]
    },
    {
     "name": "stdout",
     "output_type": "stream",
     "text": [
      "evaluating...\n"
     ]
    },
    {
     "name": "stderr",
     "output_type": "stream",
     "text": [
      "\n",
      "100%|██████████| 18/18 [00:00<00:00, 111.78it/s]"
     ]
    },
    {
     "name": "stdout",
     "output_type": "stream",
     "text": [
      "\n",
      "Training Loss: 0.325 dev performance, p:0.928, r:0.941, f1:0.934\n",
      "\n",
      " Epoch 50 / 50\n"
     ]
    },
    {
     "name": "stderr",
     "output_type": "stream",
     "text": [
      "\n",
      "100%|██████████| 54/54 [00:02<00:00, 25.66it/s]"
     ]
    },
    {
     "name": "stdout",
     "output_type": "stream",
     "text": [
      "evaluating...\n"
     ]
    },
    {
     "name": "stderr",
     "output_type": "stream",
     "text": [
      "\n",
      "100%|██████████| 18/18 [00:00<00:00, 110.99it/s]"
     ]
    },
    {
     "name": "stdout",
     "output_type": "stream",
     "text": [
      "\n",
      "Training Loss: 0.327 dev performance, p:0.941, r:0.941, f1:0.941\n"
     ]
    },
    {
     "name": "stderr",
     "output_type": "stream",
     "text": [
      "\n"
     ]
    }
   ],
   "source": [
    "#for each epoch\n",
    "\n",
    "best_model_state = None\n",
    "best_score = -1\n",
    "\n",
    "for epoch in range(epochs):\n",
    "     \n",
    "    print('\\n Epoch {:} / {:}'.format(epoch + 1, epochs), flush=True)\n",
    "    #train model\n",
    "    train_loss, performance = train()\n",
    "    print('\\nTraining Loss: {:.3f}'.format(train_loss), \n",
    "          'dev performance, p:{precision:.3f}, r:{recall:.3f}, f1:{f1:.3f}'.format(**performance), flush=True)\n",
    "    if best_score < performance['f1']:\n",
    "        best_score = performance['f1']\n",
    "        best_model_state = copy.deepcopy(model.state_dict())\n",
    "        print('current best score is {0:.3f}'.format(best_score), flush=True)    \n",
    "\n",
    "ran = True"
   ]
  },
  {
   "cell_type": "code",
   "execution_count": 37,
   "metadata": {},
   "outputs": [],
   "source": [
    "model_file = 'MEH_bert_gridsearch.pt'\n",
    "torch.save(best_model_state, model_file)"
   ]
  },
  {
   "cell_type": "code",
   "execution_count": 38,
   "metadata": {},
   "outputs": [],
   "source": [
    "if not ran:\n",
    "    device = torch.device('cuda' if torch.cuda.is_available() else 'cpu')\n",
    "\n",
    "    model_file = 'MEH_bert_gridsearch.pt'\n",
    "\n",
    "    categories = {'control': 0, 'case': 1}\n",
    "    # initialise the model use pretrained bert instance and the label numbers\n",
    "    model = BERT_Text_Classifier(bert_2, class_num=len(categories))\n",
    "\n",
    "    model.load_state_dict(torch.load(model_file))\n",
    "    model.eval()"
   ]
  },
  {
   "cell_type": "code",
   "execution_count": 39,
   "metadata": {},
   "outputs": [],
   "source": [
    "test_seq = test_seq.to(device)\n",
    "test_mask = test_mask.to(device)\n",
    "model = model.to(device)"
   ]
  },
  {
   "cell_type": "code",
   "execution_count": 40,
   "metadata": {},
   "outputs": [
    {
     "name": "stdout",
     "output_type": "stream",
     "text": [
      "evaluating...\n"
     ]
    },
    {
     "name": "stderr",
     "output_type": "stream",
     "text": [
      "100%|██████████| 18/18 [00:00<00:00, 110.24it/s]"
     ]
    },
    {
     "name": "stdout",
     "output_type": "stream",
     "text": [
      "{'precision': 0.9466666666666667, 'recall': 0.9466666666666667, 'f1': 0.9466666666666667}\n"
     ]
    },
    {
     "name": "stderr",
     "output_type": "stream",
     "text": [
      "\n"
     ]
    }
   ],
   "source": [
    "# dataLoader for test set\n",
    "# wrap tensors\n",
    "testing_data = TensorDataset(test_seq, test_mask, test_y)\n",
    "testing_data_loader = DataLoader(testing_data, batch_size=batch_size)     \n",
    "print(evaluate(model, testing_data_loader))\n",
    "# preds = np.argmax(preds.detach().cpu(), axis = 1)"
   ]
  },
  {
   "cell_type": "code",
   "execution_count": 41,
   "metadata": {},
   "outputs": [
    {
     "name": "stdout",
     "output_type": "stream",
     "text": [
      "              precision    recall  f1-score   support\n",
      "\n",
      "           0       0.73      0.73      0.73        15\n",
      "           1       0.95      0.95      0.95        75\n",
      "\n",
      "    accuracy                           0.91        90\n",
      "   macro avg       0.84      0.84      0.84        90\n",
      "weighted avg       0.91      0.91      0.91        90\n",
      "\n"
     ]
    }
   ],
   "source": [
    "# predicting, so gradients\n",
    "with torch.no_grad():\n",
    "    preds = model(test_seq, test_mask)\n",
    "    \n",
    "preds = np.argmax(preds.detach().cpu(), axis = 1)\n",
    "print(classification_report(test_y, preds))"
   ]
  },
  {
   "cell_type": "code",
   "execution_count": 42,
   "metadata": {},
   "outputs": [
    {
     "data": {
      "image/png": "[encoded data removed]",
      "text/plain": [
       "<Figure size 432x288 with 2 Axes>"
      ]
     },
     "metadata": {
      "needs_background": "light"
     },
     "output_type": "display_data"
    }
   ],
   "source": [
    "cm_bert_grid = confusion_matrix(test_y, preds, labels=[1,0])\n",
    "ax= plt.subplot()\n",
    "sns.heatmap(cm_bert_grid, annot=True, ax = ax, cmap='Blues', fmt=\"d\")\n",
    "\n",
    "ax.set_title('Confusion Matrix of BERT after Grid Search (MEH data)')\n",
    "\n",
    "ax.set_xlabel('Predicted Labels')\n",
    "ax.set_ylabel('True Labels')\n",
    "\n",
    "ax.xaxis.set_ticklabels(['FAKE', 'REAL'])\n",
    "ax.yaxis.set_ticklabels(['FAKE', 'REAL'])\n",
    "plt.savefig('Confusion_matrix_BERT(grid search)_meh')"
   ]
  },
  {
   "cell_type": "markdown",
   "metadata": {},
   "source": [
    "# BlueBERT\n",
    "## Initial training"
   ]
  },
  {
   "cell_type": "code",
   "execution_count": 43,
   "metadata": {},
   "outputs": [
    {
     "name": "stderr",
     "output_type": "stream",
     "text": [
      "Some weights of the model checkpoint at bionlp/bluebert_pubmed_mimic_uncased_L-12_H-768_A-12 were not used when initializing BertModel: ['cls.predictions.transform.dense.bias', 'cls.predictions.transform.dense.weight', 'cls.seq_relationship.weight', 'cls.predictions.decoder.bias', 'cls.predictions.transform.LayerNorm.weight', 'cls.seq_relationship.bias', 'cls.predictions.decoder.weight', 'cls.predictions.bias', 'cls.predictions.transform.LayerNorm.bias']\n",
      "- This IS expected if you are initializing BertModel from the checkpoint of a model trained on another task or with another architecture (e.g. initializing a BertForSequenceClassification model from a BertForPreTraining model).\n",
      "- This IS NOT expected if you are initializing BertModel from the checkpoint of a model that you expect to be exactly identical (initializing a BertForSequenceClassification model from a BertForSequenceClassification model).\n"
     ]
    }
   ],
   "source": [
    "# bionlp/bluebert_pubmed_mimic_uncased_L-12_H-768_A-12\n",
    "# import BERT-base pretrained model\n",
    "bert_2 = AutoModel.from_pretrained('bionlp/bluebert_pubmed_mimic_uncased_L-12_H-768_A-12')\n",
    "# Load the BERT tokenizer\n",
    "tokenizer_2 = BertTokenizerFast.from_pretrained('bionlp/bluebert_pubmed_mimic_uncased_L-12_H-768_A-12')"
   ]
  },
  {
   "cell_type": "code",
   "execution_count": 44,
   "metadata": {},
   "outputs": [
    {
     "name": "stderr",
     "output_type": "stream",
     "text": [
      "Asking to truncate to max_length but no maximum length is provided and the model has no predefined maximum length. Default to no truncation.\n"
     ]
    }
   ],
   "source": [
    "def prepare_X_y(texts, labels):    \n",
    "    tokenized = tokenizer_2.batch_encode_plus(\n",
    "        texts,\n",
    "        padding=True,\n",
    "        truncation=True\n",
    "    )\n",
    "    seq = torch.tensor(tokenized['input_ids'])\n",
    "    mask = torch.tensor(tokenized['attention_mask'])\n",
    "    y = torch.tensor(labels)\n",
    "    return seq, mask, y\n",
    "\n",
    "train_seq, train_mask, train_y = prepare_X_y(X_train, y_train)\n",
    "dev_seq, dev_mask, dev_y = prepare_X_y(X_dev, y_dev)\n",
    "test_seq, test_mask, test_y = prepare_X_y(X_test, y_test)"
   ]
  },
  {
   "cell_type": "code",
   "execution_count": 45,
   "metadata": {},
   "outputs": [],
   "source": [
    "#define a batch size\n",
    "batch_size = 5\n",
    "epochs = 20\n",
    "learning_rate = 1e-1"
   ]
  },
  {
   "cell_type": "code",
   "execution_count": 46,
   "metadata": {},
   "outputs": [],
   "source": [
    "# wrap tensors\n",
    "training_data = TensorDataset(train_seq, train_mask, train_y)\n",
    "dev_data = TensorDataset(dev_seq, dev_mask, dev_y)\n",
    "# testing_data = TensorDataset(test_seq, test_mask, test_y)\n",
    "\n",
    "# sampler for sampling the data during training\n",
    "sampler = RandomSampler(training_data)\n",
    "\n",
    "# dataLoader\n",
    "training_data_loader = DataLoader(training_data, sampler=sampler, batch_size=batch_size)\n",
    "dev_data_loader = DataLoader(dev_data, batch_size=batch_size) \n",
    "# testing_data_loader = DataLoader(testing_data, sampler=sampler, batch_size=batch_size)"
   ]
  },
  {
   "cell_type": "code",
   "execution_count": 47,
   "metadata": {},
   "outputs": [],
   "source": [
    "# Define the model\n",
    "\n",
    "class BERT_Text_Classifier(nn.Module):\n",
    "    \n",
    "    def __init__(self, bert_2, class_num, bert_dim=768, hidden_dim=512):\n",
    "      \n",
    "        super(BERT_Text_Classifier, self).__init__()\n",
    "\n",
    "        self.bert_2 = bert_2 \n",
    "\n",
    "        # define a dropout\n",
    "        self.dropout = nn.Dropout(0.1)\n",
    "\n",
    "        # use relu\n",
    "        self.relu =  nn.ReLU()\n",
    "\n",
    "        # feedforward layer\n",
    "        self.fc1 = nn.Linear(bert_dim, hidden_dim)\n",
    "\n",
    "        # Output layer\n",
    "        self.fc2 = nn.Linear(hidden_dim, class_num)\n",
    "\n",
    "        #softmax function instance\n",
    "        self.softmax = nn.LogSoftmax(dim=1)\n",
    "\n",
    "    #define the forward pass\n",
    "    def forward(self, seq, mask):\n",
    "\n",
    "        # use pretrained bert_2 to read the sequence with the mask (pay attention to which tokens)\n",
    "        bert_out = self.bert_2(seq, attention_mask=mask)\n",
    "        \n",
    "        # print('last_hidden_state', bert_out['last_hidden_state'].size(), \n",
    "        #      'pooler_output', bert_out['pooler_output'].size())\n",
    "        \n",
    "        lhs = bert_out['pooler_output']\n",
    "        x = self.fc1(lhs)        \n",
    "        x = self.relu(x)\n",
    "        x = self.dropout(x)\n",
    "        x = self.fc2(x)\n",
    "        \n",
    "        # apply softmax activation\n",
    "        x = self.softmax(x)\n",
    "\n",
    "        return x"
   ]
  },
  {
   "cell_type": "code",
   "execution_count": 48,
   "metadata": {},
   "outputs": [],
   "source": [
    "def evaluate(m, evl_loader, eval_labels=[1]):\n",
    "    from sklearn.metrics import precision_recall_fscore_support\n",
    "    preds = []\n",
    "    lbls = []\n",
    "    print('evaluating...', flush=True)\n",
    "    for step, batch in enumerate(tqdm(evl_loader)):        \n",
    "        # use gpu if available\n",
    "        batch = [r.to(device) for r in batch]\n",
    "        seq, mask, labels = batch\n",
    "        with torch.no_grad():\n",
    "            batch_result = m(seq, mask)\n",
    "            rets = np.argmax(batch_result.detach().cpu(), axis = 1).tolist()\n",
    "            preds += rets\n",
    "            lbls += labels.tolist()\n",
    "    p, r, f, _ = precision_recall_fscore_support(lbls, preds, labels=eval_labels)\n",
    "    return {'precision': p[0], 'recall': r[0], 'f1': f[0]}"
   ]
  },
  {
   "cell_type": "code",
   "execution_count": 49,
   "metadata": {},
   "outputs": [],
   "source": [
    "# function to train the model\n",
    "def train():\n",
    "    # dropout activates when in train mode \n",
    "    model.train()\n",
    "\n",
    "    total_loss = 0\n",
    "    for step, batch in enumerate(tqdm(training_data_loader)):\n",
    "        \n",
    "        # use gpu if available\n",
    "        batch = [r.to(device) for r in batch]\n",
    "        \n",
    "        seq, mask, labels = batch\n",
    "        \n",
    "        # reset gradients \n",
    "        model.zero_grad()        \n",
    "\n",
    "        # get model outputs\n",
    "        outputs = model.forward(seq, mask)\n",
    "\n",
    "        # compute the loss between actual and predicted values\n",
    "        loss = cross_entropy(outputs, labels)\n",
    "\n",
    "        # accumulate loss\n",
    "        total_loss = total_loss + loss.item()\n",
    "\n",
    "        # calculate the gradients\n",
    "        loss.backward()\n",
    "\n",
    "        # deal with the exploding gradient problem\n",
    "        torch.nn.utils.clip_grad_norm_(model.parameters(), 1.0)\n",
    "\n",
    "        # update parameters\n",
    "        optimizer.step()\n",
    "\n",
    "    # calculate average loss\n",
    "    average_loss = total_loss / len(training_data_loader)\n",
    "    \n",
    "    ret = evaluate(model, dev_data_loader)\n",
    "  \n",
    "    return average_loss, ret"
   ]
  },
  {
   "cell_type": "code",
   "execution_count": 50,
   "metadata": {},
   "outputs": [],
   "source": [
    "categories = {'control': 0, 'case': 1}\n",
    "# initialise the model use pretrained bert_2 instance and the label numbers\n",
    "model = BERT_Text_Classifier(bert_2, class_num=len(categories))\n",
    "\n",
    "# push the model to GPU\n",
    "model = model.to(device)\n",
    "\n",
    "# define the optimizer\n",
    "# optimizer = AdamW(model.parameters(),\n",
    "#                   lr = learning_rate)\n",
    "optimizer = optim.SGD(model.parameters(), lr=learning_rate)\n",
    "\n",
    "cross_entropy  = nn.NLLLoss() "
   ]
  },
  {
   "cell_type": "code",
   "execution_count": 51,
   "metadata": {},
   "outputs": [
    {
     "name": "stdout",
     "output_type": "stream",
     "text": [
      "\n",
      " Epoch 1 / 20\n"
     ]
    },
    {
     "name": "stderr",
     "output_type": "stream",
     "text": [
      "100%|██████████| 54/54 [00:02<00:00, 25.93it/s]"
     ]
    },
    {
     "name": "stdout",
     "output_type": "stream",
     "text": [
      "evaluating...\n"
     ]
    },
    {
     "name": "stderr",
     "output_type": "stream",
     "text": [
      "\n",
      "100%|██████████| 18/18 [00:00<00:00, 99.70it/s] "
     ]
    },
    {
     "name": "stdout",
     "output_type": "stream",
     "text": [
      "\n",
      "Training Loss: 0.385 dev performance, p:0.918, r:0.985, f1:0.950\n",
      "current best score is 0.950\n",
      "\n",
      " Epoch 2 / 20\n"
     ]
    },
    {
     "name": "stderr",
     "output_type": "stream",
     "text": [
      "\n",
      "100%|██████████| 54/54 [00:02<00:00, 26.72it/s]"
     ]
    },
    {
     "name": "stdout",
     "output_type": "stream",
     "text": [
      "evaluating...\n"
     ]
    },
    {
     "name": "stderr",
     "output_type": "stream",
     "text": [
      "\n",
      "100%|██████████| 18/18 [00:00<00:00, 112.53it/s]"
     ]
    },
    {
     "name": "stdout",
     "output_type": "stream",
     "text": [
      "\n",
      "Training Loss: 0.276 dev performance, p:0.918, r:0.985, f1:0.950\n",
      "\n",
      " Epoch 3 / 20\n"
     ]
    },
    {
     "name": "stderr",
     "output_type": "stream",
     "text": [
      "\n",
      "100%|██████████| 54/54 [00:02<00:00, 26.66it/s]"
     ]
    },
    {
     "name": "stdout",
     "output_type": "stream",
     "text": [
      "evaluating...\n"
     ]
    },
    {
     "name": "stderr",
     "output_type": "stream",
     "text": [
      "\n",
      "100%|██████████| 18/18 [00:00<00:00, 84.76it/s]"
     ]
    },
    {
     "name": "stdout",
     "output_type": "stream",
     "text": [
      "\n",
      "Training Loss: 0.283 dev performance, p:0.918, r:0.985, f1:0.950\n",
      "\n",
      " Epoch 4 / 20\n"
     ]
    },
    {
     "name": "stderr",
     "output_type": "stream",
     "text": [
      "\n",
      "100%|██████████| 54/54 [00:02<00:00, 25.15it/s]"
     ]
    },
    {
     "name": "stdout",
     "output_type": "stream",
     "text": [
      "evaluating...\n"
     ]
    },
    {
     "name": "stderr",
     "output_type": "stream",
     "text": [
      "\n",
      "100%|██████████| 18/18 [00:00<00:00, 88.69it/s]"
     ]
    },
    {
     "name": "stdout",
     "output_type": "stream",
     "text": [
      "\n",
      "Training Loss: 0.249 dev performance, p:0.919, r:1.000, f1:0.958\n",
      "current best score is 0.958\n",
      "\n",
      " Epoch 5 / 20\n"
     ]
    },
    {
     "name": "stderr",
     "output_type": "stream",
     "text": [
      "\n",
      "100%|██████████| 54/54 [00:02<00:00, 25.06it/s]"
     ]
    },
    {
     "name": "stdout",
     "output_type": "stream",
     "text": [
      "evaluating...\n"
     ]
    },
    {
     "name": "stderr",
     "output_type": "stream",
     "text": [
      "\n",
      "100%|██████████| 18/18 [00:00<00:00, 86.63it/s]"
     ]
    },
    {
     "name": "stdout",
     "output_type": "stream",
     "text": [
      "\n",
      "Training Loss: 0.261 dev performance, p:0.917, r:0.971, f1:0.943\n",
      "\n",
      " Epoch 6 / 20\n"
     ]
    },
    {
     "name": "stderr",
     "output_type": "stream",
     "text": [
      "\n",
      "100%|██████████| 54/54 [00:02<00:00, 25.00it/s]"
     ]
    },
    {
     "name": "stdout",
     "output_type": "stream",
     "text": [
      "evaluating...\n"
     ]
    },
    {
     "name": "stderr",
     "output_type": "stream",
     "text": [
      "\n",
      "100%|██████████| 18/18 [00:00<00:00, 88.43it/s]"
     ]
    },
    {
     "name": "stdout",
     "output_type": "stream",
     "text": [
      "\n",
      "Training Loss: 0.267 dev performance, p:0.918, r:0.985, f1:0.950\n",
      "\n",
      " Epoch 7 / 20\n"
     ]
    },
    {
     "name": "stderr",
     "output_type": "stream",
     "text": [
      "\n",
      "100%|██████████| 54/54 [00:02<00:00, 25.32it/s]"
     ]
    },
    {
     "name": "stdout",
     "output_type": "stream",
     "text": [
      "evaluating...\n"
     ]
    },
    {
     "name": "stderr",
     "output_type": "stream",
     "text": [
      "\n",
      "100%|██████████| 18/18 [00:00<00:00, 111.72it/s]"
     ]
    },
    {
     "name": "stdout",
     "output_type": "stream",
     "text": [
      "\n",
      "Training Loss: 0.232 dev performance, p:0.918, r:0.985, f1:0.950\n",
      "\n",
      " Epoch 8 / 20\n"
     ]
    },
    {
     "name": "stderr",
     "output_type": "stream",
     "text": [
      "\n",
      "100%|██████████| 54/54 [00:01<00:00, 30.22it/s]"
     ]
    },
    {
     "name": "stdout",
     "output_type": "stream",
     "text": [
      "evaluating...\n"
     ]
    },
    {
     "name": "stderr",
     "output_type": "stream",
     "text": [
      "\n",
      "100%|██████████| 18/18 [00:00<00:00, 110.30it/s]"
     ]
    },
    {
     "name": "stdout",
     "output_type": "stream",
     "text": [
      "\n",
      "Training Loss: 0.242 dev performance, p:0.918, r:0.985, f1:0.950\n",
      "\n",
      " Epoch 9 / 20\n"
     ]
    },
    {
     "name": "stderr",
     "output_type": "stream",
     "text": [
      "\n",
      "100%|██████████| 54/54 [00:01<00:00, 30.06it/s]"
     ]
    },
    {
     "name": "stdout",
     "output_type": "stream",
     "text": [
      "evaluating...\n"
     ]
    },
    {
     "name": "stderr",
     "output_type": "stream",
     "text": [
      "\n",
      "100%|██████████| 18/18 [00:00<00:00, 108.30it/s]"
     ]
    },
    {
     "name": "stdout",
     "output_type": "stream",
     "text": [
      "\n",
      "Training Loss: 0.206 dev performance, p:0.918, r:0.985, f1:0.950\n",
      "\n",
      " Epoch 10 / 20\n"
     ]
    },
    {
     "name": "stderr",
     "output_type": "stream",
     "text": [
      "\n",
      "100%|██████████| 54/54 [00:01<00:00, 29.78it/s]"
     ]
    },
    {
     "name": "stdout",
     "output_type": "stream",
     "text": [
      "evaluating...\n"
     ]
    },
    {
     "name": "stderr",
     "output_type": "stream",
     "text": [
      "\n",
      "100%|██████████| 18/18 [00:00<00:00, 111.86it/s]"
     ]
    },
    {
     "name": "stdout",
     "output_type": "stream",
     "text": [
      "\n",
      "Training Loss: 0.212 dev performance, p:0.918, r:0.985, f1:0.950\n",
      "\n",
      " Epoch 11 / 20\n"
     ]
    },
    {
     "name": "stderr",
     "output_type": "stream",
     "text": [
      "\n",
      "100%|██████████| 54/54 [00:01<00:00, 30.19it/s]"
     ]
    },
    {
     "name": "stdout",
     "output_type": "stream",
     "text": [
      "evaluating...\n"
     ]
    },
    {
     "name": "stderr",
     "output_type": "stream",
     "text": [
      "\n",
      "100%|██████████| 18/18 [00:00<00:00, 111.54it/s]"
     ]
    },
    {
     "name": "stdout",
     "output_type": "stream",
     "text": [
      "\n",
      "Training Loss: 0.189 dev performance, p:0.918, r:0.985, f1:0.950\n",
      "\n",
      " Epoch 12 / 20\n"
     ]
    },
    {
     "name": "stderr",
     "output_type": "stream",
     "text": [
      "\n",
      "100%|██████████| 54/54 [00:01<00:00, 30.02it/s]"
     ]
    },
    {
     "name": "stdout",
     "output_type": "stream",
     "text": [
      "evaluating...\n"
     ]
    },
    {
     "name": "stderr",
     "output_type": "stream",
     "text": [
      "\n",
      "100%|██████████| 18/18 [00:00<00:00, 110.56it/s]"
     ]
    },
    {
     "name": "stdout",
     "output_type": "stream",
     "text": [
      "\n",
      "Training Loss: 0.249 dev performance, p:0.918, r:0.985, f1:0.950\n",
      "\n",
      " Epoch 13 / 20\n"
     ]
    },
    {
     "name": "stderr",
     "output_type": "stream",
     "text": [
      "\n",
      "100%|██████████| 54/54 [00:01<00:00, 30.29it/s]"
     ]
    },
    {
     "name": "stdout",
     "output_type": "stream",
     "text": [
      "evaluating...\n"
     ]
    },
    {
     "name": "stderr",
     "output_type": "stream",
     "text": [
      "\n",
      "100%|██████████| 18/18 [00:00<00:00, 112.11it/s]"
     ]
    },
    {
     "name": "stdout",
     "output_type": "stream",
     "text": [
      "\n",
      "Training Loss: 0.199 dev performance, p:0.918, r:0.985, f1:0.950\n",
      "\n",
      " Epoch 14 / 20\n"
     ]
    },
    {
     "name": "stderr",
     "output_type": "stream",
     "text": [
      "\n",
      "100%|██████████| 54/54 [00:01<00:00, 30.40it/s]"
     ]
    },
    {
     "name": "stdout",
     "output_type": "stream",
     "text": [
      "evaluating...\n"
     ]
    },
    {
     "name": "stderr",
     "output_type": "stream",
     "text": [
      "\n",
      "100%|██████████| 18/18 [00:00<00:00, 110.12it/s]"
     ]
    },
    {
     "name": "stdout",
     "output_type": "stream",
     "text": [
      "\n",
      "Training Loss: 0.192 dev performance, p:0.918, r:0.985, f1:0.950\n",
      "\n",
      " Epoch 15 / 20\n"
     ]
    },
    {
     "name": "stderr",
     "output_type": "stream",
     "text": [
      "\n",
      "100%|██████████| 54/54 [00:01<00:00, 30.00it/s]"
     ]
    },
    {
     "name": "stdout",
     "output_type": "stream",
     "text": [
      "evaluating...\n"
     ]
    },
    {
     "name": "stderr",
     "output_type": "stream",
     "text": [
      "\n",
      "100%|██████████| 18/18 [00:00<00:00, 111.58it/s]"
     ]
    },
    {
     "name": "stdout",
     "output_type": "stream",
     "text": [
      "\n",
      "Training Loss: 0.213 dev performance, p:0.918, r:0.985, f1:0.950\n",
      "\n",
      " Epoch 16 / 20\n"
     ]
    },
    {
     "name": "stderr",
     "output_type": "stream",
     "text": [
      "\n",
      "100%|██████████| 54/54 [00:01<00:00, 30.14it/s]"
     ]
    },
    {
     "name": "stdout",
     "output_type": "stream",
     "text": [
      "evaluating...\n"
     ]
    },
    {
     "name": "stderr",
     "output_type": "stream",
     "text": [
      "\n",
      "100%|██████████| 18/18 [00:00<00:00, 108.62it/s]"
     ]
    },
    {
     "name": "stdout",
     "output_type": "stream",
     "text": [
      "\n",
      "Training Loss: 0.253 dev performance, p:0.918, r:0.985, f1:0.950\n",
      "\n",
      " Epoch 17 / 20\n"
     ]
    },
    {
     "name": "stderr",
     "output_type": "stream",
     "text": [
      "\n",
      "100%|██████████| 54/54 [00:01<00:00, 29.95it/s]"
     ]
    },
    {
     "name": "stdout",
     "output_type": "stream",
     "text": [
      "evaluating...\n"
     ]
    },
    {
     "name": "stderr",
     "output_type": "stream",
     "text": [
      "\n",
      "100%|██████████| 18/18 [00:00<00:00, 110.96it/s]"
     ]
    },
    {
     "name": "stdout",
     "output_type": "stream",
     "text": [
      "\n",
      "Training Loss: 0.170 dev performance, p:0.918, r:0.985, f1:0.950\n",
      "\n",
      " Epoch 18 / 20\n"
     ]
    },
    {
     "name": "stderr",
     "output_type": "stream",
     "text": [
      "\n",
      "100%|██████████| 54/54 [00:01<00:00, 30.03it/s]"
     ]
    },
    {
     "name": "stdout",
     "output_type": "stream",
     "text": [
      "evaluating...\n"
     ]
    },
    {
     "name": "stderr",
     "output_type": "stream",
     "text": [
      "\n",
      "100%|██████████| 18/18 [00:00<00:00, 110.99it/s]"
     ]
    },
    {
     "name": "stdout",
     "output_type": "stream",
     "text": [
      "\n",
      "Training Loss: 0.156 dev performance, p:0.918, r:0.985, f1:0.950\n",
      "\n",
      " Epoch 19 / 20\n"
     ]
    },
    {
     "name": "stderr",
     "output_type": "stream",
     "text": [
      "\n",
      "100%|██████████| 54/54 [00:01<00:00, 30.17it/s]"
     ]
    },
    {
     "name": "stdout",
     "output_type": "stream",
     "text": [
      "evaluating...\n"
     ]
    },
    {
     "name": "stderr",
     "output_type": "stream",
     "text": [
      "\n",
      "100%|██████████| 18/18 [00:00<00:00, 111.12it/s]"
     ]
    },
    {
     "name": "stdout",
     "output_type": "stream",
     "text": [
      "\n",
      "Training Loss: 0.152 dev performance, p:0.955, r:0.941, f1:0.948\n",
      "\n",
      " Epoch 20 / 20\n"
     ]
    },
    {
     "name": "stderr",
     "output_type": "stream",
     "text": [
      "\n",
      "100%|██████████| 54/54 [00:01<00:00, 29.89it/s]"
     ]
    },
    {
     "name": "stdout",
     "output_type": "stream",
     "text": [
      "evaluating...\n"
     ]
    },
    {
     "name": "stderr",
     "output_type": "stream",
     "text": [
      "\n",
      "100%|██████████| 18/18 [00:00<00:00, 110.48it/s]"
     ]
    },
    {
     "name": "stdout",
     "output_type": "stream",
     "text": [
      "\n",
      "Training Loss: 0.286 dev performance, p:0.943, r:0.971, f1:0.957\n"
     ]
    },
    {
     "name": "stderr",
     "output_type": "stream",
     "text": [
      "\n"
     ]
    }
   ],
   "source": [
    "#for each epoch\n",
    "\n",
    "best_model_state = None\n",
    "best_score = -1\n",
    "\n",
    "for epoch in range(epochs):\n",
    "     \n",
    "    print('\\n Epoch {:} / {:}'.format(epoch + 1, epochs), flush=True)\n",
    "    #train model\n",
    "    train_loss, performance = train()\n",
    "    print('\\nTraining Loss: {:.3f}'.format(train_loss), \n",
    "          'dev performance, p:{precision:.3f}, r:{recall:.3f}, f1:{f1:.3f}'.format(**performance), flush=True)\n",
    "    if best_score < performance['f1']:\n",
    "        best_score = performance['f1']\n",
    "        best_model_state = copy.deepcopy(model.state_dict())\n",
    "        print('current best score is {0:.3f}'.format(best_score), flush=True)    \n",
    "\n",
    "ran = True"
   ]
  },
  {
   "cell_type": "code",
   "execution_count": 52,
   "metadata": {},
   "outputs": [],
   "source": [
    "model_file = 'MEH_bluebert_initial.pt'\n",
    "torch.save(best_model_state, model_file)"
   ]
  },
  {
   "cell_type": "code",
   "execution_count": 53,
   "metadata": {},
   "outputs": [],
   "source": [
    "if not ran:\n",
    "    device = torch.device('cuda' if torch.cuda.is_available() else 'cpu')\n",
    "\n",
    "    model_file = 'MEH_bluebert_initial.pt'\n",
    "\n",
    "    categories = {'control': 0, 'case': 1}\n",
    "    # initialise the model use pretrained bert instance and the label numbers\n",
    "    model = BERT_Text_Classifier(bert_2, class_num=len(categories))\n",
    "\n",
    "    model.load_state_dict(torch.load(model_file))\n",
    "    model.eval()"
   ]
  },
  {
   "cell_type": "code",
   "execution_count": 54,
   "metadata": {},
   "outputs": [],
   "source": [
    "test_seq = test_seq.to(device)\n",
    "test_mask = test_mask.to(device)\n",
    "model = model.to(device)"
   ]
  },
  {
   "cell_type": "code",
   "execution_count": 55,
   "metadata": {},
   "outputs": [
    {
     "name": "stdout",
     "output_type": "stream",
     "text": [
      "evaluating...\n"
     ]
    },
    {
     "name": "stderr",
     "output_type": "stream",
     "text": [
      "100%|██████████| 18/18 [00:00<00:00, 98.60it/s] "
     ]
    },
    {
     "name": "stdout",
     "output_type": "stream",
     "text": [
      "{'precision': 0.9493670886075949, 'recall': 1.0, 'f1': 0.974025974025974}\n"
     ]
    },
    {
     "name": "stderr",
     "output_type": "stream",
     "text": [
      "\n"
     ]
    }
   ],
   "source": [
    "# dataLoader for test set\n",
    "# wrap tensors\n",
    "testing_data = TensorDataset(test_seq, test_mask, test_y)\n",
    "testing_data_loader = DataLoader(testing_data, batch_size=batch_size)     \n",
    "print(evaluate(model, testing_data_loader))\n",
    "# preds = np.argmax(preds.detach().cpu(), axis = 1)"
   ]
  },
  {
   "cell_type": "code",
   "execution_count": 56,
   "metadata": {},
   "outputs": [
    {
     "name": "stdout",
     "output_type": "stream",
     "text": [
      "              precision    recall  f1-score   support\n",
      "\n",
      "           0       0.92      0.73      0.81        15\n",
      "           1       0.95      0.99      0.97        75\n",
      "\n",
      "    accuracy                           0.94        90\n",
      "   macro avg       0.93      0.86      0.89        90\n",
      "weighted avg       0.94      0.94      0.94        90\n",
      "\n"
     ]
    }
   ],
   "source": [
    "# predicting, so gradients\n",
    "with torch.no_grad():\n",
    "    preds = model(test_seq, test_mask)\n",
    "    \n",
    "preds = np.argmax(preds.detach().cpu(), axis = 1)\n",
    "print(classification_report(test_y, preds))"
   ]
  },
  {
   "cell_type": "code",
   "execution_count": 57,
   "metadata": {},
   "outputs": [
    {
     "data": {
      "image/png": "[encoded data removed]",
      "text/plain": [
       "<Figure size 432x288 with 2 Axes>"
      ]
     },
     "metadata": {
      "needs_background": "light"
     },
     "output_type": "display_data"
    }
   ],
   "source": [
    "cm_bluebert = confusion_matrix(test_y, preds, labels=[1,0])\n",
    "ax= plt.subplot()\n",
    "sns.heatmap(cm_bluebert, annot=True, ax = ax, cmap='Blues', fmt=\"d\")\n",
    "\n",
    "ax.set_title('Confusion Matrix of BlueBERT (MEH data)')\n",
    "\n",
    "ax.set_xlabel('Predicted Labels')\n",
    "ax.set_ylabel('True Labels')\n",
    "\n",
    "ax.xaxis.set_ticklabels(['FAKE', 'REAL'])\n",
    "ax.yaxis.set_ticklabels(['FAKE', 'REAL'])\n",
    "plt.savefig('Confusion_matrix_BlueBERT_meh')"
   ]
  },
  {
   "cell_type": "markdown",
   "metadata": {},
   "source": [
    "## Fine-tuning"
   ]
  },
  {
   "cell_type": "code",
   "execution_count": 58,
   "metadata": {},
   "outputs": [
    {
     "name": "stdout",
     "output_type": "stream",
     "text": [
      "Building sklearn text classifier...\n",
      "Building sklearn text classifier...\n",
      "Fitting 3 folds for each of 9 candidates, totalling 27 fits\n",
      "Building sklearn text classifier...\n",
      "Loading bert-base-uncased model...\n",
      "Defaulting to linear classifier/regressor\n",
      "Loading Pytorch checkpoint\n",
      "train data size: 178, validation data size: 0\n"
     ]
    },
    {
     "name": "stderr",
     "output_type": "stream",
     "text": [
      "Training  : 100%|██████████| 6/6 [00:02<00:00,  2.01it/s, loss=0.893]\n",
      "Training  : 100%|██████████| 6/6 [00:02<00:00,  2.00it/s, loss=0.482]\n",
      "Training  : 100%|██████████| 6/6 [00:03<00:00,  1.97it/s, loss=0.323]\n",
      "Training  : 100%|██████████| 6/6 [00:02<00:00,  2.05it/s, loss=0.217]\n",
      "Training  : 100%|██████████| 6/6 [00:02<00:00,  2.06it/s, loss=0.203]\n",
      "Training  : 100%|██████████| 6/6 [00:02<00:00,  2.07it/s, loss=0.171]\n",
      "Training  : 100%|██████████| 6/6 [00:02<00:00,  2.01it/s, loss=0.201]\n",
      "Training  : 100%|██████████| 6/6 [00:02<00:00,  2.03it/s, loss=0.169] \n",
      "Training  : 100%|██████████| 6/6 [00:03<00:00,  1.95it/s, loss=0.184]\n",
      "Training  : 100%|██████████| 6/6 [00:02<00:00,  2.06it/s, loss=0.188] \n",
      "Training  : 100%|██████████| 6/6 [00:03<00:00,  2.00it/s, loss=0.194]\n",
      "Training  : 100%|██████████| 6/6 [00:02<00:00,  2.03it/s, loss=0.155] \n",
      "Training  : 100%|██████████| 6/6 [00:02<00:00,  2.05it/s, loss=0.129] \n",
      "Training  : 100%|██████████| 6/6 [00:02<00:00,  2.08it/s, loss=0.143]\n",
      "Training  : 100%|██████████| 6/6 [00:02<00:00,  2.02it/s, loss=0.136] \n",
      "Training  : 100%|██████████| 6/6 [00:02<00:00,  2.02it/s, loss=0.131] \n",
      "Training  : 100%|██████████| 6/6 [00:02<00:00,  2.05it/s, loss=0.101] \n",
      "Training  : 100%|██████████| 6/6 [00:02<00:00,  2.00it/s, loss=0.105] \n",
      "Training  : 100%|██████████| 6/6 [00:02<00:00,  2.03it/s, loss=0.0978]\n",
      "Training  : 100%|██████████| 6/6 [00:02<00:00,  2.05it/s, loss=0.0995]\n",
      "Training  : 100%|██████████| 6/6 [00:03<00:00,  1.95it/s, loss=0.0886]\n",
      "Training  : 100%|██████████| 6/6 [00:02<00:00,  2.06it/s, loss=0.0749]\n",
      "Training  : 100%|██████████| 6/6 [00:02<00:00,  2.05it/s, loss=0.0791]\n",
      "Training  : 100%|██████████| 6/6 [00:03<00:00,  1.97it/s, loss=0.0688]\n",
      "Training  : 100%|██████████| 6/6 [00:02<00:00,  2.00it/s, loss=0.0741] \n",
      "Training  : 100%|██████████| 6/6 [00:02<00:00,  2.01it/s, loss=0.0651]\n",
      "Training  : 100%|██████████| 6/6 [00:02<00:00,  2.05it/s, loss=0.0733]\n",
      "Training  : 100%|██████████| 6/6 [00:02<00:00,  2.01it/s, loss=0.133] \n",
      "Training  : 100%|██████████| 6/6 [00:02<00:00,  2.02it/s, loss=0.102] \n",
      "Training  : 100%|██████████| 6/6 [00:02<00:00,  2.01it/s, loss=0.104]\n",
      "Training  : 100%|██████████| 6/6 [00:02<00:00,  2.04it/s, loss=0.0886]\n",
      "Training  : 100%|██████████| 6/6 [00:02<00:00,  2.04it/s, loss=0.0794]\n",
      "Training  : 100%|██████████| 6/6 [00:02<00:00,  2.05it/s, loss=0.0789]\n",
      "Training  : 100%|██████████| 6/6 [00:02<00:00,  2.04it/s, loss=0.1]   \n",
      "Training  : 100%|██████████| 6/6 [00:02<00:00,  2.05it/s, loss=0.086] \n",
      "Training  : 100%|██████████| 6/6 [00:02<00:00,  2.00it/s, loss=0.0995]\n",
      "Training  : 100%|██████████| 6/6 [00:02<00:00,  2.02it/s, loss=0.0807]\n",
      "Training  : 100%|██████████| 6/6 [00:02<00:00,  2.05it/s, loss=0.0705]\n",
      "Training  : 100%|██████████| 6/6 [00:02<00:00,  2.03it/s, loss=0.0566]\n",
      "Training  : 100%|██████████| 6/6 [00:02<00:00,  2.06it/s, loss=0.0711]\n",
      "Training  : 100%|██████████| 6/6 [00:02<00:00,  2.06it/s, loss=0.0616]\n",
      "Training  : 100%|██████████| 6/6 [00:02<00:00,  2.06it/s, loss=0.0664]\n",
      "Training  : 100%|██████████| 6/6 [00:02<00:00,  2.05it/s, loss=0.0634]\n",
      "Training  : 100%|██████████| 6/6 [00:02<00:00,  2.01it/s, loss=0.0651]\n",
      "Training  : 100%|██████████| 6/6 [00:02<00:00,  2.00it/s, loss=0.0633]\n",
      "Training  : 100%|██████████| 6/6 [00:02<00:00,  2.07it/s, loss=0.0683]\n",
      "Training  : 100%|██████████| 6/6 [00:02<00:00,  2.07it/s, loss=0.0616]\n",
      "Training  : 100%|██████████| 6/6 [00:02<00:00,  2.05it/s, loss=0.0704] \n",
      "Training  : 100%|██████████| 6/6 [00:02<00:00,  2.04it/s, loss=0.0719]\n",
      "Training  : 100%|██████████| 6/6 [00:02<00:00,  2.04it/s, loss=0.0589]\n",
      "Predicting: 100%|██████████| 12/12 [00:01<00:00,  8.52it/s]\n"
     ]
    },
    {
     "name": "stdout",
     "output_type": "stream",
     "text": [
      "Building sklearn text classifier...\n",
      "Loading bert-base-uncased model...\n",
      "Defaulting to linear classifier/regressor\n",
      "Loading Pytorch checkpoint\n",
      "train data size: 178, validation data size: 0\n"
     ]
    },
    {
     "name": "stderr",
     "output_type": "stream",
     "text": [
      "Training  : 100%|██████████| 6/6 [00:03<00:00,  1.96it/s, loss=0.895]\n",
      "Training  : 100%|██████████| 6/6 [00:02<00:00,  2.05it/s, loss=0.502]\n",
      "Training  : 100%|██████████| 6/6 [00:03<00:00,  2.00it/s, loss=0.298]\n",
      "Training  : 100%|██████████| 6/6 [00:02<00:00,  2.02it/s, loss=0.234]\n",
      "Training  : 100%|██████████| 6/6 [00:02<00:00,  2.04it/s, loss=0.252]\n",
      "Training  : 100%|██████████| 6/6 [00:02<00:00,  2.05it/s, loss=0.198] \n",
      "Training  : 100%|██████████| 6/6 [00:02<00:00,  2.05it/s, loss=0.258]\n",
      "Training  : 100%|██████████| 6/6 [00:02<00:00,  2.00it/s, loss=0.206] \n",
      "Training  : 100%|██████████| 6/6 [00:02<00:00,  2.02it/s, loss=0.173]\n",
      "Training  : 100%|██████████| 6/6 [00:02<00:00,  2.04it/s, loss=0.165]\n",
      "Training  : 100%|██████████| 6/6 [00:02<00:00,  2.04it/s, loss=0.169]\n",
      "Training  : 100%|██████████| 6/6 [00:03<00:00,  1.99it/s, loss=0.138] \n",
      "Training  : 100%|██████████| 6/6 [00:02<00:00,  2.06it/s, loss=0.151]\n",
      "Training  : 100%|██████████| 6/6 [00:02<00:00,  2.01it/s, loss=0.154] \n",
      "Training  : 100%|██████████| 6/6 [00:03<00:00,  1.98it/s, loss=0.148] \n",
      "Training  : 100%|██████████| 6/6 [00:02<00:00,  2.06it/s, loss=0.148] \n",
      "Training  : 100%|██████████| 6/6 [00:02<00:00,  2.04it/s, loss=0.15]  \n",
      "Training  : 100%|██████████| 6/6 [00:02<00:00,  2.01it/s, loss=0.141] \n",
      "Training  : 100%|██████████| 6/6 [00:02<00:00,  2.04it/s, loss=0.133]\n",
      "Training  : 100%|██████████| 6/6 [00:02<00:00,  2.06it/s, loss=0.146] \n",
      "Training  : 100%|██████████| 6/6 [00:03<00:00,  1.99it/s, loss=0.144] \n",
      "Training  : 100%|██████████| 6/6 [00:02<00:00,  2.04it/s, loss=0.131] \n",
      "Training  : 100%|██████████| 6/6 [00:02<00:00,  2.04it/s, loss=0.12] \n",
      "Training  : 100%|██████████| 6/6 [00:02<00:00,  2.00it/s, loss=0.131] \n",
      "Training  : 100%|██████████| 6/6 [00:02<00:00,  2.05it/s, loss=0.118] \n",
      "Training  : 100%|██████████| 6/6 [00:02<00:00,  2.01it/s, loss=0.127] \n",
      "Training  : 100%|██████████| 6/6 [00:02<00:00,  2.03it/s, loss=0.123] \n",
      "Training  : 100%|██████████| 6/6 [00:02<00:00,  2.00it/s, loss=0.111]\n",
      "Training  : 100%|██████████| 6/6 [00:03<00:00,  1.99it/s, loss=0.118]\n",
      "Training  : 100%|██████████| 6/6 [00:03<00:00,  1.96it/s, loss=0.115] \n",
      "Training  : 100%|██████████| 6/6 [00:02<00:00,  2.01it/s, loss=0.12]  \n",
      "Training  : 100%|██████████| 6/6 [00:02<00:00,  2.04it/s, loss=0.115] \n",
      "Training  : 100%|██████████| 6/6 [00:03<00:00,  2.00it/s, loss=0.106]\n",
      "Training  : 100%|██████████| 6/6 [00:02<00:00,  2.07it/s, loss=0.117] \n",
      "Training  : 100%|██████████| 6/6 [00:02<00:00,  2.05it/s, loss=0.109] \n",
      "Training  : 100%|██████████| 6/6 [00:03<00:00,  1.99it/s, loss=0.13] \n",
      "Training  : 100%|██████████| 6/6 [00:02<00:00,  2.06it/s, loss=0.119] \n",
      "Training  : 100%|██████████| 6/6 [00:02<00:00,  2.01it/s, loss=0.113] \n",
      "Training  : 100%|██████████| 6/6 [00:02<00:00,  2.05it/s, loss=0.118] \n",
      "Training  : 100%|██████████| 6/6 [00:03<00:00,  1.98it/s, loss=0.11] \n",
      "Training  : 100%|██████████| 6/6 [00:02<00:00,  2.05it/s, loss=0.117] \n",
      "Training  : 100%|██████████| 6/6 [00:02<00:00,  2.01it/s, loss=0.115]\n",
      "Training  : 100%|██████████| 6/6 [00:02<00:00,  2.04it/s, loss=0.103]\n",
      "Training  : 100%|██████████| 6/6 [00:02<00:00,  2.06it/s, loss=0.104]\n",
      "Training  : 100%|██████████| 6/6 [00:02<00:00,  2.05it/s, loss=0.115]\n",
      "Training  : 100%|██████████| 6/6 [00:03<00:00,  1.98it/s, loss=0.1]  \n",
      "Training  : 100%|██████████| 6/6 [00:03<00:00,  1.99it/s, loss=0.11]  \n",
      "Training  : 100%|██████████| 6/6 [00:02<00:00,  2.02it/s, loss=0.0992]\n",
      "Training  : 100%|██████████| 6/6 [00:02<00:00,  2.05it/s, loss=0.124]\n",
      "Training  : 100%|██████████| 6/6 [00:03<00:00,  2.00it/s, loss=0.109] \n",
      "Predicting: 100%|██████████| 12/12 [00:01<00:00,  8.46it/s]\n"
     ]
    },
    {
     "name": "stdout",
     "output_type": "stream",
     "text": [
      "Building sklearn text classifier...\n",
      "Loading bert-base-uncased model...\n",
      "Defaulting to linear classifier/regressor\n",
      "Loading Pytorch checkpoint\n",
      "train data size: 178, validation data size: 0\n"
     ]
    },
    {
     "name": "stderr",
     "output_type": "stream",
     "text": [
      "Training  : 100%|██████████| 6/6 [00:02<00:00,  2.06it/s, loss=0.902]\n",
      "Training  : 100%|██████████| 6/6 [00:02<00:00,  2.07it/s, loss=0.513]\n",
      "Training  : 100%|██████████| 6/6 [00:02<00:00,  2.04it/s, loss=0.34] \n",
      "Training  : 100%|██████████| 6/6 [00:02<00:00,  2.02it/s, loss=0.252]\n",
      "Training  : 100%|██████████| 6/6 [00:02<00:00,  2.05it/s, loss=0.28] \n",
      "Training  : 100%|██████████| 6/6 [00:03<00:00,  1.99it/s, loss=0.207] \n",
      "Training  : 100%|██████████| 6/6 [00:02<00:00,  2.03it/s, loss=0.218]\n",
      "Training  : 100%|██████████| 6/6 [00:02<00:00,  2.04it/s, loss=0.235] \n",
      "Training  : 100%|██████████| 6/6 [00:02<00:00,  2.06it/s, loss=0.181]\n",
      "Training  : 100%|██████████| 6/6 [00:02<00:00,  2.05it/s, loss=0.211]\n",
      "Training  : 100%|██████████| 6/6 [00:02<00:00,  2.04it/s, loss=0.18] \n",
      "Training  : 100%|██████████| 6/6 [00:02<00:00,  2.07it/s, loss=0.162]\n",
      "Training  : 100%|██████████| 6/6 [00:02<00:00,  2.05it/s, loss=0.16] \n",
      "Training  : 100%|██████████| 6/6 [00:02<00:00,  2.02it/s, loss=0.152] \n",
      "Training  : 100%|██████████| 6/6 [00:02<00:00,  2.04it/s, loss=0.154] \n",
      "Training  : 100%|██████████| 6/6 [00:02<00:00,  2.01it/s, loss=0.149] \n",
      "Training  : 100%|██████████| 6/6 [00:02<00:00,  2.07it/s, loss=0.143] \n",
      "Training  : 100%|██████████| 6/6 [00:02<00:00,  2.06it/s, loss=0.125] \n",
      "Training  : 100%|██████████| 6/6 [00:03<00:00,  1.95it/s, loss=0.116]\n",
      "Training  : 100%|██████████| 6/6 [00:02<00:00,  2.04it/s, loss=0.108] \n",
      "Training  : 100%|██████████| 6/6 [00:02<00:00,  2.03it/s, loss=0.142]\n",
      "Training  : 100%|██████████| 6/6 [00:02<00:00,  2.07it/s, loss=0.108] \n",
      "Training  : 100%|██████████| 6/6 [00:03<00:00,  1.97it/s, loss=0.116]\n",
      "Training  : 100%|██████████| 6/6 [00:03<00:00,  1.98it/s, loss=0.129] \n",
      "Training  : 100%|██████████| 6/6 [00:03<00:00,  1.96it/s, loss=0.11] \n",
      "Training  : 100%|██████████| 6/6 [00:02<00:00,  2.02it/s, loss=0.122] \n",
      "Training  : 100%|██████████| 6/6 [00:02<00:00,  2.02it/s, loss=0.114] \n",
      "Training  : 100%|██████████| 6/6 [00:02<00:00,  2.05it/s, loss=0.116] \n",
      "Training  : 100%|██████████| 6/6 [00:02<00:00,  2.01it/s, loss=0.12] \n",
      "Training  : 100%|██████████| 6/6 [00:02<00:00,  2.02it/s, loss=0.119] \n",
      "Training  : 100%|██████████| 6/6 [00:03<00:00,  1.89it/s, loss=0.113] \n",
      "Training  : 100%|██████████| 6/6 [00:02<00:00,  2.05it/s, loss=0.113] \n",
      "Training  : 100%|██████████| 6/6 [00:02<00:00,  2.05it/s, loss=0.112]\n",
      "Training  : 100%|██████████| 6/6 [00:02<00:00,  2.05it/s, loss=0.111] \n",
      "Training  : 100%|██████████| 6/6 [00:03<00:00,  1.96it/s, loss=0.106]\n",
      "Training  : 100%|██████████| 6/6 [00:02<00:00,  2.06it/s, loss=0.11]  \n",
      "Training  : 100%|██████████| 6/6 [00:03<00:00,  1.98it/s, loss=0.118]\n",
      "Training  : 100%|██████████| 6/6 [00:02<00:00,  2.02it/s, loss=0.121] \n",
      "Training  : 100%|██████████| 6/6 [00:02<00:00,  2.03it/s, loss=0.109] \n",
      "Training  : 100%|██████████| 6/6 [00:02<00:00,  2.07it/s, loss=0.111]\n",
      "Training  : 100%|██████████| 6/6 [00:02<00:00,  2.00it/s, loss=0.123] \n",
      "Training  : 100%|██████████| 6/6 [00:02<00:00,  2.05it/s, loss=0.113]\n",
      "Training  : 100%|██████████| 6/6 [00:02<00:00,  2.04it/s, loss=0.106]\n",
      "Training  : 100%|██████████| 6/6 [00:02<00:00,  2.01it/s, loss=0.113]\n",
      "Training  : 100%|██████████| 6/6 [00:02<00:00,  2.05it/s, loss=0.105]\n",
      "Training  : 100%|██████████| 6/6 [00:02<00:00,  2.03it/s, loss=0.105] \n",
      "Training  : 100%|██████████| 6/6 [00:02<00:00,  2.04it/s, loss=0.107] \n",
      "Training  : 100%|██████████| 6/6 [00:03<00:00,  1.99it/s, loss=0.0971]\n",
      "Training  : 100%|██████████| 6/6 [00:02<00:00,  2.05it/s, loss=0.101] \n",
      "Training  : 100%|██████████| 6/6 [00:02<00:00,  2.05it/s, loss=0.106]\n",
      "Predicting: 100%|██████████| 12/12 [00:01<00:00,  8.70it/s]\n"
     ]
    },
    {
     "name": "stdout",
     "output_type": "stream",
     "text": [
      "Building sklearn text classifier...\n",
      "Loading bert-base-uncased model...\n",
      "Defaulting to linear classifier/regressor\n",
      "Loading Pytorch checkpoint\n",
      "train data size: 178, validation data size: 0\n"
     ]
    },
    {
     "name": "stderr",
     "output_type": "stream",
     "text": [
      "Training  : 100%|██████████| 6/6 [00:02<00:00,  2.04it/s, loss=0.86] \n",
      "Training  : 100%|██████████| 6/6 [00:02<00:00,  2.05it/s, loss=0.416]\n",
      "Training  : 100%|██████████| 6/6 [00:02<00:00,  2.03it/s, loss=0.306]\n",
      "Training  : 100%|██████████| 6/6 [00:03<00:00,  1.97it/s, loss=0.22] \n",
      "Training  : 100%|██████████| 6/6 [00:02<00:00,  2.01it/s, loss=0.216]\n",
      "Training  : 100%|██████████| 6/6 [00:03<00:00,  1.99it/s, loss=0.233]\n",
      "Training  : 100%|██████████| 6/6 [00:02<00:00,  2.05it/s, loss=0.194]\n",
      "Training  : 100%|██████████| 6/6 [00:02<00:00,  2.01it/s, loss=0.174]\n",
      "Training  : 100%|██████████| 6/6 [00:03<00:00,  2.00it/s, loss=0.177]\n",
      "Training  : 100%|██████████| 6/6 [00:03<00:00,  1.97it/s, loss=0.134] \n",
      "Training  : 100%|██████████| 6/6 [00:02<00:00,  2.07it/s, loss=0.16] \n",
      "Training  : 100%|██████████| 6/6 [00:02<00:00,  2.02it/s, loss=0.133] \n",
      "Training  : 100%|██████████| 6/6 [00:02<00:00,  2.04it/s, loss=0.0865]\n",
      "Training  : 100%|██████████| 6/6 [00:03<00:00,  1.99it/s, loss=0.0737]\n",
      "Training  : 100%|██████████| 6/6 [00:02<00:00,  2.02it/s, loss=0.0813]\n",
      "Training  : 100%|██████████| 6/6 [00:02<00:00,  2.00it/s, loss=0.0709]\n",
      "Training  : 100%|██████████| 6/6 [00:03<00:00,  1.97it/s, loss=0.0707]\n",
      "Training  : 100%|██████████| 6/6 [00:03<00:00,  1.96it/s, loss=0.09]  \n",
      "Training  : 100%|██████████| 6/6 [00:02<00:00,  2.05it/s, loss=0.0605]\n",
      "Training  : 100%|██████████| 6/6 [00:02<00:00,  2.05it/s, loss=0.0958]\n",
      "Training  : 100%|██████████| 6/6 [00:02<00:00,  2.06it/s, loss=0.0722]\n",
      "Training  : 100%|██████████| 6/6 [00:02<00:00,  2.05it/s, loss=0.067] \n",
      "Training  : 100%|██████████| 6/6 [00:03<00:00,  1.99it/s, loss=0.0743]\n",
      "Training  : 100%|██████████| 6/6 [00:03<00:00,  1.95it/s, loss=0.0627]\n",
      "Training  : 100%|██████████| 6/6 [00:02<00:00,  2.00it/s, loss=0.0658] \n",
      "Training  : 100%|██████████| 6/6 [00:02<00:00,  2.02it/s, loss=0.0624]\n",
      "Training  : 100%|██████████| 6/6 [00:02<00:00,  2.04it/s, loss=0.0729]\n",
      "Training  : 100%|██████████| 6/6 [00:02<00:00,  2.03it/s, loss=0.0639]\n",
      "Training  : 100%|██████████| 6/6 [00:02<00:00,  2.08it/s, loss=0.0685] \n",
      "Training  : 100%|██████████| 6/6 [00:03<00:00,  1.97it/s, loss=0.0588]\n",
      "Training  : 100%|██████████| 6/6 [00:02<00:00,  2.03it/s, loss=0.0638]\n",
      "Training  : 100%|██████████| 6/6 [00:02<00:00,  2.04it/s, loss=0.0646]\n",
      "Training  : 100%|██████████| 6/6 [00:02<00:00,  2.02it/s, loss=0.0571]\n",
      "Training  : 100%|██████████| 6/6 [00:02<00:00,  2.05it/s, loss=0.0762]\n",
      "Training  : 100%|██████████| 6/6 [00:02<00:00,  2.03it/s, loss=0.0679]\n",
      "Training  : 100%|██████████| 6/6 [00:02<00:00,  2.02it/s, loss=0.0803]\n",
      "Training  : 100%|██████████| 6/6 [00:02<00:00,  2.03it/s, loss=0.0693]\n",
      "Training  : 100%|██████████| 6/6 [00:02<00:00,  2.03it/s, loss=0.0671]\n",
      "Training  : 100%|██████████| 6/6 [00:03<00:00,  1.96it/s, loss=0.0558]\n",
      "Training  : 100%|██████████| 6/6 [00:02<00:00,  2.03it/s, loss=0.0641]\n",
      "Training  : 100%|██████████| 6/6 [00:02<00:00,  2.01it/s, loss=0.0571]\n",
      "Training  : 100%|██████████| 6/6 [00:02<00:00,  2.07it/s, loss=0.0612]\n",
      "Training  : 100%|██████████| 6/6 [00:02<00:00,  2.01it/s, loss=0.061] \n",
      "Training  : 100%|██████████| 6/6 [00:02<00:00,  2.03it/s, loss=0.0599]\n",
      "Training  : 100%|██████████| 6/6 [00:02<00:00,  2.05it/s, loss=0.0645]\n",
      "Training  : 100%|██████████| 6/6 [00:02<00:00,  2.04it/s, loss=0.0612]\n",
      "Training  : 100%|██████████| 6/6 [00:03<00:00,  1.93it/s, loss=0.0558]\n",
      "Training  : 100%|██████████| 6/6 [00:02<00:00,  2.07it/s, loss=0.062]  \n",
      "Training  : 100%|██████████| 6/6 [00:02<00:00,  2.01it/s, loss=0.0685]\n",
      "Training  : 100%|██████████| 6/6 [00:02<00:00,  2.04it/s, loss=0.0583]\n",
      "Predicting: 100%|██████████| 12/12 [00:01<00:00,  8.59it/s]\n"
     ]
    },
    {
     "name": "stdout",
     "output_type": "stream",
     "text": [
      "Building sklearn text classifier...\n",
      "Loading bert-base-uncased model...\n",
      "Defaulting to linear classifier/regressor\n",
      "Loading Pytorch checkpoint\n",
      "train data size: 178, validation data size: 0\n"
     ]
    },
    {
     "name": "stderr",
     "output_type": "stream",
     "text": [
      "Training  : 100%|██████████| 6/6 [00:03<00:00,  1.95it/s, loss=0.865]\n",
      "Training  : 100%|██████████| 6/6 [00:02<00:00,  2.03it/s, loss=0.427]\n",
      "Training  : 100%|██████████| 6/6 [00:03<00:00,  1.97it/s, loss=0.284]\n",
      "Training  : 100%|██████████| 6/6 [00:02<00:00,  2.01it/s, loss=0.247]\n",
      "Training  : 100%|██████████| 6/6 [00:03<00:00,  2.00it/s, loss=0.283]\n",
      "Training  : 100%|██████████| 6/6 [00:03<00:00,  1.95it/s, loss=0.301]\n",
      "Training  : 100%|██████████| 6/6 [00:03<00:00,  1.98it/s, loss=0.247]\n",
      "Training  : 100%|██████████| 6/6 [00:03<00:00,  1.99it/s, loss=0.208] \n",
      "Training  : 100%|██████████| 6/6 [00:02<00:00,  2.04it/s, loss=0.171]\n",
      "Training  : 100%|██████████| 6/6 [00:02<00:00,  2.05it/s, loss=0.169]\n",
      "Training  : 100%|██████████| 6/6 [00:02<00:00,  2.05it/s, loss=0.198]\n",
      "Training  : 100%|██████████| 6/6 [00:02<00:00,  2.02it/s, loss=0.151] \n",
      "Training  : 100%|██████████| 6/6 [00:02<00:00,  2.00it/s, loss=0.171]\n",
      "Training  : 100%|██████████| 6/6 [00:03<00:00,  1.98it/s, loss=0.162] \n",
      "Training  : 100%|██████████| 6/6 [00:03<00:00,  1.95it/s, loss=0.175]\n",
      "Training  : 100%|██████████| 6/6 [00:02<00:00,  2.01it/s, loss=0.153]\n",
      "Training  : 100%|██████████| 6/6 [00:02<00:00,  2.02it/s, loss=0.227]\n",
      "Training  : 100%|██████████| 6/6 [00:03<00:00,  1.92it/s, loss=0.148] \n",
      "Training  : 100%|██████████| 6/6 [00:03<00:00,  2.00it/s, loss=0.124] \n",
      "Training  : 100%|██████████| 6/6 [00:03<00:00,  1.99it/s, loss=0.147] \n",
      "Training  : 100%|██████████| 6/6 [00:03<00:00,  1.97it/s, loss=0.138] \n",
      "Training  : 100%|██████████| 6/6 [00:02<00:00,  2.02it/s, loss=0.124] \n",
      "Training  : 100%|██████████| 6/6 [00:02<00:00,  2.02it/s, loss=0.127]\n",
      "Training  : 100%|██████████| 6/6 [00:02<00:00,  2.03it/s, loss=0.135] \n",
      "Training  : 100%|██████████| 6/6 [00:03<00:00,  1.96it/s, loss=0.124] \n",
      "Training  : 100%|██████████| 6/6 [00:02<00:00,  2.03it/s, loss=0.127] \n",
      "Training  : 100%|██████████| 6/6 [00:02<00:00,  2.02it/s, loss=0.125] \n",
      "Training  : 100%|██████████| 6/6 [00:03<00:00,  1.95it/s, loss=0.111]\n",
      "Training  : 100%|██████████| 6/6 [00:02<00:00,  2.01it/s, loss=0.115] \n",
      "Training  : 100%|██████████| 6/6 [00:03<00:00,  1.97it/s, loss=0.107]\n",
      "Training  : 100%|██████████| 6/6 [00:03<00:00,  1.99it/s, loss=0.123] \n",
      "Training  : 100%|██████████| 6/6 [00:02<00:00,  2.02it/s, loss=0.105] \n",
      "Training  : 100%|██████████| 6/6 [00:02<00:00,  2.02it/s, loss=0.102]\n",
      "Training  : 100%|██████████| 6/6 [00:03<00:00,  1.99it/s, loss=0.116]\n",
      "Training  : 100%|██████████| 6/6 [00:02<00:00,  2.01it/s, loss=0.105]\n",
      "Training  : 100%|██████████| 6/6 [00:02<00:00,  2.02it/s, loss=0.121] \n",
      "Training  : 100%|██████████| 6/6 [00:02<00:00,  2.02it/s, loss=0.119] \n",
      "Training  : 100%|██████████| 6/6 [00:02<00:00,  2.05it/s, loss=0.109] \n",
      "Training  : 100%|██████████| 6/6 [00:03<00:00,  1.97it/s, loss=0.109] \n",
      "Training  : 100%|██████████| 6/6 [00:02<00:00,  2.03it/s, loss=0.104] \n",
      "Training  : 100%|██████████| 6/6 [00:02<00:00,  2.04it/s, loss=0.117] \n",
      "Training  : 100%|██████████| 6/6 [00:02<00:00,  2.03it/s, loss=0.111]\n",
      "Training  : 100%|██████████| 6/6 [00:03<00:00,  1.97it/s, loss=0.103]\n",
      "Training  : 100%|██████████| 6/6 [00:03<00:00,  1.99it/s, loss=0.103]\n",
      "Training  : 100%|██████████| 6/6 [00:02<00:00,  2.03it/s, loss=0.114] \n",
      "Training  : 100%|██████████| 6/6 [00:02<00:00,  2.03it/s, loss=0.098]\n",
      "Training  : 100%|██████████| 6/6 [00:02<00:00,  2.03it/s, loss=0.101] \n",
      "Training  : 100%|██████████| 6/6 [00:03<00:00,  1.97it/s, loss=0.0987]\n",
      "Training  : 100%|██████████| 6/6 [00:02<00:00,  2.03it/s, loss=0.131] \n",
      "Training  : 100%|██████████| 6/6 [00:02<00:00,  2.01it/s, loss=0.113] \n",
      "Predicting: 100%|██████████| 12/12 [00:01<00:00,  8.21it/s]\n"
     ]
    },
    {
     "name": "stdout",
     "output_type": "stream",
     "text": [
      "Building sklearn text classifier...\n",
      "Loading bert-base-uncased model...\n",
      "Defaulting to linear classifier/regressor\n",
      "Loading Pytorch checkpoint\n",
      "train data size: 178, validation data size: 0\n"
     ]
    },
    {
     "name": "stderr",
     "output_type": "stream",
     "text": [
      "Training  : 100%|██████████| 6/6 [00:02<00:00,  2.00it/s, loss=0.875]\n",
      "Training  : 100%|██████████| 6/6 [00:02<00:00,  2.01it/s, loss=0.447]\n",
      "Training  : 100%|██████████| 6/6 [00:03<00:00,  1.98it/s, loss=0.302]\n",
      "Training  : 100%|██████████| 6/6 [00:03<00:00,  2.00it/s, loss=0.258]\n",
      "Training  : 100%|██████████| 6/6 [00:03<00:00,  1.99it/s, loss=0.463]\n",
      "Training  : 100%|██████████| 6/6 [00:03<00:00,  2.00it/s, loss=0.256]\n",
      "Training  : 100%|██████████| 6/6 [00:02<00:00,  2.01it/s, loss=0.196]\n",
      "Training  : 100%|██████████| 6/6 [00:03<00:00,  1.90it/s, loss=0.214] \n",
      "Training  : 100%|██████████| 6/6 [00:02<00:00,  2.01it/s, loss=0.161]\n",
      "Training  : 100%|██████████| 6/6 [00:03<00:00,  1.94it/s, loss=0.172]\n",
      "Training  : 100%|██████████| 6/6 [00:02<00:00,  2.00it/s, loss=0.129]\n",
      "Training  : 100%|██████████| 6/6 [00:03<00:00,  1.96it/s, loss=0.186]\n",
      "Training  : 100%|██████████| 6/6 [00:02<00:00,  2.02it/s, loss=0.172] \n",
      "Training  : 100%|██████████| 6/6 [00:03<00:00,  1.98it/s, loss=0.161] \n",
      "Training  : 100%|██████████| 6/6 [00:02<00:00,  2.01it/s, loss=0.159] \n",
      "Training  : 100%|██████████| 6/6 [00:03<00:00,  1.99it/s, loss=0.15] \n",
      "Training  : 100%|██████████| 6/6 [00:02<00:00,  2.00it/s, loss=0.17] \n",
      "Training  : 100%|██████████| 6/6 [00:02<00:00,  2.02it/s, loss=0.127] \n",
      "Training  : 100%|██████████| 6/6 [00:02<00:00,  2.01it/s, loss=0.134]\n",
      "Training  : 100%|██████████| 6/6 [00:03<00:00,  1.97it/s, loss=0.124] \n",
      "Training  : 100%|██████████| 6/6 [00:02<00:00,  2.02it/s, loss=0.147] \n",
      "Training  : 100%|██████████| 6/6 [00:03<00:00,  2.00it/s, loss=0.125] \n",
      "Training  : 100%|██████████| 6/6 [00:03<00:00,  2.00it/s, loss=0.132]\n",
      "Training  : 100%|██████████| 6/6 [00:02<00:00,  2.01it/s, loss=0.138]\n",
      "Training  : 100%|██████████| 6/6 [00:03<00:00,  1.96it/s, loss=0.125]\n",
      "Training  : 100%|██████████| 6/6 [00:02<00:00,  2.01it/s, loss=0.131] \n",
      "Training  : 100%|██████████| 6/6 [00:03<00:00,  1.95it/s, loss=0.119] \n",
      "Training  : 100%|██████████| 6/6 [00:03<00:00,  1.94it/s, loss=0.132]\n",
      "Training  : 100%|██████████| 6/6 [00:03<00:00,  1.92it/s, loss=0.124] \n",
      "Training  : 100%|██████████| 6/6 [00:03<00:00,  1.97it/s, loss=0.128] \n",
      "Training  : 100%|██████████| 6/6 [00:02<00:00,  2.00it/s, loss=0.139] \n",
      "Training  : 100%|██████████| 6/6 [00:02<00:00,  2.02it/s, loss=0.127] \n",
      "Training  : 100%|██████████| 6/6 [00:03<00:00,  1.99it/s, loss=0.124]\n",
      "Training  : 100%|██████████| 6/6 [00:03<00:00,  1.92it/s, loss=0.133] \n",
      "Training  : 100%|██████████| 6/6 [00:02<00:00,  2.01it/s, loss=0.119]\n",
      "Training  : 100%|██████████| 6/6 [00:03<00:00,  1.99it/s, loss=0.121]\n",
      "Training  : 100%|██████████| 6/6 [00:03<00:00,  1.96it/s, loss=0.128]\n",
      "Training  : 100%|██████████| 6/6 [00:02<00:00,  2.01it/s, loss=0.128] \n",
      "Training  : 100%|██████████| 6/6 [00:03<00:00,  1.96it/s, loss=0.119] \n",
      "Training  : 100%|██████████| 6/6 [00:03<00:00,  1.98it/s, loss=0.122]\n",
      "Training  : 100%|██████████| 6/6 [00:03<00:00,  1.99it/s, loss=0.14]  \n",
      "Training  : 100%|██████████| 6/6 [00:03<00:00,  1.99it/s, loss=0.124]\n",
      "Training  : 100%|██████████| 6/6 [00:03<00:00,  1.98it/s, loss=0.118]\n",
      "Training  : 100%|██████████| 6/6 [00:02<00:00,  2.01it/s, loss=0.122]\n",
      "Training  : 100%|██████████| 6/6 [00:03<00:00,  1.99it/s, loss=0.124]\n",
      "Training  : 100%|██████████| 6/6 [00:02<00:00,  2.01it/s, loss=0.117] \n",
      "Training  : 100%|██████████| 6/6 [00:02<00:00,  2.03it/s, loss=0.12] \n",
      "Training  : 100%|██████████| 6/6 [00:03<00:00,  1.98it/s, loss=0.119]\n",
      "Training  : 100%|██████████| 6/6 [00:02<00:00,  2.02it/s, loss=0.118] \n",
      "Training  : 100%|██████████| 6/6 [00:03<00:00,  1.97it/s, loss=0.12] \n",
      "Predicting: 100%|██████████| 12/12 [00:01<00:00,  8.19it/s]\n"
     ]
    },
    {
     "name": "stdout",
     "output_type": "stream",
     "text": [
      "Building sklearn text classifier...\n",
      "Loading bert-base-uncased model...\n",
      "Defaulting to linear classifier/regressor\n",
      "Loading Pytorch checkpoint\n",
      "train data size: 178, validation data size: 0\n"
     ]
    },
    {
     "name": "stderr",
     "output_type": "stream",
     "text": [
      "Training  : 100%|██████████| 6/6 [00:03<00:00,  1.98it/s, loss=0.924]\n",
      "Training  : 100%|██████████| 6/6 [00:03<00:00,  1.96it/s, loss=0.608]\n",
      "Training  : 100%|██████████| 6/6 [00:03<00:00,  1.99it/s, loss=0.367]\n",
      "Training  : 100%|██████████| 6/6 [00:03<00:00,  1.97it/s, loss=0.288]\n",
      "Training  : 100%|██████████| 6/6 [00:03<00:00,  1.97it/s, loss=0.221]\n",
      "Training  : 100%|██████████| 6/6 [00:03<00:00,  1.99it/s, loss=0.246]\n",
      "Training  : 100%|██████████| 6/6 [00:03<00:00,  1.97it/s, loss=0.209]\n",
      "Training  : 100%|██████████| 6/6 [00:03<00:00,  1.93it/s, loss=0.178]\n",
      "Training  : 100%|██████████| 6/6 [00:03<00:00,  1.98it/s, loss=0.183]\n",
      "Training  : 100%|██████████| 6/6 [00:03<00:00,  1.99it/s, loss=0.165] \n",
      "Training  : 100%|██████████| 6/6 [00:03<00:00,  1.93it/s, loss=0.189]\n",
      "Training  : 100%|██████████| 6/6 [00:03<00:00,  1.93it/s, loss=0.165] \n",
      "Training  : 100%|██████████| 6/6 [00:03<00:00,  1.99it/s, loss=0.183] \n",
      "Training  : 100%|██████████| 6/6 [00:02<00:00,  2.02it/s, loss=0.152] \n",
      "Training  : 100%|██████████| 6/6 [00:03<00:00,  1.98it/s, loss=0.164]\n",
      "Training  : 100%|██████████| 6/6 [00:03<00:00,  1.98it/s, loss=0.155]\n",
      "Training  : 100%|██████████| 6/6 [00:03<00:00,  1.97it/s, loss=0.14] \n",
      "Training  : 100%|██████████| 6/6 [00:03<00:00,  1.97it/s, loss=0.125] \n",
      "Training  : 100%|██████████| 6/6 [00:03<00:00,  1.97it/s, loss=0.11] \n",
      "Training  : 100%|██████████| 6/6 [00:02<00:00,  2.01it/s, loss=0.112] \n",
      "Training  : 100%|██████████| 6/6 [00:02<00:00,  2.00it/s, loss=0.081] \n",
      "Training  : 100%|██████████| 6/6 [00:03<00:00,  1.99it/s, loss=0.0825]\n",
      "Training  : 100%|██████████| 6/6 [00:03<00:00,  1.99it/s, loss=0.0859]\n",
      "Training  : 100%|██████████| 6/6 [00:03<00:00,  1.94it/s, loss=0.0796]\n",
      "Training  : 100%|██████████| 6/6 [00:03<00:00,  1.94it/s, loss=0.0752]\n",
      "Training  : 100%|██████████| 6/6 [00:03<00:00,  2.00it/s, loss=0.0637]\n",
      "Training  : 100%|██████████| 6/6 [00:03<00:00,  1.99it/s, loss=0.0785]\n",
      "Training  : 100%|██████████| 6/6 [00:03<00:00,  2.00it/s, loss=0.0736]\n",
      "Training  : 100%|██████████| 6/6 [00:02<00:00,  2.03it/s, loss=0.0724]\n",
      "Training  : 100%|██████████| 6/6 [00:03<00:00,  1.98it/s, loss=0.0647]\n",
      "Training  : 100%|██████████| 6/6 [00:02<00:00,  2.01it/s, loss=0.066] \n",
      "Training  : 100%|██████████| 6/6 [00:03<00:00,  1.96it/s, loss=0.0834]\n",
      "Training  : 100%|██████████| 6/6 [00:03<00:00,  1.94it/s, loss=0.0608]\n",
      "Training  : 100%|██████████| 6/6 [00:03<00:00,  2.00it/s, loss=0.0829]\n",
      "Training  : 100%|██████████| 6/6 [00:03<00:00,  1.97it/s, loss=0.0702]\n",
      "Training  : 100%|██████████| 6/6 [00:03<00:00,  1.97it/s, loss=0.0812]\n",
      "Training  : 100%|██████████| 6/6 [00:03<00:00,  1.97it/s, loss=0.0817]\n",
      "Training  : 100%|██████████| 6/6 [00:03<00:00,  1.97it/s, loss=0.0726]\n",
      "Training  : 100%|██████████| 6/6 [00:03<00:00,  1.94it/s, loss=0.0648]\n",
      "Training  : 100%|██████████| 6/6 [00:03<00:00,  1.98it/s, loss=0.0688]\n",
      "Training  : 100%|██████████| 6/6 [00:02<00:00,  2.01it/s, loss=0.0654]\n",
      "Training  : 100%|██████████| 6/6 [00:02<00:00,  2.01it/s, loss=0.0665]\n",
      "Training  : 100%|██████████| 6/6 [00:03<00:00,  1.99it/s, loss=0.0663]\n",
      "Training  : 100%|██████████| 6/6 [00:03<00:00,  1.98it/s, loss=0.0685]\n",
      "Training  : 100%|██████████| 6/6 [00:03<00:00,  1.98it/s, loss=0.0669]\n",
      "Training  : 100%|██████████| 6/6 [00:03<00:00,  1.99it/s, loss=0.0671]\n",
      "Training  : 100%|██████████| 6/6 [00:03<00:00,  1.92it/s, loss=0.0589]\n",
      "Training  : 100%|██████████| 6/6 [00:03<00:00,  1.99it/s, loss=0.0633] \n",
      "Training  : 100%|██████████| 6/6 [00:03<00:00,  2.00it/s, loss=0.0772]\n",
      "Training  : 100%|██████████| 6/6 [00:03<00:00,  2.00it/s, loss=0.0635]\n",
      "Predicting: 100%|██████████| 12/12 [00:01<00:00,  7.55it/s]\n"
     ]
    },
    {
     "name": "stdout",
     "output_type": "stream",
     "text": [
      "Building sklearn text classifier...\n",
      "Loading bert-base-uncased model...\n",
      "Defaulting to linear classifier/regressor\n",
      "Loading Pytorch checkpoint\n",
      "train data size: 178, validation data size: 0\n"
     ]
    },
    {
     "name": "stderr",
     "output_type": "stream",
     "text": [
      "Training  : 100%|██████████| 6/6 [00:03<00:00,  1.91it/s, loss=0.923]\n",
      "Training  : 100%|██████████| 6/6 [00:03<00:00,  1.98it/s, loss=0.609]\n",
      "Training  : 100%|██████████| 6/6 [00:03<00:00,  1.98it/s, loss=0.354]\n",
      "Training  : 100%|██████████| 6/6 [00:03<00:00,  1.96it/s, loss=0.264]\n",
      "Training  : 100%|██████████| 6/6 [00:03<00:00,  1.98it/s, loss=0.234]\n",
      "Training  : 100%|██████████| 6/6 [00:03<00:00,  1.96it/s, loss=0.21]  \n",
      "Training  : 100%|██████████| 6/6 [00:03<00:00,  1.95it/s, loss=0.247]\n",
      "Training  : 100%|██████████| 6/6 [00:03<00:00,  1.97it/s, loss=0.215]\n",
      "Training  : 100%|██████████| 6/6 [00:03<00:00,  1.90it/s, loss=0.204]\n",
      "Training  : 100%|██████████| 6/6 [00:03<00:00,  2.00it/s, loss=0.242]\n",
      "Training  : 100%|██████████| 6/6 [00:03<00:00,  2.00it/s, loss=0.233]\n",
      "Training  : 100%|██████████| 6/6 [00:03<00:00,  1.93it/s, loss=0.188]\n",
      "Training  : 100%|██████████| 6/6 [00:03<00:00,  1.99it/s, loss=0.238]\n",
      "Training  : 100%|██████████| 6/6 [00:03<00:00,  1.93it/s, loss=0.234] \n",
      "Training  : 100%|██████████| 6/6 [00:03<00:00,  1.94it/s, loss=0.209]\n",
      "Training  : 100%|██████████| 6/6 [00:03<00:00,  1.97it/s, loss=0.202]\n",
      "Training  : 100%|██████████| 6/6 [00:03<00:00,  1.98it/s, loss=0.194] \n",
      "Training  : 100%|██████████| 6/6 [00:03<00:00,  1.92it/s, loss=0.166] \n",
      "Training  : 100%|██████████| 6/6 [00:03<00:00,  1.98it/s, loss=0.152]\n",
      "Training  : 100%|██████████| 6/6 [00:03<00:00,  1.99it/s, loss=0.164] \n",
      "Training  : 100%|██████████| 6/6 [00:03<00:00,  1.94it/s, loss=0.143] \n",
      "Training  : 100%|██████████| 6/6 [00:02<00:00,  2.00it/s, loss=0.136] \n",
      "Training  : 100%|██████████| 6/6 [00:03<00:00,  1.98it/s, loss=0.129]\n",
      "Training  : 100%|██████████| 6/6 [00:03<00:00,  2.00it/s, loss=0.132]\n",
      "Training  : 100%|██████████| 6/6 [00:03<00:00,  1.93it/s, loss=0.119]\n",
      "Training  : 100%|██████████| 6/6 [00:03<00:00,  1.96it/s, loss=0.126] \n",
      "Training  : 100%|██████████| 6/6 [00:03<00:00,  1.97it/s, loss=0.118]\n",
      "Training  : 100%|██████████| 6/6 [00:03<00:00,  1.97it/s, loss=0.116]\n",
      "Training  : 100%|██████████| 6/6 [00:03<00:00,  1.97it/s, loss=0.126]\n",
      "Training  : 100%|██████████| 6/6 [00:03<00:00,  1.97it/s, loss=0.114] \n",
      "Training  : 100%|██████████| 6/6 [00:03<00:00,  1.95it/s, loss=0.116] \n",
      "Training  : 100%|██████████| 6/6 [00:03<00:00,  1.98it/s, loss=0.112]\n",
      "Training  : 100%|██████████| 6/6 [00:02<00:00,  2.00it/s, loss=0.101]\n",
      "Training  : 100%|██████████| 6/6 [00:03<00:00,  1.99it/s, loss=0.117] \n",
      "Training  : 100%|██████████| 6/6 [00:03<00:00,  1.96it/s, loss=0.109]\n",
      "Training  : 100%|██████████| 6/6 [00:03<00:00,  1.96it/s, loss=0.132]\n",
      "Training  : 100%|██████████| 6/6 [00:03<00:00,  1.91it/s, loss=0.118] \n",
      "Training  : 100%|██████████| 6/6 [00:03<00:00,  1.99it/s, loss=0.107] \n",
      "Training  : 100%|██████████| 6/6 [00:03<00:00,  1.98it/s, loss=0.123] \n",
      "Training  : 100%|██████████| 6/6 [00:03<00:00,  1.92it/s, loss=0.117]\n",
      "Training  : 100%|██████████| 6/6 [00:03<00:00,  1.91it/s, loss=0.114] \n",
      "Training  : 100%|██████████| 6/6 [00:03<00:00,  1.97it/s, loss=0.113]\n",
      "Training  : 100%|██████████| 6/6 [00:03<00:00,  1.98it/s, loss=0.1]  \n",
      "Training  : 100%|██████████| 6/6 [00:02<00:00,  2.00it/s, loss=0.105]\n",
      "Training  : 100%|██████████| 6/6 [00:03<00:00,  1.91it/s, loss=0.114] \n",
      "Training  : 100%|██████████| 6/6 [00:03<00:00,  1.98it/s, loss=0.0962]\n",
      "Training  : 100%|██████████| 6/6 [00:03<00:00,  1.99it/s, loss=0.108] \n",
      "Training  : 100%|██████████| 6/6 [00:03<00:00,  1.95it/s, loss=0.105]\n",
      "Training  : 100%|██████████| 6/6 [00:03<00:00,  1.96it/s, loss=0.109] \n",
      "Training  : 100%|██████████| 6/6 [00:03<00:00,  1.94it/s, loss=0.108] \n",
      "Predicting: 100%|██████████| 12/12 [00:01<00:00,  7.96it/s]\n"
     ]
    },
    {
     "name": "stdout",
     "output_type": "stream",
     "text": [
      "Building sklearn text classifier...\n",
      "Loading bert-base-uncased model...\n",
      "Defaulting to linear classifier/regressor\n",
      "Loading Pytorch checkpoint\n",
      "train data size: 178, validation data size: 0\n"
     ]
    },
    {
     "name": "stderr",
     "output_type": "stream",
     "text": [
      "Training  : 100%|██████████| 6/6 [00:03<00:00,  1.98it/s, loss=0.929]\n",
      "Training  : 100%|██████████| 6/6 [00:03<00:00,  1.99it/s, loss=0.631]\n",
      "Training  : 100%|██████████| 6/6 [00:03<00:00,  1.90it/s, loss=0.4]  \n",
      "Training  : 100%|██████████| 6/6 [00:03<00:00,  1.98it/s, loss=0.295]\n",
      "Training  : 100%|██████████| 6/6 [00:03<00:00,  1.94it/s, loss=0.258]\n",
      "Training  : 100%|██████████| 6/6 [00:03<00:00,  1.91it/s, loss=0.228] \n",
      "Training  : 100%|██████████| 6/6 [00:03<00:00,  1.97it/s, loss=0.235]\n",
      "Training  : 100%|██████████| 6/6 [00:03<00:00,  1.96it/s, loss=0.253]\n",
      "Training  : 100%|██████████| 6/6 [00:03<00:00,  1.98it/s, loss=0.213]\n",
      "Training  : 100%|██████████| 6/6 [00:03<00:00,  1.97it/s, loss=0.221]\n",
      "Training  : 100%|██████████| 6/6 [00:03<00:00,  1.98it/s, loss=0.215]\n",
      "Training  : 100%|██████████| 6/6 [00:03<00:00,  1.91it/s, loss=0.223]\n",
      "Training  : 100%|██████████| 6/6 [00:03<00:00,  1.97it/s, loss=0.217]\n",
      "Training  : 100%|██████████| 6/6 [00:03<00:00,  1.97it/s, loss=0.232]\n",
      "Training  : 100%|██████████| 6/6 [00:03<00:00,  1.98it/s, loss=0.221]\n",
      "Training  : 100%|██████████| 6/6 [00:03<00:00,  1.99it/s, loss=0.218]\n",
      "Training  : 100%|██████████| 6/6 [00:02<00:00,  2.02it/s, loss=0.228]\n",
      "Training  : 100%|██████████| 6/6 [00:03<00:00,  1.88it/s, loss=0.192]\n",
      "Training  : 100%|██████████| 6/6 [00:03<00:00,  1.99it/s, loss=0.188]\n",
      "Training  : 100%|██████████| 6/6 [00:03<00:00,  1.90it/s, loss=0.162] \n",
      "Training  : 100%|██████████| 6/6 [00:03<00:00,  1.97it/s, loss=0.191]\n",
      "Training  : 100%|██████████| 6/6 [00:03<00:00,  1.99it/s, loss=0.149]\n",
      "Training  : 100%|██████████| 6/6 [00:03<00:00,  2.00it/s, loss=0.151]\n",
      "Training  : 100%|██████████| 6/6 [00:03<00:00,  1.99it/s, loss=0.144]\n",
      "Training  : 100%|██████████| 6/6 [00:03<00:00,  1.99it/s, loss=0.152]\n",
      "Training  : 100%|██████████| 6/6 [00:03<00:00,  1.91it/s, loss=0.169] \n",
      "Training  : 100%|██████████| 6/6 [00:03<00:00,  1.99it/s, loss=0.128] \n",
      "Training  : 100%|██████████| 6/6 [00:03<00:00,  1.97it/s, loss=0.131] \n",
      "Training  : 100%|██████████| 6/6 [00:03<00:00,  1.99it/s, loss=0.131]\n",
      "Training  : 100%|██████████| 6/6 [00:03<00:00,  1.96it/s, loss=0.133] \n",
      "Training  : 100%|██████████| 6/6 [00:03<00:00,  1.90it/s, loss=0.113] \n",
      "Training  : 100%|██████████| 6/6 [00:03<00:00,  1.94it/s, loss=0.112] \n",
      "Training  : 100%|██████████| 6/6 [00:02<00:00,  2.00it/s, loss=0.111]\n",
      "Training  : 100%|██████████| 6/6 [00:03<00:00,  1.98it/s, loss=0.108] \n",
      "Training  : 100%|██████████| 6/6 [00:03<00:00,  1.91it/s, loss=0.113]\n",
      "Training  : 100%|██████████| 6/6 [00:02<00:00,  2.01it/s, loss=0.111]\n",
      "Training  : 100%|██████████| 6/6 [00:03<00:00,  1.93it/s, loss=0.112] \n",
      "Training  : 100%|██████████| 6/6 [00:03<00:00,  1.99it/s, loss=0.123] \n",
      "Training  : 100%|██████████| 6/6 [00:03<00:00,  1.99it/s, loss=0.117] \n",
      "Training  : 100%|██████████| 6/6 [00:03<00:00,  1.94it/s, loss=0.122]\n",
      "Training  : 100%|██████████| 6/6 [00:03<00:00,  1.93it/s, loss=0.12]  \n",
      "Training  : 100%|██████████| 6/6 [00:02<00:00,  2.01it/s, loss=0.128] \n",
      "Training  : 100%|██████████| 6/6 [00:03<00:00,  1.98it/s, loss=0.105]\n",
      "Training  : 100%|██████████| 6/6 [00:03<00:00,  1.93it/s, loss=0.109]\n",
      "Training  : 100%|██████████| 6/6 [00:03<00:00,  2.00it/s, loss=0.111]\n",
      "Training  : 100%|██████████| 6/6 [00:02<00:00,  2.02it/s, loss=0.111] \n",
      "Training  : 100%|██████████| 6/6 [00:03<00:00,  1.99it/s, loss=0.111]\n",
      "Training  : 100%|██████████| 6/6 [00:03<00:00,  1.95it/s, loss=0.111]\n",
      "Training  : 100%|██████████| 6/6 [00:03<00:00,  1.99it/s, loss=0.115] \n",
      "Training  : 100%|██████████| 6/6 [00:03<00:00,  1.97it/s, loss=0.114]\n",
      "Predicting: 100%|██████████| 12/12 [00:01<00:00,  8.06it/s]\n"
     ]
    },
    {
     "name": "stdout",
     "output_type": "stream",
     "text": [
      "Building sklearn text classifier...\n",
      "Loading bert-base-uncased model...\n",
      "Defaulting to linear classifier/regressor\n",
      "Loading Pytorch checkpoint\n",
      "train data size: 178, validation data size: 0\n"
     ]
    },
    {
     "name": "stderr",
     "output_type": "stream",
     "text": [
      "Training  : 100%|██████████| 6/6 [00:03<00:00,  1.93it/s, loss=0.913]\n",
      "Training  : 100%|██████████| 6/6 [00:03<00:00,  2.00it/s, loss=0.547]\n",
      "Training  : 100%|██████████| 6/6 [00:03<00:00,  2.00it/s, loss=0.346]\n",
      "Training  : 100%|██████████| 6/6 [00:03<00:00,  1.90it/s, loss=0.267]\n",
      "Training  : 100%|██████████| 6/6 [00:03<00:00,  1.92it/s, loss=0.205]\n",
      "Training  : 100%|██████████| 6/6 [00:03<00:00,  1.99it/s, loss=0.191]\n",
      "Training  : 100%|██████████| 6/6 [00:03<00:00,  1.98it/s, loss=0.202]\n",
      "Training  : 100%|██████████| 6/6 [00:03<00:00,  1.96it/s, loss=0.196]\n",
      "Training  : 100%|██████████| 6/6 [00:03<00:00,  1.99it/s, loss=0.177]\n",
      "Training  : 100%|██████████| 6/6 [00:03<00:00,  1.97it/s, loss=0.166] \n",
      "Training  : 100%|██████████| 6/6 [00:03<00:00,  1.99it/s, loss=0.19] \n",
      "Training  : 100%|██████████| 6/6 [00:03<00:00,  1.98it/s, loss=0.159] \n",
      "Training  : 100%|██████████| 6/6 [00:03<00:00,  1.97it/s, loss=0.171] \n",
      "Training  : 100%|██████████| 6/6 [00:03<00:00,  1.98it/s, loss=0.138] \n",
      "Training  : 100%|██████████| 6/6 [00:03<00:00,  1.99it/s, loss=0.134]\n",
      "Training  : 100%|██████████| 6/6 [00:03<00:00,  1.92it/s, loss=0.126] \n",
      "Training  : 100%|██████████| 6/6 [00:03<00:00,  1.98it/s, loss=0.0933]\n",
      "Training  : 100%|██████████| 6/6 [00:03<00:00,  1.96it/s, loss=0.106] \n",
      "Training  : 100%|██████████| 6/6 [00:03<00:00,  1.97it/s, loss=0.0662]\n",
      "Training  : 100%|██████████| 6/6 [00:02<00:00,  2.00it/s, loss=0.0888]\n",
      "Training  : 100%|██████████| 6/6 [00:03<00:00,  1.93it/s, loss=0.0676]\n",
      "Training  : 100%|██████████| 6/6 [00:03<00:00,  1.97it/s, loss=0.0644]\n",
      "Training  : 100%|██████████| 6/6 [00:03<00:00,  1.98it/s, loss=0.0702]\n",
      "Training  : 100%|██████████| 6/6 [00:03<00:00,  1.97it/s, loss=0.0797]\n",
      "Training  : 100%|██████████| 6/6 [00:02<00:00,  2.00it/s, loss=0.0734] \n",
      "Training  : 100%|██████████| 6/6 [00:03<00:00,  1.94it/s, loss=0.0662]\n",
      "Training  : 100%|██████████| 6/6 [00:03<00:00,  1.96it/s, loss=0.0789]\n",
      "Training  : 100%|██████████| 6/6 [00:03<00:00,  1.97it/s, loss=0.0677]\n",
      "Training  : 100%|██████████| 6/6 [00:03<00:00,  1.98it/s, loss=0.0694]\n",
      "Training  : 100%|██████████| 6/6 [00:02<00:00,  2.01it/s, loss=0.0639]\n",
      "Training  : 100%|██████████| 6/6 [00:02<00:00,  2.02it/s, loss=0.0704]\n",
      "Training  : 100%|██████████| 6/6 [00:02<00:00,  2.02it/s, loss=0.0701]\n",
      "Training  : 100%|██████████| 6/6 [00:02<00:00,  2.01it/s, loss=0.0614]\n",
      "Training  : 100%|██████████| 6/6 [00:02<00:00,  2.02it/s, loss=0.0935]\n",
      "Training  : 100%|██████████| 6/6 [00:03<00:00,  1.96it/s, loss=0.071] \n",
      "Training  : 100%|██████████| 6/6 [00:03<00:00,  1.96it/s, loss=0.0937]\n",
      "Training  : 100%|██████████| 6/6 [00:03<00:00,  1.91it/s, loss=0.0731]\n",
      "Training  : 100%|██████████| 6/6 [00:03<00:00,  1.94it/s, loss=0.0714] \n",
      "Training  : 100%|██████████| 6/6 [00:03<00:00,  1.97it/s, loss=0.0622]\n",
      "Training  : 100%|██████████| 6/6 [00:03<00:00,  2.00it/s, loss=0.0682]\n",
      "Training  : 100%|██████████| 6/6 [00:03<00:00,  1.99it/s, loss=0.0649]\n",
      "Training  : 100%|██████████| 6/6 [00:03<00:00,  1.93it/s, loss=0.0638]\n",
      "Training  : 100%|██████████| 6/6 [00:03<00:00,  2.00it/s, loss=0.0616]\n",
      "Training  : 100%|██████████| 6/6 [00:02<00:00,  2.00it/s, loss=0.069] \n",
      "Training  : 100%|██████████| 6/6 [00:03<00:00,  1.94it/s, loss=0.0632]\n",
      "Training  : 100%|██████████| 6/6 [00:03<00:00,  1.95it/s, loss=0.0669]\n",
      "Training  : 100%|██████████| 6/6 [00:03<00:00,  1.92it/s, loss=0.0623]\n",
      "Training  : 100%|██████████| 6/6 [00:03<00:00,  1.95it/s, loss=0.0664] \n",
      "Training  : 100%|██████████| 6/6 [00:03<00:00,  1.90it/s, loss=0.0755]\n",
      "Training  : 100%|██████████| 6/6 [00:03<00:00,  1.95it/s, loss=0.0572]\n",
      "Training  : 100%|██████████| 6/6 [00:03<00:00,  1.99it/s, loss=0.0863]\n",
      "Training  : 100%|██████████| 6/6 [00:03<00:00,  1.97it/s, loss=0.0625]\n",
      "Training  : 100%|██████████| 6/6 [00:03<00:00,  1.99it/s, loss=0.0622]\n",
      "Training  : 100%|██████████| 6/6 [00:03<00:00,  1.99it/s, loss=0.0675]\n",
      "Training  : 100%|██████████| 6/6 [00:03<00:00,  1.96it/s, loss=0.0598]\n",
      "Training  : 100%|██████████| 6/6 [00:03<00:00,  1.94it/s, loss=0.0584]\n",
      "Training  : 100%|██████████| 6/6 [00:02<00:00,  2.01it/s, loss=0.0812]\n",
      "Training  : 100%|██████████| 6/6 [00:03<00:00,  1.98it/s, loss=0.0696]\n",
      "Training  : 100%|██████████| 6/6 [00:03<00:00,  1.92it/s, loss=0.0625]\n",
      "Training  : 100%|██████████| 6/6 [00:03<00:00,  1.97it/s, loss=0.0598]\n",
      "Training  : 100%|██████████| 6/6 [00:03<00:00,  1.96it/s, loss=0.0598]\n",
      "Training  : 100%|██████████| 6/6 [00:03<00:00,  1.96it/s, loss=0.0642]\n",
      "Training  : 100%|██████████| 6/6 [00:03<00:00,  1.99it/s, loss=0.0561]\n",
      "Training  : 100%|██████████| 6/6 [00:03<00:00,  1.99it/s, loss=0.067] \n",
      "Training  : 100%|██████████| 6/6 [00:03<00:00,  1.96it/s, loss=0.0635]\n",
      "Training  : 100%|██████████| 6/6 [00:03<00:00,  2.00it/s, loss=0.0654]\n",
      "Training  : 100%|██████████| 6/6 [00:03<00:00,  1.96it/s, loss=0.0627]\n",
      "Training  : 100%|██████████| 6/6 [00:03<00:00,  1.98it/s, loss=0.061]  \n",
      "Training  : 100%|██████████| 6/6 [00:02<00:00,  2.02it/s, loss=0.075] \n",
      "Training  : 100%|██████████| 6/6 [00:03<00:00,  1.94it/s, loss=0.0637]\n",
      "Training  : 100%|██████████| 6/6 [00:03<00:00,  1.97it/s, loss=0.064]  \n",
      "Training  : 100%|██████████| 6/6 [00:03<00:00,  1.99it/s, loss=0.0632]\n",
      "Training  : 100%|██████████| 6/6 [00:03<00:00,  1.97it/s, loss=0.0543]\n",
      "Training  : 100%|██████████| 6/6 [00:03<00:00,  1.97it/s, loss=0.0637] \n",
      "Training  : 100%|██████████| 6/6 [00:03<00:00,  1.98it/s, loss=0.0568]\n",
      "Predicting: 100%|██████████| 12/12 [00:01<00:00,  7.80it/s]\n"
     ]
    },
    {
     "name": "stdout",
     "output_type": "stream",
     "text": [
      "Building sklearn text classifier...\n",
      "Loading bert-base-uncased model...\n",
      "Defaulting to linear classifier/regressor\n",
      "Loading Pytorch checkpoint\n",
      "train data size: 178, validation data size: 0\n"
     ]
    },
    {
     "name": "stderr",
     "output_type": "stream",
     "text": [
      "Training  : 100%|██████████| 6/6 [00:03<00:00,  1.93it/s, loss=0.913]\n",
      "Training  : 100%|██████████| 6/6 [00:03<00:00,  1.96it/s, loss=0.566]\n",
      "Training  : 100%|██████████| 6/6 [00:03<00:00,  1.93it/s, loss=0.335]\n",
      "Training  : 100%|██████████| 6/6 [00:03<00:00,  1.95it/s, loss=0.251]\n",
      "Training  : 100%|██████████| 6/6 [00:03<00:00,  1.93it/s, loss=0.27] \n",
      "Training  : 100%|██████████| 6/6 [00:03<00:00,  1.93it/s, loss=0.239] \n",
      "Training  : 100%|██████████| 6/6 [00:03<00:00,  1.92it/s, loss=0.265]\n",
      "Training  : 100%|██████████| 6/6 [00:03<00:00,  1.93it/s, loss=0.232]\n",
      "Training  : 100%|██████████| 6/6 [00:03<00:00,  1.93it/s, loss=0.235]\n",
      "Training  : 100%|██████████| 6/6 [00:03<00:00,  1.92it/s, loss=0.221]\n",
      "Training  : 100%|██████████| 6/6 [00:03<00:00,  1.96it/s, loss=0.218]\n",
      "Training  : 100%|██████████| 6/6 [00:03<00:00,  1.93it/s, loss=0.182]\n",
      "Training  : 100%|██████████| 6/6 [00:03<00:00,  1.92it/s, loss=0.176]\n",
      "Training  : 100%|██████████| 6/6 [00:03<00:00,  1.92it/s, loss=0.178] \n",
      "Training  : 100%|██████████| 6/6 [00:03<00:00,  1.95it/s, loss=0.159] \n",
      "Training  : 100%|██████████| 6/6 [00:03<00:00,  1.96it/s, loss=0.155] \n",
      "Training  : 100%|██████████| 6/6 [00:03<00:00,  1.97it/s, loss=0.165] \n",
      "Training  : 100%|██████████| 6/6 [00:03<00:00,  1.96it/s, loss=0.142] \n",
      "Training  : 100%|██████████| 6/6 [00:03<00:00,  1.99it/s, loss=0.125]\n",
      "Training  : 100%|██████████| 6/6 [00:03<00:00,  1.93it/s, loss=0.122] \n",
      "Training  : 100%|██████████| 6/6 [00:03<00:00,  1.95it/s, loss=0.119] \n",
      "Training  : 100%|██████████| 6/6 [00:03<00:00,  1.98it/s, loss=0.111] \n",
      "Training  : 100%|██████████| 6/6 [00:03<00:00,  1.96it/s, loss=0.118]\n",
      "Training  : 100%|██████████| 6/6 [00:03<00:00,  1.96it/s, loss=0.115] \n",
      "Training  : 100%|██████████| 6/6 [00:03<00:00,  1.97it/s, loss=0.105] \n",
      "Training  : 100%|██████████| 6/6 [00:03<00:00,  1.86it/s, loss=0.116] \n",
      "Training  : 100%|██████████| 6/6 [00:03<00:00,  1.93it/s, loss=0.118] \n",
      "Training  : 100%|██████████| 6/6 [00:03<00:00,  1.97it/s, loss=0.106]\n",
      "Training  : 100%|██████████| 6/6 [00:03<00:00,  1.97it/s, loss=0.116]\n",
      "Training  : 100%|██████████| 6/6 [00:03<00:00,  1.88it/s, loss=0.118] \n",
      "Training  : 100%|██████████| 6/6 [00:03<00:00,  1.97it/s, loss=0.11]  \n",
      "Training  : 100%|██████████| 6/6 [00:03<00:00,  1.86it/s, loss=0.106] \n",
      "Training  : 100%|██████████| 6/6 [00:02<00:00,  2.01it/s, loss=0.0992]\n",
      "Training  : 100%|██████████| 6/6 [00:03<00:00,  1.94it/s, loss=0.112] \n",
      "Training  : 100%|██████████| 6/6 [00:03<00:00,  1.93it/s, loss=0.105]\n",
      "Training  : 100%|██████████| 6/6 [00:03<00:00,  1.88it/s, loss=0.122] \n",
      "Training  : 100%|██████████| 6/6 [00:03<00:00,  1.97it/s, loss=0.114] \n",
      "Training  : 100%|██████████| 6/6 [00:03<00:00,  1.93it/s, loss=0.107] \n",
      "Training  : 100%|██████████| 6/6 [00:03<00:00,  1.97it/s, loss=0.103] \n",
      "Training  : 100%|██████████| 6/6 [00:03<00:00,  1.94it/s, loss=0.105] \n",
      "Training  : 100%|██████████| 6/6 [00:03<00:00,  1.91it/s, loss=0.109] \n",
      "Training  : 100%|██████████| 6/6 [00:03<00:00,  1.95it/s, loss=0.11]  \n",
      "Training  : 100%|██████████| 6/6 [00:02<00:00,  2.01it/s, loss=0.0985]\n",
      "Training  : 100%|██████████| 6/6 [00:03<00:00,  1.97it/s, loss=0.105]\n",
      "Training  : 100%|██████████| 6/6 [00:03<00:00,  1.98it/s, loss=0.114] \n",
      "Training  : 100%|██████████| 6/6 [00:03<00:00,  1.98it/s, loss=0.0959]\n",
      "Training  : 100%|██████████| 6/6 [00:03<00:00,  1.94it/s, loss=0.102] \n",
      "Training  : 100%|██████████| 6/6 [00:03<00:00,  1.92it/s, loss=0.0979]\n",
      "Training  : 100%|██████████| 6/6 [00:03<00:00,  1.92it/s, loss=0.112] \n",
      "Training  : 100%|██████████| 6/6 [00:03<00:00,  1.88it/s, loss=0.101] \n",
      "Training  : 100%|██████████| 6/6 [00:03<00:00,  1.96it/s, loss=0.115] \n",
      "Training  : 100%|██████████| 6/6 [00:03<00:00,  1.94it/s, loss=0.111] \n",
      "Training  : 100%|██████████| 6/6 [00:03<00:00,  1.96it/s, loss=0.108]\n",
      "Training  : 100%|██████████| 6/6 [00:03<00:00,  1.95it/s, loss=0.12]  \n",
      "Training  : 100%|██████████| 6/6 [00:03<00:00,  1.95it/s, loss=0.108] \n",
      "Training  : 100%|██████████| 6/6 [00:03<00:00,  1.96it/s, loss=0.11] \n",
      "Training  : 100%|██████████| 6/6 [00:03<00:00,  1.89it/s, loss=0.123] \n",
      "Training  : 100%|██████████| 6/6 [00:03<00:00,  1.90it/s, loss=0.112]\n",
      "Training  : 100%|██████████| 6/6 [00:03<00:00,  1.99it/s, loss=0.113] \n",
      "Training  : 100%|██████████| 6/6 [00:03<00:00,  1.98it/s, loss=0.106]\n",
      "Training  : 100%|██████████| 6/6 [00:03<00:00,  1.99it/s, loss=0.101]\n",
      "Training  : 100%|██████████| 6/6 [00:03<00:00,  1.94it/s, loss=0.102]\n",
      "Training  : 100%|██████████| 6/6 [00:03<00:00,  1.99it/s, loss=0.101] \n",
      "Training  : 100%|██████████| 6/6 [00:03<00:00,  1.96it/s, loss=0.105] \n",
      "Training  : 100%|██████████| 6/6 [00:03<00:00,  1.94it/s, loss=0.115] \n",
      "Training  : 100%|██████████| 6/6 [00:03<00:00,  1.92it/s, loss=0.104] \n",
      "Training  : 100%|██████████| 6/6 [00:03<00:00,  1.95it/s, loss=0.0966]\n",
      "Training  : 100%|██████████| 6/6 [00:03<00:00,  1.95it/s, loss=0.0991]\n",
      "Training  : 100%|██████████| 6/6 [00:03<00:00,  1.96it/s, loss=0.115] \n",
      "Training  : 100%|██████████| 6/6 [00:03<00:00,  1.97it/s, loss=0.0971]\n",
      "Training  : 100%|██████████| 6/6 [00:03<00:00,  1.91it/s, loss=0.113] \n",
      "Training  : 100%|██████████| 6/6 [00:03<00:00,  1.94it/s, loss=0.108] \n",
      "Training  : 100%|██████████| 6/6 [00:03<00:00,  1.91it/s, loss=0.122] \n",
      "Training  : 100%|██████████| 6/6 [00:03<00:00,  1.97it/s, loss=0.0999]\n",
      "Training  : 100%|██████████| 6/6 [00:03<00:00,  1.97it/s, loss=0.108]\n",
      "Predicting: 100%|██████████| 12/12 [00:01<00:00,  7.92it/s]\n"
     ]
    },
    {
     "name": "stdout",
     "output_type": "stream",
     "text": [
      "Building sklearn text classifier...\n",
      "Loading bert-base-uncased model...\n",
      "Defaulting to linear classifier/regressor\n",
      "Loading Pytorch checkpoint\n",
      "train data size: 178, validation data size: 0\n"
     ]
    },
    {
     "name": "stderr",
     "output_type": "stream",
     "text": [
      "Training  : 100%|██████████| 6/6 [00:03<00:00,  1.92it/s, loss=0.92] \n",
      "Training  : 100%|██████████| 6/6 [00:03<00:00,  1.90it/s, loss=0.581]\n",
      "Training  : 100%|██████████| 6/6 [00:03<00:00,  1.93it/s, loss=0.383]\n",
      "Training  : 100%|██████████| 6/6 [00:03<00:00,  1.92it/s, loss=0.278]\n",
      "Training  : 100%|██████████| 6/6 [00:03<00:00,  1.91it/s, loss=0.254]\n",
      "Training  : 100%|██████████| 6/6 [00:03<00:00,  1.91it/s, loss=0.233] \n",
      "Training  : 100%|██████████| 6/6 [00:03<00:00,  1.91it/s, loss=0.233]\n",
      "Training  : 100%|██████████| 6/6 [00:03<00:00,  1.92it/s, loss=0.216]\n",
      "Training  : 100%|██████████| 6/6 [00:03<00:00,  1.92it/s, loss=0.161]\n",
      "Training  : 100%|██████████| 6/6 [00:03<00:00,  1.90it/s, loss=0.164] \n",
      "Training  : 100%|██████████| 6/6 [00:03<00:00,  1.91it/s, loss=0.16] \n",
      "Training  : 100%|██████████| 6/6 [00:03<00:00,  1.95it/s, loss=0.137]\n",
      "Training  : 100%|██████████| 6/6 [00:03<00:00,  1.96it/s, loss=0.172]\n",
      "Training  : 100%|██████████| 6/6 [00:03<00:00,  1.94it/s, loss=0.222]\n",
      "Training  : 100%|██████████| 6/6 [00:03<00:00,  1.97it/s, loss=0.195] \n",
      "Training  : 100%|██████████| 6/6 [00:03<00:00,  1.91it/s, loss=0.191]\n",
      "Training  : 100%|██████████| 6/6 [00:03<00:00,  1.93it/s, loss=0.191]\n",
      "Training  : 100%|██████████| 6/6 [00:03<00:00,  1.93it/s, loss=0.164]\n",
      "Training  : 100%|██████████| 6/6 [00:03<00:00,  1.92it/s, loss=0.136]\n",
      "Training  : 100%|██████████| 6/6 [00:03<00:00,  1.92it/s, loss=0.125] \n",
      "Training  : 100%|██████████| 6/6 [00:03<00:00,  1.96it/s, loss=0.151] \n",
      "Training  : 100%|██████████| 6/6 [00:03<00:00,  1.95it/s, loss=0.127] \n",
      "Training  : 100%|██████████| 6/6 [00:03<00:00,  1.91it/s, loss=0.131] \n",
      "Training  : 100%|██████████| 6/6 [00:03<00:00,  1.96it/s, loss=0.141] \n",
      "Training  : 100%|██████████| 6/6 [00:03<00:00,  1.98it/s, loss=0.115] \n",
      "Training  : 100%|██████████| 6/6 [00:03<00:00,  1.92it/s, loss=0.133] \n",
      "Training  : 100%|██████████| 6/6 [00:03<00:00,  1.95it/s, loss=0.12]  \n",
      "Training  : 100%|██████████| 6/6 [00:03<00:00,  1.97it/s, loss=0.115]\n",
      "Training  : 100%|██████████| 6/6 [00:03<00:00,  1.96it/s, loss=0.124] \n",
      "Training  : 100%|██████████| 6/6 [00:03<00:00,  1.93it/s, loss=0.12]  \n",
      "Training  : 100%|██████████| 6/6 [00:03<00:00,  1.94it/s, loss=0.113] \n",
      "Training  : 100%|██████████| 6/6 [00:03<00:00,  1.91it/s, loss=0.116] \n",
      "Training  : 100%|██████████| 6/6 [00:03<00:00,  1.91it/s, loss=0.114]\n",
      "Training  : 100%|██████████| 6/6 [00:03<00:00,  1.87it/s, loss=0.107]\n",
      "Training  : 100%|██████████| 6/6 [00:03<00:00,  1.94it/s, loss=0.115]\n",
      "Training  : 100%|██████████| 6/6 [00:03<00:00,  1.92it/s, loss=0.119]\n",
      "Training  : 100%|██████████| 6/6 [00:03<00:00,  1.93it/s, loss=0.117] \n",
      "Training  : 100%|██████████| 6/6 [00:03<00:00,  1.92it/s, loss=0.112] \n",
      "Training  : 100%|██████████| 6/6 [00:03<00:00,  1.91it/s, loss=0.12]  \n",
      "Training  : 100%|██████████| 6/6 [00:03<00:00,  1.87it/s, loss=0.109]\n",
      "Training  : 100%|██████████| 6/6 [00:03<00:00,  1.97it/s, loss=0.115] \n",
      "Training  : 100%|██████████| 6/6 [00:03<00:00,  1.95it/s, loss=0.112] \n",
      "Training  : 100%|██████████| 6/6 [00:03<00:00,  1.89it/s, loss=0.103]\n",
      "Training  : 100%|██████████| 6/6 [00:03<00:00,  1.94it/s, loss=0.11] \n",
      "Training  : 100%|██████████| 6/6 [00:03<00:00,  1.94it/s, loss=0.111]\n",
      "Training  : 100%|██████████| 6/6 [00:03<00:00,  1.91it/s, loss=0.103] \n",
      "Training  : 100%|██████████| 6/6 [00:03<00:00,  1.90it/s, loss=0.101] \n",
      "Training  : 100%|██████████| 6/6 [00:03<00:00,  1.94it/s, loss=0.11] \n",
      "Training  : 100%|██████████| 6/6 [00:03<00:00,  1.94it/s, loss=0.105] \n",
      "Training  : 100%|██████████| 6/6 [00:03<00:00,  1.93it/s, loss=0.108]\n",
      "Training  : 100%|██████████| 6/6 [00:03<00:00,  1.94it/s, loss=0.104] \n",
      "Training  : 100%|██████████| 6/6 [00:03<00:00,  1.94it/s, loss=0.118] \n",
      "Training  : 100%|██████████| 6/6 [00:03<00:00,  1.93it/s, loss=0.107] \n",
      "Training  : 100%|██████████| 6/6 [00:03<00:00,  1.93it/s, loss=0.123]\n",
      "Training  : 100%|██████████| 6/6 [00:03<00:00,  1.94it/s, loss=0.113] \n",
      "Training  : 100%|██████████| 6/6 [00:03<00:00,  1.87it/s, loss=0.119] \n",
      "Training  : 100%|██████████| 6/6 [00:03<00:00,  1.91it/s, loss=0.113] \n",
      "Training  : 100%|██████████| 6/6 [00:03<00:00,  1.94it/s, loss=0.103] \n",
      "Training  : 100%|██████████| 6/6 [00:03<00:00,  1.91it/s, loss=0.112] \n",
      "Training  : 100%|██████████| 6/6 [00:03<00:00,  1.90it/s, loss=0.112]\n",
      "Training  : 100%|██████████| 6/6 [00:03<00:00,  1.88it/s, loss=0.107]\n",
      "Training  : 100%|██████████| 6/6 [00:03<00:00,  1.89it/s, loss=0.108]\n",
      "Training  : 100%|██████████| 6/6 [00:03<00:00,  1.96it/s, loss=0.098] \n",
      "Training  : 100%|██████████| 6/6 [00:03<00:00,  1.90it/s, loss=0.109] \n",
      "Training  : 100%|██████████| 6/6 [00:03<00:00,  1.87it/s, loss=0.112] \n",
      "Training  : 100%|██████████| 6/6 [00:03<00:00,  1.89it/s, loss=0.103] \n",
      "Training  : 100%|██████████| 6/6 [00:03<00:00,  1.92it/s, loss=0.0968]\n",
      "Training  : 100%|██████████| 6/6 [00:03<00:00,  1.92it/s, loss=0.102] \n",
      "Training  : 100%|██████████| 6/6 [00:03<00:00,  1.93it/s, loss=0.119] \n",
      "Training  : 100%|██████████| 6/6 [00:03<00:00,  1.89it/s, loss=0.0989]\n",
      "Training  : 100%|██████████| 6/6 [00:03<00:00,  1.94it/s, loss=0.114] \n",
      "Training  : 100%|██████████| 6/6 [00:03<00:00,  1.94it/s, loss=0.112] \n",
      "Training  : 100%|██████████| 6/6 [00:03<00:00,  1.86it/s, loss=0.128] \n",
      "Training  : 100%|██████████| 6/6 [00:03<00:00,  1.96it/s, loss=0.106]\n",
      "Training  : 100%|██████████| 6/6 [00:03<00:00,  1.90it/s, loss=0.102]\n",
      "Predicting: 100%|██████████| 12/12 [00:01<00:00,  7.70it/s]\n"
     ]
    },
    {
     "name": "stdout",
     "output_type": "stream",
     "text": [
      "Building sklearn text classifier...\n",
      "Loading bert-base-uncased model...\n",
      "Defaulting to linear classifier/regressor\n",
      "Loading Pytorch checkpoint\n",
      "train data size: 178, validation data size: 0\n"
     ]
    },
    {
     "name": "stderr",
     "output_type": "stream",
     "text": [
      "Training  : 100%|██████████| 6/6 [00:03<00:00,  1.90it/s, loss=0.893]\n",
      "Training  : 100%|██████████| 6/6 [00:03<00:00,  1.94it/s, loss=0.482]\n",
      "Training  : 100%|██████████| 6/6 [00:03<00:00,  1.90it/s, loss=0.323]\n",
      "Training  : 100%|██████████| 6/6 [00:03<00:00,  1.93it/s, loss=0.217]\n",
      "Training  : 100%|██████████| 6/6 [00:03<00:00,  1.92it/s, loss=0.203]\n",
      "Training  : 100%|██████████| 6/6 [00:03<00:00,  1.93it/s, loss=0.171]\n",
      "Training  : 100%|██████████| 6/6 [00:03<00:00,  1.96it/s, loss=0.215]\n",
      "Training  : 100%|██████████| 6/6 [00:03<00:00,  1.91it/s, loss=0.16]  \n",
      "Training  : 100%|██████████| 6/6 [00:03<00:00,  1.93it/s, loss=0.202]\n",
      "Training  : 100%|██████████| 6/6 [00:03<00:00,  1.92it/s, loss=0.187] \n",
      "Training  : 100%|██████████| 6/6 [00:03<00:00,  1.93it/s, loss=0.203]\n",
      "Training  : 100%|██████████| 6/6 [00:03<00:00,  1.93it/s, loss=0.147] \n",
      "Training  : 100%|██████████| 6/6 [00:03<00:00,  1.92it/s, loss=0.136] \n",
      "Training  : 100%|██████████| 6/6 [00:03<00:00,  1.92it/s, loss=0.103] \n",
      "Training  : 100%|██████████| 6/6 [00:03<00:00,  1.92it/s, loss=0.111]\n",
      "Training  : 100%|██████████| 6/6 [00:03<00:00,  1.91it/s, loss=0.086] \n",
      "Training  : 100%|██████████| 6/6 [00:03<00:00,  1.93it/s, loss=0.0763]\n",
      "Training  : 100%|██████████| 6/6 [00:03<00:00,  1.94it/s, loss=0.0938]\n",
      "Training  : 100%|██████████| 6/6 [00:03<00:00,  1.96it/s, loss=0.0736]\n",
      "Training  : 100%|██████████| 6/6 [00:03<00:00,  1.94it/s, loss=0.107] \n",
      "Training  : 100%|██████████| 6/6 [00:03<00:00,  1.90it/s, loss=0.107] \n",
      "Training  : 100%|██████████| 6/6 [00:03<00:00,  1.96it/s, loss=0.0804]\n",
      "Training  : 100%|██████████| 6/6 [00:03<00:00,  1.97it/s, loss=0.0799]\n",
      "Training  : 100%|██████████| 6/6 [00:03<00:00,  1.94it/s, loss=0.0702]\n",
      "Training  : 100%|██████████| 6/6 [00:03<00:00,  1.94it/s, loss=0.0755] \n",
      "Training  : 100%|██████████| 6/6 [00:03<00:00,  1.92it/s, loss=0.0703]\n",
      "Training  : 100%|██████████| 6/6 [00:03<00:00,  1.88it/s, loss=0.0864]\n",
      "Training  : 100%|██████████| 6/6 [00:03<00:00,  1.91it/s, loss=0.0648]\n",
      "Training  : 100%|██████████| 6/6 [00:03<00:00,  1.95it/s, loss=0.0716] \n",
      "Training  : 100%|██████████| 6/6 [00:03<00:00,  1.85it/s, loss=0.0614]\n",
      "Training  : 100%|██████████| 6/6 [00:03<00:00,  1.89it/s, loss=0.0695]\n",
      "Training  : 100%|██████████| 6/6 [00:03<00:00,  1.92it/s, loss=0.0638]\n",
      "Training  : 100%|██████████| 6/6 [00:03<00:00,  1.95it/s, loss=0.0594]\n",
      "Training  : 100%|██████████| 6/6 [00:03<00:00,  1.89it/s, loss=0.088] \n",
      "Training  : 100%|██████████| 6/6 [00:03<00:00,  1.91it/s, loss=0.0679]\n",
      "Training  : 100%|██████████| 6/6 [00:03<00:00,  1.85it/s, loss=0.0836]\n",
      "Training  : 100%|██████████| 6/6 [00:03<00:00,  1.95it/s, loss=0.0723]\n",
      "Training  : 100%|██████████| 6/6 [00:03<00:00,  1.92it/s, loss=0.0659]\n",
      "Training  : 100%|██████████| 6/6 [00:03<00:00,  1.91it/s, loss=0.0604]\n",
      "Training  : 100%|██████████| 6/6 [00:03<00:00,  1.93it/s, loss=0.0658]\n",
      "Training  : 100%|██████████| 6/6 [00:03<00:00,  1.94it/s, loss=0.0613]\n",
      "Training  : 100%|██████████| 6/6 [00:03<00:00,  1.89it/s, loss=0.0634]\n",
      "Training  : 100%|██████████| 6/6 [00:03<00:00,  1.92it/s, loss=0.0574]\n",
      "Training  : 100%|██████████| 6/6 [00:03<00:00,  1.87it/s, loss=0.0613]\n",
      "Training  : 100%|██████████| 6/6 [00:03<00:00,  1.91it/s, loss=0.0653]\n",
      "Training  : 100%|██████████| 6/6 [00:03<00:00,  1.92it/s, loss=0.0633]\n",
      "Training  : 100%|██████████| 6/6 [00:03<00:00,  1.91it/s, loss=0.059] \n",
      "Training  : 100%|██████████| 6/6 [00:03<00:00,  1.93it/s, loss=0.0595] \n",
      "Training  : 100%|██████████| 6/6 [00:03<00:00,  1.91it/s, loss=0.0688]\n",
      "Training  : 100%|██████████| 6/6 [00:03<00:00,  1.92it/s, loss=0.058] \n",
      "Training  : 100%|██████████| 6/6 [00:03<00:00,  1.87it/s, loss=0.0832]\n",
      "Training  : 100%|██████████| 6/6 [00:03<00:00,  1.91it/s, loss=0.0649]\n",
      "Training  : 100%|██████████| 6/6 [00:03<00:00,  1.93it/s, loss=0.061] \n",
      "Training  : 100%|██████████| 6/6 [00:03<00:00,  1.90it/s, loss=0.0755]\n",
      "Training  : 100%|██████████| 6/6 [00:03<00:00,  1.88it/s, loss=0.0581]\n",
      "Training  : 100%|██████████| 6/6 [00:03<00:00,  1.92it/s, loss=0.0571]\n",
      "Training  : 100%|██████████| 6/6 [00:03<00:00,  1.91it/s, loss=0.0778]\n",
      "Training  : 100%|██████████| 6/6 [00:03<00:00,  1.90it/s, loss=0.0639]\n",
      "Training  : 100%|██████████| 6/6 [00:03<00:00,  1.91it/s, loss=0.0639]\n",
      "Training  : 100%|██████████| 6/6 [00:03<00:00,  1.92it/s, loss=0.0575]\n",
      "Training  : 100%|██████████| 6/6 [00:03<00:00,  1.94it/s, loss=0.0621]\n",
      "Training  : 100%|██████████| 6/6 [00:03<00:00,  1.93it/s, loss=0.0606]\n",
      "Training  : 100%|██████████| 6/6 [00:03<00:00,  1.96it/s, loss=0.0569]\n",
      "Training  : 100%|██████████| 6/6 [00:03<00:00,  1.95it/s, loss=0.0645]\n",
      "Training  : 100%|██████████| 6/6 [00:03<00:00,  1.91it/s, loss=0.0578]\n",
      "Training  : 100%|██████████| 6/6 [00:03<00:00,  1.90it/s, loss=0.0565]\n",
      "Training  : 100%|██████████| 6/6 [00:03<00:00,  1.89it/s, loss=0.0591]\n",
      "Training  : 100%|██████████| 6/6 [00:03<00:00,  1.91it/s, loss=0.0543] \n",
      "Training  : 100%|██████████| 6/6 [00:03<00:00,  1.88it/s, loss=0.0734]\n",
      "Training  : 100%|██████████| 6/6 [00:03<00:00,  1.93it/s, loss=0.0591]\n",
      "Training  : 100%|██████████| 6/6 [00:03<00:00,  1.87it/s, loss=0.0607]\n",
      "Training  : 100%|██████████| 6/6 [00:03<00:00,  1.93it/s, loss=0.0635]\n",
      "Training  : 100%|██████████| 6/6 [00:03<00:00,  1.87it/s, loss=0.0596]\n",
      "Training  : 100%|██████████| 6/6 [00:03<00:00,  1.87it/s, loss=0.061]  \n",
      "Training  : 100%|██████████| 6/6 [00:03<00:00,  1.93it/s, loss=0.0598]\n",
      "Predicting: 100%|██████████| 12/12 [00:01<00:00,  7.64it/s]\n"
     ]
    },
    {
     "name": "stdout",
     "output_type": "stream",
     "text": [
      "Building sklearn text classifier...\n",
      "Loading bert-base-uncased model...\n",
      "Defaulting to linear classifier/regressor\n",
      "Loading Pytorch checkpoint\n",
      "train data size: 178, validation data size: 0\n"
     ]
    },
    {
     "name": "stderr",
     "output_type": "stream",
     "text": [
      "Training  : 100%|██████████| 6/6 [00:03<00:00,  1.94it/s, loss=0.895]\n",
      "Training  : 100%|██████████| 6/6 [00:03<00:00,  1.91it/s, loss=0.502]\n",
      "Training  : 100%|██████████| 6/6 [00:03<00:00,  1.92it/s, loss=0.298]\n",
      "Training  : 100%|██████████| 6/6 [00:03<00:00,  1.95it/s, loss=0.234]\n",
      "Training  : 100%|██████████| 6/6 [00:03<00:00,  1.90it/s, loss=0.252]\n",
      "Training  : 100%|██████████| 6/6 [00:03<00:00,  1.93it/s, loss=0.198] \n",
      "Training  : 100%|██████████| 6/6 [00:03<00:00,  1.93it/s, loss=0.265]\n",
      "Training  : 100%|██████████| 6/6 [00:03<00:00,  1.88it/s, loss=0.205] \n",
      "Training  : 100%|██████████| 6/6 [00:03<00:00,  1.86it/s, loss=0.183]\n",
      "Training  : 100%|██████████| 6/6 [00:03<00:00,  1.93it/s, loss=0.187]\n",
      "Training  : 100%|██████████| 6/6 [00:03<00:00,  1.91it/s, loss=0.191]\n",
      "Training  : 100%|██████████| 6/6 [00:03<00:00,  1.95it/s, loss=0.161] \n",
      "Training  : 100%|██████████| 6/6 [00:03<00:00,  1.91it/s, loss=0.167]\n",
      "Training  : 100%|██████████| 6/6 [00:03<00:00,  1.89it/s, loss=0.162] \n",
      "Training  : 100%|██████████| 6/6 [00:03<00:00,  1.86it/s, loss=0.159] \n",
      "Training  : 100%|██████████| 6/6 [00:03<00:00,  1.89it/s, loss=0.149] \n",
      "Training  : 100%|██████████| 6/6 [00:03<00:00,  1.93it/s, loss=0.148] \n",
      "Training  : 100%|██████████| 6/6 [00:03<00:00,  1.93it/s, loss=0.135] \n",
      "Training  : 100%|██████████| 6/6 [00:03<00:00,  1.93it/s, loss=0.129] \n",
      "Training  : 100%|██████████| 6/6 [00:03<00:00,  1.91it/s, loss=0.147] \n",
      "Training  : 100%|██████████| 6/6 [00:03<00:00,  1.91it/s, loss=0.13]  \n",
      "Training  : 100%|██████████| 6/6 [00:03<00:00,  1.94it/s, loss=0.132] \n",
      "Training  : 100%|██████████| 6/6 [00:03<00:00,  1.93it/s, loss=0.115]\n",
      "Training  : 100%|██████████| 6/6 [00:03<00:00,  1.91it/s, loss=0.128] \n",
      "Training  : 100%|██████████| 6/6 [00:03<00:00,  1.90it/s, loss=0.116] \n",
      "Training  : 100%|██████████| 6/6 [00:03<00:00,  1.93it/s, loss=0.123] \n",
      "Training  : 100%|██████████| 6/6 [00:03<00:00,  1.97it/s, loss=0.122] \n",
      "Training  : 100%|██████████| 6/6 [00:03<00:00,  1.90it/s, loss=0.105]\n",
      "Training  : 100%|██████████| 6/6 [00:03<00:00,  1.93it/s, loss=0.107]\n",
      "Training  : 100%|██████████| 6/6 [00:03<00:00,  1.90it/s, loss=0.112] \n",
      "Training  : 100%|██████████| 6/6 [00:03<00:00,  1.94it/s, loss=0.12]  \n",
      "Training  : 100%|██████████| 6/6 [00:03<00:00,  1.92it/s, loss=0.11]  \n",
      "Training  : 100%|██████████| 6/6 [00:03<00:00,  1.92it/s, loss=0.107]\n",
      "Training  : 100%|██████████| 6/6 [00:03<00:00,  1.92it/s, loss=0.112] \n",
      "Training  : 100%|██████████| 6/6 [00:03<00:00,  1.93it/s, loss=0.105]\n",
      "Training  : 100%|██████████| 6/6 [00:03<00:00,  1.89it/s, loss=0.122] \n",
      "Training  : 100%|██████████| 6/6 [00:03<00:00,  1.95it/s, loss=0.125] \n",
      "Training  : 100%|██████████| 6/6 [00:03<00:00,  1.89it/s, loss=0.113] \n",
      "Training  : 100%|██████████| 6/6 [00:03<00:00,  1.91it/s, loss=0.114] \n",
      "Training  : 100%|██████████| 6/6 [00:03<00:00,  1.93it/s, loss=0.112]\n",
      "Training  : 100%|██████████| 6/6 [00:03<00:00,  1.92it/s, loss=0.124] \n",
      "Training  : 100%|██████████| 6/6 [00:03<00:00,  1.91it/s, loss=0.121]\n",
      "Training  : 100%|██████████| 6/6 [00:03<00:00,  1.92it/s, loss=0.111]\n",
      "Training  : 100%|██████████| 6/6 [00:03<00:00,  1.94it/s, loss=0.108]\n",
      "Training  : 100%|██████████| 6/6 [00:03<00:00,  1.88it/s, loss=0.125] \n",
      "Training  : 100%|██████████| 6/6 [00:03<00:00,  1.88it/s, loss=0.0973]\n",
      "Training  : 100%|██████████| 6/6 [00:03<00:00,  1.91it/s, loss=0.107] \n",
      "Training  : 100%|██████████| 6/6 [00:03<00:00,  1.90it/s, loss=0.101]\n",
      "Training  : 100%|██████████| 6/6 [00:03<00:00,  1.90it/s, loss=0.114] \n",
      "Training  : 100%|██████████| 6/6 [00:03<00:00,  1.91it/s, loss=0.104] \n",
      "Training  : 100%|██████████| 6/6 [00:03<00:00,  1.94it/s, loss=0.114] \n",
      "Training  : 100%|██████████| 6/6 [00:03<00:00,  1.88it/s, loss=0.113] \n",
      "Training  : 100%|██████████| 6/6 [00:03<00:00,  1.92it/s, loss=0.121]\n",
      "Training  : 100%|██████████| 6/6 [00:03<00:00,  1.91it/s, loss=0.111] \n",
      "Training  : 100%|██████████| 6/6 [00:03<00:00,  1.88it/s, loss=0.113] \n",
      "Training  : 100%|██████████| 6/6 [00:03<00:00,  1.93it/s, loss=0.109]\n",
      "Training  : 100%|██████████| 6/6 [00:03<00:00,  1.96it/s, loss=0.132] \n",
      "Training  : 100%|██████████| 6/6 [00:03<00:00,  1.87it/s, loss=0.106] \n",
      "Training  : 100%|██████████| 6/6 [00:03<00:00,  1.91it/s, loss=0.118] \n",
      "Training  : 100%|██████████| 6/6 [00:03<00:00,  1.96it/s, loss=0.104]\n",
      "Training  : 100%|██████████| 6/6 [00:03<00:00,  1.94it/s, loss=0.106]\n",
      "Training  : 100%|██████████| 6/6 [00:03<00:00,  1.93it/s, loss=0.102]\n",
      "Training  : 100%|██████████| 6/6 [00:03<00:00,  1.89it/s, loss=0.103] \n",
      "Training  : 100%|██████████| 6/6 [00:03<00:00,  1.90it/s, loss=0.108] \n",
      "Training  : 100%|██████████| 6/6 [00:03<00:00,  1.92it/s, loss=0.0971]\n",
      "Training  : 100%|██████████| 6/6 [00:03<00:00,  1.85it/s, loss=0.103] \n",
      "Training  : 100%|██████████| 6/6 [00:03<00:00,  1.90it/s, loss=0.0989]\n",
      "Training  : 100%|██████████| 6/6 [00:03<00:00,  1.87it/s, loss=0.103]\n",
      "Training  : 100%|██████████| 6/6 [00:03<00:00,  1.84it/s, loss=0.119] \n",
      "Training  : 100%|██████████| 6/6 [00:03<00:00,  1.94it/s, loss=0.102]\n",
      "Training  : 100%|██████████| 6/6 [00:03<00:00,  1.94it/s, loss=0.111] \n",
      "Training  : 100%|██████████| 6/6 [00:03<00:00,  1.92it/s, loss=0.114]\n",
      "Training  : 100%|██████████| 6/6 [00:03<00:00,  1.90it/s, loss=0.118] \n",
      "Training  : 100%|██████████| 6/6 [00:03<00:00,  1.93it/s, loss=0.105] \n",
      "Training  : 100%|██████████| 6/6 [00:03<00:00,  1.93it/s, loss=0.0964]\n",
      "Predicting: 100%|██████████| 12/12 [00:01<00:00,  7.72it/s]\n"
     ]
    },
    {
     "name": "stdout",
     "output_type": "stream",
     "text": [
      "Building sklearn text classifier...\n",
      "Loading bert-base-uncased model...\n",
      "Defaulting to linear classifier/regressor\n",
      "Loading Pytorch checkpoint\n",
      "train data size: 178, validation data size: 0\n"
     ]
    },
    {
     "name": "stderr",
     "output_type": "stream",
     "text": [
      "Training  : 100%|██████████| 6/6 [00:03<00:00,  1.92it/s, loss=0.902]\n",
      "Training  : 100%|██████████| 6/6 [00:03<00:00,  1.94it/s, loss=0.513]\n",
      "Training  : 100%|██████████| 6/6 [00:03<00:00,  1.93it/s, loss=0.34] \n",
      "Training  : 100%|██████████| 6/6 [00:03<00:00,  1.92it/s, loss=0.252]\n",
      "Training  : 100%|██████████| 6/6 [00:03<00:00,  1.93it/s, loss=0.28] \n",
      "Training  : 100%|██████████| 6/6 [00:03<00:00,  1.84it/s, loss=0.208] \n",
      "Training  : 100%|██████████| 6/6 [00:03<00:00,  1.92it/s, loss=0.223]\n",
      "Training  : 100%|██████████| 6/6 [00:03<00:00,  1.93it/s, loss=0.235]\n",
      "Training  : 100%|██████████| 6/6 [00:03<00:00,  1.88it/s, loss=0.158]\n",
      "Training  : 100%|██████████| 6/6 [00:03<00:00,  1.88it/s, loss=0.16]  \n",
      "Training  : 100%|██████████| 6/6 [00:03<00:00,  1.92it/s, loss=0.138]\n",
      "Training  : 100%|██████████| 6/6 [00:03<00:00,  1.93it/s, loss=0.127]\n",
      "Training  : 100%|██████████| 6/6 [00:03<00:00,  1.92it/s, loss=0.178]\n",
      "Training  : 100%|██████████| 6/6 [00:03<00:00,  1.93it/s, loss=0.159] \n",
      "Training  : 100%|██████████| 6/6 [00:03<00:00,  1.87it/s, loss=0.151] \n",
      "Training  : 100%|██████████| 6/6 [00:03<00:00,  1.90it/s, loss=0.176]\n",
      "Training  : 100%|██████████| 6/6 [00:03<00:00,  1.89it/s, loss=0.154]\n",
      "Training  : 100%|██████████| 6/6 [00:03<00:00,  1.86it/s, loss=0.129] \n",
      "Training  : 100%|██████████| 6/6 [00:03<00:00,  1.92it/s, loss=0.117]\n",
      "Training  : 100%|██████████| 6/6 [00:03<00:00,  1.92it/s, loss=0.114] \n",
      "Training  : 100%|██████████| 6/6 [00:03<00:00,  1.92it/s, loss=0.146]\n",
      "Training  : 100%|██████████| 6/6 [00:03<00:00,  1.90it/s, loss=0.116] \n",
      "Training  : 100%|██████████| 6/6 [00:03<00:00,  1.93it/s, loss=0.117] \n",
      "Training  : 100%|██████████| 6/6 [00:03<00:00,  1.87it/s, loss=0.132] \n",
      "Training  : 100%|██████████| 6/6 [00:03<00:00,  1.86it/s, loss=0.118]\n",
      "Training  : 100%|██████████| 6/6 [00:03<00:00,  1.92it/s, loss=0.118] \n",
      "Training  : 100%|██████████| 6/6 [00:03<00:00,  1.86it/s, loss=0.113] \n",
      "Training  : 100%|██████████| 6/6 [00:03<00:00,  1.90it/s, loss=0.125]\n",
      "Training  : 100%|██████████| 6/6 [00:03<00:00,  1.92it/s, loss=0.119] \n",
      "Training  : 100%|██████████| 6/6 [00:03<00:00,  1.90it/s, loss=0.123] \n",
      "Training  : 100%|██████████| 6/6 [00:03<00:00,  1.93it/s, loss=0.115] \n",
      "Training  : 100%|██████████| 6/6 [00:03<00:00,  1.92it/s, loss=0.118] \n",
      "Training  : 100%|██████████| 6/6 [00:03<00:00,  1.91it/s, loss=0.11] \n",
      "Training  : 100%|██████████| 6/6 [00:03<00:00,  1.90it/s, loss=0.11]  \n",
      "Training  : 100%|██████████| 6/6 [00:03<00:00,  1.93it/s, loss=0.116]\n",
      "Training  : 100%|██████████| 6/6 [00:03<00:00,  1.92it/s, loss=0.118]\n",
      "Training  : 100%|██████████| 6/6 [00:03<00:00,  1.89it/s, loss=0.108]\n",
      "Training  : 100%|██████████| 6/6 [00:03<00:00,  1.92it/s, loss=0.12]  \n",
      "Training  : 100%|██████████| 6/6 [00:03<00:00,  1.95it/s, loss=0.11]  \n",
      "Training  : 100%|██████████| 6/6 [00:03<00:00,  1.92it/s, loss=0.116]\n",
      "Training  : 100%|██████████| 6/6 [00:03<00:00,  1.95it/s, loss=0.122] \n",
      "Training  : 100%|██████████| 6/6 [00:03<00:00,  1.91it/s, loss=0.109] \n",
      "Training  : 100%|██████████| 6/6 [00:03<00:00,  1.96it/s, loss=0.105]\n",
      "Training  : 100%|██████████| 6/6 [00:03<00:00,  1.95it/s, loss=0.111]\n",
      "Training  : 100%|██████████| 6/6 [00:03<00:00,  1.86it/s, loss=0.104]\n",
      "Training  : 100%|██████████| 6/6 [00:03<00:00,  1.84it/s, loss=0.104] \n",
      "Training  : 100%|██████████| 6/6 [00:03<00:00,  1.95it/s, loss=0.105] \n",
      "Training  : 100%|██████████| 6/6 [00:03<00:00,  1.87it/s, loss=0.0996]\n",
      "Training  : 100%|██████████| 6/6 [00:03<00:00,  1.92it/s, loss=0.0998]\n",
      "Training  : 100%|██████████| 6/6 [00:03<00:00,  1.92it/s, loss=0.108]\n",
      "Training  : 100%|██████████| 6/6 [00:03<00:00,  1.87it/s, loss=0.105] \n",
      "Training  : 100%|██████████| 6/6 [00:03<00:00,  1.94it/s, loss=0.128] \n",
      "Training  : 100%|██████████| 6/6 [00:03<00:00,  1.87it/s, loss=0.109] \n",
      "Training  : 100%|██████████| 6/6 [00:03<00:00,  1.90it/s, loss=0.118] \n",
      "Training  : 100%|██████████| 6/6 [00:03<00:00,  1.93it/s, loss=0.111] \n",
      "Training  : 100%|██████████| 6/6 [00:03<00:00,  1.91it/s, loss=0.113] \n",
      "Training  : 100%|██████████| 6/6 [00:03<00:00,  1.87it/s, loss=0.114] \n",
      "Training  : 100%|██████████| 6/6 [00:03<00:00,  1.93it/s, loss=0.109] \n",
      "Training  : 100%|██████████| 6/6 [00:03<00:00,  1.91it/s, loss=0.112] \n",
      "Training  : 100%|██████████| 6/6 [00:03<00:00,  1.93it/s, loss=0.113]\n",
      "Training  : 100%|██████████| 6/6 [00:03<00:00,  1.93it/s, loss=0.108]\n",
      "Training  : 100%|██████████| 6/6 [00:03<00:00,  1.87it/s, loss=0.108]\n",
      "Training  : 100%|██████████| 6/6 [00:03<00:00,  1.92it/s, loss=0.101] \n",
      "Training  : 100%|██████████| 6/6 [00:03<00:00,  1.92it/s, loss=0.104] \n",
      "Training  : 100%|██████████| 6/6 [00:03<00:00,  1.94it/s, loss=0.112] \n",
      "Training  : 100%|██████████| 6/6 [00:03<00:00,  1.93it/s, loss=0.107]\n",
      "Training  : 100%|██████████| 6/6 [00:03<00:00,  1.92it/s, loss=0.102]\n",
      "Training  : 100%|██████████| 6/6 [00:03<00:00,  1.92it/s, loss=0.101] \n",
      "Training  : 100%|██████████| 6/6 [00:03<00:00,  1.94it/s, loss=0.115]\n",
      "Training  : 100%|██████████| 6/6 [00:03<00:00,  1.91it/s, loss=0.0989]\n",
      "Training  : 100%|██████████| 6/6 [00:03<00:00,  1.92it/s, loss=0.111] \n",
      "Training  : 100%|██████████| 6/6 [00:03<00:00,  1.92it/s, loss=0.116] \n",
      "Training  : 100%|██████████| 6/6 [00:03<00:00,  1.88it/s, loss=0.122] \n",
      "Training  : 100%|██████████| 6/6 [00:03<00:00,  1.94it/s, loss=0.108] \n",
      "Training  : 100%|██████████| 6/6 [00:03<00:00,  1.94it/s, loss=0.11]  \n",
      "Predicting: 100%|██████████| 12/12 [00:01<00:00,  7.54it/s]\n"
     ]
    },
    {
     "name": "stdout",
     "output_type": "stream",
     "text": [
      "Building sklearn text classifier...\n",
      "Loading bert-base-uncased model...\n",
      "Defaulting to linear classifier/regressor\n",
      "Loading Pytorch checkpoint\n",
      "train data size: 178, validation data size: 0\n"
     ]
    },
    {
     "name": "stderr",
     "output_type": "stream",
     "text": [
      "Training  : 100%|██████████| 6/6 [00:03<00:00,  1.93it/s, loss=0.936]\n",
      "Training  : 100%|██████████| 6/6 [00:03<00:00,  1.92it/s, loss=0.686]\n",
      "Training  : 100%|██████████| 6/6 [00:03<00:00,  1.92it/s, loss=0.412]\n",
      "Training  : 100%|██████████| 6/6 [00:03<00:00,  1.86it/s, loss=0.315]\n",
      "Training  : 100%|██████████| 6/6 [00:03<00:00,  1.91it/s, loss=0.254]\n",
      "Training  : 100%|██████████| 6/6 [00:03<00:00,  1.88it/s, loss=0.24] \n",
      "Training  : 100%|██████████| 6/6 [00:03<00:00,  1.92it/s, loss=0.21] \n",
      "Training  : 100%|██████████| 6/6 [00:03<00:00,  1.91it/s, loss=0.212]\n",
      "Training  : 100%|██████████| 6/6 [00:03<00:00,  1.91it/s, loss=0.226]\n",
      "Training  : 100%|██████████| 6/6 [00:03<00:00,  1.92it/s, loss=0.22] \n",
      "Training  : 100%|██████████| 6/6 [00:03<00:00,  1.93it/s, loss=0.218]\n",
      "Training  : 100%|██████████| 6/6 [00:03<00:00,  1.90it/s, loss=0.193] \n",
      "Training  : 100%|██████████| 6/6 [00:03<00:00,  1.88it/s, loss=0.201]\n",
      "Training  : 100%|██████████| 6/6 [00:03<00:00,  1.96it/s, loss=0.177]\n",
      "Training  : 100%|██████████| 6/6 [00:03<00:00,  1.86it/s, loss=0.184]\n",
      "Training  : 100%|██████████| 6/6 [00:03<00:00,  1.89it/s, loss=0.178]\n",
      "Training  : 100%|██████████| 6/6 [00:03<00:00,  1.89it/s, loss=0.154]\n",
      "Training  : 100%|██████████| 6/6 [00:03<00:00,  1.96it/s, loss=0.174]\n",
      "Training  : 100%|██████████| 6/6 [00:03<00:00,  1.88it/s, loss=0.158]\n",
      "Training  : 100%|██████████| 6/6 [00:03<00:00,  1.92it/s, loss=0.164]\n",
      "Training  : 100%|██████████| 6/6 [00:03<00:00,  1.94it/s, loss=0.119] \n",
      "Training  : 100%|██████████| 6/6 [00:03<00:00,  1.92it/s, loss=0.116] \n",
      "Training  : 100%|██████████| 6/6 [00:03<00:00,  1.90it/s, loss=0.0848]\n",
      "Training  : 100%|██████████| 6/6 [00:03<00:00,  1.92it/s, loss=0.0902]\n",
      "Training  : 100%|██████████| 6/6 [00:03<00:00,  1.93it/s, loss=0.0822]\n",
      "Training  : 100%|██████████| 6/6 [00:03<00:00,  1.91it/s, loss=0.0828]\n",
      "Training  : 100%|██████████| 6/6 [00:03<00:00,  1.88it/s, loss=0.0812]\n",
      "Training  : 100%|██████████| 6/6 [00:03<00:00,  1.91it/s, loss=0.0733]\n",
      "Training  : 100%|██████████| 6/6 [00:03<00:00,  1.92it/s, loss=0.0898] \n",
      "Training  : 100%|██████████| 6/6 [00:03<00:00,  1.87it/s, loss=0.105] \n",
      "Training  : 100%|██████████| 6/6 [00:03<00:00,  1.89it/s, loss=0.0879]\n",
      "Training  : 100%|██████████| 6/6 [00:03<00:00,  1.89it/s, loss=0.0762]\n",
      "Training  : 100%|██████████| 6/6 [00:03<00:00,  1.92it/s, loss=0.0726]\n",
      "Training  : 100%|██████████| 6/6 [00:03<00:00,  1.91it/s, loss=0.095] \n",
      "Training  : 100%|██████████| 6/6 [00:03<00:00,  1.94it/s, loss=0.0783]\n",
      "Training  : 100%|██████████| 6/6 [00:03<00:00,  1.93it/s, loss=0.1]   \n",
      "Training  : 100%|██████████| 6/6 [00:03<00:00,  1.94it/s, loss=0.0797]\n",
      "Training  : 100%|██████████| 6/6 [00:03<00:00,  1.89it/s, loss=0.082] \n",
      "Training  : 100%|██████████| 6/6 [00:03<00:00,  1.92it/s, loss=0.066] \n",
      "Training  : 100%|██████████| 6/6 [00:03<00:00,  1.91it/s, loss=0.0743]\n",
      "Training  : 100%|██████████| 6/6 [00:03<00:00,  1.91it/s, loss=0.0764]\n",
      "Training  : 100%|██████████| 6/6 [00:03<00:00,  1.88it/s, loss=0.0683]\n",
      "Training  : 100%|██████████| 6/6 [00:03<00:00,  1.83it/s, loss=0.0675]\n",
      "Training  : 100%|██████████| 6/6 [00:03<00:00,  1.92it/s, loss=0.0701]\n",
      "Training  : 100%|██████████| 6/6 [00:03<00:00,  1.93it/s, loss=0.067] \n",
      "Training  : 100%|██████████| 6/6 [00:03<00:00,  1.90it/s, loss=0.0684]\n",
      "Training  : 100%|██████████| 6/6 [00:03<00:00,  1.94it/s, loss=0.0669]\n",
      "Training  : 100%|██████████| 6/6 [00:03<00:00,  1.90it/s, loss=0.0649]\n",
      "Training  : 100%|██████████| 6/6 [00:03<00:00,  1.88it/s, loss=0.0808]\n",
      "Training  : 100%|██████████| 6/6 [00:03<00:00,  1.86it/s, loss=0.064] \n",
      "Training  : 100%|██████████| 6/6 [00:03<00:00,  1.93it/s, loss=0.0828]\n",
      "Training  : 100%|██████████| 6/6 [00:03<00:00,  1.92it/s, loss=0.0671]\n",
      "Training  : 100%|██████████| 6/6 [00:03<00:00,  1.95it/s, loss=0.0637]\n",
      "Training  : 100%|██████████| 6/6 [00:03<00:00,  1.92it/s, loss=0.07]  \n",
      "Training  : 100%|██████████| 6/6 [00:03<00:00,  1.82it/s, loss=0.0595]\n",
      "Training  : 100%|██████████| 6/6 [00:03<00:00,  1.88it/s, loss=0.0605]\n",
      "Training  : 100%|██████████| 6/6 [00:03<00:00,  1.86it/s, loss=0.0842]\n",
      "Training  : 100%|██████████| 6/6 [00:03<00:00,  1.92it/s, loss=0.0772]\n",
      "Training  : 100%|██████████| 6/6 [00:03<00:00,  1.86it/s, loss=0.0673]\n",
      "Training  : 100%|██████████| 6/6 [00:03<00:00,  1.93it/s, loss=0.0635]\n",
      "Training  : 100%|██████████| 6/6 [00:03<00:00,  1.92it/s, loss=0.0538]\n",
      "Training  : 100%|██████████| 6/6 [00:03<00:00,  1.92it/s, loss=0.063] \n",
      "Training  : 100%|██████████| 6/6 [00:03<00:00,  1.93it/s, loss=0.0639]\n",
      "Training  : 100%|██████████| 6/6 [00:03<00:00,  1.86it/s, loss=0.0674]\n",
      "Training  : 100%|██████████| 6/6 [00:03<00:00,  1.85it/s, loss=0.0703]\n",
      "Training  : 100%|██████████| 6/6 [00:03<00:00,  1.92it/s, loss=0.0646]\n",
      "Training  : 100%|██████████| 6/6 [00:03<00:00,  1.89it/s, loss=0.0713]\n",
      "Training  : 100%|██████████| 6/6 [00:03<00:00,  1.88it/s, loss=0.0633] \n",
      "Training  : 100%|██████████| 6/6 [00:03<00:00,  1.90it/s, loss=0.0865]\n",
      "Training  : 100%|██████████| 6/6 [00:03<00:00,  1.94it/s, loss=0.0672]\n",
      "Training  : 100%|██████████| 6/6 [00:03<00:00,  1.89it/s, loss=0.067]  \n",
      "Training  : 100%|██████████| 6/6 [00:03<00:00,  1.92it/s, loss=0.0735]\n",
      "Training  : 100%|██████████| 6/6 [00:03<00:00,  1.91it/s, loss=0.0591]\n",
      "Training  : 100%|██████████| 6/6 [00:03<00:00,  1.84it/s, loss=0.0688]\n",
      "Training  : 100%|██████████| 6/6 [00:03<00:00,  1.91it/s, loss=0.0609]\n",
      "Predicting: 100%|██████████| 12/12 [00:01<00:00,  7.48it/s]\n"
     ]
    },
    {
     "name": "stdout",
     "output_type": "stream",
     "text": [
      "Building sklearn text classifier...\n",
      "Loading bert-base-uncased model...\n",
      "Defaulting to linear classifier/regressor\n",
      "Loading Pytorch checkpoint\n",
      "train data size: 178, validation data size: 0\n"
     ]
    },
    {
     "name": "stderr",
     "output_type": "stream",
     "text": [
      "Training  : 100%|██████████| 6/6 [00:02<00:00,  2.01it/s, loss=0.934]\n",
      "Training  : 100%|██████████| 6/6 [00:02<00:00,  2.04it/s, loss=0.697]\n",
      "Training  : 100%|██████████| 6/6 [00:02<00:00,  2.02it/s, loss=0.405]\n",
      "Training  : 100%|██████████| 6/6 [00:02<00:00,  2.03it/s, loss=0.298]\n",
      "Training  : 100%|██████████| 6/6 [00:02<00:00,  2.02it/s, loss=0.287]\n",
      "Training  : 100%|██████████| 6/6 [00:02<00:00,  2.03it/s, loss=0.216]\n",
      "Training  : 100%|██████████| 6/6 [00:03<00:00,  1.99it/s, loss=0.259]\n",
      "Training  : 100%|██████████| 6/6 [00:03<00:00,  1.97it/s, loss=0.224]\n",
      "Training  : 100%|██████████| 6/6 [00:02<00:00,  2.00it/s, loss=0.199]\n",
      "Training  : 100%|██████████| 6/6 [00:02<00:00,  2.04it/s, loss=0.22] \n",
      "Training  : 100%|██████████| 6/6 [00:03<00:00,  1.98it/s, loss=0.217]\n",
      "Training  : 100%|██████████| 6/6 [00:02<00:00,  2.02it/s, loss=0.181]\n",
      "Training  : 100%|██████████| 6/6 [00:02<00:00,  2.04it/s, loss=0.218]\n",
      "Training  : 100%|██████████| 6/6 [00:03<00:00,  1.97it/s, loss=0.215] \n",
      "Training  : 100%|██████████| 6/6 [00:02<00:00,  2.03it/s, loss=0.209]\n",
      "Training  : 100%|██████████| 6/6 [00:03<00:00,  1.98it/s, loss=0.208]\n",
      "Training  : 100%|██████████| 6/6 [00:03<00:00,  1.97it/s, loss=0.196] \n",
      "Training  : 100%|██████████| 6/6 [00:03<00:00,  1.97it/s, loss=0.171] \n",
      "Training  : 100%|██████████| 6/6 [00:03<00:00,  2.00it/s, loss=0.17] \n",
      "Training  : 100%|██████████| 6/6 [00:03<00:00,  1.98it/s, loss=0.177] \n",
      "Training  : 100%|██████████| 6/6 [00:02<00:00,  2.04it/s, loss=0.174]\n",
      "Training  : 100%|██████████| 6/6 [00:02<00:00,  2.01it/s, loss=0.149]\n",
      "Training  : 100%|██████████| 6/6 [00:02<00:00,  2.01it/s, loss=0.149]\n",
      "Training  : 100%|██████████| 6/6 [00:03<00:00,  1.99it/s, loss=0.148]\n",
      "Training  : 100%|██████████| 6/6 [00:02<00:00,  2.03it/s, loss=0.135]\n",
      "Training  : 100%|██████████| 6/6 [00:02<00:00,  2.07it/s, loss=0.139] \n",
      "Training  : 100%|██████████| 6/6 [00:03<00:00,  1.97it/s, loss=0.126]\n",
      "Training  : 100%|██████████| 6/6 [00:02<00:00,  2.02it/s, loss=0.12] \n",
      "Training  : 100%|██████████| 6/6 [00:02<00:00,  2.02it/s, loss=0.143]\n",
      "Training  : 100%|██████████| 6/6 [00:03<00:00,  1.98it/s, loss=0.12]  \n",
      "Training  : 100%|██████████| 6/6 [00:02<00:00,  2.03it/s, loss=0.13]  \n",
      "Training  : 100%|██████████| 6/6 [00:02<00:00,  2.03it/s, loss=0.126]\n",
      "Training  : 100%|██████████| 6/6 [00:03<00:00,  1.98it/s, loss=0.107]\n",
      "Training  : 100%|██████████| 6/6 [00:02<00:00,  2.04it/s, loss=0.117]\n",
      "Training  : 100%|██████████| 6/6 [00:02<00:00,  2.01it/s, loss=0.118]\n",
      "Training  : 100%|██████████| 6/6 [00:02<00:00,  2.03it/s, loss=0.13] \n",
      "Training  : 100%|██████████| 6/6 [00:02<00:00,  2.06it/s, loss=0.126] \n",
      "Training  : 100%|██████████| 6/6 [00:02<00:00,  2.05it/s, loss=0.11]  \n",
      "Training  : 100%|██████████| 6/6 [00:03<00:00,  1.99it/s, loss=0.112] \n",
      "Training  : 100%|██████████| 6/6 [00:03<00:00,  1.93it/s, loss=0.111]\n",
      "Training  : 100%|██████████| 6/6 [00:02<00:00,  2.07it/s, loss=0.117] \n",
      "Training  : 100%|██████████| 6/6 [00:02<00:00,  2.05it/s, loss=0.117]\n",
      "Training  : 100%|██████████| 6/6 [00:02<00:00,  2.03it/s, loss=0.1]  \n",
      "Training  : 100%|██████████| 6/6 [00:02<00:00,  2.01it/s, loss=0.107]\n",
      "Training  : 100%|██████████| 6/6 [00:02<00:00,  2.06it/s, loss=0.12]  \n",
      "Training  : 100%|██████████| 6/6 [00:02<00:00,  2.06it/s, loss=0.0953]\n",
      "Training  : 100%|██████████| 6/6 [00:03<00:00,  1.99it/s, loss=0.11]  \n",
      "Training  : 100%|██████████| 6/6 [00:02<00:00,  2.04it/s, loss=0.107]\n",
      "Training  : 100%|██████████| 6/6 [00:02<00:00,  2.04it/s, loss=0.116] \n",
      "Training  : 100%|██████████| 6/6 [00:03<00:00,  1.98it/s, loss=0.108] \n",
      "Training  : 100%|██████████| 6/6 [00:02<00:00,  2.04it/s, loss=0.119] \n",
      "Training  : 100%|██████████| 6/6 [00:02<00:00,  2.03it/s, loss=0.113] \n",
      "Training  : 100%|██████████| 6/6 [00:03<00:00,  1.96it/s, loss=0.111]\n",
      "Training  : 100%|██████████| 6/6 [00:02<00:00,  2.03it/s, loss=0.115] \n",
      "Training  : 100%|██████████| 6/6 [00:02<00:00,  2.03it/s, loss=0.105] \n",
      "Training  : 100%|██████████| 6/6 [00:02<00:00,  2.04it/s, loss=0.103]\n",
      "Training  : 100%|██████████| 6/6 [00:02<00:00,  2.02it/s, loss=0.131] \n",
      "Training  : 100%|██████████| 6/6 [00:03<00:00,  1.99it/s, loss=0.108] \n",
      "Training  : 100%|██████████| 6/6 [00:02<00:00,  2.07it/s, loss=0.116] \n",
      "Training  : 100%|██████████| 6/6 [00:02<00:00,  2.03it/s, loss=0.11] \n",
      "Training  : 100%|██████████| 6/6 [00:02<00:00,  2.03it/s, loss=0.108]\n",
      "Training  : 100%|██████████| 6/6 [00:02<00:00,  2.06it/s, loss=0.108]\n",
      "Training  : 100%|██████████| 6/6 [00:03<00:00,  2.00it/s, loss=0.107] \n",
      "Training  : 100%|██████████| 6/6 [00:02<00:00,  2.05it/s, loss=0.115] \n",
      "Training  : 100%|██████████| 6/6 [00:02<00:00,  2.00it/s, loss=0.111] \n",
      "Training  : 100%|██████████| 6/6 [00:03<00:00,  1.99it/s, loss=0.106] \n",
      "Training  : 100%|██████████| 6/6 [00:02<00:00,  2.04it/s, loss=0.108]\n",
      "Training  : 100%|██████████| 6/6 [00:03<00:00,  1.96it/s, loss=0.101] \n",
      "Training  : 100%|██████████| 6/6 [00:02<00:00,  2.07it/s, loss=0.116] \n",
      "Training  : 100%|██████████| 6/6 [00:03<00:00,  1.99it/s, loss=0.0983]\n",
      "Training  : 100%|██████████| 6/6 [00:02<00:00,  2.05it/s, loss=0.121] \n",
      "Training  : 100%|██████████| 6/6 [00:02<00:00,  2.04it/s, loss=0.11]  \n",
      "Training  : 100%|██████████| 6/6 [00:02<00:00,  2.02it/s, loss=0.119] \n",
      "Training  : 100%|██████████| 6/6 [00:02<00:00,  2.02it/s, loss=0.104] \n",
      "Training  : 100%|██████████| 6/6 [00:02<00:00,  2.02it/s, loss=0.101]\n",
      "Predicting: 100%|██████████| 12/12 [00:01<00:00,  8.77it/s]\n"
     ]
    },
    {
     "name": "stdout",
     "output_type": "stream",
     "text": [
      "Building sklearn text classifier...\n",
      "Loading bert-base-uncased model...\n",
      "Defaulting to linear classifier/regressor\n",
      "Loading Pytorch checkpoint\n",
      "train data size: 178, validation data size: 0\n"
     ]
    },
    {
     "name": "stderr",
     "output_type": "stream",
     "text": [
      "Training  : 100%|██████████| 6/6 [00:03<00:00,  1.97it/s, loss=0.941]\n",
      "Training  : 100%|██████████| 6/6 [00:02<00:00,  2.02it/s, loss=0.713]\n",
      "Training  : 100%|██████████| 6/6 [00:02<00:00,  2.04it/s, loss=0.458]\n",
      "Training  : 100%|██████████| 6/6 [00:02<00:00,  2.03it/s, loss=0.313]\n",
      "Training  : 100%|██████████| 6/6 [00:02<00:00,  2.05it/s, loss=0.298]\n",
      "Training  : 100%|██████████| 6/6 [00:02<00:00,  2.01it/s, loss=0.233]\n",
      "Training  : 100%|██████████| 6/6 [00:02<00:00,  2.03it/s, loss=0.238]\n",
      "Training  : 100%|██████████| 6/6 [00:03<00:00,  2.00it/s, loss=0.262]\n",
      "Training  : 100%|██████████| 6/6 [00:02<00:00,  2.06it/s, loss=0.216]\n",
      "Training  : 100%|██████████| 6/6 [00:02<00:00,  2.06it/s, loss=0.224]\n",
      "Training  : 100%|██████████| 6/6 [00:02<00:00,  2.00it/s, loss=0.215]\n",
      "Training  : 100%|██████████| 6/6 [00:02<00:00,  2.01it/s, loss=0.219]\n",
      "Training  : 100%|██████████| 6/6 [00:03<00:00,  1.99it/s, loss=0.214]\n",
      "Training  : 100%|██████████| 6/6 [00:02<00:00,  2.01it/s, loss=0.231]\n",
      "Training  : 100%|██████████| 6/6 [00:02<00:00,  2.01it/s, loss=0.211]\n",
      "Training  : 100%|██████████| 6/6 [00:03<00:00,  1.98it/s, loss=0.197]\n",
      "Training  : 100%|██████████| 6/6 [00:02<00:00,  2.03it/s, loss=0.208]\n",
      "Training  : 100%|██████████| 6/6 [00:02<00:00,  2.02it/s, loss=0.172]\n",
      "Training  : 100%|██████████| 6/6 [00:02<00:00,  2.05it/s, loss=0.169]\n",
      "Training  : 100%|██████████| 6/6 [00:03<00:00,  1.96it/s, loss=0.148] \n",
      "Training  : 100%|██████████| 6/6 [00:02<00:00,  2.02it/s, loss=0.175]\n",
      "Training  : 100%|██████████| 6/6 [00:03<00:00,  1.98it/s, loss=0.14] \n",
      "Training  : 100%|██████████| 6/6 [00:03<00:00,  1.96it/s, loss=0.149]\n",
      "Training  : 100%|██████████| 6/6 [00:03<00:00,  1.97it/s, loss=0.158]\n",
      "Training  : 100%|██████████| 6/6 [00:02<00:00,  2.03it/s, loss=0.129]\n",
      "Training  : 100%|██████████| 6/6 [00:02<00:00,  2.00it/s, loss=0.146] \n",
      "Training  : 100%|██████████| 6/6 [00:02<00:00,  2.02it/s, loss=0.133]\n",
      "Training  : 100%|██████████| 6/6 [00:02<00:00,  2.01it/s, loss=0.123]\n",
      "Training  : 100%|██████████| 6/6 [00:02<00:00,  2.03it/s, loss=0.143]\n",
      "Training  : 100%|██████████| 6/6 [00:03<00:00,  1.99it/s, loss=0.132] \n",
      "Training  : 100%|██████████| 6/6 [00:03<00:00,  1.96it/s, loss=0.135] \n",
      "Training  : 100%|██████████| 6/6 [00:02<00:00,  2.02it/s, loss=0.118]\n",
      "Training  : 100%|██████████| 6/6 [00:02<00:00,  2.05it/s, loss=0.115]\n",
      "Training  : 100%|██████████| 6/6 [00:02<00:00,  2.03it/s, loss=0.12]  \n",
      "Training  : 100%|██████████| 6/6 [00:02<00:00,  2.01it/s, loss=0.109]\n",
      "Training  : 100%|██████████| 6/6 [00:03<00:00,  1.99it/s, loss=0.115] \n",
      "Training  : 100%|██████████| 6/6 [00:03<00:00,  1.98it/s, loss=0.125]\n",
      "Training  : 100%|██████████| 6/6 [00:02<00:00,  2.04it/s, loss=0.122] \n",
      "Training  : 100%|██████████| 6/6 [00:02<00:00,  2.04it/s, loss=0.118] \n",
      "Training  : 100%|██████████| 6/6 [00:02<00:00,  2.06it/s, loss=0.112]\n",
      "Training  : 100%|██████████| 6/6 [00:02<00:00,  2.02it/s, loss=0.118] \n",
      "Training  : 100%|██████████| 6/6 [00:02<00:00,  2.04it/s, loss=0.113] \n",
      "Training  : 100%|██████████| 6/6 [00:03<00:00,  1.99it/s, loss=0.105]\n",
      "Training  : 100%|██████████| 6/6 [00:02<00:00,  2.06it/s, loss=0.114]\n",
      "Training  : 100%|██████████| 6/6 [00:02<00:00,  2.03it/s, loss=0.104]\n",
      "Training  : 100%|██████████| 6/6 [00:02<00:00,  2.01it/s, loss=0.115] \n",
      "Training  : 100%|██████████| 6/6 [00:02<00:00,  2.06it/s, loss=0.109] \n",
      "Training  : 100%|██████████| 6/6 [00:03<00:00,  1.98it/s, loss=0.108]\n",
      "Training  : 100%|██████████| 6/6 [00:02<00:00,  2.08it/s, loss=0.106] \n",
      "Training  : 100%|██████████| 6/6 [00:02<00:00,  2.05it/s, loss=0.104] \n",
      "Training  : 100%|██████████| 6/6 [00:02<00:00,  2.03it/s, loss=0.105] \n",
      "Training  : 100%|██████████| 6/6 [00:02<00:00,  2.07it/s, loss=0.127] \n",
      "Training  : 100%|██████████| 6/6 [00:02<00:00,  2.04it/s, loss=0.109] \n",
      "Training  : 100%|██████████| 6/6 [00:02<00:00,  2.04it/s, loss=0.123]\n",
      "Training  : 100%|██████████| 6/6 [00:02<00:00,  2.03it/s, loss=0.113] \n",
      "Training  : 100%|██████████| 6/6 [00:02<00:00,  2.04it/s, loss=0.112] \n",
      "Training  : 100%|██████████| 6/6 [00:02<00:00,  2.05it/s, loss=0.117]\n",
      "Training  : 100%|██████████| 6/6 [00:03<00:00,  2.00it/s, loss=0.105] \n",
      "Training  : 100%|██████████| 6/6 [00:02<00:00,  2.07it/s, loss=0.114] \n",
      "Training  : 100%|██████████| 6/6 [00:02<00:00,  2.05it/s, loss=0.118]\n",
      "Training  : 100%|██████████| 6/6 [00:03<00:00,  2.00it/s, loss=0.107]\n",
      "Training  : 100%|██████████| 6/6 [00:02<00:00,  2.05it/s, loss=0.11] \n",
      "Training  : 100%|██████████| 6/6 [00:02<00:00,  2.06it/s, loss=0.104] \n",
      "Training  : 100%|██████████| 6/6 [00:02<00:00,  2.05it/s, loss=0.104] \n",
      "Training  : 100%|██████████| 6/6 [00:02<00:00,  2.03it/s, loss=0.113] \n",
      "Training  : 100%|██████████| 6/6 [00:02<00:00,  2.04it/s, loss=0.11] \n",
      "Training  : 100%|██████████| 6/6 [00:03<00:00,  1.99it/s, loss=0.0952]\n",
      "Training  : 100%|██████████| 6/6 [00:03<00:00,  2.00it/s, loss=0.108] \n",
      "Training  : 100%|██████████| 6/6 [00:03<00:00,  1.97it/s, loss=0.115] \n",
      "Training  : 100%|██████████| 6/6 [00:02<00:00,  2.01it/s, loss=0.104]\n",
      "Training  : 100%|██████████| 6/6 [00:02<00:00,  2.03it/s, loss=0.114] \n",
      "Training  : 100%|██████████| 6/6 [00:02<00:00,  2.06it/s, loss=0.131]\n",
      "Training  : 100%|██████████| 6/6 [00:02<00:00,  2.02it/s, loss=0.117] \n",
      "Training  : 100%|██████████| 6/6 [00:02<00:00,  2.04it/s, loss=0.115] \n",
      "Training  : 100%|██████████| 6/6 [00:02<00:00,  2.00it/s, loss=0.108] \n",
      "Predicting: 100%|██████████| 12/12 [00:01<00:00,  8.51it/s]\n"
     ]
    },
    {
     "name": "stdout",
     "output_type": "stream",
     "text": [
      "Building sklearn text classifier...\n",
      "Loading bert-base-uncased model...\n",
      "Defaulting to linear classifier/regressor\n",
      "Loading Pytorch checkpoint\n",
      "train data size: 178, validation data size: 0\n"
     ]
    },
    {
     "name": "stderr",
     "output_type": "stream",
     "text": [
      "Training  : 100%|██████████| 6/6 [00:03<00:00,  1.99it/s, loss=0.924]\n",
      "Training  : 100%|██████████| 6/6 [00:02<00:00,  2.02it/s, loss=0.608]\n",
      "Training  : 100%|██████████| 6/6 [00:02<00:00,  2.04it/s, loss=0.367]\n",
      "Training  : 100%|██████████| 6/6 [00:02<00:00,  2.01it/s, loss=0.288]\n",
      "Training  : 100%|██████████| 6/6 [00:02<00:00,  2.01it/s, loss=0.221]\n",
      "Training  : 100%|██████████| 6/6 [00:02<00:00,  2.05it/s, loss=0.241]\n",
      "Training  : 100%|██████████| 6/6 [00:03<00:00,  1.96it/s, loss=0.247]\n",
      "Training  : 100%|██████████| 6/6 [00:02<00:00,  2.05it/s, loss=0.198]\n",
      "Training  : 100%|██████████| 6/6 [00:02<00:00,  2.04it/s, loss=0.177]\n",
      "Training  : 100%|██████████| 6/6 [00:02<00:00,  2.02it/s, loss=0.163] \n",
      "Training  : 100%|██████████| 6/6 [00:02<00:00,  2.04it/s, loss=0.205]\n",
      "Training  : 100%|██████████| 6/6 [00:03<00:00,  1.93it/s, loss=0.131] \n",
      "Training  : 100%|██████████| 6/6 [00:02<00:00,  2.04it/s, loss=0.0991]\n",
      "Training  : 100%|██████████| 6/6 [00:03<00:00,  1.94it/s, loss=0.117]\n",
      "Training  : 100%|██████████| 6/6 [00:02<00:00,  2.06it/s, loss=0.102]\n",
      "Training  : 100%|██████████| 6/6 [00:02<00:00,  2.05it/s, loss=0.11]  \n",
      "Training  : 100%|██████████| 6/6 [00:02<00:00,  2.05it/s, loss=0.103] \n",
      "Training  : 100%|██████████| 6/6 [00:03<00:00,  2.00it/s, loss=0.105] \n",
      "Training  : 100%|██████████| 6/6 [00:02<00:00,  2.04it/s, loss=0.0959]\n",
      "Training  : 100%|██████████| 6/6 [00:02<00:00,  2.04it/s, loss=0.113] \n",
      "Training  : 100%|██████████| 6/6 [00:02<00:00,  2.03it/s, loss=0.0909]\n",
      "Training  : 100%|██████████| 6/6 [00:02<00:00,  2.07it/s, loss=0.0838]\n",
      "Training  : 100%|██████████| 6/6 [00:02<00:00,  2.03it/s, loss=0.0756]\n",
      "Training  : 100%|██████████| 6/6 [00:02<00:00,  2.02it/s, loss=0.0761]\n",
      "Training  : 100%|██████████| 6/6 [00:03<00:00,  2.00it/s, loss=0.0727] \n",
      "Training  : 100%|██████████| 6/6 [00:02<00:00,  2.04it/s, loss=0.0712]\n",
      "Training  : 100%|██████████| 6/6 [00:02<00:00,  2.04it/s, loss=0.082] \n",
      "Training  : 100%|██████████| 6/6 [00:02<00:00,  2.04it/s, loss=0.0687]\n",
      "Training  : 100%|██████████| 6/6 [00:03<00:00,  1.96it/s, loss=0.0754] \n",
      "Training  : 100%|██████████| 6/6 [00:02<00:00,  2.04it/s, loss=0.0644]\n",
      "Training  : 100%|██████████| 6/6 [00:02<00:00,  2.03it/s, loss=0.0691]\n",
      "Training  : 100%|██████████| 6/6 [00:02<00:00,  2.03it/s, loss=0.0683]\n",
      "Training  : 100%|██████████| 6/6 [00:02<00:00,  2.02it/s, loss=0.0657]\n",
      "Training  : 100%|██████████| 6/6 [00:02<00:00,  2.04it/s, loss=0.0841]\n",
      "Training  : 100%|██████████| 6/6 [00:02<00:00,  2.04it/s, loss=0.0677]\n",
      "Training  : 100%|██████████| 6/6 [00:03<00:00,  1.98it/s, loss=0.0825]\n",
      "Training  : 100%|██████████| 6/6 [00:02<00:00,  2.02it/s, loss=0.0734]\n",
      "Training  : 100%|██████████| 6/6 [00:03<00:00,  1.99it/s, loss=0.0707] \n",
      "Training  : 100%|██████████| 6/6 [00:02<00:00,  2.00it/s, loss=0.0637]\n",
      "Training  : 100%|██████████| 6/6 [00:02<00:00,  2.03it/s, loss=0.0693]\n",
      "Training  : 100%|██████████| 6/6 [00:03<00:00,  2.00it/s, loss=0.0635]\n",
      "Training  : 100%|██████████| 6/6 [00:02<00:00,  2.04it/s, loss=0.0676]\n",
      "Training  : 100%|██████████| 6/6 [00:02<00:00,  2.05it/s, loss=0.0644]\n",
      "Training  : 100%|██████████| 6/6 [00:02<00:00,  2.01it/s, loss=0.0639]\n",
      "Training  : 100%|██████████| 6/6 [00:02<00:00,  2.02it/s, loss=0.0652]\n",
      "Training  : 100%|██████████| 6/6 [00:02<00:00,  2.03it/s, loss=0.0643]\n",
      "Training  : 100%|██████████| 6/6 [00:03<00:00,  1.99it/s, loss=0.0626]\n",
      "Training  : 100%|██████████| 6/6 [00:02<00:00,  2.02it/s, loss=0.0658] \n",
      "Training  : 100%|██████████| 6/6 [00:02<00:00,  2.02it/s, loss=0.0799]\n",
      "Training  : 100%|██████████| 6/6 [00:03<00:00,  1.98it/s, loss=0.0589]\n",
      "Training  : 100%|██████████| 6/6 [00:02<00:00,  2.01it/s, loss=0.0821]\n",
      "Training  : 100%|██████████| 6/6 [00:02<00:00,  2.03it/s, loss=0.0614]\n",
      "Training  : 100%|██████████| 6/6 [00:02<00:00,  2.05it/s, loss=0.0679]\n",
      "Training  : 100%|██████████| 6/6 [00:02<00:00,  2.04it/s, loss=0.0742]\n",
      "Training  : 100%|██████████| 6/6 [00:02<00:00,  2.06it/s, loss=0.0632]\n",
      "Training  : 100%|██████████| 6/6 [00:02<00:00,  2.06it/s, loss=0.0598]\n",
      "Training  : 100%|██████████| 6/6 [00:02<00:00,  2.06it/s, loss=0.0784]\n",
      "Training  : 100%|██████████| 6/6 [00:02<00:00,  2.04it/s, loss=0.0645]\n",
      "Training  : 100%|██████████| 6/6 [00:03<00:00,  1.98it/s, loss=0.063] \n",
      "Training  : 100%|██████████| 6/6 [00:02<00:00,  2.04it/s, loss=0.0626]\n",
      "Training  : 100%|██████████| 6/6 [00:02<00:00,  2.02it/s, loss=0.0605]\n",
      "Training  : 100%|██████████| 6/6 [00:02<00:00,  2.01it/s, loss=0.0662]\n",
      "Training  : 100%|██████████| 6/6 [00:02<00:00,  2.05it/s, loss=0.0595]\n",
      "Training  : 100%|██████████| 6/6 [00:02<00:00,  2.05it/s, loss=0.0659]\n",
      "Training  : 100%|██████████| 6/6 [00:03<00:00,  1.99it/s, loss=0.0595]\n",
      "Training  : 100%|██████████| 6/6 [00:02<00:00,  2.05it/s, loss=0.0609]\n",
      "Training  : 100%|██████████| 6/6 [00:02<00:00,  2.07it/s, loss=0.0616]\n",
      "Training  : 100%|██████████| 6/6 [00:02<00:00,  2.04it/s, loss=0.0574]\n",
      "Training  : 100%|██████████| 6/6 [00:02<00:00,  2.03it/s, loss=0.0742]\n",
      "Training  : 100%|██████████| 6/6 [00:02<00:00,  2.03it/s, loss=0.0611]\n",
      "Training  : 100%|██████████| 6/6 [00:02<00:00,  2.02it/s, loss=0.0612] \n",
      "Training  : 100%|██████████| 6/6 [00:02<00:00,  2.02it/s, loss=0.0611]\n",
      "Training  : 100%|██████████| 6/6 [00:02<00:00,  2.03it/s, loss=0.0612]\n",
      "Training  : 100%|██████████| 6/6 [00:02<00:00,  2.01it/s, loss=0.0609] \n",
      "Training  : 100%|██████████| 6/6 [00:02<00:00,  2.04it/s, loss=0.0605]\n",
      "Training  : 100%|██████████| 6/6 [00:02<00:00,  2.04it/s, loss=0.0752]\n",
      "Training  : 100%|██████████| 6/6 [00:02<00:00,  2.04it/s, loss=0.0624]\n",
      "Training  : 100%|██████████| 6/6 [00:02<00:00,  2.05it/s, loss=0.0794]\n",
      "Training  : 100%|██████████| 6/6 [00:02<00:00,  2.04it/s, loss=0.0695]\n",
      "Training  : 100%|██████████| 6/6 [00:02<00:00,  2.01it/s, loss=0.0561]\n",
      "Training  : 100%|██████████| 6/6 [00:02<00:00,  2.01it/s, loss=0.0577] \n",
      "Training  : 100%|██████████| 6/6 [00:03<00:00,  2.00it/s, loss=0.0627]\n",
      "Training  : 100%|██████████| 6/6 [00:02<00:00,  2.02it/s, loss=0.0598]\n",
      "Training  : 100%|██████████| 6/6 [00:02<00:00,  2.02it/s, loss=0.0599]\n",
      "Training  : 100%|██████████| 6/6 [00:02<00:00,  2.02it/s, loss=0.058] \n",
      "Training  : 100%|██████████| 6/6 [00:02<00:00,  2.01it/s, loss=0.0634]\n",
      "Training  : 100%|██████████| 6/6 [00:02<00:00,  2.02it/s, loss=0.064] \n",
      "Training  : 100%|██████████| 6/6 [00:02<00:00,  2.00it/s, loss=0.0644]\n",
      "Training  : 100%|██████████| 6/6 [00:02<00:00,  2.04it/s, loss=0.0766]\n",
      "Training  : 100%|██████████| 6/6 [00:02<00:00,  2.02it/s, loss=0.0635]\n",
      "Training  : 100%|██████████| 6/6 [00:02<00:00,  2.00it/s, loss=0.0578] \n",
      "Training  : 100%|██████████| 6/6 [00:02<00:00,  2.06it/s, loss=0.0598] \n",
      "Training  : 100%|██████████| 6/6 [00:02<00:00,  2.03it/s, loss=0.0624]\n",
      "Training  : 100%|██████████| 6/6 [00:02<00:00,  2.03it/s, loss=0.058] \n",
      "Training  : 100%|██████████| 6/6 [00:02<00:00,  2.01it/s, loss=0.066] \n",
      "Training  : 100%|██████████| 6/6 [00:02<00:00,  2.01it/s, loss=0.0643]\n",
      "Training  : 100%|██████████| 6/6 [00:02<00:00,  2.03it/s, loss=0.059] \n",
      "Training  : 100%|██████████| 6/6 [00:02<00:00,  2.03it/s, loss=0.0596]\n",
      "Training  : 100%|██████████| 6/6 [00:03<00:00,  1.97it/s, loss=0.0629]\n",
      "Training  : 100%|██████████| 6/6 [00:02<00:00,  2.01it/s, loss=0.057] \n",
      "Predicting: 100%|██████████| 12/12 [00:01<00:00,  8.07it/s]\n"
     ]
    },
    {
     "name": "stdout",
     "output_type": "stream",
     "text": [
      "Building sklearn text classifier...\n",
      "Loading bert-base-uncased model...\n",
      "Defaulting to linear classifier/regressor\n",
      "Loading Pytorch checkpoint\n",
      "train data size: 178, validation data size: 0\n"
     ]
    },
    {
     "name": "stderr",
     "output_type": "stream",
     "text": [
      "Training  : 100%|██████████| 6/6 [00:03<00:00,  1.98it/s, loss=0.923]\n",
      "Training  : 100%|██████████| 6/6 [00:03<00:00,  2.00it/s, loss=0.609]\n",
      "Training  : 100%|██████████| 6/6 [00:02<00:00,  2.01it/s, loss=0.354]\n",
      "Training  : 100%|██████████| 6/6 [00:02<00:00,  2.03it/s, loss=0.264]\n",
      "Training  : 100%|██████████| 6/6 [00:03<00:00,  2.00it/s, loss=0.234]\n",
      "Training  : 100%|██████████| 6/6 [00:03<00:00,  1.99it/s, loss=0.21]  \n",
      "Training  : 100%|██████████| 6/6 [00:02<00:00,  2.01it/s, loss=0.248]\n",
      "Training  : 100%|██████████| 6/6 [00:02<00:00,  2.00it/s, loss=0.215]\n",
      "Training  : 100%|██████████| 6/6 [00:02<00:00,  2.01it/s, loss=0.225]\n",
      "Training  : 100%|██████████| 6/6 [00:02<00:00,  2.01it/s, loss=0.241]\n",
      "Training  : 100%|██████████| 6/6 [00:03<00:00,  1.99it/s, loss=0.243]\n",
      "Training  : 100%|██████████| 6/6 [00:03<00:00,  1.99it/s, loss=0.196]\n",
      "Training  : 100%|██████████| 6/6 [00:02<00:00,  2.00it/s, loss=0.203]\n",
      "Training  : 100%|██████████| 6/6 [00:02<00:00,  2.01it/s, loss=0.197] \n",
      "Training  : 100%|██████████| 6/6 [00:02<00:00,  2.01it/s, loss=0.179]\n",
      "Training  : 100%|██████████| 6/6 [00:02<00:00,  2.03it/s, loss=0.156]\n",
      "Training  : 100%|██████████| 6/6 [00:02<00:00,  2.01it/s, loss=0.162]\n",
      "Training  : 100%|██████████| 6/6 [00:03<00:00,  1.98it/s, loss=0.139] \n",
      "Training  : 100%|██████████| 6/6 [00:03<00:00,  2.00it/s, loss=0.123]\n",
      "Training  : 100%|██████████| 6/6 [00:02<00:00,  2.02it/s, loss=0.134] \n",
      "Training  : 100%|██████████| 6/6 [00:02<00:00,  2.00it/s, loss=0.134] \n",
      "Training  : 100%|██████████| 6/6 [00:03<00:00,  1.97it/s, loss=0.128] \n",
      "Training  : 100%|██████████| 6/6 [00:02<00:00,  2.01it/s, loss=0.127]\n",
      "Training  : 100%|██████████| 6/6 [00:03<00:00,  1.99it/s, loss=0.118] \n",
      "Training  : 100%|██████████| 6/6 [00:03<00:00,  2.00it/s, loss=0.114] \n",
      "Training  : 100%|██████████| 6/6 [00:03<00:00,  1.98it/s, loss=0.114] \n",
      "Training  : 100%|██████████| 6/6 [00:02<00:00,  2.00it/s, loss=0.107] \n",
      "Training  : 100%|██████████| 6/6 [00:03<00:00,  1.97it/s, loss=0.115]\n",
      "Training  : 100%|██████████| 6/6 [00:03<00:00,  1.98it/s, loss=0.115] \n",
      "Training  : 100%|██████████| 6/6 [00:02<00:00,  2.00it/s, loss=0.116]\n",
      "Training  : 100%|██████████| 6/6 [00:03<00:00,  1.99it/s, loss=0.107] \n",
      "Training  : 100%|██████████| 6/6 [00:03<00:00,  2.00it/s, loss=0.104] \n",
      "Training  : 100%|██████████| 6/6 [00:02<00:00,  2.00it/s, loss=0.107]\n",
      "Training  : 100%|██████████| 6/6 [00:03<00:00,  1.99it/s, loss=0.111] \n",
      "Training  : 100%|██████████| 6/6 [00:02<00:00,  2.01it/s, loss=0.112]\n",
      "Training  : 100%|██████████| 6/6 [00:03<00:00,  1.95it/s, loss=0.137]\n",
      "Training  : 100%|██████████| 6/6 [00:03<00:00,  1.98it/s, loss=0.119] \n",
      "Training  : 100%|██████████| 6/6 [00:03<00:00,  1.97it/s, loss=0.0982]\n",
      "Training  : 100%|██████████| 6/6 [00:02<00:00,  2.02it/s, loss=0.107] \n",
      "Training  : 100%|██████████| 6/6 [00:02<00:00,  2.03it/s, loss=0.126]\n",
      "Training  : 100%|██████████| 6/6 [00:02<00:00,  2.00it/s, loss=0.119] \n",
      "Training  : 100%|██████████| 6/6 [00:02<00:00,  2.01it/s, loss=0.117]\n",
      "Training  : 100%|██████████| 6/6 [00:03<00:00,  2.00it/s, loss=0.106]\n",
      "Training  : 100%|██████████| 6/6 [00:03<00:00,  1.99it/s, loss=0.109] \n",
      "Training  : 100%|██████████| 6/6 [00:02<00:00,  2.02it/s, loss=0.118] \n",
      "Training  : 100%|██████████| 6/6 [00:02<00:00,  2.02it/s, loss=0.103]\n",
      "Training  : 100%|██████████| 6/6 [00:03<00:00,  1.94it/s, loss=0.107] \n",
      "Training  : 100%|██████████| 6/6 [00:02<00:00,  2.02it/s, loss=0.104]\n",
      "Training  : 100%|██████████| 6/6 [00:02<00:00,  2.01it/s, loss=0.118]\n",
      "Training  : 100%|██████████| 6/6 [00:03<00:00,  1.99it/s, loss=0.109] \n",
      "Training  : 100%|██████████| 6/6 [00:02<00:00,  2.00it/s, loss=0.118] \n",
      "Training  : 100%|██████████| 6/6 [00:02<00:00,  2.03it/s, loss=0.115] \n",
      "Training  : 100%|██████████| 6/6 [00:02<00:00,  2.02it/s, loss=0.106]\n",
      "Training  : 100%|██████████| 6/6 [00:02<00:00,  2.02it/s, loss=0.113] \n",
      "Training  : 100%|██████████| 6/6 [00:02<00:00,  2.01it/s, loss=0.111] \n",
      "Training  : 100%|██████████| 6/6 [00:02<00:00,  2.01it/s, loss=0.104]\n",
      "Training  : 100%|██████████| 6/6 [00:03<00:00,  1.96it/s, loss=0.126] \n",
      "Training  : 100%|██████████| 6/6 [00:03<00:00,  2.00it/s, loss=0.101] \n",
      "Training  : 100%|██████████| 6/6 [00:02<00:00,  2.01it/s, loss=0.128] \n",
      "Training  : 100%|██████████| 6/6 [00:02<00:00,  2.00it/s, loss=0.109]\n",
      "Training  : 100%|██████████| 6/6 [00:02<00:00,  2.01it/s, loss=0.0979]\n",
      "Training  : 100%|██████████| 6/6 [00:03<00:00,  2.00it/s, loss=0.0982]\n",
      "Training  : 100%|██████████| 6/6 [00:02<00:00,  2.01it/s, loss=0.114] \n",
      "Training  : 100%|██████████| 6/6 [00:02<00:00,  2.03it/s, loss=0.106] \n",
      "Training  : 100%|██████████| 6/6 [00:03<00:00,  2.00it/s, loss=0.113] \n",
      "Training  : 100%|██████████| 6/6 [00:02<00:00,  2.01it/s, loss=0.102] \n",
      "Training  : 100%|██████████| 6/6 [00:03<00:00,  1.99it/s, loss=0.0964]\n",
      "Training  : 100%|██████████| 6/6 [00:02<00:00,  2.00it/s, loss=0.0931]\n",
      "Training  : 100%|██████████| 6/6 [00:03<00:00,  1.93it/s, loss=0.118] \n",
      "Training  : 100%|██████████| 6/6 [00:02<00:00,  2.05it/s, loss=0.098]\n",
      "Training  : 100%|██████████| 6/6 [00:02<00:00,  2.03it/s, loss=0.115] \n",
      "Training  : 100%|██████████| 6/6 [00:02<00:00,  2.02it/s, loss=0.109] \n",
      "Training  : 100%|██████████| 6/6 [00:02<00:00,  2.03it/s, loss=0.123] \n",
      "Training  : 100%|██████████| 6/6 [00:02<00:00,  2.04it/s, loss=0.103] \n",
      "Training  : 100%|██████████| 6/6 [00:02<00:00,  2.03it/s, loss=0.101] \n",
      "Training  : 100%|██████████| 6/6 [00:02<00:00,  2.01it/s, loss=0.127] \n",
      "Training  : 100%|██████████| 6/6 [00:02<00:00,  2.01it/s, loss=0.111] \n",
      "Training  : 100%|██████████| 6/6 [00:02<00:00,  2.02it/s, loss=0.122] \n",
      "Training  : 100%|██████████| 6/6 [00:02<00:00,  2.01it/s, loss=0.102] \n",
      "Training  : 100%|██████████| 6/6 [00:02<00:00,  2.01it/s, loss=0.106]\n",
      "Training  : 100%|██████████| 6/6 [00:03<00:00,  1.96it/s, loss=0.103] \n",
      "Training  : 100%|██████████| 6/6 [00:02<00:00,  2.03it/s, loss=0.0983]\n",
      "Training  : 100%|██████████| 6/6 [00:03<00:00,  1.99it/s, loss=0.0936]\n",
      "Training  : 100%|██████████| 6/6 [00:02<00:00,  2.03it/s, loss=0.111] \n",
      "Training  : 100%|██████████| 6/6 [00:03<00:00,  1.99it/s, loss=0.107] \n",
      "Training  : 100%|██████████| 6/6 [00:03<00:00,  1.99it/s, loss=0.101]\n",
      "Training  : 100%|██████████| 6/6 [00:03<00:00,  1.99it/s, loss=0.122] \n",
      "Training  : 100%|██████████| 6/6 [00:03<00:00,  1.99it/s, loss=0.108] \n",
      "Training  : 100%|██████████| 6/6 [00:02<00:00,  2.02it/s, loss=0.111] \n",
      "Training  : 100%|██████████| 6/6 [00:03<00:00,  1.99it/s, loss=0.107] \n",
      "Training  : 100%|██████████| 6/6 [00:02<00:00,  2.03it/s, loss=0.111] \n",
      "Training  : 100%|██████████| 6/6 [00:03<00:00,  1.99it/s, loss=0.103] \n",
      "Training  : 100%|██████████| 6/6 [00:02<00:00,  2.01it/s, loss=0.0988]\n",
      "Training  : 100%|██████████| 6/6 [00:02<00:00,  2.02it/s, loss=0.114] \n",
      "Training  : 100%|██████████| 6/6 [00:02<00:00,  2.02it/s, loss=0.106] \n",
      "Training  : 100%|██████████| 6/6 [00:03<00:00,  1.98it/s, loss=0.108] \n",
      "Training  : 100%|██████████| 6/6 [00:02<00:00,  2.01it/s, loss=0.0972]\n",
      "Training  : 100%|██████████| 6/6 [00:03<00:00,  1.93it/s, loss=0.11] \n",
      "Training  : 100%|██████████| 6/6 [00:02<00:00,  2.02it/s, loss=0.115] \n",
      "Training  : 100%|██████████| 6/6 [00:02<00:00,  2.00it/s, loss=0.114] \n",
      "Predicting: 100%|██████████| 12/12 [00:01<00:00,  8.31it/s]\n"
     ]
    },
    {
     "name": "stdout",
     "output_type": "stream",
     "text": [
      "Building sklearn text classifier...\n",
      "Loading bert-base-uncased model...\n",
      "Defaulting to linear classifier/regressor\n",
      "Loading Pytorch checkpoint\n",
      "train data size: 178, validation data size: 0\n"
     ]
    },
    {
     "name": "stderr",
     "output_type": "stream",
     "text": [
      "Training  : 100%|██████████| 6/6 [00:02<00:00,  2.00it/s, loss=0.929]\n",
      "Training  : 100%|██████████| 6/6 [00:03<00:00,  1.99it/s, loss=0.631]\n",
      "Training  : 100%|██████████| 6/6 [00:03<00:00,  2.00it/s, loss=0.4]  \n",
      "Training  : 100%|██████████| 6/6 [00:03<00:00,  1.99it/s, loss=0.295]\n",
      "Training  : 100%|██████████| 6/6 [00:03<00:00,  1.95it/s, loss=0.258]\n",
      "Training  : 100%|██████████| 6/6 [00:02<00:00,  2.02it/s, loss=0.228] \n",
      "Training  : 100%|██████████| 6/6 [00:02<00:00,  2.01it/s, loss=0.235]\n",
      "Training  : 100%|██████████| 6/6 [00:02<00:00,  2.01it/s, loss=0.252]\n",
      "Training  : 100%|██████████| 6/6 [00:03<00:00,  1.99it/s, loss=0.211]\n",
      "Training  : 100%|██████████| 6/6 [00:03<00:00,  1.98it/s, loss=0.237]\n",
      "Training  : 100%|██████████| 6/6 [00:02<00:00,  2.00it/s, loss=0.229]\n",
      "Training  : 100%|██████████| 6/6 [00:03<00:00,  2.00it/s, loss=0.216]\n",
      "Training  : 100%|██████████| 6/6 [00:03<00:00,  2.00it/s, loss=0.219]\n",
      "Training  : 100%|██████████| 6/6 [00:02<00:00,  2.03it/s, loss=0.213]\n",
      "Training  : 100%|██████████| 6/6 [00:02<00:00,  2.00it/s, loss=0.178] \n",
      "Training  : 100%|██████████| 6/6 [00:02<00:00,  2.00it/s, loss=0.171]\n",
      "Training  : 100%|██████████| 6/6 [00:02<00:00,  2.02it/s, loss=0.158]\n",
      "Training  : 100%|██████████| 6/6 [00:03<00:00,  1.98it/s, loss=0.133] \n",
      "Training  : 100%|██████████| 6/6 [00:02<00:00,  2.01it/s, loss=0.125]\n",
      "Training  : 100%|██████████| 6/6 [00:02<00:00,  2.01it/s, loss=0.12]  \n",
      "Training  : 100%|██████████| 6/6 [00:02<00:00,  2.02it/s, loss=0.135]\n",
      "Training  : 100%|██████████| 6/6 [00:02<00:00,  2.01it/s, loss=0.103] \n",
      "Training  : 100%|██████████| 6/6 [00:03<00:00,  2.00it/s, loss=0.141]\n",
      "Training  : 100%|██████████| 6/6 [00:02<00:00,  2.02it/s, loss=0.138]\n",
      "Training  : 100%|██████████| 6/6 [00:03<00:00,  1.99it/s, loss=0.116]\n",
      "Training  : 100%|██████████| 6/6 [00:02<00:00,  2.00it/s, loss=0.12]  \n",
      "Training  : 100%|██████████| 6/6 [00:02<00:00,  2.00it/s, loss=0.109] \n",
      "Training  : 100%|██████████| 6/6 [00:02<00:00,  2.03it/s, loss=0.112]\n",
      "Training  : 100%|██████████| 6/6 [00:03<00:00,  2.00it/s, loss=0.113]\n",
      "Training  : 100%|██████████| 6/6 [00:03<00:00,  1.98it/s, loss=0.115] \n",
      "Training  : 100%|██████████| 6/6 [00:03<00:00,  1.96it/s, loss=0.108] \n",
      "Training  : 100%|██████████| 6/6 [00:02<00:00,  2.01it/s, loss=0.117] \n",
      "Training  : 100%|██████████| 6/6 [00:03<00:00,  2.00it/s, loss=0.104] \n",
      "Training  : 100%|██████████| 6/6 [00:02<00:00,  2.03it/s, loss=0.105] \n",
      "Training  : 100%|██████████| 6/6 [00:02<00:00,  2.01it/s, loss=0.102]\n",
      "Training  : 100%|██████████| 6/6 [00:02<00:00,  2.02it/s, loss=0.114]\n",
      "Training  : 100%|██████████| 6/6 [00:02<00:00,  2.00it/s, loss=0.113] \n",
      "Training  : 100%|██████████| 6/6 [00:03<00:00,  1.99it/s, loss=0.117] \n",
      "Training  : 100%|██████████| 6/6 [00:02<00:00,  2.02it/s, loss=0.111] \n",
      "Training  : 100%|██████████| 6/6 [00:03<00:00,  1.99it/s, loss=0.117]\n",
      "Training  : 100%|██████████| 6/6 [00:02<00:00,  2.00it/s, loss=0.117] \n",
      "Training  : 100%|██████████| 6/6 [00:02<00:00,  2.02it/s, loss=0.112] \n",
      "Training  : 100%|██████████| 6/6 [00:03<00:00,  1.99it/s, loss=0.104]\n",
      "Training  : 100%|██████████| 6/6 [00:02<00:00,  2.01it/s, loss=0.102]\n",
      "Training  : 100%|██████████| 6/6 [00:02<00:00,  2.01it/s, loss=0.102]\n",
      "Training  : 100%|██████████| 6/6 [00:02<00:00,  2.02it/s, loss=0.103] \n",
      "Training  : 100%|██████████| 6/6 [00:02<00:00,  2.01it/s, loss=0.108] \n",
      "Training  : 100%|██████████| 6/6 [00:03<00:00,  1.99it/s, loss=0.103]\n",
      "Training  : 100%|██████████| 6/6 [00:03<00:00,  2.00it/s, loss=0.113] \n",
      "Training  : 100%|██████████| 6/6 [00:02<00:00,  2.01it/s, loss=0.107]\n",
      "Training  : 100%|██████████| 6/6 [00:03<00:00,  2.00it/s, loss=0.106] \n",
      "Training  : 100%|██████████| 6/6 [00:03<00:00,  2.00it/s, loss=0.126] \n",
      "Training  : 100%|██████████| 6/6 [00:02<00:00,  2.01it/s, loss=0.107] \n",
      "Training  : 100%|██████████| 6/6 [00:03<00:00,  2.00it/s, loss=0.116] \n",
      "Training  : 100%|██████████| 6/6 [00:03<00:00,  2.00it/s, loss=0.107] \n",
      "Training  : 100%|██████████| 6/6 [00:03<00:00,  2.00it/s, loss=0.116] \n",
      "Training  : 100%|██████████| 6/6 [00:03<00:00,  2.00it/s, loss=0.111] \n",
      "Training  : 100%|██████████| 6/6 [00:03<00:00,  1.94it/s, loss=0.106]\n",
      "Training  : 100%|██████████| 6/6 [00:02<00:00,  2.04it/s, loss=0.117] \n",
      "Training  : 100%|██████████| 6/6 [00:02<00:00,  2.03it/s, loss=0.114]\n",
      "Training  : 100%|██████████| 6/6 [00:02<00:00,  2.02it/s, loss=0.104]\n",
      "Training  : 100%|██████████| 6/6 [00:02<00:00,  2.03it/s, loss=0.109]\n",
      "Training  : 100%|██████████| 6/6 [00:03<00:00,  1.99it/s, loss=0.0994]\n",
      "Training  : 100%|██████████| 6/6 [00:03<00:00,  1.90it/s, loss=0.102] \n",
      "Training  : 100%|██████████| 6/6 [00:03<00:00,  2.00it/s, loss=0.115] \n",
      "Training  : 100%|██████████| 6/6 [00:02<00:00,  2.01it/s, loss=0.107] \n",
      "Training  : 100%|██████████| 6/6 [00:02<00:00,  2.01it/s, loss=0.0979]\n",
      "Training  : 100%|██████████| 6/6 [00:03<00:00,  1.98it/s, loss=0.099] \n",
      "Training  : 100%|██████████| 6/6 [00:03<00:00,  1.98it/s, loss=0.113] \n",
      "Training  : 100%|██████████| 6/6 [00:02<00:00,  2.01it/s, loss=0.101]\n",
      "Training  : 100%|██████████| 6/6 [00:03<00:00,  1.99it/s, loss=0.115] \n",
      "Training  : 100%|██████████| 6/6 [00:03<00:00,  1.97it/s, loss=0.116] \n",
      "Training  : 100%|██████████| 6/6 [00:02<00:00,  2.01it/s, loss=0.124] \n",
      "Training  : 100%|██████████| 6/6 [00:02<00:00,  2.02it/s, loss=0.111]\n",
      "Training  : 100%|██████████| 6/6 [00:02<00:00,  2.01it/s, loss=0.111] \n",
      "Training  : 100%|██████████| 6/6 [00:03<00:00,  1.99it/s, loss=0.119] \n",
      "Training  : 100%|██████████| 6/6 [00:02<00:00,  2.00it/s, loss=0.111] \n",
      "Training  : 100%|██████████| 6/6 [00:03<00:00,  1.98it/s, loss=0.11]  \n",
      "Training  : 100%|██████████| 6/6 [00:02<00:00,  2.00it/s, loss=0.114] \n",
      "Training  : 100%|██████████| 6/6 [00:03<00:00,  1.98it/s, loss=0.103]\n",
      "Training  : 100%|██████████| 6/6 [00:02<00:00,  2.01it/s, loss=0.105] \n",
      "Training  : 100%|██████████| 6/6 [00:02<00:00,  2.04it/s, loss=0.103] \n",
      "Training  : 100%|██████████| 6/6 [00:02<00:00,  2.01it/s, loss=0.1]  \n",
      "Training  : 100%|██████████| 6/6 [00:02<00:00,  2.01it/s, loss=0.103] \n",
      "Training  : 100%|██████████| 6/6 [00:03<00:00,  1.99it/s, loss=0.105] \n",
      "Training  : 100%|██████████| 6/6 [00:02<00:00,  2.03it/s, loss=0.108] \n",
      "Training  : 100%|██████████| 6/6 [00:02<00:00,  2.01it/s, loss=0.119] \n",
      "Training  : 100%|██████████| 6/6 [00:03<00:00,  1.97it/s, loss=0.109]\n",
      "Training  : 100%|██████████| 6/6 [00:03<00:00,  1.98it/s, loss=0.106] \n",
      "Training  : 100%|██████████| 6/6 [00:03<00:00,  1.96it/s, loss=0.106]\n",
      "Training  : 100%|██████████| 6/6 [00:03<00:00,  1.99it/s, loss=0.109] \n",
      "Training  : 100%|██████████| 6/6 [00:02<00:00,  2.03it/s, loss=0.106] \n",
      "Training  : 100%|██████████| 6/6 [00:03<00:00,  1.95it/s, loss=0.104] \n",
      "Training  : 100%|██████████| 6/6 [00:02<00:00,  2.03it/s, loss=0.118]  \n",
      "Training  : 100%|██████████| 6/6 [00:03<00:00,  1.92it/s, loss=0.106]\n",
      "Training  : 100%|██████████| 6/6 [00:03<00:00,  2.00it/s, loss=0.106] \n",
      "Training  : 100%|██████████| 6/6 [00:03<00:00,  1.98it/s, loss=0.101] \n",
      "Training  : 100%|██████████| 6/6 [00:02<00:00,  2.01it/s, loss=0.109] \n",
      "Training  : 100%|██████████| 6/6 [00:03<00:00,  1.97it/s, loss=0.112] \n",
      "Training  : 100%|██████████| 6/6 [00:03<00:00,  2.00it/s, loss=0.112] \n",
      "Predicting: 100%|██████████| 12/12 [00:01<00:00,  8.27it/s]\n"
     ]
    },
    {
     "name": "stdout",
     "output_type": "stream",
     "text": [
      "Building sklearn text classifier...\n",
      "Loading bert-base-uncased model...\n",
      "Defaulting to linear classifier/regressor\n",
      "Loading Pytorch checkpoint\n",
      "train data size: 178, validation data size: 0\n"
     ]
    },
    {
     "name": "stderr",
     "output_type": "stream",
     "text": [
      "Training  : 100%|██████████| 6/6 [00:02<00:00,  2.02it/s, loss=0.908]\n",
      "Training  : 100%|██████████| 6/6 [00:02<00:00,  2.02it/s, loss=0.522]\n",
      "Training  : 100%|██████████| 6/6 [00:03<00:00,  2.00it/s, loss=0.335]\n",
      "Training  : 100%|██████████| 6/6 [00:02<00:00,  2.02it/s, loss=0.244]\n",
      "Training  : 100%|██████████| 6/6 [00:03<00:00,  1.99it/s, loss=0.216]\n",
      "Training  : 100%|██████████| 6/6 [00:03<00:00,  1.98it/s, loss=0.173]\n",
      "Training  : 100%|██████████| 6/6 [00:03<00:00,  1.99it/s, loss=0.187]\n",
      "Training  : 100%|██████████| 6/6 [00:03<00:00,  1.96it/s, loss=0.173] \n",
      "Training  : 100%|██████████| 6/6 [00:03<00:00,  1.98it/s, loss=0.166]\n",
      "Training  : 100%|██████████| 6/6 [00:03<00:00,  1.92it/s, loss=0.156] \n",
      "Training  : 100%|██████████| 6/6 [00:02<00:00,  2.02it/s, loss=0.175]\n",
      "Training  : 100%|██████████| 6/6 [00:02<00:00,  2.02it/s, loss=0.123] \n",
      "Training  : 100%|██████████| 6/6 [00:03<00:00,  1.97it/s, loss=0.146]\n",
      "Training  : 100%|██████████| 6/6 [00:02<00:00,  2.01it/s, loss=0.108] \n",
      "Training  : 100%|██████████| 6/6 [00:03<00:00,  1.98it/s, loss=0.0838]\n",
      "Training  : 100%|██████████| 6/6 [00:03<00:00,  2.00it/s, loss=0.097] \n",
      "Training  : 100%|██████████| 6/6 [00:02<00:00,  2.00it/s, loss=0.0698]\n",
      "Training  : 100%|██████████| 6/6 [00:03<00:00,  1.96it/s, loss=0.128] \n",
      "Training  : 100%|██████████| 6/6 [00:03<00:00,  2.00it/s, loss=0.0767]\n",
      "Training  : 100%|██████████| 6/6 [00:03<00:00,  1.99it/s, loss=0.0809]\n",
      "Training  : 100%|██████████| 6/6 [00:03<00:00,  1.99it/s, loss=0.0656]\n",
      "Training  : 100%|██████████| 6/6 [00:03<00:00,  1.98it/s, loss=0.0584]\n",
      "Training  : 100%|██████████| 6/6 [00:03<00:00,  1.99it/s, loss=0.0815]\n",
      "Training  : 100%|██████████| 6/6 [00:03<00:00,  2.00it/s, loss=0.0899]\n",
      "Training  : 100%|██████████| 6/6 [00:02<00:00,  2.06it/s, loss=0.0744]\n",
      "Training  : 100%|██████████| 6/6 [00:03<00:00,  1.96it/s, loss=0.0684]\n",
      "Training  : 100%|██████████| 6/6 [00:03<00:00,  2.00it/s, loss=0.0773]\n",
      "Training  : 100%|██████████| 6/6 [00:02<00:00,  2.00it/s, loss=0.0687]\n",
      "Training  : 100%|██████████| 6/6 [00:03<00:00,  1.99it/s, loss=0.0709]\n",
      "Training  : 100%|██████████| 6/6 [00:02<00:00,  2.00it/s, loss=0.0605]\n",
      "Training  : 100%|██████████| 6/6 [00:02<00:00,  2.01it/s, loss=0.0655]\n",
      "Training  : 100%|██████████| 6/6 [00:03<00:00,  2.00it/s, loss=0.0673]\n",
      "Training  : 100%|██████████| 6/6 [00:02<00:00,  2.01it/s, loss=0.0615]\n",
      "Training  : 100%|██████████| 6/6 [00:03<00:00,  1.99it/s, loss=0.143] \n",
      "Training  : 100%|██████████| 6/6 [00:03<00:00,  1.98it/s, loss=0.0917]\n",
      "Training  : 100%|██████████| 6/6 [00:02<00:00,  2.01it/s, loss=0.0857]\n",
      "Training  : 100%|██████████| 6/6 [00:03<00:00,  1.98it/s, loss=0.0736]\n",
      "Training  : 100%|██████████| 6/6 [00:02<00:00,  2.00it/s, loss=0.0686]\n",
      "Training  : 100%|██████████| 6/6 [00:03<00:00,  1.99it/s, loss=0.0629]\n",
      "Training  : 100%|██████████| 6/6 [00:03<00:00,  1.99it/s, loss=0.0679]\n",
      "Training  : 100%|██████████| 6/6 [00:03<00:00,  2.00it/s, loss=0.0577]\n",
      "Training  : 100%|██████████| 6/6 [00:02<00:00,  2.02it/s, loss=0.0621]\n",
      "Training  : 100%|██████████| 6/6 [00:03<00:00,  1.95it/s, loss=0.0588]\n",
      "Training  : 100%|██████████| 6/6 [00:03<00:00,  1.90it/s, loss=0.0562]\n",
      "Training  : 100%|██████████| 6/6 [00:02<00:00,  2.01it/s, loss=0.0602]\n",
      "Training  : 100%|██████████| 6/6 [00:03<00:00,  1.96it/s, loss=0.0647]\n",
      "Training  : 100%|██████████| 6/6 [00:02<00:00,  2.01it/s, loss=0.0633]\n",
      "Training  : 100%|██████████| 6/6 [00:02<00:00,  2.02it/s, loss=0.0653] \n",
      "Training  : 100%|██████████| 6/6 [00:02<00:00,  2.05it/s, loss=0.081] \n",
      "Training  : 100%|██████████| 6/6 [00:03<00:00,  1.99it/s, loss=0.0616]\n",
      "Training  : 100%|██████████| 6/6 [00:03<00:00,  1.98it/s, loss=0.0785]\n",
      "Training  : 100%|██████████| 6/6 [00:03<00:00,  1.98it/s, loss=0.0566]\n",
      "Training  : 100%|██████████| 6/6 [00:02<00:00,  2.03it/s, loss=0.063] \n",
      "Training  : 100%|██████████| 6/6 [00:02<00:00,  2.01it/s, loss=0.0791]\n",
      "Training  : 100%|██████████| 6/6 [00:03<00:00,  1.97it/s, loss=0.0622]\n",
      "Training  : 100%|██████████| 6/6 [00:03<00:00,  1.97it/s, loss=0.0562]\n",
      "Training  : 100%|██████████| 6/6 [00:03<00:00,  1.97it/s, loss=0.0806]\n",
      "Training  : 100%|██████████| 6/6 [00:03<00:00,  1.94it/s, loss=0.0643]\n",
      "Training  : 100%|██████████| 6/6 [00:02<00:00,  2.01it/s, loss=0.0635]\n",
      "Training  : 100%|██████████| 6/6 [00:02<00:00,  2.00it/s, loss=0.0624]\n",
      "Training  : 100%|██████████| 6/6 [00:03<00:00,  1.99it/s, loss=0.0556]\n",
      "Training  : 100%|██████████| 6/6 [00:02<00:00,  2.02it/s, loss=0.0684]\n",
      "Training  : 100%|██████████| 6/6 [00:02<00:00,  2.03it/s, loss=0.0568]\n",
      "Training  : 100%|██████████| 6/6 [00:03<00:00,  1.96it/s, loss=0.065] \n",
      "Training  : 100%|██████████| 6/6 [00:02<00:00,  2.04it/s, loss=0.061] \n",
      "Training  : 100%|██████████| 6/6 [00:03<00:00,  1.96it/s, loss=0.0602]\n",
      "Training  : 100%|██████████| 6/6 [00:03<00:00,  1.97it/s, loss=0.0602]\n",
      "Training  : 100%|██████████| 6/6 [00:02<00:00,  2.01it/s, loss=0.0576] \n",
      "Training  : 100%|██████████| 6/6 [00:02<00:00,  2.04it/s, loss=0.0694]\n",
      "Training  : 100%|██████████| 6/6 [00:02<00:00,  2.01it/s, loss=0.0632]\n",
      "Training  : 100%|██████████| 6/6 [00:02<00:00,  2.05it/s, loss=0.0654] \n",
      "Training  : 100%|██████████| 6/6 [00:02<00:00,  2.02it/s, loss=0.0628]\n",
      "Training  : 100%|██████████| 6/6 [00:03<00:00,  1.94it/s, loss=0.0537]\n",
      "Training  : 100%|██████████| 6/6 [00:03<00:00,  1.98it/s, loss=0.0622] \n",
      "Training  : 100%|██████████| 6/6 [00:02<00:00,  2.01it/s, loss=0.0595]\n",
      "Training  : 100%|██████████| 6/6 [00:03<00:00,  1.94it/s, loss=0.0796]\n",
      "Training  : 100%|██████████| 6/6 [00:02<00:00,  2.02it/s, loss=0.0631]\n",
      "Training  : 100%|██████████| 6/6 [00:02<00:00,  2.04it/s, loss=0.0786]\n",
      "Training  : 100%|██████████| 6/6 [00:02<00:00,  2.01it/s, loss=0.0629]\n",
      "Training  : 100%|██████████| 6/6 [00:02<00:00,  2.00it/s, loss=0.0552]\n",
      "Training  : 100%|██████████| 6/6 [00:03<00:00,  1.98it/s, loss=0.0572]\n",
      "Training  : 100%|██████████| 6/6 [00:02<00:00,  2.01it/s, loss=0.0608]\n",
      "Training  : 100%|██████████| 6/6 [00:02<00:00,  2.01it/s, loss=0.0587]\n",
      "Training  : 100%|██████████| 6/6 [00:02<00:00,  2.00it/s, loss=0.0559]\n",
      "Training  : 100%|██████████| 6/6 [00:03<00:00,  1.96it/s, loss=0.0628]\n",
      "Training  : 100%|██████████| 6/6 [00:02<00:00,  2.03it/s, loss=0.0603]\n",
      "Training  : 100%|██████████| 6/6 [00:02<00:00,  2.03it/s, loss=0.0651]\n",
      "Training  : 100%|██████████| 6/6 [00:03<00:00,  1.98it/s, loss=0.0645]\n",
      "Training  : 100%|██████████| 6/6 [00:03<00:00,  1.95it/s, loss=0.0774]\n",
      "Training  : 100%|██████████| 6/6 [00:02<00:00,  2.04it/s, loss=0.0653]\n",
      "Training  : 100%|██████████| 6/6 [00:03<00:00,  1.95it/s, loss=0.0528] \n",
      "Training  : 100%|██████████| 6/6 [00:02<00:00,  2.06it/s, loss=0.0602] \n",
      "Training  : 100%|██████████| 6/6 [00:03<00:00,  1.98it/s, loss=0.062] \n",
      "Training  : 100%|██████████| 6/6 [00:03<00:00,  1.97it/s, loss=0.0536]\n",
      "Training  : 100%|██████████| 6/6 [00:02<00:00,  2.00it/s, loss=0.0627]\n",
      "Training  : 100%|██████████| 6/6 [00:03<00:00,  1.98it/s, loss=0.0641]\n",
      "Training  : 100%|██████████| 6/6 [00:02<00:00,  2.01it/s, loss=0.0558]\n",
      "Training  : 100%|██████████| 6/6 [00:02<00:00,  2.02it/s, loss=0.0555]\n",
      "Training  : 100%|██████████| 6/6 [00:02<00:00,  2.01it/s, loss=0.0621]\n",
      "Training  : 100%|██████████| 6/6 [00:02<00:00,  2.00it/s, loss=0.0577]\n",
      "Predicting: 100%|██████████| 12/12 [00:01<00:00,  8.31it/s]\n"
     ]
    },
    {
     "name": "stdout",
     "output_type": "stream",
     "text": [
      "Building sklearn text classifier...\n",
      "Loading bert-base-uncased model...\n",
      "Defaulting to linear classifier/regressor\n",
      "Loading Pytorch checkpoint\n",
      "train data size: 178, validation data size: 0\n"
     ]
    },
    {
     "name": "stderr",
     "output_type": "stream",
     "text": [
      "Training  : 100%|██████████| 6/6 [00:02<00:00,  2.02it/s, loss=0.908]\n",
      "Training  : 100%|██████████| 6/6 [00:02<00:00,  2.03it/s, loss=0.54] \n",
      "Training  : 100%|██████████| 6/6 [00:03<00:00,  1.95it/s, loss=0.325]\n",
      "Training  : 100%|██████████| 6/6 [00:03<00:00,  1.98it/s, loss=0.249]\n",
      "Training  : 100%|██████████| 6/6 [00:02<00:00,  2.03it/s, loss=0.23] \n",
      "Training  : 100%|██████████| 6/6 [00:02<00:00,  2.01it/s, loss=0.221] \n",
      "Training  : 100%|██████████| 6/6 [00:03<00:00,  1.98it/s, loss=0.251]\n",
      "Training  : 100%|██████████| 6/6 [00:03<00:00,  1.97it/s, loss=0.212]\n",
      "Training  : 100%|██████████| 6/6 [00:02<00:00,  2.03it/s, loss=0.198]\n",
      "Training  : 100%|██████████| 6/6 [00:02<00:00,  2.04it/s, loss=0.201]\n",
      "Training  : 100%|██████████| 6/6 [00:03<00:00,  1.98it/s, loss=0.2]  \n",
      "Training  : 100%|██████████| 6/6 [00:03<00:00,  2.00it/s, loss=0.152] \n",
      "Training  : 100%|██████████| 6/6 [00:03<00:00,  1.99it/s, loss=0.173]\n",
      "Training  : 100%|██████████| 6/6 [00:02<00:00,  2.02it/s, loss=0.17]  \n",
      "Training  : 100%|██████████| 6/6 [00:02<00:00,  2.01it/s, loss=0.165] \n",
      "Training  : 100%|██████████| 6/6 [00:02<00:00,  2.01it/s, loss=0.146] \n",
      "Training  : 100%|██████████| 6/6 [00:02<00:00,  2.01it/s, loss=0.144] \n",
      "Training  : 100%|██████████| 6/6 [00:03<00:00,  1.97it/s, loss=0.153] \n",
      "Training  : 100%|██████████| 6/6 [00:03<00:00,  1.94it/s, loss=0.138] \n",
      "Training  : 100%|██████████| 6/6 [00:03<00:00,  1.94it/s, loss=0.126] \n",
      "Training  : 100%|██████████| 6/6 [00:03<00:00,  1.97it/s, loss=0.137] \n",
      "Training  : 100%|██████████| 6/6 [00:02<00:00,  2.01it/s, loss=0.126] \n",
      "Training  : 100%|██████████| 6/6 [00:03<00:00,  1.98it/s, loss=0.128]\n",
      "Training  : 100%|██████████| 6/6 [00:02<00:00,  2.03it/s, loss=0.119] \n",
      "Training  : 100%|██████████| 6/6 [00:03<00:00,  1.99it/s, loss=0.113]\n",
      "Training  : 100%|██████████| 6/6 [00:02<00:00,  2.02it/s, loss=0.125] \n",
      "Training  : 100%|██████████| 6/6 [00:02<00:00,  2.02it/s, loss=0.103]\n",
      "Training  : 100%|██████████| 6/6 [00:02<00:00,  2.01it/s, loss=0.105]\n",
      "Training  : 100%|██████████| 6/6 [00:02<00:00,  2.02it/s, loss=0.111]\n",
      "Training  : 100%|██████████| 6/6 [00:02<00:00,  2.01it/s, loss=0.117] \n",
      "Training  : 100%|██████████| 6/6 [00:03<00:00,  1.99it/s, loss=0.112] \n",
      "Training  : 100%|██████████| 6/6 [00:03<00:00,  1.98it/s, loss=0.106]\n",
      "Training  : 100%|██████████| 6/6 [00:02<00:00,  2.02it/s, loss=0.0997]\n",
      "Training  : 100%|██████████| 6/6 [00:03<00:00,  2.00it/s, loss=0.112] \n",
      "Training  : 100%|██████████| 6/6 [00:03<00:00,  1.94it/s, loss=0.106]\n",
      "Training  : 100%|██████████| 6/6 [00:03<00:00,  1.98it/s, loss=0.118] \n",
      "Training  : 100%|██████████| 6/6 [00:03<00:00,  1.98it/s, loss=0.111] \n",
      "Training  : 100%|██████████| 6/6 [00:02<00:00,  2.02it/s, loss=0.111] \n",
      "Training  : 100%|██████████| 6/6 [00:02<00:00,  2.02it/s, loss=0.114] \n",
      "Training  : 100%|██████████| 6/6 [00:03<00:00,  1.99it/s, loss=0.11]  \n",
      "Training  : 100%|██████████| 6/6 [00:02<00:00,  2.05it/s, loss=0.11]  \n",
      "Training  : 100%|██████████| 6/6 [00:03<00:00,  1.93it/s, loss=0.113]\n",
      "Training  : 100%|██████████| 6/6 [00:02<00:00,  2.04it/s, loss=0.0981]\n",
      "Training  : 100%|██████████| 6/6 [00:02<00:00,  2.02it/s, loss=0.104]\n",
      "Training  : 100%|██████████| 6/6 [00:03<00:00,  1.94it/s, loss=0.117] \n",
      "Training  : 100%|██████████| 6/6 [00:02<00:00,  2.02it/s, loss=0.0975]\n",
      "Training  : 100%|██████████| 6/6 [00:02<00:00,  2.04it/s, loss=0.102] \n",
      "Training  : 100%|██████████| 6/6 [00:02<00:00,  2.01it/s, loss=0.107]\n",
      "Training  : 100%|██████████| 6/6 [00:02<00:00,  2.03it/s, loss=0.108] \n",
      "Training  : 100%|██████████| 6/6 [00:02<00:00,  2.03it/s, loss=0.105] \n",
      "Training  : 100%|██████████| 6/6 [00:02<00:00,  2.01it/s, loss=0.113] \n",
      "Training  : 100%|██████████| 6/6 [00:02<00:00,  2.02it/s, loss=0.116] \n",
      "Training  : 100%|██████████| 6/6 [00:02<00:00,  2.03it/s, loss=0.108]\n",
      "Training  : 100%|██████████| 6/6 [00:02<00:00,  2.01it/s, loss=0.122]\n",
      "Training  : 100%|██████████| 6/6 [00:03<00:00,  1.92it/s, loss=0.109] \n",
      "Training  : 100%|██████████| 6/6 [00:03<00:00,  2.00it/s, loss=0.11] \n",
      "Training  : 100%|██████████| 6/6 [00:02<00:00,  2.03it/s, loss=0.129] \n",
      "Training  : 100%|██████████| 6/6 [00:03<00:00,  1.99it/s, loss=0.114] \n",
      "Training  : 100%|██████████| 6/6 [00:02<00:00,  2.03it/s, loss=0.117] \n",
      "Training  : 100%|██████████| 6/6 [00:03<00:00,  1.97it/s, loss=0.107]\n",
      "Training  : 100%|██████████| 6/6 [00:03<00:00,  1.99it/s, loss=0.102]\n",
      "Training  : 100%|██████████| 6/6 [00:03<00:00,  1.99it/s, loss=0.1]  \n",
      "Training  : 100%|██████████| 6/6 [00:02<00:00,  2.01it/s, loss=0.1]   \n",
      "Training  : 100%|██████████| 6/6 [00:02<00:00,  2.03it/s, loss=0.109] \n",
      "Training  : 100%|██████████| 6/6 [00:02<00:00,  2.01it/s, loss=0.106] \n",
      "Training  : 100%|██████████| 6/6 [00:02<00:00,  2.01it/s, loss=0.106] \n",
      "Training  : 100%|██████████| 6/6 [00:02<00:00,  2.01it/s, loss=0.0959]\n",
      "Training  : 100%|██████████| 6/6 [00:02<00:00,  2.01it/s, loss=0.102]\n",
      "Training  : 100%|██████████| 6/6 [00:03<00:00,  1.96it/s, loss=0.116] \n",
      "Training  : 100%|██████████| 6/6 [00:02<00:00,  2.04it/s, loss=0.0985]\n",
      "Training  : 100%|██████████| 6/6 [00:03<00:00,  1.98it/s, loss=0.119] \n",
      "Training  : 100%|██████████| 6/6 [00:03<00:00,  1.95it/s, loss=0.109] \n",
      "Training  : 100%|██████████| 6/6 [00:03<00:00,  1.94it/s, loss=0.121] \n",
      "Training  : 100%|██████████| 6/6 [00:02<00:00,  2.04it/s, loss=0.0998]\n",
      "Training  : 100%|██████████| 6/6 [00:03<00:00,  1.99it/s, loss=0.106]\n",
      "Training  : 100%|██████████| 6/6 [00:03<00:00,  2.00it/s, loss=0.122] \n",
      "Training  : 100%|██████████| 6/6 [00:02<00:00,  2.02it/s, loss=0.101] \n",
      "Training  : 100%|██████████| 6/6 [00:02<00:00,  2.01it/s, loss=0.122] \n",
      "Training  : 100%|██████████| 6/6 [00:02<00:00,  2.04it/s, loss=0.108] \n",
      "Training  : 100%|██████████| 6/6 [00:02<00:00,  2.04it/s, loss=0.107] \n",
      "Training  : 100%|██████████| 6/6 [00:02<00:00,  2.03it/s, loss=0.0988]\n",
      "Training  : 100%|██████████| 6/6 [00:03<00:00,  2.00it/s, loss=0.105]\n",
      "Training  : 100%|██████████| 6/6 [00:03<00:00,  1.99it/s, loss=0.103]\n",
      "Training  : 100%|██████████| 6/6 [00:02<00:00,  2.02it/s, loss=0.105] \n",
      "Training  : 100%|██████████| 6/6 [00:03<00:00,  1.99it/s, loss=0.11]  \n",
      "Training  : 100%|██████████| 6/6 [00:02<00:00,  2.01it/s, loss=0.106]\n",
      "Training  : 100%|██████████| 6/6 [00:03<00:00,  1.97it/s, loss=0.112] \n",
      "Training  : 100%|██████████| 6/6 [00:02<00:00,  2.03it/s, loss=0.107] \n",
      "Training  : 100%|██████████| 6/6 [00:02<00:00,  2.02it/s, loss=0.111] \n",
      "Training  : 100%|██████████| 6/6 [00:03<00:00,  1.99it/s, loss=0.102] \n",
      "Training  : 100%|██████████| 6/6 [00:02<00:00,  2.02it/s, loss=0.106] \n",
      "Training  : 100%|██████████| 6/6 [00:02<00:00,  2.00it/s, loss=0.107] \n",
      "Training  : 100%|██████████| 6/6 [00:03<00:00,  1.98it/s, loss=0.104] \n",
      "Training  : 100%|██████████| 6/6 [00:03<00:00,  1.93it/s, loss=0.109] \n",
      "Training  : 100%|██████████| 6/6 [00:02<00:00,  2.01it/s, loss=0.102] \n",
      "Training  : 100%|██████████| 6/6 [00:02<00:00,  2.02it/s, loss=0.102]\n",
      "Training  : 100%|██████████| 6/6 [00:03<00:00,  1.99it/s, loss=0.0992]\n",
      "Training  : 100%|██████████| 6/6 [00:03<00:00,  1.96it/s, loss=0.102]\n",
      "Training  : 100%|██████████| 6/6 [00:02<00:00,  2.05it/s, loss=0.103] \n",
      "Training  : 100%|██████████| 6/6 [00:02<00:00,  2.03it/s, loss=0.106] \n",
      "Predicting: 100%|██████████| 12/12 [00:01<00:00,  8.40it/s]\n"
     ]
    },
    {
     "name": "stdout",
     "output_type": "stream",
     "text": [
      "Building sklearn text classifier...\n",
      "Loading bert-base-uncased model...\n",
      "Defaulting to linear classifier/regressor\n",
      "Loading Pytorch checkpoint\n",
      "train data size: 178, validation data size: 0\n"
     ]
    },
    {
     "name": "stderr",
     "output_type": "stream",
     "text": [
      "Training  : 100%|██████████| 6/6 [00:02<00:00,  2.06it/s, loss=0.915]\n",
      "Training  : 100%|██████████| 6/6 [00:02<00:00,  2.05it/s, loss=0.565]\n",
      "Training  : 100%|██████████| 6/6 [00:02<00:00,  2.02it/s, loss=0.354]\n",
      "Training  : 100%|██████████| 6/6 [00:02<00:00,  2.01it/s, loss=0.276]\n",
      "Training  : 100%|██████████| 6/6 [00:02<00:00,  2.02it/s, loss=0.245]\n",
      "Training  : 100%|██████████| 6/6 [00:02<00:00,  2.04it/s, loss=0.239] \n",
      "Training  : 100%|██████████| 6/6 [00:02<00:00,  2.03it/s, loss=0.23] \n",
      "Training  : 100%|██████████| 6/6 [00:02<00:00,  2.04it/s, loss=0.243] \n",
      "Training  : 100%|██████████| 6/6 [00:02<00:00,  2.05it/s, loss=0.209]\n",
      "Training  : 100%|██████████| 6/6 [00:02<00:00,  2.03it/s, loss=0.205]\n",
      "Training  : 100%|██████████| 6/6 [00:02<00:00,  2.03it/s, loss=0.16] \n",
      "Training  : 100%|██████████| 6/6 [00:03<00:00,  1.99it/s, loss=0.145]\n",
      "Training  : 100%|██████████| 6/6 [00:03<00:00,  1.99it/s, loss=0.162]\n",
      "Training  : 100%|██████████| 6/6 [00:02<00:00,  2.03it/s, loss=0.15]  \n",
      "Training  : 100%|██████████| 6/6 [00:02<00:00,  2.02it/s, loss=0.164] \n",
      "Training  : 100%|██████████| 6/6 [00:02<00:00,  2.02it/s, loss=0.158] \n",
      "Training  : 100%|██████████| 6/6 [00:02<00:00,  2.03it/s, loss=0.17] \n",
      "Training  : 100%|██████████| 6/6 [00:03<00:00,  1.99it/s, loss=0.132] \n",
      "Training  : 100%|██████████| 6/6 [00:03<00:00,  1.99it/s, loss=0.125]\n",
      "Training  : 100%|██████████| 6/6 [00:03<00:00,  1.98it/s, loss=0.116] \n",
      "Training  : 100%|██████████| 6/6 [00:02<00:00,  2.01it/s, loss=0.131] \n",
      "Training  : 100%|██████████| 6/6 [00:03<00:00,  1.97it/s, loss=0.131]\n",
      "Training  : 100%|██████████| 6/6 [00:02<00:00,  2.01it/s, loss=0.135]\n",
      "Training  : 100%|██████████| 6/6 [00:02<00:00,  2.03it/s, loss=0.138]\n",
      "Training  : 100%|██████████| 6/6 [00:03<00:00,  1.99it/s, loss=0.114]\n",
      "Training  : 100%|██████████| 6/6 [00:02<00:00,  2.01it/s, loss=0.131] \n",
      "Training  : 100%|██████████| 6/6 [00:02<00:00,  2.03it/s, loss=0.115] \n",
      "Training  : 100%|██████████| 6/6 [00:02<00:00,  2.02it/s, loss=0.122] \n",
      "Training  : 100%|██████████| 6/6 [00:02<00:00,  2.05it/s, loss=0.123]\n",
      "Training  : 100%|██████████| 6/6 [00:03<00:00,  1.98it/s, loss=0.129] \n",
      "Training  : 100%|██████████| 6/6 [00:03<00:00,  1.96it/s, loss=0.121] \n",
      "Training  : 100%|██████████| 6/6 [00:03<00:00,  2.00it/s, loss=0.119] \n",
      "Training  : 100%|██████████| 6/6 [00:03<00:00,  1.97it/s, loss=0.114]\n",
      "Training  : 100%|██████████| 6/6 [00:03<00:00,  1.97it/s, loss=0.108] \n",
      "Training  : 100%|██████████| 6/6 [00:02<00:00,  2.01it/s, loss=0.105]\n",
      "Training  : 100%|██████████| 6/6 [00:02<00:00,  2.01it/s, loss=0.112] \n",
      "Training  : 100%|██████████| 6/6 [00:02<00:00,  2.01it/s, loss=0.108] \n",
      "Training  : 100%|██████████| 6/6 [00:03<00:00,  1.94it/s, loss=0.116] \n",
      "Training  : 100%|██████████| 6/6 [00:02<00:00,  2.04it/s, loss=0.107] \n",
      "Training  : 100%|██████████| 6/6 [00:03<00:00,  1.99it/s, loss=0.113]\n",
      "Training  : 100%|██████████| 6/6 [00:02<00:00,  2.02it/s, loss=0.132] \n",
      "Training  : 100%|██████████| 6/6 [00:02<00:00,  2.02it/s, loss=0.119] \n",
      "Training  : 100%|██████████| 6/6 [00:02<00:00,  2.07it/s, loss=0.105]\n",
      "Training  : 100%|██████████| 6/6 [00:02<00:00,  2.03it/s, loss=0.106]\n",
      "Training  : 100%|██████████| 6/6 [00:03<00:00,  1.97it/s, loss=0.106]\n",
      "Training  : 100%|██████████| 6/6 [00:02<00:00,  2.03it/s, loss=0.101] \n",
      "Training  : 100%|██████████| 6/6 [00:03<00:00,  1.94it/s, loss=0.109] \n",
      "Training  : 100%|██████████| 6/6 [00:02<00:00,  2.03it/s, loss=0.101]\n",
      "Training  : 100%|██████████| 6/6 [00:02<00:00,  2.01it/s, loss=0.105] \n",
      "Training  : 100%|██████████| 6/6 [00:02<00:00,  2.00it/s, loss=0.107]\n",
      "Training  : 100%|██████████| 6/6 [00:02<00:00,  2.04it/s, loss=0.107] \n",
      "Training  : 100%|██████████| 6/6 [00:02<00:00,  2.01it/s, loss=0.121] \n",
      "Training  : 100%|██████████| 6/6 [00:02<00:00,  2.02it/s, loss=0.107] \n",
      "Training  : 100%|██████████| 6/6 [00:02<00:00,  2.02it/s, loss=0.123] \n",
      "Training  : 100%|██████████| 6/6 [00:03<00:00,  1.95it/s, loss=0.112] \n",
      "Training  : 100%|██████████| 6/6 [00:02<00:00,  2.02it/s, loss=0.117] \n",
      "Training  : 100%|██████████| 6/6 [00:02<00:00,  2.05it/s, loss=0.113] \n",
      "Training  : 100%|██████████| 6/6 [00:02<00:00,  2.04it/s, loss=0.109] \n",
      "Training  : 100%|██████████| 6/6 [00:03<00:00,  2.00it/s, loss=0.116] \n",
      "Training  : 100%|██████████| 6/6 [00:02<00:00,  2.01it/s, loss=0.113]\n",
      "Training  : 100%|██████████| 6/6 [00:02<00:00,  2.02it/s, loss=0.109]\n",
      "Training  : 100%|██████████| 6/6 [00:02<00:00,  2.03it/s, loss=0.112]\n",
      "Training  : 100%|██████████| 6/6 [00:02<00:00,  2.03it/s, loss=0.0996]\n",
      "Training  : 100%|██████████| 6/6 [00:03<00:00,  1.99it/s, loss=0.106] \n",
      "Training  : 100%|██████████| 6/6 [00:03<00:00,  1.96it/s, loss=0.111] \n",
      "Training  : 100%|██████████| 6/6 [00:03<00:00,  1.92it/s, loss=0.107] \n",
      "Training  : 100%|██████████| 6/6 [00:02<00:00,  2.04it/s, loss=0.0985]\n",
      "Training  : 100%|██████████| 6/6 [00:03<00:00,  1.97it/s, loss=0.0986]\n",
      "Training  : 100%|██████████| 6/6 [00:03<00:00,  1.98it/s, loss=0.112] \n",
      "Training  : 100%|██████████| 6/6 [00:02<00:00,  2.03it/s, loss=0.102]\n",
      "Training  : 100%|██████████| 6/6 [00:03<00:00,  2.00it/s, loss=0.115] \n",
      "Training  : 100%|██████████| 6/6 [00:03<00:00,  2.00it/s, loss=0.115] \n",
      "Training  : 100%|██████████| 6/6 [00:03<00:00,  1.96it/s, loss=0.127] \n",
      "Training  : 100%|██████████| 6/6 [00:02<00:00,  2.01it/s, loss=0.107] \n",
      "Training  : 100%|██████████| 6/6 [00:02<00:00,  2.02it/s, loss=0.106] \n",
      "Training  : 100%|██████████| 6/6 [00:02<00:00,  2.00it/s, loss=0.112] \n",
      "Training  : 100%|██████████| 6/6 [00:03<00:00,  1.89it/s, loss=0.115] \n",
      "Training  : 100%|██████████| 6/6 [00:02<00:00,  2.01it/s, loss=0.113] \n",
      "Training  : 100%|██████████| 6/6 [00:02<00:00,  2.04it/s, loss=0.104] \n",
      "Training  : 100%|██████████| 6/6 [00:02<00:00,  2.01it/s, loss=0.1]  \n",
      "Training  : 100%|██████████| 6/6 [00:02<00:00,  2.02it/s, loss=0.0999]\n",
      "Training  : 100%|██████████| 6/6 [00:03<00:00,  1.97it/s, loss=0.103] \n",
      "Training  : 100%|██████████| 6/6 [00:03<00:00,  1.95it/s, loss=0.102]\n",
      "Training  : 100%|██████████| 6/6 [00:03<00:00,  1.98it/s, loss=0.104] \n",
      "Training  : 100%|██████████| 6/6 [00:02<00:00,  2.01it/s, loss=0.106]\n",
      "Training  : 100%|██████████| 6/6 [00:02<00:00,  2.04it/s, loss=0.111]\n",
      "Training  : 100%|██████████| 6/6 [00:03<00:00,  1.96it/s, loss=0.114] \n",
      "Training  : 100%|██████████| 6/6 [00:03<00:00,  2.00it/s, loss=0.106]\n",
      "Training  : 100%|██████████| 6/6 [00:02<00:00,  2.03it/s, loss=0.104] \n",
      "Training  : 100%|██████████| 6/6 [00:02<00:00,  2.01it/s, loss=0.104]\n",
      "Training  : 100%|██████████| 6/6 [00:03<00:00,  1.99it/s, loss=0.109] \n",
      "Training  : 100%|██████████| 6/6 [00:02<00:00,  2.01it/s, loss=0.109] \n",
      "Training  : 100%|██████████| 6/6 [00:02<00:00,  2.00it/s, loss=0.103]\n",
      "Training  : 100%|██████████| 6/6 [00:03<00:00,  1.96it/s, loss=0.115] \n",
      "Training  : 100%|██████████| 6/6 [00:02<00:00,  2.03it/s, loss=0.1]  \n",
      "Training  : 100%|██████████| 6/6 [00:02<00:00,  2.04it/s, loss=0.11]  \n",
      "Training  : 100%|██████████| 6/6 [00:03<00:00,  1.99it/s, loss=0.101] \n",
      "Training  : 100%|██████████| 6/6 [00:02<00:00,  2.02it/s, loss=0.108] \n",
      "Training  : 100%|██████████| 6/6 [00:03<00:00,  2.00it/s, loss=0.115] \n",
      "Training  : 100%|██████████| 6/6 [00:02<00:00,  2.06it/s, loss=0.11]  \n",
      "Predicting: 100%|██████████| 12/12 [00:01<00:00,  8.11it/s]\n"
     ]
    },
    {
     "name": "stdout",
     "output_type": "stream",
     "text": [
      "Building sklearn text classifier...\n",
      "Loading bert-base-uncased model...\n",
      "Defaulting to linear classifier/regressor\n",
      "Loading Pytorch checkpoint\n",
      "train data size: 178, validation data size: 0\n"
     ]
    },
    {
     "name": "stderr",
     "output_type": "stream",
     "text": [
      "Training  : 100%|██████████| 6/6 [00:02<00:00,  2.02it/s, loss=0.943]\n",
      "Training  : 100%|██████████| 6/6 [00:03<00:00,  1.95it/s, loss=0.746]\n",
      "Training  : 100%|██████████| 6/6 [00:02<00:00,  2.02it/s, loss=0.463]\n",
      "Training  : 100%|██████████| 6/6 [00:03<00:00,  1.97it/s, loss=0.339]\n",
      "Training  : 100%|██████████| 6/6 [00:02<00:00,  2.04it/s, loss=0.259]\n",
      "Training  : 100%|██████████| 6/6 [00:03<00:00,  1.99it/s, loss=0.227]\n",
      "Training  : 100%|██████████| 6/6 [00:02<00:00,  2.01it/s, loss=0.202]\n",
      "Training  : 100%|██████████| 6/6 [00:02<00:00,  2.01it/s, loss=0.177] \n",
      "Training  : 100%|██████████| 6/6 [00:02<00:00,  2.03it/s, loss=0.175]\n",
      "Training  : 100%|██████████| 6/6 [00:02<00:00,  2.06it/s, loss=0.168]\n",
      "Training  : 100%|██████████| 6/6 [00:03<00:00,  1.99it/s, loss=0.227]\n",
      "Training  : 100%|██████████| 6/6 [00:03<00:00,  1.95it/s, loss=0.186] \n",
      "Training  : 100%|██████████| 6/6 [00:02<00:00,  2.03it/s, loss=0.185] \n",
      "Training  : 100%|██████████| 6/6 [00:03<00:00,  1.92it/s, loss=0.156] \n",
      "Training  : 100%|██████████| 6/6 [00:02<00:00,  2.05it/s, loss=0.181]\n",
      "Training  : 100%|██████████| 6/6 [00:03<00:00,  1.97it/s, loss=0.161]\n",
      "Training  : 100%|██████████| 6/6 [00:02<00:00,  2.01it/s, loss=0.15] \n",
      "Training  : 100%|██████████| 6/6 [00:02<00:00,  2.01it/s, loss=0.138]\n",
      "Training  : 100%|██████████| 6/6 [00:02<00:00,  2.03it/s, loss=0.108] \n",
      "Training  : 100%|██████████| 6/6 [00:03<00:00,  2.00it/s, loss=0.119] \n",
      "Training  : 100%|██████████| 6/6 [00:03<00:00,  1.96it/s, loss=0.1]  \n",
      "Training  : 100%|██████████| 6/6 [00:02<00:00,  2.01it/s, loss=0.0892]\n",
      "Training  : 100%|██████████| 6/6 [00:02<00:00,  2.03it/s, loss=0.0816]\n",
      "Training  : 100%|██████████| 6/6 [00:02<00:00,  2.01it/s, loss=0.0762]\n",
      "Training  : 100%|██████████| 6/6 [00:02<00:00,  2.03it/s, loss=0.0703]\n",
      "Training  : 100%|██████████| 6/6 [00:03<00:00,  1.97it/s, loss=0.0716]\n",
      "Training  : 100%|██████████| 6/6 [00:02<00:00,  2.03it/s, loss=0.078] \n",
      "Training  : 100%|██████████| 6/6 [00:03<00:00,  1.95it/s, loss=0.0703]\n",
      "Training  : 100%|██████████| 6/6 [00:02<00:00,  2.01it/s, loss=0.0758]\n",
      "Training  : 100%|██████████| 6/6 [00:02<00:00,  2.00it/s, loss=0.0688]\n",
      "Training  : 100%|██████████| 6/6 [00:03<00:00,  1.99it/s, loss=0.0634]\n",
      "Training  : 100%|██████████| 6/6 [00:02<00:00,  2.02it/s, loss=0.0711]\n",
      "Training  : 100%|██████████| 6/6 [00:03<00:00,  1.99it/s, loss=0.0587]\n",
      "Training  : 100%|██████████| 6/6 [00:03<00:00,  1.99it/s, loss=0.0843]\n",
      "Training  : 100%|██████████| 6/6 [00:03<00:00,  2.00it/s, loss=0.0745]\n",
      "Training  : 100%|██████████| 6/6 [00:02<00:00,  2.05it/s, loss=0.0826]\n",
      "Training  : 100%|██████████| 6/6 [00:03<00:00,  1.98it/s, loss=0.0713]\n",
      "Training  : 100%|██████████| 6/6 [00:03<00:00,  1.99it/s, loss=0.0798]\n",
      "Training  : 100%|██████████| 6/6 [00:02<00:00,  2.01it/s, loss=0.0667]\n",
      "Training  : 100%|██████████| 6/6 [00:03<00:00,  1.96it/s, loss=0.0673]\n",
      "Training  : 100%|██████████| 6/6 [00:02<00:00,  2.01it/s, loss=0.06]  \n",
      "Training  : 100%|██████████| 6/6 [00:03<00:00,  1.99it/s, loss=0.0614]\n",
      "Training  : 100%|██████████| 6/6 [00:02<00:00,  2.00it/s, loss=0.0605]\n",
      "Training  : 100%|██████████| 6/6 [00:02<00:00,  2.01it/s, loss=0.063] \n",
      "Training  : 100%|██████████| 6/6 [00:03<00:00,  1.97it/s, loss=0.0668]\n",
      "Training  : 100%|██████████| 6/6 [00:02<00:00,  2.03it/s, loss=0.0686]\n",
      "Training  : 100%|██████████| 6/6 [00:03<00:00,  1.96it/s, loss=0.0585]\n",
      "Training  : 100%|██████████| 6/6 [00:02<00:00,  2.05it/s, loss=0.064]  \n",
      "Training  : 100%|██████████| 6/6 [00:03<00:00,  1.94it/s, loss=0.0767]\n",
      "Training  : 100%|██████████| 6/6 [00:02<00:00,  2.00it/s, loss=0.059] \n",
      "Training  : 100%|██████████| 6/6 [00:02<00:00,  2.01it/s, loss=0.083] \n",
      "Training  : 100%|██████████| 6/6 [00:03<00:00,  1.95it/s, loss=0.0644]\n",
      "Training  : 100%|██████████| 6/6 [00:02<00:00,  2.01it/s, loss=0.0589]\n",
      "Training  : 100%|██████████| 6/6 [00:02<00:00,  2.03it/s, loss=0.0672]\n",
      "Training  : 100%|██████████| 6/6 [00:02<00:00,  2.03it/s, loss=0.0541]\n",
      "Training  : 100%|██████████| 6/6 [00:03<00:00,  2.00it/s, loss=0.0633]\n",
      "Training  : 100%|██████████| 6/6 [00:03<00:00,  1.96it/s, loss=0.084] \n",
      "Training  : 100%|██████████| 6/6 [00:02<00:00,  2.04it/s, loss=0.0658]\n",
      "Training  : 100%|██████████| 6/6 [00:03<00:00,  2.00it/s, loss=0.0649]\n",
      "Training  : 100%|██████████| 6/6 [00:02<00:00,  2.01it/s, loss=0.0621]\n",
      "Training  : 100%|██████████| 6/6 [00:03<00:00,  2.00it/s, loss=0.0599]\n",
      "Training  : 100%|██████████| 6/6 [00:02<00:00,  2.00it/s, loss=0.068] \n",
      "Training  : 100%|██████████| 6/6 [00:02<00:00,  2.01it/s, loss=0.0628]\n",
      "Training  : 100%|██████████| 6/6 [00:02<00:00,  2.00it/s, loss=0.0597]\n",
      "Training  : 100%|██████████| 6/6 [00:03<00:00,  2.00it/s, loss=0.0598]\n",
      "Training  : 100%|██████████| 6/6 [00:03<00:00,  1.97it/s, loss=0.064] \n",
      "Training  : 100%|██████████| 6/6 [00:02<00:00,  2.04it/s, loss=0.0614]\n",
      "Training  : 100%|██████████| 6/6 [00:03<00:00,  1.98it/s, loss=0.0566] \n",
      "Training  : 100%|██████████| 6/6 [00:03<00:00,  2.00it/s, loss=0.0721]\n",
      "Training  : 100%|██████████| 6/6 [00:03<00:00,  1.97it/s, loss=0.0652]\n",
      "Training  : 100%|██████████| 6/6 [00:02<00:00,  2.07it/s, loss=0.0645] \n",
      "Training  : 100%|██████████| 6/6 [00:02<00:00,  2.04it/s, loss=0.0629]\n",
      "Training  : 100%|██████████| 6/6 [00:02<00:00,  2.02it/s, loss=0.0588]\n",
      "Training  : 100%|██████████| 6/6 [00:02<00:00,  2.01it/s, loss=0.0631]\n",
      "Training  : 100%|██████████| 6/6 [00:02<00:00,  2.01it/s, loss=0.0609]\n",
      "Training  : 100%|██████████| 6/6 [00:03<00:00,  2.00it/s, loss=0.0781]\n",
      "Training  : 100%|██████████| 6/6 [00:02<00:00,  2.03it/s, loss=0.0653]\n",
      "Training  : 100%|██████████| 6/6 [00:02<00:00,  2.03it/s, loss=0.0784]\n",
      "Training  : 100%|██████████| 6/6 [00:02<00:00,  2.03it/s, loss=0.0657]\n",
      "Training  : 100%|██████████| 6/6 [00:02<00:00,  2.02it/s, loss=0.0571]\n",
      "Training  : 100%|██████████| 6/6 [00:02<00:00,  2.04it/s, loss=0.0572] \n",
      "Training  : 100%|██████████| 6/6 [00:02<00:00,  2.01it/s, loss=0.0596]\n",
      "Training  : 100%|██████████| 6/6 [00:03<00:00,  1.99it/s, loss=0.0612]\n",
      "Training  : 100%|██████████| 6/6 [00:03<00:00,  1.95it/s, loss=0.0571]\n",
      "Training  : 100%|██████████| 6/6 [00:03<00:00,  1.93it/s, loss=0.0608]\n",
      "Training  : 100%|██████████| 6/6 [00:03<00:00,  1.99it/s, loss=0.0607]\n",
      "Training  : 100%|██████████| 6/6 [00:03<00:00,  2.00it/s, loss=0.0633]\n",
      "Training  : 100%|██████████| 6/6 [00:02<00:00,  2.03it/s, loss=0.0656]\n",
      "Training  : 100%|██████████| 6/6 [00:02<00:00,  2.02it/s, loss=0.0771]\n",
      "Training  : 100%|██████████| 6/6 [00:03<00:00,  1.97it/s, loss=0.064] \n",
      "Training  : 100%|██████████| 6/6 [00:03<00:00,  1.98it/s, loss=0.0569] \n",
      "Training  : 100%|██████████| 6/6 [00:02<00:00,  2.01it/s, loss=0.064]  \n",
      "Training  : 100%|██████████| 6/6 [00:03<00:00,  2.00it/s, loss=0.0621]\n",
      "Training  : 100%|██████████| 6/6 [00:02<00:00,  2.03it/s, loss=0.0568]\n",
      "Training  : 100%|██████████| 6/6 [00:03<00:00,  1.91it/s, loss=0.0677]\n",
      "Training  : 100%|██████████| 6/6 [00:02<00:00,  2.01it/s, loss=0.0658]\n",
      "Training  : 100%|██████████| 6/6 [00:02<00:00,  2.01it/s, loss=0.0572]\n",
      "Training  : 100%|██████████| 6/6 [00:03<00:00,  1.99it/s, loss=0.0598]\n",
      "Training  : 100%|██████████| 6/6 [00:02<00:00,  2.02it/s, loss=0.0667]\n",
      "Training  : 100%|██████████| 6/6 [00:02<00:00,  2.03it/s, loss=0.0604]\n",
      "Predicting: 100%|██████████| 12/12 [00:01<00:00,  8.20it/s]\n"
     ]
    },
    {
     "name": "stdout",
     "output_type": "stream",
     "text": [
      "Building sklearn text classifier...\n",
      "Loading bert-base-uncased model...\n",
      "Defaulting to linear classifier/regressor\n",
      "Loading Pytorch checkpoint\n",
      "train data size: 178, validation data size: 0\n"
     ]
    },
    {
     "name": "stderr",
     "output_type": "stream",
     "text": [
      "Training  : 100%|██████████| 6/6 [00:02<00:00,  2.04it/s, loss=0.94] \n",
      "Training  : 100%|██████████| 6/6 [00:02<00:00,  2.02it/s, loss=0.747]\n",
      "Training  : 100%|██████████| 6/6 [00:03<00:00,  1.97it/s, loss=0.454]\n",
      "Training  : 100%|██████████| 6/6 [00:03<00:00,  1.95it/s, loss=0.323]\n",
      "Training  : 100%|██████████| 6/6 [00:02<00:00,  2.02it/s, loss=0.287]\n",
      "Training  : 100%|██████████| 6/6 [00:03<00:00,  2.00it/s, loss=0.236]\n",
      "Training  : 100%|██████████| 6/6 [00:03<00:00,  2.00it/s, loss=0.251]\n",
      "Training  : 100%|██████████| 6/6 [00:02<00:00,  2.03it/s, loss=0.23] \n",
      "Training  : 100%|██████████| 6/6 [00:03<00:00,  1.98it/s, loss=0.209]\n",
      "Training  : 100%|██████████| 6/6 [00:03<00:00,  1.98it/s, loss=0.213]\n",
      "Training  : 100%|██████████| 6/6 [00:03<00:00,  1.98it/s, loss=0.224]\n",
      "Training  : 100%|██████████| 6/6 [00:03<00:00,  1.96it/s, loss=0.192]\n",
      "Training  : 100%|██████████| 6/6 [00:02<00:00,  2.03it/s, loss=0.225]\n",
      "Training  : 100%|██████████| 6/6 [00:02<00:00,  2.02it/s, loss=0.232] \n",
      "Training  : 100%|██████████| 6/6 [00:03<00:00,  1.95it/s, loss=0.214]\n",
      "Training  : 100%|██████████| 6/6 [00:02<00:00,  2.00it/s, loss=0.216]\n",
      "Training  : 100%|██████████| 6/6 [00:02<00:00,  2.00it/s, loss=0.208] \n",
      "Training  : 100%|██████████| 6/6 [00:02<00:00,  2.03it/s, loss=0.194] \n",
      "Training  : 100%|██████████| 6/6 [00:02<00:00,  2.02it/s, loss=0.186]\n",
      "Training  : 100%|██████████| 6/6 [00:02<00:00,  2.00it/s, loss=0.183]\n",
      "Training  : 100%|██████████| 6/6 [00:02<00:00,  2.05it/s, loss=0.193]\n",
      "Training  : 100%|██████████| 6/6 [00:03<00:00,  1.98it/s, loss=0.165]\n",
      "Training  : 100%|██████████| 6/6 [00:02<00:00,  2.00it/s, loss=0.17] \n",
      "Training  : 100%|██████████| 6/6 [00:03<00:00,  1.95it/s, loss=0.16] \n",
      "Training  : 100%|██████████| 6/6 [00:02<00:00,  2.02it/s, loss=0.142]\n",
      "Training  : 100%|██████████| 6/6 [00:02<00:00,  2.02it/s, loss=0.15] \n",
      "Training  : 100%|██████████| 6/6 [00:02<00:00,  2.02it/s, loss=0.136]\n",
      "Training  : 100%|██████████| 6/6 [00:03<00:00,  1.94it/s, loss=0.121]\n",
      "Training  : 100%|██████████| 6/6 [00:03<00:00,  2.00it/s, loss=0.156]\n",
      "Training  : 100%|██████████| 6/6 [00:03<00:00,  1.97it/s, loss=0.118] \n",
      "Training  : 100%|██████████| 6/6 [00:02<00:00,  2.02it/s, loss=0.126] \n",
      "Training  : 100%|██████████| 6/6 [00:02<00:00,  2.04it/s, loss=0.115]\n",
      "Training  : 100%|██████████| 6/6 [00:03<00:00,  1.98it/s, loss=0.106]\n",
      "Training  : 100%|██████████| 6/6 [00:02<00:00,  2.04it/s, loss=0.125]\n",
      "Training  : 100%|██████████| 6/6 [00:02<00:00,  2.05it/s, loss=0.114]\n",
      "Training  : 100%|██████████| 6/6 [00:02<00:00,  2.02it/s, loss=0.129] \n",
      "Training  : 100%|██████████| 6/6 [00:03<00:00,  1.98it/s, loss=0.124] \n",
      "Training  : 100%|██████████| 6/6 [00:02<00:00,  2.02it/s, loss=0.113] \n",
      "Training  : 100%|██████████| 6/6 [00:03<00:00,  1.97it/s, loss=0.115] \n",
      "Training  : 100%|██████████| 6/6 [00:02<00:00,  2.01it/s, loss=0.115]\n",
      "Training  : 100%|██████████| 6/6 [00:03<00:00,  1.98it/s, loss=0.116] \n",
      "Training  : 100%|██████████| 6/6 [00:02<00:00,  2.02it/s, loss=0.12] \n",
      "Training  : 100%|██████████| 6/6 [00:03<00:00,  1.98it/s, loss=0.101]\n",
      "Training  : 100%|██████████| 6/6 [00:02<00:00,  2.03it/s, loss=0.105] \n",
      "Training  : 100%|██████████| 6/6 [00:03<00:00,  2.00it/s, loss=0.12] \n",
      "Training  : 100%|██████████| 6/6 [00:03<00:00,  1.95it/s, loss=0.0988]\n",
      "Training  : 100%|██████████| 6/6 [00:02<00:00,  2.00it/s, loss=0.106] \n",
      "Training  : 100%|██████████| 6/6 [00:02<00:00,  2.01it/s, loss=0.111]\n",
      "Training  : 100%|██████████| 6/6 [00:03<00:00,  1.98it/s, loss=0.124]\n",
      "Training  : 100%|██████████| 6/6 [00:02<00:00,  2.02it/s, loss=0.114] \n",
      "Training  : 100%|██████████| 6/6 [00:02<00:00,  2.01it/s, loss=0.121] \n",
      "Training  : 100%|██████████| 6/6 [00:02<00:00,  2.01it/s, loss=0.121] \n",
      "Training  : 100%|██████████| 6/6 [00:03<00:00,  1.97it/s, loss=0.11] \n",
      "Training  : 100%|██████████| 6/6 [00:02<00:00,  2.02it/s, loss=0.124]\n",
      "Training  : 100%|██████████| 6/6 [00:02<00:00,  2.01it/s, loss=0.116] \n",
      "Training  : 100%|██████████| 6/6 [00:02<00:00,  2.04it/s, loss=0.105]\n",
      "Training  : 100%|██████████| 6/6 [00:02<00:00,  2.03it/s, loss=0.125] \n",
      "Training  : 100%|██████████| 6/6 [00:02<00:00,  2.02it/s, loss=0.115] \n",
      "Training  : 100%|██████████| 6/6 [00:03<00:00,  1.99it/s, loss=0.114] \n",
      "Training  : 100%|██████████| 6/6 [00:02<00:00,  2.04it/s, loss=0.105]\n",
      "Training  : 100%|██████████| 6/6 [00:03<00:00,  1.99it/s, loss=0.102]\n",
      "Training  : 100%|██████████| 6/6 [00:03<00:00,  2.00it/s, loss=0.103] \n",
      "Training  : 100%|██████████| 6/6 [00:02<00:00,  2.01it/s, loss=0.105] \n",
      "Training  : 100%|██████████| 6/6 [00:02<00:00,  2.03it/s, loss=0.102] \n",
      "Training  : 100%|██████████| 6/6 [00:03<00:00,  1.95it/s, loss=0.12]  \n",
      "Training  : 100%|██████████| 6/6 [00:02<00:00,  2.03it/s, loss=0.104] \n",
      "Training  : 100%|██████████| 6/6 [00:03<00:00,  1.95it/s, loss=0.0983]\n",
      "Training  : 100%|██████████| 6/6 [00:03<00:00,  1.99it/s, loss=0.104] \n",
      "Training  : 100%|██████████| 6/6 [00:02<00:00,  2.03it/s, loss=0.115] \n",
      "Training  : 100%|██████████| 6/6 [00:02<00:00,  2.02it/s, loss=0.101]\n",
      "Training  : 100%|██████████| 6/6 [00:03<00:00,  1.98it/s, loss=0.118] \n",
      "Training  : 100%|██████████| 6/6 [00:02<00:00,  2.01it/s, loss=0.115] \n",
      "Training  : 100%|██████████| 6/6 [00:02<00:00,  2.02it/s, loss=0.126] \n",
      "Training  : 100%|██████████| 6/6 [00:02<00:00,  2.01it/s, loss=0.109]\n",
      "Training  : 100%|██████████| 6/6 [00:02<00:00,  2.02it/s, loss=0.106]\n",
      "Training  : 100%|██████████| 6/6 [00:02<00:00,  2.01it/s, loss=0.124] \n",
      "Training  : 100%|██████████| 6/6 [00:02<00:00,  2.01it/s, loss=0.105] \n",
      "Training  : 100%|██████████| 6/6 [00:03<00:00,  1.99it/s, loss=0.119] \n",
      "Training  : 100%|██████████| 6/6 [00:03<00:00,  1.96it/s, loss=0.111] \n",
      "Training  : 100%|██████████| 6/6 [00:03<00:00,  1.99it/s, loss=0.105] \n",
      "Training  : 100%|██████████| 6/6 [00:02<00:00,  2.05it/s, loss=0.0952]\n",
      "Training  : 100%|██████████| 6/6 [00:02<00:00,  2.02it/s, loss=0.104]\n",
      "Training  : 100%|██████████| 6/6 [00:03<00:00,  1.98it/s, loss=0.1]  \n",
      "Training  : 100%|██████████| 6/6 [00:03<00:00,  1.99it/s, loss=0.109] \n",
      "Training  : 100%|██████████| 6/6 [00:02<00:00,  2.01it/s, loss=0.115] \n",
      "Training  : 100%|██████████| 6/6 [00:03<00:00,  1.98it/s, loss=0.111]\n",
      "Training  : 100%|██████████| 6/6 [00:03<00:00,  1.96it/s, loss=0.116] \n",
      "Training  : 100%|██████████| 6/6 [00:02<00:00,  2.05it/s, loss=0.103] \n",
      "Training  : 100%|██████████| 6/6 [00:03<00:00,  1.99it/s, loss=0.117] \n",
      "Training  : 100%|██████████| 6/6 [00:02<00:00,  2.02it/s, loss=0.102] \n",
      "Training  : 100%|██████████| 6/6 [00:03<00:00,  1.94it/s, loss=0.111] \n",
      "Training  : 100%|██████████| 6/6 [00:02<00:00,  2.04it/s, loss=0.106] \n",
      "Training  : 100%|██████████| 6/6 [00:03<00:00,  1.94it/s, loss=0.103] \n",
      "Training  : 100%|██████████| 6/6 [00:03<00:00,  1.99it/s, loss=0.116] \n",
      "Training  : 100%|██████████| 6/6 [00:02<00:00,  2.03it/s, loss=0.108]\n",
      "Training  : 100%|██████████| 6/6 [00:03<00:00,  1.99it/s, loss=0.103]\n",
      "Training  : 100%|██████████| 6/6 [00:02<00:00,  2.03it/s, loss=0.102] \n",
      "Training  : 100%|██████████| 6/6 [00:03<00:00,  2.00it/s, loss=0.106]\n",
      "Training  : 100%|██████████| 6/6 [00:02<00:00,  2.02it/s, loss=0.1]   \n",
      "Training  : 100%|██████████| 6/6 [00:02<00:00,  2.02it/s, loss=0.116] \n",
      "Predicting: 100%|██████████| 12/12 [00:01<00:00,  8.32it/s]\n"
     ]
    },
    {
     "name": "stdout",
     "output_type": "stream",
     "text": [
      "Building sklearn text classifier...\n",
      "Loading bert-base-uncased model...\n",
      "Defaulting to linear classifier/regressor\n",
      "Loading Pytorch checkpoint\n",
      "train data size: 178, validation data size: 0\n"
     ]
    },
    {
     "name": "stderr",
     "output_type": "stream",
     "text": [
      "Training  : 100%|██████████| 6/6 [00:03<00:00,  1.98it/s, loss=0.947]\n",
      "Training  : 100%|██████████| 6/6 [00:02<00:00,  2.03it/s, loss=0.754]\n",
      "Training  : 100%|██████████| 6/6 [00:02<00:00,  2.00it/s, loss=0.504]\n",
      "Training  : 100%|██████████| 6/6 [00:02<00:00,  2.03it/s, loss=0.333]\n",
      "Training  : 100%|██████████| 6/6 [00:02<00:00,  2.04it/s, loss=0.302]\n",
      "Training  : 100%|██████████| 6/6 [00:02<00:00,  2.03it/s, loss=0.248]\n",
      "Training  : 100%|██████████| 6/6 [00:02<00:00,  2.02it/s, loss=0.248]\n",
      "Training  : 100%|██████████| 6/6 [00:03<00:00,  1.99it/s, loss=0.252]\n",
      "Training  : 100%|██████████| 6/6 [00:02<00:00,  2.02it/s, loss=0.208]\n",
      "Training  : 100%|██████████| 6/6 [00:02<00:00,  2.01it/s, loss=0.21] \n",
      "Training  : 100%|██████████| 6/6 [00:03<00:00,  1.94it/s, loss=0.209]\n",
      "Training  : 100%|██████████| 6/6 [00:03<00:00,  1.96it/s, loss=0.207]\n",
      "Training  : 100%|██████████| 6/6 [00:02<00:00,  2.00it/s, loss=0.214]\n",
      "Training  : 100%|██████████| 6/6 [00:03<00:00,  1.97it/s, loss=0.237]\n",
      "Training  : 100%|██████████| 6/6 [00:02<00:00,  2.01it/s, loss=0.216] \n",
      "Training  : 100%|██████████| 6/6 [00:03<00:00,  1.96it/s, loss=0.213]\n",
      "Training  : 100%|██████████| 6/6 [00:02<00:00,  2.02it/s, loss=0.215]\n",
      "Training  : 100%|██████████| 6/6 [00:02<00:00,  2.02it/s, loss=0.186]\n",
      "Training  : 100%|██████████| 6/6 [00:02<00:00,  2.00it/s, loss=0.184]\n",
      "Training  : 100%|██████████| 6/6 [00:02<00:00,  2.01it/s, loss=0.16]  \n",
      "Training  : 100%|██████████| 6/6 [00:02<00:00,  2.01it/s, loss=0.184]\n",
      "Training  : 100%|██████████| 6/6 [00:03<00:00,  1.99it/s, loss=0.15] \n",
      "Training  : 100%|██████████| 6/6 [00:03<00:00,  1.99it/s, loss=0.159]\n",
      "Training  : 100%|██████████| 6/6 [00:02<00:00,  2.06it/s, loss=0.161]\n",
      "Training  : 100%|██████████| 6/6 [00:02<00:00,  2.01it/s, loss=0.144]\n",
      "Training  : 100%|██████████| 6/6 [00:03<00:00,  1.99it/s, loss=0.151] \n",
      "Training  : 100%|██████████| 6/6 [00:03<00:00,  1.98it/s, loss=0.141] \n",
      "Training  : 100%|██████████| 6/6 [00:02<00:00,  2.01it/s, loss=0.131]\n",
      "Training  : 100%|██████████| 6/6 [00:03<00:00,  1.94it/s, loss=0.129]\n",
      "Training  : 100%|██████████| 6/6 [00:02<00:00,  2.03it/s, loss=0.131] \n",
      "Training  : 100%|██████████| 6/6 [00:02<00:00,  2.02it/s, loss=0.123] \n",
      "Training  : 100%|██████████| 6/6 [00:02<00:00,  2.00it/s, loss=0.113] \n",
      "Training  : 100%|██████████| 6/6 [00:02<00:00,  2.01it/s, loss=0.104]\n",
      "Training  : 100%|██████████| 6/6 [00:03<00:00,  2.00it/s, loss=0.117] \n",
      "Training  : 100%|██████████| 6/6 [00:03<00:00,  1.94it/s, loss=0.106]\n",
      "Training  : 100%|██████████| 6/6 [00:03<00:00,  2.00it/s, loss=0.129] \n",
      "Training  : 100%|██████████| 6/6 [00:03<00:00,  1.99it/s, loss=0.118]\n",
      "Training  : 100%|██████████| 6/6 [00:02<00:00,  2.01it/s, loss=0.14]  \n",
      "Training  : 100%|██████████| 6/6 [00:02<00:00,  2.02it/s, loss=0.118] \n",
      "Training  : 100%|██████████| 6/6 [00:02<00:00,  2.02it/s, loss=0.126]\n",
      "Training  : 100%|██████████| 6/6 [00:03<00:00,  1.98it/s, loss=0.125] \n",
      "Training  : 100%|██████████| 6/6 [00:03<00:00,  1.99it/s, loss=0.117] \n",
      "Training  : 100%|██████████| 6/6 [00:02<00:00,  2.01it/s, loss=0.0963]\n",
      "Training  : 100%|██████████| 6/6 [00:03<00:00,  1.98it/s, loss=0.111]\n",
      "Training  : 100%|██████████| 6/6 [00:03<00:00,  1.98it/s, loss=0.108]\n",
      "Training  : 100%|██████████| 6/6 [00:02<00:00,  2.02it/s, loss=0.112] \n",
      "Training  : 100%|██████████| 6/6 [00:03<00:00,  1.93it/s, loss=0.117]\n",
      "Training  : 100%|██████████| 6/6 [00:03<00:00,  2.00it/s, loss=0.11] \n",
      "Training  : 100%|██████████| 6/6 [00:03<00:00,  1.99it/s, loss=0.11]  \n",
      "Training  : 100%|██████████| 6/6 [00:03<00:00,  1.99it/s, loss=0.112]\n",
      "Training  : 100%|██████████| 6/6 [00:03<00:00,  1.97it/s, loss=0.107]\n",
      "Training  : 100%|██████████| 6/6 [00:02<00:00,  2.01it/s, loss=0.135] \n",
      "Training  : 100%|██████████| 6/6 [00:02<00:00,  2.02it/s, loss=0.11]  \n",
      "Training  : 100%|██████████| 6/6 [00:02<00:00,  2.04it/s, loss=0.12] \n",
      "Training  : 100%|██████████| 6/6 [00:03<00:00,  1.97it/s, loss=0.114] \n",
      "Training  : 100%|██████████| 6/6 [00:02<00:00,  2.02it/s, loss=0.114] \n",
      "Training  : 100%|██████████| 6/6 [00:02<00:00,  2.02it/s, loss=0.118] \n",
      "Training  : 100%|██████████| 6/6 [00:03<00:00,  1.99it/s, loss=0.105] \n",
      "Training  : 100%|██████████| 6/6 [00:03<00:00,  2.00it/s, loss=0.122]\n",
      "Training  : 100%|██████████| 6/6 [00:03<00:00,  1.97it/s, loss=0.122]\n",
      "Training  : 100%|██████████| 6/6 [00:03<00:00,  1.93it/s, loss=0.108]\n",
      "Training  : 100%|██████████| 6/6 [00:03<00:00,  1.98it/s, loss=0.111]\n",
      "Training  : 100%|██████████| 6/6 [00:03<00:00,  1.96it/s, loss=0.104] \n",
      "Training  : 100%|██████████| 6/6 [00:03<00:00,  1.96it/s, loss=0.102] \n",
      "Training  : 100%|██████████| 6/6 [00:02<00:00,  2.03it/s, loss=0.121] \n",
      "Training  : 100%|██████████| 6/6 [00:03<00:00,  2.00it/s, loss=0.1]   \n",
      "Training  : 100%|██████████| 6/6 [00:02<00:00,  2.02it/s, loss=0.0972]\n",
      "Training  : 100%|██████████| 6/6 [00:02<00:00,  2.04it/s, loss=0.102] \n",
      "Training  : 100%|██████████| 6/6 [00:03<00:00,  1.96it/s, loss=0.115] \n",
      "Training  : 100%|██████████| 6/6 [00:02<00:00,  2.00it/s, loss=0.101]\n",
      "Training  : 100%|██████████| 6/6 [00:03<00:00,  1.99it/s, loss=0.118] \n",
      "Training  : 100%|██████████| 6/6 [00:02<00:00,  2.04it/s, loss=0.124]\n",
      "Training  : 100%|██████████| 6/6 [00:03<00:00,  2.00it/s, loss=0.128] \n",
      "Training  : 100%|██████████| 6/6 [00:03<00:00,  2.00it/s, loss=0.127] \n",
      "Training  : 100%|██████████| 6/6 [00:03<00:00,  1.90it/s, loss=0.109] \n",
      "Training  : 100%|██████████| 6/6 [00:03<00:00,  1.99it/s, loss=0.115] \n",
      "Training  : 100%|██████████| 6/6 [00:03<00:00,  1.96it/s, loss=0.112] \n",
      "Training  : 100%|██████████| 6/6 [00:03<00:00,  1.99it/s, loss=0.111] \n",
      "Training  : 100%|██████████| 6/6 [00:02<00:00,  2.00it/s, loss=0.116] \n",
      "Training  : 100%|██████████| 6/6 [00:03<00:00,  2.00it/s, loss=0.113]\n",
      "Training  : 100%|██████████| 6/6 [00:02<00:00,  2.03it/s, loss=0.105] \n",
      "Training  : 100%|██████████| 6/6 [00:02<00:00,  2.02it/s, loss=0.11] \n",
      "Training  : 100%|██████████| 6/6 [00:02<00:00,  2.01it/s, loss=0.0991]\n",
      "Training  : 100%|██████████| 6/6 [00:02<00:00,  2.01it/s, loss=0.11]  \n",
      "Training  : 100%|██████████| 6/6 [00:02<00:00,  2.02it/s, loss=0.106] \n",
      "Training  : 100%|██████████| 6/6 [00:02<00:00,  2.01it/s, loss=0.11]  \n",
      "Training  : 100%|██████████| 6/6 [00:03<00:00,  1.99it/s, loss=0.117] \n",
      "Training  : 100%|██████████| 6/6 [00:02<00:00,  2.02it/s, loss=0.115]\n",
      "Training  : 100%|██████████| 6/6 [00:02<00:00,  2.00it/s, loss=0.109] \n",
      "Training  : 100%|██████████| 6/6 [00:02<00:00,  2.02it/s, loss=0.106]\n",
      "Training  : 100%|██████████| 6/6 [00:02<00:00,  2.01it/s, loss=0.113] \n",
      "Training  : 100%|██████████| 6/6 [00:03<00:00,  2.00it/s, loss=0.105] \n",
      "Training  : 100%|██████████| 6/6 [00:03<00:00,  1.99it/s, loss=0.101]\n",
      "Training  : 100%|██████████| 6/6 [00:02<00:00,  2.02it/s, loss=0.123] \n",
      "Training  : 100%|██████████| 6/6 [00:03<00:00,  2.00it/s, loss=0.108]\n",
      "Training  : 100%|██████████| 6/6 [00:03<00:00,  1.97it/s, loss=0.104] \n",
      "Training  : 100%|██████████| 6/6 [00:02<00:00,  2.01it/s, loss=0.11]  \n",
      "Training  : 100%|██████████| 6/6 [00:02<00:00,  2.02it/s, loss=0.111] \n",
      "Training  : 100%|██████████| 6/6 [00:02<00:00,  2.01it/s, loss=0.115] \n",
      "Training  : 100%|██████████| 6/6 [00:03<00:00,  1.95it/s, loss=0.115] \n",
      "Predicting: 100%|██████████| 12/12 [00:01<00:00,  8.00it/s]\n"
     ]
    },
    {
     "name": "stdout",
     "output_type": "stream",
     "text": [
      "Building sklearn text classifier...\n",
      "Building sklearn text classifier...\n",
      "Loading bert-base-uncased model...\n",
      "Defaulting to linear classifier/regressor\n",
      "Loading Pytorch checkpoint\n",
      "train data size: 267, validation data size: 0\n"
     ]
    },
    {
     "name": "stderr",
     "output_type": "stream",
     "text": [
      "Training  : 100%|██████████| 9/9 [00:03<00:00,  2.28it/s, loss=0.781]\n",
      "Training  : 100%|██████████| 9/9 [00:03<00:00,  2.32it/s, loss=0.346]\n",
      "Training  : 100%|██████████| 9/9 [00:03<00:00,  2.32it/s, loss=0.259]\n",
      "Training  : 100%|██████████| 9/9 [00:03<00:00,  2.30it/s, loss=0.211]\n",
      "Training  : 100%|██████████| 9/9 [00:03<00:00,  2.32it/s, loss=0.222]\n",
      "Training  : 100%|██████████| 9/9 [00:03<00:00,  2.30it/s, loss=0.195]\n",
      "Training  : 100%|██████████| 9/9 [00:03<00:00,  2.31it/s, loss=0.194]\n",
      "Training  : 100%|██████████| 9/9 [00:03<00:00,  2.30it/s, loss=0.179]\n",
      "Training  : 100%|██████████| 9/9 [00:03<00:00,  2.32it/s, loss=0.156]\n",
      "Training  : 100%|██████████| 9/9 [00:03<00:00,  2.33it/s, loss=0.145] \n",
      "Training  : 100%|██████████| 9/9 [00:03<00:00,  2.29it/s, loss=0.204] \n",
      "Training  : 100%|██████████| 9/9 [00:03<00:00,  2.31it/s, loss=0.189]\n",
      "Training  : 100%|██████████| 9/9 [00:03<00:00,  2.31it/s, loss=0.162] \n",
      "Training  : 100%|██████████| 9/9 [00:03<00:00,  2.31it/s, loss=0.181]\n",
      "Training  : 100%|██████████| 9/9 [00:03<00:00,  2.32it/s, loss=0.176]\n",
      "Training  : 100%|██████████| 9/9 [00:03<00:00,  2.33it/s, loss=0.149]\n",
      "Training  : 100%|██████████| 9/9 [00:03<00:00,  2.33it/s, loss=0.145] \n",
      "Training  : 100%|██████████| 9/9 [00:03<00:00,  2.32it/s, loss=0.15]  \n",
      "Training  : 100%|██████████| 9/9 [00:03<00:00,  2.29it/s, loss=0.121]\n",
      "Training  : 100%|██████████| 9/9 [00:03<00:00,  2.28it/s, loss=0.145] \n",
      "Training  : 100%|██████████| 9/9 [00:03<00:00,  2.30it/s, loss=0.12] \n",
      "Training  : 100%|██████████| 9/9 [00:03<00:00,  2.31it/s, loss=0.114] \n",
      "Training  : 100%|██████████| 9/9 [00:03<00:00,  2.30it/s, loss=0.118] \n",
      "Training  : 100%|██████████| 9/9 [00:04<00:00,  2.21it/s, loss=0.115]\n",
      "Training  : 100%|██████████| 9/9 [00:03<00:00,  2.30it/s, loss=0.115] \n",
      "Training  : 100%|██████████| 9/9 [00:03<00:00,  2.29it/s, loss=0.162] \n",
      "Training  : 100%|██████████| 9/9 [00:03<00:00,  2.31it/s, loss=0.116]\n",
      "Training  : 100%|██████████| 9/9 [00:03<00:00,  2.33it/s, loss=0.116] \n",
      "Training  : 100%|██████████| 9/9 [00:03<00:00,  2.32it/s, loss=0.102] \n",
      "Training  : 100%|██████████| 9/9 [00:03<00:00,  2.32it/s, loss=0.106] \n",
      "Training  : 100%|██████████| 9/9 [00:03<00:00,  2.32it/s, loss=0.11]  \n",
      "Training  : 100%|██████████| 9/9 [00:03<00:00,  2.32it/s, loss=0.137] \n",
      "Training  : 100%|██████████| 9/9 [00:03<00:00,  2.31it/s, loss=0.122] \n",
      "Training  : 100%|██████████| 9/9 [00:03<00:00,  2.29it/s, loss=0.117] \n",
      "Training  : 100%|██████████| 9/9 [00:03<00:00,  2.32it/s, loss=0.11] \n",
      "Training  : 100%|██████████| 9/9 [00:03<00:00,  2.31it/s, loss=0.115] \n",
      "Training  : 100%|██████████| 9/9 [00:03<00:00,  2.31it/s, loss=0.102] \n",
      "Training  : 100%|██████████| 9/9 [00:03<00:00,  2.31it/s, loss=0.125] \n",
      "Training  : 100%|██████████| 9/9 [00:03<00:00,  2.31it/s, loss=0.0942]\n",
      "Training  : 100%|██████████| 9/9 [00:03<00:00,  2.28it/s, loss=0.0937]\n",
      "Training  : 100%|██████████| 9/9 [00:03<00:00,  2.32it/s, loss=0.101] \n",
      "Training  : 100%|██████████| 9/9 [00:03<00:00,  2.32it/s, loss=0.0925]\n",
      "Training  : 100%|██████████| 9/9 [00:03<00:00,  2.31it/s, loss=0.0965]\n",
      "Training  : 100%|██████████| 9/9 [00:04<00:00,  2.25it/s, loss=0.0984]\n",
      "Training  : 100%|██████████| 9/9 [00:03<00:00,  2.32it/s, loss=0.102] \n",
      "Training  : 100%|██████████| 9/9 [00:03<00:00,  2.30it/s, loss=0.107] \n",
      "Training  : 100%|██████████| 9/9 [00:03<00:00,  2.29it/s, loss=0.0963]\n",
      "Training  : 100%|██████████| 9/9 [00:03<00:00,  2.29it/s, loss=0.0927]\n",
      "Training  : 100%|██████████| 9/9 [00:03<00:00,  2.31it/s, loss=0.0959]\n",
      "Training  : 100%|██████████| 9/9 [00:03<00:00,  2.29it/s, loss=0.089] \n"
     ]
    },
    {
     "data": {
      "text/plain": [
       "GridSearchCV(cv=3,\n",
       "             estimator=BertClassifier(max_seq_length=64, validation_fraction=0),\n",
       "             param_grid={'epochs': [50, 75, 100],\n",
       "                         'learning_rate': [2e-05, 3e-05, 1e-05]},\n",
       "             scoring='accuracy', verbose=True)"
      ]
     },
     "execution_count": 58,
     "metadata": {},
     "output_type": "execute_result"
    }
   ],
   "source": [
    "# %%time\n",
    "# from bert import run_classifier\n",
    "params = {'epochs':[50, 75, 100], 'learning_rate':[2e-5, 3e-5, 1e-5]}\n",
    "\n",
    "# wrap classifier/regressor in GridSearchCV\n",
    "clf_bert = GridSearchCV(BertClassifier(validation_fraction=0, max_seq_length=64), \n",
    "                   params,\n",
    "                   cv=3,\n",
    "                   scoring='accuracy',\n",
    "                   verbose=True)\n",
    "\n",
    "# fit gridsearch \n",
    "clf_bert.fit(X_train ,y_train)"
   ]
  },
  {
   "cell_type": "code",
   "execution_count": 59,
   "metadata": {},
   "outputs": [
    {
     "name": "stdout",
     "output_type": "stream",
     "text": [
      "0.918 (+/-0.046) for {'epochs': 50, 'learning_rate': 2e-05}\n",
      "0.921 (+/-0.055) for {'epochs': 50, 'learning_rate': 3e-05}\n",
      "0.918 (+/-0.046) for {'epochs': 50, 'learning_rate': 1e-05}\n",
      "0.921 (+/-0.049) for {'epochs': 75, 'learning_rate': 2e-05}\n",
      "0.918 (+/-0.046) for {'epochs': 75, 'learning_rate': 3e-05}\n",
      "0.914 (+/-0.046) for {'epochs': 75, 'learning_rate': 1e-05}\n",
      "0.921 (+/-0.037) for {'epochs': 100, 'learning_rate': 2e-05}\n",
      "0.918 (+/-0.038) for {'epochs': 100, 'learning_rate': 3e-05}\n",
      "0.918 (+/-0.038) for {'epochs': 100, 'learning_rate': 1e-05}\n",
      "\n",
      "Best score: 0.9213483146067416 with params: {'epochs': 50, 'learning_rate': 3e-05}\n"
     ]
    }
   ],
   "source": [
    "means = clf_bert.cv_results_['mean_test_score']\n",
    "stds = clf_bert.cv_results_['std_test_score']\n",
    "\n",
    "for mean, std, params in zip(means, stds, clf_bert.cv_results_['params']):\n",
    "        print(\"%0.3f (+/-%0.03f) for %r\"\n",
    "              % (mean, std * 2, params))\n",
    "        \n",
    "# best scores\n",
    "print(\"\\nBest score:\", clf_bert.best_score_,\"with params:\", clf_bert.best_params_)"
   ]
  },
  {
   "cell_type": "code",
   "execution_count": 60,
   "metadata": {},
   "outputs": [],
   "source": [
    "#define a batch size\n",
    "batch_size = 5\n",
    "epochs = 50\n",
    "learning_rate = 3e-5"
   ]
  },
  {
   "cell_type": "code",
   "execution_count": 61,
   "metadata": {},
   "outputs": [],
   "source": [
    "categories = {'control': 0, 'case': 1}\n",
    "# initialise the model use pretrained bert_2 instance and the label numbers\n",
    "model = BERT_Text_Classifier(bert_2, class_num=len(categories))\n",
    "\n",
    "# push the model to GPU\n",
    "model = model.to(device)\n",
    "\n",
    "# define the optimizer\n",
    "# optimizer = AdamW(model.parameters(),\n",
    "#                   lr = learning_rate)\n",
    "optimizer = optim.SGD(model.parameters(), lr=learning_rate)\n",
    "\n",
    "cross_entropy  = nn.NLLLoss() "
   ]
  },
  {
   "cell_type": "code",
   "execution_count": 62,
   "metadata": {},
   "outputs": [
    {
     "name": "stdout",
     "output_type": "stream",
     "text": [
      "\n",
      " Epoch 1 / 50\n"
     ]
    },
    {
     "name": "stderr",
     "output_type": "stream",
     "text": [
      "100%|██████████| 54/54 [00:01<00:00, 28.87it/s]"
     ]
    },
    {
     "name": "stdout",
     "output_type": "stream",
     "text": [
      "evaluating...\n"
     ]
    },
    {
     "name": "stderr",
     "output_type": "stream",
     "text": [
      "\n",
      "100%|██████████| 18/18 [00:00<00:00, 108.45it/s]"
     ]
    },
    {
     "name": "stdout",
     "output_type": "stream",
     "text": [
      "\n",
      "Training Loss: 0.767 dev performance, p:0.150, r:0.044, f1:0.068\n",
      "current best score is 0.068\n",
      "\n",
      " Epoch 2 / 50\n"
     ]
    },
    {
     "name": "stderr",
     "output_type": "stream",
     "text": [
      "\n",
      "100%|██████████| 54/54 [00:01<00:00, 28.96it/s]"
     ]
    },
    {
     "name": "stdout",
     "output_type": "stream",
     "text": [
      "evaluating...\n"
     ]
    },
    {
     "name": "stderr",
     "output_type": "stream",
     "text": [
      "\n",
      "100%|██████████| 18/18 [00:00<00:00, 108.89it/s]"
     ]
    },
    {
     "name": "stdout",
     "output_type": "stream",
     "text": [
      "\n",
      "Training Loss: 0.760 dev performance, p:0.143, r:0.044, f1:0.067\n",
      "\n",
      " Epoch 3 / 50\n"
     ]
    },
    {
     "name": "stderr",
     "output_type": "stream",
     "text": [
      "\n",
      "100%|██████████| 54/54 [00:01<00:00, 28.91it/s]"
     ]
    },
    {
     "name": "stdout",
     "output_type": "stream",
     "text": [
      "evaluating...\n"
     ]
    },
    {
     "name": "stderr",
     "output_type": "stream",
     "text": [
      "\n",
      "100%|██████████| 18/18 [00:00<00:00, 110.61it/s]"
     ]
    },
    {
     "name": "stdout",
     "output_type": "stream",
     "text": [
      "\n",
      "Training Loss: 0.751 dev performance, p:0.407, r:0.162, f1:0.232\n",
      "current best score is 0.232\n",
      "\n",
      " Epoch 4 / 50\n"
     ]
    },
    {
     "name": "stderr",
     "output_type": "stream",
     "text": [
      "\n",
      "100%|██████████| 54/54 [00:01<00:00, 29.09it/s]"
     ]
    },
    {
     "name": "stdout",
     "output_type": "stream",
     "text": [
      "evaluating...\n"
     ]
    },
    {
     "name": "stderr",
     "output_type": "stream",
     "text": [
      "\n",
      "100%|██████████| 18/18 [00:00<00:00, 110.59it/s]"
     ]
    },
    {
     "name": "stdout",
     "output_type": "stream",
     "text": [
      "\n",
      "Training Loss: 0.750 dev performance, p:0.280, r:0.103, f1:0.151\n",
      "\n",
      " Epoch 5 / 50\n"
     ]
    },
    {
     "name": "stderr",
     "output_type": "stream",
     "text": [
      "\n",
      "100%|██████████| 54/54 [00:01<00:00, 28.94it/s]"
     ]
    },
    {
     "name": "stdout",
     "output_type": "stream",
     "text": [
      "evaluating...\n"
     ]
    },
    {
     "name": "stderr",
     "output_type": "stream",
     "text": [
      "\n",
      "100%|██████████| 18/18 [00:00<00:00, 111.72it/s]"
     ]
    },
    {
     "name": "stdout",
     "output_type": "stream",
     "text": [
      "\n",
      "Training Loss: 0.730 dev performance, p:0.541, r:0.294, f1:0.381\n",
      "current best score is 0.381\n",
      "\n",
      " Epoch 6 / 50\n"
     ]
    },
    {
     "name": "stderr",
     "output_type": "stream",
     "text": [
      "\n",
      "100%|██████████| 54/54 [00:01<00:00, 29.10it/s]"
     ]
    },
    {
     "name": "stdout",
     "output_type": "stream",
     "text": [
      "evaluating...\n"
     ]
    },
    {
     "name": "stderr",
     "output_type": "stream",
     "text": [
      "\n",
      "100%|██████████| 18/18 [00:00<00:00, 110.40it/s]\n"
     ]
    },
    {
     "name": "stdout",
     "output_type": "stream",
     "text": [
      "\n",
      "Training Loss: 0.734 dev performance, p:0.300, r:0.132, f1:0.184\n",
      "\n",
      " Epoch 7 / 50\n"
     ]
    },
    {
     "name": "stderr",
     "output_type": "stream",
     "text": [
      "100%|██████████| 54/54 [00:01<00:00, 29.09it/s]"
     ]
    },
    {
     "name": "stdout",
     "output_type": "stream",
     "text": [
      "evaluating...\n"
     ]
    },
    {
     "name": "stderr",
     "output_type": "stream",
     "text": [
      "\n",
      "100%|██████████| 18/18 [00:00<00:00, 109.44it/s]"
     ]
    },
    {
     "name": "stdout",
     "output_type": "stream",
     "text": [
      "\n",
      "Training Loss: 0.723 dev performance, p:0.568, r:0.309, f1:0.400\n",
      "current best score is 0.400\n",
      "\n",
      " Epoch 8 / 50\n"
     ]
    },
    {
     "name": "stderr",
     "output_type": "stream",
     "text": [
      "\n",
      "100%|██████████| 54/54 [00:01<00:00, 29.15it/s]"
     ]
    },
    {
     "name": "stdout",
     "output_type": "stream",
     "text": [
      "evaluating...\n"
     ]
    },
    {
     "name": "stderr",
     "output_type": "stream",
     "text": [
      "\n",
      "100%|██████████| 18/18 [00:00<00:00, 110.84it/s]\n"
     ]
    },
    {
     "name": "stdout",
     "output_type": "stream",
     "text": [
      "\n",
      "Training Loss: 0.716 dev performance, p:0.627, r:0.471, f1:0.538\n",
      "current best score is 0.538\n",
      "\n",
      " Epoch 9 / 50\n"
     ]
    },
    {
     "name": "stderr",
     "output_type": "stream",
     "text": [
      "100%|██████████| 54/54 [00:01<00:00, 29.18it/s]"
     ]
    },
    {
     "name": "stdout",
     "output_type": "stream",
     "text": [
      "evaluating...\n"
     ]
    },
    {
     "name": "stderr",
     "output_type": "stream",
     "text": [
      "\n",
      "100%|██████████| 18/18 [00:00<00:00, 110.86it/s]\n"
     ]
    },
    {
     "name": "stdout",
     "output_type": "stream",
     "text": [
      "\n",
      "Training Loss: 0.707 dev performance, p:0.638, r:0.441, f1:0.522\n",
      "\n",
      " Epoch 10 / 50\n"
     ]
    },
    {
     "name": "stderr",
     "output_type": "stream",
     "text": [
      "100%|██████████| 54/54 [00:01<00:00, 28.83it/s]"
     ]
    },
    {
     "name": "stdout",
     "output_type": "stream",
     "text": [
      "evaluating...\n"
     ]
    },
    {
     "name": "stderr",
     "output_type": "stream",
     "text": [
      "\n",
      "100%|██████████| 18/18 [00:00<00:00, 110.78it/s]"
     ]
    },
    {
     "name": "stdout",
     "output_type": "stream",
     "text": [
      "\n",
      "Training Loss: 0.698 dev performance, p:0.649, r:0.544, f1:0.592\n",
      "current best score is 0.592\n",
      "\n",
      " Epoch 11 / 50\n"
     ]
    },
    {
     "name": "stderr",
     "output_type": "stream",
     "text": [
      "\n",
      "100%|██████████| 54/54 [00:01<00:00, 28.74it/s]"
     ]
    },
    {
     "name": "stdout",
     "output_type": "stream",
     "text": [
      "evaluating...\n"
     ]
    },
    {
     "name": "stderr",
     "output_type": "stream",
     "text": [
      "\n",
      "100%|██████████| 18/18 [00:00<00:00, 109.48it/s]"
     ]
    },
    {
     "name": "stdout",
     "output_type": "stream",
     "text": [
      "\n",
      "Training Loss: 0.691 dev performance, p:0.677, r:0.618, f1:0.646\n",
      "current best score is 0.646\n",
      "\n",
      " Epoch 12 / 50\n"
     ]
    },
    {
     "name": "stderr",
     "output_type": "stream",
     "text": [
      "\n",
      "100%|██████████| 54/54 [00:01<00:00, 29.13it/s]"
     ]
    },
    {
     "name": "stdout",
     "output_type": "stream",
     "text": [
      "evaluating...\n"
     ]
    },
    {
     "name": "stderr",
     "output_type": "stream",
     "text": [
      "\n",
      "100%|██████████| 18/18 [00:00<00:00, 110.64it/s]\n"
     ]
    },
    {
     "name": "stdout",
     "output_type": "stream",
     "text": [
      "\n",
      "Training Loss: 0.684 dev performance, p:0.743, r:0.765, f1:0.754\n",
      "current best score is 0.754\n",
      "\n",
      " Epoch 13 / 50\n"
     ]
    },
    {
     "name": "stderr",
     "output_type": "stream",
     "text": [
      "100%|██████████| 54/54 [00:01<00:00, 29.34it/s]"
     ]
    },
    {
     "name": "stdout",
     "output_type": "stream",
     "text": [
      "evaluating...\n"
     ]
    },
    {
     "name": "stderr",
     "output_type": "stream",
     "text": [
      "\n",
      "100%|██████████| 18/18 [00:00<00:00, 110.39it/s]"
     ]
    },
    {
     "name": "stdout",
     "output_type": "stream",
     "text": [
      "\n",
      "Training Loss: 0.681 dev performance, p:0.743, r:0.765, f1:0.754\n",
      "\n",
      " Epoch 14 / 50\n"
     ]
    },
    {
     "name": "stderr",
     "output_type": "stream",
     "text": [
      "\n",
      "100%|██████████| 54/54 [00:01<00:00, 29.22it/s]"
     ]
    },
    {
     "name": "stdout",
     "output_type": "stream",
     "text": [
      "evaluating...\n"
     ]
    },
    {
     "name": "stderr",
     "output_type": "stream",
     "text": [
      "\n",
      "100%|██████████| 18/18 [00:00<00:00, 111.15it/s]"
     ]
    },
    {
     "name": "stdout",
     "output_type": "stream",
     "text": [
      "\n",
      "Training Loss: 0.670 dev performance, p:0.753, r:0.853, f1:0.800\n",
      "current best score is 0.800\n",
      "\n",
      " Epoch 15 / 50\n"
     ]
    },
    {
     "name": "stderr",
     "output_type": "stream",
     "text": [
      "\n",
      "100%|██████████| 54/54 [00:01<00:00, 29.02it/s]"
     ]
    },
    {
     "name": "stdout",
     "output_type": "stream",
     "text": [
      "evaluating...\n"
     ]
    },
    {
     "name": "stderr",
     "output_type": "stream",
     "text": [
      "\n",
      "100%|██████████| 18/18 [00:00<00:00, 106.15it/s]"
     ]
    },
    {
     "name": "stdout",
     "output_type": "stream",
     "text": [
      "\n",
      "Training Loss: 0.661 dev performance, p:0.787, r:0.868, f1:0.825\n",
      "current best score is 0.825\n",
      "\n",
      " Epoch 16 / 50\n"
     ]
    },
    {
     "name": "stderr",
     "output_type": "stream",
     "text": [
      "\n",
      "100%|██████████| 54/54 [00:01<00:00, 27.53it/s]"
     ]
    },
    {
     "name": "stdout",
     "output_type": "stream",
     "text": [
      "evaluating...\n"
     ]
    },
    {
     "name": "stderr",
     "output_type": "stream",
     "text": [
      "\n",
      "100%|██████████| 18/18 [00:00<00:00, 106.16it/s]"
     ]
    },
    {
     "name": "stdout",
     "output_type": "stream",
     "text": [
      "\n",
      "Training Loss: 0.657 dev performance, p:0.795, r:0.971, f1:0.874\n",
      "current best score is 0.874\n",
      "\n",
      " Epoch 17 / 50\n"
     ]
    },
    {
     "name": "stderr",
     "output_type": "stream",
     "text": [
      "\n",
      "100%|██████████| 54/54 [00:01<00:00, 27.82it/s]"
     ]
    },
    {
     "name": "stdout",
     "output_type": "stream",
     "text": [
      "evaluating...\n"
     ]
    },
    {
     "name": "stderr",
     "output_type": "stream",
     "text": [
      "\n",
      "100%|██████████| 18/18 [00:00<00:00, 99.26it/s]"
     ]
    },
    {
     "name": "stdout",
     "output_type": "stream",
     "text": [
      "\n",
      "Training Loss: 0.648 dev performance, p:0.774, r:0.956, f1:0.855\n",
      "\n",
      " Epoch 18 / 50\n"
     ]
    },
    {
     "name": "stderr",
     "output_type": "stream",
     "text": [
      "\n",
      "100%|██████████| 54/54 [00:01<00:00, 27.99it/s]"
     ]
    },
    {
     "name": "stdout",
     "output_type": "stream",
     "text": [
      "evaluating...\n"
     ]
    },
    {
     "name": "stderr",
     "output_type": "stream",
     "text": [
      "\n",
      "100%|██████████| 18/18 [00:00<00:00, 110.19it/s]"
     ]
    },
    {
     "name": "stdout",
     "output_type": "stream",
     "text": [
      "\n",
      "Training Loss: 0.643 dev performance, p:0.774, r:0.956, f1:0.855\n",
      "\n",
      " Epoch 19 / 50\n"
     ]
    },
    {
     "name": "stderr",
     "output_type": "stream",
     "text": [
      "\n",
      "100%|██████████| 54/54 [00:01<00:00, 29.03it/s]"
     ]
    },
    {
     "name": "stdout",
     "output_type": "stream",
     "text": [
      "evaluating...\n"
     ]
    },
    {
     "name": "stderr",
     "output_type": "stream",
     "text": [
      "\n",
      "100%|██████████| 18/18 [00:00<00:00, 111.19it/s]"
     ]
    },
    {
     "name": "stdout",
     "output_type": "stream",
     "text": [
      "\n",
      "Training Loss: 0.635 dev performance, p:0.815, r:0.971, f1:0.886\n",
      "current best score is 0.886\n",
      "\n",
      " Epoch 20 / 50\n"
     ]
    },
    {
     "name": "stderr",
     "output_type": "stream",
     "text": [
      "\n",
      "100%|██████████| 54/54 [00:01<00:00, 29.31it/s]"
     ]
    },
    {
     "name": "stdout",
     "output_type": "stream",
     "text": [
      "evaluating...\n"
     ]
    },
    {
     "name": "stderr",
     "output_type": "stream",
     "text": [
      "\n",
      "100%|██████████| 18/18 [00:00<00:00, 111.34it/s]"
     ]
    },
    {
     "name": "stdout",
     "output_type": "stream",
     "text": [
      "\n",
      "Training Loss: 0.627 dev performance, p:0.850, r:1.000, f1:0.919\n",
      "current best score is 0.919\n",
      "\n",
      " Epoch 21 / 50\n"
     ]
    },
    {
     "name": "stderr",
     "output_type": "stream",
     "text": [
      "\n",
      "100%|██████████| 54/54 [00:01<00:00, 29.09it/s]"
     ]
    },
    {
     "name": "stdout",
     "output_type": "stream",
     "text": [
      "evaluating...\n"
     ]
    },
    {
     "name": "stderr",
     "output_type": "stream",
     "text": [
      "\n",
      "100%|██████████| 18/18 [00:00<00:00, 111.06it/s]"
     ]
    },
    {
     "name": "stdout",
     "output_type": "stream",
     "text": [
      "\n",
      "Training Loss: 0.618 dev performance, p:0.788, r:0.985, f1:0.876\n",
      "\n",
      " Epoch 22 / 50\n"
     ]
    },
    {
     "name": "stderr",
     "output_type": "stream",
     "text": [
      "\n",
      "100%|██████████| 54/54 [00:01<00:00, 29.06it/s]"
     ]
    },
    {
     "name": "stdout",
     "output_type": "stream",
     "text": [
      "evaluating...\n"
     ]
    },
    {
     "name": "stderr",
     "output_type": "stream",
     "text": [
      "\n",
      "100%|██████████| 18/18 [00:00<00:00, 111.23it/s]"
     ]
    },
    {
     "name": "stdout",
     "output_type": "stream",
     "text": [
      "\n",
      "Training Loss: 0.614 dev performance, p:0.810, r:1.000, f1:0.895\n",
      "\n",
      " Epoch 23 / 50\n"
     ]
    },
    {
     "name": "stderr",
     "output_type": "stream",
     "text": [
      "\n",
      "100%|██████████| 54/54 [00:01<00:00, 29.11it/s]"
     ]
    },
    {
     "name": "stdout",
     "output_type": "stream",
     "text": [
      "evaluating...\n"
     ]
    },
    {
     "name": "stderr",
     "output_type": "stream",
     "text": [
      "\n",
      "100%|██████████| 18/18 [00:00<00:00, 111.35it/s]"
     ]
    },
    {
     "name": "stdout",
     "output_type": "stream",
     "text": [
      "\n",
      "Training Loss: 0.606 dev performance, p:0.819, r:1.000, f1:0.901\n",
      "\n",
      " Epoch 24 / 50\n"
     ]
    },
    {
     "name": "stderr",
     "output_type": "stream",
     "text": [
      "\n",
      "100%|██████████| 54/54 [00:01<00:00, 29.19it/s]"
     ]
    },
    {
     "name": "stdout",
     "output_type": "stream",
     "text": [
      "evaluating...\n"
     ]
    },
    {
     "name": "stderr",
     "output_type": "stream",
     "text": [
      "\n",
      "100%|██████████| 18/18 [00:00<00:00, 106.90it/s]"
     ]
    },
    {
     "name": "stdout",
     "output_type": "stream",
     "text": [
      "\n",
      "Training Loss: 0.600 dev performance, p:0.810, r:1.000, f1:0.895\n",
      "\n",
      " Epoch 25 / 50\n"
     ]
    },
    {
     "name": "stderr",
     "output_type": "stream",
     "text": [
      "\n",
      "100%|██████████| 54/54 [00:01<00:00, 29.39it/s]"
     ]
    },
    {
     "name": "stdout",
     "output_type": "stream",
     "text": [
      "evaluating...\n"
     ]
    },
    {
     "name": "stderr",
     "output_type": "stream",
     "text": [
      "\n",
      "100%|██████████| 18/18 [00:00<00:00, 104.33it/s]"
     ]
    },
    {
     "name": "stdout",
     "output_type": "stream",
     "text": [
      "\n",
      "Training Loss: 0.599 dev performance, p:0.827, r:0.985, f1:0.899\n",
      "\n",
      " Epoch 26 / 50\n"
     ]
    },
    {
     "name": "stderr",
     "output_type": "stream",
     "text": [
      "\n",
      "100%|██████████| 54/54 [00:01<00:00, 29.46it/s]"
     ]
    },
    {
     "name": "stdout",
     "output_type": "stream",
     "text": [
      "evaluating...\n"
     ]
    },
    {
     "name": "stderr",
     "output_type": "stream",
     "text": [
      "\n",
      "100%|██████████| 18/18 [00:00<00:00, 104.17it/s]"
     ]
    },
    {
     "name": "stdout",
     "output_type": "stream",
     "text": [
      "\n",
      "Training Loss: 0.586 dev performance, p:0.848, r:0.985, f1:0.912\n",
      "\n",
      " Epoch 27 / 50\n"
     ]
    },
    {
     "name": "stderr",
     "output_type": "stream",
     "text": [
      "\n",
      "100%|██████████| 54/54 [00:01<00:00, 29.36it/s]"
     ]
    },
    {
     "name": "stdout",
     "output_type": "stream",
     "text": [
      "evaluating...\n"
     ]
    },
    {
     "name": "stderr",
     "output_type": "stream",
     "text": [
      "\n",
      "100%|██████████| 18/18 [00:00<00:00, 105.67it/s]"
     ]
    },
    {
     "name": "stdout",
     "output_type": "stream",
     "text": [
      "\n",
      "Training Loss: 0.584 dev performance, p:0.810, r:1.000, f1:0.895\n",
      "\n",
      " Epoch 28 / 50\n"
     ]
    },
    {
     "name": "stderr",
     "output_type": "stream",
     "text": [
      "\n",
      "100%|██████████| 54/54 [00:01<00:00, 29.45it/s]"
     ]
    },
    {
     "name": "stdout",
     "output_type": "stream",
     "text": [
      "evaluating...\n"
     ]
    },
    {
     "name": "stderr",
     "output_type": "stream",
     "text": [
      "\n",
      "100%|██████████| 18/18 [00:00<00:00, 104.60it/s]"
     ]
    },
    {
     "name": "stdout",
     "output_type": "stream",
     "text": [
      "\n",
      "Training Loss: 0.574 dev performance, p:0.880, r:0.971, f1:0.923\n",
      "current best score is 0.923\n",
      "\n",
      " Epoch 29 / 50\n"
     ]
    },
    {
     "name": "stderr",
     "output_type": "stream",
     "text": [
      "\n",
      "100%|██████████| 54/54 [00:01<00:00, 29.20it/s]"
     ]
    },
    {
     "name": "stdout",
     "output_type": "stream",
     "text": [
      "evaluating...\n"
     ]
    },
    {
     "name": "stderr",
     "output_type": "stream",
     "text": [
      "\n",
      "100%|██████████| 18/18 [00:00<00:00, 104.54it/s]"
     ]
    },
    {
     "name": "stdout",
     "output_type": "stream",
     "text": [
      "\n",
      "Training Loss: 0.575 dev performance, p:0.850, r:1.000, f1:0.919\n",
      "\n",
      " Epoch 30 / 50\n"
     ]
    },
    {
     "name": "stderr",
     "output_type": "stream",
     "text": [
      "\n",
      "100%|██████████| 54/54 [00:01<00:00, 28.82it/s]"
     ]
    },
    {
     "name": "stdout",
     "output_type": "stream",
     "text": [
      "evaluating...\n"
     ]
    },
    {
     "name": "stderr",
     "output_type": "stream",
     "text": [
      "\n",
      "100%|██████████| 18/18 [00:00<00:00, 105.66it/s]"
     ]
    },
    {
     "name": "stdout",
     "output_type": "stream",
     "text": [
      "\n",
      "Training Loss: 0.568 dev performance, p:0.840, r:1.000, f1:0.913\n",
      "\n",
      " Epoch 31 / 50\n"
     ]
    },
    {
     "name": "stderr",
     "output_type": "stream",
     "text": [
      "\n",
      "100%|██████████| 54/54 [00:01<00:00, 29.35it/s]"
     ]
    },
    {
     "name": "stdout",
     "output_type": "stream",
     "text": [
      "evaluating...\n"
     ]
    },
    {
     "name": "stderr",
     "output_type": "stream",
     "text": [
      "\n",
      "100%|██████████| 18/18 [00:00<00:00, 107.55it/s]"
     ]
    },
    {
     "name": "stdout",
     "output_type": "stream",
     "text": [
      "\n",
      "Training Loss: 0.558 dev performance, p:0.840, r:1.000, f1:0.913\n",
      "\n",
      " Epoch 32 / 50\n"
     ]
    },
    {
     "name": "stderr",
     "output_type": "stream",
     "text": [
      "\n",
      "100%|██████████| 54/54 [00:01<00:00, 27.52it/s]"
     ]
    },
    {
     "name": "stdout",
     "output_type": "stream",
     "text": [
      "evaluating...\n"
     ]
    },
    {
     "name": "stderr",
     "output_type": "stream",
     "text": [
      "\n",
      "100%|██████████| 18/18 [00:00<00:00, 110.15it/s]"
     ]
    },
    {
     "name": "stdout",
     "output_type": "stream",
     "text": [
      "\n",
      "Training Loss: 0.555 dev performance, p:0.872, r:1.000, f1:0.932\n",
      "current best score is 0.932\n",
      "\n",
      " Epoch 33 / 50\n"
     ]
    },
    {
     "name": "stderr",
     "output_type": "stream",
     "text": [
      "\n",
      "100%|██████████| 54/54 [00:01<00:00, 27.35it/s]"
     ]
    },
    {
     "name": "stdout",
     "output_type": "stream",
     "text": [
      "evaluating...\n"
     ]
    },
    {
     "name": "stderr",
     "output_type": "stream",
     "text": [
      "\n",
      "100%|██████████| 18/18 [00:00<00:00, 110.00it/s]"
     ]
    },
    {
     "name": "stdout",
     "output_type": "stream",
     "text": [
      "\n",
      "Training Loss: 0.545 dev performance, p:0.782, r:1.000, f1:0.877\n",
      "\n",
      " Epoch 34 / 50\n"
     ]
    },
    {
     "name": "stderr",
     "output_type": "stream",
     "text": [
      "\n",
      "100%|██████████| 54/54 [00:01<00:00, 27.31it/s]"
     ]
    },
    {
     "name": "stdout",
     "output_type": "stream",
     "text": [
      "evaluating...\n"
     ]
    },
    {
     "name": "stderr",
     "output_type": "stream",
     "text": [
      "\n",
      "100%|██████████| 18/18 [00:00<00:00, 110.29it/s]"
     ]
    },
    {
     "name": "stdout",
     "output_type": "stream",
     "text": [
      "\n",
      "Training Loss: 0.541 dev performance, p:0.883, r:1.000, f1:0.938\n",
      "current best score is 0.938\n",
      "\n",
      " Epoch 35 / 50\n"
     ]
    },
    {
     "name": "stderr",
     "output_type": "stream",
     "text": [
      "\n",
      "100%|██████████| 54/54 [00:01<00:00, 27.47it/s]"
     ]
    },
    {
     "name": "stdout",
     "output_type": "stream",
     "text": [
      "evaluating...\n"
     ]
    },
    {
     "name": "stderr",
     "output_type": "stream",
     "text": [
      "\n",
      "100%|██████████| 18/18 [00:00<00:00, 108.61it/s]"
     ]
    },
    {
     "name": "stdout",
     "output_type": "stream",
     "text": [
      "\n",
      "Training Loss: 0.538 dev performance, p:0.850, r:1.000, f1:0.919\n",
      "\n",
      " Epoch 36 / 50\n"
     ]
    },
    {
     "name": "stderr",
     "output_type": "stream",
     "text": [
      "\n",
      "100%|██████████| 54/54 [00:01<00:00, 27.43it/s]"
     ]
    },
    {
     "name": "stdout",
     "output_type": "stream",
     "text": [
      "evaluating...\n"
     ]
    },
    {
     "name": "stderr",
     "output_type": "stream",
     "text": [
      "\n",
      "100%|██████████| 18/18 [00:00<00:00, 108.43it/s]"
     ]
    },
    {
     "name": "stdout",
     "output_type": "stream",
     "text": [
      "\n",
      "Training Loss: 0.536 dev performance, p:0.872, r:1.000, f1:0.932\n",
      "\n",
      " Epoch 37 / 50\n"
     ]
    },
    {
     "name": "stderr",
     "output_type": "stream",
     "text": [
      "\n",
      "100%|██████████| 54/54 [00:01<00:00, 27.32it/s]"
     ]
    },
    {
     "name": "stdout",
     "output_type": "stream",
     "text": [
      "evaluating...\n"
     ]
    },
    {
     "name": "stderr",
     "output_type": "stream",
     "text": [
      "\n",
      "100%|██████████| 18/18 [00:00<00:00, 110.79it/s]"
     ]
    },
    {
     "name": "stdout",
     "output_type": "stream",
     "text": [
      "\n",
      "Training Loss: 0.523 dev performance, p:0.895, r:1.000, f1:0.944\n",
      "current best score is 0.944\n",
      "\n",
      " Epoch 38 / 50\n"
     ]
    },
    {
     "name": "stderr",
     "output_type": "stream",
     "text": [
      "\n",
      "100%|██████████| 54/54 [00:01<00:00, 29.15it/s]"
     ]
    },
    {
     "name": "stdout",
     "output_type": "stream",
     "text": [
      "evaluating...\n"
     ]
    },
    {
     "name": "stderr",
     "output_type": "stream",
     "text": [
      "\n",
      "100%|██████████| 18/18 [00:00<00:00, 112.24it/s]"
     ]
    },
    {
     "name": "stdout",
     "output_type": "stream",
     "text": [
      "\n",
      "Training Loss: 0.520 dev performance, p:0.872, r:1.000, f1:0.932\n",
      "\n",
      " Epoch 39 / 50\n"
     ]
    },
    {
     "name": "stderr",
     "output_type": "stream",
     "text": [
      "\n",
      "100%|██████████| 54/54 [00:01<00:00, 29.33it/s]"
     ]
    },
    {
     "name": "stdout",
     "output_type": "stream",
     "text": [
      "evaluating...\n"
     ]
    },
    {
     "name": "stderr",
     "output_type": "stream",
     "text": [
      "\n",
      "100%|██████████| 18/18 [00:00<00:00, 112.45it/s]"
     ]
    },
    {
     "name": "stdout",
     "output_type": "stream",
     "text": [
      "\n",
      "Training Loss: 0.510 dev performance, p:0.861, r:1.000, f1:0.925\n",
      "\n",
      " Epoch 40 / 50\n"
     ]
    },
    {
     "name": "stderr",
     "output_type": "stream",
     "text": [
      "\n",
      "100%|██████████| 54/54 [00:01<00:00, 29.32it/s]"
     ]
    },
    {
     "name": "stdout",
     "output_type": "stream",
     "text": [
      "evaluating...\n"
     ]
    },
    {
     "name": "stderr",
     "output_type": "stream",
     "text": [
      "\n",
      "100%|██████████| 18/18 [00:00<00:00, 112.35it/s]"
     ]
    },
    {
     "name": "stdout",
     "output_type": "stream",
     "text": [
      "\n",
      "Training Loss: 0.507 dev performance, p:0.810, r:1.000, f1:0.895\n",
      "\n",
      " Epoch 41 / 50\n"
     ]
    },
    {
     "name": "stderr",
     "output_type": "stream",
     "text": [
      "\n",
      "100%|██████████| 54/54 [00:01<00:00, 29.40it/s]"
     ]
    },
    {
     "name": "stdout",
     "output_type": "stream",
     "text": [
      "evaluating...\n"
     ]
    },
    {
     "name": "stderr",
     "output_type": "stream",
     "text": [
      "\n",
      "100%|██████████| 18/18 [00:00<00:00, 109.12it/s]"
     ]
    },
    {
     "name": "stdout",
     "output_type": "stream",
     "text": [
      "\n",
      "Training Loss: 0.504 dev performance, p:0.907, r:1.000, f1:0.951\n",
      "current best score is 0.951\n",
      "\n",
      " Epoch 42 / 50\n"
     ]
    },
    {
     "name": "stderr",
     "output_type": "stream",
     "text": [
      "\n",
      "100%|██████████| 54/54 [00:01<00:00, 29.22it/s]"
     ]
    },
    {
     "name": "stdout",
     "output_type": "stream",
     "text": [
      "evaluating...\n"
     ]
    },
    {
     "name": "stderr",
     "output_type": "stream",
     "text": [
      "\n",
      "100%|██████████| 18/18 [00:00<00:00, 111.26it/s]"
     ]
    },
    {
     "name": "stdout",
     "output_type": "stream",
     "text": [
      "\n",
      "Training Loss: 0.501 dev performance, p:0.883, r:1.000, f1:0.938\n",
      "\n",
      " Epoch 43 / 50\n"
     ]
    },
    {
     "name": "stderr",
     "output_type": "stream",
     "text": [
      "\n",
      "100%|██████████| 54/54 [00:01<00:00, 29.31it/s]"
     ]
    },
    {
     "name": "stdout",
     "output_type": "stream",
     "text": [
      "evaluating...\n"
     ]
    },
    {
     "name": "stderr",
     "output_type": "stream",
     "text": [
      "\n",
      "100%|██████████| 18/18 [00:00<00:00, 111.31it/s]"
     ]
    },
    {
     "name": "stdout",
     "output_type": "stream",
     "text": [
      "\n",
      "Training Loss: 0.498 dev performance, p:0.872, r:1.000, f1:0.932\n",
      "\n",
      " Epoch 44 / 50\n"
     ]
    },
    {
     "name": "stderr",
     "output_type": "stream",
     "text": [
      "\n",
      "100%|██████████| 54/54 [00:01<00:00, 29.35it/s]"
     ]
    },
    {
     "name": "stdout",
     "output_type": "stream",
     "text": [
      "evaluating...\n"
     ]
    },
    {
     "name": "stderr",
     "output_type": "stream",
     "text": [
      "\n",
      "100%|██████████| 18/18 [00:00<00:00, 110.79it/s]\n"
     ]
    },
    {
     "name": "stdout",
     "output_type": "stream",
     "text": [
      "\n",
      "Training Loss: 0.488 dev performance, p:0.882, r:0.985, f1:0.931\n",
      "\n",
      " Epoch 45 / 50\n"
     ]
    },
    {
     "name": "stderr",
     "output_type": "stream",
     "text": [
      "100%|██████████| 54/54 [00:01<00:00, 29.43it/s]"
     ]
    },
    {
     "name": "stdout",
     "output_type": "stream",
     "text": [
      "evaluating...\n"
     ]
    },
    {
     "name": "stderr",
     "output_type": "stream",
     "text": [
      "\n",
      "100%|██████████| 18/18 [00:00<00:00, 111.87it/s]"
     ]
    },
    {
     "name": "stdout",
     "output_type": "stream",
     "text": [
      "\n",
      "Training Loss: 0.489 dev performance, p:0.895, r:1.000, f1:0.944\n",
      "\n",
      " Epoch 46 / 50\n"
     ]
    },
    {
     "name": "stderr",
     "output_type": "stream",
     "text": [
      "\n",
      "100%|██████████| 54/54 [00:01<00:00, 29.41it/s]"
     ]
    },
    {
     "name": "stdout",
     "output_type": "stream",
     "text": [
      "evaluating...\n"
     ]
    },
    {
     "name": "stderr",
     "output_type": "stream",
     "text": [
      "\n",
      "100%|██████████| 18/18 [00:00<00:00, 112.32it/s]"
     ]
    },
    {
     "name": "stdout",
     "output_type": "stream",
     "text": [
      "\n",
      "Training Loss: 0.484 dev performance, p:0.907, r:1.000, f1:0.951\n",
      "\n",
      " Epoch 47 / 50\n"
     ]
    },
    {
     "name": "stderr",
     "output_type": "stream",
     "text": [
      "\n",
      "100%|██████████| 54/54 [00:01<00:00, 29.40it/s]"
     ]
    },
    {
     "name": "stdout",
     "output_type": "stream",
     "text": [
      "evaluating...\n"
     ]
    },
    {
     "name": "stderr",
     "output_type": "stream",
     "text": [
      "\n",
      "100%|██████████| 18/18 [00:00<00:00, 111.91it/s]"
     ]
    },
    {
     "name": "stdout",
     "output_type": "stream",
     "text": [
      "\n",
      "Training Loss: 0.474 dev performance, p:0.895, r:1.000, f1:0.944\n",
      "\n",
      " Epoch 48 / 50\n"
     ]
    },
    {
     "name": "stderr",
     "output_type": "stream",
     "text": [
      "\n",
      "100%|██████████| 54/54 [00:01<00:00, 29.37it/s]"
     ]
    },
    {
     "name": "stdout",
     "output_type": "stream",
     "text": [
      "evaluating...\n"
     ]
    },
    {
     "name": "stderr",
     "output_type": "stream",
     "text": [
      "\n",
      "100%|██████████| 18/18 [00:00<00:00, 112.13it/s]"
     ]
    },
    {
     "name": "stdout",
     "output_type": "stream",
     "text": [
      "\n",
      "Training Loss: 0.473 dev performance, p:0.919, r:1.000, f1:0.958\n"
     ]
    },
    {
     "name": "stderr",
     "output_type": "stream",
     "text": [
      "\n"
     ]
    },
    {
     "name": "stdout",
     "output_type": "stream",
     "text": [
      "current best score is 0.958\n",
      "\n",
      " Epoch 49 / 50\n"
     ]
    },
    {
     "name": "stderr",
     "output_type": "stream",
     "text": [
      "100%|██████████| 54/54 [00:01<00:00, 29.18it/s]"
     ]
    },
    {
     "name": "stdout",
     "output_type": "stream",
     "text": [
      "evaluating...\n"
     ]
    },
    {
     "name": "stderr",
     "output_type": "stream",
     "text": [
      "\n",
      "100%|██████████| 18/18 [00:00<00:00, 112.28it/s]"
     ]
    },
    {
     "name": "stdout",
     "output_type": "stream",
     "text": [
      "\n",
      "Training Loss: 0.468 dev performance, p:0.883, r:1.000, f1:0.938\n",
      "\n",
      " Epoch 50 / 50\n"
     ]
    },
    {
     "name": "stderr",
     "output_type": "stream",
     "text": [
      "\n",
      "100%|██████████| 54/54 [00:01<00:00, 29.45it/s]"
     ]
    },
    {
     "name": "stdout",
     "output_type": "stream",
     "text": [
      "evaluating...\n"
     ]
    },
    {
     "name": "stderr",
     "output_type": "stream",
     "text": [
      "\n",
      "100%|██████████| 18/18 [00:00<00:00, 112.26it/s]"
     ]
    },
    {
     "name": "stdout",
     "output_type": "stream",
     "text": [
      "\n",
      "Training Loss: 0.466 dev performance, p:0.919, r:1.000, f1:0.958\n"
     ]
    },
    {
     "name": "stderr",
     "output_type": "stream",
     "text": [
      "\n"
     ]
    }
   ],
   "source": [
    "#for each epoch\n",
    "\n",
    "best_model_state = None\n",
    "best_score = -1\n",
    "\n",
    "for epoch in range(epochs):\n",
    "     \n",
    "    print('\\n Epoch {:} / {:}'.format(epoch + 1, epochs), flush=True)\n",
    "    #train model\n",
    "    train_loss, performance = train()\n",
    "    print('\\nTraining Loss: {:.3f}'.format(train_loss), \n",
    "          'dev performance, p:{precision:.3f}, r:{recall:.3f}, f1:{f1:.3f}'.format(**performance), flush=True)\n",
    "    if best_score < performance['f1']:\n",
    "        best_score = performance['f1']\n",
    "        best_model_state = copy.deepcopy(model.state_dict())\n",
    "        print('current best score is {0:.3f}'.format(best_score), flush=True)    \n",
    "\n",
    "ran = True"
   ]
  },
  {
   "cell_type": "code",
   "execution_count": 63,
   "metadata": {},
   "outputs": [],
   "source": [
    "model_file = 'MEH_bluebert_gridsearch.pt'\n",
    "torch.save(best_model_state, model_file)"
   ]
  },
  {
   "cell_type": "code",
   "execution_count": 64,
   "metadata": {},
   "outputs": [],
   "source": [
    "if not ran:\n",
    "    device = torch.device('cuda' if torch.cuda.is_available() else 'cpu')\n",
    "\n",
    "    model_file = 'MEH_bluebert_gridsearch.pt'\n",
    "\n",
    "    categories = {'control': 0, 'case': 1}\n",
    "    # initialise the model use pretrained bert instance and the label numbers\n",
    "    model = BERT_Text_Classifier(bert_2, class_num=len(categories))\n",
    "\n",
    "    model.load_state_dict(torch.load(model_file))\n",
    "    model.eval()"
   ]
  },
  {
   "cell_type": "code",
   "execution_count": 65,
   "metadata": {},
   "outputs": [],
   "source": [
    "test_seq = test_seq.to(device)\n",
    "test_mask = test_mask.to(device)\n",
    "model = model.to(device)"
   ]
  },
  {
   "cell_type": "code",
   "execution_count": 66,
   "metadata": {},
   "outputs": [
    {
     "name": "stdout",
     "output_type": "stream",
     "text": [
      "evaluating...\n"
     ]
    },
    {
     "name": "stderr",
     "output_type": "stream",
     "text": [
      "100%|██████████| 18/18 [00:00<00:00, 111.33it/s]"
     ]
    },
    {
     "name": "stdout",
     "output_type": "stream",
     "text": [
      "{'precision': 0.8928571428571429, 'recall': 1.0, 'f1': 0.9433962264150945}\n"
     ]
    },
    {
     "name": "stderr",
     "output_type": "stream",
     "text": [
      "\n"
     ]
    }
   ],
   "source": [
    "# dataLoader for test set\n",
    "# wrap tensors\n",
    "testing_data = TensorDataset(test_seq, test_mask, test_y)\n",
    "testing_data_loader = DataLoader(testing_data, batch_size=batch_size)     \n",
    "print(evaluate(model, testing_data_loader))\n",
    "# preds = np.argmax(preds.detach().cpu(), axis = 1)"
   ]
  },
  {
   "cell_type": "code",
   "execution_count": 67,
   "metadata": {},
   "outputs": [
    {
     "name": "stdout",
     "output_type": "stream",
     "text": [
      "              precision    recall  f1-score   support\n",
      "\n",
      "           0       1.00      0.47      0.64        15\n",
      "           1       0.90      1.00      0.95        75\n",
      "\n",
      "    accuracy                           0.91        90\n",
      "   macro avg       0.95      0.73      0.79        90\n",
      "weighted avg       0.92      0.91      0.90        90\n",
      "\n"
     ]
    }
   ],
   "source": [
    "# predicting, so gradients\n",
    "with torch.no_grad():\n",
    "    preds = model(test_seq, test_mask)\n",
    "    \n",
    "preds = np.argmax(preds.detach().cpu(), axis = 1)\n",
    "print(classification_report(test_y, preds))"
   ]
  },
  {
   "cell_type": "code",
   "execution_count": 68,
   "metadata": {},
   "outputs": [
    {
     "data": {
      "image/png": "[encoded data removed]",
      "text/plain": [
       "<Figure size 432x288 with 2 Axes>"
      ]
     },
     "metadata": {
      "needs_background": "light"
     },
     "output_type": "display_data"
    }
   ],
   "source": [
    "cm_bert = confusion_matrix(test_y, preds, labels=[1,0])\n",
    "ax= plt.subplot()\n",
    "sns.heatmap(cm_bert, annot=True, ax = ax, cmap='Blues', fmt=\"d\")\n",
    "\n",
    "ax.set_title('Confusion Matrix of BlueBERT after Grid Search (MEH data)')\n",
    "\n",
    "ax.set_xlabel('Predicted Labels')\n",
    "ax.set_ylabel('True Labels')\n",
    "\n",
    "ax.xaxis.set_ticklabels(['FAKE', 'REAL'])\n",
    "ax.yaxis.set_ticklabels(['FAKE', 'REAL'])\n",
    "plt.savefig('Confusion_matrix_BlueBERT(grid search)_meh')"
   ]
  }
 ],
 "metadata": {
  "kernelspec": {
   "display_name": "Python 3",
   "language": "python",
   "name": "python3"
  },
  "language_info": {
   "codemirror_mode": {
    "name": "ipython",
    "version": 3
   },
   "file_extension": ".py",
   "mimetype": "text/x-python",
   "name": "python",
   "nbconvert_exporter": "python",
   "pygments_lexer": "ipython3",
   "version": "3.6.9"
  }
 },
 "nbformat": 4,
 "nbformat_minor": 2
}
